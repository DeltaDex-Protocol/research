{
 "cells": [
  {
   "cell_type": "markdown",
   "id": "470666d0",
   "metadata": {},
   "source": [
    "# Solidity Jump Diffusion Logic"
   ]
  },
  {
   "cell_type": "code",
   "execution_count": 1,
   "id": "4f778b54",
   "metadata": {},
   "outputs": [],
   "source": [
    "import numpy as np\n",
    "from scipy.stats import norm\n",
    "from scipy.optimize import minimize_scalar   \n",
    "N = norm.cdf\n",
    "\n",
    "def factorial(k):\n",
    "    k_fact = np.math.factorial(k)\n",
    "    return k_fact\n",
    "\n",
    "def D1(S, K, T, r, sigma):\n",
    "    d1 = (np.log(S/K) + (r + (sigma**2)/2)*T) / (sigma*np.sqrt(T))\n",
    "    return d1\n",
    "\n",
    "def D2(d1, sigma, T):\n",
    "    d2 = d1 - sigma * np.sqrt(T)\n",
    "    return d2\n",
    "    \n",
    "def BS_CALL(S, K, T, r, sigma):\n",
    "    d1 = D1(S, K, T, r, sigma)\n",
    "    d2 = D2(d1, sigma, T)\n",
    "    C = S * N(d1) - K * np.exp(-r*T)* N(d2)\n",
    "    return C\n",
    "\n",
    "def BS_PUT(S, K, T, r, sigma):\n",
    "    d1 = D1(S, K, T, r, sigma)\n",
    "    d2 = D2(d1, sigma, T)\n",
    "    C = K*np.exp(-r*T)*N(-d2) - S*N(-d1)    \n",
    "    return C\n",
    "\n",
    "def delta_BS_CALL(S, K, T, r, sigma):\n",
    "    d1 = D1(S,K,r,sigma,T)\n",
    "    delta = N(d1)\n",
    "    return delta\n",
    "\n",
    "def delta_BS_PUT(S, K, T, r, sigma):\n",
    "    d1 = D1(S,K,r,sigma,T)\n",
    "    delta = N(-d1)\n",
    "    return delta - 1\n",
    "\n",
    "def RK(r, lam, m, k, T):\n",
    "    r_k = r - lam*(m-1) + (k*np.log(m) ) / T\n",
    "    return r_k\n",
    "    \n",
    "def SIGMA_K(sigma, k, v, T):\n",
    "    sigma_k = np.sqrt( sigma**2 + (k* v** 2) / T)\n",
    "    return sigma_k\n",
    "\n",
    "def MJCnum(m, lam, T, k, k_fact):\n",
    "    MJCnum = (np.exp(-m*lam*T) * (m*lam*T)**k / (k_fact))\n",
    "    return MJCnum\n",
    "\n",
    "def BS_CALL(S, K, T, r, sigma):\n",
    "    d1 = (np.log(S/K) + (r + sigma**2/2)*T) / (sigma*np.sqrt(T))\n",
    "    d2 = d1 - sigma * np.sqrt(T)\n",
    "    return S * N(d1) - K * np.exp(-r*T)* N(d2)\n",
    "\n",
    "def MERTON_CALL(S, K, T, r, sigma, m , v, lam):\n",
    "    C = 0\n",
    "    d1 = 0\n",
    "    for k in range(5):\n",
    "        r_k = RK(r, lam, m, k, T)\n",
    "        sigma_k = SIGMA_K(sigma, k, v, T)\n",
    "        k_fact = factorial(k)\n",
    "\n",
    "        C += MJCnum(m, lam, T, k, k_fact) * BS_CALL(S, K, T, r_k, sigma_k)\n",
    "        d1 += MJCnum(m, lam, T, k, k_fact) * D1(S, K, T, r, sigma) #delta_BS_CALL(S, K, T, r, sigma) \n",
    "\n",
    "    delta = N(d1)\n",
    "    return (C, delta)\n",
    "\n",
    "\n",
    "def MERTON_PUT(S, K, T, r, sigma, m , v, lam):\n",
    "    C = 0\n",
    "    d1 = 0\n",
    "    for k in range(5):\n",
    "        r_k = RK(r, lam, m, k, T)\n",
    "        sigma_k = SIGMA_K(sigma, k, v, T)\n",
    "        k_fact = factorial(k)\n",
    "        \n",
    "        C += MJCnum(m, lam, T, k, k_fact) * BS_PUT(S, K, T, r_k, sigma_k)\n",
    "        d1 += MJCnum(m, lam, T, k, k_fact) * D1(S, K, T, r, sigma)\n",
    "    delta = N(d1) - 1            \n",
    "    return (C, delta)"
   ]
  },
  {
   "cell_type": "code",
   "execution_count": null,
   "id": "e5cd65aa",
   "metadata": {},
   "outputs": [],
   "source": []
  },
  {
   "cell_type": "markdown",
   "id": "08bcad15",
   "metadata": {},
   "source": [
    "# Python Jump Diffusion Logic"
   ]
  },
  {
   "cell_type": "code",
   "execution_count": 2,
   "id": "6acf94ac",
   "metadata": {},
   "outputs": [],
   "source": [
    "import numpy as np\n",
    "from scipy.stats import norm\n",
    "from scipy.optimize import minimize_scalar   \n",
    "N = norm.cdf\n",
    "\n",
    "def BS_CALL(S, K, T, r, sigma):\n",
    "    d1 = (np.log(S/K) + (r + sigma**2/2)*T) / (sigma*np.sqrt(T))\n",
    "    d2 = d1 - sigma * np.sqrt(T)\n",
    "    return S * N(d1) - K * np.exp(-r*T)* N(d2)\n",
    "\n",
    "def BS_PUT(S, K, T, r, sigma):\n",
    "    d1 = (np.log(S/K) + (r + sigma**2/2)*T) / (sigma*np.sqrt(T))\n",
    "    d2 = d1 - sigma* np.sqrt(T)\n",
    "    return K*np.exp(-r*T)*N(-d2) - S*N(-d1)    \n",
    "    \n",
    "def merton_jump_call(S, K, T, r, sigma, m , v, lam):\n",
    "    p = 0\n",
    "    for k in range(5):\n",
    "        r_k = r - lam*(m-1) + (k*np.log(m) ) / T\n",
    "        sigma_k = np.sqrt( sigma**2 + (k* v** 2) / T)\n",
    "        k_fact = np.math.factorial(k)\n",
    "        p += (np.exp(-m*lam*T) * (m*lam*T)**k / (k_fact))  * BS_CALL(S, K, T, r_k, sigma_k)\n",
    "    \n",
    "    return p \n",
    "\n",
    "def merton_jump_put(S, K, T, r, sigma, m , v, lam):\n",
    "    p = 0 # price of option\n",
    "    for k in range(5):\n",
    "        r_k = r - lam*(m-1) + (k*np.log(m) ) / T\n",
    "        sigma_k = np.sqrt( sigma**2 + (k* v** 2) / T)\n",
    "        k_fact = np.math.factorial(k) # \n",
    "        p += (np.exp(-m*lam*T) * (m*lam*T)**k / (k_fact)) \\\n",
    "                    * BS_PUT(S, K, T, r_k, sigma_k)\n",
    "    return p "
   ]
  },
  {
   "cell_type": "code",
   "execution_count": null,
   "id": "31b8f66d",
   "metadata": {},
   "outputs": [],
   "source": []
  },
  {
   "cell_type": "code",
   "execution_count": 3,
   "id": "e25c2b7d",
   "metadata": {},
   "outputs": [],
   "source": [
    "S = 100\n",
    "K = 100\n",
    "T = 1\n",
    "r = 1\n",
    "m = 1 # meean of jump size\n",
    "v = 1 # standard deviation of jump\n",
    "lam = 1 # intensity of jump i.e. number of jumps per annum\n",
    "sigma = 1 # annaul standard deviation , for weiner process\n",
    "\n",
    "call = MERTON_CALL(S, K, T, r, sigma, m , v, lam)\n",
    "put = MERTON_PUT(S, K, T, r, sigma, m , v, lam)\n",
    "\n",
    "call1 = merton_jump_call(S, K, T, r, sigma, m , v, lam)\n",
    "put1 = merton_jump_put(S, K, T, r, sigma, m , v, lam)"
   ]
  },
  {
   "cell_type": "code",
   "execution_count": 4,
   "id": "17c808ab",
   "metadata": {},
   "outputs": [
    {
     "name": "stdout",
     "output_type": "stream",
     "text": [
      "solidity logic: (72.8366665717326, 0.932478844920132)\n",
      "python logic: 72.8366665717326\n"
     ]
    }
   ],
   "source": [
    "print(\"solidity logic:\", call)\n",
    "#print(\"solidity logic:\", put)\n",
    "\n",
    "print(\"python logic:\", call1)\n",
    "#print(\"python logic:\", put1)"
   ]
  },
  {
   "cell_type": "code",
   "execution_count": null,
   "id": "b35e870a",
   "metadata": {},
   "outputs": [],
   "source": []
  },
  {
   "cell_type": "code",
   "execution_count": null,
   "id": "e5fe6add",
   "metadata": {},
   "outputs": [],
   "source": []
  }
 ],
 "metadata": {
  "kernelspec": {
   "display_name": "Python 3 (ipykernel)",
   "language": "python",
   "name": "python3"
  },
  "language_info": {
   "codemirror_mode": {
    "name": "ipython",
    "version": 3
   },
   "file_extension": ".py",
   "mimetype": "text/x-python",
   "name": "python",
   "nbconvert_exporter": "python",
   "pygments_lexer": "ipython3",
   "version": "3.8.10"
  }
 },
 "nbformat": 4,
 "nbformat_minor": 5
}
