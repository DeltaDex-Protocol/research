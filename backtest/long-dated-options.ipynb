{
 "cells": [
  {
   "cell_type": "code",
   "execution_count": 2,
   "id": "53d2bc01-f976-4f40-9af9-775003611c3a",
   "metadata": {},
   "outputs": [],
   "source": [
    "from sabr import SABR\n",
    "from sabr_calibration import SABRCalibrator"
   ]
  },
  {
   "cell_type": "code",
   "execution_count": 3,
   "id": "82159e85-a0d0-4e96-bdc4-ee7a97400503",
   "metadata": {},
   "outputs": [],
   "source": [
    "from deltadex_calibration import calibrate_sabr\n",
    "from deribit_parser import GetOptionMeta"
   ]
  },
  {
   "cell_type": "code",
   "execution_count": 4,
   "id": "bcf905b1-1c83-4701-a054-58b21c5f3c3f",
   "metadata": {},
   "outputs": [],
   "source": [
    "import numpy as np\n",
    "from matplotlib import pyplot as plt\n",
    "import plotly.express as px\n",
    "import plotly.graph_objects as go\n"
   ]
  },
  {
   "cell_type": "code",
   "execution_count": 5,
   "id": "2cb2e1f5-1472-4831-a508-27da2e134426",
   "metadata": {},
   "outputs": [
    {
     "data": {
      "text/plain": [
       "<module 'uniswap_v3_liquidity_math' from '/Users/kirillbogomolov/Desktop/DeltaDex-Protocol/research-branch-main/backtest/uniswap_v3_liquidity_math.py'>"
      ]
     },
     "execution_count": 5,
     "metadata": {},
     "output_type": "execute_result"
    }
   ],
   "source": [
    "import uniswap_v3_liquidity_math as uniswap_math\n",
    "\n",
    "import importlib\n",
    "importlib.reload(uniswap_math)"
   ]
  },
  {
   "cell_type": "code",
   "execution_count": 6,
   "id": "9653f7c7-3bef-439e-90ad-b2cb2cad1b7b",
   "metadata": {},
   "outputs": [],
   "source": [
    "class UniswapPosition:\n",
    "    def __init__(self, lower_price, upper_price, initial_price, initial_token1_amount, period_in_years):\n",
    "        self.lower_price = lower_price\n",
    "        self.upper_price = upper_price\n",
    "        self.initial_price = initial_price\n",
    "        self.initial_token1_amount = initial_token1_amount\n",
    "        self.period_in_years = period_in_years\n",
    "    \n",
    "    def get_tokens_amounts(self, price):\n",
    "        return uniswap_math.get_tokens_amounts(initial_price = self.initial_price, \n",
    "                                lowerPrice = self.lower_price, upperPrice = self.upper_price, \n",
    "                                initial_y = self.initial_token1_amount, currentPrice = price)\n",
    "    \n",
    "    def get_total_value(self, price):\n",
    "        x, y = self.get_tokens_amounts(price)\n",
    "        return x * price + y"
   ]
  },
  {
   "cell_type": "markdown",
   "id": "cf727282-adf6-4524-94b7-aa02e2dd8303",
   "metadata": {},
   "source": [
    "### Optimal option"
   ]
  },
  {
   "cell_type": "code",
   "execution_count": 914,
   "id": "430e9493-7512-4899-b2ef-4f6d3a9a2a55",
   "metadata": {},
   "outputs": [],
   "source": [
    "class OptimalOption:\n",
    "    def __init__(self, sabr_model: SABR, \n",
    "                 uniswap_position: UniswapPosition,\n",
    "                 expiration: float,\n",
    "                 strike: float,\n",
    "                 amount: float,\n",
    "                 isCall: bool = False):\n",
    "        \n",
    "        self.sabr_model = sabr_model\n",
    "        self.uniswap_position = uniswap_position\n",
    "        \n",
    "        self.isCall = False\n",
    "        # self.expiration = (1.01 * uniswap_position.period_in_years)\n",
    "        self.expiration = expiration\n",
    "        self.strike = strike\n",
    "        # self.strike = (uniswap_position.lower_price * uniswap_position.upper_price) ** 0.5\n",
    "        self.amount = amount\n",
    "        self.initial_cost = self.amount * self.sabr_model(self.strike, \n",
    "                                                self.uniswap_position.initial_price, \n",
    "                                                self.expiration, \n",
    "                                                self.isCall)[0]\n",
    "    \n",
    "    def update_option_params(self, strike, expiration, amount):\n",
    "        self.strike = strike\n",
    "        self.expiration = expiration\n",
    "        self.amount = amount\n",
    "        self.initial_cost = self.amount * self.sabr_model(self.strike, \n",
    "                                                self.uniswap_position.initial_price, \n",
    "                                                self.expiration, \n",
    "                                                self.isCall)[0]\n",
    "        # print(self.initial_cost)\n",
    "        \n",
    "    def find_optimal_option(self):\n",
    "        \n",
    "        prices = np.array([price for price in range(500, 2000, 10 )])\n",
    "        \n",
    "        from scipy.optimize import minimize\n",
    "        \n",
    "        def _find_optimal_option(x):\n",
    "            strike, expiration, amount = x\n",
    "            self.update_option_params(strike, expiration, amount)\n",
    "            \n",
    "            initial_tv = self.uniswap_position.get_total_value(self.uniswap_position.initial_price)\n",
    "            uniswap_tvs = np.array([self.uniswap_position.get_total_value(price) for price in prices])\n",
    "            \n",
    "            loss = ((self.calculate_hedged_position(prices) + \n",
    "                    uniswap_tvs - initial_tv) ** 2).mean()  \n",
    "            return loss\n",
    "        \n",
    "        x0 = np.array([self.strike, self.expiration, self.amount])\n",
    "        res = minimize(_find_optimal_option, x0, method='nelder-mead',\n",
    "                       options={'xatol': 1e-8, 'disp': True})\n",
    "        print(_find_optimal_option(res.x))\n",
    "        \n",
    "        strike, expiration, amount = res.x\n",
    "        \n",
    "        print('strike: {}, expiration: {}, amount: {}'.format(strike, expiration, amount))\n",
    "    \n",
    "    \n",
    "    def calculate_hedged_position(self, prices):\n",
    "        \n",
    "        def calculate_pnl(price, strike):\n",
    "            if self.isCall == True:\n",
    "                return max(price - strike, 0)\n",
    "            if self.isCall == False:\n",
    "                return max(strike - price, 0)\n",
    "        #calculate_pnl(price, self.strike) +\n",
    "        option_pnls = self.amount * np.array([ self.sabr_model(self.strike, \n",
    "                                                    price + 0.0001, # otherwise a bug appears \n",
    "                                                    (self.expiration - self.uniswap_position.period_in_years), \n",
    "                                                    self.isCall)[0] for price in prices]) - self.initial_cost\n",
    "        return option_pnls\n",
    "    \n",
    "    def __repr__(self):\n",
    "        return (\"\"\"\n",
    "        isCall: {}\n",
    "        expiration: {}\n",
    "        strike: {}\n",
    "        amount: {}\n",
    "        initial cost: {} \n",
    "        ---\n",
    "        uniswap_position: lower_price: {}, upper_price: {},\n",
    "        initial_price: {}, period_in_years: {}\n",
    "        \"\"\".format(self.isCall, \n",
    "                    self.expiration,\n",
    "                    self.strike,\n",
    "                    self.amount,\n",
    "                    self.initial_cost,\n",
    "                    self.uniswap_position.lower_price,\n",
    "                    self.uniswap_position.upper_price,\n",
    "                    self.uniswap_position.initial_price,\n",
    "                    self.uniswap_position.period_in_years))\n",
    "    "
   ]
  },
  {
   "cell_type": "markdown",
   "id": "1226a2ce-4293-422e-acf2-4656a617836b",
   "metadata": {},
   "source": [
    "### Calibration"
   ]
  },
  {
   "cell_type": "code",
   "execution_count": 915,
   "id": "b78aeb97-b5d7-42ab-8c1b-5dce2d714b82",
   "metadata": {},
   "outputs": [],
   "source": [
    "OptionMeta = GetOptionMeta()['Expiry']\n",
    "expiries = list(map(lambda expiry: (expiry[:-5] + \"/\" + expiry[-5:-2] + \"/\" + expiry[-2:]), OptionMeta))\n"
   ]
  },
  {
   "cell_type": "code",
   "execution_count": 948,
   "id": "ef6e2c01-0354-43e9-941f-ff34a2982323",
   "metadata": {},
   "outputs": [
    {
     "data": {
      "text/plain": [
       "['3/MAR/23',\n",
       " '30/JUN/23',\n",
       " '11/FEB/23',\n",
       " '29/DEC/23',\n",
       " '31/MAR/23',\n",
       " '17/FEB/23',\n",
       " '24/FEB/23',\n",
       " '29/SEP/23',\n",
       " '12/FEB/23',\n",
       " '28/APR/23']"
      ]
     },
     "execution_count": 948,
     "metadata": {},
     "output_type": "execute_result"
    }
   ],
   "source": [
    "expiries"
   ]
  },
  {
   "cell_type": "code",
   "execution_count": 949,
   "id": "97067c70-d828-478c-bafc-af8ccda3d238",
   "metadata": {},
   "outputs": [
    {
     "data": {
      "text/plain": [
       "9"
      ]
     },
     "execution_count": 949,
     "metadata": {},
     "output_type": "execute_result"
    }
   ],
   "source": [
    "expiries.index('28/APR/23')"
   ]
  },
  {
   "cell_type": "code",
   "execution_count": 950,
   "id": "d597e625-4b35-4fd7-8980-06db6fee23f6",
   "metadata": {},
   "outputs": [
    {
     "data": {
      "text/plain": [
       "'29/SEP/23'"
      ]
     },
     "execution_count": 950,
     "metadata": {},
     "output_type": "execute_result"
    }
   ],
   "source": [
    "expiry = expiries[expiries.index('29/SEP/23')]\n",
    "expiry"
   ]
  },
  {
   "cell_type": "code",
   "execution_count": 951,
   "id": "015a40f2-4889-4714-b1b9-fd46cad27b74",
   "metadata": {},
   "outputs": [
    {
     "name": "stderr",
     "output_type": "stream",
     "text": [
      "/Users/kirillbogomolov/Desktop/DeltaDex-Protocol/research-branch-main/backtest/deribit_parser.py:29: RuntimeWarning:\n",
      "\n",
      "divide by zero encountered in double_scalars\n",
      "\n"
     ]
    },
    {
     "name": "stdout",
     "output_type": "stream",
     "text": [
      "db updated 2023-02-11 01:10:42.314411\n"
     ]
    },
    {
     "name": "stderr",
     "output_type": "stream",
     "text": [
      "100%|███████████████████████████████████████| 500/500 [00:00<00:00, 4632.29it/s]"
     ]
    },
    {
     "name": "stdout",
     "output_type": "stream",
     "text": [
      "optimized parameters:\n",
      "('alpha ', 3.54532)\n",
      "('v ', 0.85758)\n",
      "('beta  ', 0.76442)\n",
      "('rho', -0.00395)\n"
     ]
    },
    {
     "name": "stderr",
     "output_type": "stream",
     "text": [
      "\n"
     ]
    }
   ],
   "source": [
    "sabr, underlying_price = calibrate_sabr(SELECTED_EXPIRY = expiry)\n"
   ]
  },
  {
   "cell_type": "code",
   "execution_count": 952,
   "id": "dcfec6fe-e71f-4517-8c22-e3f22319e66e",
   "metadata": {},
   "outputs": [],
   "source": [
    "# sabr.r = 0.1"
   ]
  },
  {
   "cell_type": "code",
   "execution_count": 953,
   "id": "bf9d4b25-dd82-4654-b673-8bbf2286e5e8",
   "metadata": {},
   "outputs": [
    {
     "name": "stdout",
     "output_type": "stream",
     "text": [
      "1532.16\n"
     ]
    }
   ],
   "source": [
    "print(underlying_price)"
   ]
  },
  {
   "cell_type": "code",
   "execution_count": 954,
   "id": "1609de94-769b-48de-8908-2fe5fe6617b6",
   "metadata": {},
   "outputs": [],
   "source": [
    "uniswap_position = UniswapPosition(lower_price = 1400, \n",
    "                                   upper_price = 1700,\n",
    "                                   initial_price = underlying_price, \n",
    "                                   initial_token1_amount = 300,    # usdcs\n",
    "                                   period_in_years = 30 / 365.25)\n"
   ]
  },
  {
   "cell_type": "code",
   "execution_count": 955,
   "id": "65f3c472-9cdc-43e9-b890-53893835ca18",
   "metadata": {},
   "outputs": [
    {
     "name": "stdout",
     "output_type": "stream",
     "text": [
      "644.5306521469613\n",
      "(0.2248659749288333, 300.0)\n"
     ]
    }
   ],
   "source": [
    "print(uniswap_position.get_total_value(uniswap_position.initial_price))\n",
    "print(uniswap_position.get_tokens_amounts(uniswap_position.initial_price))"
   ]
  },
  {
   "cell_type": "code",
   "execution_count": 956,
   "id": "369e261d-73f8-4d2e-b6a6-803962aa94eb",
   "metadata": {},
   "outputs": [],
   "source": [
    "# #sabr model parameters\n",
    "# alpha = 0.2\n",
    "# v = 0.9\n",
    "# beta = 0.9\n",
    "# rho = -0.5\n",
    "\n",
    "# sabr_params_0 = np.asarray([alpha, v, beta, rho])"
   ]
  },
  {
   "cell_type": "code",
   "execution_count": 957,
   "id": "c611f6af-4332-4e46-a3b0-7497c7ef6673",
   "metadata": {},
   "outputs": [],
   "source": [
    "# r = 0.1\n",
    "#sabr model\n",
    "# sabr_0 = SABR(sabr_params_0, r)"
   ]
  },
  {
   "cell_type": "code",
   "execution_count": 958,
   "id": "cb97e43c-133c-4dbe-b4c8-6a5a99803150",
   "metadata": {},
   "outputs": [],
   "source": [
    "strike = 1650\n",
    "expiration_in_years = 75 / 365.25\n",
    "amount = 1"
   ]
  },
  {
   "cell_type": "code",
   "execution_count": 959,
   "id": "acbcbd66-5735-4b7d-a15d-01aa43d62174",
   "metadata": {},
   "outputs": [],
   "source": [
    "optimal_option = OptimalOption(sabr, \n",
    "                               uniswap_position, \n",
    "                               expiration_in_years, \n",
    "                               strike, \n",
    "                               amount, \n",
    "                               isCall = False)"
   ]
  },
  {
   "cell_type": "code",
   "execution_count": 960,
   "id": "4c3ea415-5a50-47d1-9fcb-83f70356c729",
   "metadata": {},
   "outputs": [
    {
     "name": "stderr",
     "output_type": "stream",
     "text": [
      "/Users/kirillbogomolov/Desktop/DeltaDex-Protocol/research-branch-main/backtest/black_scholes.py:74: RuntimeWarning:\n",
      "\n",
      "invalid value encountered in sqrt\n",
      "\n",
      "/Users/kirillbogomolov/Desktop/DeltaDex-Protocol/research-branch-main/backtest/black_scholes.py:75: RuntimeWarning:\n",
      "\n",
      "invalid value encountered in sqrt\n",
      "\n"
     ]
    },
    {
     "name": "stdout",
     "output_type": "stream",
     "text": [
      "Optimization terminated successfully.\n",
      "         Current function value: 728.969856\n",
      "         Iterations: 190\n",
      "         Function evaluations: 362\n",
      "728.9698561058419\n",
      "strike: 1513.537363811607, expiration: 0.08276240519387904, amount: 0.48431167711653755\n"
     ]
    }
   ],
   "source": [
    "optimal_option.find_optimal_option()"
   ]
  },
  {
   "cell_type": "code",
   "execution_count": 961,
   "id": "ada78d60-e6b0-4a3d-ba20-b9728da5e29f",
   "metadata": {},
   "outputs": [],
   "source": [
    "prices = np.array([price for price in range(500, 2500, 10 )])\n"
   ]
  },
  {
   "cell_type": "code",
   "execution_count": 962,
   "id": "99b4b72b-94a7-44ad-b485-48a1d0c7ed8b",
   "metadata": {},
   "outputs": [
    {
     "data": {
      "text/plain": [
       "[<matplotlib.lines.Line2D at 0x28e498b80>]"
      ]
     },
     "execution_count": 962,
     "metadata": {},
     "output_type": "execute_result"
    },
    {
     "data": {
      "image/png": "[encoded data removed]",
      "text/plain": [
       "<Figure size 640x480 with 1 Axes>"
      ]
     },
     "metadata": {},
     "output_type": "display_data"
    }
   ],
   "source": [
    "plt.plot(prices, optimal_option.calculate_hedged_position(prices))"
   ]
  },
  {
   "cell_type": "code",
   "execution_count": 963,
   "id": "b423c8f5-52cb-4634-b349-82744c0c78f9",
   "metadata": {},
   "outputs": [
    {
     "data": {
      "text/plain": [
       "-49.20795032812645"
      ]
     },
     "execution_count": 963,
     "metadata": {},
     "output_type": "execute_result"
    }
   ],
   "source": [
    "min(optimal_option.calculate_hedged_position(prices))"
   ]
  },
  {
   "cell_type": "code",
   "execution_count": 964,
   "id": "6e16a93a-420b-4e8d-9fde-6d17f890e9e9",
   "metadata": {},
   "outputs": [
    {
     "name": "stdout",
     "output_type": "stream",
     "text": [
      "1513.537363811607 1532.16 30.208277895765846\n"
     ]
    }
   ],
   "source": [
    "print(optimal_option.strike, optimal_option.uniswap_position.initial_price, optimal_option.expiration * 365)"
   ]
  },
  {
   "cell_type": "code",
   "execution_count": 965,
   "id": "e292b06c-c26f-4f3c-9b8a-ccd1b07a6794",
   "metadata": {},
   "outputs": [
    {
     "data": {
      "text/plain": [
       "188.77951465026217"
      ]
     },
     "execution_count": 965,
     "metadata": {},
     "output_type": "execute_result"
    }
   ],
   "source": [
    "optimal_option.sabr_model(1600, \n",
    "                                                1515, \n",
    "                                                48/365.25, \n",
    "                                                False)[0]"
   ]
  },
  {
   "cell_type": "code",
   "execution_count": 966,
   "id": "b261a4ac-f5a3-45d4-976d-be1c701ecb3f",
   "metadata": {},
   "outputs": [
    {
     "data": {
      "text/plain": [
       "30.22896849706432"
      ]
     },
     "execution_count": 966,
     "metadata": {},
     "output_type": "execute_result"
    }
   ],
   "source": [
    "optimal_option.expiration * 365.25"
   ]
  },
  {
   "cell_type": "code",
   "execution_count": 967,
   "id": "d07113dc-f130-49a0-b646-73d4e5776289",
   "metadata": {},
   "outputs": [],
   "source": [
    "# optimal_option.sabr_model(optimal_option.strike, \n",
    "#                 underlying_price + 0.0001, \n",
    "#                 (optimal_option.expiration - optimal_option.uniswap_position.period_in_years), \n",
    "#                 optimal_option.isCall)[0]"
   ]
  },
  {
   "cell_type": "code",
   "execution_count": 968,
   "id": "8430a103-a778-4d3c-91f9-3bf5dc8893be",
   "metadata": {},
   "outputs": [
    {
     "data": {
      "text/plain": [
       "30.22896849706432"
      ]
     },
     "execution_count": 968,
     "metadata": {},
     "output_type": "execute_result"
    }
   ],
   "source": [
    "optimal_option.expiration * 365.25"
   ]
  },
  {
   "cell_type": "code",
   "execution_count": 969,
   "id": "1a37d882-fcb5-4330-a628-89d4569f9541",
   "metadata": {},
   "outputs": [
    {
     "name": "stdout",
     "output_type": "stream",
     "text": [
      "\n",
      "        isCall: False\n",
      "        expiration: 0.08276240519387904\n",
      "        strike: 1513.537363811607\n",
      "        amount: 0.48431167711653755\n",
      "        initial cost: 49.20795032812645 \n",
      "        ---\n",
      "        uniswap_position: lower_price: 1400, upper_price: 1700,\n",
      "        initial_price: 1532.16, period_in_years: 0.08213552361396304\n",
      "        \n"
     ]
    }
   ],
   "source": [
    "print(optimal_option)"
   ]
  },
  {
   "cell_type": "code",
   "execution_count": 970,
   "id": "e90b6dd0-7962-4523-8523-abf7de6bfe1e",
   "metadata": {},
   "outputs": [],
   "source": [
    "prices = np.array([price for price in range(500, 2500, 10 )])\n",
    "\n",
    "pure_usdc = np.array([uniswap_position.get_total_value(uniswap_position.initial_price) for _ in prices])"
   ]
  },
  {
   "cell_type": "code",
   "execution_count": 1009,
   "id": "ab9d69dc-acf6-4d0f-9ec9-2318642b7446",
   "metadata": {},
   "outputs": [
    {
     "data": {
      "text/plain": [
       "51.51540200741506"
      ]
     },
     "execution_count": 1009,
     "metadata": {},
     "output_type": "execute_result"
    }
   ],
   "source": [
    "optimal_option.initial_cost"
   ]
  },
  {
   "cell_type": "code",
   "execution_count": 1010,
   "id": "83e69910-e66a-4219-be92-556d1902b0fd",
   "metadata": {},
   "outputs": [],
   "source": [
    "optimal_option.update_option_params(optimal_option.strike, 0.09, 0.4)"
   ]
  },
  {
   "cell_type": "code",
   "execution_count": 1011,
   "id": "b24d0824-e4a0-4c01-9a57-0bd9c75c6b99",
   "metadata": {},
   "outputs": [],
   "source": [
    "uniswap_tvs = np.array([uniswap_position.get_total_value(price) for price in prices])\n",
    "option_pnls = optimal_option.calculate_hedged_position(prices)\n"
   ]
  },
  {
   "cell_type": "code",
   "execution_count": 1012,
   "id": "304456ac-caec-46d0-a3cd-66fdc30bbab5",
   "metadata": {},
   "outputs": [],
   "source": [
    "earned_fees = 0 # in usdc"
   ]
  },
  {
   "cell_type": "code",
   "execution_count": 1013,
   "id": "7cab6a00-ce8b-42d4-82fc-eec733747a08",
   "metadata": {},
   "outputs": [],
   "source": [
    "# pure_usdc"
   ]
  },
  {
   "cell_type": "code",
   "execution_count": 1014,
   "id": "411e6925-8420-44fc-b10f-7d38d82ae170",
   "metadata": {},
   "outputs": [],
   "source": [
    "# uniswap_tvs"
   ]
  },
  {
   "cell_type": "code",
   "execution_count": null,
   "id": "5a2dd72e-3731-4891-9c12-264199b266b2",
   "metadata": {},
   "outputs": [],
   "source": []
  },
  {
   "cell_type": "code",
   "execution_count": 1016,
   "id": "bc88d283-a1dd-4463-8f25-28f86e055032",
   "metadata": {
    "tags": []
   },
   "outputs": [
    {
     "data": {
      "application/vnd.plotly.v1+json": {
       "config": {
        "plotlyServerURL": "https://plot.ly"
       },
       "data": [
        {
         "mode": "lines",
         "name": "pure_usdc",
         "type": "scatter",
         "x": [
          500,
          510,
          520,
          530,
          540,
          550,
          560,
          570,
          580,
          590,
          600,
          610,
          620,
          630,
          640,
          650,
          660,
          670,
          680,
          690,
          700,
          710,
          720,
          730,
          740,
          750,
          760,
          770,
          780,
          790,
          800,
          810,
          820,
          830,
          840,
          850,
          860,
          870,
          880,
          890,
          900,
          910,
          920,
          930,
          940,
          950,
          960,
          970,
          980,
          990,
          1000,
          1010,
          1020,
          1030,
          1040,
          1050,
          1060,
          1070,
          1080,
          1090,
          1100,
          1110,
          1120,
          1130,
          1140,
          1150,
          1160,
          1170,
          1180,
          1190,
          1200,
          1210,
          1220,
          1230,
          1240,
          1250,
          1260,
          1270,
          1280,
          1290,
          1300,
          1310,
          1320,
          1330,
          1340,
          1350,
          1360,
          1370,
          1380,
          1390,
          1400,
          1410,
          1420,
          1430,
          1440,
          1450,
          1460,
          1470,
          1480,
          1490,
          1500,
          1510,
          1520,
          1530,
          1540,
          1550,
          1560,
          1570,
          1580,
          1590,
          1600,
          1610,
          1620,
          1630,
          1640,
          1650,
          1660,
          1670,
          1680,
          1690,
          1700,
          1710,
          1720,
          1730,
          1740,
          1750,
          1760,
          1770,
          1780,
          1790,
          1800,
          1810,
          1820,
          1830,
          1840,
          1850,
          1860,
          1870,
          1880,
          1890,
          1900,
          1910,
          1920,
          1930,
          1940,
          1950,
          1960,
          1970,
          1980,
          1990,
          2000,
          2010,
          2020,
          2030,
          2040,
          2050,
          2060,
          2070,
          2080,
          2090,
          2100,
          2110,
          2120,
          2130,
          2140,
          2150,
          2160,
          2170,
          2180,
          2190,
          2200,
          2210,
          2220,
          2230,
          2240,
          2250,
          2260,
          2270,
          2280,
          2290,
          2300,
          2310,
          2320,
          2330,
          2340,
          2350,
          2360,
          2370,
          2380,
          2390,
          2400,
          2410,
          2420,
          2430,
          2440,
          2450,
          2460,
          2470,
          2480,
          2490
         ],
         "y": [
          644.5306521469613,
          644.5306521469613,
          644.5306521469613,
          644.5306521469613,
          644.5306521469613,
          644.5306521469613,
          644.5306521469613,
          644.5306521469613,
          644.5306521469613,
          644.5306521469613,
          644.5306521469613,
          644.5306521469613,
          644.5306521469613,
          644.5306521469613,
          644.5306521469613,
          644.5306521469613,
          644.5306521469613,
          644.5306521469613,
          644.5306521469613,
          644.5306521469613,
          644.5306521469613,
          644.5306521469613,
          644.5306521469613,
          644.5306521469613,
          644.5306521469613,
          644.5306521469613,
          644.5306521469613,
          644.5306521469613,
          644.5306521469613,
          644.5306521469613,
          644.5306521469613,
          644.5306521469613,
          644.5306521469613,
          644.5306521469613,
          644.5306521469613,
          644.5306521469613,
          644.5306521469613,
          644.5306521469613,
          644.5306521469613,
          644.5306521469613,
          644.5306521469613,
          644.5306521469613,
          644.5306521469613,
          644.5306521469613,
          644.5306521469613,
          644.5306521469613,
          644.5306521469613,
          644.5306521469613,
          644.5306521469613,
          644.5306521469613,
          644.5306521469613,
          644.5306521469613,
          644.5306521469613,
          644.5306521469613,
          644.5306521469613,
          644.5306521469613,
          644.5306521469613,
          644.5306521469613,
          644.5306521469613,
          644.5306521469613,
          644.5306521469613,
          644.5306521469613,
          644.5306521469613,
          644.5306521469613,
          644.5306521469613,
          644.5306521469613,
          644.5306521469613,
          644.5306521469613,
          644.5306521469613,
          644.5306521469613,
          644.5306521469613,
          644.5306521469613,
          644.5306521469613,
          644.5306521469613,
          644.5306521469613,
          644.5306521469613,
          644.5306521469613,
          644.5306521469613,
          644.5306521469613,
          644.5306521469613,
          644.5306521469613,
          644.5306521469613,
          644.5306521469613,
          644.5306521469613,
          644.5306521469613,
          644.5306521469613,
          644.5306521469613,
          644.5306521469613,
          644.5306521469613,
          644.5306521469613,
          644.5306521469613,
          644.5306521469613,
          644.5306521469613,
          644.5306521469613,
          644.5306521469613,
          644.5306521469613,
          644.5306521469613,
          644.5306521469613,
          644.5306521469613,
          644.5306521469613,
          644.5306521469613,
          644.5306521469613,
          644.5306521469613,
          644.5306521469613,
          644.5306521469613,
          644.5306521469613,
          644.5306521469613,
          644.5306521469613,
          644.5306521469613,
          644.5306521469613,
          644.5306521469613,
          644.5306521469613,
          644.5306521469613,
          644.5306521469613,
          644.5306521469613,
          644.5306521469613,
          644.5306521469613,
          644.5306521469613,
          644.5306521469613,
          644.5306521469613,
          644.5306521469613,
          644.5306521469613,
          644.5306521469613,
          644.5306521469613,
          644.5306521469613,
          644.5306521469613,
          644.5306521469613,
          644.5306521469613,
          644.5306521469613,
          644.5306521469613,
          644.5306521469613,
          644.5306521469613,
          644.5306521469613,
          644.5306521469613,
          644.5306521469613,
          644.5306521469613,
          644.5306521469613,
          644.5306521469613,
          644.5306521469613,
          644.5306521469613,
          644.5306521469613,
          644.5306521469613,
          644.5306521469613,
          644.5306521469613,
          644.5306521469613,
          644.5306521469613,
          644.5306521469613,
          644.5306521469613,
          644.5306521469613,
          644.5306521469613,
          644.5306521469613,
          644.5306521469613,
          644.5306521469613,
          644.5306521469613,
          644.5306521469613,
          644.5306521469613,
          644.5306521469613,
          644.5306521469613,
          644.5306521469613,
          644.5306521469613,
          644.5306521469613,
          644.5306521469613,
          644.5306521469613,
          644.5306521469613,
          644.5306521469613,
          644.5306521469613,
          644.5306521469613,
          644.5306521469613,
          644.5306521469613,
          644.5306521469613,
          644.5306521469613,
          644.5306521469613,
          644.5306521469613,
          644.5306521469613,
          644.5306521469613,
          644.5306521469613,
          644.5306521469613,
          644.5306521469613,
          644.5306521469613,
          644.5306521469613,
          644.5306521469613,
          644.5306521469613,
          644.5306521469613,
          644.5306521469613,
          644.5306521469613,
          644.5306521469613,
          644.5306521469613,
          644.5306521469613,
          644.5306521469613,
          644.5306521469613,
          644.5306521469613,
          644.5306521469613,
          644.5306521469613,
          644.5306521469613,
          644.5306521469613,
          644.5306521469613,
          644.5306521469613,
          644.5306521469613,
          644.5306521469613,
          644.5306521469613
         ]
        },
        {
         "mode": "lines",
         "name": "uniswap_tvs + fees = 0 usdc",
         "type": "scatter",
         "x": [
          500,
          510,
          520,
          530,
          540,
          550,
          560,
          570,
          580,
          590,
          600,
          610,
          620,
          630,
          640,
          650,
          660,
          670,
          680,
          690,
          700,
          710,
          720,
          730,
          740,
          750,
          760,
          770,
          780,
          790,
          800,
          810,
          820,
          830,
          840,
          850,
          860,
          870,
          880,
          890,
          900,
          910,
          920,
          930,
          940,
          950,
          960,
          970,
          980,
          990,
          1000,
          1010,
          1020,
          1030,
          1040,
          1050,
          1060,
          1070,
          1080,
          1090,
          1100,
          1110,
          1120,
          1130,
          1140,
          1150,
          1160,
          1170,
          1180,
          1190,
          1200,
          1210,
          1220,
          1230,
          1240,
          1250,
          1260,
          1270,
          1280,
          1290,
          1300,
          1310,
          1320,
          1330,
          1340,
          1350,
          1360,
          1370,
          1380,
          1390,
          1400,
          1410,
          1420,
          1430,
          1440,
          1450,
          1460,
          1470,
          1480,
          1490,
          1500,
          1510,
          1520,
          1530,
          1540,
          1550,
          1560,
          1570,
          1580,
          1590,
          1600,
          1610,
          1620,
          1630,
          1640,
          1650,
          1660,
          1670,
          1680,
          1690,
          1700,
          1710,
          1720,
          1730,
          1740,
          1750,
          1760,
          1770,
          1780,
          1790,
          1800,
          1810,
          1820,
          1830,
          1840,
          1850,
          1860,
          1870,
          1880,
          1890,
          1900,
          1910,
          1920,
          1930,
          1940,
          1950,
          1960,
          1970,
          1980,
          1990,
          2000,
          2010,
          2020,
          2030,
          2040,
          2050,
          2060,
          2070,
          2080,
          2090,
          2100,
          2110,
          2120,
          2130,
          2140,
          2150,
          2160,
          2170,
          2180,
          2190,
          2200,
          2210,
          2220,
          2230,
          2240,
          2250,
          2260,
          2270,
          2280,
          2290,
          2300,
          2310,
          2320,
          2330,
          2340,
          2350,
          2360,
          2370,
          2380,
          2390,
          2400,
          2410,
          2420,
          2430,
          2440,
          2450,
          2460,
          2470,
          2480,
          2490
         ],
         "y": [
          214.85072579948886,
          219.14774031547864,
          223.4447548314684,
          227.7417693474582,
          232.03878386344797,
          236.33579837943773,
          240.63281289542752,
          244.9298274114173,
          249.22684192740707,
          253.52385644339685,
          257.82087095938664,
          262.1178854753764,
          266.41489999136616,
          270.71191450735597,
          275.00892902334573,
          279.3059435393355,
          283.6029580553253,
          287.89997257131506,
          292.1969870873048,
          296.49400160329463,
          300.7910161192844,
          305.08803063527415,
          309.38504515126397,
          313.6820596672537,
          317.9790741832435,
          322.2760886992333,
          326.57310321522306,
          330.8701177312128,
          335.16713224720263,
          339.4641467631924,
          343.76116127918215,
          348.05817579517196,
          352.3551903111617,
          356.6522048271515,
          360.9492193431413,
          365.24623385913105,
          369.5432483751208,
          373.8402628911106,
          378.1372774071004,
          382.43429192309014,
          386.73130643907996,
          391.0283209550697,
          395.3253354710595,
          399.6223499870493,
          403.91936450303905,
          408.2163790190288,
          412.5133935350186,
          416.8104080510084,
          421.10742256699814,
          425.40443708298795,
          429.7014515989777,
          433.99846611496747,
          438.2954806309573,
          442.59249514694704,
          446.8895096629368,
          451.1865241789266,
          455.4835386949164,
          459.78055321090613,
          464.07756772689595,
          468.3745822428857,
          472.67159675887547,
          476.9686112748653,
          481.26562579085504,
          485.5626403068448,
          489.8596548228346,
          494.1566693388244,
          498.45368385481413,
          502.75069837080395,
          507.0477128867937,
          511.34472740278346,
          515.6417419187733,
          519.938756434763,
          524.2357709507528,
          528.5327854667426,
          532.8297999827323,
          537.1268144987222,
          541.4238290147119,
          545.7208435307017,
          550.0178580466915,
          554.3148725626812,
          558.611887078671,
          562.9089015946608,
          567.2059161106506,
          571.5029306266404,
          575.7999451426301,
          580.0969596586199,
          584.3939741746096,
          588.6909886905995,
          592.9880032065893,
          597.285017722579,
          601.5820322385688,
          605.7964009661795,
          609.8466472983023,
          613.7345019021814,
          617.4616652407949,
          621.0298083057327,
          624.4405733273713,
          627.6955744631939,
          630.796398465075,
          633.7446053263099,
          636.541728909136,
          639.1892775534571,
          641.6887346674588,
          644.041559300764,
          646.2491867007607,
          648.3130288526977,
          650.2344750041248,
          652.0148921742295,
          653.6556256485977,
          655.1579994599034,
          656.5233168550174,
          657.7528607489967,
          658.8478941664051,
          659.8096606703934,
          660.639384779951,
          661.3382723757263,
          661.9075110947958,
          662.348270714747,
          662.6617035274265,
          662.8489447026942,
          662.9111126425015,
          662.9111126425015,
          662.9111126425015,
          662.9111126425015,
          662.9111126425015,
          662.9111126425015,
          662.9111126425015,
          662.9111126425015,
          662.9111126425015,
          662.9111126425015,
          662.9111126425015,
          662.9111126425015,
          662.9111126425015,
          662.9111126425015,
          662.9111126425015,
          662.9111126425015,
          662.9111126425015,
          662.9111126425015,
          662.9111126425015,
          662.9111126425015,
          662.9111126425015,
          662.9111126425015,
          662.9111126425015,
          662.9111126425015,
          662.9111126425015,
          662.9111126425015,
          662.9111126425015,
          662.9111126425015,
          662.9111126425015,
          662.9111126425015,
          662.9111126425015,
          662.9111126425015,
          662.9111126425015,
          662.9111126425015,
          662.9111126425015,
          662.9111126425015,
          662.9111126425015,
          662.9111126425015,
          662.9111126425015,
          662.9111126425015,
          662.9111126425015,
          662.9111126425015,
          662.9111126425015,
          662.9111126425015,
          662.9111126425015,
          662.9111126425015,
          662.9111126425015,
          662.9111126425015,
          662.9111126425015,
          662.9111126425015,
          662.9111126425015,
          662.9111126425015,
          662.9111126425015,
          662.9111126425015,
          662.9111126425015,
          662.9111126425015,
          662.9111126425015,
          662.9111126425015,
          662.9111126425015,
          662.9111126425015,
          662.9111126425015,
          662.9111126425015,
          662.9111126425015,
          662.9111126425015,
          662.9111126425015,
          662.9111126425015,
          662.9111126425015,
          662.9111126425015,
          662.9111126425015,
          662.9111126425015,
          662.9111126425015,
          662.9111126425015,
          662.9111126425015,
          662.9111126425015,
          662.9111126425015,
          662.9111126425015,
          662.9111126425015,
          662.9111126425015,
          662.9111126425015,
          662.9111126425015
         ]
        },
        {
         "mode": "lines",
         "name": "option_pnls",
         "type": "scatter",
         "x": [
          500,
          510,
          520,
          530,
          540,
          550,
          560,
          570,
          580,
          590,
          600,
          610,
          620,
          630,
          640,
          650,
          660,
          670,
          680,
          690,
          700,
          710,
          720,
          730,
          740,
          750,
          760,
          770,
          780,
          790,
          800,
          810,
          820,
          830,
          840,
          850,
          860,
          870,
          880,
          890,
          900,
          910,
          920,
          930,
          940,
          950,
          960,
          970,
          980,
          990,
          1000,
          1010,
          1020,
          1030,
          1040,
          1050,
          1060,
          1070,
          1080,
          1090,
          1100,
          1110,
          1120,
          1130,
          1140,
          1150,
          1160,
          1170,
          1180,
          1190,
          1200,
          1210,
          1220,
          1230,
          1240,
          1250,
          1260,
          1270,
          1280,
          1290,
          1300,
          1310,
          1320,
          1330,
          1340,
          1350,
          1360,
          1370,
          1380,
          1390,
          1400,
          1410,
          1420,
          1430,
          1440,
          1450,
          1460,
          1470,
          1480,
          1490,
          1500,
          1510,
          1520,
          1530,
          1540,
          1550,
          1560,
          1570,
          1580,
          1590,
          1600,
          1610,
          1620,
          1630,
          1640,
          1650,
          1660,
          1670,
          1680,
          1690,
          1700,
          1710,
          1720,
          1730,
          1740,
          1750,
          1760,
          1770,
          1780,
          1790,
          1800,
          1810,
          1820,
          1830,
          1840,
          1850,
          1860,
          1870,
          1880,
          1890,
          1900,
          1910,
          1920,
          1930,
          1940,
          1950,
          1960,
          1970,
          1980,
          1990,
          2000,
          2010,
          2020,
          2030,
          2040,
          2050,
          2060,
          2070,
          2080,
          2090,
          2100,
          2110,
          2120,
          2130,
          2140,
          2150,
          2160,
          2170,
          2180,
          2190,
          2200,
          2210,
          2220,
          2230,
          2240,
          2250,
          2260,
          2270,
          2280,
          2290,
          2300,
          2310,
          2320,
          2330,
          2340,
          2350,
          2360,
          2370,
          2380,
          2390,
          2400,
          2410,
          2420,
          2430,
          2440,
          2450,
          2460,
          2470,
          2480,
          2490
         ],
         "y": [
          362.86759193177306,
          358.86759193177306,
          354.86759193177306,
          350.86759193177306,
          346.86759193177306,
          342.86759193177306,
          338.86759193177306,
          334.86759193177306,
          330.86759193177306,
          326.86759193177306,
          322.86759193177306,
          318.86759193177306,
          314.86759193177306,
          310.86759193177306,
          306.86759193177306,
          302.86759193177306,
          298.86759193177306,
          294.86759193177306,
          290.86759193177306,
          286.86759193177306,
          282.86759193177306,
          278.86759193177306,
          274.86759193177306,
          270.86759193177306,
          266.86759193177306,
          262.86759193177306,
          258.86759193177306,
          254.86759193177306,
          250.86759193177306,
          246.86759193177306,
          242.86759193177306,
          238.86759193177306,
          234.86759193177306,
          230.86759193177306,
          226.86759193177306,
          222.86759193177306,
          218.86759193177306,
          214.86759193177306,
          210.86759193177306,
          206.86759193177306,
          202.86759193177306,
          198.86759193177306,
          194.86759193177306,
          190.86759193177306,
          186.86759193177312,
          182.86759193177318,
          178.86759193177352,
          174.86759193177448,
          170.86759193177704,
          166.86759193178443,
          162.8675919318045,
          158.86759193185816,
          154.86759193199833,
          150.8675919323564,
          146.86759193325116,
          142.8675919354385,
          138.86759194066997,
          134.86759195291387,
          130.86759198095916,
          126.86759204383945,
          122.86759218186212,
          118.86759247850644,
          114.86759310287557,
          110.86759439005057,
          106.86759698959243,
          102.86760213349534,
          98.86761210821099,
          94.86763106639482,
          90.86766638956045,
          86.86773092066697,
          82.86784653373157,
          78.86804970232504,
          74.86839997284339,
          70.86899253711147,
          66.86997641640896,
          62.87158008454003,
          58.87414662202518,
          54.878180638617806,
          50.8844091422951,
          46.89385817561646,
          42.907946294629724,
          38.92859476301487,
          34.958352650140995,
          31.00053289683288,
          27.05935297038033,
          23.140071184705363,
          19.249107410424585,
          15.394135099997882,
          11.584130679794747,
          7.829366749734753,
          4.141337417448739,
          0.532607554464164,
          -2.9834173264536616,
          -6.392797848887447,
          -9.681434877177438,
          -12.835495112036142,
          -15.841866666855733,
          -18.688618968070116,
          -21.365439261124767,
          -23.864018356270893,
          -26.178361066455956,
          -28.3050018316465,
          -30.243112786343456,
          -31.994499312138853,
          -33.5634861276084,
          -34.956704411850346,
          -36.18279664811389,
          -37.252060305004306,
          -38.17605386886835,
          -38.96718906749911,
          -39.63833156767269,
          -40.20242934538883,
          -40.672183785433575,
          -41.05977387438434,
          -41.3766390946731,
          -41.633322220923496,
          -41.839369472789535,
          -42.00328258152613,
          -42.13251535496311,
          -42.23350625159674,
          -42.311738196836274,
          -42.37181724158782,
          -42.41756250119798,
          -42.45210094710756,
          -42.477961897199116,
          -42.497167334369266,
          -42.51131537975889,
          -42.521655293816096,
          -42.52915324121668,
          -42.53454872525645,
          -42.538402082463655,
          -42.541133749582514,
          -42.54305619998823,
          -42.544399524322216,
          -42.545331628947594,
          -42.54597397082971,
          -42.54641365957414,
          -42.54671265299058,
          -42.546914663766806,
          -42.54705028987746,
          -42.54714078535181,
          -42.54720080366187,
          -42.54724037421993,
          -42.54726631301519,
          -42.54728322029996,
          -42.54729418005991,
          -42.547301246285045,
          -42.54730577827213,
          -42.54730867001436,
          -42.54731050593719,
          -42.54731166585416,
          -42.54731239519388,
          -42.54731285166736,
          -42.54731313607135,
          -42.54731331248859,
          -42.547313421452145,
          -42.54731348847227,
          -42.547313529526946,
          -42.547313554576796,
          -42.54731356980219,
          -42.54731357902183,
          -42.547313584584394,
          -42.5473135879287,
          -42.547313589932315,
          -42.54731359112893,
          -42.54731359184116,
          -42.54731359226371,
          -42.54731359251373,
          -42.54731359266116,
          -42.547313592747926,
          -42.54731359279867,
          -42.5473135928286,
          -42.54731359284588,
          -42.547313592855886,
          -42.54731359286188,
          -42.547313592865066,
          -42.54731359286707,
          -42.54731359286834,
          -42.54731359286898,
          -42.54731359286925,
          -42.54731359286953,
          -42.54731359286953,
          -42.547313592869614,
          -42.547313592869706,
          -42.547313592869706,
          -42.547313592869706,
          -42.547313592869706,
          -42.547313592869706,
          -42.547313592869706,
          -42.547313592869706,
          -42.54731359286989,
          -42.54731359286989,
          -42.547313592869706,
          -42.5473135928698,
          -42.5473135928698,
          -42.5473135928698,
          -42.5473135928698,
          -42.5473135928698,
          -42.5473135928698,
          -42.5473135928698
         ]
        },
        {
         "mode": "lines",
         "name": "uniswap_tvs + option_pnls + fees",
         "type": "scatter",
         "x": [
          500,
          510,
          520,
          530,
          540,
          550,
          560,
          570,
          580,
          590,
          600,
          610,
          620,
          630,
          640,
          650,
          660,
          670,
          680,
          690,
          700,
          710,
          720,
          730,
          740,
          750,
          760,
          770,
          780,
          790,
          800,
          810,
          820,
          830,
          840,
          850,
          860,
          870,
          880,
          890,
          900,
          910,
          920,
          930,
          940,
          950,
          960,
          970,
          980,
          990,
          1000,
          1010,
          1020,
          1030,
          1040,
          1050,
          1060,
          1070,
          1080,
          1090,
          1100,
          1110,
          1120,
          1130,
          1140,
          1150,
          1160,
          1170,
          1180,
          1190,
          1200,
          1210,
          1220,
          1230,
          1240,
          1250,
          1260,
          1270,
          1280,
          1290,
          1300,
          1310,
          1320,
          1330,
          1340,
          1350,
          1360,
          1370,
          1380,
          1390,
          1400,
          1410,
          1420,
          1430,
          1440,
          1450,
          1460,
          1470,
          1480,
          1490,
          1500,
          1510,
          1520,
          1530,
          1540,
          1550,
          1560,
          1570,
          1580,
          1590,
          1600,
          1610,
          1620,
          1630,
          1640,
          1650,
          1660,
          1670,
          1680,
          1690,
          1700,
          1710,
          1720,
          1730,
          1740,
          1750,
          1760,
          1770,
          1780,
          1790,
          1800,
          1810,
          1820,
          1830,
          1840,
          1850,
          1860,
          1870,
          1880,
          1890,
          1900,
          1910,
          1920,
          1930,
          1940,
          1950,
          1960,
          1970,
          1980,
          1990,
          2000,
          2010,
          2020,
          2030,
          2040,
          2050,
          2060,
          2070,
          2080,
          2090,
          2100,
          2110,
          2120,
          2130,
          2140,
          2150,
          2160,
          2170,
          2180,
          2190,
          2200,
          2210,
          2220,
          2230,
          2240,
          2250,
          2260,
          2270,
          2280,
          2290,
          2300,
          2310,
          2320,
          2330,
          2340,
          2350,
          2360,
          2370,
          2380,
          2390,
          2400,
          2410,
          2420,
          2430,
          2440,
          2450,
          2460,
          2470,
          2480,
          2490
         ],
         "y": [
          577.7183177312619,
          578.0153322472518,
          578.3123467632415,
          578.6093612792313,
          578.906375795221,
          579.2033903112108,
          579.5004048272006,
          579.7974193431903,
          580.0944338591801,
          580.39144837517,
          580.6884628911597,
          580.9854774071495,
          581.2824919231392,
          581.5795064391291,
          581.8765209551188,
          582.1735354711086,
          582.4705499870984,
          582.7675645030881,
          583.0645790190779,
          583.3615935350676,
          583.6586080510574,
          583.9556225670472,
          584.252637083037,
          584.5496515990268,
          584.8466661150165,
          585.1436806310064,
          585.4406951469962,
          585.7377096629859,
          586.0347241789757,
          586.3317386949655,
          586.6287532109552,
          586.925767726945,
          587.2227822429347,
          587.5197967589245,
          587.8168112749144,
          588.1138257909041,
          588.4108403068939,
          588.7078548228837,
          589.0048693388735,
          589.3018838548633,
          589.598898370853,
          589.8959128868428,
          590.1929274028325,
          590.4899419188223,
          590.7869564348122,
          591.083970950802,
          591.3809854667921,
          591.6779999827829,
          591.9750144987752,
          592.2720290147724,
          592.5690435307822,
          592.8660580468256,
          593.1630725629557,
          593.4600870793034,
          593.757101596188,
          594.0541161143651,
          594.3511306355863,
          594.64814516382,
          594.945159707855,
          595.2421742867251,
          595.5391889407376,
          595.8362037533717,
          596.1332188937306,
          596.4302346968954,
          596.7272518124271,
          597.0242714723197,
          597.3212959630251,
          597.6183294371988,
          597.9153792763542,
          598.2124583234504,
          598.5095884525049,
          598.8068061370881,
          599.1041709235961,
          599.401778003854,
          599.6997763991412,
          599.9983945832622,
          600.2979756367371,
          600.5990241693195,
          600.9022671889866,
          601.2087307382976,
          601.5198333733007,
          601.8374963576757,
          602.1642687607916,
          602.5034635234732,
          602.8592981130105,
          603.2370308433252,
          603.6430815850342,
          604.0851237905974,
          604.572133886384,
          605.1143844723138,
          605.7233696560176,
          606.3290085206436,
          606.8632299718486,
          607.3417040532939,
          607.7802303636174,
          608.1943131936965,
          608.5987066605156,
          609.0069554951237,
          609.4309592039502,
          609.880586970039,
          610.3633678426801,
          610.8842757218107,
          611.4456218811154,
          612.0470599886252,
          612.6857005731523,
          613.3563244408474,
          614.0516783560108,
          614.7628318692252,
          615.4795717797293,
          616.1908103924043,
          616.8849852873446,
          617.5504314036078,
          618.1757103809715,
          618.7498867960092,
          619.2627456852779,
          619.7049501548029,
          620.0681416220064,
          620.3449881332208,
          620.5291881724635,
          620.6154384510975,
          620.5993744456653,
          620.5392954009137,
          620.4935501413036,
          620.459011695394,
          620.4331507453024,
          620.4139453081323,
          620.3997972627426,
          620.3894573486854,
          620.3819594012848,
          620.3765639172451,
          620.3727105600378,
          620.369978892919,
          620.3680564425133,
          620.3667131181793,
          620.3657810135539,
          620.3651386716718,
          620.3646989829274,
          620.364399989511,
          620.3641979787348,
          620.364062352624,
          620.3639718571497,
          620.3639118388396,
          620.3638722682816,
          620.3638463294864,
          620.3638294222015,
          620.3638184624416,
          620.3638113962164,
          620.3638068642293,
          620.3638039724872,
          620.3638021365643,
          620.3638009766473,
          620.3638002473076,
          620.3637997908342,
          620.3637995064302,
          620.363799330013,
          620.3637992210494,
          620.3637991540293,
          620.3637991129746,
          620.3637990879247,
          620.3637990726993,
          620.3637990634796,
          620.3637990579172,
          620.3637990545728,
          620.3637990525692,
          620.3637990513726,
          620.3637990506603,
          620.3637990502378,
          620.3637990499877,
          620.3637990498404,
          620.3637990497535,
          620.3637990497028,
          620.3637990496729,
          620.3637990496557,
          620.3637990496456,
          620.3637990496396,
          620.3637990496364,
          620.3637990496344,
          620.3637990496331,
          620.3637990496326,
          620.3637990496322,
          620.363799049632,
          620.363799049632,
          620.3637990496319,
          620.3637990496318,
          620.3637990496318,
          620.3637990496318,
          620.3637990496318,
          620.3637990496318,
          620.3637990496318,
          620.3637990496318,
          620.3637990496317,
          620.3637990496317,
          620.3637990496318,
          620.3637990496317,
          620.3637990496317,
          620.3637990496317,
          620.3637990496317,
          620.3637990496317,
          620.3637990496317,
          620.3637990496317
         ]
        }
       ],
       "layout": {
        "autosize": false,
        "height": 500,
        "template": {
         "data": {
          "bar": [
           {
            "error_x": {
             "color": "#2a3f5f"
            },
            "error_y": {
             "color": "#2a3f5f"
            },
            "marker": {
             "line": {
              "color": "#E5ECF6",
              "width": 0.5
             },
             "pattern": {
              "fillmode": "overlay",
              "size": 10,
              "solidity": 0.2
             }
            },
            "type": "bar"
           }
          ],
          "barpolar": [
           {
            "marker": {
             "line": {
              "color": "#E5ECF6",
              "width": 0.5
             },
             "pattern": {
              "fillmode": "overlay",
              "size": 10,
              "solidity": 0.2
             }
            },
            "type": "barpolar"
           }
          ],
          "carpet": [
           {
            "aaxis": {
             "endlinecolor": "#2a3f5f",
             "gridcolor": "white",
             "linecolor": "white",
             "minorgridcolor": "white",
             "startlinecolor": "#2a3f5f"
            },
            "baxis": {
             "endlinecolor": "#2a3f5f",
             "gridcolor": "white",
             "linecolor": "white",
             "minorgridcolor": "white",
             "startlinecolor": "#2a3f5f"
            },
            "type": "carpet"
           }
          ],
          "choropleth": [
           {
            "colorbar": {
             "outlinewidth": 0,
             "ticks": ""
            },
            "type": "choropleth"
           }
          ],
          "contour": [
           {
            "colorbar": {
             "outlinewidth": 0,
             "ticks": ""
            },
            "colorscale": [
             [
              0,
              "#0d0887"
             ],
             [
              0.1111111111111111,
              "#46039f"
             ],
             [
              0.2222222222222222,
              "#7201a8"
             ],
             [
              0.3333333333333333,
              "#9c179e"
             ],
             [
              0.4444444444444444,
              "#bd3786"
             ],
             [
              0.5555555555555556,
              "#d8576b"
             ],
             [
              0.6666666666666666,
              "#ed7953"
             ],
             [
              0.7777777777777778,
              "#fb9f3a"
             ],
             [
              0.8888888888888888,
              "#fdca26"
             ],
             [
              1,
              "#f0f921"
             ]
            ],
            "type": "contour"
           }
          ],
          "contourcarpet": [
           {
            "colorbar": {
             "outlinewidth": 0,
             "ticks": ""
            },
            "type": "contourcarpet"
           }
          ],
          "heatmap": [
           {
            "colorbar": {
             "outlinewidth": 0,
             "ticks": ""
            },
            "colorscale": [
             [
              0,
              "#0d0887"
             ],
             [
              0.1111111111111111,
              "#46039f"
             ],
             [
              0.2222222222222222,
              "#7201a8"
             ],
             [
              0.3333333333333333,
              "#9c179e"
             ],
             [
              0.4444444444444444,
              "#bd3786"
             ],
             [
              0.5555555555555556,
              "#d8576b"
             ],
             [
              0.6666666666666666,
              "#ed7953"
             ],
             [
              0.7777777777777778,
              "#fb9f3a"
             ],
             [
              0.8888888888888888,
              "#fdca26"
             ],
             [
              1,
              "#f0f921"
             ]
            ],
            "type": "heatmap"
           }
          ],
          "heatmapgl": [
           {
            "colorbar": {
             "outlinewidth": 0,
             "ticks": ""
            },
            "colorscale": [
             [
              0,
              "#0d0887"
             ],
             [
              0.1111111111111111,
              "#46039f"
             ],
             [
              0.2222222222222222,
              "#7201a8"
             ],
             [
              0.3333333333333333,
              "#9c179e"
             ],
             [
              0.4444444444444444,
              "#bd3786"
             ],
             [
              0.5555555555555556,
              "#d8576b"
             ],
             [
              0.6666666666666666,
              "#ed7953"
             ],
             [
              0.7777777777777778,
              "#fb9f3a"
             ],
             [
              0.8888888888888888,
              "#fdca26"
             ],
             [
              1,
              "#f0f921"
             ]
            ],
            "type": "heatmapgl"
           }
          ],
          "histogram": [
           {
            "marker": {
             "pattern": {
              "fillmode": "overlay",
              "size": 10,
              "solidity": 0.2
             }
            },
            "type": "histogram"
           }
          ],
          "histogram2d": [
           {
            "colorbar": {
             "outlinewidth": 0,
             "ticks": ""
            },
            "colorscale": [
             [
              0,
              "#0d0887"
             ],
             [
              0.1111111111111111,
              "#46039f"
             ],
             [
              0.2222222222222222,
              "#7201a8"
             ],
             [
              0.3333333333333333,
              "#9c179e"
             ],
             [
              0.4444444444444444,
              "#bd3786"
             ],
             [
              0.5555555555555556,
              "#d8576b"
             ],
             [
              0.6666666666666666,
              "#ed7953"
             ],
             [
              0.7777777777777778,
              "#fb9f3a"
             ],
             [
              0.8888888888888888,
              "#fdca26"
             ],
             [
              1,
              "#f0f921"
             ]
            ],
            "type": "histogram2d"
           }
          ],
          "histogram2dcontour": [
           {
            "colorbar": {
             "outlinewidth": 0,
             "ticks": ""
            },
            "colorscale": [
             [
              0,
              "#0d0887"
             ],
             [
              0.1111111111111111,
              "#46039f"
             ],
             [
              0.2222222222222222,
              "#7201a8"
             ],
             [
              0.3333333333333333,
              "#9c179e"
             ],
             [
              0.4444444444444444,
              "#bd3786"
             ],
             [
              0.5555555555555556,
              "#d8576b"
             ],
             [
              0.6666666666666666,
              "#ed7953"
             ],
             [
              0.7777777777777778,
              "#fb9f3a"
             ],
             [
              0.8888888888888888,
              "#fdca26"
             ],
             [
              1,
              "#f0f921"
             ]
            ],
            "type": "histogram2dcontour"
           }
          ],
          "mesh3d": [
           {
            "colorbar": {
             "outlinewidth": 0,
             "ticks": ""
            },
            "type": "mesh3d"
           }
          ],
          "parcoords": [
           {
            "line": {
             "colorbar": {
              "outlinewidth": 0,
              "ticks": ""
             }
            },
            "type": "parcoords"
           }
          ],
          "pie": [
           {
            "automargin": true,
            "type": "pie"
           }
          ],
          "scatter": [
           {
            "fillpattern": {
             "fillmode": "overlay",
             "size": 10,
             "solidity": 0.2
            },
            "type": "scatter"
           }
          ],
          "scatter3d": [
           {
            "line": {
             "colorbar": {
              "outlinewidth": 0,
              "ticks": ""
             }
            },
            "marker": {
             "colorbar": {
              "outlinewidth": 0,
              "ticks": ""
             }
            },
            "type": "scatter3d"
           }
          ],
          "scattercarpet": [
           {
            "marker": {
             "colorbar": {
              "outlinewidth": 0,
              "ticks": ""
             }
            },
            "type": "scattercarpet"
           }
          ],
          "scattergeo": [
           {
            "marker": {
             "colorbar": {
              "outlinewidth": 0,
              "ticks": ""
             }
            },
            "type": "scattergeo"
           }
          ],
          "scattergl": [
           {
            "marker": {
             "colorbar": {
              "outlinewidth": 0,
              "ticks": ""
             }
            },
            "type": "scattergl"
           }
          ],
          "scattermapbox": [
           {
            "marker": {
             "colorbar": {
              "outlinewidth": 0,
              "ticks": ""
             }
            },
            "type": "scattermapbox"
           }
          ],
          "scatterpolar": [
           {
            "marker": {
             "colorbar": {
              "outlinewidth": 0,
              "ticks": ""
             }
            },
            "type": "scatterpolar"
           }
          ],
          "scatterpolargl": [
           {
            "marker": {
             "colorbar": {
              "outlinewidth": 0,
              "ticks": ""
             }
            },
            "type": "scatterpolargl"
           }
          ],
          "scatterternary": [
           {
            "marker": {
             "colorbar": {
              "outlinewidth": 0,
              "ticks": ""
             }
            },
            "type": "scatterternary"
           }
          ],
          "surface": [
           {
            "colorbar": {
             "outlinewidth": 0,
             "ticks": ""
            },
            "colorscale": [
             [
              0,
              "#0d0887"
             ],
             [
              0.1111111111111111,
              "#46039f"
             ],
             [
              0.2222222222222222,
              "#7201a8"
             ],
             [
              0.3333333333333333,
              "#9c179e"
             ],
             [
              0.4444444444444444,
              "#bd3786"
             ],
             [
              0.5555555555555556,
              "#d8576b"
             ],
             [
              0.6666666666666666,
              "#ed7953"
             ],
             [
              0.7777777777777778,
              "#fb9f3a"
             ],
             [
              0.8888888888888888,
              "#fdca26"
             ],
             [
              1,
              "#f0f921"
             ]
            ],
            "type": "surface"
           }
          ],
          "table": [
           {
            "cells": {
             "fill": {
              "color": "#EBF0F8"
             },
             "line": {
              "color": "white"
             }
            },
            "header": {
             "fill": {
              "color": "#C8D4E3"
             },
             "line": {
              "color": "white"
             }
            },
            "type": "table"
           }
          ]
         },
         "layout": {
          "annotationdefaults": {
           "arrowcolor": "#2a3f5f",
           "arrowhead": 0,
           "arrowwidth": 1
          },
          "autotypenumbers": "strict",
          "coloraxis": {
           "colorbar": {
            "outlinewidth": 0,
            "ticks": ""
           }
          },
          "colorscale": {
           "diverging": [
            [
             0,
             "#8e0152"
            ],
            [
             0.1,
             "#c51b7d"
            ],
            [
             0.2,
             "#de77ae"
            ],
            [
             0.3,
             "#f1b6da"
            ],
            [
             0.4,
             "#fde0ef"
            ],
            [
             0.5,
             "#f7f7f7"
            ],
            [
             0.6,
             "#e6f5d0"
            ],
            [
             0.7,
             "#b8e186"
            ],
            [
             0.8,
             "#7fbc41"
            ],
            [
             0.9,
             "#4d9221"
            ],
            [
             1,
             "#276419"
            ]
           ],
           "sequential": [
            [
             0,
             "#0d0887"
            ],
            [
             0.1111111111111111,
             "#46039f"
            ],
            [
             0.2222222222222222,
             "#7201a8"
            ],
            [
             0.3333333333333333,
             "#9c179e"
            ],
            [
             0.4444444444444444,
             "#bd3786"
            ],
            [
             0.5555555555555556,
             "#d8576b"
            ],
            [
             0.6666666666666666,
             "#ed7953"
            ],
            [
             0.7777777777777778,
             "#fb9f3a"
            ],
            [
             0.8888888888888888,
             "#fdca26"
            ],
            [
             1,
             "#f0f921"
            ]
           ],
           "sequentialminus": [
            [
             0,
             "#0d0887"
            ],
            [
             0.1111111111111111,
             "#46039f"
            ],
            [
             0.2222222222222222,
             "#7201a8"
            ],
            [
             0.3333333333333333,
             "#9c179e"
            ],
            [
             0.4444444444444444,
             "#bd3786"
            ],
            [
             0.5555555555555556,
             "#d8576b"
            ],
            [
             0.6666666666666666,
             "#ed7953"
            ],
            [
             0.7777777777777778,
             "#fb9f3a"
            ],
            [
             0.8888888888888888,
             "#fdca26"
            ],
            [
             1,
             "#f0f921"
            ]
           ]
          },
          "colorway": [
           "#636efa",
           "#EF553B",
           "#00cc96",
           "#ab63fa",
           "#FFA15A",
           "#19d3f3",
           "#FF6692",
           "#B6E880",
           "#FF97FF",
           "#FECB52"
          ],
          "font": {
           "color": "#2a3f5f"
          },
          "geo": {
           "bgcolor": "white",
           "lakecolor": "white",
           "landcolor": "#E5ECF6",
           "showlakes": true,
           "showland": true,
           "subunitcolor": "white"
          },
          "hoverlabel": {
           "align": "left"
          },
          "hovermode": "closest",
          "mapbox": {
           "style": "light"
          },
          "paper_bgcolor": "white",
          "plot_bgcolor": "#E5ECF6",
          "polar": {
           "angularaxis": {
            "gridcolor": "white",
            "linecolor": "white",
            "ticks": ""
           },
           "bgcolor": "#E5ECF6",
           "radialaxis": {
            "gridcolor": "white",
            "linecolor": "white",
            "ticks": ""
           }
          },
          "scene": {
           "xaxis": {
            "backgroundcolor": "#E5ECF6",
            "gridcolor": "white",
            "gridwidth": 2,
            "linecolor": "white",
            "showbackground": true,
            "ticks": "",
            "zerolinecolor": "white"
           },
           "yaxis": {
            "backgroundcolor": "#E5ECF6",
            "gridcolor": "white",
            "gridwidth": 2,
            "linecolor": "white",
            "showbackground": true,
            "ticks": "",
            "zerolinecolor": "white"
           },
           "zaxis": {
            "backgroundcolor": "#E5ECF6",
            "gridcolor": "white",
            "gridwidth": 2,
            "linecolor": "white",
            "showbackground": true,
            "ticks": "",
            "zerolinecolor": "white"
           }
          },
          "shapedefaults": {
           "line": {
            "color": "#2a3f5f"
           }
          },
          "ternary": {
           "aaxis": {
            "gridcolor": "white",
            "linecolor": "white",
            "ticks": ""
           },
           "baxis": {
            "gridcolor": "white",
            "linecolor": "white",
            "ticks": ""
           },
           "bgcolor": "#E5ECF6",
           "caxis": {
            "gridcolor": "white",
            "linecolor": "white",
            "ticks": ""
           }
          },
          "title": {
           "x": 0.05
          },
          "xaxis": {
           "automargin": true,
           "gridcolor": "white",
           "linecolor": "white",
           "ticks": "",
           "title": {
            "standoff": 15
           },
           "zerolinecolor": "white",
           "zerolinewidth": 2
          },
          "yaxis": {
           "automargin": true,
           "gridcolor": "white",
           "linecolor": "white",
           "ticks": "",
           "title": {
            "standoff": 15
           },
           "zerolinecolor": "white",
           "zerolinewidth": 2
          }
         }
        },
        "title": {
         "text": "strike: 1513.537, expiration: 0.09, amount: 0.4"
        },
        "width": 1000,
        "xaxis": {
         "autorange": true,
         "range": [
          500,
          2490
         ],
         "type": "linear"
        },
        "yaxis": {
         "autorange": true,
         "range": [
          -81.73944838372385,
          702.1032474333555
         ],
         "type": "linear"
        }
       }
      },
      "image/png": "[encoded data removed]",
      "text/html": [
       "<div>                            <div id=\"e4412151-08e3-4605-a1e5-cff4e3dddf2b\" class=\"plotly-graph-div\" style=\"height:500px; width:1000px;\"></div>            <script type=\"text/javascript\">                require([\"plotly\"], function(Plotly) {                    window.PLOTLYENV=window.PLOTLYENV || {};                                    if (document.getElementById(\"e4412151-08e3-4605-a1e5-cff4e3dddf2b\")) {                    Plotly.newPlot(                        \"e4412151-08e3-4605-a1e5-cff4e3dddf2b\",                        [{\"mode\":\"lines\",\"name\":\"pure_usdc\",\"x\":[500,510,520,530,540,550,560,570,580,590,600,610,620,630,640,650,660,670,680,690,700,710,720,730,740,750,760,770,780,790,800,810,820,830,840,850,860,870,880,890,900,910,920,930,940,950,960,970,980,990,1000,1010,1020,1030,1040,1050,1060,1070,1080,1090,1100,1110,1120,1130,1140,1150,1160,1170,1180,1190,1200,1210,1220,1230,1240,1250,1260,1270,1280,1290,1300,1310,1320,1330,1340,1350,1360,1370,1380,1390,1400,1410,1420,1430,1440,1450,1460,1470,1480,1490,1500,1510,1520,1530,1540,1550,1560,1570,1580,1590,1600,1610,1620,1630,1640,1650,1660,1670,1680,1690,1700,1710,1720,1730,1740,1750,1760,1770,1780,1790,1800,1810,1820,1830,1840,1850,1860,1870,1880,1890,1900,1910,1920,1930,1940,1950,1960,1970,1980,1990,2000,2010,2020,2030,2040,2050,2060,2070,2080,2090,2100,2110,2120,2130,2140,2150,2160,2170,2180,2190,2200,2210,2220,2230,2240,2250,2260,2270,2280,2290,2300,2310,2320,2330,2340,2350,2360,2370,2380,2390,2400,2410,2420,2430,2440,2450,2460,2470,2480,2490],\"y\":[644.5306521469613,644.5306521469613,644.5306521469613,644.5306521469613,644.5306521469613,644.5306521469613,644.5306521469613,644.5306521469613,644.5306521469613,644.5306521469613,644.5306521469613,644.5306521469613,644.5306521469613,644.5306521469613,644.5306521469613,644.5306521469613,644.5306521469613,644.5306521469613,644.5306521469613,644.5306521469613,644.5306521469613,644.5306521469613,644.5306521469613,644.5306521469613,644.5306521469613,644.5306521469613,644.5306521469613,644.5306521469613,644.5306521469613,644.5306521469613,644.5306521469613,644.5306521469613,644.5306521469613,644.5306521469613,644.5306521469613,644.5306521469613,644.5306521469613,644.5306521469613,644.5306521469613,644.5306521469613,644.5306521469613,644.5306521469613,644.5306521469613,644.5306521469613,644.5306521469613,644.5306521469613,644.5306521469613,644.5306521469613,644.5306521469613,644.5306521469613,644.5306521469613,644.5306521469613,644.5306521469613,644.5306521469613,644.5306521469613,644.5306521469613,644.5306521469613,644.5306521469613,644.5306521469613,644.5306521469613,644.5306521469613,644.5306521469613,644.5306521469613,644.5306521469613,644.5306521469613,644.5306521469613,644.5306521469613,644.5306521469613,644.5306521469613,644.5306521469613,644.5306521469613,644.5306521469613,644.5306521469613,644.5306521469613,644.5306521469613,644.5306521469613,644.5306521469613,644.5306521469613,644.5306521469613,644.5306521469613,644.5306521469613,644.5306521469613,644.5306521469613,644.5306521469613,644.5306521469613,644.5306521469613,644.5306521469613,644.5306521469613,644.5306521469613,644.5306521469613,644.5306521469613,644.5306521469613,644.5306521469613,644.5306521469613,644.5306521469613,644.5306521469613,644.5306521469613,644.5306521469613,644.5306521469613,644.5306521469613,644.5306521469613,644.5306521469613,644.5306521469613,644.5306521469613,644.5306521469613,644.5306521469613,644.5306521469613,644.5306521469613,644.5306521469613,644.5306521469613,644.5306521469613,644.5306521469613,644.5306521469613,644.5306521469613,644.5306521469613,644.5306521469613,644.5306521469613,644.5306521469613,644.5306521469613,644.5306521469613,644.5306521469613,644.5306521469613,644.5306521469613,644.5306521469613,644.5306521469613,644.5306521469613,644.5306521469613,644.5306521469613,644.5306521469613,644.5306521469613,644.5306521469613,644.5306521469613,644.5306521469613,644.5306521469613,644.5306521469613,644.5306521469613,644.5306521469613,644.5306521469613,644.5306521469613,644.5306521469613,644.5306521469613,644.5306521469613,644.5306521469613,644.5306521469613,644.5306521469613,644.5306521469613,644.5306521469613,644.5306521469613,644.5306521469613,644.5306521469613,644.5306521469613,644.5306521469613,644.5306521469613,644.5306521469613,644.5306521469613,644.5306521469613,644.5306521469613,644.5306521469613,644.5306521469613,644.5306521469613,644.5306521469613,644.5306521469613,644.5306521469613,644.5306521469613,644.5306521469613,644.5306521469613,644.5306521469613,644.5306521469613,644.5306521469613,644.5306521469613,644.5306521469613,644.5306521469613,644.5306521469613,644.5306521469613,644.5306521469613,644.5306521469613,644.5306521469613,644.5306521469613,644.5306521469613,644.5306521469613,644.5306521469613,644.5306521469613,644.5306521469613,644.5306521469613,644.5306521469613,644.5306521469613,644.5306521469613,644.5306521469613,644.5306521469613,644.5306521469613,644.5306521469613,644.5306521469613,644.5306521469613,644.5306521469613,644.5306521469613,644.5306521469613,644.5306521469613,644.5306521469613,644.5306521469613,644.5306521469613],\"type\":\"scatter\"},{\"mode\":\"lines\",\"name\":\"uniswap_tvs + fees = 0 usdc\",\"x\":[500,510,520,530,540,550,560,570,580,590,600,610,620,630,640,650,660,670,680,690,700,710,720,730,740,750,760,770,780,790,800,810,820,830,840,850,860,870,880,890,900,910,920,930,940,950,960,970,980,990,1000,1010,1020,1030,1040,1050,1060,1070,1080,1090,1100,1110,1120,1130,1140,1150,1160,1170,1180,1190,1200,1210,1220,1230,1240,1250,1260,1270,1280,1290,1300,1310,1320,1330,1340,1350,1360,1370,1380,1390,1400,1410,1420,1430,1440,1450,1460,1470,1480,1490,1500,1510,1520,1530,1540,1550,1560,1570,1580,1590,1600,1610,1620,1630,1640,1650,1660,1670,1680,1690,1700,1710,1720,1730,1740,1750,1760,1770,1780,1790,1800,1810,1820,1830,1840,1850,1860,1870,1880,1890,1900,1910,1920,1930,1940,1950,1960,1970,1980,1990,2000,2010,2020,2030,2040,2050,2060,2070,2080,2090,2100,2110,2120,2130,2140,2150,2160,2170,2180,2190,2200,2210,2220,2230,2240,2250,2260,2270,2280,2290,2300,2310,2320,2330,2340,2350,2360,2370,2380,2390,2400,2410,2420,2430,2440,2450,2460,2470,2480,2490],\"y\":[214.85072579948886,219.14774031547864,223.4447548314684,227.7417693474582,232.03878386344797,236.33579837943773,240.63281289542752,244.9298274114173,249.22684192740707,253.52385644339685,257.82087095938664,262.1178854753764,266.41489999136616,270.71191450735597,275.00892902334573,279.3059435393355,283.6029580553253,287.89997257131506,292.1969870873048,296.49400160329463,300.7910161192844,305.08803063527415,309.38504515126397,313.6820596672537,317.9790741832435,322.2760886992333,326.57310321522306,330.8701177312128,335.16713224720263,339.4641467631924,343.76116127918215,348.05817579517196,352.3551903111617,356.6522048271515,360.9492193431413,365.24623385913105,369.5432483751208,373.8402628911106,378.1372774071004,382.43429192309014,386.73130643907996,391.0283209550697,395.3253354710595,399.6223499870493,403.91936450303905,408.2163790190288,412.5133935350186,416.8104080510084,421.10742256699814,425.40443708298795,429.7014515989777,433.99846611496747,438.2954806309573,442.59249514694704,446.8895096629368,451.1865241789266,455.4835386949164,459.78055321090613,464.07756772689595,468.3745822428857,472.67159675887547,476.9686112748653,481.26562579085504,485.5626403068448,489.8596548228346,494.1566693388244,498.45368385481413,502.75069837080395,507.0477128867937,511.34472740278346,515.6417419187733,519.938756434763,524.2357709507528,528.5327854667426,532.8297999827323,537.1268144987222,541.4238290147119,545.7208435307017,550.0178580466915,554.3148725626812,558.611887078671,562.9089015946608,567.2059161106506,571.5029306266404,575.7999451426301,580.0969596586199,584.3939741746096,588.6909886905995,592.9880032065893,597.285017722579,601.5820322385688,605.7964009661795,609.8466472983023,613.7345019021814,617.4616652407949,621.0298083057327,624.4405733273713,627.6955744631939,630.796398465075,633.7446053263099,636.541728909136,639.1892775534571,641.6887346674588,644.041559300764,646.2491867007607,648.3130288526977,650.2344750041248,652.0148921742295,653.6556256485977,655.1579994599034,656.5233168550174,657.7528607489967,658.8478941664051,659.8096606703934,660.639384779951,661.3382723757263,661.9075110947958,662.348270714747,662.6617035274265,662.8489447026942,662.9111126425015,662.9111126425015,662.9111126425015,662.9111126425015,662.9111126425015,662.9111126425015,662.9111126425015,662.9111126425015,662.9111126425015,662.9111126425015,662.9111126425015,662.9111126425015,662.9111126425015,662.9111126425015,662.9111126425015,662.9111126425015,662.9111126425015,662.9111126425015,662.9111126425015,662.9111126425015,662.9111126425015,662.9111126425015,662.9111126425015,662.9111126425015,662.9111126425015,662.9111126425015,662.9111126425015,662.9111126425015,662.9111126425015,662.9111126425015,662.9111126425015,662.9111126425015,662.9111126425015,662.9111126425015,662.9111126425015,662.9111126425015,662.9111126425015,662.9111126425015,662.9111126425015,662.9111126425015,662.9111126425015,662.9111126425015,662.9111126425015,662.9111126425015,662.9111126425015,662.9111126425015,662.9111126425015,662.9111126425015,662.9111126425015,662.9111126425015,662.9111126425015,662.9111126425015,662.9111126425015,662.9111126425015,662.9111126425015,662.9111126425015,662.9111126425015,662.9111126425015,662.9111126425015,662.9111126425015,662.9111126425015,662.9111126425015,662.9111126425015,662.9111126425015,662.9111126425015,662.9111126425015,662.9111126425015,662.9111126425015,662.9111126425015,662.9111126425015,662.9111126425015,662.9111126425015,662.9111126425015,662.9111126425015,662.9111126425015,662.9111126425015,662.9111126425015,662.9111126425015,662.9111126425015,662.9111126425015],\"type\":\"scatter\"},{\"mode\":\"lines\",\"name\":\"option_pnls\",\"x\":[500,510,520,530,540,550,560,570,580,590,600,610,620,630,640,650,660,670,680,690,700,710,720,730,740,750,760,770,780,790,800,810,820,830,840,850,860,870,880,890,900,910,920,930,940,950,960,970,980,990,1000,1010,1020,1030,1040,1050,1060,1070,1080,1090,1100,1110,1120,1130,1140,1150,1160,1170,1180,1190,1200,1210,1220,1230,1240,1250,1260,1270,1280,1290,1300,1310,1320,1330,1340,1350,1360,1370,1380,1390,1400,1410,1420,1430,1440,1450,1460,1470,1480,1490,1500,1510,1520,1530,1540,1550,1560,1570,1580,1590,1600,1610,1620,1630,1640,1650,1660,1670,1680,1690,1700,1710,1720,1730,1740,1750,1760,1770,1780,1790,1800,1810,1820,1830,1840,1850,1860,1870,1880,1890,1900,1910,1920,1930,1940,1950,1960,1970,1980,1990,2000,2010,2020,2030,2040,2050,2060,2070,2080,2090,2100,2110,2120,2130,2140,2150,2160,2170,2180,2190,2200,2210,2220,2230,2240,2250,2260,2270,2280,2290,2300,2310,2320,2330,2340,2350,2360,2370,2380,2390,2400,2410,2420,2430,2440,2450,2460,2470,2480,2490],\"y\":[362.86759193177306,358.86759193177306,354.86759193177306,350.86759193177306,346.86759193177306,342.86759193177306,338.86759193177306,334.86759193177306,330.86759193177306,326.86759193177306,322.86759193177306,318.86759193177306,314.86759193177306,310.86759193177306,306.86759193177306,302.86759193177306,298.86759193177306,294.86759193177306,290.86759193177306,286.86759193177306,282.86759193177306,278.86759193177306,274.86759193177306,270.86759193177306,266.86759193177306,262.86759193177306,258.86759193177306,254.86759193177306,250.86759193177306,246.86759193177306,242.86759193177306,238.86759193177306,234.86759193177306,230.86759193177306,226.86759193177306,222.86759193177306,218.86759193177306,214.86759193177306,210.86759193177306,206.86759193177306,202.86759193177306,198.86759193177306,194.86759193177306,190.86759193177306,186.86759193177312,182.86759193177318,178.86759193177352,174.86759193177448,170.86759193177704,166.86759193178443,162.8675919318045,158.86759193185816,154.86759193199833,150.8675919323564,146.86759193325116,142.8675919354385,138.86759194066997,134.86759195291387,130.86759198095916,126.86759204383945,122.86759218186212,118.86759247850644,114.86759310287557,110.86759439005057,106.86759698959243,102.86760213349534,98.86761210821099,94.86763106639482,90.86766638956045,86.86773092066697,82.86784653373157,78.86804970232504,74.86839997284339,70.86899253711147,66.86997641640896,62.87158008454003,58.87414662202518,54.878180638617806,50.8844091422951,46.89385817561646,42.907946294629724,38.92859476301487,34.958352650140995,31.00053289683288,27.05935297038033,23.140071184705363,19.249107410424585,15.394135099997882,11.584130679794747,7.829366749734753,4.141337417448739,0.532607554464164,-2.9834173264536616,-6.392797848887447,-9.681434877177438,-12.835495112036142,-15.841866666855733,-18.688618968070116,-21.365439261124767,-23.864018356270893,-26.178361066455956,-28.3050018316465,-30.243112786343456,-31.994499312138853,-33.5634861276084,-34.956704411850346,-36.18279664811389,-37.252060305004306,-38.17605386886835,-38.96718906749911,-39.63833156767269,-40.20242934538883,-40.672183785433575,-41.05977387438434,-41.3766390946731,-41.633322220923496,-41.839369472789535,-42.00328258152613,-42.13251535496311,-42.23350625159674,-42.311738196836274,-42.37181724158782,-42.41756250119798,-42.45210094710756,-42.477961897199116,-42.497167334369266,-42.51131537975889,-42.521655293816096,-42.52915324121668,-42.53454872525645,-42.538402082463655,-42.541133749582514,-42.54305619998823,-42.544399524322216,-42.545331628947594,-42.54597397082971,-42.54641365957414,-42.54671265299058,-42.546914663766806,-42.54705028987746,-42.54714078535181,-42.54720080366187,-42.54724037421993,-42.54726631301519,-42.54728322029996,-42.54729418005991,-42.547301246285045,-42.54730577827213,-42.54730867001436,-42.54731050593719,-42.54731166585416,-42.54731239519388,-42.54731285166736,-42.54731313607135,-42.54731331248859,-42.547313421452145,-42.54731348847227,-42.547313529526946,-42.547313554576796,-42.54731356980219,-42.54731357902183,-42.547313584584394,-42.5473135879287,-42.547313589932315,-42.54731359112893,-42.54731359184116,-42.54731359226371,-42.54731359251373,-42.54731359266116,-42.547313592747926,-42.54731359279867,-42.5473135928286,-42.54731359284588,-42.547313592855886,-42.54731359286188,-42.547313592865066,-42.54731359286707,-42.54731359286834,-42.54731359286898,-42.54731359286925,-42.54731359286953,-42.54731359286953,-42.547313592869614,-42.547313592869706,-42.547313592869706,-42.547313592869706,-42.547313592869706,-42.547313592869706,-42.547313592869706,-42.547313592869706,-42.54731359286989,-42.54731359286989,-42.547313592869706,-42.5473135928698,-42.5473135928698,-42.5473135928698,-42.5473135928698,-42.5473135928698,-42.5473135928698,-42.5473135928698],\"type\":\"scatter\"},{\"mode\":\"lines\",\"name\":\"uniswap_tvs + option_pnls + fees\",\"x\":[500,510,520,530,540,550,560,570,580,590,600,610,620,630,640,650,660,670,680,690,700,710,720,730,740,750,760,770,780,790,800,810,820,830,840,850,860,870,880,890,900,910,920,930,940,950,960,970,980,990,1000,1010,1020,1030,1040,1050,1060,1070,1080,1090,1100,1110,1120,1130,1140,1150,1160,1170,1180,1190,1200,1210,1220,1230,1240,1250,1260,1270,1280,1290,1300,1310,1320,1330,1340,1350,1360,1370,1380,1390,1400,1410,1420,1430,1440,1450,1460,1470,1480,1490,1500,1510,1520,1530,1540,1550,1560,1570,1580,1590,1600,1610,1620,1630,1640,1650,1660,1670,1680,1690,1700,1710,1720,1730,1740,1750,1760,1770,1780,1790,1800,1810,1820,1830,1840,1850,1860,1870,1880,1890,1900,1910,1920,1930,1940,1950,1960,1970,1980,1990,2000,2010,2020,2030,2040,2050,2060,2070,2080,2090,2100,2110,2120,2130,2140,2150,2160,2170,2180,2190,2200,2210,2220,2230,2240,2250,2260,2270,2280,2290,2300,2310,2320,2330,2340,2350,2360,2370,2380,2390,2400,2410,2420,2430,2440,2450,2460,2470,2480,2490],\"y\":[577.7183177312619,578.0153322472518,578.3123467632415,578.6093612792313,578.906375795221,579.2033903112108,579.5004048272006,579.7974193431903,580.0944338591801,580.39144837517,580.6884628911597,580.9854774071495,581.2824919231392,581.5795064391291,581.8765209551188,582.1735354711086,582.4705499870984,582.7675645030881,583.0645790190779,583.3615935350676,583.6586080510574,583.9556225670472,584.252637083037,584.5496515990268,584.8466661150165,585.1436806310064,585.4406951469962,585.7377096629859,586.0347241789757,586.3317386949655,586.6287532109552,586.925767726945,587.2227822429347,587.5197967589245,587.8168112749144,588.1138257909041,588.4108403068939,588.7078548228837,589.0048693388735,589.3018838548633,589.598898370853,589.8959128868428,590.1929274028325,590.4899419188223,590.7869564348122,591.083970950802,591.3809854667921,591.6779999827829,591.9750144987752,592.2720290147724,592.5690435307822,592.8660580468256,593.1630725629557,593.4600870793034,593.757101596188,594.0541161143651,594.3511306355863,594.64814516382,594.945159707855,595.2421742867251,595.5391889407376,595.8362037533717,596.1332188937306,596.4302346968954,596.7272518124271,597.0242714723197,597.3212959630251,597.6183294371988,597.9153792763542,598.2124583234504,598.5095884525049,598.8068061370881,599.1041709235961,599.401778003854,599.6997763991412,599.9983945832622,600.2979756367371,600.5990241693195,600.9022671889866,601.2087307382976,601.5198333733007,601.8374963576757,602.1642687607916,602.5034635234732,602.8592981130105,603.2370308433252,603.6430815850342,604.0851237905974,604.572133886384,605.1143844723138,605.7233696560176,606.3290085206436,606.8632299718486,607.3417040532939,607.7802303636174,608.1943131936965,608.5987066605156,609.0069554951237,609.4309592039502,609.880586970039,610.3633678426801,610.8842757218107,611.4456218811154,612.0470599886252,612.6857005731523,613.3563244408474,614.0516783560108,614.7628318692252,615.4795717797293,616.1908103924043,616.8849852873446,617.5504314036078,618.1757103809715,618.7498867960092,619.2627456852779,619.7049501548029,620.0681416220064,620.3449881332208,620.5291881724635,620.6154384510975,620.5993744456653,620.5392954009137,620.4935501413036,620.459011695394,620.4331507453024,620.4139453081323,620.3997972627426,620.3894573486854,620.3819594012848,620.3765639172451,620.3727105600378,620.369978892919,620.3680564425133,620.3667131181793,620.3657810135539,620.3651386716718,620.3646989829274,620.364399989511,620.3641979787348,620.364062352624,620.3639718571497,620.3639118388396,620.3638722682816,620.3638463294864,620.3638294222015,620.3638184624416,620.3638113962164,620.3638068642293,620.3638039724872,620.3638021365643,620.3638009766473,620.3638002473076,620.3637997908342,620.3637995064302,620.363799330013,620.3637992210494,620.3637991540293,620.3637991129746,620.3637990879247,620.3637990726993,620.3637990634796,620.3637990579172,620.3637990545728,620.3637990525692,620.3637990513726,620.3637990506603,620.3637990502378,620.3637990499877,620.3637990498404,620.3637990497535,620.3637990497028,620.3637990496729,620.3637990496557,620.3637990496456,620.3637990496396,620.3637990496364,620.3637990496344,620.3637990496331,620.3637990496326,620.3637990496322,620.363799049632,620.363799049632,620.3637990496319,620.3637990496318,620.3637990496318,620.3637990496318,620.3637990496318,620.3637990496318,620.3637990496318,620.3637990496318,620.3637990496317,620.3637990496317,620.3637990496318,620.3637990496317,620.3637990496317,620.3637990496317,620.3637990496317,620.3637990496317,620.3637990496317,620.3637990496317],\"type\":\"scatter\"}],                        {\"template\":{\"data\":{\"histogram2dcontour\":[{\"type\":\"histogram2dcontour\",\"colorbar\":{\"outlinewidth\":0,\"ticks\":\"\"},\"colorscale\":[[0.0,\"#0d0887\"],[0.1111111111111111,\"#46039f\"],[0.2222222222222222,\"#7201a8\"],[0.3333333333333333,\"#9c179e\"],[0.4444444444444444,\"#bd3786\"],[0.5555555555555556,\"#d8576b\"],[0.6666666666666666,\"#ed7953\"],[0.7777777777777778,\"#fb9f3a\"],[0.8888888888888888,\"#fdca26\"],[1.0,\"#f0f921\"]]}],\"choropleth\":[{\"type\":\"choropleth\",\"colorbar\":{\"outlinewidth\":0,\"ticks\":\"\"}}],\"histogram2d\":[{\"type\":\"histogram2d\",\"colorbar\":{\"outlinewidth\":0,\"ticks\":\"\"},\"colorscale\":[[0.0,\"#0d0887\"],[0.1111111111111111,\"#46039f\"],[0.2222222222222222,\"#7201a8\"],[0.3333333333333333,\"#9c179e\"],[0.4444444444444444,\"#bd3786\"],[0.5555555555555556,\"#d8576b\"],[0.6666666666666666,\"#ed7953\"],[0.7777777777777778,\"#fb9f3a\"],[0.8888888888888888,\"#fdca26\"],[1.0,\"#f0f921\"]]}],\"heatmap\":[{\"type\":\"heatmap\",\"colorbar\":{\"outlinewidth\":0,\"ticks\":\"\"},\"colorscale\":[[0.0,\"#0d0887\"],[0.1111111111111111,\"#46039f\"],[0.2222222222222222,\"#7201a8\"],[0.3333333333333333,\"#9c179e\"],[0.4444444444444444,\"#bd3786\"],[0.5555555555555556,\"#d8576b\"],[0.6666666666666666,\"#ed7953\"],[0.7777777777777778,\"#fb9f3a\"],[0.8888888888888888,\"#fdca26\"],[1.0,\"#f0f921\"]]}],\"heatmapgl\":[{\"type\":\"heatmapgl\",\"colorbar\":{\"outlinewidth\":0,\"ticks\":\"\"},\"colorscale\":[[0.0,\"#0d0887\"],[0.1111111111111111,\"#46039f\"],[0.2222222222222222,\"#7201a8\"],[0.3333333333333333,\"#9c179e\"],[0.4444444444444444,\"#bd3786\"],[0.5555555555555556,\"#d8576b\"],[0.6666666666666666,\"#ed7953\"],[0.7777777777777778,\"#fb9f3a\"],[0.8888888888888888,\"#fdca26\"],[1.0,\"#f0f921\"]]}],\"contourcarpet\":[{\"type\":\"contourcarpet\",\"colorbar\":{\"outlinewidth\":0,\"ticks\":\"\"}}],\"contour\":[{\"type\":\"contour\",\"colorbar\":{\"outlinewidth\":0,\"ticks\":\"\"},\"colorscale\":[[0.0,\"#0d0887\"],[0.1111111111111111,\"#46039f\"],[0.2222222222222222,\"#7201a8\"],[0.3333333333333333,\"#9c179e\"],[0.4444444444444444,\"#bd3786\"],[0.5555555555555556,\"#d8576b\"],[0.6666666666666666,\"#ed7953\"],[0.7777777777777778,\"#fb9f3a\"],[0.8888888888888888,\"#fdca26\"],[1.0,\"#f0f921\"]]}],\"surface\":[{\"type\":\"surface\",\"colorbar\":{\"outlinewidth\":0,\"ticks\":\"\"},\"colorscale\":[[0.0,\"#0d0887\"],[0.1111111111111111,\"#46039f\"],[0.2222222222222222,\"#7201a8\"],[0.3333333333333333,\"#9c179e\"],[0.4444444444444444,\"#bd3786\"],[0.5555555555555556,\"#d8576b\"],[0.6666666666666666,\"#ed7953\"],[0.7777777777777778,\"#fb9f3a\"],[0.8888888888888888,\"#fdca26\"],[1.0,\"#f0f921\"]]}],\"mesh3d\":[{\"type\":\"mesh3d\",\"colorbar\":{\"outlinewidth\":0,\"ticks\":\"\"}}],\"scatter\":[{\"fillpattern\":{\"fillmode\":\"overlay\",\"size\":10,\"solidity\":0.2},\"type\":\"scatter\"}],\"parcoords\":[{\"type\":\"parcoords\",\"line\":{\"colorbar\":{\"outlinewidth\":0,\"ticks\":\"\"}}}],\"scatterpolargl\":[{\"type\":\"scatterpolargl\",\"marker\":{\"colorbar\":{\"outlinewidth\":0,\"ticks\":\"\"}}}],\"bar\":[{\"error_x\":{\"color\":\"#2a3f5f\"},\"error_y\":{\"color\":\"#2a3f5f\"},\"marker\":{\"line\":{\"color\":\"#E5ECF6\",\"width\":0.5},\"pattern\":{\"fillmode\":\"overlay\",\"size\":10,\"solidity\":0.2}},\"type\":\"bar\"}],\"scattergeo\":[{\"type\":\"scattergeo\",\"marker\":{\"colorbar\":{\"outlinewidth\":0,\"ticks\":\"\"}}}],\"scatterpolar\":[{\"type\":\"scatterpolar\",\"marker\":{\"colorbar\":{\"outlinewidth\":0,\"ticks\":\"\"}}}],\"histogram\":[{\"marker\":{\"pattern\":{\"fillmode\":\"overlay\",\"size\":10,\"solidity\":0.2}},\"type\":\"histogram\"}],\"scattergl\":[{\"type\":\"scattergl\",\"marker\":{\"colorbar\":{\"outlinewidth\":0,\"ticks\":\"\"}}}],\"scatter3d\":[{\"type\":\"scatter3d\",\"line\":{\"colorbar\":{\"outlinewidth\":0,\"ticks\":\"\"}},\"marker\":{\"colorbar\":{\"outlinewidth\":0,\"ticks\":\"\"}}}],\"scattermapbox\":[{\"type\":\"scattermapbox\",\"marker\":{\"colorbar\":{\"outlinewidth\":0,\"ticks\":\"\"}}}],\"scatterternary\":[{\"type\":\"scatterternary\",\"marker\":{\"colorbar\":{\"outlinewidth\":0,\"ticks\":\"\"}}}],\"scattercarpet\":[{\"type\":\"scattercarpet\",\"marker\":{\"colorbar\":{\"outlinewidth\":0,\"ticks\":\"\"}}}],\"carpet\":[{\"aaxis\":{\"endlinecolor\":\"#2a3f5f\",\"gridcolor\":\"white\",\"linecolor\":\"white\",\"minorgridcolor\":\"white\",\"startlinecolor\":\"#2a3f5f\"},\"baxis\":{\"endlinecolor\":\"#2a3f5f\",\"gridcolor\":\"white\",\"linecolor\":\"white\",\"minorgridcolor\":\"white\",\"startlinecolor\":\"#2a3f5f\"},\"type\":\"carpet\"}],\"table\":[{\"cells\":{\"fill\":{\"color\":\"#EBF0F8\"},\"line\":{\"color\":\"white\"}},\"header\":{\"fill\":{\"color\":\"#C8D4E3\"},\"line\":{\"color\":\"white\"}},\"type\":\"table\"}],\"barpolar\":[{\"marker\":{\"line\":{\"color\":\"#E5ECF6\",\"width\":0.5},\"pattern\":{\"fillmode\":\"overlay\",\"size\":10,\"solidity\":0.2}},\"type\":\"barpolar\"}],\"pie\":[{\"automargin\":true,\"type\":\"pie\"}]},\"layout\":{\"autotypenumbers\":\"strict\",\"colorway\":[\"#636efa\",\"#EF553B\",\"#00cc96\",\"#ab63fa\",\"#FFA15A\",\"#19d3f3\",\"#FF6692\",\"#B6E880\",\"#FF97FF\",\"#FECB52\"],\"font\":{\"color\":\"#2a3f5f\"},\"hovermode\":\"closest\",\"hoverlabel\":{\"align\":\"left\"},\"paper_bgcolor\":\"white\",\"plot_bgcolor\":\"#E5ECF6\",\"polar\":{\"bgcolor\":\"#E5ECF6\",\"angularaxis\":{\"gridcolor\":\"white\",\"linecolor\":\"white\",\"ticks\":\"\"},\"radialaxis\":{\"gridcolor\":\"white\",\"linecolor\":\"white\",\"ticks\":\"\"}},\"ternary\":{\"bgcolor\":\"#E5ECF6\",\"aaxis\":{\"gridcolor\":\"white\",\"linecolor\":\"white\",\"ticks\":\"\"},\"baxis\":{\"gridcolor\":\"white\",\"linecolor\":\"white\",\"ticks\":\"\"},\"caxis\":{\"gridcolor\":\"white\",\"linecolor\":\"white\",\"ticks\":\"\"}},\"coloraxis\":{\"colorbar\":{\"outlinewidth\":0,\"ticks\":\"\"}},\"colorscale\":{\"sequential\":[[0.0,\"#0d0887\"],[0.1111111111111111,\"#46039f\"],[0.2222222222222222,\"#7201a8\"],[0.3333333333333333,\"#9c179e\"],[0.4444444444444444,\"#bd3786\"],[0.5555555555555556,\"#d8576b\"],[0.6666666666666666,\"#ed7953\"],[0.7777777777777778,\"#fb9f3a\"],[0.8888888888888888,\"#fdca26\"],[1.0,\"#f0f921\"]],\"sequentialminus\":[[0.0,\"#0d0887\"],[0.1111111111111111,\"#46039f\"],[0.2222222222222222,\"#7201a8\"],[0.3333333333333333,\"#9c179e\"],[0.4444444444444444,\"#bd3786\"],[0.5555555555555556,\"#d8576b\"],[0.6666666666666666,\"#ed7953\"],[0.7777777777777778,\"#fb9f3a\"],[0.8888888888888888,\"#fdca26\"],[1.0,\"#f0f921\"]],\"diverging\":[[0,\"#8e0152\"],[0.1,\"#c51b7d\"],[0.2,\"#de77ae\"],[0.3,\"#f1b6da\"],[0.4,\"#fde0ef\"],[0.5,\"#f7f7f7\"],[0.6,\"#e6f5d0\"],[0.7,\"#b8e186\"],[0.8,\"#7fbc41\"],[0.9,\"#4d9221\"],[1,\"#276419\"]]},\"xaxis\":{\"gridcolor\":\"white\",\"linecolor\":\"white\",\"ticks\":\"\",\"title\":{\"standoff\":15},\"zerolinecolor\":\"white\",\"automargin\":true,\"zerolinewidth\":2},\"yaxis\":{\"gridcolor\":\"white\",\"linecolor\":\"white\",\"ticks\":\"\",\"title\":{\"standoff\":15},\"zerolinecolor\":\"white\",\"automargin\":true,\"zerolinewidth\":2},\"scene\":{\"xaxis\":{\"backgroundcolor\":\"#E5ECF6\",\"gridcolor\":\"white\",\"linecolor\":\"white\",\"showbackground\":true,\"ticks\":\"\",\"zerolinecolor\":\"white\",\"gridwidth\":2},\"yaxis\":{\"backgroundcolor\":\"#E5ECF6\",\"gridcolor\":\"white\",\"linecolor\":\"white\",\"showbackground\":true,\"ticks\":\"\",\"zerolinecolor\":\"white\",\"gridwidth\":2},\"zaxis\":{\"backgroundcolor\":\"#E5ECF6\",\"gridcolor\":\"white\",\"linecolor\":\"white\",\"showbackground\":true,\"ticks\":\"\",\"zerolinecolor\":\"white\",\"gridwidth\":2}},\"shapedefaults\":{\"line\":{\"color\":\"#2a3f5f\"}},\"annotationdefaults\":{\"arrowcolor\":\"#2a3f5f\",\"arrowhead\":0,\"arrowwidth\":1},\"geo\":{\"bgcolor\":\"white\",\"landcolor\":\"#E5ECF6\",\"subunitcolor\":\"white\",\"showland\":true,\"showlakes\":true,\"lakecolor\":\"white\"},\"title\":{\"x\":0.05},\"mapbox\":{\"style\":\"light\"}}},\"autosize\":false,\"width\":1000,\"height\":500,\"title\":{\"text\":\"strike: 1513.537, expiration: 0.09, amount: 0.4\"}},                        {\"responsive\": true}                    ).then(function(){\n",
       "                            \n",
       "var gd = document.getElementById('e4412151-08e3-4605-a1e5-cff4e3dddf2b');\n",
       "var x = new MutationObserver(function (mutations, observer) {{\n",
       "        var display = window.getComputedStyle(gd).display;\n",
       "        if (!display || display === 'none') {{\n",
       "            console.log([gd, 'removed!']);\n",
       "            Plotly.purge(gd);\n",
       "            observer.disconnect();\n",
       "        }}\n",
       "}});\n",
       "\n",
       "// Listen for the removal of the full notebook cells\n",
       "var notebookContainer = gd.closest('#notebook-container');\n",
       "if (notebookContainer) {{\n",
       "    x.observe(notebookContainer, {childList: true});\n",
       "}}\n",
       "\n",
       "// Listen for the clearing of the current output cell\n",
       "var outputEl = gd.closest('.output');\n",
       "if (outputEl) {{\n",
       "    x.observe(outputEl, {childList: true});\n",
       "}}\n",
       "\n",
       "                        })                };                });            </script>        </div>"
      ]
     },
     "metadata": {},
     "output_type": "display_data"
    }
   ],
   "source": [
    "fig = go.Figure()\n",
    "fig.update_layout(\n",
    "    autosize=False,\n",
    "    width=1000,\n",
    "    height=500)\n",
    "\n",
    "fig.add_trace(go.Scatter(x=prices, y=pure_usdc,\n",
    "                    mode='lines',\n",
    "                    name='pure_usdc'))\n",
    "\n",
    "fig.add_trace(go.Scatter(x=prices, y=uniswap_tvs + earned_fees,\n",
    "                    mode='lines',\n",
    "                    name=\"\"\"uniswap_tvs + fees = {} usdc\"\"\".format(earned_fees)))\n",
    "fig.add_trace(go.Scatter(x=prices, y=option_pnls,\n",
    "                    mode='lines',\n",
    "                    name='option_pnls'))\n",
    "fig.add_trace(go.Scatter(x=prices, y=uniswap_tvs + option_pnls + earned_fees,\n",
    "                    mode='lines',\n",
    "                    name='uniswap_tvs + option_pnls + fees'))\n",
    "fig.update_layout(title_text='strike: {}, expiration: {}, amount: {}'.format(round(optimal_option.strike, 3), \n",
    "                                                                             optimal_option.expiration,\n",
    "                                                                             round(optimal_option.amount, 3)))\n",
    "\n",
    "\n",
    "\n"
   ]
  },
  {
   "cell_type": "code",
   "execution_count": 977,
   "id": "4f60aa08-74a0-48ef-abbe-a42d3818bfbe",
   "metadata": {},
   "outputs": [
    {
     "name": "stdout",
     "output_type": "stream",
     "text": [
      "\n",
      "        isCall: False\n",
      "        expiration: 0.08276240519387904\n",
      "        strike: 1513.537363811607\n",
      "        amount: 0.48431167711653755\n",
      "        initial cost: 49.20795032812645 \n",
      "        ---\n",
      "        uniswap_position: lower_price: 1400, upper_price: 1700,\n",
      "        initial_price: 1532.16, period_in_years: 0.08213552361396304\n",
      "        \n"
     ]
    }
   ],
   "source": [
    "print(optimal_option)"
   ]
  },
  {
   "cell_type": "code",
   "execution_count": null,
   "id": "5c21312e-7c6d-4ede-a532-4377d01d4f44",
   "metadata": {},
   "outputs": [],
   "source": []
  },
  {
   "cell_type": "code",
   "execution_count": 159,
   "id": "78b900c3-9efc-4bd0-b769-5e9a88f7c485",
   "metadata": {},
   "outputs": [],
   "source": [
    "def plot_smile():\n",
    "    #strikes\n",
    "    Kn = F * np.linspace(0.5, 2.6, 32)\n",
    "    c0, iv0 = sabr_0( Kn, F, T )\n",
    "    plt.figure(figsize=(15, 8))\n",
    "    ax1 = plt.subplot(2, 2, 1)\n",
    "    ax1.plot(Kn, c0)\n",
    "    ax1.grid()\n",
    "    ax1.set_title(\"Option price\", fontsize=15)\n",
    "    ax1.set_xlabel(\"strike\", fontsize=12)\n",
    "\n",
    "    ax2 = plt.subplot(2, 2, 2)\n",
    "    ax2.plot(Kn, iv0)\n",
    "    ax2.grid()\n",
    "    ax2.set_title(\"IV\", fontsize=15)\n",
    "    ax2.set_xlabel(\"strike\", fontsize=12)\n",
    "\n",
    "    plt.show()\n",
    "    None"
   ]
  },
  {
   "cell_type": "code",
   "execution_count": null,
   "id": "dc4f8306-20d8-4f03-8fd8-86d1a3443f86",
   "metadata": {},
   "outputs": [],
   "source": []
  },
  {
   "cell_type": "code",
   "execution_count": null,
   "id": "06c67966-9b07-405f-b8da-f326795dc1c1",
   "metadata": {},
   "outputs": [],
   "source": []
  },
  {
   "cell_type": "code",
   "execution_count": null,
   "id": "043e3567-6fe6-4ee0-9c3a-eb8d392f0efe",
   "metadata": {},
   "outputs": [],
   "source": []
  },
  {
   "cell_type": "code",
   "execution_count": null,
   "id": "2d6eaf92-68cf-455f-8a54-f0a1688a5d73",
   "metadata": {},
   "outputs": [],
   "source": []
  }
 ],
 "metadata": {
  "kernelspec": {
   "display_name": "Python 3 (ipykernel)",
   "language": "python",
   "name": "python3"
  },
  "language_info": {
   "codemirror_mode": {
    "name": "ipython",
    "version": 3
   },
   "file_extension": ".py",
   "mimetype": "text/x-python",
   "name": "python",
   "nbconvert_exporter": "python",
   "pygments_lexer": "ipython3",
   "version": "3.8.16"
  }
 },
 "nbformat": 4,
 "nbformat_minor": 5
}
