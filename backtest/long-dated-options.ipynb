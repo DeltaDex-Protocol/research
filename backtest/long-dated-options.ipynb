{
 "cells": [
  {
   "cell_type": "code",
   "execution_count": 2,
   "id": "53d2bc01-f976-4f40-9af9-775003611c3a",
   "metadata": {},
   "outputs": [],
   "source": [
    "from sabr import SABR\n",
    "from sabr_calibration import SABRCalibrator"
   ]
  },
  {
   "cell_type": "code",
   "execution_count": 3,
   "id": "82159e85-a0d0-4e96-bdc4-ee7a97400503",
   "metadata": {},
   "outputs": [],
   "source": [
    "from deltadex_calibration import calibrate_sabr\n",
    "from deribit_parser import GetOptionMeta"
   ]
  },
  {
   "cell_type": "code",
   "execution_count": 4,
   "id": "bcf905b1-1c83-4701-a054-58b21c5f3c3f",
   "metadata": {},
   "outputs": [],
   "source": [
    "import numpy as np\n",
    "from matplotlib import pyplot as plt\n",
    "import plotly.express as px\n",
    "import plotly.graph_objects as go\n"
   ]
  },
  {
   "cell_type": "code",
   "execution_count": 5,
   "id": "2cb2e1f5-1472-4831-a508-27da2e134426",
   "metadata": {},
   "outputs": [
    {
     "data": {
      "text/plain": [
       "<module 'uniswap_v3_liquidity_math' from '/Users/kirillbogomolov/Desktop/DeltaDex-Protocol/research-branch-main/backtest/uniswap_v3_liquidity_math.py'>"
      ]
     },
     "execution_count": 5,
     "metadata": {},
     "output_type": "execute_result"
    }
   ],
   "source": [
    "import uniswap_v3_liquidity_math as uniswap_math\n",
    "\n",
    "import importlib\n",
    "importlib.reload(uniswap_math)"
   ]
  },
  {
   "cell_type": "code",
   "execution_count": 6,
   "id": "9653f7c7-3bef-439e-90ad-b2cb2cad1b7b",
   "metadata": {},
   "outputs": [],
   "source": [
    "class UniswapPosition:\n",
    "    def __init__(self, lower_price, upper_price, initial_price, initial_token1_amount, period_in_years):\n",
    "        self.lower_price = lower_price\n",
    "        self.upper_price = upper_price\n",
    "        self.initial_price = initial_price\n",
    "        self.initial_token1_amount = initial_token1_amount\n",
    "        self.period_in_years = period_in_years\n",
    "    \n",
    "    def get_tokens_amounts(self, price):\n",
    "        return uniswap_math.get_tokens_amounts(initial_price = self.initial_price, \n",
    "                                lowerPrice = self.lower_price, upperPrice = self.upper_price, \n",
    "                                initial_y = self.initial_token1_amount, currentPrice = price)\n",
    "    \n",
    "    def get_total_value(self, price):\n",
    "        x, y = self.get_tokens_amounts(price)\n",
    "        return x * price + y"
   ]
  },
  {
   "cell_type": "markdown",
   "id": "cf727282-adf6-4524-94b7-aa02e2dd8303",
   "metadata": {},
   "source": [
    "### Optimal option"
   ]
  },
  {
   "cell_type": "code",
   "execution_count": 750,
   "id": "430e9493-7512-4899-b2ef-4f6d3a9a2a55",
   "metadata": {},
   "outputs": [],
   "source": [
    "class OptimalOption:\n",
    "    def __init__(self, sabr_model: SABR, \n",
    "                 uniswap_position: UniswapPosition,\n",
    "                 expiration: float,\n",
    "                 strike: float,\n",
    "                 amount: float,\n",
    "                 isCall: bool = False):\n",
    "        \n",
    "        self.sabr_model = sabr_model\n",
    "        self.uniswap_position = uniswap_position\n",
    "        \n",
    "        self.isCall = False\n",
    "        # self.expiration = (1.01 * uniswap_position.period_in_years)\n",
    "        self.expiration = expiration\n",
    "        self.strike = strike\n",
    "        # self.strike = (uniswap_position.lower_price * uniswap_position.upper_price) ** 0.5\n",
    "        self.amount = amount\n",
    "        self.initial_cost = self.amount * self.sabr_model(self.strike, \n",
    "                                                self.uniswap_position.initial_price, \n",
    "                                                self.expiration, \n",
    "                                                self.isCall)[0]\n",
    "    \n",
    "    def update_option_params(self, strike, expiration, amount):\n",
    "        self.strike = strike\n",
    "        self.expiration = expiration\n",
    "        self.amount = amount\n",
    "        self.initial_cost = self.amount * self.sabr_model(self.strike, \n",
    "                                                self.uniswap_position.initial_price, \n",
    "                                                self.expiration, \n",
    "                                                self.isCall)[0]\n",
    "        # print(self.initial_cost)\n",
    "        \n",
    "    def find_optimal_option(self):\n",
    "        \n",
    "        prices = np.array([price for price in range(500, 4000, 10 )])\n",
    "        \n",
    "        from scipy.optimize import minimize\n",
    "        \n",
    "        def _find_optimal_option(x):\n",
    "            strike, expiration, amount = x\n",
    "            self.update_option_params(strike, expiration-0.001, amount)\n",
    "            \n",
    "            initial_tv = self.uniswap_position.get_total_value(self.uniswap_position.initial_price)\n",
    "            uniswap_tvs = np.array([self.uniswap_position.get_total_value(price) for price in prices])\n",
    "            \n",
    "            loss = ((self.calculate_hedged_position(prices) + \n",
    "                    uniswap_tvs - \n",
    "                    (initial_tv + self.initial_cost)) ** 2).mean() \n",
    "                    # (initial_tv + self.initial_cost) as it's the value involved\n",
    "            \n",
    "            return loss\n",
    "        \n",
    "        x0 = np.array([self.strike, self.expiration, self.amount])\n",
    "        res = minimize(_find_optimal_option, x0, method='nelder-mead',\n",
    "                       options={'xatol': 1e-8, 'disp': True})\n",
    "        \n",
    "        strike, expiration, amount = res.x\n",
    "        \n",
    "        print('strike: {}, expiration: {}, amount: {}'.format(strike, expiration, amount))\n",
    "    \n",
    "    \n",
    "    def calculate_hedged_position(self, prices):\n",
    "        \n",
    "        def calculate_pnl(price, strike):\n",
    "            if self.isCall == True:\n",
    "                return max(price - strike, 0)\n",
    "            if self.isCall == False:\n",
    "                return max(strike - price, 0)\n",
    "        \n",
    "        option_pnls = self.amount * np.array([calculate_pnl(price, self.strike) + (self.sabr_model(self.strike, \n",
    "                                                    price + 0.0001, # otherwise a bug appears \n",
    "                                                    (self.expiration - self.uniswap_position.period_in_years), \n",
    "                                                    self.isCall)[0] - self.initial_cost) for price in prices])\n",
    "        return option_pnls\n",
    "    \n",
    "    def __repr__(self):\n",
    "        return (\"\"\"\n",
    "        isCall: {}\n",
    "        expiration: {}\n",
    "        strike: {}\n",
    "        amount: {}\n",
    "        initial cost: {} \n",
    "        ---\n",
    "        uniswap_position: lower_price: {}, upper_price: {},\n",
    "        initial_price: {}, period_in_years: {}\n",
    "        \"\"\".format(self.isCall, \n",
    "                    self.expiration,\n",
    "                    self.strike,\n",
    "                    self.amount,\n",
    "                    self.initial_cost,\n",
    "                    self.uniswap_position.lower_price,\n",
    "                    self.uniswap_position.upper_price,\n",
    "                    self.uniswap_position.initial_price,\n",
    "                    self.uniswap_position.period_in_years))\n",
    "    "
   ]
  },
  {
   "cell_type": "markdown",
   "id": "1226a2ce-4293-422e-acf2-4656a617836b",
   "metadata": {},
   "source": [
    "### Calibration"
   ]
  },
  {
   "cell_type": "code",
   "execution_count": 751,
   "id": "b78aeb97-b5d7-42ab-8c1b-5dce2d714b82",
   "metadata": {},
   "outputs": [],
   "source": [
    "OptionMeta = GetOptionMeta()['Expiry']\n",
    "expiries = list(map(lambda expiry: (expiry[:-5] + \"/\" + expiry[-5:-2] + \"/\" + expiry[-2:]), OptionMeta))\n"
   ]
  },
  {
   "cell_type": "code",
   "execution_count": 752,
   "id": "ef6e2c01-0354-43e9-941f-ff34a2982323",
   "metadata": {},
   "outputs": [
    {
     "data": {
      "text/plain": [
       "['3/MAR/23',\n",
       " '30/JUN/23',\n",
       " '11/FEB/23',\n",
       " '29/DEC/23',\n",
       " '31/MAR/23',\n",
       " '17/FEB/23',\n",
       " '24/FEB/23',\n",
       " '29/SEP/23',\n",
       " '12/FEB/23',\n",
       " '28/APR/23']"
      ]
     },
     "execution_count": 752,
     "metadata": {},
     "output_type": "execute_result"
    }
   ],
   "source": [
    "expiries"
   ]
  },
  {
   "cell_type": "code",
   "execution_count": 753,
   "id": "d597e625-4b35-4fd7-8980-06db6fee23f6",
   "metadata": {},
   "outputs": [
    {
     "data": {
      "text/plain": [
       "'29/SEP/23'"
      ]
     },
     "execution_count": 753,
     "metadata": {},
     "output_type": "execute_result"
    }
   ],
   "source": [
    "expiry = expiries[-3]\n",
    "expiry"
   ]
  },
  {
   "cell_type": "code",
   "execution_count": 754,
   "id": "015a40f2-4889-4714-b1b9-fd46cad27b74",
   "metadata": {},
   "outputs": [
    {
     "name": "stderr",
     "output_type": "stream",
     "text": [
      "/Users/kirillbogomolov/Desktop/DeltaDex-Protocol/research-branch-main/backtest/deribit_parser.py:29: RuntimeWarning:\n",
      "\n",
      "divide by zero encountered in double_scalars\n",
      "\n"
     ]
    },
    {
     "name": "stdout",
     "output_type": "stream",
     "text": [
      "db updated 2023-02-11 00:35:36.390116\n"
     ]
    },
    {
     "name": "stderr",
     "output_type": "stream",
     "text": [
      "100%|███████████████████████████████████████| 500/500 [00:00<00:00, 4581.15it/s]"
     ]
    },
    {
     "name": "stdout",
     "output_type": "stream",
     "text": [
      "optimized parameters:\n",
      "('alpha ', 6.69661)\n",
      "('v ', 0.85512)\n",
      "('beta  ', 0.67626)\n",
      "('rho', 0.08399)\n"
     ]
    },
    {
     "name": "stderr",
     "output_type": "stream",
     "text": [
      "\n"
     ]
    }
   ],
   "source": [
    "sabr, underlying_price = calibrate_sabr(SELECTED_EXPIRY = expiry)\n"
   ]
  },
  {
   "cell_type": "code",
   "execution_count": 755,
   "id": "dcfec6fe-e71f-4517-8c22-e3f22319e66e",
   "metadata": {},
   "outputs": [],
   "source": [
    "# sabr.r = 0.1"
   ]
  },
  {
   "cell_type": "code",
   "execution_count": 756,
   "id": "bf9d4b25-dd82-4654-b673-8bbf2286e5e8",
   "metadata": {},
   "outputs": [
    {
     "name": "stdout",
     "output_type": "stream",
     "text": [
      "1535.47\n"
     ]
    }
   ],
   "source": [
    "print(underlying_price)"
   ]
  },
  {
   "cell_type": "code",
   "execution_count": 757,
   "id": "1609de94-769b-48de-8908-2fe5fe6617b6",
   "metadata": {},
   "outputs": [],
   "source": [
    "uniswap_position = UniswapPosition(lower_price = 1400, \n",
    "                                   upper_price = 1700,\n",
    "                                   initial_price = underlying_price, \n",
    "                                   initial_token1_amount = 300,    # usdcs\n",
    "                                   period_in_years = 30 / 365.25)\n"
   ]
  },
  {
   "cell_type": "code",
   "execution_count": 758,
   "id": "65f3c472-9cdc-43e9-b890-53893835ca18",
   "metadata": {},
   "outputs": [
    {
     "name": "stdout",
     "output_type": "stream",
     "text": [
      "629.8483915326381\n",
      "(0.21481917037300505, 300.0)\n"
     ]
    }
   ],
   "source": [
    "print(uniswap_position.get_total_value(uniswap_position.initial_price))\n",
    "print(uniswap_position.get_tokens_amounts(uniswap_position.initial_price))"
   ]
  },
  {
   "cell_type": "code",
   "execution_count": 759,
   "id": "369e261d-73f8-4d2e-b6a6-803962aa94eb",
   "metadata": {},
   "outputs": [],
   "source": [
    "# #sabr model parameters\n",
    "# alpha = 0.2\n",
    "# v = 0.9\n",
    "# beta = 0.9\n",
    "# rho = -0.5\n",
    "\n",
    "# sabr_params_0 = np.asarray([alpha, v, beta, rho])"
   ]
  },
  {
   "cell_type": "code",
   "execution_count": 760,
   "id": "c611f6af-4332-4e46-a3b0-7497c7ef6673",
   "metadata": {},
   "outputs": [],
   "source": [
    "# r = 0.1\n",
    "#sabr model\n",
    "# sabr_0 = SABR(sabr_params_0, r)"
   ]
  },
  {
   "cell_type": "code",
   "execution_count": 761,
   "id": "cb97e43c-133c-4dbe-b4c8-6a5a99803150",
   "metadata": {},
   "outputs": [],
   "source": [
    "strike = 1650\n",
    "expiration_in_years = 75 / 365.25\n",
    "amount = 0.2"
   ]
  },
  {
   "cell_type": "code",
   "execution_count": 762,
   "id": "acbcbd66-5735-4b7d-a15d-01aa43d62174",
   "metadata": {},
   "outputs": [],
   "source": [
    "optimal_option = OptimalOption(sabr, \n",
    "                               uniswap_position, \n",
    "                               expiration_in_years, \n",
    "                               strike, \n",
    "                               amount, \n",
    "                               isCall = False)"
   ]
  },
  {
   "cell_type": "code",
   "execution_count": 763,
   "id": "4c3ea415-5a50-47d1-9fcb-83f70356c729",
   "metadata": {},
   "outputs": [
    {
     "name": "stderr",
     "output_type": "stream",
     "text": [
      "/Users/kirillbogomolov/Desktop/DeltaDex-Protocol/research-branch-main/backtest/black_scholes.py:74: RuntimeWarning:\n",
      "\n",
      "invalid value encountered in sqrt\n",
      "\n",
      "/Users/kirillbogomolov/Desktop/DeltaDex-Protocol/research-branch-main/backtest/black_scholes.py:75: RuntimeWarning:\n",
      "\n",
      "invalid value encountered in sqrt\n",
      "\n"
     ]
    },
    {
     "name": "stdout",
     "output_type": "stream",
     "text": [
      "strike: 1505.2674489458204, expiration: 0.08313552479693853, amount: 0.2245924263835023\n"
     ]
    },
    {
     "name": "stderr",
     "output_type": "stream",
     "text": [
      "/var/folders/8t/1dvfc69d0l3137hz8kyzv__80000gn/T/ipykernel_45975/2878749619.py:54: RuntimeWarning:\n",
      "\n",
      "Maximum number of function evaluations has been exceeded.\n",
      "\n"
     ]
    }
   ],
   "source": [
    "optimal_option.find_optimal_option()"
   ]
  },
  {
   "cell_type": "code",
   "execution_count": 764,
   "id": "ada78d60-e6b0-4a3d-ba20-b9728da5e29f",
   "metadata": {},
   "outputs": [],
   "source": [
    "prices = np.array([price for price in range(500, 2500, 10 )])\n"
   ]
  },
  {
   "cell_type": "code",
   "execution_count": 765,
   "id": "99b4b72b-94a7-44ad-b485-48a1d0c7ed8b",
   "metadata": {},
   "outputs": [
    {
     "data": {
      "text/plain": [
       "[<matplotlib.lines.Line2D at 0x28933b190>]"
      ]
     },
     "execution_count": 765,
     "metadata": {},
     "output_type": "execute_result"
    },
    {
     "data": {
      "image/png": "[encoded data removed]",
      "text/plain": [
       "<Figure size 640x480 with 1 Axes>"
      ]
     },
     "metadata": {},
     "output_type": "display_data"
    }
   ],
   "source": [
    "plt.plot(prices, optimal_option.calculate_hedged_position(prices))"
   ]
  },
  {
   "cell_type": "code",
   "execution_count": 766,
   "id": "6e16a93a-420b-4e8d-9fde-6d17f890e9e9",
   "metadata": {},
   "outputs": [
    {
     "name": "stdout",
     "output_type": "stream",
     "text": [
      "1505.2674489458204 1535.47 29.979466550882563\n"
     ]
    }
   ],
   "source": [
    "print(optimal_option.strike, optimal_option.uniswap_position.initial_price, optimal_option.expiration * 365)"
   ]
  },
  {
   "cell_type": "code",
   "execution_count": 781,
   "id": "e292b06c-c26f-4f3c-9b8a-ccd1b07a6794",
   "metadata": {},
   "outputs": [
    {
     "data": {
      "text/plain": [
       "187.7197085519423"
      ]
     },
     "execution_count": 781,
     "metadata": {},
     "output_type": "execute_result"
    }
   ],
   "source": [
    "optimal_option.sabr_model(1600, \n",
    "                                                1515, \n",
    "                                                48/365.25, \n",
    "                                                False)[0]"
   ]
  },
  {
   "cell_type": "code",
   "execution_count": 770,
   "id": "8430a103-a778-4d3c-91f9-3bf5dc8893be",
   "metadata": {},
   "outputs": [
    {
     "data": {
      "text/plain": [
       "29.979466550882563"
      ]
     },
     "execution_count": 770,
     "metadata": {},
     "output_type": "execute_result"
    }
   ],
   "source": [
    "optimal_option.expiration * 365"
   ]
  },
  {
   "cell_type": "code",
   "execution_count": 771,
   "id": "1a37d882-fcb5-4330-a628-89d4569f9541",
   "metadata": {},
   "outputs": [
    {
     "name": "stdout",
     "output_type": "stream",
     "text": [
      "\n",
      "        isCall: False\n",
      "        expiration: 0.08213552479693853\n",
      "        strike: 1505.2674489458204\n",
      "        amount: 0.2245924263835023\n",
      "        initial cost: 21.23136882426636 \n",
      "        ---\n",
      "        uniswap_position: lower_price: 1400, upper_price: 1700,\n",
      "        initial_price: 1535.47, period_in_years: 0.08213552361396304\n",
      "        \n"
     ]
    }
   ],
   "source": [
    "print(optimal_option)"
   ]
  },
  {
   "cell_type": "code",
   "execution_count": 772,
   "id": "e90b6dd0-7962-4523-8523-abf7de6bfe1e",
   "metadata": {},
   "outputs": [],
   "source": [
    "prices = np.array([price for price in range(500, 2500, 10 )])\n",
    "\n",
    "pure_usdc = np.array([optimal_option.initial_cost + \n",
    "                      uniswap_position.get_total_value(uniswap_position.initial_price) for _ in prices])"
   ]
  },
  {
   "cell_type": "code",
   "execution_count": 773,
   "id": "ab9d69dc-acf6-4d0f-9ec9-2318642b7446",
   "metadata": {},
   "outputs": [
    {
     "data": {
      "text/plain": [
       "21.23136882426636"
      ]
     },
     "execution_count": 773,
     "metadata": {},
     "output_type": "execute_result"
    }
   ],
   "source": [
    "optimal_option.initial_cost"
   ]
  },
  {
   "cell_type": "code",
   "execution_count": 774,
   "id": "b24d0824-e4a0-4c01-9a57-0bd9c75c6b99",
   "metadata": {},
   "outputs": [],
   "source": [
    "uniswap_tvs = np.array([uniswap_position.get_total_value(price) for price in prices])\n",
    "option_pnls = optimal_option.calculate_hedged_position(prices)\n"
   ]
  },
  {
   "cell_type": "code",
   "execution_count": 775,
   "id": "304456ac-caec-46d0-a3cd-66fdc30bbab5",
   "metadata": {},
   "outputs": [],
   "source": [
    "earned_fees = 0 # in usdc"
   ]
  },
  {
   "cell_type": "code",
   "execution_count": 776,
   "id": "7cab6a00-ce8b-42d4-82fc-eec733747a08",
   "metadata": {},
   "outputs": [],
   "source": [
    "# pure_usdc"
   ]
  },
  {
   "cell_type": "code",
   "execution_count": 777,
   "id": "411e6925-8420-44fc-b10f-7d38d82ae170",
   "metadata": {},
   "outputs": [],
   "source": [
    "# uniswap_tvs"
   ]
  },
  {
   "cell_type": "code",
   "execution_count": 778,
   "id": "bc88d283-a1dd-4463-8f25-28f86e055032",
   "metadata": {
    "tags": []
   },
   "outputs": [
    {
     "data": {
      "application/vnd.plotly.v1+json": {
       "config": {
        "plotlyServerURL": "https://plot.ly"
       },
       "data": [
        {
         "mode": "lines",
         "name": "pure_usdc",
         "type": "scatter",
         "x": [
          500,
          510,
          520,
          530,
          540,
          550,
          560,
          570,
          580,
          590,
          600,
          610,
          620,
          630,
          640,
          650,
          660,
          670,
          680,
          690,
          700,
          710,
          720,
          730,
          740,
          750,
          760,
          770,
          780,
          790,
          800,
          810,
          820,
          830,
          840,
          850,
          860,
          870,
          880,
          890,
          900,
          910,
          920,
          930,
          940,
          950,
          960,
          970,
          980,
          990,
          1000,
          1010,
          1020,
          1030,
          1040,
          1050,
          1060,
          1070,
          1080,
          1090,
          1100,
          1110,
          1120,
          1130,
          1140,
          1150,
          1160,
          1170,
          1180,
          1190,
          1200,
          1210,
          1220,
          1230,
          1240,
          1250,
          1260,
          1270,
          1280,
          1290,
          1300,
          1310,
          1320,
          1330,
          1340,
          1350,
          1360,
          1370,
          1380,
          1390,
          1400,
          1410,
          1420,
          1430,
          1440,
          1450,
          1460,
          1470,
          1480,
          1490,
          1500,
          1510,
          1520,
          1530,
          1540,
          1550,
          1560,
          1570,
          1580,
          1590,
          1600,
          1610,
          1620,
          1630,
          1640,
          1650,
          1660,
          1670,
          1680,
          1690,
          1700,
          1710,
          1720,
          1730,
          1740,
          1750,
          1760,
          1770,
          1780,
          1790,
          1800,
          1810,
          1820,
          1830,
          1840,
          1850,
          1860,
          1870,
          1880,
          1890,
          1900,
          1910,
          1920,
          1930,
          1940,
          1950,
          1960,
          1970,
          1980,
          1990,
          2000,
          2010,
          2020,
          2030,
          2040,
          2050,
          2060,
          2070,
          2080,
          2090,
          2100,
          2110,
          2120,
          2130,
          2140,
          2150,
          2160,
          2170,
          2180,
          2190,
          2200,
          2210,
          2220,
          2230,
          2240,
          2250,
          2260,
          2270,
          2280,
          2290,
          2300,
          2310,
          2320,
          2330,
          2340,
          2350,
          2360,
          2370,
          2380,
          2390,
          2400,
          2410,
          2420,
          2430,
          2440,
          2450,
          2460,
          2470,
          2480,
          2490
         ],
         "y": [
          651.0797603569044,
          651.0797603569044,
          651.0797603569044,
          651.0797603569044,
          651.0797603569044,
          651.0797603569044,
          651.0797603569044,
          651.0797603569044,
          651.0797603569044,
          651.0797603569044,
          651.0797603569044,
          651.0797603569044,
          651.0797603569044,
          651.0797603569044,
          651.0797603569044,
          651.0797603569044,
          651.0797603569044,
          651.0797603569044,
          651.0797603569044,
          651.0797603569044,
          651.0797603569044,
          651.0797603569044,
          651.0797603569044,
          651.0797603569044,
          651.0797603569044,
          651.0797603569044,
          651.0797603569044,
          651.0797603569044,
          651.0797603569044,
          651.0797603569044,
          651.0797603569044,
          651.0797603569044,
          651.0797603569044,
          651.0797603569044,
          651.0797603569044,
          651.0797603569044,
          651.0797603569044,
          651.0797603569044,
          651.0797603569044,
          651.0797603569044,
          651.0797603569044,
          651.0797603569044,
          651.0797603569044,
          651.0797603569044,
          651.0797603569044,
          651.0797603569044,
          651.0797603569044,
          651.0797603569044,
          651.0797603569044,
          651.0797603569044,
          651.0797603569044,
          651.0797603569044,
          651.0797603569044,
          651.0797603569044,
          651.0797603569044,
          651.0797603569044,
          651.0797603569044,
          651.0797603569044,
          651.0797603569044,
          651.0797603569044,
          651.0797603569044,
          651.0797603569044,
          651.0797603569044,
          651.0797603569044,
          651.0797603569044,
          651.0797603569044,
          651.0797603569044,
          651.0797603569044,
          651.0797603569044,
          651.0797603569044,
          651.0797603569044,
          651.0797603569044,
          651.0797603569044,
          651.0797603569044,
          651.0797603569044,
          651.0797603569044,
          651.0797603569044,
          651.0797603569044,
          651.0797603569044,
          651.0797603569044,
          651.0797603569044,
          651.0797603569044,
          651.0797603569044,
          651.0797603569044,
          651.0797603569044,
          651.0797603569044,
          651.0797603569044,
          651.0797603569044,
          651.0797603569044,
          651.0797603569044,
          651.0797603569044,
          651.0797603569044,
          651.0797603569044,
          651.0797603569044,
          651.0797603569044,
          651.0797603569044,
          651.0797603569044,
          651.0797603569044,
          651.0797603569044,
          651.0797603569044,
          651.0797603569044,
          651.0797603569044,
          651.0797603569044,
          651.0797603569044,
          651.0797603569044,
          651.0797603569044,
          651.0797603569044,
          651.0797603569044,
          651.0797603569044,
          651.0797603569044,
          651.0797603569044,
          651.0797603569044,
          651.0797603569044,
          651.0797603569044,
          651.0797603569044,
          651.0797603569044,
          651.0797603569044,
          651.0797603569044,
          651.0797603569044,
          651.0797603569044,
          651.0797603569044,
          651.0797603569044,
          651.0797603569044,
          651.0797603569044,
          651.0797603569044,
          651.0797603569044,
          651.0797603569044,
          651.0797603569044,
          651.0797603569044,
          651.0797603569044,
          651.0797603569044,
          651.0797603569044,
          651.0797603569044,
          651.0797603569044,
          651.0797603569044,
          651.0797603569044,
          651.0797603569044,
          651.0797603569044,
          651.0797603569044,
          651.0797603569044,
          651.0797603569044,
          651.0797603569044,
          651.0797603569044,
          651.0797603569044,
          651.0797603569044,
          651.0797603569044,
          651.0797603569044,
          651.0797603569044,
          651.0797603569044,
          651.0797603569044,
          651.0797603569044,
          651.0797603569044,
          651.0797603569044,
          651.0797603569044,
          651.0797603569044,
          651.0797603569044,
          651.0797603569044,
          651.0797603569044,
          651.0797603569044,
          651.0797603569044,
          651.0797603569044,
          651.0797603569044,
          651.0797603569044,
          651.0797603569044,
          651.0797603569044,
          651.0797603569044,
          651.0797603569044,
          651.0797603569044,
          651.0797603569044,
          651.0797603569044,
          651.0797603569044,
          651.0797603569044,
          651.0797603569044,
          651.0797603569044,
          651.0797603569044,
          651.0797603569044,
          651.0797603569044,
          651.0797603569044,
          651.0797603569044,
          651.0797603569044,
          651.0797603569044,
          651.0797603569044,
          651.0797603569044,
          651.0797603569044,
          651.0797603569044,
          651.0797603569044,
          651.0797603569044,
          651.0797603569044,
          651.0797603569044,
          651.0797603569044,
          651.0797603569044,
          651.0797603569044,
          651.0797603569044,
          651.0797603569044,
          651.0797603569044,
          651.0797603569044,
          651.0797603569044,
          651.0797603569044,
          651.0797603569044,
          651.0797603569044
         ]
        },
        {
         "mode": "lines",
         "name": "uniswap_tvs + option initial cost + fees = 0 usdc",
         "type": "scatter",
         "x": [
          500,
          510,
          520,
          530,
          540,
          550,
          560,
          570,
          580,
          590,
          600,
          610,
          620,
          630,
          640,
          650,
          660,
          670,
          680,
          690,
          700,
          710,
          720,
          730,
          740,
          750,
          760,
          770,
          780,
          790,
          800,
          810,
          820,
          830,
          840,
          850,
          860,
          870,
          880,
          890,
          900,
          910,
          920,
          930,
          940,
          950,
          960,
          970,
          980,
          990,
          1000,
          1010,
          1020,
          1030,
          1040,
          1050,
          1060,
          1070,
          1080,
          1090,
          1100,
          1110,
          1120,
          1130,
          1140,
          1150,
          1160,
          1170,
          1180,
          1190,
          1200,
          1210,
          1220,
          1230,
          1240,
          1250,
          1260,
          1270,
          1280,
          1290,
          1300,
          1310,
          1320,
          1330,
          1340,
          1350,
          1360,
          1370,
          1380,
          1390,
          1400,
          1410,
          1420,
          1430,
          1440,
          1450,
          1460,
          1470,
          1480,
          1490,
          1500,
          1510,
          1520,
          1530,
          1540,
          1550,
          1560,
          1570,
          1580,
          1590,
          1600,
          1610,
          1620,
          1630,
          1640,
          1650,
          1660,
          1670,
          1680,
          1690,
          1700,
          1710,
          1720,
          1730,
          1740,
          1750,
          1760,
          1770,
          1780,
          1790,
          1800,
          1810,
          1820,
          1830,
          1840,
          1850,
          1860,
          1870,
          1880,
          1890,
          1900,
          1910,
          1920,
          1930,
          1940,
          1950,
          1960,
          1970,
          1980,
          1990,
          2000,
          2010,
          2020,
          2030,
          2040,
          2050,
          2060,
          2070,
          2080,
          2090,
          2100,
          2110,
          2120,
          2130,
          2140,
          2150,
          2160,
          2170,
          2180,
          2190,
          2200,
          2210,
          2220,
          2230,
          2240,
          2250,
          2260,
          2270,
          2280,
          2290,
          2300,
          2310,
          2320,
          2330,
          2340,
          2350,
          2360,
          2370,
          2380,
          2390,
          2400,
          2410,
          2420,
          2430,
          2440,
          2450,
          2460,
          2470,
          2480,
          2490
         ],
         "y": [
          230.94824225322742,
          235.14257972180664,
          239.33691719038586,
          243.53125465896508,
          247.7255921275443,
          251.91992959612352,
          256.11426706470274,
          260.308604533282,
          264.5029420018612,
          268.69727947044044,
          272.8916169390196,
          277.0859544075989,
          281.28029187617807,
          285.4746293447573,
          289.6689668133365,
          293.86330428191576,
          298.057641750495,
          302.2519792190742,
          306.44631668765345,
          310.64065415623264,
          314.8349916248119,
          319.0293290933911,
          323.22366656197033,
          327.4180040305495,
          331.6123414991288,
          335.80667896770797,
          340.0010164362872,
          344.1953539048664,
          348.38969137344566,
          352.58402884202485,
          356.7783663106041,
          360.9727037791833,
          365.16704124776254,
          369.36137871634173,
          373.555716184921,
          377.7500536535002,
          381.9443911220794,
          386.1387285906586,
          390.33306605923786,
          394.52740352781706,
          398.7217409963963,
          402.9160784649755,
          407.11041593355475,
          411.30475340213394,
          415.4990908707132,
          419.6934283392924,
          423.88776580787163,
          428.0821032764508,
          432.2764407450301,
          436.47077821360926,
          440.6651156821885,
          444.8594531507677,
          449.05379061934696,
          453.24812808792615,
          457.4424655565054,
          461.6368030250846,
          465.83114049366384,
          470.02547796224303,
          474.2198154308223,
          478.4141528994015,
          482.6084903679807,
          486.8028278365599,
          490.99716530513916,
          495.19150277371836,
          499.3858402422976,
          503.5801777108768,
          507.77451517945605,
          511.96885264803524,
          516.1631901166145,
          520.3575275851937,
          524.5518650537729,
          528.7462025223521,
          532.9405399909314,
          537.1348774595106,
          541.3292149280898,
          545.5235523966691,
          549.7178898652483,
          553.9122273338274,
          558.1065648024066,
          562.300902270986,
          566.4952397395651,
          570.6895772081443,
          574.8839146767236,
          579.0782521453028,
          583.272589613882,
          587.4669270824612,
          591.6612645510405,
          595.8556020196197,
          600.0499394881989,
          604.2442769567781,
          608.4386144253574,
          612.5522809244695,
          616.5057467283626,
          620.3007011500333,
          623.9388040199418,
          627.4216864013789,
          630.7509512836698,
          633.9281742540473,
          636.9549041489925,
          639.8326636858023,
          642.5629500751168,
          645.1472356150982,
          647.5869682679327,
          649.8835722192914,
          652.0384484213644,
          654.0529751200503,
          655.9285083668659,
          657.6663825161118,
          659.26791070781,
          660.7343853369096,
          662.0670785092319,
          663.2672424846129,
          664.3361101076781,
          665.2748952266699,
          666.0847931007288,
          666.7669807960176,
          667.3226175710563,
          667.7528452516281,
          668.058788595597,
          668.2415556479687,
          668.3022380865101,
          668.3022380865101,
          668.3022380865101,
          668.3022380865101,
          668.3022380865101,
          668.3022380865101,
          668.3022380865101,
          668.3022380865101,
          668.3022380865101,
          668.3022380865101,
          668.3022380865101,
          668.3022380865101,
          668.3022380865101,
          668.3022380865101,
          668.3022380865101,
          668.3022380865101,
          668.3022380865101,
          668.3022380865101,
          668.3022380865101,
          668.3022380865101,
          668.3022380865101,
          668.3022380865101,
          668.3022380865101,
          668.3022380865101,
          668.3022380865101,
          668.3022380865101,
          668.3022380865101,
          668.3022380865101,
          668.3022380865101,
          668.3022380865101,
          668.3022380865101,
          668.3022380865101,
          668.3022380865101,
          668.3022380865101,
          668.3022380865101,
          668.3022380865101,
          668.3022380865101,
          668.3022380865101,
          668.3022380865101,
          668.3022380865101,
          668.3022380865101,
          668.3022380865101,
          668.3022380865101,
          668.3022380865101,
          668.3022380865101,
          668.3022380865101,
          668.3022380865101,
          668.3022380865101,
          668.3022380865101,
          668.3022380865101,
          668.3022380865101,
          668.3022380865101,
          668.3022380865101,
          668.3022380865101,
          668.3022380865101,
          668.3022380865101,
          668.3022380865101,
          668.3022380865101,
          668.3022380865101,
          668.3022380865101,
          668.3022380865101,
          668.3022380865101,
          668.3022380865101,
          668.3022380865101,
          668.3022380865101,
          668.3022380865101,
          668.3022380865101,
          668.3022380865101,
          668.3022380865101,
          668.3022380865101,
          668.3022380865101,
          668.3022380865101,
          668.3022380865101,
          668.3022380865101,
          668.3022380865101,
          668.3022380865101,
          668.3022380865101,
          668.3022380865101,
          668.3022380865101,
          668.3022380865101
         ]
        },
        {
         "mode": "lines",
         "name": "option_pnls",
         "type": "scatter",
         "x": [
          500,
          510,
          520,
          530,
          540,
          550,
          560,
          570,
          580,
          590,
          600,
          610,
          620,
          630,
          640,
          650,
          660,
          670,
          680,
          690,
          700,
          710,
          720,
          730,
          740,
          750,
          760,
          770,
          780,
          790,
          800,
          810,
          820,
          830,
          840,
          850,
          860,
          870,
          880,
          890,
          900,
          910,
          920,
          930,
          940,
          950,
          960,
          970,
          980,
          990,
          1000,
          1010,
          1020,
          1030,
          1040,
          1050,
          1060,
          1070,
          1080,
          1090,
          1100,
          1110,
          1120,
          1130,
          1140,
          1150,
          1160,
          1170,
          1180,
          1190,
          1200,
          1210,
          1220,
          1230,
          1240,
          1250,
          1260,
          1270,
          1280,
          1290,
          1300,
          1310,
          1320,
          1330,
          1340,
          1350,
          1360,
          1370,
          1380,
          1390,
          1400,
          1410,
          1420,
          1430,
          1440,
          1450,
          1460,
          1470,
          1480,
          1490,
          1500,
          1510,
          1520,
          1530,
          1540,
          1550,
          1560,
          1570,
          1580,
          1590,
          1600,
          1610,
          1620,
          1630,
          1640,
          1650,
          1660,
          1670,
          1680,
          1690,
          1700,
          1710,
          1720,
          1730,
          1740,
          1750,
          1760,
          1770,
          1780,
          1790,
          1800,
          1810,
          1820,
          1830,
          1840,
          1850,
          1860,
          1870,
          1880,
          1890,
          1900,
          1910,
          1920,
          1930,
          1940,
          1950,
          1960,
          1970,
          1980,
          1990,
          2000,
          2010,
          2020,
          2030,
          2040,
          2050,
          2060,
          2070,
          2080,
          2090,
          2100,
          2110,
          2120,
          2130,
          2140,
          2150,
          2160,
          2170,
          2180,
          2190,
          2200,
          2210,
          2220,
          2230,
          2240,
          2250,
          2260,
          2270,
          2280,
          2290,
          2300,
          2310,
          2320,
          2330,
          2340,
          2350,
          2360,
          2370,
          2380,
          2390,
          2400,
          2410,
          2420,
          2430,
          2440,
          2450,
          2460,
          2470,
          2480,
          2490
         ],
         "y": [
          446.782483947263,
          442.29063541959295,
          437.7987868919229,
          433.30693836425286,
          428.8150898365828,
          424.32324130891277,
          419.8313927812427,
          415.3395442535727,
          410.8476957259026,
          406.3558471982326,
          401.8639986705625,
          397.3721501428925,
          392.88030161522244,
          388.3884530875524,
          383.89660455988235,
          379.4047560322123,
          374.91290750454226,
          370.4210589768722,
          365.9292104492022,
          361.4373619215321,
          356.9455133938621,
          352.453664866192,
          347.961816338522,
          343.4699678108519,
          338.9781192831819,
          334.48627075551184,
          329.9944222278418,
          325.50257370017175,
          321.0107251725017,
          316.51887664483166,
          312.0270281171616,
          307.5351795894916,
          303.0433310618215,
          298.5514825341515,
          294.0596340064814,
          289.5677854788114,
          285.07593695114133,
          280.5840884234713,
          276.09223989580124,
          271.6003913681312,
          267.10854284046115,
          262.6166943127911,
          258.12484578512107,
          253.63299725745102,
          249.14114872978098,
          244.64930020211094,
          240.1574516744409,
          235.66560314677082,
          231.17375461910078,
          226.68190609143073,
          222.1900575637607,
          217.69820903609065,
          213.2063605084206,
          208.71451198075056,
          204.22266345308051,
          199.73081492541047,
          195.23896639774043,
          190.74711787007038,
          186.25526934240034,
          181.7634208147303,
          177.27157228706022,
          172.77972375939018,
          168.28787523172014,
          163.7960267040501,
          159.30417817638005,
          154.81232964871,
          150.32048112103996,
          145.82863259336992,
          141.33678406569987,
          136.84493553802983,
          132.3530870103598,
          127.86123848268973,
          123.36938995501968,
          118.87754142734964,
          114.3856928996796,
          109.89384437200955,
          105.4019958443395,
          100.91014731666945,
          96.41829878899941,
          91.92645026132936,
          87.43460173365932,
          82.94275320598928,
          78.45090467831922,
          73.95905615064918,
          69.46720762297913,
          64.97535909530909,
          60.483510567639044,
          55.991662039969,
          51.49981351229896,
          47.00796498462891,
          42.51611645695886,
          38.02426792928882,
          33.532419401618775,
          29.040570873948727,
          24.54872234627868,
          20.056873818608636,
          15.565025290938589,
          11.073176763268542,
          6.5813282355984954,
          2.0894797079284495,
          -2.4023688197415964,
          -4.768404639685029,
          -4.768404639685029,
          -4.768404639685029,
          -4.768404639685029,
          -4.768404639685029,
          -4.768404639685029,
          -4.768404639685029,
          -4.768404639685029,
          -4.768404639685029,
          -4.768404639685029,
          -4.768404639685029,
          -4.768404639685029,
          -4.768404639685029,
          -4.768404639685029,
          -4.768404639685029,
          -4.768404639685029,
          -4.768404639685029,
          -4.768404639685029,
          -4.768404639685029,
          -4.768404639685029,
          -4.768404639685029,
          -4.768404639685029,
          -4.768404639685029,
          -4.768404639685029,
          -4.768404639685029,
          -4.768404639685029,
          -4.768404639685029,
          -4.768404639685029,
          -4.768404639685029,
          -4.768404639685029,
          -4.768404639685029,
          -4.768404639685029,
          -4.768404639685029,
          -4.768404639685029,
          -4.768404639685029,
          -4.768404639685029,
          -4.768404639685029,
          -4.768404639685029,
          -4.768404639685029,
          -4.768404639685029,
          -4.768404639685029,
          -4.768404639685029,
          -4.768404639685029,
          -4.768404639685029,
          -4.768404639685029,
          -4.768404639685029,
          -4.768404639685029,
          -4.768404639685029,
          -4.768404639685029,
          -4.768404639685029,
          -4.768404639685029,
          -4.768404639685029,
          -4.768404639685029,
          -4.768404639685029,
          -4.768404639685029,
          -4.768404639685029,
          -4.768404639685029,
          -4.768404639685029,
          -4.768404639685029,
          -4.768404639685029,
          -4.768404639685029,
          -4.768404639685029,
          -4.768404639685029,
          -4.768404639685029,
          -4.768404639685029,
          -4.768404639685029,
          -4.768404639685029,
          -4.768404639685029,
          -4.768404639685029,
          -4.768404639685029,
          -4.768404639685029,
          -4.768404639685029,
          -4.768404639685029,
          -4.768404639685029,
          -4.768404639685029,
          -4.768404639685029,
          -4.768404639685029,
          -4.768404639685029,
          -4.768404639685029,
          -4.768404639685029,
          -4.768404639685029,
          -4.768404639685029,
          -4.768404639685029,
          -4.768404639685029,
          -4.768404639685029,
          -4.768404639685029,
          -4.768404639685029,
          -4.768404639685029,
          -4.768404639685029,
          -4.768404639685029,
          -4.768404639685029,
          -4.768404639685029,
          -4.768404639685029,
          -4.768404639685029,
          -4.768404639685029,
          -4.768404639685029,
          -4.768404639685029,
          -4.768404639685029,
          -4.768404639685029
         ]
        },
        {
         "mode": "lines",
         "name": "uniswap_tvs + option_pnls + fees",
         "type": "scatter",
         "x": [
          500,
          510,
          520,
          530,
          540,
          550,
          560,
          570,
          580,
          590,
          600,
          610,
          620,
          630,
          640,
          650,
          660,
          670,
          680,
          690,
          700,
          710,
          720,
          730,
          740,
          750,
          760,
          770,
          780,
          790,
          800,
          810,
          820,
          830,
          840,
          850,
          860,
          870,
          880,
          890,
          900,
          910,
          920,
          930,
          940,
          950,
          960,
          970,
          980,
          990,
          1000,
          1010,
          1020,
          1030,
          1040,
          1050,
          1060,
          1070,
          1080,
          1090,
          1100,
          1110,
          1120,
          1130,
          1140,
          1150,
          1160,
          1170,
          1180,
          1190,
          1200,
          1210,
          1220,
          1230,
          1240,
          1250,
          1260,
          1270,
          1280,
          1290,
          1300,
          1310,
          1320,
          1330,
          1340,
          1350,
          1360,
          1370,
          1380,
          1390,
          1400,
          1410,
          1420,
          1430,
          1440,
          1450,
          1460,
          1470,
          1480,
          1490,
          1500,
          1510,
          1520,
          1530,
          1540,
          1550,
          1560,
          1570,
          1580,
          1590,
          1600,
          1610,
          1620,
          1630,
          1640,
          1650,
          1660,
          1670,
          1680,
          1690,
          1700,
          1710,
          1720,
          1730,
          1740,
          1750,
          1760,
          1770,
          1780,
          1790,
          1800,
          1810,
          1820,
          1830,
          1840,
          1850,
          1860,
          1870,
          1880,
          1890,
          1900,
          1910,
          1920,
          1930,
          1940,
          1950,
          1960,
          1970,
          1980,
          1990,
          2000,
          2010,
          2020,
          2030,
          2040,
          2050,
          2060,
          2070,
          2080,
          2090,
          2100,
          2110,
          2120,
          2130,
          2140,
          2150,
          2160,
          2170,
          2180,
          2190,
          2200,
          2210,
          2220,
          2230,
          2240,
          2250,
          2260,
          2270,
          2280,
          2290,
          2300,
          2310,
          2320,
          2330,
          2340,
          2350,
          2360,
          2370,
          2380,
          2390,
          2400,
          2410,
          2420,
          2430,
          2440,
          2450,
          2460,
          2470,
          2480,
          2490
         ],
         "y": [
          656.4993573762241,
          656.2018463171332,
          655.9043352580424,
          655.6068241989516,
          655.3093131398607,
          655.0118020807699,
          654.7142910216791,
          654.4167799625883,
          654.1192689034974,
          653.8217578444066,
          653.5242467853158,
          653.226735726225,
          652.9292246671341,
          652.6317136080434,
          652.3342025489525,
          652.0366914898616,
          651.7391804307708,
          651.4416693716801,
          651.1441583125893,
          650.8466472534983,
          650.5491361944075,
          650.2516251353168,
          649.954114076226,
          649.656603017135,
          649.3590919580442,
          649.0615808989535,
          648.7640698398627,
          648.4665587807717,
          648.169047721681,
          647.8715366625902,
          647.5740256034993,
          647.2765145444084,
          646.9790034853177,
          646.6814924262269,
          646.383981367136,
          646.0864703080451,
          645.7889592489544,
          645.4914481898636,
          645.1939371307727,
          644.8964260716818,
          644.5989150125911,
          644.3014039535002,
          644.0038928944094,
          643.7063818353186,
          643.4088707762278,
          643.1113597171369,
          642.8138486580461,
          642.5163375989553,
          642.2188265398645,
          641.9213154807736,
          641.6238044216828,
          641.326293362592,
          641.0287823035012,
          640.7312712444103,
          640.4337601853196,
          640.1362491262287,
          639.8387380671379,
          639.541227008047,
          639.2437159489563,
          638.9462048898654,
          638.6486938307746,
          638.3511827716837,
          638.0536717125929,
          637.7561606535021,
          637.4586495944113,
          637.1611385353204,
          636.8636274762296,
          636.5661164171388,
          636.268605358048,
          635.9710942989572,
          635.6735832398663,
          635.3760721807755,
          635.0785611216846,
          634.7810500625939,
          634.483539003503,
          634.1860279444122,
          633.8885168853213,
          633.5910058262305,
          633.2934947671397,
          632.9959837080489,
          632.698472648958,
          632.4009615898672,
          632.1034505307765,
          631.8059394716856,
          631.5084284125948,
          631.2109173535039,
          630.9134062944132,
          630.6158952353223,
          630.3183841762315,
          630.0208731171406,
          629.7233620580499,
          629.345180029492,
          628.806797305715,
          628.1099031997156,
          627.256157541954,
          626.2471913957212,
          625.084607750342,
          623.7699821930495,
          622.3048635603245,
          620.6907745694645,
          618.9292124311088,
          619.1474621511468,
          621.5871948039812,
          623.88379875534,
          626.0386749574129,
          628.0532016560988,
          629.9287349029145,
          631.6666090521603,
          633.2681372438585,
          634.7346118729581,
          636.0673050452805,
          637.2674690206615,
          638.3363366437267,
          639.2751217627184,
          640.0850196367774,
          640.7672073320662,
          641.3228441071049,
          641.7530717876766,
          642.0590151316455,
          642.2417821840172,
          642.3024646225587,
          642.3024646225587,
          642.3024646225587,
          642.3024646225587,
          642.3024646225587,
          642.3024646225587,
          642.3024646225587,
          642.3024646225587,
          642.3024646225587,
          642.3024646225587,
          642.3024646225587,
          642.3024646225587,
          642.3024646225587,
          642.3024646225587,
          642.3024646225587,
          642.3024646225587,
          642.3024646225587,
          642.3024646225587,
          642.3024646225587,
          642.3024646225587,
          642.3024646225587,
          642.3024646225587,
          642.3024646225587,
          642.3024646225587,
          642.3024646225587,
          642.3024646225587,
          642.3024646225587,
          642.3024646225587,
          642.3024646225587,
          642.3024646225587,
          642.3024646225587,
          642.3024646225587,
          642.3024646225587,
          642.3024646225587,
          642.3024646225587,
          642.3024646225587,
          642.3024646225587,
          642.3024646225587,
          642.3024646225587,
          642.3024646225587,
          642.3024646225587,
          642.3024646225587,
          642.3024646225587,
          642.3024646225587,
          642.3024646225587,
          642.3024646225587,
          642.3024646225587,
          642.3024646225587,
          642.3024646225587,
          642.3024646225587,
          642.3024646225587,
          642.3024646225587,
          642.3024646225587,
          642.3024646225587,
          642.3024646225587,
          642.3024646225587,
          642.3024646225587,
          642.3024646225587,
          642.3024646225587,
          642.3024646225587,
          642.3024646225587,
          642.3024646225587,
          642.3024646225587,
          642.3024646225587,
          642.3024646225587,
          642.3024646225587,
          642.3024646225587,
          642.3024646225587,
          642.3024646225587,
          642.3024646225587,
          642.3024646225587,
          642.3024646225587,
          642.3024646225587,
          642.3024646225587,
          642.3024646225587,
          642.3024646225587,
          642.3024646225587,
          642.3024646225587,
          642.3024646225587,
          642.3024646225587
         ]
        }
       ],
       "layout": {
        "autosize": false,
        "height": 500,
        "template": {
         "data": {
          "bar": [
           {
            "error_x": {
             "color": "#2a3f5f"
            },
            "error_y": {
             "color": "#2a3f5f"
            },
            "marker": {
             "line": {
              "color": "#E5ECF6",
              "width": 0.5
             },
             "pattern": {
              "fillmode": "overlay",
              "size": 10,
              "solidity": 0.2
             }
            },
            "type": "bar"
           }
          ],
          "barpolar": [
           {
            "marker": {
             "line": {
              "color": "#E5ECF6",
              "width": 0.5
             },
             "pattern": {
              "fillmode": "overlay",
              "size": 10,
              "solidity": 0.2
             }
            },
            "type": "barpolar"
           }
          ],
          "carpet": [
           {
            "aaxis": {
             "endlinecolor": "#2a3f5f",
             "gridcolor": "white",
             "linecolor": "white",
             "minorgridcolor": "white",
             "startlinecolor": "#2a3f5f"
            },
            "baxis": {
             "endlinecolor": "#2a3f5f",
             "gridcolor": "white",
             "linecolor": "white",
             "minorgridcolor": "white",
             "startlinecolor": "#2a3f5f"
            },
            "type": "carpet"
           }
          ],
          "choropleth": [
           {
            "colorbar": {
             "outlinewidth": 0,
             "ticks": ""
            },
            "type": "choropleth"
           }
          ],
          "contour": [
           {
            "colorbar": {
             "outlinewidth": 0,
             "ticks": ""
            },
            "colorscale": [
             [
              0,
              "#0d0887"
             ],
             [
              0.1111111111111111,
              "#46039f"
             ],
             [
              0.2222222222222222,
              "#7201a8"
             ],
             [
              0.3333333333333333,
              "#9c179e"
             ],
             [
              0.4444444444444444,
              "#bd3786"
             ],
             [
              0.5555555555555556,
              "#d8576b"
             ],
             [
              0.6666666666666666,
              "#ed7953"
             ],
             [
              0.7777777777777778,
              "#fb9f3a"
             ],
             [
              0.8888888888888888,
              "#fdca26"
             ],
             [
              1,
              "#f0f921"
             ]
            ],
            "type": "contour"
           }
          ],
          "contourcarpet": [
           {
            "colorbar": {
             "outlinewidth": 0,
             "ticks": ""
            },
            "type": "contourcarpet"
           }
          ],
          "heatmap": [
           {
            "colorbar": {
             "outlinewidth": 0,
             "ticks": ""
            },
            "colorscale": [
             [
              0,
              "#0d0887"
             ],
             [
              0.1111111111111111,
              "#46039f"
             ],
             [
              0.2222222222222222,
              "#7201a8"
             ],
             [
              0.3333333333333333,
              "#9c179e"
             ],
             [
              0.4444444444444444,
              "#bd3786"
             ],
             [
              0.5555555555555556,
              "#d8576b"
             ],
             [
              0.6666666666666666,
              "#ed7953"
             ],
             [
              0.7777777777777778,
              "#fb9f3a"
             ],
             [
              0.8888888888888888,
              "#fdca26"
             ],
             [
              1,
              "#f0f921"
             ]
            ],
            "type": "heatmap"
           }
          ],
          "heatmapgl": [
           {
            "colorbar": {
             "outlinewidth": 0,
             "ticks": ""
            },
            "colorscale": [
             [
              0,
              "#0d0887"
             ],
             [
              0.1111111111111111,
              "#46039f"
             ],
             [
              0.2222222222222222,
              "#7201a8"
             ],
             [
              0.3333333333333333,
              "#9c179e"
             ],
             [
              0.4444444444444444,
              "#bd3786"
             ],
             [
              0.5555555555555556,
              "#d8576b"
             ],
             [
              0.6666666666666666,
              "#ed7953"
             ],
             [
              0.7777777777777778,
              "#fb9f3a"
             ],
             [
              0.8888888888888888,
              "#fdca26"
             ],
             [
              1,
              "#f0f921"
             ]
            ],
            "type": "heatmapgl"
           }
          ],
          "histogram": [
           {
            "marker": {
             "pattern": {
              "fillmode": "overlay",
              "size": 10,
              "solidity": 0.2
             }
            },
            "type": "histogram"
           }
          ],
          "histogram2d": [
           {
            "colorbar": {
             "outlinewidth": 0,
             "ticks": ""
            },
            "colorscale": [
             [
              0,
              "#0d0887"
             ],
             [
              0.1111111111111111,
              "#46039f"
             ],
             [
              0.2222222222222222,
              "#7201a8"
             ],
             [
              0.3333333333333333,
              "#9c179e"
             ],
             [
              0.4444444444444444,
              "#bd3786"
             ],
             [
              0.5555555555555556,
              "#d8576b"
             ],
             [
              0.6666666666666666,
              "#ed7953"
             ],
             [
              0.7777777777777778,
              "#fb9f3a"
             ],
             [
              0.8888888888888888,
              "#fdca26"
             ],
             [
              1,
              "#f0f921"
             ]
            ],
            "type": "histogram2d"
           }
          ],
          "histogram2dcontour": [
           {
            "colorbar": {
             "outlinewidth": 0,
             "ticks": ""
            },
            "colorscale": [
             [
              0,
              "#0d0887"
             ],
             [
              0.1111111111111111,
              "#46039f"
             ],
             [
              0.2222222222222222,
              "#7201a8"
             ],
             [
              0.3333333333333333,
              "#9c179e"
             ],
             [
              0.4444444444444444,
              "#bd3786"
             ],
             [
              0.5555555555555556,
              "#d8576b"
             ],
             [
              0.6666666666666666,
              "#ed7953"
             ],
             [
              0.7777777777777778,
              "#fb9f3a"
             ],
             [
              0.8888888888888888,
              "#fdca26"
             ],
             [
              1,
              "#f0f921"
             ]
            ],
            "type": "histogram2dcontour"
           }
          ],
          "mesh3d": [
           {
            "colorbar": {
             "outlinewidth": 0,
             "ticks": ""
            },
            "type": "mesh3d"
           }
          ],
          "parcoords": [
           {
            "line": {
             "colorbar": {
              "outlinewidth": 0,
              "ticks": ""
             }
            },
            "type": "parcoords"
           }
          ],
          "pie": [
           {
            "automargin": true,
            "type": "pie"
           }
          ],
          "scatter": [
           {
            "fillpattern": {
             "fillmode": "overlay",
             "size": 10,
             "solidity": 0.2
            },
            "type": "scatter"
           }
          ],
          "scatter3d": [
           {
            "line": {
             "colorbar": {
              "outlinewidth": 0,
              "ticks": ""
             }
            },
            "marker": {
             "colorbar": {
              "outlinewidth": 0,
              "ticks": ""
             }
            },
            "type": "scatter3d"
           }
          ],
          "scattercarpet": [
           {
            "marker": {
             "colorbar": {
              "outlinewidth": 0,
              "ticks": ""
             }
            },
            "type": "scattercarpet"
           }
          ],
          "scattergeo": [
           {
            "marker": {
             "colorbar": {
              "outlinewidth": 0,
              "ticks": ""
             }
            },
            "type": "scattergeo"
           }
          ],
          "scattergl": [
           {
            "marker": {
             "colorbar": {
              "outlinewidth": 0,
              "ticks": ""
             }
            },
            "type": "scattergl"
           }
          ],
          "scattermapbox": [
           {
            "marker": {
             "colorbar": {
              "outlinewidth": 0,
              "ticks": ""
             }
            },
            "type": "scattermapbox"
           }
          ],
          "scatterpolar": [
           {
            "marker": {
             "colorbar": {
              "outlinewidth": 0,
              "ticks": ""
             }
            },
            "type": "scatterpolar"
           }
          ],
          "scatterpolargl": [
           {
            "marker": {
             "colorbar": {
              "outlinewidth": 0,
              "ticks": ""
             }
            },
            "type": "scatterpolargl"
           }
          ],
          "scatterternary": [
           {
            "marker": {
             "colorbar": {
              "outlinewidth": 0,
              "ticks": ""
             }
            },
            "type": "scatterternary"
           }
          ],
          "surface": [
           {
            "colorbar": {
             "outlinewidth": 0,
             "ticks": ""
            },
            "colorscale": [
             [
              0,
              "#0d0887"
             ],
             [
              0.1111111111111111,
              "#46039f"
             ],
             [
              0.2222222222222222,
              "#7201a8"
             ],
             [
              0.3333333333333333,
              "#9c179e"
             ],
             [
              0.4444444444444444,
              "#bd3786"
             ],
             [
              0.5555555555555556,
              "#d8576b"
             ],
             [
              0.6666666666666666,
              "#ed7953"
             ],
             [
              0.7777777777777778,
              "#fb9f3a"
             ],
             [
              0.8888888888888888,
              "#fdca26"
             ],
             [
              1,
              "#f0f921"
             ]
            ],
            "type": "surface"
           }
          ],
          "table": [
           {
            "cells": {
             "fill": {
              "color": "#EBF0F8"
             },
             "line": {
              "color": "white"
             }
            },
            "header": {
             "fill": {
              "color": "#C8D4E3"
             },
             "line": {
              "color": "white"
             }
            },
            "type": "table"
           }
          ]
         },
         "layout": {
          "annotationdefaults": {
           "arrowcolor": "#2a3f5f",
           "arrowhead": 0,
           "arrowwidth": 1
          },
          "autotypenumbers": "strict",
          "coloraxis": {
           "colorbar": {
            "outlinewidth": 0,
            "ticks": ""
           }
          },
          "colorscale": {
           "diverging": [
            [
             0,
             "#8e0152"
            ],
            [
             0.1,
             "#c51b7d"
            ],
            [
             0.2,
             "#de77ae"
            ],
            [
             0.3,
             "#f1b6da"
            ],
            [
             0.4,
             "#fde0ef"
            ],
            [
             0.5,
             "#f7f7f7"
            ],
            [
             0.6,
             "#e6f5d0"
            ],
            [
             0.7,
             "#b8e186"
            ],
            [
             0.8,
             "#7fbc41"
            ],
            [
             0.9,
             "#4d9221"
            ],
            [
             1,
             "#276419"
            ]
           ],
           "sequential": [
            [
             0,
             "#0d0887"
            ],
            [
             0.1111111111111111,
             "#46039f"
            ],
            [
             0.2222222222222222,
             "#7201a8"
            ],
            [
             0.3333333333333333,
             "#9c179e"
            ],
            [
             0.4444444444444444,
             "#bd3786"
            ],
            [
             0.5555555555555556,
             "#d8576b"
            ],
            [
             0.6666666666666666,
             "#ed7953"
            ],
            [
             0.7777777777777778,
             "#fb9f3a"
            ],
            [
             0.8888888888888888,
             "#fdca26"
            ],
            [
             1,
             "#f0f921"
            ]
           ],
           "sequentialminus": [
            [
             0,
             "#0d0887"
            ],
            [
             0.1111111111111111,
             "#46039f"
            ],
            [
             0.2222222222222222,
             "#7201a8"
            ],
            [
             0.3333333333333333,
             "#9c179e"
            ],
            [
             0.4444444444444444,
             "#bd3786"
            ],
            [
             0.5555555555555556,
             "#d8576b"
            ],
            [
             0.6666666666666666,
             "#ed7953"
            ],
            [
             0.7777777777777778,
             "#fb9f3a"
            ],
            [
             0.8888888888888888,
             "#fdca26"
            ],
            [
             1,
             "#f0f921"
            ]
           ]
          },
          "colorway": [
           "#636efa",
           "#EF553B",
           "#00cc96",
           "#ab63fa",
           "#FFA15A",
           "#19d3f3",
           "#FF6692",
           "#B6E880",
           "#FF97FF",
           "#FECB52"
          ],
          "font": {
           "color": "#2a3f5f"
          },
          "geo": {
           "bgcolor": "white",
           "lakecolor": "white",
           "landcolor": "#E5ECF6",
           "showlakes": true,
           "showland": true,
           "subunitcolor": "white"
          },
          "hoverlabel": {
           "align": "left"
          },
          "hovermode": "closest",
          "mapbox": {
           "style": "light"
          },
          "paper_bgcolor": "white",
          "plot_bgcolor": "#E5ECF6",
          "polar": {
           "angularaxis": {
            "gridcolor": "white",
            "linecolor": "white",
            "ticks": ""
           },
           "bgcolor": "#E5ECF6",
           "radialaxis": {
            "gridcolor": "white",
            "linecolor": "white",
            "ticks": ""
           }
          },
          "scene": {
           "xaxis": {
            "backgroundcolor": "#E5ECF6",
            "gridcolor": "white",
            "gridwidth": 2,
            "linecolor": "white",
            "showbackground": true,
            "ticks": "",
            "zerolinecolor": "white"
           },
           "yaxis": {
            "backgroundcolor": "#E5ECF6",
            "gridcolor": "white",
            "gridwidth": 2,
            "linecolor": "white",
            "showbackground": true,
            "ticks": "",
            "zerolinecolor": "white"
           },
           "zaxis": {
            "backgroundcolor": "#E5ECF6",
            "gridcolor": "white",
            "gridwidth": 2,
            "linecolor": "white",
            "showbackground": true,
            "ticks": "",
            "zerolinecolor": "white"
           }
          },
          "shapedefaults": {
           "line": {
            "color": "#2a3f5f"
           }
          },
          "ternary": {
           "aaxis": {
            "gridcolor": "white",
            "linecolor": "white",
            "ticks": ""
           },
           "baxis": {
            "gridcolor": "white",
            "linecolor": "white",
            "ticks": ""
           },
           "bgcolor": "#E5ECF6",
           "caxis": {
            "gridcolor": "white",
            "linecolor": "white",
            "ticks": ""
           }
          },
          "title": {
           "x": 0.05
          },
          "xaxis": {
           "automargin": true,
           "gridcolor": "white",
           "linecolor": "white",
           "ticks": "",
           "title": {
            "standoff": 15
           },
           "zerolinecolor": "white",
           "zerolinewidth": 2
          },
          "yaxis": {
           "automargin": true,
           "gridcolor": "white",
           "linecolor": "white",
           "ticks": "",
           "title": {
            "standoff": 15
           },
           "zerolinecolor": "white",
           "zerolinewidth": 2
          }
         }
        },
        "width": 1000,
        "xaxis": {
         "autorange": true,
         "range": [
          500,
          2490
         ],
         "type": "linear"
        },
        "yaxis": {
         "autorange": true,
         "range": [
          -42.16121812447365,
          705.6950515712987
         ],
         "type": "linear"
        }
       }
      },
      "image/png": "[encoded data removed]",
      "text/html": [
       "<div>                            <div id=\"b8329165-3af7-43f4-80b7-45b3068d31cd\" class=\"plotly-graph-div\" style=\"height:500px; width:1000px;\"></div>            <script type=\"text/javascript\">                require([\"plotly\"], function(Plotly) {                    window.PLOTLYENV=window.PLOTLYENV || {};                                    if (document.getElementById(\"b8329165-3af7-43f4-80b7-45b3068d31cd\")) {                    Plotly.newPlot(                        \"b8329165-3af7-43f4-80b7-45b3068d31cd\",                        [{\"mode\":\"lines\",\"name\":\"pure_usdc\",\"x\":[500,510,520,530,540,550,560,570,580,590,600,610,620,630,640,650,660,670,680,690,700,710,720,730,740,750,760,770,780,790,800,810,820,830,840,850,860,870,880,890,900,910,920,930,940,950,960,970,980,990,1000,1010,1020,1030,1040,1050,1060,1070,1080,1090,1100,1110,1120,1130,1140,1150,1160,1170,1180,1190,1200,1210,1220,1230,1240,1250,1260,1270,1280,1290,1300,1310,1320,1330,1340,1350,1360,1370,1380,1390,1400,1410,1420,1430,1440,1450,1460,1470,1480,1490,1500,1510,1520,1530,1540,1550,1560,1570,1580,1590,1600,1610,1620,1630,1640,1650,1660,1670,1680,1690,1700,1710,1720,1730,1740,1750,1760,1770,1780,1790,1800,1810,1820,1830,1840,1850,1860,1870,1880,1890,1900,1910,1920,1930,1940,1950,1960,1970,1980,1990,2000,2010,2020,2030,2040,2050,2060,2070,2080,2090,2100,2110,2120,2130,2140,2150,2160,2170,2180,2190,2200,2210,2220,2230,2240,2250,2260,2270,2280,2290,2300,2310,2320,2330,2340,2350,2360,2370,2380,2390,2400,2410,2420,2430,2440,2450,2460,2470,2480,2490],\"y\":[651.0797603569044,651.0797603569044,651.0797603569044,651.0797603569044,651.0797603569044,651.0797603569044,651.0797603569044,651.0797603569044,651.0797603569044,651.0797603569044,651.0797603569044,651.0797603569044,651.0797603569044,651.0797603569044,651.0797603569044,651.0797603569044,651.0797603569044,651.0797603569044,651.0797603569044,651.0797603569044,651.0797603569044,651.0797603569044,651.0797603569044,651.0797603569044,651.0797603569044,651.0797603569044,651.0797603569044,651.0797603569044,651.0797603569044,651.0797603569044,651.0797603569044,651.0797603569044,651.0797603569044,651.0797603569044,651.0797603569044,651.0797603569044,651.0797603569044,651.0797603569044,651.0797603569044,651.0797603569044,651.0797603569044,651.0797603569044,651.0797603569044,651.0797603569044,651.0797603569044,651.0797603569044,651.0797603569044,651.0797603569044,651.0797603569044,651.0797603569044,651.0797603569044,651.0797603569044,651.0797603569044,651.0797603569044,651.0797603569044,651.0797603569044,651.0797603569044,651.0797603569044,651.0797603569044,651.0797603569044,651.0797603569044,651.0797603569044,651.0797603569044,651.0797603569044,651.0797603569044,651.0797603569044,651.0797603569044,651.0797603569044,651.0797603569044,651.0797603569044,651.0797603569044,651.0797603569044,651.0797603569044,651.0797603569044,651.0797603569044,651.0797603569044,651.0797603569044,651.0797603569044,651.0797603569044,651.0797603569044,651.0797603569044,651.0797603569044,651.0797603569044,651.0797603569044,651.0797603569044,651.0797603569044,651.0797603569044,651.0797603569044,651.0797603569044,651.0797603569044,651.0797603569044,651.0797603569044,651.0797603569044,651.0797603569044,651.0797603569044,651.0797603569044,651.0797603569044,651.0797603569044,651.0797603569044,651.0797603569044,651.0797603569044,651.0797603569044,651.0797603569044,651.0797603569044,651.0797603569044,651.0797603569044,651.0797603569044,651.0797603569044,651.0797603569044,651.0797603569044,651.0797603569044,651.0797603569044,651.0797603569044,651.0797603569044,651.0797603569044,651.0797603569044,651.0797603569044,651.0797603569044,651.0797603569044,651.0797603569044,651.0797603569044,651.0797603569044,651.0797603569044,651.0797603569044,651.0797603569044,651.0797603569044,651.0797603569044,651.0797603569044,651.0797603569044,651.0797603569044,651.0797603569044,651.0797603569044,651.0797603569044,651.0797603569044,651.0797603569044,651.0797603569044,651.0797603569044,651.0797603569044,651.0797603569044,651.0797603569044,651.0797603569044,651.0797603569044,651.0797603569044,651.0797603569044,651.0797603569044,651.0797603569044,651.0797603569044,651.0797603569044,651.0797603569044,651.0797603569044,651.0797603569044,651.0797603569044,651.0797603569044,651.0797603569044,651.0797603569044,651.0797603569044,651.0797603569044,651.0797603569044,651.0797603569044,651.0797603569044,651.0797603569044,651.0797603569044,651.0797603569044,651.0797603569044,651.0797603569044,651.0797603569044,651.0797603569044,651.0797603569044,651.0797603569044,651.0797603569044,651.0797603569044,651.0797603569044,651.0797603569044,651.0797603569044,651.0797603569044,651.0797603569044,651.0797603569044,651.0797603569044,651.0797603569044,651.0797603569044,651.0797603569044,651.0797603569044,651.0797603569044,651.0797603569044,651.0797603569044,651.0797603569044,651.0797603569044,651.0797603569044,651.0797603569044,651.0797603569044,651.0797603569044,651.0797603569044,651.0797603569044,651.0797603569044,651.0797603569044,651.0797603569044,651.0797603569044,651.0797603569044,651.0797603569044,651.0797603569044],\"type\":\"scatter\"},{\"mode\":\"lines\",\"name\":\"uniswap_tvs + option initial cost + fees = 0 usdc\",\"x\":[500,510,520,530,540,550,560,570,580,590,600,610,620,630,640,650,660,670,680,690,700,710,720,730,740,750,760,770,780,790,800,810,820,830,840,850,860,870,880,890,900,910,920,930,940,950,960,970,980,990,1000,1010,1020,1030,1040,1050,1060,1070,1080,1090,1100,1110,1120,1130,1140,1150,1160,1170,1180,1190,1200,1210,1220,1230,1240,1250,1260,1270,1280,1290,1300,1310,1320,1330,1340,1350,1360,1370,1380,1390,1400,1410,1420,1430,1440,1450,1460,1470,1480,1490,1500,1510,1520,1530,1540,1550,1560,1570,1580,1590,1600,1610,1620,1630,1640,1650,1660,1670,1680,1690,1700,1710,1720,1730,1740,1750,1760,1770,1780,1790,1800,1810,1820,1830,1840,1850,1860,1870,1880,1890,1900,1910,1920,1930,1940,1950,1960,1970,1980,1990,2000,2010,2020,2030,2040,2050,2060,2070,2080,2090,2100,2110,2120,2130,2140,2150,2160,2170,2180,2190,2200,2210,2220,2230,2240,2250,2260,2270,2280,2290,2300,2310,2320,2330,2340,2350,2360,2370,2380,2390,2400,2410,2420,2430,2440,2450,2460,2470,2480,2490],\"y\":[230.94824225322742,235.14257972180664,239.33691719038586,243.53125465896508,247.7255921275443,251.91992959612352,256.11426706470274,260.308604533282,264.5029420018612,268.69727947044044,272.8916169390196,277.0859544075989,281.28029187617807,285.4746293447573,289.6689668133365,293.86330428191576,298.057641750495,302.2519792190742,306.44631668765345,310.64065415623264,314.8349916248119,319.0293290933911,323.22366656197033,327.4180040305495,331.6123414991288,335.80667896770797,340.0010164362872,344.1953539048664,348.38969137344566,352.58402884202485,356.7783663106041,360.9727037791833,365.16704124776254,369.36137871634173,373.555716184921,377.7500536535002,381.9443911220794,386.1387285906586,390.33306605923786,394.52740352781706,398.7217409963963,402.9160784649755,407.11041593355475,411.30475340213394,415.4990908707132,419.6934283392924,423.88776580787163,428.0821032764508,432.2764407450301,436.47077821360926,440.6651156821885,444.8594531507677,449.05379061934696,453.24812808792615,457.4424655565054,461.6368030250846,465.83114049366384,470.02547796224303,474.2198154308223,478.4141528994015,482.6084903679807,486.8028278365599,490.99716530513916,495.19150277371836,499.3858402422976,503.5801777108768,507.77451517945605,511.96885264803524,516.1631901166145,520.3575275851937,524.5518650537729,528.7462025223521,532.9405399909314,537.1348774595106,541.3292149280898,545.5235523966691,549.7178898652483,553.9122273338274,558.1065648024066,562.300902270986,566.4952397395651,570.6895772081443,574.8839146767236,579.0782521453028,583.272589613882,587.4669270824612,591.6612645510405,595.8556020196197,600.0499394881989,604.2442769567781,608.4386144253574,612.5522809244695,616.5057467283626,620.3007011500333,623.9388040199418,627.4216864013789,630.7509512836698,633.9281742540473,636.9549041489925,639.8326636858023,642.5629500751168,645.1472356150982,647.5869682679327,649.8835722192914,652.0384484213644,654.0529751200503,655.9285083668659,657.6663825161118,659.26791070781,660.7343853369096,662.0670785092319,663.2672424846129,664.3361101076781,665.2748952266699,666.0847931007288,666.7669807960176,667.3226175710563,667.7528452516281,668.058788595597,668.2415556479687,668.3022380865101,668.3022380865101,668.3022380865101,668.3022380865101,668.3022380865101,668.3022380865101,668.3022380865101,668.3022380865101,668.3022380865101,668.3022380865101,668.3022380865101,668.3022380865101,668.3022380865101,668.3022380865101,668.3022380865101,668.3022380865101,668.3022380865101,668.3022380865101,668.3022380865101,668.3022380865101,668.3022380865101,668.3022380865101,668.3022380865101,668.3022380865101,668.3022380865101,668.3022380865101,668.3022380865101,668.3022380865101,668.3022380865101,668.3022380865101,668.3022380865101,668.3022380865101,668.3022380865101,668.3022380865101,668.3022380865101,668.3022380865101,668.3022380865101,668.3022380865101,668.3022380865101,668.3022380865101,668.3022380865101,668.3022380865101,668.3022380865101,668.3022380865101,668.3022380865101,668.3022380865101,668.3022380865101,668.3022380865101,668.3022380865101,668.3022380865101,668.3022380865101,668.3022380865101,668.3022380865101,668.3022380865101,668.3022380865101,668.3022380865101,668.3022380865101,668.3022380865101,668.3022380865101,668.3022380865101,668.3022380865101,668.3022380865101,668.3022380865101,668.3022380865101,668.3022380865101,668.3022380865101,668.3022380865101,668.3022380865101,668.3022380865101,668.3022380865101,668.3022380865101,668.3022380865101,668.3022380865101,668.3022380865101,668.3022380865101,668.3022380865101,668.3022380865101,668.3022380865101,668.3022380865101,668.3022380865101],\"type\":\"scatter\"},{\"mode\":\"lines\",\"name\":\"option_pnls\",\"x\":[500,510,520,530,540,550,560,570,580,590,600,610,620,630,640,650,660,670,680,690,700,710,720,730,740,750,760,770,780,790,800,810,820,830,840,850,860,870,880,890,900,910,920,930,940,950,960,970,980,990,1000,1010,1020,1030,1040,1050,1060,1070,1080,1090,1100,1110,1120,1130,1140,1150,1160,1170,1180,1190,1200,1210,1220,1230,1240,1250,1260,1270,1280,1290,1300,1310,1320,1330,1340,1350,1360,1370,1380,1390,1400,1410,1420,1430,1440,1450,1460,1470,1480,1490,1500,1510,1520,1530,1540,1550,1560,1570,1580,1590,1600,1610,1620,1630,1640,1650,1660,1670,1680,1690,1700,1710,1720,1730,1740,1750,1760,1770,1780,1790,1800,1810,1820,1830,1840,1850,1860,1870,1880,1890,1900,1910,1920,1930,1940,1950,1960,1970,1980,1990,2000,2010,2020,2030,2040,2050,2060,2070,2080,2090,2100,2110,2120,2130,2140,2150,2160,2170,2180,2190,2200,2210,2220,2230,2240,2250,2260,2270,2280,2290,2300,2310,2320,2330,2340,2350,2360,2370,2380,2390,2400,2410,2420,2430,2440,2450,2460,2470,2480,2490],\"y\":[446.782483947263,442.29063541959295,437.7987868919229,433.30693836425286,428.8150898365828,424.32324130891277,419.8313927812427,415.3395442535727,410.8476957259026,406.3558471982326,401.8639986705625,397.3721501428925,392.88030161522244,388.3884530875524,383.89660455988235,379.4047560322123,374.91290750454226,370.4210589768722,365.9292104492022,361.4373619215321,356.9455133938621,352.453664866192,347.961816338522,343.4699678108519,338.9781192831819,334.48627075551184,329.9944222278418,325.50257370017175,321.0107251725017,316.51887664483166,312.0270281171616,307.5351795894916,303.0433310618215,298.5514825341515,294.0596340064814,289.5677854788114,285.07593695114133,280.5840884234713,276.09223989580124,271.6003913681312,267.10854284046115,262.6166943127911,258.12484578512107,253.63299725745102,249.14114872978098,244.64930020211094,240.1574516744409,235.66560314677082,231.17375461910078,226.68190609143073,222.1900575637607,217.69820903609065,213.2063605084206,208.71451198075056,204.22266345308051,199.73081492541047,195.23896639774043,190.74711787007038,186.25526934240034,181.7634208147303,177.27157228706022,172.77972375939018,168.28787523172014,163.7960267040501,159.30417817638005,154.81232964871,150.32048112103996,145.82863259336992,141.33678406569987,136.84493553802983,132.3530870103598,127.86123848268973,123.36938995501968,118.87754142734964,114.3856928996796,109.89384437200955,105.4019958443395,100.91014731666945,96.41829878899941,91.92645026132936,87.43460173365932,82.94275320598928,78.45090467831922,73.95905615064918,69.46720762297913,64.97535909530909,60.483510567639044,55.991662039969,51.49981351229896,47.00796498462891,42.51611645695886,38.02426792928882,33.532419401618775,29.040570873948727,24.54872234627868,20.056873818608636,15.565025290938589,11.073176763268542,6.5813282355984954,2.0894797079284495,-2.4023688197415964,-4.768404639685029,-4.768404639685029,-4.768404639685029,-4.768404639685029,-4.768404639685029,-4.768404639685029,-4.768404639685029,-4.768404639685029,-4.768404639685029,-4.768404639685029,-4.768404639685029,-4.768404639685029,-4.768404639685029,-4.768404639685029,-4.768404639685029,-4.768404639685029,-4.768404639685029,-4.768404639685029,-4.768404639685029,-4.768404639685029,-4.768404639685029,-4.768404639685029,-4.768404639685029,-4.768404639685029,-4.768404639685029,-4.768404639685029,-4.768404639685029,-4.768404639685029,-4.768404639685029,-4.768404639685029,-4.768404639685029,-4.768404639685029,-4.768404639685029,-4.768404639685029,-4.768404639685029,-4.768404639685029,-4.768404639685029,-4.768404639685029,-4.768404639685029,-4.768404639685029,-4.768404639685029,-4.768404639685029,-4.768404639685029,-4.768404639685029,-4.768404639685029,-4.768404639685029,-4.768404639685029,-4.768404639685029,-4.768404639685029,-4.768404639685029,-4.768404639685029,-4.768404639685029,-4.768404639685029,-4.768404639685029,-4.768404639685029,-4.768404639685029,-4.768404639685029,-4.768404639685029,-4.768404639685029,-4.768404639685029,-4.768404639685029,-4.768404639685029,-4.768404639685029,-4.768404639685029,-4.768404639685029,-4.768404639685029,-4.768404639685029,-4.768404639685029,-4.768404639685029,-4.768404639685029,-4.768404639685029,-4.768404639685029,-4.768404639685029,-4.768404639685029,-4.768404639685029,-4.768404639685029,-4.768404639685029,-4.768404639685029,-4.768404639685029,-4.768404639685029,-4.768404639685029,-4.768404639685029,-4.768404639685029,-4.768404639685029,-4.768404639685029,-4.768404639685029,-4.768404639685029,-4.768404639685029,-4.768404639685029,-4.768404639685029,-4.768404639685029,-4.768404639685029,-4.768404639685029,-4.768404639685029,-4.768404639685029,-4.768404639685029,-4.768404639685029,-4.768404639685029,-4.768404639685029],\"type\":\"scatter\"},{\"mode\":\"lines\",\"name\":\"uniswap_tvs + option_pnls + fees\",\"x\":[500,510,520,530,540,550,560,570,580,590,600,610,620,630,640,650,660,670,680,690,700,710,720,730,740,750,760,770,780,790,800,810,820,830,840,850,860,870,880,890,900,910,920,930,940,950,960,970,980,990,1000,1010,1020,1030,1040,1050,1060,1070,1080,1090,1100,1110,1120,1130,1140,1150,1160,1170,1180,1190,1200,1210,1220,1230,1240,1250,1260,1270,1280,1290,1300,1310,1320,1330,1340,1350,1360,1370,1380,1390,1400,1410,1420,1430,1440,1450,1460,1470,1480,1490,1500,1510,1520,1530,1540,1550,1560,1570,1580,1590,1600,1610,1620,1630,1640,1650,1660,1670,1680,1690,1700,1710,1720,1730,1740,1750,1760,1770,1780,1790,1800,1810,1820,1830,1840,1850,1860,1870,1880,1890,1900,1910,1920,1930,1940,1950,1960,1970,1980,1990,2000,2010,2020,2030,2040,2050,2060,2070,2080,2090,2100,2110,2120,2130,2140,2150,2160,2170,2180,2190,2200,2210,2220,2230,2240,2250,2260,2270,2280,2290,2300,2310,2320,2330,2340,2350,2360,2370,2380,2390,2400,2410,2420,2430,2440,2450,2460,2470,2480,2490],\"y\":[656.4993573762241,656.2018463171332,655.9043352580424,655.6068241989516,655.3093131398607,655.0118020807699,654.7142910216791,654.4167799625883,654.1192689034974,653.8217578444066,653.5242467853158,653.226735726225,652.9292246671341,652.6317136080434,652.3342025489525,652.0366914898616,651.7391804307708,651.4416693716801,651.1441583125893,650.8466472534983,650.5491361944075,650.2516251353168,649.954114076226,649.656603017135,649.3590919580442,649.0615808989535,648.7640698398627,648.4665587807717,648.169047721681,647.8715366625902,647.5740256034993,647.2765145444084,646.9790034853177,646.6814924262269,646.383981367136,646.0864703080451,645.7889592489544,645.4914481898636,645.1939371307727,644.8964260716818,644.5989150125911,644.3014039535002,644.0038928944094,643.7063818353186,643.4088707762278,643.1113597171369,642.8138486580461,642.5163375989553,642.2188265398645,641.9213154807736,641.6238044216828,641.326293362592,641.0287823035012,640.7312712444103,640.4337601853196,640.1362491262287,639.8387380671379,639.541227008047,639.2437159489563,638.9462048898654,638.6486938307746,638.3511827716837,638.0536717125929,637.7561606535021,637.4586495944113,637.1611385353204,636.8636274762296,636.5661164171388,636.268605358048,635.9710942989572,635.6735832398663,635.3760721807755,635.0785611216846,634.7810500625939,634.483539003503,634.1860279444122,633.8885168853213,633.5910058262305,633.2934947671397,632.9959837080489,632.698472648958,632.4009615898672,632.1034505307765,631.8059394716856,631.5084284125948,631.2109173535039,630.9134062944132,630.6158952353223,630.3183841762315,630.0208731171406,629.7233620580499,629.345180029492,628.806797305715,628.1099031997156,627.256157541954,626.2471913957212,625.084607750342,623.7699821930495,622.3048635603245,620.6907745694645,618.9292124311088,619.1474621511468,621.5871948039812,623.88379875534,626.0386749574129,628.0532016560988,629.9287349029145,631.6666090521603,633.2681372438585,634.7346118729581,636.0673050452805,637.2674690206615,638.3363366437267,639.2751217627184,640.0850196367774,640.7672073320662,641.3228441071049,641.7530717876766,642.0590151316455,642.2417821840172,642.3024646225587,642.3024646225587,642.3024646225587,642.3024646225587,642.3024646225587,642.3024646225587,642.3024646225587,642.3024646225587,642.3024646225587,642.3024646225587,642.3024646225587,642.3024646225587,642.3024646225587,642.3024646225587,642.3024646225587,642.3024646225587,642.3024646225587,642.3024646225587,642.3024646225587,642.3024646225587,642.3024646225587,642.3024646225587,642.3024646225587,642.3024646225587,642.3024646225587,642.3024646225587,642.3024646225587,642.3024646225587,642.3024646225587,642.3024646225587,642.3024646225587,642.3024646225587,642.3024646225587,642.3024646225587,642.3024646225587,642.3024646225587,642.3024646225587,642.3024646225587,642.3024646225587,642.3024646225587,642.3024646225587,642.3024646225587,642.3024646225587,642.3024646225587,642.3024646225587,642.3024646225587,642.3024646225587,642.3024646225587,642.3024646225587,642.3024646225587,642.3024646225587,642.3024646225587,642.3024646225587,642.3024646225587,642.3024646225587,642.3024646225587,642.3024646225587,642.3024646225587,642.3024646225587,642.3024646225587,642.3024646225587,642.3024646225587,642.3024646225587,642.3024646225587,642.3024646225587,642.3024646225587,642.3024646225587,642.3024646225587,642.3024646225587,642.3024646225587,642.3024646225587,642.3024646225587,642.3024646225587,642.3024646225587,642.3024646225587,642.3024646225587,642.3024646225587,642.3024646225587,642.3024646225587,642.3024646225587],\"type\":\"scatter\"}],                        {\"template\":{\"data\":{\"histogram2dcontour\":[{\"type\":\"histogram2dcontour\",\"colorbar\":{\"outlinewidth\":0,\"ticks\":\"\"},\"colorscale\":[[0.0,\"#0d0887\"],[0.1111111111111111,\"#46039f\"],[0.2222222222222222,\"#7201a8\"],[0.3333333333333333,\"#9c179e\"],[0.4444444444444444,\"#bd3786\"],[0.5555555555555556,\"#d8576b\"],[0.6666666666666666,\"#ed7953\"],[0.7777777777777778,\"#fb9f3a\"],[0.8888888888888888,\"#fdca26\"],[1.0,\"#f0f921\"]]}],\"choropleth\":[{\"type\":\"choropleth\",\"colorbar\":{\"outlinewidth\":0,\"ticks\":\"\"}}],\"histogram2d\":[{\"type\":\"histogram2d\",\"colorbar\":{\"outlinewidth\":0,\"ticks\":\"\"},\"colorscale\":[[0.0,\"#0d0887\"],[0.1111111111111111,\"#46039f\"],[0.2222222222222222,\"#7201a8\"],[0.3333333333333333,\"#9c179e\"],[0.4444444444444444,\"#bd3786\"],[0.5555555555555556,\"#d8576b\"],[0.6666666666666666,\"#ed7953\"],[0.7777777777777778,\"#fb9f3a\"],[0.8888888888888888,\"#fdca26\"],[1.0,\"#f0f921\"]]}],\"heatmap\":[{\"type\":\"heatmap\",\"colorbar\":{\"outlinewidth\":0,\"ticks\":\"\"},\"colorscale\":[[0.0,\"#0d0887\"],[0.1111111111111111,\"#46039f\"],[0.2222222222222222,\"#7201a8\"],[0.3333333333333333,\"#9c179e\"],[0.4444444444444444,\"#bd3786\"],[0.5555555555555556,\"#d8576b\"],[0.6666666666666666,\"#ed7953\"],[0.7777777777777778,\"#fb9f3a\"],[0.8888888888888888,\"#fdca26\"],[1.0,\"#f0f921\"]]}],\"heatmapgl\":[{\"type\":\"heatmapgl\",\"colorbar\":{\"outlinewidth\":0,\"ticks\":\"\"},\"colorscale\":[[0.0,\"#0d0887\"],[0.1111111111111111,\"#46039f\"],[0.2222222222222222,\"#7201a8\"],[0.3333333333333333,\"#9c179e\"],[0.4444444444444444,\"#bd3786\"],[0.5555555555555556,\"#d8576b\"],[0.6666666666666666,\"#ed7953\"],[0.7777777777777778,\"#fb9f3a\"],[0.8888888888888888,\"#fdca26\"],[1.0,\"#f0f921\"]]}],\"contourcarpet\":[{\"type\":\"contourcarpet\",\"colorbar\":{\"outlinewidth\":0,\"ticks\":\"\"}}],\"contour\":[{\"type\":\"contour\",\"colorbar\":{\"outlinewidth\":0,\"ticks\":\"\"},\"colorscale\":[[0.0,\"#0d0887\"],[0.1111111111111111,\"#46039f\"],[0.2222222222222222,\"#7201a8\"],[0.3333333333333333,\"#9c179e\"],[0.4444444444444444,\"#bd3786\"],[0.5555555555555556,\"#d8576b\"],[0.6666666666666666,\"#ed7953\"],[0.7777777777777778,\"#fb9f3a\"],[0.8888888888888888,\"#fdca26\"],[1.0,\"#f0f921\"]]}],\"surface\":[{\"type\":\"surface\",\"colorbar\":{\"outlinewidth\":0,\"ticks\":\"\"},\"colorscale\":[[0.0,\"#0d0887\"],[0.1111111111111111,\"#46039f\"],[0.2222222222222222,\"#7201a8\"],[0.3333333333333333,\"#9c179e\"],[0.4444444444444444,\"#bd3786\"],[0.5555555555555556,\"#d8576b\"],[0.6666666666666666,\"#ed7953\"],[0.7777777777777778,\"#fb9f3a\"],[0.8888888888888888,\"#fdca26\"],[1.0,\"#f0f921\"]]}],\"mesh3d\":[{\"type\":\"mesh3d\",\"colorbar\":{\"outlinewidth\":0,\"ticks\":\"\"}}],\"scatter\":[{\"fillpattern\":{\"fillmode\":\"overlay\",\"size\":10,\"solidity\":0.2},\"type\":\"scatter\"}],\"parcoords\":[{\"type\":\"parcoords\",\"line\":{\"colorbar\":{\"outlinewidth\":0,\"ticks\":\"\"}}}],\"scatterpolargl\":[{\"type\":\"scatterpolargl\",\"marker\":{\"colorbar\":{\"outlinewidth\":0,\"ticks\":\"\"}}}],\"bar\":[{\"error_x\":{\"color\":\"#2a3f5f\"},\"error_y\":{\"color\":\"#2a3f5f\"},\"marker\":{\"line\":{\"color\":\"#E5ECF6\",\"width\":0.5},\"pattern\":{\"fillmode\":\"overlay\",\"size\":10,\"solidity\":0.2}},\"type\":\"bar\"}],\"scattergeo\":[{\"type\":\"scattergeo\",\"marker\":{\"colorbar\":{\"outlinewidth\":0,\"ticks\":\"\"}}}],\"scatterpolar\":[{\"type\":\"scatterpolar\",\"marker\":{\"colorbar\":{\"outlinewidth\":0,\"ticks\":\"\"}}}],\"histogram\":[{\"marker\":{\"pattern\":{\"fillmode\":\"overlay\",\"size\":10,\"solidity\":0.2}},\"type\":\"histogram\"}],\"scattergl\":[{\"type\":\"scattergl\",\"marker\":{\"colorbar\":{\"outlinewidth\":0,\"ticks\":\"\"}}}],\"scatter3d\":[{\"type\":\"scatter3d\",\"line\":{\"colorbar\":{\"outlinewidth\":0,\"ticks\":\"\"}},\"marker\":{\"colorbar\":{\"outlinewidth\":0,\"ticks\":\"\"}}}],\"scattermapbox\":[{\"type\":\"scattermapbox\",\"marker\":{\"colorbar\":{\"outlinewidth\":0,\"ticks\":\"\"}}}],\"scatterternary\":[{\"type\":\"scatterternary\",\"marker\":{\"colorbar\":{\"outlinewidth\":0,\"ticks\":\"\"}}}],\"scattercarpet\":[{\"type\":\"scattercarpet\",\"marker\":{\"colorbar\":{\"outlinewidth\":0,\"ticks\":\"\"}}}],\"carpet\":[{\"aaxis\":{\"endlinecolor\":\"#2a3f5f\",\"gridcolor\":\"white\",\"linecolor\":\"white\",\"minorgridcolor\":\"white\",\"startlinecolor\":\"#2a3f5f\"},\"baxis\":{\"endlinecolor\":\"#2a3f5f\",\"gridcolor\":\"white\",\"linecolor\":\"white\",\"minorgridcolor\":\"white\",\"startlinecolor\":\"#2a3f5f\"},\"type\":\"carpet\"}],\"table\":[{\"cells\":{\"fill\":{\"color\":\"#EBF0F8\"},\"line\":{\"color\":\"white\"}},\"header\":{\"fill\":{\"color\":\"#C8D4E3\"},\"line\":{\"color\":\"white\"}},\"type\":\"table\"}],\"barpolar\":[{\"marker\":{\"line\":{\"color\":\"#E5ECF6\",\"width\":0.5},\"pattern\":{\"fillmode\":\"overlay\",\"size\":10,\"solidity\":0.2}},\"type\":\"barpolar\"}],\"pie\":[{\"automargin\":true,\"type\":\"pie\"}]},\"layout\":{\"autotypenumbers\":\"strict\",\"colorway\":[\"#636efa\",\"#EF553B\",\"#00cc96\",\"#ab63fa\",\"#FFA15A\",\"#19d3f3\",\"#FF6692\",\"#B6E880\",\"#FF97FF\",\"#FECB52\"],\"font\":{\"color\":\"#2a3f5f\"},\"hovermode\":\"closest\",\"hoverlabel\":{\"align\":\"left\"},\"paper_bgcolor\":\"white\",\"plot_bgcolor\":\"#E5ECF6\",\"polar\":{\"bgcolor\":\"#E5ECF6\",\"angularaxis\":{\"gridcolor\":\"white\",\"linecolor\":\"white\",\"ticks\":\"\"},\"radialaxis\":{\"gridcolor\":\"white\",\"linecolor\":\"white\",\"ticks\":\"\"}},\"ternary\":{\"bgcolor\":\"#E5ECF6\",\"aaxis\":{\"gridcolor\":\"white\",\"linecolor\":\"white\",\"ticks\":\"\"},\"baxis\":{\"gridcolor\":\"white\",\"linecolor\":\"white\",\"ticks\":\"\"},\"caxis\":{\"gridcolor\":\"white\",\"linecolor\":\"white\",\"ticks\":\"\"}},\"coloraxis\":{\"colorbar\":{\"outlinewidth\":0,\"ticks\":\"\"}},\"colorscale\":{\"sequential\":[[0.0,\"#0d0887\"],[0.1111111111111111,\"#46039f\"],[0.2222222222222222,\"#7201a8\"],[0.3333333333333333,\"#9c179e\"],[0.4444444444444444,\"#bd3786\"],[0.5555555555555556,\"#d8576b\"],[0.6666666666666666,\"#ed7953\"],[0.7777777777777778,\"#fb9f3a\"],[0.8888888888888888,\"#fdca26\"],[1.0,\"#f0f921\"]],\"sequentialminus\":[[0.0,\"#0d0887\"],[0.1111111111111111,\"#46039f\"],[0.2222222222222222,\"#7201a8\"],[0.3333333333333333,\"#9c179e\"],[0.4444444444444444,\"#bd3786\"],[0.5555555555555556,\"#d8576b\"],[0.6666666666666666,\"#ed7953\"],[0.7777777777777778,\"#fb9f3a\"],[0.8888888888888888,\"#fdca26\"],[1.0,\"#f0f921\"]],\"diverging\":[[0,\"#8e0152\"],[0.1,\"#c51b7d\"],[0.2,\"#de77ae\"],[0.3,\"#f1b6da\"],[0.4,\"#fde0ef\"],[0.5,\"#f7f7f7\"],[0.6,\"#e6f5d0\"],[0.7,\"#b8e186\"],[0.8,\"#7fbc41\"],[0.9,\"#4d9221\"],[1,\"#276419\"]]},\"xaxis\":{\"gridcolor\":\"white\",\"linecolor\":\"white\",\"ticks\":\"\",\"title\":{\"standoff\":15},\"zerolinecolor\":\"white\",\"automargin\":true,\"zerolinewidth\":2},\"yaxis\":{\"gridcolor\":\"white\",\"linecolor\":\"white\",\"ticks\":\"\",\"title\":{\"standoff\":15},\"zerolinecolor\":\"white\",\"automargin\":true,\"zerolinewidth\":2},\"scene\":{\"xaxis\":{\"backgroundcolor\":\"#E5ECF6\",\"gridcolor\":\"white\",\"linecolor\":\"white\",\"showbackground\":true,\"ticks\":\"\",\"zerolinecolor\":\"white\",\"gridwidth\":2},\"yaxis\":{\"backgroundcolor\":\"#E5ECF6\",\"gridcolor\":\"white\",\"linecolor\":\"white\",\"showbackground\":true,\"ticks\":\"\",\"zerolinecolor\":\"white\",\"gridwidth\":2},\"zaxis\":{\"backgroundcolor\":\"#E5ECF6\",\"gridcolor\":\"white\",\"linecolor\":\"white\",\"showbackground\":true,\"ticks\":\"\",\"zerolinecolor\":\"white\",\"gridwidth\":2}},\"shapedefaults\":{\"line\":{\"color\":\"#2a3f5f\"}},\"annotationdefaults\":{\"arrowcolor\":\"#2a3f5f\",\"arrowhead\":0,\"arrowwidth\":1},\"geo\":{\"bgcolor\":\"white\",\"landcolor\":\"#E5ECF6\",\"subunitcolor\":\"white\",\"showland\":true,\"showlakes\":true,\"lakecolor\":\"white\"},\"title\":{\"x\":0.05},\"mapbox\":{\"style\":\"light\"}}},\"autosize\":false,\"width\":1000,\"height\":500},                        {\"responsive\": true}                    ).then(function(){\n",
       "                            \n",
       "var gd = document.getElementById('b8329165-3af7-43f4-80b7-45b3068d31cd');\n",
       "var x = new MutationObserver(function (mutations, observer) {{\n",
       "        var display = window.getComputedStyle(gd).display;\n",
       "        if (!display || display === 'none') {{\n",
       "            console.log([gd, 'removed!']);\n",
       "            Plotly.purge(gd);\n",
       "            observer.disconnect();\n",
       "        }}\n",
       "}});\n",
       "\n",
       "// Listen for the removal of the full notebook cells\n",
       "var notebookContainer = gd.closest('#notebook-container');\n",
       "if (notebookContainer) {{\n",
       "    x.observe(notebookContainer, {childList: true});\n",
       "}}\n",
       "\n",
       "// Listen for the clearing of the current output cell\n",
       "var outputEl = gd.closest('.output');\n",
       "if (outputEl) {{\n",
       "    x.observe(outputEl, {childList: true});\n",
       "}}\n",
       "\n",
       "                        })                };                });            </script>        </div>"
      ]
     },
     "metadata": {},
     "output_type": "display_data"
    }
   ],
   "source": [
    "fig = go.Figure()\n",
    "fig.update_layout(\n",
    "    autosize=False,\n",
    "    width=1000,\n",
    "    height=500)\n",
    "\n",
    "fig.add_trace(go.Scatter(x=prices, y=pure_usdc,\n",
    "                    mode='lines',\n",
    "                    name='pure_usdc'))\n",
    "\n",
    "fig.add_trace(go.Scatter(x=prices, y=uniswap_tvs + optimal_option.initial_cost + earned_fees,\n",
    "                    mode='lines',\n",
    "                    name=\"\"\"uniswap_tvs + option initial cost + fees = {} usdc\"\"\".format(earned_fees)))\n",
    "fig.add_trace(go.Scatter(x=prices, y=option_pnls,\n",
    "                    mode='lines',\n",
    "                    name='option_pnls'))\n",
    "fig.add_trace(go.Scatter(x=prices, y=uniswap_tvs + option_pnls + earned_fees,\n",
    "                    mode='lines',\n",
    "                    name='uniswap_tvs + option_pnls + fees'))"
   ]
  },
  {
   "cell_type": "code",
   "execution_count": 120,
   "id": "4f60aa08-74a0-48ef-abbe-a42d3818bfbe",
   "metadata": {},
   "outputs": [
    {
     "name": "stdout",
     "output_type": "stream",
     "text": [
      "\n",
      "        isCall: False\n",
      "        expiration: 0.12671699855794916\n",
      "        strike: 1544.299751848025\n",
      "        amount: 0.25462320498839514\n",
      "        initial cost: 79.9462731971818 \n",
      "        ---\n",
      "        uniswap_position: lower_price: 1400, upper_price: 1700,\n",
      "        initial_price: 1521.3314452413763, period_in_years: 0.08213552361396304\n",
      "        \n"
     ]
    }
   ],
   "source": [
    "print(optimal_option)"
   ]
  },
  {
   "cell_type": "code",
   "execution_count": null,
   "id": "5c21312e-7c6d-4ede-a532-4377d01d4f44",
   "metadata": {},
   "outputs": [],
   "source": []
  },
  {
   "cell_type": "code",
   "execution_count": 159,
   "id": "78b900c3-9efc-4bd0-b769-5e9a88f7c485",
   "metadata": {},
   "outputs": [],
   "source": [
    "def plot_smile():\n",
    "    #strikes\n",
    "    Kn = F * np.linspace(0.5, 2.6, 32)\n",
    "    c0, iv0 = sabr_0( Kn, F, T )\n",
    "    plt.figure(figsize=(15, 8))\n",
    "    ax1 = plt.subplot(2, 2, 1)\n",
    "    ax1.plot(Kn, c0)\n",
    "    ax1.grid()\n",
    "    ax1.set_title(\"Option price\", fontsize=15)\n",
    "    ax1.set_xlabel(\"strike\", fontsize=12)\n",
    "\n",
    "    ax2 = plt.subplot(2, 2, 2)\n",
    "    ax2.plot(Kn, iv0)\n",
    "    ax2.grid()\n",
    "    ax2.set_title(\"IV\", fontsize=15)\n",
    "    ax2.set_xlabel(\"strike\", fontsize=12)\n",
    "\n",
    "    plt.show()\n",
    "    None"
   ]
  },
  {
   "cell_type": "code",
   "execution_count": null,
   "id": "dc4f8306-20d8-4f03-8fd8-86d1a3443f86",
   "metadata": {},
   "outputs": [],
   "source": []
  },
  {
   "cell_type": "code",
   "execution_count": null,
   "id": "06c67966-9b07-405f-b8da-f326795dc1c1",
   "metadata": {},
   "outputs": [],
   "source": []
  },
  {
   "cell_type": "code",
   "execution_count": null,
   "id": "043e3567-6fe6-4ee0-9c3a-eb8d392f0efe",
   "metadata": {},
   "outputs": [],
   "source": []
  },
  {
   "cell_type": "code",
   "execution_count": null,
   "id": "2d6eaf92-68cf-455f-8a54-f0a1688a5d73",
   "metadata": {},
   "outputs": [],
   "source": []
  }
 ],
 "metadata": {
  "kernelspec": {
   "display_name": "Python 3 (ipykernel)",
   "language": "python",
   "name": "python3"
  },
  "language_info": {
   "codemirror_mode": {
    "name": "ipython",
    "version": 3
   },
   "file_extension": ".py",
   "mimetype": "text/x-python",
   "name": "python",
   "nbconvert_exporter": "python",
   "pygments_lexer": "ipython3",
   "version": "3.8.16"
  }
 },
 "nbformat": 4,
 "nbformat_minor": 5
}
