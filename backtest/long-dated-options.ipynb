{
 "cells": [
  {
   "cell_type": "code",
   "execution_count": 2,
   "id": "53d2bc01-f976-4f40-9af9-775003611c3a",
   "metadata": {},
   "outputs": [],
   "source": [
    "from sabr import SABR\n",
    "from sabr_calibration import SABRCalibrator"
   ]
  },
  {
   "cell_type": "code",
   "execution_count": 3,
   "id": "82159e85-a0d0-4e96-bdc4-ee7a97400503",
   "metadata": {},
   "outputs": [],
   "source": [
    "from deltadex_calibration import calibrate_sabr\n",
    "from deribit_parser import GetOptionMeta"
   ]
  },
  {
   "cell_type": "code",
   "execution_count": 4,
   "id": "bcf905b1-1c83-4701-a054-58b21c5f3c3f",
   "metadata": {},
   "outputs": [],
   "source": [
    "import numpy as np\n",
    "from matplotlib import pyplot as plt\n",
    "import plotly.express as px\n",
    "import plotly.graph_objects as go\n"
   ]
  },
  {
   "cell_type": "code",
   "execution_count": 5,
   "id": "2cb2e1f5-1472-4831-a508-27da2e134426",
   "metadata": {},
   "outputs": [
    {
     "data": {
      "text/plain": [
       "<module 'uniswap_v3_liquidity_math' from '/Users/kirillbogomolov/Desktop/DeltaDex-Protocol/research-branch-main/backtest/uniswap_v3_liquidity_math.py'>"
      ]
     },
     "execution_count": 5,
     "metadata": {},
     "output_type": "execute_result"
    }
   ],
   "source": [
    "import uniswap_v3_liquidity_math as uniswap_math\n",
    "\n",
    "import importlib\n",
    "importlib.reload(uniswap_math)"
   ]
  },
  {
   "cell_type": "code",
   "execution_count": 1046,
   "id": "9653f7c7-3bef-439e-90ad-b2cb2cad1b7b",
   "metadata": {},
   "outputs": [],
   "source": [
    "class UniswapPosition:\n",
    "    def __init__(self, lower_price, upper_price, initial_price, initial_token1_amount, period_in_years):\n",
    "        self.lower_price = lower_price\n",
    "        self.upper_price = upper_price\n",
    "        self.initial_price = initial_price\n",
    "        self.initial_token1_amount = initial_token1_amount\n",
    "        self.period_in_years = period_in_years\n",
    "    \n",
    "    def get_tokens_amounts(self, price):\n",
    "        return uniswap_math.get_tokens_amounts(initial_price = self.initial_price, \n",
    "                                lowerPrice = self.lower_price, upperPrice = self.upper_price, \n",
    "                                initial_y = self.initial_token1_amount, currentPrice = price)\n",
    "    \n",
    "    def get_total_value(self, price):\n",
    "        x, y = self.get_tokens_amounts(price)\n",
    "        return x * price + y"
   ]
  },
  {
   "cell_type": "markdown",
   "id": "cf727282-adf6-4524-94b7-aa02e2dd8303",
   "metadata": {},
   "source": [
    "### Optimal option"
   ]
  },
  {
   "cell_type": "code",
   "execution_count": 1047,
   "id": "430e9493-7512-4899-b2ef-4f6d3a9a2a55",
   "metadata": {},
   "outputs": [],
   "source": [
    "class OptimalOption:\n",
    "    def __init__(self, sabr_model: SABR, \n",
    "                 uniswap_position: UniswapPosition,\n",
    "                 expiration: float,\n",
    "                 strike: float,\n",
    "                 amount: float,\n",
    "                 isCall: bool = False):\n",
    "        \n",
    "        self.sabr_model = sabr_model\n",
    "        self.uniswap_position = uniswap_position\n",
    "        \n",
    "        self.isCall = False\n",
    "        # self.expiration = (1.01 * uniswap_position.period_in_years)\n",
    "        self.expiration = expiration\n",
    "        self.strike = strike\n",
    "        # self.strike = (uniswap_position.lower_price * uniswap_position.upper_price) ** 0.5\n",
    "        self.amount = amount\n",
    "        self.initial_cost = self.amount * self.sabr_model(self.strike, \n",
    "                                                self.uniswap_position.initial_price, \n",
    "                                                self.expiration, \n",
    "                                                self.isCall)[0]\n",
    "    \n",
    "    def update_option_params(self, strike, expiration, amount):\n",
    "        self.strike = strike\n",
    "        self.expiration = expiration\n",
    "        self.amount = amount\n",
    "        self.initial_cost = self.amount * self.sabr_model(self.strike, \n",
    "                                                self.uniswap_position.initial_price, \n",
    "                                                self.expiration, \n",
    "                                                self.isCall)[0]\n",
    "        # print(self.initial_cost)\n",
    "        \n",
    "    def find_optimal_option(self):\n",
    "        \n",
    "        # todo: make bounds being depenedent on underlying_price\n",
    "        prices = np.array([price for price in range(500, 2000, 10 )]) \n",
    "        \n",
    "        from scipy.optimize import minimize\n",
    "        \n",
    "        def _find_optimal_option(x):\n",
    "            strike, expiration, amount = x\n",
    "            self.update_option_params(strike, expiration, amount)\n",
    "            \n",
    "            initial_tv = self.uniswap_position.get_total_value(self.uniswap_position.initial_price)\n",
    "            uniswap_tvs = np.array([self.uniswap_position.get_total_value(price) for price in prices])\n",
    "            \n",
    "            loss = ((self.calculate_hedged_position(prices) + \n",
    "                    uniswap_tvs - initial_tv) ** 2).mean()  \n",
    "            return loss\n",
    "        \n",
    "        x0 = np.array([self.strike, self.expiration, self.amount])\n",
    "        res = minimize(_find_optimal_option, x0, method='nelder-mead',\n",
    "                       options={'xatol': 1e-8, 'disp': True})\n",
    "        \n",
    "        strike, expiration, amount = res.x\n",
    "        \n",
    "        print('strike: {}, expiration: {}, amount: {}'.format(strike, expiration, amount))\n",
    "    \n",
    "    \n",
    "    def calculate_hedged_position(self, prices):\n",
    "        \n",
    "        def calculate_pnl(price, strike):\n",
    "            if self.isCall == True:\n",
    "                return max(price - strike, 0)\n",
    "            if self.isCall == False:\n",
    "                return max(strike - price, 0)\n",
    "        #calculate_pnl(price, self.strike) +\n",
    "        option_pnls = self.amount * np.array([ self.sabr_model(self.strike, \n",
    "                                                    price + 0.0001, # otherwise a bug appears \n",
    "                                                    (self.expiration - self.uniswap_position.period_in_years), \n",
    "                                                    self.isCall)[0] for price in prices]) - self.initial_cost\n",
    "        return option_pnls\n",
    "    \n",
    "    def __repr__(self):\n",
    "        return (\"\"\"\n",
    "        isCall: {}\n",
    "        expiration: {}\n",
    "        strike: {}\n",
    "        amount: {}\n",
    "        initial cost: {} \n",
    "        ---\n",
    "        uniswap_position: lower_price: {}, upper_price: {},\n",
    "        initial_price: {}, period_in_years: {}\n",
    "        \"\"\".format(self.isCall, \n",
    "                    self.expiration,\n",
    "                    self.strike,\n",
    "                    self.amount,\n",
    "                    self.initial_cost,\n",
    "                    self.uniswap_position.lower_price,\n",
    "                    self.uniswap_position.upper_price,\n",
    "                    self.uniswap_position.initial_price,\n",
    "                    self.uniswap_position.period_in_years))\n",
    "    "
   ]
  },
  {
   "cell_type": "markdown",
   "id": "1226a2ce-4293-422e-acf2-4656a617836b",
   "metadata": {},
   "source": [
    "### Calibration"
   ]
  },
  {
   "cell_type": "code",
   "execution_count": 1048,
   "id": "b78aeb97-b5d7-42ab-8c1b-5dce2d714b82",
   "metadata": {},
   "outputs": [],
   "source": [
    "OptionMeta = GetOptionMeta()['Expiry']\n",
    "expiries = list(map(lambda expiry: (expiry[:-5] + \"/\" + expiry[-5:-2] + \"/\" + expiry[-2:]), OptionMeta))\n"
   ]
  },
  {
   "cell_type": "code",
   "execution_count": 1049,
   "id": "ef6e2c01-0354-43e9-941f-ff34a2982323",
   "metadata": {},
   "outputs": [
    {
     "data": {
      "text/plain": [
       "['3/MAR/23',\n",
       " '30/JUN/23',\n",
       " '11/FEB/23',\n",
       " '29/DEC/23',\n",
       " '31/MAR/23',\n",
       " '17/FEB/23',\n",
       " '24/FEB/23',\n",
       " '29/SEP/23',\n",
       " '12/FEB/23',\n",
       " '28/APR/23']"
      ]
     },
     "execution_count": 1049,
     "metadata": {},
     "output_type": "execute_result"
    }
   ],
   "source": [
    "expiries"
   ]
  },
  {
   "cell_type": "code",
   "execution_count": 1050,
   "id": "97067c70-d828-478c-bafc-af8ccda3d238",
   "metadata": {},
   "outputs": [
    {
     "data": {
      "text/plain": [
       "9"
      ]
     },
     "execution_count": 1050,
     "metadata": {},
     "output_type": "execute_result"
    }
   ],
   "source": [
    "expiries.index('28/APR/23')"
   ]
  },
  {
   "cell_type": "code",
   "execution_count": 1051,
   "id": "d597e625-4b35-4fd7-8980-06db6fee23f6",
   "metadata": {},
   "outputs": [
    {
     "data": {
      "text/plain": [
       "'29/SEP/23'"
      ]
     },
     "execution_count": 1051,
     "metadata": {},
     "output_type": "execute_result"
    }
   ],
   "source": [
    "expiry = expiries[expiries.index('29/SEP/23')]\n",
    "expiry"
   ]
  },
  {
   "cell_type": "code",
   "execution_count": 1052,
   "id": "015a40f2-4889-4714-b1b9-fd46cad27b74",
   "metadata": {},
   "outputs": [
    {
     "name": "stderr",
     "output_type": "stream",
     "text": [
      "/Users/kirillbogomolov/Desktop/DeltaDex-Protocol/research-branch-main/backtest/deribit_parser.py:29: RuntimeWarning:\n",
      "\n",
      "divide by zero encountered in double_scalars\n",
      "\n"
     ]
    },
    {
     "name": "stdout",
     "output_type": "stream",
     "text": [
      "db updated 2023-02-11 02:04:56.486903\n"
     ]
    },
    {
     "name": "stderr",
     "output_type": "stream",
     "text": [
      "100%|███████████████████████████████████████| 500/500 [00:00<00:00, 4429.83it/s]"
     ]
    },
    {
     "name": "stdout",
     "output_type": "stream",
     "text": [
      "optimized parameters:\n",
      "('alpha ', 3.30815)\n",
      "('v ', 0.85633)\n",
      "('beta  ', 0.77359)\n",
      "('rho', -0.03069)\n"
     ]
    },
    {
     "name": "stderr",
     "output_type": "stream",
     "text": [
      "\n"
     ]
    }
   ],
   "source": [
    "sabr, underlying_price = calibrate_sabr(SELECTED_EXPIRY = expiry)\n"
   ]
  },
  {
   "cell_type": "code",
   "execution_count": 1053,
   "id": "dcfec6fe-e71f-4517-8c22-e3f22319e66e",
   "metadata": {},
   "outputs": [],
   "source": [
    "# sabr.r = 0.1"
   ]
  },
  {
   "cell_type": "code",
   "execution_count": 1054,
   "id": "bf9d4b25-dd82-4654-b673-8bbf2286e5e8",
   "metadata": {},
   "outputs": [
    {
     "name": "stdout",
     "output_type": "stream",
     "text": [
      "1534.1\n"
     ]
    }
   ],
   "source": [
    "print(underlying_price)"
   ]
  },
  {
   "cell_type": "code",
   "execution_count": 1055,
   "id": "1609de94-769b-48de-8908-2fe5fe6617b6",
   "metadata": {},
   "outputs": [],
   "source": [
    "uniswap_position = UniswapPosition(lower_price = 1400, \n",
    "                                   upper_price = 1700,\n",
    "                                   initial_price = underlying_price, \n",
    "                                   initial_token1_amount = 3000,    # usdcs\n",
    "                                   period_in_years = 30 / 365.25)\n"
   ]
  },
  {
   "cell_type": "code",
   "execution_count": 1056,
   "id": "65f3c472-9cdc-43e9-b890-53893835ca18",
   "metadata": {},
   "outputs": [
    {
     "name": "stdout",
     "output_type": "stream",
     "text": [
      "6358.392688687667\n",
      "(2.189161520557765, 3000.0)\n"
     ]
    }
   ],
   "source": [
    "print(uniswap_position.get_total_value(uniswap_position.initial_price))\n",
    "print(uniswap_position.get_tokens_amounts(uniswap_position.initial_price))"
   ]
  },
  {
   "cell_type": "code",
   "execution_count": 1057,
   "id": "369e261d-73f8-4d2e-b6a6-803962aa94eb",
   "metadata": {},
   "outputs": [],
   "source": [
    "# #sabr model parameters\n",
    "# alpha = 0.2\n",
    "# v = 0.9\n",
    "# beta = 0.9\n",
    "# rho = -0.5\n",
    "\n",
    "# sabr_params_0 = np.asarray([alpha, v, beta, rho])"
   ]
  },
  {
   "cell_type": "code",
   "execution_count": 1058,
   "id": "c611f6af-4332-4e46-a3b0-7497c7ef6673",
   "metadata": {},
   "outputs": [],
   "source": [
    "# r = 0.1\n",
    "#sabr model\n",
    "# sabr_0 = SABR(sabr_params_0, r)"
   ]
  },
  {
   "cell_type": "code",
   "execution_count": 1059,
   "id": "cb97e43c-133c-4dbe-b4c8-6a5a99803150",
   "metadata": {},
   "outputs": [],
   "source": [
    "strike = 1650\n",
    "expiration_in_years = 75 / 365.25\n",
    "amount = 1"
   ]
  },
  {
   "cell_type": "code",
   "execution_count": 1060,
   "id": "acbcbd66-5735-4b7d-a15d-01aa43d62174",
   "metadata": {},
   "outputs": [],
   "source": [
    "optimal_option = OptimalOption(sabr, \n",
    "                               uniswap_position, \n",
    "                               expiration_in_years, \n",
    "                               strike, \n",
    "                               amount, \n",
    "                               isCall = False)"
   ]
  },
  {
   "cell_type": "code",
   "execution_count": 1061,
   "id": "4c3ea415-5a50-47d1-9fcb-83f70356c729",
   "metadata": {},
   "outputs": [
    {
     "name": "stderr",
     "output_type": "stream",
     "text": [
      "/Users/kirillbogomolov/Desktop/DeltaDex-Protocol/research-branch-main/backtest/black_scholes.py:74: RuntimeWarning:\n",
      "\n",
      "invalid value encountered in sqrt\n",
      "\n",
      "/Users/kirillbogomolov/Desktop/DeltaDex-Protocol/research-branch-main/backtest/black_scholes.py:75: RuntimeWarning:\n",
      "\n",
      "invalid value encountered in sqrt\n",
      "\n"
     ]
    },
    {
     "name": "stdout",
     "output_type": "stream",
     "text": [
      "Optimization terminated successfully.\n",
      "         Current function value: 70467.062873\n",
      "         Iterations: 192\n",
      "         Function evaluations: 382\n",
      "strike: 1514.8761026252178, expiration: 0.08275297380142299, amount: 4.7689414676318815\n"
     ]
    }
   ],
   "source": [
    "optimal_option.find_optimal_option()"
   ]
  },
  {
   "cell_type": "code",
   "execution_count": 1062,
   "id": "ada78d60-e6b0-4a3d-ba20-b9728da5e29f",
   "metadata": {},
   "outputs": [],
   "source": [
    "prices = np.array([price for price in range(500, 2500, 10 )])\n"
   ]
  },
  {
   "cell_type": "code",
   "execution_count": 1063,
   "id": "99b4b72b-94a7-44ad-b485-48a1d0c7ed8b",
   "metadata": {},
   "outputs": [
    {
     "data": {
      "text/plain": [
       "[<matplotlib.lines.Line2D at 0x28e415e80>]"
      ]
     },
     "execution_count": 1063,
     "metadata": {},
     "output_type": "execute_result"
    },
    {
     "data": {
      "image/png": "[encoded data removed]",
      "text/plain": [
       "<Figure size 640x480 with 1 Axes>"
      ]
     },
     "metadata": {},
     "output_type": "display_data"
    }
   ],
   "source": [
    "plt.plot(prices, optimal_option.calculate_hedged_position(prices))"
   ]
  },
  {
   "cell_type": "code",
   "execution_count": 1064,
   "id": "b423c8f5-52cb-4634-b349-82744c0c78f9",
   "metadata": {},
   "outputs": [
    {
     "data": {
      "text/plain": [
       "-482.522200427156"
      ]
     },
     "execution_count": 1064,
     "metadata": {},
     "output_type": "execute_result"
    }
   ],
   "source": [
    "min(optimal_option.calculate_hedged_position(prices))"
   ]
  },
  {
   "cell_type": "code",
   "execution_count": 1065,
   "id": "6e16a93a-420b-4e8d-9fde-6d17f890e9e9",
   "metadata": {},
   "outputs": [
    {
     "name": "stdout",
     "output_type": "stream",
     "text": [
      "1514.8761026274701 1534.1 30.204835437582126\n"
     ]
    }
   ],
   "source": [
    "print(optimal_option.strike, optimal_option.uniswap_position.initial_price, optimal_option.expiration * 365)"
   ]
  },
  {
   "cell_type": "code",
   "execution_count": 1066,
   "id": "e292b06c-c26f-4f3c-9b8a-ccd1b07a6794",
   "metadata": {},
   "outputs": [
    {
     "data": {
      "text/plain": [
       "188.3371590400285"
      ]
     },
     "execution_count": 1066,
     "metadata": {},
     "output_type": "execute_result"
    }
   ],
   "source": [
    "optimal_option.sabr_model(1600, \n",
    "                                                1515, \n",
    "                                                48/365.25, \n",
    "                                                False)[0]"
   ]
  },
  {
   "cell_type": "code",
   "execution_count": 1067,
   "id": "b261a4ac-f5a3-45d4-976d-be1c701ecb3f",
   "metadata": {},
   "outputs": [
    {
     "data": {
      "text/plain": [
       "30.225523681032524"
      ]
     },
     "execution_count": 1067,
     "metadata": {},
     "output_type": "execute_result"
    }
   ],
   "source": [
    "optimal_option.expiration * 365.25"
   ]
  },
  {
   "cell_type": "code",
   "execution_count": 1068,
   "id": "d07113dc-f130-49a0-b646-73d4e5776289",
   "metadata": {},
   "outputs": [],
   "source": [
    "# optimal_option.sabr_model(optimal_option.strike, \n",
    "#                 underlying_price + 0.0001, \n",
    "#                 (optimal_option.expiration - optimal_option.uniswap_position.period_in_years), \n",
    "#                 optimal_option.isCall)[0]"
   ]
  },
  {
   "cell_type": "code",
   "execution_count": 1069,
   "id": "8430a103-a778-4d3c-91f9-3bf5dc8893be",
   "metadata": {},
   "outputs": [
    {
     "data": {
      "text/plain": [
       "30.225523681032524"
      ]
     },
     "execution_count": 1069,
     "metadata": {},
     "output_type": "execute_result"
    }
   ],
   "source": [
    "optimal_option.expiration * 365.25"
   ]
  },
  {
   "cell_type": "code",
   "execution_count": 1070,
   "id": "1a37d882-fcb5-4330-a628-89d4569f9541",
   "metadata": {},
   "outputs": [
    {
     "name": "stdout",
     "output_type": "stream",
     "text": [
      "\n",
      "        isCall: False\n",
      "        expiration: 0.08275297380159487\n",
      "        strike: 1514.8761026274701\n",
      "        amount: 4.76894146762066\n",
      "        initial cost: 482.522200427156 \n",
      "        ---\n",
      "        uniswap_position: lower_price: 1400, upper_price: 1700,\n",
      "        initial_price: 1534.1, period_in_years: 0.08213552361396304\n",
      "        \n"
     ]
    }
   ],
   "source": [
    "print(optimal_option)"
   ]
  },
  {
   "cell_type": "code",
   "execution_count": 1071,
   "id": "e90b6dd0-7962-4523-8523-abf7de6bfe1e",
   "metadata": {},
   "outputs": [],
   "source": [
    "prices = np.array([price for price in range(500, 2500, 10 )])\n",
    "\n",
    "pure_usdc = np.array([uniswap_position.get_total_value(uniswap_position.initial_price) for _ in prices])"
   ]
  },
  {
   "cell_type": "code",
   "execution_count": 1072,
   "id": "ab9d69dc-acf6-4d0f-9ec9-2318642b7446",
   "metadata": {},
   "outputs": [
    {
     "data": {
      "text/plain": [
       "482.522200427156"
      ]
     },
     "execution_count": 1072,
     "metadata": {},
     "output_type": "execute_result"
    }
   ],
   "source": [
    "optimal_option.initial_cost"
   ]
  },
  {
   "cell_type": "code",
   "execution_count": 1073,
   "id": "83e69910-e66a-4219-be92-556d1902b0fd",
   "metadata": {},
   "outputs": [],
   "source": [
    "# optimal_option.update_option_params(optimal_option.strike, 0.2, 0.4)"
   ]
  },
  {
   "cell_type": "code",
   "execution_count": 1074,
   "id": "b24d0824-e4a0-4c01-9a57-0bd9c75c6b99",
   "metadata": {},
   "outputs": [],
   "source": [
    "uniswap_tvs = np.array([uniswap_position.get_total_value(price) for price in prices])\n",
    "option_pnls = optimal_option.calculate_hedged_position(prices)\n"
   ]
  },
  {
   "cell_type": "code",
   "execution_count": 1078,
   "id": "304456ac-caec-46d0-a3cd-66fdc30bbab5",
   "metadata": {},
   "outputs": [],
   "source": [
    "earned_fees = 0 # in usdc"
   ]
  },
  {
   "cell_type": "code",
   "execution_count": 1079,
   "id": "7cab6a00-ce8b-42d4-82fc-eec733747a08",
   "metadata": {},
   "outputs": [],
   "source": [
    "# pure_usdc"
   ]
  },
  {
   "cell_type": "code",
   "execution_count": 1080,
   "id": "411e6925-8420-44fc-b10f-7d38d82ae170",
   "metadata": {},
   "outputs": [],
   "source": [
    "# uniswap_tvs"
   ]
  },
  {
   "cell_type": "code",
   "execution_count": null,
   "id": "5a2dd72e-3731-4891-9c12-264199b266b2",
   "metadata": {},
   "outputs": [],
   "source": []
  },
  {
   "cell_type": "code",
   "execution_count": 1081,
   "id": "bc88d283-a1dd-4463-8f25-28f86e055032",
   "metadata": {
    "tags": []
   },
   "outputs": [
    {
     "data": {
      "application/vnd.plotly.v1+json": {
       "config": {
        "plotlyServerURL": "https://plot.ly"
       },
       "data": [
        {
         "mode": "lines",
         "name": "pure_usdc",
         "type": "scatter",
         "x": [
          500,
          510,
          520,
          530,
          540,
          550,
          560,
          570,
          580,
          590,
          600,
          610,
          620,
          630,
          640,
          650,
          660,
          670,
          680,
          690,
          700,
          710,
          720,
          730,
          740,
          750,
          760,
          770,
          780,
          790,
          800,
          810,
          820,
          830,
          840,
          850,
          860,
          870,
          880,
          890,
          900,
          910,
          920,
          930,
          940,
          950,
          960,
          970,
          980,
          990,
          1000,
          1010,
          1020,
          1030,
          1040,
          1050,
          1060,
          1070,
          1080,
          1090,
          1100,
          1110,
          1120,
          1130,
          1140,
          1150,
          1160,
          1170,
          1180,
          1190,
          1200,
          1210,
          1220,
          1230,
          1240,
          1250,
          1260,
          1270,
          1280,
          1290,
          1300,
          1310,
          1320,
          1330,
          1340,
          1350,
          1360,
          1370,
          1380,
          1390,
          1400,
          1410,
          1420,
          1430,
          1440,
          1450,
          1460,
          1470,
          1480,
          1490,
          1500,
          1510,
          1520,
          1530,
          1540,
          1550,
          1560,
          1570,
          1580,
          1590,
          1600,
          1610,
          1620,
          1630,
          1640,
          1650,
          1660,
          1670,
          1680,
          1690,
          1700,
          1710,
          1720,
          1730,
          1740,
          1750,
          1760,
          1770,
          1780,
          1790,
          1800,
          1810,
          1820,
          1830,
          1840,
          1850,
          1860,
          1870,
          1880,
          1890,
          1900,
          1910,
          1920,
          1930,
          1940,
          1950,
          1960,
          1970,
          1980,
          1990,
          2000,
          2010,
          2020,
          2030,
          2040,
          2050,
          2060,
          2070,
          2080,
          2090,
          2100,
          2110,
          2120,
          2130,
          2140,
          2150,
          2160,
          2170,
          2180,
          2190,
          2200,
          2210,
          2220,
          2230,
          2240,
          2250,
          2260,
          2270,
          2280,
          2290,
          2300,
          2310,
          2320,
          2330,
          2340,
          2350,
          2360,
          2370,
          2380,
          2390,
          2400,
          2410,
          2420,
          2430,
          2440,
          2450,
          2460,
          2470,
          2480,
          2490
         ],
         "y": [
          6358.392688687667,
          6358.392688687667,
          6358.392688687667,
          6358.392688687667,
          6358.392688687667,
          6358.392688687667,
          6358.392688687667,
          6358.392688687667,
          6358.392688687667,
          6358.392688687667,
          6358.392688687667,
          6358.392688687667,
          6358.392688687667,
          6358.392688687667,
          6358.392688687667,
          6358.392688687667,
          6358.392688687667,
          6358.392688687667,
          6358.392688687667,
          6358.392688687667,
          6358.392688687667,
          6358.392688687667,
          6358.392688687667,
          6358.392688687667,
          6358.392688687667,
          6358.392688687667,
          6358.392688687667,
          6358.392688687667,
          6358.392688687667,
          6358.392688687667,
          6358.392688687667,
          6358.392688687667,
          6358.392688687667,
          6358.392688687667,
          6358.392688687667,
          6358.392688687667,
          6358.392688687667,
          6358.392688687667,
          6358.392688687667,
          6358.392688687667,
          6358.392688687667,
          6358.392688687667,
          6358.392688687667,
          6358.392688687667,
          6358.392688687667,
          6358.392688687667,
          6358.392688687667,
          6358.392688687667,
          6358.392688687667,
          6358.392688687667,
          6358.392688687667,
          6358.392688687667,
          6358.392688687667,
          6358.392688687667,
          6358.392688687667,
          6358.392688687667,
          6358.392688687667,
          6358.392688687667,
          6358.392688687667,
          6358.392688687667,
          6358.392688687667,
          6358.392688687667,
          6358.392688687667,
          6358.392688687667,
          6358.392688687667,
          6358.392688687667,
          6358.392688687667,
          6358.392688687667,
          6358.392688687667,
          6358.392688687667,
          6358.392688687667,
          6358.392688687667,
          6358.392688687667,
          6358.392688687667,
          6358.392688687667,
          6358.392688687667,
          6358.392688687667,
          6358.392688687667,
          6358.392688687667,
          6358.392688687667,
          6358.392688687667,
          6358.392688687667,
          6358.392688687667,
          6358.392688687667,
          6358.392688687667,
          6358.392688687667,
          6358.392688687667,
          6358.392688687667,
          6358.392688687667,
          6358.392688687667,
          6358.392688687667,
          6358.392688687667,
          6358.392688687667,
          6358.392688687667,
          6358.392688687667,
          6358.392688687667,
          6358.392688687667,
          6358.392688687667,
          6358.392688687667,
          6358.392688687667,
          6358.392688687667,
          6358.392688687667,
          6358.392688687667,
          6358.392688687667,
          6358.392688687667,
          6358.392688687667,
          6358.392688687667,
          6358.392688687667,
          6358.392688687667,
          6358.392688687667,
          6358.392688687667,
          6358.392688687667,
          6358.392688687667,
          6358.392688687667,
          6358.392688687667,
          6358.392688687667,
          6358.392688687667,
          6358.392688687667,
          6358.392688687667,
          6358.392688687667,
          6358.392688687667,
          6358.392688687667,
          6358.392688687667,
          6358.392688687667,
          6358.392688687667,
          6358.392688687667,
          6358.392688687667,
          6358.392688687667,
          6358.392688687667,
          6358.392688687667,
          6358.392688687667,
          6358.392688687667,
          6358.392688687667,
          6358.392688687667,
          6358.392688687667,
          6358.392688687667,
          6358.392688687667,
          6358.392688687667,
          6358.392688687667,
          6358.392688687667,
          6358.392688687667,
          6358.392688687667,
          6358.392688687667,
          6358.392688687667,
          6358.392688687667,
          6358.392688687667,
          6358.392688687667,
          6358.392688687667,
          6358.392688687667,
          6358.392688687667,
          6358.392688687667,
          6358.392688687667,
          6358.392688687667,
          6358.392688687667,
          6358.392688687667,
          6358.392688687667,
          6358.392688687667,
          6358.392688687667,
          6358.392688687667,
          6358.392688687667,
          6358.392688687667,
          6358.392688687667,
          6358.392688687667,
          6358.392688687667,
          6358.392688687667,
          6358.392688687667,
          6358.392688687667,
          6358.392688687667,
          6358.392688687667,
          6358.392688687667,
          6358.392688687667,
          6358.392688687667,
          6358.392688687667,
          6358.392688687667,
          6358.392688687667,
          6358.392688687667,
          6358.392688687667,
          6358.392688687667,
          6358.392688687667,
          6358.392688687667,
          6358.392688687667,
          6358.392688687667,
          6358.392688687667,
          6358.392688687667,
          6358.392688687667,
          6358.392688687667,
          6358.392688687667,
          6358.392688687667,
          6358.392688687667,
          6358.392688687667,
          6358.392688687667,
          6358.392688687667,
          6358.392688687667,
          6358.392688687667,
          6358.392688687667,
          6358.392688687667,
          6358.392688687667,
          6358.392688687667,
          6358.392688687667,
          6358.392688687667
         ]
        },
        {
         "mode": "lines",
         "name": "uniswap_tvs + fees = 0 usdc",
         "type": "scatter",
         "x": [
          500,
          510,
          520,
          530,
          540,
          550,
          560,
          570,
          580,
          590,
          600,
          610,
          620,
          630,
          640,
          650,
          660,
          670,
          680,
          690,
          700,
          710,
          720,
          730,
          740,
          750,
          760,
          770,
          780,
          790,
          800,
          810,
          820,
          830,
          840,
          850,
          860,
          870,
          880,
          890,
          900,
          910,
          920,
          930,
          940,
          950,
          960,
          970,
          980,
          990,
          1000,
          1010,
          1020,
          1030,
          1040,
          1050,
          1060,
          1070,
          1080,
          1090,
          1100,
          1110,
          1120,
          1130,
          1140,
          1150,
          1160,
          1170,
          1180,
          1190,
          1200,
          1210,
          1220,
          1230,
          1240,
          1250,
          1260,
          1270,
          1280,
          1290,
          1300,
          1310,
          1320,
          1330,
          1340,
          1350,
          1360,
          1370,
          1380,
          1390,
          1400,
          1410,
          1420,
          1430,
          1440,
          1450,
          1460,
          1470,
          1480,
          1490,
          1500,
          1510,
          1520,
          1530,
          1540,
          1550,
          1560,
          1570,
          1580,
          1590,
          1600,
          1610,
          1620,
          1630,
          1640,
          1650,
          1660,
          1670,
          1680,
          1690,
          1700,
          1710,
          1720,
          1730,
          1740,
          1750,
          1760,
          1770,
          1780,
          1790,
          1800,
          1810,
          1820,
          1830,
          1840,
          1850,
          1860,
          1870,
          1880,
          1890,
          1900,
          1910,
          1920,
          1930,
          1940,
          1950,
          1960,
          1970,
          1980,
          1990,
          2000,
          2010,
          2020,
          2030,
          2040,
          2050,
          2060,
          2070,
          2080,
          2090,
          2100,
          2110,
          2120,
          2130,
          2140,
          2150,
          2160,
          2170,
          2180,
          2190,
          2200,
          2210,
          2220,
          2230,
          2240,
          2250,
          2260,
          2270,
          2280,
          2290,
          2300,
          2310,
          2320,
          2330,
          2340,
          2350,
          2360,
          2370,
          2380,
          2390,
          2400,
          2410,
          2420,
          2430,
          2440,
          2450,
          2460,
          2470,
          2480,
          2490
         ],
         "y": [
          2118.110359041401,
          2160.4725662222286,
          2202.8347734030567,
          2245.196980583885,
          2287.559187764713,
          2329.9213949455407,
          2372.283602126369,
          2414.645809307197,
          2457.008016488025,
          2499.3702236688528,
          2541.732430849681,
          2584.094638030509,
          2626.456845211337,
          2668.819052392165,
          2711.181259572993,
          2753.543466753821,
          2795.905673934649,
          2838.267881115477,
          2880.630088296305,
          2922.992295477133,
          2965.354502657961,
          3007.716709838789,
          3050.078917019617,
          3092.4411242004453,
          3134.803331381273,
          3177.165538562101,
          3219.5277457429293,
          3261.8899529237574,
          3304.252160104585,
          3346.614367285413,
          3388.9765744662413,
          3431.338781647069,
          3473.700988827897,
          3516.0631960087253,
          3558.4254031895534,
          3600.787610370381,
          3643.1498175512093,
          3685.5120247320374,
          3727.8742319128655,
          3770.236439093693,
          3812.5986462745213,
          3854.9608534553495,
          3897.3230606361776,
          3939.6852678170053,
          3982.0474749978334,
          4024.4096821786616,
          4066.7718893594893,
          4109.134096540318,
          4151.4963037211455,
          4193.858510901973,
          4236.220718082802,
          4278.5829252636295,
          4320.945132444457,
          4363.307339625286,
          4405.669546806113,
          4448.031753986942,
          4490.39396116777,
          4532.756168348597,
          4575.118375529426,
          4617.480582710254,
          4659.842789891081,
          4702.20499707191,
          4744.567204252738,
          4786.929411433565,
          4829.291618614394,
          4871.653825795222,
          4914.01603297605,
          4956.378240156878,
          4998.7404473377055,
          5041.102654518534,
          5083.464861699362,
          5125.8270688801895,
          5168.189276061018,
          5210.551483241846,
          5252.913690422674,
          5295.275897603502,
          5337.63810478433,
          5380.000311965158,
          5422.362519145986,
          5464.724726326814,
          5507.086933507642,
          5549.44914068847,
          5591.811347869298,
          5634.173555050126,
          5676.535762230954,
          5718.8979694117825,
          5761.26017659261,
          5803.622383773438,
          5845.984590954266,
          5888.346798135094,
          5930.709005315922,
          5972.256447269193,
          6012.185885165273,
          6050.514380823271,
          6087.258698292898,
          6122.435311079582,
          6156.060409145722,
          6188.149905696511,
          6218.719443758383,
          6247.7844025577615,
          6275.3599037074855,
          6301.4608172079425,
          6326.101767269648,
          6349.297137963729,
          6371.061078706478,
          6391.407509583903,
          6410.3501265219365,
          6427.902406307734,
          6444.077611467284,
          6458.888795004308,
          6472.348805005248,
          6484.470289114937,
          6495.265698887368,
          6504.74729401578,
          6512.9271464461635,
          6519.817144378024,
          6525.428996156239,
          6529.774234057537,
          6532.864217975115,
          6534.710139004693,
          6535.3230229352275,
          6535.3230229352275,
          6535.3230229352275,
          6535.3230229352275,
          6535.3230229352275,
          6535.3230229352275,
          6535.3230229352275,
          6535.3230229352275,
          6535.3230229352275,
          6535.3230229352275,
          6535.3230229352275,
          6535.3230229352275,
          6535.3230229352275,
          6535.3230229352275,
          6535.3230229352275,
          6535.3230229352275,
          6535.3230229352275,
          6535.3230229352275,
          6535.3230229352275,
          6535.3230229352275,
          6535.3230229352275,
          6535.3230229352275,
          6535.3230229352275,
          6535.3230229352275,
          6535.3230229352275,
          6535.3230229352275,
          6535.3230229352275,
          6535.3230229352275,
          6535.3230229352275,
          6535.3230229352275,
          6535.3230229352275,
          6535.3230229352275,
          6535.3230229352275,
          6535.3230229352275,
          6535.3230229352275,
          6535.3230229352275,
          6535.3230229352275,
          6535.3230229352275,
          6535.3230229352275,
          6535.3230229352275,
          6535.3230229352275,
          6535.3230229352275,
          6535.3230229352275,
          6535.3230229352275,
          6535.3230229352275,
          6535.3230229352275,
          6535.3230229352275,
          6535.3230229352275,
          6535.3230229352275,
          6535.3230229352275,
          6535.3230229352275,
          6535.3230229352275,
          6535.3230229352275,
          6535.3230229352275,
          6535.3230229352275,
          6535.3230229352275,
          6535.3230229352275,
          6535.3230229352275,
          6535.3230229352275,
          6535.3230229352275,
          6535.3230229352275,
          6535.3230229352275,
          6535.3230229352275,
          6535.3230229352275,
          6535.3230229352275,
          6535.3230229352275,
          6535.3230229352275,
          6535.3230229352275,
          6535.3230229352275,
          6535.3230229352275,
          6535.3230229352275,
          6535.3230229352275,
          6535.3230229352275,
          6535.3230229352275,
          6535.3230229352275,
          6535.3230229352275,
          6535.3230229352275,
          6535.3230229352275,
          6535.3230229352275,
          6535.3230229352275
         ]
        },
        {
         "mode": "lines",
         "name": "option_pnls",
         "type": "scatter",
         "x": [
          500,
          510,
          520,
          530,
          540,
          550,
          560,
          570,
          580,
          590,
          600,
          610,
          620,
          630,
          640,
          650,
          660,
          670,
          680,
          690,
          700,
          710,
          720,
          730,
          740,
          750,
          760,
          770,
          780,
          790,
          800,
          810,
          820,
          830,
          840,
          850,
          860,
          870,
          880,
          890,
          900,
          910,
          920,
          930,
          940,
          950,
          960,
          970,
          980,
          990,
          1000,
          1010,
          1020,
          1030,
          1040,
          1050,
          1060,
          1070,
          1080,
          1090,
          1100,
          1110,
          1120,
          1130,
          1140,
          1150,
          1160,
          1170,
          1180,
          1190,
          1200,
          1210,
          1220,
          1230,
          1240,
          1250,
          1260,
          1270,
          1280,
          1290,
          1300,
          1310,
          1320,
          1330,
          1340,
          1350,
          1360,
          1370,
          1380,
          1390,
          1400,
          1410,
          1420,
          1430,
          1440,
          1450,
          1460,
          1470,
          1480,
          1490,
          1500,
          1510,
          1520,
          1530,
          1540,
          1550,
          1560,
          1570,
          1580,
          1590,
          1600,
          1610,
          1620,
          1630,
          1640,
          1650,
          1660,
          1670,
          1680,
          1690,
          1700,
          1710,
          1720,
          1730,
          1740,
          1750,
          1760,
          1770,
          1780,
          1790,
          1800,
          1810,
          1820,
          1830,
          1840,
          1850,
          1860,
          1870,
          1880,
          1890,
          1900,
          1910,
          1920,
          1930,
          1940,
          1950,
          1960,
          1970,
          1980,
          1990,
          2000,
          2010,
          2020,
          2030,
          2040,
          2050,
          2060,
          2070,
          2080,
          2090,
          2100,
          2110,
          2120,
          2130,
          2140,
          2150,
          2160,
          2170,
          2180,
          2190,
          2200,
          2210,
          2220,
          2230,
          2240,
          2250,
          2260,
          2270,
          2280,
          2290,
          2300,
          2310,
          2320,
          2330,
          2340,
          2350,
          2360,
          2370,
          2380,
          2390,
          2400,
          2410,
          2420,
          2430,
          2440,
          2450,
          2460,
          2470,
          2480,
          2490
         ],
         "y": [
          4357.36205299608,
          4309.672638319874,
          4261.983223643667,
          4214.293808967461,
          4166.604394291254,
          4118.914979615047,
          4071.225564938841,
          4023.5361502626342,
          3975.846735586428,
          3928.157320910221,
          3880.467906234014,
          3832.778491557808,
          3785.089076881601,
          3737.399662205395,
          3689.710247529188,
          3642.020832852982,
          3594.331418176775,
          3546.6420035005685,
          3498.952588824362,
          3451.263174148155,
          3403.5737594719485,
          3355.884344795742,
          3308.1949301195355,
          3260.505515443329,
          3212.8161007671224,
          3165.1266860909154,
          3117.437271414709,
          3069.7478567385024,
          3022.058442062296,
          2974.3690273860893,
          2926.6796127098823,
          2878.990198033676,
          2831.3007833574693,
          2783.611368681263,
          2735.9219540050563,
          2688.2325393288497,
          2640.5431246526427,
          2592.853709976436,
          2545.1642953002297,
          2497.474880624023,
          2449.7854659478166,
          2402.09605127161,
          2354.406636595403,
          2306.7172219191966,
          2259.02780724299,
          2211.3383925667836,
          2163.648977890577,
          2115.9595632143705,
          2068.2701485381635,
          2020.580733861957,
          1972.8913191857505,
          1925.201904509544,
          1877.5124898333374,
          1829.823075157131,
          1782.133660480924,
          1734.4442458047174,
          1686.754831128511,
          1639.0654164523044,
          1591.3760017760978,
          1543.6865870998909,
          1495.9971724236843,
          1448.3077577474778,
          1400.6183430712713,
          1352.9289283950648,
          1305.2395137188578,
          1257.5500990426513,
          1209.8606843664447,
          1162.1712696902382,
          1114.4818550140317,
          1066.7924403378252,
          1019.1030256616183,
          971.4136109854118,
          923.7241963092052,
          876.0347816329985,
          828.345366956792,
          780.6559522805854,
          732.9665376043787,
          685.2771229281722,
          637.5877082519654,
          589.8982935757589,
          542.2088788995524,
          494.5194642233457,
          446.8300495471391,
          399.14063487093256,
          351.45122019472603,
          303.76180551852224,
          256.07239084239643,
          208.38297616799514,
          160.69356152441833,
          113.0041473263741,
          65.31473835080658,
          17.625379162077024,
          -30.06359293186722,
          -77.75010350011343,
          -125.42377629131926,
          -173.04238334058664,
          -220.46619433665097,
          -267.3201310946099,
          -312.7915732905314,
          -355.4742586904635,
          -393.4667601391315,
          -424.86505617282336,
          -448.4922582364333,
          -464.42292170132714,
          -473.9305237412047,
          -478.9096143679771,
          -481.1843527386468,
          -482.08761651292997,
          -482.398710261174,
          -482.49155506162333,
          -482.51556415990854,
          -482.5209465538321,
          -482.5219936388283,
          -482.52217063576904,
          -482.52219667365273,
          -482.5222000130031,
          -482.52220038707367,
          -482.5222004237469,
          -482.5222004269012,
          -482.52220042713975,
          -482.5222004271549,
          -482.522200427156,
          -482.522200427156,
          -482.522200427156,
          -482.522200427156,
          -482.522200427156,
          -482.522200427156,
          -482.522200427156,
          -482.522200427156,
          -482.522200427156,
          -482.522200427156,
          -482.522200427156,
          -482.522200427156,
          -482.522200427156,
          -482.522200427156,
          -482.522200427156,
          -482.522200427156,
          -482.522200427156,
          -482.522200427156,
          -482.522200427156,
          -482.522200427156,
          -482.522200427156,
          -482.522200427156,
          -482.522200427156,
          -482.522200427156,
          -482.522200427156,
          -482.522200427156,
          -482.522200427156,
          -482.522200427156,
          -482.522200427156,
          -482.522200427156,
          -482.522200427156,
          -482.522200427156,
          -482.522200427156,
          -482.522200427156,
          -482.522200427156,
          -482.522200427156,
          -482.522200427156,
          -482.522200427156,
          -482.522200427156,
          -482.522200427156,
          -482.522200427156,
          -482.522200427156,
          -482.522200427156,
          -482.522200427156,
          -482.522200427156,
          -482.522200427156,
          -482.522200427156,
          -482.522200427156,
          -482.522200427156,
          -482.522200427156,
          -482.522200427156,
          -482.522200427156,
          -482.522200427156,
          -482.522200427156,
          -482.522200427156,
          -482.522200427156,
          -482.522200427156,
          -482.522200427156,
          -482.522200427156,
          -482.522200427156,
          -482.522200427156,
          -482.522200427156,
          -482.522200427156,
          -482.522200427156,
          -482.522200427156,
          -482.522200427156,
          -482.522200427156,
          -482.522200427156,
          -482.522200427156,
          -482.522200427156,
          -482.522200427156,
          -482.522200427156,
          -482.522200427156,
          -482.522200427156,
          -482.522200427156,
          -482.522200427156,
          -482.522200427156,
          -482.522200427156,
          -482.522200427156
         ]
        },
        {
         "mode": "lines",
         "name": "uniswap_tvs + option_pnls + fees",
         "type": "scatter",
         "x": [
          500,
          510,
          520,
          530,
          540,
          550,
          560,
          570,
          580,
          590,
          600,
          610,
          620,
          630,
          640,
          650,
          660,
          670,
          680,
          690,
          700,
          710,
          720,
          730,
          740,
          750,
          760,
          770,
          780,
          790,
          800,
          810,
          820,
          830,
          840,
          850,
          860,
          870,
          880,
          890,
          900,
          910,
          920,
          930,
          940,
          950,
          960,
          970,
          980,
          990,
          1000,
          1010,
          1020,
          1030,
          1040,
          1050,
          1060,
          1070,
          1080,
          1090,
          1100,
          1110,
          1120,
          1130,
          1140,
          1150,
          1160,
          1170,
          1180,
          1190,
          1200,
          1210,
          1220,
          1230,
          1240,
          1250,
          1260,
          1270,
          1280,
          1290,
          1300,
          1310,
          1320,
          1330,
          1340,
          1350,
          1360,
          1370,
          1380,
          1390,
          1400,
          1410,
          1420,
          1430,
          1440,
          1450,
          1460,
          1470,
          1480,
          1490,
          1500,
          1510,
          1520,
          1530,
          1540,
          1550,
          1560,
          1570,
          1580,
          1590,
          1600,
          1610,
          1620,
          1630,
          1640,
          1650,
          1660,
          1670,
          1680,
          1690,
          1700,
          1710,
          1720,
          1730,
          1740,
          1750,
          1760,
          1770,
          1780,
          1790,
          1800,
          1810,
          1820,
          1830,
          1840,
          1850,
          1860,
          1870,
          1880,
          1890,
          1900,
          1910,
          1920,
          1930,
          1940,
          1950,
          1960,
          1970,
          1980,
          1990,
          2000,
          2010,
          2020,
          2030,
          2040,
          2050,
          2060,
          2070,
          2080,
          2090,
          2100,
          2110,
          2120,
          2130,
          2140,
          2150,
          2160,
          2170,
          2180,
          2190,
          2200,
          2210,
          2220,
          2230,
          2240,
          2250,
          2260,
          2270,
          2280,
          2290,
          2300,
          2310,
          2320,
          2330,
          2340,
          2350,
          2360,
          2370,
          2380,
          2390,
          2400,
          2410,
          2420,
          2430,
          2440,
          2450,
          2460,
          2470,
          2480,
          2490
         ],
         "y": [
          6475.472412037481,
          6470.145204542103,
          6464.817997046724,
          6459.490789551346,
          6454.163582055967,
          6448.8363745605875,
          6443.50916706521,
          6438.181959569831,
          6432.854752074453,
          6427.527544579074,
          6422.200337083696,
          6416.873129588317,
          6411.545922092939,
          6406.21871459756,
          6400.891507102181,
          6395.564299606804,
          6390.237092111423,
          6384.909884616045,
          6379.582677120667,
          6374.255469625288,
          6368.92826212991,
          6363.6010546345315,
          6358.273847139153,
          6352.946639643775,
          6347.619432148395,
          6342.292224653016,
          6336.965017157638,
          6331.637809662259,
          6326.310602166881,
          6320.9833946715025,
          6315.656187176124,
          6310.328979680745,
          6305.0017721853665,
          6299.674564689988,
          6294.34735719461,
          6289.02014969923,
          6283.692942203852,
          6278.365734708474,
          6273.038527213095,
          6267.711319717717,
          6262.384112222338,
          6257.05690472696,
          6251.729697231581,
          6246.4024897362015,
          6241.075282240823,
          6235.748074745445,
          6230.420867250066,
          6225.093659754688,
          6219.7664522593095,
          6214.43924476393,
          6209.112037268553,
          6203.784829773173,
          6198.457622277794,
          6193.130414782417,
          6187.803207287037,
          6182.475999791659,
          6177.148792296281,
          6171.821584800902,
          6166.494377305524,
          6161.1671698101445,
          6155.839962314765,
          6150.512754819388,
          6145.185547324008,
          6139.85833982863,
          6134.531132333252,
          6129.203924837873,
          6123.876717342495,
          6118.5495098471165,
          6113.222302351737,
          6107.89509485636,
          6102.56788736098,
          6097.240679865601,
          6091.913472370224,
          6086.586264874844,
          6081.259057379466,
          6075.931849884088,
          6070.604642388708,
          6065.277434893331,
          6059.9502273979515,
          6054.623019902572,
          6049.295812407195,
          6043.968604911815,
          6038.641397416437,
          6033.314189921059,
          6027.98698242568,
          6022.659774930305,
          6017.332567435006,
          6012.005359941433,
          6006.678152478685,
          6001.350945461469,
          5996.0237436667285,
          5989.88182643127,
          5982.122292233406,
          5972.764277323157,
          5961.834922001579,
          5949.392927738995,
          5935.594214809071,
          5920.829774601902,
          5905.927870467852,
          5892.310143867298,
          5881.893143568354,
          5876.595761035119,
          5877.609509033215,
          5884.874216262402,
          5897.130554965273,
          5912.497895215926,
          5929.16577378329,
          5945.814789794804,
          5961.678901206111,
          5976.397239942685,
          5989.83324084534,
          6001.949342561105,
          6012.743705248539,
          6022.225123380012,
          6030.404949772511,
          6037.2949443650205,
          6042.906795769165,
          6047.25203363379,
          6050.342017548214,
          6052.187938577553,
          6052.800822508073,
          6052.800822508071,
          6052.800822508071,
          6052.800822508071,
          6052.800822508071,
          6052.800822508071,
          6052.800822508071,
          6052.800822508071,
          6052.800822508071,
          6052.800822508071,
          6052.800822508071,
          6052.800822508071,
          6052.800822508071,
          6052.800822508071,
          6052.800822508071,
          6052.800822508071,
          6052.800822508071,
          6052.800822508071,
          6052.800822508071,
          6052.800822508071,
          6052.800822508071,
          6052.800822508071,
          6052.800822508071,
          6052.800822508071,
          6052.800822508071,
          6052.800822508071,
          6052.800822508071,
          6052.800822508071,
          6052.800822508071,
          6052.800822508071,
          6052.800822508071,
          6052.800822508071,
          6052.800822508071,
          6052.800822508071,
          6052.800822508071,
          6052.800822508071,
          6052.800822508071,
          6052.800822508071,
          6052.800822508071,
          6052.800822508071,
          6052.800822508071,
          6052.800822508071,
          6052.800822508071,
          6052.800822508071,
          6052.800822508071,
          6052.800822508071,
          6052.800822508071,
          6052.800822508071,
          6052.800822508071,
          6052.800822508071,
          6052.800822508071,
          6052.800822508071,
          6052.800822508071,
          6052.800822508071,
          6052.800822508071,
          6052.800822508071,
          6052.800822508071,
          6052.800822508071,
          6052.800822508071,
          6052.800822508071,
          6052.800822508071,
          6052.800822508071,
          6052.800822508071,
          6052.800822508071,
          6052.800822508071,
          6052.800822508071,
          6052.800822508071,
          6052.800822508071,
          6052.800822508071,
          6052.800822508071,
          6052.800822508071,
          6052.800822508071,
          6052.800822508071,
          6052.800822508071,
          6052.800822508071,
          6052.800822508071,
          6052.800822508071,
          6052.800822508071,
          6052.800822508071,
          6052.800822508071
         ]
        }
       ],
       "layout": {
        "autosize": false,
        "height": 500,
        "template": {
         "data": {
          "bar": [
           {
            "error_x": {
             "color": "#2a3f5f"
            },
            "error_y": {
             "color": "#2a3f5f"
            },
            "marker": {
             "line": {
              "color": "#E5ECF6",
              "width": 0.5
             },
             "pattern": {
              "fillmode": "overlay",
              "size": 10,
              "solidity": 0.2
             }
            },
            "type": "bar"
           }
          ],
          "barpolar": [
           {
            "marker": {
             "line": {
              "color": "#E5ECF6",
              "width": 0.5
             },
             "pattern": {
              "fillmode": "overlay",
              "size": 10,
              "solidity": 0.2
             }
            },
            "type": "barpolar"
           }
          ],
          "carpet": [
           {
            "aaxis": {
             "endlinecolor": "#2a3f5f",
             "gridcolor": "white",
             "linecolor": "white",
             "minorgridcolor": "white",
             "startlinecolor": "#2a3f5f"
            },
            "baxis": {
             "endlinecolor": "#2a3f5f",
             "gridcolor": "white",
             "linecolor": "white",
             "minorgridcolor": "white",
             "startlinecolor": "#2a3f5f"
            },
            "type": "carpet"
           }
          ],
          "choropleth": [
           {
            "colorbar": {
             "outlinewidth": 0,
             "ticks": ""
            },
            "type": "choropleth"
           }
          ],
          "contour": [
           {
            "colorbar": {
             "outlinewidth": 0,
             "ticks": ""
            },
            "colorscale": [
             [
              0,
              "#0d0887"
             ],
             [
              0.1111111111111111,
              "#46039f"
             ],
             [
              0.2222222222222222,
              "#7201a8"
             ],
             [
              0.3333333333333333,
              "#9c179e"
             ],
             [
              0.4444444444444444,
              "#bd3786"
             ],
             [
              0.5555555555555556,
              "#d8576b"
             ],
             [
              0.6666666666666666,
              "#ed7953"
             ],
             [
              0.7777777777777778,
              "#fb9f3a"
             ],
             [
              0.8888888888888888,
              "#fdca26"
             ],
             [
              1,
              "#f0f921"
             ]
            ],
            "type": "contour"
           }
          ],
          "contourcarpet": [
           {
            "colorbar": {
             "outlinewidth": 0,
             "ticks": ""
            },
            "type": "contourcarpet"
           }
          ],
          "heatmap": [
           {
            "colorbar": {
             "outlinewidth": 0,
             "ticks": ""
            },
            "colorscale": [
             [
              0,
              "#0d0887"
             ],
             [
              0.1111111111111111,
              "#46039f"
             ],
             [
              0.2222222222222222,
              "#7201a8"
             ],
             [
              0.3333333333333333,
              "#9c179e"
             ],
             [
              0.4444444444444444,
              "#bd3786"
             ],
             [
              0.5555555555555556,
              "#d8576b"
             ],
             [
              0.6666666666666666,
              "#ed7953"
             ],
             [
              0.7777777777777778,
              "#fb9f3a"
             ],
             [
              0.8888888888888888,
              "#fdca26"
             ],
             [
              1,
              "#f0f921"
             ]
            ],
            "type": "heatmap"
           }
          ],
          "heatmapgl": [
           {
            "colorbar": {
             "outlinewidth": 0,
             "ticks": ""
            },
            "colorscale": [
             [
              0,
              "#0d0887"
             ],
             [
              0.1111111111111111,
              "#46039f"
             ],
             [
              0.2222222222222222,
              "#7201a8"
             ],
             [
              0.3333333333333333,
              "#9c179e"
             ],
             [
              0.4444444444444444,
              "#bd3786"
             ],
             [
              0.5555555555555556,
              "#d8576b"
             ],
             [
              0.6666666666666666,
              "#ed7953"
             ],
             [
              0.7777777777777778,
              "#fb9f3a"
             ],
             [
              0.8888888888888888,
              "#fdca26"
             ],
             [
              1,
              "#f0f921"
             ]
            ],
            "type": "heatmapgl"
           }
          ],
          "histogram": [
           {
            "marker": {
             "pattern": {
              "fillmode": "overlay",
              "size": 10,
              "solidity": 0.2
             }
            },
            "type": "histogram"
           }
          ],
          "histogram2d": [
           {
            "colorbar": {
             "outlinewidth": 0,
             "ticks": ""
            },
            "colorscale": [
             [
              0,
              "#0d0887"
             ],
             [
              0.1111111111111111,
              "#46039f"
             ],
             [
              0.2222222222222222,
              "#7201a8"
             ],
             [
              0.3333333333333333,
              "#9c179e"
             ],
             [
              0.4444444444444444,
              "#bd3786"
             ],
             [
              0.5555555555555556,
              "#d8576b"
             ],
             [
              0.6666666666666666,
              "#ed7953"
             ],
             [
              0.7777777777777778,
              "#fb9f3a"
             ],
             [
              0.8888888888888888,
              "#fdca26"
             ],
             [
              1,
              "#f0f921"
             ]
            ],
            "type": "histogram2d"
           }
          ],
          "histogram2dcontour": [
           {
            "colorbar": {
             "outlinewidth": 0,
             "ticks": ""
            },
            "colorscale": [
             [
              0,
              "#0d0887"
             ],
             [
              0.1111111111111111,
              "#46039f"
             ],
             [
              0.2222222222222222,
              "#7201a8"
             ],
             [
              0.3333333333333333,
              "#9c179e"
             ],
             [
              0.4444444444444444,
              "#bd3786"
             ],
             [
              0.5555555555555556,
              "#d8576b"
             ],
             [
              0.6666666666666666,
              "#ed7953"
             ],
             [
              0.7777777777777778,
              "#fb9f3a"
             ],
             [
              0.8888888888888888,
              "#fdca26"
             ],
             [
              1,
              "#f0f921"
             ]
            ],
            "type": "histogram2dcontour"
           }
          ],
          "mesh3d": [
           {
            "colorbar": {
             "outlinewidth": 0,
             "ticks": ""
            },
            "type": "mesh3d"
           }
          ],
          "parcoords": [
           {
            "line": {
             "colorbar": {
              "outlinewidth": 0,
              "ticks": ""
             }
            },
            "type": "parcoords"
           }
          ],
          "pie": [
           {
            "automargin": true,
            "type": "pie"
           }
          ],
          "scatter": [
           {
            "fillpattern": {
             "fillmode": "overlay",
             "size": 10,
             "solidity": 0.2
            },
            "type": "scatter"
           }
          ],
          "scatter3d": [
           {
            "line": {
             "colorbar": {
              "outlinewidth": 0,
              "ticks": ""
             }
            },
            "marker": {
             "colorbar": {
              "outlinewidth": 0,
              "ticks": ""
             }
            },
            "type": "scatter3d"
           }
          ],
          "scattercarpet": [
           {
            "marker": {
             "colorbar": {
              "outlinewidth": 0,
              "ticks": ""
             }
            },
            "type": "scattercarpet"
           }
          ],
          "scattergeo": [
           {
            "marker": {
             "colorbar": {
              "outlinewidth": 0,
              "ticks": ""
             }
            },
            "type": "scattergeo"
           }
          ],
          "scattergl": [
           {
            "marker": {
             "colorbar": {
              "outlinewidth": 0,
              "ticks": ""
             }
            },
            "type": "scattergl"
           }
          ],
          "scattermapbox": [
           {
            "marker": {
             "colorbar": {
              "outlinewidth": 0,
              "ticks": ""
             }
            },
            "type": "scattermapbox"
           }
          ],
          "scatterpolar": [
           {
            "marker": {
             "colorbar": {
              "outlinewidth": 0,
              "ticks": ""
             }
            },
            "type": "scatterpolar"
           }
          ],
          "scatterpolargl": [
           {
            "marker": {
             "colorbar": {
              "outlinewidth": 0,
              "ticks": ""
             }
            },
            "type": "scatterpolargl"
           }
          ],
          "scatterternary": [
           {
            "marker": {
             "colorbar": {
              "outlinewidth": 0,
              "ticks": ""
             }
            },
            "type": "scatterternary"
           }
          ],
          "surface": [
           {
            "colorbar": {
             "outlinewidth": 0,
             "ticks": ""
            },
            "colorscale": [
             [
              0,
              "#0d0887"
             ],
             [
              0.1111111111111111,
              "#46039f"
             ],
             [
              0.2222222222222222,
              "#7201a8"
             ],
             [
              0.3333333333333333,
              "#9c179e"
             ],
             [
              0.4444444444444444,
              "#bd3786"
             ],
             [
              0.5555555555555556,
              "#d8576b"
             ],
             [
              0.6666666666666666,
              "#ed7953"
             ],
             [
              0.7777777777777778,
              "#fb9f3a"
             ],
             [
              0.8888888888888888,
              "#fdca26"
             ],
             [
              1,
              "#f0f921"
             ]
            ],
            "type": "surface"
           }
          ],
          "table": [
           {
            "cells": {
             "fill": {
              "color": "#EBF0F8"
             },
             "line": {
              "color": "white"
             }
            },
            "header": {
             "fill": {
              "color": "#C8D4E3"
             },
             "line": {
              "color": "white"
             }
            },
            "type": "table"
           }
          ]
         },
         "layout": {
          "annotationdefaults": {
           "arrowcolor": "#2a3f5f",
           "arrowhead": 0,
           "arrowwidth": 1
          },
          "autotypenumbers": "strict",
          "coloraxis": {
           "colorbar": {
            "outlinewidth": 0,
            "ticks": ""
           }
          },
          "colorscale": {
           "diverging": [
            [
             0,
             "#8e0152"
            ],
            [
             0.1,
             "#c51b7d"
            ],
            [
             0.2,
             "#de77ae"
            ],
            [
             0.3,
             "#f1b6da"
            ],
            [
             0.4,
             "#fde0ef"
            ],
            [
             0.5,
             "#f7f7f7"
            ],
            [
             0.6,
             "#e6f5d0"
            ],
            [
             0.7,
             "#b8e186"
            ],
            [
             0.8,
             "#7fbc41"
            ],
            [
             0.9,
             "#4d9221"
            ],
            [
             1,
             "#276419"
            ]
           ],
           "sequential": [
            [
             0,
             "#0d0887"
            ],
            [
             0.1111111111111111,
             "#46039f"
            ],
            [
             0.2222222222222222,
             "#7201a8"
            ],
            [
             0.3333333333333333,
             "#9c179e"
            ],
            [
             0.4444444444444444,
             "#bd3786"
            ],
            [
             0.5555555555555556,
             "#d8576b"
            ],
            [
             0.6666666666666666,
             "#ed7953"
            ],
            [
             0.7777777777777778,
             "#fb9f3a"
            ],
            [
             0.8888888888888888,
             "#fdca26"
            ],
            [
             1,
             "#f0f921"
            ]
           ],
           "sequentialminus": [
            [
             0,
             "#0d0887"
            ],
            [
             0.1111111111111111,
             "#46039f"
            ],
            [
             0.2222222222222222,
             "#7201a8"
            ],
            [
             0.3333333333333333,
             "#9c179e"
            ],
            [
             0.4444444444444444,
             "#bd3786"
            ],
            [
             0.5555555555555556,
             "#d8576b"
            ],
            [
             0.6666666666666666,
             "#ed7953"
            ],
            [
             0.7777777777777778,
             "#fb9f3a"
            ],
            [
             0.8888888888888888,
             "#fdca26"
            ],
            [
             1,
             "#f0f921"
            ]
           ]
          },
          "colorway": [
           "#636efa",
           "#EF553B",
           "#00cc96",
           "#ab63fa",
           "#FFA15A",
           "#19d3f3",
           "#FF6692",
           "#B6E880",
           "#FF97FF",
           "#FECB52"
          ],
          "font": {
           "color": "#2a3f5f"
          },
          "geo": {
           "bgcolor": "white",
           "lakecolor": "white",
           "landcolor": "#E5ECF6",
           "showlakes": true,
           "showland": true,
           "subunitcolor": "white"
          },
          "hoverlabel": {
           "align": "left"
          },
          "hovermode": "closest",
          "mapbox": {
           "style": "light"
          },
          "paper_bgcolor": "white",
          "plot_bgcolor": "#E5ECF6",
          "polar": {
           "angularaxis": {
            "gridcolor": "white",
            "linecolor": "white",
            "ticks": ""
           },
           "bgcolor": "#E5ECF6",
           "radialaxis": {
            "gridcolor": "white",
            "linecolor": "white",
            "ticks": ""
           }
          },
          "scene": {
           "xaxis": {
            "backgroundcolor": "#E5ECF6",
            "gridcolor": "white",
            "gridwidth": 2,
            "linecolor": "white",
            "showbackground": true,
            "ticks": "",
            "zerolinecolor": "white"
           },
           "yaxis": {
            "backgroundcolor": "#E5ECF6",
            "gridcolor": "white",
            "gridwidth": 2,
            "linecolor": "white",
            "showbackground": true,
            "ticks": "",
            "zerolinecolor": "white"
           },
           "zaxis": {
            "backgroundcolor": "#E5ECF6",
            "gridcolor": "white",
            "gridwidth": 2,
            "linecolor": "white",
            "showbackground": true,
            "ticks": "",
            "zerolinecolor": "white"
           }
          },
          "shapedefaults": {
           "line": {
            "color": "#2a3f5f"
           }
          },
          "ternary": {
           "aaxis": {
            "gridcolor": "white",
            "linecolor": "white",
            "ticks": ""
           },
           "baxis": {
            "gridcolor": "white",
            "linecolor": "white",
            "ticks": ""
           },
           "bgcolor": "#E5ECF6",
           "caxis": {
            "gridcolor": "white",
            "linecolor": "white",
            "ticks": ""
           }
          },
          "title": {
           "x": 0.05
          },
          "xaxis": {
           "automargin": true,
           "gridcolor": "white",
           "linecolor": "white",
           "ticks": "",
           "title": {
            "standoff": 15
           },
           "zerolinecolor": "white",
           "zerolinewidth": 2
          },
          "yaxis": {
           "automargin": true,
           "gridcolor": "white",
           "linecolor": "white",
           "ticks": "",
           "title": {
            "standoff": 15
           },
           "zerolinecolor": "white",
           "zerolinewidth": 2
          }
         }
        },
        "title": {
         "text": "strike: 1514.876, expiration: 0.08275297380159487, amount: 4.769 (years), fees: 0$"
        },
        "width": 1000,
        "xaxis": {
         "autorange": true,
         "range": [
          500,
          2490
         ],
         "type": "linear"
        },
        "yaxis": {
         "autorange": true,
         "range": [
          -872.4024906139551,
          6925.203313122027
         ],
         "type": "linear"
        }
       }
      },
      "image/png": "[encoded data removed]",
      "text/html": [
       "<div>                            <div id=\"dfcb6773-f08a-4f40-a038-0dcddca2c04e\" class=\"plotly-graph-div\" style=\"height:500px; width:1000px;\"></div>            <script type=\"text/javascript\">                require([\"plotly\"], function(Plotly) {                    window.PLOTLYENV=window.PLOTLYENV || {};                                    if (document.getElementById(\"dfcb6773-f08a-4f40-a038-0dcddca2c04e\")) {                    Plotly.newPlot(                        \"dfcb6773-f08a-4f40-a038-0dcddca2c04e\",                        [{\"mode\":\"lines\",\"name\":\"pure_usdc\",\"x\":[500,510,520,530,540,550,560,570,580,590,600,610,620,630,640,650,660,670,680,690,700,710,720,730,740,750,760,770,780,790,800,810,820,830,840,850,860,870,880,890,900,910,920,930,940,950,960,970,980,990,1000,1010,1020,1030,1040,1050,1060,1070,1080,1090,1100,1110,1120,1130,1140,1150,1160,1170,1180,1190,1200,1210,1220,1230,1240,1250,1260,1270,1280,1290,1300,1310,1320,1330,1340,1350,1360,1370,1380,1390,1400,1410,1420,1430,1440,1450,1460,1470,1480,1490,1500,1510,1520,1530,1540,1550,1560,1570,1580,1590,1600,1610,1620,1630,1640,1650,1660,1670,1680,1690,1700,1710,1720,1730,1740,1750,1760,1770,1780,1790,1800,1810,1820,1830,1840,1850,1860,1870,1880,1890,1900,1910,1920,1930,1940,1950,1960,1970,1980,1990,2000,2010,2020,2030,2040,2050,2060,2070,2080,2090,2100,2110,2120,2130,2140,2150,2160,2170,2180,2190,2200,2210,2220,2230,2240,2250,2260,2270,2280,2290,2300,2310,2320,2330,2340,2350,2360,2370,2380,2390,2400,2410,2420,2430,2440,2450,2460,2470,2480,2490],\"y\":[6358.392688687667,6358.392688687667,6358.392688687667,6358.392688687667,6358.392688687667,6358.392688687667,6358.392688687667,6358.392688687667,6358.392688687667,6358.392688687667,6358.392688687667,6358.392688687667,6358.392688687667,6358.392688687667,6358.392688687667,6358.392688687667,6358.392688687667,6358.392688687667,6358.392688687667,6358.392688687667,6358.392688687667,6358.392688687667,6358.392688687667,6358.392688687667,6358.392688687667,6358.392688687667,6358.392688687667,6358.392688687667,6358.392688687667,6358.392688687667,6358.392688687667,6358.392688687667,6358.392688687667,6358.392688687667,6358.392688687667,6358.392688687667,6358.392688687667,6358.392688687667,6358.392688687667,6358.392688687667,6358.392688687667,6358.392688687667,6358.392688687667,6358.392688687667,6358.392688687667,6358.392688687667,6358.392688687667,6358.392688687667,6358.392688687667,6358.392688687667,6358.392688687667,6358.392688687667,6358.392688687667,6358.392688687667,6358.392688687667,6358.392688687667,6358.392688687667,6358.392688687667,6358.392688687667,6358.392688687667,6358.392688687667,6358.392688687667,6358.392688687667,6358.392688687667,6358.392688687667,6358.392688687667,6358.392688687667,6358.392688687667,6358.392688687667,6358.392688687667,6358.392688687667,6358.392688687667,6358.392688687667,6358.392688687667,6358.392688687667,6358.392688687667,6358.392688687667,6358.392688687667,6358.392688687667,6358.392688687667,6358.392688687667,6358.392688687667,6358.392688687667,6358.392688687667,6358.392688687667,6358.392688687667,6358.392688687667,6358.392688687667,6358.392688687667,6358.392688687667,6358.392688687667,6358.392688687667,6358.392688687667,6358.392688687667,6358.392688687667,6358.392688687667,6358.392688687667,6358.392688687667,6358.392688687667,6358.392688687667,6358.392688687667,6358.392688687667,6358.392688687667,6358.392688687667,6358.392688687667,6358.392688687667,6358.392688687667,6358.392688687667,6358.392688687667,6358.392688687667,6358.392688687667,6358.392688687667,6358.392688687667,6358.392688687667,6358.392688687667,6358.392688687667,6358.392688687667,6358.392688687667,6358.392688687667,6358.392688687667,6358.392688687667,6358.392688687667,6358.392688687667,6358.392688687667,6358.392688687667,6358.392688687667,6358.392688687667,6358.392688687667,6358.392688687667,6358.392688687667,6358.392688687667,6358.392688687667,6358.392688687667,6358.392688687667,6358.392688687667,6358.392688687667,6358.392688687667,6358.392688687667,6358.392688687667,6358.392688687667,6358.392688687667,6358.392688687667,6358.392688687667,6358.392688687667,6358.392688687667,6358.392688687667,6358.392688687667,6358.392688687667,6358.392688687667,6358.392688687667,6358.392688687667,6358.392688687667,6358.392688687667,6358.392688687667,6358.392688687667,6358.392688687667,6358.392688687667,6358.392688687667,6358.392688687667,6358.392688687667,6358.392688687667,6358.392688687667,6358.392688687667,6358.392688687667,6358.392688687667,6358.392688687667,6358.392688687667,6358.392688687667,6358.392688687667,6358.392688687667,6358.392688687667,6358.392688687667,6358.392688687667,6358.392688687667,6358.392688687667,6358.392688687667,6358.392688687667,6358.392688687667,6358.392688687667,6358.392688687667,6358.392688687667,6358.392688687667,6358.392688687667,6358.392688687667,6358.392688687667,6358.392688687667,6358.392688687667,6358.392688687667,6358.392688687667,6358.392688687667,6358.392688687667,6358.392688687667,6358.392688687667,6358.392688687667,6358.392688687667,6358.392688687667,6358.392688687667,6358.392688687667,6358.392688687667,6358.392688687667],\"type\":\"scatter\"},{\"mode\":\"lines\",\"name\":\"uniswap_tvs + fees = 0 usdc\",\"x\":[500,510,520,530,540,550,560,570,580,590,600,610,620,630,640,650,660,670,680,690,700,710,720,730,740,750,760,770,780,790,800,810,820,830,840,850,860,870,880,890,900,910,920,930,940,950,960,970,980,990,1000,1010,1020,1030,1040,1050,1060,1070,1080,1090,1100,1110,1120,1130,1140,1150,1160,1170,1180,1190,1200,1210,1220,1230,1240,1250,1260,1270,1280,1290,1300,1310,1320,1330,1340,1350,1360,1370,1380,1390,1400,1410,1420,1430,1440,1450,1460,1470,1480,1490,1500,1510,1520,1530,1540,1550,1560,1570,1580,1590,1600,1610,1620,1630,1640,1650,1660,1670,1680,1690,1700,1710,1720,1730,1740,1750,1760,1770,1780,1790,1800,1810,1820,1830,1840,1850,1860,1870,1880,1890,1900,1910,1920,1930,1940,1950,1960,1970,1980,1990,2000,2010,2020,2030,2040,2050,2060,2070,2080,2090,2100,2110,2120,2130,2140,2150,2160,2170,2180,2190,2200,2210,2220,2230,2240,2250,2260,2270,2280,2290,2300,2310,2320,2330,2340,2350,2360,2370,2380,2390,2400,2410,2420,2430,2440,2450,2460,2470,2480,2490],\"y\":[2118.110359041401,2160.4725662222286,2202.8347734030567,2245.196980583885,2287.559187764713,2329.9213949455407,2372.283602126369,2414.645809307197,2457.008016488025,2499.3702236688528,2541.732430849681,2584.094638030509,2626.456845211337,2668.819052392165,2711.181259572993,2753.543466753821,2795.905673934649,2838.267881115477,2880.630088296305,2922.992295477133,2965.354502657961,3007.716709838789,3050.078917019617,3092.4411242004453,3134.803331381273,3177.165538562101,3219.5277457429293,3261.8899529237574,3304.252160104585,3346.614367285413,3388.9765744662413,3431.338781647069,3473.700988827897,3516.0631960087253,3558.4254031895534,3600.787610370381,3643.1498175512093,3685.5120247320374,3727.8742319128655,3770.236439093693,3812.5986462745213,3854.9608534553495,3897.3230606361776,3939.6852678170053,3982.0474749978334,4024.4096821786616,4066.7718893594893,4109.134096540318,4151.4963037211455,4193.858510901973,4236.220718082802,4278.5829252636295,4320.945132444457,4363.307339625286,4405.669546806113,4448.031753986942,4490.39396116777,4532.756168348597,4575.118375529426,4617.480582710254,4659.842789891081,4702.20499707191,4744.567204252738,4786.929411433565,4829.291618614394,4871.653825795222,4914.01603297605,4956.378240156878,4998.7404473377055,5041.102654518534,5083.464861699362,5125.8270688801895,5168.189276061018,5210.551483241846,5252.913690422674,5295.275897603502,5337.63810478433,5380.000311965158,5422.362519145986,5464.724726326814,5507.086933507642,5549.44914068847,5591.811347869298,5634.173555050126,5676.535762230954,5718.8979694117825,5761.26017659261,5803.622383773438,5845.984590954266,5888.346798135094,5930.709005315922,5972.256447269193,6012.185885165273,6050.514380823271,6087.258698292898,6122.435311079582,6156.060409145722,6188.149905696511,6218.719443758383,6247.7844025577615,6275.3599037074855,6301.4608172079425,6326.101767269648,6349.297137963729,6371.061078706478,6391.407509583903,6410.3501265219365,6427.902406307734,6444.077611467284,6458.888795004308,6472.348805005248,6484.470289114937,6495.265698887368,6504.74729401578,6512.9271464461635,6519.817144378024,6525.428996156239,6529.774234057537,6532.864217975115,6534.710139004693,6535.3230229352275,6535.3230229352275,6535.3230229352275,6535.3230229352275,6535.3230229352275,6535.3230229352275,6535.3230229352275,6535.3230229352275,6535.3230229352275,6535.3230229352275,6535.3230229352275,6535.3230229352275,6535.3230229352275,6535.3230229352275,6535.3230229352275,6535.3230229352275,6535.3230229352275,6535.3230229352275,6535.3230229352275,6535.3230229352275,6535.3230229352275,6535.3230229352275,6535.3230229352275,6535.3230229352275,6535.3230229352275,6535.3230229352275,6535.3230229352275,6535.3230229352275,6535.3230229352275,6535.3230229352275,6535.3230229352275,6535.3230229352275,6535.3230229352275,6535.3230229352275,6535.3230229352275,6535.3230229352275,6535.3230229352275,6535.3230229352275,6535.3230229352275,6535.3230229352275,6535.3230229352275,6535.3230229352275,6535.3230229352275,6535.3230229352275,6535.3230229352275,6535.3230229352275,6535.3230229352275,6535.3230229352275,6535.3230229352275,6535.3230229352275,6535.3230229352275,6535.3230229352275,6535.3230229352275,6535.3230229352275,6535.3230229352275,6535.3230229352275,6535.3230229352275,6535.3230229352275,6535.3230229352275,6535.3230229352275,6535.3230229352275,6535.3230229352275,6535.3230229352275,6535.3230229352275,6535.3230229352275,6535.3230229352275,6535.3230229352275,6535.3230229352275,6535.3230229352275,6535.3230229352275,6535.3230229352275,6535.3230229352275,6535.3230229352275,6535.3230229352275,6535.3230229352275,6535.3230229352275,6535.3230229352275,6535.3230229352275,6535.3230229352275,6535.3230229352275],\"type\":\"scatter\"},{\"mode\":\"lines\",\"name\":\"option_pnls\",\"x\":[500,510,520,530,540,550,560,570,580,590,600,610,620,630,640,650,660,670,680,690,700,710,720,730,740,750,760,770,780,790,800,810,820,830,840,850,860,870,880,890,900,910,920,930,940,950,960,970,980,990,1000,1010,1020,1030,1040,1050,1060,1070,1080,1090,1100,1110,1120,1130,1140,1150,1160,1170,1180,1190,1200,1210,1220,1230,1240,1250,1260,1270,1280,1290,1300,1310,1320,1330,1340,1350,1360,1370,1380,1390,1400,1410,1420,1430,1440,1450,1460,1470,1480,1490,1500,1510,1520,1530,1540,1550,1560,1570,1580,1590,1600,1610,1620,1630,1640,1650,1660,1670,1680,1690,1700,1710,1720,1730,1740,1750,1760,1770,1780,1790,1800,1810,1820,1830,1840,1850,1860,1870,1880,1890,1900,1910,1920,1930,1940,1950,1960,1970,1980,1990,2000,2010,2020,2030,2040,2050,2060,2070,2080,2090,2100,2110,2120,2130,2140,2150,2160,2170,2180,2190,2200,2210,2220,2230,2240,2250,2260,2270,2280,2290,2300,2310,2320,2330,2340,2350,2360,2370,2380,2390,2400,2410,2420,2430,2440,2450,2460,2470,2480,2490],\"y\":[4357.36205299608,4309.672638319874,4261.983223643667,4214.293808967461,4166.604394291254,4118.914979615047,4071.225564938841,4023.5361502626342,3975.846735586428,3928.157320910221,3880.467906234014,3832.778491557808,3785.089076881601,3737.399662205395,3689.710247529188,3642.020832852982,3594.331418176775,3546.6420035005685,3498.952588824362,3451.263174148155,3403.5737594719485,3355.884344795742,3308.1949301195355,3260.505515443329,3212.8161007671224,3165.1266860909154,3117.437271414709,3069.7478567385024,3022.058442062296,2974.3690273860893,2926.6796127098823,2878.990198033676,2831.3007833574693,2783.611368681263,2735.9219540050563,2688.2325393288497,2640.5431246526427,2592.853709976436,2545.1642953002297,2497.474880624023,2449.7854659478166,2402.09605127161,2354.406636595403,2306.7172219191966,2259.02780724299,2211.3383925667836,2163.648977890577,2115.9595632143705,2068.2701485381635,2020.580733861957,1972.8913191857505,1925.201904509544,1877.5124898333374,1829.823075157131,1782.133660480924,1734.4442458047174,1686.754831128511,1639.0654164523044,1591.3760017760978,1543.6865870998909,1495.9971724236843,1448.3077577474778,1400.6183430712713,1352.9289283950648,1305.2395137188578,1257.5500990426513,1209.8606843664447,1162.1712696902382,1114.4818550140317,1066.7924403378252,1019.1030256616183,971.4136109854118,923.7241963092052,876.0347816329985,828.345366956792,780.6559522805854,732.9665376043787,685.2771229281722,637.5877082519654,589.8982935757589,542.2088788995524,494.5194642233457,446.8300495471391,399.14063487093256,351.45122019472603,303.76180551852224,256.07239084239643,208.38297616799514,160.69356152441833,113.0041473263741,65.31473835080658,17.625379162077024,-30.06359293186722,-77.75010350011343,-125.42377629131926,-173.04238334058664,-220.46619433665097,-267.3201310946099,-312.7915732905314,-355.4742586904635,-393.4667601391315,-424.86505617282336,-448.4922582364333,-464.42292170132714,-473.9305237412047,-478.9096143679771,-481.1843527386468,-482.08761651292997,-482.398710261174,-482.49155506162333,-482.51556415990854,-482.5209465538321,-482.5219936388283,-482.52217063576904,-482.52219667365273,-482.5222000130031,-482.52220038707367,-482.5222004237469,-482.5222004269012,-482.52220042713975,-482.5222004271549,-482.522200427156,-482.522200427156,-482.522200427156,-482.522200427156,-482.522200427156,-482.522200427156,-482.522200427156,-482.522200427156,-482.522200427156,-482.522200427156,-482.522200427156,-482.522200427156,-482.522200427156,-482.522200427156,-482.522200427156,-482.522200427156,-482.522200427156,-482.522200427156,-482.522200427156,-482.522200427156,-482.522200427156,-482.522200427156,-482.522200427156,-482.522200427156,-482.522200427156,-482.522200427156,-482.522200427156,-482.522200427156,-482.522200427156,-482.522200427156,-482.522200427156,-482.522200427156,-482.522200427156,-482.522200427156,-482.522200427156,-482.522200427156,-482.522200427156,-482.522200427156,-482.522200427156,-482.522200427156,-482.522200427156,-482.522200427156,-482.522200427156,-482.522200427156,-482.522200427156,-482.522200427156,-482.522200427156,-482.522200427156,-482.522200427156,-482.522200427156,-482.522200427156,-482.522200427156,-482.522200427156,-482.522200427156,-482.522200427156,-482.522200427156,-482.522200427156,-482.522200427156,-482.522200427156,-482.522200427156,-482.522200427156,-482.522200427156,-482.522200427156,-482.522200427156,-482.522200427156,-482.522200427156,-482.522200427156,-482.522200427156,-482.522200427156,-482.522200427156,-482.522200427156,-482.522200427156,-482.522200427156,-482.522200427156,-482.522200427156,-482.522200427156,-482.522200427156,-482.522200427156,-482.522200427156],\"type\":\"scatter\"},{\"mode\":\"lines\",\"name\":\"uniswap_tvs + option_pnls + fees\",\"x\":[500,510,520,530,540,550,560,570,580,590,600,610,620,630,640,650,660,670,680,690,700,710,720,730,740,750,760,770,780,790,800,810,820,830,840,850,860,870,880,890,900,910,920,930,940,950,960,970,980,990,1000,1010,1020,1030,1040,1050,1060,1070,1080,1090,1100,1110,1120,1130,1140,1150,1160,1170,1180,1190,1200,1210,1220,1230,1240,1250,1260,1270,1280,1290,1300,1310,1320,1330,1340,1350,1360,1370,1380,1390,1400,1410,1420,1430,1440,1450,1460,1470,1480,1490,1500,1510,1520,1530,1540,1550,1560,1570,1580,1590,1600,1610,1620,1630,1640,1650,1660,1670,1680,1690,1700,1710,1720,1730,1740,1750,1760,1770,1780,1790,1800,1810,1820,1830,1840,1850,1860,1870,1880,1890,1900,1910,1920,1930,1940,1950,1960,1970,1980,1990,2000,2010,2020,2030,2040,2050,2060,2070,2080,2090,2100,2110,2120,2130,2140,2150,2160,2170,2180,2190,2200,2210,2220,2230,2240,2250,2260,2270,2280,2290,2300,2310,2320,2330,2340,2350,2360,2370,2380,2390,2400,2410,2420,2430,2440,2450,2460,2470,2480,2490],\"y\":[6475.472412037481,6470.145204542103,6464.817997046724,6459.490789551346,6454.163582055967,6448.8363745605875,6443.50916706521,6438.181959569831,6432.854752074453,6427.527544579074,6422.200337083696,6416.873129588317,6411.545922092939,6406.21871459756,6400.891507102181,6395.564299606804,6390.237092111423,6384.909884616045,6379.582677120667,6374.255469625288,6368.92826212991,6363.6010546345315,6358.273847139153,6352.946639643775,6347.619432148395,6342.292224653016,6336.965017157638,6331.637809662259,6326.310602166881,6320.9833946715025,6315.656187176124,6310.328979680745,6305.0017721853665,6299.674564689988,6294.34735719461,6289.02014969923,6283.692942203852,6278.365734708474,6273.038527213095,6267.711319717717,6262.384112222338,6257.05690472696,6251.729697231581,6246.4024897362015,6241.075282240823,6235.748074745445,6230.420867250066,6225.093659754688,6219.7664522593095,6214.43924476393,6209.112037268553,6203.784829773173,6198.457622277794,6193.130414782417,6187.803207287037,6182.475999791659,6177.148792296281,6171.821584800902,6166.494377305524,6161.1671698101445,6155.839962314765,6150.512754819388,6145.185547324008,6139.85833982863,6134.531132333252,6129.203924837873,6123.876717342495,6118.5495098471165,6113.222302351737,6107.89509485636,6102.56788736098,6097.240679865601,6091.913472370224,6086.586264874844,6081.259057379466,6075.931849884088,6070.604642388708,6065.277434893331,6059.9502273979515,6054.623019902572,6049.295812407195,6043.968604911815,6038.641397416437,6033.314189921059,6027.98698242568,6022.659774930305,6017.332567435006,6012.005359941433,6006.678152478685,6001.350945461469,5996.0237436667285,5989.88182643127,5982.122292233406,5972.764277323157,5961.834922001579,5949.392927738995,5935.594214809071,5920.829774601902,5905.927870467852,5892.310143867298,5881.893143568354,5876.595761035119,5877.609509033215,5884.874216262402,5897.130554965273,5912.497895215926,5929.16577378329,5945.814789794804,5961.678901206111,5976.397239942685,5989.83324084534,6001.949342561105,6012.743705248539,6022.225123380012,6030.404949772511,6037.2949443650205,6042.906795769165,6047.25203363379,6050.342017548214,6052.187938577553,6052.800822508073,6052.800822508071,6052.800822508071,6052.800822508071,6052.800822508071,6052.800822508071,6052.800822508071,6052.800822508071,6052.800822508071,6052.800822508071,6052.800822508071,6052.800822508071,6052.800822508071,6052.800822508071,6052.800822508071,6052.800822508071,6052.800822508071,6052.800822508071,6052.800822508071,6052.800822508071,6052.800822508071,6052.800822508071,6052.800822508071,6052.800822508071,6052.800822508071,6052.800822508071,6052.800822508071,6052.800822508071,6052.800822508071,6052.800822508071,6052.800822508071,6052.800822508071,6052.800822508071,6052.800822508071,6052.800822508071,6052.800822508071,6052.800822508071,6052.800822508071,6052.800822508071,6052.800822508071,6052.800822508071,6052.800822508071,6052.800822508071,6052.800822508071,6052.800822508071,6052.800822508071,6052.800822508071,6052.800822508071,6052.800822508071,6052.800822508071,6052.800822508071,6052.800822508071,6052.800822508071,6052.800822508071,6052.800822508071,6052.800822508071,6052.800822508071,6052.800822508071,6052.800822508071,6052.800822508071,6052.800822508071,6052.800822508071,6052.800822508071,6052.800822508071,6052.800822508071,6052.800822508071,6052.800822508071,6052.800822508071,6052.800822508071,6052.800822508071,6052.800822508071,6052.800822508071,6052.800822508071,6052.800822508071,6052.800822508071,6052.800822508071,6052.800822508071,6052.800822508071,6052.800822508071,6052.800822508071],\"type\":\"scatter\"}],                        {\"template\":{\"data\":{\"histogram2dcontour\":[{\"type\":\"histogram2dcontour\",\"colorbar\":{\"outlinewidth\":0,\"ticks\":\"\"},\"colorscale\":[[0.0,\"#0d0887\"],[0.1111111111111111,\"#46039f\"],[0.2222222222222222,\"#7201a8\"],[0.3333333333333333,\"#9c179e\"],[0.4444444444444444,\"#bd3786\"],[0.5555555555555556,\"#d8576b\"],[0.6666666666666666,\"#ed7953\"],[0.7777777777777778,\"#fb9f3a\"],[0.8888888888888888,\"#fdca26\"],[1.0,\"#f0f921\"]]}],\"choropleth\":[{\"type\":\"choropleth\",\"colorbar\":{\"outlinewidth\":0,\"ticks\":\"\"}}],\"histogram2d\":[{\"type\":\"histogram2d\",\"colorbar\":{\"outlinewidth\":0,\"ticks\":\"\"},\"colorscale\":[[0.0,\"#0d0887\"],[0.1111111111111111,\"#46039f\"],[0.2222222222222222,\"#7201a8\"],[0.3333333333333333,\"#9c179e\"],[0.4444444444444444,\"#bd3786\"],[0.5555555555555556,\"#d8576b\"],[0.6666666666666666,\"#ed7953\"],[0.7777777777777778,\"#fb9f3a\"],[0.8888888888888888,\"#fdca26\"],[1.0,\"#f0f921\"]]}],\"heatmap\":[{\"type\":\"heatmap\",\"colorbar\":{\"outlinewidth\":0,\"ticks\":\"\"},\"colorscale\":[[0.0,\"#0d0887\"],[0.1111111111111111,\"#46039f\"],[0.2222222222222222,\"#7201a8\"],[0.3333333333333333,\"#9c179e\"],[0.4444444444444444,\"#bd3786\"],[0.5555555555555556,\"#d8576b\"],[0.6666666666666666,\"#ed7953\"],[0.7777777777777778,\"#fb9f3a\"],[0.8888888888888888,\"#fdca26\"],[1.0,\"#f0f921\"]]}],\"heatmapgl\":[{\"type\":\"heatmapgl\",\"colorbar\":{\"outlinewidth\":0,\"ticks\":\"\"},\"colorscale\":[[0.0,\"#0d0887\"],[0.1111111111111111,\"#46039f\"],[0.2222222222222222,\"#7201a8\"],[0.3333333333333333,\"#9c179e\"],[0.4444444444444444,\"#bd3786\"],[0.5555555555555556,\"#d8576b\"],[0.6666666666666666,\"#ed7953\"],[0.7777777777777778,\"#fb9f3a\"],[0.8888888888888888,\"#fdca26\"],[1.0,\"#f0f921\"]]}],\"contourcarpet\":[{\"type\":\"contourcarpet\",\"colorbar\":{\"outlinewidth\":0,\"ticks\":\"\"}}],\"contour\":[{\"type\":\"contour\",\"colorbar\":{\"outlinewidth\":0,\"ticks\":\"\"},\"colorscale\":[[0.0,\"#0d0887\"],[0.1111111111111111,\"#46039f\"],[0.2222222222222222,\"#7201a8\"],[0.3333333333333333,\"#9c179e\"],[0.4444444444444444,\"#bd3786\"],[0.5555555555555556,\"#d8576b\"],[0.6666666666666666,\"#ed7953\"],[0.7777777777777778,\"#fb9f3a\"],[0.8888888888888888,\"#fdca26\"],[1.0,\"#f0f921\"]]}],\"surface\":[{\"type\":\"surface\",\"colorbar\":{\"outlinewidth\":0,\"ticks\":\"\"},\"colorscale\":[[0.0,\"#0d0887\"],[0.1111111111111111,\"#46039f\"],[0.2222222222222222,\"#7201a8\"],[0.3333333333333333,\"#9c179e\"],[0.4444444444444444,\"#bd3786\"],[0.5555555555555556,\"#d8576b\"],[0.6666666666666666,\"#ed7953\"],[0.7777777777777778,\"#fb9f3a\"],[0.8888888888888888,\"#fdca26\"],[1.0,\"#f0f921\"]]}],\"mesh3d\":[{\"type\":\"mesh3d\",\"colorbar\":{\"outlinewidth\":0,\"ticks\":\"\"}}],\"scatter\":[{\"fillpattern\":{\"fillmode\":\"overlay\",\"size\":10,\"solidity\":0.2},\"type\":\"scatter\"}],\"parcoords\":[{\"type\":\"parcoords\",\"line\":{\"colorbar\":{\"outlinewidth\":0,\"ticks\":\"\"}}}],\"scatterpolargl\":[{\"type\":\"scatterpolargl\",\"marker\":{\"colorbar\":{\"outlinewidth\":0,\"ticks\":\"\"}}}],\"bar\":[{\"error_x\":{\"color\":\"#2a3f5f\"},\"error_y\":{\"color\":\"#2a3f5f\"},\"marker\":{\"line\":{\"color\":\"#E5ECF6\",\"width\":0.5},\"pattern\":{\"fillmode\":\"overlay\",\"size\":10,\"solidity\":0.2}},\"type\":\"bar\"}],\"scattergeo\":[{\"type\":\"scattergeo\",\"marker\":{\"colorbar\":{\"outlinewidth\":0,\"ticks\":\"\"}}}],\"scatterpolar\":[{\"type\":\"scatterpolar\",\"marker\":{\"colorbar\":{\"outlinewidth\":0,\"ticks\":\"\"}}}],\"histogram\":[{\"marker\":{\"pattern\":{\"fillmode\":\"overlay\",\"size\":10,\"solidity\":0.2}},\"type\":\"histogram\"}],\"scattergl\":[{\"type\":\"scattergl\",\"marker\":{\"colorbar\":{\"outlinewidth\":0,\"ticks\":\"\"}}}],\"scatter3d\":[{\"type\":\"scatter3d\",\"line\":{\"colorbar\":{\"outlinewidth\":0,\"ticks\":\"\"}},\"marker\":{\"colorbar\":{\"outlinewidth\":0,\"ticks\":\"\"}}}],\"scattermapbox\":[{\"type\":\"scattermapbox\",\"marker\":{\"colorbar\":{\"outlinewidth\":0,\"ticks\":\"\"}}}],\"scatterternary\":[{\"type\":\"scatterternary\",\"marker\":{\"colorbar\":{\"outlinewidth\":0,\"ticks\":\"\"}}}],\"scattercarpet\":[{\"type\":\"scattercarpet\",\"marker\":{\"colorbar\":{\"outlinewidth\":0,\"ticks\":\"\"}}}],\"carpet\":[{\"aaxis\":{\"endlinecolor\":\"#2a3f5f\",\"gridcolor\":\"white\",\"linecolor\":\"white\",\"minorgridcolor\":\"white\",\"startlinecolor\":\"#2a3f5f\"},\"baxis\":{\"endlinecolor\":\"#2a3f5f\",\"gridcolor\":\"white\",\"linecolor\":\"white\",\"minorgridcolor\":\"white\",\"startlinecolor\":\"#2a3f5f\"},\"type\":\"carpet\"}],\"table\":[{\"cells\":{\"fill\":{\"color\":\"#EBF0F8\"},\"line\":{\"color\":\"white\"}},\"header\":{\"fill\":{\"color\":\"#C8D4E3\"},\"line\":{\"color\":\"white\"}},\"type\":\"table\"}],\"barpolar\":[{\"marker\":{\"line\":{\"color\":\"#E5ECF6\",\"width\":0.5},\"pattern\":{\"fillmode\":\"overlay\",\"size\":10,\"solidity\":0.2}},\"type\":\"barpolar\"}],\"pie\":[{\"automargin\":true,\"type\":\"pie\"}]},\"layout\":{\"autotypenumbers\":\"strict\",\"colorway\":[\"#636efa\",\"#EF553B\",\"#00cc96\",\"#ab63fa\",\"#FFA15A\",\"#19d3f3\",\"#FF6692\",\"#B6E880\",\"#FF97FF\",\"#FECB52\"],\"font\":{\"color\":\"#2a3f5f\"},\"hovermode\":\"closest\",\"hoverlabel\":{\"align\":\"left\"},\"paper_bgcolor\":\"white\",\"plot_bgcolor\":\"#E5ECF6\",\"polar\":{\"bgcolor\":\"#E5ECF6\",\"angularaxis\":{\"gridcolor\":\"white\",\"linecolor\":\"white\",\"ticks\":\"\"},\"radialaxis\":{\"gridcolor\":\"white\",\"linecolor\":\"white\",\"ticks\":\"\"}},\"ternary\":{\"bgcolor\":\"#E5ECF6\",\"aaxis\":{\"gridcolor\":\"white\",\"linecolor\":\"white\",\"ticks\":\"\"},\"baxis\":{\"gridcolor\":\"white\",\"linecolor\":\"white\",\"ticks\":\"\"},\"caxis\":{\"gridcolor\":\"white\",\"linecolor\":\"white\",\"ticks\":\"\"}},\"coloraxis\":{\"colorbar\":{\"outlinewidth\":0,\"ticks\":\"\"}},\"colorscale\":{\"sequential\":[[0.0,\"#0d0887\"],[0.1111111111111111,\"#46039f\"],[0.2222222222222222,\"#7201a8\"],[0.3333333333333333,\"#9c179e\"],[0.4444444444444444,\"#bd3786\"],[0.5555555555555556,\"#d8576b\"],[0.6666666666666666,\"#ed7953\"],[0.7777777777777778,\"#fb9f3a\"],[0.8888888888888888,\"#fdca26\"],[1.0,\"#f0f921\"]],\"sequentialminus\":[[0.0,\"#0d0887\"],[0.1111111111111111,\"#46039f\"],[0.2222222222222222,\"#7201a8\"],[0.3333333333333333,\"#9c179e\"],[0.4444444444444444,\"#bd3786\"],[0.5555555555555556,\"#d8576b\"],[0.6666666666666666,\"#ed7953\"],[0.7777777777777778,\"#fb9f3a\"],[0.8888888888888888,\"#fdca26\"],[1.0,\"#f0f921\"]],\"diverging\":[[0,\"#8e0152\"],[0.1,\"#c51b7d\"],[0.2,\"#de77ae\"],[0.3,\"#f1b6da\"],[0.4,\"#fde0ef\"],[0.5,\"#f7f7f7\"],[0.6,\"#e6f5d0\"],[0.7,\"#b8e186\"],[0.8,\"#7fbc41\"],[0.9,\"#4d9221\"],[1,\"#276419\"]]},\"xaxis\":{\"gridcolor\":\"white\",\"linecolor\":\"white\",\"ticks\":\"\",\"title\":{\"standoff\":15},\"zerolinecolor\":\"white\",\"automargin\":true,\"zerolinewidth\":2},\"yaxis\":{\"gridcolor\":\"white\",\"linecolor\":\"white\",\"ticks\":\"\",\"title\":{\"standoff\":15},\"zerolinecolor\":\"white\",\"automargin\":true,\"zerolinewidth\":2},\"scene\":{\"xaxis\":{\"backgroundcolor\":\"#E5ECF6\",\"gridcolor\":\"white\",\"linecolor\":\"white\",\"showbackground\":true,\"ticks\":\"\",\"zerolinecolor\":\"white\",\"gridwidth\":2},\"yaxis\":{\"backgroundcolor\":\"#E5ECF6\",\"gridcolor\":\"white\",\"linecolor\":\"white\",\"showbackground\":true,\"ticks\":\"\",\"zerolinecolor\":\"white\",\"gridwidth\":2},\"zaxis\":{\"backgroundcolor\":\"#E5ECF6\",\"gridcolor\":\"white\",\"linecolor\":\"white\",\"showbackground\":true,\"ticks\":\"\",\"zerolinecolor\":\"white\",\"gridwidth\":2}},\"shapedefaults\":{\"line\":{\"color\":\"#2a3f5f\"}},\"annotationdefaults\":{\"arrowcolor\":\"#2a3f5f\",\"arrowhead\":0,\"arrowwidth\":1},\"geo\":{\"bgcolor\":\"white\",\"landcolor\":\"#E5ECF6\",\"subunitcolor\":\"white\",\"showland\":true,\"showlakes\":true,\"lakecolor\":\"white\"},\"title\":{\"x\":0.05},\"mapbox\":{\"style\":\"light\"}}},\"autosize\":false,\"width\":1000,\"height\":500,\"title\":{\"text\":\"strike: 1514.876, expiration: 0.08275297380159487, amount: 4.769 (years), fees: 0$\"}},                        {\"responsive\": true}                    ).then(function(){\n",
       "                            \n",
       "var gd = document.getElementById('dfcb6773-f08a-4f40-a038-0dcddca2c04e');\n",
       "var x = new MutationObserver(function (mutations, observer) {{\n",
       "        var display = window.getComputedStyle(gd).display;\n",
       "        if (!display || display === 'none') {{\n",
       "            console.log([gd, 'removed!']);\n",
       "            Plotly.purge(gd);\n",
       "            observer.disconnect();\n",
       "        }}\n",
       "}});\n",
       "\n",
       "// Listen for the removal of the full notebook cells\n",
       "var notebookContainer = gd.closest('#notebook-container');\n",
       "if (notebookContainer) {{\n",
       "    x.observe(notebookContainer, {childList: true});\n",
       "}}\n",
       "\n",
       "// Listen for the clearing of the current output cell\n",
       "var outputEl = gd.closest('.output');\n",
       "if (outputEl) {{\n",
       "    x.observe(outputEl, {childList: true});\n",
       "}}\n",
       "\n",
       "                        })                };                });            </script>        </div>"
      ]
     },
     "metadata": {},
     "output_type": "display_data"
    }
   ],
   "source": [
    "fig = go.Figure()\n",
    "fig.update_layout(\n",
    "    autosize=False,\n",
    "    width=1000,\n",
    "    height=500)\n",
    "\n",
    "fig.add_trace(go.Scatter(x=prices, y=pure_usdc,\n",
    "                    mode='lines',\n",
    "                    name='pure_usdc'))\n",
    "\n",
    "fig.add_trace(go.Scatter(x=prices, y=uniswap_tvs + earned_fees,\n",
    "                    mode='lines',\n",
    "                    name=\"\"\"uniswap_tvs + fees = {} usdc\"\"\".format(earned_fees)))\n",
    "fig.add_trace(go.Scatter(x=prices, y=option_pnls,\n",
    "                    mode='lines',\n",
    "                    name='option_pnls'))\n",
    "fig.add_trace(go.Scatter(x=prices, y=uniswap_tvs + option_pnls + earned_fees,\n",
    "                    mode='lines',\n",
    "                    name='uniswap_tvs + option_pnls + fees'))\n",
    "fig.update_layout(title_text='strike: {}, expiration: {}, amount: {} (years), fees: {}$'.format(round(optimal_option.strike, 3), \n",
    "                                                                             optimal_option.expiration,\n",
    "                                                                             round(optimal_option.amount, 3),\n",
    "                                                                             earned_fees))\n",
    "\n",
    "\n",
    "\n"
   ]
  },
  {
   "cell_type": "markdown",
   "id": "c3dd6258-de26-4e8f-80d1-9f2039f5c063",
   "metadata": {},
   "source": [
    "# Strategy 1\n",
    "\n",
    "The range is roughly ±9%. Vault finds the optimal option and replicates it. There are two cases may appear:\n",
    "1. At some point during the period, the underlying price went out of the range. In this case, vault does the rebalancing as following: <br/>\n",
    "- provides liquidity to the new ±9% price range interval\n",
    "- finds a new optimal option to hedge, and replicates it\n",
    "2. During the entire period the underlying price stood within the boundaries. Then vault just keeps replicating the option"
   ]
  },
  {
   "cell_type": "code",
   "execution_count": null,
   "id": "8fd5bdbb-8cca-4653-a256-1658ae09f210",
   "metadata": {},
   "outputs": [],
   "source": []
  },
  {
   "cell_type": "code",
   "execution_count": null,
   "id": "305584e6-1451-438e-a6d4-b143caa3621f",
   "metadata": {},
   "outputs": [],
   "source": []
  },
  {
   "cell_type": "code",
   "execution_count": null,
   "id": "52f0914d-6c51-465d-9928-9ba244ee1fb6",
   "metadata": {},
   "outputs": [],
   "source": []
  },
  {
   "cell_type": "code",
   "execution_count": null,
   "id": "54da3a81-4d60-4887-b341-30d93667a53f",
   "metadata": {},
   "outputs": [],
   "source": []
  },
  {
   "cell_type": "markdown",
   "id": "44b9eb8c-c87e-42a0-8db4-6dd4083e457b",
   "metadata": {},
   "source": []
  },
  {
   "cell_type": "code",
   "execution_count": null,
   "id": "5c21312e-7c6d-4ede-a532-4377d01d4f44",
   "metadata": {},
   "outputs": [],
   "source": []
  },
  {
   "cell_type": "code",
   "execution_count": null,
   "id": "dc4f8306-20d8-4f03-8fd8-86d1a3443f86",
   "metadata": {},
   "outputs": [],
   "source": []
  },
  {
   "cell_type": "code",
   "execution_count": null,
   "id": "06c67966-9b07-405f-b8da-f326795dc1c1",
   "metadata": {},
   "outputs": [],
   "source": []
  },
  {
   "cell_type": "code",
   "execution_count": null,
   "id": "043e3567-6fe6-4ee0-9c3a-eb8d392f0efe",
   "metadata": {},
   "outputs": [],
   "source": []
  },
  {
   "cell_type": "code",
   "execution_count": null,
   "id": "2d6eaf92-68cf-455f-8a54-f0a1688a5d73",
   "metadata": {},
   "outputs": [],
   "source": []
  }
 ],
 "metadata": {
  "kernelspec": {
   "display_name": "Python 3 (ipykernel)",
   "language": "python",
   "name": "python3"
  },
  "language_info": {
   "codemirror_mode": {
    "name": "ipython",
    "version": 3
   },
   "file_extension": ".py",
   "mimetype": "text/x-python",
   "name": "python",
   "nbconvert_exporter": "python",
   "pygments_lexer": "ipython3",
   "version": "3.8.16"
  }
 },
 "nbformat": 4,
 "nbformat_minor": 5
}
