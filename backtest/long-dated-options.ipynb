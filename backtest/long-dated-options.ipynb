{
 "cells": [
  {
   "cell_type": "code",
   "execution_count": 2,
   "id": "53d2bc01-f976-4f40-9af9-775003611c3a",
   "metadata": {},
   "outputs": [],
   "source": [
    "from sabr import SABR\n",
    "from sabr_calibration import SABRCalibrator"
   ]
  },
  {
   "cell_type": "code",
   "execution_count": 3,
   "id": "82159e85-a0d0-4e96-bdc4-ee7a97400503",
   "metadata": {},
   "outputs": [],
   "source": [
    "from deltadex_calibration import calibrate_sabr\n",
    "from deribit_parser import GetOptionMeta"
   ]
  },
  {
   "cell_type": "code",
   "execution_count": 4,
   "id": "bcf905b1-1c83-4701-a054-58b21c5f3c3f",
   "metadata": {},
   "outputs": [],
   "source": [
    "import numpy as np\n",
    "from matplotlib import pyplot as plt\n",
    "import plotly.express as px\n",
    "import plotly.graph_objects as go\n"
   ]
  },
  {
   "cell_type": "code",
   "execution_count": 5,
   "id": "2cb2e1f5-1472-4831-a508-27da2e134426",
   "metadata": {},
   "outputs": [
    {
     "data": {
      "text/plain": [
       "<module 'uniswap_v3_liquidity_math' from '/Users/kirillbogomolov/Desktop/DeltaDex-Protocol/research-branch-main/backtest/uniswap_v3_liquidity_math.py'>"
      ]
     },
     "execution_count": 5,
     "metadata": {},
     "output_type": "execute_result"
    }
   ],
   "source": [
    "import uniswap_v3_liquidity_math as uniswap_math\n",
    "\n",
    "import importlib\n",
    "importlib.reload(uniswap_math)"
   ]
  },
  {
   "cell_type": "code",
   "execution_count": 6,
   "id": "9653f7c7-3bef-439e-90ad-b2cb2cad1b7b",
   "metadata": {},
   "outputs": [],
   "source": [
    "class UniswapPosition:\n",
    "    def __init__(self, lower_price, upper_price, initial_price, initial_token1_amount, period_in_years):\n",
    "        self.lower_price = lower_price\n",
    "        self.upper_price = upper_price\n",
    "        self.initial_price = initial_price\n",
    "        self.initial_token1_amount = initial_token1_amount\n",
    "        self.period_in_years = period_in_years\n",
    "    \n",
    "    def get_tokens_amounts(self, price):\n",
    "        return uniswap_math.get_tokens_amounts(initial_price = self.initial_price, \n",
    "                                lowerPrice = self.lower_price, upperPrice = self.upper_price, \n",
    "                                initial_y = self.initial_token1_amount, currentPrice = price)\n",
    "    \n",
    "    def get_total_value(self, price):\n",
    "        x, y = self.get_tokens_amounts(price)\n",
    "        return x * price + y"
   ]
  },
  {
   "cell_type": "markdown",
   "id": "cf727282-adf6-4524-94b7-aa02e2dd8303",
   "metadata": {},
   "source": [
    "### Optimal option"
   ]
  },
  {
   "cell_type": "code",
   "execution_count": 354,
   "id": "430e9493-7512-4899-b2ef-4f6d3a9a2a55",
   "metadata": {},
   "outputs": [],
   "source": [
    "class OptimalOption:\n",
    "    def __init__(self, sabr_model: SABR, \n",
    "                 uniswap_position: UniswapPosition,\n",
    "                 expiration: float,\n",
    "                 strike: float,\n",
    "                 amount: float,\n",
    "                 isCall: bool = False):\n",
    "        \n",
    "        self.sabr_model = sabr_model\n",
    "        self.uniswap_position = uniswap_position\n",
    "        \n",
    "        self.isCall = False\n",
    "        # self.expiration = (1.01 * uniswap_position.period_in_years)\n",
    "        self.expiration = expiration\n",
    "        self.strike = strike\n",
    "        # self.strike = (uniswap_position.lower_price * uniswap_position.upper_price) ** 0.5\n",
    "        self.amount = amount\n",
    "        self.initial_cost = self.amount * self.sabr_model(self.strike, \n",
    "                                                self.uniswap_position.initial_price, \n",
    "                                                self.expiration, \n",
    "                                                self.isCall)[0]\n",
    "    \n",
    "    def find_optimal_option(self, \n",
    "                            strike = None,\n",
    "                            expiration = None, \n",
    "                            amount = None):\n",
    "        \n",
    "        initial_tv = self.uniswap_position.get_total_value(self.uniswap_position.initial_price)\n",
    "        prices = np.array([price for price in range(500, 2500, 10 )])\n",
    "        uniswap_tvs = np.array([self.uniswap_position.get_total_value(price) for price in prices])\n",
    "        \n",
    "        \n",
    "        def calculate_loss(prices):\n",
    "            \n",
    "            # (initial_tv + self.initial_cost) as it's the value involved\n",
    "            loss = ((self.calculate_hedged_position(prices, strike, expiration, amount) + \n",
    "                    uniswap_tvs - \n",
    "                    (initial_tv + self.initial_cost)) ** 2).mean()\n",
    "            return loss\n",
    "        return (calculate_loss(prices))\n",
    "    \n",
    "    \n",
    "    def calculate_hedged_position(self, prices, \n",
    "                                  strike = None,\n",
    "                                  expiration = None, \n",
    "                                  amount = None):\n",
    "        if strike == None:\n",
    "            strike = self.strike \n",
    "        if expiration == None:\n",
    "            expiration = self.expiration\n",
    "        if amount == None:\n",
    "            amount = self.amount\n",
    "        \n",
    "        def calculate_pnl(price, strike):\n",
    "            if self.isCall == True:\n",
    "                return max(price - strike, 0)\n",
    "            if self.isCall == False:\n",
    "                return max(strike - price, 0)\n",
    "        \n",
    "        option_pnls = amount * np.array([calculate_pnl(price, strike) + (self.sabr_model(strike, \n",
    "                                                    price + 0.0001, # otherwise a bug appears \n",
    "                                                    (expiration - self.uniswap_position.period_in_years), \n",
    "                                                    self.isCall)[0] - self.initial_cost) for price in prices])\n",
    "        return option_pnls\n",
    "    \n",
    "    def __repr__(self):\n",
    "        return (\"\"\"\n",
    "        isCall: {}\n",
    "        expiration: {}\n",
    "        strike: {}\n",
    "        amount: {}\n",
    "        initial cost: {} \n",
    "        ---\n",
    "        uniswap_position: lower_price: {}, upper_price: {},\n",
    "        initial_price: {}, period_in_years: {}\n",
    "        \"\"\".format(self.isCall, \n",
    "                    self.expiration,\n",
    "                    self.strike,\n",
    "                    self.amount,\n",
    "                    self.initial_cost,\n",
    "                    self.uniswap_position.lower_price,\n",
    "                    self.uniswap_position.upper_price,\n",
    "                    self.uniswap_position.initial_price,\n",
    "                    self.uniswap_position.period_in_years))\n",
    "    "
   ]
  },
  {
   "cell_type": "markdown",
   "id": "1226a2ce-4293-422e-acf2-4656a617836b",
   "metadata": {},
   "source": [
    "### Calibration"
   ]
  },
  {
   "cell_type": "code",
   "execution_count": 305,
   "id": "b78aeb97-b5d7-42ab-8c1b-5dce2d714b82",
   "metadata": {},
   "outputs": [],
   "source": [
    "OptionMeta = GetOptionMeta()['Expiry']\n",
    "expiries = list(map(lambda expiry: (expiry[:-5] + \"/\" + expiry[-5:-2] + \"/\" + expiry[-2:]), OptionMeta))\n"
   ]
  },
  {
   "cell_type": "code",
   "execution_count": 306,
   "id": "ef6e2c01-0354-43e9-941f-ff34a2982323",
   "metadata": {},
   "outputs": [
    {
     "data": {
      "text/plain": [
       "['3/MAR/23',\n",
       " '30/JUN/23',\n",
       " '11/FEB/23',\n",
       " '29/DEC/23',\n",
       " '31/MAR/23',\n",
       " '17/FEB/23',\n",
       " '24/FEB/23',\n",
       " '29/SEP/23',\n",
       " '12/FEB/23',\n",
       " '28/APR/23']"
      ]
     },
     "execution_count": 306,
     "metadata": {},
     "output_type": "execute_result"
    }
   ],
   "source": [
    "expiries"
   ]
  },
  {
   "cell_type": "code",
   "execution_count": 307,
   "id": "d597e625-4b35-4fd7-8980-06db6fee23f6",
   "metadata": {},
   "outputs": [
    {
     "data": {
      "text/plain": [
       "'12/FEB/23'"
      ]
     },
     "execution_count": 307,
     "metadata": {},
     "output_type": "execute_result"
    }
   ],
   "source": [
    "expiry = expiries[-2]\n",
    "expiry"
   ]
  },
  {
   "cell_type": "code",
   "execution_count": 308,
   "id": "015a40f2-4889-4714-b1b9-fd46cad27b74",
   "metadata": {},
   "outputs": [
    {
     "name": "stderr",
     "output_type": "stream",
     "text": [
      "/Users/kirillbogomolov/Desktop/DeltaDex-Protocol/research-branch-main/backtest/deribit_parser.py:29: RuntimeWarning:\n",
      "\n",
      "divide by zero encountered in double_scalars\n",
      "\n"
     ]
    },
    {
     "name": "stdout",
     "output_type": "stream",
     "text": [
      "db updated 2023-02-10 16:59:04.076541\n"
     ]
    },
    {
     "name": "stderr",
     "output_type": "stream",
     "text": [
      "100%|███████████████████████████████████████| 500/500 [00:00<00:00, 4646.87it/s]"
     ]
    },
    {
     "name": "stdout",
     "output_type": "stream",
     "text": [
      "optimized parameters:\n",
      "('alpha ', 323.38442)\n",
      "('v ', 75.60928)\n",
      "('beta  ', 0.17852)\n",
      "('rho', -0.86333)\n"
     ]
    },
    {
     "name": "stderr",
     "output_type": "stream",
     "text": [
      "\n"
     ]
    }
   ],
   "source": [
    "sabr, underlying_price = calibrate_sabr(SELECTED_EXPIRY = expiry)\n"
   ]
  },
  {
   "cell_type": "code",
   "execution_count": 309,
   "id": "dcfec6fe-e71f-4517-8c22-e3f22319e66e",
   "metadata": {},
   "outputs": [],
   "source": [
    "# sabr.r = 0.1"
   ]
  },
  {
   "cell_type": "code",
   "execution_count": 310,
   "id": "bf9d4b25-dd82-4654-b673-8bbf2286e5e8",
   "metadata": {},
   "outputs": [
    {
     "name": "stdout",
     "output_type": "stream",
     "text": [
      "1538.3282374659243\n"
     ]
    }
   ],
   "source": [
    "print(underlying_price)"
   ]
  },
  {
   "cell_type": "code",
   "execution_count": 355,
   "id": "1609de94-769b-48de-8908-2fe5fe6617b6",
   "metadata": {},
   "outputs": [],
   "source": [
    "uniswap_position = UniswapPosition(lower_price = 1400, \n",
    "                                   upper_price = 1700,\n",
    "                                   initial_price = underlying_price, \n",
    "                                   initial_token1_amount = 300,    # usdcs\n",
    "                                   period_in_years = 30 / 365.25)\n"
   ]
  },
  {
   "cell_type": "code",
   "execution_count": 356,
   "id": "65f3c472-9cdc-43e9-b890-53893835ca18",
   "metadata": {},
   "outputs": [
    {
     "name": "stdout",
     "output_type": "stream",
     "text": [
      "617.7235238238691\n",
      "(0.20653818612031227, 300.0)\n"
     ]
    }
   ],
   "source": [
    "print(uniswap_position.get_total_value(uniswap_position.initial_price))\n",
    "print(uniswap_position.get_tokens_amounts(uniswap_position.initial_price))"
   ]
  },
  {
   "cell_type": "code",
   "execution_count": 357,
   "id": "369e261d-73f8-4d2e-b6a6-803962aa94eb",
   "metadata": {},
   "outputs": [],
   "source": [
    "# #sabr model parameters\n",
    "# alpha = 0.2\n",
    "# v = 0.9\n",
    "# beta = 0.9\n",
    "# rho = -0.5\n",
    "\n",
    "# sabr_params_0 = np.asarray([alpha, v, beta, rho])"
   ]
  },
  {
   "cell_type": "code",
   "execution_count": 358,
   "id": "c611f6af-4332-4e46-a3b0-7497c7ef6673",
   "metadata": {},
   "outputs": [],
   "source": [
    "# r = 0.1\n",
    "#sabr model\n",
    "# sabr_0 = SABR(sabr_params_0, r)"
   ]
  },
  {
   "cell_type": "code",
   "execution_count": 359,
   "id": "cb97e43c-133c-4dbe-b4c8-6a5a99803150",
   "metadata": {},
   "outputs": [],
   "source": [
    "strike = 1650\n",
    "expiration_in_years = 75 / 365.25\n",
    "amount = 0.2"
   ]
  },
  {
   "cell_type": "code",
   "execution_count": 360,
   "id": "666a4831-d74b-4dbc-b0f2-aa23f2c3c19a",
   "metadata": {},
   "outputs": [],
   "source": [
    "optimal_option = OptimalOption(sabr, \n",
    "                               uniswap_position, \n",
    "                               expiration_in_years, \n",
    "                               strike, \n",
    "                               amount, \n",
    "                               isCall = False)"
   ]
  },
  {
   "cell_type": "code",
   "execution_count": 322,
   "id": "ec0bd036-b168-4de6-aaaa-137bb7ff74c2",
   "metadata": {},
   "outputs": [],
   "source": [
    "from scipy.optimize import minimize\n"
   ]
  },
  {
   "cell_type": "code",
   "execution_count": 332,
   "id": "adf40a53-8be4-462b-9084-388eca870386",
   "metadata": {},
   "outputs": [],
   "source": [
    "def rosen(x):\n",
    "    \"\"\"The Rosenbrock function\"\"\"\n",
    "    return sum(100.0*(x[1:]-x[:-1]**2.0)**2.0 + (1-x[:-1])**2.0)"
   ]
  },
  {
   "cell_type": "code",
   "execution_count": 371,
   "id": "e1b9bd9c-f2b1-42ef-9bff-ac04b3755bc5",
   "metadata": {},
   "outputs": [],
   "source": [
    "def _find_optimal_option(x):\n",
    "    return optimal_option.find_optimal_option(x[0], x[1], x[2])"
   ]
  },
  {
   "cell_type": "code",
   "execution_count": 395,
   "id": "360e8653-dc39-4990-852e-cdd6c1bb0ed8",
   "metadata": {},
   "outputs": [
    {
     "name": "stdout",
     "output_type": "stream",
     "text": [
      "Optimization terminated successfully.\n",
      "         Current function value: 1711.890097\n",
      "         Iterations: 254\n",
      "         Function evaluations: 519\n"
     ]
    }
   ],
   "source": [
    "x0 = np.array([1000, 0.5, 0.1])\n",
    "res = minimize(_find_optimal_option, x0, method='nelder-mead',\n",
    "               options={'xatol': 1e-10, 'disp': True})"
   ]
  },
  {
   "cell_type": "code",
   "execution_count": 396,
   "id": "80f330ea-965e-4d64-b4d9-d9f80b45bb1d",
   "metadata": {},
   "outputs": [
    {
     "name": "stdout",
     "output_type": "stream",
     "text": [
      "1193.5991291301582 0.6616717074836059 0.1903797279945593\n"
     ]
    }
   ],
   "source": [
    "strike, expiration, amount = res.x\n",
    "print(strike, expiration, amount)"
   ]
  },
  {
   "cell_type": "code",
   "execution_count": 399,
   "id": "e2c23f58-3d30-4eda-a89f-0e055192b996",
   "metadata": {},
   "outputs": [
    {
     "data": {
      "text/plain": [
       "1711.8900967582324"
      ]
     },
     "execution_count": 401,
     "metadata": {},
     "output_type": "execute_result"
    }
   ],
   "source": [
    "optimal_option.find_optimal_option(strike, expiration+0.1, amount)"
   ]
  },
  {
   "cell_type": "code",
   "execution_count": 404,
   "id": "83256fa6-2f15-4121-8a33-fb8770a635bc",
   "metadata": {},
   "outputs": [],
   "source": [
    "# optimal_option.strike = strike\n",
    "# opti"
   ]
  },
  {
   "cell_type": "code",
   "execution_count": 400,
   "id": "58902d73-daf1-4112-b18c-1455b9d7be2e",
   "metadata": {},
   "outputs": [
    {
     "data": {
      "text/plain": [
       "2.2737367544323206e-13"
      ]
     },
     "execution_count": 400,
     "metadata": {},
     "output_type": "execute_result"
    }
   ],
   "source": [
    "1711.8900967582326 - 1711.8900967582324"
   ]
  },
  {
   "cell_type": "code",
   "execution_count": 402,
   "id": "f5c01d1e-8e7e-4535-b8e6-969d49c8bcaf",
   "metadata": {},
   "outputs": [],
   "source": [
    "prices = np.array([price for price in range(500, 2500, 10 )])\n"
   ]
  },
  {
   "cell_type": "code",
   "execution_count": 403,
   "id": "95cff45e-0aff-45e4-8c38-adab67c0f74c",
   "metadata": {},
   "outputs": [
    {
     "data": {
      "text/plain": [
       "[<matplotlib.lines.Line2D at 0x28c70c6a0>]"
      ]
     },
     "execution_count": 403,
     "metadata": {},
     "output_type": "execute_result"
    },
    {
     "data": {
      "image/png": "[encoded data removed]",
      "text/plain": [
       "<Figure size 640x480 with 1 Axes>"
      ]
     },
     "metadata": {},
     "output_type": "display_data"
    }
   ],
   "source": [
    "plt.plot(optimal_option.calculate_hedged_position(prices, res.x[0], res.x[1], res.x[2]))"
   ]
  },
  {
   "cell_type": "code",
   "execution_count": 318,
   "id": "68ca3847-6564-43ad-9350-8d54ad689f0e",
   "metadata": {},
   "outputs": [],
   "source": [
    "# res[1]"
   ]
  },
  {
   "cell_type": "code",
   "execution_count": 320,
   "id": "a9690b1b-fc1e-4eac-b09a-2b4eddb25a52",
   "metadata": {},
   "outputs": [],
   "source": [
    "# plt.plot(res[0], res[1])"
   ]
  },
  {
   "cell_type": "code",
   "execution_count": 296,
   "id": "1a37d882-fcb5-4330-a628-89d4569f9541",
   "metadata": {},
   "outputs": [
    {
     "name": "stdout",
     "output_type": "stream",
     "text": [
      "\n",
      "        isCall: False\n",
      "        expiration: 0.2053388090349076\n",
      "        strike: 1650\n",
      "        amount: 0.2\n",
      "        initial cost: 95.71973095503861 \n",
      "        ---\n",
      "        uniswap_position: lower_price: 1400, upper_price: 1700,\n",
      "        initial_price: 1540.2467525250313, period_in_years: 0.08213552361396304\n",
      "        \n"
     ]
    }
   ],
   "source": [
    "print(optimal_option)"
   ]
  },
  {
   "cell_type": "code",
   "execution_count": 297,
   "id": "e90b6dd0-7962-4523-8523-abf7de6bfe1e",
   "metadata": {},
   "outputs": [],
   "source": [
    "prices = np.array([price for price in range(500, 2500, 10 )])\n",
    "\n",
    "pure_usdc = np.array([optimal_option.initial_cost + \n",
    "                      uniswap_position.get_total_value(uniswap_position.initial_price) for _ in prices])"
   ]
  },
  {
   "cell_type": "code",
   "execution_count": 298,
   "id": "ab9d69dc-acf6-4d0f-9ec9-2318642b7446",
   "metadata": {},
   "outputs": [
    {
     "data": {
      "text/plain": [
       "95.71973095503861"
      ]
     },
     "execution_count": 298,
     "metadata": {},
     "output_type": "execute_result"
    }
   ],
   "source": [
    "optimal_option.initial_cost"
   ]
  },
  {
   "cell_type": "code",
   "execution_count": 299,
   "id": "b24d0824-e4a0-4c01-9a57-0bd9c75c6b99",
   "metadata": {},
   "outputs": [],
   "source": [
    "uniswap_tvs = np.array([uniswap_position.get_total_value(price) for price in prices])\n",
    "option_pnls = optimal_option.calculate_hedged_position(prices)\n"
   ]
  },
  {
   "cell_type": "code",
   "execution_count": 300,
   "id": "304456ac-caec-46d0-a3cd-66fdc30bbab5",
   "metadata": {},
   "outputs": [],
   "source": [
    "earned_fees = 0 # in usdc"
   ]
  },
  {
   "cell_type": "code",
   "execution_count": 301,
   "id": "7cab6a00-ce8b-42d4-82fc-eec733747a08",
   "metadata": {},
   "outputs": [],
   "source": [
    "# pure_usdc"
   ]
  },
  {
   "cell_type": "code",
   "execution_count": 302,
   "id": "411e6925-8420-44fc-b10f-7d38d82ae170",
   "metadata": {},
   "outputs": [],
   "source": [
    "# uniswap_tvs"
   ]
  },
  {
   "cell_type": "code",
   "execution_count": 303,
   "id": "bc88d283-a1dd-4463-8f25-28f86e055032",
   "metadata": {
    "tags": []
   },
   "outputs": [
    {
     "data": {
      "application/vnd.plotly.v1+json": {
       "config": {
        "plotlyServerURL": "https://plot.ly"
       },
       "data": [
        {
         "mode": "lines",
         "name": "pure_usdc",
         "type": "scatter",
         "x": [
          500,
          510,
          520,
          530,
          540,
          550,
          560,
          570,
          580,
          590,
          600,
          610,
          620,
          630,
          640,
          650,
          660,
          670,
          680,
          690,
          700,
          710,
          720,
          730,
          740,
          750,
          760,
          770,
          780,
          790,
          800,
          810,
          820,
          830,
          840,
          850,
          860,
          870,
          880,
          890,
          900,
          910,
          920,
          930,
          940,
          950,
          960,
          970,
          980,
          990,
          1000,
          1010,
          1020,
          1030,
          1040,
          1050,
          1060,
          1070,
          1080,
          1090,
          1100,
          1110,
          1120,
          1130,
          1140,
          1150,
          1160,
          1170,
          1180,
          1190,
          1200,
          1210,
          1220,
          1230,
          1240,
          1250,
          1260,
          1270,
          1280,
          1290,
          1300,
          1310,
          1320,
          1330,
          1340,
          1350,
          1360,
          1370,
          1380,
          1390,
          1400,
          1410,
          1420,
          1430,
          1440,
          1450,
          1460,
          1470,
          1480,
          1490,
          1500,
          1510,
          1520,
          1530,
          1540,
          1550,
          1560,
          1570,
          1580,
          1590,
          1600,
          1610,
          1620,
          1630,
          1640,
          1650,
          1660,
          1670,
          1680,
          1690,
          1700,
          1710,
          1720,
          1730,
          1740,
          1750,
          1760,
          1770,
          1780,
          1790,
          1800,
          1810,
          1820,
          1830,
          1840,
          1850,
          1860,
          1870,
          1880,
          1890,
          1900,
          1910,
          1920,
          1930,
          1940,
          1950,
          1960,
          1970,
          1980,
          1990,
          2000,
          2010,
          2020,
          2030,
          2040,
          2050,
          2060,
          2070,
          2080,
          2090,
          2100,
          2110,
          2120,
          2130,
          2140,
          2150,
          2160,
          2170,
          2180,
          2190,
          2200,
          2210,
          2220,
          2230,
          2240,
          2250,
          2260,
          2270,
          2280,
          2290,
          2300,
          2310,
          2320,
          2330,
          2340,
          2350,
          2360,
          2370,
          2380,
          2390,
          2400,
          2410,
          2420,
          2430,
          2440,
          2450,
          2460,
          2470,
          2480,
          2490
         ],
         "y": [
          705.5758909969511,
          705.5758909969511,
          705.5758909969511,
          705.5758909969511,
          705.5758909969511,
          705.5758909969511,
          705.5758909969511,
          705.5758909969511,
          705.5758909969511,
          705.5758909969511,
          705.5758909969511,
          705.5758909969511,
          705.5758909969511,
          705.5758909969511,
          705.5758909969511,
          705.5758909969511,
          705.5758909969511,
          705.5758909969511,
          705.5758909969511,
          705.5758909969511,
          705.5758909969511,
          705.5758909969511,
          705.5758909969511,
          705.5758909969511,
          705.5758909969511,
          705.5758909969511,
          705.5758909969511,
          705.5758909969511,
          705.5758909969511,
          705.5758909969511,
          705.5758909969511,
          705.5758909969511,
          705.5758909969511,
          705.5758909969511,
          705.5758909969511,
          705.5758909969511,
          705.5758909969511,
          705.5758909969511,
          705.5758909969511,
          705.5758909969511,
          705.5758909969511,
          705.5758909969511,
          705.5758909969511,
          705.5758909969511,
          705.5758909969511,
          705.5758909969511,
          705.5758909969511,
          705.5758909969511,
          705.5758909969511,
          705.5758909969511,
          705.5758909969511,
          705.5758909969511,
          705.5758909969511,
          705.5758909969511,
          705.5758909969511,
          705.5758909969511,
          705.5758909969511,
          705.5758909969511,
          705.5758909969511,
          705.5758909969511,
          705.5758909969511,
          705.5758909969511,
          705.5758909969511,
          705.5758909969511,
          705.5758909969511,
          705.5758909969511,
          705.5758909969511,
          705.5758909969511,
          705.5758909969511,
          705.5758909969511,
          705.5758909969511,
          705.5758909969511,
          705.5758909969511,
          705.5758909969511,
          705.5758909969511,
          705.5758909969511,
          705.5758909969511,
          705.5758909969511,
          705.5758909969511,
          705.5758909969511,
          705.5758909969511,
          705.5758909969511,
          705.5758909969511,
          705.5758909969511,
          705.5758909969511,
          705.5758909969511,
          705.5758909969511,
          705.5758909969511,
          705.5758909969511,
          705.5758909969511,
          705.5758909969511,
          705.5758909969511,
          705.5758909969511,
          705.5758909969511,
          705.5758909969511,
          705.5758909969511,
          705.5758909969511,
          705.5758909969511,
          705.5758909969511,
          705.5758909969511,
          705.5758909969511,
          705.5758909969511,
          705.5758909969511,
          705.5758909969511,
          705.5758909969511,
          705.5758909969511,
          705.5758909969511,
          705.5758909969511,
          705.5758909969511,
          705.5758909969511,
          705.5758909969511,
          705.5758909969511,
          705.5758909969511,
          705.5758909969511,
          705.5758909969511,
          705.5758909969511,
          705.5758909969511,
          705.5758909969511,
          705.5758909969511,
          705.5758909969511,
          705.5758909969511,
          705.5758909969511,
          705.5758909969511,
          705.5758909969511,
          705.5758909969511,
          705.5758909969511,
          705.5758909969511,
          705.5758909969511,
          705.5758909969511,
          705.5758909969511,
          705.5758909969511,
          705.5758909969511,
          705.5758909969511,
          705.5758909969511,
          705.5758909969511,
          705.5758909969511,
          705.5758909969511,
          705.5758909969511,
          705.5758909969511,
          705.5758909969511,
          705.5758909969511,
          705.5758909969511,
          705.5758909969511,
          705.5758909969511,
          705.5758909969511,
          705.5758909969511,
          705.5758909969511,
          705.5758909969511,
          705.5758909969511,
          705.5758909969511,
          705.5758909969511,
          705.5758909969511,
          705.5758909969511,
          705.5758909969511,
          705.5758909969511,
          705.5758909969511,
          705.5758909969511,
          705.5758909969511,
          705.5758909969511,
          705.5758909969511,
          705.5758909969511,
          705.5758909969511,
          705.5758909969511,
          705.5758909969511,
          705.5758909969511,
          705.5758909969511,
          705.5758909969511,
          705.5758909969511,
          705.5758909969511,
          705.5758909969511,
          705.5758909969511,
          705.5758909969511,
          705.5758909969511,
          705.5758909969511,
          705.5758909969511,
          705.5758909969511,
          705.5758909969511,
          705.5758909969511,
          705.5758909969511,
          705.5758909969511,
          705.5758909969511,
          705.5758909969511,
          705.5758909969511,
          705.5758909969511,
          705.5758909969511,
          705.5758909969511,
          705.5758909969511,
          705.5758909969511,
          705.5758909969511,
          705.5758909969511,
          705.5758909969511,
          705.5758909969511,
          705.5758909969511,
          705.5758909969511,
          705.5758909969511,
          705.5758909969511,
          705.5758909969511,
          705.5758909969511,
          705.5758909969511,
          705.5758909969511
         ]
        },
        {
         "mode": "lines",
         "name": "uniswap_tvs + option initial cost + fees = 0 usdc",
         "type": "scatter",
         "x": [
          500,
          510,
          520,
          530,
          540,
          550,
          560,
          570,
          580,
          590,
          600,
          610,
          620,
          630,
          640,
          650,
          660,
          670,
          680,
          690,
          700,
          710,
          720,
          730,
          740,
          750,
          760,
          770,
          780,
          790,
          800,
          810,
          820,
          830,
          840,
          850,
          860,
          870,
          880,
          890,
          900,
          910,
          920,
          930,
          940,
          950,
          960,
          970,
          980,
          990,
          1000,
          1010,
          1020,
          1030,
          1040,
          1050,
          1060,
          1070,
          1080,
          1090,
          1100,
          1110,
          1120,
          1130,
          1140,
          1150,
          1160,
          1170,
          1180,
          1190,
          1200,
          1210,
          1220,
          1230,
          1240,
          1250,
          1260,
          1270,
          1280,
          1290,
          1300,
          1310,
          1320,
          1330,
          1340,
          1350,
          1360,
          1370,
          1380,
          1390,
          1400,
          1410,
          1420,
          1430,
          1440,
          1450,
          1460,
          1470,
          1480,
          1490,
          1500,
          1510,
          1520,
          1530,
          1540,
          1550,
          1560,
          1570,
          1580,
          1590,
          1600,
          1610,
          1620,
          1630,
          1640,
          1650,
          1660,
          1670,
          1680,
          1690,
          1700,
          1710,
          1720,
          1730,
          1740,
          1750,
          1760,
          1770,
          1780,
          1790,
          1800,
          1810,
          1820,
          1830,
          1840,
          1850,
          1860,
          1870,
          1880,
          1890,
          1900,
          1910,
          1920,
          1930,
          1940,
          1950,
          1960,
          1970,
          1980,
          1990,
          2000,
          2010,
          2020,
          2030,
          2040,
          2050,
          2060,
          2070,
          2080,
          2090,
          2100,
          2110,
          2120,
          2130,
          2140,
          2150,
          2160,
          2170,
          2180,
          2190,
          2200,
          2210,
          2220,
          2230,
          2240,
          2250,
          2260,
          2270,
          2280,
          2290,
          2300,
          2310,
          2320,
          2330,
          2340,
          2350,
          2360,
          2370,
          2380,
          2390,
          2400,
          2410,
          2420,
          2430,
          2440,
          2450,
          2460,
          2470,
          2480,
          2490
         ],
         "y": [
          298.45478619363155,
          302.5094872984034,
          306.5641884031753,
          310.6188895079472,
          314.67359061271907,
          318.7282917174909,
          322.7829928222627,
          326.8376939270346,
          330.8923950318065,
          334.94709613657835,
          339.0017972413502,
          343.05649834612205,
          347.1111994508939,
          351.16590055566576,
          355.22060166043764,
          359.2753027652095,
          363.3300038699814,
          367.38470497475316,
          371.43940607952504,
          375.4941071842969,
          379.5488082890688,
          383.6035093938407,
          387.65821049861245,
          391.7129116033843,
          395.7676127081562,
          399.8223138129281,
          403.87701491769997,
          407.93171602247185,
          411.9864171272436,
          416.0411182320155,
          420.0958193367874,
          424.15052044155925,
          428.20522154633113,
          432.2599226511029,
          436.3146237558748,
          440.36932486064666,
          444.42402596541854,
          448.4787270701904,
          452.5334281749623,
          456.58812927973406,
          460.64283038450594,
          464.6975314892778,
          468.7522325940497,
          472.8069336988216,
          476.86163480359346,
          480.9163359083652,
          484.9710370131371,
          489.025738117909,
          493.08043922268087,
          497.13514032745275,
          501.1898414322245,
          505.2445425369964,
          509.29924364176827,
          513.3539447465402,
          517.408645851312,
          521.4633469560839,
          525.5180480608557,
          529.5727491656276,
          533.6274502703994,
          537.6821513751713,
          541.7368524799432,
          545.7915535847151,
          549.8462546894868,
          553.9009557942587,
          557.9556568990306,
          562.0103580038025,
          566.0650591085744,
          570.1197602133461,
          574.174461318118,
          578.2291624228899,
          582.2838635276618,
          586.3385646324336,
          590.3932657372055,
          594.4479668419773,
          598.5026679467492,
          602.557369051521,
          606.6120701562929,
          610.6667712610647,
          614.7214723658366,
          618.7761734706085,
          622.8308745753803,
          626.8855756801522,
          630.9402767849241,
          634.9949778896959,
          639.0496789944677,
          643.1043800992396,
          647.1590812040115,
          651.2137823087834,
          655.2684834135551,
          659.323184518327,
          663.3778856230989,
          667.3546014271,
          671.1764498794025,
          674.8450640530062,
          678.362048519897,
          681.7289800425976,
          684.9474082442929,
          688.0188562583365,
          690.9448213579062,
          693.7267755665463,
          696.3661662503024,
          698.8644166921197,
          701.2229266491514,
          703.4430728935956,
          705.5262097376493,
          707.4736695431477,
          709.2867632164318,
          710.9667806889621,
          712.5149913841786,
          713.932644671086,
          715.2209703050193,
          716.3811788560334,
          717.4144621253374,
          718.3219935501772,
          719.1049285975596,
          719.7644051471865,
          720.3015438639633,
          720.7174485604226,
          721.0132065493973,
          721.18988898726,
          721.2485512080368,
          721.2485512080368,
          721.2485512080368,
          721.2485512080368,
          721.2485512080368,
          721.2485512080368,
          721.2485512080368,
          721.2485512080368,
          721.2485512080368,
          721.2485512080368,
          721.2485512080368,
          721.2485512080368,
          721.2485512080368,
          721.2485512080368,
          721.2485512080368,
          721.2485512080368,
          721.2485512080368,
          721.2485512080368,
          721.2485512080368,
          721.2485512080368,
          721.2485512080368,
          721.2485512080368,
          721.2485512080368,
          721.2485512080368,
          721.2485512080368,
          721.2485512080368,
          721.2485512080368,
          721.2485512080368,
          721.2485512080368,
          721.2485512080368,
          721.2485512080368,
          721.2485512080368,
          721.2485512080368,
          721.2485512080368,
          721.2485512080368,
          721.2485512080368,
          721.2485512080368,
          721.2485512080368,
          721.2485512080368,
          721.2485512080368,
          721.2485512080368,
          721.2485512080368,
          721.2485512080368,
          721.2485512080368,
          721.2485512080368,
          721.2485512080368,
          721.2485512080368,
          721.2485512080368,
          721.2485512080368,
          721.2485512080368,
          721.2485512080368,
          721.2485512080368,
          721.2485512080368,
          721.2485512080368,
          721.2485512080368,
          721.2485512080368,
          721.2485512080368,
          721.2485512080368,
          721.2485512080368,
          721.2485512080368,
          721.2485512080368,
          721.2485512080368,
          721.2485512080368,
          721.2485512080368,
          721.2485512080368,
          721.2485512080368,
          721.2485512080368,
          721.2485512080368,
          721.2485512080368,
          721.2485512080368,
          721.2485512080368,
          721.2485512080368,
          721.2485512080368,
          721.2485512080368,
          721.2485512080368,
          721.2485512080368,
          721.2485512080368,
          721.2485512080368,
          721.2485512080368,
          721.2485512080368
         ]
        },
        {
         "mode": "lines",
         "name": "option_pnls",
         "type": "scatter",
         "x": [
          500,
          510,
          520,
          530,
          540,
          550,
          560,
          570,
          580,
          590,
          600,
          610,
          620,
          630,
          640,
          650,
          660,
          670,
          680,
          690,
          700,
          710,
          720,
          730,
          740,
          750,
          760,
          770,
          780,
          790,
          800,
          810,
          820,
          830,
          840,
          850,
          860,
          870,
          880,
          890,
          900,
          910,
          920,
          930,
          940,
          950,
          960,
          970,
          980,
          990,
          1000,
          1010,
          1020,
          1030,
          1040,
          1050,
          1060,
          1070,
          1080,
          1090,
          1100,
          1110,
          1120,
          1130,
          1140,
          1150,
          1160,
          1170,
          1180,
          1190,
          1200,
          1210,
          1220,
          1230,
          1240,
          1250,
          1260,
          1270,
          1280,
          1290,
          1300,
          1310,
          1320,
          1330,
          1340,
          1350,
          1360,
          1370,
          1380,
          1390,
          1400,
          1410,
          1420,
          1430,
          1440,
          1450,
          1460,
          1470,
          1480,
          1490,
          1500,
          1510,
          1520,
          1530,
          1540,
          1550,
          1560,
          1570,
          1580,
          1590,
          1600,
          1610,
          1620,
          1630,
          1640,
          1650,
          1660,
          1670,
          1680,
          1690,
          1700,
          1710,
          1720,
          1730,
          1740,
          1750,
          1760,
          1770,
          1780,
          1790,
          1800,
          1810,
          1820,
          1830,
          1840,
          1850,
          1860,
          1870,
          1880,
          1890,
          1900,
          1910,
          1920,
          1930,
          1940,
          1950,
          1960,
          1970,
          1980,
          1990,
          2000,
          2010,
          2020,
          2030,
          2040,
          2050,
          2060,
          2070,
          2080,
          2090,
          2100,
          2110,
          2120,
          2130,
          2140,
          2150,
          2160,
          2170,
          2180,
          2190,
          2200,
          2210,
          2220,
          2230,
          2240,
          2250,
          2260,
          2270,
          2280,
          2290,
          2300,
          2310,
          2320,
          2330,
          2340,
          2350,
          2360,
          2370,
          2380,
          2390,
          2400,
          2410,
          2420,
          2430,
          2440,
          2450,
          2460,
          2470,
          2480,
          2490
         ],
         "y": [
          493.0146390466714,
          489.44138271962004,
          485.85245374266015,
          482.24812025116,
          478.6286416683266,
          474.99426905335616,
          471.3452454299293,
          467.6818060962741,
          464.0041789180559,
          460.3125846052197,
          456.60723697379365,
          452.88834319361627,
          449.1561040228771,
          445.4107140302189,
          441.65236180527245,
          437.8812301581609,
          434.09749630877127,
          430.30133206626044,
          426.4929039994588,
          422.67237359858814,
          418.8398974288773,
          414.99562727641114,
          411.139710286737,
          407.27228909655406,
          403.39350195885845,
          399.5034828619327,
          395.6023616424197,
          391.6902640928956,
          387.76731206410875,
          383.8336235622606,
          379.88931284151624,
          375.93449049202513,
          371.96926352369076,
          367.99373544588275,
          364.00800634335167,
          360.0121729485336,
          356.0063287104713,
          351.9905638605397,
          347.9649654752029,
          343.9296175359953,
          339.8846009869441,
          335.8299937896514,
          331.7658709762517,
          327.69230470049365,
          323.60936428717696,
          319.5171162802293,
          315.41562448968835,
          311.3049500379333,
          307.185151405466,
          303.0562844766662,
          298.9184025859167,
          294.7715565645816,
          290.6157947893809,
          286.45116323275687,
          282.2777055159407,
          278.0954629655094,
          273.90447467432625,
          269.7047775679454,
          265.4964064776686,
          261.2793942216689,
          257.053771695813,
          252.8195679760847,
          248.5768104348299,
          244.32552487342934,
          240.06573567443658,
          235.79746597678647,
          231.52073787829943,
          227.23557267048056,
          222.9419911115438,
          218.64001374470368,
          214.32966127011355,
          210.0109549804729,
          205.68391727228564,
          201.3485722471858,
          197.00494642067304,
          192.65306955924075,
          188.2929756713099,
          183.9247041829222,
          179.54830133595,
          175.16382185511654,
          170.7713309407694,
          166.37090665774247,
          161.96264280753581,
          157.54665239248988,
          153.12307180792948,
          148.69206593322903,
          144.25383433775085,
          139.80861887582148,
          135.35671302058608,
          130.89847338549552,
          126.43433401210517,
          121.96482417438895,
          117.49059067727906,
          113.01242593018165,
          108.53130348129258,
          104.04842324129355,
          99.56526935278073,
          95.08368463578896,
          90.60596683573877,
          86.13499360344636,
          81.67438532456207,
          77.22871760813052,
          72.80379828984401,
          68.40702663297414,
          64.0478535143227,
          59.73835735192566,
          55.49393438491123,
          51.3340608448254,
          47.28299862510248,
          43.370163698638564,
          39.62966081667623,
          36.09830091028075,
          32.8115197670309,
          29.797374892243642,
          27.07022624562382,
          24.626845760496867,
          24.447074341160732,
          24.498709170573278,
          24.74412812218988,
          25.14600833392528,
          25.670872491637326,
          26.29056158977257,
          26.982330717031022,
          27.728255451601896,
          28.51440773954168,
          29.33004211253987,
          30.166891226638015,
          31.01859469501598,
          31.88025202876599,
          32.74807929293601,
          33.61914789709717,
          34.49118659261139,
          35.36243138080771,
          36.23151147758021,
          37.09736235013308,
          37.95915909543666,
          38.81626514453769,
          39.66819255917282,
          40.51457113789822,
          41.35512425139238,
          42.189649845435724,
          43.018005433986104,
          43.84009618976501,
          44.655865452192415,
          45.46528713157929,
          46.26835960820647,
          47.06510081548938,
          47.855544265307635,
          48.63973582624321,
          49.41773110594706,
          50.18959332011941,
          50.955391554867035,
          51.71519934814135,
          52.46909353080787,
          53.21715327958728,
          53.95945934336176,
          54.6960934116808,
          55.42713760016118,
          56.1526740321697,
          56.872784499942874,
          57.58755019134465,
          58.297051470920294,
          59.00136770590664,
          59.700577129486874,
          60.39475673490818,
          61.0839821951719,
          61.76832780390191,
          62.44786643373409,
          63.12266950918124,
          63.792806991430965,
          64.45834737295361,
          65.11935768014526,
          65.77590348251988,
          66.42804890720973,
          67.0758566577302,
          67.71938803614003,
          68.3587029678663,
          68.99386002858523,
          69.62491647264584,
          70.25192826261632,
          70.87495009959098,
          71.49403545397081,
          72.1092365964671,
          72.72060462913046,
          73.32818951623754,
          73.93204011490103,
          74.53220420529219,
          75.1287285203884,
          75.72165877517686,
          76.31103969525716,
          76.89691504480362,
          77.47932765385514,
          78.0583194449116,
          78.63393145882206,
          79.20620387995683,
          79.77517606066226,
          80.34088654499861,
          80.90337309176626,
          81.46267269683077,
          82.01882161475474
         ]
        },
        {
         "mode": "lines",
         "name": "uniswap_tvs + option_pnls + fees",
         "type": "scatter",
         "x": [
          500,
          510,
          520,
          530,
          540,
          550,
          560,
          570,
          580,
          590,
          600,
          610,
          620,
          630,
          640,
          650,
          660,
          670,
          680,
          690,
          700,
          710,
          720,
          730,
          740,
          750,
          760,
          770,
          780,
          790,
          800,
          810,
          820,
          830,
          840,
          850,
          860,
          870,
          880,
          890,
          900,
          910,
          920,
          930,
          940,
          950,
          960,
          970,
          980,
          990,
          1000,
          1010,
          1020,
          1030,
          1040,
          1050,
          1060,
          1070,
          1080,
          1090,
          1100,
          1110,
          1120,
          1130,
          1140,
          1150,
          1160,
          1170,
          1180,
          1190,
          1200,
          1210,
          1220,
          1230,
          1240,
          1250,
          1260,
          1270,
          1280,
          1290,
          1300,
          1310,
          1320,
          1330,
          1340,
          1350,
          1360,
          1370,
          1380,
          1390,
          1400,
          1410,
          1420,
          1430,
          1440,
          1450,
          1460,
          1470,
          1480,
          1490,
          1500,
          1510,
          1520,
          1530,
          1540,
          1550,
          1560,
          1570,
          1580,
          1590,
          1600,
          1610,
          1620,
          1630,
          1640,
          1650,
          1660,
          1670,
          1680,
          1690,
          1700,
          1710,
          1720,
          1730,
          1740,
          1750,
          1760,
          1770,
          1780,
          1790,
          1800,
          1810,
          1820,
          1830,
          1840,
          1850,
          1860,
          1870,
          1880,
          1890,
          1900,
          1910,
          1920,
          1930,
          1940,
          1950,
          1960,
          1970,
          1980,
          1990,
          2000,
          2010,
          2020,
          2030,
          2040,
          2050,
          2060,
          2070,
          2080,
          2090,
          2100,
          2110,
          2120,
          2130,
          2140,
          2150,
          2160,
          2170,
          2180,
          2190,
          2200,
          2210,
          2220,
          2230,
          2240,
          2250,
          2260,
          2270,
          2280,
          2290,
          2300,
          2310,
          2320,
          2330,
          2340,
          2350,
          2360,
          2370,
          2380,
          2390,
          2400,
          2410,
          2420,
          2430,
          2440,
          2450,
          2460,
          2470,
          2480,
          2490
         ],
         "y": [
          695.7496942852644,
          696.2311390629849,
          696.6969111907969,
          697.1472788040685,
          697.5825013260071,
          698.0028298158085,
          698.4085072971534,
          698.79976906827,
          699.1768429948238,
          699.5399497867594,
          699.8893032601052,
          700.2251105846997,
          700.5475725187324,
          700.856883630846,
          701.1532325106714,
          701.4368019683318,
          701.707769223714,
          701.966306085975,
          702.2125791239453,
          702.4467498278464,
          702.6689747629075,
          702.8794057152131,
          703.0781898303109,
          703.2654697448997,
          703.4413837119761,
          703.6060657198221,
          703.759645605081,
          703.9022491603288,
          704.0339982363138,
          704.1550108392375,
          704.265401223265,
          704.3652799785457,
          704.4547541149832,
          704.5339271419471,
          704.6028991441879,
          704.6617668541417,
          704.7106237208511,
          704.7495599756915,
          704.7786626951265,
          704.7980158606908,
          704.8077004164115,
          704.8077943238907,
          704.7983726152627,
          704.7795074442765,
          704.7512681357318,
          704.7137212335559,
          704.6669305477869,
          704.6109572008037,
          704.5458596731082,
          704.4716938490803,
          704.3885130631027,
          704.2963681465394,
          704.1953074761107,
          704.0853770242584,
          703.9666204122141,
          703.8390789665547,
          703.7027917801433,
          703.5577957785345,
          703.4041257930294,
          703.2418146418015,
          703.0708932207176,
          702.8913906057611,
          702.7033341692782,
          702.5067497126495,
          702.3016616184285,
          702.0880930255503,
          701.8660660318351,
          701.6356019287881,
          701.3967214746233,
          701.149445212555,
          700.8937938427366,
          700.629788657868,
          700.3574520544526,
          700.0768081341246,
          699.7878834123836,
          699.4907076557232,
          699.1853148725642,
          698.8717444889483,
          698.550042746748,
          698.2202643706864,
          697.8824745611112,
          697.5367513828561,
          697.1831886374214,
          696.8218993271471,
          696.4530198473586,
          696.0767150774301,
          695.6931845867238,
          695.3026702295663,
          694.9054654791026,
          694.501926948784,
          694.0924886801655,
          693.5996946464503,
          692.947309601643,
          692.1377590281493,
          691.1736210461511,
          690.0576723288526,
          688.7929466420351,
          687.3828099390869,
          685.8310572386064,
          684.142038214954,
          682.3208206198259,
          680.3734033452116,
          678.3069939839569,
          676.1303685715312,
          673.8543322969334,
          671.4922959400348,
          669.0609666463045,
          666.581110578749,
          664.0782590542425,
          661.5830774146859,
          659.1309001666569,
          656.7597488112756,
          654.5062509373297,
          652.3996374873823,
          650.4554238881449,
          648.6715199526448,
          649.0288872500854,
          649.4964267759573,
          650.0376037165486,
          650.6161663661467,
          651.1996927446355,
          651.8193818427708,
          652.5111509700292,
          653.2570757046001,
          654.0432279925399,
          654.8588623655381,
          655.6957114796362,
          656.5474149480142,
          657.4090722817642,
          658.2768995459343,
          659.1479681500954,
          660.0200068456096,
          660.891251633806,
          661.7603317305784,
          662.6261826031313,
          663.4879793484349,
          664.345085397536,
          665.197012812171,
          666.0433913908964,
          666.8839445043906,
          667.718470098434,
          668.5468256869843,
          669.3689164427633,
          670.1846857051906,
          670.9941073845775,
          671.7971798612047,
          672.5939210684876,
          673.3843645183059,
          674.1685560792414,
          674.9465513589453,
          675.7184135731177,
          676.4842118078652,
          677.2440196011396,
          677.9979137838061,
          678.7459735325855,
          679.48827959636,
          680.224913664679,
          680.9559578531594,
          681.6814942851679,
          682.4016047529411,
          683.1163704443429,
          683.8258717239186,
          684.5301879589049,
          685.2293973824851,
          685.9235769879064,
          686.6128024481701,
          687.2971480569001,
          687.9766866867324,
          688.6514897621795,
          689.3216272444292,
          689.9871676259519,
          690.6481779331435,
          691.3047237355181,
          691.9568691602079,
          692.6046769107285,
          693.2482082891382,
          693.8875232208645,
          694.5226802815835,
          695.1537367256441,
          695.7807485156145,
          696.4037703525892,
          697.022855706969,
          697.6380568494653,
          698.2494248821287,
          698.8570097692358,
          699.4608603678993,
          700.0610244582904,
          700.6575487733867,
          701.250479028175,
          701.8398599482554,
          702.4257352978018,
          703.0081479068533,
          703.5871396979098,
          704.1627517118203,
          704.735024132955,
          705.3039963136605,
          705.8697067979969,
          706.4321933447645,
          706.991492949829,
          707.547641867753
         ]
        }
       ],
       "layout": {
        "autosize": false,
        "height": 500,
        "template": {
         "data": {
          "bar": [
           {
            "error_x": {
             "color": "#2a3f5f"
            },
            "error_y": {
             "color": "#2a3f5f"
            },
            "marker": {
             "line": {
              "color": "#E5ECF6",
              "width": 0.5
             },
             "pattern": {
              "fillmode": "overlay",
              "size": 10,
              "solidity": 0.2
             }
            },
            "type": "bar"
           }
          ],
          "barpolar": [
           {
            "marker": {
             "line": {
              "color": "#E5ECF6",
              "width": 0.5
             },
             "pattern": {
              "fillmode": "overlay",
              "size": 10,
              "solidity": 0.2
             }
            },
            "type": "barpolar"
           }
          ],
          "carpet": [
           {
            "aaxis": {
             "endlinecolor": "#2a3f5f",
             "gridcolor": "white",
             "linecolor": "white",
             "minorgridcolor": "white",
             "startlinecolor": "#2a3f5f"
            },
            "baxis": {
             "endlinecolor": "#2a3f5f",
             "gridcolor": "white",
             "linecolor": "white",
             "minorgridcolor": "white",
             "startlinecolor": "#2a3f5f"
            },
            "type": "carpet"
           }
          ],
          "choropleth": [
           {
            "colorbar": {
             "outlinewidth": 0,
             "ticks": ""
            },
            "type": "choropleth"
           }
          ],
          "contour": [
           {
            "colorbar": {
             "outlinewidth": 0,
             "ticks": ""
            },
            "colorscale": [
             [
              0,
              "#0d0887"
             ],
             [
              0.1111111111111111,
              "#46039f"
             ],
             [
              0.2222222222222222,
              "#7201a8"
             ],
             [
              0.3333333333333333,
              "#9c179e"
             ],
             [
              0.4444444444444444,
              "#bd3786"
             ],
             [
              0.5555555555555556,
              "#d8576b"
             ],
             [
              0.6666666666666666,
              "#ed7953"
             ],
             [
              0.7777777777777778,
              "#fb9f3a"
             ],
             [
              0.8888888888888888,
              "#fdca26"
             ],
             [
              1,
              "#f0f921"
             ]
            ],
            "type": "contour"
           }
          ],
          "contourcarpet": [
           {
            "colorbar": {
             "outlinewidth": 0,
             "ticks": ""
            },
            "type": "contourcarpet"
           }
          ],
          "heatmap": [
           {
            "colorbar": {
             "outlinewidth": 0,
             "ticks": ""
            },
            "colorscale": [
             [
              0,
              "#0d0887"
             ],
             [
              0.1111111111111111,
              "#46039f"
             ],
             [
              0.2222222222222222,
              "#7201a8"
             ],
             [
              0.3333333333333333,
              "#9c179e"
             ],
             [
              0.4444444444444444,
              "#bd3786"
             ],
             [
              0.5555555555555556,
              "#d8576b"
             ],
             [
              0.6666666666666666,
              "#ed7953"
             ],
             [
              0.7777777777777778,
              "#fb9f3a"
             ],
             [
              0.8888888888888888,
              "#fdca26"
             ],
             [
              1,
              "#f0f921"
             ]
            ],
            "type": "heatmap"
           }
          ],
          "heatmapgl": [
           {
            "colorbar": {
             "outlinewidth": 0,
             "ticks": ""
            },
            "colorscale": [
             [
              0,
              "#0d0887"
             ],
             [
              0.1111111111111111,
              "#46039f"
             ],
             [
              0.2222222222222222,
              "#7201a8"
             ],
             [
              0.3333333333333333,
              "#9c179e"
             ],
             [
              0.4444444444444444,
              "#bd3786"
             ],
             [
              0.5555555555555556,
              "#d8576b"
             ],
             [
              0.6666666666666666,
              "#ed7953"
             ],
             [
              0.7777777777777778,
              "#fb9f3a"
             ],
             [
              0.8888888888888888,
              "#fdca26"
             ],
             [
              1,
              "#f0f921"
             ]
            ],
            "type": "heatmapgl"
           }
          ],
          "histogram": [
           {
            "marker": {
             "pattern": {
              "fillmode": "overlay",
              "size": 10,
              "solidity": 0.2
             }
            },
            "type": "histogram"
           }
          ],
          "histogram2d": [
           {
            "colorbar": {
             "outlinewidth": 0,
             "ticks": ""
            },
            "colorscale": [
             [
              0,
              "#0d0887"
             ],
             [
              0.1111111111111111,
              "#46039f"
             ],
             [
              0.2222222222222222,
              "#7201a8"
             ],
             [
              0.3333333333333333,
              "#9c179e"
             ],
             [
              0.4444444444444444,
              "#bd3786"
             ],
             [
              0.5555555555555556,
              "#d8576b"
             ],
             [
              0.6666666666666666,
              "#ed7953"
             ],
             [
              0.7777777777777778,
              "#fb9f3a"
             ],
             [
              0.8888888888888888,
              "#fdca26"
             ],
             [
              1,
              "#f0f921"
             ]
            ],
            "type": "histogram2d"
           }
          ],
          "histogram2dcontour": [
           {
            "colorbar": {
             "outlinewidth": 0,
             "ticks": ""
            },
            "colorscale": [
             [
              0,
              "#0d0887"
             ],
             [
              0.1111111111111111,
              "#46039f"
             ],
             [
              0.2222222222222222,
              "#7201a8"
             ],
             [
              0.3333333333333333,
              "#9c179e"
             ],
             [
              0.4444444444444444,
              "#bd3786"
             ],
             [
              0.5555555555555556,
              "#d8576b"
             ],
             [
              0.6666666666666666,
              "#ed7953"
             ],
             [
              0.7777777777777778,
              "#fb9f3a"
             ],
             [
              0.8888888888888888,
              "#fdca26"
             ],
             [
              1,
              "#f0f921"
             ]
            ],
            "type": "histogram2dcontour"
           }
          ],
          "mesh3d": [
           {
            "colorbar": {
             "outlinewidth": 0,
             "ticks": ""
            },
            "type": "mesh3d"
           }
          ],
          "parcoords": [
           {
            "line": {
             "colorbar": {
              "outlinewidth": 0,
              "ticks": ""
             }
            },
            "type": "parcoords"
           }
          ],
          "pie": [
           {
            "automargin": true,
            "type": "pie"
           }
          ],
          "scatter": [
           {
            "fillpattern": {
             "fillmode": "overlay",
             "size": 10,
             "solidity": 0.2
            },
            "type": "scatter"
           }
          ],
          "scatter3d": [
           {
            "line": {
             "colorbar": {
              "outlinewidth": 0,
              "ticks": ""
             }
            },
            "marker": {
             "colorbar": {
              "outlinewidth": 0,
              "ticks": ""
             }
            },
            "type": "scatter3d"
           }
          ],
          "scattercarpet": [
           {
            "marker": {
             "colorbar": {
              "outlinewidth": 0,
              "ticks": ""
             }
            },
            "type": "scattercarpet"
           }
          ],
          "scattergeo": [
           {
            "marker": {
             "colorbar": {
              "outlinewidth": 0,
              "ticks": ""
             }
            },
            "type": "scattergeo"
           }
          ],
          "scattergl": [
           {
            "marker": {
             "colorbar": {
              "outlinewidth": 0,
              "ticks": ""
             }
            },
            "type": "scattergl"
           }
          ],
          "scattermapbox": [
           {
            "marker": {
             "colorbar": {
              "outlinewidth": 0,
              "ticks": ""
             }
            },
            "type": "scattermapbox"
           }
          ],
          "scatterpolar": [
           {
            "marker": {
             "colorbar": {
              "outlinewidth": 0,
              "ticks": ""
             }
            },
            "type": "scatterpolar"
           }
          ],
          "scatterpolargl": [
           {
            "marker": {
             "colorbar": {
              "outlinewidth": 0,
              "ticks": ""
             }
            },
            "type": "scatterpolargl"
           }
          ],
          "scatterternary": [
           {
            "marker": {
             "colorbar": {
              "outlinewidth": 0,
              "ticks": ""
             }
            },
            "type": "scatterternary"
           }
          ],
          "surface": [
           {
            "colorbar": {
             "outlinewidth": 0,
             "ticks": ""
            },
            "colorscale": [
             [
              0,
              "#0d0887"
             ],
             [
              0.1111111111111111,
              "#46039f"
             ],
             [
              0.2222222222222222,
              "#7201a8"
             ],
             [
              0.3333333333333333,
              "#9c179e"
             ],
             [
              0.4444444444444444,
              "#bd3786"
             ],
             [
              0.5555555555555556,
              "#d8576b"
             ],
             [
              0.6666666666666666,
              "#ed7953"
             ],
             [
              0.7777777777777778,
              "#fb9f3a"
             ],
             [
              0.8888888888888888,
              "#fdca26"
             ],
             [
              1,
              "#f0f921"
             ]
            ],
            "type": "surface"
           }
          ],
          "table": [
           {
            "cells": {
             "fill": {
              "color": "#EBF0F8"
             },
             "line": {
              "color": "white"
             }
            },
            "header": {
             "fill": {
              "color": "#C8D4E3"
             },
             "line": {
              "color": "white"
             }
            },
            "type": "table"
           }
          ]
         },
         "layout": {
          "annotationdefaults": {
           "arrowcolor": "#2a3f5f",
           "arrowhead": 0,
           "arrowwidth": 1
          },
          "autotypenumbers": "strict",
          "coloraxis": {
           "colorbar": {
            "outlinewidth": 0,
            "ticks": ""
           }
          },
          "colorscale": {
           "diverging": [
            [
             0,
             "#8e0152"
            ],
            [
             0.1,
             "#c51b7d"
            ],
            [
             0.2,
             "#de77ae"
            ],
            [
             0.3,
             "#f1b6da"
            ],
            [
             0.4,
             "#fde0ef"
            ],
            [
             0.5,
             "#f7f7f7"
            ],
            [
             0.6,
             "#e6f5d0"
            ],
            [
             0.7,
             "#b8e186"
            ],
            [
             0.8,
             "#7fbc41"
            ],
            [
             0.9,
             "#4d9221"
            ],
            [
             1,
             "#276419"
            ]
           ],
           "sequential": [
            [
             0,
             "#0d0887"
            ],
            [
             0.1111111111111111,
             "#46039f"
            ],
            [
             0.2222222222222222,
             "#7201a8"
            ],
            [
             0.3333333333333333,
             "#9c179e"
            ],
            [
             0.4444444444444444,
             "#bd3786"
            ],
            [
             0.5555555555555556,
             "#d8576b"
            ],
            [
             0.6666666666666666,
             "#ed7953"
            ],
            [
             0.7777777777777778,
             "#fb9f3a"
            ],
            [
             0.8888888888888888,
             "#fdca26"
            ],
            [
             1,
             "#f0f921"
            ]
           ],
           "sequentialminus": [
            [
             0,
             "#0d0887"
            ],
            [
             0.1111111111111111,
             "#46039f"
            ],
            [
             0.2222222222222222,
             "#7201a8"
            ],
            [
             0.3333333333333333,
             "#9c179e"
            ],
            [
             0.4444444444444444,
             "#bd3786"
            ],
            [
             0.5555555555555556,
             "#d8576b"
            ],
            [
             0.6666666666666666,
             "#ed7953"
            ],
            [
             0.7777777777777778,
             "#fb9f3a"
            ],
            [
             0.8888888888888888,
             "#fdca26"
            ],
            [
             1,
             "#f0f921"
            ]
           ]
          },
          "colorway": [
           "#636efa",
           "#EF553B",
           "#00cc96",
           "#ab63fa",
           "#FFA15A",
           "#19d3f3",
           "#FF6692",
           "#B6E880",
           "#FF97FF",
           "#FECB52"
          ],
          "font": {
           "color": "#2a3f5f"
          },
          "geo": {
           "bgcolor": "white",
           "lakecolor": "white",
           "landcolor": "#E5ECF6",
           "showlakes": true,
           "showland": true,
           "subunitcolor": "white"
          },
          "hoverlabel": {
           "align": "left"
          },
          "hovermode": "closest",
          "mapbox": {
           "style": "light"
          },
          "paper_bgcolor": "white",
          "plot_bgcolor": "#E5ECF6",
          "polar": {
           "angularaxis": {
            "gridcolor": "white",
            "linecolor": "white",
            "ticks": ""
           },
           "bgcolor": "#E5ECF6",
           "radialaxis": {
            "gridcolor": "white",
            "linecolor": "white",
            "ticks": ""
           }
          },
          "scene": {
           "xaxis": {
            "backgroundcolor": "#E5ECF6",
            "gridcolor": "white",
            "gridwidth": 2,
            "linecolor": "white",
            "showbackground": true,
            "ticks": "",
            "zerolinecolor": "white"
           },
           "yaxis": {
            "backgroundcolor": "#E5ECF6",
            "gridcolor": "white",
            "gridwidth": 2,
            "linecolor": "white",
            "showbackground": true,
            "ticks": "",
            "zerolinecolor": "white"
           },
           "zaxis": {
            "backgroundcolor": "#E5ECF6",
            "gridcolor": "white",
            "gridwidth": 2,
            "linecolor": "white",
            "showbackground": true,
            "ticks": "",
            "zerolinecolor": "white"
           }
          },
          "shapedefaults": {
           "line": {
            "color": "#2a3f5f"
           }
          },
          "ternary": {
           "aaxis": {
            "gridcolor": "white",
            "linecolor": "white",
            "ticks": ""
           },
           "baxis": {
            "gridcolor": "white",
            "linecolor": "white",
            "ticks": ""
           },
           "bgcolor": "#E5ECF6",
           "caxis": {
            "gridcolor": "white",
            "linecolor": "white",
            "ticks": ""
           }
          },
          "title": {
           "x": 0.05
          },
          "xaxis": {
           "automargin": true,
           "gridcolor": "white",
           "linecolor": "white",
           "ticks": "",
           "title": {
            "standoff": 15
           },
           "zerolinecolor": "white",
           "zerolinewidth": 2
          },
          "yaxis": {
           "automargin": true,
           "gridcolor": "white",
           "linecolor": "white",
           "ticks": "",
           "title": {
            "standoff": 15
           },
           "zerolinecolor": "white",
           "zerolinewidth": 2
          }
         }
        },
        "width": 1000,
        "xaxis": {
         "autorange": true,
         "range": [
          500,
          2490
         ],
         "type": "linear"
        },
        "yaxis": {
         "autorange": true,
         "range": [
          -14.264118818110159,
          759.9597443673077
         ],
         "type": "linear"
        }
       }
      },
      "image/png": "[encoded data removed]",
      "text/html": [
       "<div>                            <div id=\"d5eba971-4598-4ab9-9506-b2fb585fb106\" class=\"plotly-graph-div\" style=\"height:500px; width:1000px;\"></div>            <script type=\"text/javascript\">                require([\"plotly\"], function(Plotly) {                    window.PLOTLYENV=window.PLOTLYENV || {};                                    if (document.getElementById(\"d5eba971-4598-4ab9-9506-b2fb585fb106\")) {                    Plotly.newPlot(                        \"d5eba971-4598-4ab9-9506-b2fb585fb106\",                        [{\"mode\":\"lines\",\"name\":\"pure_usdc\",\"x\":[500,510,520,530,540,550,560,570,580,590,600,610,620,630,640,650,660,670,680,690,700,710,720,730,740,750,760,770,780,790,800,810,820,830,840,850,860,870,880,890,900,910,920,930,940,950,960,970,980,990,1000,1010,1020,1030,1040,1050,1060,1070,1080,1090,1100,1110,1120,1130,1140,1150,1160,1170,1180,1190,1200,1210,1220,1230,1240,1250,1260,1270,1280,1290,1300,1310,1320,1330,1340,1350,1360,1370,1380,1390,1400,1410,1420,1430,1440,1450,1460,1470,1480,1490,1500,1510,1520,1530,1540,1550,1560,1570,1580,1590,1600,1610,1620,1630,1640,1650,1660,1670,1680,1690,1700,1710,1720,1730,1740,1750,1760,1770,1780,1790,1800,1810,1820,1830,1840,1850,1860,1870,1880,1890,1900,1910,1920,1930,1940,1950,1960,1970,1980,1990,2000,2010,2020,2030,2040,2050,2060,2070,2080,2090,2100,2110,2120,2130,2140,2150,2160,2170,2180,2190,2200,2210,2220,2230,2240,2250,2260,2270,2280,2290,2300,2310,2320,2330,2340,2350,2360,2370,2380,2390,2400,2410,2420,2430,2440,2450,2460,2470,2480,2490],\"y\":[705.5758909969511,705.5758909969511,705.5758909969511,705.5758909969511,705.5758909969511,705.5758909969511,705.5758909969511,705.5758909969511,705.5758909969511,705.5758909969511,705.5758909969511,705.5758909969511,705.5758909969511,705.5758909969511,705.5758909969511,705.5758909969511,705.5758909969511,705.5758909969511,705.5758909969511,705.5758909969511,705.5758909969511,705.5758909969511,705.5758909969511,705.5758909969511,705.5758909969511,705.5758909969511,705.5758909969511,705.5758909969511,705.5758909969511,705.5758909969511,705.5758909969511,705.5758909969511,705.5758909969511,705.5758909969511,705.5758909969511,705.5758909969511,705.5758909969511,705.5758909969511,705.5758909969511,705.5758909969511,705.5758909969511,705.5758909969511,705.5758909969511,705.5758909969511,705.5758909969511,705.5758909969511,705.5758909969511,705.5758909969511,705.5758909969511,705.5758909969511,705.5758909969511,705.5758909969511,705.5758909969511,705.5758909969511,705.5758909969511,705.5758909969511,705.5758909969511,705.5758909969511,705.5758909969511,705.5758909969511,705.5758909969511,705.5758909969511,705.5758909969511,705.5758909969511,705.5758909969511,705.5758909969511,705.5758909969511,705.5758909969511,705.5758909969511,705.5758909969511,705.5758909969511,705.5758909969511,705.5758909969511,705.5758909969511,705.5758909969511,705.5758909969511,705.5758909969511,705.5758909969511,705.5758909969511,705.5758909969511,705.5758909969511,705.5758909969511,705.5758909969511,705.5758909969511,705.5758909969511,705.5758909969511,705.5758909969511,705.5758909969511,705.5758909969511,705.5758909969511,705.5758909969511,705.5758909969511,705.5758909969511,705.5758909969511,705.5758909969511,705.5758909969511,705.5758909969511,705.5758909969511,705.5758909969511,705.5758909969511,705.5758909969511,705.5758909969511,705.5758909969511,705.5758909969511,705.5758909969511,705.5758909969511,705.5758909969511,705.5758909969511,705.5758909969511,705.5758909969511,705.5758909969511,705.5758909969511,705.5758909969511,705.5758909969511,705.5758909969511,705.5758909969511,705.5758909969511,705.5758909969511,705.5758909969511,705.5758909969511,705.5758909969511,705.5758909969511,705.5758909969511,705.5758909969511,705.5758909969511,705.5758909969511,705.5758909969511,705.5758909969511,705.5758909969511,705.5758909969511,705.5758909969511,705.5758909969511,705.5758909969511,705.5758909969511,705.5758909969511,705.5758909969511,705.5758909969511,705.5758909969511,705.5758909969511,705.5758909969511,705.5758909969511,705.5758909969511,705.5758909969511,705.5758909969511,705.5758909969511,705.5758909969511,705.5758909969511,705.5758909969511,705.5758909969511,705.5758909969511,705.5758909969511,705.5758909969511,705.5758909969511,705.5758909969511,705.5758909969511,705.5758909969511,705.5758909969511,705.5758909969511,705.5758909969511,705.5758909969511,705.5758909969511,705.5758909969511,705.5758909969511,705.5758909969511,705.5758909969511,705.5758909969511,705.5758909969511,705.5758909969511,705.5758909969511,705.5758909969511,705.5758909969511,705.5758909969511,705.5758909969511,705.5758909969511,705.5758909969511,705.5758909969511,705.5758909969511,705.5758909969511,705.5758909969511,705.5758909969511,705.5758909969511,705.5758909969511,705.5758909969511,705.5758909969511,705.5758909969511,705.5758909969511,705.5758909969511,705.5758909969511,705.5758909969511,705.5758909969511,705.5758909969511,705.5758909969511,705.5758909969511,705.5758909969511,705.5758909969511,705.5758909969511,705.5758909969511,705.5758909969511,705.5758909969511,705.5758909969511],\"type\":\"scatter\"},{\"mode\":\"lines\",\"name\":\"uniswap_tvs + option initial cost + fees = 0 usdc\",\"x\":[500,510,520,530,540,550,560,570,580,590,600,610,620,630,640,650,660,670,680,690,700,710,720,730,740,750,760,770,780,790,800,810,820,830,840,850,860,870,880,890,900,910,920,930,940,950,960,970,980,990,1000,1010,1020,1030,1040,1050,1060,1070,1080,1090,1100,1110,1120,1130,1140,1150,1160,1170,1180,1190,1200,1210,1220,1230,1240,1250,1260,1270,1280,1290,1300,1310,1320,1330,1340,1350,1360,1370,1380,1390,1400,1410,1420,1430,1440,1450,1460,1470,1480,1490,1500,1510,1520,1530,1540,1550,1560,1570,1580,1590,1600,1610,1620,1630,1640,1650,1660,1670,1680,1690,1700,1710,1720,1730,1740,1750,1760,1770,1780,1790,1800,1810,1820,1830,1840,1850,1860,1870,1880,1890,1900,1910,1920,1930,1940,1950,1960,1970,1980,1990,2000,2010,2020,2030,2040,2050,2060,2070,2080,2090,2100,2110,2120,2130,2140,2150,2160,2170,2180,2190,2200,2210,2220,2230,2240,2250,2260,2270,2280,2290,2300,2310,2320,2330,2340,2350,2360,2370,2380,2390,2400,2410,2420,2430,2440,2450,2460,2470,2480,2490],\"y\":[298.45478619363155,302.5094872984034,306.5641884031753,310.6188895079472,314.67359061271907,318.7282917174909,322.7829928222627,326.8376939270346,330.8923950318065,334.94709613657835,339.0017972413502,343.05649834612205,347.1111994508939,351.16590055566576,355.22060166043764,359.2753027652095,363.3300038699814,367.38470497475316,371.43940607952504,375.4941071842969,379.5488082890688,383.6035093938407,387.65821049861245,391.7129116033843,395.7676127081562,399.8223138129281,403.87701491769997,407.93171602247185,411.9864171272436,416.0411182320155,420.0958193367874,424.15052044155925,428.20522154633113,432.2599226511029,436.3146237558748,440.36932486064666,444.42402596541854,448.4787270701904,452.5334281749623,456.58812927973406,460.64283038450594,464.6975314892778,468.7522325940497,472.8069336988216,476.86163480359346,480.9163359083652,484.9710370131371,489.025738117909,493.08043922268087,497.13514032745275,501.1898414322245,505.2445425369964,509.29924364176827,513.3539447465402,517.408645851312,521.4633469560839,525.5180480608557,529.5727491656276,533.6274502703994,537.6821513751713,541.7368524799432,545.7915535847151,549.8462546894868,553.9009557942587,557.9556568990306,562.0103580038025,566.0650591085744,570.1197602133461,574.174461318118,578.2291624228899,582.2838635276618,586.3385646324336,590.3932657372055,594.4479668419773,598.5026679467492,602.557369051521,606.6120701562929,610.6667712610647,614.7214723658366,618.7761734706085,622.8308745753803,626.8855756801522,630.9402767849241,634.9949778896959,639.0496789944677,643.1043800992396,647.1590812040115,651.2137823087834,655.2684834135551,659.323184518327,663.3778856230989,667.3546014271,671.1764498794025,674.8450640530062,678.362048519897,681.7289800425976,684.9474082442929,688.0188562583365,690.9448213579062,693.7267755665463,696.3661662503024,698.8644166921197,701.2229266491514,703.4430728935956,705.5262097376493,707.4736695431477,709.2867632164318,710.9667806889621,712.5149913841786,713.932644671086,715.2209703050193,716.3811788560334,717.4144621253374,718.3219935501772,719.1049285975596,719.7644051471865,720.3015438639633,720.7174485604226,721.0132065493973,721.18988898726,721.2485512080368,721.2485512080368,721.2485512080368,721.2485512080368,721.2485512080368,721.2485512080368,721.2485512080368,721.2485512080368,721.2485512080368,721.2485512080368,721.2485512080368,721.2485512080368,721.2485512080368,721.2485512080368,721.2485512080368,721.2485512080368,721.2485512080368,721.2485512080368,721.2485512080368,721.2485512080368,721.2485512080368,721.2485512080368,721.2485512080368,721.2485512080368,721.2485512080368,721.2485512080368,721.2485512080368,721.2485512080368,721.2485512080368,721.2485512080368,721.2485512080368,721.2485512080368,721.2485512080368,721.2485512080368,721.2485512080368,721.2485512080368,721.2485512080368,721.2485512080368,721.2485512080368,721.2485512080368,721.2485512080368,721.2485512080368,721.2485512080368,721.2485512080368,721.2485512080368,721.2485512080368,721.2485512080368,721.2485512080368,721.2485512080368,721.2485512080368,721.2485512080368,721.2485512080368,721.2485512080368,721.2485512080368,721.2485512080368,721.2485512080368,721.2485512080368,721.2485512080368,721.2485512080368,721.2485512080368,721.2485512080368,721.2485512080368,721.2485512080368,721.2485512080368,721.2485512080368,721.2485512080368,721.2485512080368,721.2485512080368,721.2485512080368,721.2485512080368,721.2485512080368,721.2485512080368,721.2485512080368,721.2485512080368,721.2485512080368,721.2485512080368,721.2485512080368,721.2485512080368,721.2485512080368,721.2485512080368],\"type\":\"scatter\"},{\"mode\":\"lines\",\"name\":\"option_pnls\",\"x\":[500,510,520,530,540,550,560,570,580,590,600,610,620,630,640,650,660,670,680,690,700,710,720,730,740,750,760,770,780,790,800,810,820,830,840,850,860,870,880,890,900,910,920,930,940,950,960,970,980,990,1000,1010,1020,1030,1040,1050,1060,1070,1080,1090,1100,1110,1120,1130,1140,1150,1160,1170,1180,1190,1200,1210,1220,1230,1240,1250,1260,1270,1280,1290,1300,1310,1320,1330,1340,1350,1360,1370,1380,1390,1400,1410,1420,1430,1440,1450,1460,1470,1480,1490,1500,1510,1520,1530,1540,1550,1560,1570,1580,1590,1600,1610,1620,1630,1640,1650,1660,1670,1680,1690,1700,1710,1720,1730,1740,1750,1760,1770,1780,1790,1800,1810,1820,1830,1840,1850,1860,1870,1880,1890,1900,1910,1920,1930,1940,1950,1960,1970,1980,1990,2000,2010,2020,2030,2040,2050,2060,2070,2080,2090,2100,2110,2120,2130,2140,2150,2160,2170,2180,2190,2200,2210,2220,2230,2240,2250,2260,2270,2280,2290,2300,2310,2320,2330,2340,2350,2360,2370,2380,2390,2400,2410,2420,2430,2440,2450,2460,2470,2480,2490],\"y\":[493.0146390466714,489.44138271962004,485.85245374266015,482.24812025116,478.6286416683266,474.99426905335616,471.3452454299293,467.6818060962741,464.0041789180559,460.3125846052197,456.60723697379365,452.88834319361627,449.1561040228771,445.4107140302189,441.65236180527245,437.8812301581609,434.09749630877127,430.30133206626044,426.4929039994588,422.67237359858814,418.8398974288773,414.99562727641114,411.139710286737,407.27228909655406,403.39350195885845,399.5034828619327,395.6023616424197,391.6902640928956,387.76731206410875,383.8336235622606,379.88931284151624,375.93449049202513,371.96926352369076,367.99373544588275,364.00800634335167,360.0121729485336,356.0063287104713,351.9905638605397,347.9649654752029,343.9296175359953,339.8846009869441,335.8299937896514,331.7658709762517,327.69230470049365,323.60936428717696,319.5171162802293,315.41562448968835,311.3049500379333,307.185151405466,303.0562844766662,298.9184025859167,294.7715565645816,290.6157947893809,286.45116323275687,282.2777055159407,278.0954629655094,273.90447467432625,269.7047775679454,265.4964064776686,261.2793942216689,257.053771695813,252.8195679760847,248.5768104348299,244.32552487342934,240.06573567443658,235.79746597678647,231.52073787829943,227.23557267048056,222.9419911115438,218.64001374470368,214.32966127011355,210.0109549804729,205.68391727228564,201.3485722471858,197.00494642067304,192.65306955924075,188.2929756713099,183.9247041829222,179.54830133595,175.16382185511654,170.7713309407694,166.37090665774247,161.96264280753581,157.54665239248988,153.12307180792948,148.69206593322903,144.25383433775085,139.80861887582148,135.35671302058608,130.89847338549552,126.43433401210517,121.96482417438895,117.49059067727906,113.01242593018165,108.53130348129258,104.04842324129355,99.56526935278073,95.08368463578896,90.60596683573877,86.13499360344636,81.67438532456207,77.22871760813052,72.80379828984401,68.40702663297414,64.0478535143227,59.73835735192566,55.49393438491123,51.3340608448254,47.28299862510248,43.370163698638564,39.62966081667623,36.09830091028075,32.8115197670309,29.797374892243642,27.07022624562382,24.626845760496867,24.447074341160732,24.498709170573278,24.74412812218988,25.14600833392528,25.670872491637326,26.29056158977257,26.982330717031022,27.728255451601896,28.51440773954168,29.33004211253987,30.166891226638015,31.01859469501598,31.88025202876599,32.74807929293601,33.61914789709717,34.49118659261139,35.36243138080771,36.23151147758021,37.09736235013308,37.95915909543666,38.81626514453769,39.66819255917282,40.51457113789822,41.35512425139238,42.189649845435724,43.018005433986104,43.84009618976501,44.655865452192415,45.46528713157929,46.26835960820647,47.06510081548938,47.855544265307635,48.63973582624321,49.41773110594706,50.18959332011941,50.955391554867035,51.71519934814135,52.46909353080787,53.21715327958728,53.95945934336176,54.6960934116808,55.42713760016118,56.1526740321697,56.872784499942874,57.58755019134465,58.297051470920294,59.00136770590664,59.700577129486874,60.39475673490818,61.0839821951719,61.76832780390191,62.44786643373409,63.12266950918124,63.792806991430965,64.45834737295361,65.11935768014526,65.77590348251988,66.42804890720973,67.0758566577302,67.71938803614003,68.3587029678663,68.99386002858523,69.62491647264584,70.25192826261632,70.87495009959098,71.49403545397081,72.1092365964671,72.72060462913046,73.32818951623754,73.93204011490103,74.53220420529219,75.1287285203884,75.72165877517686,76.31103969525716,76.89691504480362,77.47932765385514,78.0583194449116,78.63393145882206,79.20620387995683,79.77517606066226,80.34088654499861,80.90337309176626,81.46267269683077,82.01882161475474],\"type\":\"scatter\"},{\"mode\":\"lines\",\"name\":\"uniswap_tvs + option_pnls + fees\",\"x\":[500,510,520,530,540,550,560,570,580,590,600,610,620,630,640,650,660,670,680,690,700,710,720,730,740,750,760,770,780,790,800,810,820,830,840,850,860,870,880,890,900,910,920,930,940,950,960,970,980,990,1000,1010,1020,1030,1040,1050,1060,1070,1080,1090,1100,1110,1120,1130,1140,1150,1160,1170,1180,1190,1200,1210,1220,1230,1240,1250,1260,1270,1280,1290,1300,1310,1320,1330,1340,1350,1360,1370,1380,1390,1400,1410,1420,1430,1440,1450,1460,1470,1480,1490,1500,1510,1520,1530,1540,1550,1560,1570,1580,1590,1600,1610,1620,1630,1640,1650,1660,1670,1680,1690,1700,1710,1720,1730,1740,1750,1760,1770,1780,1790,1800,1810,1820,1830,1840,1850,1860,1870,1880,1890,1900,1910,1920,1930,1940,1950,1960,1970,1980,1990,2000,2010,2020,2030,2040,2050,2060,2070,2080,2090,2100,2110,2120,2130,2140,2150,2160,2170,2180,2190,2200,2210,2220,2230,2240,2250,2260,2270,2280,2290,2300,2310,2320,2330,2340,2350,2360,2370,2380,2390,2400,2410,2420,2430,2440,2450,2460,2470,2480,2490],\"y\":[695.7496942852644,696.2311390629849,696.6969111907969,697.1472788040685,697.5825013260071,698.0028298158085,698.4085072971534,698.79976906827,699.1768429948238,699.5399497867594,699.8893032601052,700.2251105846997,700.5475725187324,700.856883630846,701.1532325106714,701.4368019683318,701.707769223714,701.966306085975,702.2125791239453,702.4467498278464,702.6689747629075,702.8794057152131,703.0781898303109,703.2654697448997,703.4413837119761,703.6060657198221,703.759645605081,703.9022491603288,704.0339982363138,704.1550108392375,704.265401223265,704.3652799785457,704.4547541149832,704.5339271419471,704.6028991441879,704.6617668541417,704.7106237208511,704.7495599756915,704.7786626951265,704.7980158606908,704.8077004164115,704.8077943238907,704.7983726152627,704.7795074442765,704.7512681357318,704.7137212335559,704.6669305477869,704.6109572008037,704.5458596731082,704.4716938490803,704.3885130631027,704.2963681465394,704.1953074761107,704.0853770242584,703.9666204122141,703.8390789665547,703.7027917801433,703.5577957785345,703.4041257930294,703.2418146418015,703.0708932207176,702.8913906057611,702.7033341692782,702.5067497126495,702.3016616184285,702.0880930255503,701.8660660318351,701.6356019287881,701.3967214746233,701.149445212555,700.8937938427366,700.629788657868,700.3574520544526,700.0768081341246,699.7878834123836,699.4907076557232,699.1853148725642,698.8717444889483,698.550042746748,698.2202643706864,697.8824745611112,697.5367513828561,697.1831886374214,696.8218993271471,696.4530198473586,696.0767150774301,695.6931845867238,695.3026702295663,694.9054654791026,694.501926948784,694.0924886801655,693.5996946464503,692.947309601643,692.1377590281493,691.1736210461511,690.0576723288526,688.7929466420351,687.3828099390869,685.8310572386064,684.142038214954,682.3208206198259,680.3734033452116,678.3069939839569,676.1303685715312,673.8543322969334,671.4922959400348,669.0609666463045,666.581110578749,664.0782590542425,661.5830774146859,659.1309001666569,656.7597488112756,654.5062509373297,652.3996374873823,650.4554238881449,648.6715199526448,649.0288872500854,649.4964267759573,650.0376037165486,650.6161663661467,651.1996927446355,651.8193818427708,652.5111509700292,653.2570757046001,654.0432279925399,654.8588623655381,655.6957114796362,656.5474149480142,657.4090722817642,658.2768995459343,659.1479681500954,660.0200068456096,660.891251633806,661.7603317305784,662.6261826031313,663.4879793484349,664.345085397536,665.197012812171,666.0433913908964,666.8839445043906,667.718470098434,668.5468256869843,669.3689164427633,670.1846857051906,670.9941073845775,671.7971798612047,672.5939210684876,673.3843645183059,674.1685560792414,674.9465513589453,675.7184135731177,676.4842118078652,677.2440196011396,677.9979137838061,678.7459735325855,679.48827959636,680.224913664679,680.9559578531594,681.6814942851679,682.4016047529411,683.1163704443429,683.8258717239186,684.5301879589049,685.2293973824851,685.9235769879064,686.6128024481701,687.2971480569001,687.9766866867324,688.6514897621795,689.3216272444292,689.9871676259519,690.6481779331435,691.3047237355181,691.9568691602079,692.6046769107285,693.2482082891382,693.8875232208645,694.5226802815835,695.1537367256441,695.7807485156145,696.4037703525892,697.022855706969,697.6380568494653,698.2494248821287,698.8570097692358,699.4608603678993,700.0610244582904,700.6575487733867,701.250479028175,701.8398599482554,702.4257352978018,703.0081479068533,703.5871396979098,704.1627517118203,704.735024132955,705.3039963136605,705.8697067979969,706.4321933447645,706.991492949829,707.547641867753],\"type\":\"scatter\"}],                        {\"template\":{\"data\":{\"histogram2dcontour\":[{\"type\":\"histogram2dcontour\",\"colorbar\":{\"outlinewidth\":0,\"ticks\":\"\"},\"colorscale\":[[0.0,\"#0d0887\"],[0.1111111111111111,\"#46039f\"],[0.2222222222222222,\"#7201a8\"],[0.3333333333333333,\"#9c179e\"],[0.4444444444444444,\"#bd3786\"],[0.5555555555555556,\"#d8576b\"],[0.6666666666666666,\"#ed7953\"],[0.7777777777777778,\"#fb9f3a\"],[0.8888888888888888,\"#fdca26\"],[1.0,\"#f0f921\"]]}],\"choropleth\":[{\"type\":\"choropleth\",\"colorbar\":{\"outlinewidth\":0,\"ticks\":\"\"}}],\"histogram2d\":[{\"type\":\"histogram2d\",\"colorbar\":{\"outlinewidth\":0,\"ticks\":\"\"},\"colorscale\":[[0.0,\"#0d0887\"],[0.1111111111111111,\"#46039f\"],[0.2222222222222222,\"#7201a8\"],[0.3333333333333333,\"#9c179e\"],[0.4444444444444444,\"#bd3786\"],[0.5555555555555556,\"#d8576b\"],[0.6666666666666666,\"#ed7953\"],[0.7777777777777778,\"#fb9f3a\"],[0.8888888888888888,\"#fdca26\"],[1.0,\"#f0f921\"]]}],\"heatmap\":[{\"type\":\"heatmap\",\"colorbar\":{\"outlinewidth\":0,\"ticks\":\"\"},\"colorscale\":[[0.0,\"#0d0887\"],[0.1111111111111111,\"#46039f\"],[0.2222222222222222,\"#7201a8\"],[0.3333333333333333,\"#9c179e\"],[0.4444444444444444,\"#bd3786\"],[0.5555555555555556,\"#d8576b\"],[0.6666666666666666,\"#ed7953\"],[0.7777777777777778,\"#fb9f3a\"],[0.8888888888888888,\"#fdca26\"],[1.0,\"#f0f921\"]]}],\"heatmapgl\":[{\"type\":\"heatmapgl\",\"colorbar\":{\"outlinewidth\":0,\"ticks\":\"\"},\"colorscale\":[[0.0,\"#0d0887\"],[0.1111111111111111,\"#46039f\"],[0.2222222222222222,\"#7201a8\"],[0.3333333333333333,\"#9c179e\"],[0.4444444444444444,\"#bd3786\"],[0.5555555555555556,\"#d8576b\"],[0.6666666666666666,\"#ed7953\"],[0.7777777777777778,\"#fb9f3a\"],[0.8888888888888888,\"#fdca26\"],[1.0,\"#f0f921\"]]}],\"contourcarpet\":[{\"type\":\"contourcarpet\",\"colorbar\":{\"outlinewidth\":0,\"ticks\":\"\"}}],\"contour\":[{\"type\":\"contour\",\"colorbar\":{\"outlinewidth\":0,\"ticks\":\"\"},\"colorscale\":[[0.0,\"#0d0887\"],[0.1111111111111111,\"#46039f\"],[0.2222222222222222,\"#7201a8\"],[0.3333333333333333,\"#9c179e\"],[0.4444444444444444,\"#bd3786\"],[0.5555555555555556,\"#d8576b\"],[0.6666666666666666,\"#ed7953\"],[0.7777777777777778,\"#fb9f3a\"],[0.8888888888888888,\"#fdca26\"],[1.0,\"#f0f921\"]]}],\"surface\":[{\"type\":\"surface\",\"colorbar\":{\"outlinewidth\":0,\"ticks\":\"\"},\"colorscale\":[[0.0,\"#0d0887\"],[0.1111111111111111,\"#46039f\"],[0.2222222222222222,\"#7201a8\"],[0.3333333333333333,\"#9c179e\"],[0.4444444444444444,\"#bd3786\"],[0.5555555555555556,\"#d8576b\"],[0.6666666666666666,\"#ed7953\"],[0.7777777777777778,\"#fb9f3a\"],[0.8888888888888888,\"#fdca26\"],[1.0,\"#f0f921\"]]}],\"mesh3d\":[{\"type\":\"mesh3d\",\"colorbar\":{\"outlinewidth\":0,\"ticks\":\"\"}}],\"scatter\":[{\"fillpattern\":{\"fillmode\":\"overlay\",\"size\":10,\"solidity\":0.2},\"type\":\"scatter\"}],\"parcoords\":[{\"type\":\"parcoords\",\"line\":{\"colorbar\":{\"outlinewidth\":0,\"ticks\":\"\"}}}],\"scatterpolargl\":[{\"type\":\"scatterpolargl\",\"marker\":{\"colorbar\":{\"outlinewidth\":0,\"ticks\":\"\"}}}],\"bar\":[{\"error_x\":{\"color\":\"#2a3f5f\"},\"error_y\":{\"color\":\"#2a3f5f\"},\"marker\":{\"line\":{\"color\":\"#E5ECF6\",\"width\":0.5},\"pattern\":{\"fillmode\":\"overlay\",\"size\":10,\"solidity\":0.2}},\"type\":\"bar\"}],\"scattergeo\":[{\"type\":\"scattergeo\",\"marker\":{\"colorbar\":{\"outlinewidth\":0,\"ticks\":\"\"}}}],\"scatterpolar\":[{\"type\":\"scatterpolar\",\"marker\":{\"colorbar\":{\"outlinewidth\":0,\"ticks\":\"\"}}}],\"histogram\":[{\"marker\":{\"pattern\":{\"fillmode\":\"overlay\",\"size\":10,\"solidity\":0.2}},\"type\":\"histogram\"}],\"scattergl\":[{\"type\":\"scattergl\",\"marker\":{\"colorbar\":{\"outlinewidth\":0,\"ticks\":\"\"}}}],\"scatter3d\":[{\"type\":\"scatter3d\",\"line\":{\"colorbar\":{\"outlinewidth\":0,\"ticks\":\"\"}},\"marker\":{\"colorbar\":{\"outlinewidth\":0,\"ticks\":\"\"}}}],\"scattermapbox\":[{\"type\":\"scattermapbox\",\"marker\":{\"colorbar\":{\"outlinewidth\":0,\"ticks\":\"\"}}}],\"scatterternary\":[{\"type\":\"scatterternary\",\"marker\":{\"colorbar\":{\"outlinewidth\":0,\"ticks\":\"\"}}}],\"scattercarpet\":[{\"type\":\"scattercarpet\",\"marker\":{\"colorbar\":{\"outlinewidth\":0,\"ticks\":\"\"}}}],\"carpet\":[{\"aaxis\":{\"endlinecolor\":\"#2a3f5f\",\"gridcolor\":\"white\",\"linecolor\":\"white\",\"minorgridcolor\":\"white\",\"startlinecolor\":\"#2a3f5f\"},\"baxis\":{\"endlinecolor\":\"#2a3f5f\",\"gridcolor\":\"white\",\"linecolor\":\"white\",\"minorgridcolor\":\"white\",\"startlinecolor\":\"#2a3f5f\"},\"type\":\"carpet\"}],\"table\":[{\"cells\":{\"fill\":{\"color\":\"#EBF0F8\"},\"line\":{\"color\":\"white\"}},\"header\":{\"fill\":{\"color\":\"#C8D4E3\"},\"line\":{\"color\":\"white\"}},\"type\":\"table\"}],\"barpolar\":[{\"marker\":{\"line\":{\"color\":\"#E5ECF6\",\"width\":0.5},\"pattern\":{\"fillmode\":\"overlay\",\"size\":10,\"solidity\":0.2}},\"type\":\"barpolar\"}],\"pie\":[{\"automargin\":true,\"type\":\"pie\"}]},\"layout\":{\"autotypenumbers\":\"strict\",\"colorway\":[\"#636efa\",\"#EF553B\",\"#00cc96\",\"#ab63fa\",\"#FFA15A\",\"#19d3f3\",\"#FF6692\",\"#B6E880\",\"#FF97FF\",\"#FECB52\"],\"font\":{\"color\":\"#2a3f5f\"},\"hovermode\":\"closest\",\"hoverlabel\":{\"align\":\"left\"},\"paper_bgcolor\":\"white\",\"plot_bgcolor\":\"#E5ECF6\",\"polar\":{\"bgcolor\":\"#E5ECF6\",\"angularaxis\":{\"gridcolor\":\"white\",\"linecolor\":\"white\",\"ticks\":\"\"},\"radialaxis\":{\"gridcolor\":\"white\",\"linecolor\":\"white\",\"ticks\":\"\"}},\"ternary\":{\"bgcolor\":\"#E5ECF6\",\"aaxis\":{\"gridcolor\":\"white\",\"linecolor\":\"white\",\"ticks\":\"\"},\"baxis\":{\"gridcolor\":\"white\",\"linecolor\":\"white\",\"ticks\":\"\"},\"caxis\":{\"gridcolor\":\"white\",\"linecolor\":\"white\",\"ticks\":\"\"}},\"coloraxis\":{\"colorbar\":{\"outlinewidth\":0,\"ticks\":\"\"}},\"colorscale\":{\"sequential\":[[0.0,\"#0d0887\"],[0.1111111111111111,\"#46039f\"],[0.2222222222222222,\"#7201a8\"],[0.3333333333333333,\"#9c179e\"],[0.4444444444444444,\"#bd3786\"],[0.5555555555555556,\"#d8576b\"],[0.6666666666666666,\"#ed7953\"],[0.7777777777777778,\"#fb9f3a\"],[0.8888888888888888,\"#fdca26\"],[1.0,\"#f0f921\"]],\"sequentialminus\":[[0.0,\"#0d0887\"],[0.1111111111111111,\"#46039f\"],[0.2222222222222222,\"#7201a8\"],[0.3333333333333333,\"#9c179e\"],[0.4444444444444444,\"#bd3786\"],[0.5555555555555556,\"#d8576b\"],[0.6666666666666666,\"#ed7953\"],[0.7777777777777778,\"#fb9f3a\"],[0.8888888888888888,\"#fdca26\"],[1.0,\"#f0f921\"]],\"diverging\":[[0,\"#8e0152\"],[0.1,\"#c51b7d\"],[0.2,\"#de77ae\"],[0.3,\"#f1b6da\"],[0.4,\"#fde0ef\"],[0.5,\"#f7f7f7\"],[0.6,\"#e6f5d0\"],[0.7,\"#b8e186\"],[0.8,\"#7fbc41\"],[0.9,\"#4d9221\"],[1,\"#276419\"]]},\"xaxis\":{\"gridcolor\":\"white\",\"linecolor\":\"white\",\"ticks\":\"\",\"title\":{\"standoff\":15},\"zerolinecolor\":\"white\",\"automargin\":true,\"zerolinewidth\":2},\"yaxis\":{\"gridcolor\":\"white\",\"linecolor\":\"white\",\"ticks\":\"\",\"title\":{\"standoff\":15},\"zerolinecolor\":\"white\",\"automargin\":true,\"zerolinewidth\":2},\"scene\":{\"xaxis\":{\"backgroundcolor\":\"#E5ECF6\",\"gridcolor\":\"white\",\"linecolor\":\"white\",\"showbackground\":true,\"ticks\":\"\",\"zerolinecolor\":\"white\",\"gridwidth\":2},\"yaxis\":{\"backgroundcolor\":\"#E5ECF6\",\"gridcolor\":\"white\",\"linecolor\":\"white\",\"showbackground\":true,\"ticks\":\"\",\"zerolinecolor\":\"white\",\"gridwidth\":2},\"zaxis\":{\"backgroundcolor\":\"#E5ECF6\",\"gridcolor\":\"white\",\"linecolor\":\"white\",\"showbackground\":true,\"ticks\":\"\",\"zerolinecolor\":\"white\",\"gridwidth\":2}},\"shapedefaults\":{\"line\":{\"color\":\"#2a3f5f\"}},\"annotationdefaults\":{\"arrowcolor\":\"#2a3f5f\",\"arrowhead\":0,\"arrowwidth\":1},\"geo\":{\"bgcolor\":\"white\",\"landcolor\":\"#E5ECF6\",\"subunitcolor\":\"white\",\"showland\":true,\"showlakes\":true,\"lakecolor\":\"white\"},\"title\":{\"x\":0.05},\"mapbox\":{\"style\":\"light\"}}},\"autosize\":false,\"width\":1000,\"height\":500},                        {\"responsive\": true}                    ).then(function(){\n",
       "                            \n",
       "var gd = document.getElementById('d5eba971-4598-4ab9-9506-b2fb585fb106');\n",
       "var x = new MutationObserver(function (mutations, observer) {{\n",
       "        var display = window.getComputedStyle(gd).display;\n",
       "        if (!display || display === 'none') {{\n",
       "            console.log([gd, 'removed!']);\n",
       "            Plotly.purge(gd);\n",
       "            observer.disconnect();\n",
       "        }}\n",
       "}});\n",
       "\n",
       "// Listen for the removal of the full notebook cells\n",
       "var notebookContainer = gd.closest('#notebook-container');\n",
       "if (notebookContainer) {{\n",
       "    x.observe(notebookContainer, {childList: true});\n",
       "}}\n",
       "\n",
       "// Listen for the clearing of the current output cell\n",
       "var outputEl = gd.closest('.output');\n",
       "if (outputEl) {{\n",
       "    x.observe(outputEl, {childList: true});\n",
       "}}\n",
       "\n",
       "                        })                };                });            </script>        </div>"
      ]
     },
     "metadata": {},
     "output_type": "display_data"
    }
   ],
   "source": [
    "fig = go.Figure()\n",
    "fig.update_layout(\n",
    "    autosize=False,\n",
    "    width=1000,\n",
    "    height=500)\n",
    "\n",
    "fig.add_trace(go.Scatter(x=prices, y=pure_usdc,\n",
    "                    mode='lines',\n",
    "                    name='pure_usdc'))\n",
    "\n",
    "fig.add_trace(go.Scatter(x=prices, y=uniswap_tvs + optimal_option.initial_cost + earned_fees,\n",
    "                    mode='lines',\n",
    "                    name=\"\"\"uniswap_tvs + option initial cost + fees = {} usdc\"\"\".format(earned_fees)))\n",
    "fig.add_trace(go.Scatter(x=prices, y=option_pnls,\n",
    "                    mode='lines',\n",
    "                    name='option_pnls'))\n",
    "fig.add_trace(go.Scatter(x=prices, y=uniswap_tvs + option_pnls + earned_fees,\n",
    "                    mode='lines',\n",
    "                    name='uniswap_tvs + option_pnls + fees'))"
   ]
  },
  {
   "cell_type": "code",
   "execution_count": 120,
   "id": "4f60aa08-74a0-48ef-abbe-a42d3818bfbe",
   "metadata": {},
   "outputs": [
    {
     "name": "stdout",
     "output_type": "stream",
     "text": [
      "\n",
      "        isCall: False\n",
      "        expiration: 0.2053388090349076\n",
      "        strike: 1650\n",
      "        amount: 1.2\n",
      "        initial cost: 541.8545477771437 \n",
      "        ---\n",
      "        uniswap_position: lower_price: 1500, upper_price: 2000,\n",
      "        initial_price: 1538.4462402743561, period_in_years: 0.08213552361396304\n",
      "        \n"
     ]
    }
   ],
   "source": [
    "print(optimal_option)"
   ]
  },
  {
   "cell_type": "code",
   "execution_count": null,
   "id": "5c21312e-7c6d-4ede-a532-4377d01d4f44",
   "metadata": {},
   "outputs": [],
   "source": []
  },
  {
   "cell_type": "code",
   "execution_count": 159,
   "id": "78b900c3-9efc-4bd0-b769-5e9a88f7c485",
   "metadata": {},
   "outputs": [],
   "source": [
    "def plot_smile():\n",
    "    #strikes\n",
    "    Kn = F * np.linspace(0.5, 2.6, 32)\n",
    "    c0, iv0 = sabr_0( Kn, F, T )\n",
    "    plt.figure(figsize=(15, 8))\n",
    "    ax1 = plt.subplot(2, 2, 1)\n",
    "    ax1.plot(Kn, c0)\n",
    "    ax1.grid()\n",
    "    ax1.set_title(\"Option price\", fontsize=15)\n",
    "    ax1.set_xlabel(\"strike\", fontsize=12)\n",
    "\n",
    "    ax2 = plt.subplot(2, 2, 2)\n",
    "    ax2.plot(Kn, iv0)\n",
    "    ax2.grid()\n",
    "    ax2.set_title(\"IV\", fontsize=15)\n",
    "    ax2.set_xlabel(\"strike\", fontsize=12)\n",
    "\n",
    "    plt.show()\n",
    "    None"
   ]
  },
  {
   "cell_type": "code",
   "execution_count": null,
   "id": "dc4f8306-20d8-4f03-8fd8-86d1a3443f86",
   "metadata": {},
   "outputs": [],
   "source": []
  },
  {
   "cell_type": "code",
   "execution_count": null,
   "id": "06c67966-9b07-405f-b8da-f326795dc1c1",
   "metadata": {},
   "outputs": [],
   "source": []
  },
  {
   "cell_type": "code",
   "execution_count": null,
   "id": "043e3567-6fe6-4ee0-9c3a-eb8d392f0efe",
   "metadata": {},
   "outputs": [],
   "source": []
  },
  {
   "cell_type": "code",
   "execution_count": null,
   "id": "2d6eaf92-68cf-455f-8a54-f0a1688a5d73",
   "metadata": {},
   "outputs": [],
   "source": []
  }
 ],
 "metadata": {
  "kernelspec": {
   "display_name": "Python 3 (ipykernel)",
   "language": "python",
   "name": "python3"
  },
  "language_info": {
   "codemirror_mode": {
    "name": "ipython",
    "version": 3
   },
   "file_extension": ".py",
   "mimetype": "text/x-python",
   "name": "python",
   "nbconvert_exporter": "python",
   "pygments_lexer": "ipython3",
   "version": "3.8.16"
  }
 },
 "nbformat": 4,
 "nbformat_minor": 5
}
