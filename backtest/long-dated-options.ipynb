{
 "cells": [
  {
   "cell_type": "code",
   "execution_count": 1,
   "id": "53d2bc01-f976-4f40-9af9-775003611c3a",
   "metadata": {},
   "outputs": [],
   "source": [
    "from sabr import SABR\n",
    "from sabr_calibration import SABRCalibrator"
   ]
  },
  {
   "cell_type": "code",
   "execution_count": 2,
   "id": "bcf905b1-1c83-4701-a054-58b21c5f3c3f",
   "metadata": {},
   "outputs": [],
   "source": [
    "import numpy as np\n",
    "from matplotlib import pyplot as plt\n",
    "import plotly.express as px\n",
    "import plotly.graph_objects as go\n"
   ]
  },
  {
   "cell_type": "code",
   "execution_count": 3,
   "id": "2cb2e1f5-1472-4831-a508-27da2e134426",
   "metadata": {},
   "outputs": [
    {
     "data": {
      "text/plain": [
       "<module 'uniswap_v3_liquidity_math' from '/Users/kirillbogomolov/Desktop/DeltaDex-Protocol/research-branch-main/backtest/uniswap_v3_liquidity_math.py'>"
      ]
     },
     "execution_count": 3,
     "metadata": {},
     "output_type": "execute_result"
    }
   ],
   "source": [
    "import uniswap_v3_liquidity_math as uniswap_math\n",
    "\n",
    "import importlib\n",
    "importlib.reload(uniswap_math)"
   ]
  },
  {
   "cell_type": "code",
   "execution_count": 30,
   "id": "9653f7c7-3bef-439e-90ad-b2cb2cad1b7b",
   "metadata": {},
   "outputs": [],
   "source": [
    "class UniswapPosition:\n",
    "    def __init__(self, lower_price, upper_price, initial_price, initial_token1_amount, period_in_years):\n",
    "        self.lower_price = lower_price\n",
    "        self.upper_price = upper_price\n",
    "        self.initial_price = initial_price\n",
    "        self.initial_token1_amount = initial_token1_amount\n",
    "        self.period_in_years = period_in_years\n",
    "    \n",
    "    def get_tokens_amounts(self, price):\n",
    "        return uniswap_math.get_tokens_amounts(initial_price = self.initial_price, \n",
    "                                lowerPrice = self.lower_price, upperPrice = self.upper_price, \n",
    "                                initial_y = self.initial_token1_amount, currentPrice = price)\n",
    "    \n",
    "    def get_total_value(self, price):\n",
    "        x, y = self.get_tokens_amounts(price)\n",
    "        return x * price + y"
   ]
  },
  {
   "cell_type": "code",
   "execution_count": 36,
   "id": "410b5e68-3144-4c8b-9d99-d35f1dfd4ba3",
   "metadata": {},
   "outputs": [],
   "source": [
    "uniswap_position = UniswapPosition(lower_price = 1500, \n",
    "                                   upper_price = 2000,\n",
    "                                   initial_price = 1650, \n",
    "                                   initial_token1_amount = 300,    # usdcs\n",
    "                                   period_in_years = 30 / 365.25)"
   ]
  },
  {
   "cell_type": "code",
   "execution_count": 37,
   "id": "c53f29cb-839b-40da-b321-4fa9a2b24ea2",
   "metadata": {},
   "outputs": [
    {
     "data": {
      "text/plain": [
       "891.1688614652894"
      ]
     },
     "execution_count": 37,
     "metadata": {},
     "output_type": "execute_result"
    }
   ],
   "source": [
    "uniswap_position.get_total_value(uniswap_position.initial_price)"
   ]
  },
  {
   "cell_type": "code",
   "execution_count": 38,
   "id": "b4754cf1-cfe6-4255-ac5e-fb460292da07",
   "metadata": {},
   "outputs": [
    {
     "data": {
      "text/plain": [
       "(0.35828415846381173, 300.0)"
      ]
     },
     "execution_count": 38,
     "metadata": {},
     "output_type": "execute_result"
    }
   ],
   "source": [
    "uniswap_position.get_tokens_amounts(uniswap_position.initial_price)"
   ]
  },
  {
   "cell_type": "markdown",
   "id": "ce7d8d00-f96b-4d9c-adcf-0031086b3817",
   "metadata": {},
   "source": [
    "## Setting up the SABR model"
   ]
  },
  {
   "cell_type": "markdown",
   "id": "cf727282-adf6-4524-94b7-aa02e2dd8303",
   "metadata": {},
   "source": [
    "### Optimal option"
   ]
  },
  {
   "cell_type": "code",
   "execution_count": 137,
   "id": "430e9493-7512-4899-b2ef-4f6d3a9a2a55",
   "metadata": {},
   "outputs": [],
   "source": [
    "class OptimalOption:\n",
    "    def __init__(self, sabr_model: SABR, \n",
    "                 uniswap_position: UniswapPosition):\n",
    "        \n",
    "        self.sabr_model = sabr_model\n",
    "        self.uniswap_position = uniswap_position\n",
    "        \n",
    "        self.isCall = False\n",
    "        self.expiration = (20 * uniswap_position.period_in_years)\n",
    "        self.strike = (uniswap_position.lower_price * uniswap_position.upper_price) ** 0.5\n",
    "        self.amount = 0.3\n",
    "        self.initial_cost = self.amount * self.sabr_model(self.strike, \n",
    "                                                self.uniswap_position.initial_price, \n",
    "                                                self.expiration, \n",
    "                                                self.isCall)[0]\n",
    "    \n",
    "    def find_optimal_option(self):\n",
    "        pass\n",
    "    \n",
    "    def calculate_hedged_position(self, prices):\n",
    "        def calculate_pnl(price):\n",
    "            if self.isCall == True:\n",
    "                return max(price - self.strike, 0)\n",
    "            if self.isCall == False:\n",
    "                return max(self.strike - price, 0)\n",
    "        \n",
    "        option_pnls = self.amount * np.array([calculate_pnl(price) + (self.sabr_model(self.strike, \n",
    "                                                    price, \n",
    "                                                    (self.expiration - self.uniswap_position.period_in_years), \n",
    "                                                    self.isCall)[0] - self.initial_cost) for price in prices])\n",
    "        return option_pnls\n",
    "    \n",
    "    def __repr__(self):\n",
    "        return (\"\"\"\n",
    "        isCall: {}\n",
    "        expiration: {}\n",
    "        strike: {}\n",
    "        amount: {}\n",
    "        initial cost: {} \n",
    "        ---\n",
    "        uniswap_position: lower_price: {}, upper_price: {},\n",
    "        initial_price: {}, period_in_years: {}\n",
    "        \"\"\".format(self.isCall, \n",
    "                    self.expiration,\n",
    "                    self.strike,\n",
    "                    self.amount,\n",
    "                    self.initial_cost,\n",
    "                    self.uniswap_position.lower_price,\n",
    "                    self.uniswap_position.upper_price,\n",
    "                    self.uniswap_position.initial_price,\n",
    "                    self.uniswap_position.period_in_years))\n",
    "    "
   ]
  },
  {
   "cell_type": "code",
   "execution_count": 138,
   "id": "369e261d-73f8-4d2e-b6a6-803962aa94eb",
   "metadata": {},
   "outputs": [],
   "source": [
    "#sabr model parameters\n",
    "alpha = 0.2\n",
    "v = 0.9\n",
    "beta = 0.9\n",
    "rho = -0.5\n",
    "\n",
    "sabr_params_0 = np.asarray([alpha, v, beta, rho])"
   ]
  },
  {
   "cell_type": "code",
   "execution_count": 139,
   "id": "c611f6af-4332-4e46-a3b0-7497c7ef6673",
   "metadata": {},
   "outputs": [],
   "source": [
    "r = 0.1\n",
    "#sabr model\n",
    "sabr_0 = SABR(sabr_params_0, r)"
   ]
  },
  {
   "cell_type": "code",
   "execution_count": null,
   "id": "5907e15f-f2a4-41c1-8e24-39d751fc3b33",
   "metadata": {},
   "outputs": [],
   "source": []
  },
  {
   "cell_type": "code",
   "execution_count": 140,
   "id": "56c1afd2-18b3-49b9-9c43-1af9269debb4",
   "metadata": {},
   "outputs": [],
   "source": [
    "optimal_option = OptimalOption(sabr_0, uniswap_position)"
   ]
  },
  {
   "cell_type": "code",
   "execution_count": 141,
   "id": "1a37d882-fcb5-4330-a628-89d4569f9541",
   "metadata": {},
   "outputs": [
    {
     "name": "stdout",
     "output_type": "stream",
     "text": [
      "\n",
      "        isCall: False\n",
      "        expiration: 1.6427104722792607\n",
      "        strike: 1732.0508075688772\n",
      "        amount: 0.3\n",
      "        initial cost: 32.29102896676576 \n",
      "        ---\n",
      "        uniswap_position: lower_price: 1500, upper_price: 2000,\n",
      "        initial_price: 1650, period_in_years: 0.08213552361396304\n",
      "        \n"
     ]
    }
   ],
   "source": [
    "print(optimal_option)"
   ]
  },
  {
   "cell_type": "code",
   "execution_count": 142,
   "id": "e90b6dd0-7962-4523-8523-abf7de6bfe1e",
   "metadata": {},
   "outputs": [],
   "source": [
    "prices = np.array([price for price in range(500, 4000, 50 )])\n",
    "\n",
    "pure_usdc = np.array([optimal_option.initial_cost + \n",
    "                      uniswap_position.get_total_value(uniswap_position.initial_price) for _ in prices])"
   ]
  },
  {
   "cell_type": "code",
   "execution_count": 143,
   "id": "b24d0824-e4a0-4c01-9a57-0bd9c75c6b99",
   "metadata": {},
   "outputs": [],
   "source": [
    "uniswap_tvs = np.array([uniswap_position.get_total_value(price) for price in prices])\n",
    "option_pnls = optimal_option.calculate_hedged_position(prices)\n"
   ]
  },
  {
   "cell_type": "code",
   "execution_count": 144,
   "id": "7cab6a00-ce8b-42d4-82fc-eec733747a08",
   "metadata": {},
   "outputs": [],
   "source": [
    "# pure_usdc"
   ]
  },
  {
   "cell_type": "code",
   "execution_count": 145,
   "id": "411e6925-8420-44fc-b10f-7d38d82ae170",
   "metadata": {},
   "outputs": [],
   "source": [
    "# uniswap_tvs"
   ]
  },
  {
   "cell_type": "code",
   "execution_count": 146,
   "id": "bc88d283-a1dd-4463-8f25-28f86e055032",
   "metadata": {
    "tags": []
   },
   "outputs": [
    {
     "data": {
      "application/vnd.plotly.v1+json": {
       "config": {
        "plotlyServerURL": "https://plot.ly"
       },
       "data": [
        {
         "mode": "lines",
         "name": "pure_usdc",
         "type": "scatter",
         "x": [
          500,
          550,
          600,
          650,
          700,
          750,
          800,
          850,
          900,
          950,
          1000,
          1050,
          1100,
          1150,
          1200,
          1250,
          1300,
          1350,
          1400,
          1450,
          1500,
          1550,
          1600,
          1650,
          1700,
          1750,
          1800,
          1850,
          1900,
          1950,
          2000,
          2050,
          2100,
          2150,
          2200,
          2250,
          2300,
          2350,
          2400,
          2450,
          2500,
          2550,
          2600,
          2650,
          2700,
          2750,
          2800,
          2850,
          2900,
          2950,
          3000,
          3050,
          3100,
          3150,
          3200,
          3250,
          3300,
          3350,
          3400,
          3450,
          3500,
          3550,
          3600,
          3650,
          3700,
          3750,
          3800,
          3850,
          3900,
          3950
         ],
         "y": [
          923.4598904320552,
          923.4598904320552,
          923.4598904320552,
          923.4598904320552,
          923.4598904320552,
          923.4598904320552,
          923.4598904320552,
          923.4598904320552,
          923.4598904320552,
          923.4598904320552,
          923.4598904320552,
          923.4598904320552,
          923.4598904320552,
          923.4598904320552,
          923.4598904320552,
          923.4598904320552,
          923.4598904320552,
          923.4598904320552,
          923.4598904320552,
          923.4598904320552,
          923.4598904320552,
          923.4598904320552,
          923.4598904320552,
          923.4598904320552,
          923.4598904320552,
          923.4598904320552,
          923.4598904320552,
          923.4598904320552,
          923.4598904320552,
          923.4598904320552,
          923.4598904320552,
          923.4598904320552,
          923.4598904320552,
          923.4598904320552,
          923.4598904320552,
          923.4598904320552,
          923.4598904320552,
          923.4598904320552,
          923.4598904320552,
          923.4598904320552,
          923.4598904320552,
          923.4598904320552,
          923.4598904320552,
          923.4598904320552,
          923.4598904320552,
          923.4598904320552,
          923.4598904320552,
          923.4598904320552,
          923.4598904320552,
          923.4598904320552,
          923.4598904320552,
          923.4598904320552,
          923.4598904320552,
          923.4598904320552,
          923.4598904320552,
          923.4598904320552,
          923.4598904320552,
          923.4598904320552,
          923.4598904320552,
          923.4598904320552,
          923.4598904320552,
          923.4598904320552,
          923.4598904320552,
          923.4598904320552,
          923.4598904320552,
          923.4598904320552,
          923.4598904320552,
          923.4598904320552,
          923.4598904320552,
          923.4598904320552
         ]
        },
        {
         "mode": "lines",
         "name": "uniswap_tvs",
         "type": "scatter",
         "x": [
          500,
          550,
          600,
          650,
          700,
          750,
          800,
          850,
          900,
          950,
          1000,
          1050,
          1100,
          1150,
          1200,
          1250,
          1300,
          1350,
          1400,
          1450,
          1500,
          1550,
          1600,
          1650,
          1700,
          1750,
          1800,
          1850,
          1900,
          1950,
          2000,
          2050,
          2100,
          2150,
          2200,
          2250,
          2300,
          2350,
          2400,
          2450,
          2500,
          2550,
          2600,
          2650,
          2700,
          2750,
          2800,
          2850,
          2900,
          2950,
          3000,
          3050,
          3100,
          3150,
          3200,
          3250,
          3300,
          3350,
          3400,
          3450,
          3500,
          3550,
          3600,
          3650,
          3700,
          3750,
          3800,
          3850,
          3900,
          3950
         ],
         "y": [
          274.4883381564651,
          301.9371719721116,
          329.38600578775817,
          356.83483960340465,
          384.2836734190512,
          411.73250723469766,
          439.1813410503442,
          466.6301748659907,
          494.0790086816372,
          521.5278424972837,
          548.9766763129302,
          576.4255101285768,
          603.8743439442233,
          631.3231777598697,
          658.7720115755163,
          686.2208453911628,
          713.6696792068093,
          741.1185130224558,
          768.5673468381024,
          796.0161806537488,
          823.4650144693953,
          849.2343839256702,
          871.7519010863841,
          891.1688614652894,
          907.6251802892268,
          921.2505560360744,
          932.165485347902,
          940.4821518844376,
          946.3052077414992,
          949.732462891835,
          950.8554955442889,
          950.8554955442889,
          950.8554955442889,
          950.8554955442889,
          950.8554955442889,
          950.8554955442889,
          950.8554955442889,
          950.8554955442889,
          950.8554955442889,
          950.8554955442889,
          950.8554955442889,
          950.8554955442889,
          950.8554955442889,
          950.8554955442889,
          950.8554955442889,
          950.8554955442889,
          950.8554955442889,
          950.8554955442889,
          950.8554955442889,
          950.8554955442889,
          950.8554955442889,
          950.8554955442889,
          950.8554955442889,
          950.8554955442889,
          950.8554955442889,
          950.8554955442889,
          950.8554955442889,
          950.8554955442889,
          950.8554955442889,
          950.8554955442889,
          950.8554955442889,
          950.8554955442889,
          950.8554955442889,
          950.8554955442889,
          950.8554955442889,
          950.8554955442889,
          950.8554955442889,
          950.8554955442889,
          950.8554955442889,
          950.8554955442889
         ]
        },
        {
         "mode": "lines",
         "name": "option_pnls",
         "type": "scatter",
         "x": [
          500,
          550,
          600,
          650,
          700,
          750,
          800,
          850,
          900,
          950,
          1000,
          1050,
          1100,
          1150,
          1200,
          1250,
          1300,
          1350,
          1400,
          1450,
          1500,
          1550,
          1600,
          1650,
          1700,
          1750,
          1800,
          1850,
          1900,
          1950,
          2000,
          2050,
          2100,
          2150,
          2200,
          2250,
          2300,
          2350,
          2400,
          2450,
          2500,
          2550,
          2600,
          2650,
          2700,
          2750,
          2800,
          2850,
          2900,
          2950,
          3000,
          3050,
          3100,
          3150,
          3200,
          3250,
          3300,
          3350,
          3400,
          3450,
          3500,
          3550,
          3600,
          3650,
          3700,
          3750,
          3800,
          3850,
          3900,
          3950
         ],
         "y": [
          676.1560723704939,
          648.3283804209967,
          620.5017639699948,
          592.676460793134,
          564.8527712018771,
          537.0310778883053,
          509.21187339395505,
          481.3957987015239,
          453.5836983537876,
          425.77670062776383,
          397.9763365419972,
          370.1847205411129,
          342.4048318302244,
          314.6409649634222,
          286.8994746526048,
          259.1900509587501,
          231.5279886011769,
          203.9383952776674,
          176.4643192797866,
          149.18294511312493,
          122.23780547906352,
          95.89651482975881,
          70.61469319093125,
          46.96872575148193,
          25.299615789209103,
          10.823498323754313,
          7.318130118264806,
          4.744184612502818,
          2.8016963883899613,
          1.2951556651569682,
          0.09799857831603943,
          -0.8733324252186044,
          -1.6755251430861455,
          -2.348121484125972,
          -2.9194266943371425,
          -3.4101805352075707,
          -3.8358980318415608,
          -4.208401310671059,
          -4.53684707579364,
          -4.828431637029315,
          -5.088884828332664,
          -5.322822620126488,
          -5.534003202824147,
          -5.7255158870435485,
          -5.899922438348097,
          -6.059364204041538,
          -6.205644282115828,
          -6.34029123878878,
          -6.464609017592216,
          -6.5797163976530335,
          -6.686578459457133,
          -6.7860318786775915,
          -6.878805410817336,
          -6.96553659690676,
          -7.0467854763853675,
          -7.123045912260932,
          -7.1947549981019625,
          -7.262300914050115,
          -7.326029521050941,
          -7.386249922645198,
          -7.44323917735203,
          -7.4972463086168775,
          -7.548495731011667,
          -7.597190189066623,
          -7.643513287396104,
          -7.687631676643628,
          -7.729696948420088,
          -7.769847283252557,
          -7.808208888135937,
          -7.84489725423357
         ]
        },
        {
         "mode": "lines",
         "name": "uniswap_tvs + option_pnls",
         "type": "scatter",
         "x": [
          500,
          550,
          600,
          650,
          700,
          750,
          800,
          850,
          900,
          950,
          1000,
          1050,
          1100,
          1150,
          1200,
          1250,
          1300,
          1350,
          1400,
          1450,
          1500,
          1550,
          1600,
          1650,
          1700,
          1750,
          1800,
          1850,
          1900,
          1950,
          2000,
          2050,
          2100,
          2150,
          2200,
          2250,
          2300,
          2350,
          2400,
          2450,
          2500,
          2550,
          2600,
          2650,
          2700,
          2750,
          2800,
          2850,
          2900,
          2950,
          3000,
          3050,
          3100,
          3150,
          3200,
          3250,
          3300,
          3350,
          3400,
          3450,
          3500,
          3550,
          3600,
          3650,
          3700,
          3750,
          3800,
          3850,
          3900,
          3950
         ],
         "y": [
          950.6444105269591,
          950.2655523931084,
          949.887769757753,
          949.5113003965387,
          949.1364446209283,
          948.7635851230029,
          948.3932144442992,
          948.0259735675146,
          947.6627070354248,
          947.3045431250475,
          946.9530128549275,
          946.6102306696896,
          946.2791757744476,
          945.964142723292,
          945.6714862281211,
          945.410896349913,
          945.1976678079861,
          945.0569083001232,
          945.031666117889,
          945.1991257668737,
          945.7028199484589,
          945.1308987554289,
          942.3665942773154,
          938.1375872167713,
          932.924796078436,
          932.0740543598287,
          939.4836154661667,
          945.2263364969405,
          949.1069041298891,
          951.0276185569919,
          950.953494122605,
          949.9821631190704,
          949.1799704012028,
          948.507374060163,
          947.9360688499518,
          947.4453150090814,
          947.0195975124474,
          946.6470942336178,
          946.3186484684953,
          946.0270639072596,
          945.7666107159563,
          945.5326729241624,
          945.3214923414648,
          945.1299796572454,
          944.9555731059409,
          944.7961313402474,
          944.6498512621731,
          944.5152043055001,
          944.3908865266967,
          944.275779146636,
          944.1689170848318,
          944.0694636656114,
          943.9766901334716,
          943.8899589473822,
          943.8087100679036,
          943.732449632028,
          943.660740546187,
          943.5931946302388,
          943.529466023238,
          943.4692456216437,
          943.412256366937,
          943.358249235672,
          943.3069998132772,
          943.2583053552223,
          943.2119822568928,
          943.1678638676453,
          943.1257985958689,
          943.0856482610363,
          943.047286656153,
          943.0105982900553
         ]
        }
       ],
       "layout": {
        "autosize": false,
        "height": 500,
        "template": {
         "data": {
          "bar": [
           {
            "error_x": {
             "color": "#2a3f5f"
            },
            "error_y": {
             "color": "#2a3f5f"
            },
            "marker": {
             "line": {
              "color": "#E5ECF6",
              "width": 0.5
             },
             "pattern": {
              "fillmode": "overlay",
              "size": 10,
              "solidity": 0.2
             }
            },
            "type": "bar"
           }
          ],
          "barpolar": [
           {
            "marker": {
             "line": {
              "color": "#E5ECF6",
              "width": 0.5
             },
             "pattern": {
              "fillmode": "overlay",
              "size": 10,
              "solidity": 0.2
             }
            },
            "type": "barpolar"
           }
          ],
          "carpet": [
           {
            "aaxis": {
             "endlinecolor": "#2a3f5f",
             "gridcolor": "white",
             "linecolor": "white",
             "minorgridcolor": "white",
             "startlinecolor": "#2a3f5f"
            },
            "baxis": {
             "endlinecolor": "#2a3f5f",
             "gridcolor": "white",
             "linecolor": "white",
             "minorgridcolor": "white",
             "startlinecolor": "#2a3f5f"
            },
            "type": "carpet"
           }
          ],
          "choropleth": [
           {
            "colorbar": {
             "outlinewidth": 0,
             "ticks": ""
            },
            "type": "choropleth"
           }
          ],
          "contour": [
           {
            "colorbar": {
             "outlinewidth": 0,
             "ticks": ""
            },
            "colorscale": [
             [
              0,
              "#0d0887"
             ],
             [
              0.1111111111111111,
              "#46039f"
             ],
             [
              0.2222222222222222,
              "#7201a8"
             ],
             [
              0.3333333333333333,
              "#9c179e"
             ],
             [
              0.4444444444444444,
              "#bd3786"
             ],
             [
              0.5555555555555556,
              "#d8576b"
             ],
             [
              0.6666666666666666,
              "#ed7953"
             ],
             [
              0.7777777777777778,
              "#fb9f3a"
             ],
             [
              0.8888888888888888,
              "#fdca26"
             ],
             [
              1,
              "#f0f921"
             ]
            ],
            "type": "contour"
           }
          ],
          "contourcarpet": [
           {
            "colorbar": {
             "outlinewidth": 0,
             "ticks": ""
            },
            "type": "contourcarpet"
           }
          ],
          "heatmap": [
           {
            "colorbar": {
             "outlinewidth": 0,
             "ticks": ""
            },
            "colorscale": [
             [
              0,
              "#0d0887"
             ],
             [
              0.1111111111111111,
              "#46039f"
             ],
             [
              0.2222222222222222,
              "#7201a8"
             ],
             [
              0.3333333333333333,
              "#9c179e"
             ],
             [
              0.4444444444444444,
              "#bd3786"
             ],
             [
              0.5555555555555556,
              "#d8576b"
             ],
             [
              0.6666666666666666,
              "#ed7953"
             ],
             [
              0.7777777777777778,
              "#fb9f3a"
             ],
             [
              0.8888888888888888,
              "#fdca26"
             ],
             [
              1,
              "#f0f921"
             ]
            ],
            "type": "heatmap"
           }
          ],
          "heatmapgl": [
           {
            "colorbar": {
             "outlinewidth": 0,
             "ticks": ""
            },
            "colorscale": [
             [
              0,
              "#0d0887"
             ],
             [
              0.1111111111111111,
              "#46039f"
             ],
             [
              0.2222222222222222,
              "#7201a8"
             ],
             [
              0.3333333333333333,
              "#9c179e"
             ],
             [
              0.4444444444444444,
              "#bd3786"
             ],
             [
              0.5555555555555556,
              "#d8576b"
             ],
             [
              0.6666666666666666,
              "#ed7953"
             ],
             [
              0.7777777777777778,
              "#fb9f3a"
             ],
             [
              0.8888888888888888,
              "#fdca26"
             ],
             [
              1,
              "#f0f921"
             ]
            ],
            "type": "heatmapgl"
           }
          ],
          "histogram": [
           {
            "marker": {
             "pattern": {
              "fillmode": "overlay",
              "size": 10,
              "solidity": 0.2
             }
            },
            "type": "histogram"
           }
          ],
          "histogram2d": [
           {
            "colorbar": {
             "outlinewidth": 0,
             "ticks": ""
            },
            "colorscale": [
             [
              0,
              "#0d0887"
             ],
             [
              0.1111111111111111,
              "#46039f"
             ],
             [
              0.2222222222222222,
              "#7201a8"
             ],
             [
              0.3333333333333333,
              "#9c179e"
             ],
             [
              0.4444444444444444,
              "#bd3786"
             ],
             [
              0.5555555555555556,
              "#d8576b"
             ],
             [
              0.6666666666666666,
              "#ed7953"
             ],
             [
              0.7777777777777778,
              "#fb9f3a"
             ],
             [
              0.8888888888888888,
              "#fdca26"
             ],
             [
              1,
              "#f0f921"
             ]
            ],
            "type": "histogram2d"
           }
          ],
          "histogram2dcontour": [
           {
            "colorbar": {
             "outlinewidth": 0,
             "ticks": ""
            },
            "colorscale": [
             [
              0,
              "#0d0887"
             ],
             [
              0.1111111111111111,
              "#46039f"
             ],
             [
              0.2222222222222222,
              "#7201a8"
             ],
             [
              0.3333333333333333,
              "#9c179e"
             ],
             [
              0.4444444444444444,
              "#bd3786"
             ],
             [
              0.5555555555555556,
              "#d8576b"
             ],
             [
              0.6666666666666666,
              "#ed7953"
             ],
             [
              0.7777777777777778,
              "#fb9f3a"
             ],
             [
              0.8888888888888888,
              "#fdca26"
             ],
             [
              1,
              "#f0f921"
             ]
            ],
            "type": "histogram2dcontour"
           }
          ],
          "mesh3d": [
           {
            "colorbar": {
             "outlinewidth": 0,
             "ticks": ""
            },
            "type": "mesh3d"
           }
          ],
          "parcoords": [
           {
            "line": {
             "colorbar": {
              "outlinewidth": 0,
              "ticks": ""
             }
            },
            "type": "parcoords"
           }
          ],
          "pie": [
           {
            "automargin": true,
            "type": "pie"
           }
          ],
          "scatter": [
           {
            "fillpattern": {
             "fillmode": "overlay",
             "size": 10,
             "solidity": 0.2
            },
            "type": "scatter"
           }
          ],
          "scatter3d": [
           {
            "line": {
             "colorbar": {
              "outlinewidth": 0,
              "ticks": ""
             }
            },
            "marker": {
             "colorbar": {
              "outlinewidth": 0,
              "ticks": ""
             }
            },
            "type": "scatter3d"
           }
          ],
          "scattercarpet": [
           {
            "marker": {
             "colorbar": {
              "outlinewidth": 0,
              "ticks": ""
             }
            },
            "type": "scattercarpet"
           }
          ],
          "scattergeo": [
           {
            "marker": {
             "colorbar": {
              "outlinewidth": 0,
              "ticks": ""
             }
            },
            "type": "scattergeo"
           }
          ],
          "scattergl": [
           {
            "marker": {
             "colorbar": {
              "outlinewidth": 0,
              "ticks": ""
             }
            },
            "type": "scattergl"
           }
          ],
          "scattermapbox": [
           {
            "marker": {
             "colorbar": {
              "outlinewidth": 0,
              "ticks": ""
             }
            },
            "type": "scattermapbox"
           }
          ],
          "scatterpolar": [
           {
            "marker": {
             "colorbar": {
              "outlinewidth": 0,
              "ticks": ""
             }
            },
            "type": "scatterpolar"
           }
          ],
          "scatterpolargl": [
           {
            "marker": {
             "colorbar": {
              "outlinewidth": 0,
              "ticks": ""
             }
            },
            "type": "scatterpolargl"
           }
          ],
          "scatterternary": [
           {
            "marker": {
             "colorbar": {
              "outlinewidth": 0,
              "ticks": ""
             }
            },
            "type": "scatterternary"
           }
          ],
          "surface": [
           {
            "colorbar": {
             "outlinewidth": 0,
             "ticks": ""
            },
            "colorscale": [
             [
              0,
              "#0d0887"
             ],
             [
              0.1111111111111111,
              "#46039f"
             ],
             [
              0.2222222222222222,
              "#7201a8"
             ],
             [
              0.3333333333333333,
              "#9c179e"
             ],
             [
              0.4444444444444444,
              "#bd3786"
             ],
             [
              0.5555555555555556,
              "#d8576b"
             ],
             [
              0.6666666666666666,
              "#ed7953"
             ],
             [
              0.7777777777777778,
              "#fb9f3a"
             ],
             [
              0.8888888888888888,
              "#fdca26"
             ],
             [
              1,
              "#f0f921"
             ]
            ],
            "type": "surface"
           }
          ],
          "table": [
           {
            "cells": {
             "fill": {
              "color": "#EBF0F8"
             },
             "line": {
              "color": "white"
             }
            },
            "header": {
             "fill": {
              "color": "#C8D4E3"
             },
             "line": {
              "color": "white"
             }
            },
            "type": "table"
           }
          ]
         },
         "layout": {
          "annotationdefaults": {
           "arrowcolor": "#2a3f5f",
           "arrowhead": 0,
           "arrowwidth": 1
          },
          "autotypenumbers": "strict",
          "coloraxis": {
           "colorbar": {
            "outlinewidth": 0,
            "ticks": ""
           }
          },
          "colorscale": {
           "diverging": [
            [
             0,
             "#8e0152"
            ],
            [
             0.1,
             "#c51b7d"
            ],
            [
             0.2,
             "#de77ae"
            ],
            [
             0.3,
             "#f1b6da"
            ],
            [
             0.4,
             "#fde0ef"
            ],
            [
             0.5,
             "#f7f7f7"
            ],
            [
             0.6,
             "#e6f5d0"
            ],
            [
             0.7,
             "#b8e186"
            ],
            [
             0.8,
             "#7fbc41"
            ],
            [
             0.9,
             "#4d9221"
            ],
            [
             1,
             "#276419"
            ]
           ],
           "sequential": [
            [
             0,
             "#0d0887"
            ],
            [
             0.1111111111111111,
             "#46039f"
            ],
            [
             0.2222222222222222,
             "#7201a8"
            ],
            [
             0.3333333333333333,
             "#9c179e"
            ],
            [
             0.4444444444444444,
             "#bd3786"
            ],
            [
             0.5555555555555556,
             "#d8576b"
            ],
            [
             0.6666666666666666,
             "#ed7953"
            ],
            [
             0.7777777777777778,
             "#fb9f3a"
            ],
            [
             0.8888888888888888,
             "#fdca26"
            ],
            [
             1,
             "#f0f921"
            ]
           ],
           "sequentialminus": [
            [
             0,
             "#0d0887"
            ],
            [
             0.1111111111111111,
             "#46039f"
            ],
            [
             0.2222222222222222,
             "#7201a8"
            ],
            [
             0.3333333333333333,
             "#9c179e"
            ],
            [
             0.4444444444444444,
             "#bd3786"
            ],
            [
             0.5555555555555556,
             "#d8576b"
            ],
            [
             0.6666666666666666,
             "#ed7953"
            ],
            [
             0.7777777777777778,
             "#fb9f3a"
            ],
            [
             0.8888888888888888,
             "#fdca26"
            ],
            [
             1,
             "#f0f921"
            ]
           ]
          },
          "colorway": [
           "#636efa",
           "#EF553B",
           "#00cc96",
           "#ab63fa",
           "#FFA15A",
           "#19d3f3",
           "#FF6692",
           "#B6E880",
           "#FF97FF",
           "#FECB52"
          ],
          "font": {
           "color": "#2a3f5f"
          },
          "geo": {
           "bgcolor": "white",
           "lakecolor": "white",
           "landcolor": "#E5ECF6",
           "showlakes": true,
           "showland": true,
           "subunitcolor": "white"
          },
          "hoverlabel": {
           "align": "left"
          },
          "hovermode": "closest",
          "mapbox": {
           "style": "light"
          },
          "paper_bgcolor": "white",
          "plot_bgcolor": "#E5ECF6",
          "polar": {
           "angularaxis": {
            "gridcolor": "white",
            "linecolor": "white",
            "ticks": ""
           },
           "bgcolor": "#E5ECF6",
           "radialaxis": {
            "gridcolor": "white",
            "linecolor": "white",
            "ticks": ""
           }
          },
          "scene": {
           "xaxis": {
            "backgroundcolor": "#E5ECF6",
            "gridcolor": "white",
            "gridwidth": 2,
            "linecolor": "white",
            "showbackground": true,
            "ticks": "",
            "zerolinecolor": "white"
           },
           "yaxis": {
            "backgroundcolor": "#E5ECF6",
            "gridcolor": "white",
            "gridwidth": 2,
            "linecolor": "white",
            "showbackground": true,
            "ticks": "",
            "zerolinecolor": "white"
           },
           "zaxis": {
            "backgroundcolor": "#E5ECF6",
            "gridcolor": "white",
            "gridwidth": 2,
            "linecolor": "white",
            "showbackground": true,
            "ticks": "",
            "zerolinecolor": "white"
           }
          },
          "shapedefaults": {
           "line": {
            "color": "#2a3f5f"
           }
          },
          "ternary": {
           "aaxis": {
            "gridcolor": "white",
            "linecolor": "white",
            "ticks": ""
           },
           "baxis": {
            "gridcolor": "white",
            "linecolor": "white",
            "ticks": ""
           },
           "bgcolor": "#E5ECF6",
           "caxis": {
            "gridcolor": "white",
            "linecolor": "white",
            "ticks": ""
           }
          },
          "title": {
           "x": 0.05
          },
          "xaxis": {
           "automargin": true,
           "gridcolor": "white",
           "linecolor": "white",
           "ticks": "",
           "title": {
            "standoff": 15
           },
           "zerolinecolor": "white",
           "zerolinewidth": 2
          },
          "yaxis": {
           "automargin": true,
           "gridcolor": "white",
           "linecolor": "white",
           "ticks": "",
           "title": {
            "standoff": 15
           },
           "zerolinecolor": "white",
           "zerolinewidth": 2
          }
         }
        },
        "width": 800,
        "xaxis": {
         "autorange": true,
         "range": [
          500,
          3950
         ],
         "type": "linear"
        },
        "yaxis": {
         "autorange": true,
         "range": [
          -61.11559257707943,
          1004.2983138798378
         ],
         "type": "linear"
        }
       }
      },
      "image/png": "[encoded data removed]",
      "text/html": [
       "<div>                            <div id=\"2141c920-4bc1-428f-9b02-002141255e35\" class=\"plotly-graph-div\" style=\"height:500px; width:800px;\"></div>            <script type=\"text/javascript\">                require([\"plotly\"], function(Plotly) {                    window.PLOTLYENV=window.PLOTLYENV || {};                                    if (document.getElementById(\"2141c920-4bc1-428f-9b02-002141255e35\")) {                    Plotly.newPlot(                        \"2141c920-4bc1-428f-9b02-002141255e35\",                        [{\"mode\":\"lines\",\"name\":\"pure_usdc\",\"x\":[500,550,600,650,700,750,800,850,900,950,1000,1050,1100,1150,1200,1250,1300,1350,1400,1450,1500,1550,1600,1650,1700,1750,1800,1850,1900,1950,2000,2050,2100,2150,2200,2250,2300,2350,2400,2450,2500,2550,2600,2650,2700,2750,2800,2850,2900,2950,3000,3050,3100,3150,3200,3250,3300,3350,3400,3450,3500,3550,3600,3650,3700,3750,3800,3850,3900,3950],\"y\":[923.4598904320552,923.4598904320552,923.4598904320552,923.4598904320552,923.4598904320552,923.4598904320552,923.4598904320552,923.4598904320552,923.4598904320552,923.4598904320552,923.4598904320552,923.4598904320552,923.4598904320552,923.4598904320552,923.4598904320552,923.4598904320552,923.4598904320552,923.4598904320552,923.4598904320552,923.4598904320552,923.4598904320552,923.4598904320552,923.4598904320552,923.4598904320552,923.4598904320552,923.4598904320552,923.4598904320552,923.4598904320552,923.4598904320552,923.4598904320552,923.4598904320552,923.4598904320552,923.4598904320552,923.4598904320552,923.4598904320552,923.4598904320552,923.4598904320552,923.4598904320552,923.4598904320552,923.4598904320552,923.4598904320552,923.4598904320552,923.4598904320552,923.4598904320552,923.4598904320552,923.4598904320552,923.4598904320552,923.4598904320552,923.4598904320552,923.4598904320552,923.4598904320552,923.4598904320552,923.4598904320552,923.4598904320552,923.4598904320552,923.4598904320552,923.4598904320552,923.4598904320552,923.4598904320552,923.4598904320552,923.4598904320552,923.4598904320552,923.4598904320552,923.4598904320552,923.4598904320552,923.4598904320552,923.4598904320552,923.4598904320552,923.4598904320552,923.4598904320552],\"type\":\"scatter\"},{\"mode\":\"lines\",\"name\":\"uniswap_tvs\",\"x\":[500,550,600,650,700,750,800,850,900,950,1000,1050,1100,1150,1200,1250,1300,1350,1400,1450,1500,1550,1600,1650,1700,1750,1800,1850,1900,1950,2000,2050,2100,2150,2200,2250,2300,2350,2400,2450,2500,2550,2600,2650,2700,2750,2800,2850,2900,2950,3000,3050,3100,3150,3200,3250,3300,3350,3400,3450,3500,3550,3600,3650,3700,3750,3800,3850,3900,3950],\"y\":[274.4883381564651,301.9371719721116,329.38600578775817,356.83483960340465,384.2836734190512,411.73250723469766,439.1813410503442,466.6301748659907,494.0790086816372,521.5278424972837,548.9766763129302,576.4255101285768,603.8743439442233,631.3231777598697,658.7720115755163,686.2208453911628,713.6696792068093,741.1185130224558,768.5673468381024,796.0161806537488,823.4650144693953,849.2343839256702,871.7519010863841,891.1688614652894,907.6251802892268,921.2505560360744,932.165485347902,940.4821518844376,946.3052077414992,949.732462891835,950.8554955442889,950.8554955442889,950.8554955442889,950.8554955442889,950.8554955442889,950.8554955442889,950.8554955442889,950.8554955442889,950.8554955442889,950.8554955442889,950.8554955442889,950.8554955442889,950.8554955442889,950.8554955442889,950.8554955442889,950.8554955442889,950.8554955442889,950.8554955442889,950.8554955442889,950.8554955442889,950.8554955442889,950.8554955442889,950.8554955442889,950.8554955442889,950.8554955442889,950.8554955442889,950.8554955442889,950.8554955442889,950.8554955442889,950.8554955442889,950.8554955442889,950.8554955442889,950.8554955442889,950.8554955442889,950.8554955442889,950.8554955442889,950.8554955442889,950.8554955442889,950.8554955442889,950.8554955442889],\"type\":\"scatter\"},{\"mode\":\"lines\",\"name\":\"option_pnls\",\"x\":[500,550,600,650,700,750,800,850,900,950,1000,1050,1100,1150,1200,1250,1300,1350,1400,1450,1500,1550,1600,1650,1700,1750,1800,1850,1900,1950,2000,2050,2100,2150,2200,2250,2300,2350,2400,2450,2500,2550,2600,2650,2700,2750,2800,2850,2900,2950,3000,3050,3100,3150,3200,3250,3300,3350,3400,3450,3500,3550,3600,3650,3700,3750,3800,3850,3900,3950],\"y\":[676.1560723704939,648.3283804209967,620.5017639699948,592.676460793134,564.8527712018771,537.0310778883053,509.21187339395505,481.3957987015239,453.5836983537876,425.77670062776383,397.9763365419972,370.1847205411129,342.4048318302244,314.6409649634222,286.8994746526048,259.1900509587501,231.5279886011769,203.9383952776674,176.4643192797866,149.18294511312493,122.23780547906352,95.89651482975881,70.61469319093125,46.96872575148193,25.299615789209103,10.823498323754313,7.318130118264806,4.744184612502818,2.8016963883899613,1.2951556651569682,0.09799857831603943,-0.8733324252186044,-1.6755251430861455,-2.348121484125972,-2.9194266943371425,-3.4101805352075707,-3.8358980318415608,-4.208401310671059,-4.53684707579364,-4.828431637029315,-5.088884828332664,-5.322822620126488,-5.534003202824147,-5.7255158870435485,-5.899922438348097,-6.059364204041538,-6.205644282115828,-6.34029123878878,-6.464609017592216,-6.5797163976530335,-6.686578459457133,-6.7860318786775915,-6.878805410817336,-6.96553659690676,-7.0467854763853675,-7.123045912260932,-7.1947549981019625,-7.262300914050115,-7.326029521050941,-7.386249922645198,-7.44323917735203,-7.4972463086168775,-7.548495731011667,-7.597190189066623,-7.643513287396104,-7.687631676643628,-7.729696948420088,-7.769847283252557,-7.808208888135937,-7.84489725423357],\"type\":\"scatter\"},{\"mode\":\"lines\",\"name\":\"uniswap_tvs + option_pnls\",\"x\":[500,550,600,650,700,750,800,850,900,950,1000,1050,1100,1150,1200,1250,1300,1350,1400,1450,1500,1550,1600,1650,1700,1750,1800,1850,1900,1950,2000,2050,2100,2150,2200,2250,2300,2350,2400,2450,2500,2550,2600,2650,2700,2750,2800,2850,2900,2950,3000,3050,3100,3150,3200,3250,3300,3350,3400,3450,3500,3550,3600,3650,3700,3750,3800,3850,3900,3950],\"y\":[950.6444105269591,950.2655523931084,949.887769757753,949.5113003965387,949.1364446209283,948.7635851230029,948.3932144442992,948.0259735675146,947.6627070354248,947.3045431250475,946.9530128549275,946.6102306696896,946.2791757744476,945.964142723292,945.6714862281211,945.410896349913,945.1976678079861,945.0569083001232,945.031666117889,945.1991257668737,945.7028199484589,945.1308987554289,942.3665942773154,938.1375872167713,932.924796078436,932.0740543598287,939.4836154661667,945.2263364969405,949.1069041298891,951.0276185569919,950.953494122605,949.9821631190704,949.1799704012028,948.507374060163,947.9360688499518,947.4453150090814,947.0195975124474,946.6470942336178,946.3186484684953,946.0270639072596,945.7666107159563,945.5326729241624,945.3214923414648,945.1299796572454,944.9555731059409,944.7961313402474,944.6498512621731,944.5152043055001,944.3908865266967,944.275779146636,944.1689170848318,944.0694636656114,943.9766901334716,943.8899589473822,943.8087100679036,943.732449632028,943.660740546187,943.5931946302388,943.529466023238,943.4692456216437,943.412256366937,943.358249235672,943.3069998132772,943.2583053552223,943.2119822568928,943.1678638676453,943.1257985958689,943.0856482610363,943.047286656153,943.0105982900553],\"type\":\"scatter\"}],                        {\"template\":{\"data\":{\"histogram2dcontour\":[{\"type\":\"histogram2dcontour\",\"colorbar\":{\"outlinewidth\":0,\"ticks\":\"\"},\"colorscale\":[[0.0,\"#0d0887\"],[0.1111111111111111,\"#46039f\"],[0.2222222222222222,\"#7201a8\"],[0.3333333333333333,\"#9c179e\"],[0.4444444444444444,\"#bd3786\"],[0.5555555555555556,\"#d8576b\"],[0.6666666666666666,\"#ed7953\"],[0.7777777777777778,\"#fb9f3a\"],[0.8888888888888888,\"#fdca26\"],[1.0,\"#f0f921\"]]}],\"choropleth\":[{\"type\":\"choropleth\",\"colorbar\":{\"outlinewidth\":0,\"ticks\":\"\"}}],\"histogram2d\":[{\"type\":\"histogram2d\",\"colorbar\":{\"outlinewidth\":0,\"ticks\":\"\"},\"colorscale\":[[0.0,\"#0d0887\"],[0.1111111111111111,\"#46039f\"],[0.2222222222222222,\"#7201a8\"],[0.3333333333333333,\"#9c179e\"],[0.4444444444444444,\"#bd3786\"],[0.5555555555555556,\"#d8576b\"],[0.6666666666666666,\"#ed7953\"],[0.7777777777777778,\"#fb9f3a\"],[0.8888888888888888,\"#fdca26\"],[1.0,\"#f0f921\"]]}],\"heatmap\":[{\"type\":\"heatmap\",\"colorbar\":{\"outlinewidth\":0,\"ticks\":\"\"},\"colorscale\":[[0.0,\"#0d0887\"],[0.1111111111111111,\"#46039f\"],[0.2222222222222222,\"#7201a8\"],[0.3333333333333333,\"#9c179e\"],[0.4444444444444444,\"#bd3786\"],[0.5555555555555556,\"#d8576b\"],[0.6666666666666666,\"#ed7953\"],[0.7777777777777778,\"#fb9f3a\"],[0.8888888888888888,\"#fdca26\"],[1.0,\"#f0f921\"]]}],\"heatmapgl\":[{\"type\":\"heatmapgl\",\"colorbar\":{\"outlinewidth\":0,\"ticks\":\"\"},\"colorscale\":[[0.0,\"#0d0887\"],[0.1111111111111111,\"#46039f\"],[0.2222222222222222,\"#7201a8\"],[0.3333333333333333,\"#9c179e\"],[0.4444444444444444,\"#bd3786\"],[0.5555555555555556,\"#d8576b\"],[0.6666666666666666,\"#ed7953\"],[0.7777777777777778,\"#fb9f3a\"],[0.8888888888888888,\"#fdca26\"],[1.0,\"#f0f921\"]]}],\"contourcarpet\":[{\"type\":\"contourcarpet\",\"colorbar\":{\"outlinewidth\":0,\"ticks\":\"\"}}],\"contour\":[{\"type\":\"contour\",\"colorbar\":{\"outlinewidth\":0,\"ticks\":\"\"},\"colorscale\":[[0.0,\"#0d0887\"],[0.1111111111111111,\"#46039f\"],[0.2222222222222222,\"#7201a8\"],[0.3333333333333333,\"#9c179e\"],[0.4444444444444444,\"#bd3786\"],[0.5555555555555556,\"#d8576b\"],[0.6666666666666666,\"#ed7953\"],[0.7777777777777778,\"#fb9f3a\"],[0.8888888888888888,\"#fdca26\"],[1.0,\"#f0f921\"]]}],\"surface\":[{\"type\":\"surface\",\"colorbar\":{\"outlinewidth\":0,\"ticks\":\"\"},\"colorscale\":[[0.0,\"#0d0887\"],[0.1111111111111111,\"#46039f\"],[0.2222222222222222,\"#7201a8\"],[0.3333333333333333,\"#9c179e\"],[0.4444444444444444,\"#bd3786\"],[0.5555555555555556,\"#d8576b\"],[0.6666666666666666,\"#ed7953\"],[0.7777777777777778,\"#fb9f3a\"],[0.8888888888888888,\"#fdca26\"],[1.0,\"#f0f921\"]]}],\"mesh3d\":[{\"type\":\"mesh3d\",\"colorbar\":{\"outlinewidth\":0,\"ticks\":\"\"}}],\"scatter\":[{\"fillpattern\":{\"fillmode\":\"overlay\",\"size\":10,\"solidity\":0.2},\"type\":\"scatter\"}],\"parcoords\":[{\"type\":\"parcoords\",\"line\":{\"colorbar\":{\"outlinewidth\":0,\"ticks\":\"\"}}}],\"scatterpolargl\":[{\"type\":\"scatterpolargl\",\"marker\":{\"colorbar\":{\"outlinewidth\":0,\"ticks\":\"\"}}}],\"bar\":[{\"error_x\":{\"color\":\"#2a3f5f\"},\"error_y\":{\"color\":\"#2a3f5f\"},\"marker\":{\"line\":{\"color\":\"#E5ECF6\",\"width\":0.5},\"pattern\":{\"fillmode\":\"overlay\",\"size\":10,\"solidity\":0.2}},\"type\":\"bar\"}],\"scattergeo\":[{\"type\":\"scattergeo\",\"marker\":{\"colorbar\":{\"outlinewidth\":0,\"ticks\":\"\"}}}],\"scatterpolar\":[{\"type\":\"scatterpolar\",\"marker\":{\"colorbar\":{\"outlinewidth\":0,\"ticks\":\"\"}}}],\"histogram\":[{\"marker\":{\"pattern\":{\"fillmode\":\"overlay\",\"size\":10,\"solidity\":0.2}},\"type\":\"histogram\"}],\"scattergl\":[{\"type\":\"scattergl\",\"marker\":{\"colorbar\":{\"outlinewidth\":0,\"ticks\":\"\"}}}],\"scatter3d\":[{\"type\":\"scatter3d\",\"line\":{\"colorbar\":{\"outlinewidth\":0,\"ticks\":\"\"}},\"marker\":{\"colorbar\":{\"outlinewidth\":0,\"ticks\":\"\"}}}],\"scattermapbox\":[{\"type\":\"scattermapbox\",\"marker\":{\"colorbar\":{\"outlinewidth\":0,\"ticks\":\"\"}}}],\"scatterternary\":[{\"type\":\"scatterternary\",\"marker\":{\"colorbar\":{\"outlinewidth\":0,\"ticks\":\"\"}}}],\"scattercarpet\":[{\"type\":\"scattercarpet\",\"marker\":{\"colorbar\":{\"outlinewidth\":0,\"ticks\":\"\"}}}],\"carpet\":[{\"aaxis\":{\"endlinecolor\":\"#2a3f5f\",\"gridcolor\":\"white\",\"linecolor\":\"white\",\"minorgridcolor\":\"white\",\"startlinecolor\":\"#2a3f5f\"},\"baxis\":{\"endlinecolor\":\"#2a3f5f\",\"gridcolor\":\"white\",\"linecolor\":\"white\",\"minorgridcolor\":\"white\",\"startlinecolor\":\"#2a3f5f\"},\"type\":\"carpet\"}],\"table\":[{\"cells\":{\"fill\":{\"color\":\"#EBF0F8\"},\"line\":{\"color\":\"white\"}},\"header\":{\"fill\":{\"color\":\"#C8D4E3\"},\"line\":{\"color\":\"white\"}},\"type\":\"table\"}],\"barpolar\":[{\"marker\":{\"line\":{\"color\":\"#E5ECF6\",\"width\":0.5},\"pattern\":{\"fillmode\":\"overlay\",\"size\":10,\"solidity\":0.2}},\"type\":\"barpolar\"}],\"pie\":[{\"automargin\":true,\"type\":\"pie\"}]},\"layout\":{\"autotypenumbers\":\"strict\",\"colorway\":[\"#636efa\",\"#EF553B\",\"#00cc96\",\"#ab63fa\",\"#FFA15A\",\"#19d3f3\",\"#FF6692\",\"#B6E880\",\"#FF97FF\",\"#FECB52\"],\"font\":{\"color\":\"#2a3f5f\"},\"hovermode\":\"closest\",\"hoverlabel\":{\"align\":\"left\"},\"paper_bgcolor\":\"white\",\"plot_bgcolor\":\"#E5ECF6\",\"polar\":{\"bgcolor\":\"#E5ECF6\",\"angularaxis\":{\"gridcolor\":\"white\",\"linecolor\":\"white\",\"ticks\":\"\"},\"radialaxis\":{\"gridcolor\":\"white\",\"linecolor\":\"white\",\"ticks\":\"\"}},\"ternary\":{\"bgcolor\":\"#E5ECF6\",\"aaxis\":{\"gridcolor\":\"white\",\"linecolor\":\"white\",\"ticks\":\"\"},\"baxis\":{\"gridcolor\":\"white\",\"linecolor\":\"white\",\"ticks\":\"\"},\"caxis\":{\"gridcolor\":\"white\",\"linecolor\":\"white\",\"ticks\":\"\"}},\"coloraxis\":{\"colorbar\":{\"outlinewidth\":0,\"ticks\":\"\"}},\"colorscale\":{\"sequential\":[[0.0,\"#0d0887\"],[0.1111111111111111,\"#46039f\"],[0.2222222222222222,\"#7201a8\"],[0.3333333333333333,\"#9c179e\"],[0.4444444444444444,\"#bd3786\"],[0.5555555555555556,\"#d8576b\"],[0.6666666666666666,\"#ed7953\"],[0.7777777777777778,\"#fb9f3a\"],[0.8888888888888888,\"#fdca26\"],[1.0,\"#f0f921\"]],\"sequentialminus\":[[0.0,\"#0d0887\"],[0.1111111111111111,\"#46039f\"],[0.2222222222222222,\"#7201a8\"],[0.3333333333333333,\"#9c179e\"],[0.4444444444444444,\"#bd3786\"],[0.5555555555555556,\"#d8576b\"],[0.6666666666666666,\"#ed7953\"],[0.7777777777777778,\"#fb9f3a\"],[0.8888888888888888,\"#fdca26\"],[1.0,\"#f0f921\"]],\"diverging\":[[0,\"#8e0152\"],[0.1,\"#c51b7d\"],[0.2,\"#de77ae\"],[0.3,\"#f1b6da\"],[0.4,\"#fde0ef\"],[0.5,\"#f7f7f7\"],[0.6,\"#e6f5d0\"],[0.7,\"#b8e186\"],[0.8,\"#7fbc41\"],[0.9,\"#4d9221\"],[1,\"#276419\"]]},\"xaxis\":{\"gridcolor\":\"white\",\"linecolor\":\"white\",\"ticks\":\"\",\"title\":{\"standoff\":15},\"zerolinecolor\":\"white\",\"automargin\":true,\"zerolinewidth\":2},\"yaxis\":{\"gridcolor\":\"white\",\"linecolor\":\"white\",\"ticks\":\"\",\"title\":{\"standoff\":15},\"zerolinecolor\":\"white\",\"automargin\":true,\"zerolinewidth\":2},\"scene\":{\"xaxis\":{\"backgroundcolor\":\"#E5ECF6\",\"gridcolor\":\"white\",\"linecolor\":\"white\",\"showbackground\":true,\"ticks\":\"\",\"zerolinecolor\":\"white\",\"gridwidth\":2},\"yaxis\":{\"backgroundcolor\":\"#E5ECF6\",\"gridcolor\":\"white\",\"linecolor\":\"white\",\"showbackground\":true,\"ticks\":\"\",\"zerolinecolor\":\"white\",\"gridwidth\":2},\"zaxis\":{\"backgroundcolor\":\"#E5ECF6\",\"gridcolor\":\"white\",\"linecolor\":\"white\",\"showbackground\":true,\"ticks\":\"\",\"zerolinecolor\":\"white\",\"gridwidth\":2}},\"shapedefaults\":{\"line\":{\"color\":\"#2a3f5f\"}},\"annotationdefaults\":{\"arrowcolor\":\"#2a3f5f\",\"arrowhead\":0,\"arrowwidth\":1},\"geo\":{\"bgcolor\":\"white\",\"landcolor\":\"#E5ECF6\",\"subunitcolor\":\"white\",\"showland\":true,\"showlakes\":true,\"lakecolor\":\"white\"},\"title\":{\"x\":0.05},\"mapbox\":{\"style\":\"light\"}}},\"autosize\":false,\"width\":800,\"height\":500},                        {\"responsive\": true}                    ).then(function(){\n",
       "                            \n",
       "var gd = document.getElementById('2141c920-4bc1-428f-9b02-002141255e35');\n",
       "var x = new MutationObserver(function (mutations, observer) {{\n",
       "        var display = window.getComputedStyle(gd).display;\n",
       "        if (!display || display === 'none') {{\n",
       "            console.log([gd, 'removed!']);\n",
       "            Plotly.purge(gd);\n",
       "            observer.disconnect();\n",
       "        }}\n",
       "}});\n",
       "\n",
       "// Listen for the removal of the full notebook cells\n",
       "var notebookContainer = gd.closest('#notebook-container');\n",
       "if (notebookContainer) {{\n",
       "    x.observe(notebookContainer, {childList: true});\n",
       "}}\n",
       "\n",
       "// Listen for the clearing of the current output cell\n",
       "var outputEl = gd.closest('.output');\n",
       "if (outputEl) {{\n",
       "    x.observe(outputEl, {childList: true});\n",
       "}}\n",
       "\n",
       "                        })                };                });            </script>        </div>"
      ]
     },
     "metadata": {},
     "output_type": "display_data"
    }
   ],
   "source": [
    "fig = go.Figure()\n",
    "fig.update_layout(\n",
    "    autosize=False,\n",
    "    width=800,\n",
    "    height=500)\n",
    "\n",
    "fig.add_trace(go.Scatter(x=prices, y=pure_usdc,\n",
    "                    mode='lines',\n",
    "                    name='pure_usdc'))\n",
    "\n",
    "fig.add_trace(go.Scatter(x=prices, y=uniswap_tvs,\n",
    "                    mode='lines',\n",
    "                    name='uniswap_tvs'))\n",
    "fig.add_trace(go.Scatter(x=prices, y=option_pnls,\n",
    "                    mode='lines',\n",
    "                    name='option_pnls'))\n",
    "fig.add_trace(go.Scatter(x=prices, y=uniswap_tvs + option_pnls,\n",
    "                    mode='lines',\n",
    "                    name='uniswap_tvs + option_pnls'))"
   ]
  },
  {
   "cell_type": "code",
   "execution_count": 147,
   "id": "4f60aa08-74a0-48ef-abbe-a42d3818bfbe",
   "metadata": {},
   "outputs": [
    {
     "name": "stdout",
     "output_type": "stream",
     "text": [
      "\n",
      "        isCall: False\n",
      "        expiration: 1.6427104722792607\n",
      "        strike: 1732.0508075688772\n",
      "        amount: 0.3\n",
      "        initial cost: 32.29102896676576 \n",
      "        ---\n",
      "        uniswap_position: lower_price: 1500, upper_price: 2000,\n",
      "        initial_price: 1650, period_in_years: 0.08213552361396304\n",
      "        \n"
     ]
    }
   ],
   "source": [
    "print(optimal_option)"
   ]
  },
  {
   "cell_type": "code",
   "execution_count": null,
   "id": "5c21312e-7c6d-4ede-a532-4377d01d4f44",
   "metadata": {},
   "outputs": [],
   "source": []
  },
  {
   "cell_type": "code",
   "execution_count": 14,
   "id": "78b900c3-9efc-4bd0-b769-5e9a88f7c485",
   "metadata": {},
   "outputs": [],
   "source": [
    "def plot_smile():\n",
    "    #strikes\n",
    "    Kn = F * np.linspace(0.5, 2.6, 32)\n",
    "    c0, iv0 = sabr_0( Kn, F, T )\n",
    "    plt.figure(figsize=(15, 8))\n",
    "    ax1 = plt.subplot(2, 2, 1)\n",
    "    ax1.plot(Kn, c0)\n",
    "    ax1.grid()\n",
    "    ax1.set_title(\"Option price\", fontsize=15)\n",
    "    ax1.set_xlabel(\"strike\", fontsize=12)\n",
    "\n",
    "    ax2 = plt.subplot(2, 2, 2)\n",
    "    ax2.plot(Kn, iv0)\n",
    "    ax2.grid()\n",
    "    ax2.set_title(\"IV\", fontsize=15)\n",
    "    ax2.set_xlabel(\"strike\", fontsize=12)\n",
    "\n",
    "    plt.show()\n",
    "    None"
   ]
  },
  {
   "cell_type": "code",
   "execution_count": null,
   "id": "dc4f8306-20d8-4f03-8fd8-86d1a3443f86",
   "metadata": {},
   "outputs": [],
   "source": []
  },
  {
   "cell_type": "code",
   "execution_count": null,
   "id": "06c67966-9b07-405f-b8da-f326795dc1c1",
   "metadata": {},
   "outputs": [],
   "source": []
  },
  {
   "cell_type": "code",
   "execution_count": null,
   "id": "043e3567-6fe6-4ee0-9c3a-eb8d392f0efe",
   "metadata": {},
   "outputs": [],
   "source": []
  },
  {
   "cell_type": "code",
   "execution_count": null,
   "id": "2d6eaf92-68cf-455f-8a54-f0a1688a5d73",
   "metadata": {},
   "outputs": [],
   "source": []
  }
 ],
 "metadata": {
  "kernelspec": {
   "display_name": "Python 3 (ipykernel)",
   "language": "python",
   "name": "python3"
  },
  "language_info": {
   "codemirror_mode": {
    "name": "ipython",
    "version": 3
   },
   "file_extension": ".py",
   "mimetype": "text/x-python",
   "name": "python",
   "nbconvert_exporter": "python",
   "pygments_lexer": "ipython3",
   "version": "3.8.15"
  }
 },
 "nbformat": 4,
 "nbformat_minor": 5
}
