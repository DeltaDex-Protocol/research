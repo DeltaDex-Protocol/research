{
 "cells": [
  {
   "cell_type": "code",
   "execution_count": 2,
   "id": "53d2bc01-f976-4f40-9af9-775003611c3a",
   "metadata": {},
   "outputs": [],
   "source": [
    "from sabr import SABR\n",
    "from sabr_calibration import SABRCalibrator"
   ]
  },
  {
   "cell_type": "code",
   "execution_count": 3,
   "id": "82159e85-a0d0-4e96-bdc4-ee7a97400503",
   "metadata": {},
   "outputs": [],
   "source": [
    "from deltadex_calibration import calibrate_sabr\n",
    "from deribit_parser import GetOptionMeta"
   ]
  },
  {
   "cell_type": "code",
   "execution_count": 4,
   "id": "bcf905b1-1c83-4701-a054-58b21c5f3c3f",
   "metadata": {},
   "outputs": [],
   "source": [
    "import numpy as np\n",
    "from matplotlib import pyplot as plt\n",
    "import plotly.express as px\n",
    "import plotly.graph_objects as go\n"
   ]
  },
  {
   "cell_type": "code",
   "execution_count": 5,
   "id": "2cb2e1f5-1472-4831-a508-27da2e134426",
   "metadata": {},
   "outputs": [
    {
     "data": {
      "text/plain": [
       "<module 'uniswap_v3_liquidity_math' from '/Users/kirillbogomolov/Desktop/DeltaDex-Protocol/research-branch-main/backtest/uniswap_v3_liquidity_math.py'>"
      ]
     },
     "execution_count": 5,
     "metadata": {},
     "output_type": "execute_result"
    }
   ],
   "source": [
    "import uniswap_v3_liquidity_math as uniswap_math\n",
    "\n",
    "import importlib\n",
    "importlib.reload(uniswap_math)"
   ]
  },
  {
   "cell_type": "code",
   "execution_count": 1046,
   "id": "9653f7c7-3bef-439e-90ad-b2cb2cad1b7b",
   "metadata": {},
   "outputs": [],
   "source": [
    "class UniswapPosition:\n",
    "    def __init__(self, lower_price, upper_price, initial_price, initial_token1_amount, period_in_years):\n",
    "        self.lower_price = lower_price\n",
    "        self.upper_price = upper_price\n",
    "        self.initial_price = initial_price\n",
    "        self.initial_token1_amount = initial_token1_amount\n",
    "        self.period_in_years = period_in_years\n",
    "    \n",
    "    def get_tokens_amounts(self, price):\n",
    "        return uniswap_math.get_tokens_amounts(initial_price = self.initial_price, \n",
    "                                lowerPrice = self.lower_price, upperPrice = self.upper_price, \n",
    "                                initial_y = self.initial_token1_amount, currentPrice = price)\n",
    "    \n",
    "    def get_total_value(self, price):\n",
    "        x, y = self.get_tokens_amounts(price)\n",
    "        return x * price + y"
   ]
  },
  {
   "cell_type": "markdown",
   "id": "cf727282-adf6-4524-94b7-aa02e2dd8303",
   "metadata": {},
   "source": [
    "### Optimal option"
   ]
  },
  {
   "cell_type": "code",
   "execution_count": 1266,
   "id": "430e9493-7512-4899-b2ef-4f6d3a9a2a55",
   "metadata": {},
   "outputs": [],
   "source": [
    "class OptimalOption:\n",
    "    def __init__(self, sabr_model: SABR, \n",
    "                 uniswap_position: UniswapPosition,\n",
    "                 expiration: float,\n",
    "                 strike: float,\n",
    "                 amount: float,\n",
    "                 isCall: bool = False):\n",
    "        \n",
    "        self.sabr_model = sabr_model\n",
    "        self.uniswap_position = uniswap_position\n",
    "        \n",
    "        self.isCall = False\n",
    "        # self.expiration = (1.01 * uniswap_position.period_in_years)\n",
    "        self.expiration = expiration\n",
    "        self.strike = strike\n",
    "        # self.strike = (uniswap_position.lower_price * uniswap_position.upper_price) ** 0.5\n",
    "        self.amount = amount\n",
    "        self.initial_cost = self.amount * self.sabr_model(self.strike, \n",
    "                                                self.uniswap_position.initial_price, \n",
    "                                                self.expiration, \n",
    "                                                self.isCall)[0]\n",
    "    \n",
    "    def update_option_params(self, strike, expiration, amount):\n",
    "        self.strike = strike\n",
    "        self.expiration = expiration\n",
    "        self.amount = amount\n",
    "        self.initial_cost = self.amount * self.sabr_model(self.strike, \n",
    "                                                self.uniswap_position.initial_price, \n",
    "                                                self.expiration, \n",
    "                                                self.isCall)[0]\n",
    "        # print(self.initial_cost)\n",
    "        \n",
    "    def find_optimal_option(self):\n",
    "        \n",
    "        # todo: make bounds being depenedent on underlying_price\n",
    "        price_lower_bound = int(self.uniswap_position.initial_price / 1.5)\n",
    "        price_upper_bound = int(self.uniswap_position.initial_price * 1.3)\n",
    "        prices = np.array([price for price in range(price_lower_bound, price_upper_bound, 10 )]) \n",
    "        \n",
    "        from scipy.optimize import minimize\n",
    "        \n",
    "        def _find_optimal_option(x):\n",
    "            strike, expiration, amount = x\n",
    "            self.update_option_params(strike, expiration, amount)\n",
    "            \n",
    "            initial_tv = self.uniswap_position.get_total_value(self.uniswap_position.initial_price)\n",
    "            uniswap_tvs = np.array([self.uniswap_position.get_total_value(price) for price in prices])\n",
    "            \n",
    "            loss = ((self.calculate_hedged_position(prices) + \n",
    "                    uniswap_tvs - initial_tv) ** 2).mean()  \n",
    "            return loss\n",
    "        \n",
    "        x0 = np.array([self.strike, self.expiration, self.amount])\n",
    "        res = minimize(_find_optimal_option, x0, method='nelder-mead',\n",
    "                       options={'xatol': 1e-8, 'disp': True})\n",
    "        \n",
    "        strike, expiration, amount = res.x\n",
    "        \n",
    "        print('strike: {}, expiration: {}, amount: {}'.format(strike, expiration, amount))\n",
    "    \n",
    "    \n",
    "    def calculate_hedged_position(self, prices):\n",
    "        \n",
    "        def calculate_pnl(price, strike):\n",
    "            if self.isCall == True:\n",
    "                return max(price - strike, 0)\n",
    "            if self.isCall == False:\n",
    "                return max(strike - price, 0)\n",
    "        #calculate_pnl(price, self.strike) +\n",
    "        option_pnls = self.amount * np.array([ self.sabr_model(self.strike, \n",
    "                                                    price + 0.0001, # otherwise a bug appears \n",
    "                                                    (self.expiration - self.uniswap_position.period_in_years), \n",
    "                                                    self.isCall)[0] for price in prices]) - self.initial_cost\n",
    "        return option_pnls\n",
    "    \n",
    "    def __repr__(self):\n",
    "        return (\"\"\"\n",
    "        isCall: {}\n",
    "        expiration: {}\n",
    "        strike: {}\n",
    "        amount: {}\n",
    "        initial cost: {} \n",
    "        ---\n",
    "        uniswap_position: lower_price: {}, upper_price: {},\n",
    "        initial_price: {}, period_in_years: {}\n",
    "        \"\"\".format(self.isCall, \n",
    "                    self.expiration,\n",
    "                    self.strike,\n",
    "                    self.amount,\n",
    "                    self.initial_cost,\n",
    "                    self.uniswap_position.lower_price,\n",
    "                    self.uniswap_position.upper_price,\n",
    "                    self.uniswap_position.initial_price,\n",
    "                    self.uniswap_position.period_in_years))\n",
    "    "
   ]
  },
  {
   "cell_type": "markdown",
   "id": "1226a2ce-4293-422e-acf2-4656a617836b",
   "metadata": {},
   "source": [
    "### Calibration"
   ]
  },
  {
   "cell_type": "code",
   "execution_count": 1241,
   "id": "b78aeb97-b5d7-42ab-8c1b-5dce2d714b82",
   "metadata": {},
   "outputs": [],
   "source": [
    "OptionMeta = GetOptionMeta()['Expiry']\n",
    "expiries = list(map(lambda expiry: (expiry[:-5] + \"/\" + expiry[-5:-2] + \"/\" + expiry[-2:]), OptionMeta))\n"
   ]
  },
  {
   "cell_type": "code",
   "execution_count": 1119,
   "id": "ef6e2c01-0354-43e9-941f-ff34a2982323",
   "metadata": {},
   "outputs": [
    {
     "data": {
      "text/plain": [
       "['3/MAR/23',\n",
       " '30/JUN/23',\n",
       " '11/FEB/23',\n",
       " '29/DEC/23',\n",
       " '31/MAR/23',\n",
       " '17/FEB/23',\n",
       " '24/FEB/23',\n",
       " '29/SEP/23',\n",
       " '12/FEB/23',\n",
       " '28/APR/23']"
      ]
     },
     "execution_count": 1119,
     "metadata": {},
     "output_type": "execute_result"
    }
   ],
   "source": [
    "expiries"
   ]
  },
  {
   "cell_type": "code",
   "execution_count": 1120,
   "id": "97067c70-d828-478c-bafc-af8ccda3d238",
   "metadata": {},
   "outputs": [
    {
     "data": {
      "text/plain": [
       "9"
      ]
     },
     "execution_count": 1120,
     "metadata": {},
     "output_type": "execute_result"
    }
   ],
   "source": [
    "expiries.index('28/APR/23')"
   ]
  },
  {
   "cell_type": "code",
   "execution_count": 1121,
   "id": "d597e625-4b35-4fd7-8980-06db6fee23f6",
   "metadata": {},
   "outputs": [
    {
     "data": {
      "text/plain": [
       "'29/SEP/23'"
      ]
     },
     "execution_count": 1121,
     "metadata": {},
     "output_type": "execute_result"
    }
   ],
   "source": [
    "expiry = expiries[expiries.index('29/SEP/23')]\n",
    "expiry"
   ]
  },
  {
   "cell_type": "code",
   "execution_count": 1122,
   "id": "015a40f2-4889-4714-b1b9-fd46cad27b74",
   "metadata": {},
   "outputs": [
    {
     "name": "stderr",
     "output_type": "stream",
     "text": [
      "/Users/kirillbogomolov/Desktop/DeltaDex-Protocol/research-branch-main/backtest/deribit_parser.py:29: RuntimeWarning:\n",
      "\n",
      "divide by zero encountered in double_scalars\n",
      "\n"
     ]
    },
    {
     "name": "stdout",
     "output_type": "stream",
     "text": [
      "db updated 2023-02-11 02:50:15.346228\n"
     ]
    },
    {
     "name": "stderr",
     "output_type": "stream",
     "text": [
      "100%|███████████████████████████████████████| 500/500 [00:00<00:00, 4543.02it/s]"
     ]
    },
    {
     "name": "stdout",
     "output_type": "stream",
     "text": [
      "optimized parameters:\n",
      "('alpha ', 10.89418)\n",
      "('v ', 0.86958)\n",
      "('beta  ', 0.60944)\n",
      "('rho', 0.12573)\n"
     ]
    },
    {
     "name": "stderr",
     "output_type": "stream",
     "text": [
      "\n"
     ]
    }
   ],
   "source": [
    "sabr, underlying_price = calibrate_sabr(SELECTED_EXPIRY = expiry)\n"
   ]
  },
  {
   "cell_type": "code",
   "execution_count": 1123,
   "id": "dcfec6fe-e71f-4517-8c22-e3f22319e66e",
   "metadata": {},
   "outputs": [],
   "source": [
    "# sabr.r = 0.1"
   ]
  },
  {
   "cell_type": "code",
   "execution_count": 1124,
   "id": "bf9d4b25-dd82-4654-b673-8bbf2286e5e8",
   "metadata": {},
   "outputs": [
    {
     "name": "stdout",
     "output_type": "stream",
     "text": [
      "1537.9\n"
     ]
    }
   ],
   "source": [
    "print(underlying_price)"
   ]
  },
  {
   "cell_type": "code",
   "execution_count": 1242,
   "id": "1609de94-769b-48de-8908-2fe5fe6617b6",
   "metadata": {},
   "outputs": [],
   "source": [
    "uniswap_position = UniswapPosition(lower_price = 1400, \n",
    "                                   upper_price = 1700,\n",
    "                                   initial_price = underlying_price, \n",
    "                                   initial_token1_amount = 300,    # usdcs\n",
    "                                   period_in_years = 30 / 365.25)\n"
   ]
  },
  {
   "cell_type": "code",
   "execution_count": 1243,
   "id": "65f3c472-9cdc-43e9-b890-53893835ca18",
   "metadata": {},
   "outputs": [
    {
     "name": "stdout",
     "output_type": "stream",
     "text": [
      "619.5088301482899\n",
      "(0.20775657074471027, 300.0)\n"
     ]
    }
   ],
   "source": [
    "print(uniswap_position.get_total_value(uniswap_position.initial_price))\n",
    "print(uniswap_position.get_tokens_amounts(uniswap_position.initial_price))"
   ]
  },
  {
   "cell_type": "code",
   "execution_count": 1244,
   "id": "369e261d-73f8-4d2e-b6a6-803962aa94eb",
   "metadata": {},
   "outputs": [],
   "source": [
    "# #sabr model parameters\n",
    "# alpha = 0.2\n",
    "# v = 0.9\n",
    "# beta = 0.9\n",
    "# rho = -0.5\n",
    "\n",
    "# sabr_params_0 = np.asarray([alpha, v, beta, rho])"
   ]
  },
  {
   "cell_type": "code",
   "execution_count": 1245,
   "id": "c611f6af-4332-4e46-a3b0-7497c7ef6673",
   "metadata": {},
   "outputs": [],
   "source": [
    "# r = 0.1\n",
    "#sabr model\n",
    "# sabr_0 = SABR(sabr_params_0, r)"
   ]
  },
  {
   "cell_type": "code",
   "execution_count": 1246,
   "id": "cb97e43c-133c-4dbe-b4c8-6a5a99803150",
   "metadata": {},
   "outputs": [],
   "source": [
    "strike = 1650\n",
    "expiration_in_years = 75 / 365.25\n",
    "amount = 5"
   ]
  },
  {
   "cell_type": "code",
   "execution_count": 1267,
   "id": "acbcbd66-5735-4b7d-a15d-01aa43d62174",
   "metadata": {},
   "outputs": [],
   "source": [
    "optimal_option = OptimalOption(sabr, \n",
    "                               uniswap_position, \n",
    "                               expiration_in_years, \n",
    "                               strike, \n",
    "                               amount, \n",
    "                               isCall = False)"
   ]
  },
  {
   "cell_type": "code",
   "execution_count": 1268,
   "id": "4c3ea415-5a50-47d1-9fcb-83f70356c729",
   "metadata": {},
   "outputs": [
    {
     "name": "stdout",
     "output_type": "stream",
     "text": [
      "Optimization terminated successfully.\n",
      "         Current function value: 952.075523\n",
      "         Iterations: 258\n",
      "         Function evaluations: 491\n",
      "strike: 1499.9051550627191, expiration: 0.08407759729151283, amount: 0.4829749915536591\n"
     ]
    }
   ],
   "source": [
    "optimal_option.find_optimal_option()"
   ]
  },
  {
   "cell_type": "code",
   "execution_count": 1269,
   "id": "ada78d60-e6b0-4a3d-ba20-b9728da5e29f",
   "metadata": {},
   "outputs": [],
   "source": [
    "prices = np.array([price for price in range(500, 2500, 10 )])\n"
   ]
  },
  {
   "cell_type": "code",
   "execution_count": 1270,
   "id": "99b4b72b-94a7-44ad-b485-48a1d0c7ed8b",
   "metadata": {},
   "outputs": [
    {
     "data": {
      "text/plain": [
       "[<matplotlib.lines.Line2D at 0x28f15eeb0>]"
      ]
     },
     "execution_count": 1270,
     "metadata": {},
     "output_type": "execute_result"
    },
    {
     "data": {
      "image/png": "[encoded data removed]",
      "text/plain": [
       "<Figure size 640x480 with 1 Axes>"
      ]
     },
     "metadata": {},
     "output_type": "display_data"
    }
   ],
   "source": [
    "plt.plot(prices, optimal_option.calculate_hedged_position(prices))"
   ]
  },
  {
   "cell_type": "code",
   "execution_count": 1271,
   "id": "b423c8f5-52cb-4634-b349-82744c0c78f9",
   "metadata": {},
   "outputs": [
    {
     "data": {
      "text/plain": [
       "-44.361587345472955"
      ]
     },
     "execution_count": 1271,
     "metadata": {},
     "output_type": "execute_result"
    }
   ],
   "source": [
    "min(optimal_option.calculate_hedged_position(prices))"
   ]
  },
  {
   "cell_type": "code",
   "execution_count": 1272,
   "id": "6e16a93a-420b-4e8d-9fde-6d17f890e9e9",
   "metadata": {},
   "outputs": [
    {
     "name": "stdout",
     "output_type": "stream",
     "text": [
      "1499.9051550709219 1537.9 30.688323010195806\n"
     ]
    }
   ],
   "source": [
    "print(optimal_option.strike, optimal_option.uniswap_position.initial_price, optimal_option.expiration * 365)"
   ]
  },
  {
   "cell_type": "code",
   "execution_count": 1273,
   "id": "e292b06c-c26f-4f3c-9b8a-ccd1b07a6794",
   "metadata": {},
   "outputs": [
    {
     "data": {
      "text/plain": [
       "187.40853382820262"
      ]
     },
     "execution_count": 1273,
     "metadata": {},
     "output_type": "execute_result"
    }
   ],
   "source": [
    "optimal_option.sabr_model(1600, \n",
    "                                                1515, \n",
    "                                                48/365.25, \n",
    "                                                False)[0]"
   ]
  },
  {
   "cell_type": "code",
   "execution_count": 1274,
   "id": "b261a4ac-f5a3-45d4-976d-be1c701ecb3f",
   "metadata": {},
   "outputs": [
    {
     "data": {
      "text/plain": [
       "30.709342409517856"
      ]
     },
     "execution_count": 1274,
     "metadata": {},
     "output_type": "execute_result"
    }
   ],
   "source": [
    "optimal_option.expiration * 365.25"
   ]
  },
  {
   "cell_type": "code",
   "execution_count": 1275,
   "id": "d07113dc-f130-49a0-b646-73d4e5776289",
   "metadata": {},
   "outputs": [],
   "source": [
    "# optimal_option.sabr_model(optimal_option.strike, \n",
    "#                 underlying_price + 0.0001, \n",
    "#                 (optimal_option.expiration - optimal_option.uniswap_position.period_in_years), \n",
    "#                 optimal_option.isCall)[0]"
   ]
  },
  {
   "cell_type": "code",
   "execution_count": 1276,
   "id": "8430a103-a778-4d3c-91f9-3bf5dc8893be",
   "metadata": {},
   "outputs": [
    {
     "data": {
      "text/plain": [
       "30.709342409517856"
      ]
     },
     "execution_count": 1276,
     "metadata": {},
     "output_type": "execute_result"
    }
   ],
   "source": [
    "optimal_option.expiration * 365.25"
   ]
  },
  {
   "cell_type": "code",
   "execution_count": 1277,
   "id": "1a37d882-fcb5-4330-a628-89d4569f9541",
   "metadata": {},
   "outputs": [
    {
     "name": "stdout",
     "output_type": "stream",
     "text": [
      "\n",
      "        isCall: False\n",
      "        expiration: 0.08407759728820768\n",
      "        strike: 1499.9051550709219\n",
      "        amount: 0.48297499148830936\n",
      "        initial cost: 44.361587345472955 \n",
      "        ---\n",
      "        uniswap_position: lower_price: 1400, upper_price: 1700,\n",
      "        initial_price: 1537.9, period_in_years: 0.08213552361396304\n",
      "        \n"
     ]
    }
   ],
   "source": [
    "print(optimal_option)"
   ]
  },
  {
   "cell_type": "code",
   "execution_count": 1278,
   "id": "e90b6dd0-7962-4523-8523-abf7de6bfe1e",
   "metadata": {},
   "outputs": [],
   "source": [
    "prices = np.array([price for price in range(500, 2500, 10 )])\n",
    "\n",
    "pure_usdc = np.array([uniswap_position.get_total_value(uniswap_position.initial_price) for _ in prices])"
   ]
  },
  {
   "cell_type": "code",
   "execution_count": 1279,
   "id": "ab9d69dc-acf6-4d0f-9ec9-2318642b7446",
   "metadata": {},
   "outputs": [
    {
     "data": {
      "text/plain": [
       "44.361587345472955"
      ]
     },
     "execution_count": 1279,
     "metadata": {},
     "output_type": "execute_result"
    }
   ],
   "source": [
    "optimal_option.initial_cost"
   ]
  },
  {
   "cell_type": "code",
   "execution_count": 1280,
   "id": "83e69910-e66a-4219-be92-556d1902b0fd",
   "metadata": {},
   "outputs": [],
   "source": [
    "# optimal_option.update_option_params(optimal_option.strike, 0.08215489751882832, optimal_option.amount)"
   ]
  },
  {
   "cell_type": "code",
   "execution_count": 1281,
   "id": "b24d0824-e4a0-4c01-9a57-0bd9c75c6b99",
   "metadata": {},
   "outputs": [],
   "source": [
    "uniswap_tvs = np.array([uniswap_position.get_total_value(price) for price in prices])\n",
    "option_pnls = optimal_option.calculate_hedged_position(prices)\n"
   ]
  },
  {
   "cell_type": "code",
   "execution_count": 1282,
   "id": "304456ac-caec-46d0-a3cd-66fdc30bbab5",
   "metadata": {},
   "outputs": [],
   "source": [
    "earned_fees = 0 # in usdc"
   ]
  },
  {
   "cell_type": "code",
   "execution_count": 1283,
   "id": "7cab6a00-ce8b-42d4-82fc-eec733747a08",
   "metadata": {},
   "outputs": [],
   "source": [
    "# pure_usdc"
   ]
  },
  {
   "cell_type": "code",
   "execution_count": 1284,
   "id": "411e6925-8420-44fc-b10f-7d38d82ae170",
   "metadata": {},
   "outputs": [],
   "source": [
    "# uniswap_tvs"
   ]
  },
  {
   "cell_type": "code",
   "execution_count": null,
   "id": "5a2dd72e-3731-4891-9c12-264199b266b2",
   "metadata": {},
   "outputs": [],
   "source": []
  },
  {
   "cell_type": "code",
   "execution_count": 1285,
   "id": "bc88d283-a1dd-4463-8f25-28f86e055032",
   "metadata": {
    "tags": []
   },
   "outputs": [
    {
     "data": {
      "application/vnd.plotly.v1+json": {
       "config": {
        "plotlyServerURL": "https://plot.ly"
       },
       "data": [
        {
         "mode": "lines",
         "name": "pure_usdc",
         "type": "scatter",
         "x": [
          500,
          510,
          520,
          530,
          540,
          550,
          560,
          570,
          580,
          590,
          600,
          610,
          620,
          630,
          640,
          650,
          660,
          670,
          680,
          690,
          700,
          710,
          720,
          730,
          740,
          750,
          760,
          770,
          780,
          790,
          800,
          810,
          820,
          830,
          840,
          850,
          860,
          870,
          880,
          890,
          900,
          910,
          920,
          930,
          940,
          950,
          960,
          970,
          980,
          990,
          1000,
          1010,
          1020,
          1030,
          1040,
          1050,
          1060,
          1070,
          1080,
          1090,
          1100,
          1110,
          1120,
          1130,
          1140,
          1150,
          1160,
          1170,
          1180,
          1190,
          1200,
          1210,
          1220,
          1230,
          1240,
          1250,
          1260,
          1270,
          1280,
          1290,
          1300,
          1310,
          1320,
          1330,
          1340,
          1350,
          1360,
          1370,
          1380,
          1390,
          1400,
          1410,
          1420,
          1430,
          1440,
          1450,
          1460,
          1470,
          1480,
          1490,
          1500,
          1510,
          1520,
          1530,
          1540,
          1550,
          1560,
          1570,
          1580,
          1590,
          1600,
          1610,
          1620,
          1630,
          1640,
          1650,
          1660,
          1670,
          1680,
          1690,
          1700,
          1710,
          1720,
          1730,
          1740,
          1750,
          1760,
          1770,
          1780,
          1790,
          1800,
          1810,
          1820,
          1830,
          1840,
          1850,
          1860,
          1870,
          1880,
          1890,
          1900,
          1910,
          1920,
          1930,
          1940,
          1950,
          1960,
          1970,
          1980,
          1990,
          2000,
          2010,
          2020,
          2030,
          2040,
          2050,
          2060,
          2070,
          2080,
          2090,
          2100,
          2110,
          2120,
          2130,
          2140,
          2150,
          2160,
          2170,
          2180,
          2190,
          2200,
          2210,
          2220,
          2230,
          2240,
          2250,
          2260,
          2270,
          2280,
          2290,
          2300,
          2310,
          2320,
          2330,
          2340,
          2350,
          2360,
          2370,
          2380,
          2390,
          2400,
          2410,
          2420,
          2430,
          2440,
          2450,
          2460,
          2470,
          2480,
          2490
         ],
         "y": [
          619.5088301482899,
          619.5088301482899,
          619.5088301482899,
          619.5088301482899,
          619.5088301482899,
          619.5088301482899,
          619.5088301482899,
          619.5088301482899,
          619.5088301482899,
          619.5088301482899,
          619.5088301482899,
          619.5088301482899,
          619.5088301482899,
          619.5088301482899,
          619.5088301482899,
          619.5088301482899,
          619.5088301482899,
          619.5088301482899,
          619.5088301482899,
          619.5088301482899,
          619.5088301482899,
          619.5088301482899,
          619.5088301482899,
          619.5088301482899,
          619.5088301482899,
          619.5088301482899,
          619.5088301482899,
          619.5088301482899,
          619.5088301482899,
          619.5088301482899,
          619.5088301482899,
          619.5088301482899,
          619.5088301482899,
          619.5088301482899,
          619.5088301482899,
          619.5088301482899,
          619.5088301482899,
          619.5088301482899,
          619.5088301482899,
          619.5088301482899,
          619.5088301482899,
          619.5088301482899,
          619.5088301482899,
          619.5088301482899,
          619.5088301482899,
          619.5088301482899,
          619.5088301482899,
          619.5088301482899,
          619.5088301482899,
          619.5088301482899,
          619.5088301482899,
          619.5088301482899,
          619.5088301482899,
          619.5088301482899,
          619.5088301482899,
          619.5088301482899,
          619.5088301482899,
          619.5088301482899,
          619.5088301482899,
          619.5088301482899,
          619.5088301482899,
          619.5088301482899,
          619.5088301482899,
          619.5088301482899,
          619.5088301482899,
          619.5088301482899,
          619.5088301482899,
          619.5088301482899,
          619.5088301482899,
          619.5088301482899,
          619.5088301482899,
          619.5088301482899,
          619.5088301482899,
          619.5088301482899,
          619.5088301482899,
          619.5088301482899,
          619.5088301482899,
          619.5088301482899,
          619.5088301482899,
          619.5088301482899,
          619.5088301482899,
          619.5088301482899,
          619.5088301482899,
          619.5088301482899,
          619.5088301482899,
          619.5088301482899,
          619.5088301482899,
          619.5088301482899,
          619.5088301482899,
          619.5088301482899,
          619.5088301482899,
          619.5088301482899,
          619.5088301482899,
          619.5088301482899,
          619.5088301482899,
          619.5088301482899,
          619.5088301482899,
          619.5088301482899,
          619.5088301482899,
          619.5088301482899,
          619.5088301482899,
          619.5088301482899,
          619.5088301482899,
          619.5088301482899,
          619.5088301482899,
          619.5088301482899,
          619.5088301482899,
          619.5088301482899,
          619.5088301482899,
          619.5088301482899,
          619.5088301482899,
          619.5088301482899,
          619.5088301482899,
          619.5088301482899,
          619.5088301482899,
          619.5088301482899,
          619.5088301482899,
          619.5088301482899,
          619.5088301482899,
          619.5088301482899,
          619.5088301482899,
          619.5088301482899,
          619.5088301482899,
          619.5088301482899,
          619.5088301482899,
          619.5088301482899,
          619.5088301482899,
          619.5088301482899,
          619.5088301482899,
          619.5088301482899,
          619.5088301482899,
          619.5088301482899,
          619.5088301482899,
          619.5088301482899,
          619.5088301482899,
          619.5088301482899,
          619.5088301482899,
          619.5088301482899,
          619.5088301482899,
          619.5088301482899,
          619.5088301482899,
          619.5088301482899,
          619.5088301482899,
          619.5088301482899,
          619.5088301482899,
          619.5088301482899,
          619.5088301482899,
          619.5088301482899,
          619.5088301482899,
          619.5088301482899,
          619.5088301482899,
          619.5088301482899,
          619.5088301482899,
          619.5088301482899,
          619.5088301482899,
          619.5088301482899,
          619.5088301482899,
          619.5088301482899,
          619.5088301482899,
          619.5088301482899,
          619.5088301482899,
          619.5088301482899,
          619.5088301482899,
          619.5088301482899,
          619.5088301482899,
          619.5088301482899,
          619.5088301482899,
          619.5088301482899,
          619.5088301482899,
          619.5088301482899,
          619.5088301482899,
          619.5088301482899,
          619.5088301482899,
          619.5088301482899,
          619.5088301482899,
          619.5088301482899,
          619.5088301482899,
          619.5088301482899,
          619.5088301482899,
          619.5088301482899,
          619.5088301482899,
          619.5088301482899,
          619.5088301482899,
          619.5088301482899,
          619.5088301482899,
          619.5088301482899,
          619.5088301482899,
          619.5088301482899,
          619.5088301482899,
          619.5088301482899,
          619.5088301482899,
          619.5088301482899,
          619.5088301482899,
          619.5088301482899,
          619.5088301482899,
          619.5088301482899,
          619.5088301482899,
          619.5088301482899,
          619.5088301482899,
          619.5088301482899
         ]
        },
        {
         "mode": "lines",
         "name": "uniswap_tvs + fees",
         "type": "scatter",
         "x": [
          500,
          510,
          520,
          530,
          540,
          550,
          560,
          570,
          580,
          590,
          600,
          610,
          620,
          630,
          640,
          650,
          660,
          670,
          680,
          690,
          700,
          710,
          720,
          730,
          740,
          750,
          760,
          770,
          780,
          790,
          800,
          810,
          820,
          830,
          840,
          850,
          860,
          870,
          880,
          890,
          900,
          910,
          920,
          930,
          940,
          950,
          960,
          970,
          980,
          990,
          1000,
          1010,
          1020,
          1030,
          1040,
          1050,
          1060,
          1070,
          1080,
          1090,
          1100,
          1110,
          1120,
          1130,
          1140,
          1150,
          1160,
          1170,
          1180,
          1190,
          1200,
          1210,
          1220,
          1230,
          1240,
          1250,
          1260,
          1270,
          1280,
          1290,
          1300,
          1310,
          1320,
          1330,
          1340,
          1350,
          1360,
          1370,
          1380,
          1390,
          1400,
          1410,
          1420,
          1430,
          1440,
          1450,
          1460,
          1470,
          1480,
          1490,
          1500,
          1510,
          1520,
          1530,
          1540,
          1550,
          1560,
          1570,
          1580,
          1590,
          1600,
          1610,
          1620,
          1630,
          1640,
          1650,
          1660,
          1670,
          1680,
          1690,
          1700,
          1710,
          1720,
          1730,
          1740,
          1750,
          1760,
          1770,
          1780,
          1790,
          1800,
          1810,
          1820,
          1830,
          1840,
          1850,
          1860,
          1870,
          1880,
          1890,
          1900,
          1910,
          1920,
          1930,
          1940,
          1950,
          1960,
          1970,
          1980,
          1990,
          2000,
          2010,
          2020,
          2030,
          2040,
          2050,
          2060,
          2070,
          2080,
          2090,
          2100,
          2110,
          2120,
          2130,
          2140,
          2150,
          2160,
          2170,
          2180,
          2190,
          2200,
          2210,
          2220,
          2230,
          2240,
          2250,
          2260,
          2270,
          2280,
          2290,
          2300,
          2310,
          2320,
          2330,
          2340,
          2350,
          2360,
          2370,
          2380,
          2390,
          2400,
          2410,
          2420,
          2430,
          2440,
          2450,
          2460,
          2470,
          2480,
          2490
         ],
         "y": [
          206.1047149788456,
          210.22680927842254,
          214.34890357799944,
          218.47099787757634,
          222.59309217715327,
          226.71518647673017,
          230.8372807763071,
          234.959375075884,
          239.0814693754609,
          243.20356367503783,
          247.32565797461473,
          251.44775227419166,
          255.56984657376856,
          259.69194087334546,
          263.8140351729224,
          267.9361294724993,
          272.0582237720762,
          276.1803180716531,
          280.30241237123005,
          284.4245066708069,
          288.54660097038385,
          292.6686952699608,
          296.79078956953765,
          300.9128838691146,
          305.0349781686915,
          309.15707246826844,
          313.2791667678453,
          317.40126106742224,
          321.52335536699917,
          325.64544966657604,
          329.76754396615297,
          333.8896382657299,
          338.0117325653068,
          342.1338268648837,
          346.25592116446063,
          350.37801546403756,
          354.50010976361443,
          358.62220406319136,
          362.7442983627683,
          366.86639266234516,
          370.9884869619221,
          375.110581261499,
          379.23267556107595,
          383.3547698606528,
          387.47686416022975,
          391.5989584598067,
          395.72105275938355,
          399.8431470589605,
          403.9652413585374,
          408.0873356581143,
          412.2094299576912,
          416.33152425726814,
          420.4536185568451,
          424.57571285642194,
          428.6978071559989,
          432.8199014555758,
          436.9419957551527,
          441.0640900547296,
          445.18618435430653,
          449.3082786538834,
          453.43037295346033,
          457.55246725303726,
          461.6745615526142,
          465.79665585219107,
          469.918750151768,
          474.0408444513449,
          478.1629387509218,
          482.2850330504987,
          486.40712735007565,
          490.5292216496525,
          494.65131594922946,
          498.7734102488064,
          502.8955045483833,
          507.0175988479602,
          511.1396931475371,
          515.261787447114,
          519.3838817466909,
          523.5059760462678,
          527.6280703458448,
          531.7501646454217,
          535.8722589449986,
          539.9943532445754,
          544.1164475441524,
          548.2385418437293,
          552.3606361433062,
          556.4827304428832,
          560.6048247424601,
          564.726919042037,
          568.8490133416138,
          572.9711076411908,
          577.0932019407677,
          581.1360147457409,
          585.021386148467,
          588.7509763652556,
          592.3264166376864,
          595.7493099356551,
          599.0212316386367,
          602.1437301959868,
          605.1183277670635,
          607.9465208419177,
          610.6297808432686,
          613.1695547104498,
          615.5672654659811,
          617.8243127653936,
          619.9420734309101,
          621.9219019695545,
          623.7651310762446,
          625.4730721223938,
          627.047015630532,
          628.4882317354281,
          629.797970632183,
          630.977463011739,
          632.0279204842352,
          632.9505359906203,
          633.7464842029202,
          634.4169219135379,
          634.9629884139518,
          635.3858058631652,
          635.6864796462394,
          635.8660987232391,
          635.9257359688995,
          635.9257359688995,
          635.9257359688995,
          635.9257359688995,
          635.9257359688995,
          635.9257359688995,
          635.9257359688995,
          635.9257359688995,
          635.9257359688995,
          635.9257359688995,
          635.9257359688995,
          635.9257359688995,
          635.9257359688995,
          635.9257359688995,
          635.9257359688995,
          635.9257359688995,
          635.9257359688995,
          635.9257359688995,
          635.9257359688995,
          635.9257359688995,
          635.9257359688995,
          635.9257359688995,
          635.9257359688995,
          635.9257359688995,
          635.9257359688995,
          635.9257359688995,
          635.9257359688995,
          635.9257359688995,
          635.9257359688995,
          635.9257359688995,
          635.9257359688995,
          635.9257359688995,
          635.9257359688995,
          635.9257359688995,
          635.9257359688995,
          635.9257359688995,
          635.9257359688995,
          635.9257359688995,
          635.9257359688995,
          635.9257359688995,
          635.9257359688995,
          635.9257359688995,
          635.9257359688995,
          635.9257359688995,
          635.9257359688995,
          635.9257359688995,
          635.9257359688995,
          635.9257359688995,
          635.9257359688995,
          635.9257359688995,
          635.9257359688995,
          635.9257359688995,
          635.9257359688995,
          635.9257359688995,
          635.9257359688995,
          635.9257359688995,
          635.9257359688995,
          635.9257359688995,
          635.9257359688995,
          635.9257359688995,
          635.9257359688995,
          635.9257359688995,
          635.9257359688995,
          635.9257359688995,
          635.9257359688995,
          635.9257359688995,
          635.9257359688995,
          635.9257359688995,
          635.9257359688995,
          635.9257359688995,
          635.9257359688995,
          635.9257359688995,
          635.9257359688995,
          635.9257359688995,
          635.9257359688995,
          635.9257359688995,
          635.9257359688995,
          635.9257359688995,
          635.9257359688995,
          635.9257359688995
         ]
        },
        {
         "mode": "lines",
         "name": "option_pnls",
         "type": "scatter",
         "x": [
          500,
          510,
          520,
          530,
          540,
          550,
          560,
          570,
          580,
          590,
          600,
          610,
          620,
          630,
          640,
          650,
          660,
          670,
          680,
          690,
          700,
          710,
          720,
          730,
          740,
          750,
          760,
          770,
          780,
          790,
          800,
          810,
          820,
          830,
          840,
          850,
          860,
          870,
          880,
          890,
          900,
          910,
          920,
          930,
          940,
          950,
          960,
          970,
          980,
          990,
          1000,
          1010,
          1020,
          1030,
          1040,
          1050,
          1060,
          1070,
          1080,
          1090,
          1100,
          1110,
          1120,
          1130,
          1140,
          1150,
          1160,
          1170,
          1180,
          1190,
          1200,
          1210,
          1220,
          1230,
          1240,
          1250,
          1260,
          1270,
          1280,
          1290,
          1300,
          1310,
          1320,
          1330,
          1340,
          1350,
          1360,
          1370,
          1380,
          1390,
          1400,
          1410,
          1420,
          1430,
          1440,
          1450,
          1460,
          1470,
          1480,
          1490,
          1500,
          1510,
          1520,
          1530,
          1540,
          1550,
          1560,
          1570,
          1580,
          1590,
          1600,
          1610,
          1620,
          1630,
          1640,
          1650,
          1660,
          1670,
          1680,
          1690,
          1700,
          1710,
          1720,
          1730,
          1740,
          1750,
          1760,
          1770,
          1780,
          1790,
          1800,
          1810,
          1820,
          1830,
          1840,
          1850,
          1860,
          1870,
          1880,
          1890,
          1900,
          1910,
          1920,
          1930,
          1940,
          1950,
          1960,
          1970,
          1980,
          1990,
          2000,
          2010,
          2020,
          2030,
          2040,
          2050,
          2060,
          2070,
          2080,
          2090,
          2100,
          2110,
          2120,
          2130,
          2140,
          2150,
          2160,
          2170,
          2180,
          2190,
          2200,
          2210,
          2220,
          2230,
          2240,
          2250,
          2260,
          2270,
          2280,
          2290,
          2300,
          2310,
          2320,
          2330,
          2340,
          2350,
          2360,
          2370,
          2380,
          2390,
          2400,
          2410,
          2420,
          2430,
          2440,
          2450,
          2460,
          2470,
          2480,
          2490
         ],
         "y": [
          438.567548116523,
          433.7377982016399,
          428.90804828675687,
          424.07829837187376,
          419.24854845699065,
          414.41879854210754,
          409.5890486272245,
          404.7592987123414,
          399.92954879745827,
          395.0997988825752,
          390.2700489676921,
          385.440299052809,
          380.6105491379259,
          375.78079922304283,
          370.9510493081597,
          366.1212993932766,
          361.2915494783935,
          356.46179956351045,
          351.63204964862734,
          346.80229973374423,
          341.9725498188612,
          337.1427999039781,
          332.31304998909496,
          327.48330007421185,
          322.6535501593288,
          317.8238002444457,
          312.9940503295626,
          308.16430041467953,
          303.3345504997964,
          298.5048005849133,
          293.6750506700302,
          288.84530075514715,
          284.01555084026404,
          279.18580092538093,
          274.3560510104978,
          269.52630109561477,
          264.69655118073166,
          259.86680126584855,
          255.0370513509655,
          250.2073014360824,
          245.37755152119928,
          240.54780160631617,
          235.71805169143312,
          230.88830177655,
          226.0585518616669,
          221.22880194678385,
          216.39905203190074,
          211.56930211701763,
          206.73955220213458,
          201.90980228725147,
          197.08005237236836,
          192.25030245748525,
          187.4205525426022,
          182.59080262771909,
          177.76105271283598,
          172.93130279795292,
          168.10155288306981,
          163.2718029681867,
          158.4420530533036,
          153.61230313842054,
          148.78255322353743,
          143.95280330865432,
          139.12305339377122,
          134.29330347888816,
          129.46355356400505,
          124.63380364912196,
          119.80405373423888,
          114.97430381935577,
          110.14455390447269,
          105.31480398958958,
          100.48505407470658,
          95.65530415982396,
          90.82555424494403,
          85.99580433008036,
          81.1660544153088,
          76.33630450102535,
          71.50655458916066,
          66.6768046885091,
          61.84705483649792,
          57.01730518195615,
          52.187556277894714,
          47.357810044524584,
          42.52807271270653,
          37.69836317693856,
          32.868734980066804,
          28.039329903346953,
          23.210498727846,
          18.383052173196113,
          13.558740077425853,
          8.741088070060066,
          3.9367233384816203,
          -0.8427420214216568,
          -5.578364371113231,
          -10.241419577422704,
          -14.791526250940652,
          -19.176246324733427,
          -23.33304639101496,
          -27.19410297353992,
          -30.693673457612665,
          -33.776845017537035,
          -36.40777360744384,
          -38.57537735536063,
          -40.29499683299003,
          -41.6056196899575,
          -42.563484296081015,
          -43.23376793416561,
          -43.68233521143249,
          -43.96916036377341,
          -44.144280311611794,
          -44.24632180532463,
          -44.303051070839885,
          -44.333136329833074,
          -44.34835562937478,
          -44.35569993744722,
          -44.359081205692526,
          -44.36056669232319,
          -44.361189612153936,
          -44.361439017619766,
          -44.361534394979586,
          -44.36156924648888,
          -44.361581420125745,
          -44.36158548679839,
          -44.36158678662793,
          -44.36158718434935,
          -44.361587300907615,
          -44.36158733364228,
          -44.36158734245719,
          -44.36158734473433,
          -44.36158734529901,
          -44.361587345433534,
          -44.361587345464386,
          -44.36158734547109,
          -44.36158734547263,
          -44.36158734547285,
          -44.361587345472955,
          -44.361587345472955,
          -44.361587345472955,
          -44.361587345472955,
          -44.361587345472955,
          -44.361587345472955,
          -44.361587345472955,
          -44.361587345472955,
          -44.361587345472955,
          -44.361587345472955,
          -44.361587345472955,
          -44.361587345472955,
          -44.361587345472955,
          -44.361587345472955,
          -44.361587345472955,
          -44.361587345472955,
          -44.361587345472955,
          -44.361587345472955,
          -44.361587345472955,
          -44.361587345472955,
          -44.361587345472955,
          -44.361587345472955,
          -44.361587345472955,
          -44.361587345472955,
          -44.361587345472955,
          -44.361587345472955,
          -44.361587345472955,
          -44.361587345472955,
          -44.361587345472955,
          -44.361587345472955,
          -44.361587345472955,
          -44.361587345472955,
          -44.361587345472955,
          -44.361587345472955,
          -44.361587345472955,
          -44.361587345472955,
          -44.361587345472955,
          -44.361587345472955,
          -44.361587345472955,
          -44.361587345472955,
          -44.361587345472955,
          -44.361587345472955,
          -44.361587345472955,
          -44.361587345472955,
          -44.361587345472955,
          -44.361587345472955,
          -44.361587345472955,
          -44.361587345472955,
          -44.361587345472955,
          -44.361587345472955,
          -44.361587345472955,
          -44.361587345472955,
          -44.361587345472955,
          -44.361587345472955,
          -44.361587345472955,
          -44.361587345472955,
          -44.361587345472955,
          -44.361587345472955,
          -44.361587345472955,
          -44.361587345472955,
          -44.361587345472955,
          -44.361587345472955,
          -44.361587345472955,
          -44.361587345472955,
          -44.361587345472955,
          -44.361587345472955
         ]
        },
        {
         "mode": "lines",
         "name": "uniswap_tvs + option_pnls + fees",
         "type": "scatter",
         "x": [
          500,
          510,
          520,
          530,
          540,
          550,
          560,
          570,
          580,
          590,
          600,
          610,
          620,
          630,
          640,
          650,
          660,
          670,
          680,
          690,
          700,
          710,
          720,
          730,
          740,
          750,
          760,
          770,
          780,
          790,
          800,
          810,
          820,
          830,
          840,
          850,
          860,
          870,
          880,
          890,
          900,
          910,
          920,
          930,
          940,
          950,
          960,
          970,
          980,
          990,
          1000,
          1010,
          1020,
          1030,
          1040,
          1050,
          1060,
          1070,
          1080,
          1090,
          1100,
          1110,
          1120,
          1130,
          1140,
          1150,
          1160,
          1170,
          1180,
          1190,
          1200,
          1210,
          1220,
          1230,
          1240,
          1250,
          1260,
          1270,
          1280,
          1290,
          1300,
          1310,
          1320,
          1330,
          1340,
          1350,
          1360,
          1370,
          1380,
          1390,
          1400,
          1410,
          1420,
          1430,
          1440,
          1450,
          1460,
          1470,
          1480,
          1490,
          1500,
          1510,
          1520,
          1530,
          1540,
          1550,
          1560,
          1570,
          1580,
          1590,
          1600,
          1610,
          1620,
          1630,
          1640,
          1650,
          1660,
          1670,
          1680,
          1690,
          1700,
          1710,
          1720,
          1730,
          1740,
          1750,
          1760,
          1770,
          1780,
          1790,
          1800,
          1810,
          1820,
          1830,
          1840,
          1850,
          1860,
          1870,
          1880,
          1890,
          1900,
          1910,
          1920,
          1930,
          1940,
          1950,
          1960,
          1970,
          1980,
          1990,
          2000,
          2010,
          2020,
          2030,
          2040,
          2050,
          2060,
          2070,
          2080,
          2090,
          2100,
          2110,
          2120,
          2130,
          2140,
          2150,
          2160,
          2170,
          2180,
          2190,
          2200,
          2210,
          2220,
          2230,
          2240,
          2250,
          2260,
          2270,
          2280,
          2290,
          2300,
          2310,
          2320,
          2330,
          2340,
          2350,
          2360,
          2370,
          2380,
          2390,
          2400,
          2410,
          2420,
          2430,
          2440,
          2450,
          2460,
          2470,
          2480,
          2490
         ],
         "y": [
          644.6722630953686,
          643.9646074800625,
          643.2569518647563,
          642.5492962494501,
          641.8416406341439,
          641.1339850188377,
          640.4263294035316,
          639.7186737882254,
          639.0110181729192,
          638.303362557613,
          637.5957069423068,
          636.8880513270007,
          636.1803957116945,
          635.4727400963883,
          634.7650844810821,
          634.0574288657759,
          633.3497732504698,
          632.6421176351636,
          631.9344620198574,
          631.2268064045511,
          630.519150789245,
          629.8114951739389,
          629.1038395586327,
          628.3961839433264,
          627.6885283280203,
          626.9808727127141,
          626.273217097408,
          625.5655614821018,
          624.8579058667956,
          624.1502502514893,
          623.4425946361832,
          622.734939020877,
          622.0272834055709,
          621.3196277902646,
          620.6119721749585,
          619.9043165596523,
          619.1966609443461,
          618.4890053290399,
          617.7813497137338,
          617.0736940984275,
          616.3660384831214,
          615.6583828678151,
          614.9507272525091,
          614.2430716372028,
          613.5354160218967,
          612.8277604065905,
          612.1201047912843,
          611.412449175978,
          610.704793560672,
          609.9971379453657,
          609.2894823300596,
          608.5818267147533,
          607.8741710994473,
          607.166515484141,
          606.4588598688349,
          605.7512042535287,
          605.0435486382225,
          604.3358930229163,
          603.6282374076102,
          602.9205817923039,
          602.2129261769978,
          601.5052705616915,
          600.7976149463855,
          600.0899593310792,
          599.3823037157731,
          598.6746481004669,
          597.9669924851606,
          597.2593368698545,
          596.5516812545484,
          595.8440256392421,
          595.136370023936,
          594.4287144086303,
          593.7210587933273,
          593.0134031780406,
          592.3057475628459,
          591.5980919481393,
          590.8904363358515,
          590.182780734777,
          589.4751251823427,
          588.7674698273779,
          588.0598152228933,
          587.3521632891001,
          586.6445202568589,
          585.9369050206678,
          585.2293711233731,
          584.5220603462301,
          583.8153234703061,
          583.1099712152331,
          582.4077534190396,
          581.7121957112508,
          581.0299252792494,
          580.2932727243192,
          579.4430217773537,
          578.5095567878329,
          577.5348903867457,
          576.5730636109217,
          575.6881852476217,
          574.9496272224469,
          574.4246543094508,
          574.1696758243806,
          574.2220072358248,
          574.5941773550892,
          575.2722686329911,
          576.2186930754361,
          577.3785891348291,
          578.6881340353889,
          580.0827958648122,
          581.5039117586203,
          582.9027353189201,
          584.2419099301035,
          585.4949195613432,
          586.6443266819059,
          587.6795648548605,
          588.5948360531731,
          589.3874029972277,
          590.0563552212146,
          590.6017988017979,
          591.0243668455454,
          591.3249452512598,
          591.5045294767502,
          591.5641545487738,
          591.5641504821011,
          591.5641491822715,
          591.5641487845502,
          591.564148667992,
          591.5641486352572,
          591.5641486264424,
          591.5641486241652,
          591.5641486236005,
          591.5641486234659,
          591.5641486234351,
          591.5641486234284,
          591.564148623427,
          591.5641486234267,
          591.5641486234266,
          591.5641486234266,
          591.5641486234266,
          591.5641486234266,
          591.5641486234266,
          591.5641486234266,
          591.5641486234266,
          591.5641486234266,
          591.5641486234266,
          591.5641486234266,
          591.5641486234266,
          591.5641486234266,
          591.5641486234266,
          591.5641486234266,
          591.5641486234266,
          591.5641486234266,
          591.5641486234266,
          591.5641486234266,
          591.5641486234266,
          591.5641486234266,
          591.5641486234266,
          591.5641486234266,
          591.5641486234266,
          591.5641486234266,
          591.5641486234266,
          591.5641486234266,
          591.5641486234266,
          591.5641486234266,
          591.5641486234266,
          591.5641486234266,
          591.5641486234266,
          591.5641486234266,
          591.5641486234266,
          591.5641486234266,
          591.5641486234266,
          591.5641486234266,
          591.5641486234266,
          591.5641486234266,
          591.5641486234266,
          591.5641486234266,
          591.5641486234266,
          591.5641486234266,
          591.5641486234266,
          591.5641486234266,
          591.5641486234266,
          591.5641486234266,
          591.5641486234266,
          591.5641486234266,
          591.5641486234266,
          591.5641486234266,
          591.5641486234266,
          591.5641486234266,
          591.5641486234266,
          591.5641486234266,
          591.5641486234266,
          591.5641486234266,
          591.5641486234266,
          591.5641486234266,
          591.5641486234266,
          591.5641486234266,
          591.5641486234266,
          591.5641486234266,
          591.5641486234266,
          591.5641486234266,
          591.5641486234266,
          591.5641486234266
         ]
        }
       ],
       "layout": {
        "autosize": false,
        "height": 500,
        "template": {
         "data": {
          "bar": [
           {
            "error_x": {
             "color": "#2a3f5f"
            },
            "error_y": {
             "color": "#2a3f5f"
            },
            "marker": {
             "line": {
              "color": "#E5ECF6",
              "width": 0.5
             },
             "pattern": {
              "fillmode": "overlay",
              "size": 10,
              "solidity": 0.2
             }
            },
            "type": "bar"
           }
          ],
          "barpolar": [
           {
            "marker": {
             "line": {
              "color": "#E5ECF6",
              "width": 0.5
             },
             "pattern": {
              "fillmode": "overlay",
              "size": 10,
              "solidity": 0.2
             }
            },
            "type": "barpolar"
           }
          ],
          "carpet": [
           {
            "aaxis": {
             "endlinecolor": "#2a3f5f",
             "gridcolor": "white",
             "linecolor": "white",
             "minorgridcolor": "white",
             "startlinecolor": "#2a3f5f"
            },
            "baxis": {
             "endlinecolor": "#2a3f5f",
             "gridcolor": "white",
             "linecolor": "white",
             "minorgridcolor": "white",
             "startlinecolor": "#2a3f5f"
            },
            "type": "carpet"
           }
          ],
          "choropleth": [
           {
            "colorbar": {
             "outlinewidth": 0,
             "ticks": ""
            },
            "type": "choropleth"
           }
          ],
          "contour": [
           {
            "colorbar": {
             "outlinewidth": 0,
             "ticks": ""
            },
            "colorscale": [
             [
              0,
              "#0d0887"
             ],
             [
              0.1111111111111111,
              "#46039f"
             ],
             [
              0.2222222222222222,
              "#7201a8"
             ],
             [
              0.3333333333333333,
              "#9c179e"
             ],
             [
              0.4444444444444444,
              "#bd3786"
             ],
             [
              0.5555555555555556,
              "#d8576b"
             ],
             [
              0.6666666666666666,
              "#ed7953"
             ],
             [
              0.7777777777777778,
              "#fb9f3a"
             ],
             [
              0.8888888888888888,
              "#fdca26"
             ],
             [
              1,
              "#f0f921"
             ]
            ],
            "type": "contour"
           }
          ],
          "contourcarpet": [
           {
            "colorbar": {
             "outlinewidth": 0,
             "ticks": ""
            },
            "type": "contourcarpet"
           }
          ],
          "heatmap": [
           {
            "colorbar": {
             "outlinewidth": 0,
             "ticks": ""
            },
            "colorscale": [
             [
              0,
              "#0d0887"
             ],
             [
              0.1111111111111111,
              "#46039f"
             ],
             [
              0.2222222222222222,
              "#7201a8"
             ],
             [
              0.3333333333333333,
              "#9c179e"
             ],
             [
              0.4444444444444444,
              "#bd3786"
             ],
             [
              0.5555555555555556,
              "#d8576b"
             ],
             [
              0.6666666666666666,
              "#ed7953"
             ],
             [
              0.7777777777777778,
              "#fb9f3a"
             ],
             [
              0.8888888888888888,
              "#fdca26"
             ],
             [
              1,
              "#f0f921"
             ]
            ],
            "type": "heatmap"
           }
          ],
          "heatmapgl": [
           {
            "colorbar": {
             "outlinewidth": 0,
             "ticks": ""
            },
            "colorscale": [
             [
              0,
              "#0d0887"
             ],
             [
              0.1111111111111111,
              "#46039f"
             ],
             [
              0.2222222222222222,
              "#7201a8"
             ],
             [
              0.3333333333333333,
              "#9c179e"
             ],
             [
              0.4444444444444444,
              "#bd3786"
             ],
             [
              0.5555555555555556,
              "#d8576b"
             ],
             [
              0.6666666666666666,
              "#ed7953"
             ],
             [
              0.7777777777777778,
              "#fb9f3a"
             ],
             [
              0.8888888888888888,
              "#fdca26"
             ],
             [
              1,
              "#f0f921"
             ]
            ],
            "type": "heatmapgl"
           }
          ],
          "histogram": [
           {
            "marker": {
             "pattern": {
              "fillmode": "overlay",
              "size": 10,
              "solidity": 0.2
             }
            },
            "type": "histogram"
           }
          ],
          "histogram2d": [
           {
            "colorbar": {
             "outlinewidth": 0,
             "ticks": ""
            },
            "colorscale": [
             [
              0,
              "#0d0887"
             ],
             [
              0.1111111111111111,
              "#46039f"
             ],
             [
              0.2222222222222222,
              "#7201a8"
             ],
             [
              0.3333333333333333,
              "#9c179e"
             ],
             [
              0.4444444444444444,
              "#bd3786"
             ],
             [
              0.5555555555555556,
              "#d8576b"
             ],
             [
              0.6666666666666666,
              "#ed7953"
             ],
             [
              0.7777777777777778,
              "#fb9f3a"
             ],
             [
              0.8888888888888888,
              "#fdca26"
             ],
             [
              1,
              "#f0f921"
             ]
            ],
            "type": "histogram2d"
           }
          ],
          "histogram2dcontour": [
           {
            "colorbar": {
             "outlinewidth": 0,
             "ticks": ""
            },
            "colorscale": [
             [
              0,
              "#0d0887"
             ],
             [
              0.1111111111111111,
              "#46039f"
             ],
             [
              0.2222222222222222,
              "#7201a8"
             ],
             [
              0.3333333333333333,
              "#9c179e"
             ],
             [
              0.4444444444444444,
              "#bd3786"
             ],
             [
              0.5555555555555556,
              "#d8576b"
             ],
             [
              0.6666666666666666,
              "#ed7953"
             ],
             [
              0.7777777777777778,
              "#fb9f3a"
             ],
             [
              0.8888888888888888,
              "#fdca26"
             ],
             [
              1,
              "#f0f921"
             ]
            ],
            "type": "histogram2dcontour"
           }
          ],
          "mesh3d": [
           {
            "colorbar": {
             "outlinewidth": 0,
             "ticks": ""
            },
            "type": "mesh3d"
           }
          ],
          "parcoords": [
           {
            "line": {
             "colorbar": {
              "outlinewidth": 0,
              "ticks": ""
             }
            },
            "type": "parcoords"
           }
          ],
          "pie": [
           {
            "automargin": true,
            "type": "pie"
           }
          ],
          "scatter": [
           {
            "fillpattern": {
             "fillmode": "overlay",
             "size": 10,
             "solidity": 0.2
            },
            "type": "scatter"
           }
          ],
          "scatter3d": [
           {
            "line": {
             "colorbar": {
              "outlinewidth": 0,
              "ticks": ""
             }
            },
            "marker": {
             "colorbar": {
              "outlinewidth": 0,
              "ticks": ""
             }
            },
            "type": "scatter3d"
           }
          ],
          "scattercarpet": [
           {
            "marker": {
             "colorbar": {
              "outlinewidth": 0,
              "ticks": ""
             }
            },
            "type": "scattercarpet"
           }
          ],
          "scattergeo": [
           {
            "marker": {
             "colorbar": {
              "outlinewidth": 0,
              "ticks": ""
             }
            },
            "type": "scattergeo"
           }
          ],
          "scattergl": [
           {
            "marker": {
             "colorbar": {
              "outlinewidth": 0,
              "ticks": ""
             }
            },
            "type": "scattergl"
           }
          ],
          "scattermapbox": [
           {
            "marker": {
             "colorbar": {
              "outlinewidth": 0,
              "ticks": ""
             }
            },
            "type": "scattermapbox"
           }
          ],
          "scatterpolar": [
           {
            "marker": {
             "colorbar": {
              "outlinewidth": 0,
              "ticks": ""
             }
            },
            "type": "scatterpolar"
           }
          ],
          "scatterpolargl": [
           {
            "marker": {
             "colorbar": {
              "outlinewidth": 0,
              "ticks": ""
             }
            },
            "type": "scatterpolargl"
           }
          ],
          "scatterternary": [
           {
            "marker": {
             "colorbar": {
              "outlinewidth": 0,
              "ticks": ""
             }
            },
            "type": "scatterternary"
           }
          ],
          "surface": [
           {
            "colorbar": {
             "outlinewidth": 0,
             "ticks": ""
            },
            "colorscale": [
             [
              0,
              "#0d0887"
             ],
             [
              0.1111111111111111,
              "#46039f"
             ],
             [
              0.2222222222222222,
              "#7201a8"
             ],
             [
              0.3333333333333333,
              "#9c179e"
             ],
             [
              0.4444444444444444,
              "#bd3786"
             ],
             [
              0.5555555555555556,
              "#d8576b"
             ],
             [
              0.6666666666666666,
              "#ed7953"
             ],
             [
              0.7777777777777778,
              "#fb9f3a"
             ],
             [
              0.8888888888888888,
              "#fdca26"
             ],
             [
              1,
              "#f0f921"
             ]
            ],
            "type": "surface"
           }
          ],
          "table": [
           {
            "cells": {
             "fill": {
              "color": "#EBF0F8"
             },
             "line": {
              "color": "white"
             }
            },
            "header": {
             "fill": {
              "color": "#C8D4E3"
             },
             "line": {
              "color": "white"
             }
            },
            "type": "table"
           }
          ]
         },
         "layout": {
          "annotationdefaults": {
           "arrowcolor": "#2a3f5f",
           "arrowhead": 0,
           "arrowwidth": 1
          },
          "autotypenumbers": "strict",
          "coloraxis": {
           "colorbar": {
            "outlinewidth": 0,
            "ticks": ""
           }
          },
          "colorscale": {
           "diverging": [
            [
             0,
             "#8e0152"
            ],
            [
             0.1,
             "#c51b7d"
            ],
            [
             0.2,
             "#de77ae"
            ],
            [
             0.3,
             "#f1b6da"
            ],
            [
             0.4,
             "#fde0ef"
            ],
            [
             0.5,
             "#f7f7f7"
            ],
            [
             0.6,
             "#e6f5d0"
            ],
            [
             0.7,
             "#b8e186"
            ],
            [
             0.8,
             "#7fbc41"
            ],
            [
             0.9,
             "#4d9221"
            ],
            [
             1,
             "#276419"
            ]
           ],
           "sequential": [
            [
             0,
             "#0d0887"
            ],
            [
             0.1111111111111111,
             "#46039f"
            ],
            [
             0.2222222222222222,
             "#7201a8"
            ],
            [
             0.3333333333333333,
             "#9c179e"
            ],
            [
             0.4444444444444444,
             "#bd3786"
            ],
            [
             0.5555555555555556,
             "#d8576b"
            ],
            [
             0.6666666666666666,
             "#ed7953"
            ],
            [
             0.7777777777777778,
             "#fb9f3a"
            ],
            [
             0.8888888888888888,
             "#fdca26"
            ],
            [
             1,
             "#f0f921"
            ]
           ],
           "sequentialminus": [
            [
             0,
             "#0d0887"
            ],
            [
             0.1111111111111111,
             "#46039f"
            ],
            [
             0.2222222222222222,
             "#7201a8"
            ],
            [
             0.3333333333333333,
             "#9c179e"
            ],
            [
             0.4444444444444444,
             "#bd3786"
            ],
            [
             0.5555555555555556,
             "#d8576b"
            ],
            [
             0.6666666666666666,
             "#ed7953"
            ],
            [
             0.7777777777777778,
             "#fb9f3a"
            ],
            [
             0.8888888888888888,
             "#fdca26"
            ],
            [
             1,
             "#f0f921"
            ]
           ]
          },
          "colorway": [
           "#636efa",
           "#EF553B",
           "#00cc96",
           "#ab63fa",
           "#FFA15A",
           "#19d3f3",
           "#FF6692",
           "#B6E880",
           "#FF97FF",
           "#FECB52"
          ],
          "font": {
           "color": "#2a3f5f"
          },
          "geo": {
           "bgcolor": "white",
           "lakecolor": "white",
           "landcolor": "#E5ECF6",
           "showlakes": true,
           "showland": true,
           "subunitcolor": "white"
          },
          "hoverlabel": {
           "align": "left"
          },
          "hovermode": "closest",
          "mapbox": {
           "style": "light"
          },
          "paper_bgcolor": "white",
          "plot_bgcolor": "#E5ECF6",
          "polar": {
           "angularaxis": {
            "gridcolor": "white",
            "linecolor": "white",
            "ticks": ""
           },
           "bgcolor": "#E5ECF6",
           "radialaxis": {
            "gridcolor": "white",
            "linecolor": "white",
            "ticks": ""
           }
          },
          "scene": {
           "xaxis": {
            "backgroundcolor": "#E5ECF6",
            "gridcolor": "white",
            "gridwidth": 2,
            "linecolor": "white",
            "showbackground": true,
            "ticks": "",
            "zerolinecolor": "white"
           },
           "yaxis": {
            "backgroundcolor": "#E5ECF6",
            "gridcolor": "white",
            "gridwidth": 2,
            "linecolor": "white",
            "showbackground": true,
            "ticks": "",
            "zerolinecolor": "white"
           },
           "zaxis": {
            "backgroundcolor": "#E5ECF6",
            "gridcolor": "white",
            "gridwidth": 2,
            "linecolor": "white",
            "showbackground": true,
            "ticks": "",
            "zerolinecolor": "white"
           }
          },
          "shapedefaults": {
           "line": {
            "color": "#2a3f5f"
           }
          },
          "ternary": {
           "aaxis": {
            "gridcolor": "white",
            "linecolor": "white",
            "ticks": ""
           },
           "baxis": {
            "gridcolor": "white",
            "linecolor": "white",
            "ticks": ""
           },
           "bgcolor": "#E5ECF6",
           "caxis": {
            "gridcolor": "white",
            "linecolor": "white",
            "ticks": ""
           }
          },
          "title": {
           "x": 0.05
          },
          "xaxis": {
           "automargin": true,
           "gridcolor": "white",
           "linecolor": "white",
           "ticks": "",
           "title": {
            "standoff": 15
           },
           "zerolinecolor": "white",
           "zerolinewidth": 2
          },
          "yaxis": {
           "automargin": true,
           "gridcolor": "white",
           "linecolor": "white",
           "ticks": "",
           "title": {
            "standoff": 15
           },
           "zerolinecolor": "white",
           "zerolinewidth": 2
          }
         }
        },
        "title": {
         "text": "strike: 1499.905, expiration: 0.08407759728820768, amount: 0.483 (years), fees: 0$"
        },
        "width": 900,
        "xaxis": {
         "autorange": true,
         "range": [
          500,
          2490
         ],
         "type": "linear"
        },
        "yaxis": {
         "autorange": true,
         "range": [
          -82.64124570329749,
          682.9519214531931
         ],
         "type": "linear"
        }
       }
      },
      "image/png": "[encoded data removed]",
      "text/html": [
       "<div>                            <div id=\"3f53755b-585c-4b6c-979b-66a4f4cf6495\" class=\"plotly-graph-div\" style=\"height:500px; width:900px;\"></div>            <script type=\"text/javascript\">                require([\"plotly\"], function(Plotly) {                    window.PLOTLYENV=window.PLOTLYENV || {};                                    if (document.getElementById(\"3f53755b-585c-4b6c-979b-66a4f4cf6495\")) {                    Plotly.newPlot(                        \"3f53755b-585c-4b6c-979b-66a4f4cf6495\",                        [{\"mode\":\"lines\",\"name\":\"pure_usdc\",\"x\":[500,510,520,530,540,550,560,570,580,590,600,610,620,630,640,650,660,670,680,690,700,710,720,730,740,750,760,770,780,790,800,810,820,830,840,850,860,870,880,890,900,910,920,930,940,950,960,970,980,990,1000,1010,1020,1030,1040,1050,1060,1070,1080,1090,1100,1110,1120,1130,1140,1150,1160,1170,1180,1190,1200,1210,1220,1230,1240,1250,1260,1270,1280,1290,1300,1310,1320,1330,1340,1350,1360,1370,1380,1390,1400,1410,1420,1430,1440,1450,1460,1470,1480,1490,1500,1510,1520,1530,1540,1550,1560,1570,1580,1590,1600,1610,1620,1630,1640,1650,1660,1670,1680,1690,1700,1710,1720,1730,1740,1750,1760,1770,1780,1790,1800,1810,1820,1830,1840,1850,1860,1870,1880,1890,1900,1910,1920,1930,1940,1950,1960,1970,1980,1990,2000,2010,2020,2030,2040,2050,2060,2070,2080,2090,2100,2110,2120,2130,2140,2150,2160,2170,2180,2190,2200,2210,2220,2230,2240,2250,2260,2270,2280,2290,2300,2310,2320,2330,2340,2350,2360,2370,2380,2390,2400,2410,2420,2430,2440,2450,2460,2470,2480,2490],\"y\":[619.5088301482899,619.5088301482899,619.5088301482899,619.5088301482899,619.5088301482899,619.5088301482899,619.5088301482899,619.5088301482899,619.5088301482899,619.5088301482899,619.5088301482899,619.5088301482899,619.5088301482899,619.5088301482899,619.5088301482899,619.5088301482899,619.5088301482899,619.5088301482899,619.5088301482899,619.5088301482899,619.5088301482899,619.5088301482899,619.5088301482899,619.5088301482899,619.5088301482899,619.5088301482899,619.5088301482899,619.5088301482899,619.5088301482899,619.5088301482899,619.5088301482899,619.5088301482899,619.5088301482899,619.5088301482899,619.5088301482899,619.5088301482899,619.5088301482899,619.5088301482899,619.5088301482899,619.5088301482899,619.5088301482899,619.5088301482899,619.5088301482899,619.5088301482899,619.5088301482899,619.5088301482899,619.5088301482899,619.5088301482899,619.5088301482899,619.5088301482899,619.5088301482899,619.5088301482899,619.5088301482899,619.5088301482899,619.5088301482899,619.5088301482899,619.5088301482899,619.5088301482899,619.5088301482899,619.5088301482899,619.5088301482899,619.5088301482899,619.5088301482899,619.5088301482899,619.5088301482899,619.5088301482899,619.5088301482899,619.5088301482899,619.5088301482899,619.5088301482899,619.5088301482899,619.5088301482899,619.5088301482899,619.5088301482899,619.5088301482899,619.5088301482899,619.5088301482899,619.5088301482899,619.5088301482899,619.5088301482899,619.5088301482899,619.5088301482899,619.5088301482899,619.5088301482899,619.5088301482899,619.5088301482899,619.5088301482899,619.5088301482899,619.5088301482899,619.5088301482899,619.5088301482899,619.5088301482899,619.5088301482899,619.5088301482899,619.5088301482899,619.5088301482899,619.5088301482899,619.5088301482899,619.5088301482899,619.5088301482899,619.5088301482899,619.5088301482899,619.5088301482899,619.5088301482899,619.5088301482899,619.5088301482899,619.5088301482899,619.5088301482899,619.5088301482899,619.5088301482899,619.5088301482899,619.5088301482899,619.5088301482899,619.5088301482899,619.5088301482899,619.5088301482899,619.5088301482899,619.5088301482899,619.5088301482899,619.5088301482899,619.5088301482899,619.5088301482899,619.5088301482899,619.5088301482899,619.5088301482899,619.5088301482899,619.5088301482899,619.5088301482899,619.5088301482899,619.5088301482899,619.5088301482899,619.5088301482899,619.5088301482899,619.5088301482899,619.5088301482899,619.5088301482899,619.5088301482899,619.5088301482899,619.5088301482899,619.5088301482899,619.5088301482899,619.5088301482899,619.5088301482899,619.5088301482899,619.5088301482899,619.5088301482899,619.5088301482899,619.5088301482899,619.5088301482899,619.5088301482899,619.5088301482899,619.5088301482899,619.5088301482899,619.5088301482899,619.5088301482899,619.5088301482899,619.5088301482899,619.5088301482899,619.5088301482899,619.5088301482899,619.5088301482899,619.5088301482899,619.5088301482899,619.5088301482899,619.5088301482899,619.5088301482899,619.5088301482899,619.5088301482899,619.5088301482899,619.5088301482899,619.5088301482899,619.5088301482899,619.5088301482899,619.5088301482899,619.5088301482899,619.5088301482899,619.5088301482899,619.5088301482899,619.5088301482899,619.5088301482899,619.5088301482899,619.5088301482899,619.5088301482899,619.5088301482899,619.5088301482899,619.5088301482899,619.5088301482899,619.5088301482899,619.5088301482899,619.5088301482899,619.5088301482899,619.5088301482899,619.5088301482899,619.5088301482899,619.5088301482899,619.5088301482899,619.5088301482899,619.5088301482899,619.5088301482899,619.5088301482899],\"type\":\"scatter\"},{\"mode\":\"lines\",\"name\":\"uniswap_tvs + fees\",\"x\":[500,510,520,530,540,550,560,570,580,590,600,610,620,630,640,650,660,670,680,690,700,710,720,730,740,750,760,770,780,790,800,810,820,830,840,850,860,870,880,890,900,910,920,930,940,950,960,970,980,990,1000,1010,1020,1030,1040,1050,1060,1070,1080,1090,1100,1110,1120,1130,1140,1150,1160,1170,1180,1190,1200,1210,1220,1230,1240,1250,1260,1270,1280,1290,1300,1310,1320,1330,1340,1350,1360,1370,1380,1390,1400,1410,1420,1430,1440,1450,1460,1470,1480,1490,1500,1510,1520,1530,1540,1550,1560,1570,1580,1590,1600,1610,1620,1630,1640,1650,1660,1670,1680,1690,1700,1710,1720,1730,1740,1750,1760,1770,1780,1790,1800,1810,1820,1830,1840,1850,1860,1870,1880,1890,1900,1910,1920,1930,1940,1950,1960,1970,1980,1990,2000,2010,2020,2030,2040,2050,2060,2070,2080,2090,2100,2110,2120,2130,2140,2150,2160,2170,2180,2190,2200,2210,2220,2230,2240,2250,2260,2270,2280,2290,2300,2310,2320,2330,2340,2350,2360,2370,2380,2390,2400,2410,2420,2430,2440,2450,2460,2470,2480,2490],\"y\":[206.1047149788456,210.22680927842254,214.34890357799944,218.47099787757634,222.59309217715327,226.71518647673017,230.8372807763071,234.959375075884,239.0814693754609,243.20356367503783,247.32565797461473,251.44775227419166,255.56984657376856,259.69194087334546,263.8140351729224,267.9361294724993,272.0582237720762,276.1803180716531,280.30241237123005,284.4245066708069,288.54660097038385,292.6686952699608,296.79078956953765,300.9128838691146,305.0349781686915,309.15707246826844,313.2791667678453,317.40126106742224,321.52335536699917,325.64544966657604,329.76754396615297,333.8896382657299,338.0117325653068,342.1338268648837,346.25592116446063,350.37801546403756,354.50010976361443,358.62220406319136,362.7442983627683,366.86639266234516,370.9884869619221,375.110581261499,379.23267556107595,383.3547698606528,387.47686416022975,391.5989584598067,395.72105275938355,399.8431470589605,403.9652413585374,408.0873356581143,412.2094299576912,416.33152425726814,420.4536185568451,424.57571285642194,428.6978071559989,432.8199014555758,436.9419957551527,441.0640900547296,445.18618435430653,449.3082786538834,453.43037295346033,457.55246725303726,461.6745615526142,465.79665585219107,469.918750151768,474.0408444513449,478.1629387509218,482.2850330504987,486.40712735007565,490.5292216496525,494.65131594922946,498.7734102488064,502.8955045483833,507.0175988479602,511.1396931475371,515.261787447114,519.3838817466909,523.5059760462678,527.6280703458448,531.7501646454217,535.8722589449986,539.9943532445754,544.1164475441524,548.2385418437293,552.3606361433062,556.4827304428832,560.6048247424601,564.726919042037,568.8490133416138,572.9711076411908,577.0932019407677,581.1360147457409,585.021386148467,588.7509763652556,592.3264166376864,595.7493099356551,599.0212316386367,602.1437301959868,605.1183277670635,607.9465208419177,610.6297808432686,613.1695547104498,615.5672654659811,617.8243127653936,619.9420734309101,621.9219019695545,623.7651310762446,625.4730721223938,627.047015630532,628.4882317354281,629.797970632183,630.977463011739,632.0279204842352,632.9505359906203,633.7464842029202,634.4169219135379,634.9629884139518,635.3858058631652,635.6864796462394,635.8660987232391,635.9257359688995,635.9257359688995,635.9257359688995,635.9257359688995,635.9257359688995,635.9257359688995,635.9257359688995,635.9257359688995,635.9257359688995,635.9257359688995,635.9257359688995,635.9257359688995,635.9257359688995,635.9257359688995,635.9257359688995,635.9257359688995,635.9257359688995,635.9257359688995,635.9257359688995,635.9257359688995,635.9257359688995,635.9257359688995,635.9257359688995,635.9257359688995,635.9257359688995,635.9257359688995,635.9257359688995,635.9257359688995,635.9257359688995,635.9257359688995,635.9257359688995,635.9257359688995,635.9257359688995,635.9257359688995,635.9257359688995,635.9257359688995,635.9257359688995,635.9257359688995,635.9257359688995,635.9257359688995,635.9257359688995,635.9257359688995,635.9257359688995,635.9257359688995,635.9257359688995,635.9257359688995,635.9257359688995,635.9257359688995,635.9257359688995,635.9257359688995,635.9257359688995,635.9257359688995,635.9257359688995,635.9257359688995,635.9257359688995,635.9257359688995,635.9257359688995,635.9257359688995,635.9257359688995,635.9257359688995,635.9257359688995,635.9257359688995,635.9257359688995,635.9257359688995,635.9257359688995,635.9257359688995,635.9257359688995,635.9257359688995,635.9257359688995,635.9257359688995,635.9257359688995,635.9257359688995,635.9257359688995,635.9257359688995,635.9257359688995,635.9257359688995,635.9257359688995,635.9257359688995,635.9257359688995,635.9257359688995],\"type\":\"scatter\"},{\"mode\":\"lines\",\"name\":\"option_pnls\",\"x\":[500,510,520,530,540,550,560,570,580,590,600,610,620,630,640,650,660,670,680,690,700,710,720,730,740,750,760,770,780,790,800,810,820,830,840,850,860,870,880,890,900,910,920,930,940,950,960,970,980,990,1000,1010,1020,1030,1040,1050,1060,1070,1080,1090,1100,1110,1120,1130,1140,1150,1160,1170,1180,1190,1200,1210,1220,1230,1240,1250,1260,1270,1280,1290,1300,1310,1320,1330,1340,1350,1360,1370,1380,1390,1400,1410,1420,1430,1440,1450,1460,1470,1480,1490,1500,1510,1520,1530,1540,1550,1560,1570,1580,1590,1600,1610,1620,1630,1640,1650,1660,1670,1680,1690,1700,1710,1720,1730,1740,1750,1760,1770,1780,1790,1800,1810,1820,1830,1840,1850,1860,1870,1880,1890,1900,1910,1920,1930,1940,1950,1960,1970,1980,1990,2000,2010,2020,2030,2040,2050,2060,2070,2080,2090,2100,2110,2120,2130,2140,2150,2160,2170,2180,2190,2200,2210,2220,2230,2240,2250,2260,2270,2280,2290,2300,2310,2320,2330,2340,2350,2360,2370,2380,2390,2400,2410,2420,2430,2440,2450,2460,2470,2480,2490],\"y\":[438.567548116523,433.7377982016399,428.90804828675687,424.07829837187376,419.24854845699065,414.41879854210754,409.5890486272245,404.7592987123414,399.92954879745827,395.0997988825752,390.2700489676921,385.440299052809,380.6105491379259,375.78079922304283,370.9510493081597,366.1212993932766,361.2915494783935,356.46179956351045,351.63204964862734,346.80229973374423,341.9725498188612,337.1427999039781,332.31304998909496,327.48330007421185,322.6535501593288,317.8238002444457,312.9940503295626,308.16430041467953,303.3345504997964,298.5048005849133,293.6750506700302,288.84530075514715,284.01555084026404,279.18580092538093,274.3560510104978,269.52630109561477,264.69655118073166,259.86680126584855,255.0370513509655,250.2073014360824,245.37755152119928,240.54780160631617,235.71805169143312,230.88830177655,226.0585518616669,221.22880194678385,216.39905203190074,211.56930211701763,206.73955220213458,201.90980228725147,197.08005237236836,192.25030245748525,187.4205525426022,182.59080262771909,177.76105271283598,172.93130279795292,168.10155288306981,163.2718029681867,158.4420530533036,153.61230313842054,148.78255322353743,143.95280330865432,139.12305339377122,134.29330347888816,129.46355356400505,124.63380364912196,119.80405373423888,114.97430381935577,110.14455390447269,105.31480398958958,100.48505407470658,95.65530415982396,90.82555424494403,85.99580433008036,81.1660544153088,76.33630450102535,71.50655458916066,66.6768046885091,61.84705483649792,57.01730518195615,52.187556277894714,47.357810044524584,42.52807271270653,37.69836317693856,32.868734980066804,28.039329903346953,23.210498727846,18.383052173196113,13.558740077425853,8.741088070060066,3.9367233384816203,-0.8427420214216568,-5.578364371113231,-10.241419577422704,-14.791526250940652,-19.176246324733427,-23.33304639101496,-27.19410297353992,-30.693673457612665,-33.776845017537035,-36.40777360744384,-38.57537735536063,-40.29499683299003,-41.6056196899575,-42.563484296081015,-43.23376793416561,-43.68233521143249,-43.96916036377341,-44.144280311611794,-44.24632180532463,-44.303051070839885,-44.333136329833074,-44.34835562937478,-44.35569993744722,-44.359081205692526,-44.36056669232319,-44.361189612153936,-44.361439017619766,-44.361534394979586,-44.36156924648888,-44.361581420125745,-44.36158548679839,-44.36158678662793,-44.36158718434935,-44.361587300907615,-44.36158733364228,-44.36158734245719,-44.36158734473433,-44.36158734529901,-44.361587345433534,-44.361587345464386,-44.36158734547109,-44.36158734547263,-44.36158734547285,-44.361587345472955,-44.361587345472955,-44.361587345472955,-44.361587345472955,-44.361587345472955,-44.361587345472955,-44.361587345472955,-44.361587345472955,-44.361587345472955,-44.361587345472955,-44.361587345472955,-44.361587345472955,-44.361587345472955,-44.361587345472955,-44.361587345472955,-44.361587345472955,-44.361587345472955,-44.361587345472955,-44.361587345472955,-44.361587345472955,-44.361587345472955,-44.361587345472955,-44.361587345472955,-44.361587345472955,-44.361587345472955,-44.361587345472955,-44.361587345472955,-44.361587345472955,-44.361587345472955,-44.361587345472955,-44.361587345472955,-44.361587345472955,-44.361587345472955,-44.361587345472955,-44.361587345472955,-44.361587345472955,-44.361587345472955,-44.361587345472955,-44.361587345472955,-44.361587345472955,-44.361587345472955,-44.361587345472955,-44.361587345472955,-44.361587345472955,-44.361587345472955,-44.361587345472955,-44.361587345472955,-44.361587345472955,-44.361587345472955,-44.361587345472955,-44.361587345472955,-44.361587345472955,-44.361587345472955,-44.361587345472955,-44.361587345472955,-44.361587345472955,-44.361587345472955,-44.361587345472955,-44.361587345472955,-44.361587345472955,-44.361587345472955,-44.361587345472955,-44.361587345472955,-44.361587345472955,-44.361587345472955,-44.361587345472955],\"type\":\"scatter\"},{\"mode\":\"lines\",\"name\":\"uniswap_tvs + option_pnls + fees\",\"x\":[500,510,520,530,540,550,560,570,580,590,600,610,620,630,640,650,660,670,680,690,700,710,720,730,740,750,760,770,780,790,800,810,820,830,840,850,860,870,880,890,900,910,920,930,940,950,960,970,980,990,1000,1010,1020,1030,1040,1050,1060,1070,1080,1090,1100,1110,1120,1130,1140,1150,1160,1170,1180,1190,1200,1210,1220,1230,1240,1250,1260,1270,1280,1290,1300,1310,1320,1330,1340,1350,1360,1370,1380,1390,1400,1410,1420,1430,1440,1450,1460,1470,1480,1490,1500,1510,1520,1530,1540,1550,1560,1570,1580,1590,1600,1610,1620,1630,1640,1650,1660,1670,1680,1690,1700,1710,1720,1730,1740,1750,1760,1770,1780,1790,1800,1810,1820,1830,1840,1850,1860,1870,1880,1890,1900,1910,1920,1930,1940,1950,1960,1970,1980,1990,2000,2010,2020,2030,2040,2050,2060,2070,2080,2090,2100,2110,2120,2130,2140,2150,2160,2170,2180,2190,2200,2210,2220,2230,2240,2250,2260,2270,2280,2290,2300,2310,2320,2330,2340,2350,2360,2370,2380,2390,2400,2410,2420,2430,2440,2450,2460,2470,2480,2490],\"y\":[644.6722630953686,643.9646074800625,643.2569518647563,642.5492962494501,641.8416406341439,641.1339850188377,640.4263294035316,639.7186737882254,639.0110181729192,638.303362557613,637.5957069423068,636.8880513270007,636.1803957116945,635.4727400963883,634.7650844810821,634.0574288657759,633.3497732504698,632.6421176351636,631.9344620198574,631.2268064045511,630.519150789245,629.8114951739389,629.1038395586327,628.3961839433264,627.6885283280203,626.9808727127141,626.273217097408,625.5655614821018,624.8579058667956,624.1502502514893,623.4425946361832,622.734939020877,622.0272834055709,621.3196277902646,620.6119721749585,619.9043165596523,619.1966609443461,618.4890053290399,617.7813497137338,617.0736940984275,616.3660384831214,615.6583828678151,614.9507272525091,614.2430716372028,613.5354160218967,612.8277604065905,612.1201047912843,611.412449175978,610.704793560672,609.9971379453657,609.2894823300596,608.5818267147533,607.8741710994473,607.166515484141,606.4588598688349,605.7512042535287,605.0435486382225,604.3358930229163,603.6282374076102,602.9205817923039,602.2129261769978,601.5052705616915,600.7976149463855,600.0899593310792,599.3823037157731,598.6746481004669,597.9669924851606,597.2593368698545,596.5516812545484,595.8440256392421,595.136370023936,594.4287144086303,593.7210587933273,593.0134031780406,592.3057475628459,591.5980919481393,590.8904363358515,590.182780734777,589.4751251823427,588.7674698273779,588.0598152228933,587.3521632891001,586.6445202568589,585.9369050206678,585.2293711233731,584.5220603462301,583.8153234703061,583.1099712152331,582.4077534190396,581.7121957112508,581.0299252792494,580.2932727243192,579.4430217773537,578.5095567878329,577.5348903867457,576.5730636109217,575.6881852476217,574.9496272224469,574.4246543094508,574.1696758243806,574.2220072358248,574.5941773550892,575.2722686329911,576.2186930754361,577.3785891348291,578.6881340353889,580.0827958648122,581.5039117586203,582.9027353189201,584.2419099301035,585.4949195613432,586.6443266819059,587.6795648548605,588.5948360531731,589.3874029972277,590.0563552212146,590.6017988017979,591.0243668455454,591.3249452512598,591.5045294767502,591.5641545487738,591.5641504821011,591.5641491822715,591.5641487845502,591.564148667992,591.5641486352572,591.5641486264424,591.5641486241652,591.5641486236005,591.5641486234659,591.5641486234351,591.5641486234284,591.564148623427,591.5641486234267,591.5641486234266,591.5641486234266,591.5641486234266,591.5641486234266,591.5641486234266,591.5641486234266,591.5641486234266,591.5641486234266,591.5641486234266,591.5641486234266,591.5641486234266,591.5641486234266,591.5641486234266,591.5641486234266,591.5641486234266,591.5641486234266,591.5641486234266,591.5641486234266,591.5641486234266,591.5641486234266,591.5641486234266,591.5641486234266,591.5641486234266,591.5641486234266,591.5641486234266,591.5641486234266,591.5641486234266,591.5641486234266,591.5641486234266,591.5641486234266,591.5641486234266,591.5641486234266,591.5641486234266,591.5641486234266,591.5641486234266,591.5641486234266,591.5641486234266,591.5641486234266,591.5641486234266,591.5641486234266,591.5641486234266,591.5641486234266,591.5641486234266,591.5641486234266,591.5641486234266,591.5641486234266,591.5641486234266,591.5641486234266,591.5641486234266,591.5641486234266,591.5641486234266,591.5641486234266,591.5641486234266,591.5641486234266,591.5641486234266,591.5641486234266,591.5641486234266,591.5641486234266,591.5641486234266,591.5641486234266,591.5641486234266,591.5641486234266,591.5641486234266,591.5641486234266,591.5641486234266,591.5641486234266],\"type\":\"scatter\"}],                        {\"template\":{\"data\":{\"histogram2dcontour\":[{\"type\":\"histogram2dcontour\",\"colorbar\":{\"outlinewidth\":0,\"ticks\":\"\"},\"colorscale\":[[0.0,\"#0d0887\"],[0.1111111111111111,\"#46039f\"],[0.2222222222222222,\"#7201a8\"],[0.3333333333333333,\"#9c179e\"],[0.4444444444444444,\"#bd3786\"],[0.5555555555555556,\"#d8576b\"],[0.6666666666666666,\"#ed7953\"],[0.7777777777777778,\"#fb9f3a\"],[0.8888888888888888,\"#fdca26\"],[1.0,\"#f0f921\"]]}],\"choropleth\":[{\"type\":\"choropleth\",\"colorbar\":{\"outlinewidth\":0,\"ticks\":\"\"}}],\"histogram2d\":[{\"type\":\"histogram2d\",\"colorbar\":{\"outlinewidth\":0,\"ticks\":\"\"},\"colorscale\":[[0.0,\"#0d0887\"],[0.1111111111111111,\"#46039f\"],[0.2222222222222222,\"#7201a8\"],[0.3333333333333333,\"#9c179e\"],[0.4444444444444444,\"#bd3786\"],[0.5555555555555556,\"#d8576b\"],[0.6666666666666666,\"#ed7953\"],[0.7777777777777778,\"#fb9f3a\"],[0.8888888888888888,\"#fdca26\"],[1.0,\"#f0f921\"]]}],\"heatmap\":[{\"type\":\"heatmap\",\"colorbar\":{\"outlinewidth\":0,\"ticks\":\"\"},\"colorscale\":[[0.0,\"#0d0887\"],[0.1111111111111111,\"#46039f\"],[0.2222222222222222,\"#7201a8\"],[0.3333333333333333,\"#9c179e\"],[0.4444444444444444,\"#bd3786\"],[0.5555555555555556,\"#d8576b\"],[0.6666666666666666,\"#ed7953\"],[0.7777777777777778,\"#fb9f3a\"],[0.8888888888888888,\"#fdca26\"],[1.0,\"#f0f921\"]]}],\"heatmapgl\":[{\"type\":\"heatmapgl\",\"colorbar\":{\"outlinewidth\":0,\"ticks\":\"\"},\"colorscale\":[[0.0,\"#0d0887\"],[0.1111111111111111,\"#46039f\"],[0.2222222222222222,\"#7201a8\"],[0.3333333333333333,\"#9c179e\"],[0.4444444444444444,\"#bd3786\"],[0.5555555555555556,\"#d8576b\"],[0.6666666666666666,\"#ed7953\"],[0.7777777777777778,\"#fb9f3a\"],[0.8888888888888888,\"#fdca26\"],[1.0,\"#f0f921\"]]}],\"contourcarpet\":[{\"type\":\"contourcarpet\",\"colorbar\":{\"outlinewidth\":0,\"ticks\":\"\"}}],\"contour\":[{\"type\":\"contour\",\"colorbar\":{\"outlinewidth\":0,\"ticks\":\"\"},\"colorscale\":[[0.0,\"#0d0887\"],[0.1111111111111111,\"#46039f\"],[0.2222222222222222,\"#7201a8\"],[0.3333333333333333,\"#9c179e\"],[0.4444444444444444,\"#bd3786\"],[0.5555555555555556,\"#d8576b\"],[0.6666666666666666,\"#ed7953\"],[0.7777777777777778,\"#fb9f3a\"],[0.8888888888888888,\"#fdca26\"],[1.0,\"#f0f921\"]]}],\"surface\":[{\"type\":\"surface\",\"colorbar\":{\"outlinewidth\":0,\"ticks\":\"\"},\"colorscale\":[[0.0,\"#0d0887\"],[0.1111111111111111,\"#46039f\"],[0.2222222222222222,\"#7201a8\"],[0.3333333333333333,\"#9c179e\"],[0.4444444444444444,\"#bd3786\"],[0.5555555555555556,\"#d8576b\"],[0.6666666666666666,\"#ed7953\"],[0.7777777777777778,\"#fb9f3a\"],[0.8888888888888888,\"#fdca26\"],[1.0,\"#f0f921\"]]}],\"mesh3d\":[{\"type\":\"mesh3d\",\"colorbar\":{\"outlinewidth\":0,\"ticks\":\"\"}}],\"scatter\":[{\"fillpattern\":{\"fillmode\":\"overlay\",\"size\":10,\"solidity\":0.2},\"type\":\"scatter\"}],\"parcoords\":[{\"type\":\"parcoords\",\"line\":{\"colorbar\":{\"outlinewidth\":0,\"ticks\":\"\"}}}],\"scatterpolargl\":[{\"type\":\"scatterpolargl\",\"marker\":{\"colorbar\":{\"outlinewidth\":0,\"ticks\":\"\"}}}],\"bar\":[{\"error_x\":{\"color\":\"#2a3f5f\"},\"error_y\":{\"color\":\"#2a3f5f\"},\"marker\":{\"line\":{\"color\":\"#E5ECF6\",\"width\":0.5},\"pattern\":{\"fillmode\":\"overlay\",\"size\":10,\"solidity\":0.2}},\"type\":\"bar\"}],\"scattergeo\":[{\"type\":\"scattergeo\",\"marker\":{\"colorbar\":{\"outlinewidth\":0,\"ticks\":\"\"}}}],\"scatterpolar\":[{\"type\":\"scatterpolar\",\"marker\":{\"colorbar\":{\"outlinewidth\":0,\"ticks\":\"\"}}}],\"histogram\":[{\"marker\":{\"pattern\":{\"fillmode\":\"overlay\",\"size\":10,\"solidity\":0.2}},\"type\":\"histogram\"}],\"scattergl\":[{\"type\":\"scattergl\",\"marker\":{\"colorbar\":{\"outlinewidth\":0,\"ticks\":\"\"}}}],\"scatter3d\":[{\"type\":\"scatter3d\",\"line\":{\"colorbar\":{\"outlinewidth\":0,\"ticks\":\"\"}},\"marker\":{\"colorbar\":{\"outlinewidth\":0,\"ticks\":\"\"}}}],\"scattermapbox\":[{\"type\":\"scattermapbox\",\"marker\":{\"colorbar\":{\"outlinewidth\":0,\"ticks\":\"\"}}}],\"scatterternary\":[{\"type\":\"scatterternary\",\"marker\":{\"colorbar\":{\"outlinewidth\":0,\"ticks\":\"\"}}}],\"scattercarpet\":[{\"type\":\"scattercarpet\",\"marker\":{\"colorbar\":{\"outlinewidth\":0,\"ticks\":\"\"}}}],\"carpet\":[{\"aaxis\":{\"endlinecolor\":\"#2a3f5f\",\"gridcolor\":\"white\",\"linecolor\":\"white\",\"minorgridcolor\":\"white\",\"startlinecolor\":\"#2a3f5f\"},\"baxis\":{\"endlinecolor\":\"#2a3f5f\",\"gridcolor\":\"white\",\"linecolor\":\"white\",\"minorgridcolor\":\"white\",\"startlinecolor\":\"#2a3f5f\"},\"type\":\"carpet\"}],\"table\":[{\"cells\":{\"fill\":{\"color\":\"#EBF0F8\"},\"line\":{\"color\":\"white\"}},\"header\":{\"fill\":{\"color\":\"#C8D4E3\"},\"line\":{\"color\":\"white\"}},\"type\":\"table\"}],\"barpolar\":[{\"marker\":{\"line\":{\"color\":\"#E5ECF6\",\"width\":0.5},\"pattern\":{\"fillmode\":\"overlay\",\"size\":10,\"solidity\":0.2}},\"type\":\"barpolar\"}],\"pie\":[{\"automargin\":true,\"type\":\"pie\"}]},\"layout\":{\"autotypenumbers\":\"strict\",\"colorway\":[\"#636efa\",\"#EF553B\",\"#00cc96\",\"#ab63fa\",\"#FFA15A\",\"#19d3f3\",\"#FF6692\",\"#B6E880\",\"#FF97FF\",\"#FECB52\"],\"font\":{\"color\":\"#2a3f5f\"},\"hovermode\":\"closest\",\"hoverlabel\":{\"align\":\"left\"},\"paper_bgcolor\":\"white\",\"plot_bgcolor\":\"#E5ECF6\",\"polar\":{\"bgcolor\":\"#E5ECF6\",\"angularaxis\":{\"gridcolor\":\"white\",\"linecolor\":\"white\",\"ticks\":\"\"},\"radialaxis\":{\"gridcolor\":\"white\",\"linecolor\":\"white\",\"ticks\":\"\"}},\"ternary\":{\"bgcolor\":\"#E5ECF6\",\"aaxis\":{\"gridcolor\":\"white\",\"linecolor\":\"white\",\"ticks\":\"\"},\"baxis\":{\"gridcolor\":\"white\",\"linecolor\":\"white\",\"ticks\":\"\"},\"caxis\":{\"gridcolor\":\"white\",\"linecolor\":\"white\",\"ticks\":\"\"}},\"coloraxis\":{\"colorbar\":{\"outlinewidth\":0,\"ticks\":\"\"}},\"colorscale\":{\"sequential\":[[0.0,\"#0d0887\"],[0.1111111111111111,\"#46039f\"],[0.2222222222222222,\"#7201a8\"],[0.3333333333333333,\"#9c179e\"],[0.4444444444444444,\"#bd3786\"],[0.5555555555555556,\"#d8576b\"],[0.6666666666666666,\"#ed7953\"],[0.7777777777777778,\"#fb9f3a\"],[0.8888888888888888,\"#fdca26\"],[1.0,\"#f0f921\"]],\"sequentialminus\":[[0.0,\"#0d0887\"],[0.1111111111111111,\"#46039f\"],[0.2222222222222222,\"#7201a8\"],[0.3333333333333333,\"#9c179e\"],[0.4444444444444444,\"#bd3786\"],[0.5555555555555556,\"#d8576b\"],[0.6666666666666666,\"#ed7953\"],[0.7777777777777778,\"#fb9f3a\"],[0.8888888888888888,\"#fdca26\"],[1.0,\"#f0f921\"]],\"diverging\":[[0,\"#8e0152\"],[0.1,\"#c51b7d\"],[0.2,\"#de77ae\"],[0.3,\"#f1b6da\"],[0.4,\"#fde0ef\"],[0.5,\"#f7f7f7\"],[0.6,\"#e6f5d0\"],[0.7,\"#b8e186\"],[0.8,\"#7fbc41\"],[0.9,\"#4d9221\"],[1,\"#276419\"]]},\"xaxis\":{\"gridcolor\":\"white\",\"linecolor\":\"white\",\"ticks\":\"\",\"title\":{\"standoff\":15},\"zerolinecolor\":\"white\",\"automargin\":true,\"zerolinewidth\":2},\"yaxis\":{\"gridcolor\":\"white\",\"linecolor\":\"white\",\"ticks\":\"\",\"title\":{\"standoff\":15},\"zerolinecolor\":\"white\",\"automargin\":true,\"zerolinewidth\":2},\"scene\":{\"xaxis\":{\"backgroundcolor\":\"#E5ECF6\",\"gridcolor\":\"white\",\"linecolor\":\"white\",\"showbackground\":true,\"ticks\":\"\",\"zerolinecolor\":\"white\",\"gridwidth\":2},\"yaxis\":{\"backgroundcolor\":\"#E5ECF6\",\"gridcolor\":\"white\",\"linecolor\":\"white\",\"showbackground\":true,\"ticks\":\"\",\"zerolinecolor\":\"white\",\"gridwidth\":2},\"zaxis\":{\"backgroundcolor\":\"#E5ECF6\",\"gridcolor\":\"white\",\"linecolor\":\"white\",\"showbackground\":true,\"ticks\":\"\",\"zerolinecolor\":\"white\",\"gridwidth\":2}},\"shapedefaults\":{\"line\":{\"color\":\"#2a3f5f\"}},\"annotationdefaults\":{\"arrowcolor\":\"#2a3f5f\",\"arrowhead\":0,\"arrowwidth\":1},\"geo\":{\"bgcolor\":\"white\",\"landcolor\":\"#E5ECF6\",\"subunitcolor\":\"white\",\"showland\":true,\"showlakes\":true,\"lakecolor\":\"white\"},\"title\":{\"x\":0.05},\"mapbox\":{\"style\":\"light\"}}},\"autosize\":false,\"width\":900,\"height\":500,\"title\":{\"text\":\"strike: 1499.905, expiration: 0.08407759728820768, amount: 0.483 (years), fees: 0$\"}},                        {\"responsive\": true}                    ).then(function(){\n",
       "                            \n",
       "var gd = document.getElementById('3f53755b-585c-4b6c-979b-66a4f4cf6495');\n",
       "var x = new MutationObserver(function (mutations, observer) {{\n",
       "        var display = window.getComputedStyle(gd).display;\n",
       "        if (!display || display === 'none') {{\n",
       "            console.log([gd, 'removed!']);\n",
       "            Plotly.purge(gd);\n",
       "            observer.disconnect();\n",
       "        }}\n",
       "}});\n",
       "\n",
       "// Listen for the removal of the full notebook cells\n",
       "var notebookContainer = gd.closest('#notebook-container');\n",
       "if (notebookContainer) {{\n",
       "    x.observe(notebookContainer, {childList: true});\n",
       "}}\n",
       "\n",
       "// Listen for the clearing of the current output cell\n",
       "var outputEl = gd.closest('.output');\n",
       "if (outputEl) {{\n",
       "    x.observe(outputEl, {childList: true});\n",
       "}}\n",
       "\n",
       "                        })                };                });            </script>        </div>"
      ]
     },
     "metadata": {},
     "output_type": "display_data"
    }
   ],
   "source": [
    "fig = go.Figure()\n",
    "fig.update_layout(\n",
    "    autosize=False,\n",
    "    width=900,\n",
    "    height=500)\n",
    "\n",
    "fig.add_trace(go.Scatter(x=prices, y=pure_usdc,\n",
    "                    mode='lines',\n",
    "                    name='pure_usdc'))\n",
    "\n",
    "fig.add_trace(go.Scatter(x=prices, y=uniswap_tvs + earned_fees,\n",
    "                    mode='lines',\n",
    "                    name=\"\"\"uniswap_tvs + fees\"\"\".format(earned_fees)))\n",
    "fig.add_trace(go.Scatter(x=prices, y=option_pnls,\n",
    "                    mode='lines',\n",
    "                    name='option_pnls'))\n",
    "fig.add_trace(go.Scatter(x=prices, y=uniswap_tvs + option_pnls + earned_fees,\n",
    "                    mode='lines',\n",
    "                    name='uniswap_tvs + option_pnls + fees'))\n",
    "fig.update_layout(title_text='strike: {}, expiration: {}, amount: {} (years), fees: {}$'.format(round(optimal_option.strike, 3), \n",
    "                                                                             optimal_option.expiration,\n",
    "                                                                             round(optimal_option.amount, 3),\n",
    "                                                                             earned_fees))\n",
    "\n",
    "\n",
    "\n"
   ]
  },
  {
   "cell_type": "markdown",
   "id": "c3dd6258-de26-4e8f-80d1-9f2039f5c063",
   "metadata": {},
   "source": [
    "# Strategy 1\n",
    "\n",
    "The range is roughly ±9%. Vault finds the optimal option and replicates it. There are two cases may appear:\n",
    "1. At some point during the period, the underlying price went out of the range. In this case, vault does the rebalancing as following: <br/>\n",
    "- provides liquidity to the new ±9% price range interval\n",
    "- finds a new optimal option to hedge, and replicates it\n",
    "2. During the entire period the underlying price stood within the boundaries. Then vault just keeps replicating the option"
   ]
  },
  {
   "cell_type": "code",
   "execution_count": null,
   "id": "305584e6-1451-438e-a6d4-b143caa3621f",
   "metadata": {},
   "outputs": [],
   "source": []
  },
  {
   "cell_type": "code",
   "execution_count": null,
   "id": "52f0914d-6c51-465d-9928-9ba244ee1fb6",
   "metadata": {},
   "outputs": [],
   "source": []
  },
  {
   "cell_type": "code",
   "execution_count": null,
   "id": "54da3a81-4d60-4887-b341-30d93667a53f",
   "metadata": {},
   "outputs": [],
   "source": []
  },
  {
   "cell_type": "markdown",
   "id": "44b9eb8c-c87e-42a0-8db4-6dd4083e457b",
   "metadata": {},
   "source": []
  },
  {
   "cell_type": "code",
   "execution_count": null,
   "id": "5c21312e-7c6d-4ede-a532-4377d01d4f44",
   "metadata": {},
   "outputs": [],
   "source": []
  },
  {
   "cell_type": "code",
   "execution_count": null,
   "id": "dc4f8306-20d8-4f03-8fd8-86d1a3443f86",
   "metadata": {},
   "outputs": [],
   "source": []
  },
  {
   "cell_type": "code",
   "execution_count": null,
   "id": "06c67966-9b07-405f-b8da-f326795dc1c1",
   "metadata": {},
   "outputs": [],
   "source": []
  },
  {
   "cell_type": "code",
   "execution_count": null,
   "id": "043e3567-6fe6-4ee0-9c3a-eb8d392f0efe",
   "metadata": {},
   "outputs": [],
   "source": []
  },
  {
   "cell_type": "code",
   "execution_count": null,
   "id": "2d6eaf92-68cf-455f-8a54-f0a1688a5d73",
   "metadata": {},
   "outputs": [],
   "source": []
  }
 ],
 "metadata": {
  "kernelspec": {
   "display_name": "Python 3 (ipykernel)",
   "language": "python",
   "name": "python3"
  },
  "language_info": {
   "codemirror_mode": {
    "name": "ipython",
    "version": 3
   },
   "file_extension": ".py",
   "mimetype": "text/x-python",
   "name": "python",
   "nbconvert_exporter": "python",
   "pygments_lexer": "ipython3",
   "version": "3.8.16"
  }
 },
 "nbformat": 4,
 "nbformat_minor": 5
}
