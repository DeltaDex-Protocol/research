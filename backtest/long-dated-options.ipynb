{
 "cells": [
  {
   "cell_type": "code",
   "execution_count": 2,
   "id": "53d2bc01-f976-4f40-9af9-775003611c3a",
   "metadata": {},
   "outputs": [],
   "source": [
    "from sabr import SABR\n",
    "from sabr_calibration import SABRCalibrator"
   ]
  },
  {
   "cell_type": "code",
   "execution_count": 3,
   "id": "82159e85-a0d0-4e96-bdc4-ee7a97400503",
   "metadata": {},
   "outputs": [],
   "source": [
    "from deltadex_calibration import calibrate_sabr\n",
    "from deribit_parser import GetOptionMeta"
   ]
  },
  {
   "cell_type": "code",
   "execution_count": 4,
   "id": "bcf905b1-1c83-4701-a054-58b21c5f3c3f",
   "metadata": {},
   "outputs": [],
   "source": [
    "import numpy as np\n",
    "from matplotlib import pyplot as plt\n",
    "import plotly.express as px\n",
    "import plotly.graph_objects as go\n"
   ]
  },
  {
   "cell_type": "code",
   "execution_count": 5,
   "id": "2cb2e1f5-1472-4831-a508-27da2e134426",
   "metadata": {},
   "outputs": [
    {
     "data": {
      "text/plain": [
       "<module 'uniswap_v3_liquidity_math' from '/Users/kirillbogomolov/Desktop/DeltaDex-Protocol/research-branch-main/backtest/uniswap_v3_liquidity_math.py'>"
      ]
     },
     "execution_count": 5,
     "metadata": {},
     "output_type": "execute_result"
    }
   ],
   "source": [
    "import uniswap_v3_liquidity_math as uniswap_math\n",
    "\n",
    "import importlib\n",
    "importlib.reload(uniswap_math)"
   ]
  },
  {
   "cell_type": "code",
   "execution_count": 6,
   "id": "9653f7c7-3bef-439e-90ad-b2cb2cad1b7b",
   "metadata": {},
   "outputs": [],
   "source": [
    "class UniswapPosition:\n",
    "    def __init__(self, lower_price, upper_price, initial_price, initial_token1_amount, period_in_years):\n",
    "        self.lower_price = lower_price\n",
    "        self.upper_price = upper_price\n",
    "        self.initial_price = initial_price\n",
    "        self.initial_token1_amount = initial_token1_amount\n",
    "        self.period_in_years = period_in_years\n",
    "    \n",
    "    def get_tokens_amounts(self, price):\n",
    "        return uniswap_math.get_tokens_amounts(initial_price = self.initial_price, \n",
    "                                lowerPrice = self.lower_price, upperPrice = self.upper_price, \n",
    "                                initial_y = self.initial_token1_amount, currentPrice = price)\n",
    "    \n",
    "    def get_total_value(self, price):\n",
    "        x, y = self.get_tokens_amounts(price)\n",
    "        return x * price + y"
   ]
  },
  {
   "cell_type": "markdown",
   "id": "cf727282-adf6-4524-94b7-aa02e2dd8303",
   "metadata": {},
   "source": [
    "### Optimal option"
   ]
  },
  {
   "cell_type": "code",
   "execution_count": 914,
   "id": "430e9493-7512-4899-b2ef-4f6d3a9a2a55",
   "metadata": {},
   "outputs": [],
   "source": [
    "class OptimalOption:\n",
    "    def __init__(self, sabr_model: SABR, \n",
    "                 uniswap_position: UniswapPosition,\n",
    "                 expiration: float,\n",
    "                 strike: float,\n",
    "                 amount: float,\n",
    "                 isCall: bool = False):\n",
    "        \n",
    "        self.sabr_model = sabr_model\n",
    "        self.uniswap_position = uniswap_position\n",
    "        \n",
    "        self.isCall = False\n",
    "        # self.expiration = (1.01 * uniswap_position.period_in_years)\n",
    "        self.expiration = expiration\n",
    "        self.strike = strike\n",
    "        # self.strike = (uniswap_position.lower_price * uniswap_position.upper_price) ** 0.5\n",
    "        self.amount = amount\n",
    "        self.initial_cost = self.amount * self.sabr_model(self.strike, \n",
    "                                                self.uniswap_position.initial_price, \n",
    "                                                self.expiration, \n",
    "                                                self.isCall)[0]\n",
    "    \n",
    "    def update_option_params(self, strike, expiration, amount):\n",
    "        self.strike = strike\n",
    "        self.expiration = expiration\n",
    "        self.amount = amount\n",
    "        self.initial_cost = self.amount * self.sabr_model(self.strike, \n",
    "                                                self.uniswap_position.initial_price, \n",
    "                                                self.expiration, \n",
    "                                                self.isCall)[0]\n",
    "        # print(self.initial_cost)\n",
    "        \n",
    "    def find_optimal_option(self):\n",
    "        \n",
    "        # todo: make bounds being depenedent on underlying_price\n",
    "        prices = np.array([price for price in range(500, 2000, 10 )]) \n",
    "        \n",
    "        from scipy.optimize import minimize\n",
    "        \n",
    "        def _find_optimal_option(x):\n",
    "            strike, expiration, amount = x\n",
    "            self.update_option_params(strike, expiration, amount)\n",
    "            \n",
    "            initial_tv = self.uniswap_position.get_total_value(self.uniswap_position.initial_price)\n",
    "            uniswap_tvs = np.array([self.uniswap_position.get_total_value(price) for price in prices])\n",
    "            \n",
    "            loss = ((self.calculate_hedged_position(prices) + \n",
    "                    uniswap_tvs - initial_tv) ** 2).mean()  \n",
    "            return loss\n",
    "        \n",
    "        x0 = np.array([self.strike, self.expiration, self.amount])\n",
    "        res = minimize(_find_optimal_option, x0, method='nelder-mead',\n",
    "                       options={'xatol': 1e-8, 'disp': True})\n",
    "        \n",
    "        strike, expiration, amount = res.x\n",
    "        \n",
    "        print('strike: {}, expiration: {}, amount: {}'.format(strike, expiration, amount))\n",
    "    \n",
    "    \n",
    "    def calculate_hedged_position(self, prices):\n",
    "        \n",
    "        def calculate_pnl(price, strike):\n",
    "            if self.isCall == True:\n",
    "                return max(price - strike, 0)\n",
    "            if self.isCall == False:\n",
    "                return max(strike - price, 0)\n",
    "        #calculate_pnl(price, self.strike) +\n",
    "        option_pnls = self.amount * np.array([ self.sabr_model(self.strike, \n",
    "                                                    price + 0.0001, # otherwise a bug appears \n",
    "                                                    (self.expiration - self.uniswap_position.period_in_years), \n",
    "                                                    self.isCall)[0] for price in prices]) - self.initial_cost\n",
    "        return option_pnls\n",
    "    \n",
    "    def __repr__(self):\n",
    "        return (\"\"\"\n",
    "        isCall: {}\n",
    "        expiration: {}\n",
    "        strike: {}\n",
    "        amount: {}\n",
    "        initial cost: {} \n",
    "        ---\n",
    "        uniswap_position: lower_price: {}, upper_price: {},\n",
    "        initial_price: {}, period_in_years: {}\n",
    "        \"\"\".format(self.isCall, \n",
    "                    self.expiration,\n",
    "                    self.strike,\n",
    "                    self.amount,\n",
    "                    self.initial_cost,\n",
    "                    self.uniswap_position.lower_price,\n",
    "                    self.uniswap_position.upper_price,\n",
    "                    self.uniswap_position.initial_price,\n",
    "                    self.uniswap_position.period_in_years))\n",
    "    "
   ]
  },
  {
   "cell_type": "markdown",
   "id": "1226a2ce-4293-422e-acf2-4656a617836b",
   "metadata": {},
   "source": [
    "### Calibration"
   ]
  },
  {
   "cell_type": "code",
   "execution_count": 915,
   "id": "b78aeb97-b5d7-42ab-8c1b-5dce2d714b82",
   "metadata": {},
   "outputs": [],
   "source": [
    "OptionMeta = GetOptionMeta()['Expiry']\n",
    "expiries = list(map(lambda expiry: (expiry[:-5] + \"/\" + expiry[-5:-2] + \"/\" + expiry[-2:]), OptionMeta))\n"
   ]
  },
  {
   "cell_type": "code",
   "execution_count": 948,
   "id": "ef6e2c01-0354-43e9-941f-ff34a2982323",
   "metadata": {},
   "outputs": [
    {
     "data": {
      "text/plain": [
       "['3/MAR/23',\n",
       " '30/JUN/23',\n",
       " '11/FEB/23',\n",
       " '29/DEC/23',\n",
       " '31/MAR/23',\n",
       " '17/FEB/23',\n",
       " '24/FEB/23',\n",
       " '29/SEP/23',\n",
       " '12/FEB/23',\n",
       " '28/APR/23']"
      ]
     },
     "execution_count": 948,
     "metadata": {},
     "output_type": "execute_result"
    }
   ],
   "source": [
    "expiries"
   ]
  },
  {
   "cell_type": "code",
   "execution_count": 949,
   "id": "97067c70-d828-478c-bafc-af8ccda3d238",
   "metadata": {},
   "outputs": [
    {
     "data": {
      "text/plain": [
       "9"
      ]
     },
     "execution_count": 949,
     "metadata": {},
     "output_type": "execute_result"
    }
   ],
   "source": [
    "expiries.index('28/APR/23')"
   ]
  },
  {
   "cell_type": "code",
   "execution_count": 950,
   "id": "d597e625-4b35-4fd7-8980-06db6fee23f6",
   "metadata": {},
   "outputs": [
    {
     "data": {
      "text/plain": [
       "'29/SEP/23'"
      ]
     },
     "execution_count": 950,
     "metadata": {},
     "output_type": "execute_result"
    }
   ],
   "source": [
    "expiry = expiries[expiries.index('29/SEP/23')]\n",
    "expiry"
   ]
  },
  {
   "cell_type": "code",
   "execution_count": 951,
   "id": "015a40f2-4889-4714-b1b9-fd46cad27b74",
   "metadata": {},
   "outputs": [
    {
     "name": "stderr",
     "output_type": "stream",
     "text": [
      "/Users/kirillbogomolov/Desktop/DeltaDex-Protocol/research-branch-main/backtest/deribit_parser.py:29: RuntimeWarning:\n",
      "\n",
      "divide by zero encountered in double_scalars\n",
      "\n"
     ]
    },
    {
     "name": "stdout",
     "output_type": "stream",
     "text": [
      "db updated 2023-02-11 01:10:42.314411\n"
     ]
    },
    {
     "name": "stderr",
     "output_type": "stream",
     "text": [
      "100%|███████████████████████████████████████| 500/500 [00:00<00:00, 4632.29it/s]"
     ]
    },
    {
     "name": "stdout",
     "output_type": "stream",
     "text": [
      "optimized parameters:\n",
      "('alpha ', 3.54532)\n",
      "('v ', 0.85758)\n",
      "('beta  ', 0.76442)\n",
      "('rho', -0.00395)\n"
     ]
    },
    {
     "name": "stderr",
     "output_type": "stream",
     "text": [
      "\n"
     ]
    }
   ],
   "source": [
    "sabr, underlying_price = calibrate_sabr(SELECTED_EXPIRY = expiry)\n"
   ]
  },
  {
   "cell_type": "code",
   "execution_count": 952,
   "id": "dcfec6fe-e71f-4517-8c22-e3f22319e66e",
   "metadata": {},
   "outputs": [],
   "source": [
    "# sabr.r = 0.1"
   ]
  },
  {
   "cell_type": "code",
   "execution_count": 953,
   "id": "bf9d4b25-dd82-4654-b673-8bbf2286e5e8",
   "metadata": {},
   "outputs": [
    {
     "name": "stdout",
     "output_type": "stream",
     "text": [
      "1532.16\n"
     ]
    }
   ],
   "source": [
    "print(underlying_price)"
   ]
  },
  {
   "cell_type": "code",
   "execution_count": 954,
   "id": "1609de94-769b-48de-8908-2fe5fe6617b6",
   "metadata": {},
   "outputs": [],
   "source": [
    "uniswap_position = UniswapPosition(lower_price = 1400, \n",
    "                                   upper_price = 1700,\n",
    "                                   initial_price = underlying_price, \n",
    "                                   initial_token1_amount = 300,    # usdcs\n",
    "                                   period_in_years = 30 / 365.25)\n"
   ]
  },
  {
   "cell_type": "code",
   "execution_count": 955,
   "id": "65f3c472-9cdc-43e9-b890-53893835ca18",
   "metadata": {},
   "outputs": [
    {
     "name": "stdout",
     "output_type": "stream",
     "text": [
      "644.5306521469613\n",
      "(0.2248659749288333, 300.0)\n"
     ]
    }
   ],
   "source": [
    "print(uniswap_position.get_total_value(uniswap_position.initial_price))\n",
    "print(uniswap_position.get_tokens_amounts(uniswap_position.initial_price))"
   ]
  },
  {
   "cell_type": "code",
   "execution_count": 956,
   "id": "369e261d-73f8-4d2e-b6a6-803962aa94eb",
   "metadata": {},
   "outputs": [],
   "source": [
    "# #sabr model parameters\n",
    "# alpha = 0.2\n",
    "# v = 0.9\n",
    "# beta = 0.9\n",
    "# rho = -0.5\n",
    "\n",
    "# sabr_params_0 = np.asarray([alpha, v, beta, rho])"
   ]
  },
  {
   "cell_type": "code",
   "execution_count": 957,
   "id": "c611f6af-4332-4e46-a3b0-7497c7ef6673",
   "metadata": {},
   "outputs": [],
   "source": [
    "# r = 0.1\n",
    "#sabr model\n",
    "# sabr_0 = SABR(sabr_params_0, r)"
   ]
  },
  {
   "cell_type": "code",
   "execution_count": 958,
   "id": "cb97e43c-133c-4dbe-b4c8-6a5a99803150",
   "metadata": {},
   "outputs": [],
   "source": [
    "strike = 1650\n",
    "expiration_in_years = 75 / 365.25\n",
    "amount = 1"
   ]
  },
  {
   "cell_type": "code",
   "execution_count": 959,
   "id": "acbcbd66-5735-4b7d-a15d-01aa43d62174",
   "metadata": {},
   "outputs": [],
   "source": [
    "optimal_option = OptimalOption(sabr, \n",
    "                               uniswap_position, \n",
    "                               expiration_in_years, \n",
    "                               strike, \n",
    "                               amount, \n",
    "                               isCall = False)"
   ]
  },
  {
   "cell_type": "code",
   "execution_count": 960,
   "id": "4c3ea415-5a50-47d1-9fcb-83f70356c729",
   "metadata": {},
   "outputs": [
    {
     "name": "stderr",
     "output_type": "stream",
     "text": [
      "/Users/kirillbogomolov/Desktop/DeltaDex-Protocol/research-branch-main/backtest/black_scholes.py:74: RuntimeWarning:\n",
      "\n",
      "invalid value encountered in sqrt\n",
      "\n",
      "/Users/kirillbogomolov/Desktop/DeltaDex-Protocol/research-branch-main/backtest/black_scholes.py:75: RuntimeWarning:\n",
      "\n",
      "invalid value encountered in sqrt\n",
      "\n"
     ]
    },
    {
     "name": "stdout",
     "output_type": "stream",
     "text": [
      "Optimization terminated successfully.\n",
      "         Current function value: 728.969856\n",
      "         Iterations: 190\n",
      "         Function evaluations: 362\n",
      "728.9698561058419\n",
      "strike: 1513.537363811607, expiration: 0.08276240519387904, amount: 0.48431167711653755\n"
     ]
    }
   ],
   "source": [
    "optimal_option.find_optimal_option()"
   ]
  },
  {
   "cell_type": "code",
   "execution_count": 961,
   "id": "ada78d60-e6b0-4a3d-ba20-b9728da5e29f",
   "metadata": {},
   "outputs": [],
   "source": [
    "prices = np.array([price for price in range(500, 2500, 10 )])\n"
   ]
  },
  {
   "cell_type": "code",
   "execution_count": 962,
   "id": "99b4b72b-94a7-44ad-b485-48a1d0c7ed8b",
   "metadata": {},
   "outputs": [
    {
     "data": {
      "text/plain": [
       "[<matplotlib.lines.Line2D at 0x28e498b80>]"
      ]
     },
     "execution_count": 962,
     "metadata": {},
     "output_type": "execute_result"
    },
    {
     "data": {
      "image/png": "[encoded data removed]",
      "text/plain": [
       "<Figure size 640x480 with 1 Axes>"
      ]
     },
     "metadata": {},
     "output_type": "display_data"
    }
   ],
   "source": [
    "plt.plot(prices, optimal_option.calculate_hedged_position(prices))"
   ]
  },
  {
   "cell_type": "code",
   "execution_count": 963,
   "id": "b423c8f5-52cb-4634-b349-82744c0c78f9",
   "metadata": {},
   "outputs": [
    {
     "data": {
      "text/plain": [
       "-49.20795032812645"
      ]
     },
     "execution_count": 963,
     "metadata": {},
     "output_type": "execute_result"
    }
   ],
   "source": [
    "min(optimal_option.calculate_hedged_position(prices))"
   ]
  },
  {
   "cell_type": "code",
   "execution_count": 964,
   "id": "6e16a93a-420b-4e8d-9fde-6d17f890e9e9",
   "metadata": {},
   "outputs": [
    {
     "name": "stdout",
     "output_type": "stream",
     "text": [
      "1513.537363811607 1532.16 30.208277895765846\n"
     ]
    }
   ],
   "source": [
    "print(optimal_option.strike, optimal_option.uniswap_position.initial_price, optimal_option.expiration * 365)"
   ]
  },
  {
   "cell_type": "code",
   "execution_count": 965,
   "id": "e292b06c-c26f-4f3c-9b8a-ccd1b07a6794",
   "metadata": {},
   "outputs": [
    {
     "data": {
      "text/plain": [
       "188.77951465026217"
      ]
     },
     "execution_count": 965,
     "metadata": {},
     "output_type": "execute_result"
    }
   ],
   "source": [
    "optimal_option.sabr_model(1600, \n",
    "                                                1515, \n",
    "                                                48/365.25, \n",
    "                                                False)[0]"
   ]
  },
  {
   "cell_type": "code",
   "execution_count": 966,
   "id": "b261a4ac-f5a3-45d4-976d-be1c701ecb3f",
   "metadata": {},
   "outputs": [
    {
     "data": {
      "text/plain": [
       "30.22896849706432"
      ]
     },
     "execution_count": 966,
     "metadata": {},
     "output_type": "execute_result"
    }
   ],
   "source": [
    "optimal_option.expiration * 365.25"
   ]
  },
  {
   "cell_type": "code",
   "execution_count": 967,
   "id": "d07113dc-f130-49a0-b646-73d4e5776289",
   "metadata": {},
   "outputs": [],
   "source": [
    "# optimal_option.sabr_model(optimal_option.strike, \n",
    "#                 underlying_price + 0.0001, \n",
    "#                 (optimal_option.expiration - optimal_option.uniswap_position.period_in_years), \n",
    "#                 optimal_option.isCall)[0]"
   ]
  },
  {
   "cell_type": "code",
   "execution_count": 968,
   "id": "8430a103-a778-4d3c-91f9-3bf5dc8893be",
   "metadata": {},
   "outputs": [
    {
     "data": {
      "text/plain": [
       "30.22896849706432"
      ]
     },
     "execution_count": 968,
     "metadata": {},
     "output_type": "execute_result"
    }
   ],
   "source": [
    "optimal_option.expiration * 365.25"
   ]
  },
  {
   "cell_type": "code",
   "execution_count": 969,
   "id": "1a37d882-fcb5-4330-a628-89d4569f9541",
   "metadata": {},
   "outputs": [
    {
     "name": "stdout",
     "output_type": "stream",
     "text": [
      "\n",
      "        isCall: False\n",
      "        expiration: 0.08276240519387904\n",
      "        strike: 1513.537363811607\n",
      "        amount: 0.48431167711653755\n",
      "        initial cost: 49.20795032812645 \n",
      "        ---\n",
      "        uniswap_position: lower_price: 1400, upper_price: 1700,\n",
      "        initial_price: 1532.16, period_in_years: 0.08213552361396304\n",
      "        \n"
     ]
    }
   ],
   "source": [
    "print(optimal_option)"
   ]
  },
  {
   "cell_type": "code",
   "execution_count": 970,
   "id": "e90b6dd0-7962-4523-8523-abf7de6bfe1e",
   "metadata": {},
   "outputs": [],
   "source": [
    "prices = np.array([price for price in range(500, 2500, 10 )])\n",
    "\n",
    "pure_usdc = np.array([uniswap_position.get_total_value(uniswap_position.initial_price) for _ in prices])"
   ]
  },
  {
   "cell_type": "code",
   "execution_count": 1009,
   "id": "ab9d69dc-acf6-4d0f-9ec9-2318642b7446",
   "metadata": {},
   "outputs": [
    {
     "data": {
      "text/plain": [
       "51.51540200741506"
      ]
     },
     "execution_count": 1009,
     "metadata": {},
     "output_type": "execute_result"
    }
   ],
   "source": [
    "optimal_option.initial_cost"
   ]
  },
  {
   "cell_type": "code",
   "execution_count": 1040,
   "id": "83e69910-e66a-4219-be92-556d1902b0fd",
   "metadata": {},
   "outputs": [],
   "source": [
    "optimal_option.update_option_params(optimal_option.strike, 0.2, 0.4)"
   ]
  },
  {
   "cell_type": "code",
   "execution_count": 1041,
   "id": "b24d0824-e4a0-4c01-9a57-0bd9c75c6b99",
   "metadata": {},
   "outputs": [],
   "source": [
    "uniswap_tvs = np.array([uniswap_position.get_total_value(price) for price in prices])\n",
    "option_pnls = optimal_option.calculate_hedged_position(prices)\n"
   ]
  },
  {
   "cell_type": "code",
   "execution_count": 1042,
   "id": "304456ac-caec-46d0-a3cd-66fdc30bbab5",
   "metadata": {},
   "outputs": [],
   "source": [
    "earned_fees = 50 # in usdc"
   ]
  },
  {
   "cell_type": "code",
   "execution_count": 1043,
   "id": "7cab6a00-ce8b-42d4-82fc-eec733747a08",
   "metadata": {},
   "outputs": [],
   "source": [
    "# pure_usdc"
   ]
  },
  {
   "cell_type": "code",
   "execution_count": 1044,
   "id": "411e6925-8420-44fc-b10f-7d38d82ae170",
   "metadata": {},
   "outputs": [],
   "source": [
    "# uniswap_tvs"
   ]
  },
  {
   "cell_type": "code",
   "execution_count": null,
   "id": "5a2dd72e-3731-4891-9c12-264199b266b2",
   "metadata": {},
   "outputs": [],
   "source": []
  },
  {
   "cell_type": "code",
   "execution_count": 1045,
   "id": "bc88d283-a1dd-4463-8f25-28f86e055032",
   "metadata": {
    "tags": []
   },
   "outputs": [
    {
     "data": {
      "application/vnd.plotly.v1+json": {
       "config": {
        "plotlyServerURL": "https://plot.ly"
       },
       "data": [
        {
         "mode": "lines",
         "name": "pure_usdc",
         "type": "scatter",
         "x": [
          500,
          510,
          520,
          530,
          540,
          550,
          560,
          570,
          580,
          590,
          600,
          610,
          620,
          630,
          640,
          650,
          660,
          670,
          680,
          690,
          700,
          710,
          720,
          730,
          740,
          750,
          760,
          770,
          780,
          790,
          800,
          810,
          820,
          830,
          840,
          850,
          860,
          870,
          880,
          890,
          900,
          910,
          920,
          930,
          940,
          950,
          960,
          970,
          980,
          990,
          1000,
          1010,
          1020,
          1030,
          1040,
          1050,
          1060,
          1070,
          1080,
          1090,
          1100,
          1110,
          1120,
          1130,
          1140,
          1150,
          1160,
          1170,
          1180,
          1190,
          1200,
          1210,
          1220,
          1230,
          1240,
          1250,
          1260,
          1270,
          1280,
          1290,
          1300,
          1310,
          1320,
          1330,
          1340,
          1350,
          1360,
          1370,
          1380,
          1390,
          1400,
          1410,
          1420,
          1430,
          1440,
          1450,
          1460,
          1470,
          1480,
          1490,
          1500,
          1510,
          1520,
          1530,
          1540,
          1550,
          1560,
          1570,
          1580,
          1590,
          1600,
          1610,
          1620,
          1630,
          1640,
          1650,
          1660,
          1670,
          1680,
          1690,
          1700,
          1710,
          1720,
          1730,
          1740,
          1750,
          1760,
          1770,
          1780,
          1790,
          1800,
          1810,
          1820,
          1830,
          1840,
          1850,
          1860,
          1870,
          1880,
          1890,
          1900,
          1910,
          1920,
          1930,
          1940,
          1950,
          1960,
          1970,
          1980,
          1990,
          2000,
          2010,
          2020,
          2030,
          2040,
          2050,
          2060,
          2070,
          2080,
          2090,
          2100,
          2110,
          2120,
          2130,
          2140,
          2150,
          2160,
          2170,
          2180,
          2190,
          2200,
          2210,
          2220,
          2230,
          2240,
          2250,
          2260,
          2270,
          2280,
          2290,
          2300,
          2310,
          2320,
          2330,
          2340,
          2350,
          2360,
          2370,
          2380,
          2390,
          2400,
          2410,
          2420,
          2430,
          2440,
          2450,
          2460,
          2470,
          2480,
          2490
         ],
         "y": [
          644.5306521469613,
          644.5306521469613,
          644.5306521469613,
          644.5306521469613,
          644.5306521469613,
          644.5306521469613,
          644.5306521469613,
          644.5306521469613,
          644.5306521469613,
          644.5306521469613,
          644.5306521469613,
          644.5306521469613,
          644.5306521469613,
          644.5306521469613,
          644.5306521469613,
          644.5306521469613,
          644.5306521469613,
          644.5306521469613,
          644.5306521469613,
          644.5306521469613,
          644.5306521469613,
          644.5306521469613,
          644.5306521469613,
          644.5306521469613,
          644.5306521469613,
          644.5306521469613,
          644.5306521469613,
          644.5306521469613,
          644.5306521469613,
          644.5306521469613,
          644.5306521469613,
          644.5306521469613,
          644.5306521469613,
          644.5306521469613,
          644.5306521469613,
          644.5306521469613,
          644.5306521469613,
          644.5306521469613,
          644.5306521469613,
          644.5306521469613,
          644.5306521469613,
          644.5306521469613,
          644.5306521469613,
          644.5306521469613,
          644.5306521469613,
          644.5306521469613,
          644.5306521469613,
          644.5306521469613,
          644.5306521469613,
          644.5306521469613,
          644.5306521469613,
          644.5306521469613,
          644.5306521469613,
          644.5306521469613,
          644.5306521469613,
          644.5306521469613,
          644.5306521469613,
          644.5306521469613,
          644.5306521469613,
          644.5306521469613,
          644.5306521469613,
          644.5306521469613,
          644.5306521469613,
          644.5306521469613,
          644.5306521469613,
          644.5306521469613,
          644.5306521469613,
          644.5306521469613,
          644.5306521469613,
          644.5306521469613,
          644.5306521469613,
          644.5306521469613,
          644.5306521469613,
          644.5306521469613,
          644.5306521469613,
          644.5306521469613,
          644.5306521469613,
          644.5306521469613,
          644.5306521469613,
          644.5306521469613,
          644.5306521469613,
          644.5306521469613,
          644.5306521469613,
          644.5306521469613,
          644.5306521469613,
          644.5306521469613,
          644.5306521469613,
          644.5306521469613,
          644.5306521469613,
          644.5306521469613,
          644.5306521469613,
          644.5306521469613,
          644.5306521469613,
          644.5306521469613,
          644.5306521469613,
          644.5306521469613,
          644.5306521469613,
          644.5306521469613,
          644.5306521469613,
          644.5306521469613,
          644.5306521469613,
          644.5306521469613,
          644.5306521469613,
          644.5306521469613,
          644.5306521469613,
          644.5306521469613,
          644.5306521469613,
          644.5306521469613,
          644.5306521469613,
          644.5306521469613,
          644.5306521469613,
          644.5306521469613,
          644.5306521469613,
          644.5306521469613,
          644.5306521469613,
          644.5306521469613,
          644.5306521469613,
          644.5306521469613,
          644.5306521469613,
          644.5306521469613,
          644.5306521469613,
          644.5306521469613,
          644.5306521469613,
          644.5306521469613,
          644.5306521469613,
          644.5306521469613,
          644.5306521469613,
          644.5306521469613,
          644.5306521469613,
          644.5306521469613,
          644.5306521469613,
          644.5306521469613,
          644.5306521469613,
          644.5306521469613,
          644.5306521469613,
          644.5306521469613,
          644.5306521469613,
          644.5306521469613,
          644.5306521469613,
          644.5306521469613,
          644.5306521469613,
          644.5306521469613,
          644.5306521469613,
          644.5306521469613,
          644.5306521469613,
          644.5306521469613,
          644.5306521469613,
          644.5306521469613,
          644.5306521469613,
          644.5306521469613,
          644.5306521469613,
          644.5306521469613,
          644.5306521469613,
          644.5306521469613,
          644.5306521469613,
          644.5306521469613,
          644.5306521469613,
          644.5306521469613,
          644.5306521469613,
          644.5306521469613,
          644.5306521469613,
          644.5306521469613,
          644.5306521469613,
          644.5306521469613,
          644.5306521469613,
          644.5306521469613,
          644.5306521469613,
          644.5306521469613,
          644.5306521469613,
          644.5306521469613,
          644.5306521469613,
          644.5306521469613,
          644.5306521469613,
          644.5306521469613,
          644.5306521469613,
          644.5306521469613,
          644.5306521469613,
          644.5306521469613,
          644.5306521469613,
          644.5306521469613,
          644.5306521469613,
          644.5306521469613,
          644.5306521469613,
          644.5306521469613,
          644.5306521469613,
          644.5306521469613,
          644.5306521469613,
          644.5306521469613,
          644.5306521469613,
          644.5306521469613,
          644.5306521469613,
          644.5306521469613,
          644.5306521469613,
          644.5306521469613,
          644.5306521469613,
          644.5306521469613,
          644.5306521469613,
          644.5306521469613,
          644.5306521469613,
          644.5306521469613
         ]
        },
        {
         "mode": "lines",
         "name": "uniswap_tvs + fees = 50 usdc",
         "type": "scatter",
         "x": [
          500,
          510,
          520,
          530,
          540,
          550,
          560,
          570,
          580,
          590,
          600,
          610,
          620,
          630,
          640,
          650,
          660,
          670,
          680,
          690,
          700,
          710,
          720,
          730,
          740,
          750,
          760,
          770,
          780,
          790,
          800,
          810,
          820,
          830,
          840,
          850,
          860,
          870,
          880,
          890,
          900,
          910,
          920,
          930,
          940,
          950,
          960,
          970,
          980,
          990,
          1000,
          1010,
          1020,
          1030,
          1040,
          1050,
          1060,
          1070,
          1080,
          1090,
          1100,
          1110,
          1120,
          1130,
          1140,
          1150,
          1160,
          1170,
          1180,
          1190,
          1200,
          1210,
          1220,
          1230,
          1240,
          1250,
          1260,
          1270,
          1280,
          1290,
          1300,
          1310,
          1320,
          1330,
          1340,
          1350,
          1360,
          1370,
          1380,
          1390,
          1400,
          1410,
          1420,
          1430,
          1440,
          1450,
          1460,
          1470,
          1480,
          1490,
          1500,
          1510,
          1520,
          1530,
          1540,
          1550,
          1560,
          1570,
          1580,
          1590,
          1600,
          1610,
          1620,
          1630,
          1640,
          1650,
          1660,
          1670,
          1680,
          1690,
          1700,
          1710,
          1720,
          1730,
          1740,
          1750,
          1760,
          1770,
          1780,
          1790,
          1800,
          1810,
          1820,
          1830,
          1840,
          1850,
          1860,
          1870,
          1880,
          1890,
          1900,
          1910,
          1920,
          1930,
          1940,
          1950,
          1960,
          1970,
          1980,
          1990,
          2000,
          2010,
          2020,
          2030,
          2040,
          2050,
          2060,
          2070,
          2080,
          2090,
          2100,
          2110,
          2120,
          2130,
          2140,
          2150,
          2160,
          2170,
          2180,
          2190,
          2200,
          2210,
          2220,
          2230,
          2240,
          2250,
          2260,
          2270,
          2280,
          2290,
          2300,
          2310,
          2320,
          2330,
          2340,
          2350,
          2360,
          2370,
          2380,
          2390,
          2400,
          2410,
          2420,
          2430,
          2440,
          2450,
          2460,
          2470,
          2480,
          2490
         ],
         "y": [
          264.8507257994888,
          269.14774031547864,
          273.4447548314684,
          277.7417693474582,
          282.038783863448,
          286.33579837943773,
          290.6328128954275,
          294.9298274114173,
          299.22684192740707,
          303.5238564433969,
          307.82087095938664,
          312.1178854753764,
          316.41489999136616,
          320.71191450735597,
          325.00892902334573,
          329.3059435393355,
          333.6029580553253,
          337.89997257131506,
          342.1969870873048,
          346.49400160329463,
          350.7910161192844,
          355.08803063527415,
          359.38504515126397,
          363.6820596672537,
          367.9790741832435,
          372.2760886992333,
          376.57310321522306,
          380.8701177312128,
          385.16713224720263,
          389.4641467631924,
          393.76116127918215,
          398.05817579517196,
          402.3551903111617,
          406.6522048271515,
          410.9492193431413,
          415.24623385913105,
          419.5432483751208,
          423.8402628911106,
          428.1372774071004,
          432.43429192309014,
          436.73130643907996,
          441.0283209550697,
          445.3253354710595,
          449.6223499870493,
          453.91936450303905,
          458.2163790190288,
          462.5133935350186,
          466.8104080510084,
          471.10742256699814,
          475.40443708298795,
          479.7014515989777,
          483.99846611496747,
          488.2954806309573,
          492.59249514694704,
          496.8895096629368,
          501.1865241789266,
          505.4835386949164,
          509.78055321090613,
          514.077567726896,
          518.3745822428857,
          522.6715967588755,
          526.9686112748652,
          531.265625790855,
          535.5626403068447,
          539.8596548228346,
          544.1566693388244,
          548.4536838548141,
          552.750698370804,
          557.0477128867938,
          561.3447274027835,
          565.6417419187733,
          569.938756434763,
          574.2357709507528,
          578.5327854667426,
          582.8297999827323,
          587.1268144987222,
          591.4238290147119,
          595.7208435307017,
          600.0178580466915,
          604.3148725626812,
          608.611887078671,
          612.9089015946608,
          617.2059161106506,
          621.5029306266404,
          625.7999451426301,
          630.0969596586199,
          634.3939741746096,
          638.6909886905995,
          642.9880032065893,
          647.285017722579,
          651.5820322385688,
          655.7964009661795,
          659.8466472983023,
          663.7345019021814,
          667.4616652407949,
          671.0298083057327,
          674.4405733273713,
          677.6955744631939,
          680.796398465075,
          683.7446053263099,
          686.541728909136,
          689.1892775534571,
          691.6887346674588,
          694.041559300764,
          696.2491867007607,
          698.3130288526977,
          700.2344750041248,
          702.0148921742295,
          703.6556256485977,
          705.1579994599034,
          706.5233168550174,
          707.7528607489967,
          708.8478941664051,
          709.8096606703934,
          710.639384779951,
          711.3382723757263,
          711.9075110947958,
          712.348270714747,
          712.6617035274265,
          712.8489447026942,
          712.9111126425015,
          712.9111126425015,
          712.9111126425015,
          712.9111126425015,
          712.9111126425015,
          712.9111126425015,
          712.9111126425015,
          712.9111126425015,
          712.9111126425015,
          712.9111126425015,
          712.9111126425015,
          712.9111126425015,
          712.9111126425015,
          712.9111126425015,
          712.9111126425015,
          712.9111126425015,
          712.9111126425015,
          712.9111126425015,
          712.9111126425015,
          712.9111126425015,
          712.9111126425015,
          712.9111126425015,
          712.9111126425015,
          712.9111126425015,
          712.9111126425015,
          712.9111126425015,
          712.9111126425015,
          712.9111126425015,
          712.9111126425015,
          712.9111126425015,
          712.9111126425015,
          712.9111126425015,
          712.9111126425015,
          712.9111126425015,
          712.9111126425015,
          712.9111126425015,
          712.9111126425015,
          712.9111126425015,
          712.9111126425015,
          712.9111126425015,
          712.9111126425015,
          712.9111126425015,
          712.9111126425015,
          712.9111126425015,
          712.9111126425015,
          712.9111126425015,
          712.9111126425015,
          712.9111126425015,
          712.9111126425015,
          712.9111126425015,
          712.9111126425015,
          712.9111126425015,
          712.9111126425015,
          712.9111126425015,
          712.9111126425015,
          712.9111126425015,
          712.9111126425015,
          712.9111126425015,
          712.9111126425015,
          712.9111126425015,
          712.9111126425015,
          712.9111126425015,
          712.9111126425015,
          712.9111126425015,
          712.9111126425015,
          712.9111126425015,
          712.9111126425015,
          712.9111126425015,
          712.9111126425015,
          712.9111126425015,
          712.9111126425015,
          712.9111126425015,
          712.9111126425015,
          712.9111126425015,
          712.9111126425015,
          712.9111126425015,
          712.9111126425015,
          712.9111126425015,
          712.9111126425015,
          712.9111126425015
         ]
        },
        {
         "mode": "lines",
         "name": "option_pnls",
         "type": "scatter",
         "x": [
          500,
          510,
          520,
          530,
          540,
          550,
          560,
          570,
          580,
          590,
          600,
          610,
          620,
          630,
          640,
          650,
          660,
          670,
          680,
          690,
          700,
          710,
          720,
          730,
          740,
          750,
          760,
          770,
          780,
          790,
          800,
          810,
          820,
          830,
          840,
          850,
          860,
          870,
          880,
          890,
          900,
          910,
          920,
          930,
          940,
          950,
          960,
          970,
          980,
          990,
          1000,
          1010,
          1020,
          1030,
          1040,
          1050,
          1060,
          1070,
          1080,
          1090,
          1100,
          1110,
          1120,
          1130,
          1140,
          1150,
          1160,
          1170,
          1180,
          1190,
          1200,
          1210,
          1220,
          1230,
          1240,
          1250,
          1260,
          1270,
          1280,
          1290,
          1300,
          1310,
          1320,
          1330,
          1340,
          1350,
          1360,
          1370,
          1380,
          1390,
          1400,
          1410,
          1420,
          1430,
          1440,
          1450,
          1460,
          1470,
          1480,
          1490,
          1500,
          1510,
          1520,
          1530,
          1540,
          1550,
          1560,
          1570,
          1580,
          1590,
          1600,
          1610,
          1620,
          1630,
          1640,
          1650,
          1660,
          1670,
          1680,
          1690,
          1700,
          1710,
          1720,
          1730,
          1740,
          1750,
          1760,
          1770,
          1780,
          1790,
          1800,
          1810,
          1820,
          1830,
          1840,
          1850,
          1860,
          1870,
          1880,
          1890,
          1900,
          1910,
          1920,
          1930,
          1940,
          1950,
          1960,
          1970,
          1980,
          1990,
          2000,
          2010,
          2020,
          2030,
          2040,
          2050,
          2060,
          2070,
          2080,
          2090,
          2100,
          2110,
          2120,
          2130,
          2140,
          2150,
          2160,
          2170,
          2180,
          2190,
          2200,
          2210,
          2220,
          2230,
          2240,
          2250,
          2260,
          2270,
          2280,
          2290,
          2300,
          2310,
          2320,
          2330,
          2340,
          2350,
          2360,
          2370,
          2380,
          2390,
          2400,
          2410,
          2420,
          2430,
          2440,
          2450,
          2460,
          2470,
          2480,
          2490
         ],
         "y": [
          339.9081292984418,
          335.9086739894381,
          331.9093155650768,
          327.91006942056396,
          323.9109531013078,
          319.9119865592628,
          315.9131924337899,
          311.914596358596,
          307.91622729631746,
          303.9181179022971,
          299.9203049190718,
          295.92282960303567,
          291.92573818467383,
          287.9290823636599,
          283.93291983999603,
          279.9373148822211,
          275.94233893353857,
          271.9480712565081,
          267.9545996167065,
          263.96202100549453,
          259.97044240172164,
          255.9799815718635,
          251.99076790771971,
          248.00294330039242,
          244.01666304883742,
          240.03209680081017,
          236.04942952354133,
          232.06886250095823,
          228.09061435373002,
          224.1149220778621,
          220.14204209699443,
          216.1722513229895,
          212.2058482188158,
          208.2431538571699,
          204.28451296772272,
          200.33029496534346,
          196.38089495115315,
          192.4367346777928,
          188.49826346987624,
          184.5659590902348,
          180.6403285422664,
          176.7219087984783,
          172.81126744517348,
          168.9090032331797,
          165.01574652456867,
          161.13215962546138,
          157.25893699527808,
          153.39680532315987,
          149.54652346278147,
          145.70888221737698,
          141.88470396752552,
          138.0748421350795,
          134.28018047757166,
          130.501632208488,
          126.74013893995614,
          122.99666944563889,
          119.27221824295317,
          115.56780399512785,
          111.88446773506148,
          108.22327091443164,
          104.58529328301582,
          100.9716306047048,
          97.38339221819287,
          93.82169845180924,
          90.28767790338144,
          86.78246459738811,
          83.30719503293638,
          79.86300513728177,
          76.4510271406718,
          73.07238638922844,
          69.72819811337557,
          66.41956416995426,
          63.14756977663903,
          59.913280257572794,
          56.717737819260606,
          53.56195837571329,
          50.446928441599084,
          47.373602111758046,
          44.3428981448545,
          41.35569716820312,
          38.41283901990869,
          35.5151202434172,
          32.663291748407914,
          29.858056650665006,
          27.10006830218164,
          24.389928521274214,
          21.72818603094443,
          19.11533511213979,
          16.551814476942553,
          14.038006365085536,
          11.574235865566735,
          9.160770463530497,
          6.797819811017362,
          4.485535718673233,
          2.224012364065757,
          0.013286710892444376,
          -2.146660867906263,
          -4.255905771282059,
          -6.314578164676917,
          -8.322861798243828,
          -10.280992659667533,
          -12.18925747327117,
          -14.047992057658718,
          -15.857579554613451,
          -17.61844854227739,
          -19.33107104584488,
          -20.99596045914305,
          -22.613669390390996,
          -24.184787445342003,
          -25.709938960805637,
          -27.189780701212662,
          -28.624999530518934,
          -30.016310071276898,
          -31.36445236218156,
          -32.67018952481763,
          -33.93430544971643,
          -35.15760251116291,
          -36.340899319507805,
          -37.48502851903032,
          -38.590834638668596,
          -39.65917200221248,
          -40.69090270381908,
          -41.68689465399672,
          -42.64801970049144,
          -43.575151827820676,
          -44.46916543853536,
          -45.3309337186463,
          -46.16132708904102,
          -46.96121174413844,
          -47.73144827848442,
          -48.47289040147949,
          -49.18638373996106,
          -49.87276472792779,
          -50.532859582296226,
          -51.16748336322176,
          -51.7774391171975,
          -52.36351710085697,
          -52.92649408316125,
          -53.467132723433004,
          -53.98618102252354,
          -54.48437184424325,
          -54.96242250407246,
          -55.42103442206813,
          -55.860892836825734,
          -56.282666577303516,
          -56.68700788930206,
          -57.07455231338878,
          -57.44591861107889,
          -57.801708736111195,
          -58.142507847716985,
          -58.46888436283294,
          -58.78139004428782,
          -59.080560122074765,
          -59.36691344491215,
          -59.64095265939273,
          -59.903164414130295,
          -60.154019586410286,
          -60.39397352897737,
          -60.62346633469084,
          -60.84292311690411,
          -61.05275430353773,
          -61.25335594292506,
          -61.4451100196317,
          -61.628384778554626,
          -61.803535055722534,
          -61.970902614324004,
          -62.13081648459498,
          -62.28359330629942,
          -62.42953767263476,
          -62.5689424744875,
          -62.70208924405539,
          -62.829248496939236,
          -62.95068007188898,
          -63.06663346746896,
          -63.177348174978995,
          -63.28305400703917,
          -63.38397142131413,
          -63.48031183891158,
          -63.572277957050716,
          -63.66006405564954,
          -63.74385629753102,
          -63.82383302199338,
          -63.90016503154016,
          -63.973015871595415,
          -64.04254210307796,
          -64.1088935677341,
          -64.17221364616476,
          -64.2326395085101,
          -64.29030235778114,
          -64.34532766584758,
          -64.39783540212308,
          -64.44794025499228,
          -64.49575184605834,
          -64.54137493728955,
          -64.58490963116952,
          -64.62645156395844,
          -64.66609209218628,
          -64.70391847251246,
          -64.74001403508232,
          -64.774458350531
         ]
        },
        {
         "mode": "lines",
         "name": "uniswap_tvs + option_pnls + fees",
         "type": "scatter",
         "x": [
          500,
          510,
          520,
          530,
          540,
          550,
          560,
          570,
          580,
          590,
          600,
          610,
          620,
          630,
          640,
          650,
          660,
          670,
          680,
          690,
          700,
          710,
          720,
          730,
          740,
          750,
          760,
          770,
          780,
          790,
          800,
          810,
          820,
          830,
          840,
          850,
          860,
          870,
          880,
          890,
          900,
          910,
          920,
          930,
          940,
          950,
          960,
          970,
          980,
          990,
          1000,
          1010,
          1020,
          1030,
          1040,
          1050,
          1060,
          1070,
          1080,
          1090,
          1100,
          1110,
          1120,
          1130,
          1140,
          1150,
          1160,
          1170,
          1180,
          1190,
          1200,
          1210,
          1220,
          1230,
          1240,
          1250,
          1260,
          1270,
          1280,
          1290,
          1300,
          1310,
          1320,
          1330,
          1340,
          1350,
          1360,
          1370,
          1380,
          1390,
          1400,
          1410,
          1420,
          1430,
          1440,
          1450,
          1460,
          1470,
          1480,
          1490,
          1500,
          1510,
          1520,
          1530,
          1540,
          1550,
          1560,
          1570,
          1580,
          1590,
          1600,
          1610,
          1620,
          1630,
          1640,
          1650,
          1660,
          1670,
          1680,
          1690,
          1700,
          1710,
          1720,
          1730,
          1740,
          1750,
          1760,
          1770,
          1780,
          1790,
          1800,
          1810,
          1820,
          1830,
          1840,
          1850,
          1860,
          1870,
          1880,
          1890,
          1900,
          1910,
          1920,
          1930,
          1940,
          1950,
          1960,
          1970,
          1980,
          1990,
          2000,
          2010,
          2020,
          2030,
          2040,
          2050,
          2060,
          2070,
          2080,
          2090,
          2100,
          2110,
          2120,
          2130,
          2140,
          2150,
          2160,
          2170,
          2180,
          2190,
          2200,
          2210,
          2220,
          2230,
          2240,
          2250,
          2260,
          2270,
          2280,
          2290,
          2300,
          2310,
          2320,
          2330,
          2340,
          2350,
          2360,
          2370,
          2380,
          2390,
          2400,
          2410,
          2420,
          2430,
          2440,
          2450,
          2460,
          2470,
          2480,
          2490
         ],
         "y": [
          604.7588550979307,
          605.0564143049168,
          605.3540703965452,
          605.6518387680221,
          605.9497369647559,
          606.2477849387005,
          606.5460053292175,
          606.8444237700132,
          607.1430692237245,
          607.441974345694,
          607.7411758784584,
          608.0407150784121,
          608.34063817604,
          608.6409968710159,
          608.9418488633418,
          609.2432584215566,
          609.5452969888638,
          609.8480438278232,
          610.1515867040114,
          610.4560226087892,
          610.761458521006,
          611.0680122071376,
          611.3758130589837,
          611.6850029676461,
          611.995737232081,
          612.3081855000435,
          612.6225327387644,
          612.938980232171,
          613.2577466009327,
          613.5790688410545,
          613.9032033761766,
          614.2304271181615,
          614.5610385299775,
          614.8953586843213,
          615.2337323108641,
          615.5765288244745,
          615.9241433262739,
          616.2769975689034,
          616.6355408769766,
          617.0002510133249,
          617.3716349813463,
          617.750229753548,
          618.136602916233,
          618.531353220229,
          618.9351110276077,
          619.3485386444902,
          619.7723305302967,
          620.2072133741683,
          620.6539460297796,
          621.113319300365,
          621.5861555665033,
          622.0733082500469,
          622.575661108529,
          623.094127355435,
          623.629648602893,
          624.1831936245655,
          624.7557569378696,
          625.3483572060339,
          625.9620354619574,
          626.5978531573173,
          627.2568900418913,
          627.9402418795701,
          628.649018009048,
          629.384338758654,
          630.1473327262161,
          630.9391339362124,
          631.7608788877506,
          632.6137035080857,
          633.4987400274655,
          634.417113792012,
          635.3699400321489,
          636.3583206047173,
          637.3833407273918,
          638.4460657243153,
          639.5475378019929,
          640.6887728744355,
          641.870757456311,
          643.0944456424597,
          644.360756191546,
          645.6705697308844,
          647.0247260985797,
          648.424021838078,
          649.8692078590585,
          651.3609872773054,
          652.9000134448117,
          654.4868881798941,
          656.1221602055541,
          657.8063238027393,
          659.5398176835319,
          661.3230240876645,
          663.1562681041355,
          664.95717142971,
          666.6444671093196,
          668.2200376208546,
          669.6856776048606,
          671.0430950166251,
          672.2939124594651,
          673.4396686919118,
          674.481820300398,
          675.421743528066,
          676.2607362494686,
          677.000020080186,
          677.6407426098001,
          678.1839797461505,
          678.6307381584833,
          678.9819578068528,
          679.2385145449817,
          679.4012227838385,
          679.4708382032558,
          679.4480604990978,
          679.3335361538047,
          679.1278612184777,
          678.8315840951283,
          678.4452083082119,
          677.9691952551334,
          677.4039669260098,
          676.749908583633,
          676.0073713952391,
          675.1766750083962,
          674.2581100640256,
          673.251940640289,
          672.2202099386824,
          671.2242179885047,
          670.2630929420101,
          669.3359608146808,
          668.4419472039662,
          667.5801789238552,
          666.7497855534605,
          665.949900898363,
          665.1796643640171,
          664.438222241022,
          663.7247289025404,
          663.0383479145737,
          662.3782530602052,
          661.7436292792797,
          661.133673525304,
          660.5475955416446,
          659.9846185593402,
          659.4439799190685,
          658.924931619978,
          658.4267407982583,
          657.948690138429,
          657.4900782204334,
          657.0502198056757,
          656.628446065198,
          656.2241047531994,
          655.8365603291127,
          655.4651940314226,
          655.1094039063903,
          654.7686047947846,
          654.4422282796686,
          654.1297225982137,
          653.8305525204267,
          653.5441991975894,
          653.2701599831088,
          653.0079482283712,
          652.7570930560912,
          652.5171391135241,
          652.2876463078106,
          652.0681895255974,
          651.8583583389637,
          651.6577566995765,
          651.4660026228698,
          651.2827278639469,
          651.1075775867789,
          650.9402100281775,
          650.7802961579065,
          650.6275193362021,
          650.4815749698668,
          650.342170168014,
          650.2090233984461,
          650.0818641455622,
          649.9604325706125,
          649.8444791750326,
          649.7337644675225,
          649.6280586354624,
          649.5271412211873,
          649.4308008035899,
          649.3388346854508,
          649.251048586852,
          649.1672563449705,
          649.0872796205081,
          649.0109476109614,
          648.9380967709061,
          648.8685705394236,
          648.8022190747674,
          648.7388989963367,
          648.6784731339914,
          648.6208102847204,
          648.565784976654,
          648.5132772403784,
          648.4631723875092,
          648.4153607964431,
          648.369737705212,
          648.3262030113319,
          648.2846610785431,
          648.2450205503152,
          648.2071941699891,
          648.1710986074191,
          648.1366542919704
         ]
        }
       ],
       "layout": {
        "autosize": false,
        "height": 500,
        "template": {
         "data": {
          "bar": [
           {
            "error_x": {
             "color": "#2a3f5f"
            },
            "error_y": {
             "color": "#2a3f5f"
            },
            "marker": {
             "line": {
              "color": "#E5ECF6",
              "width": 0.5
             },
             "pattern": {
              "fillmode": "overlay",
              "size": 10,
              "solidity": 0.2
             }
            },
            "type": "bar"
           }
          ],
          "barpolar": [
           {
            "marker": {
             "line": {
              "color": "#E5ECF6",
              "width": 0.5
             },
             "pattern": {
              "fillmode": "overlay",
              "size": 10,
              "solidity": 0.2
             }
            },
            "type": "barpolar"
           }
          ],
          "carpet": [
           {
            "aaxis": {
             "endlinecolor": "#2a3f5f",
             "gridcolor": "white",
             "linecolor": "white",
             "minorgridcolor": "white",
             "startlinecolor": "#2a3f5f"
            },
            "baxis": {
             "endlinecolor": "#2a3f5f",
             "gridcolor": "white",
             "linecolor": "white",
             "minorgridcolor": "white",
             "startlinecolor": "#2a3f5f"
            },
            "type": "carpet"
           }
          ],
          "choropleth": [
           {
            "colorbar": {
             "outlinewidth": 0,
             "ticks": ""
            },
            "type": "choropleth"
           }
          ],
          "contour": [
           {
            "colorbar": {
             "outlinewidth": 0,
             "ticks": ""
            },
            "colorscale": [
             [
              0,
              "#0d0887"
             ],
             [
              0.1111111111111111,
              "#46039f"
             ],
             [
              0.2222222222222222,
              "#7201a8"
             ],
             [
              0.3333333333333333,
              "#9c179e"
             ],
             [
              0.4444444444444444,
              "#bd3786"
             ],
             [
              0.5555555555555556,
              "#d8576b"
             ],
             [
              0.6666666666666666,
              "#ed7953"
             ],
             [
              0.7777777777777778,
              "#fb9f3a"
             ],
             [
              0.8888888888888888,
              "#fdca26"
             ],
             [
              1,
              "#f0f921"
             ]
            ],
            "type": "contour"
           }
          ],
          "contourcarpet": [
           {
            "colorbar": {
             "outlinewidth": 0,
             "ticks": ""
            },
            "type": "contourcarpet"
           }
          ],
          "heatmap": [
           {
            "colorbar": {
             "outlinewidth": 0,
             "ticks": ""
            },
            "colorscale": [
             [
              0,
              "#0d0887"
             ],
             [
              0.1111111111111111,
              "#46039f"
             ],
             [
              0.2222222222222222,
              "#7201a8"
             ],
             [
              0.3333333333333333,
              "#9c179e"
             ],
             [
              0.4444444444444444,
              "#bd3786"
             ],
             [
              0.5555555555555556,
              "#d8576b"
             ],
             [
              0.6666666666666666,
              "#ed7953"
             ],
             [
              0.7777777777777778,
              "#fb9f3a"
             ],
             [
              0.8888888888888888,
              "#fdca26"
             ],
             [
              1,
              "#f0f921"
             ]
            ],
            "type": "heatmap"
           }
          ],
          "heatmapgl": [
           {
            "colorbar": {
             "outlinewidth": 0,
             "ticks": ""
            },
            "colorscale": [
             [
              0,
              "#0d0887"
             ],
             [
              0.1111111111111111,
              "#46039f"
             ],
             [
              0.2222222222222222,
              "#7201a8"
             ],
             [
              0.3333333333333333,
              "#9c179e"
             ],
             [
              0.4444444444444444,
              "#bd3786"
             ],
             [
              0.5555555555555556,
              "#d8576b"
             ],
             [
              0.6666666666666666,
              "#ed7953"
             ],
             [
              0.7777777777777778,
              "#fb9f3a"
             ],
             [
              0.8888888888888888,
              "#fdca26"
             ],
             [
              1,
              "#f0f921"
             ]
            ],
            "type": "heatmapgl"
           }
          ],
          "histogram": [
           {
            "marker": {
             "pattern": {
              "fillmode": "overlay",
              "size": 10,
              "solidity": 0.2
             }
            },
            "type": "histogram"
           }
          ],
          "histogram2d": [
           {
            "colorbar": {
             "outlinewidth": 0,
             "ticks": ""
            },
            "colorscale": [
             [
              0,
              "#0d0887"
             ],
             [
              0.1111111111111111,
              "#46039f"
             ],
             [
              0.2222222222222222,
              "#7201a8"
             ],
             [
              0.3333333333333333,
              "#9c179e"
             ],
             [
              0.4444444444444444,
              "#bd3786"
             ],
             [
              0.5555555555555556,
              "#d8576b"
             ],
             [
              0.6666666666666666,
              "#ed7953"
             ],
             [
              0.7777777777777778,
              "#fb9f3a"
             ],
             [
              0.8888888888888888,
              "#fdca26"
             ],
             [
              1,
              "#f0f921"
             ]
            ],
            "type": "histogram2d"
           }
          ],
          "histogram2dcontour": [
           {
            "colorbar": {
             "outlinewidth": 0,
             "ticks": ""
            },
            "colorscale": [
             [
              0,
              "#0d0887"
             ],
             [
              0.1111111111111111,
              "#46039f"
             ],
             [
              0.2222222222222222,
              "#7201a8"
             ],
             [
              0.3333333333333333,
              "#9c179e"
             ],
             [
              0.4444444444444444,
              "#bd3786"
             ],
             [
              0.5555555555555556,
              "#d8576b"
             ],
             [
              0.6666666666666666,
              "#ed7953"
             ],
             [
              0.7777777777777778,
              "#fb9f3a"
             ],
             [
              0.8888888888888888,
              "#fdca26"
             ],
             [
              1,
              "#f0f921"
             ]
            ],
            "type": "histogram2dcontour"
           }
          ],
          "mesh3d": [
           {
            "colorbar": {
             "outlinewidth": 0,
             "ticks": ""
            },
            "type": "mesh3d"
           }
          ],
          "parcoords": [
           {
            "line": {
             "colorbar": {
              "outlinewidth": 0,
              "ticks": ""
             }
            },
            "type": "parcoords"
           }
          ],
          "pie": [
           {
            "automargin": true,
            "type": "pie"
           }
          ],
          "scatter": [
           {
            "fillpattern": {
             "fillmode": "overlay",
             "size": 10,
             "solidity": 0.2
            },
            "type": "scatter"
           }
          ],
          "scatter3d": [
           {
            "line": {
             "colorbar": {
              "outlinewidth": 0,
              "ticks": ""
             }
            },
            "marker": {
             "colorbar": {
              "outlinewidth": 0,
              "ticks": ""
             }
            },
            "type": "scatter3d"
           }
          ],
          "scattercarpet": [
           {
            "marker": {
             "colorbar": {
              "outlinewidth": 0,
              "ticks": ""
             }
            },
            "type": "scattercarpet"
           }
          ],
          "scattergeo": [
           {
            "marker": {
             "colorbar": {
              "outlinewidth": 0,
              "ticks": ""
             }
            },
            "type": "scattergeo"
           }
          ],
          "scattergl": [
           {
            "marker": {
             "colorbar": {
              "outlinewidth": 0,
              "ticks": ""
             }
            },
            "type": "scattergl"
           }
          ],
          "scattermapbox": [
           {
            "marker": {
             "colorbar": {
              "outlinewidth": 0,
              "ticks": ""
             }
            },
            "type": "scattermapbox"
           }
          ],
          "scatterpolar": [
           {
            "marker": {
             "colorbar": {
              "outlinewidth": 0,
              "ticks": ""
             }
            },
            "type": "scatterpolar"
           }
          ],
          "scatterpolargl": [
           {
            "marker": {
             "colorbar": {
              "outlinewidth": 0,
              "ticks": ""
             }
            },
            "type": "scatterpolargl"
           }
          ],
          "scatterternary": [
           {
            "marker": {
             "colorbar": {
              "outlinewidth": 0,
              "ticks": ""
             }
            },
            "type": "scatterternary"
           }
          ],
          "surface": [
           {
            "colorbar": {
             "outlinewidth": 0,
             "ticks": ""
            },
            "colorscale": [
             [
              0,
              "#0d0887"
             ],
             [
              0.1111111111111111,
              "#46039f"
             ],
             [
              0.2222222222222222,
              "#7201a8"
             ],
             [
              0.3333333333333333,
              "#9c179e"
             ],
             [
              0.4444444444444444,
              "#bd3786"
             ],
             [
              0.5555555555555556,
              "#d8576b"
             ],
             [
              0.6666666666666666,
              "#ed7953"
             ],
             [
              0.7777777777777778,
              "#fb9f3a"
             ],
             [
              0.8888888888888888,
              "#fdca26"
             ],
             [
              1,
              "#f0f921"
             ]
            ],
            "type": "surface"
           }
          ],
          "table": [
           {
            "cells": {
             "fill": {
              "color": "#EBF0F8"
             },
             "line": {
              "color": "white"
             }
            },
            "header": {
             "fill": {
              "color": "#C8D4E3"
             },
             "line": {
              "color": "white"
             }
            },
            "type": "table"
           }
          ]
         },
         "layout": {
          "annotationdefaults": {
           "arrowcolor": "#2a3f5f",
           "arrowhead": 0,
           "arrowwidth": 1
          },
          "autotypenumbers": "strict",
          "coloraxis": {
           "colorbar": {
            "outlinewidth": 0,
            "ticks": ""
           }
          },
          "colorscale": {
           "diverging": [
            [
             0,
             "#8e0152"
            ],
            [
             0.1,
             "#c51b7d"
            ],
            [
             0.2,
             "#de77ae"
            ],
            [
             0.3,
             "#f1b6da"
            ],
            [
             0.4,
             "#fde0ef"
            ],
            [
             0.5,
             "#f7f7f7"
            ],
            [
             0.6,
             "#e6f5d0"
            ],
            [
             0.7,
             "#b8e186"
            ],
            [
             0.8,
             "#7fbc41"
            ],
            [
             0.9,
             "#4d9221"
            ],
            [
             1,
             "#276419"
            ]
           ],
           "sequential": [
            [
             0,
             "#0d0887"
            ],
            [
             0.1111111111111111,
             "#46039f"
            ],
            [
             0.2222222222222222,
             "#7201a8"
            ],
            [
             0.3333333333333333,
             "#9c179e"
            ],
            [
             0.4444444444444444,
             "#bd3786"
            ],
            [
             0.5555555555555556,
             "#d8576b"
            ],
            [
             0.6666666666666666,
             "#ed7953"
            ],
            [
             0.7777777777777778,
             "#fb9f3a"
            ],
            [
             0.8888888888888888,
             "#fdca26"
            ],
            [
             1,
             "#f0f921"
            ]
           ],
           "sequentialminus": [
            [
             0,
             "#0d0887"
            ],
            [
             0.1111111111111111,
             "#46039f"
            ],
            [
             0.2222222222222222,
             "#7201a8"
            ],
            [
             0.3333333333333333,
             "#9c179e"
            ],
            [
             0.4444444444444444,
             "#bd3786"
            ],
            [
             0.5555555555555556,
             "#d8576b"
            ],
            [
             0.6666666666666666,
             "#ed7953"
            ],
            [
             0.7777777777777778,
             "#fb9f3a"
            ],
            [
             0.8888888888888888,
             "#fdca26"
            ],
            [
             1,
             "#f0f921"
            ]
           ]
          },
          "colorway": [
           "#636efa",
           "#EF553B",
           "#00cc96",
           "#ab63fa",
           "#FFA15A",
           "#19d3f3",
           "#FF6692",
           "#B6E880",
           "#FF97FF",
           "#FECB52"
          ],
          "font": {
           "color": "#2a3f5f"
          },
          "geo": {
           "bgcolor": "white",
           "lakecolor": "white",
           "landcolor": "#E5ECF6",
           "showlakes": true,
           "showland": true,
           "subunitcolor": "white"
          },
          "hoverlabel": {
           "align": "left"
          },
          "hovermode": "closest",
          "mapbox": {
           "style": "light"
          },
          "paper_bgcolor": "white",
          "plot_bgcolor": "#E5ECF6",
          "polar": {
           "angularaxis": {
            "gridcolor": "white",
            "linecolor": "white",
            "ticks": ""
           },
           "bgcolor": "#E5ECF6",
           "radialaxis": {
            "gridcolor": "white",
            "linecolor": "white",
            "ticks": ""
           }
          },
          "scene": {
           "xaxis": {
            "backgroundcolor": "#E5ECF6",
            "gridcolor": "white",
            "gridwidth": 2,
            "linecolor": "white",
            "showbackground": true,
            "ticks": "",
            "zerolinecolor": "white"
           },
           "yaxis": {
            "backgroundcolor": "#E5ECF6",
            "gridcolor": "white",
            "gridwidth": 2,
            "linecolor": "white",
            "showbackground": true,
            "ticks": "",
            "zerolinecolor": "white"
           },
           "zaxis": {
            "backgroundcolor": "#E5ECF6",
            "gridcolor": "white",
            "gridwidth": 2,
            "linecolor": "white",
            "showbackground": true,
            "ticks": "",
            "zerolinecolor": "white"
           }
          },
          "shapedefaults": {
           "line": {
            "color": "#2a3f5f"
           }
          },
          "ternary": {
           "aaxis": {
            "gridcolor": "white",
            "linecolor": "white",
            "ticks": ""
           },
           "baxis": {
            "gridcolor": "white",
            "linecolor": "white",
            "ticks": ""
           },
           "bgcolor": "#E5ECF6",
           "caxis": {
            "gridcolor": "white",
            "linecolor": "white",
            "ticks": ""
           }
          },
          "title": {
           "x": 0.05
          },
          "xaxis": {
           "automargin": true,
           "gridcolor": "white",
           "linecolor": "white",
           "ticks": "",
           "title": {
            "standoff": 15
           },
           "zerolinecolor": "white",
           "zerolinewidth": 2
          },
          "yaxis": {
           "automargin": true,
           "gridcolor": "white",
           "linecolor": "white",
           "ticks": "",
           "title": {
            "standoff": 15
           },
           "zerolinecolor": "white",
           "zerolinewidth": 2
          }
         }
        },
        "title": {
         "text": "strike: 1513.537, expiration: 0.2, amount: 0.4 (years), fees: 50$"
        },
        "width": 1000,
        "xaxis": {
         "autorange": true,
         "range": [
          500,
          2490
         ],
         "type": "linear"
        },
        "yaxis": {
         "autorange": true,
         "range": [
          -107.97921229458836,
          756.1158665865589
         ],
         "type": "linear"
        }
       }
      },
      "image/png": "[encoded data removed]",
      "text/html": [
       "<div>                            <div id=\"15a3ef50-9479-4bdb-a3cd-e1418ed7a0d0\" class=\"plotly-graph-div\" style=\"height:500px; width:1000px;\"></div>            <script type=\"text/javascript\">                require([\"plotly\"], function(Plotly) {                    window.PLOTLYENV=window.PLOTLYENV || {};                                    if (document.getElementById(\"15a3ef50-9479-4bdb-a3cd-e1418ed7a0d0\")) {                    Plotly.newPlot(                        \"15a3ef50-9479-4bdb-a3cd-e1418ed7a0d0\",                        [{\"mode\":\"lines\",\"name\":\"pure_usdc\",\"x\":[500,510,520,530,540,550,560,570,580,590,600,610,620,630,640,650,660,670,680,690,700,710,720,730,740,750,760,770,780,790,800,810,820,830,840,850,860,870,880,890,900,910,920,930,940,950,960,970,980,990,1000,1010,1020,1030,1040,1050,1060,1070,1080,1090,1100,1110,1120,1130,1140,1150,1160,1170,1180,1190,1200,1210,1220,1230,1240,1250,1260,1270,1280,1290,1300,1310,1320,1330,1340,1350,1360,1370,1380,1390,1400,1410,1420,1430,1440,1450,1460,1470,1480,1490,1500,1510,1520,1530,1540,1550,1560,1570,1580,1590,1600,1610,1620,1630,1640,1650,1660,1670,1680,1690,1700,1710,1720,1730,1740,1750,1760,1770,1780,1790,1800,1810,1820,1830,1840,1850,1860,1870,1880,1890,1900,1910,1920,1930,1940,1950,1960,1970,1980,1990,2000,2010,2020,2030,2040,2050,2060,2070,2080,2090,2100,2110,2120,2130,2140,2150,2160,2170,2180,2190,2200,2210,2220,2230,2240,2250,2260,2270,2280,2290,2300,2310,2320,2330,2340,2350,2360,2370,2380,2390,2400,2410,2420,2430,2440,2450,2460,2470,2480,2490],\"y\":[644.5306521469613,644.5306521469613,644.5306521469613,644.5306521469613,644.5306521469613,644.5306521469613,644.5306521469613,644.5306521469613,644.5306521469613,644.5306521469613,644.5306521469613,644.5306521469613,644.5306521469613,644.5306521469613,644.5306521469613,644.5306521469613,644.5306521469613,644.5306521469613,644.5306521469613,644.5306521469613,644.5306521469613,644.5306521469613,644.5306521469613,644.5306521469613,644.5306521469613,644.5306521469613,644.5306521469613,644.5306521469613,644.5306521469613,644.5306521469613,644.5306521469613,644.5306521469613,644.5306521469613,644.5306521469613,644.5306521469613,644.5306521469613,644.5306521469613,644.5306521469613,644.5306521469613,644.5306521469613,644.5306521469613,644.5306521469613,644.5306521469613,644.5306521469613,644.5306521469613,644.5306521469613,644.5306521469613,644.5306521469613,644.5306521469613,644.5306521469613,644.5306521469613,644.5306521469613,644.5306521469613,644.5306521469613,644.5306521469613,644.5306521469613,644.5306521469613,644.5306521469613,644.5306521469613,644.5306521469613,644.5306521469613,644.5306521469613,644.5306521469613,644.5306521469613,644.5306521469613,644.5306521469613,644.5306521469613,644.5306521469613,644.5306521469613,644.5306521469613,644.5306521469613,644.5306521469613,644.5306521469613,644.5306521469613,644.5306521469613,644.5306521469613,644.5306521469613,644.5306521469613,644.5306521469613,644.5306521469613,644.5306521469613,644.5306521469613,644.5306521469613,644.5306521469613,644.5306521469613,644.5306521469613,644.5306521469613,644.5306521469613,644.5306521469613,644.5306521469613,644.5306521469613,644.5306521469613,644.5306521469613,644.5306521469613,644.5306521469613,644.5306521469613,644.5306521469613,644.5306521469613,644.5306521469613,644.5306521469613,644.5306521469613,644.5306521469613,644.5306521469613,644.5306521469613,644.5306521469613,644.5306521469613,644.5306521469613,644.5306521469613,644.5306521469613,644.5306521469613,644.5306521469613,644.5306521469613,644.5306521469613,644.5306521469613,644.5306521469613,644.5306521469613,644.5306521469613,644.5306521469613,644.5306521469613,644.5306521469613,644.5306521469613,644.5306521469613,644.5306521469613,644.5306521469613,644.5306521469613,644.5306521469613,644.5306521469613,644.5306521469613,644.5306521469613,644.5306521469613,644.5306521469613,644.5306521469613,644.5306521469613,644.5306521469613,644.5306521469613,644.5306521469613,644.5306521469613,644.5306521469613,644.5306521469613,644.5306521469613,644.5306521469613,644.5306521469613,644.5306521469613,644.5306521469613,644.5306521469613,644.5306521469613,644.5306521469613,644.5306521469613,644.5306521469613,644.5306521469613,644.5306521469613,644.5306521469613,644.5306521469613,644.5306521469613,644.5306521469613,644.5306521469613,644.5306521469613,644.5306521469613,644.5306521469613,644.5306521469613,644.5306521469613,644.5306521469613,644.5306521469613,644.5306521469613,644.5306521469613,644.5306521469613,644.5306521469613,644.5306521469613,644.5306521469613,644.5306521469613,644.5306521469613,644.5306521469613,644.5306521469613,644.5306521469613,644.5306521469613,644.5306521469613,644.5306521469613,644.5306521469613,644.5306521469613,644.5306521469613,644.5306521469613,644.5306521469613,644.5306521469613,644.5306521469613,644.5306521469613,644.5306521469613,644.5306521469613,644.5306521469613,644.5306521469613,644.5306521469613,644.5306521469613,644.5306521469613,644.5306521469613,644.5306521469613,644.5306521469613,644.5306521469613,644.5306521469613,644.5306521469613,644.5306521469613,644.5306521469613],\"type\":\"scatter\"},{\"mode\":\"lines\",\"name\":\"uniswap_tvs + fees = 50 usdc\",\"x\":[500,510,520,530,540,550,560,570,580,590,600,610,620,630,640,650,660,670,680,690,700,710,720,730,740,750,760,770,780,790,800,810,820,830,840,850,860,870,880,890,900,910,920,930,940,950,960,970,980,990,1000,1010,1020,1030,1040,1050,1060,1070,1080,1090,1100,1110,1120,1130,1140,1150,1160,1170,1180,1190,1200,1210,1220,1230,1240,1250,1260,1270,1280,1290,1300,1310,1320,1330,1340,1350,1360,1370,1380,1390,1400,1410,1420,1430,1440,1450,1460,1470,1480,1490,1500,1510,1520,1530,1540,1550,1560,1570,1580,1590,1600,1610,1620,1630,1640,1650,1660,1670,1680,1690,1700,1710,1720,1730,1740,1750,1760,1770,1780,1790,1800,1810,1820,1830,1840,1850,1860,1870,1880,1890,1900,1910,1920,1930,1940,1950,1960,1970,1980,1990,2000,2010,2020,2030,2040,2050,2060,2070,2080,2090,2100,2110,2120,2130,2140,2150,2160,2170,2180,2190,2200,2210,2220,2230,2240,2250,2260,2270,2280,2290,2300,2310,2320,2330,2340,2350,2360,2370,2380,2390,2400,2410,2420,2430,2440,2450,2460,2470,2480,2490],\"y\":[264.8507257994888,269.14774031547864,273.4447548314684,277.7417693474582,282.038783863448,286.33579837943773,290.6328128954275,294.9298274114173,299.22684192740707,303.5238564433969,307.82087095938664,312.1178854753764,316.41489999136616,320.71191450735597,325.00892902334573,329.3059435393355,333.6029580553253,337.89997257131506,342.1969870873048,346.49400160329463,350.7910161192844,355.08803063527415,359.38504515126397,363.6820596672537,367.9790741832435,372.2760886992333,376.57310321522306,380.8701177312128,385.16713224720263,389.4641467631924,393.76116127918215,398.05817579517196,402.3551903111617,406.6522048271515,410.9492193431413,415.24623385913105,419.5432483751208,423.8402628911106,428.1372774071004,432.43429192309014,436.73130643907996,441.0283209550697,445.3253354710595,449.6223499870493,453.91936450303905,458.2163790190288,462.5133935350186,466.8104080510084,471.10742256699814,475.40443708298795,479.7014515989777,483.99846611496747,488.2954806309573,492.59249514694704,496.8895096629368,501.1865241789266,505.4835386949164,509.78055321090613,514.077567726896,518.3745822428857,522.6715967588755,526.9686112748652,531.265625790855,535.5626403068447,539.8596548228346,544.1566693388244,548.4536838548141,552.750698370804,557.0477128867938,561.3447274027835,565.6417419187733,569.938756434763,574.2357709507528,578.5327854667426,582.8297999827323,587.1268144987222,591.4238290147119,595.7208435307017,600.0178580466915,604.3148725626812,608.611887078671,612.9089015946608,617.2059161106506,621.5029306266404,625.7999451426301,630.0969596586199,634.3939741746096,638.6909886905995,642.9880032065893,647.285017722579,651.5820322385688,655.7964009661795,659.8466472983023,663.7345019021814,667.4616652407949,671.0298083057327,674.4405733273713,677.6955744631939,680.796398465075,683.7446053263099,686.541728909136,689.1892775534571,691.6887346674588,694.041559300764,696.2491867007607,698.3130288526977,700.2344750041248,702.0148921742295,703.6556256485977,705.1579994599034,706.5233168550174,707.7528607489967,708.8478941664051,709.8096606703934,710.639384779951,711.3382723757263,711.9075110947958,712.348270714747,712.6617035274265,712.8489447026942,712.9111126425015,712.9111126425015,712.9111126425015,712.9111126425015,712.9111126425015,712.9111126425015,712.9111126425015,712.9111126425015,712.9111126425015,712.9111126425015,712.9111126425015,712.9111126425015,712.9111126425015,712.9111126425015,712.9111126425015,712.9111126425015,712.9111126425015,712.9111126425015,712.9111126425015,712.9111126425015,712.9111126425015,712.9111126425015,712.9111126425015,712.9111126425015,712.9111126425015,712.9111126425015,712.9111126425015,712.9111126425015,712.9111126425015,712.9111126425015,712.9111126425015,712.9111126425015,712.9111126425015,712.9111126425015,712.9111126425015,712.9111126425015,712.9111126425015,712.9111126425015,712.9111126425015,712.9111126425015,712.9111126425015,712.9111126425015,712.9111126425015,712.9111126425015,712.9111126425015,712.9111126425015,712.9111126425015,712.9111126425015,712.9111126425015,712.9111126425015,712.9111126425015,712.9111126425015,712.9111126425015,712.9111126425015,712.9111126425015,712.9111126425015,712.9111126425015,712.9111126425015,712.9111126425015,712.9111126425015,712.9111126425015,712.9111126425015,712.9111126425015,712.9111126425015,712.9111126425015,712.9111126425015,712.9111126425015,712.9111126425015,712.9111126425015,712.9111126425015,712.9111126425015,712.9111126425015,712.9111126425015,712.9111126425015,712.9111126425015,712.9111126425015,712.9111126425015,712.9111126425015,712.9111126425015,712.9111126425015],\"type\":\"scatter\"},{\"mode\":\"lines\",\"name\":\"option_pnls\",\"x\":[500,510,520,530,540,550,560,570,580,590,600,610,620,630,640,650,660,670,680,690,700,710,720,730,740,750,760,770,780,790,800,810,820,830,840,850,860,870,880,890,900,910,920,930,940,950,960,970,980,990,1000,1010,1020,1030,1040,1050,1060,1070,1080,1090,1100,1110,1120,1130,1140,1150,1160,1170,1180,1190,1200,1210,1220,1230,1240,1250,1260,1270,1280,1290,1300,1310,1320,1330,1340,1350,1360,1370,1380,1390,1400,1410,1420,1430,1440,1450,1460,1470,1480,1490,1500,1510,1520,1530,1540,1550,1560,1570,1580,1590,1600,1610,1620,1630,1640,1650,1660,1670,1680,1690,1700,1710,1720,1730,1740,1750,1760,1770,1780,1790,1800,1810,1820,1830,1840,1850,1860,1870,1880,1890,1900,1910,1920,1930,1940,1950,1960,1970,1980,1990,2000,2010,2020,2030,2040,2050,2060,2070,2080,2090,2100,2110,2120,2130,2140,2150,2160,2170,2180,2190,2200,2210,2220,2230,2240,2250,2260,2270,2280,2290,2300,2310,2320,2330,2340,2350,2360,2370,2380,2390,2400,2410,2420,2430,2440,2450,2460,2470,2480,2490],\"y\":[339.9081292984418,335.9086739894381,331.9093155650768,327.91006942056396,323.9109531013078,319.9119865592628,315.9131924337899,311.914596358596,307.91622729631746,303.9181179022971,299.9203049190718,295.92282960303567,291.92573818467383,287.9290823636599,283.93291983999603,279.9373148822211,275.94233893353857,271.9480712565081,267.9545996167065,263.96202100549453,259.97044240172164,255.9799815718635,251.99076790771971,248.00294330039242,244.01666304883742,240.03209680081017,236.04942952354133,232.06886250095823,228.09061435373002,224.1149220778621,220.14204209699443,216.1722513229895,212.2058482188158,208.2431538571699,204.28451296772272,200.33029496534346,196.38089495115315,192.4367346777928,188.49826346987624,184.5659590902348,180.6403285422664,176.7219087984783,172.81126744517348,168.9090032331797,165.01574652456867,161.13215962546138,157.25893699527808,153.39680532315987,149.54652346278147,145.70888221737698,141.88470396752552,138.0748421350795,134.28018047757166,130.501632208488,126.74013893995614,122.99666944563889,119.27221824295317,115.56780399512785,111.88446773506148,108.22327091443164,104.58529328301582,100.9716306047048,97.38339221819287,93.82169845180924,90.28767790338144,86.78246459738811,83.30719503293638,79.86300513728177,76.4510271406718,73.07238638922844,69.72819811337557,66.41956416995426,63.14756977663903,59.913280257572794,56.717737819260606,53.56195837571329,50.446928441599084,47.373602111758046,44.3428981448545,41.35569716820312,38.41283901990869,35.5151202434172,32.663291748407914,29.858056650665006,27.10006830218164,24.389928521274214,21.72818603094443,19.11533511213979,16.551814476942553,14.038006365085536,11.574235865566735,9.160770463530497,6.797819811017362,4.485535718673233,2.224012364065757,0.013286710892444376,-2.146660867906263,-4.255905771282059,-6.314578164676917,-8.322861798243828,-10.280992659667533,-12.18925747327117,-14.047992057658718,-15.857579554613451,-17.61844854227739,-19.33107104584488,-20.99596045914305,-22.613669390390996,-24.184787445342003,-25.709938960805637,-27.189780701212662,-28.624999530518934,-30.016310071276898,-31.36445236218156,-32.67018952481763,-33.93430544971643,-35.15760251116291,-36.340899319507805,-37.48502851903032,-38.590834638668596,-39.65917200221248,-40.69090270381908,-41.68689465399672,-42.64801970049144,-43.575151827820676,-44.46916543853536,-45.3309337186463,-46.16132708904102,-46.96121174413844,-47.73144827848442,-48.47289040147949,-49.18638373996106,-49.87276472792779,-50.532859582296226,-51.16748336322176,-51.7774391171975,-52.36351710085697,-52.92649408316125,-53.467132723433004,-53.98618102252354,-54.48437184424325,-54.96242250407246,-55.42103442206813,-55.860892836825734,-56.282666577303516,-56.68700788930206,-57.07455231338878,-57.44591861107889,-57.801708736111195,-58.142507847716985,-58.46888436283294,-58.78139004428782,-59.080560122074765,-59.36691344491215,-59.64095265939273,-59.903164414130295,-60.154019586410286,-60.39397352897737,-60.62346633469084,-60.84292311690411,-61.05275430353773,-61.25335594292506,-61.4451100196317,-61.628384778554626,-61.803535055722534,-61.970902614324004,-62.13081648459498,-62.28359330629942,-62.42953767263476,-62.5689424744875,-62.70208924405539,-62.829248496939236,-62.95068007188898,-63.06663346746896,-63.177348174978995,-63.28305400703917,-63.38397142131413,-63.48031183891158,-63.572277957050716,-63.66006405564954,-63.74385629753102,-63.82383302199338,-63.90016503154016,-63.973015871595415,-64.04254210307796,-64.1088935677341,-64.17221364616476,-64.2326395085101,-64.29030235778114,-64.34532766584758,-64.39783540212308,-64.44794025499228,-64.49575184605834,-64.54137493728955,-64.58490963116952,-64.62645156395844,-64.66609209218628,-64.70391847251246,-64.74001403508232,-64.774458350531],\"type\":\"scatter\"},{\"mode\":\"lines\",\"name\":\"uniswap_tvs + option_pnls + fees\",\"x\":[500,510,520,530,540,550,560,570,580,590,600,610,620,630,640,650,660,670,680,690,700,710,720,730,740,750,760,770,780,790,800,810,820,830,840,850,860,870,880,890,900,910,920,930,940,950,960,970,980,990,1000,1010,1020,1030,1040,1050,1060,1070,1080,1090,1100,1110,1120,1130,1140,1150,1160,1170,1180,1190,1200,1210,1220,1230,1240,1250,1260,1270,1280,1290,1300,1310,1320,1330,1340,1350,1360,1370,1380,1390,1400,1410,1420,1430,1440,1450,1460,1470,1480,1490,1500,1510,1520,1530,1540,1550,1560,1570,1580,1590,1600,1610,1620,1630,1640,1650,1660,1670,1680,1690,1700,1710,1720,1730,1740,1750,1760,1770,1780,1790,1800,1810,1820,1830,1840,1850,1860,1870,1880,1890,1900,1910,1920,1930,1940,1950,1960,1970,1980,1990,2000,2010,2020,2030,2040,2050,2060,2070,2080,2090,2100,2110,2120,2130,2140,2150,2160,2170,2180,2190,2200,2210,2220,2230,2240,2250,2260,2270,2280,2290,2300,2310,2320,2330,2340,2350,2360,2370,2380,2390,2400,2410,2420,2430,2440,2450,2460,2470,2480,2490],\"y\":[604.7588550979307,605.0564143049168,605.3540703965452,605.6518387680221,605.9497369647559,606.2477849387005,606.5460053292175,606.8444237700132,607.1430692237245,607.441974345694,607.7411758784584,608.0407150784121,608.34063817604,608.6409968710159,608.9418488633418,609.2432584215566,609.5452969888638,609.8480438278232,610.1515867040114,610.4560226087892,610.761458521006,611.0680122071376,611.3758130589837,611.6850029676461,611.995737232081,612.3081855000435,612.6225327387644,612.938980232171,613.2577466009327,613.5790688410545,613.9032033761766,614.2304271181615,614.5610385299775,614.8953586843213,615.2337323108641,615.5765288244745,615.9241433262739,616.2769975689034,616.6355408769766,617.0002510133249,617.3716349813463,617.750229753548,618.136602916233,618.531353220229,618.9351110276077,619.3485386444902,619.7723305302967,620.2072133741683,620.6539460297796,621.113319300365,621.5861555665033,622.0733082500469,622.575661108529,623.094127355435,623.629648602893,624.1831936245655,624.7557569378696,625.3483572060339,625.9620354619574,626.5978531573173,627.2568900418913,627.9402418795701,628.649018009048,629.384338758654,630.1473327262161,630.9391339362124,631.7608788877506,632.6137035080857,633.4987400274655,634.417113792012,635.3699400321489,636.3583206047173,637.3833407273918,638.4460657243153,639.5475378019929,640.6887728744355,641.870757456311,643.0944456424597,644.360756191546,645.6705697308844,647.0247260985797,648.424021838078,649.8692078590585,651.3609872773054,652.9000134448117,654.4868881798941,656.1221602055541,657.8063238027393,659.5398176835319,661.3230240876645,663.1562681041355,664.95717142971,666.6444671093196,668.2200376208546,669.6856776048606,671.0430950166251,672.2939124594651,673.4396686919118,674.481820300398,675.421743528066,676.2607362494686,677.000020080186,677.6407426098001,678.1839797461505,678.6307381584833,678.9819578068528,679.2385145449817,679.4012227838385,679.4708382032558,679.4480604990978,679.3335361538047,679.1278612184777,678.8315840951283,678.4452083082119,677.9691952551334,677.4039669260098,676.749908583633,676.0073713952391,675.1766750083962,674.2581100640256,673.251940640289,672.2202099386824,671.2242179885047,670.2630929420101,669.3359608146808,668.4419472039662,667.5801789238552,666.7497855534605,665.949900898363,665.1796643640171,664.438222241022,663.7247289025404,663.0383479145737,662.3782530602052,661.7436292792797,661.133673525304,660.5475955416446,659.9846185593402,659.4439799190685,658.924931619978,658.4267407982583,657.948690138429,657.4900782204334,657.0502198056757,656.628446065198,656.2241047531994,655.8365603291127,655.4651940314226,655.1094039063903,654.7686047947846,654.4422282796686,654.1297225982137,653.8305525204267,653.5441991975894,653.2701599831088,653.0079482283712,652.7570930560912,652.5171391135241,652.2876463078106,652.0681895255974,651.8583583389637,651.6577566995765,651.4660026228698,651.2827278639469,651.1075775867789,650.9402100281775,650.7802961579065,650.6275193362021,650.4815749698668,650.342170168014,650.2090233984461,650.0818641455622,649.9604325706125,649.8444791750326,649.7337644675225,649.6280586354624,649.5271412211873,649.4308008035899,649.3388346854508,649.251048586852,649.1672563449705,649.0872796205081,649.0109476109614,648.9380967709061,648.8685705394236,648.8022190747674,648.7388989963367,648.6784731339914,648.6208102847204,648.565784976654,648.5132772403784,648.4631723875092,648.4153607964431,648.369737705212,648.3262030113319,648.2846610785431,648.2450205503152,648.2071941699891,648.1710986074191,648.1366542919704],\"type\":\"scatter\"}],                        {\"template\":{\"data\":{\"histogram2dcontour\":[{\"type\":\"histogram2dcontour\",\"colorbar\":{\"outlinewidth\":0,\"ticks\":\"\"},\"colorscale\":[[0.0,\"#0d0887\"],[0.1111111111111111,\"#46039f\"],[0.2222222222222222,\"#7201a8\"],[0.3333333333333333,\"#9c179e\"],[0.4444444444444444,\"#bd3786\"],[0.5555555555555556,\"#d8576b\"],[0.6666666666666666,\"#ed7953\"],[0.7777777777777778,\"#fb9f3a\"],[0.8888888888888888,\"#fdca26\"],[1.0,\"#f0f921\"]]}],\"choropleth\":[{\"type\":\"choropleth\",\"colorbar\":{\"outlinewidth\":0,\"ticks\":\"\"}}],\"histogram2d\":[{\"type\":\"histogram2d\",\"colorbar\":{\"outlinewidth\":0,\"ticks\":\"\"},\"colorscale\":[[0.0,\"#0d0887\"],[0.1111111111111111,\"#46039f\"],[0.2222222222222222,\"#7201a8\"],[0.3333333333333333,\"#9c179e\"],[0.4444444444444444,\"#bd3786\"],[0.5555555555555556,\"#d8576b\"],[0.6666666666666666,\"#ed7953\"],[0.7777777777777778,\"#fb9f3a\"],[0.8888888888888888,\"#fdca26\"],[1.0,\"#f0f921\"]]}],\"heatmap\":[{\"type\":\"heatmap\",\"colorbar\":{\"outlinewidth\":0,\"ticks\":\"\"},\"colorscale\":[[0.0,\"#0d0887\"],[0.1111111111111111,\"#46039f\"],[0.2222222222222222,\"#7201a8\"],[0.3333333333333333,\"#9c179e\"],[0.4444444444444444,\"#bd3786\"],[0.5555555555555556,\"#d8576b\"],[0.6666666666666666,\"#ed7953\"],[0.7777777777777778,\"#fb9f3a\"],[0.8888888888888888,\"#fdca26\"],[1.0,\"#f0f921\"]]}],\"heatmapgl\":[{\"type\":\"heatmapgl\",\"colorbar\":{\"outlinewidth\":0,\"ticks\":\"\"},\"colorscale\":[[0.0,\"#0d0887\"],[0.1111111111111111,\"#46039f\"],[0.2222222222222222,\"#7201a8\"],[0.3333333333333333,\"#9c179e\"],[0.4444444444444444,\"#bd3786\"],[0.5555555555555556,\"#d8576b\"],[0.6666666666666666,\"#ed7953\"],[0.7777777777777778,\"#fb9f3a\"],[0.8888888888888888,\"#fdca26\"],[1.0,\"#f0f921\"]]}],\"contourcarpet\":[{\"type\":\"contourcarpet\",\"colorbar\":{\"outlinewidth\":0,\"ticks\":\"\"}}],\"contour\":[{\"type\":\"contour\",\"colorbar\":{\"outlinewidth\":0,\"ticks\":\"\"},\"colorscale\":[[0.0,\"#0d0887\"],[0.1111111111111111,\"#46039f\"],[0.2222222222222222,\"#7201a8\"],[0.3333333333333333,\"#9c179e\"],[0.4444444444444444,\"#bd3786\"],[0.5555555555555556,\"#d8576b\"],[0.6666666666666666,\"#ed7953\"],[0.7777777777777778,\"#fb9f3a\"],[0.8888888888888888,\"#fdca26\"],[1.0,\"#f0f921\"]]}],\"surface\":[{\"type\":\"surface\",\"colorbar\":{\"outlinewidth\":0,\"ticks\":\"\"},\"colorscale\":[[0.0,\"#0d0887\"],[0.1111111111111111,\"#46039f\"],[0.2222222222222222,\"#7201a8\"],[0.3333333333333333,\"#9c179e\"],[0.4444444444444444,\"#bd3786\"],[0.5555555555555556,\"#d8576b\"],[0.6666666666666666,\"#ed7953\"],[0.7777777777777778,\"#fb9f3a\"],[0.8888888888888888,\"#fdca26\"],[1.0,\"#f0f921\"]]}],\"mesh3d\":[{\"type\":\"mesh3d\",\"colorbar\":{\"outlinewidth\":0,\"ticks\":\"\"}}],\"scatter\":[{\"fillpattern\":{\"fillmode\":\"overlay\",\"size\":10,\"solidity\":0.2},\"type\":\"scatter\"}],\"parcoords\":[{\"type\":\"parcoords\",\"line\":{\"colorbar\":{\"outlinewidth\":0,\"ticks\":\"\"}}}],\"scatterpolargl\":[{\"type\":\"scatterpolargl\",\"marker\":{\"colorbar\":{\"outlinewidth\":0,\"ticks\":\"\"}}}],\"bar\":[{\"error_x\":{\"color\":\"#2a3f5f\"},\"error_y\":{\"color\":\"#2a3f5f\"},\"marker\":{\"line\":{\"color\":\"#E5ECF6\",\"width\":0.5},\"pattern\":{\"fillmode\":\"overlay\",\"size\":10,\"solidity\":0.2}},\"type\":\"bar\"}],\"scattergeo\":[{\"type\":\"scattergeo\",\"marker\":{\"colorbar\":{\"outlinewidth\":0,\"ticks\":\"\"}}}],\"scatterpolar\":[{\"type\":\"scatterpolar\",\"marker\":{\"colorbar\":{\"outlinewidth\":0,\"ticks\":\"\"}}}],\"histogram\":[{\"marker\":{\"pattern\":{\"fillmode\":\"overlay\",\"size\":10,\"solidity\":0.2}},\"type\":\"histogram\"}],\"scattergl\":[{\"type\":\"scattergl\",\"marker\":{\"colorbar\":{\"outlinewidth\":0,\"ticks\":\"\"}}}],\"scatter3d\":[{\"type\":\"scatter3d\",\"line\":{\"colorbar\":{\"outlinewidth\":0,\"ticks\":\"\"}},\"marker\":{\"colorbar\":{\"outlinewidth\":0,\"ticks\":\"\"}}}],\"scattermapbox\":[{\"type\":\"scattermapbox\",\"marker\":{\"colorbar\":{\"outlinewidth\":0,\"ticks\":\"\"}}}],\"scatterternary\":[{\"type\":\"scatterternary\",\"marker\":{\"colorbar\":{\"outlinewidth\":0,\"ticks\":\"\"}}}],\"scattercarpet\":[{\"type\":\"scattercarpet\",\"marker\":{\"colorbar\":{\"outlinewidth\":0,\"ticks\":\"\"}}}],\"carpet\":[{\"aaxis\":{\"endlinecolor\":\"#2a3f5f\",\"gridcolor\":\"white\",\"linecolor\":\"white\",\"minorgridcolor\":\"white\",\"startlinecolor\":\"#2a3f5f\"},\"baxis\":{\"endlinecolor\":\"#2a3f5f\",\"gridcolor\":\"white\",\"linecolor\":\"white\",\"minorgridcolor\":\"white\",\"startlinecolor\":\"#2a3f5f\"},\"type\":\"carpet\"}],\"table\":[{\"cells\":{\"fill\":{\"color\":\"#EBF0F8\"},\"line\":{\"color\":\"white\"}},\"header\":{\"fill\":{\"color\":\"#C8D4E3\"},\"line\":{\"color\":\"white\"}},\"type\":\"table\"}],\"barpolar\":[{\"marker\":{\"line\":{\"color\":\"#E5ECF6\",\"width\":0.5},\"pattern\":{\"fillmode\":\"overlay\",\"size\":10,\"solidity\":0.2}},\"type\":\"barpolar\"}],\"pie\":[{\"automargin\":true,\"type\":\"pie\"}]},\"layout\":{\"autotypenumbers\":\"strict\",\"colorway\":[\"#636efa\",\"#EF553B\",\"#00cc96\",\"#ab63fa\",\"#FFA15A\",\"#19d3f3\",\"#FF6692\",\"#B6E880\",\"#FF97FF\",\"#FECB52\"],\"font\":{\"color\":\"#2a3f5f\"},\"hovermode\":\"closest\",\"hoverlabel\":{\"align\":\"left\"},\"paper_bgcolor\":\"white\",\"plot_bgcolor\":\"#E5ECF6\",\"polar\":{\"bgcolor\":\"#E5ECF6\",\"angularaxis\":{\"gridcolor\":\"white\",\"linecolor\":\"white\",\"ticks\":\"\"},\"radialaxis\":{\"gridcolor\":\"white\",\"linecolor\":\"white\",\"ticks\":\"\"}},\"ternary\":{\"bgcolor\":\"#E5ECF6\",\"aaxis\":{\"gridcolor\":\"white\",\"linecolor\":\"white\",\"ticks\":\"\"},\"baxis\":{\"gridcolor\":\"white\",\"linecolor\":\"white\",\"ticks\":\"\"},\"caxis\":{\"gridcolor\":\"white\",\"linecolor\":\"white\",\"ticks\":\"\"}},\"coloraxis\":{\"colorbar\":{\"outlinewidth\":0,\"ticks\":\"\"}},\"colorscale\":{\"sequential\":[[0.0,\"#0d0887\"],[0.1111111111111111,\"#46039f\"],[0.2222222222222222,\"#7201a8\"],[0.3333333333333333,\"#9c179e\"],[0.4444444444444444,\"#bd3786\"],[0.5555555555555556,\"#d8576b\"],[0.6666666666666666,\"#ed7953\"],[0.7777777777777778,\"#fb9f3a\"],[0.8888888888888888,\"#fdca26\"],[1.0,\"#f0f921\"]],\"sequentialminus\":[[0.0,\"#0d0887\"],[0.1111111111111111,\"#46039f\"],[0.2222222222222222,\"#7201a8\"],[0.3333333333333333,\"#9c179e\"],[0.4444444444444444,\"#bd3786\"],[0.5555555555555556,\"#d8576b\"],[0.6666666666666666,\"#ed7953\"],[0.7777777777777778,\"#fb9f3a\"],[0.8888888888888888,\"#fdca26\"],[1.0,\"#f0f921\"]],\"diverging\":[[0,\"#8e0152\"],[0.1,\"#c51b7d\"],[0.2,\"#de77ae\"],[0.3,\"#f1b6da\"],[0.4,\"#fde0ef\"],[0.5,\"#f7f7f7\"],[0.6,\"#e6f5d0\"],[0.7,\"#b8e186\"],[0.8,\"#7fbc41\"],[0.9,\"#4d9221\"],[1,\"#276419\"]]},\"xaxis\":{\"gridcolor\":\"white\",\"linecolor\":\"white\",\"ticks\":\"\",\"title\":{\"standoff\":15},\"zerolinecolor\":\"white\",\"automargin\":true,\"zerolinewidth\":2},\"yaxis\":{\"gridcolor\":\"white\",\"linecolor\":\"white\",\"ticks\":\"\",\"title\":{\"standoff\":15},\"zerolinecolor\":\"white\",\"automargin\":true,\"zerolinewidth\":2},\"scene\":{\"xaxis\":{\"backgroundcolor\":\"#E5ECF6\",\"gridcolor\":\"white\",\"linecolor\":\"white\",\"showbackground\":true,\"ticks\":\"\",\"zerolinecolor\":\"white\",\"gridwidth\":2},\"yaxis\":{\"backgroundcolor\":\"#E5ECF6\",\"gridcolor\":\"white\",\"linecolor\":\"white\",\"showbackground\":true,\"ticks\":\"\",\"zerolinecolor\":\"white\",\"gridwidth\":2},\"zaxis\":{\"backgroundcolor\":\"#E5ECF6\",\"gridcolor\":\"white\",\"linecolor\":\"white\",\"showbackground\":true,\"ticks\":\"\",\"zerolinecolor\":\"white\",\"gridwidth\":2}},\"shapedefaults\":{\"line\":{\"color\":\"#2a3f5f\"}},\"annotationdefaults\":{\"arrowcolor\":\"#2a3f5f\",\"arrowhead\":0,\"arrowwidth\":1},\"geo\":{\"bgcolor\":\"white\",\"landcolor\":\"#E5ECF6\",\"subunitcolor\":\"white\",\"showland\":true,\"showlakes\":true,\"lakecolor\":\"white\"},\"title\":{\"x\":0.05},\"mapbox\":{\"style\":\"light\"}}},\"autosize\":false,\"width\":1000,\"height\":500,\"title\":{\"text\":\"strike: 1513.537, expiration: 0.2, amount: 0.4 (years), fees: 50$\"}},                        {\"responsive\": true}                    ).then(function(){\n",
       "                            \n",
       "var gd = document.getElementById('15a3ef50-9479-4bdb-a3cd-e1418ed7a0d0');\n",
       "var x = new MutationObserver(function (mutations, observer) {{\n",
       "        var display = window.getComputedStyle(gd).display;\n",
       "        if (!display || display === 'none') {{\n",
       "            console.log([gd, 'removed!']);\n",
       "            Plotly.purge(gd);\n",
       "            observer.disconnect();\n",
       "        }}\n",
       "}});\n",
       "\n",
       "// Listen for the removal of the full notebook cells\n",
       "var notebookContainer = gd.closest('#notebook-container');\n",
       "if (notebookContainer) {{\n",
       "    x.observe(notebookContainer, {childList: true});\n",
       "}}\n",
       "\n",
       "// Listen for the clearing of the current output cell\n",
       "var outputEl = gd.closest('.output');\n",
       "if (outputEl) {{\n",
       "    x.observe(outputEl, {childList: true});\n",
       "}}\n",
       "\n",
       "                        })                };                });            </script>        </div>"
      ]
     },
     "metadata": {},
     "output_type": "display_data"
    }
   ],
   "source": [
    "fig = go.Figure()\n",
    "fig.update_layout(\n",
    "    autosize=False,\n",
    "    width=1000,\n",
    "    height=500)\n",
    "\n",
    "fig.add_trace(go.Scatter(x=prices, y=pure_usdc,\n",
    "                    mode='lines',\n",
    "                    name='pure_usdc'))\n",
    "\n",
    "fig.add_trace(go.Scatter(x=prices, y=uniswap_tvs + earned_fees,\n",
    "                    mode='lines',\n",
    "                    name=\"\"\"uniswap_tvs + fees = {} usdc\"\"\".format(earned_fees)))\n",
    "fig.add_trace(go.Scatter(x=prices, y=option_pnls,\n",
    "                    mode='lines',\n",
    "                    name='option_pnls'))\n",
    "fig.add_trace(go.Scatter(x=prices, y=uniswap_tvs + option_pnls + earned_fees,\n",
    "                    mode='lines',\n",
    "                    name='uniswap_tvs + option_pnls + fees'))\n",
    "fig.update_layout(title_text='strike: {}, expiration: {}, amount: {} (years), fees: {}$'.format(round(optimal_option.strike, 3), \n",
    "                                                                             optimal_option.expiration,\n",
    "                                                                             round(optimal_option.amount, 3),\n",
    "                                                                             earned_fees))\n",
    "\n",
    "\n",
    "\n"
   ]
  },
  {
   "cell_type": "code",
   "execution_count": 1039,
   "id": "4f60aa08-74a0-48ef-abbe-a42d3818bfbe",
   "metadata": {},
   "outputs": [
    {
     "name": "stdout",
     "output_type": "stream",
     "text": [
      "\n",
      "        isCall: False\n",
      "        expiration: 2\n",
      "        strike: 1513.537363811607\n",
      "        amount: 0.4\n",
      "        initial cost: 230.0637878808775 \n",
      "        ---\n",
      "        uniswap_position: lower_price: 1400, upper_price: 1700,\n",
      "        initial_price: 1532.16, period_in_years: 0.08213552361396304\n",
      "        \n"
     ]
    }
   ],
   "source": [
    "print(optimal_option)"
   ]
  },
  {
   "cell_type": "code",
   "execution_count": null,
   "id": "5c21312e-7c6d-4ede-a532-4377d01d4f44",
   "metadata": {},
   "outputs": [],
   "source": []
  },
  {
   "cell_type": "code",
   "execution_count": 159,
   "id": "78b900c3-9efc-4bd0-b769-5e9a88f7c485",
   "metadata": {},
   "outputs": [],
   "source": [
    "def plot_smile():\n",
    "    #strikes\n",
    "    Kn = F * np.linspace(0.5, 2.6, 32)\n",
    "    c0, iv0 = sabr_0( Kn, F, T )\n",
    "    plt.figure(figsize=(15, 8))\n",
    "    ax1 = plt.subplot(2, 2, 1)\n",
    "    ax1.plot(Kn, c0)\n",
    "    ax1.grid()\n",
    "    ax1.set_title(\"Option price\", fontsize=15)\n",
    "    ax1.set_xlabel(\"strike\", fontsize=12)\n",
    "\n",
    "    ax2 = plt.subplot(2, 2, 2)\n",
    "    ax2.plot(Kn, iv0)\n",
    "    ax2.grid()\n",
    "    ax2.set_title(\"IV\", fontsize=15)\n",
    "    ax2.set_xlabel(\"strike\", fontsize=12)\n",
    "\n",
    "    plt.show()\n",
    "    None"
   ]
  },
  {
   "cell_type": "code",
   "execution_count": null,
   "id": "dc4f8306-20d8-4f03-8fd8-86d1a3443f86",
   "metadata": {},
   "outputs": [],
   "source": []
  },
  {
   "cell_type": "code",
   "execution_count": null,
   "id": "06c67966-9b07-405f-b8da-f326795dc1c1",
   "metadata": {},
   "outputs": [],
   "source": []
  },
  {
   "cell_type": "code",
   "execution_count": null,
   "id": "043e3567-6fe6-4ee0-9c3a-eb8d392f0efe",
   "metadata": {},
   "outputs": [],
   "source": []
  },
  {
   "cell_type": "code",
   "execution_count": null,
   "id": "2d6eaf92-68cf-455f-8a54-f0a1688a5d73",
   "metadata": {},
   "outputs": [],
   "source": []
  }
 ],
 "metadata": {
  "kernelspec": {
   "display_name": "Python 3 (ipykernel)",
   "language": "python",
   "name": "python3"
  },
  "language_info": {
   "codemirror_mode": {
    "name": "ipython",
    "version": 3
   },
   "file_extension": ".py",
   "mimetype": "text/x-python",
   "name": "python",
   "nbconvert_exporter": "python",
   "pygments_lexer": "ipython3",
   "version": "3.8.16"
  }
 },
 "nbformat": 4,
 "nbformat_minor": 5
}
