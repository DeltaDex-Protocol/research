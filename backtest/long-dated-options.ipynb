{
 "cells": [
  {
   "cell_type": "code",
   "execution_count": 2,
   "id": "53d2bc01-f976-4f40-9af9-775003611c3a",
   "metadata": {},
   "outputs": [],
   "source": [
    "from sabr import SABR\n",
    "from sabr_calibration import SABRCalibrator"
   ]
  },
  {
   "cell_type": "code",
   "execution_count": 3,
   "id": "82159e85-a0d0-4e96-bdc4-ee7a97400503",
   "metadata": {},
   "outputs": [],
   "source": [
    "from deltadex_calibration import calibrate_sabr\n",
    "from deribit_parser import GetOptionMeta"
   ]
  },
  {
   "cell_type": "code",
   "execution_count": 4,
   "id": "bcf905b1-1c83-4701-a054-58b21c5f3c3f",
   "metadata": {},
   "outputs": [],
   "source": [
    "import numpy as np\n",
    "from matplotlib import pyplot as plt\n",
    "import plotly.express as px\n",
    "import plotly.graph_objects as go\n"
   ]
  },
  {
   "cell_type": "code",
   "execution_count": 5,
   "id": "2cb2e1f5-1472-4831-a508-27da2e134426",
   "metadata": {},
   "outputs": [
    {
     "data": {
      "text/plain": [
       "<module 'uniswap_v3_liquidity_math' from '/Users/kirillbogomolov/Desktop/DeltaDex-Protocol/research-branch-main/backtest/uniswap_v3_liquidity_math.py'>"
      ]
     },
     "execution_count": 5,
     "metadata": {},
     "output_type": "execute_result"
    }
   ],
   "source": [
    "import uniswap_v3_liquidity_math as uniswap_math\n",
    "\n",
    "import importlib\n",
    "importlib.reload(uniswap_math)"
   ]
  },
  {
   "cell_type": "code",
   "execution_count": 6,
   "id": "9653f7c7-3bef-439e-90ad-b2cb2cad1b7b",
   "metadata": {},
   "outputs": [],
   "source": [
    "class UniswapPosition:\n",
    "    def __init__(self, lower_price, upper_price, initial_price, initial_token1_amount, period_in_years):\n",
    "        self.lower_price = lower_price\n",
    "        self.upper_price = upper_price\n",
    "        self.initial_price = initial_price\n",
    "        self.initial_token1_amount = initial_token1_amount\n",
    "        self.period_in_years = period_in_years\n",
    "    \n",
    "    def get_tokens_amounts(self, price):\n",
    "        return uniswap_math.get_tokens_amounts(initial_price = self.initial_price, \n",
    "                                lowerPrice = self.lower_price, upperPrice = self.upper_price, \n",
    "                                initial_y = self.initial_token1_amount, currentPrice = price)\n",
    "    \n",
    "    def get_total_value(self, price):\n",
    "        x, y = self.get_tokens_amounts(price)\n",
    "        return x * price + y"
   ]
  },
  {
   "cell_type": "markdown",
   "id": "cf727282-adf6-4524-94b7-aa02e2dd8303",
   "metadata": {},
   "source": [
    "### Optimal option"
   ]
  },
  {
   "cell_type": "code",
   "execution_count": 191,
   "id": "430e9493-7512-4899-b2ef-4f6d3a9a2a55",
   "metadata": {},
   "outputs": [],
   "source": [
    "class OptimalOption:\n",
    "    def __init__(self, sabr_model: SABR, \n",
    "                 uniswap_position: UniswapPosition,\n",
    "                 expiration: float,\n",
    "                 strike: float,\n",
    "                 amount: float,\n",
    "                 isCall: bool = False):\n",
    "        \n",
    "        self.sabr_model = sabr_model\n",
    "        self.uniswap_position = uniswap_position\n",
    "        \n",
    "        self.isCall = False\n",
    "        # self.expiration = (1.01 * uniswap_position.period_in_years)\n",
    "        self.expiration = expiration\n",
    "        self.strike = strike\n",
    "        # self.strike = (uniswap_position.lower_price * uniswap_position.upper_price) ** 0.5\n",
    "        self.amount = amount\n",
    "        self.initial_cost = self.amount * self.sabr_model(self.strike, \n",
    "                                                self.uniswap_position.initial_price, \n",
    "                                                self.expiration, \n",
    "                                                self.isCall)[0]\n",
    "    \n",
    "    def update_option_params(self, strike, expiration, amount):\n",
    "        self.strike = strike\n",
    "        self.expiration = expiration\n",
    "        self.amount = amount\n",
    "        self.initial_cost = self.amount * self.sabr_model(self.strike, \n",
    "                                                self.uniswap_position.initial_price, \n",
    "                                                self.expiration, \n",
    "                                                self.isCall)[0]\n",
    "        # print(self.initial_cost)\n",
    "        \n",
    "    def find_optimal_option(self):\n",
    "        \n",
    "        # todo: make bounds being depenedent on underlying_price\n",
    "        price_lower_bound = int(self.uniswap_position.initial_price / 1.5)\n",
    "        price_upper_bound = int(self.uniswap_position.initial_price * 1.3)\n",
    "        prices = np.array([price for price in range(price_lower_bound, price_upper_bound, 10 )]) \n",
    "        \n",
    "        from scipy.optimize import minimize\n",
    "        \n",
    "        def _find_optimal_option(x):\n",
    "            strike, expiration, amount = x\n",
    "            self.update_option_params(strike, expiration, amount)\n",
    "            \n",
    "            initial_tv = self.uniswap_position.get_total_value(self.uniswap_position.initial_price)\n",
    "            uniswap_tvs = np.array([self.uniswap_position.get_total_value(price) for price in prices])\n",
    "            \n",
    "            multiplication_factor = 0.95\n",
    "            loss = ((self.calculate_hedged_position(prices) + \n",
    "                    uniswap_tvs - initial_tv * multiplication_factor) ** 2).mean()  \n",
    "            return loss\n",
    "        \n",
    "        x0 = np.array([self.strike, self.expiration, self.amount])\n",
    "        res = minimize(_find_optimal_option, x0, method='nelder-mead',\n",
    "                       options={'xatol': 1e-8, 'disp': True})\n",
    "        \n",
    "        strike, expiration, amount = res.x\n",
    "        \n",
    "        print('strike: {}, expiration: {}, amount: {}'.format(strike, expiration, amount))\n",
    "    \n",
    "    \n",
    "    def calculate_hedged_position(self, prices):\n",
    "        \n",
    "        def calculate_pnl(price, strike):\n",
    "            if self.isCall == True:\n",
    "                return max(price - strike, 0)\n",
    "            if self.isCall == False:\n",
    "                return max(strike - price, 0)\n",
    "        #calculate_pnl(price, self.strike) +\n",
    "        option_pnls = self.amount * np.array([ self.sabr_model(self.strike, \n",
    "                                                    price + 0.0001, # otherwise a bug appears \n",
    "                                                    (self.expiration - self.uniswap_position.period_in_years), \n",
    "                                                    self.isCall)[0] for price in prices]) - self.initial_cost\n",
    "        return option_pnls\n",
    "    \n",
    "    def __repr__(self):\n",
    "        return (\"\"\"\n",
    "        isCall: {}\n",
    "        expiration: {}\n",
    "        strike: {}\n",
    "        amount: {}\n",
    "        initial cost: {} \n",
    "        ---\n",
    "        uniswap_position: lower_price: {}, upper_price: {},\n",
    "        initial_price: {}, period_in_years: {}\n",
    "        \"\"\".format(self.isCall, \n",
    "                    self.expiration,\n",
    "                    self.strike,\n",
    "                    self.amount,\n",
    "                    self.initial_cost,\n",
    "                    self.uniswap_position.lower_price,\n",
    "                    self.uniswap_position.upper_price,\n",
    "                    self.uniswap_position.initial_price,\n",
    "                    self.uniswap_position.period_in_years))\n",
    "    "
   ]
  },
  {
   "cell_type": "markdown",
   "id": "1226a2ce-4293-422e-acf2-4656a617836b",
   "metadata": {},
   "source": [
    "### Calibration"
   ]
  },
  {
   "cell_type": "code",
   "execution_count": 192,
   "id": "b78aeb97-b5d7-42ab-8c1b-5dce2d714b82",
   "metadata": {},
   "outputs": [],
   "source": [
    "OptionMeta = GetOptionMeta()['Expiry']\n",
    "expiries = list(map(lambda expiry: (expiry[:-5] + \"/\" + expiry[-5:-2] + \"/\" + expiry[-2:]), OptionMeta))\n"
   ]
  },
  {
   "cell_type": "code",
   "execution_count": 193,
   "id": "ef6e2c01-0354-43e9-941f-ff34a2982323",
   "metadata": {},
   "outputs": [
    {
     "data": {
      "text/plain": [
       "['3/MAR/23',\n",
       " '30/JUN/23',\n",
       " '29/DEC/23',\n",
       " '31/MAR/23',\n",
       " '17/FEB/23',\n",
       " '13/FEB/23',\n",
       " '24/FEB/23',\n",
       " '29/SEP/23',\n",
       " '12/FEB/23',\n",
       " '28/APR/23']"
      ]
     },
     "execution_count": 193,
     "metadata": {},
     "output_type": "execute_result"
    }
   ],
   "source": [
    "expiries"
   ]
  },
  {
   "cell_type": "code",
   "execution_count": 194,
   "id": "97067c70-d828-478c-bafc-af8ccda3d238",
   "metadata": {},
   "outputs": [
    {
     "data": {
      "text/plain": [
       "9"
      ]
     },
     "execution_count": 194,
     "metadata": {},
     "output_type": "execute_result"
    }
   ],
   "source": [
    "expiries.index('28/APR/23')"
   ]
  },
  {
   "cell_type": "code",
   "execution_count": 195,
   "id": "d597e625-4b35-4fd7-8980-06db6fee23f6",
   "metadata": {},
   "outputs": [
    {
     "data": {
      "text/plain": [
       "'29/SEP/23'"
      ]
     },
     "execution_count": 195,
     "metadata": {},
     "output_type": "execute_result"
    }
   ],
   "source": [
    "expiry = expiries[expiries.index('29/SEP/23')]\n",
    "expiry"
   ]
  },
  {
   "cell_type": "code",
   "execution_count": 196,
   "id": "015a40f2-4889-4714-b1b9-fd46cad27b74",
   "metadata": {},
   "outputs": [
    {
     "name": "stderr",
     "output_type": "stream",
     "text": [
      "/Users/kirillbogomolov/Desktop/DeltaDex-Protocol/research-branch-main/backtest/deribit_parser.py:29: RuntimeWarning:\n",
      "\n",
      "divide by zero encountered in double_scalars\n",
      "\n"
     ]
    },
    {
     "name": "stdout",
     "output_type": "stream",
     "text": [
      "db updated 2023-02-11 13:28:03.619706\n"
     ]
    },
    {
     "name": "stderr",
     "output_type": "stream",
     "text": [
      "100%|███████████████████████████████████████| 500/500 [00:00<00:00, 4642.44it/s]"
     ]
    },
    {
     "name": "stdout",
     "output_type": "stream",
     "text": [
      "optimized parameters:\n",
      "('alpha ', 9.06778)\n",
      "('v ', 0.8731)\n",
      "('beta  ', 0.63382)\n",
      "('rho', 0.11659)\n"
     ]
    },
    {
     "name": "stderr",
     "output_type": "stream",
     "text": [
      "\n"
     ]
    }
   ],
   "source": [
    "sabr, underlying_price = calibrate_sabr(SELECTED_EXPIRY = expiry)\n"
   ]
  },
  {
   "cell_type": "code",
   "execution_count": 197,
   "id": "dcfec6fe-e71f-4517-8c22-e3f22319e66e",
   "metadata": {},
   "outputs": [],
   "source": [
    "# sabr.r = 0.1"
   ]
  },
  {
   "cell_type": "code",
   "execution_count": 198,
   "id": "bf9d4b25-dd82-4654-b673-8bbf2286e5e8",
   "metadata": {},
   "outputs": [
    {
     "name": "stdout",
     "output_type": "stream",
     "text": [
      "1540.19\n"
     ]
    }
   ],
   "source": [
    "print(underlying_price)"
   ]
  },
  {
   "cell_type": "code",
   "execution_count": 199,
   "id": "1609de94-769b-48de-8908-2fe5fe6617b6",
   "metadata": {},
   "outputs": [],
   "source": [
    "uniswap_position = UniswapPosition(lower_price = 1400, \n",
    "                                   upper_price = 1700,\n",
    "                                   initial_price = underlying_price, \n",
    "                                   initial_token1_amount = 300,    # usdcs\n",
    "                                   period_in_years = 30 / 365.25)\n"
   ]
  },
  {
   "cell_type": "code",
   "execution_count": 200,
   "id": "65f3c472-9cdc-43e9-b890-53893835ca18",
   "metadata": {},
   "outputs": [
    {
     "name": "stdout",
     "output_type": "stream",
     "text": [
      "610.0858675670702\n",
      "(0.20132962009042402, 300.0)\n"
     ]
    }
   ],
   "source": [
    "print(uniswap_position.get_total_value(uniswap_position.initial_price))\n",
    "print(uniswap_position.get_tokens_amounts(uniswap_position.initial_price))"
   ]
  },
  {
   "cell_type": "code",
   "execution_count": 203,
   "id": "cb97e43c-133c-4dbe-b4c8-6a5a99803150",
   "metadata": {},
   "outputs": [],
   "source": [
    "strike = 1650\n",
    "expiration_in_years = 75 / 365.25\n",
    "amount = 5"
   ]
  },
  {
   "cell_type": "code",
   "execution_count": 204,
   "id": "acbcbd66-5735-4b7d-a15d-01aa43d62174",
   "metadata": {},
   "outputs": [],
   "source": [
    "optimal_option = OptimalOption(sabr, \n",
    "                               uniswap_position, \n",
    "                               expiration_in_years, \n",
    "                               strike, \n",
    "                               amount, \n",
    "                               isCall = False)"
   ]
  },
  {
   "cell_type": "code",
   "execution_count": 205,
   "id": "4c3ea415-5a50-47d1-9fcb-83f70356c729",
   "metadata": {},
   "outputs": [
    {
     "name": "stderr",
     "output_type": "stream",
     "text": [
      "/Users/kirillbogomolov/Desktop/DeltaDex-Protocol/research-branch-main/backtest/black_scholes.py:74: RuntimeWarning:\n",
      "\n",
      "invalid value encountered in sqrt\n",
      "\n",
      "/Users/kirillbogomolov/Desktop/DeltaDex-Protocol/research-branch-main/backtest/black_scholes.py:75: RuntimeWarning:\n",
      "\n",
      "invalid value encountered in sqrt\n",
      "\n"
     ]
    },
    {
     "name": "stdout",
     "output_type": "stream",
     "text": [
      "Optimization terminated successfully.\n",
      "         Current function value: 0.789588\n",
      "         Iterations: 258\n",
      "         Function evaluations: 483\n",
      "strike: 1539.9941935167544, expiration: 0.09116247902343068, amount: 0.4091974897602599\n"
     ]
    }
   ],
   "source": [
    "optimal_option.find_optimal_option()"
   ]
  },
  {
   "cell_type": "code",
   "execution_count": 206,
   "id": "ada78d60-e6b0-4a3d-ba20-b9728da5e29f",
   "metadata": {},
   "outputs": [],
   "source": [
    "prices = np.array([price for price in range(500, 2500, 10 )])\n"
   ]
  },
  {
   "cell_type": "code",
   "execution_count": 207,
   "id": "99b4b72b-94a7-44ad-b485-48a1d0c7ed8b",
   "metadata": {},
   "outputs": [
    {
     "data": {
      "text/plain": [
       "[<matplotlib.lines.Line2D at 0x283316160>]"
      ]
     },
     "execution_count": 207,
     "metadata": {},
     "output_type": "execute_result"
    },
    {
     "data": {
      "image/png": "[encoded data removed]",
      "text/plain": [
       "<Figure size 640x480 with 1 Axes>"
      ]
     },
     "metadata": {},
     "output_type": "display_data"
    }
   ],
   "source": [
    "plt.plot(prices, optimal_option.calculate_hedged_position(prices))"
   ]
  },
  {
   "cell_type": "code",
   "execution_count": 208,
   "id": "b423c8f5-52cb-4634-b349-82744c0c78f9",
   "metadata": {},
   "outputs": [
    {
     "data": {
      "text/plain": [
       "-47.043852382386504"
      ]
     },
     "execution_count": 208,
     "metadata": {},
     "output_type": "execute_result"
    }
   ],
   "source": [
    "min(optimal_option.calculate_hedged_position(prices))"
   ]
  },
  {
   "cell_type": "code",
   "execution_count": 209,
   "id": "6e16a93a-420b-4e8d-9fde-6d17f890e9e9",
   "metadata": {},
   "outputs": [
    {
     "name": "stdout",
     "output_type": "stream",
     "text": [
      "1539.994193507516 1540.19 33.27430484240558\n"
     ]
    }
   ],
   "source": [
    "print(optimal_option.strike, optimal_option.uniswap_position.initial_price, optimal_option.expiration * 365)"
   ]
  },
  {
   "cell_type": "code",
   "execution_count": 210,
   "id": "e292b06c-c26f-4f3c-9b8a-ccd1b07a6794",
   "metadata": {},
   "outputs": [
    {
     "data": {
      "text/plain": [
       "186.78914053561562"
      ]
     },
     "execution_count": 210,
     "metadata": {},
     "output_type": "execute_result"
    }
   ],
   "source": [
    "optimal_option.sabr_model(1600, \n",
    "                                                1515, \n",
    "                                                48/365.25, \n",
    "                                                False)[0]"
   ]
  },
  {
   "cell_type": "code",
   "execution_count": 211,
   "id": "b261a4ac-f5a3-45d4-976d-be1c701ecb3f",
   "metadata": {},
   "outputs": [
    {
     "data": {
      "text/plain": [
       "33.297095462160655"
      ]
     },
     "execution_count": 211,
     "metadata": {},
     "output_type": "execute_result"
    }
   ],
   "source": [
    "optimal_option.expiration * 365.25"
   ]
  },
  {
   "cell_type": "code",
   "execution_count": 212,
   "id": "d07113dc-f130-49a0-b646-73d4e5776289",
   "metadata": {},
   "outputs": [],
   "source": [
    "# optimal_option.sabr_model(optimal_option.strike, \n",
    "#                 underlying_price + 0.0001, \n",
    "#                 (optimal_option.expiration - optimal_option.uniswap_position.period_in_years), \n",
    "#                 optimal_option.isCall)[0]"
   ]
  },
  {
   "cell_type": "code",
   "execution_count": 213,
   "id": "8430a103-a778-4d3c-91f9-3bf5dc8893be",
   "metadata": {},
   "outputs": [
    {
     "data": {
      "text/plain": [
       "33.297095462160655"
      ]
     },
     "execution_count": 213,
     "metadata": {},
     "output_type": "execute_result"
    }
   ],
   "source": [
    "optimal_option.expiration * 365.25"
   ]
  },
  {
   "cell_type": "code",
   "execution_count": 214,
   "id": "1a37d882-fcb5-4330-a628-89d4569f9541",
   "metadata": {},
   "outputs": [
    {
     "name": "stdout",
     "output_type": "stream",
     "text": [
      "\n",
      "        isCall: False\n",
      "        expiration: 0.09116247902028926\n",
      "        strike: 1539.994193507516\n",
      "        amount: 0.409197489776152\n",
      "        initial cost: 47.04385238238641 \n",
      "        ---\n",
      "        uniswap_position: lower_price: 1400, upper_price: 1700,\n",
      "        initial_price: 1540.19, period_in_years: 0.08213552361396304\n",
      "        \n"
     ]
    }
   ],
   "source": [
    "print(optimal_option)"
   ]
  },
  {
   "cell_type": "code",
   "execution_count": 215,
   "id": "e90b6dd0-7962-4523-8523-abf7de6bfe1e",
   "metadata": {},
   "outputs": [],
   "source": [
    "prices = np.array([price for price in range(500, 2500, 10 )])\n",
    "\n",
    "pure_usdc = np.array([uniswap_position.get_total_value(uniswap_position.initial_price) for _ in prices])"
   ]
  },
  {
   "cell_type": "code",
   "execution_count": 216,
   "id": "ab9d69dc-acf6-4d0f-9ec9-2318642b7446",
   "metadata": {},
   "outputs": [
    {
     "data": {
      "text/plain": [
       "47.04385238238641"
      ]
     },
     "execution_count": 216,
     "metadata": {},
     "output_type": "execute_result"
    }
   ],
   "source": [
    "optimal_option.initial_cost"
   ]
  },
  {
   "cell_type": "code",
   "execution_count": 217,
   "id": "2f30d055-4344-43e7-959c-92754ec074bd",
   "metadata": {},
   "outputs": [
    {
     "data": {
      "text/plain": [
       "33.297095462160655"
      ]
     },
     "execution_count": 217,
     "metadata": {},
     "output_type": "execute_result"
    }
   ],
   "source": [
    "optimal_option.expiration * 365.25"
   ]
  },
  {
   "cell_type": "code",
   "execution_count": 218,
   "id": "83e69910-e66a-4219-be92-556d1902b0fd",
   "metadata": {},
   "outputs": [],
   "source": [
    "# optimal_option.update_option_params(optimal_option.strike, 0.08215489751882832, optimal_option.amount)"
   ]
  },
  {
   "cell_type": "code",
   "execution_count": 219,
   "id": "b24d0824-e4a0-4c01-9a57-0bd9c75c6b99",
   "metadata": {},
   "outputs": [],
   "source": [
    "uniswap_tvs = np.array([uniswap_position.get_total_value(price) for price in prices])\n",
    "option_pnls = optimal_option.calculate_hedged_position(prices)\n"
   ]
  },
  {
   "cell_type": "code",
   "execution_count": 220,
   "id": "304456ac-caec-46d0-a3cd-66fdc30bbab5",
   "metadata": {},
   "outputs": [],
   "source": [
    "earned_fees = 0 # in usdc"
   ]
  },
  {
   "cell_type": "code",
   "execution_count": 221,
   "id": "7cab6a00-ce8b-42d4-82fc-eec733747a08",
   "metadata": {},
   "outputs": [],
   "source": [
    "# pure_usdc"
   ]
  },
  {
   "cell_type": "code",
   "execution_count": 222,
   "id": "411e6925-8420-44fc-b10f-7d38d82ae170",
   "metadata": {},
   "outputs": [],
   "source": [
    "# uniswap_tvs"
   ]
  },
  {
   "cell_type": "code",
   "execution_count": null,
   "id": "5a2dd72e-3731-4891-9c12-264199b266b2",
   "metadata": {},
   "outputs": [],
   "source": []
  },
  {
   "cell_type": "code",
   "execution_count": 223,
   "id": "bc88d283-a1dd-4463-8f25-28f86e055032",
   "metadata": {
    "tags": []
   },
   "outputs": [
    {
     "data": {
      "application/vnd.plotly.v1+json": {
       "config": {
        "plotlyServerURL": "https://plot.ly"
       },
       "data": [
        {
         "mode": "lines",
         "name": "pure_usdc",
         "type": "scatter",
         "x": [
          500,
          510,
          520,
          530,
          540,
          550,
          560,
          570,
          580,
          590,
          600,
          610,
          620,
          630,
          640,
          650,
          660,
          670,
          680,
          690,
          700,
          710,
          720,
          730,
          740,
          750,
          760,
          770,
          780,
          790,
          800,
          810,
          820,
          830,
          840,
          850,
          860,
          870,
          880,
          890,
          900,
          910,
          920,
          930,
          940,
          950,
          960,
          970,
          980,
          990,
          1000,
          1010,
          1020,
          1030,
          1040,
          1050,
          1060,
          1070,
          1080,
          1090,
          1100,
          1110,
          1120,
          1130,
          1140,
          1150,
          1160,
          1170,
          1180,
          1190,
          1200,
          1210,
          1220,
          1230,
          1240,
          1250,
          1260,
          1270,
          1280,
          1290,
          1300,
          1310,
          1320,
          1330,
          1340,
          1350,
          1360,
          1370,
          1380,
          1390,
          1400,
          1410,
          1420,
          1430,
          1440,
          1450,
          1460,
          1470,
          1480,
          1490,
          1500,
          1510,
          1520,
          1530,
          1540,
          1550,
          1560,
          1570,
          1580,
          1590,
          1600,
          1610,
          1620,
          1630,
          1640,
          1650,
          1660,
          1670,
          1680,
          1690,
          1700,
          1710,
          1720,
          1730,
          1740,
          1750,
          1760,
          1770,
          1780,
          1790,
          1800,
          1810,
          1820,
          1830,
          1840,
          1850,
          1860,
          1870,
          1880,
          1890,
          1900,
          1910,
          1920,
          1930,
          1940,
          1950,
          1960,
          1970,
          1980,
          1990,
          2000,
          2010,
          2020,
          2030,
          2040,
          2050,
          2060,
          2070,
          2080,
          2090,
          2100,
          2110,
          2120,
          2130,
          2140,
          2150,
          2160,
          2170,
          2180,
          2190,
          2200,
          2210,
          2220,
          2230,
          2240,
          2250,
          2260,
          2270,
          2280,
          2290,
          2300,
          2310,
          2320,
          2330,
          2340,
          2350,
          2360,
          2370,
          2380,
          2390,
          2400,
          2410,
          2420,
          2430,
          2440,
          2450,
          2460,
          2470,
          2480,
          2490
         ],
         "y": [
          610.0858675670702,
          610.0858675670702,
          610.0858675670702,
          610.0858675670702,
          610.0858675670702,
          610.0858675670702,
          610.0858675670702,
          610.0858675670702,
          610.0858675670702,
          610.0858675670702,
          610.0858675670702,
          610.0858675670702,
          610.0858675670702,
          610.0858675670702,
          610.0858675670702,
          610.0858675670702,
          610.0858675670702,
          610.0858675670702,
          610.0858675670702,
          610.0858675670702,
          610.0858675670702,
          610.0858675670702,
          610.0858675670702,
          610.0858675670702,
          610.0858675670702,
          610.0858675670702,
          610.0858675670702,
          610.0858675670702,
          610.0858675670702,
          610.0858675670702,
          610.0858675670702,
          610.0858675670702,
          610.0858675670702,
          610.0858675670702,
          610.0858675670702,
          610.0858675670702,
          610.0858675670702,
          610.0858675670702,
          610.0858675670702,
          610.0858675670702,
          610.0858675670702,
          610.0858675670702,
          610.0858675670702,
          610.0858675670702,
          610.0858675670702,
          610.0858675670702,
          610.0858675670702,
          610.0858675670702,
          610.0858675670702,
          610.0858675670702,
          610.0858675670702,
          610.0858675670702,
          610.0858675670702,
          610.0858675670702,
          610.0858675670702,
          610.0858675670702,
          610.0858675670702,
          610.0858675670702,
          610.0858675670702,
          610.0858675670702,
          610.0858675670702,
          610.0858675670702,
          610.0858675670702,
          610.0858675670702,
          610.0858675670702,
          610.0858675670702,
          610.0858675670702,
          610.0858675670702,
          610.0858675670702,
          610.0858675670702,
          610.0858675670702,
          610.0858675670702,
          610.0858675670702,
          610.0858675670702,
          610.0858675670702,
          610.0858675670702,
          610.0858675670702,
          610.0858675670702,
          610.0858675670702,
          610.0858675670702,
          610.0858675670702,
          610.0858675670702,
          610.0858675670702,
          610.0858675670702,
          610.0858675670702,
          610.0858675670702,
          610.0858675670702,
          610.0858675670702,
          610.0858675670702,
          610.0858675670702,
          610.0858675670702,
          610.0858675670702,
          610.0858675670702,
          610.0858675670702,
          610.0858675670702,
          610.0858675670702,
          610.0858675670702,
          610.0858675670702,
          610.0858675670702,
          610.0858675670702,
          610.0858675670702,
          610.0858675670702,
          610.0858675670702,
          610.0858675670702,
          610.0858675670702,
          610.0858675670702,
          610.0858675670702,
          610.0858675670702,
          610.0858675670702,
          610.0858675670702,
          610.0858675670702,
          610.0858675670702,
          610.0858675670702,
          610.0858675670702,
          610.0858675670702,
          610.0858675670702,
          610.0858675670702,
          610.0858675670702,
          610.0858675670702,
          610.0858675670702,
          610.0858675670702,
          610.0858675670702,
          610.0858675670702,
          610.0858675670702,
          610.0858675670702,
          610.0858675670702,
          610.0858675670702,
          610.0858675670702,
          610.0858675670702,
          610.0858675670702,
          610.0858675670702,
          610.0858675670702,
          610.0858675670702,
          610.0858675670702,
          610.0858675670702,
          610.0858675670702,
          610.0858675670702,
          610.0858675670702,
          610.0858675670702,
          610.0858675670702,
          610.0858675670702,
          610.0858675670702,
          610.0858675670702,
          610.0858675670702,
          610.0858675670702,
          610.0858675670702,
          610.0858675670702,
          610.0858675670702,
          610.0858675670702,
          610.0858675670702,
          610.0858675670702,
          610.0858675670702,
          610.0858675670702,
          610.0858675670702,
          610.0858675670702,
          610.0858675670702,
          610.0858675670702,
          610.0858675670702,
          610.0858675670702,
          610.0858675670702,
          610.0858675670702,
          610.0858675670702,
          610.0858675670702,
          610.0858675670702,
          610.0858675670702,
          610.0858675670702,
          610.0858675670702,
          610.0858675670702,
          610.0858675670702,
          610.0858675670702,
          610.0858675670702,
          610.0858675670702,
          610.0858675670702,
          610.0858675670702,
          610.0858675670702,
          610.0858675670702,
          610.0858675670702,
          610.0858675670702,
          610.0858675670702,
          610.0858675670702,
          610.0858675670702,
          610.0858675670702,
          610.0858675670702,
          610.0858675670702,
          610.0858675670702,
          610.0858675670702,
          610.0858675670702,
          610.0858675670702,
          610.0858675670702,
          610.0858675670702,
          610.0858675670702,
          610.0858675670702,
          610.0858675670702,
          610.0858675670702,
          610.0858675670702,
          610.0858675670702,
          610.0858675670702,
          610.0858675670702,
          610.0858675670702,
          610.0858675670702
         ]
        },
        {
         "mode": "lines",
         "name": "uniswap_tvs + fees",
         "type": "scatter",
         "x": [
          500,
          510,
          520,
          530,
          540,
          550,
          560,
          570,
          580,
          590,
          600,
          610,
          620,
          630,
          640,
          650,
          660,
          670,
          680,
          690,
          700,
          710,
          720,
          730,
          740,
          750,
          760,
          770,
          780,
          790,
          800,
          810,
          820,
          830,
          840,
          850,
          860,
          870,
          880,
          890,
          900,
          910,
          920,
          930,
          940,
          950,
          960,
          970,
          980,
          990,
          1000,
          1010,
          1020,
          1030,
          1040,
          1050,
          1060,
          1070,
          1080,
          1090,
          1100,
          1110,
          1120,
          1130,
          1140,
          1150,
          1160,
          1170,
          1180,
          1190,
          1200,
          1210,
          1220,
          1230,
          1240,
          1250,
          1260,
          1270,
          1280,
          1290,
          1300,
          1310,
          1320,
          1330,
          1340,
          1350,
          1360,
          1370,
          1380,
          1390,
          1400,
          1410,
          1420,
          1430,
          1440,
          1450,
          1460,
          1470,
          1480,
          1490,
          1500,
          1510,
          1520,
          1530,
          1540,
          1550,
          1560,
          1570,
          1580,
          1590,
          1600,
          1610,
          1620,
          1630,
          1640,
          1650,
          1660,
          1670,
          1680,
          1690,
          1700,
          1710,
          1720,
          1730,
          1740,
          1750,
          1760,
          1770,
          1780,
          1790,
          1800,
          1810,
          1820,
          1830,
          1840,
          1850,
          1860,
          1870,
          1880,
          1890,
          1900,
          1910,
          1920,
          1930,
          1940,
          1950,
          1960,
          1970,
          1980,
          1990,
          2000,
          2010,
          2020,
          2030,
          2040,
          2050,
          2060,
          2070,
          2080,
          2090,
          2100,
          2110,
          2120,
          2130,
          2140,
          2150,
          2160,
          2170,
          2180,
          2190,
          2200,
          2210,
          2220,
          2230,
          2240,
          2250,
          2260,
          2270,
          2280,
          2290,
          2300,
          2310,
          2320,
          2330,
          2340,
          2350,
          2360,
          2370,
          2380,
          2390,
          2400,
          2410,
          2420,
          2430,
          2440,
          2450,
          2460,
          2470,
          2480,
          2490
         ],
         "y": [
          202.81521474415905,
          206.87151903904225,
          210.92782333392543,
          214.9841276288086,
          219.04043192369178,
          223.09673621857496,
          227.15304051345814,
          231.20934480834134,
          235.26564910322452,
          239.3219533981077,
          243.37825769299087,
          247.43456198787405,
          251.49086628275722,
          255.54717057764043,
          259.6034748725236,
          263.6597791674068,
          267.71608346229,
          271.77238775717314,
          275.82869205205634,
          279.8849963469395,
          283.9413006418227,
          287.99760493670584,
          292.05390923158905,
          296.11021352647225,
          300.1665178213554,
          304.2228221162386,
          308.27912641112175,
          312.33543070600496,
          316.39173500088816,
          320.4480392957713,
          324.5043435906545,
          328.56064788553766,
          332.61695218042087,
          336.673256475304,
          340.7295607701872,
          344.7858650650704,
          348.8421693599536,
          352.8984736548368,
          356.9547779497199,
          361.01108224460313,
          365.06738653948634,
          369.1236908343695,
          373.1799951292527,
          377.23629942413584,
          381.29260371901904,
          385.3489080139022,
          389.4052123087854,
          393.4615166036686,
          397.51782089855175,
          401.57412519343495,
          405.6304294883181,
          409.6867337832013,
          413.7430380780845,
          417.79934237296766,
          421.85564666785086,
          425.911950962734,
          429.9682552576172,
          434.02455955250036,
          438.08086384738357,
          442.1371681422668,
          446.1934724371499,
          450.2497767320331,
          454.3060810269163,
          458.3623853217995,
          462.4186896166827,
          466.47499391156583,
          470.53129820644904,
          474.5876025013322,
          478.6439067962154,
          482.70021109109854,
          486.75651538598174,
          490.81281968086495,
          494.8691239757481,
          498.9254282706313,
          502.98173256551445,
          507.03803686039765,
          511.09434115528086,
          515.150645450164,
          519.2069497450472,
          523.2632540399304,
          527.3195583348136,
          531.3758626296967,
          535.43216692458,
          539.4884712194631,
          543.5447755143463,
          547.6010798092294,
          551.6573841041127,
          555.7136883989958,
          559.769992693879,
          563.8262969887622,
          567.8826012836454,
          571.8608894431143,
          575.6842490178119,
          579.3543137264401,
          582.8726887754166,
          586.240951550701,
          589.4606522881847,
          592.5333147234536,
          595.4604367216928,
          598.2434908884709,
          600.8839251621082,
          603.3831633883023,
          605.7426058776571,
          607.9636299467331,
          610.0475904432096,
          611.9958202557251,
          613.8096308089401,
          615.4903125443419,
          617.0391353872884,
          618.4573492007728,
          619.7461842263635,
          620.9068515127635,
          621.9405433324087,
          622.8484335865107,
          623.631678198937,
          624.2914154992964,
          624.8287665955943,
          625.2448357368006,
          625.5407106656609,
          625.7174629620729,
          625.7761483773318,
          625.7761483773318,
          625.7761483773318,
          625.7761483773318,
          625.7761483773318,
          625.7761483773318,
          625.7761483773318,
          625.7761483773318,
          625.7761483773318,
          625.7761483773318,
          625.7761483773318,
          625.7761483773318,
          625.7761483773318,
          625.7761483773318,
          625.7761483773318,
          625.7761483773318,
          625.7761483773318,
          625.7761483773318,
          625.7761483773318,
          625.7761483773318,
          625.7761483773318,
          625.7761483773318,
          625.7761483773318,
          625.7761483773318,
          625.7761483773318,
          625.7761483773318,
          625.7761483773318,
          625.7761483773318,
          625.7761483773318,
          625.7761483773318,
          625.7761483773318,
          625.7761483773318,
          625.7761483773318,
          625.7761483773318,
          625.7761483773318,
          625.7761483773318,
          625.7761483773318,
          625.7761483773318,
          625.7761483773318,
          625.7761483773318,
          625.7761483773318,
          625.7761483773318,
          625.7761483773318,
          625.7761483773318,
          625.7761483773318,
          625.7761483773318,
          625.7761483773318,
          625.7761483773318,
          625.7761483773318,
          625.7761483773318,
          625.7761483773318,
          625.7761483773318,
          625.7761483773318,
          625.7761483773318,
          625.7761483773318,
          625.7761483773318,
          625.7761483773318,
          625.7761483773318,
          625.7761483773318,
          625.7761483773318,
          625.7761483773318,
          625.7761483773318,
          625.7761483773318,
          625.7761483773318,
          625.7761483773318,
          625.7761483773318,
          625.7761483773318,
          625.7761483773318,
          625.7761483773318,
          625.7761483773318,
          625.7761483773318,
          625.7761483773318,
          625.7761483773318,
          625.7761483773318,
          625.7761483773318,
          625.7761483773318,
          625.7761483773318,
          625.7761483773318,
          625.7761483773318,
          625.7761483773318
         ]
        },
        {
         "mode": "lines",
         "name": "option_pnls",
         "type": "scatter",
         "x": [
          500,
          510,
          520,
          530,
          540,
          550,
          560,
          570,
          580,
          590,
          600,
          610,
          620,
          630,
          640,
          650,
          660,
          670,
          680,
          690,
          700,
          710,
          720,
          730,
          740,
          750,
          760,
          770,
          780,
          790,
          800,
          810,
          820,
          830,
          840,
          850,
          860,
          870,
          880,
          890,
          900,
          910,
          920,
          930,
          940,
          950,
          960,
          970,
          980,
          990,
          1000,
          1010,
          1020,
          1030,
          1040,
          1050,
          1060,
          1070,
          1080,
          1090,
          1100,
          1110,
          1120,
          1130,
          1140,
          1150,
          1160,
          1170,
          1180,
          1190,
          1200,
          1210,
          1220,
          1230,
          1240,
          1250,
          1260,
          1270,
          1280,
          1290,
          1300,
          1310,
          1320,
          1330,
          1340,
          1350,
          1360,
          1370,
          1380,
          1390,
          1400,
          1410,
          1420,
          1430,
          1440,
          1450,
          1460,
          1470,
          1480,
          1490,
          1500,
          1510,
          1520,
          1530,
          1540,
          1550,
          1560,
          1570,
          1580,
          1590,
          1600,
          1610,
          1620,
          1630,
          1640,
          1650,
          1660,
          1670,
          1680,
          1690,
          1700,
          1710,
          1720,
          1730,
          1740,
          1750,
          1760,
          1770,
          1780,
          1790,
          1800,
          1810,
          1820,
          1830,
          1840,
          1850,
          1860,
          1870,
          1880,
          1890,
          1900,
          1910,
          1920,
          1930,
          1940,
          1950,
          1960,
          1970,
          1980,
          1990,
          2000,
          2010,
          2020,
          2030,
          2040,
          2050,
          2060,
          2070,
          2080,
          2090,
          2100,
          2110,
          2120,
          2130,
          2140,
          2150,
          2160,
          2170,
          2180,
          2190,
          2200,
          2210,
          2220,
          2230,
          2240,
          2250,
          2260,
          2270,
          2280,
          2290,
          2300,
          2310,
          2320,
          2330,
          2340,
          2350,
          2360,
          2370,
          2380,
          2390,
          2400,
          2410,
          2420,
          2430,
          2440,
          2450,
          2460,
          2470,
          2480,
          2490
         ],
         "y": [
          378.5191200629138,
          374.4271451651523,
          370.33517026739077,
          366.2431953696293,
          362.15122047186776,
          358.0592455741062,
          353.9672706763447,
          349.87529577858317,
          345.7833208808217,
          341.69134598306016,
          337.5993710852986,
          333.5073961875371,
          329.41542128977557,
          325.3234463920141,
          321.23147149425256,
          317.139496596491,
          313.0475216987295,
          308.95554680096797,
          304.8635719032065,
          300.77159700544496,
          296.67962210768343,
          292.5876472099219,
          288.49567231216037,
          284.4036974143989,
          280.31172251663736,
          276.21974761887583,
          272.1277727211143,
          268.03579782335277,
          263.9438229255913,
          259.85184802782976,
          255.75987313006826,
          251.66789823230673,
          247.5759233345452,
          243.48394843678372,
          239.3919735390222,
          235.29999864126066,
          231.20802374349913,
          227.1160488457376,
          223.02407394797612,
          218.93209905021465,
          214.84012415245317,
          210.7481492546918,
          206.6561743569307,
          202.5641994591703,
          198.47222456141134,
          194.38024966365606,
          190.28827476590914,
          186.19629986818148,
          182.10432497049734,
          178.01235007290984,
          173.92037517553422,
          169.8284002786156,
          165.7364253826681,
          161.64445048875334,
          157.5524755990299,
          153.46050071781912,
          149.3685258536398,
          145.27655102302782,
          141.18457625758842,
          137.09260161680308,
          133.00062721089938,
          128.9086532410103,
          124.81668006851132,
          120.7247083327149,
          116.63273914725784,
          112.5407744221948,
          108.44881738316195,
          104.3568733936454,
          100.26495123447182,
          96.17306505945879,
          92.08123733091847,
          87.98950314583308,
          83.89791649382545,
          79.80655913953663,
          75.7155529885535,
          71.6250769658539,
          67.53538959023419,
          63.44685854107271,
          59.35999855122946,
          55.27551888195118,
          51.194381399448,
          47.117869837522086,
          43.04767016441239,
          38.98596106020144,
          34.93551236484344,
          30.89978802075199,
          26.883048591138454,
          22.890447008409744,
          18.92810995258251,
          15.003196356847909,
          11.123924169109095,
          7.299556827883279,
          3.540342056053831,
          -0.14260241656153028,
          -3.737458764598287,
          -7.231933674525813,
          -10.613532777447567,
          -13.869875996530453,
          -16.989041126236224,
          -19.95991984325123,
          -22.772568237631827,
          -25.41853311758751,
          -27.891135934469226,
          -30.185698205454507,
          -32.29969564040105,
          -34.2328325355696,
          -35.98703297921503,
          -37.56635063345788,
          -38.976803764841414,
          -40.22614649169781,
          -41.323590474654054,
          -42.27949333574745,
          -43.10503084639508,
          -43.81186942382608,
          -44.4118538765638,
          -44.91672288488956,
          -45.33786168521765,
          -45.686098155699604,
          -45.97154526325291,
          -46.203489873810526,
          -46.39032543004651,
          -46.539524076439136,
          -46.657642504013246,
          -46.750355079880876,
          -46.82250765605241,
          -46.878185722463144,
          -46.920791169072956,
          -46.95312273712415,
          -46.977456164551405,
          -46.99562097547553,
          -47.00907175913662,
          -47.018952581181075,
          -47.026153841520156,
          -47.03136142674606,
          -47.03509840348481,
          -47.03775977374207,
          -47.03964098171589,
          -47.04096094387001,
          -47.04188039063132,
          -47.04251627779101,
          -47.04295296487984,
          -47.04325077977003,
          -47.043452503755844,
          -47.04358822673311,
          -47.04367894271233,
          -47.04373918463695,
          -47.04377893569405,
          -47.043805002244625,
          -47.04382199069379,
          -47.04383299618422,
          -47.04384008380856,
          -47.043844621945695,
          -47.0438475112281,
          -47.04384934053897,
          -47.043850492451405,
          -47.04385121394957,
          -47.0438516635052,
          -47.04385194218938,
          -47.04385211408744,
          -47.04385221960038,
          -47.04385228405649,
          -47.0438523232486,
          -47.043852346970084,
          -47.04385236126421,
          -47.04385236984005,
          -47.043852374963436,
          -47.043852378011636,
          -47.04385237981774,
          -47.043852380883806,
          -47.043852381510526,
          -47.04385238187766,
          -47.04385238209184,
          -47.04385238221652,
          -47.04385238228863,
          -47.04385238233031,
          -47.0438523823545,
          -47.04385238236818,
          -47.04385238237609,
          -47.04385238238046,
          -47.04385238238316,
          -47.04385238238455,
          -47.04385238238548,
          -47.04385238238585,
          -47.04385238238604,
          -47.04385238238623,
          -47.04385238238632,
          -47.04385238238632,
          -47.04385238238632,
          -47.04385238238632,
          -47.043852382386504,
          -47.04385238238641,
          -47.04385238238632,
          -47.04385238238641,
          -47.04385238238641,
          -47.043852382386504,
          -47.04385238238632,
          -47.04385238238641,
          -47.04385238238641,
          -47.04385238238641,
          -47.04385238238641
         ]
        },
        {
         "mode": "lines",
         "name": "uniswap_tvs + option_pnls + fees",
         "type": "scatter",
         "x": [
          500,
          510,
          520,
          530,
          540,
          550,
          560,
          570,
          580,
          590,
          600,
          610,
          620,
          630,
          640,
          650,
          660,
          670,
          680,
          690,
          700,
          710,
          720,
          730,
          740,
          750,
          760,
          770,
          780,
          790,
          800,
          810,
          820,
          830,
          840,
          850,
          860,
          870,
          880,
          890,
          900,
          910,
          920,
          930,
          940,
          950,
          960,
          970,
          980,
          990,
          1000,
          1010,
          1020,
          1030,
          1040,
          1050,
          1060,
          1070,
          1080,
          1090,
          1100,
          1110,
          1120,
          1130,
          1140,
          1150,
          1160,
          1170,
          1180,
          1190,
          1200,
          1210,
          1220,
          1230,
          1240,
          1250,
          1260,
          1270,
          1280,
          1290,
          1300,
          1310,
          1320,
          1330,
          1340,
          1350,
          1360,
          1370,
          1380,
          1390,
          1400,
          1410,
          1420,
          1430,
          1440,
          1450,
          1460,
          1470,
          1480,
          1490,
          1500,
          1510,
          1520,
          1530,
          1540,
          1550,
          1560,
          1570,
          1580,
          1590,
          1600,
          1610,
          1620,
          1630,
          1640,
          1650,
          1660,
          1670,
          1680,
          1690,
          1700,
          1710,
          1720,
          1730,
          1740,
          1750,
          1760,
          1770,
          1780,
          1790,
          1800,
          1810,
          1820,
          1830,
          1840,
          1850,
          1860,
          1870,
          1880,
          1890,
          1900,
          1910,
          1920,
          1930,
          1940,
          1950,
          1960,
          1970,
          1980,
          1990,
          2000,
          2010,
          2020,
          2030,
          2040,
          2050,
          2060,
          2070,
          2080,
          2090,
          2100,
          2110,
          2120,
          2130,
          2140,
          2150,
          2160,
          2170,
          2180,
          2190,
          2200,
          2210,
          2220,
          2230,
          2240,
          2250,
          2260,
          2270,
          2280,
          2290,
          2300,
          2310,
          2320,
          2330,
          2340,
          2350,
          2360,
          2370,
          2380,
          2390,
          2400,
          2410,
          2420,
          2430,
          2440,
          2450,
          2460,
          2470,
          2480,
          2490
         ],
         "y": [
          581.3343348070729,
          581.2986642041946,
          581.2629936013162,
          581.2273229984379,
          581.1916523955596,
          581.1559817926811,
          581.1203111898028,
          581.0846405869245,
          581.0489699840462,
          581.0132993811678,
          580.9776287782895,
          580.9419581754112,
          580.9062875725328,
          580.8706169696545,
          580.8349463667762,
          580.7992757638979,
          580.7636051610195,
          580.7279345581411,
          580.6922639552629,
          580.6565933523844,
          580.6209227495061,
          580.5852521466277,
          580.5495815437494,
          580.5139109408711,
          580.4782403379927,
          580.4425697351144,
          580.406899132236,
          580.3712285293577,
          580.3355579264794,
          580.2998873236011,
          580.2642167207227,
          580.2285461178444,
          580.1928755149661,
          580.1572049120878,
          580.1215343092094,
          580.0858637063311,
          580.0501931034527,
          580.0145225005743,
          579.978851897696,
          579.9431812948178,
          579.9075106919395,
          579.8718400890613,
          579.8361694861834,
          579.8004988833061,
          579.7648282804304,
          579.7291576775583,
          579.6934870746945,
          579.6578164718501,
          579.6221458690491,
          579.5864752663448,
          579.5508046638523,
          579.5151340618169,
          579.4794634607526,
          579.443792861721,
          579.4081222668808,
          579.3724516805531,
          579.336781111257,
          579.3011105755281,
          579.265440104972,
          579.2297697590699,
          579.1940996480494,
          579.1584299730434,
          579.1227610954276,
          579.0870936545143,
          579.0514287639405,
          579.0157683337607,
          578.9801155896109,
          578.9444758949776,
          578.9088580306873,
          578.8732761505573,
          578.8377527169002,
          578.8023228266981,
          578.7670404695735,
          578.7319874101679,
          578.697285554068,
          578.6631138262516,
          578.6297307455151,
          578.5975039912367,
          578.5669482962766,
          578.5387729218816,
          578.5139397342616,
          578.4937324672188,
          578.4798370889923,
          578.4744322796646,
          578.4802878791897,
          578.5008678299814,
          578.5404326952512,
          578.6041354074056,
          578.6981026464615,
          578.8294933456101,
          579.0065254527544,
          579.1604462709976,
          579.2245910738658,
          579.2117113098785,
          579.1352300108183,
          579.0090178761751,
          578.8471195107372,
          578.6634387269231,
          578.4713955954566,
          578.2835710452197,
          578.1113569244764,
          577.9646302707148,
          577.8514699431878,
          577.7779317412786,
          577.7478948028086,
          577.7629877201555,
          577.822597829725,
          577.923961910884,
          578.062331622447,
          578.231202709075,
          578.4225937517094,
          578.627358177016,
          578.8355124860136,
          579.0365641626846,
          579.2198243223733,
          579.3746926144069,
          579.4909049103767,
          579.558737581101,
          579.569165402408,
          579.5139730882623,
          579.3858229472853,
          579.2366243008926,
          579.1185058733186,
          579.025793297451,
          578.9536407212794,
          578.8979626548686,
          578.8553572082589,
          578.8230256402076,
          578.7986922127803,
          578.7805274018563,
          578.7670766181951,
          578.7571957961507,
          578.7499945358117,
          578.7447869505856,
          578.741049973847,
          578.7383886035897,
          578.7365073956158,
          578.7351874334618,
          578.7342679867004,
          578.7336320995407,
          578.7331954124519,
          578.7328975975618,
          578.732695873576,
          578.7325601505986,
          578.7324694346195,
          578.7324091926948,
          578.7323694416377,
          578.7323433750871,
          578.732326386638,
          578.7323153811476,
          578.7323082935231,
          578.732303755386,
          578.7323008661036,
          578.7322990367928,
          578.7322978848804,
          578.7322971633822,
          578.7322967138266,
          578.7322964351424,
          578.7322962632443,
          578.7322961577314,
          578.7322960932753,
          578.7322960540831,
          578.7322960303617,
          578.7322960160676,
          578.7322960074918,
          578.7322960023683,
          578.7322959993202,
          578.732295997514,
          578.732295996448,
          578.7322959958212,
          578.7322959954541,
          578.73229599524,
          578.7322959951152,
          578.7322959950432,
          578.7322959950014,
          578.7322959949772,
          578.7322959949636,
          578.7322959949556,
          578.7322959949513,
          578.7322959949486,
          578.7322959949472,
          578.7322959949463,
          578.732295994946,
          578.7322959949457,
          578.7322959949455,
          578.7322959949454,
          578.7322959949454,
          578.7322959949454,
          578.7322959949454,
          578.7322959949453,
          578.7322959949454,
          578.7322959949454,
          578.7322959949454,
          578.7322959949454,
          578.7322959949453,
          578.7322959949454,
          578.7322959949454,
          578.7322959949454,
          578.7322959949454,
          578.7322959949454
         ]
        }
       ],
       "layout": {
        "autosize": false,
        "height": 500,
        "template": {
         "data": {
          "bar": [
           {
            "error_x": {
             "color": "#2a3f5f"
            },
            "error_y": {
             "color": "#2a3f5f"
            },
            "marker": {
             "line": {
              "color": "#E5ECF6",
              "width": 0.5
             },
             "pattern": {
              "fillmode": "overlay",
              "size": 10,
              "solidity": 0.2
             }
            },
            "type": "bar"
           }
          ],
          "barpolar": [
           {
            "marker": {
             "line": {
              "color": "#E5ECF6",
              "width": 0.5
             },
             "pattern": {
              "fillmode": "overlay",
              "size": 10,
              "solidity": 0.2
             }
            },
            "type": "barpolar"
           }
          ],
          "carpet": [
           {
            "aaxis": {
             "endlinecolor": "#2a3f5f",
             "gridcolor": "white",
             "linecolor": "white",
             "minorgridcolor": "white",
             "startlinecolor": "#2a3f5f"
            },
            "baxis": {
             "endlinecolor": "#2a3f5f",
             "gridcolor": "white",
             "linecolor": "white",
             "minorgridcolor": "white",
             "startlinecolor": "#2a3f5f"
            },
            "type": "carpet"
           }
          ],
          "choropleth": [
           {
            "colorbar": {
             "outlinewidth": 0,
             "ticks": ""
            },
            "type": "choropleth"
           }
          ],
          "contour": [
           {
            "colorbar": {
             "outlinewidth": 0,
             "ticks": ""
            },
            "colorscale": [
             [
              0,
              "#0d0887"
             ],
             [
              0.1111111111111111,
              "#46039f"
             ],
             [
              0.2222222222222222,
              "#7201a8"
             ],
             [
              0.3333333333333333,
              "#9c179e"
             ],
             [
              0.4444444444444444,
              "#bd3786"
             ],
             [
              0.5555555555555556,
              "#d8576b"
             ],
             [
              0.6666666666666666,
              "#ed7953"
             ],
             [
              0.7777777777777778,
              "#fb9f3a"
             ],
             [
              0.8888888888888888,
              "#fdca26"
             ],
             [
              1,
              "#f0f921"
             ]
            ],
            "type": "contour"
           }
          ],
          "contourcarpet": [
           {
            "colorbar": {
             "outlinewidth": 0,
             "ticks": ""
            },
            "type": "contourcarpet"
           }
          ],
          "heatmap": [
           {
            "colorbar": {
             "outlinewidth": 0,
             "ticks": ""
            },
            "colorscale": [
             [
              0,
              "#0d0887"
             ],
             [
              0.1111111111111111,
              "#46039f"
             ],
             [
              0.2222222222222222,
              "#7201a8"
             ],
             [
              0.3333333333333333,
              "#9c179e"
             ],
             [
              0.4444444444444444,
              "#bd3786"
             ],
             [
              0.5555555555555556,
              "#d8576b"
             ],
             [
              0.6666666666666666,
              "#ed7953"
             ],
             [
              0.7777777777777778,
              "#fb9f3a"
             ],
             [
              0.8888888888888888,
              "#fdca26"
             ],
             [
              1,
              "#f0f921"
             ]
            ],
            "type": "heatmap"
           }
          ],
          "heatmapgl": [
           {
            "colorbar": {
             "outlinewidth": 0,
             "ticks": ""
            },
            "colorscale": [
             [
              0,
              "#0d0887"
             ],
             [
              0.1111111111111111,
              "#46039f"
             ],
             [
              0.2222222222222222,
              "#7201a8"
             ],
             [
              0.3333333333333333,
              "#9c179e"
             ],
             [
              0.4444444444444444,
              "#bd3786"
             ],
             [
              0.5555555555555556,
              "#d8576b"
             ],
             [
              0.6666666666666666,
              "#ed7953"
             ],
             [
              0.7777777777777778,
              "#fb9f3a"
             ],
             [
              0.8888888888888888,
              "#fdca26"
             ],
             [
              1,
              "#f0f921"
             ]
            ],
            "type": "heatmapgl"
           }
          ],
          "histogram": [
           {
            "marker": {
             "pattern": {
              "fillmode": "overlay",
              "size": 10,
              "solidity": 0.2
             }
            },
            "type": "histogram"
           }
          ],
          "histogram2d": [
           {
            "colorbar": {
             "outlinewidth": 0,
             "ticks": ""
            },
            "colorscale": [
             [
              0,
              "#0d0887"
             ],
             [
              0.1111111111111111,
              "#46039f"
             ],
             [
              0.2222222222222222,
              "#7201a8"
             ],
             [
              0.3333333333333333,
              "#9c179e"
             ],
             [
              0.4444444444444444,
              "#bd3786"
             ],
             [
              0.5555555555555556,
              "#d8576b"
             ],
             [
              0.6666666666666666,
              "#ed7953"
             ],
             [
              0.7777777777777778,
              "#fb9f3a"
             ],
             [
              0.8888888888888888,
              "#fdca26"
             ],
             [
              1,
              "#f0f921"
             ]
            ],
            "type": "histogram2d"
           }
          ],
          "histogram2dcontour": [
           {
            "colorbar": {
             "outlinewidth": 0,
             "ticks": ""
            },
            "colorscale": [
             [
              0,
              "#0d0887"
             ],
             [
              0.1111111111111111,
              "#46039f"
             ],
             [
              0.2222222222222222,
              "#7201a8"
             ],
             [
              0.3333333333333333,
              "#9c179e"
             ],
             [
              0.4444444444444444,
              "#bd3786"
             ],
             [
              0.5555555555555556,
              "#d8576b"
             ],
             [
              0.6666666666666666,
              "#ed7953"
             ],
             [
              0.7777777777777778,
              "#fb9f3a"
             ],
             [
              0.8888888888888888,
              "#fdca26"
             ],
             [
              1,
              "#f0f921"
             ]
            ],
            "type": "histogram2dcontour"
           }
          ],
          "mesh3d": [
           {
            "colorbar": {
             "outlinewidth": 0,
             "ticks": ""
            },
            "type": "mesh3d"
           }
          ],
          "parcoords": [
           {
            "line": {
             "colorbar": {
              "outlinewidth": 0,
              "ticks": ""
             }
            },
            "type": "parcoords"
           }
          ],
          "pie": [
           {
            "automargin": true,
            "type": "pie"
           }
          ],
          "scatter": [
           {
            "fillpattern": {
             "fillmode": "overlay",
             "size": 10,
             "solidity": 0.2
            },
            "type": "scatter"
           }
          ],
          "scatter3d": [
           {
            "line": {
             "colorbar": {
              "outlinewidth": 0,
              "ticks": ""
             }
            },
            "marker": {
             "colorbar": {
              "outlinewidth": 0,
              "ticks": ""
             }
            },
            "type": "scatter3d"
           }
          ],
          "scattercarpet": [
           {
            "marker": {
             "colorbar": {
              "outlinewidth": 0,
              "ticks": ""
             }
            },
            "type": "scattercarpet"
           }
          ],
          "scattergeo": [
           {
            "marker": {
             "colorbar": {
              "outlinewidth": 0,
              "ticks": ""
             }
            },
            "type": "scattergeo"
           }
          ],
          "scattergl": [
           {
            "marker": {
             "colorbar": {
              "outlinewidth": 0,
              "ticks": ""
             }
            },
            "type": "scattergl"
           }
          ],
          "scattermapbox": [
           {
            "marker": {
             "colorbar": {
              "outlinewidth": 0,
              "ticks": ""
             }
            },
            "type": "scattermapbox"
           }
          ],
          "scatterpolar": [
           {
            "marker": {
             "colorbar": {
              "outlinewidth": 0,
              "ticks": ""
             }
            },
            "type": "scatterpolar"
           }
          ],
          "scatterpolargl": [
           {
            "marker": {
             "colorbar": {
              "outlinewidth": 0,
              "ticks": ""
             }
            },
            "type": "scatterpolargl"
           }
          ],
          "scatterternary": [
           {
            "marker": {
             "colorbar": {
              "outlinewidth": 0,
              "ticks": ""
             }
            },
            "type": "scatterternary"
           }
          ],
          "surface": [
           {
            "colorbar": {
             "outlinewidth": 0,
             "ticks": ""
            },
            "colorscale": [
             [
              0,
              "#0d0887"
             ],
             [
              0.1111111111111111,
              "#46039f"
             ],
             [
              0.2222222222222222,
              "#7201a8"
             ],
             [
              0.3333333333333333,
              "#9c179e"
             ],
             [
              0.4444444444444444,
              "#bd3786"
             ],
             [
              0.5555555555555556,
              "#d8576b"
             ],
             [
              0.6666666666666666,
              "#ed7953"
             ],
             [
              0.7777777777777778,
              "#fb9f3a"
             ],
             [
              0.8888888888888888,
              "#fdca26"
             ],
             [
              1,
              "#f0f921"
             ]
            ],
            "type": "surface"
           }
          ],
          "table": [
           {
            "cells": {
             "fill": {
              "color": "#EBF0F8"
             },
             "line": {
              "color": "white"
             }
            },
            "header": {
             "fill": {
              "color": "#C8D4E3"
             },
             "line": {
              "color": "white"
             }
            },
            "type": "table"
           }
          ]
         },
         "layout": {
          "annotationdefaults": {
           "arrowcolor": "#2a3f5f",
           "arrowhead": 0,
           "arrowwidth": 1
          },
          "autotypenumbers": "strict",
          "coloraxis": {
           "colorbar": {
            "outlinewidth": 0,
            "ticks": ""
           }
          },
          "colorscale": {
           "diverging": [
            [
             0,
             "#8e0152"
            ],
            [
             0.1,
             "#c51b7d"
            ],
            [
             0.2,
             "#de77ae"
            ],
            [
             0.3,
             "#f1b6da"
            ],
            [
             0.4,
             "#fde0ef"
            ],
            [
             0.5,
             "#f7f7f7"
            ],
            [
             0.6,
             "#e6f5d0"
            ],
            [
             0.7,
             "#b8e186"
            ],
            [
             0.8,
             "#7fbc41"
            ],
            [
             0.9,
             "#4d9221"
            ],
            [
             1,
             "#276419"
            ]
           ],
           "sequential": [
            [
             0,
             "#0d0887"
            ],
            [
             0.1111111111111111,
             "#46039f"
            ],
            [
             0.2222222222222222,
             "#7201a8"
            ],
            [
             0.3333333333333333,
             "#9c179e"
            ],
            [
             0.4444444444444444,
             "#bd3786"
            ],
            [
             0.5555555555555556,
             "#d8576b"
            ],
            [
             0.6666666666666666,
             "#ed7953"
            ],
            [
             0.7777777777777778,
             "#fb9f3a"
            ],
            [
             0.8888888888888888,
             "#fdca26"
            ],
            [
             1,
             "#f0f921"
            ]
           ],
           "sequentialminus": [
            [
             0,
             "#0d0887"
            ],
            [
             0.1111111111111111,
             "#46039f"
            ],
            [
             0.2222222222222222,
             "#7201a8"
            ],
            [
             0.3333333333333333,
             "#9c179e"
            ],
            [
             0.4444444444444444,
             "#bd3786"
            ],
            [
             0.5555555555555556,
             "#d8576b"
            ],
            [
             0.6666666666666666,
             "#ed7953"
            ],
            [
             0.7777777777777778,
             "#fb9f3a"
            ],
            [
             0.8888888888888888,
             "#fdca26"
            ],
            [
             1,
             "#f0f921"
            ]
           ]
          },
          "colorway": [
           "#636efa",
           "#EF553B",
           "#00cc96",
           "#ab63fa",
           "#FFA15A",
           "#19d3f3",
           "#FF6692",
           "#B6E880",
           "#FF97FF",
           "#FECB52"
          ],
          "font": {
           "color": "#2a3f5f"
          },
          "geo": {
           "bgcolor": "white",
           "lakecolor": "white",
           "landcolor": "#E5ECF6",
           "showlakes": true,
           "showland": true,
           "subunitcolor": "white"
          },
          "hoverlabel": {
           "align": "left"
          },
          "hovermode": "closest",
          "mapbox": {
           "style": "light"
          },
          "paper_bgcolor": "white",
          "plot_bgcolor": "#E5ECF6",
          "polar": {
           "angularaxis": {
            "gridcolor": "white",
            "linecolor": "white",
            "ticks": ""
           },
           "bgcolor": "#E5ECF6",
           "radialaxis": {
            "gridcolor": "white",
            "linecolor": "white",
            "ticks": ""
           }
          },
          "scene": {
           "xaxis": {
            "backgroundcolor": "#E5ECF6",
            "gridcolor": "white",
            "gridwidth": 2,
            "linecolor": "white",
            "showbackground": true,
            "ticks": "",
            "zerolinecolor": "white"
           },
           "yaxis": {
            "backgroundcolor": "#E5ECF6",
            "gridcolor": "white",
            "gridwidth": 2,
            "linecolor": "white",
            "showbackground": true,
            "ticks": "",
            "zerolinecolor": "white"
           },
           "zaxis": {
            "backgroundcolor": "#E5ECF6",
            "gridcolor": "white",
            "gridwidth": 2,
            "linecolor": "white",
            "showbackground": true,
            "ticks": "",
            "zerolinecolor": "white"
           }
          },
          "shapedefaults": {
           "line": {
            "color": "#2a3f5f"
           }
          },
          "ternary": {
           "aaxis": {
            "gridcolor": "white",
            "linecolor": "white",
            "ticks": ""
           },
           "baxis": {
            "gridcolor": "white",
            "linecolor": "white",
            "ticks": ""
           },
           "bgcolor": "#E5ECF6",
           "caxis": {
            "gridcolor": "white",
            "linecolor": "white",
            "ticks": ""
           }
          },
          "title": {
           "x": 0.05
          },
          "xaxis": {
           "automargin": true,
           "gridcolor": "white",
           "linecolor": "white",
           "ticks": "",
           "title": {
            "standoff": 15
           },
           "zerolinecolor": "white",
           "zerolinewidth": 2
          },
          "yaxis": {
           "automargin": true,
           "gridcolor": "white",
           "linecolor": "white",
           "ticks": "",
           "title": {
            "standoff": 15
           },
           "zerolinecolor": "white",
           "zerolinewidth": 2
          }
         }
        },
        "title": {
         "text": "strike: 1539.994, expiration: 0.09116247902028926 (years), amount: 0.409 , fees: 0$"
        },
        "width": 900,
        "xaxis": {
         "autorange": true,
         "range": [
          500,
          2490
         ],
         "type": "linear"
        },
        "yaxis": {
         "autorange": true,
         "range": [
          -84.42274131348196,
          663.1550373084273
         ],
         "type": "linear"
        }
       }
      },
      "image/png": "[encoded data removed]",
      "text/html": [
       "<div>                            <div id=\"cc9b7c04-45b7-4f42-b197-8a8318bc9cba\" class=\"plotly-graph-div\" style=\"height:500px; width:900px;\"></div>            <script type=\"text/javascript\">                require([\"plotly\"], function(Plotly) {                    window.PLOTLYENV=window.PLOTLYENV || {};                                    if (document.getElementById(\"cc9b7c04-45b7-4f42-b197-8a8318bc9cba\")) {                    Plotly.newPlot(                        \"cc9b7c04-45b7-4f42-b197-8a8318bc9cba\",                        [{\"mode\":\"lines\",\"name\":\"pure_usdc\",\"x\":[500,510,520,530,540,550,560,570,580,590,600,610,620,630,640,650,660,670,680,690,700,710,720,730,740,750,760,770,780,790,800,810,820,830,840,850,860,870,880,890,900,910,920,930,940,950,960,970,980,990,1000,1010,1020,1030,1040,1050,1060,1070,1080,1090,1100,1110,1120,1130,1140,1150,1160,1170,1180,1190,1200,1210,1220,1230,1240,1250,1260,1270,1280,1290,1300,1310,1320,1330,1340,1350,1360,1370,1380,1390,1400,1410,1420,1430,1440,1450,1460,1470,1480,1490,1500,1510,1520,1530,1540,1550,1560,1570,1580,1590,1600,1610,1620,1630,1640,1650,1660,1670,1680,1690,1700,1710,1720,1730,1740,1750,1760,1770,1780,1790,1800,1810,1820,1830,1840,1850,1860,1870,1880,1890,1900,1910,1920,1930,1940,1950,1960,1970,1980,1990,2000,2010,2020,2030,2040,2050,2060,2070,2080,2090,2100,2110,2120,2130,2140,2150,2160,2170,2180,2190,2200,2210,2220,2230,2240,2250,2260,2270,2280,2290,2300,2310,2320,2330,2340,2350,2360,2370,2380,2390,2400,2410,2420,2430,2440,2450,2460,2470,2480,2490],\"y\":[610.0858675670702,610.0858675670702,610.0858675670702,610.0858675670702,610.0858675670702,610.0858675670702,610.0858675670702,610.0858675670702,610.0858675670702,610.0858675670702,610.0858675670702,610.0858675670702,610.0858675670702,610.0858675670702,610.0858675670702,610.0858675670702,610.0858675670702,610.0858675670702,610.0858675670702,610.0858675670702,610.0858675670702,610.0858675670702,610.0858675670702,610.0858675670702,610.0858675670702,610.0858675670702,610.0858675670702,610.0858675670702,610.0858675670702,610.0858675670702,610.0858675670702,610.0858675670702,610.0858675670702,610.0858675670702,610.0858675670702,610.0858675670702,610.0858675670702,610.0858675670702,610.0858675670702,610.0858675670702,610.0858675670702,610.0858675670702,610.0858675670702,610.0858675670702,610.0858675670702,610.0858675670702,610.0858675670702,610.0858675670702,610.0858675670702,610.0858675670702,610.0858675670702,610.0858675670702,610.0858675670702,610.0858675670702,610.0858675670702,610.0858675670702,610.0858675670702,610.0858675670702,610.0858675670702,610.0858675670702,610.0858675670702,610.0858675670702,610.0858675670702,610.0858675670702,610.0858675670702,610.0858675670702,610.0858675670702,610.0858675670702,610.0858675670702,610.0858675670702,610.0858675670702,610.0858675670702,610.0858675670702,610.0858675670702,610.0858675670702,610.0858675670702,610.0858675670702,610.0858675670702,610.0858675670702,610.0858675670702,610.0858675670702,610.0858675670702,610.0858675670702,610.0858675670702,610.0858675670702,610.0858675670702,610.0858675670702,610.0858675670702,610.0858675670702,610.0858675670702,610.0858675670702,610.0858675670702,610.0858675670702,610.0858675670702,610.0858675670702,610.0858675670702,610.0858675670702,610.0858675670702,610.0858675670702,610.0858675670702,610.0858675670702,610.0858675670702,610.0858675670702,610.0858675670702,610.0858675670702,610.0858675670702,610.0858675670702,610.0858675670702,610.0858675670702,610.0858675670702,610.0858675670702,610.0858675670702,610.0858675670702,610.0858675670702,610.0858675670702,610.0858675670702,610.0858675670702,610.0858675670702,610.0858675670702,610.0858675670702,610.0858675670702,610.0858675670702,610.0858675670702,610.0858675670702,610.0858675670702,610.0858675670702,610.0858675670702,610.0858675670702,610.0858675670702,610.0858675670702,610.0858675670702,610.0858675670702,610.0858675670702,610.0858675670702,610.0858675670702,610.0858675670702,610.0858675670702,610.0858675670702,610.0858675670702,610.0858675670702,610.0858675670702,610.0858675670702,610.0858675670702,610.0858675670702,610.0858675670702,610.0858675670702,610.0858675670702,610.0858675670702,610.0858675670702,610.0858675670702,610.0858675670702,610.0858675670702,610.0858675670702,610.0858675670702,610.0858675670702,610.0858675670702,610.0858675670702,610.0858675670702,610.0858675670702,610.0858675670702,610.0858675670702,610.0858675670702,610.0858675670702,610.0858675670702,610.0858675670702,610.0858675670702,610.0858675670702,610.0858675670702,610.0858675670702,610.0858675670702,610.0858675670702,610.0858675670702,610.0858675670702,610.0858675670702,610.0858675670702,610.0858675670702,610.0858675670702,610.0858675670702,610.0858675670702,610.0858675670702,610.0858675670702,610.0858675670702,610.0858675670702,610.0858675670702,610.0858675670702,610.0858675670702,610.0858675670702,610.0858675670702,610.0858675670702,610.0858675670702,610.0858675670702,610.0858675670702,610.0858675670702,610.0858675670702,610.0858675670702,610.0858675670702,610.0858675670702,610.0858675670702,610.0858675670702,610.0858675670702],\"type\":\"scatter\"},{\"mode\":\"lines\",\"name\":\"uniswap_tvs + fees\",\"x\":[500,510,520,530,540,550,560,570,580,590,600,610,620,630,640,650,660,670,680,690,700,710,720,730,740,750,760,770,780,790,800,810,820,830,840,850,860,870,880,890,900,910,920,930,940,950,960,970,980,990,1000,1010,1020,1030,1040,1050,1060,1070,1080,1090,1100,1110,1120,1130,1140,1150,1160,1170,1180,1190,1200,1210,1220,1230,1240,1250,1260,1270,1280,1290,1300,1310,1320,1330,1340,1350,1360,1370,1380,1390,1400,1410,1420,1430,1440,1450,1460,1470,1480,1490,1500,1510,1520,1530,1540,1550,1560,1570,1580,1590,1600,1610,1620,1630,1640,1650,1660,1670,1680,1690,1700,1710,1720,1730,1740,1750,1760,1770,1780,1790,1800,1810,1820,1830,1840,1850,1860,1870,1880,1890,1900,1910,1920,1930,1940,1950,1960,1970,1980,1990,2000,2010,2020,2030,2040,2050,2060,2070,2080,2090,2100,2110,2120,2130,2140,2150,2160,2170,2180,2190,2200,2210,2220,2230,2240,2250,2260,2270,2280,2290,2300,2310,2320,2330,2340,2350,2360,2370,2380,2390,2400,2410,2420,2430,2440,2450,2460,2470,2480,2490],\"y\":[202.81521474415905,206.87151903904225,210.92782333392543,214.9841276288086,219.04043192369178,223.09673621857496,227.15304051345814,231.20934480834134,235.26564910322452,239.3219533981077,243.37825769299087,247.43456198787405,251.49086628275722,255.54717057764043,259.6034748725236,263.6597791674068,267.71608346229,271.77238775717314,275.82869205205634,279.8849963469395,283.9413006418227,287.99760493670584,292.05390923158905,296.11021352647225,300.1665178213554,304.2228221162386,308.27912641112175,312.33543070600496,316.39173500088816,320.4480392957713,324.5043435906545,328.56064788553766,332.61695218042087,336.673256475304,340.7295607701872,344.7858650650704,348.8421693599536,352.8984736548368,356.9547779497199,361.01108224460313,365.06738653948634,369.1236908343695,373.1799951292527,377.23629942413584,381.29260371901904,385.3489080139022,389.4052123087854,393.4615166036686,397.51782089855175,401.57412519343495,405.6304294883181,409.6867337832013,413.7430380780845,417.79934237296766,421.85564666785086,425.911950962734,429.9682552576172,434.02455955250036,438.08086384738357,442.1371681422668,446.1934724371499,450.2497767320331,454.3060810269163,458.3623853217995,462.4186896166827,466.47499391156583,470.53129820644904,474.5876025013322,478.6439067962154,482.70021109109854,486.75651538598174,490.81281968086495,494.8691239757481,498.9254282706313,502.98173256551445,507.03803686039765,511.09434115528086,515.150645450164,519.2069497450472,523.2632540399304,527.3195583348136,531.3758626296967,535.43216692458,539.4884712194631,543.5447755143463,547.6010798092294,551.6573841041127,555.7136883989958,559.769992693879,563.8262969887622,567.8826012836454,571.8608894431143,575.6842490178119,579.3543137264401,582.8726887754166,586.240951550701,589.4606522881847,592.5333147234536,595.4604367216928,598.2434908884709,600.8839251621082,603.3831633883023,605.7426058776571,607.9636299467331,610.0475904432096,611.9958202557251,613.8096308089401,615.4903125443419,617.0391353872884,618.4573492007728,619.7461842263635,620.9068515127635,621.9405433324087,622.8484335865107,623.631678198937,624.2914154992964,624.8287665955943,625.2448357368006,625.5407106656609,625.7174629620729,625.7761483773318,625.7761483773318,625.7761483773318,625.7761483773318,625.7761483773318,625.7761483773318,625.7761483773318,625.7761483773318,625.7761483773318,625.7761483773318,625.7761483773318,625.7761483773318,625.7761483773318,625.7761483773318,625.7761483773318,625.7761483773318,625.7761483773318,625.7761483773318,625.7761483773318,625.7761483773318,625.7761483773318,625.7761483773318,625.7761483773318,625.7761483773318,625.7761483773318,625.7761483773318,625.7761483773318,625.7761483773318,625.7761483773318,625.7761483773318,625.7761483773318,625.7761483773318,625.7761483773318,625.7761483773318,625.7761483773318,625.7761483773318,625.7761483773318,625.7761483773318,625.7761483773318,625.7761483773318,625.7761483773318,625.7761483773318,625.7761483773318,625.7761483773318,625.7761483773318,625.7761483773318,625.7761483773318,625.7761483773318,625.7761483773318,625.7761483773318,625.7761483773318,625.7761483773318,625.7761483773318,625.7761483773318,625.7761483773318,625.7761483773318,625.7761483773318,625.7761483773318,625.7761483773318,625.7761483773318,625.7761483773318,625.7761483773318,625.7761483773318,625.7761483773318,625.7761483773318,625.7761483773318,625.7761483773318,625.7761483773318,625.7761483773318,625.7761483773318,625.7761483773318,625.7761483773318,625.7761483773318,625.7761483773318,625.7761483773318,625.7761483773318,625.7761483773318,625.7761483773318,625.7761483773318,625.7761483773318],\"type\":\"scatter\"},{\"mode\":\"lines\",\"name\":\"option_pnls\",\"x\":[500,510,520,530,540,550,560,570,580,590,600,610,620,630,640,650,660,670,680,690,700,710,720,730,740,750,760,770,780,790,800,810,820,830,840,850,860,870,880,890,900,910,920,930,940,950,960,970,980,990,1000,1010,1020,1030,1040,1050,1060,1070,1080,1090,1100,1110,1120,1130,1140,1150,1160,1170,1180,1190,1200,1210,1220,1230,1240,1250,1260,1270,1280,1290,1300,1310,1320,1330,1340,1350,1360,1370,1380,1390,1400,1410,1420,1430,1440,1450,1460,1470,1480,1490,1500,1510,1520,1530,1540,1550,1560,1570,1580,1590,1600,1610,1620,1630,1640,1650,1660,1670,1680,1690,1700,1710,1720,1730,1740,1750,1760,1770,1780,1790,1800,1810,1820,1830,1840,1850,1860,1870,1880,1890,1900,1910,1920,1930,1940,1950,1960,1970,1980,1990,2000,2010,2020,2030,2040,2050,2060,2070,2080,2090,2100,2110,2120,2130,2140,2150,2160,2170,2180,2190,2200,2210,2220,2230,2240,2250,2260,2270,2280,2290,2300,2310,2320,2330,2340,2350,2360,2370,2380,2390,2400,2410,2420,2430,2440,2450,2460,2470,2480,2490],\"y\":[378.5191200629138,374.4271451651523,370.33517026739077,366.2431953696293,362.15122047186776,358.0592455741062,353.9672706763447,349.87529577858317,345.7833208808217,341.69134598306016,337.5993710852986,333.5073961875371,329.41542128977557,325.3234463920141,321.23147149425256,317.139496596491,313.0475216987295,308.95554680096797,304.8635719032065,300.77159700544496,296.67962210768343,292.5876472099219,288.49567231216037,284.4036974143989,280.31172251663736,276.21974761887583,272.1277727211143,268.03579782335277,263.9438229255913,259.85184802782976,255.75987313006826,251.66789823230673,247.5759233345452,243.48394843678372,239.3919735390222,235.29999864126066,231.20802374349913,227.1160488457376,223.02407394797612,218.93209905021465,214.84012415245317,210.7481492546918,206.6561743569307,202.5641994591703,198.47222456141134,194.38024966365606,190.28827476590914,186.19629986818148,182.10432497049734,178.01235007290984,173.92037517553422,169.8284002786156,165.7364253826681,161.64445048875334,157.5524755990299,153.46050071781912,149.3685258536398,145.27655102302782,141.18457625758842,137.09260161680308,133.00062721089938,128.9086532410103,124.81668006851132,120.7247083327149,116.63273914725784,112.5407744221948,108.44881738316195,104.3568733936454,100.26495123447182,96.17306505945879,92.08123733091847,87.98950314583308,83.89791649382545,79.80655913953663,75.7155529885535,71.6250769658539,67.53538959023419,63.44685854107271,59.35999855122946,55.27551888195118,51.194381399448,47.117869837522086,43.04767016441239,38.98596106020144,34.93551236484344,30.89978802075199,26.883048591138454,22.890447008409744,18.92810995258251,15.003196356847909,11.123924169109095,7.299556827883279,3.540342056053831,-0.14260241656153028,-3.737458764598287,-7.231933674525813,-10.613532777447567,-13.869875996530453,-16.989041126236224,-19.95991984325123,-22.772568237631827,-25.41853311758751,-27.891135934469226,-30.185698205454507,-32.29969564040105,-34.2328325355696,-35.98703297921503,-37.56635063345788,-38.976803764841414,-40.22614649169781,-41.323590474654054,-42.27949333574745,-43.10503084639508,-43.81186942382608,-44.4118538765638,-44.91672288488956,-45.33786168521765,-45.686098155699604,-45.97154526325291,-46.203489873810526,-46.39032543004651,-46.539524076439136,-46.657642504013246,-46.750355079880876,-46.82250765605241,-46.878185722463144,-46.920791169072956,-46.95312273712415,-46.977456164551405,-46.99562097547553,-47.00907175913662,-47.018952581181075,-47.026153841520156,-47.03136142674606,-47.03509840348481,-47.03775977374207,-47.03964098171589,-47.04096094387001,-47.04188039063132,-47.04251627779101,-47.04295296487984,-47.04325077977003,-47.043452503755844,-47.04358822673311,-47.04367894271233,-47.04373918463695,-47.04377893569405,-47.043805002244625,-47.04382199069379,-47.04383299618422,-47.04384008380856,-47.043844621945695,-47.0438475112281,-47.04384934053897,-47.043850492451405,-47.04385121394957,-47.0438516635052,-47.04385194218938,-47.04385211408744,-47.04385221960038,-47.04385228405649,-47.0438523232486,-47.043852346970084,-47.04385236126421,-47.04385236984005,-47.043852374963436,-47.043852378011636,-47.04385237981774,-47.043852380883806,-47.043852381510526,-47.04385238187766,-47.04385238209184,-47.04385238221652,-47.04385238228863,-47.04385238233031,-47.0438523823545,-47.04385238236818,-47.04385238237609,-47.04385238238046,-47.04385238238316,-47.04385238238455,-47.04385238238548,-47.04385238238585,-47.04385238238604,-47.04385238238623,-47.04385238238632,-47.04385238238632,-47.04385238238632,-47.04385238238632,-47.043852382386504,-47.04385238238641,-47.04385238238632,-47.04385238238641,-47.04385238238641,-47.043852382386504,-47.04385238238632,-47.04385238238641,-47.04385238238641,-47.04385238238641,-47.04385238238641],\"type\":\"scatter\"},{\"mode\":\"lines\",\"name\":\"uniswap_tvs + option_pnls + fees\",\"x\":[500,510,520,530,540,550,560,570,580,590,600,610,620,630,640,650,660,670,680,690,700,710,720,730,740,750,760,770,780,790,800,810,820,830,840,850,860,870,880,890,900,910,920,930,940,950,960,970,980,990,1000,1010,1020,1030,1040,1050,1060,1070,1080,1090,1100,1110,1120,1130,1140,1150,1160,1170,1180,1190,1200,1210,1220,1230,1240,1250,1260,1270,1280,1290,1300,1310,1320,1330,1340,1350,1360,1370,1380,1390,1400,1410,1420,1430,1440,1450,1460,1470,1480,1490,1500,1510,1520,1530,1540,1550,1560,1570,1580,1590,1600,1610,1620,1630,1640,1650,1660,1670,1680,1690,1700,1710,1720,1730,1740,1750,1760,1770,1780,1790,1800,1810,1820,1830,1840,1850,1860,1870,1880,1890,1900,1910,1920,1930,1940,1950,1960,1970,1980,1990,2000,2010,2020,2030,2040,2050,2060,2070,2080,2090,2100,2110,2120,2130,2140,2150,2160,2170,2180,2190,2200,2210,2220,2230,2240,2250,2260,2270,2280,2290,2300,2310,2320,2330,2340,2350,2360,2370,2380,2390,2400,2410,2420,2430,2440,2450,2460,2470,2480,2490],\"y\":[581.3343348070729,581.2986642041946,581.2629936013162,581.2273229984379,581.1916523955596,581.1559817926811,581.1203111898028,581.0846405869245,581.0489699840462,581.0132993811678,580.9776287782895,580.9419581754112,580.9062875725328,580.8706169696545,580.8349463667762,580.7992757638979,580.7636051610195,580.7279345581411,580.6922639552629,580.6565933523844,580.6209227495061,580.5852521466277,580.5495815437494,580.5139109408711,580.4782403379927,580.4425697351144,580.406899132236,580.3712285293577,580.3355579264794,580.2998873236011,580.2642167207227,580.2285461178444,580.1928755149661,580.1572049120878,580.1215343092094,580.0858637063311,580.0501931034527,580.0145225005743,579.978851897696,579.9431812948178,579.9075106919395,579.8718400890613,579.8361694861834,579.8004988833061,579.7648282804304,579.7291576775583,579.6934870746945,579.6578164718501,579.6221458690491,579.5864752663448,579.5508046638523,579.5151340618169,579.4794634607526,579.443792861721,579.4081222668808,579.3724516805531,579.336781111257,579.3011105755281,579.265440104972,579.2297697590699,579.1940996480494,579.1584299730434,579.1227610954276,579.0870936545143,579.0514287639405,579.0157683337607,578.9801155896109,578.9444758949776,578.9088580306873,578.8732761505573,578.8377527169002,578.8023228266981,578.7670404695735,578.7319874101679,578.697285554068,578.6631138262516,578.6297307455151,578.5975039912367,578.5669482962766,578.5387729218816,578.5139397342616,578.4937324672188,578.4798370889923,578.4744322796646,578.4802878791897,578.5008678299814,578.5404326952512,578.6041354074056,578.6981026464615,578.8294933456101,579.0065254527544,579.1604462709976,579.2245910738658,579.2117113098785,579.1352300108183,579.0090178761751,578.8471195107372,578.6634387269231,578.4713955954566,578.2835710452197,578.1113569244764,577.9646302707148,577.8514699431878,577.7779317412786,577.7478948028086,577.7629877201555,577.822597829725,577.923961910884,578.062331622447,578.231202709075,578.4225937517094,578.627358177016,578.8355124860136,579.0365641626846,579.2198243223733,579.3746926144069,579.4909049103767,579.558737581101,579.569165402408,579.5139730882623,579.3858229472853,579.2366243008926,579.1185058733186,579.025793297451,578.9536407212794,578.8979626548686,578.8553572082589,578.8230256402076,578.7986922127803,578.7805274018563,578.7670766181951,578.7571957961507,578.7499945358117,578.7447869505856,578.741049973847,578.7383886035897,578.7365073956158,578.7351874334618,578.7342679867004,578.7336320995407,578.7331954124519,578.7328975975618,578.732695873576,578.7325601505986,578.7324694346195,578.7324091926948,578.7323694416377,578.7323433750871,578.732326386638,578.7323153811476,578.7323082935231,578.732303755386,578.7323008661036,578.7322990367928,578.7322978848804,578.7322971633822,578.7322967138266,578.7322964351424,578.7322962632443,578.7322961577314,578.7322960932753,578.7322960540831,578.7322960303617,578.7322960160676,578.7322960074918,578.7322960023683,578.7322959993202,578.732295997514,578.732295996448,578.7322959958212,578.7322959954541,578.73229599524,578.7322959951152,578.7322959950432,578.7322959950014,578.7322959949772,578.7322959949636,578.7322959949556,578.7322959949513,578.7322959949486,578.7322959949472,578.7322959949463,578.732295994946,578.7322959949457,578.7322959949455,578.7322959949454,578.7322959949454,578.7322959949454,578.7322959949454,578.7322959949453,578.7322959949454,578.7322959949454,578.7322959949454,578.7322959949454,578.7322959949453,578.7322959949454,578.7322959949454,578.7322959949454,578.7322959949454,578.7322959949454],\"type\":\"scatter\"}],                        {\"template\":{\"data\":{\"histogram2dcontour\":[{\"type\":\"histogram2dcontour\",\"colorbar\":{\"outlinewidth\":0,\"ticks\":\"\"},\"colorscale\":[[0.0,\"#0d0887\"],[0.1111111111111111,\"#46039f\"],[0.2222222222222222,\"#7201a8\"],[0.3333333333333333,\"#9c179e\"],[0.4444444444444444,\"#bd3786\"],[0.5555555555555556,\"#d8576b\"],[0.6666666666666666,\"#ed7953\"],[0.7777777777777778,\"#fb9f3a\"],[0.8888888888888888,\"#fdca26\"],[1.0,\"#f0f921\"]]}],\"choropleth\":[{\"type\":\"choropleth\",\"colorbar\":{\"outlinewidth\":0,\"ticks\":\"\"}}],\"histogram2d\":[{\"type\":\"histogram2d\",\"colorbar\":{\"outlinewidth\":0,\"ticks\":\"\"},\"colorscale\":[[0.0,\"#0d0887\"],[0.1111111111111111,\"#46039f\"],[0.2222222222222222,\"#7201a8\"],[0.3333333333333333,\"#9c179e\"],[0.4444444444444444,\"#bd3786\"],[0.5555555555555556,\"#d8576b\"],[0.6666666666666666,\"#ed7953\"],[0.7777777777777778,\"#fb9f3a\"],[0.8888888888888888,\"#fdca26\"],[1.0,\"#f0f921\"]]}],\"heatmap\":[{\"type\":\"heatmap\",\"colorbar\":{\"outlinewidth\":0,\"ticks\":\"\"},\"colorscale\":[[0.0,\"#0d0887\"],[0.1111111111111111,\"#46039f\"],[0.2222222222222222,\"#7201a8\"],[0.3333333333333333,\"#9c179e\"],[0.4444444444444444,\"#bd3786\"],[0.5555555555555556,\"#d8576b\"],[0.6666666666666666,\"#ed7953\"],[0.7777777777777778,\"#fb9f3a\"],[0.8888888888888888,\"#fdca26\"],[1.0,\"#f0f921\"]]}],\"heatmapgl\":[{\"type\":\"heatmapgl\",\"colorbar\":{\"outlinewidth\":0,\"ticks\":\"\"},\"colorscale\":[[0.0,\"#0d0887\"],[0.1111111111111111,\"#46039f\"],[0.2222222222222222,\"#7201a8\"],[0.3333333333333333,\"#9c179e\"],[0.4444444444444444,\"#bd3786\"],[0.5555555555555556,\"#d8576b\"],[0.6666666666666666,\"#ed7953\"],[0.7777777777777778,\"#fb9f3a\"],[0.8888888888888888,\"#fdca26\"],[1.0,\"#f0f921\"]]}],\"contourcarpet\":[{\"type\":\"contourcarpet\",\"colorbar\":{\"outlinewidth\":0,\"ticks\":\"\"}}],\"contour\":[{\"type\":\"contour\",\"colorbar\":{\"outlinewidth\":0,\"ticks\":\"\"},\"colorscale\":[[0.0,\"#0d0887\"],[0.1111111111111111,\"#46039f\"],[0.2222222222222222,\"#7201a8\"],[0.3333333333333333,\"#9c179e\"],[0.4444444444444444,\"#bd3786\"],[0.5555555555555556,\"#d8576b\"],[0.6666666666666666,\"#ed7953\"],[0.7777777777777778,\"#fb9f3a\"],[0.8888888888888888,\"#fdca26\"],[1.0,\"#f0f921\"]]}],\"surface\":[{\"type\":\"surface\",\"colorbar\":{\"outlinewidth\":0,\"ticks\":\"\"},\"colorscale\":[[0.0,\"#0d0887\"],[0.1111111111111111,\"#46039f\"],[0.2222222222222222,\"#7201a8\"],[0.3333333333333333,\"#9c179e\"],[0.4444444444444444,\"#bd3786\"],[0.5555555555555556,\"#d8576b\"],[0.6666666666666666,\"#ed7953\"],[0.7777777777777778,\"#fb9f3a\"],[0.8888888888888888,\"#fdca26\"],[1.0,\"#f0f921\"]]}],\"mesh3d\":[{\"type\":\"mesh3d\",\"colorbar\":{\"outlinewidth\":0,\"ticks\":\"\"}}],\"scatter\":[{\"fillpattern\":{\"fillmode\":\"overlay\",\"size\":10,\"solidity\":0.2},\"type\":\"scatter\"}],\"parcoords\":[{\"type\":\"parcoords\",\"line\":{\"colorbar\":{\"outlinewidth\":0,\"ticks\":\"\"}}}],\"scatterpolargl\":[{\"type\":\"scatterpolargl\",\"marker\":{\"colorbar\":{\"outlinewidth\":0,\"ticks\":\"\"}}}],\"bar\":[{\"error_x\":{\"color\":\"#2a3f5f\"},\"error_y\":{\"color\":\"#2a3f5f\"},\"marker\":{\"line\":{\"color\":\"#E5ECF6\",\"width\":0.5},\"pattern\":{\"fillmode\":\"overlay\",\"size\":10,\"solidity\":0.2}},\"type\":\"bar\"}],\"scattergeo\":[{\"type\":\"scattergeo\",\"marker\":{\"colorbar\":{\"outlinewidth\":0,\"ticks\":\"\"}}}],\"scatterpolar\":[{\"type\":\"scatterpolar\",\"marker\":{\"colorbar\":{\"outlinewidth\":0,\"ticks\":\"\"}}}],\"histogram\":[{\"marker\":{\"pattern\":{\"fillmode\":\"overlay\",\"size\":10,\"solidity\":0.2}},\"type\":\"histogram\"}],\"scattergl\":[{\"type\":\"scattergl\",\"marker\":{\"colorbar\":{\"outlinewidth\":0,\"ticks\":\"\"}}}],\"scatter3d\":[{\"type\":\"scatter3d\",\"line\":{\"colorbar\":{\"outlinewidth\":0,\"ticks\":\"\"}},\"marker\":{\"colorbar\":{\"outlinewidth\":0,\"ticks\":\"\"}}}],\"scattermapbox\":[{\"type\":\"scattermapbox\",\"marker\":{\"colorbar\":{\"outlinewidth\":0,\"ticks\":\"\"}}}],\"scatterternary\":[{\"type\":\"scatterternary\",\"marker\":{\"colorbar\":{\"outlinewidth\":0,\"ticks\":\"\"}}}],\"scattercarpet\":[{\"type\":\"scattercarpet\",\"marker\":{\"colorbar\":{\"outlinewidth\":0,\"ticks\":\"\"}}}],\"carpet\":[{\"aaxis\":{\"endlinecolor\":\"#2a3f5f\",\"gridcolor\":\"white\",\"linecolor\":\"white\",\"minorgridcolor\":\"white\",\"startlinecolor\":\"#2a3f5f\"},\"baxis\":{\"endlinecolor\":\"#2a3f5f\",\"gridcolor\":\"white\",\"linecolor\":\"white\",\"minorgridcolor\":\"white\",\"startlinecolor\":\"#2a3f5f\"},\"type\":\"carpet\"}],\"table\":[{\"cells\":{\"fill\":{\"color\":\"#EBF0F8\"},\"line\":{\"color\":\"white\"}},\"header\":{\"fill\":{\"color\":\"#C8D4E3\"},\"line\":{\"color\":\"white\"}},\"type\":\"table\"}],\"barpolar\":[{\"marker\":{\"line\":{\"color\":\"#E5ECF6\",\"width\":0.5},\"pattern\":{\"fillmode\":\"overlay\",\"size\":10,\"solidity\":0.2}},\"type\":\"barpolar\"}],\"pie\":[{\"automargin\":true,\"type\":\"pie\"}]},\"layout\":{\"autotypenumbers\":\"strict\",\"colorway\":[\"#636efa\",\"#EF553B\",\"#00cc96\",\"#ab63fa\",\"#FFA15A\",\"#19d3f3\",\"#FF6692\",\"#B6E880\",\"#FF97FF\",\"#FECB52\"],\"font\":{\"color\":\"#2a3f5f\"},\"hovermode\":\"closest\",\"hoverlabel\":{\"align\":\"left\"},\"paper_bgcolor\":\"white\",\"plot_bgcolor\":\"#E5ECF6\",\"polar\":{\"bgcolor\":\"#E5ECF6\",\"angularaxis\":{\"gridcolor\":\"white\",\"linecolor\":\"white\",\"ticks\":\"\"},\"radialaxis\":{\"gridcolor\":\"white\",\"linecolor\":\"white\",\"ticks\":\"\"}},\"ternary\":{\"bgcolor\":\"#E5ECF6\",\"aaxis\":{\"gridcolor\":\"white\",\"linecolor\":\"white\",\"ticks\":\"\"},\"baxis\":{\"gridcolor\":\"white\",\"linecolor\":\"white\",\"ticks\":\"\"},\"caxis\":{\"gridcolor\":\"white\",\"linecolor\":\"white\",\"ticks\":\"\"}},\"coloraxis\":{\"colorbar\":{\"outlinewidth\":0,\"ticks\":\"\"}},\"colorscale\":{\"sequential\":[[0.0,\"#0d0887\"],[0.1111111111111111,\"#46039f\"],[0.2222222222222222,\"#7201a8\"],[0.3333333333333333,\"#9c179e\"],[0.4444444444444444,\"#bd3786\"],[0.5555555555555556,\"#d8576b\"],[0.6666666666666666,\"#ed7953\"],[0.7777777777777778,\"#fb9f3a\"],[0.8888888888888888,\"#fdca26\"],[1.0,\"#f0f921\"]],\"sequentialminus\":[[0.0,\"#0d0887\"],[0.1111111111111111,\"#46039f\"],[0.2222222222222222,\"#7201a8\"],[0.3333333333333333,\"#9c179e\"],[0.4444444444444444,\"#bd3786\"],[0.5555555555555556,\"#d8576b\"],[0.6666666666666666,\"#ed7953\"],[0.7777777777777778,\"#fb9f3a\"],[0.8888888888888888,\"#fdca26\"],[1.0,\"#f0f921\"]],\"diverging\":[[0,\"#8e0152\"],[0.1,\"#c51b7d\"],[0.2,\"#de77ae\"],[0.3,\"#f1b6da\"],[0.4,\"#fde0ef\"],[0.5,\"#f7f7f7\"],[0.6,\"#e6f5d0\"],[0.7,\"#b8e186\"],[0.8,\"#7fbc41\"],[0.9,\"#4d9221\"],[1,\"#276419\"]]},\"xaxis\":{\"gridcolor\":\"white\",\"linecolor\":\"white\",\"ticks\":\"\",\"title\":{\"standoff\":15},\"zerolinecolor\":\"white\",\"automargin\":true,\"zerolinewidth\":2},\"yaxis\":{\"gridcolor\":\"white\",\"linecolor\":\"white\",\"ticks\":\"\",\"title\":{\"standoff\":15},\"zerolinecolor\":\"white\",\"automargin\":true,\"zerolinewidth\":2},\"scene\":{\"xaxis\":{\"backgroundcolor\":\"#E5ECF6\",\"gridcolor\":\"white\",\"linecolor\":\"white\",\"showbackground\":true,\"ticks\":\"\",\"zerolinecolor\":\"white\",\"gridwidth\":2},\"yaxis\":{\"backgroundcolor\":\"#E5ECF6\",\"gridcolor\":\"white\",\"linecolor\":\"white\",\"showbackground\":true,\"ticks\":\"\",\"zerolinecolor\":\"white\",\"gridwidth\":2},\"zaxis\":{\"backgroundcolor\":\"#E5ECF6\",\"gridcolor\":\"white\",\"linecolor\":\"white\",\"showbackground\":true,\"ticks\":\"\",\"zerolinecolor\":\"white\",\"gridwidth\":2}},\"shapedefaults\":{\"line\":{\"color\":\"#2a3f5f\"}},\"annotationdefaults\":{\"arrowcolor\":\"#2a3f5f\",\"arrowhead\":0,\"arrowwidth\":1},\"geo\":{\"bgcolor\":\"white\",\"landcolor\":\"#E5ECF6\",\"subunitcolor\":\"white\",\"showland\":true,\"showlakes\":true,\"lakecolor\":\"white\"},\"title\":{\"x\":0.05},\"mapbox\":{\"style\":\"light\"}}},\"autosize\":false,\"width\":900,\"height\":500,\"title\":{\"text\":\"strike: 1539.994, expiration: 0.09116247902028926 (years), amount: 0.409 , fees: 0$\"}},                        {\"responsive\": true}                    ).then(function(){\n",
       "                            \n",
       "var gd = document.getElementById('cc9b7c04-45b7-4f42-b197-8a8318bc9cba');\n",
       "var x = new MutationObserver(function (mutations, observer) {{\n",
       "        var display = window.getComputedStyle(gd).display;\n",
       "        if (!display || display === 'none') {{\n",
       "            console.log([gd, 'removed!']);\n",
       "            Plotly.purge(gd);\n",
       "            observer.disconnect();\n",
       "        }}\n",
       "}});\n",
       "\n",
       "// Listen for the removal of the full notebook cells\n",
       "var notebookContainer = gd.closest('#notebook-container');\n",
       "if (notebookContainer) {{\n",
       "    x.observe(notebookContainer, {childList: true});\n",
       "}}\n",
       "\n",
       "// Listen for the clearing of the current output cell\n",
       "var outputEl = gd.closest('.output');\n",
       "if (outputEl) {{\n",
       "    x.observe(outputEl, {childList: true});\n",
       "}}\n",
       "\n",
       "                        })                };                });            </script>        </div>"
      ]
     },
     "metadata": {},
     "output_type": "display_data"
    }
   ],
   "source": [
    "fig = go.Figure()\n",
    "fig.update_layout(\n",
    "    autosize=False,\n",
    "    width=900,\n",
    "    height=500)\n",
    "\n",
    "fig.add_trace(go.Scatter(x=prices, y=pure_usdc,\n",
    "                    mode='lines',\n",
    "                    name='pure_usdc'))\n",
    "\n",
    "fig.add_trace(go.Scatter(x=prices, y=uniswap_tvs + earned_fees,\n",
    "                    mode='lines',\n",
    "                    name=\"\"\"uniswap_tvs + fees\"\"\".format(earned_fees)))\n",
    "fig.add_trace(go.Scatter(x=prices, y=option_pnls,\n",
    "                    mode='lines',\n",
    "                    name='option_pnls'))\n",
    "fig.add_trace(go.Scatter(x=prices, y=uniswap_tvs + option_pnls + earned_fees,\n",
    "                    mode='lines',\n",
    "                    name='uniswap_tvs + option_pnls + fees'))\n",
    "fig.update_layout(title_text='strike: {}, expiration: {} (years), amount: {} , fees: {}$'.format(round(optimal_option.strike, 3), \n",
    "                                                                             optimal_option.expiration,\n",
    "                                                                             round(optimal_option.amount, 3),\n",
    "                                                                             earned_fees))\n",
    "\n",
    "\n",
    "\n"
   ]
  },
  {
   "cell_type": "markdown",
   "id": "c3dd6258-de26-4e8f-80d1-9f2039f5c063",
   "metadata": {},
   "source": [
    "# Strategy 1\n",
    "\n",
    "The range is roughly ±9%. Vault finds the optimal option and replicates it. There are two cases may appear:\n",
    "1. At some point during the period, the underlying price went out of the range. In this case, vault does the rebalancing as following: <br/>\n",
    "- provides liquidity to the new ±9% price range interval\n",
    "- finds a new optimal option to hedge, and replicates it\n",
    "2. During the entire period the underlying price stood within the boundaries. Then vault just keeps replicating the option"
   ]
  },
  {
   "cell_type": "code",
   "execution_count": null,
   "id": "305584e6-1451-438e-a6d4-b143caa3621f",
   "metadata": {},
   "outputs": [],
   "source": []
  },
  {
   "cell_type": "code",
   "execution_count": null,
   "id": "52f0914d-6c51-465d-9928-9ba244ee1fb6",
   "metadata": {},
   "outputs": [],
   "source": []
  },
  {
   "cell_type": "code",
   "execution_count": null,
   "id": "54da3a81-4d60-4887-b341-30d93667a53f",
   "metadata": {},
   "outputs": [],
   "source": []
  },
  {
   "cell_type": "markdown",
   "id": "44b9eb8c-c87e-42a0-8db4-6dd4083e457b",
   "metadata": {},
   "source": []
  },
  {
   "cell_type": "code",
   "execution_count": null,
   "id": "5c21312e-7c6d-4ede-a532-4377d01d4f44",
   "metadata": {},
   "outputs": [],
   "source": []
  },
  {
   "cell_type": "code",
   "execution_count": null,
   "id": "dc4f8306-20d8-4f03-8fd8-86d1a3443f86",
   "metadata": {},
   "outputs": [],
   "source": []
  },
  {
   "cell_type": "code",
   "execution_count": null,
   "id": "06c67966-9b07-405f-b8da-f326795dc1c1",
   "metadata": {},
   "outputs": [],
   "source": []
  },
  {
   "cell_type": "code",
   "execution_count": null,
   "id": "043e3567-6fe6-4ee0-9c3a-eb8d392f0efe",
   "metadata": {},
   "outputs": [],
   "source": []
  },
  {
   "cell_type": "code",
   "execution_count": null,
   "id": "2d6eaf92-68cf-455f-8a54-f0a1688a5d73",
   "metadata": {},
   "outputs": [],
   "source": []
  }
 ],
 "metadata": {
  "kernelspec": {
   "display_name": "Python 3 (ipykernel)",
   "language": "python",
   "name": "python3"
  },
  "language_info": {
   "codemirror_mode": {
    "name": "ipython",
    "version": 3
   },
   "file_extension": ".py",
   "mimetype": "text/x-python",
   "name": "python",
   "nbconvert_exporter": "python",
   "pygments_lexer": "ipython3",
   "version": "3.8.16"
  }
 },
 "nbformat": 4,
 "nbformat_minor": 5
}
