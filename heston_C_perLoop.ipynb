{
 "cells": [
  {
   "cell_type": "code",
   "execution_count": 1,
   "id": "7a51afe7",
   "metadata": {},
   "outputs": [],
   "source": [
    "import numpy as np\n",
    "i = complex(0, 1)\n",
    "\n",
    "# To be used in the Heston pricer\n",
    "def fHeston(s, St, K, r, T, sigma, kappa, theta, volvol, rho):\n",
    "    \n",
    "    # To be used a lot\n",
    "    prod = rho * sigma * i * s\n",
    "    \n",
    "    # Calculate d\n",
    "    d1 = (prod - kappa)**2\n",
    "    \n",
    "    \n",
    "    d2 = (sigma**2) * (i * s + s**2)\n",
    "\n",
    "    \n",
    "    d = np.sqrt(d1 + d2)\n",
    "    \n",
    "    \n",
    "    # Calculate g\n",
    "    g1 = kappa - prod - d\n",
    "    g2 = kappa - prod + d\n",
    "    g = g1 / g2\n",
    "    \n",
    "    # Calculate first exponential\n",
    "    exp1 = np.exp(np.log(St) * i * s) * np.exp(i * s * r * T)\n",
    "    exp2 = 1 - g * np.exp(-d * T)\n",
    "    exp3 = 1 - g\n",
    "    mainExp1 = exp1 * np.power(exp2 / exp3, -2 * theta * kappa/(sigma**2))\n",
    "    \n",
    "    # Calculate second exponential\n",
    "    exp4 = theta * kappa * T / (sigma**2)\n",
    "    exp5 = volvol / (sigma**2)\n",
    "    exp6 = (1 - np.exp(-d * T)) / (1 - g * np.exp(-d * T))\n",
    "    mainExp2 = np.exp((exp4 * g1) + (exp5 * g1 * exp6))\n",
    "    \n",
    "    return (mainExp1 * mainExp2)\n",
    "\n",
    "price = []\n",
    "\n",
    "# Heston Pricer\n",
    "def priceHestonMid(St,K,T):\n",
    "    \n",
    "    P, iterations, maxNumber = 0, 100, 100\n",
    "    \n",
    "    ds = 0.1\n",
    "    \n",
    "    element1 = 0.5 * (St - K * np.exp(-r * T))\n",
    "    \n",
    "    # Calculate the complex integral\n",
    "    # Using j instead of i to avoid confusion\n",
    "    for j in range(1, iterations):\n",
    "        \n",
    "        s1 = ds * (2 * j + 1) / 2\n",
    "        s2 = s1 - i\n",
    "        \n",
    "        numerator1 = fHeston(s2, St, K, r, T, \n",
    "                             sigma, kappa, theta, volvol, rho)\n",
    "        numerator2 = K * fHeston(s1, St, K, r, T, \n",
    "                               sigma, kappa, theta, volvol, rho)\n",
    "        \n",
    "        denominator = np.exp(np.log(K) * i * s1) * i * s1\n",
    "        \n",
    "        P += ds * (numerator1 - numerator2) / denominator\n",
    "        \n",
    "                \n",
    "        element2 = P / np.pi\n",
    "        price.append(np.real((element1 + element2)))\n",
    "        \n",
    "    \n",
    "        \n",
    "    element2 = P / np.pi\n",
    "    \n",
    "    return np.real((element1 + element2))"
   ]
  },
  {
   "cell_type": "code",
   "execution_count": 2,
   "id": "20245977",
   "metadata": {},
   "outputs": [],
   "source": [
    "# current price\n",
    "St = 1000\n",
    "# strike\n",
    "K = 100\n",
    "# risk free interest rate\n",
    "r = 0.1\n",
    "# time to maturity\n",
    "T = 1\n",
    "# volatility \n",
    "sigma = 0.1\n",
    "# kappa = ?\n",
    "kappa = 0.2\n",
    "# theta = ?\n",
    "theta = 0.1\n",
    "# volatility of volatility\n",
    "volvol = 0.1\n",
    "# rho = ?\n",
    "rho = 0.1"
   ]
  },
  {
   "cell_type": "code",
   "execution_count": 3,
   "id": "88b3249c",
   "metadata": {},
   "outputs": [
    {
     "data": {
      "text/plain": [
       "878.7098664857695"
      ]
     },
     "execution_count": 3,
     "metadata": {},
     "output_type": "execute_result"
    }
   ],
   "source": [
    "priceHestonMid(St,K,T)"
   ]
  },
  {
   "cell_type": "code",
   "execution_count": 4,
   "id": "058f5114",
   "metadata": {},
   "outputs": [
    {
     "data": {
      "image/png": "[encoded data removed]",
      "text/plain": [
       "<Figure size 432x288 with 1 Axes>"
      ]
     },
     "metadata": {
      "needs_background": "light"
     },
     "output_type": "display_data"
    }
   ],
   "source": [
    "import numpy as np\n",
    "import matplotlib.pyplot as plt\n",
    "\n",
    "plt.plot(price) # plotting by columns\n",
    "plt.show()"
   ]
  },
  {
   "cell_type": "code",
   "execution_count": null,
   "id": "1710f8fc",
   "metadata": {},
   "outputs": [],
   "source": []
  },
  {
   "cell_type": "code",
   "execution_count": null,
   "id": "f5cfb2ce",
   "metadata": {},
   "outputs": [],
   "source": []
  },
  {
   "cell_type": "code",
   "execution_count": 5,
   "id": "34b93ad7",
   "metadata": {},
   "outputs": [],
   "source": [
    "def fHeston(s, St, K, r, T, sigma, kappa, theta, volvol, rho):\n",
    "    \n",
    "    # To be used a lot\n",
    "    prod = rho * sigma * i * s\n",
    "    \n",
    "    # Calculate d\n",
    "    d1 = (prod - kappa)**2    \n",
    "    d2 = (sigma**2) * (i * s + s**2)\n",
    "    d = np.sqrt(d1 + d2)\n",
    "   \n",
    "    # Calculate g   \n",
    "    g1 = kappa - prod - d\n",
    "    g2 = kappa - prod + d\n",
    "    g = g1 / g2\n",
    "    \n",
    "    # Calculate first exponential\n",
    "    exp1 = np.exp(np.log(St) * i * s) * np.exp(i * s * r * T)\n",
    "    exp2 = 1 - g * np.exp(-d * T)\n",
    "    exp3 = 1 - g\n",
    "    \n",
    "    # @DEV @alex \n",
    "    # n = -2 * theta * kappa/(sigma**2)\n",
    "    # (exp2/exp3)**n\n",
    "    \n",
    "    print(str(exp2/exp3))\n",
    "    print(str(-2 * theta * kappa/(sigma**2)))\n",
    "    \n",
    "    mainExp1 = exp1 * np.power(exp2 / exp3, -2 * theta * kappa/(sigma**2))\n",
    "    \n",
    "    \n",
    "    #return g\n",
    "    "
   ]
  },
  {
   "cell_type": "code",
   "execution_count": 6,
   "id": "19cc9c0a",
   "metadata": {
    "scrolled": true
   },
   "outputs": [
    {
     "name": "stdout",
     "output_type": "stream",
     "text": [
      "(0.9921013678041934+0.009044467407602381j)\n",
      "-4.0\n"
     ]
    }
   ],
   "source": [
    "fHeston(-0.85, St, K, r, T, sigma, kappa, theta, volvol, rho)"
   ]
  },
  {
   "cell_type": "code",
   "execution_count": null,
   "id": "162aad24",
   "metadata": {},
   "outputs": [],
   "source": []
  },
  {
   "cell_type": "code",
   "execution_count": null,
   "id": "3fe41322",
   "metadata": {},
   "outputs": [],
   "source": [
    "\"\"\" JAVA \n",
    "\n",
    "\tpublic static ComplexNumber pow(ComplexNumber z, int power)\n",
    "\t{\n",
    "\t\tComplexNumber output = new ComplexNumber(z.getRe(),z.getIm());\n",
    "\t\tfor(int i = 1; i < power; i++)\n",
    "\t\t{\n",
    "\t\t\tdouble _real = output.real*z.real - output.imaginary*z.imaginary;\n",
    "\t\t\tdouble _imaginary = output.real*z.imaginary + output.imaginary*z.real;\n",
    "\t\t\toutput = new ComplexNumber(_real,_imaginary);\n",
    "\t\t}\n",
    "\t\treturn output;\n",
    "\t}\n",
    "\n",
    "\"\"\""
   ]
  },
  {
   "cell_type": "code",
   "execution_count": null,
   "id": "107e4813",
   "metadata": {},
   "outputs": [],
   "source": [
    "\"\"\" SOLIDITY test \n",
    "\n",
    "\n",
    "function complexPOW(int re, int im, int n) public pure returns (int,int) {\n",
    "\n",
    "    for(int i = 1; i < power; i++) {\n",
    "        re = re*re - im*im;\n",
    "        im = re*im + im*re;\n",
    "        }\n",
    "    \n",
    "    return (re,im);\n",
    "    }\n",
    "\n",
    "\"\"\"\n"
   ]
  },
  {
   "cell_type": "code",
   "execution_count": null,
   "id": "b50b3b11",
   "metadata": {},
   "outputs": [],
   "source": []
  },
  {
   "cell_type": "markdown",
   "id": "bb03fe02",
   "metadata": {},
   "source": [
    "Let z = -2 + 2i\n",
    "\n",
    "Arg(z) = tan-1 (2/-2) = 3π/4\n",
    "\n",
    "Absolute value = \\sqrt{(-2)^2 + (2)^2} = 2√2\n",
    "\n",
    "Applying De Moivre’s Theorem,\n",
    "\n",
    "z8 = [2√2{cos(3π/4) + isin(3π/4)}]8\n",
    "\n",
    "= (2√2)8 [cos(24π/4) + isin(24π/4)]\n",
    "\n",
    "= 4096(cos 6π + isin 6π) \n",
    "\n",
    "= 4096"
   ]
  },
  {
   "cell_type": "code",
   "execution_count": 55,
   "id": "ca70eabf",
   "metadata": {},
   "outputs": [],
   "source": [
    "\n",
    "z = complex(-2,2)\n",
    "\n",
    "math.atan2(2,-2)\n",
    "\n",
    "r,theta = cmath.polar(z)\n",
    "\n",
    "n = 8\n",
    "\n",
    "re = r**n * (math.cos(n*theta))\n",
    "im = r**n * (math.sin(n*theta))"
   ]
  },
  {
   "cell_type": "code",
   "execution_count": 58,
   "id": "4bf07d73",
   "metadata": {
    "scrolled": true
   },
   "outputs": [
    {
     "name": "stdout",
     "output_type": "stream",
     "text": [
      "4096.000000000002\n",
      "-3.0096919735845363e-12\n"
     ]
    }
   ],
   "source": [
    "print(re)\n",
    "print(im)"
   ]
  },
  {
   "cell_type": "code",
   "execution_count": null,
   "id": "8d857d59",
   "metadata": {},
   "outputs": [],
   "source": []
  },
  {
   "cell_type": "code",
   "execution_count": null,
   "id": "5a05ff4e",
   "metadata": {},
   "outputs": [],
   "source": []
  },
  {
   "cell_type": "code",
   "execution_count": null,
   "id": "e51ad4c4",
   "metadata": {},
   "outputs": [],
   "source": []
  },
  {
   "cell_type": "code",
   "execution_count": null,
   "id": "9f50b8c7",
   "metadata": {},
   "outputs": [],
   "source": []
  },
  {
   "cell_type": "code",
   "execution_count": null,
   "id": "16bb0ffd",
   "metadata": {},
   "outputs": [],
   "source": [
    "-850000000000000000\n",
    "1000000000000000000000\n",
    "100000000000000000000\n",
    "10000000000000000000"
   ]
  },
  {
   "cell_type": "code",
   "execution_count": null,
   "id": "8257ec37",
   "metadata": {},
   "outputs": [],
   "source": [
    "0.2"
   ]
  },
  {
   "cell_type": "code",
   "execution_count": null,
   "id": "c96c0348",
   "metadata": {},
   "outputs": [],
   "source": [
    "a = complex(-0.017519420253827997,0.019129332641010049)\n",
    "b = complex(0.4174632196735832,-0.003226120876107708)\n",
    "\n",
    "a / b"
   ]
  },
  {
   "cell_type": "code",
   "execution_count": null,
   "id": "5e8cf9ef",
   "metadata": {},
   "outputs": [],
   "source": []
  },
  {
   "cell_type": "code",
   "execution_count": null,
   "id": "1fef1ba5",
   "metadata": {},
   "outputs": [],
   "source": [
    "a = complex(2,2)\n",
    "b = complex(3,4)\n",
    "\n",
    "a / b"
   ]
  },
  {
   "cell_type": "code",
   "execution_count": null,
   "id": "e70d70d0",
   "metadata": {},
   "outputs": [],
   "source": []
  },
  {
   "cell_type": "code",
   "execution_count": null,
   "id": "816bab69",
   "metadata": {},
   "outputs": [],
   "source": []
  },
  {
   "cell_type": "code",
   "execution_count": null,
   "id": "adc5a121",
   "metadata": {},
   "outputs": [],
   "source": [
    "s1 = 0.1 * (2 * 1 + 1) / 2\n",
    "s2 = s1 - 1"
   ]
  },
  {
   "cell_type": "code",
   "execution_count": null,
   "id": "d9eeb0a0",
   "metadata": {},
   "outputs": [],
   "source": [
    "s2"
   ]
  },
  {
   "cell_type": "code",
   "execution_count": null,
   "id": "be0a3826",
   "metadata": {},
   "outputs": [],
   "source": [
    "np.sqrt"
   ]
  },
  {
   "cell_type": "code",
   "execution_count": null,
   "id": "40f0235d",
   "metadata": {},
   "outputs": [],
   "source": []
  },
  {
   "cell_type": "code",
   "execution_count": null,
   "id": "c289f0e5",
   "metadata": {},
   "outputs": [],
   "source": []
  },
  {
   "cell_type": "code",
   "execution_count": null,
   "id": "e37df64f",
   "metadata": {},
   "outputs": [],
   "source": []
  },
  {
   "cell_type": "code",
   "execution_count": null,
   "id": "2c2d699f",
   "metadata": {},
   "outputs": [],
   "source": []
  },
  {
   "cell_type": "code",
   "execution_count": null,
   "id": "1e5f0e41",
   "metadata": {},
   "outputs": [],
   "source": []
  },
  {
   "cell_type": "code",
   "execution_count": null,
   "id": "e3bc1da5",
   "metadata": {},
   "outputs": [],
   "source": [
    "## @dev more precise way of calculating atan2\n",
    "\n",
    "# https://dspguru.com/dsp/tricks/fixed-point-atan2-with-self-normalization/\n",
    "def arctan2(y, x):\n",
    "    coeff_1 = math.pi/4\n",
    "    coeff_2 = 3*coeff_1\n",
    "    abs_y = abs(y)+1e-10\n",
    "    \n",
    "    if x>=0:\n",
    "        r = (x - abs_y) / (x + abs_y)\n",
    "        # theta1\n",
    "        angle =0.1963 * r**3 - 0.9817 * r + coeff_1\n",
    "    else:\n",
    "        r = (x + abs_y) / (abs_y - x)\n",
    "        # theta2\n",
    "        angle = 0.1963 * r**3 - 0.9817 * r + coeff_2\n",
    "   \n",
    "    if y < 0:\n",
    "        return(-angle)\n",
    "    else:\n",
    "        return(angle)\n",
    "\n",
    "\n",
    "PI = 3.1415926535897933e+18\n",
    "\n",
    "def EffienctArctan2(y, x):\n",
    "    coeff_1 = PI/4\n",
    "    coeff_2 = 3*coeff_1\n",
    "    abs_y = abs(y)+1e8\n",
    "    \n",
    "    if x>=0:\n",
    "        r = (x - abs_y) * 1e18 / (x + abs_y)\n",
    "        angle = (coeff_1 * 1e18 - coeff_1 * r) / 1e18\n",
    "    else:\n",
    "        r = (x + abs_y) * 1e18 / (abs_y - x)\n",
    "        angle = (coeff_2 * 1e18 - coeff_1 * r) / 1e18\n",
    "   \n",
    "    if y < 0:\n",
    "        return(-angle)\n",
    "    else:\n",
    "        return(angle)\n",
    "    \n",
    "EffienctArctan2(4e18,2e18)"
   ]
  },
  {
   "cell_type": "code",
   "execution_count": null,
   "id": "87032ba5",
   "metadata": {},
   "outputs": [],
   "source": [
    "PI = 3.1415926535897933e+18"
   ]
  },
  {
   "cell_type": "code",
   "execution_count": null,
   "id": "3d0c905a",
   "metadata": {},
   "outputs": [],
   "source": [
    "PI = 3.1415926535897933e+18\n",
    "\n",
    "def arctan2(y, x):\n",
    "    coeff_1 = math.pi/4\n",
    "    coeff_2 = 3*coeff_1\n",
    "    abs_y = abs(y)+1e-10\n",
    "    \n",
    "    if x>=0:\n",
    "        r = (x - abs_y) / (x + abs_y)\n",
    "        # theta1\n",
    "        angle =0.1963 * r**3 - 0.9817 * r + coeff_1\n",
    "    else:\n",
    "        r = (x + abs_y) / (abs_y - x)\n",
    "        # theta2\n",
    "        angle = 0.1963 * r**3 - 0.9817 * r + coeff_2\n",
    "   \n",
    "    if y < 0:\n",
    "        return(-angle)\n",
    "    else:\n",
    "        return(angle)\n"
   ]
  },
  {
   "cell_type": "code",
   "execution_count": null,
   "id": "9505a4ae",
   "metadata": {},
   "outputs": [],
   "source": [
    "arctan2(4,5)"
   ]
  },
  {
   "cell_type": "code",
   "execution_count": null,
   "id": "9c6ea575",
   "metadata": {},
   "outputs": [],
   "source": [
    "import math"
   ]
  },
  {
   "cell_type": "code",
   "execution_count": null,
   "id": "8b419906",
   "metadata": {},
   "outputs": [],
   "source": [
    "math.atan2(4,2)"
   ]
  },
  {
   "cell_type": "code",
   "execution_count": null,
   "id": "57190965",
   "metadata": {},
   "outputs": [],
   "source": [
    "1e18**5"
   ]
  },
  {
   "cell_type": "code",
   "execution_count": null,
   "id": "3a992d5f",
   "metadata": {},
   "outputs": [],
   "source": [
    "def arctan2(y, x):\n",
    "    coeff_1 = math.pi/4\n",
    "    coeff_2 = 3*coeff_1\n",
    "    abs_y = abs(y)+1e-10\n",
    "    \n",
    "\n",
    "    r = (x - abs_y) * 1e18 / (x + abs_y)\n",
    "        # theta1\n",
    "    angle = (1963e14 * (r/1e18)**3) - (9817e14 * r)/ 1e18 + coeff_1\n",
    "    \n",
    "\n",
    "    \n",
    "    return angle\n",
    "\n",
    "arctan2(4e18,5e18)"
   ]
  },
  {
   "cell_type": "code",
   "execution_count": null,
   "id": "90a9e1c4",
   "metadata": {},
   "outputs": [],
   "source": [
    "(1963e14 * (r/1e18)**3)"
   ]
  },
  {
   "cell_type": "code",
   "execution_count": null,
   "id": "0bc2d9fc",
   "metadata": {},
   "outputs": [],
   "source": [
    "340282366920938463463374607431768211455/1e54"
   ]
  },
  {
   "cell_type": "code",
   "execution_count": null,
   "id": "54e1d1ea",
   "metadata": {},
   "outputs": [],
   "source": []
  },
  {
   "cell_type": "code",
   "execution_count": null,
   "id": "cc2e0bc0",
   "metadata": {},
   "outputs": [],
   "source": [
    "PI = 3.1415926535897933e+18\n",
    "\n",
    "def arctan2(y, x):\n",
    "    coeff_1 =  PI/4\n",
    "    coeff_2 = 3*coeff_1\n",
    "    abs_y = abs(y)+1e8\n",
    "    \n",
    "    if x>=0:\n",
    "        r = (x - abs_y) * 1e18 / (x + abs_y)\n",
    "        # theta1\n",
    "        angle = (1963e14 * r**3) / 1e54 - (9817e14 * r) / 1e18 + coeff_1\n",
    "    else:\n",
    "        r = (x + abs_y) * 1e18 / (abs_y - x)\n",
    "        # theta2\n",
    "        angle = (1963e14 * r**3) / 1e54 - (9817e14 * r) / 1e18 + coeff_2\n",
    "   \n",
    "    if y < 0:\n",
    "        return(-angle)\n",
    "    else:\n",
    "        return(angle)\n",
    "\n",
    "arctan2(6e18,2e18)"
   ]
  },
  {
   "cell_type": "code",
   "execution_count": null,
   "id": "ceeaaf0c",
   "metadata": {},
   "outputs": [],
   "source": [
    "import math\n",
    "math.atan2(6,2)"
   ]
  },
  {
   "cell_type": "code",
   "execution_count": null,
   "id": "7d6d8324",
   "metadata": {},
   "outputs": [],
   "source": [
    "def x3(x):\n",
    "    x /= 1e18\n",
    "    \n",
    "    x = x**3\n",
    "    \n",
    "    x *= 1e18\n",
    "    \n",
    "    return x"
   ]
  },
  {
   "cell_type": "code",
   "execution_count": null,
   "id": "41a9527e",
   "metadata": {},
   "outputs": [],
   "source": [
    "x3(-6.666666666722222e+17)"
   ]
  },
  {
   "cell_type": "code",
   "execution_count": null,
   "id": "acb407e7",
   "metadata": {},
   "outputs": [],
   "source": [
    "def arctan2(y, x):\n",
    "    coeff_1 =  PI/4\n",
    "    coeff_2 = 3*coeff_1\n",
    "    abs_y = abs(y)+1e8\n",
    "    \n",
    "    if x>=0:\n",
    "        r = (x - abs_y) * 1e18 / (x + abs_y)\n",
    "        return r"
   ]
  },
  {
   "cell_type": "code",
   "execution_count": null,
   "id": "11b22e6f",
   "metadata": {},
   "outputs": [],
   "source": [
    "arctan2(5e18,1e18)"
   ]
  },
  {
   "cell_type": "code",
   "execution_count": null,
   "id": "0c67bf13",
   "metadata": {},
   "outputs": [],
   "source": [
    "6.6**3"
   ]
  },
  {
   "cell_type": "code",
   "execution_count": null,
   "id": "7eae1409",
   "metadata": {},
   "outputs": [],
   "source": [
    "1923349e12"
   ]
  },
  {
   "cell_type": "code",
   "execution_count": null,
   "id": "b8a4b23f",
   "metadata": {},
   "outputs": [],
   "source": [
    "1923949395923943273/1e18"
   ]
  },
  {
   "cell_type": "code",
   "execution_count": null,
   "id": "0bef933f",
   "metadata": {},
   "outputs": [],
   "source": []
  },
  {
   "cell_type": "code",
   "execution_count": null,
   "id": "1784754b",
   "metadata": {},
   "outputs": [],
   "source": [
    "1e6**3"
   ]
  },
  {
   "cell_type": "code",
   "execution_count": null,
   "id": "5481822d",
   "metadata": {},
   "outputs": [],
   "source": [
    "4.6345345345**3"
   ]
  },
  {
   "cell_type": "code",
   "execution_count": null,
   "id": "8ae214aa",
   "metadata": {},
   "outputs": [],
   "source": [
    "46345e14**3"
   ]
  },
  {
   "cell_type": "code",
   "execution_count": null,
   "id": "eee8ad6f",
   "metadata": {},
   "outputs": [],
   "source": [
    "46345**3"
   ]
  },
  {
   "cell_type": "code",
   "execution_count": null,
   "id": "791d3d98",
   "metadata": {},
   "outputs": [],
   "source": []
  },
  {
   "cell_type": "code",
   "execution_count": null,
   "id": "ba7b2166",
   "metadata": {},
   "outputs": [],
   "source": []
  },
  {
   "cell_type": "code",
   "execution_count": null,
   "id": "3f1841b1",
   "metadata": {},
   "outputs": [],
   "source": [
    "math.atan2(4,5)"
   ]
  },
  {
   "cell_type": "code",
   "execution_count": null,
   "id": "51e395f2",
   "metadata": {},
   "outputs": [],
   "source": [
    "def arctan2(y, x):\n",
    "    coeff_1 =  PI/4\n",
    "    coeff_2 = 3*coeff_1\n",
    "    abs_y = abs(y)+1e8\n",
    "    r = (x - abs_y) * 1e18 / (x + abs_y)\n",
    "    return r"
   ]
  },
  {
   "cell_type": "code",
   "execution_count": null,
   "id": "3a4d6a8f",
   "metadata": {},
   "outputs": [],
   "source": [
    "arctan2(4e18,5e18)"
   ]
  },
  {
   "cell_type": "code",
   "execution_count": null,
   "id": "abceff8b",
   "metadata": {},
   "outputs": [],
   "source": []
  },
  {
   "cell_type": "code",
   "execution_count": null,
   "id": "b6a45096",
   "metadata": {},
   "outputs": [],
   "source": []
  },
  {
   "cell_type": "code",
   "execution_count": null,
   "id": "b4ef94e2",
   "metadata": {},
   "outputs": [],
   "source": []
  },
  {
   "cell_type": "code",
   "execution_count": null,
   "id": "70ee37ca",
   "metadata": {},
   "outputs": [],
   "source": [
    "import numpy as np"
   ]
  },
  {
   "cell_type": "code",
   "execution_count": null,
   "id": "7b2ecfc4",
   "metadata": {},
   "outputs": [],
   "source": [
    "np.power(complex(0,1),0.4)"
   ]
  },
  {
   "cell_type": "code",
   "execution_count": null,
   "id": "3ebc687f",
   "metadata": {},
   "outputs": [],
   "source": []
  }
 ],
 "metadata": {
  "kernelspec": {
   "display_name": "Python 3",
   "language": "python",
   "name": "python3"
  },
  "language_info": {
   "codemirror_mode": {
    "name": "ipython",
    "version": 3
   },
   "file_extension": ".py",
   "mimetype": "text/x-python",
   "name": "python",
   "nbconvert_exporter": "python",
   "pygments_lexer": "ipython3",
   "version": "3.8.10"
  }
 },
 "nbformat": 4,
 "nbformat_minor": 5
}
