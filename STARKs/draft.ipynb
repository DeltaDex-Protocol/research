{
 "cells": [
  {
   "cell_type": "markdown",
   "metadata": {},
   "source": [
    "\n",
    "Suppose we have a function $g(x)$. Prover wants to prove that he knows the right values for the set of inputs $arr$"
   ]
  },
  {
   "cell_type": "markdown",
   "metadata": {},
   "source": []
  },
  {
   "cell_type": "code",
   "execution_count": 1,
   "metadata": {},
   "outputs": [],
   "source": [
    "import math\n",
    "import numpy as np\n",
    "from scipy.stats import norm"
   ]
  },
  {
   "cell_type": "code",
   "execution_count": null,
   "metadata": {},
   "outputs": [],
   "source": []
  },
  {
   "cell_type": "code",
   "execution_count": 2,
   "metadata": {},
   "outputs": [
    {
     "data": {
      "text/plain": [
       "100"
      ]
     },
     "execution_count": 2,
     "metadata": {},
     "output_type": "execute_result"
    }
   ],
   "source": [
    "arr = [x for x in range(100, 200)]\n",
    "len(arr)"
   ]
  },
  {
   "cell_type": "code",
   "execution_count": 3,
   "metadata": {},
   "outputs": [],
   "source": [
    "def g(x):\n",
    "    return  math.exp(x / 2) / x**10"
   ]
  },
  {
   "cell_type": "code",
   "execution_count": 4,
   "metadata": {},
   "outputs": [],
   "source": [
    "results = [g(x) for x in arr]\n",
    "# print(results)"
   ]
  },
  {
   "cell_type": "markdown",
   "metadata": {},
   "source": [
    "Now we have a (x, g(x)) results. We then easily encode it into a polynomial."
   ]
  },
  {
   "cell_type": "markdown",
   "metadata": {},
   "source": [
    "### STARK for Black-Scholes"
   ]
  },
  {
   "cell_type": "code",
   "execution_count": 5,
   "metadata": {},
   "outputs": [],
   "source": [
    "\n",
    "N = norm.cdf\n",
    "\n",
    "def BS_CALL(S, K, T, r, sigma):\n",
    "    d1 = (np.log(S/K) + (r + sigma**2/2)*T) / (sigma*np.sqrt(T))\n",
    "    d2 = d1 - sigma * np.sqrt(T)\n",
    "    return S * N(d1) - K * np.exp(-r*T)* N(d2)\n",
    "\n",
    "def BS_PUT(S, K, T, r, sigma):\n",
    "    d1 = (np.log(S/K) + (r + sigma**2/2)*T) / (sigma*np.sqrt(T))\n",
    "    d2 = d1 - sigma* np.sqrt(T)\n",
    "    return K*np.exp(-r*T)*N(-d2) - S*N(-d1)   "
   ]
  },
  {
   "cell_type": "code",
   "execution_count": 6,
   "metadata": {},
   "outputs": [],
   "source": [
    "# BS call, put delta\n",
    "\n",
    "def delta_BS_put(S, K, T, r, sigma):\n",
    "    d1 = (np.log(S/K) + (r + sigma**2/2)*T) / (sigma*np.sqrt(T))\n",
    "    return N(d1) - 1\n",
    "\n",
    "def delta_BS_call(S, K, T, r, sigma):\n",
    "    d1 = (np.log(S/K) + (r + sigma**2/2)*T) / (sigma*np.sqrt(T))\n",
    "    return N(d1)"
   ]
  },
  {
   "cell_type": "code",
   "execution_count": null,
   "metadata": {},
   "outputs": [],
   "source": []
  },
  {
   "cell_type": "markdown",
   "metadata": {},
   "source": [
    "Suppose we have a $V$ arbitrary positions. $|V| = 100$, which means that amount of positions equals 100.\n",
    " $\\\\$\n",
    "Each position equals to a vector $\\vec{v} = \n",
    "\\begin{pmatrix}\n",
    "S \\\\ K \\\\ T-t \\\\ vol \\\\ type\n",
    "\\end{pmatrix}\n",
    "$\n",
    "where $type$ is either $call$ or $put$\n",
    "\n",
    "#### STARK generation\n",
    "1. Prover computes $BS\\_delta(\\vec{v})$ for every $\\vec{v}\\in V$. (100 single computations)\n",
    "2. Prover generates evenly distributed vectors $\\vec{v'}$ in amount of $100*10^6 = 10^8$, and computes $BS\\_delta(\\vec{v'})$ for every generated point\n",
    "3. To summarize steps 1-2, now prover computed deltas for every of $N = (100 + 10^8)$ points\n",
    "4. Then prover encodes all these pairs $(\\vec{v}, \\: BS\\_delta(\\vec{v}))$ into a polynomial $P$ with a degree $N$\n",
    "5. Prover commits this polynomial and the array of 100 computed points (that are related to real positions)\n",
    "\n",
    "#### Verification\n",
    "1. Verificator choses a random $\\vec{v}_{ver}$ point of $100+10^8$ points, compares  $P(\\vec{v}_{ver})\\:?=\\:BS\\_delta(\\vec{v}_{ver})$ $\\\\$\n",
    "&nbsp; a) \n"
   ]
  },
  {
   "cell_type": "markdown",
   "metadata": {},
   "source": [
    "Some other thoughts...\n",
    "\n",
    "We need to compute 100 deltas off-chain. We randomly generate another $10^8$ positions and provide a merkle root of this tree.\n",
    "Verificator randomly choose 4 (of $10^8$) positions and requests for providing a merkle proof and result of computations delta in this specified position. Thus, the prover's answer is (merkle_path, unhashed leaf (i.e. the delta)). \n",
    "\n",
    "The probability of acceptance is... \n",
    "\n",
    "that not works. because prover may incorrectly compute in that 100 points but correctly compute in other $10^8$ points\n"
   ]
  },
  {
   "cell_type": "markdown",
   "metadata": {},
   "source": [
    "Ok, what if we compute in points and encode it into a polynomial of a degree 100. Then we "
   ]
  },
  {
   "cell_type": "markdown",
   "metadata": {},
   "source": []
  },
  {
   "cell_type": "markdown",
   "metadata": {},
   "source": []
  }
 ],
 "metadata": {
  "kernelspec": {
   "display_name": "Python 3.8.8 ('base')",
   "language": "python",
   "name": "python3"
  },
  "language_info": {
   "codemirror_mode": {
    "name": "ipython",
    "version": 3
   },
   "file_extension": ".py",
   "mimetype": "text/x-python",
   "name": "python",
   "nbconvert_exporter": "python",
   "pygments_lexer": "ipython3",
   "version": "3.8.8"
  },
  "orig_nbformat": 4,
  "vscode": {
   "interpreter": {
    "hash": "f5d8c849b0dab9d9d82046bea1f6e131b88bca9b4efb70691d719bf81f860a75"
   }
  }
 },
 "nbformat": 4,
 "nbformat_minor": 2
}
