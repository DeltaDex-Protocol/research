{
 "cells": [
  {
   "cell_type": "markdown",
   "id": "e99844ca-e60f-4faf-9bec-c32e3aa624fb",
   "metadata": {},
   "source": [
    "## To read the data from db:"
   ]
  },
  {
   "cell_type": "code",
   "execution_count": null,
   "id": "e2b58b90-4751-4625-9046-7df8901ec7cb",
   "metadata": {},
   "outputs": [],
   "source": [
    "def read_database(db_name='options_database.db', table_name='options_table'):\n",
    "    import sqlite3\n",
    "\n",
    "    conn = sqlite3.connect(db_name)\n",
    "\n",
    "    cursor = conn.execute(f'SELECT * from {table_name}')\n",
    "    for row in cursor:\n",
    "        print(row)"
   ]
  },
  {
   "cell_type": "code",
   "execution_count": null,
   "id": "7a13b4b7-9140-4ba0-aa97-29bc31d05cf2",
   "metadata": {},
   "outputs": [],
   "source": []
  },
  {
   "cell_type": "code",
   "execution_count": null,
   "id": "2c9a004c-547c-41ff-9c1b-0deb69bf871d",
   "metadata": {},
   "outputs": [],
   "source": []
  },
  {
   "cell_type": "markdown",
   "id": "fca26fae-0757-4bd3-9cfc-eb36c17ae176",
   "metadata": {},
   "source": [
    "#### etc"
   ]
  },
  {
   "cell_type": "code",
   "execution_count": 2,
   "id": "24513bdb-7218-4bcb-85f4-48db7f57b75b",
   "metadata": {},
   "outputs": [
    {
     "name": "stdout",
     "output_type": "stream",
     "text": [
      "Opened database successfully\n",
      "Table created successfully\n"
     ]
    }
   ],
   "source": [
    "import sqlite3\n",
    "\n",
    "conn = sqlite3.connect('test.db')\n",
    "print(\"Opened database successfully\")\n",
    "\n",
    "conn.execute('''CREATE TABLE COMPANY\n",
    "         (ID INT PRIMARY KEY     NOT NULL,\n",
    "         NAME           TEXT    NOT NULL,\n",
    "         AGE            INT     NOT NULL,\n",
    "         ADDRESS        CHAR(50),\n",
    "         SALARY         REAL);''')\n",
    "\n",
    "print(\"Table created successfully\")\n",
    "\n",
    "conn.close()"
   ]
  },
  {
   "cell_type": "code",
   "execution_count": 6,
   "id": "93d907f6-115d-4737-b309-e284b70baa2c",
   "metadata": {},
   "outputs": [
    {
     "name": "stdout",
     "output_type": "stream",
     "text": [
      "Opened database successfully\n",
      "Records created successfully\n"
     ]
    }
   ],
   "source": [
    "import sqlite3\n",
    "\n",
    "conn = sqlite3.connect('test.db')\n",
    "print(\"Opened database successfully\")\n",
    "\n",
    "conn.execute(\"INSERT INTO COMPANY (ID,NAME,AGE,ADDRESS,SALARY) \\\n",
    "      VALUES (1, 'Paul', 32, 'California', 20000.00 )\");\n",
    "\n",
    "conn.execute(\"INSERT INTO COMPANY (ID,NAME,AGE,ADDRESS,SALARY) \\\n",
    "      VALUES (2, 'Allen', 25, 'Texas', 15000.00 )\");\n",
    "\n",
    "conn.execute(\"INSERT INTO COMPANY (ID,NAME,AGE,ADDRESS,SALARY) \\\n",
    "      VALUES (3, 'Teddy', 23, 'Norway', 20000.00 )\");\n",
    "\n",
    "conn.execute(\"INSERT INTO COMPANY (ID,NAME,AGE,ADDRESS,SALARY) \\\n",
    "      VALUES (4, 'Mark', 25, 'Rich-Mond ', 65000.00 )\");\n",
    "\n",
    "conn.commit()\n",
    "print(\"Records created successfully\")\n",
    "conn.close()"
   ]
  },
  {
   "cell_type": "code",
   "execution_count": 7,
   "id": "340aa7c2-c59f-4a7d-a72b-fdef63717d19",
   "metadata": {},
   "outputs": [
    {
     "name": "stdout",
     "output_type": "stream",
     "text": [
      "Opened database successfully\n",
      "ID =  1\n",
      "NAME =  Paul\n",
      "ADDRESS =  California\n",
      "SALARY =  20000.0 \n",
      "\n",
      "ID =  2\n",
      "NAME =  Allen\n",
      "ADDRESS =  Texas\n",
      "SALARY =  15000.0 \n",
      "\n",
      "ID =  3\n",
      "NAME =  Teddy\n",
      "ADDRESS =  Norway\n",
      "SALARY =  20000.0 \n",
      "\n",
      "ID =  4\n",
      "NAME =  Mark\n",
      "ADDRESS =  Rich-Mond \n",
      "SALARY =  65000.0 \n",
      "\n",
      "Operation done successfully\n"
     ]
    }
   ],
   "source": [
    "conn = sqlite3.connect('test.db')\n",
    "print(\"Opened database successfully\")\n",
    "\n",
    "cursor = conn.execute(\"SELECT id, name, address, salary from COMPANY\")\n",
    "for row in cursor:\n",
    "   print(\"ID = \", row[0])\n",
    "   print(\"NAME = \", row[1])\n",
    "   print(\"ADDRESS = \", row[2])\n",
    "   print(\"SALARY = \", row[3], \"\\n\")\n",
    "\n",
    "print(\"Operation done successfully\")\n",
    "conn.close()"
   ]
  },
  {
   "cell_type": "code",
   "execution_count": null,
   "id": "000aba76-f836-4114-8d54-834efa7c26f8",
   "metadata": {},
   "outputs": [],
   "source": []
  }
 ],
 "metadata": {
  "kernelspec": {
   "display_name": "Python 3 (ipykernel)",
   "language": "python",
   "name": "python3"
  },
  "language_info": {
   "codemirror_mode": {
    "name": "ipython",
    "version": 3
   },
   "file_extension": ".py",
   "mimetype": "text/x-python",
   "name": "python",
   "nbconvert_exporter": "python",
   "pygments_lexer": "ipython3",
   "version": "3.8.15"
  }
 },
 "nbformat": 4,
 "nbformat_minor": 5
}
