{
 "cells": [
  {
   "cell_type": "code",
   "execution_count": 3,
   "id": "30b0ae02",
   "metadata": {},
   "outputs": [],
   "source": [
    "import pandas as pd\n",
    "import numpy as np\n",
    "from scipy.stats import norm\n",
    "from pandas_datareader import data as pdr\n",
    "import pandas as pd\n",
    "import yfinance as yf\n",
    "import yahoofinancials\n",
    "import seaborn as sns\n",
    "import datetime\n",
    "from datetime import date\n",
    "import matplotlib.pyplot as plt\n",
    "\n",
    "import math\n",
    "from datetime import date"
   ]
  },
  {
   "cell_type": "code",
   "execution_count": 4,
   "id": "d863d226",
   "metadata": {},
   "outputs": [],
   "source": [
    "N = norm.cdf"
   ]
  },
  {
   "cell_type": "code",
   "execution_count": null,
   "id": "c3e58079",
   "metadata": {},
   "outputs": [],
   "source": []
  },
  {
   "cell_type": "code",
   "execution_count": 5,
   "id": "53715eaf",
   "metadata": {},
   "outputs": [
    {
     "name": "stdout",
     "output_type": "stream",
     "text": [
      "2022-10-02\n"
     ]
    }
   ],
   "source": [
    "today = str(date.today())\n",
    "print(today)"
   ]
  },
  {
   "cell_type": "code",
   "execution_count": 46,
   "id": "b7adff69",
   "metadata": {},
   "outputs": [
    {
     "name": "stdout",
     "output_type": "stream",
     "text": [
      "[*********************100%***********************]  1 of 1 completed\n",
      "volatility over period: 0.7715097226221626\n"
     ]
    }
   ],
   "source": [
    "yf.pdr_override() \n",
    "df = pdr.get_data_yahoo(\"ETH-USD\", start=\"2022-01-01\", end=today)\n",
    "\n",
    "df['Date'] = df.index\n",
    "df['Return'] = 100 * (df['Close'].pct_change())\n",
    "\n",
    "daily_volatility = df['Return'].std()\n",
    "monthly_volatility = math.sqrt(30) * daily_volatility\n",
    "\n",
    "period_volatility = (math.sqrt(len(df.index)) * daily_volatility) / 100\n",
    "\n",
    "print(\"volatility over period:\", period_volatility)"
   ]
  },
  {
   "cell_type": "code",
   "execution_count": 47,
   "id": "e3e36376",
   "metadata": {},
   "outputs": [
    {
     "data": {
      "text/html": [
       "<div>\n",
       "<style scoped>\n",
       "    .dataframe tbody tr th:only-of-type {\n",
       "        vertical-align: middle;\n",
       "    }\n",
       "\n",
       "    .dataframe tbody tr th {\n",
       "        vertical-align: top;\n",
       "    }\n",
       "\n",
       "    .dataframe thead th {\n",
       "        text-align: right;\n",
       "    }\n",
       "</style>\n",
       "<table border=\"1\" class=\"dataframe\">\n",
       "  <thead>\n",
       "    <tr style=\"text-align: right;\">\n",
       "      <th></th>\n",
       "      <th>Open</th>\n",
       "      <th>High</th>\n",
       "      <th>Low</th>\n",
       "      <th>Close</th>\n",
       "      <th>Adj Close</th>\n",
       "      <th>Volume</th>\n",
       "      <th>Date</th>\n",
       "      <th>Return</th>\n",
       "    </tr>\n",
       "    <tr>\n",
       "      <th>Date</th>\n",
       "      <th></th>\n",
       "      <th></th>\n",
       "      <th></th>\n",
       "      <th></th>\n",
       "      <th></th>\n",
       "      <th></th>\n",
       "      <th></th>\n",
       "      <th></th>\n",
       "    </tr>\n",
       "  </thead>\n",
       "  <tbody>\n",
       "    <tr>\n",
       "      <th>2021-12-31</th>\n",
       "      <td>3713.430176</td>\n",
       "      <td>3807.288818</td>\n",
       "      <td>3636.869873</td>\n",
       "      <td>3682.632812</td>\n",
       "      <td>3682.632812</td>\n",
       "      <td>14157285268</td>\n",
       "      <td>2021-12-31</td>\n",
       "      <td>NaN</td>\n",
       "    </tr>\n",
       "    <tr>\n",
       "      <th>2022-01-01</th>\n",
       "      <td>3683.047119</td>\n",
       "      <td>3769.917969</td>\n",
       "      <td>3682.286621</td>\n",
       "      <td>3769.697021</td>\n",
       "      <td>3769.697021</td>\n",
       "      <td>9776191466</td>\n",
       "      <td>2022-01-01</td>\n",
       "      <td>2.364184</td>\n",
       "    </tr>\n",
       "    <tr>\n",
       "      <th>2022-01-02</th>\n",
       "      <td>3769.298340</td>\n",
       "      <td>3836.161865</td>\n",
       "      <td>3727.357422</td>\n",
       "      <td>3829.564941</td>\n",
       "      <td>3829.564941</td>\n",
       "      <td>9881471548</td>\n",
       "      <td>2022-01-02</td>\n",
       "      <td>1.588136</td>\n",
       "    </tr>\n",
       "    <tr>\n",
       "      <th>2022-01-03</th>\n",
       "      <td>3829.535645</td>\n",
       "      <td>3836.198730</td>\n",
       "      <td>3698.047607</td>\n",
       "      <td>3761.380371</td>\n",
       "      <td>3761.380371</td>\n",
       "      <td>12080777893</td>\n",
       "      <td>2022-01-03</td>\n",
       "      <td>-1.780478</td>\n",
       "    </tr>\n",
       "    <tr>\n",
       "      <th>2022-01-04</th>\n",
       "      <td>3761.361572</td>\n",
       "      <td>3876.785156</td>\n",
       "      <td>3723.349854</td>\n",
       "      <td>3794.056641</td>\n",
       "      <td>3794.056641</td>\n",
       "      <td>14030925983</td>\n",
       "      <td>2022-01-04</td>\n",
       "      <td>0.868731</td>\n",
       "    </tr>\n",
       "    <tr>\n",
       "      <th>...</th>\n",
       "      <td>...</td>\n",
       "      <td>...</td>\n",
       "      <td>...</td>\n",
       "      <td>...</td>\n",
       "      <td>...</td>\n",
       "      <td>...</td>\n",
       "      <td>...</td>\n",
       "      <td>...</td>\n",
       "    </tr>\n",
       "    <tr>\n",
       "      <th>2022-09-27</th>\n",
       "      <td>1335.337036</td>\n",
       "      <td>1396.891479</td>\n",
       "      <td>1308.991455</td>\n",
       "      <td>1330.127686</td>\n",
       "      <td>1330.127686</td>\n",
       "      <td>17870598937</td>\n",
       "      <td>2022-09-27</td>\n",
       "      <td>-0.388858</td>\n",
       "    </tr>\n",
       "    <tr>\n",
       "      <th>2022-09-28</th>\n",
       "      <td>1329.541382</td>\n",
       "      <td>1351.964478</td>\n",
       "      <td>1267.869263</td>\n",
       "      <td>1337.410889</td>\n",
       "      <td>1337.410889</td>\n",
       "      <td>18994979566</td>\n",
       "      <td>2022-09-28</td>\n",
       "      <td>0.547557</td>\n",
       "    </tr>\n",
       "    <tr>\n",
       "      <th>2022-09-29</th>\n",
       "      <td>1337.554443</td>\n",
       "      <td>1348.107666</td>\n",
       "      <td>1293.193359</td>\n",
       "      <td>1335.652344</td>\n",
       "      <td>1335.652344</td>\n",
       "      <td>13796915736</td>\n",
       "      <td>2022-09-29</td>\n",
       "      <td>-0.131489</td>\n",
       "    </tr>\n",
       "    <tr>\n",
       "      <th>2022-09-30</th>\n",
       "      <td>1335.646484</td>\n",
       "      <td>1368.743408</td>\n",
       "      <td>1320.383179</td>\n",
       "      <td>1327.978638</td>\n",
       "      <td>1327.978638</td>\n",
       "      <td>14250100093</td>\n",
       "      <td>2022-09-30</td>\n",
       "      <td>-0.574529</td>\n",
       "    </tr>\n",
       "    <tr>\n",
       "      <th>2022-10-01</th>\n",
       "      <td>1328.193726</td>\n",
       "      <td>1332.516479</td>\n",
       "      <td>1306.102539</td>\n",
       "      <td>1311.644409</td>\n",
       "      <td>1311.644409</td>\n",
       "      <td>6227961237</td>\n",
       "      <td>2022-10-01</td>\n",
       "      <td>-1.230007</td>\n",
       "    </tr>\n",
       "  </tbody>\n",
       "</table>\n",
       "<p>275 rows × 8 columns</p>\n",
       "</div>"
      ],
      "text/plain": [
       "                   Open         High          Low        Close    Adj Close  \\\n",
       "Date                                                                          \n",
       "2021-12-31  3713.430176  3807.288818  3636.869873  3682.632812  3682.632812   \n",
       "2022-01-01  3683.047119  3769.917969  3682.286621  3769.697021  3769.697021   \n",
       "2022-01-02  3769.298340  3836.161865  3727.357422  3829.564941  3829.564941   \n",
       "2022-01-03  3829.535645  3836.198730  3698.047607  3761.380371  3761.380371   \n",
       "2022-01-04  3761.361572  3876.785156  3723.349854  3794.056641  3794.056641   \n",
       "...                 ...          ...          ...          ...          ...   \n",
       "2022-09-27  1335.337036  1396.891479  1308.991455  1330.127686  1330.127686   \n",
       "2022-09-28  1329.541382  1351.964478  1267.869263  1337.410889  1337.410889   \n",
       "2022-09-29  1337.554443  1348.107666  1293.193359  1335.652344  1335.652344   \n",
       "2022-09-30  1335.646484  1368.743408  1320.383179  1327.978638  1327.978638   \n",
       "2022-10-01  1328.193726  1332.516479  1306.102539  1311.644409  1311.644409   \n",
       "\n",
       "                 Volume       Date    Return  \n",
       "Date                                          \n",
       "2021-12-31  14157285268 2021-12-31       NaN  \n",
       "2022-01-01   9776191466 2022-01-01  2.364184  \n",
       "2022-01-02   9881471548 2022-01-02  1.588136  \n",
       "2022-01-03  12080777893 2022-01-03 -1.780478  \n",
       "2022-01-04  14030925983 2022-01-04  0.868731  \n",
       "...                 ...        ...       ...  \n",
       "2022-09-27  17870598937 2022-09-27 -0.388858  \n",
       "2022-09-28  18994979566 2022-09-28  0.547557  \n",
       "2022-09-29  13796915736 2022-09-29 -0.131489  \n",
       "2022-09-30  14250100093 2022-09-30 -0.574529  \n",
       "2022-10-01   6227961237 2022-10-01 -1.230007  \n",
       "\n",
       "[275 rows x 8 columns]"
      ]
     },
     "execution_count": 47,
     "metadata": {},
     "output_type": "execute_result"
    }
   ],
   "source": [
    "df"
   ]
  },
  {
   "cell_type": "code",
   "execution_count": 57,
   "id": "ef00d832",
   "metadata": {},
   "outputs": [
    {
     "data": {
      "text/plain": [
       "1.0332681017612526"
      ]
     },
     "execution_count": 57,
     "metadata": {},
     "output_type": "execute_result"
    }
   ],
   "source": [
    "def D1(S,K,T,r,sigma):\n",
    "    d1 = (np.log(S/K) + (r + sigma**2/2)*T) / (sigma*np.sqrt(T))\n",
    "    return d1\n",
    "\n",
    "def delta_BS_CALL(S,K,T,r,sigma):\n",
    "    d1 = D1(S,K,T,r,sigma)\n",
    "    delta = N(d1)\n",
    "    return delta\n",
    "\n",
    "def expiration(now):\n",
    "    d0 = pd.Timestamp(df[\"Date\"].iloc[1], tz=None)\n",
    "    d1 = pd.Timestamp(now, tz=None)\n",
    "\n",
    "    d = d1 - d0\n",
    "    delta = d.days / (365 * 0.7)\n",
    "    \n",
    "    return delta\n",
    "    \n",
    "expiration(df[\"Date\"].iloc[265])"
   ]
  },
  {
   "cell_type": "code",
   "execution_count": null,
   "id": "4793020a",
   "metadata": {},
   "outputs": [],
   "source": []
  },
  {
   "cell_type": "code",
   "execution_count": 63,
   "id": "1caebbf9",
   "metadata": {},
   "outputs": [],
   "source": [
    "K = 2500 # strike\n",
    "r = 0.1 # risk free rate\n",
    "sigma = period_volatility"
   ]
  },
  {
   "cell_type": "code",
   "execution_count": null,
   "id": "b435da46",
   "metadata": {},
   "outputs": [],
   "source": []
  },
  {
   "cell_type": "code",
   "execution_count": 64,
   "id": "20deeab2",
   "metadata": {},
   "outputs": [],
   "source": [
    "# Time to expiration in years\n",
    "df['T'] = df.apply(lambda x: expiration(x['Date']), axis=1)"
   ]
  },
  {
   "cell_type": "code",
   "execution_count": 65,
   "id": "48b5c2b6",
   "metadata": {},
   "outputs": [
    {
     "name": "stderr",
     "output_type": "stream",
     "text": [
      "/tmp/ipykernel_126502/3402545112.py:2: RuntimeWarning: invalid value encountered in sqrt\n",
      "  d1 = (np.log(S/K) + (r + sigma**2/2)*T) / (sigma*np.sqrt(T))\n",
      "/tmp/ipykernel_126502/3402545112.py:2: RuntimeWarning: divide by zero encountered in double_scalars\n",
      "  d1 = (np.log(S/K) + (r + sigma**2/2)*T) / (sigma*np.sqrt(T))\n"
     ]
    }
   ],
   "source": [
    "# Delta\n",
    "df['Delta'] = df.apply(lambda x: delta_BS_CALL(x['Close'], K, x['T'], r, 0.9), axis=1)"
   ]
  },
  {
   "cell_type": "code",
   "execution_count": 66,
   "id": "6ee0a7ed",
   "metadata": {
    "scrolled": true
   },
   "outputs": [
    {
     "data": {
      "text/plain": [
       "<AxesSubplot:xlabel='Date'>"
      ]
     },
     "execution_count": 66,
     "metadata": {},
     "output_type": "execute_result"
    },
    {
     "data": {
      "image/png": "[encoded data removed]",
      "text/plain": [
       "<Figure size 432x288 with 1 Axes>"
      ]
     },
     "metadata": {
      "needs_background": "light"
     },
     "output_type": "display_data"
    }
   ],
   "source": [
    "df[\"Delta\"].plot()"
   ]
  },
  {
   "cell_type": "code",
   "execution_count": 67,
   "id": "00dfa0ab",
   "metadata": {},
   "outputs": [
    {
     "data": {
      "text/plain": [
       "<AxesSubplot:xlabel='Date'>"
      ]
     },
     "execution_count": 67,
     "metadata": {},
     "output_type": "execute_result"
    },
    {
     "data": {
      "image/png": "[encoded data removed]",
      "text/plain": [
       "<Figure size 432x288 with 1 Axes>"
      ]
     },
     "metadata": {
      "needs_background": "light"
     },
     "output_type": "display_data"
    }
   ],
   "source": [
    "df[\"Close\"].plot()"
   ]
  },
  {
   "cell_type": "code",
   "execution_count": 68,
   "id": "4e0cf449",
   "metadata": {},
   "outputs": [
    {
     "data": {
      "text/html": [
       "<div>\n",
       "<style scoped>\n",
       "    .dataframe tbody tr th:only-of-type {\n",
       "        vertical-align: middle;\n",
       "    }\n",
       "\n",
       "    .dataframe tbody tr th {\n",
       "        vertical-align: top;\n",
       "    }\n",
       "\n",
       "    .dataframe thead th {\n",
       "        text-align: right;\n",
       "    }\n",
       "</style>\n",
       "<table border=\"1\" class=\"dataframe\">\n",
       "  <thead>\n",
       "    <tr style=\"text-align: right;\">\n",
       "      <th></th>\n",
       "      <th>Open</th>\n",
       "      <th>High</th>\n",
       "      <th>Low</th>\n",
       "      <th>Close</th>\n",
       "      <th>Adj Close</th>\n",
       "      <th>Volume</th>\n",
       "      <th>Date</th>\n",
       "      <th>Return</th>\n",
       "      <th>T</th>\n",
       "      <th>Delta</th>\n",
       "    </tr>\n",
       "    <tr>\n",
       "      <th>Date</th>\n",
       "      <th></th>\n",
       "      <th></th>\n",
       "      <th></th>\n",
       "      <th></th>\n",
       "      <th></th>\n",
       "      <th></th>\n",
       "      <th></th>\n",
       "      <th></th>\n",
       "      <th></th>\n",
       "      <th></th>\n",
       "    </tr>\n",
       "  </thead>\n",
       "  <tbody>\n",
       "    <tr>\n",
       "      <th>2021-12-31</th>\n",
       "      <td>3713.430176</td>\n",
       "      <td>3807.288818</td>\n",
       "      <td>3636.869873</td>\n",
       "      <td>3682.632812</td>\n",
       "      <td>3682.632812</td>\n",
       "      <td>14157285268</td>\n",
       "      <td>2021-12-31</td>\n",
       "      <td>NaN</td>\n",
       "      <td>-0.003914</td>\n",
       "      <td>NaN</td>\n",
       "    </tr>\n",
       "    <tr>\n",
       "      <th>2022-01-01</th>\n",
       "      <td>3683.047119</td>\n",
       "      <td>3769.917969</td>\n",
       "      <td>3682.286621</td>\n",
       "      <td>3769.697021</td>\n",
       "      <td>3769.697021</td>\n",
       "      <td>9776191466</td>\n",
       "      <td>2022-01-01</td>\n",
       "      <td>2.364184</td>\n",
       "      <td>0.000000</td>\n",
       "      <td>1.000000</td>\n",
       "    </tr>\n",
       "    <tr>\n",
       "      <th>2022-01-02</th>\n",
       "      <td>3769.298340</td>\n",
       "      <td>3836.161865</td>\n",
       "      <td>3727.357422</td>\n",
       "      <td>3829.564941</td>\n",
       "      <td>3829.564941</td>\n",
       "      <td>9881471548</td>\n",
       "      <td>2022-01-02</td>\n",
       "      <td>1.588136</td>\n",
       "      <td>0.003914</td>\n",
       "      <td>1.000000</td>\n",
       "    </tr>\n",
       "    <tr>\n",
       "      <th>2022-01-03</th>\n",
       "      <td>3829.535645</td>\n",
       "      <td>3836.198730</td>\n",
       "      <td>3698.047607</td>\n",
       "      <td>3761.380371</td>\n",
       "      <td>3761.380371</td>\n",
       "      <td>12080777893</td>\n",
       "      <td>2022-01-03</td>\n",
       "      <td>-1.780478</td>\n",
       "      <td>0.007828</td>\n",
       "      <td>1.000000</td>\n",
       "    </tr>\n",
       "    <tr>\n",
       "      <th>2022-01-04</th>\n",
       "      <td>3761.361572</td>\n",
       "      <td>3876.785156</td>\n",
       "      <td>3723.349854</td>\n",
       "      <td>3794.056641</td>\n",
       "      <td>3794.056641</td>\n",
       "      <td>14030925983</td>\n",
       "      <td>2022-01-04</td>\n",
       "      <td>0.868731</td>\n",
       "      <td>0.011742</td>\n",
       "      <td>0.999993</td>\n",
       "    </tr>\n",
       "    <tr>\n",
       "      <th>...</th>\n",
       "      <td>...</td>\n",
       "      <td>...</td>\n",
       "      <td>...</td>\n",
       "      <td>...</td>\n",
       "      <td>...</td>\n",
       "      <td>...</td>\n",
       "      <td>...</td>\n",
       "      <td>...</td>\n",
       "      <td>...</td>\n",
       "      <td>...</td>\n",
       "    </tr>\n",
       "    <tr>\n",
       "      <th>2022-09-27</th>\n",
       "      <td>1335.337036</td>\n",
       "      <td>1396.891479</td>\n",
       "      <td>1308.991455</td>\n",
       "      <td>1330.127686</td>\n",
       "      <td>1330.127686</td>\n",
       "      <td>17870598937</td>\n",
       "      <td>2022-09-27</td>\n",
       "      <td>-0.388858</td>\n",
       "      <td>1.052838</td>\n",
       "      <td>0.457171</td>\n",
       "    </tr>\n",
       "    <tr>\n",
       "      <th>2022-09-28</th>\n",
       "      <td>1329.541382</td>\n",
       "      <td>1351.964478</td>\n",
       "      <td>1267.869263</td>\n",
       "      <td>1337.410889</td>\n",
       "      <td>1337.410889</td>\n",
       "      <td>18994979566</td>\n",
       "      <td>2022-09-28</td>\n",
       "      <td>0.547557</td>\n",
       "      <td>1.056751</td>\n",
       "      <td>0.460439</td>\n",
       "    </tr>\n",
       "    <tr>\n",
       "      <th>2022-09-29</th>\n",
       "      <td>1337.554443</td>\n",
       "      <td>1348.107666</td>\n",
       "      <td>1293.193359</td>\n",
       "      <td>1335.652344</td>\n",
       "      <td>1335.652344</td>\n",
       "      <td>13796915736</td>\n",
       "      <td>2022-09-29</td>\n",
       "      <td>-0.131489</td>\n",
       "      <td>1.060665</td>\n",
       "      <td>0.460795</td>\n",
       "    </tr>\n",
       "    <tr>\n",
       "      <th>2022-09-30</th>\n",
       "      <td>1335.646484</td>\n",
       "      <td>1368.743408</td>\n",
       "      <td>1320.383179</td>\n",
       "      <td>1327.978638</td>\n",
       "      <td>1327.978638</td>\n",
       "      <td>14250100093</td>\n",
       "      <td>2022-09-30</td>\n",
       "      <td>-0.574529</td>\n",
       "      <td>1.064579</td>\n",
       "      <td>0.459249</td>\n",
       "    </tr>\n",
       "    <tr>\n",
       "      <th>2022-10-01</th>\n",
       "      <td>1328.193726</td>\n",
       "      <td>1332.516479</td>\n",
       "      <td>1306.102539</td>\n",
       "      <td>1311.644409</td>\n",
       "      <td>1311.644409</td>\n",
       "      <td>6227961237</td>\n",
       "      <td>2022-10-01</td>\n",
       "      <td>-1.230007</td>\n",
       "      <td>1.068493</td>\n",
       "      <td>0.454890</td>\n",
       "    </tr>\n",
       "  </tbody>\n",
       "</table>\n",
       "<p>275 rows × 10 columns</p>\n",
       "</div>"
      ],
      "text/plain": [
       "                   Open         High          Low        Close    Adj Close  \\\n",
       "Date                                                                          \n",
       "2021-12-31  3713.430176  3807.288818  3636.869873  3682.632812  3682.632812   \n",
       "2022-01-01  3683.047119  3769.917969  3682.286621  3769.697021  3769.697021   \n",
       "2022-01-02  3769.298340  3836.161865  3727.357422  3829.564941  3829.564941   \n",
       "2022-01-03  3829.535645  3836.198730  3698.047607  3761.380371  3761.380371   \n",
       "2022-01-04  3761.361572  3876.785156  3723.349854  3794.056641  3794.056641   \n",
       "...                 ...          ...          ...          ...          ...   \n",
       "2022-09-27  1335.337036  1396.891479  1308.991455  1330.127686  1330.127686   \n",
       "2022-09-28  1329.541382  1351.964478  1267.869263  1337.410889  1337.410889   \n",
       "2022-09-29  1337.554443  1348.107666  1293.193359  1335.652344  1335.652344   \n",
       "2022-09-30  1335.646484  1368.743408  1320.383179  1327.978638  1327.978638   \n",
       "2022-10-01  1328.193726  1332.516479  1306.102539  1311.644409  1311.644409   \n",
       "\n",
       "                 Volume       Date    Return         T     Delta  \n",
       "Date                                                              \n",
       "2021-12-31  14157285268 2021-12-31       NaN -0.003914       NaN  \n",
       "2022-01-01   9776191466 2022-01-01  2.364184  0.000000  1.000000  \n",
       "2022-01-02   9881471548 2022-01-02  1.588136  0.003914  1.000000  \n",
       "2022-01-03  12080777893 2022-01-03 -1.780478  0.007828  1.000000  \n",
       "2022-01-04  14030925983 2022-01-04  0.868731  0.011742  0.999993  \n",
       "...                 ...        ...       ...       ...       ...  \n",
       "2022-09-27  17870598937 2022-09-27 -0.388858  1.052838  0.457171  \n",
       "2022-09-28  18994979566 2022-09-28  0.547557  1.056751  0.460439  \n",
       "2022-09-29  13796915736 2022-09-29 -0.131489  1.060665  0.460795  \n",
       "2022-09-30  14250100093 2022-09-30 -0.574529  1.064579  0.459249  \n",
       "2022-10-01   6227961237 2022-10-01 -1.230007  1.068493  0.454890  \n",
       "\n",
       "[275 rows x 10 columns]"
      ]
     },
     "execution_count": 68,
     "metadata": {},
     "output_type": "execute_result"
    }
   ],
   "source": [
    "df"
   ]
  },
  {
   "cell_type": "code",
   "execution_count": null,
   "id": "bcb3a1a3",
   "metadata": {},
   "outputs": [],
   "source": []
  },
  {
   "cell_type": "code",
   "execution_count": 73,
   "id": "4ab6811f",
   "metadata": {},
   "outputs": [],
   "source": [
    "df[\"dDelta\"] = df[\"Delta\"].diff();"
   ]
  },
  {
   "cell_type": "code",
   "execution_count": null,
   "id": "1d7e7f2c",
   "metadata": {},
   "outputs": [],
   "source": []
  },
  {
   "cell_type": "code",
   "execution_count": null,
   "id": "4c970601",
   "metadata": {},
   "outputs": [],
   "source": []
  },
  {
   "cell_type": "code",
   "execution_count": null,
   "id": "6ee1283c",
   "metadata": {},
   "outputs": [],
   "source": []
  },
  {
   "cell_type": "code",
   "execution_count": null,
   "id": "9d95a7d2",
   "metadata": {},
   "outputs": [],
   "source": []
  },
  {
   "cell_type": "code",
   "execution_count": null,
   "id": "8ac1ad76",
   "metadata": {},
   "outputs": [],
   "source": []
  },
  {
   "cell_type": "code",
   "execution_count": 81,
   "id": "4d618fd7",
   "metadata": {},
   "outputs": [],
   "source": [
    "def cash(S, dDelta):\n",
    "    if (dDelta > 0):\n",
    "        cash = df[\"cash\"].shift(1) - (S * dDelta)\n",
    "    else:\n",
    "        cash = df[\"cash\"].shift(1) + (S * dDelta * -1)\n",
    "    \n",
    "    return cash"
   ]
  },
  {
   "cell_type": "code",
   "execution_count": null,
   "id": "7ad2cb26",
   "metadata": {},
   "outputs": [],
   "source": []
  },
  {
   "cell_type": "code",
   "execution_count": 86,
   "id": "344f7039",
   "metadata": {},
   "outputs": [
    {
     "ename": "ValueError",
     "evalue": "The truth value of a Series is ambiguous. Use a.empty, a.bool(), a.item(), a.any() or a.all().",
     "output_type": "error",
     "traceback": [
      "\u001b[0;31m---------------------------------------------------------------------------\u001b[0m",
      "\u001b[0;31mValueError\u001b[0m                                Traceback (most recent call last)",
      "Input \u001b[0;32mIn [86]\u001b[0m, in \u001b[0;36m<cell line: 1>\u001b[0;34m()\u001b[0m\n\u001b[0;32m----> 1\u001b[0m df[\u001b[38;5;124m'\u001b[39m\u001b[38;5;124mcash\u001b[39m\u001b[38;5;124m'\u001b[39m] \u001b[38;5;241m=\u001b[39m \u001b[43mdf\u001b[49m\u001b[38;5;241;43m.\u001b[39;49m\u001b[43mapply\u001b[49m\u001b[43m(\u001b[49m\u001b[38;5;28;43;01mlambda\u001b[39;49;00m\u001b[43m \u001b[49m\u001b[43mx\u001b[49m\u001b[43m:\u001b[49m\u001b[43m \u001b[49m\u001b[43mcash\u001b[49m\u001b[43m(\u001b[49m\u001b[43mdf\u001b[49m\u001b[43m[\u001b[49m\u001b[38;5;124;43m\"\u001b[39;49m\u001b[38;5;124;43mClose\u001b[39;49m\u001b[38;5;124;43m\"\u001b[39;49m\u001b[43m]\u001b[49m\u001b[43m,\u001b[49m\u001b[43m \u001b[49m\u001b[43mdf\u001b[49m\u001b[43m[\u001b[49m\u001b[38;5;124;43m\"\u001b[39;49m\u001b[38;5;124;43mdDelta\u001b[39;49m\u001b[38;5;124;43m\"\u001b[39;49m\u001b[43m]\u001b[49m\u001b[43m)\u001b[49m\u001b[43m)\u001b[49m\n",
      "File \u001b[0;32m~/anaconda3/lib/python3.9/site-packages/pandas/core/frame.py:8839\u001b[0m, in \u001b[0;36mDataFrame.apply\u001b[0;34m(self, func, axis, raw, result_type, args, **kwargs)\u001b[0m\n\u001b[1;32m   8828\u001b[0m \u001b[38;5;28;01mfrom\u001b[39;00m \u001b[38;5;21;01mpandas\u001b[39;00m\u001b[38;5;21;01m.\u001b[39;00m\u001b[38;5;21;01mcore\u001b[39;00m\u001b[38;5;21;01m.\u001b[39;00m\u001b[38;5;21;01mapply\u001b[39;00m \u001b[38;5;28;01mimport\u001b[39;00m frame_apply\n\u001b[1;32m   8830\u001b[0m op \u001b[38;5;241m=\u001b[39m frame_apply(\n\u001b[1;32m   8831\u001b[0m     \u001b[38;5;28mself\u001b[39m,\n\u001b[1;32m   8832\u001b[0m     func\u001b[38;5;241m=\u001b[39mfunc,\n\u001b[0;32m   (...)\u001b[0m\n\u001b[1;32m   8837\u001b[0m     kwargs\u001b[38;5;241m=\u001b[39mkwargs,\n\u001b[1;32m   8838\u001b[0m )\n\u001b[0;32m-> 8839\u001b[0m \u001b[38;5;28;01mreturn\u001b[39;00m \u001b[43mop\u001b[49m\u001b[38;5;241;43m.\u001b[39;49m\u001b[43mapply\u001b[49m\u001b[43m(\u001b[49m\u001b[43m)\u001b[49m\u001b[38;5;241m.\u001b[39m__finalize__(\u001b[38;5;28mself\u001b[39m, method\u001b[38;5;241m=\u001b[39m\u001b[38;5;124m\"\u001b[39m\u001b[38;5;124mapply\u001b[39m\u001b[38;5;124m\"\u001b[39m)\n",
      "File \u001b[0;32m~/anaconda3/lib/python3.9/site-packages/pandas/core/apply.py:727\u001b[0m, in \u001b[0;36mFrameApply.apply\u001b[0;34m(self)\u001b[0m\n\u001b[1;32m    724\u001b[0m \u001b[38;5;28;01melif\u001b[39;00m \u001b[38;5;28mself\u001b[39m\u001b[38;5;241m.\u001b[39mraw:\n\u001b[1;32m    725\u001b[0m     \u001b[38;5;28;01mreturn\u001b[39;00m \u001b[38;5;28mself\u001b[39m\u001b[38;5;241m.\u001b[39mapply_raw()\n\u001b[0;32m--> 727\u001b[0m \u001b[38;5;28;01mreturn\u001b[39;00m \u001b[38;5;28;43mself\u001b[39;49m\u001b[38;5;241;43m.\u001b[39;49m\u001b[43mapply_standard\u001b[49m\u001b[43m(\u001b[49m\u001b[43m)\u001b[49m\n",
      "File \u001b[0;32m~/anaconda3/lib/python3.9/site-packages/pandas/core/apply.py:851\u001b[0m, in \u001b[0;36mFrameApply.apply_standard\u001b[0;34m(self)\u001b[0m\n\u001b[1;32m    850\u001b[0m \u001b[38;5;28;01mdef\u001b[39;00m \u001b[38;5;21mapply_standard\u001b[39m(\u001b[38;5;28mself\u001b[39m):\n\u001b[0;32m--> 851\u001b[0m     results, res_index \u001b[38;5;241m=\u001b[39m \u001b[38;5;28;43mself\u001b[39;49m\u001b[38;5;241;43m.\u001b[39;49m\u001b[43mapply_series_generator\u001b[49m\u001b[43m(\u001b[49m\u001b[43m)\u001b[49m\n\u001b[1;32m    853\u001b[0m     \u001b[38;5;66;03m# wrap results\u001b[39;00m\n\u001b[1;32m    854\u001b[0m     \u001b[38;5;28;01mreturn\u001b[39;00m \u001b[38;5;28mself\u001b[39m\u001b[38;5;241m.\u001b[39mwrap_results(results, res_index)\n",
      "File \u001b[0;32m~/anaconda3/lib/python3.9/site-packages/pandas/core/apply.py:867\u001b[0m, in \u001b[0;36mFrameApply.apply_series_generator\u001b[0;34m(self)\u001b[0m\n\u001b[1;32m    864\u001b[0m \u001b[38;5;28;01mwith\u001b[39;00m option_context(\u001b[38;5;124m\"\u001b[39m\u001b[38;5;124mmode.chained_assignment\u001b[39m\u001b[38;5;124m\"\u001b[39m, \u001b[38;5;28;01mNone\u001b[39;00m):\n\u001b[1;32m    865\u001b[0m     \u001b[38;5;28;01mfor\u001b[39;00m i, v \u001b[38;5;129;01min\u001b[39;00m \u001b[38;5;28menumerate\u001b[39m(series_gen):\n\u001b[1;32m    866\u001b[0m         \u001b[38;5;66;03m# ignore SettingWithCopy here in case the user mutates\u001b[39;00m\n\u001b[0;32m--> 867\u001b[0m         results[i] \u001b[38;5;241m=\u001b[39m \u001b[38;5;28;43mself\u001b[39;49m\u001b[38;5;241;43m.\u001b[39;49m\u001b[43mf\u001b[49m\u001b[43m(\u001b[49m\u001b[43mv\u001b[49m\u001b[43m)\u001b[49m\n\u001b[1;32m    868\u001b[0m         \u001b[38;5;28;01mif\u001b[39;00m \u001b[38;5;28misinstance\u001b[39m(results[i], ABCSeries):\n\u001b[1;32m    869\u001b[0m             \u001b[38;5;66;03m# If we have a view on v, we need to make a copy because\u001b[39;00m\n\u001b[1;32m    870\u001b[0m             \u001b[38;5;66;03m#  series_generator will swap out the underlying data\u001b[39;00m\n\u001b[1;32m    871\u001b[0m             results[i] \u001b[38;5;241m=\u001b[39m results[i]\u001b[38;5;241m.\u001b[39mcopy(deep\u001b[38;5;241m=\u001b[39m\u001b[38;5;28;01mFalse\u001b[39;00m)\n",
      "Input \u001b[0;32mIn [86]\u001b[0m, in \u001b[0;36m<lambda>\u001b[0;34m(x)\u001b[0m\n\u001b[0;32m----> 1\u001b[0m df[\u001b[38;5;124m'\u001b[39m\u001b[38;5;124mcash\u001b[39m\u001b[38;5;124m'\u001b[39m] \u001b[38;5;241m=\u001b[39m df\u001b[38;5;241m.\u001b[39mapply(\u001b[38;5;28;01mlambda\u001b[39;00m x: \u001b[43mcash\u001b[49m\u001b[43m(\u001b[49m\u001b[43mdf\u001b[49m\u001b[43m[\u001b[49m\u001b[38;5;124;43m\"\u001b[39;49m\u001b[38;5;124;43mClose\u001b[39;49m\u001b[38;5;124;43m\"\u001b[39;49m\u001b[43m]\u001b[49m\u001b[43m,\u001b[49m\u001b[43m \u001b[49m\u001b[43mdf\u001b[49m\u001b[43m[\u001b[49m\u001b[38;5;124;43m\"\u001b[39;49m\u001b[38;5;124;43mdDelta\u001b[39;49m\u001b[38;5;124;43m\"\u001b[39;49m\u001b[43m]\u001b[49m\u001b[43m)\u001b[49m)\n",
      "Input \u001b[0;32mIn [81]\u001b[0m, in \u001b[0;36mcash\u001b[0;34m(S, dDelta)\u001b[0m\n\u001b[1;32m      1\u001b[0m \u001b[38;5;28;01mdef\u001b[39;00m \u001b[38;5;21mcash\u001b[39m(S, dDelta):\n\u001b[0;32m----> 2\u001b[0m     \u001b[38;5;28;01mif\u001b[39;00m (dDelta \u001b[38;5;241m>\u001b[39m \u001b[38;5;241m0\u001b[39m):\n\u001b[1;32m      3\u001b[0m         cash \u001b[38;5;241m=\u001b[39m (S \u001b[38;5;241m*\u001b[39m dDelta) \u001b[38;5;66;03m# df[\"cash\"].shift(1) - \u001b[39;00m\n\u001b[1;32m      4\u001b[0m     \u001b[38;5;28;01melse\u001b[39;00m:\n",
      "File \u001b[0;32m~/anaconda3/lib/python3.9/site-packages/pandas/core/generic.py:1527\u001b[0m, in \u001b[0;36mNDFrame.__nonzero__\u001b[0;34m(self)\u001b[0m\n\u001b[1;32m   1525\u001b[0m \u001b[38;5;129m@final\u001b[39m\n\u001b[1;32m   1526\u001b[0m \u001b[38;5;28;01mdef\u001b[39;00m \u001b[38;5;21m__nonzero__\u001b[39m(\u001b[38;5;28mself\u001b[39m):\n\u001b[0;32m-> 1527\u001b[0m     \u001b[38;5;28;01mraise\u001b[39;00m \u001b[38;5;167;01mValueError\u001b[39;00m(\n\u001b[1;32m   1528\u001b[0m         \u001b[38;5;124mf\u001b[39m\u001b[38;5;124m\"\u001b[39m\u001b[38;5;124mThe truth value of a \u001b[39m\u001b[38;5;132;01m{\u001b[39;00m\u001b[38;5;28mtype\u001b[39m(\u001b[38;5;28mself\u001b[39m)\u001b[38;5;241m.\u001b[39m\u001b[38;5;18m__name__\u001b[39m\u001b[38;5;132;01m}\u001b[39;00m\u001b[38;5;124m is ambiguous. \u001b[39m\u001b[38;5;124m\"\u001b[39m\n\u001b[1;32m   1529\u001b[0m         \u001b[38;5;124m\"\u001b[39m\u001b[38;5;124mUse a.empty, a.bool(), a.item(), a.any() or a.all().\u001b[39m\u001b[38;5;124m\"\u001b[39m\n\u001b[1;32m   1530\u001b[0m     )\n",
      "\u001b[0;31mValueError\u001b[0m: The truth value of a Series is ambiguous. Use a.empty, a.bool(), a.item(), a.any() or a.all()."
     ]
    }
   ],
   "source": [
    "df['cash'] = df.apply(lambda x: cash(df[\"Close\"], df[\"dDelta\"]))"
   ]
  },
  {
   "cell_type": "code",
   "execution_count": null,
   "id": "cab981da",
   "metadata": {},
   "outputs": [],
   "source": []
  },
  {
   "cell_type": "code",
   "execution_count": null,
   "id": "c0e2782f",
   "metadata": {},
   "outputs": [],
   "source": []
  },
  {
   "cell_type": "code",
   "execution_count": 69,
   "id": "96d0ba3c",
   "metadata": {},
   "outputs": [],
   "source": [
    "# not finished...\n",
    "\n",
    "def cashBalance(S, delta0, delta1, cash):\n",
    "    cash1 = cash - ((delta1 - delta0) * S)    \n",
    "    return cash1\n",
    "\n",
    "def underlyingBalance(delta, liquidity):\n",
    "    return 0\n",
    "    \n"
   ]
  },
  {
   "cell_type": "code",
   "execution_count": 19,
   "id": "8d09958b",
   "metadata": {},
   "outputs": [],
   "source": [
    "def portfolioValue():\n",
    "    return 0"
   ]
  },
  {
   "cell_type": "code",
   "execution_count": null,
   "id": "fcbdbdd1",
   "metadata": {},
   "outputs": [],
   "source": []
  }
 ],
 "metadata": {
  "kernelspec": {
   "display_name": "Python 3 (ipykernel)",
   "language": "python",
   "name": "python3"
  },
  "language_info": {
   "codemirror_mode": {
    "name": "ipython",
    "version": 3
   },
   "file_extension": ".py",
   "mimetype": "text/x-python",
   "name": "python",
   "nbconvert_exporter": "python",
   "pygments_lexer": "ipython3",
   "version": "3.9.12"
  }
 },
 "nbformat": 4,
 "nbformat_minor": 5
}
