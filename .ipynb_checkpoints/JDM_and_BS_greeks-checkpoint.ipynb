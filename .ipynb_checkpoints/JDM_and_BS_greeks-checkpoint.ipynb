{
 "cells": [
  {
   "cell_type": "code",
   "execution_count": null,
   "id": "6f24be60",
   "metadata": {},
   "outputs": [],
   "source": []
  },
  {
   "cell_type": "code",
   "execution_count": 16,
   "id": "b679ed3f",
   "metadata": {},
   "outputs": [],
   "source": [
    "from scipy.stats import norm\n",
    "import numpy as np\n",
    "\n",
    "N = norm.cdf\n",
    "\n",
    "def BS_CALL(S, K, T, r, sigma):\n",
    "    d1 = (np.log(S/K) + (r + sigma**2/2)*T) / (sigma*np.sqrt(T))\n",
    "    d2 = d1 - sigma * np.sqrt(T)\n",
    "    return S * N(d1) - K * np.exp(-r*T)* N(d2)\n",
    "\n",
    "def BS_PUT(S, K, T, r, sigma):\n",
    "    d1 = (np.log(S/K) + (r + sigma**2/2)*T) / (sigma*np.sqrt(T))\n",
    "    d2 = d1 - sigma* np.sqrt(T)\n",
    "    return K*np.exp(-r*T)*N(-d2) - S*N(-d1)    \n",
    "\n",
    "def delta_BS_CALL(S, K, T, r, sigma):\n",
    "    d1 = (np.log(S/K) + (r + sigma**2/2)*T) / (sigma*np.sqrt(T))\n",
    "    d2 = d1 - sigma * np.sqrt(T)\n",
    "    return N(d1)\n",
    "    \n",
    "def merton_jump_call(S, K, T, r, sigma, m , v, lam):\n",
    "    p = 0\n",
    "\n",
    "    for k in range(5):\n",
    "        r_k = r - lam*(m-1) + (k*np.log(m) ) / T\n",
    "        sigma_k = np.sqrt( sigma**2 + (k* v** 2) / T)\n",
    "        \n",
    "        k_fact = np.math.factorial(k)\n",
    "\n",
    "\n",
    "        p += (np.exp(-m*lam*T) * (m*lam*T)**k / (k_fact))  * BS_CALL(S, K, T, r_k, sigma_k)\n",
    "    \n",
    "    return p \n",
    "\n",
    "\n",
    "##### Merton's jump call delta\n",
    "def delta_merton_jump_call(S, K, T, r, sigma, m , v, lam):\n",
    "    p = 0\n",
    "\n",
    "    for k in range(5):\n",
    "        r_k = r - lam*(m-1) + (k*np.log(m) ) / T\n",
    "        sigma_k = np.sqrt( sigma**2 + (k* v** 2) / T)\n",
    "\n",
    "        k_fact = np.math.factorial(k)\n",
    "        p += (np.exp(-m*lam*T) * (m*lam*T)**k / (k_fact))  * delta_BS_CALL(S, K, T, r_k, sigma_k)\n",
    "    \n",
    "    return p \n",
    "\n",
    "\n",
    "def merton_jump_put(S, K, T, r, sigma, m , v, lam):\n",
    "    p = 0 # price of option\n",
    "    for k in range(40):\n",
    "        r_k = r - lam*(m-1) + (k*np.log(m) ) / T\n",
    "        sigma_k = np.sqrt( sigma**2 + (k* v** 2) / T)\n",
    "        k_fact = np.math.factorial(k) # \n",
    "        p += (np.exp(-m*lam*T) * (m*lam*T)**k / (k_fact)) \\\n",
    "                    * BS_PUT(S, K, T, r_k, sigma_k)\n",
    "    return p "
   ]
  },
  {
   "cell_type": "code",
   "execution_count": 17,
   "id": "6f8dc6bd",
   "metadata": {
    "scrolled": true
   },
   "outputs": [
    {
     "name": "stdout",
     "output_type": "stream",
     "text": [
      "24.04643921430539\n"
     ]
    }
   ],
   "source": [
    "S = 100\n",
    "K = 90\n",
    "T = 1\n",
    "r = 0.1\n",
    "m = 0.230 # meean of jump size\n",
    "v = 0.1 # standard deviation of jump\n",
    "lam = 0.1 # intensity of jump i.e. number of jumps per annum\n",
    "sigma = 0.1 # annaul standard deviation , for weiner process\n",
    "\n",
    "\n",
    "#print(BS_CALL(S, K, T, r, sigma))\n",
    "#print(BS_PUT(S, K, T, r, sigma))\n",
    "\n",
    "# merton_jump_call(S, K, T, r, sigma, m , v, lam)\n",
    "# print('merton delta:', delta_merton_jump_call(S, K, T, r, sigma, m , v, lam))\n",
    "# print('BSdelta:', delta_BS_CALL(S, K, T, r, sigma))\n",
    "\n",
    "\n",
    "print(merton_jump_call(S, K, T, r, sigma, m , v, lam))"
   ]
  },
  {
   "cell_type": "code",
   "execution_count": 58,
   "id": "1ee95e24",
   "metadata": {},
   "outputs": [],
   "source": [
    "import random\n",
    "random.seed(0)"
   ]
  },
  {
   "cell_type": "code",
   "execution_count": 102,
   "id": "a2d04cfa",
   "metadata": {},
   "outputs": [],
   "source": [
    "PRICES = [str(_S) for _S in range(25, 200, 25)]\n",
    "STRIKES = [str(_K) for _K in range(200, 25, -25)]\n",
    "TIMES = [str(_t/100) for _t in range(1, 150, 22)]\n",
    "M = [str(_m/100) for _m in range(1, 150, 22)]\n",
    "V = [str(_v/100) for _v in range(1, 150, 22)]\n",
    "LAM = [str(_lam/100) for _lam in range(1, 150, 22)]\n",
    "SIGMA = [str(_sigma/100) for _sigma in range(1, 150, 22)]\n",
    "\n",
    "# assert(len(prices) == len(strikes) == len(strikes) == len(M) == len(V) == len(LAM) == len(SIGMA))"
   ]
  },
  {
   "cell_type": "code",
   "execution_count": 103,
   "id": "c869f3f8",
   "metadata": {},
   "outputs": [
    {
     "data": {
      "text/plain": [
       "['0.01', '0.23', '0.45', '0.67', '0.89', '1.11', '1.33']"
      ]
     },
     "execution_count": 103,
     "metadata": {},
     "output_type": "execute_result"
    }
   ],
   "source": [
    "TIMES"
   ]
  },
  {
   "cell_type": "code",
   "execution_count": 104,
   "id": "20a41435",
   "metadata": {},
   "outputs": [],
   "source": [
    "random.shuffle(PRICES)\n",
    "random.shuffle(STRIKES)\n",
    "random.shuffle(TIMES)\n",
    "random.shuffle(M)\n",
    "random.shuffle(V)\n",
    "random.shuffle(LAM)\n",
    "random.shuffle(SIGMA)"
   ]
  },
  {
   "cell_type": "code",
   "execution_count": 105,
   "id": "ef890bcf",
   "metadata": {
    "scrolled": true
   },
   "outputs": [
    {
     "name": "stdout",
     "output_type": "stream",
     "text": [
      "let PRICES = ['125', '175', '25', '50', '75', '100', '150'];\n",
      "let STRIKES = ['75', '125', '50', '175', '200', '150', '100'];\n",
      "let TIMES = ['0.89', '0.67', '0.23', '0.01', '1.11', '1.33', '0.45'];\n",
      "let M = ['1.33', '0.67', '1.11', '0.89', '0.23', '0.45', '0.01'];\n",
      "let V = ['1.33', '0.01', '1.11', '0.23', '0.89', '0.67', '0.45'];\n",
      "let LAM = ['0.45', '1.33', '0.89', '0.01', '0.23', '1.11', '0.67'];\n",
      "let SIGMA = ['1.11', '0.67', '0.23', '0.45', '0.01', '0.89', '1.33'];\n"
     ]
    }
   ],
   "source": [
    "print('let PRICES = ', PRICES, ';', sep='')\n",
    "print('let STRIKES = ', STRIKES, ';', sep='')\n",
    "print('let TIMES = ', TIMES, ';', sep='')\n",
    "print('let M = ', M, ';', sep='')\n",
    "print('let V = ', V, ';', sep='')\n",
    "print('let LAM = ', LAM, ';', sep='')\n",
    "print('let SIGMA = ', SIGMA, ';', sep='')"
   ]
  },
  {
   "cell_type": "code",
   "execution_count": 107,
   "id": "66800a06",
   "metadata": {},
   "outputs": [
    {
     "ename": "TypeError",
     "evalue": "unsupported operand type(s) for -: 'str' and 'int'",
     "output_type": "error",
     "traceback": [
      "\u001b[0;31m---------------------------------------------------------------------------\u001b[0m",
      "\u001b[0;31mTypeError\u001b[0m                                 Traceback (most recent call last)",
      "\u001b[0;32m<ipython-input-107-e7bfcf7848d8>\u001b[0m in \u001b[0;36m<module>\u001b[0;34m\u001b[0m\n\u001b[0;32m----> 1\u001b[0;31m \u001b[0mOUTS\u001b[0m \u001b[0;34m=\u001b[0m \u001b[0;34m[\u001b[0m\u001b[0mround\u001b[0m\u001b[0;34m(\u001b[0m\u001b[0mmerton_jump_call\u001b[0m\u001b[0;34m(\u001b[0m\u001b[0mPRICES\u001b[0m\u001b[0;34m[\u001b[0m\u001b[0mi\u001b[0m\u001b[0;34m]\u001b[0m\u001b[0;34m,\u001b[0m \u001b[0mSTRIKES\u001b[0m\u001b[0;34m[\u001b[0m\u001b[0mi\u001b[0m\u001b[0;34m]\u001b[0m\u001b[0;34m,\u001b[0m \u001b[0mTIMES\u001b[0m\u001b[0;34m[\u001b[0m\u001b[0mi\u001b[0m\u001b[0;34m]\u001b[0m\u001b[0;34m,\u001b[0m \u001b[0mr\u001b[0m\u001b[0;34m,\u001b[0m \u001b[0mSIGMA\u001b[0m\u001b[0;34m[\u001b[0m\u001b[0mi\u001b[0m\u001b[0;34m]\u001b[0m\u001b[0;34m,\u001b[0m \u001b[0mM\u001b[0m\u001b[0;34m[\u001b[0m\u001b[0mi\u001b[0m\u001b[0;34m]\u001b[0m \u001b[0;34m,\u001b[0m \u001b[0mV\u001b[0m\u001b[0;34m[\u001b[0m\u001b[0mi\u001b[0m\u001b[0;34m]\u001b[0m\u001b[0;34m,\u001b[0m \u001b[0mLAM\u001b[0m\u001b[0;34m[\u001b[0m\u001b[0mi\u001b[0m\u001b[0;34m]\u001b[0m\u001b[0;34m)\u001b[0m\u001b[0;34m,\u001b[0m \u001b[0;36m20\u001b[0m\u001b[0;34m)\u001b[0m \u001b[0;32mfor\u001b[0m \u001b[0mi\u001b[0m \u001b[0;32min\u001b[0m \u001b[0mrange\u001b[0m\u001b[0;34m(\u001b[0m\u001b[0;36m7\u001b[0m\u001b[0;34m)\u001b[0m\u001b[0;34m]\u001b[0m\u001b[0;34m\u001b[0m\u001b[0;34m\u001b[0m\u001b[0m\n\u001b[0m",
      "\u001b[0;32m<ipython-input-107-e7bfcf7848d8>\u001b[0m in \u001b[0;36m<listcomp>\u001b[0;34m(.0)\u001b[0m\n\u001b[0;32m----> 1\u001b[0;31m \u001b[0mOUTS\u001b[0m \u001b[0;34m=\u001b[0m \u001b[0;34m[\u001b[0m\u001b[0mround\u001b[0m\u001b[0;34m(\u001b[0m\u001b[0mmerton_jump_call\u001b[0m\u001b[0;34m(\u001b[0m\u001b[0mPRICES\u001b[0m\u001b[0;34m[\u001b[0m\u001b[0mi\u001b[0m\u001b[0;34m]\u001b[0m\u001b[0;34m,\u001b[0m \u001b[0mSTRIKES\u001b[0m\u001b[0;34m[\u001b[0m\u001b[0mi\u001b[0m\u001b[0;34m]\u001b[0m\u001b[0;34m,\u001b[0m \u001b[0mTIMES\u001b[0m\u001b[0;34m[\u001b[0m\u001b[0mi\u001b[0m\u001b[0;34m]\u001b[0m\u001b[0;34m,\u001b[0m \u001b[0mr\u001b[0m\u001b[0;34m,\u001b[0m \u001b[0mSIGMA\u001b[0m\u001b[0;34m[\u001b[0m\u001b[0mi\u001b[0m\u001b[0;34m]\u001b[0m\u001b[0;34m,\u001b[0m \u001b[0mM\u001b[0m\u001b[0;34m[\u001b[0m\u001b[0mi\u001b[0m\u001b[0;34m]\u001b[0m \u001b[0;34m,\u001b[0m \u001b[0mV\u001b[0m\u001b[0;34m[\u001b[0m\u001b[0mi\u001b[0m\u001b[0;34m]\u001b[0m\u001b[0;34m,\u001b[0m \u001b[0mLAM\u001b[0m\u001b[0;34m[\u001b[0m\u001b[0mi\u001b[0m\u001b[0;34m]\u001b[0m\u001b[0;34m)\u001b[0m\u001b[0;34m,\u001b[0m \u001b[0;36m20\u001b[0m\u001b[0;34m)\u001b[0m \u001b[0;32mfor\u001b[0m \u001b[0mi\u001b[0m \u001b[0;32min\u001b[0m \u001b[0mrange\u001b[0m\u001b[0;34m(\u001b[0m\u001b[0;36m7\u001b[0m\u001b[0;34m)\u001b[0m\u001b[0;34m]\u001b[0m\u001b[0;34m\u001b[0m\u001b[0;34m\u001b[0m\u001b[0m\n\u001b[0m",
      "\u001b[0;32m<ipython-input-16-56bb7588bd97>\u001b[0m in \u001b[0;36mmerton_jump_call\u001b[0;34m(S, K, T, r, sigma, m, v, lam)\u001b[0m\n\u001b[1;32m     23\u001b[0m \u001b[0;34m\u001b[0m\u001b[0m\n\u001b[1;32m     24\u001b[0m     \u001b[0;32mfor\u001b[0m \u001b[0mk\u001b[0m \u001b[0;32min\u001b[0m \u001b[0mrange\u001b[0m\u001b[0;34m(\u001b[0m\u001b[0;36m5\u001b[0m\u001b[0;34m)\u001b[0m\u001b[0;34m:\u001b[0m\u001b[0;34m\u001b[0m\u001b[0;34m\u001b[0m\u001b[0m\n\u001b[0;32m---> 25\u001b[0;31m         \u001b[0mr_k\u001b[0m \u001b[0;34m=\u001b[0m \u001b[0mr\u001b[0m \u001b[0;34m-\u001b[0m \u001b[0mlam\u001b[0m\u001b[0;34m*\u001b[0m\u001b[0;34m(\u001b[0m\u001b[0mm\u001b[0m\u001b[0;34m-\u001b[0m\u001b[0;36m1\u001b[0m\u001b[0;34m)\u001b[0m \u001b[0;34m+\u001b[0m \u001b[0;34m(\u001b[0m\u001b[0mk\u001b[0m\u001b[0;34m*\u001b[0m\u001b[0mnp\u001b[0m\u001b[0;34m.\u001b[0m\u001b[0mlog\u001b[0m\u001b[0;34m(\u001b[0m\u001b[0mm\u001b[0m\u001b[0;34m)\u001b[0m \u001b[0;34m)\u001b[0m \u001b[0;34m/\u001b[0m \u001b[0mT\u001b[0m\u001b[0;34m\u001b[0m\u001b[0;34m\u001b[0m\u001b[0m\n\u001b[0m\u001b[1;32m     26\u001b[0m         \u001b[0msigma_k\u001b[0m \u001b[0;34m=\u001b[0m \u001b[0mnp\u001b[0m\u001b[0;34m.\u001b[0m\u001b[0msqrt\u001b[0m\u001b[0;34m(\u001b[0m \u001b[0msigma\u001b[0m\u001b[0;34m**\u001b[0m\u001b[0;36m2\u001b[0m \u001b[0;34m+\u001b[0m \u001b[0;34m(\u001b[0m\u001b[0mk\u001b[0m\u001b[0;34m*\u001b[0m \u001b[0mv\u001b[0m\u001b[0;34m**\u001b[0m \u001b[0;36m2\u001b[0m\u001b[0;34m)\u001b[0m \u001b[0;34m/\u001b[0m \u001b[0mT\u001b[0m\u001b[0;34m)\u001b[0m\u001b[0;34m\u001b[0m\u001b[0;34m\u001b[0m\u001b[0m\n\u001b[1;32m     27\u001b[0m \u001b[0;34m\u001b[0m\u001b[0m\n",
      "\u001b[0;31mTypeError\u001b[0m: unsupported operand type(s) for -: 'str' and 'int'"
     ]
    }
   ],
   "source": [
    "OUTS = [round(merton_jump_call(int(PRICES[i]), int(STRIKES[i]), int(TIMES[i]), int(r), int(SIGMA[i]), int(M[i]) , int(V[i]), int(LAM[i])), 20) for i in range(7)]"
   ]
  },
  {
   "cell_type": "code",
   "execution_count": 91,
   "id": "785d4c06",
   "metadata": {},
   "outputs": [
    {
     "data": {
      "text/plain": [
       "[35.202, 29.862, 107.804, 86.861, 0.0, 0.0, 6.799]"
      ]
     },
     "execution_count": 91,
     "metadata": {},
     "output_type": "execute_result"
    }
   ],
   "source": [
    "OUTS"
   ]
  }
 ],
 "metadata": {
  "kernelspec": {
   "display_name": "Python 3",
   "language": "python",
   "name": "python3"
  },
  "language_info": {
   "codemirror_mode": {
    "name": "ipython",
    "version": 3
   },
   "file_extension": ".py",
   "mimetype": "text/x-python",
   "name": "python",
   "nbconvert_exporter": "python",
   "pygments_lexer": "ipython3",
   "version": "3.8.8"
  }
 },
 "nbformat": 4,
 "nbformat_minor": 5
}
