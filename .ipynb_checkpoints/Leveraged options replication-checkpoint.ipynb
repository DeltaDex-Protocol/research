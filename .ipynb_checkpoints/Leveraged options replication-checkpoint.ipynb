{
 "cells": [
  {
   "cell_type": "markdown",
   "id": "a1f31087",
   "metadata": {},
   "source": [
    "Suppose we have"
   ]
  },
  {
   "cell_type": "markdown",
   "id": "3002208e",
   "metadata": {},
   "source": [
    "x = 1000 usd\n",
    "flashloan for 3000 usd, put 4000 usd into comp, and borrow 3 eth, swap for 3000 usd and return flashloan\n",
    "\n",
    "eth price: 1000 -> 500\n",
    "\n",
    "flashloan for 3 eth (1500 usd), return to compound, get 4000 usd, return 1500 usd as a flashloan, result: 2500 usd\n",
    "\n",
    "profit w/o leverage: 500 usd, with leverage: 1500. leverage is 3x\n",
    "\n",
    "\n"
   ]
  },
  {
   "cell_type": "code",
   "execution_count": 102,
   "id": "e0703d9e",
   "metadata": {},
   "outputs": [],
   "source": [
    "import matplotlib.pyplot as plt\n",
    "plt.style.use('ggplot')\n",
    "import numpy as np\n",
    "from scipy.stats import norm\n",
    "from scipy.optimize import minimize_scalar  \n",
    "import math"
   ]
  },
  {
   "cell_type": "code",
   "execution_count": 103,
   "id": "eabd87a8",
   "metadata": {},
   "outputs": [],
   "source": [
    "N = norm.cdf\n"
   ]
  },
  {
   "cell_type": "code",
   "execution_count": 91,
   "id": "3e21057e",
   "metadata": {},
   "outputs": [],
   "source": [
    "FLASHLOAN_FEE = 0.9 / 100\n",
    "UNISWAP_FEE = 0.2 / 100\n",
    "\n",
    "COMP_CRITICAL_RATIO = 1.25"
   ]
  },
  {
   "cell_type": "code",
   "execution_count": 96,
   "id": "8350b1e8",
   "metadata": {},
   "outputs": [],
   "source": [
    "def leverage_params(leverage, initial_price, current_price, is_long):\n",
    "    \n",
    "    if is_long:\n",
    "        # provided: (leverage+1) ethers\n",
    "        # borrowed: leverage * initial_price usdc\n",
    "        # initial_ratio: (leverage+1) * initial_price / (leverage * initial_price) = (leverage+1) / leverage\n",
    "        # current_ratio: (leverage+1) * current_price / (leverage * initial_price)\n",
    "        \n",
    "        current_ratio = ((leverage + 1) * current_price) / (leverage * initial_price)\n",
    "        liq_price = COMP_CRITICAL_RATIO * (leverage * initial_price) / (leverage + 1)\n",
    "        \n",
    "        return (current_ratio, liq_price)\n",
    "\n",
    "    \n",
    "    if (not is_long) :\n",
    "        # provided X * (leverage+1) usdc\n",
    "        # borrowed ethers X*leverage worth (means y = X*leverage / initial_price)\n",
    "        # initial_ratio: X * (leverage+1) / (X*leverage / initial_price * initial_price) = (leverage+1) / leverage\n",
    "        # current_ratio: X * (leverage+1) / (X*leverage / initial_price) * current_price\n",
    "        \n",
    "        current_ratio = ((leverage + 1) * initial_price) / (leverage * current_price)\n",
    "        liq_price = ((leverage + 1) * initial_price) / (leverage * COMP_CRITICAL_RATIO)\n",
    "        \n",
    "        \n",
    "        return (current_ratio, liq_price)\n",
    "    \n",
    "    "
   ]
  },
  {
   "cell_type": "code",
   "execution_count": 118,
   "id": "15b282ac",
   "metadata": {},
   "outputs": [
    {
     "name": "stdout",
     "output_type": "stream",
     "text": [
      "(1.5, 833.3333333333334)\n",
      "(1.5, 1200.0)\n"
     ]
    }
   ],
   "source": [
    "print(leverage_params(leverage=2, initial_price=1000, current_price=1000, is_long=True))\n",
    "print(leverage_params(leverage=2, initial_price=1000, current_price=1000, is_long=False))"
   ]
  },
  {
   "cell_type": "code",
   "execution_count": 114,
   "id": "4db2b683",
   "metadata": {},
   "outputs": [],
   "source": [
    "option = {\"T\": 0.1, \"x0\": 250, \"K\": 1000, \"r\": 0, \"sigma\": 0.7}\n"
   ]
  },
  {
   "cell_type": "code",
   "execution_count": 115,
   "id": "90051a56",
   "metadata": {},
   "outputs": [],
   "source": [
    "def delta_BS_put(S, K, T, r, sigma):\n",
    "    d1 = (np.log(S/K) + (r + sigma**2/2)*T) / (sigma*np.sqrt(T))\n",
    "    return N(d1) - 1\n",
    "\n",
    "def delta_BS_call(S, K, T, r, sigma):\n",
    "    d1 = (np.log(S/K) + (r + sigma**2/2)*T) / (sigma*np.sqrt(T))\n",
    "    return N(d1)\n",
    "\n",
    "def BS_CALL(S, K, T, r, sigma):\n",
    "    d1 = (np.log(S/K) + (r + sigma**2/2)*T) / (sigma*np.sqrt(T))\n",
    "    d2 = d1 - sigma * np.sqrt(T)\n",
    "#     print(d1, d2)\n",
    "    return S * N(d1) - K * np.exp(-r*T)* N(d2)\n",
    "\n",
    "def BS_PUT(S, K, T, r, sigma):\n",
    "    d1 = (np.log(S/K) + (r + sigma**2/2)*T) / (sigma*np.sqrt(T))\n",
    "    d2 = d1 - sigma * np.sqrt(T)\n",
    "    return K * np.exp(-r*T)* N(-d2) - S * N(-d1)"
   ]
  },
  {
   "cell_type": "code",
   "execution_count": 117,
   "id": "2a343ce9",
   "metadata": {},
   "outputs": [
    {
     "data": {
      "text/plain": [
       "0.23793367083590744"
      ]
     },
     "execution_count": 117,
     "metadata": {},
     "output_type": "execute_result"
    }
   ],
   "source": [
    "delta_BS_call(1000, 1200, 0.1, 0, 0.7)"
   ]
  },
  {
   "cell_type": "code",
   "execution_count": null,
   "id": "62f1886b",
   "metadata": {},
   "outputs": [],
   "source": []
  },
  {
   "cell_type": "code",
   "execution_count": null,
   "id": "f3ed03b3",
   "metadata": {},
   "outputs": [],
   "source": []
  },
  {
   "cell_type": "markdown",
   "id": "2bd98b94",
   "metadata": {},
   "source": [
    "### Situation 2\n",
    "\n",
    "x = 1000 usd\n",
    "\n",
    "I put x in compound and get 0.8 eth. Then I swap it to 800 usd and put in comp again. Thus, I borrow 0.8 eth and provided 1800 usd as collateral\n",
    "\n",
    "Conversely, suppose we have $y = 1 eth$. We put it in the compound and get 800 usd, then we swap to 0.8 eth and put in comp again. For now, we borrow 800 usd and provided 1.8 eth as collateral.   \n",
    "\n"
   ]
  },
  {
   "cell_type": "code",
   "execution_count": null,
   "id": "59f36d9e",
   "metadata": {},
   "outputs": [],
   "source": []
  },
  {
   "cell_type": "code",
   "execution_count": null,
   "id": "4451a296",
   "metadata": {},
   "outputs": [],
   "source": []
  }
 ],
 "metadata": {
  "kernelspec": {
   "display_name": "Python 3",
   "language": "python",
   "name": "python3"
  },
  "language_info": {
   "codemirror_mode": {
    "name": "ipython",
    "version": 3
   },
   "file_extension": ".py",
   "mimetype": "text/x-python",
   "name": "python",
   "nbconvert_exporter": "python",
   "pygments_lexer": "ipython3",
   "version": "3.8.8"
  }
 },
 "nbformat": 4,
 "nbformat_minor": 5
}
