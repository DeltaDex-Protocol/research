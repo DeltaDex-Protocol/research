{
 "cells": [
  {
   "cell_type": "code",
   "execution_count": 9,
   "id": "83d8d65a",
   "metadata": {},
   "outputs": [],
   "source": [
    "#!/usr/bin/env python\n",
    "\n",
    "from __future__ import division\n",
    "import os\n",
    "import math\n",
    "import re\n",
    "import sys\n",
    "\n"
   ]
  },
  {
   "cell_type": "code",
   "execution_count": null,
   "id": "7ca99718",
   "metadata": {},
   "outputs": [],
   "source": [
    "\n",
    "def re_replace_constant(string, typename, varname, value):\n",
    "    constant_re = re.compile(\n",
    "        r\"({} +constant +{} +=) +(.*);\".format(typename, varname)\n",
    "    )\n",
    "    match = constant_re.search(string)\n",
    "    if not match:\n",
    "        print(\n",
    "            \"ERROR: Could not match RE for '{}' during template generation.\".\n",
    "            format(varname)\n",
    "        )\n",
    "        sys.exit(1)\n",
    "\n",
    "    if match.groups()[1] == str(value):\n",
    "        # The value already exists in the source\n",
    "        return string\n",
    "\n",
    "    new_string = constant_re.sub(r\"\\1 {};\".format(str(value)), string)\n",
    "    return new_string"
   ]
  },
  {
   "cell_type": "code",
   "execution_count": 2,
   "id": "164fa91e",
   "metadata": {},
   "outputs": [],
   "source": [
    "def re_replace_constant_and_type(string, typename, varname, value):\n",
    "    constant_re = re.compile(\n",
    "        r\"( *)(.*) +constant +({}) += +(.*);\".format(varname)\n",
    "    )\n",
    "    match = constant_re.search(string)\n",
    "    if not match:\n",
    "        print(\n",
    "            \"ERROR: Could not match RE for '{}' during template generation.\".\n",
    "            format(varname)\n",
    "        )\n",
    "        sys.exit(1)\n",
    "\n",
    "    if match.groups()[1] == typename and match.groups()[3] == str(value):\n",
    "        # The variable already exists in the source as we want it\n",
    "        return string\n",
    "\n",
    "    new_string = constant_re.sub(\n",
    "        r\"\\1{} constant \\3 = {};\".format(typename, str(value)),\n",
    "        string\n",
    "    )\n",
    "    return new_string"
   ]
  },
  {
   "cell_type": "code",
   "execution_count": 3,
   "id": "5a8c01cd",
   "metadata": {},
   "outputs": [],
   "source": [
    "def re_replace_vardecl(string, typename, varname):\n",
    "    var_re = re.compile(\n",
    "        r\"( *)(uint.*) +({});\".format(varname)\n",
    "    )\n",
    "    match = var_re.search(string)\n",
    "    if not match:\n",
    "        print(\n",
    "            \"ERROR: Could not match RE for '{}' during template generation.\".\n",
    "            format(varname)\n",
    "        )\n",
    "        sys.exit(1)\n",
    "\n",
    "    if match.groups()[1] == typename:\n",
    "        # The variable already exists in the source as we want it\n",
    "        return string\n",
    "\n",
    "    new_string = var_re.sub(\n",
    "        r\"\\1{} {};\".format(typename, varname),\n",
    "        string\n",
    "    )\n",
    "    return new_string"
   ]
  },
  {
   "cell_type": "code",
   "execution_count": 4,
   "id": "dc5a09b8",
   "metadata": {},
   "outputs": [],
   "source": [
    "def re_replace_function_params(string, func_name, param_type):\n",
    "    func_re = re.compile(\n",
    "        r\"( *)function {}\\((.*?) *_angle\\)\".format(func_name)\n",
    "    )\n",
    "    match = func_re.search(string)\n",
    "    if not match:\n",
    "        print(\n",
    "            \"ERROR: Could not match function '{}' during template generation.\".\n",
    "            format(func_name)\n",
    "        )\n",
    "        sys.exit(1)\n",
    "\n",
    "    if match.groups()[1] == param_type:\n",
    "        # The type already exists in the source as we want it\n",
    "        return string\n",
    "\n",
    "    new_string = func_re.sub(\n",
    "        r\"\\1function {}({} _angle)\".format(func_name, param_type),\n",
    "        string\n",
    "    )\n",
    "    return new_string"
   ]
  },
  {
   "cell_type": "code",
   "execution_count": 5,
   "id": "76ce758d",
   "metadata": {},
   "outputs": [],
   "source": [
    "def re_replace_function_return(string, func_name, param_type):\n",
    "    func_re = re.compile(\n",
    "        r\"( *)function {}\\((.*)\\)(.*)returns *\\((.*?)\\)\".format(func_name)\n",
    "    )\n",
    "    match = func_re.search(string)\n",
    "    if not match:\n",
    "        print(\n",
    "            \"ERROR: Could not match function '{}' during template generation.\".\n",
    "            format(func_name)\n",
    "        )\n",
    "        sys.exit(1)\n",
    "\n",
    "    if match.groups()[3] == param_type:\n",
    "        # The type already exists in the source as we want it\n",
    "        return string\n",
    "\n",
    "    new_string = func_re.sub(\n",
    "        r\"\\1function {}(\\2)\\3returns ({})\".format(func_name, param_type),\n",
    "        string\n",
    "    )\n",
    "    return new_string\n"
   ]
  },
  {
   "cell_type": "code",
   "execution_count": 6,
   "id": "e62c59a4",
   "metadata": {},
   "outputs": [],
   "source": [
    "def re_replace_comments(string, number_of_bits):\n",
    "    angles_in_circle = 1 << (number_of_bits - 2)\n",
    "    amplitude = (1 << (number_of_bits - 1)) - 1\n",
    "    comment_re = re.compile(\n",
    "        r'( *)\\* @param _angle A (\\d+)-bit angle. This divides'\n",
    "        ' the circle into (\\d+)'\n",
    "    )\n",
    "    match = comment_re.search(string)\n",
    "    if not match:\n",
    "        print(\n",
    "            \"ERROR: Could not match angle comment during template generation.\"\n",
    "        )\n",
    "        sys.exit(1)\n",
    "    if (\n",
    "            int(match.groups()[1]) != number_of_bits - 2\n",
    "            or int(match.groups()[2]) == angles_in_circle\n",
    "    ):\n",
    "        new_string = comment_re.sub(\n",
    "            r'\\1* @param _angle A {}-bit angle. This divides'\n",
    "            'the circle into {}'.format(\n",
    "                str(number_of_bits - 2),\n",
    "                angles_in_circle\n",
    "            ),\n",
    "            string\n",
    "        )\n",
    "\n",
    "    string = new_string\n",
    "    comment_re = re.compile(\n",
    "        r'( *)\\* @return The sine result as a number in the range '\n",
    "        '-(\\d+) to (\\d+)'\n",
    "    )\n",
    "    if not match:\n",
    "        print(\n",
    "            \"ERROR: Could not match return comment during template generation.\"\n",
    "        )\n",
    "        sys.exit(1)\n",
    "    if (\n",
    "            int(match.groups()[1]) == amplitude\n",
    "            and int(match.groups()[2]) == amplitude\n",
    "    ):\n",
    "        # The comment already exists in the source as we want it\n",
    "        return string\n",
    "\n",
    "    new_string = comment_re.sub(\n",
    "        r'\\1* @return The sine result as a number '\n",
    "        'in the range -{} to {}'.format(\n",
    "            amplitude,\n",
    "            amplitude,\n",
    "        ),\n",
    "        string\n",
    "    )\n",
    "\n",
    "    return new_string"
   ]
  },
  {
   "cell_type": "code",
   "execution_count": 47,
   "id": "abf9f9e1",
   "metadata": {},
   "outputs": [],
   "source": [
    "def gen_sin_table(number_of_bits, table_size):\n",
    "    table = '\"'\n",
    "    number_of_bytes = int(number_of_bits / 8)\n",
    "    amplitude = (1 << (number_of_bits - 1)) - 1\n",
    "    print(amplitude)\n",
    "    return\n",
    "    for i in range(0, table_size):\n",
    "        radians = (i * (math.pi / 2)) / (table_size - 1)\n",
    "        sin_value = amplitude * math.sin(radians)\n",
    "        table_value = round(sin_value)\n",
    "        hex_value = \"{0:0{1}x}\".format(int(table_value), 2 * number_of_bytes)\n",
    "        table += '\\\\x' + '\\\\x'.join(\n",
    "            hex_value[i: i + 2] for i in range(0, len(hex_value), 2)\n",
    "        )\n",
    "    return table + '\"'"
   ]
  },
  {
   "cell_type": "code",
   "execution_count": 54,
   "id": "f4cfa1dd",
   "metadata": {},
   "outputs": [
    {
     "data": {
      "text/plain": [
       "32768"
      ]
     },
     "execution_count": 54,
     "metadata": {},
     "output_type": "execute_result"
    }
   ],
   "source": [
    "(1 << (number_of_bits - 1)) "
   ]
  },
  {
   "cell_type": "code",
   "execution_count": 48,
   "id": "b024c9bf",
   "metadata": {},
   "outputs": [
    {
     "name": "stdout",
     "output_type": "stream",
     "text": [
      "32767\n"
     ]
    }
   ],
   "source": [
    "gen_sin_table(16, (2 ** int(number_of_bits / 4)) + 1)"
   ]
  },
  {
   "cell_type": "code",
   "execution_count": 20,
   "id": "bce4b7ef",
   "metadata": {},
   "outputs": [
    {
     "data": {
      "text/plain": [
       "'0000000000000010'"
      ]
     },
     "execution_count": 20,
     "metadata": {},
     "output_type": "execute_result"
    }
   ],
   "source": [
    "f'{2:016b}'"
   ]
  },
  {
   "cell_type": "code",
   "execution_count": 35,
   "id": "ab8d030c",
   "metadata": {},
   "outputs": [
    {
     "data": {
      "text/plain": [
       "b'\\x00\\x01\\xffsd'"
      ]
     },
     "execution_count": 35,
     "metadata": {},
     "output_type": "execute_result"
    }
   ],
   "source": [
    "data = b'\\x00\\x01\\xffsd'\n",
    "data"
   ]
  },
  {
   "cell_type": "code",
   "execution_count": 45,
   "id": "74bb4ab1",
   "metadata": {
    "scrolled": true
   },
   "outputs": [
    {
     "ename": "UnicodeDecodeError",
     "evalue": "'utf-8' codec can't decode byte 0x8c in position 3: invalid start byte",
     "output_type": "error",
     "traceback": [
      "\u001b[0;31m---------------------------------------------------------------------------\u001b[0m",
      "\u001b[0;31mUnicodeDecodeError\u001b[0m                        Traceback (most recent call last)",
      "\u001b[0;32m<ipython-input-45-29845f972781>\u001b[0m in \u001b[0;36m<module>\u001b[0;34m\u001b[0m\n\u001b[1;32m      4\u001b[0m \u001b[0mbytes\u001b[0m \u001b[0;34m=\u001b[0m \u001b[0;34mb'\\x00\\x00\\x0c\\x8c\\x18\\xf9\\x25\\x28\\x30\\xfb\\x3c\\x56\\x47\\x1c\\x51\\x33\\x5a\\x82\\x62\\xf1\\x6a\\x6d\\x70\\xe2\\x76\\x41\\x7a\\x7c\\x7d\\x89\\x7f\\x61\\x7f\\xff'\u001b[0m\u001b[0;34m\u001b[0m\u001b[0;34m\u001b[0m\u001b[0m\n\u001b[1;32m      5\u001b[0m \u001b[0;31m# Using encoding scheme: UTF8\u001b[0m\u001b[0;34m\u001b[0m\u001b[0;34m\u001b[0m\u001b[0;34m\u001b[0m\u001b[0m\n\u001b[0;32m----> 6\u001b[0;31m \u001b[0mbytes\u001b[0m\u001b[0;34m=\u001b[0m \u001b[0mbytes\u001b[0m\u001b[0;34m.\u001b[0m\u001b[0mdecode\u001b[0m\u001b[0;34m(\u001b[0m\u001b[0;34m'utf8'\u001b[0m\u001b[0;34m)\u001b[0m\u001b[0;34m\u001b[0m\u001b[0;34m\u001b[0m\u001b[0m\n\u001b[0m\u001b[1;32m      7\u001b[0m \u001b[0;31m# Show results\u001b[0m\u001b[0;34m\u001b[0m\u001b[0;34m\u001b[0m\u001b[0;34m\u001b[0m\u001b[0m\n\u001b[1;32m      8\u001b[0m \u001b[0mprint\u001b[0m \u001b[0;34m(\u001b[0m\u001b[0;34m\"Decoded bytes: \"\u001b[0m \u001b[0;34m+\u001b[0m \u001b[0mbytes\u001b[0m\u001b[0;34m)\u001b[0m\u001b[0;34m\u001b[0m\u001b[0;34m\u001b[0m\u001b[0m\n",
      "\u001b[0;31mUnicodeDecodeError\u001b[0m: 'utf-8' codec can't decode byte 0x8c in position 3: invalid start byte"
     ]
    }
   ],
   "source": [
    "# String of encoded codes\n",
    "# For word EDPRESSO\n",
    "# bytes= b'\\\\x00\\\\x00\\\\x0c\\\\x8c\\\\x18\\\\xf9\\\\x25\\\\x28\\\\x30\\\\xfb\\\\x3c\\\\x56\\\\x47\\\\x1c\\\\x51\\\\x33\\\\x5a\\\\x82\\\\x62\\\\xf1\\\\x6a\\\\x6d\\\\x70\\\\xe2\\\\x76\\\\x41\\\\x7a\\\\x7c\\\\x7d\\\\x89\\\\x7f\\\\x61\\\\x7f\\\\xff'\n",
    "bytes = b'\\x00\\x00\\x0c\\x8c\\x18\\xf9\\x25\\x28\\x30\\xfb\\x3c\\x56\\x47\\x1c\\x51\\x33\\x5a\\x82\\x62\\xf1\\x6a\\x6d\\x70\\xe2\\x76\\x41\\x7a\\x7c\\x7d\\x89\\x7f\\x61\\x7f\\xff'\n",
    "# Using encoding scheme: UTF8\n",
    "bytes= bytes.decode('utf8')\n",
    "# Show results\n",
    "print (\"Decoded bytes: \" + bytes)"
   ]
  },
  {
   "cell_type": "code",
   "execution_count": 73,
   "id": "7828c0d9",
   "metadata": {},
   "outputs": [],
   "source": [
    "\n",
    "sin_table = b\"\\x00\\x00\\x0c\\x8c\\x18\\xf9\\x25\\x28\\x30\\xfb\\x3c\\x56\\x47\\x1c\\x51\\x33\\x5a\\x82\\x62\\xf1\\x6a\\x6d\\x70\\xe2\\x76\\x41\\x7a\\x7c\\x7d\\x89\\x7f\\x61\\x7f\\xff\"\n",
    "\n",
    "\n"
   ]
  },
  {
   "cell_type": "code",
   "execution_count": 101,
   "id": "25bb4f21",
   "metadata": {},
   "outputs": [
    {
     "ename": "ValueError",
     "evalue": "subsection not found",
     "output_type": "error",
     "traceback": [
      "\u001b[0;31m---------------------------------------------------------------------------\u001b[0m",
      "\u001b[0;31mValueError\u001b[0m                                Traceback (most recent call last)",
      "\u001b[0;32m<ipython-input-101-484bde59ffd5>\u001b[0m in \u001b[0;36m<module>\u001b[0;34m\u001b[0m\n\u001b[0;32m----> 1\u001b[0;31m \u001b[0msin_table\u001b[0m\u001b[0;34m.\u001b[0m\u001b[0mindex\u001b[0m\u001b[0;34m(\u001b[0m\u001b[0;36m11\u001b[0m\u001b[0;34m)\u001b[0m\u001b[0;34m\u001b[0m\u001b[0;34m\u001b[0m\u001b[0m\n\u001b[0m",
      "\u001b[0;31mValueError\u001b[0m: subsection not found"
     ]
    }
   ],
   "source": [
    "sin_table.index(11)"
   ]
  },
  {
   "cell_type": "code",
   "execution_count": 72,
   "id": "790dfbac",
   "metadata": {},
   "outputs": [
    {
     "data": {
      "text/plain": [
       "'0b101110001110'"
      ]
     },
     "execution_count": 72,
     "metadata": {},
     "output_type": "execute_result"
    }
   ],
   "source": [
    "bin(2958)"
   ]
  },
  {
   "cell_type": "code",
   "execution_count": 102,
   "id": "99419761",
   "metadata": {},
   "outputs": [
    {
     "data": {
      "text/plain": [
       "'0xb8e'"
      ]
     },
     "execution_count": 102,
     "metadata": {},
     "output_type": "execute_result"
    }
   ],
   "source": [
    "hex(2958)"
   ]
  },
  {
   "cell_type": "code",
   "execution_count": 71,
   "id": "153380b2",
   "metadata": {},
   "outputs": [
    {
     "data": {
      "text/plain": [
       "'0011'"
      ]
     },
     "execution_count": 71,
     "metadata": {},
     "output_type": "execute_result"
    }
   ],
   "source": [
    "(bin(2958)[8:12])"
   ]
  },
  {
   "cell_type": "code",
   "execution_count": null,
   "id": "78571683",
   "metadata": {},
   "outputs": [],
   "source": []
  },
  {
   "cell_type": "code",
   "execution_count": 64,
   "id": "66f69a7b",
   "metadata": {},
   "outputs": [],
   "source": [
    "import numpy as np"
   ]
  },
  {
   "cell_type": "code",
   "execution_count": 66,
   "id": "e6af6ea8",
   "metadata": {},
   "outputs": [
    {
     "data": {
      "text/plain": [
       "30.0"
      ]
     },
     "execution_count": 66,
     "metadata": {},
     "output_type": "execute_result"
    }
   ],
   "source": [
    "np.log2(1073741824)"
   ]
  },
  {
   "cell_type": "code",
   "execution_count": null,
   "id": "87c5b575",
   "metadata": {},
   "outputs": [],
   "source": []
  },
  {
   "cell_type": "code",
   "execution_count": null,
   "id": "8c4afc1c",
   "metadata": {},
   "outputs": [],
   "source": []
  },
  {
   "cell_type": "code",
   "execution_count": 8,
   "id": "841b1e9c",
   "metadata": {},
   "outputs": [],
   "source": [
    "def generate_trigonometry(number_of_bits, for_tests):\n",
    "    print(\"Generating the sin() lookup table ...\")\n",
    "    table_size = (2 ** int(number_of_bits / 4)) + 1\n",
    "    if number_of_bits % 8 != 0:\n",
    "        print(\"ERROR: Bits should be a multiple of 8\")\n",
    "        sys.exit(1)\n",
    "\n",
    "    path = os.path.join(\n",
    "        os.path.dirname(os.path.dirname(os.path.abspath(__file__))),\n",
    "        'contracts',\n",
    "        'trigonometry.sol'\n",
    "    )\n",
    "    with open(path) as f:\n",
    "        lines = f.read()\n",
    "\n",
    "    uint_type_name = 'uint' + str(number_of_bits)\n",
    "    lines = re_replace_constant(\n",
    "        lines,\n",
    "        'uint8',\n",
    "        'entry_bytes',\n",
    "        int(number_of_bits / 8)\n",
    "    )\n",
    "    lines = re_replace_constant(\n",
    "        lines,\n",
    "        'uint',\n",
    "        'INDEX_WIDTH',\n",
    "        int(number_of_bits / 4)\n",
    "    )\n",
    "    lines = re_replace_constant(\n",
    "        lines,\n",
    "        'uint',\n",
    "        'INTERP_WIDTH',\n",
    "        int(number_of_bits / 2)\n",
    "    )\n",
    "    lines = re_replace_constant(\n",
    "        lines,\n",
    "        'uint',\n",
    "        'INDEX_OFFSET',\n",
    "        '{} - INDEX_WIDTH'.format(number_of_bits - 4)\n",
    "    )\n",
    "    lines = re_replace_vardecl(lines, uint_type_name, 'trigint_value')\n",
    "    lines = re_replace_constant_and_type(\n",
    "        lines,\n",
    "        uint_type_name,\n",
    "        'ANGLES_IN_CYCLE',\n",
    "        1 << (number_of_bits - 2)\n",
    "    )\n",
    "    lines = re_replace_constant(\n",
    "        lines,\n",
    "        'uint',\n",
    "        'SINE_TABLE_SIZE',\n",
    "        table_size - 1\n",
    "    )\n",
    "    lines = re_replace_constant_and_type(\n",
    "        lines,\n",
    "        uint_type_name,\n",
    "        'QUADRANT_HIGH_MASK',\n",
    "        int(1 << (number_of_bits - 3))\n",
    "    )\n",
    "    lines = re_replace_constant_and_type(\n",
    "        lines,\n",
    "        uint_type_name,\n",
    "        'QUADRANT_LOW_MASK',\n",
    "        int(1 << (number_of_bits - 4))\n",
    "    )\n",
    "    lines = re_replace_constant(\n",
    "        lines,\n",
    "        'bytes',\n",
    "        'sin_table',\n",
    "        gen_sin_table(number_of_bits, table_size)\n",
    "    )\n",
    "    lines = re_replace_function_params(\n",
    "        lines,\n",
    "        'sin',\n",
    "        uint_type_name\n",
    "    )\n",
    "    lines = re_replace_function_params(\n",
    "        lines,\n",
    "        'cos',\n",
    "        uint_type_name\n",
    "    )\n",
    "    lines = re_replace_function_return(\n",
    "        lines,\n",
    "        'sin_table_lookup',\n",
    "        uint_type_name\n",
    "    )\n",
    "    lines = re_replace_comments(lines, number_of_bits)\n",
    "\n",
    "    if for_tests:\n",
    "        path = os.path.join(\n",
    "            os.path.dirname(os.path.dirname(os.path.abspath(__file__))),\n",
    "            'contracts',\n",
    "            'trigonometry_generated.sol'\n",
    "        )\n",
    "        lines = lines.replace(\n",
    "            'library Trigonometry',\n",
    "            'library TrigonometryGenerated'\n",
    "        )\n",
    "\n",
    "    with open(path, 'w') as f:\n",
    "        f.write(lines)"
   ]
  },
  {
   "cell_type": "code",
   "execution_count": 10,
   "id": "08994263",
   "metadata": {},
   "outputs": [
    {
     "name": "stdout",
     "output_type": "stream",
     "text": [
      "Generating the sin() lookup table ...\n"
     ]
    },
    {
     "ename": "NameError",
     "evalue": "name '__file__' is not defined",
     "output_type": "error",
     "traceback": [
      "\u001b[0;31m---------------------------------------------------------------------------\u001b[0m",
      "\u001b[0;31mNameError\u001b[0m                                 Traceback (most recent call last)",
      "\u001b[0;32m<ipython-input-10-9e0cf1cb0d11>\u001b[0m in \u001b[0;36m<module>\u001b[0;34m\u001b[0m\n\u001b[1;32m      1\u001b[0m \u001b[0;32mif\u001b[0m \u001b[0m__name__\u001b[0m \u001b[0;34m==\u001b[0m \u001b[0;34m'__main__'\u001b[0m\u001b[0;34m:\u001b[0m\u001b[0;34m\u001b[0m\u001b[0;34m\u001b[0m\u001b[0m\n\u001b[1;32m      2\u001b[0m     \u001b[0mnumber_of_bits\u001b[0m \u001b[0;34m=\u001b[0m \u001b[0;36m16\u001b[0m\u001b[0;34m\u001b[0m\u001b[0;34m\u001b[0m\u001b[0m\n\u001b[0;32m----> 3\u001b[0;31m     \u001b[0mgenerate_trigonometry\u001b[0m\u001b[0;34m(\u001b[0m\u001b[0mnumber_of_bits\u001b[0m\u001b[0;34m,\u001b[0m \u001b[0mfor_tests\u001b[0m\u001b[0;34m=\u001b[0m\u001b[0;32mFalse\u001b[0m\u001b[0;34m)\u001b[0m\u001b[0;34m\u001b[0m\u001b[0;34m\u001b[0m\u001b[0m\n\u001b[0m",
      "\u001b[0;32m<ipython-input-8-f28396e9979a>\u001b[0m in \u001b[0;36mgenerate_trigonometry\u001b[0;34m(number_of_bits, for_tests)\u001b[0m\n\u001b[1;32m      7\u001b[0m \u001b[0;34m\u001b[0m\u001b[0m\n\u001b[1;32m      8\u001b[0m     path = os.path.join(\n\u001b[0;32m----> 9\u001b[0;31m         \u001b[0mos\u001b[0m\u001b[0;34m.\u001b[0m\u001b[0mpath\u001b[0m\u001b[0;34m.\u001b[0m\u001b[0mdirname\u001b[0m\u001b[0;34m(\u001b[0m\u001b[0mos\u001b[0m\u001b[0;34m.\u001b[0m\u001b[0mpath\u001b[0m\u001b[0;34m.\u001b[0m\u001b[0mdirname\u001b[0m\u001b[0;34m(\u001b[0m\u001b[0mos\u001b[0m\u001b[0;34m.\u001b[0m\u001b[0mpath\u001b[0m\u001b[0;34m.\u001b[0m\u001b[0mabspath\u001b[0m\u001b[0;34m(\u001b[0m\u001b[0m__file__\u001b[0m\u001b[0;34m)\u001b[0m\u001b[0;34m)\u001b[0m\u001b[0;34m)\u001b[0m\u001b[0;34m,\u001b[0m\u001b[0;34m\u001b[0m\u001b[0;34m\u001b[0m\u001b[0m\n\u001b[0m\u001b[1;32m     10\u001b[0m         \u001b[0;34m'contracts'\u001b[0m\u001b[0;34m,\u001b[0m\u001b[0;34m\u001b[0m\u001b[0;34m\u001b[0m\u001b[0m\n\u001b[1;32m     11\u001b[0m         \u001b[0;34m'trigonometry.sol'\u001b[0m\u001b[0;34m\u001b[0m\u001b[0;34m\u001b[0m\u001b[0m\n",
      "\u001b[0;31mNameError\u001b[0m: name '__file__' is not defined"
     ]
    }
   ],
   "source": [
    "\n",
    "\n",
    "if __name__ == '__main__':\n",
    "    number_of_bits = 16\n",
    "    generate_trigonometry(number_of_bits, for_tests=False)"
   ]
  }
 ],
 "metadata": {
  "kernelspec": {
   "display_name": "Python 3",
   "language": "python",
   "name": "python3"
  },
  "language_info": {
   "codemirror_mode": {
    "name": "ipython",
    "version": 3
   },
   "file_extension": ".py",
   "mimetype": "text/x-python",
   "name": "python",
   "nbconvert_exporter": "python",
   "pygments_lexer": "ipython3",
   "version": "3.8.8"
  }
 },
 "nbformat": 4,
 "nbformat_minor": 5
}
