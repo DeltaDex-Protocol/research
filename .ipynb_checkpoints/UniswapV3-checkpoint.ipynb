{
 "cells": [
  {
   "cell_type": "code",
   "execution_count": 3,
   "id": "6e17e30e",
   "metadata": {},
   "outputs": [],
   "source": [
    "import numpy as np\n",
    "import matplotlib.pyplot as plt\n",
    "plt.style.use('ggplot')\n",
    "plt.rcParams['lines.linewidth'] = 1\n",
    "from scipy.stats import norm\n"
   ]
  },
  {
   "cell_type": "code",
   "execution_count": 4,
   "id": "930cdd0c",
   "metadata": {},
   "outputs": [],
   "source": [
    "def uniswapV3_TV(S, priceUpper, priceLower):\n",
    "    K = np.sqrt(priceUpper*priceLower)\n",
    "    r = np.sqrt(priceUpper/priceLower)\n",
    "    \n",
    "    return (2*np.sqrt(K*r*S) - K - S) / (r - 1)\n",
    "    "
   ]
  },
  {
   "cell_type": "code",
   "execution_count": 5,
   "id": "525c90bd",
   "metadata": {},
   "outputs": [],
   "source": [
    "params = {'priceUpper': 2000, 'priceLower': 900, 'current_price': 1000, 'x0': 500, 'T': 0.1, 'r':0.1, 'sigma':0.7}\n"
   ]
  },
  {
   "cell_type": "code",
   "execution_count": 6,
   "id": "7216cf2e",
   "metadata": {},
   "outputs": [],
   "source": [
    "priceUpper = params['priceUpper']\n",
    "priceLower = params['priceLower']\n",
    "current_price = params['current_price']\n",
    "\n",
    "initial_TV = params['x0'] * 2 # => we assume lowerPrice = current_price*0.5, upperPrice = current_price*2\n",
    "y0 = params['x0']/current_price\n",
    "T = params['T']\n",
    "r = params['r']\n",
    "sigma = params['sigma']\n"
   ]
  },
  {
   "cell_type": "code",
   "execution_count": 7,
   "id": "9e3f3d92",
   "metadata": {},
   "outputs": [
    {
     "data": {
      "text/plain": [
       "1000"
      ]
     },
     "execution_count": 7,
     "metadata": {},
     "output_type": "execute_result"
    }
   ],
   "source": [
    "initial_TV"
   ]
  },
  {
   "cell_type": "code",
   "execution_count": 8,
   "id": "789cc17b",
   "metadata": {},
   "outputs": [],
   "source": [
    "# amount of option contracts to protect initial_TV\n",
    "\n",
    "amount = uniswapV3_TV(priceLower, priceUpper, priceLower) / priceLower\n",
    "\n"
   ]
  },
  {
   "cell_type": "code",
   "execution_count": 9,
   "id": "2d64069a",
   "metadata": {},
   "outputs": [],
   "source": [
    "mid_prices = [price for price in range(priceLower, priceUpper, 1)]\n",
    "low_prices = list(range(0, priceLower+10, 10))\n",
    "high_prices = list(range(priceUpper, 3000, 10))\n",
    "hodl_eth = [x for x in low_prices]\n",
    "hodl_usdc = [np.sqrt(priceUpper*priceLower)] * len(high_prices)\n",
    "TVs = [uniswapV3_TV(price, priceUpper, priceLower) for price in mid_prices]"
   ]
  },
  {
   "cell_type": "code",
   "execution_count": 10,
   "id": "b3a087cc",
   "metadata": {},
   "outputs": [],
   "source": [
    "N = norm.cdf\n",
    "\n",
    "def BS_PUT(S, K, T, r, sigma):\n",
    "    d1 = (np.log(S/K) + (r + sigma**2/2)*T) / (sigma*np.sqrt(T))\n",
    "    d2 = d1 - sigma * np.sqrt(T)\n",
    "    return K * np.exp(-r*T)* N(-d2) - S * N(-d1)"
   ]
  },
  {
   "cell_type": "code",
   "execution_count": 11,
   "id": "54953a0a",
   "metadata": {},
   "outputs": [
    {
     "ename": "NameError",
     "evalue": "name 'all_prices' is not defined",
     "output_type": "error",
     "traceback": [
      "\u001b[0;31m---------------------------------------------------------------------------\u001b[0m",
      "\u001b[0;31mNameError\u001b[0m                                 Traceback (most recent call last)",
      "\u001b[0;32m<ipython-input-11-ec2a269ae883>\u001b[0m in \u001b[0;36m<module>\u001b[0;34m\u001b[0m\n\u001b[0;32m----> 1\u001b[0;31m \u001b[0mall_prices\u001b[0m\u001b[0;34m.\u001b[0m\u001b[0mindex\u001b[0m\u001b[0;34m(\u001b[0m\u001b[0mcurrent_price\u001b[0m\u001b[0;34m)\u001b[0m\u001b[0;34m\u001b[0m\u001b[0;34m\u001b[0m\u001b[0m\n\u001b[0m",
      "\u001b[0;31mNameError\u001b[0m: name 'all_prices' is not defined"
     ]
    }
   ],
   "source": [
    "all_prices.index(current_price)"
   ]
  },
  {
   "cell_type": "code",
   "execution_count": 12,
   "id": "6363175d",
   "metadata": {
    "scrolled": true
   },
   "outputs": [
    {
     "data": {
      "text/plain": [
       "[1341.640786499874,\n",
       " 1341.640786499874,\n",
       " 1341.640786499874,\n",
       " 1341.640786499874,\n",
       " 1341.640786499874,\n",
       " 1341.640786499874,\n",
       " 1341.640786499874,\n",
       " 1341.640786499874,\n",
       " 1341.640786499874,\n",
       " 1341.640786499874,\n",
       " 1341.640786499874,\n",
       " 1341.640786499874,\n",
       " 1341.640786499874,\n",
       " 1341.640786499874,\n",
       " 1341.640786499874,\n",
       " 1341.640786499874,\n",
       " 1341.640786499874,\n",
       " 1341.640786499874,\n",
       " 1341.640786499874,\n",
       " 1341.640786499874,\n",
       " 1341.640786499874,\n",
       " 1341.640786499874,\n",
       " 1341.640786499874,\n",
       " 1341.640786499874,\n",
       " 1341.640786499874,\n",
       " 1341.640786499874,\n",
       " 1341.640786499874,\n",
       " 1341.640786499874,\n",
       " 1341.640786499874,\n",
       " 1341.640786499874,\n",
       " 1341.640786499874,\n",
       " 1341.640786499874,\n",
       " 1341.640786499874,\n",
       " 1341.640786499874,\n",
       " 1341.640786499874,\n",
       " 1341.640786499874,\n",
       " 1341.640786499874,\n",
       " 1341.640786499874,\n",
       " 1341.640786499874,\n",
       " 1341.640786499874,\n",
       " 1341.640786499874,\n",
       " 1341.640786499874,\n",
       " 1341.640786499874,\n",
       " 1341.640786499874,\n",
       " 1341.640786499874,\n",
       " 1341.640786499874,\n",
       " 1341.640786499874,\n",
       " 1341.640786499874,\n",
       " 1341.640786499874,\n",
       " 1341.640786499874,\n",
       " 1341.640786499874,\n",
       " 1341.640786499874,\n",
       " 1341.640786499874,\n",
       " 1341.640786499874,\n",
       " 1341.640786499874,\n",
       " 1341.640786499874,\n",
       " 1341.640786499874,\n",
       " 1341.640786499874,\n",
       " 1341.640786499874,\n",
       " 1341.640786499874,\n",
       " 1341.640786499874,\n",
       " 1341.640786499874,\n",
       " 1341.640786499874,\n",
       " 1341.640786499874,\n",
       " 1341.640786499874,\n",
       " 1341.640786499874,\n",
       " 1341.640786499874,\n",
       " 1341.640786499874,\n",
       " 1341.640786499874,\n",
       " 1341.640786499874,\n",
       " 1341.640786499874,\n",
       " 1341.640786499874,\n",
       " 1341.640786499874,\n",
       " 1341.640786499874,\n",
       " 1341.640786499874,\n",
       " 1341.640786499874,\n",
       " 1341.640786499874,\n",
       " 1341.640786499874,\n",
       " 1341.640786499874,\n",
       " 1341.640786499874,\n",
       " 1341.640786499874,\n",
       " 1341.640786499874,\n",
       " 1341.640786499874,\n",
       " 1341.640786499874,\n",
       " 1341.640786499874,\n",
       " 1341.640786499874,\n",
       " 1341.640786499874,\n",
       " 1341.640786499874,\n",
       " 1341.640786499874,\n",
       " 1341.640786499874,\n",
       " 1341.640786499874,\n",
       " 1341.640786499874,\n",
       " 1341.640786499874,\n",
       " 1341.640786499874,\n",
       " 1341.640786499874,\n",
       " 1341.640786499874,\n",
       " 1341.640786499874,\n",
       " 1341.640786499874,\n",
       " 1341.640786499874,\n",
       " 1341.640786499874]"
      ]
     },
     "execution_count": 12,
     "metadata": {},
     "output_type": "execute_result"
    }
   ],
   "source": [
    "hodl_usdc"
   ]
  },
  {
   "cell_type": "code",
   "execution_count": 13,
   "id": "e11d00ec",
   "metadata": {
    "scrolled": true
   },
   "outputs": [
    {
     "data": {
      "text/plain": [
       "[<matplotlib.lines.Line2D at 0x7f892b046490>]"
      ]
     },
     "execution_count": 13,
     "metadata": {},
     "output_type": "execute_result"
    },
    {
     "data": {
      "image/png": "[encoded data removed]",
      "text/plain": [
       "<Figure size 432x288 with 1 Axes>"
      ]
     },
     "metadata": {},
     "output_type": "display_data"
    }
   ],
   "source": [
    "all_prices = low_prices + mid_prices + high_prices\n",
    "TV1 = [priceLower - BS_PUT(current_price, priceLower, T, r, sigma) for price in low_prices]\n",
    "TV2 = list(map(lambda x: x - BS_PUT(current_price, priceLower, T, r, sigma), hodl_usdc))\n",
    "_TV = TV1 + list(map(lambda x: x - BS_PUT(current_price, priceLower, T, r, sigma), TVs)) + TV2\n",
    "plt.plot(all_prices, _TV)"
   ]
  },
  {
   "cell_type": "code",
   "execution_count": 14,
   "id": "77c90665",
   "metadata": {},
   "outputs": [
    {
     "data": {
      "text/plain": [
       "39.85708089014361"
      ]
     },
     "execution_count": 14,
     "metadata": {},
     "output_type": "execute_result"
    }
   ],
   "source": [
    "BS_PUT(current_price, priceLower, T, r, sigma)"
   ]
  },
  {
   "cell_type": "code",
   "execution_count": null,
   "id": "329737c8",
   "metadata": {},
   "outputs": [],
   "source": []
  },
  {
   "cell_type": "code",
   "execution_count": 15,
   "id": "89502e96",
   "metadata": {},
   "outputs": [
    {
     "data": {
      "text/plain": [
       "<matplotlib.legend.Legend at 0x7f89180ad490>"
      ]
     },
     "execution_count": 15,
     "metadata": {},
     "output_type": "execute_result"
    },
    {
     "data": {
      "image/png": "[encoded data removed]",
      "text/plain": [
       "<Figure size 864x432 with 1 Axes>"
      ]
     },
     "metadata": {},
     "output_type": "display_data"
    }
   ],
   "source": [
    "fig, ax = plt.subplots()\n",
    "fig.set_figwidth(12)\n",
    "fig.set_figheight(6)\n",
    "ax.plot(mid_prices, TVs)\n",
    "ax.plot(low_prices, hodl_eth)\n",
    "ax.plot(high_prices, hodl_usdc)\n",
    "ax.plot(all_prices, _TV, 'g')\n",
    "# ax.set_ylim(ymax=1400)\n",
    "ax.set_title('Uniswap V3')\n",
    "ax.set_xlabel('eth price')\n",
    "ax.set_ylabel('Portfolio value in USD')\n",
    "ax.legend(['pure LP', 'pure LP', 'pure LP', 'LP + long put'])"
   ]
  },
  {
   "cell_type": "code",
   "execution_count": null,
   "id": "6c0b2004",
   "metadata": {},
   "outputs": [],
   "source": []
  },
  {
   "cell_type": "code",
   "execution_count": null,
   "id": "e34f843c",
   "metadata": {},
   "outputs": [],
   "source": []
  },
  {
   "cell_type": "code",
   "execution_count": null,
   "id": "eb5b8f4e",
   "metadata": {},
   "outputs": [],
   "source": []
  }
 ],
 "metadata": {
  "kernelspec": {
   "display_name": "my-conda-env-kernel",
   "language": "python",
   "name": "my-conda-env-kernel"
  },
  "language_info": {
   "codemirror_mode": {
    "name": "ipython",
    "version": 3
   },
   "file_extension": ".py",
   "mimetype": "text/x-python",
   "name": "python",
   "nbconvert_exporter": "python",
   "pygments_lexer": "ipython3",
   "version": "3.8.8"
  }
 },
 "nbformat": 4,
 "nbformat_minor": 5
}
