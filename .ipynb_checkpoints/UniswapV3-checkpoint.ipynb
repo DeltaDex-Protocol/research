{
 "cells": [
  {
   "cell_type": "code",
   "execution_count": 7,
   "id": "701559cf",
   "metadata": {},
   "outputs": [],
   "source": [
    "import numpy as np\n",
    "import matplotlib.pyplot as plt"
   ]
  },
  {
   "cell_type": "code",
   "execution_count": 2,
   "id": "4afd7d3d",
   "metadata": {},
   "outputs": [],
   "source": [
    "def uniswapV3_TV(S, priceUpper, priceLower):\n",
    "    K = np.sqrt(priceUpper*priceLower)\n",
    "    r = np.sqrt(priceUpper/priceLower)\n",
    "    \n",
    "    return (2*np.sqrt(K*r*S) - K - S) / (r - 1)\n",
    "    "
   ]
  },
  {
   "cell_type": "code",
   "execution_count": 32,
   "id": "c9cb966e",
   "metadata": {},
   "outputs": [],
   "source": [
    "params = {'priceUpper': 1200, 'priceLower': 900, 'x0': 500, 'y0': 0.4}"
   ]
  },
  {
   "cell_type": "code",
   "execution_count": 4,
   "id": "8e686ad0",
   "metadata": {},
   "outputs": [],
   "source": [
    "priceUpper = params['priceUpper']\n",
    "priceLower = params['priceLower']"
   ]
  },
  {
   "cell_type": "code",
   "execution_count": 34,
   "id": "8fa34506",
   "metadata": {},
   "outputs": [],
   "source": [
    "mid_prices = [price for price in range(priceLower, priceUpper, 1)]\n",
    "low_prices = list(range(0, priceLower+10, 10))\n",
    "hodl_eth = [x for x in low_prices]\n",
    "high_prices = list(range(priceUpper, 2000, 10))\n",
    "hodl_usdc = [uniswapV3_TV(priceUpper, priceUpper, priceLower)] * len(hodl_usdc)\n",
    "TVs = [uniswapV3_TV(price, priceUpper, priceLower) for price in mid_prices]"
   ]
  },
  {
   "cell_type": "code",
   "execution_count": 36,
   "id": "a31361f0",
   "metadata": {},
   "outputs": [
    {
     "name": "stdout",
     "output_type": "stream",
     "text": [
      "[<matplotlib.lines.Line2D object at 0x7fac515752b0>]\n",
      "[<matplotlib.lines.Line2D object at 0x7fac51575430>]\n",
      "[<matplotlib.lines.Line2D object at 0x7fac51577ca0>]\n"
     ]
    },
    {
     "data": {
      "text/plain": [
       "(-51.961524227066334, 1300.0)"
      ]
     },
     "execution_count": 36,
     "metadata": {},
     "output_type": "execute_result"
    },
    {
     "data": {
      "image/png": "[encoded data removed]",
      "text/plain": [
       "<Figure size 432x288 with 1 Axes>"
      ]
     },
     "metadata": {
      "needs_background": "light"
     },
     "output_type": "display_data"
    }
   ],
   "source": [
    "print(plt.plot(mid_prices, TVs))\n",
    "print(plt.plot(low_prices, hodl_eth))\n",
    "print(plt.plot(high_prices, hodl_usdc))\n",
    "plt.xlabel('eth price')\n",
    "plt.ylabel('TV')\n",
    "plt.ylim(ymax=1300)"
   ]
  },
  {
   "cell_type": "code",
   "execution_count": null,
   "id": "2edf27a7",
   "metadata": {},
   "outputs": [],
   "source": []
  },
  {
   "cell_type": "code",
   "execution_count": null,
   "id": "15c50726",
   "metadata": {},
   "outputs": [],
   "source": []
  },
  {
   "cell_type": "code",
   "execution_count": null,
   "id": "74591530",
   "metadata": {},
   "outputs": [],
   "source": []
  }
 ],
 "metadata": {
  "kernelspec": {
   "display_name": "Python 3",
   "language": "python",
   "name": "python3"
  },
  "language_info": {
   "codemirror_mode": {
    "name": "ipython",
    "version": 3
   },
   "file_extension": ".py",
   "mimetype": "text/x-python",
   "name": "python",
   "nbconvert_exporter": "python",
   "pygments_lexer": "ipython3",
   "version": "3.8.8"
  }
 },
 "nbformat": 4,
 "nbformat_minor": 5
}
