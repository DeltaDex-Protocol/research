{
 "cells": [
  {
   "cell_type": "code",
   "execution_count": 347,
   "id": "cd76a933-dcdf-4794-89ef-be4951cfd7ee",
   "metadata": {},
   "outputs": [],
   "source": [
    "import sqlite3\n",
    "import pandas as pd\n",
    "import numpy as np\n",
    "from scipy.stats import norm\n",
    "from scipy.optimize import minimize_scalar\n",
    "from datetime import datetime"
   ]
  },
  {
   "cell_type": "code",
   "execution_count": 2,
   "id": "7ddd918d-1083-495c-b123-899e8bae2583",
   "metadata": {},
   "outputs": [],
   "source": [
    "N = norm.cdf\n"
   ]
  },
  {
   "cell_type": "code",
   "execution_count": 3,
   "id": "bc5cee2a-c51e-42c3-bf9b-debe8fedbafc",
   "metadata": {},
   "outputs": [],
   "source": [
    "def read_from_db():\n",
    "    conn = sqlite3.connect('../../options_database.db')\n",
    "    df = pd.read_sql_query(\"SELECT * FROM options_table\", conn)\n",
    "    conn.close()\n",
    "    return df"
   ]
  },
  {
   "cell_type": "code",
   "execution_count": 4,
   "id": "ecb27032-567a-46f4-a632-038bf3f849b6",
   "metadata": {},
   "outputs": [],
   "source": [
    "df = read_from_db()"
   ]
  },
  {
   "cell_type": "code",
   "execution_count": 5,
   "id": "a78b0a5a-94ed-44e3-ba00-dd0f7216a132",
   "metadata": {},
   "outputs": [
    {
     "data": {
      "text/plain": [
       "610"
      ]
     },
     "execution_count": 5,
     "metadata": {},
     "output_type": "execute_result"
    }
   ],
   "source": [
    "len(df[(df.current_time == '2023-01-29 11:24:46.988931')])"
   ]
  },
  {
   "cell_type": "code",
   "execution_count": null,
   "id": "d5e511b6-301f-4562-859a-abc83a8b332e",
   "metadata": {},
   "outputs": [],
   "source": []
  },
  {
   "cell_type": "code",
   "execution_count": 18,
   "id": "b9419587-c2bb-470d-a07c-2e2a53ec4838",
   "metadata": {},
   "outputs": [],
   "source": [
    "def delta_BS_put(S, K, T, r, sigma):\n",
    "    d1 = (np.log(S/K) + (r + sigma**2/2)*T) / (sigma*np.sqrt(T))\n",
    "    return N(d1) - 1\n",
    "\n",
    "def delta_BS_call(S, K, T, r, sigma):\n",
    "    d1 = (np.log(S/K) + (r + sigma**2/2)*T) / (sigma*np.sqrt(T))\n",
    "    return N(d1)\n",
    "\n",
    "def BS_CALL(S, K, T, r, sigma):\n",
    "    d1 = (np.log(S/K) + (r + sigma**2/2)*T) / (sigma*np.sqrt(T))\n",
    "    d2 = d1 - sigma * np.sqrt(T)\n",
    "#     print(d1, d2)\n",
    "    return S * N(d1) - K * np.exp(-r*T)* N(d2)\n",
    "\n",
    "def BS_PUT(S, K, T, r, sigma):\n",
    "    d1 = (np.log(S/K) + (r + sigma**2/2)*T) / (sigma*np.sqrt(T))\n",
    "    d2 = d1 - sigma * np.sqrt(T)\n",
    "    return K * np.exp(-r*T)* N(-d2) - S * N(-d1)"
   ]
  },
  {
   "cell_type": "code",
   "execution_count": 19,
   "id": "926aa884-9933-4901-8121-5a2909c5cabb",
   "metadata": {},
   "outputs": [
    {
     "data": {
      "text/plain": [
       "3.989422810946053e-05"
      ]
     },
     "execution_count": 19,
     "metadata": {},
     "output_type": "execute_result"
    }
   ],
   "source": [
    "BS_PUT(1000, 1000, 1, 0, 0.0000001)"
   ]
  },
  {
   "cell_type": "code",
   "execution_count": 20,
   "id": "d767e0a9-1f21-4bab-8ca3-4b3a190a2e55",
   "metadata": {},
   "outputs": [],
   "source": [
    "def get_timedelta_in_years(timedelta):\n",
    "    d = timedelta.days / (365.25)\n",
    "    s = timedelta.seconds / (365.25*24*60*60)\n",
    "    return d + s"
   ]
  },
  {
   "cell_type": "code",
   "execution_count": 93,
   "id": "504a8eba-0671-4eca-942c-0142cd1f1eb8",
   "metadata": {},
   "outputs": [
    {
     "data": {
      "text/plain": [
       "nan"
      ]
     },
     "execution_count": 93,
     "metadata": {},
     "output_type": "execute_result"
    }
   ],
   "source": [
    "(float(df['ask_IV'].iloc[100]))"
   ]
  },
  {
   "cell_type": "code",
   "execution_count": 408,
   "id": "490fd9bc-7e1f-46c0-9358-a83f8e7f83a3",
   "metadata": {},
   "outputs": [],
   "source": [
    "def preprocessing(option_name, option_type):\n",
    "    \n",
    "    r = 0.1\n",
    "    \n",
    "    selected_option = (df[(df.full_name == option_name)][df.current_time > '2023-01-04'][df.type == option_type])\n",
    "    selected_option['timedelta'] = selected_option.apply(lambda x: get_timedelta_in_years(datetime.fromisoformat(x['expiry']) - datetime.fromisoformat(x['current_time'])), axis=1).astype(float)\n",
    "    \n",
    "    \n",
    "    selected_option['mid_price'] = selected_option['mid_price'].fillna(0)\n",
    "    selected_option['ask_price'] = selected_option['ask_price'].fillna(0)\n",
    "    selected_option['bid_price'] = selected_option['bid_price'].fillna(0)\n",
    "    selected_option['strike'] = selected_option['strike'].astype(float)\n",
    "    # selected_option['mid_IV'] = selected_option['mid_IV'].fillna(0.001)\n",
    "    \n",
    "    \n",
    "    filtered = selected_option.loc[\n",
    "                            # (selected_option.bid_IV > 0) & (selected_option.bid_IV < 10) & \n",
    "                            # (selected_option.ask_IV > 0) & (selected_option.ask_IV < 10) &\n",
    "                            (selected_option.timedelta > 0) &\n",
    "                            (selected_option.mid_IV > 0) & (selected_option.mid_IV < 10)]\n",
    "    \n",
    "    # def fix_miv_IV(row):\n",
    "    #     if row.bid_IV > 0 and row.bid_IV < 10:\n",
    "    #         if row.ask_IV > 0 and row.ask_IV < 10:\n",
    "    #             if row.mid_IV > 10 or row.mid_IV < 0 or type(row.mid_IV)\n",
    "    \n",
    "    \n",
    "    \n",
    "    # (selected_option.bid_IV < 10) & \n",
    "    #                                (selected_option.ask_IV < 10) &\n",
    "    #                                (selected_option.mid_IV < 10) &\n",
    "    \n",
    "    # filtered = selected_option.loc[\n",
    "    #                                (selected_option.timedelta > 0)]\n",
    "    \n",
    "    \n",
    "    if option_type == 'put':\n",
    "        filtered['BS_delta'] = delta_BS_put(filtered.underlying_price, filtered.strike, filtered.timedelta, r, filtered.mid_IV)\n",
    "    elif option_type == 'call':\n",
    "        filtered['BS_delta'] = delta_BS_call(filtered.underlying_price, filtered.strike, filtered.timedelta, r, filtered.mid_IV)\n",
    "    \n",
    "    filtered.index = np.arange(1, len(filtered)+1)\n",
    "    \n",
    "    return filtered\n",
    "\n"
   ]
  },
  {
   "cell_type": "code",
   "execution_count": null,
   "id": "61ffc87e-954c-4a7a-839c-9b526f830f3d",
   "metadata": {},
   "outputs": [],
   "source": []
  },
  {
   "cell_type": "code",
   "execution_count": 409,
   "id": "717cb84d-4f04-4aa4-9cbe-285e7ff36659",
   "metadata": {},
   "outputs": [],
   "source": [
    "swap_fee = 0.05 / 100\n",
    "tx_cost = 0.1 # in usdc\n",
    "\n",
    "def backtest(df):\n",
    "    global swap_fee, tx_cost\n",
    "    \n",
    "    asset = 0  \n",
    "    initial_usdc = 0\n",
    "    usdc = initial_usdc\n",
    "    prev_asset = asset\n",
    "    \n",
    "    total_swap_fees = 0\n",
    "    total_tx_costs = 0\n",
    "\n",
    "    for i in range(len(df)):\n",
    "        prev_asset = asset\n",
    "        asset = df['BS_delta'].iloc[i]\n",
    "        usdc = usdc - (asset - prev_asset) * df['underlying_price'].iloc[i] * (1 + swap_fee) - tx_cost\n",
    "        \n",
    "        total_swap_fees += abs(swap_fee * (asset - prev_asset)) * df['underlying_price'].iloc[i] \n",
    "        total_tx_costs += tx_cost\n",
    "    \n",
    "    print(\"total_swap_fees: {}, total_tx_costs: {}\".format(total_swap_fees, total_tx_costs))\n",
    "    return asset*df['underlying_price'].iloc[-1] + usdc - initial_usdc"
   ]
  },
  {
   "cell_type": "code",
   "execution_count": 410,
   "id": "f5a7acbd-fbf3-45db-b6a0-2ce56981fa2d",
   "metadata": {},
   "outputs": [],
   "source": [
    "# datetime.strptime(selected_put.iloc[5]['expiry'], \"%Y %m %d %I:%M%p\")\n",
    "# get_timedelta_in_years(datetime.fromisoformat(selected_put.iloc[5]['expiry']) - datetime.fromisoformat(selected_put.iloc[5]['current_time']))\n"
   ]
  },
  {
   "cell_type": "code",
   "execution_count": 411,
   "id": "a5e6fd28-f580-440b-8d71-a4b72229db92",
   "metadata": {},
   "outputs": [],
   "source": [
    "def calculate_option_PnL(init_underlying_price, final_underlying_price, \n",
    "                         strike, init_option_price_in_underlying, final_option_price_in_underlying):\n",
    "    \n",
    "    PnL = final_option_price_in_underlying * final_underlying_price - init_option_price_in_underlying * init_underlying_price\n",
    "    return PnL\n"
   ]
  },
  {
   "cell_type": "code",
   "execution_count": 412,
   "id": "c6941208-5944-4118-b572-c4aa6b4f7f78",
   "metadata": {},
   "outputs": [],
   "source": [
    "# def test(option_name):\n",
    "#     filtered = preprocessing(option_name = option_name, option_type = 'put')\n",
    "#     # print(filtered['current_time'].iloc[0])\n",
    "#     return filtered\n",
    "    \n",
    "#     replicated_pnl = backtest(filtered[filtered.index % 10 == 0])\n",
    "    \n",
    "#     option_price = filtered['mid_price'].iloc[0] * filtered['underlying_price'].iloc[0]\n",
    "\n",
    "#     price_on_expiry = filtered['underlying_price'].iloc[-1]\n",
    "    \n",
    "#     pnl = calculate_option_PnL(filtered['underlying_price'].iloc[-1], filtered['strike'].iloc[-1], filtered['mid_price'].iloc[0])\n",
    "\n",
    "    \n",
    "#     return (replicated_pnl, pnl, price_on_expiry)"
   ]
  },
  {
   "cell_type": "code",
   "execution_count": 413,
   "id": "93cb5c37-9cba-4807-980a-f6534e471ed5",
   "metadata": {},
   "outputs": [],
   "source": [
    "# (test('ETH-24FEB23-1400'))\n",
    "# t[t['BS_delta'] < -1]"
   ]
  },
  {
   "cell_type": "code",
   "execution_count": 414,
   "id": "a7de74eb-be89-4425-99e0-e9ff9bdb7365",
   "metadata": {},
   "outputs": [],
   "source": [
    "# def get_max_option_pnl(option_names):\n",
    "#     max_pnl = -np.inf\n",
    "#     for option_name in option_names:\n",
    "#         filtered = preprocessing(option_name = option_name, option_type = 'put')\n",
    "#         option_price = filtered['mid_price'].iloc[0] * filtered['underlying_price'].iloc[0]\n",
    "#         price_on_expiry = filtered['underlying_price'].iloc[-1]\n",
    "#         pnl = calculate_option_PnL(filtered['underlying_price'].iloc[-1], filtered['strike'].iloc[0], \n",
    "#                                filtered['mid_price'].iloc[0], filtered['mid_price'].iloc[-1])\n",
    "        \n",
    "#         if abs(pnl) > max_pnl:\n",
    "#             max_pnl = abs(pnl)\n",
    "    \n",
    "#     return max_pnl\n",
    "    "
   ]
  },
  {
   "cell_type": "code",
   "execution_count": 415,
   "id": "6c20e267-b87e-487f-83fb-4a37b8bddb4f",
   "metadata": {},
   "outputs": [],
   "source": [
    "# df[df.index % 10 == 0]"
   ]
  },
  {
   "cell_type": "code",
   "execution_count": 416,
   "id": "2c9f0b77-25e1-4e4f-86bd-39943efee5b6",
   "metadata": {},
   "outputs": [
    {
     "data": {
      "text/plain": [
       "1098993"
      ]
     },
     "execution_count": 416,
     "metadata": {},
     "output_type": "execute_result"
    }
   ],
   "source": [
    "len(df.index)-1"
   ]
  },
  {
   "cell_type": "code",
   "execution_count": 417,
   "id": "2d56a5d0-40bf-45ac-842c-f6500f585fc3",
   "metadata": {},
   "outputs": [],
   "source": [
    "# option_name"
   ]
  },
  {
   "cell_type": "code",
   "execution_count": 418,
   "id": "281a8aa6-e376-4826-b676-7922564a2fff",
   "metadata": {},
   "outputs": [],
   "source": [
    "# df.full_name.drop_duplicates().to_numpy()"
   ]
  },
  {
   "cell_type": "code",
   "execution_count": 419,
   "id": "cd70a038-6171-41d5-8d79-b15db674f459",
   "metadata": {},
   "outputs": [],
   "source": [
    "# preprocessing(option_name = 'ETH-27JAN23-1200', option_type = 'call').fillna(0)"
   ]
  },
  {
   "cell_type": "markdown",
   "id": "dd83ae8c-2167-4831-bf43-0c193c4efc10",
   "metadata": {},
   "source": [
    "## Performace\n",
    "\n",
    "<!-- We cannot just say that performance = replicated_pnl / option_pnl, because sometimes replicated pnl is positive but option_pnl is negative. So the performance calculates as follows:\n",
    "\n",
    "$$P = \\frac{replicated\\:pnl + \\Delta}{option\\:pnl + \\Delta}$$\n",
    "\n",
    "where\n",
    "\n",
    "$$\\Delta =  2 \\cdot \\max \\{abs(replicated\\:pnl),\\: abs(option\\: pnl)\\} $$ -->\n",
    "\n",
    "\n",
    "#### currently: P = (replicated_pnl / pnl) if both positive and $P^{-1}$ if both negative"
   ]
  },
  {
   "cell_type": "code",
   "execution_count": 420,
   "id": "fca48bb5-10cd-4197-8754-e11c637930e8",
   "metadata": {},
   "outputs": [],
   "source": [
    "def performance(option_name, option_type):\n",
    "    \n",
    "    filtered = preprocessing(option_name = option_name, option_type = option_type)\n",
    "    filtered = filtered[(filtered.index == len(filtered.index) - 1) | (filtered.index % 18 == 0)]\n",
    "    replicated_pnl = backtest(filtered)\n",
    "    \n",
    "    init_option_price = filtered['mid_price'].iloc[0] * filtered['underlying_price'].iloc[0]\n",
    "\n",
    "    final_option_price = filtered['mid_price'].iloc[-1] * filtered['underlying_price'].iloc[-1]\n",
    "    \n",
    "    initial_price = filtered['underlying_price'].iloc[0]\n",
    "\n",
    "    pnl = calculate_option_PnL(filtered['underlying_price'].iloc[0], filtered['underlying_price'].iloc[-1], filtered['strike'].iloc[0], \n",
    "                               filtered['mid_price'].iloc[0], filtered['mid_price'].iloc[-1])\n",
    "    # print('------')\n",
    "    print('option_name:', option_name)\n",
    "    print('average time between replications (hrs): {}'.format(get_timedelta_in_years(datetime.fromisoformat(filtered['current_time'].iloc[-1]) - datetime.fromisoformat(filtered['current_time'].iloc[0])) / len(filtered['current_time']) * 365 * 24))\n",
    "    print('start time:', filtered['current_time'].iloc[0])\n",
    "    print('init_option_price: {}, final_option_price: {}'.format(init_option_price, final_option_price))\n",
    "    print(\"rep_pnl: {}, initial_price: {}, pnl: {}\".format(replicated_pnl, initial_price, pnl))\n",
    "    print('------')\n",
    "\n",
    "    # shift = 2 * max(abs(replicated_pnl), abs(pnl))\n",
    "    \n",
    "    # if pnl > 0:\n",
    "    #     if replicated_pnl > 0:\n",
    "\n",
    "    #     else:\n",
    "    #         return \n",
    "    # else:\n",
    "    #     if replicated_pnl > 0:\n",
    "    #         return (replicated_pnl + pnl) / pnl\n",
    "    #     else:\n",
    "    #         return pnl / replicated_pnl\n",
    "    \n",
    "    \n",
    "    if replicated_pnl < 0 and pnl < 0:\n",
    "        return [option_name, pnl / replicated_pnl]\n",
    "    else:\n",
    "        return [option_name, replicated_pnl / pnl]\n",
    "    \n",
    "    # return [option_name, (replicated_pnl + shift) / (pnl + shift)]\n"
   ]
  },
  {
   "cell_type": "code",
   "execution_count": 421,
   "id": "d0defad6-f715-4d23-b1d1-f096ed71b51a",
   "metadata": {},
   "outputs": [],
   "source": [
    "# df.full_name.drop_duplicates().to_numpy()"
   ]
  },
  {
   "cell_type": "code",
   "execution_count": 422,
   "id": "a8096139-6ffd-4c4e-82f9-ebbf453e59d1",
   "metadata": {},
   "outputs": [],
   "source": [
    "options_names = ['ETH-27JAN23-1000', 'ETH-27JAN23-1100', 'ETH-27JAN23-1200', 'ETH-27JAN23-1300', 'ETH-27JAN23-1400', 'ETH-27JAN23-1500', 'ETH-27JAN23-1600', 'ETH-27JAN23-1700']\n",
    "\n",
    "options_names = options_names + ['ETH-24FEB23-1000', 'ETH-24FEB23-1100', 'ETH-24FEB23-1200', 'ETH-24FEB23-1300', 'ETH-24FEB23-1400',\n",
    "                'ETH-24FEB23-1500', 'ETH-24FEB23-1600', 'ETH-24FEB23-1700']\n",
    "\n",
    "options_names = options_names + ['ETH-31MAR23-1000', 'ETH-31MAR23-1100', 'ETH-31MAR23-1200', 'ETH-31MAR23-1300', 'ETH-31MAR23-1400',\n",
    "                'ETH-31MAR23-1500', 'ETH-31MAR23-1600', 'ETH-31MAR23-1700']\n"
   ]
  },
  {
   "cell_type": "code",
   "execution_count": 423,
   "id": "f76a294d-074e-442e-a797-9d933d07cf79",
   "metadata": {},
   "outputs": [],
   "source": [
    "# datetime.strptime('Jun 1 2005', '%b %d %Y').date()"
   ]
  },
  {
   "cell_type": "code",
   "execution_count": 424,
   "id": "8be34b2c-f4b0-46bd-ad4e-1d63c5067cb3",
   "metadata": {},
   "outputs": [],
   "source": [
    "# df['expiry']"
   ]
  },
  {
   "cell_type": "code",
   "execution_count": 425,
   "id": "a2636379-982a-43c6-b395-04aafada10b1",
   "metadata": {},
   "outputs": [],
   "source": [
    "# lambda x: get_timedelta_in_years(datetime.fromisoformat(x['expiry']) - datetime.fromisoformat(x['current_time'])), axis=1)"
   ]
  },
  {
   "cell_type": "code",
   "execution_count": 426,
   "id": "c7ced216-2280-4bf0-98ac-048aea594ac4",
   "metadata": {},
   "outputs": [],
   "source": [
    "# datetime.fromisoformat(df['expiry']) - datetime.strptime('Jun 1 2005', '%b %d %Y').date()"
   ]
  },
  {
   "cell_type": "code",
   "execution_count": 427,
   "id": "34511e3a-ab6c-473f-a1b8-075bcec5a9ef",
   "metadata": {},
   "outputs": [],
   "source": [
    "# options_names = list(filter(lambda x: int(x.split('-')[2]) > 900 and int(x.split('-')[2]) < 1700 and x.split('-')[1] != '4JAN23' , df[df['']]['full_name'].drop_duplicates()))\n",
    "\n",
    "\n"
   ]
  },
  {
   "cell_type": "code",
   "execution_count": 428,
   "id": "5e731bb2-14c3-4330-b401-fec1fd438848",
   "metadata": {},
   "outputs": [],
   "source": [
    "# shift = get_max_option_pnl(options_names)"
   ]
  },
  {
   "cell_type": "code",
   "execution_count": 429,
   "id": "4083c135-a726-4679-b878-24f8c2f49a53",
   "metadata": {},
   "outputs": [],
   "source": [
    "# shift"
   ]
  },
  {
   "cell_type": "code",
   "execution_count": 430,
   "id": "3d5e9cfa-0fec-4b7e-ad0e-21f9beebc936",
   "metadata": {},
   "outputs": [],
   "source": [
    "import warnings\n",
    "warnings.filterwarnings(\"ignore\")"
   ]
  },
  {
   "cell_type": "code",
   "execution_count": 456,
   "id": "280031f0-76b0-4a57-82df-abff9bbf0ccb",
   "metadata": {},
   "outputs": [
    {
     "name": "stdout",
     "output_type": "stream",
     "text": [
      "ETH-27JAN23-1000\n",
      "total_swap_fees: 0.14819324916806795, total_tx_costs: 6.399999999999993\n",
      "option_name: ETH-27JAN23-1000\n",
      "average time between replications (hrs): 5.718860749866909\n",
      "start time: 2023-01-04 07:17:27.002615\n",
      "init_option_price: 9.0799, final_option_price: 1.1418675\n",
      "rep_pnl: -16.463947043545602, initial_price: 1252.4, pnl: -7.9380325\n",
      "------\n",
      "ETH-27JAN23-1100\n",
      "total_swap_fees: 0.3217011493302473, total_tx_costs: 6.799999999999992\n",
      "option_name: ETH-27JAN23-1100\n",
      "average time between replications (hrs): 5.729453984422881\n",
      "start time: 2023-01-04 07:17:27.002615\n",
      "init_option_price: 18.4729, final_option_price: 1.16259\n",
      "rep_pnl: -28.983092917306216, initial_price: 1252.4, pnl: -17.310309999999998\n",
      "------\n",
      "ETH-27JAN23-1200\n",
      "total_swap_fees: 0.690141369005161, total_tx_costs: 6.8999999999999915\n",
      "option_name: ETH-27JAN23-1200\n",
      "average time between replications (hrs): 7.257605526843392\n",
      "start time: 2023-01-04 07:17:27.002615\n",
      "init_option_price: 42.58160000000001, final_option_price: 1.152285\n",
      "rep_pnl: -54.964256409308106, initial_price: 1252.4, pnl: -41.42931500000001\n",
      "------\n",
      "ETH-27JAN23-1300\n",
      "total_swap_fees: 1.2136769837011607, total_tx_costs: 7.599999999999989\n",
      "option_name: ETH-27JAN23-1300\n",
      "average time between replications (hrs): 6.672217268873759\n",
      "start time: 2023-01-04 07:17:27.002615\n",
      "init_option_price: 91.1121, final_option_price: 1.1670749999999999\n",
      "rep_pnl: -108.83790329910852, initial_price: 1252.4, pnl: -89.945025\n",
      "------\n",
      "ETH-27JAN23-1400\n",
      "total_swap_fees: 2.004463745900596, total_tx_costs: 8.099999999999987\n",
      "option_name: ETH-27JAN23-1400\n",
      "average time between replications (hrs): 6.475660637949279\n",
      "start time: 2023-01-04 07:17:27.002615\n",
      "init_option_price: 165.943, final_option_price: 1.2187275\n",
      "rep_pnl: -181.98812478217303, initial_price: 1252.4, pnl: -164.7242725\n",
      "------\n",
      "ETH-27JAN23-1500\n",
      "total_swap_fees: 2.1792986432965673, total_tx_costs: 5.4999999999999964\n",
      "option_name: ETH-27JAN23-1500\n",
      "average time between replications (hrs): 7.656886870069622\n",
      "start time: 2023-01-09 08:29:14.101997\n",
      "init_option_price: 421.03024999999997, final_option_price: 1.19982\n",
      "rep_pnl: -188.56163825323827, initial_price: 1310.6, pnl: -419.83043\n",
      "------\n",
      "ETH-27JAN23-1600\n",
      "total_swap_fees: 2.53893576335322, total_tx_costs: 4.5\n",
      "option_name: ETH-27JAN23-1600\n",
      "average time between replications (hrs): 6.8696897947456925\n",
      "start time: 2023-01-14 01:49:17.039374\n",
      "init_option_price: 375.345715, final_option_price: 12.029175\n",
      "rep_pnl: -151.36268928544126, initial_price: 1453.42, pnl: -363.31654\n",
      "------\n",
      "ETH-27JAN23-1700\n",
      "total_swap_fees: 1.7633984982169908, total_tx_costs: 2.3000000000000007\n",
      "option_name: ETH-27JAN23-1700\n",
      "average time between replications (hrs): 10.990431244564803\n",
      "start time: 2023-01-15 08:55:06.071746\n",
      "init_option_price: 378.745335, final_option_price: 423.92168749999996\n",
      "rep_pnl: -24.77611599447357, initial_price: 1528.74, pnl: 45.17635249999995\n",
      "------\n",
      "ETH-24FEB23-1000\n",
      "total_swap_fees: 0.33201517081990456, total_tx_costs: 10.999999999999977\n",
      "option_name: ETH-24FEB23-1000\n",
      "average time between replications (hrs): 5.974402892719114\n",
      "start time: 2023-01-04 07:17:27.002615\n",
      "init_option_price: 32.55122, final_option_price: 3.57372\n",
      "rep_pnl: -41.220487044903386, initial_price: 1251.97, pnl: -28.9775\n",
      "------\n",
      "ETH-24FEB23-1100\n",
      "total_swap_fees: 0.536754126587444, total_tx_costs: 10.999999999999977\n",
      "option_name: ETH-24FEB23-1100\n",
      "average time between replications (hrs): 5.974402892719114\n",
      "start time: 2023-01-04 07:17:27.002615\n",
      "init_option_price: 53.20702500000001, final_option_price: 5.9562\n",
      "rep_pnl: -60.31519546919346, initial_price: 1251.93, pnl: -47.250825000000006\n",
      "------\n",
      "ETH-24FEB23-1200\n",
      "total_swap_fees: 0.8193131000462983, total_tx_costs: 10.999999999999977\n",
      "option_name: ETH-24FEB23-1200\n",
      "average time between replications (hrs): 5.974402892719114\n",
      "start time: 2023-01-04 07:17:27.002615\n",
      "init_option_price: 87.00913500000001, final_option_price: 9.927\n",
      "rep_pnl: -90.26031886686096, initial_price: 1251.93, pnl: -77.08213500000002\n",
      "------\n",
      "ETH-24FEB23-1300\n",
      "total_swap_fees: 1.1934029041097372, total_tx_costs: 10.999999999999977\n",
      "option_name: ETH-24FEB23-1300\n",
      "average time between replications (hrs): 5.974402892719114\n",
      "start time: 2023-01-04 07:17:27.002615\n",
      "init_option_price: 135.21276, final_option_price: 17.471519999999998\n",
      "rep_pnl: -132.158752563927, initial_price: 1251.97, pnl: -117.74124\n",
      "------\n",
      "ETH-24FEB23-1400\n",
      "total_swap_fees: 1.5717707004430483, total_tx_costs: 10.999999999999977\n",
      "option_name: ETH-24FEB23-1400\n",
      "average time between replications (hrs): 5.974402892719114\n",
      "start time: 2023-01-04 07:17:27.002615\n",
      "init_option_price: 200.3152, final_option_price: 32.16348\n",
      "rep_pnl: -181.8221397915223, initial_price: 1251.97, pnl: -168.15172\n",
      "------\n",
      "ETH-24FEB23-1500\n",
      "total_swap_fees: 1.848603485962644, total_tx_costs: 9.799999999999981\n",
      "option_name: ETH-24FEB23-1500\n",
      "average time between replications (hrs): 6.585506385990399\n",
      "start time: 2023-01-04 19:06:13.390023\n",
      "init_option_price: 266.01124, final_option_price: 59.164919999999995\n",
      "rep_pnl: -225.76292023319724, initial_price: 1254.77, pnl: -206.84632\n",
      "------\n",
      "ETH-24FEB23-1600\n",
      "total_swap_fees: 1.766575536014601, total_tx_costs: 8.099999999999987\n",
      "option_name: ETH-24FEB23-1600\n",
      "average time between replications (hrs): 6.15004347136195\n",
      "start time: 2023-01-10 22:25:49.537245\n",
      "init_option_price: 289.06185, final_option_price: 103.2408\n",
      "rep_pnl: -193.4443125198111, initial_price: 1339.8, pnl: -185.82105\n",
      "------\n",
      "ETH-24FEB23-1700\n",
      "total_swap_fees: 1.8025851132320436, total_tx_costs: 5.799999999999995\n",
      "option_name: ETH-24FEB23-1700\n",
      "average time between replications (hrs): 7.630626034233623\n",
      "start time: 2023-01-13 06:02:45.143891\n",
      "init_option_price: 323.28582, final_option_price: 166.7736\n",
      "rep_pnl: -169.17780651871726, initial_price: 1407.12, pnl: -156.51222\n",
      "------\n",
      "ETH-31MAR23-1000\n",
      "total_swap_fees: 0.3924468083973376, total_tx_costs: 10.999999999999977\n",
      "option_name: ETH-31MAR23-1000\n",
      "average time between replications (hrs): 5.974402892719114\n",
      "start time: 2023-01-04 07:17:27.002615\n",
      "init_option_price: 61.999245, final_option_price: 14.728867499999998\n",
      "rep_pnl: -54.95702424244845, initial_price: 1252.51, pnl: -47.2703775\n",
      "------\n",
      "ETH-31MAR23-1100\n",
      "total_swap_fees: 0.5497615083768194, total_tx_costs: 10.999999999999977\n",
      "option_name: ETH-31MAR23-1100\n",
      "average time between replications (hrs): 5.974402892719114\n",
      "start time: 2023-01-04 07:17:27.002615\n",
      "init_option_price: 90.49384749999999, final_option_price: 21.496185\n",
      "rep_pnl: -74.66375871130947, initial_price: 1252.51, pnl: -68.99766249999999\n",
      "------\n",
      "ETH-31MAR23-1200\n",
      "total_swap_fees: 0.7845530304346223, total_tx_costs: 10.999999999999977\n",
      "option_name: ETH-31MAR23-1200\n",
      "average time between replications (hrs): 5.974402892719114\n",
      "start time: 2023-01-04 07:17:27.002615\n",
      "init_option_price: 129.01264999999998, final_option_price: 31.8462\n",
      "rep_pnl: -101.51794099321067, initial_price: 1252.55, pnl: -97.16644999999998\n",
      "------\n",
      "ETH-31MAR23-1300\n",
      "total_swap_fees: 1.0218631350222884, total_tx_costs: 10.999999999999977\n",
      "option_name: ETH-31MAR23-1300\n",
      "average time between replications (hrs): 5.974402892719114\n",
      "start time: 2023-01-04 07:17:27.002615\n",
      "init_option_price: 179.10893, final_option_price: 49.36161\n",
      "rep_pnl: -134.02266077660624, initial_price: 1252.51, pnl: -129.74732\n",
      "------\n",
      "ETH-31MAR23-1400\n",
      "total_swap_fees: 1.2650490668107015, total_tx_costs: 10.999999999999977\n",
      "option_name: ETH-31MAR23-1400\n",
      "average time between replications (hrs): 5.974402892719114\n",
      "start time: 2023-01-04 07:17:27.002615\n",
      "init_option_price: 241.74215, final_option_price: 74.83857\n",
      "rep_pnl: -169.88509515691598, initial_price: 1252.55, pnl: -166.90358\n",
      "------\n",
      "ETH-31MAR23-1500\n",
      "total_swap_fees: 1.4128975421320802, total_tx_costs: 10.09999999999998\n",
      "option_name: ETH-31MAR23-1500\n",
      "average time between replications (hrs): 6.465090557652617\n",
      "start time: 2023-01-04 11:30:13.825502\n",
      "init_option_price: 312.90509249999997, final_option_price: 110.66554500000001\n",
      "rep_pnl: -202.86644431152382, initial_price: 1250.37, pnl: -202.23954749999996\n",
      "------\n",
      "ETH-31MAR23-1600\n",
      "total_swap_fees: 1.4541629818055442, total_tx_costs: 9.399999999999983\n",
      "option_name: ETH-31MAR23-1600\n",
      "average time between replications (hrs): 6.946533471520365\n",
      "start time: 2023-01-04 11:30:13.825502\n",
      "init_option_price: 396.0546974999999, final_option_price: 158.8329225\n",
      "rep_pnl: -237.86986602504322, initial_price: 1250.37, pnl: -237.22177499999992\n",
      "------\n",
      "ETH-31MAR23-1700\n",
      "total_swap_fees: 1.5422005783899924, total_tx_costs: 8.199999999999987\n",
      "option_name: ETH-31MAR23-1700\n",
      "average time between replications (hrs): 7.901356404734479\n",
      "start time: 2023-01-04 16:34:13.062062\n",
      "init_option_price: 479.3376775, final_option_price: 219.34070250000002\n",
      "rep_pnl: -260.97023854122415, initial_price: 1253.99, pnl: -259.99697499999996\n",
      "------\n"
     ]
    }
   ],
   "source": [
    "res = []\n",
    "option_type = 'put'\n",
    "\n",
    "for option_name in options_names:\n",
    "    print(option_name)\n",
    "    res.append(performance(option_name, option_type = option_type))"
   ]
  },
  {
   "cell_type": "code",
   "execution_count": 457,
   "id": "e4b9f296-f788-4997-8d6f-867d180997d6",
   "metadata": {},
   "outputs": [
    {
     "data": {
      "text/plain": [
       "[['ETH-27JAN23-1000', 0.4821463819705351],\n",
       " ['ETH-27JAN23-1100', 0.5972554430056624],\n",
       " ['ETH-27JAN23-1200', 0.75375012247021],\n",
       " ['ETH-27JAN23-1300', 0.8264126951509984],\n",
       " ['ETH-27JAN23-1400', 0.9051374791468584],\n",
       " ['ETH-27JAN23-1500', 2.2264890880729817],\n",
       " ['ETH-27JAN23-1600', 2.4003044720938727],\n",
       " ['ETH-27JAN23-1700', -0.5484310844810589],\n",
       " ['ETH-24FEB23-1000', 0.7029878120662054],\n",
       " ['ETH-24FEB23-1100', 0.7833983564578482],\n",
       " ['ETH-24FEB23-1200', 0.8539980355453929],\n",
       " ['ETH-24FEB23-1300', 0.8909076222026758],\n",
       " ['ETH-24FEB23-1400', 0.9248143278525002],\n",
       " ['ETH-24FEB23-1500', 0.9162103315564056],\n",
       " ['ETH-24FEB23-1600', 0.9605919532060144],\n",
       " ['ETH-24FEB23-1700', 0.9251344678161673],\n",
       " ['ETH-31MAR23-1000', 0.860133497975836],\n",
       " ['ETH-31MAR23-1100', 0.9241118273563259],\n",
       " ['ETH-31MAR23-1200', 0.9571357441784432],\n",
       " ['ETH-31MAR23-1300', 0.9680998664566693],\n",
       " ['ETH-31MAR23-1400', 0.9824498131860122],\n",
       " ['ETH-31MAR23-1500', 0.9969098052975129],\n",
       " ['ETH-31MAR23-1600', 0.9972754387267572],\n",
       " ['ETH-31MAR23-1700', 0.9962705956561769]]"
      ]
     },
     "execution_count": 457,
     "metadata": {},
     "output_type": "execute_result"
    }
   ],
   "source": [
    "res"
   ]
  },
  {
   "cell_type": "code",
   "execution_count": 458,
   "id": "bf409fce-dd53-4b07-a3ef-c3b5c2134794",
   "metadata": {},
   "outputs": [],
   "source": [
    "res = list(filter(lambda x: x[0] != 'ETH-24FEB23-1700', res ))\n",
    "# res = list(filter(lambda x: x[0] != 'ETH-27JAN23-1600', res ))\n",
    "# res = list(filter(lambda x: x[0] != 'ETH-24FEB23-900', res ))"
   ]
  },
  {
   "cell_type": "code",
   "execution_count": 459,
   "id": "302707e6-847f-4792-be8c-83fc970141b6",
   "metadata": {},
   "outputs": [],
   "source": [
    "res1 = list(filter(lambda x: '27JAN23' in x[0].split('-'), res))\n",
    "res2 = list(filter(lambda x: '24FEB23' in x[0].split('-'), res))\n",
    "res3 = list(filter(lambda x: '31MAR23' in x[0].split('-'), res))"
   ]
  },
  {
   "cell_type": "code",
   "execution_count": null,
   "id": "adc6bb2d-0d71-4ce5-bf69-f7276b24c0b4",
   "metadata": {},
   "outputs": [],
   "source": []
  },
  {
   "cell_type": "code",
   "execution_count": 460,
   "id": "b0df16bb-2f28-43d8-a14a-69558e7277db",
   "metadata": {},
   "outputs": [
    {
     "name": "stdout",
     "output_type": "stream",
     "text": [
      "0.928624331528297\n",
      "0.531070783324513\n"
     ]
    }
   ],
   "source": [
    "print(np.mean(list(map(lambda x: x[1], res))))\n",
    "print(np.std(list(map(lambda x: x[1], res))))"
   ]
  },
  {
   "cell_type": "code",
   "execution_count": 461,
   "id": "5eb2df56-af48-4ad6-bcfc-ab1ba862fb50",
   "metadata": {},
   "outputs": [
    {
     "name": "stdout",
     "output_type": "stream",
     "text": [
      "0.9553830746787575\n",
      "0.8928176998455488\n"
     ]
    }
   ],
   "source": [
    "print(np.mean(list(map(lambda x: x[1], res1))))\n",
    "print(np.std(list(map(lambda x: x[1], res1))))"
   ]
  },
  {
   "cell_type": "code",
   "execution_count": 462,
   "id": "f216346c-997d-4c65-8427-f544b231d526",
   "metadata": {},
   "outputs": [
    {
     "name": "stdout",
     "output_type": "stream",
     "text": [
      "0.8618440626981491\n",
      "0.08363814849735933\n"
     ]
    }
   ],
   "source": [
    "print(np.mean(list(map(lambda x: x[1], res2))))\n",
    "print(np.std(list(map(lambda x: x[1], res2))))"
   ]
  },
  {
   "cell_type": "code",
   "execution_count": 463,
   "id": "6fb2f22a-02e2-4f3d-98af-36df93a54a01",
   "metadata": {},
   "outputs": [
    {
     "name": "stdout",
     "output_type": "stream",
     "text": [
      "0.9602983236042167\n",
      "0.04458940634444788\n"
     ]
    }
   ],
   "source": [
    "print(np.mean(list(map(lambda x: x[1], res3))))\n",
    "print(np.std(list(map(lambda x: x[1], res3))))"
   ]
  },
  {
   "cell_type": "code",
   "execution_count": null,
   "id": "1c4964ed-8db9-4c78-8f84-b4ce8db4528b",
   "metadata": {},
   "outputs": [],
   "source": []
  },
  {
   "cell_type": "code",
   "execution_count": 464,
   "id": "01320101-6188-4a1c-a9fa-77b731c6c5e1",
   "metadata": {},
   "outputs": [],
   "source": [
    "# filtered"
   ]
  },
  {
   "cell_type": "markdown",
   "id": "aef8e45f-2940-4d2e-89a0-4dc163b97d74",
   "metadata": {},
   "source": [
    "#### Todo: run multiple replications (for diff strike, expiries) and draw a performance distribution"
   ]
  },
  {
   "cell_type": "code",
   "execution_count": 465,
   "id": "accb75f6-a52f-40fc-967a-b980aaca6096",
   "metadata": {},
   "outputs": [],
   "source": [
    "import plotly\n",
    "import plotly.graph_objs as go\n",
    "import plotly.express as px"
   ]
  },
  {
   "cell_type": "code",
   "execution_count": 466,
   "id": "ab9362f1-c20f-4058-b673-b7ca117d4269",
   "metadata": {},
   "outputs": [],
   "source": [
    "# fig = px.bar(res[0], x=np.array([res[0][0]]), y=np.array([res[1][1]]), title=\"Long-Form Input\")\n",
    "\n",
    "# fig.show()"
   ]
  },
  {
   "cell_type": "code",
   "execution_count": 467,
   "id": "2441de79-e4c3-4ee5-b854-104153ec98c7",
   "metadata": {},
   "outputs": [
    {
     "data": {
      "application/vnd.plotly.v1+json": {
       "config": {
        "plotlyServerURL": "https://plot.ly"
       },
       "data": [
        {
         "alignmentgroup": "True",
         "hovertemplate": "x=%{x}<br>y=%{y}<extra></extra>",
         "legendgroup": "",
         "marker": {
          "color": "#636efa",
          "pattern": {
           "shape": ""
          }
         },
         "name": "",
         "offsetgroup": "",
         "orientation": "v",
         "showlegend": false,
         "textposition": "auto",
         "type": "bar",
         "x": [
          "ETH-27JAN23-1000"
         ],
         "xaxis": "x",
         "y": [
          0.4821463819705351
         ],
         "yaxis": "y"
        },
        {
         "alignmentgroup": "True",
         "hovertemplate": "x=%{x}<br>y=%{y}<extra></extra>",
         "legendgroup": "",
         "marker": {
          "color": "#636efa",
          "pattern": {
           "shape": ""
          }
         },
         "name": "",
         "offsetgroup": "",
         "orientation": "v",
         "showlegend": false,
         "textposition": "auto",
         "type": "bar",
         "x": [
          "ETH-27JAN23-1100"
         ],
         "xaxis": "x",
         "y": [
          0.5972554430056624
         ],
         "yaxis": "y"
        },
        {
         "alignmentgroup": "True",
         "hovertemplate": "x=%{x}<br>y=%{y}<extra></extra>",
         "legendgroup": "",
         "marker": {
          "color": "#636efa",
          "pattern": {
           "shape": ""
          }
         },
         "name": "",
         "offsetgroup": "",
         "orientation": "v",
         "showlegend": false,
         "textposition": "auto",
         "type": "bar",
         "x": [
          "ETH-27JAN23-1200"
         ],
         "xaxis": "x",
         "y": [
          0.75375012247021
         ],
         "yaxis": "y"
        },
        {
         "alignmentgroup": "True",
         "hovertemplate": "x=%{x}<br>y=%{y}<extra></extra>",
         "legendgroup": "",
         "marker": {
          "color": "#636efa",
          "pattern": {
           "shape": ""
          }
         },
         "name": "",
         "offsetgroup": "",
         "orientation": "v",
         "showlegend": false,
         "textposition": "auto",
         "type": "bar",
         "x": [
          "ETH-27JAN23-1300"
         ],
         "xaxis": "x",
         "y": [
          0.8264126951509984
         ],
         "yaxis": "y"
        },
        {
         "alignmentgroup": "True",
         "hovertemplate": "x=%{x}<br>y=%{y}<extra></extra>",
         "legendgroup": "",
         "marker": {
          "color": "#636efa",
          "pattern": {
           "shape": ""
          }
         },
         "name": "",
         "offsetgroup": "",
         "orientation": "v",
         "showlegend": false,
         "textposition": "auto",
         "type": "bar",
         "x": [
          "ETH-27JAN23-1400"
         ],
         "xaxis": "x",
         "y": [
          0.9051374791468584
         ],
         "yaxis": "y"
        },
        {
         "alignmentgroup": "True",
         "hovertemplate": "x=%{x}<br>y=%{y}<extra></extra>",
         "legendgroup": "",
         "marker": {
          "color": "#636efa",
          "pattern": {
           "shape": ""
          }
         },
         "name": "",
         "offsetgroup": "",
         "orientation": "v",
         "showlegend": false,
         "textposition": "auto",
         "type": "bar",
         "x": [
          "ETH-27JAN23-1500"
         ],
         "xaxis": "x",
         "y": [
          2.2264890880729817
         ],
         "yaxis": "y"
        },
        {
         "alignmentgroup": "True",
         "hovertemplate": "x=%{x}<br>y=%{y}<extra></extra>",
         "legendgroup": "",
         "marker": {
          "color": "#636efa",
          "pattern": {
           "shape": ""
          }
         },
         "name": "",
         "offsetgroup": "",
         "orientation": "v",
         "showlegend": false,
         "textposition": "auto",
         "type": "bar",
         "x": [
          "ETH-27JAN23-1600"
         ],
         "xaxis": "x",
         "y": [
          2.4003044720938727
         ],
         "yaxis": "y"
        },
        {
         "alignmentgroup": "True",
         "hovertemplate": "x=%{x}<br>y=%{y}<extra></extra>",
         "legendgroup": "",
         "marker": {
          "color": "#636efa",
          "pattern": {
           "shape": ""
          }
         },
         "name": "",
         "offsetgroup": "",
         "orientation": "v",
         "showlegend": false,
         "textposition": "auto",
         "type": "bar",
         "x": [
          "ETH-27JAN23-1700"
         ],
         "xaxis": "x",
         "y": [
          -0.5484310844810589
         ],
         "yaxis": "y"
        },
        {
         "alignmentgroup": "True",
         "hovertemplate": "x=%{x}<br>y=%{y}<extra></extra>",
         "legendgroup": "",
         "marker": {
          "color": "#636efa",
          "pattern": {
           "shape": ""
          }
         },
         "name": "",
         "offsetgroup": "",
         "orientation": "v",
         "showlegend": false,
         "textposition": "auto",
         "type": "bar",
         "x": [
          "ETH-24FEB23-1000"
         ],
         "xaxis": "x",
         "y": [
          0.7029878120662054
         ],
         "yaxis": "y"
        },
        {
         "alignmentgroup": "True",
         "hovertemplate": "x=%{x}<br>y=%{y}<extra></extra>",
         "legendgroup": "",
         "marker": {
          "color": "#636efa",
          "pattern": {
           "shape": ""
          }
         },
         "name": "",
         "offsetgroup": "",
         "orientation": "v",
         "showlegend": false,
         "textposition": "auto",
         "type": "bar",
         "x": [
          "ETH-24FEB23-1100"
         ],
         "xaxis": "x",
         "y": [
          0.7833983564578482
         ],
         "yaxis": "y"
        },
        {
         "alignmentgroup": "True",
         "hovertemplate": "x=%{x}<br>y=%{y}<extra></extra>",
         "legendgroup": "",
         "marker": {
          "color": "#636efa",
          "pattern": {
           "shape": ""
          }
         },
         "name": "",
         "offsetgroup": "",
         "orientation": "v",
         "showlegend": false,
         "textposition": "auto",
         "type": "bar",
         "x": [
          "ETH-24FEB23-1200"
         ],
         "xaxis": "x",
         "y": [
          0.8539980355453929
         ],
         "yaxis": "y"
        },
        {
         "alignmentgroup": "True",
         "hovertemplate": "x=%{x}<br>y=%{y}<extra></extra>",
         "legendgroup": "",
         "marker": {
          "color": "#636efa",
          "pattern": {
           "shape": ""
          }
         },
         "name": "",
         "offsetgroup": "",
         "orientation": "v",
         "showlegend": false,
         "textposition": "auto",
         "type": "bar",
         "x": [
          "ETH-24FEB23-1300"
         ],
         "xaxis": "x",
         "y": [
          0.8909076222026758
         ],
         "yaxis": "y"
        },
        {
         "alignmentgroup": "True",
         "hovertemplate": "x=%{x}<br>y=%{y}<extra></extra>",
         "legendgroup": "",
         "marker": {
          "color": "#636efa",
          "pattern": {
           "shape": ""
          }
         },
         "name": "",
         "offsetgroup": "",
         "orientation": "v",
         "showlegend": false,
         "textposition": "auto",
         "type": "bar",
         "x": [
          "ETH-24FEB23-1400"
         ],
         "xaxis": "x",
         "y": [
          0.9248143278525002
         ],
         "yaxis": "y"
        },
        {
         "alignmentgroup": "True",
         "hovertemplate": "x=%{x}<br>y=%{y}<extra></extra>",
         "legendgroup": "",
         "marker": {
          "color": "#636efa",
          "pattern": {
           "shape": ""
          }
         },
         "name": "",
         "offsetgroup": "",
         "orientation": "v",
         "showlegend": false,
         "textposition": "auto",
         "type": "bar",
         "x": [
          "ETH-24FEB23-1500"
         ],
         "xaxis": "x",
         "y": [
          0.9162103315564056
         ],
         "yaxis": "y"
        },
        {
         "alignmentgroup": "True",
         "hovertemplate": "x=%{x}<br>y=%{y}<extra></extra>",
         "legendgroup": "",
         "marker": {
          "color": "#636efa",
          "pattern": {
           "shape": ""
          }
         },
         "name": "",
         "offsetgroup": "",
         "orientation": "v",
         "showlegend": false,
         "textposition": "auto",
         "type": "bar",
         "x": [
          "ETH-24FEB23-1600"
         ],
         "xaxis": "x",
         "y": [
          0.9605919532060144
         ],
         "yaxis": "y"
        },
        {
         "alignmentgroup": "True",
         "hovertemplate": "x=%{x}<br>y=%{y}<extra></extra>",
         "legendgroup": "",
         "marker": {
          "color": "#636efa",
          "pattern": {
           "shape": ""
          }
         },
         "name": "",
         "offsetgroup": "",
         "orientation": "v",
         "showlegend": false,
         "textposition": "auto",
         "type": "bar",
         "x": [
          "ETH-31MAR23-1000"
         ],
         "xaxis": "x",
         "y": [
          0.860133497975836
         ],
         "yaxis": "y"
        },
        {
         "alignmentgroup": "True",
         "hovertemplate": "x=%{x}<br>y=%{y}<extra></extra>",
         "legendgroup": "",
         "marker": {
          "color": "#636efa",
          "pattern": {
           "shape": ""
          }
         },
         "name": "",
         "offsetgroup": "",
         "orientation": "v",
         "showlegend": false,
         "textposition": "auto",
         "type": "bar",
         "x": [
          "ETH-31MAR23-1100"
         ],
         "xaxis": "x",
         "y": [
          0.9241118273563259
         ],
         "yaxis": "y"
        },
        {
         "alignmentgroup": "True",
         "hovertemplate": "x=%{x}<br>y=%{y}<extra></extra>",
         "legendgroup": "",
         "marker": {
          "color": "#636efa",
          "pattern": {
           "shape": ""
          }
         },
         "name": "",
         "offsetgroup": "",
         "orientation": "v",
         "showlegend": false,
         "textposition": "auto",
         "type": "bar",
         "x": [
          "ETH-31MAR23-1200"
         ],
         "xaxis": "x",
         "y": [
          0.9571357441784432
         ],
         "yaxis": "y"
        },
        {
         "alignmentgroup": "True",
         "hovertemplate": "x=%{x}<br>y=%{y}<extra></extra>",
         "legendgroup": "",
         "marker": {
          "color": "#636efa",
          "pattern": {
           "shape": ""
          }
         },
         "name": "",
         "offsetgroup": "",
         "orientation": "v",
         "showlegend": false,
         "textposition": "auto",
         "type": "bar",
         "x": [
          "ETH-31MAR23-1300"
         ],
         "xaxis": "x",
         "y": [
          0.9680998664566693
         ],
         "yaxis": "y"
        },
        {
         "alignmentgroup": "True",
         "hovertemplate": "x=%{x}<br>y=%{y}<extra></extra>",
         "legendgroup": "",
         "marker": {
          "color": "#636efa",
          "pattern": {
           "shape": ""
          }
         },
         "name": "",
         "offsetgroup": "",
         "orientation": "v",
         "showlegend": false,
         "textposition": "auto",
         "type": "bar",
         "x": [
          "ETH-31MAR23-1400"
         ],
         "xaxis": "x",
         "y": [
          0.9824498131860122
         ],
         "yaxis": "y"
        },
        {
         "alignmentgroup": "True",
         "hovertemplate": "x=%{x}<br>y=%{y}<extra></extra>",
         "legendgroup": "",
         "marker": {
          "color": "#636efa",
          "pattern": {
           "shape": ""
          }
         },
         "name": "",
         "offsetgroup": "",
         "orientation": "v",
         "showlegend": false,
         "textposition": "auto",
         "type": "bar",
         "x": [
          "ETH-31MAR23-1500"
         ],
         "xaxis": "x",
         "y": [
          0.9969098052975129
         ],
         "yaxis": "y"
        },
        {
         "alignmentgroup": "True",
         "hovertemplate": "x=%{x}<br>y=%{y}<extra></extra>",
         "legendgroup": "",
         "marker": {
          "color": "#636efa",
          "pattern": {
           "shape": ""
          }
         },
         "name": "",
         "offsetgroup": "",
         "orientation": "v",
         "showlegend": false,
         "textposition": "auto",
         "type": "bar",
         "x": [
          "ETH-31MAR23-1600"
         ],
         "xaxis": "x",
         "y": [
          0.9972754387267572
         ],
         "yaxis": "y"
        },
        {
         "alignmentgroup": "True",
         "hovertemplate": "x=%{x}<br>y=%{y}<extra></extra>",
         "legendgroup": "",
         "marker": {
          "color": "#636efa",
          "pattern": {
           "shape": ""
          }
         },
         "name": "",
         "offsetgroup": "",
         "orientation": "v",
         "showlegend": false,
         "textposition": "auto",
         "type": "bar",
         "x": [
          "ETH-31MAR23-1700"
         ],
         "xaxis": "x",
         "y": [
          0.9962705956561769
         ],
         "yaxis": "y"
        }
       ],
       "layout": {
        "autosize": true,
        "template": {
         "data": {
          "bar": [
           {
            "error_x": {
             "color": "#2a3f5f"
            },
            "error_y": {
             "color": "#2a3f5f"
            },
            "marker": {
             "line": {
              "color": "#E5ECF6",
              "width": 0.5
             },
             "pattern": {
              "fillmode": "overlay",
              "size": 10,
              "solidity": 0.2
             }
            },
            "type": "bar"
           }
          ],
          "barpolar": [
           {
            "marker": {
             "line": {
              "color": "#E5ECF6",
              "width": 0.5
             },
             "pattern": {
              "fillmode": "overlay",
              "size": 10,
              "solidity": 0.2
             }
            },
            "type": "barpolar"
           }
          ],
          "carpet": [
           {
            "aaxis": {
             "endlinecolor": "#2a3f5f",
             "gridcolor": "white",
             "linecolor": "white",
             "minorgridcolor": "white",
             "startlinecolor": "#2a3f5f"
            },
            "baxis": {
             "endlinecolor": "#2a3f5f",
             "gridcolor": "white",
             "linecolor": "white",
             "minorgridcolor": "white",
             "startlinecolor": "#2a3f5f"
            },
            "type": "carpet"
           }
          ],
          "choropleth": [
           {
            "colorbar": {
             "outlinewidth": 0,
             "ticks": ""
            },
            "type": "choropleth"
           }
          ],
          "contour": [
           {
            "colorbar": {
             "outlinewidth": 0,
             "ticks": ""
            },
            "colorscale": [
             [
              0,
              "#0d0887"
             ],
             [
              0.1111111111111111,
              "#46039f"
             ],
             [
              0.2222222222222222,
              "#7201a8"
             ],
             [
              0.3333333333333333,
              "#9c179e"
             ],
             [
              0.4444444444444444,
              "#bd3786"
             ],
             [
              0.5555555555555556,
              "#d8576b"
             ],
             [
              0.6666666666666666,
              "#ed7953"
             ],
             [
              0.7777777777777778,
              "#fb9f3a"
             ],
             [
              0.8888888888888888,
              "#fdca26"
             ],
             [
              1,
              "#f0f921"
             ]
            ],
            "type": "contour"
           }
          ],
          "contourcarpet": [
           {
            "colorbar": {
             "outlinewidth": 0,
             "ticks": ""
            },
            "type": "contourcarpet"
           }
          ],
          "heatmap": [
           {
            "colorbar": {
             "outlinewidth": 0,
             "ticks": ""
            },
            "colorscale": [
             [
              0,
              "#0d0887"
             ],
             [
              0.1111111111111111,
              "#46039f"
             ],
             [
              0.2222222222222222,
              "#7201a8"
             ],
             [
              0.3333333333333333,
              "#9c179e"
             ],
             [
              0.4444444444444444,
              "#bd3786"
             ],
             [
              0.5555555555555556,
              "#d8576b"
             ],
             [
              0.6666666666666666,
              "#ed7953"
             ],
             [
              0.7777777777777778,
              "#fb9f3a"
             ],
             [
              0.8888888888888888,
              "#fdca26"
             ],
             [
              1,
              "#f0f921"
             ]
            ],
            "type": "heatmap"
           }
          ],
          "heatmapgl": [
           {
            "colorbar": {
             "outlinewidth": 0,
             "ticks": ""
            },
            "colorscale": [
             [
              0,
              "#0d0887"
             ],
             [
              0.1111111111111111,
              "#46039f"
             ],
             [
              0.2222222222222222,
              "#7201a8"
             ],
             [
              0.3333333333333333,
              "#9c179e"
             ],
             [
              0.4444444444444444,
              "#bd3786"
             ],
             [
              0.5555555555555556,
              "#d8576b"
             ],
             [
              0.6666666666666666,
              "#ed7953"
             ],
             [
              0.7777777777777778,
              "#fb9f3a"
             ],
             [
              0.8888888888888888,
              "#fdca26"
             ],
             [
              1,
              "#f0f921"
             ]
            ],
            "type": "heatmapgl"
           }
          ],
          "histogram": [
           {
            "marker": {
             "pattern": {
              "fillmode": "overlay",
              "size": 10,
              "solidity": 0.2
             }
            },
            "type": "histogram"
           }
          ],
          "histogram2d": [
           {
            "colorbar": {
             "outlinewidth": 0,
             "ticks": ""
            },
            "colorscale": [
             [
              0,
              "#0d0887"
             ],
             [
              0.1111111111111111,
              "#46039f"
             ],
             [
              0.2222222222222222,
              "#7201a8"
             ],
             [
              0.3333333333333333,
              "#9c179e"
             ],
             [
              0.4444444444444444,
              "#bd3786"
             ],
             [
              0.5555555555555556,
              "#d8576b"
             ],
             [
              0.6666666666666666,
              "#ed7953"
             ],
             [
              0.7777777777777778,
              "#fb9f3a"
             ],
             [
              0.8888888888888888,
              "#fdca26"
             ],
             [
              1,
              "#f0f921"
             ]
            ],
            "type": "histogram2d"
           }
          ],
          "histogram2dcontour": [
           {
            "colorbar": {
             "outlinewidth": 0,
             "ticks": ""
            },
            "colorscale": [
             [
              0,
              "#0d0887"
             ],
             [
              0.1111111111111111,
              "#46039f"
             ],
             [
              0.2222222222222222,
              "#7201a8"
             ],
             [
              0.3333333333333333,
              "#9c179e"
             ],
             [
              0.4444444444444444,
              "#bd3786"
             ],
             [
              0.5555555555555556,
              "#d8576b"
             ],
             [
              0.6666666666666666,
              "#ed7953"
             ],
             [
              0.7777777777777778,
              "#fb9f3a"
             ],
             [
              0.8888888888888888,
              "#fdca26"
             ],
             [
              1,
              "#f0f921"
             ]
            ],
            "type": "histogram2dcontour"
           }
          ],
          "mesh3d": [
           {
            "colorbar": {
             "outlinewidth": 0,
             "ticks": ""
            },
            "type": "mesh3d"
           }
          ],
          "parcoords": [
           {
            "line": {
             "colorbar": {
              "outlinewidth": 0,
              "ticks": ""
             }
            },
            "type": "parcoords"
           }
          ],
          "pie": [
           {
            "automargin": true,
            "type": "pie"
           }
          ],
          "scatter": [
           {
            "fillpattern": {
             "fillmode": "overlay",
             "size": 10,
             "solidity": 0.2
            },
            "type": "scatter"
           }
          ],
          "scatter3d": [
           {
            "line": {
             "colorbar": {
              "outlinewidth": 0,
              "ticks": ""
             }
            },
            "marker": {
             "colorbar": {
              "outlinewidth": 0,
              "ticks": ""
             }
            },
            "type": "scatter3d"
           }
          ],
          "scattercarpet": [
           {
            "marker": {
             "colorbar": {
              "outlinewidth": 0,
              "ticks": ""
             }
            },
            "type": "scattercarpet"
           }
          ],
          "scattergeo": [
           {
            "marker": {
             "colorbar": {
              "outlinewidth": 0,
              "ticks": ""
             }
            },
            "type": "scattergeo"
           }
          ],
          "scattergl": [
           {
            "marker": {
             "colorbar": {
              "outlinewidth": 0,
              "ticks": ""
             }
            },
            "type": "scattergl"
           }
          ],
          "scattermapbox": [
           {
            "marker": {
             "colorbar": {
              "outlinewidth": 0,
              "ticks": ""
             }
            },
            "type": "scattermapbox"
           }
          ],
          "scatterpolar": [
           {
            "marker": {
             "colorbar": {
              "outlinewidth": 0,
              "ticks": ""
             }
            },
            "type": "scatterpolar"
           }
          ],
          "scatterpolargl": [
           {
            "marker": {
             "colorbar": {
              "outlinewidth": 0,
              "ticks": ""
             }
            },
            "type": "scatterpolargl"
           }
          ],
          "scatterternary": [
           {
            "marker": {
             "colorbar": {
              "outlinewidth": 0,
              "ticks": ""
             }
            },
            "type": "scatterternary"
           }
          ],
          "surface": [
           {
            "colorbar": {
             "outlinewidth": 0,
             "ticks": ""
            },
            "colorscale": [
             [
              0,
              "#0d0887"
             ],
             [
              0.1111111111111111,
              "#46039f"
             ],
             [
              0.2222222222222222,
              "#7201a8"
             ],
             [
              0.3333333333333333,
              "#9c179e"
             ],
             [
              0.4444444444444444,
              "#bd3786"
             ],
             [
              0.5555555555555556,
              "#d8576b"
             ],
             [
              0.6666666666666666,
              "#ed7953"
             ],
             [
              0.7777777777777778,
              "#fb9f3a"
             ],
             [
              0.8888888888888888,
              "#fdca26"
             ],
             [
              1,
              "#f0f921"
             ]
            ],
            "type": "surface"
           }
          ],
          "table": [
           {
            "cells": {
             "fill": {
              "color": "#EBF0F8"
             },
             "line": {
              "color": "white"
             }
            },
            "header": {
             "fill": {
              "color": "#C8D4E3"
             },
             "line": {
              "color": "white"
             }
            },
            "type": "table"
           }
          ]
         },
         "layout": {
          "annotationdefaults": {
           "arrowcolor": "#2a3f5f",
           "arrowhead": 0,
           "arrowwidth": 1
          },
          "autotypenumbers": "strict",
          "coloraxis": {
           "colorbar": {
            "outlinewidth": 0,
            "ticks": ""
           }
          },
          "colorscale": {
           "diverging": [
            [
             0,
             "#8e0152"
            ],
            [
             0.1,
             "#c51b7d"
            ],
            [
             0.2,
             "#de77ae"
            ],
            [
             0.3,
             "#f1b6da"
            ],
            [
             0.4,
             "#fde0ef"
            ],
            [
             0.5,
             "#f7f7f7"
            ],
            [
             0.6,
             "#e6f5d0"
            ],
            [
             0.7,
             "#b8e186"
            ],
            [
             0.8,
             "#7fbc41"
            ],
            [
             0.9,
             "#4d9221"
            ],
            [
             1,
             "#276419"
            ]
           ],
           "sequential": [
            [
             0,
             "#0d0887"
            ],
            [
             0.1111111111111111,
             "#46039f"
            ],
            [
             0.2222222222222222,
             "#7201a8"
            ],
            [
             0.3333333333333333,
             "#9c179e"
            ],
            [
             0.4444444444444444,
             "#bd3786"
            ],
            [
             0.5555555555555556,
             "#d8576b"
            ],
            [
             0.6666666666666666,
             "#ed7953"
            ],
            [
             0.7777777777777778,
             "#fb9f3a"
            ],
            [
             0.8888888888888888,
             "#fdca26"
            ],
            [
             1,
             "#f0f921"
            ]
           ],
           "sequentialminus": [
            [
             0,
             "#0d0887"
            ],
            [
             0.1111111111111111,
             "#46039f"
            ],
            [
             0.2222222222222222,
             "#7201a8"
            ],
            [
             0.3333333333333333,
             "#9c179e"
            ],
            [
             0.4444444444444444,
             "#bd3786"
            ],
            [
             0.5555555555555556,
             "#d8576b"
            ],
            [
             0.6666666666666666,
             "#ed7953"
            ],
            [
             0.7777777777777778,
             "#fb9f3a"
            ],
            [
             0.8888888888888888,
             "#fdca26"
            ],
            [
             1,
             "#f0f921"
            ]
           ]
          },
          "colorway": [
           "#636efa",
           "#EF553B",
           "#00cc96",
           "#ab63fa",
           "#FFA15A",
           "#19d3f3",
           "#FF6692",
           "#B6E880",
           "#FF97FF",
           "#FECB52"
          ],
          "font": {
           "color": "#2a3f5f"
          },
          "geo": {
           "bgcolor": "white",
           "lakecolor": "white",
           "landcolor": "#E5ECF6",
           "showlakes": true,
           "showland": true,
           "subunitcolor": "white"
          },
          "hoverlabel": {
           "align": "left"
          },
          "hovermode": "closest",
          "mapbox": {
           "style": "light"
          },
          "paper_bgcolor": "white",
          "plot_bgcolor": "#E5ECF6",
          "polar": {
           "angularaxis": {
            "gridcolor": "white",
            "linecolor": "white",
            "ticks": ""
           },
           "bgcolor": "#E5ECF6",
           "radialaxis": {
            "gridcolor": "white",
            "linecolor": "white",
            "ticks": ""
           }
          },
          "scene": {
           "xaxis": {
            "backgroundcolor": "#E5ECF6",
            "gridcolor": "white",
            "gridwidth": 2,
            "linecolor": "white",
            "showbackground": true,
            "ticks": "",
            "zerolinecolor": "white"
           },
           "yaxis": {
            "backgroundcolor": "#E5ECF6",
            "gridcolor": "white",
            "gridwidth": 2,
            "linecolor": "white",
            "showbackground": true,
            "ticks": "",
            "zerolinecolor": "white"
           },
           "zaxis": {
            "backgroundcolor": "#E5ECF6",
            "gridcolor": "white",
            "gridwidth": 2,
            "linecolor": "white",
            "showbackground": true,
            "ticks": "",
            "zerolinecolor": "white"
           }
          },
          "shapedefaults": {
           "line": {
            "color": "#2a3f5f"
           }
          },
          "ternary": {
           "aaxis": {
            "gridcolor": "white",
            "linecolor": "white",
            "ticks": ""
           },
           "baxis": {
            "gridcolor": "white",
            "linecolor": "white",
            "ticks": ""
           },
           "bgcolor": "#E5ECF6",
           "caxis": {
            "gridcolor": "white",
            "linecolor": "white",
            "ticks": ""
           }
          },
          "title": {
           "x": 0.05
          },
          "xaxis": {
           "automargin": true,
           "gridcolor": "white",
           "linecolor": "white",
           "ticks": "",
           "title": {
            "standoff": 15
           },
           "zerolinecolor": "white",
           "zerolinewidth": 2
          },
          "yaxis": {
           "automargin": true,
           "gridcolor": "white",
           "linecolor": "white",
           "ticks": "",
           "title": {
            "standoff": 15
           },
           "zerolinecolor": "white",
           "zerolinewidth": 2
          }
         }
        },
        "title": {
         "text": "Performance of the PUT replication | swap_fee: 0.0005, tx_cost: 0.1"
        },
        "xaxis": {
         "autorange": true,
         "range": [
          -0.5,
          22.5
         ],
         "type": "category"
        },
        "yaxis": {
         "autorange": true,
         "range": [
          -0.7122497265129996,
          2.564123114125813
         ],
         "type": "linear"
        }
       }
      },
      "image/png": "[encoded data removed]",
      "text/html": [
       "<div>                            <div id=\"4a5458d8-b9d3-4332-82a2-cd3837263ba7\" class=\"plotly-graph-div\" style=\"height:525px; width:100%;\"></div>            <script type=\"text/javascript\">                require([\"plotly\"], function(Plotly) {                    window.PLOTLYENV=window.PLOTLYENV || {};                                    if (document.getElementById(\"4a5458d8-b9d3-4332-82a2-cd3837263ba7\")) {                    Plotly.newPlot(                        \"4a5458d8-b9d3-4332-82a2-cd3837263ba7\",                        [{\"alignmentgroup\":\"True\",\"hovertemplate\":\"x=%{x}<br>y=%{y}<extra></extra>\",\"legendgroup\":\"\",\"marker\":{\"color\":\"#636efa\",\"pattern\":{\"shape\":\"\"}},\"name\":\"\",\"offsetgroup\":\"\",\"orientation\":\"v\",\"showlegend\":false,\"textposition\":\"auto\",\"x\":[\"ETH-27JAN23-1000\"],\"xaxis\":\"x\",\"y\":[0.4821463819705351],\"yaxis\":\"y\",\"type\":\"bar\"},{\"alignmentgroup\":\"True\",\"hovertemplate\":\"x=%{x}<br>y=%{y}<extra></extra>\",\"legendgroup\":\"\",\"marker\":{\"color\":\"#636efa\",\"pattern\":{\"shape\":\"\"}},\"name\":\"\",\"offsetgroup\":\"\",\"orientation\":\"v\",\"showlegend\":false,\"textposition\":\"auto\",\"x\":[\"ETH-27JAN23-1100\"],\"xaxis\":\"x\",\"y\":[0.5972554430056624],\"yaxis\":\"y\",\"type\":\"bar\"},{\"alignmentgroup\":\"True\",\"hovertemplate\":\"x=%{x}<br>y=%{y}<extra></extra>\",\"legendgroup\":\"\",\"marker\":{\"color\":\"#636efa\",\"pattern\":{\"shape\":\"\"}},\"name\":\"\",\"offsetgroup\":\"\",\"orientation\":\"v\",\"showlegend\":false,\"textposition\":\"auto\",\"x\":[\"ETH-27JAN23-1200\"],\"xaxis\":\"x\",\"y\":[0.75375012247021],\"yaxis\":\"y\",\"type\":\"bar\"},{\"alignmentgroup\":\"True\",\"hovertemplate\":\"x=%{x}<br>y=%{y}<extra></extra>\",\"legendgroup\":\"\",\"marker\":{\"color\":\"#636efa\",\"pattern\":{\"shape\":\"\"}},\"name\":\"\",\"offsetgroup\":\"\",\"orientation\":\"v\",\"showlegend\":false,\"textposition\":\"auto\",\"x\":[\"ETH-27JAN23-1300\"],\"xaxis\":\"x\",\"y\":[0.8264126951509984],\"yaxis\":\"y\",\"type\":\"bar\"},{\"alignmentgroup\":\"True\",\"hovertemplate\":\"x=%{x}<br>y=%{y}<extra></extra>\",\"legendgroup\":\"\",\"marker\":{\"color\":\"#636efa\",\"pattern\":{\"shape\":\"\"}},\"name\":\"\",\"offsetgroup\":\"\",\"orientation\":\"v\",\"showlegend\":false,\"textposition\":\"auto\",\"x\":[\"ETH-27JAN23-1400\"],\"xaxis\":\"x\",\"y\":[0.9051374791468584],\"yaxis\":\"y\",\"type\":\"bar\"},{\"alignmentgroup\":\"True\",\"hovertemplate\":\"x=%{x}<br>y=%{y}<extra></extra>\",\"legendgroup\":\"\",\"marker\":{\"color\":\"#636efa\",\"pattern\":{\"shape\":\"\"}},\"name\":\"\",\"offsetgroup\":\"\",\"orientation\":\"v\",\"showlegend\":false,\"textposition\":\"auto\",\"x\":[\"ETH-27JAN23-1500\"],\"xaxis\":\"x\",\"y\":[2.2264890880729817],\"yaxis\":\"y\",\"type\":\"bar\"},{\"alignmentgroup\":\"True\",\"hovertemplate\":\"x=%{x}<br>y=%{y}<extra></extra>\",\"legendgroup\":\"\",\"marker\":{\"color\":\"#636efa\",\"pattern\":{\"shape\":\"\"}},\"name\":\"\",\"offsetgroup\":\"\",\"orientation\":\"v\",\"showlegend\":false,\"textposition\":\"auto\",\"x\":[\"ETH-27JAN23-1600\"],\"xaxis\":\"x\",\"y\":[2.4003044720938727],\"yaxis\":\"y\",\"type\":\"bar\"},{\"alignmentgroup\":\"True\",\"hovertemplate\":\"x=%{x}<br>y=%{y}<extra></extra>\",\"legendgroup\":\"\",\"marker\":{\"color\":\"#636efa\",\"pattern\":{\"shape\":\"\"}},\"name\":\"\",\"offsetgroup\":\"\",\"orientation\":\"v\",\"showlegend\":false,\"textposition\":\"auto\",\"x\":[\"ETH-27JAN23-1700\"],\"xaxis\":\"x\",\"y\":[-0.5484310844810589],\"yaxis\":\"y\",\"type\":\"bar\"},{\"alignmentgroup\":\"True\",\"hovertemplate\":\"x=%{x}<br>y=%{y}<extra></extra>\",\"legendgroup\":\"\",\"marker\":{\"color\":\"#636efa\",\"pattern\":{\"shape\":\"\"}},\"name\":\"\",\"offsetgroup\":\"\",\"orientation\":\"v\",\"showlegend\":false,\"textposition\":\"auto\",\"x\":[\"ETH-24FEB23-1000\"],\"xaxis\":\"x\",\"y\":[0.7029878120662054],\"yaxis\":\"y\",\"type\":\"bar\"},{\"alignmentgroup\":\"True\",\"hovertemplate\":\"x=%{x}<br>y=%{y}<extra></extra>\",\"legendgroup\":\"\",\"marker\":{\"color\":\"#636efa\",\"pattern\":{\"shape\":\"\"}},\"name\":\"\",\"offsetgroup\":\"\",\"orientation\":\"v\",\"showlegend\":false,\"textposition\":\"auto\",\"x\":[\"ETH-24FEB23-1100\"],\"xaxis\":\"x\",\"y\":[0.7833983564578482],\"yaxis\":\"y\",\"type\":\"bar\"},{\"alignmentgroup\":\"True\",\"hovertemplate\":\"x=%{x}<br>y=%{y}<extra></extra>\",\"legendgroup\":\"\",\"marker\":{\"color\":\"#636efa\",\"pattern\":{\"shape\":\"\"}},\"name\":\"\",\"offsetgroup\":\"\",\"orientation\":\"v\",\"showlegend\":false,\"textposition\":\"auto\",\"x\":[\"ETH-24FEB23-1200\"],\"xaxis\":\"x\",\"y\":[0.8539980355453929],\"yaxis\":\"y\",\"type\":\"bar\"},{\"alignmentgroup\":\"True\",\"hovertemplate\":\"x=%{x}<br>y=%{y}<extra></extra>\",\"legendgroup\":\"\",\"marker\":{\"color\":\"#636efa\",\"pattern\":{\"shape\":\"\"}},\"name\":\"\",\"offsetgroup\":\"\",\"orientation\":\"v\",\"showlegend\":false,\"textposition\":\"auto\",\"x\":[\"ETH-24FEB23-1300\"],\"xaxis\":\"x\",\"y\":[0.8909076222026758],\"yaxis\":\"y\",\"type\":\"bar\"},{\"alignmentgroup\":\"True\",\"hovertemplate\":\"x=%{x}<br>y=%{y}<extra></extra>\",\"legendgroup\":\"\",\"marker\":{\"color\":\"#636efa\",\"pattern\":{\"shape\":\"\"}},\"name\":\"\",\"offsetgroup\":\"\",\"orientation\":\"v\",\"showlegend\":false,\"textposition\":\"auto\",\"x\":[\"ETH-24FEB23-1400\"],\"xaxis\":\"x\",\"y\":[0.9248143278525002],\"yaxis\":\"y\",\"type\":\"bar\"},{\"alignmentgroup\":\"True\",\"hovertemplate\":\"x=%{x}<br>y=%{y}<extra></extra>\",\"legendgroup\":\"\",\"marker\":{\"color\":\"#636efa\",\"pattern\":{\"shape\":\"\"}},\"name\":\"\",\"offsetgroup\":\"\",\"orientation\":\"v\",\"showlegend\":false,\"textposition\":\"auto\",\"x\":[\"ETH-24FEB23-1500\"],\"xaxis\":\"x\",\"y\":[0.9162103315564056],\"yaxis\":\"y\",\"type\":\"bar\"},{\"alignmentgroup\":\"True\",\"hovertemplate\":\"x=%{x}<br>y=%{y}<extra></extra>\",\"legendgroup\":\"\",\"marker\":{\"color\":\"#636efa\",\"pattern\":{\"shape\":\"\"}},\"name\":\"\",\"offsetgroup\":\"\",\"orientation\":\"v\",\"showlegend\":false,\"textposition\":\"auto\",\"x\":[\"ETH-24FEB23-1600\"],\"xaxis\":\"x\",\"y\":[0.9605919532060144],\"yaxis\":\"y\",\"type\":\"bar\"},{\"alignmentgroup\":\"True\",\"hovertemplate\":\"x=%{x}<br>y=%{y}<extra></extra>\",\"legendgroup\":\"\",\"marker\":{\"color\":\"#636efa\",\"pattern\":{\"shape\":\"\"}},\"name\":\"\",\"offsetgroup\":\"\",\"orientation\":\"v\",\"showlegend\":false,\"textposition\":\"auto\",\"x\":[\"ETH-31MAR23-1000\"],\"xaxis\":\"x\",\"y\":[0.860133497975836],\"yaxis\":\"y\",\"type\":\"bar\"},{\"alignmentgroup\":\"True\",\"hovertemplate\":\"x=%{x}<br>y=%{y}<extra></extra>\",\"legendgroup\":\"\",\"marker\":{\"color\":\"#636efa\",\"pattern\":{\"shape\":\"\"}},\"name\":\"\",\"offsetgroup\":\"\",\"orientation\":\"v\",\"showlegend\":false,\"textposition\":\"auto\",\"x\":[\"ETH-31MAR23-1100\"],\"xaxis\":\"x\",\"y\":[0.9241118273563259],\"yaxis\":\"y\",\"type\":\"bar\"},{\"alignmentgroup\":\"True\",\"hovertemplate\":\"x=%{x}<br>y=%{y}<extra></extra>\",\"legendgroup\":\"\",\"marker\":{\"color\":\"#636efa\",\"pattern\":{\"shape\":\"\"}},\"name\":\"\",\"offsetgroup\":\"\",\"orientation\":\"v\",\"showlegend\":false,\"textposition\":\"auto\",\"x\":[\"ETH-31MAR23-1200\"],\"xaxis\":\"x\",\"y\":[0.9571357441784432],\"yaxis\":\"y\",\"type\":\"bar\"},{\"alignmentgroup\":\"True\",\"hovertemplate\":\"x=%{x}<br>y=%{y}<extra></extra>\",\"legendgroup\":\"\",\"marker\":{\"color\":\"#636efa\",\"pattern\":{\"shape\":\"\"}},\"name\":\"\",\"offsetgroup\":\"\",\"orientation\":\"v\",\"showlegend\":false,\"textposition\":\"auto\",\"x\":[\"ETH-31MAR23-1300\"],\"xaxis\":\"x\",\"y\":[0.9680998664566693],\"yaxis\":\"y\",\"type\":\"bar\"},{\"alignmentgroup\":\"True\",\"hovertemplate\":\"x=%{x}<br>y=%{y}<extra></extra>\",\"legendgroup\":\"\",\"marker\":{\"color\":\"#636efa\",\"pattern\":{\"shape\":\"\"}},\"name\":\"\",\"offsetgroup\":\"\",\"orientation\":\"v\",\"showlegend\":false,\"textposition\":\"auto\",\"x\":[\"ETH-31MAR23-1400\"],\"xaxis\":\"x\",\"y\":[0.9824498131860122],\"yaxis\":\"y\",\"type\":\"bar\"},{\"alignmentgroup\":\"True\",\"hovertemplate\":\"x=%{x}<br>y=%{y}<extra></extra>\",\"legendgroup\":\"\",\"marker\":{\"color\":\"#636efa\",\"pattern\":{\"shape\":\"\"}},\"name\":\"\",\"offsetgroup\":\"\",\"orientation\":\"v\",\"showlegend\":false,\"textposition\":\"auto\",\"x\":[\"ETH-31MAR23-1500\"],\"xaxis\":\"x\",\"y\":[0.9969098052975129],\"yaxis\":\"y\",\"type\":\"bar\"},{\"alignmentgroup\":\"True\",\"hovertemplate\":\"x=%{x}<br>y=%{y}<extra></extra>\",\"legendgroup\":\"\",\"marker\":{\"color\":\"#636efa\",\"pattern\":{\"shape\":\"\"}},\"name\":\"\",\"offsetgroup\":\"\",\"orientation\":\"v\",\"showlegend\":false,\"textposition\":\"auto\",\"x\":[\"ETH-31MAR23-1600\"],\"xaxis\":\"x\",\"y\":[0.9972754387267572],\"yaxis\":\"y\",\"type\":\"bar\"},{\"alignmentgroup\":\"True\",\"hovertemplate\":\"x=%{x}<br>y=%{y}<extra></extra>\",\"legendgroup\":\"\",\"marker\":{\"color\":\"#636efa\",\"pattern\":{\"shape\":\"\"}},\"name\":\"\",\"offsetgroup\":\"\",\"orientation\":\"v\",\"showlegend\":false,\"textposition\":\"auto\",\"x\":[\"ETH-31MAR23-1700\"],\"xaxis\":\"x\",\"y\":[0.9962705956561769],\"yaxis\":\"y\",\"type\":\"bar\"}],                        {\"title\":{\"text\":\"Performance of the PUT replication | swap_fee: 0.0005, tx_cost: 0.1\"},\"template\":{\"data\":{\"histogram2dcontour\":[{\"type\":\"histogram2dcontour\",\"colorbar\":{\"outlinewidth\":0,\"ticks\":\"\"},\"colorscale\":[[0.0,\"#0d0887\"],[0.1111111111111111,\"#46039f\"],[0.2222222222222222,\"#7201a8\"],[0.3333333333333333,\"#9c179e\"],[0.4444444444444444,\"#bd3786\"],[0.5555555555555556,\"#d8576b\"],[0.6666666666666666,\"#ed7953\"],[0.7777777777777778,\"#fb9f3a\"],[0.8888888888888888,\"#fdca26\"],[1.0,\"#f0f921\"]]}],\"choropleth\":[{\"type\":\"choropleth\",\"colorbar\":{\"outlinewidth\":0,\"ticks\":\"\"}}],\"histogram2d\":[{\"type\":\"histogram2d\",\"colorbar\":{\"outlinewidth\":0,\"ticks\":\"\"},\"colorscale\":[[0.0,\"#0d0887\"],[0.1111111111111111,\"#46039f\"],[0.2222222222222222,\"#7201a8\"],[0.3333333333333333,\"#9c179e\"],[0.4444444444444444,\"#bd3786\"],[0.5555555555555556,\"#d8576b\"],[0.6666666666666666,\"#ed7953\"],[0.7777777777777778,\"#fb9f3a\"],[0.8888888888888888,\"#fdca26\"],[1.0,\"#f0f921\"]]}],\"heatmap\":[{\"type\":\"heatmap\",\"colorbar\":{\"outlinewidth\":0,\"ticks\":\"\"},\"colorscale\":[[0.0,\"#0d0887\"],[0.1111111111111111,\"#46039f\"],[0.2222222222222222,\"#7201a8\"],[0.3333333333333333,\"#9c179e\"],[0.4444444444444444,\"#bd3786\"],[0.5555555555555556,\"#d8576b\"],[0.6666666666666666,\"#ed7953\"],[0.7777777777777778,\"#fb9f3a\"],[0.8888888888888888,\"#fdca26\"],[1.0,\"#f0f921\"]]}],\"heatmapgl\":[{\"type\":\"heatmapgl\",\"colorbar\":{\"outlinewidth\":0,\"ticks\":\"\"},\"colorscale\":[[0.0,\"#0d0887\"],[0.1111111111111111,\"#46039f\"],[0.2222222222222222,\"#7201a8\"],[0.3333333333333333,\"#9c179e\"],[0.4444444444444444,\"#bd3786\"],[0.5555555555555556,\"#d8576b\"],[0.6666666666666666,\"#ed7953\"],[0.7777777777777778,\"#fb9f3a\"],[0.8888888888888888,\"#fdca26\"],[1.0,\"#f0f921\"]]}],\"contourcarpet\":[{\"type\":\"contourcarpet\",\"colorbar\":{\"outlinewidth\":0,\"ticks\":\"\"}}],\"contour\":[{\"type\":\"contour\",\"colorbar\":{\"outlinewidth\":0,\"ticks\":\"\"},\"colorscale\":[[0.0,\"#0d0887\"],[0.1111111111111111,\"#46039f\"],[0.2222222222222222,\"#7201a8\"],[0.3333333333333333,\"#9c179e\"],[0.4444444444444444,\"#bd3786\"],[0.5555555555555556,\"#d8576b\"],[0.6666666666666666,\"#ed7953\"],[0.7777777777777778,\"#fb9f3a\"],[0.8888888888888888,\"#fdca26\"],[1.0,\"#f0f921\"]]}],\"surface\":[{\"type\":\"surface\",\"colorbar\":{\"outlinewidth\":0,\"ticks\":\"\"},\"colorscale\":[[0.0,\"#0d0887\"],[0.1111111111111111,\"#46039f\"],[0.2222222222222222,\"#7201a8\"],[0.3333333333333333,\"#9c179e\"],[0.4444444444444444,\"#bd3786\"],[0.5555555555555556,\"#d8576b\"],[0.6666666666666666,\"#ed7953\"],[0.7777777777777778,\"#fb9f3a\"],[0.8888888888888888,\"#fdca26\"],[1.0,\"#f0f921\"]]}],\"mesh3d\":[{\"type\":\"mesh3d\",\"colorbar\":{\"outlinewidth\":0,\"ticks\":\"\"}}],\"scatter\":[{\"fillpattern\":{\"fillmode\":\"overlay\",\"size\":10,\"solidity\":0.2},\"type\":\"scatter\"}],\"parcoords\":[{\"type\":\"parcoords\",\"line\":{\"colorbar\":{\"outlinewidth\":0,\"ticks\":\"\"}}}],\"scatterpolargl\":[{\"type\":\"scatterpolargl\",\"marker\":{\"colorbar\":{\"outlinewidth\":0,\"ticks\":\"\"}}}],\"bar\":[{\"error_x\":{\"color\":\"#2a3f5f\"},\"error_y\":{\"color\":\"#2a3f5f\"},\"marker\":{\"line\":{\"color\":\"#E5ECF6\",\"width\":0.5},\"pattern\":{\"fillmode\":\"overlay\",\"size\":10,\"solidity\":0.2}},\"type\":\"bar\"}],\"scattergeo\":[{\"type\":\"scattergeo\",\"marker\":{\"colorbar\":{\"outlinewidth\":0,\"ticks\":\"\"}}}],\"scatterpolar\":[{\"type\":\"scatterpolar\",\"marker\":{\"colorbar\":{\"outlinewidth\":0,\"ticks\":\"\"}}}],\"histogram\":[{\"marker\":{\"pattern\":{\"fillmode\":\"overlay\",\"size\":10,\"solidity\":0.2}},\"type\":\"histogram\"}],\"scattergl\":[{\"type\":\"scattergl\",\"marker\":{\"colorbar\":{\"outlinewidth\":0,\"ticks\":\"\"}}}],\"scatter3d\":[{\"type\":\"scatter3d\",\"line\":{\"colorbar\":{\"outlinewidth\":0,\"ticks\":\"\"}},\"marker\":{\"colorbar\":{\"outlinewidth\":0,\"ticks\":\"\"}}}],\"scattermapbox\":[{\"type\":\"scattermapbox\",\"marker\":{\"colorbar\":{\"outlinewidth\":0,\"ticks\":\"\"}}}],\"scatterternary\":[{\"type\":\"scatterternary\",\"marker\":{\"colorbar\":{\"outlinewidth\":0,\"ticks\":\"\"}}}],\"scattercarpet\":[{\"type\":\"scattercarpet\",\"marker\":{\"colorbar\":{\"outlinewidth\":0,\"ticks\":\"\"}}}],\"carpet\":[{\"aaxis\":{\"endlinecolor\":\"#2a3f5f\",\"gridcolor\":\"white\",\"linecolor\":\"white\",\"minorgridcolor\":\"white\",\"startlinecolor\":\"#2a3f5f\"},\"baxis\":{\"endlinecolor\":\"#2a3f5f\",\"gridcolor\":\"white\",\"linecolor\":\"white\",\"minorgridcolor\":\"white\",\"startlinecolor\":\"#2a3f5f\"},\"type\":\"carpet\"}],\"table\":[{\"cells\":{\"fill\":{\"color\":\"#EBF0F8\"},\"line\":{\"color\":\"white\"}},\"header\":{\"fill\":{\"color\":\"#C8D4E3\"},\"line\":{\"color\":\"white\"}},\"type\":\"table\"}],\"barpolar\":[{\"marker\":{\"line\":{\"color\":\"#E5ECF6\",\"width\":0.5},\"pattern\":{\"fillmode\":\"overlay\",\"size\":10,\"solidity\":0.2}},\"type\":\"barpolar\"}],\"pie\":[{\"automargin\":true,\"type\":\"pie\"}]},\"layout\":{\"autotypenumbers\":\"strict\",\"colorway\":[\"#636efa\",\"#EF553B\",\"#00cc96\",\"#ab63fa\",\"#FFA15A\",\"#19d3f3\",\"#FF6692\",\"#B6E880\",\"#FF97FF\",\"#FECB52\"],\"font\":{\"color\":\"#2a3f5f\"},\"hovermode\":\"closest\",\"hoverlabel\":{\"align\":\"left\"},\"paper_bgcolor\":\"white\",\"plot_bgcolor\":\"#E5ECF6\",\"polar\":{\"bgcolor\":\"#E5ECF6\",\"angularaxis\":{\"gridcolor\":\"white\",\"linecolor\":\"white\",\"ticks\":\"\"},\"radialaxis\":{\"gridcolor\":\"white\",\"linecolor\":\"white\",\"ticks\":\"\"}},\"ternary\":{\"bgcolor\":\"#E5ECF6\",\"aaxis\":{\"gridcolor\":\"white\",\"linecolor\":\"white\",\"ticks\":\"\"},\"baxis\":{\"gridcolor\":\"white\",\"linecolor\":\"white\",\"ticks\":\"\"},\"caxis\":{\"gridcolor\":\"white\",\"linecolor\":\"white\",\"ticks\":\"\"}},\"coloraxis\":{\"colorbar\":{\"outlinewidth\":0,\"ticks\":\"\"}},\"colorscale\":{\"sequential\":[[0.0,\"#0d0887\"],[0.1111111111111111,\"#46039f\"],[0.2222222222222222,\"#7201a8\"],[0.3333333333333333,\"#9c179e\"],[0.4444444444444444,\"#bd3786\"],[0.5555555555555556,\"#d8576b\"],[0.6666666666666666,\"#ed7953\"],[0.7777777777777778,\"#fb9f3a\"],[0.8888888888888888,\"#fdca26\"],[1.0,\"#f0f921\"]],\"sequentialminus\":[[0.0,\"#0d0887\"],[0.1111111111111111,\"#46039f\"],[0.2222222222222222,\"#7201a8\"],[0.3333333333333333,\"#9c179e\"],[0.4444444444444444,\"#bd3786\"],[0.5555555555555556,\"#d8576b\"],[0.6666666666666666,\"#ed7953\"],[0.7777777777777778,\"#fb9f3a\"],[0.8888888888888888,\"#fdca26\"],[1.0,\"#f0f921\"]],\"diverging\":[[0,\"#8e0152\"],[0.1,\"#c51b7d\"],[0.2,\"#de77ae\"],[0.3,\"#f1b6da\"],[0.4,\"#fde0ef\"],[0.5,\"#f7f7f7\"],[0.6,\"#e6f5d0\"],[0.7,\"#b8e186\"],[0.8,\"#7fbc41\"],[0.9,\"#4d9221\"],[1,\"#276419\"]]},\"xaxis\":{\"gridcolor\":\"white\",\"linecolor\":\"white\",\"ticks\":\"\",\"title\":{\"standoff\":15},\"zerolinecolor\":\"white\",\"automargin\":true,\"zerolinewidth\":2},\"yaxis\":{\"gridcolor\":\"white\",\"linecolor\":\"white\",\"ticks\":\"\",\"title\":{\"standoff\":15},\"zerolinecolor\":\"white\",\"automargin\":true,\"zerolinewidth\":2},\"scene\":{\"xaxis\":{\"backgroundcolor\":\"#E5ECF6\",\"gridcolor\":\"white\",\"linecolor\":\"white\",\"showbackground\":true,\"ticks\":\"\",\"zerolinecolor\":\"white\",\"gridwidth\":2},\"yaxis\":{\"backgroundcolor\":\"#E5ECF6\",\"gridcolor\":\"white\",\"linecolor\":\"white\",\"showbackground\":true,\"ticks\":\"\",\"zerolinecolor\":\"white\",\"gridwidth\":2},\"zaxis\":{\"backgroundcolor\":\"#E5ECF6\",\"gridcolor\":\"white\",\"linecolor\":\"white\",\"showbackground\":true,\"ticks\":\"\",\"zerolinecolor\":\"white\",\"gridwidth\":2}},\"shapedefaults\":{\"line\":{\"color\":\"#2a3f5f\"}},\"annotationdefaults\":{\"arrowcolor\":\"#2a3f5f\",\"arrowhead\":0,\"arrowwidth\":1},\"geo\":{\"bgcolor\":\"white\",\"landcolor\":\"#E5ECF6\",\"subunitcolor\":\"white\",\"showland\":true,\"showlakes\":true,\"lakecolor\":\"white\"},\"title\":{\"x\":0.05},\"mapbox\":{\"style\":\"light\"}}}},                        {\"responsive\": true}                    ).then(function(){\n",
       "                            \n",
       "var gd = document.getElementById('4a5458d8-b9d3-4332-82a2-cd3837263ba7');\n",
       "var x = new MutationObserver(function (mutations, observer) {{\n",
       "        var display = window.getComputedStyle(gd).display;\n",
       "        if (!display || display === 'none') {{\n",
       "            console.log([gd, 'removed!']);\n",
       "            Plotly.purge(gd);\n",
       "            observer.disconnect();\n",
       "        }}\n",
       "}});\n",
       "\n",
       "// Listen for the removal of the full notebook cells\n",
       "var notebookContainer = gd.closest('#notebook-container');\n",
       "if (notebookContainer) {{\n",
       "    x.observe(notebookContainer, {childList: true});\n",
       "}}\n",
       "\n",
       "// Listen for the clearing of the current output cell\n",
       "var outputEl = gd.closest('.output');\n",
       "if (outputEl) {{\n",
       "    x.observe(outputEl, {childList: true});\n",
       "}}\n",
       "\n",
       "                        })                };                });            </script>        </div>"
      ]
     },
     "metadata": {},
     "output_type": "display_data"
    }
   ],
   "source": [
    "# dices2 = pd.DataFrame(np.random.randint(low=1, high=7, size=(100, 2)), columns=('Кость 1', 'Кость 2'))\n",
    "# dices2['Сумма'] = dices2['Кость 1'] + dices2['Кость 2']\n",
    "# dices3 = pd.DataFrame(np.random.randint(low=1, high=7, size=(1000, 2)), columns=('Кость 1', 'Кость 2'))\n",
    "# dices3['Сумма'] = dices3['Кость 1'] + dices3['Кость 2']\n",
    "\n",
    "fig = go.Figure(layout = {\"title\": {\"text\": '''Performance of the {} replication | swap_fee: {}, tx_cost: {}'''.format(option_type.upper(), swap_fee, tx_cost)}})\n",
    "# fig.add_trace(go.Histogram(x=dices['Сумма']))\n",
    "for i in range(len(res)):\n",
    "    # fig.add_trace(go.Histogram(x=r))\n",
    "    # fig.add_trace(go.Histogram(x=r))\n",
    "    fig2 = px.bar(res[i], x=np.array([res[i][0]]), y=np.array([res[i][1]]))\n",
    "    \n",
    "    # fig2 = px.bar(df, x=\"x\", y=\"y\")\n",
    "    fig.add_trace(fig2.data[0])\n",
    "\n",
    "# fig.add_trace(go.Histogram(x=dices3['Сумма']))\n",
    "fig.show()"
   ]
  },
  {
   "cell_type": "code",
   "execution_count": 468,
   "id": "434f4100-3a94-40aa-a11a-c2807636d881",
   "metadata": {},
   "outputs": [
    {
     "data": {
      "application/vnd.plotly.v1+json": {
       "config": {
        "plotlyServerURL": "https://plot.ly"
       },
       "data": [
        {
         "hovertemplate": "variable=underlying_price<br>index=%{x}<br>value=%{y}<extra></extra>",
         "legendgroup": "underlying_price",
         "line": {
          "color": "#636efa",
          "dash": "solid"
         },
         "marker": {
          "symbol": "circle"
         },
         "mode": "lines",
         "name": "underlying_price",
         "showlegend": true,
         "type": "scattergl",
         "x": [
          0,
          1000,
          2000,
          3000,
          4000,
          5000,
          6000,
          7000,
          8000,
          9000,
          10000,
          11000,
          12000,
          13000,
          14000,
          15000,
          16000,
          17000,
          18000,
          19000,
          20000,
          21000,
          22000,
          23000,
          24000,
          25000,
          26000,
          27000,
          28000,
          29000,
          30000,
          31000,
          32000,
          33000,
          34000,
          35000,
          36000,
          37000,
          38000,
          39000,
          40000,
          41000,
          42000,
          43000,
          44000,
          45000,
          46000,
          47000,
          48000,
          49000,
          50000,
          51000,
          52000,
          53000,
          54000,
          55000,
          56000,
          57000,
          58000,
          59000,
          60000,
          61000,
          62000,
          63000,
          64000,
          65000,
          66000,
          67000,
          68000,
          69000,
          70000,
          71000,
          72000,
          73000,
          74000,
          75000,
          76000,
          77000,
          78000,
          79000,
          80000,
          81000,
          82000,
          83000,
          84000,
          85000,
          86000,
          87000,
          88000,
          89000,
          90000,
          91000,
          92000,
          93000,
          94000,
          95000,
          96000,
          97000,
          98000,
          99000,
          100000,
          101000,
          102000,
          103000,
          104000,
          105000,
          106000,
          107000,
          108000,
          109000,
          110000,
          111000,
          112000,
          113000,
          114000,
          115000,
          116000,
          117000,
          118000,
          119000,
          120000,
          121000,
          122000,
          123000,
          124000,
          125000,
          126000,
          127000,
          128000,
          129000,
          130000,
          131000,
          132000,
          133000,
          134000,
          135000,
          136000,
          137000,
          138000,
          139000,
          140000,
          141000,
          142000,
          143000,
          144000,
          145000,
          146000,
          147000,
          148000,
          149000,
          150000,
          151000,
          152000,
          153000,
          154000,
          155000,
          156000,
          157000,
          158000,
          159000,
          160000,
          161000,
          162000,
          163000,
          164000,
          165000,
          166000,
          167000,
          168000,
          169000,
          170000,
          171000,
          172000,
          173000,
          174000,
          175000,
          176000,
          177000,
          178000,
          179000,
          180000,
          181000,
          182000,
          183000,
          184000,
          185000,
          186000,
          187000,
          188000,
          189000,
          190000,
          191000,
          192000,
          193000,
          194000,
          195000,
          196000,
          197000,
          198000,
          199000,
          200000,
          201000,
          202000,
          203000,
          204000,
          205000,
          206000,
          207000,
          208000,
          209000,
          210000,
          211000,
          212000,
          213000,
          214000,
          215000,
          216000,
          217000,
          218000,
          219000,
          220000,
          221000,
          222000,
          223000,
          224000,
          225000,
          226000,
          227000,
          228000,
          229000,
          230000,
          231000,
          232000,
          233000,
          234000,
          235000,
          236000,
          237000,
          238000,
          239000,
          240000,
          241000,
          242000,
          243000,
          244000,
          245000,
          246000,
          247000,
          248000,
          249000,
          250000,
          251000,
          252000,
          253000,
          254000,
          255000,
          256000,
          257000,
          258000,
          259000,
          260000,
          261000,
          262000,
          263000,
          264000,
          265000,
          266000,
          267000,
          268000,
          269000,
          270000,
          271000,
          272000,
          273000,
          274000,
          275000,
          276000,
          277000,
          278000,
          279000,
          280000,
          281000,
          282000,
          283000,
          284000,
          285000,
          286000,
          287000,
          288000,
          289000,
          290000,
          291000,
          292000,
          293000,
          294000,
          295000,
          296000,
          297000,
          298000,
          299000,
          300000,
          301000,
          302000,
          303000,
          304000,
          305000,
          306000,
          307000,
          308000,
          309000,
          310000,
          311000,
          312000,
          313000,
          314000,
          315000,
          316000,
          317000,
          318000,
          319000,
          320000,
          321000,
          322000,
          323000,
          324000,
          325000,
          326000,
          327000,
          328000,
          329000,
          330000,
          331000,
          332000,
          333000,
          334000,
          335000,
          336000,
          337000,
          338000,
          339000,
          340000,
          341000,
          342000,
          343000,
          344000,
          345000,
          346000,
          347000,
          348000,
          349000,
          350000,
          351000,
          352000,
          353000,
          354000,
          355000,
          356000,
          357000,
          358000,
          359000,
          360000,
          361000,
          362000,
          363000,
          364000,
          365000,
          366000,
          367000,
          368000,
          369000,
          370000,
          371000,
          372000,
          373000,
          374000,
          375000,
          376000,
          377000,
          378000,
          379000,
          380000,
          381000,
          382000,
          383000,
          384000,
          385000,
          386000,
          387000,
          388000,
          389000,
          390000,
          391000,
          392000,
          393000,
          394000,
          395000,
          396000,
          397000,
          398000,
          399000,
          400000,
          401000,
          402000,
          403000,
          404000,
          405000,
          406000,
          407000,
          408000,
          409000,
          410000,
          411000,
          412000,
          413000,
          414000,
          415000,
          416000,
          417000,
          418000,
          419000,
          420000,
          421000,
          422000,
          423000,
          424000,
          425000,
          426000,
          427000,
          428000,
          429000,
          430000,
          431000,
          432000,
          433000,
          434000,
          435000,
          436000,
          437000,
          438000,
          439000,
          440000,
          441000,
          442000,
          443000,
          444000,
          445000,
          446000,
          447000,
          448000,
          449000,
          450000,
          451000,
          452000,
          453000,
          454000,
          455000,
          456000,
          457000,
          458000,
          459000,
          460000,
          461000,
          462000,
          463000,
          464000,
          465000,
          466000,
          467000,
          468000,
          469000,
          470000,
          471000,
          472000,
          473000,
          474000,
          475000,
          476000,
          477000,
          478000,
          479000,
          480000,
          481000,
          482000,
          483000,
          484000,
          485000,
          486000,
          487000,
          488000,
          489000,
          490000,
          491000,
          492000,
          493000,
          494000,
          495000,
          496000,
          497000,
          498000,
          499000,
          500000,
          501000,
          502000,
          503000,
          504000,
          505000,
          506000,
          507000,
          508000,
          509000,
          510000,
          511000,
          512000,
          513000,
          514000,
          515000,
          516000,
          517000,
          518000,
          519000,
          520000,
          521000,
          522000,
          523000,
          524000,
          525000,
          526000,
          527000,
          528000,
          529000,
          530000,
          531000,
          532000,
          533000,
          534000,
          535000,
          536000,
          537000,
          538000,
          539000,
          540000,
          541000,
          542000,
          543000,
          544000,
          545000,
          546000,
          547000,
          548000,
          549000,
          550000,
          551000,
          552000,
          553000,
          554000,
          555000,
          556000,
          557000,
          558000,
          559000,
          560000,
          561000,
          562000,
          563000,
          564000,
          565000,
          566000,
          567000,
          568000,
          569000,
          570000,
          571000,
          572000,
          573000,
          574000,
          575000,
          576000,
          577000,
          578000,
          579000,
          580000,
          581000,
          582000,
          583000,
          584000,
          585000,
          586000,
          587000,
          588000,
          589000,
          590000,
          591000,
          592000,
          593000,
          594000,
          595000,
          596000,
          597000,
          598000,
          599000,
          600000,
          601000,
          602000,
          603000,
          604000,
          605000,
          606000,
          607000,
          608000,
          609000,
          610000,
          611000,
          612000,
          613000,
          614000,
          615000,
          616000,
          617000,
          618000,
          619000,
          620000,
          621000,
          622000,
          623000,
          624000,
          625000,
          626000,
          627000,
          628000,
          629000,
          630000,
          631000,
          632000,
          633000,
          634000,
          635000,
          636000,
          637000,
          638000,
          639000,
          640000,
          641000,
          642000,
          643000,
          644000,
          645000,
          646000,
          647000,
          648000,
          649000,
          650000,
          651000,
          652000,
          653000,
          654000,
          655000,
          656000,
          657000,
          658000,
          659000,
          660000,
          661000,
          662000,
          663000,
          664000,
          665000,
          666000,
          667000,
          668000,
          669000,
          670000,
          671000,
          672000,
          673000,
          674000,
          675000,
          676000,
          677000,
          678000,
          679000,
          680000,
          681000,
          682000,
          683000,
          684000,
          685000,
          686000,
          687000,
          688000,
          689000,
          690000,
          691000,
          692000,
          693000,
          694000,
          695000,
          696000,
          697000,
          698000,
          699000,
          700000,
          701000,
          702000,
          703000,
          704000,
          705000,
          706000,
          707000,
          708000,
          709000,
          710000,
          711000,
          712000,
          713000,
          714000,
          715000,
          716000,
          717000,
          718000,
          719000,
          720000,
          721000,
          722000,
          723000,
          724000,
          725000,
          726000,
          727000,
          728000,
          729000,
          730000,
          731000,
          732000,
          733000,
          734000,
          735000,
          736000,
          737000,
          738000,
          739000,
          740000,
          741000,
          742000,
          743000,
          744000,
          745000,
          746000,
          747000,
          748000,
          749000,
          750000,
          751000,
          752000,
          753000,
          754000,
          755000,
          756000,
          757000,
          758000,
          759000,
          760000,
          761000,
          762000,
          763000,
          764000,
          765000,
          766000,
          767000,
          768000,
          769000,
          770000,
          771000,
          772000,
          773000,
          774000,
          775000,
          776000,
          777000,
          778000,
          779000,
          780000,
          781000,
          782000,
          783000,
          784000,
          785000,
          786000,
          787000,
          788000,
          789000,
          790000,
          791000,
          792000,
          793000,
          794000,
          795000,
          796000,
          797000,
          798000,
          799000,
          800000,
          801000,
          802000,
          803000,
          804000,
          805000,
          806000,
          807000,
          808000,
          809000,
          810000,
          811000,
          812000,
          813000,
          814000,
          815000,
          816000,
          817000,
          818000,
          819000,
          820000,
          821000,
          822000,
          823000,
          824000,
          825000,
          826000,
          827000,
          828000,
          829000,
          830000,
          831000,
          832000,
          833000,
          834000,
          835000,
          836000,
          837000,
          838000,
          839000,
          840000,
          841000,
          842000,
          843000,
          844000,
          845000,
          846000,
          847000,
          848000,
          849000,
          850000,
          851000,
          852000,
          853000,
          854000,
          855000,
          856000,
          857000,
          858000,
          859000,
          860000,
          861000,
          862000,
          863000,
          864000,
          865000,
          866000,
          867000,
          868000,
          869000,
          870000,
          871000,
          872000,
          873000,
          874000,
          875000,
          876000,
          877000,
          878000,
          879000,
          880000,
          881000,
          882000,
          883000,
          884000,
          885000,
          886000,
          887000,
          888000,
          889000,
          890000,
          891000,
          892000,
          893000,
          894000,
          895000,
          896000,
          897000,
          898000,
          899000,
          900000,
          901000,
          902000,
          903000,
          904000,
          905000,
          906000,
          907000,
          908000,
          909000,
          910000,
          911000,
          912000,
          913000,
          914000,
          915000,
          916000,
          917000,
          918000,
          919000,
          920000,
          921000,
          922000,
          923000,
          924000,
          925000,
          926000,
          927000,
          928000,
          929000,
          930000,
          931000,
          932000,
          933000,
          934000,
          935000,
          936000,
          937000,
          938000,
          939000,
          940000,
          941000,
          942000,
          943000,
          944000,
          945000,
          946000,
          947000,
          948000,
          949000,
          950000,
          951000,
          952000,
          953000,
          954000,
          955000,
          956000,
          957000,
          958000,
          959000,
          960000,
          961000,
          962000,
          963000,
          964000,
          965000,
          966000,
          967000,
          968000,
          969000,
          970000,
          971000,
          972000,
          973000,
          974000,
          975000,
          976000,
          977000,
          978000,
          979000,
          980000,
          981000,
          982000,
          983000,
          984000,
          985000,
          986000,
          987000,
          988000,
          989000,
          990000,
          991000,
          992000,
          993000,
          994000,
          995000,
          996000,
          997000,
          998000,
          999000,
          1000000,
          1001000,
          1002000,
          1003000,
          1004000,
          1005000,
          1006000,
          1007000,
          1008000,
          1009000,
          1010000,
          1011000,
          1012000,
          1013000,
          1014000,
          1015000,
          1016000,
          1017000,
          1018000,
          1019000,
          1020000,
          1021000,
          1022000,
          1023000,
          1024000,
          1025000,
          1026000,
          1027000,
          1028000,
          1029000,
          1030000,
          1031000,
          1032000,
          1033000,
          1034000,
          1035000,
          1036000,
          1037000,
          1038000,
          1039000,
          1040000,
          1041000,
          1042000,
          1043000,
          1044000,
          1045000,
          1046000,
          1047000,
          1048000,
          1049000,
          1050000,
          1051000,
          1052000,
          1053000,
          1054000,
          1055000,
          1056000,
          1057000,
          1058000,
          1059000,
          1060000,
          1061000,
          1062000,
          1063000,
          1064000,
          1065000,
          1066000,
          1067000,
          1068000,
          1069000,
          1070000,
          1071000,
          1072000,
          1073000,
          1074000,
          1075000,
          1076000,
          1077000,
          1078000,
          1079000,
          1080000,
          1081000,
          1082000,
          1083000,
          1084000,
          1085000,
          1086000,
          1087000,
          1088000,
          1089000,
          1090000,
          1091000,
          1092000,
          1093000,
          1094000,
          1095000,
          1096000,
          1097000,
          1098000
         ],
         "xaxis": "x",
         "y": [
          1208.0475971816895,
          1208.08,
          1208.04,
          1210.52,
          1208.12,
          1219.46,
          1210.56,
          1210.07,
          1207.68,
          1208.46,
          1208.32,
          1208.33,
          1207.244999983631,
          1206.31,
          1208.0081944339254,
          1206.8863795390077,
          1208.78,
          1213.25,
          1210.75,
          1206.13,
          1217.88,
          1218,
          1213.29,
          1224.77,
          1233.17,
          1248.53,
          1252.0549999686261,
          1250.57,
          1247.8782128490977,
          1249.5141877464744,
          1254.13,
          1251.67,
          1253.66,
          1253.77,
          1252.38,
          1249.32,
          1249.06,
          1252.35,
          1251.76,
          1252.98,
          1250.082382832892,
          1251.22,
          1254.5864745186057,
          1253.8872683307115,
          1260.8779445762884,
          1257.7109875084584,
          1252.1134166985175,
          1250.6491749142497,
          1252.59,
          1253.47,
          1255.63,
          1256.58,
          1254.23,
          1255.81,
          1253.21,
          1252.71,
          1253.05,
          1252.74,
          1252.92,
          1250.4,
          1252.9,
          1253.55,
          1249.52,
          1249.81,
          1251.57,
          1257.15,
          1257.24,
          1255.68,
          1252.75,
          1255.32,
          1253.51,
          1251.69,
          1249.92,
          1253.17,
          1252.8,
          1252.97,
          1254.01,
          1253.14,
          1252.19,
          1249.93,
          1252.56,
          1253.8899999487435,
          1248.6099999434193,
          1251.121428635516,
          1251.89,
          1249.62,
          1250.12,
          1248.71,
          1250.84,
          1250.31,
          1253.05,
          1256.07,
          1256.25,
          1249.75,
          1245.75,
          1246.39,
          1247.92,
          1253.12,
          1255.14,
          1262.1422571156438,
          1264.5778912441463,
          1263.1565050208615,
          1269.2,
          1269.11,
          1274.47,
          1266.23,
          1266.45,
          1269.33,
          1270.74,
          1269.64,
          1270.9,
          1270.08,
          1268.06,
          1266.6,
          1265.62,
          1263.8,
          1263.84,
          1263.16,
          1265.81,
          1263.81,
          1263.48,
          1264.62,
          1265.36,
          1264,
          1263.48,
          1262.1982365088925,
          1264.6649149556283,
          1262.8038745762012,
          1268.32,
          1267.65,
          1265.84,
          1266.49,
          1267.75,
          1264.56,
          1264.11,
          1264.2,
          1268.25,
          1268.03,
          1268.33,
          1267.5,
          1263.9,
          1264.56,
          1263.86,
          1263.77,
          1262.4511062999495,
          1262.3109361948966,
          1263.3085022620564,
          1262.6294508730311,
          1263.87,
          1264.25,
          1264.11,
          1264.25,
          1264.42,
          1265.32,
          1265.18,
          1264.54,
          1265.49,
          1266.13,
          1267.23,
          1276.04,
          1264.64,
          1264.08,
          1263.49,
          1265.7934182540093,
          1267.917260995829,
          1270.2848448448638,
          1269.4627736038556,
          1270.38,
          1282.63,
          1285,
          1291.27330308683,
          1296.8795643529056,
          1303.5877975270914,
          1311.84,
          1314.65,
          1315.33,
          1311.53,
          1311.58,
          1316.68,
          1316.46,
          1316.58,
          1316.72,
          1317,
          1311.03,
          1311.06,
          1310.84,
          1310.87,
          1313.9,
          1313.55,
          1311.26,
          1311.95,
          1310.82,
          1308.04,
          1312.0629947316,
          1316.99,
          1322.52,
          1321.489330148641,
          1320.4371232622257,
          1324.09,
          1322.82,
          1325.01,
          1328.05,
          1340.8,
          1346.76,
          1348.5,
          1334.77,
          1333.8,
          1324.66,
          1324.41,
          1324.14,
          1321.55,
          1321.39,
          1324.8368522972905,
          1327.94,
          1321.36,
          1321.2315133939865,
          1327.67,
          1328.74,
          1324.28,
          1324.17,
          1326.59,
          1328.53,
          1332.11,
          1329.1650141182142,
          1329.27,
          1332.93,
          1333.1,
          1331.24,
          1326.43,
          1329.39,
          1340.31,
          1332.1112539738667,
          1337.21,
          1329.44,
          1332.16,
          1342.47,
          1345.04,
          1338.9313910293563,
          1340.2863522299867,
          1338.29,
          1340.77,
          1338.33,
          1342.55,
          1335.77,
          1332.87,
          1331.0468051138375,
          1334.86,
          1334.83,
          1332.71,
          1333.89,
          1337.73,
          1337.92,
          1332.8212796787932,
          1333.77,
          1334.07,
          1336.84,
          1336.84,
          1333.03,
          1334.03,
          1334.3226510858212,
          1334.1536191663615,
          1339.1,
          1333.29,
          1337.71,
          1338.52,
          1338.55,
          1334.083196658637,
          1334.69,
          1334.63,
          1337.81,
          1337.88,
          1337.96,
          1333.65,
          1334.68,
          1334.798695386315,
          1339.99,
          1339.94,
          1333.97,
          1339.36,
          1339.84,
          1340.02,
          1334.9762750435723,
          1335.95,
          1335.19,
          1338.02,
          1337.34,
          1333.7,
          1334.02,
          1334.12,
          1339.55,
          1339.71,
          1333.92,
          1339.39,
          1339.47,
          1339.27,
          1334.488888112385,
          1335.29,
          1334.95,
          1337.79,
          1337.73,
          1334.81,
          1335.34,
          1335.35,
          1334.85,
          1340.34,
          1335.29,
          1339.43,
          1340.94,
          1341.04,
          1335.4050707739898,
          1335.3951586985718,
          1336.31,
          1338.81,
          1338.79,
          1338.77,
          1334.96,
          1335.39,
          1334.85,
          1340.36,
          1340.24,
          1334.86,
          1339.34,
          1341.07,
          1340.91,
          1335.3199817446268,
          1335.96,
          1335.99,
          1338.85,
          1338.89,
          1335.45,
          1335.65,
          1334.96,
          1334.97,
          1340.5,
          1335.54,
          1339.91,
          1336.54,
          1339.24,
          1338.04,
          1333.66,
          1333.86,
          1330.8427517897585,
          1339.76,
          1324.76,
          1326.43,
          1333.51,
          1344.39,
          1342.62,
          1342.26,
          1345.06,
          1349.41,
          1354.82,
          1389,
          1410.7882758857995,
          1408.29,
          1412.1,
          1414.6,
          1401.85,
          1404.27,
          1406.31,
          1410,
          1410.46,
          1404.29,
          1397.9,
          1409.23,
          1406.52,
          1395.14,
          1399.45,
          1403.76,
          1406.74,
          1378.45,
          1388.252500006808,
          1393.62,
          1384.81,
          1429.37,
          1418.65,
          1427.67,
          1430.62,
          1428.7228571223216,
          1426.93,
          1419.45250000897,
          1419.49,
          1425.87,
          1412.19,
          1403.2,
          1407.72,
          1408.2900001020835,
          1413.01,
          1419.19,
          1409.79,
          1419.42,
          1415.16,
          1412.08,
          1412.5,
          1411.700979339742,
          1407.29,
          1414.8026004658736,
          1410.1775000056423,
          1415.37,
          1411.24,
          1408.17,
          1415.42,
          1421.82,
          1410.1837051445139,
          1417.67,
          1421.4017801591388,
          1417.1674999944858,
          1428.37,
          1431.21,
          1433.01,
          1465.29,
          1455.59,
          1452.3020263376459,
          1553.02,
          1561.0875000242436,
          1571.06,
          1570.71,
          1559.29,
          1552.5204167969323,
          1547.81,
          1548.307499975186,
          1565.37,
          1552.35,
          1566.64,
          1542.36,
          1543.76,
          1534.57,
          1523.95,
          1535.84,
          1523.851984719882,
          1559.26,
          1544.87,
          1521.03,
          1525.61,
          1524.43340998112,
          1546.31,
          1532.948356859424,
          1535.38,
          1535.17,
          1537.7349999526539,
          1548.13,
          1533.29,
          1545.41,
          1549.189993354398,
          1574.19,
          1557.81,
          1523.05,
          1528.49,
          1529.4795496551242,
          1537.38,
          1527.2377566408459,
          1531.45,
          1531.04,
          1527.6899999414682,
          1536.71,
          1530.06,
          1528.65,
          1527.1,
          1547.4,
          1544.84,
          1532.4878368058469,
          1535.88,
          1535.76,
          1552.78,
          1549.44,
          1543.872805935063,
          1556.68,
          1551.21,
          1580.08,
          1557.98,
          1554.2032991138044,
          1556.49,
          1553.33,
          1571.04,
          1560.58,
          1553.2471731468447,
          1552.56,
          1550.53,
          1570.3274999206474,
          1585.11,
          1573.8746632476784,
          1567.24,
          1569.73,
          1572.9674999635995,
          1594.82,
          1572.7850104832112,
          1567.83,
          1543.6647737702224,
          1541.2599999294973,
          1561.96,
          1559.19,
          1545.86,
          1544.791044994894,
          1542.62,
          1563.67,
          1554.26,
          1545.09,
          1553.61,
          1554.71,
          1547.9574999312003,
          1569.93,
          1558.3506400774318,
          1596.45,
          1591.0866190054664,
          1588.1899999742063,
          1596.01,
          1585.1601871398996,
          1584.82,
          1575.8119293020118,
          1567.25,
          1572.4,
          1571.53,
          1560.64,
          1571.45,
          1570.67,
          1588.51,
          1582.89,
          1566.231872858875,
          1567.02,
          1564.04,
          1566.405988433749,
          1588.05,
          1578.67,
          1569.04,
          1566.1261056461367,
          1568.9862922780776,
          1590.87,
          1585.39,
          1579.12,
          1578.82,
          1572.4999999565478,
          1594.69,
          1573.98,
          1582.0957198977098,
          1591.3802891322368,
          1612.65,
          1601.7,
          1588.81,
          1577.52,
          1577.4474999627275,
          1589.65,
          1564.5,
          1576.0559018513288,
          1573.3440924300621,
          1593.12,
          1589.45,
          1588.02,
          1585.56,
          1585.7524999617933,
          1597.8,
          1587.86,
          1581.91,
          1577.46,
          1578.2887804287072,
          1577.037499970978,
          1576.259999987963,
          1594.72,
          1594.74,
          1597.52,
          1608.88,
          1587.11,
          1588.07,
          1525.18,
          1560,
          1542.51,
          1542.89,
          1543.8752050640846,
          1542.362500012442,
          1546.18,
          1544.1,
          1540.11,
          1536.58,
          1516.15,
          1521.6,
          1523,
          1523.53,
          1525.82,
          1526.786236346646,
          1528.6632693134816,
          1527.409999973661,
          1547.51,
          1545.09,
          1541.6,
          1528.26,
          1533.06,
          1532.93,
          1528.18,
          1527.98,
          1528.04,
          1526.9824999738591,
          1527.8774999789518,
          1545.22,
          1545.07,
          1541.79,
          1528.36,
          1532.93,
          1532.96,
          1529.16,
          1529.09,
          1529.08,
          1529.0024999970237,
          1549.76,
          1544.72,
          1541.92,
          1542.25,
          1528.71,
          1533.19,
          1532.94,
          1528.5,
          1528.45,
          1528.94,
          1528.5749999944528,
          1549.7,
          1545.07,
          1542.22,
          1541.77,
          1528.23,
          1532.56,
          1532.22,
          1527.75,
          1527,
          1527.231428576885,
          1539.97,
          1527.46,
          1516.16,
          1516.0099999691963,
          1535.64,
          1522.77,
          1520.13,
          1527.2049999693288,
          1551.02,
          1536.51,
          1539.24,
          1532.609999957672,
          1548.58,
          1547.22,
          1555.31,
          1555.5599999887236,
          1570.22,
          1548.35,
          1548.34,
          1550.3024999793113,
          1567.84,
          1548.43,
          1555.19,
          1554.3949999798488,
          1575.14,
          1554.91,
          1553.48,
          1548.2249999474247,
          1563.55,
          1545,
          1553.72,
          1549.4850000013435,
          1549.252499981593,
          1564.33,
          1551.55,
          1549.24,
          1549.83,
          1574.02,
          1553.62,
          1563.12,
          1566.221226167633,
          1580.33,
          1605.1,
          1593.94,
          1591.0823158842684,
          1591.9230111165944,
          1607.17,
          1641.51,
          1643.8459558198954,
          1639.843222661064,
          1667.45,
          1661.06,
          1656.6372445497448,
          1681.38,
          1655,
          1656.453333302337,
          1648.102362056863,
          1661.42,
          1660.61,
          1649.7094012882344,
          1663.64,
          1652.37,
          1651.033333251951,
          1673.31,
          1651.021169676953,
          1657.16,
          1669.1661499501272,
          1654.39,
          1646.96,
          1656.5066665944446,
          1678.17,
          1650.8404536077976,
          1653.24,
          1654.48,
          1663.41,
          1665.32,
          1656.6676256456708,
          1671.39,
          1664.09,
          1668.26,
          1684.73,
          1657.8926220954731,
          1667.78,
          1653.893971173381,
          1652.57,
          1627.41,
          1635.4366665991788,
          1651.53,
          1623.5124133522606,
          1624.7,
          1621.55,
          1635.14,
          1635.45,
          1627.9809288271872,
          1647.28,
          1631.21,
          1626.8633333051698,
          1646.15,
          1629.266177869734,
          1631.83,
          1625.8576881587298,
          1643.64,
          1623.42,
          1637.22,
          1634.83,
          1648.53,
          1647.11,
          1637.6333332092925,
          1660.4,
          1644.371753460661,
          1667.44,
          1647.2010304855064,
          1660.47,
          1624.1341112425773,
          1622.31,
          1621.67,
          1641.08,
          1630.04,
          1630.53,
          1656.34,
          1653.2,
          1648.64,
          1643.1599999224536,
          1653.92,
          1632.2919876893131,
          1645.9,
          1633.3558427432124,
          1653.39,
          1636.64,
          1638.15,
          1635.77,
          1648.09,
          1643.92,
          1642.57,
          1638.49,
          1649.19,
          1644.75,
          1624.7833333037038,
          1641.66,
          1632.28,
          1633.59,
          1623.6633332121748,
          1643.47,
          1630.04,
          1634.36,
          1611.9213548624703,
          1645.27,
          1632.18,
          1631.9224417566952,
          1631.222141511575,
          1649.23,
          1625.78,
          1630.2703645184506,
          1631.4343019411906,
          1657.53,
          1637.34,
          1643.27,
          1641.03,
          1652.3,
          1649.21,
          1641.96,
          1639.49,
          1656.86,
          1635.92,
          1630.7492233372127,
          1622.27,
          1643.5,
          1637.87,
          1629.05,
          1631.49,
          1641.96,
          1626.14,
          1618.8899999159723,
          1645.76,
          1636.73,
          1628.57,
          1623.2533331939815,
          1644.81,
          1621.21,
          1617.861953179537,
          1609.381375413569,
          1639.16,
          1575.07,
          1560.82,
          1553.68,
          1565.48,
          1546.64,
          1543.09,
          1543.41,
          1562.93,
          1557.69,
          1548.0933332255072,
          1572.72,
          1550.63,
          1556.7623574684353,
          1556.2491326398483,
          1553.8,
          1578.67,
          1569.68,
          1562.92,
          1549.21,
          1563.11,
          1558.55,
          1571.52,
          1543.0293049202749,
          1539.8499730638764,
          1549.443333261056,
          1552.053333243965,
          1547.9292066908176,
          1556.11,
          1581.29,
          1598.06,
          1582.7733332786595,
          1607.91,
          1632.01,
          1598.1,
          1612.4189423964672,
          1628.5,
          1640.78,
          1634.69,
          1615.7233332371527,
          1614.47,
          1627.85,
          1616.14,
          1609.7502354820535,
          1609.54,
          1609.39,
          1608.08,
          1612.54,
          1606.7499999793981,
          1599.5033332198414,
          1628.89,
          1632.81,
          1617.2099998712301,
          1631.57,
          1628.14,
          1622.220769088637,
          1612.07,
          1608.78,
          1593.53,
          1606.43,
          1612.72,
          1600.9099998805555,
          1617.4146152974206,
          1631.54,
          1611.64,
          1601.14,
          1616.98,
          1606.5314284927745,
          1602.0499998559028,
          1620.15,
          1622.87,
          1560.3999998142858,
          1583.61,
          1580.31,
          1570.935714344494,
          1563.48,
          1588.11,
          1568.22,
          1581.446666523589,
          1600.62,
          1590.55,
          1591.7823075962074,
          1579.48,
          1583.3499998931877,
          1579.2509239517822,
          1581.8566665462852,
          1577.6,
          1594.73,
          1585.13,
          1593.59,
          1597.6,
          1573.7720649667854,
          1594.6153845211195,
          1575.82,
          1590.292942077298,
          1596.150112463036,
          1602.4,
          1608.17,
          1622.91,
          1622.28,
          1620.96,
          1630.65,
          1603.14,
          1608.3692306822536,
          1598.78,
          1599.0458578740354,
          1603.6051956982146,
          1601.55,
          1597.6599997514882,
          1597.0861459230184,
          1599.9,
          1604.6,
          1618.73,
          1610.61,
          1619.53,
          1627.52,
          1590.2443720560345,
          1603.124615264357,
          1590.63,
          1592.6949997955687,
          1590.56,
          1591.04,
          1594.25,
          1609.25,
          1600.06,
          1614.55,
          1621.27,
          1600.69,
          1603.317692192978,
          1590.77,
          1591.5306037201447,
          1591.07,
          1592.32,
          1593.8049997707176,
          1610.04,
          1601.26,
          1595.32,
          1610.06,
          1601.9,
          1615.84,
          1622.61,
          1592.1892428769781,
          1604.2538460613043,
          1591.82,
          1593.6899997948083,
          1591.28,
          1592.33,
          1595.67,
          1610.9,
          1602.22,
          1616.39,
          1623.05,
          1592.2343697911701,
          1604.1699999075727,
          1591.38,
          1591.866164076596,
          1591.37,
          1592.2,
          1595.68,
          1611.2,
          1602.72,
          1616.92,
          1623.31,
          1602.43,
          1605.2561537320348,
          1592.58,
          1593.1197316082996,
          1591.72,
          1593.03,
          1594.344999803059,
          1591.62,
          1592.47,
          1594.88,
          1610.48,
          1600.94,
          1616.53,
          1622.41,
          1592.9432979032852,
          1605.1753845100632,
          1592.59,
          1594.4199998414185,
          1603.3915383397054,
          1593.24,
          1594.1299998348213,
          1608.04,
          1586.25,
          1589.88,
          1614.26,
          1591.5,
          1597.77,
          1571.19330186594,
          1583.34,
          1590.7792306625915,
          1580.58,
          1577.36109444124,
          1593.02,
          1575.44,
          1580.2899998718585,
          1594,
          1579.05,
          1569.71,
          1593.1,
          1574.95,
          1591.9,
          1572.6649979095096,
          1585.177885288175,
          1627.1199999044313,
          1602.33,
          1592.1799998215608,
          1609.79,
          1597.3,
          1602.41,
          1624.94,
          1606.1,
          1616.27,
          1590.3123340581812,
          1601.74,
          1593.663475716264,
          1593.2,
          1608.67,
          1629.24,
          1608.26,
          1633.05,
          1633.3,
          1627.82,
          1627.2653845126986,
          1610.6032269142074,
          1625.24,
          1614.3261424871607,
          1614.53,
          1617.4899998028109,
          1617.836484732586,
          1630.52,
          1660.79,
          1673.47,
          1635.64,
          1671.8,
          1678.16,
          1664.49,
          1660.5699998743385,
          1638.9329106167402,
          1643.594999813641,
          1635.2108353076635,
          1637.17,
          1642.25,
          1657.98,
          1641.46,
          1659.13,
          1667.45,
          1639.32,
          1640.8961537313414,
          1656.75,
          1632.11,
          1611.74,
          1614.02,
          1585.8399998690477,
          1600.0015382596966,
          1582.68,
          1580.0099998822752,
          1578.0817101061384,
          1585.27,
          1591.6016839605843,
          1584.6445781531745,
          1584.01,
          1590.08,
          1602.79,
          1585.14,
          1576.16,
          1579.69,
          1556.45,
          1569.137692184085,
          1554.87,
          1562.7249999131946,
          1575.9238460207978,
          1565.98,
          1573.253105930831,
          1572.6934416638196,
          1573.25,
          1572.62,
          1584.96,
          1574.19,
          1593.78,
          1587.9,
          1572.15,
          1593.32,
          1596.8,
          1588.74,
          1569.0744601464742,
          1601.48,
          1577.47,
          1590.49,
          1570.01,
          1572.4949999541666,
          1582.419999890873,
          1576.03,
          1585.564064533735
         ],
         "yaxis": "y"
        }
       ],
       "layout": {
        "autosize": true,
        "legend": {
         "title": {
          "text": "variable"
         },
         "tracegroupgap": 0
        },
        "margin": {
         "t": 60
        },
        "template": {
         "data": {
          "bar": [
           {
            "error_x": {
             "color": "#2a3f5f"
            },
            "error_y": {
             "color": "#2a3f5f"
            },
            "marker": {
             "line": {
              "color": "#E5ECF6",
              "width": 0.5
             },
             "pattern": {
              "fillmode": "overlay",
              "size": 10,
              "solidity": 0.2
             }
            },
            "type": "bar"
           }
          ],
          "barpolar": [
           {
            "marker": {
             "line": {
              "color": "#E5ECF6",
              "width": 0.5
             },
             "pattern": {
              "fillmode": "overlay",
              "size": 10,
              "solidity": 0.2
             }
            },
            "type": "barpolar"
           }
          ],
          "carpet": [
           {
            "aaxis": {
             "endlinecolor": "#2a3f5f",
             "gridcolor": "white",
             "linecolor": "white",
             "minorgridcolor": "white",
             "startlinecolor": "#2a3f5f"
            },
            "baxis": {
             "endlinecolor": "#2a3f5f",
             "gridcolor": "white",
             "linecolor": "white",
             "minorgridcolor": "white",
             "startlinecolor": "#2a3f5f"
            },
            "type": "carpet"
           }
          ],
          "choropleth": [
           {
            "colorbar": {
             "outlinewidth": 0,
             "ticks": ""
            },
            "type": "choropleth"
           }
          ],
          "contour": [
           {
            "colorbar": {
             "outlinewidth": 0,
             "ticks": ""
            },
            "colorscale": [
             [
              0,
              "#0d0887"
             ],
             [
              0.1111111111111111,
              "#46039f"
             ],
             [
              0.2222222222222222,
              "#7201a8"
             ],
             [
              0.3333333333333333,
              "#9c179e"
             ],
             [
              0.4444444444444444,
              "#bd3786"
             ],
             [
              0.5555555555555556,
              "#d8576b"
             ],
             [
              0.6666666666666666,
              "#ed7953"
             ],
             [
              0.7777777777777778,
              "#fb9f3a"
             ],
             [
              0.8888888888888888,
              "#fdca26"
             ],
             [
              1,
              "#f0f921"
             ]
            ],
            "type": "contour"
           }
          ],
          "contourcarpet": [
           {
            "colorbar": {
             "outlinewidth": 0,
             "ticks": ""
            },
            "type": "contourcarpet"
           }
          ],
          "heatmap": [
           {
            "colorbar": {
             "outlinewidth": 0,
             "ticks": ""
            },
            "colorscale": [
             [
              0,
              "#0d0887"
             ],
             [
              0.1111111111111111,
              "#46039f"
             ],
             [
              0.2222222222222222,
              "#7201a8"
             ],
             [
              0.3333333333333333,
              "#9c179e"
             ],
             [
              0.4444444444444444,
              "#bd3786"
             ],
             [
              0.5555555555555556,
              "#d8576b"
             ],
             [
              0.6666666666666666,
              "#ed7953"
             ],
             [
              0.7777777777777778,
              "#fb9f3a"
             ],
             [
              0.8888888888888888,
              "#fdca26"
             ],
             [
              1,
              "#f0f921"
             ]
            ],
            "type": "heatmap"
           }
          ],
          "heatmapgl": [
           {
            "colorbar": {
             "outlinewidth": 0,
             "ticks": ""
            },
            "colorscale": [
             [
              0,
              "#0d0887"
             ],
             [
              0.1111111111111111,
              "#46039f"
             ],
             [
              0.2222222222222222,
              "#7201a8"
             ],
             [
              0.3333333333333333,
              "#9c179e"
             ],
             [
              0.4444444444444444,
              "#bd3786"
             ],
             [
              0.5555555555555556,
              "#d8576b"
             ],
             [
              0.6666666666666666,
              "#ed7953"
             ],
             [
              0.7777777777777778,
              "#fb9f3a"
             ],
             [
              0.8888888888888888,
              "#fdca26"
             ],
             [
              1,
              "#f0f921"
             ]
            ],
            "type": "heatmapgl"
           }
          ],
          "histogram": [
           {
            "marker": {
             "pattern": {
              "fillmode": "overlay",
              "size": 10,
              "solidity": 0.2
             }
            },
            "type": "histogram"
           }
          ],
          "histogram2d": [
           {
            "colorbar": {
             "outlinewidth": 0,
             "ticks": ""
            },
            "colorscale": [
             [
              0,
              "#0d0887"
             ],
             [
              0.1111111111111111,
              "#46039f"
             ],
             [
              0.2222222222222222,
              "#7201a8"
             ],
             [
              0.3333333333333333,
              "#9c179e"
             ],
             [
              0.4444444444444444,
              "#bd3786"
             ],
             [
              0.5555555555555556,
              "#d8576b"
             ],
             [
              0.6666666666666666,
              "#ed7953"
             ],
             [
              0.7777777777777778,
              "#fb9f3a"
             ],
             [
              0.8888888888888888,
              "#fdca26"
             ],
             [
              1,
              "#f0f921"
             ]
            ],
            "type": "histogram2d"
           }
          ],
          "histogram2dcontour": [
           {
            "colorbar": {
             "outlinewidth": 0,
             "ticks": ""
            },
            "colorscale": [
             [
              0,
              "#0d0887"
             ],
             [
              0.1111111111111111,
              "#46039f"
             ],
             [
              0.2222222222222222,
              "#7201a8"
             ],
             [
              0.3333333333333333,
              "#9c179e"
             ],
             [
              0.4444444444444444,
              "#bd3786"
             ],
             [
              0.5555555555555556,
              "#d8576b"
             ],
             [
              0.6666666666666666,
              "#ed7953"
             ],
             [
              0.7777777777777778,
              "#fb9f3a"
             ],
             [
              0.8888888888888888,
              "#fdca26"
             ],
             [
              1,
              "#f0f921"
             ]
            ],
            "type": "histogram2dcontour"
           }
          ],
          "mesh3d": [
           {
            "colorbar": {
             "outlinewidth": 0,
             "ticks": ""
            },
            "type": "mesh3d"
           }
          ],
          "parcoords": [
           {
            "line": {
             "colorbar": {
              "outlinewidth": 0,
              "ticks": ""
             }
            },
            "type": "parcoords"
           }
          ],
          "pie": [
           {
            "automargin": true,
            "type": "pie"
           }
          ],
          "scatter": [
           {
            "fillpattern": {
             "fillmode": "overlay",
             "size": 10,
             "solidity": 0.2
            },
            "type": "scatter"
           }
          ],
          "scatter3d": [
           {
            "line": {
             "colorbar": {
              "outlinewidth": 0,
              "ticks": ""
             }
            },
            "marker": {
             "colorbar": {
              "outlinewidth": 0,
              "ticks": ""
             }
            },
            "type": "scatter3d"
           }
          ],
          "scattercarpet": [
           {
            "marker": {
             "colorbar": {
              "outlinewidth": 0,
              "ticks": ""
             }
            },
            "type": "scattercarpet"
           }
          ],
          "scattergeo": [
           {
            "marker": {
             "colorbar": {
              "outlinewidth": 0,
              "ticks": ""
             }
            },
            "type": "scattergeo"
           }
          ],
          "scattergl": [
           {
            "marker": {
             "colorbar": {
              "outlinewidth": 0,
              "ticks": ""
             }
            },
            "type": "scattergl"
           }
          ],
          "scattermapbox": [
           {
            "marker": {
             "colorbar": {
              "outlinewidth": 0,
              "ticks": ""
             }
            },
            "type": "scattermapbox"
           }
          ],
          "scatterpolar": [
           {
            "marker": {
             "colorbar": {
              "outlinewidth": 0,
              "ticks": ""
             }
            },
            "type": "scatterpolar"
           }
          ],
          "scatterpolargl": [
           {
            "marker": {
             "colorbar": {
              "outlinewidth": 0,
              "ticks": ""
             }
            },
            "type": "scatterpolargl"
           }
          ],
          "scatterternary": [
           {
            "marker": {
             "colorbar": {
              "outlinewidth": 0,
              "ticks": ""
             }
            },
            "type": "scatterternary"
           }
          ],
          "surface": [
           {
            "colorbar": {
             "outlinewidth": 0,
             "ticks": ""
            },
            "colorscale": [
             [
              0,
              "#0d0887"
             ],
             [
              0.1111111111111111,
              "#46039f"
             ],
             [
              0.2222222222222222,
              "#7201a8"
             ],
             [
              0.3333333333333333,
              "#9c179e"
             ],
             [
              0.4444444444444444,
              "#bd3786"
             ],
             [
              0.5555555555555556,
              "#d8576b"
             ],
             [
              0.6666666666666666,
              "#ed7953"
             ],
             [
              0.7777777777777778,
              "#fb9f3a"
             ],
             [
              0.8888888888888888,
              "#fdca26"
             ],
             [
              1,
              "#f0f921"
             ]
            ],
            "type": "surface"
           }
          ],
          "table": [
           {
            "cells": {
             "fill": {
              "color": "#EBF0F8"
             },
             "line": {
              "color": "white"
             }
            },
            "header": {
             "fill": {
              "color": "#C8D4E3"
             },
             "line": {
              "color": "white"
             }
            },
            "type": "table"
           }
          ]
         },
         "layout": {
          "annotationdefaults": {
           "arrowcolor": "#2a3f5f",
           "arrowhead": 0,
           "arrowwidth": 1
          },
          "autotypenumbers": "strict",
          "coloraxis": {
           "colorbar": {
            "outlinewidth": 0,
            "ticks": ""
           }
          },
          "colorscale": {
           "diverging": [
            [
             0,
             "#8e0152"
            ],
            [
             0.1,
             "#c51b7d"
            ],
            [
             0.2,
             "#de77ae"
            ],
            [
             0.3,
             "#f1b6da"
            ],
            [
             0.4,
             "#fde0ef"
            ],
            [
             0.5,
             "#f7f7f7"
            ],
            [
             0.6,
             "#e6f5d0"
            ],
            [
             0.7,
             "#b8e186"
            ],
            [
             0.8,
             "#7fbc41"
            ],
            [
             0.9,
             "#4d9221"
            ],
            [
             1,
             "#276419"
            ]
           ],
           "sequential": [
            [
             0,
             "#0d0887"
            ],
            [
             0.1111111111111111,
             "#46039f"
            ],
            [
             0.2222222222222222,
             "#7201a8"
            ],
            [
             0.3333333333333333,
             "#9c179e"
            ],
            [
             0.4444444444444444,
             "#bd3786"
            ],
            [
             0.5555555555555556,
             "#d8576b"
            ],
            [
             0.6666666666666666,
             "#ed7953"
            ],
            [
             0.7777777777777778,
             "#fb9f3a"
            ],
            [
             0.8888888888888888,
             "#fdca26"
            ],
            [
             1,
             "#f0f921"
            ]
           ],
           "sequentialminus": [
            [
             0,
             "#0d0887"
            ],
            [
             0.1111111111111111,
             "#46039f"
            ],
            [
             0.2222222222222222,
             "#7201a8"
            ],
            [
             0.3333333333333333,
             "#9c179e"
            ],
            [
             0.4444444444444444,
             "#bd3786"
            ],
            [
             0.5555555555555556,
             "#d8576b"
            ],
            [
             0.6666666666666666,
             "#ed7953"
            ],
            [
             0.7777777777777778,
             "#fb9f3a"
            ],
            [
             0.8888888888888888,
             "#fdca26"
            ],
            [
             1,
             "#f0f921"
            ]
           ]
          },
          "colorway": [
           "#636efa",
           "#EF553B",
           "#00cc96",
           "#ab63fa",
           "#FFA15A",
           "#19d3f3",
           "#FF6692",
           "#B6E880",
           "#FF97FF",
           "#FECB52"
          ],
          "font": {
           "color": "#2a3f5f"
          },
          "geo": {
           "bgcolor": "white",
           "lakecolor": "white",
           "landcolor": "#E5ECF6",
           "showlakes": true,
           "showland": true,
           "subunitcolor": "white"
          },
          "hoverlabel": {
           "align": "left"
          },
          "hovermode": "closest",
          "mapbox": {
           "style": "light"
          },
          "paper_bgcolor": "white",
          "plot_bgcolor": "#E5ECF6",
          "polar": {
           "angularaxis": {
            "gridcolor": "white",
            "linecolor": "white",
            "ticks": ""
           },
           "bgcolor": "#E5ECF6",
           "radialaxis": {
            "gridcolor": "white",
            "linecolor": "white",
            "ticks": ""
           }
          },
          "scene": {
           "xaxis": {
            "backgroundcolor": "#E5ECF6",
            "gridcolor": "white",
            "gridwidth": 2,
            "linecolor": "white",
            "showbackground": true,
            "ticks": "",
            "zerolinecolor": "white"
           },
           "yaxis": {
            "backgroundcolor": "#E5ECF6",
            "gridcolor": "white",
            "gridwidth": 2,
            "linecolor": "white",
            "showbackground": true,
            "ticks": "",
            "zerolinecolor": "white"
           },
           "zaxis": {
            "backgroundcolor": "#E5ECF6",
            "gridcolor": "white",
            "gridwidth": 2,
            "linecolor": "white",
            "showbackground": true,
            "ticks": "",
            "zerolinecolor": "white"
           }
          },
          "shapedefaults": {
           "line": {
            "color": "#2a3f5f"
           }
          },
          "ternary": {
           "aaxis": {
            "gridcolor": "white",
            "linecolor": "white",
            "ticks": ""
           },
           "baxis": {
            "gridcolor": "white",
            "linecolor": "white",
            "ticks": ""
           },
           "bgcolor": "#E5ECF6",
           "caxis": {
            "gridcolor": "white",
            "linecolor": "white",
            "ticks": ""
           }
          },
          "title": {
           "x": 0.05
          },
          "xaxis": {
           "automargin": true,
           "gridcolor": "white",
           "linecolor": "white",
           "ticks": "",
           "title": {
            "standoff": 15
           },
           "zerolinecolor": "white",
           "zerolinewidth": 2
          },
          "yaxis": {
           "automargin": true,
           "gridcolor": "white",
           "linecolor": "white",
           "ticks": "",
           "title": {
            "standoff": 15
           },
           "zerolinecolor": "white",
           "zerolinewidth": 2
          }
         }
        },
        "xaxis": {
         "anchor": "y",
         "autorange": true,
         "domain": [
          0,
          1
         ],
         "range": [
          0,
          1098000
         ],
         "title": {
          "text": "index"
         },
         "type": "linear"
        },
        "yaxis": {
         "anchor": "x",
         "autorange": true,
         "domain": [
          0,
          1
         ],
         "range": [
          1179.5411111111111,
          1711.318888888889
         ],
         "title": {
          "text": "value"
         },
         "type": "linear"
        }
       }
      },
      "image/png": "[encoded data removed]",
      "text/html": [
       "<div>                            <div id=\"5307a93e-237c-4fd3-9220-ff7c10e92632\" class=\"plotly-graph-div\" style=\"height:525px; width:100%;\"></div>            <script type=\"text/javascript\">                require([\"plotly\"], function(Plotly) {                    window.PLOTLYENV=window.PLOTLYENV || {};                                    if (document.getElementById(\"5307a93e-237c-4fd3-9220-ff7c10e92632\")) {                    Plotly.newPlot(                        \"5307a93e-237c-4fd3-9220-ff7c10e92632\",                        [{\"hovertemplate\":\"variable=underlying_price<br>index=%{x}<br>value=%{y}<extra></extra>\",\"legendgroup\":\"underlying_price\",\"line\":{\"color\":\"#636efa\",\"dash\":\"solid\"},\"marker\":{\"symbol\":\"circle\"},\"mode\":\"lines\",\"name\":\"underlying_price\",\"showlegend\":true,\"x\":[0,1000,2000,3000,4000,5000,6000,7000,8000,9000,10000,11000,12000,13000,14000,15000,16000,17000,18000,19000,20000,21000,22000,23000,24000,25000,26000,27000,28000,29000,30000,31000,32000,33000,34000,35000,36000,37000,38000,39000,40000,41000,42000,43000,44000,45000,46000,47000,48000,49000,50000,51000,52000,53000,54000,55000,56000,57000,58000,59000,60000,61000,62000,63000,64000,65000,66000,67000,68000,69000,70000,71000,72000,73000,74000,75000,76000,77000,78000,79000,80000,81000,82000,83000,84000,85000,86000,87000,88000,89000,90000,91000,92000,93000,94000,95000,96000,97000,98000,99000,100000,101000,102000,103000,104000,105000,106000,107000,108000,109000,110000,111000,112000,113000,114000,115000,116000,117000,118000,119000,120000,121000,122000,123000,124000,125000,126000,127000,128000,129000,130000,131000,132000,133000,134000,135000,136000,137000,138000,139000,140000,141000,142000,143000,144000,145000,146000,147000,148000,149000,150000,151000,152000,153000,154000,155000,156000,157000,158000,159000,160000,161000,162000,163000,164000,165000,166000,167000,168000,169000,170000,171000,172000,173000,174000,175000,176000,177000,178000,179000,180000,181000,182000,183000,184000,185000,186000,187000,188000,189000,190000,191000,192000,193000,194000,195000,196000,197000,198000,199000,200000,201000,202000,203000,204000,205000,206000,207000,208000,209000,210000,211000,212000,213000,214000,215000,216000,217000,218000,219000,220000,221000,222000,223000,224000,225000,226000,227000,228000,229000,230000,231000,232000,233000,234000,235000,236000,237000,238000,239000,240000,241000,242000,243000,244000,245000,246000,247000,248000,249000,250000,251000,252000,253000,254000,255000,256000,257000,258000,259000,260000,261000,262000,263000,264000,265000,266000,267000,268000,269000,270000,271000,272000,273000,274000,275000,276000,277000,278000,279000,280000,281000,282000,283000,284000,285000,286000,287000,288000,289000,290000,291000,292000,293000,294000,295000,296000,297000,298000,299000,300000,301000,302000,303000,304000,305000,306000,307000,308000,309000,310000,311000,312000,313000,314000,315000,316000,317000,318000,319000,320000,321000,322000,323000,324000,325000,326000,327000,328000,329000,330000,331000,332000,333000,334000,335000,336000,337000,338000,339000,340000,341000,342000,343000,344000,345000,346000,347000,348000,349000,350000,351000,352000,353000,354000,355000,356000,357000,358000,359000,360000,361000,362000,363000,364000,365000,366000,367000,368000,369000,370000,371000,372000,373000,374000,375000,376000,377000,378000,379000,380000,381000,382000,383000,384000,385000,386000,387000,388000,389000,390000,391000,392000,393000,394000,395000,396000,397000,398000,399000,400000,401000,402000,403000,404000,405000,406000,407000,408000,409000,410000,411000,412000,413000,414000,415000,416000,417000,418000,419000,420000,421000,422000,423000,424000,425000,426000,427000,428000,429000,430000,431000,432000,433000,434000,435000,436000,437000,438000,439000,440000,441000,442000,443000,444000,445000,446000,447000,448000,449000,450000,451000,452000,453000,454000,455000,456000,457000,458000,459000,460000,461000,462000,463000,464000,465000,466000,467000,468000,469000,470000,471000,472000,473000,474000,475000,476000,477000,478000,479000,480000,481000,482000,483000,484000,485000,486000,487000,488000,489000,490000,491000,492000,493000,494000,495000,496000,497000,498000,499000,500000,501000,502000,503000,504000,505000,506000,507000,508000,509000,510000,511000,512000,513000,514000,515000,516000,517000,518000,519000,520000,521000,522000,523000,524000,525000,526000,527000,528000,529000,530000,531000,532000,533000,534000,535000,536000,537000,538000,539000,540000,541000,542000,543000,544000,545000,546000,547000,548000,549000,550000,551000,552000,553000,554000,555000,556000,557000,558000,559000,560000,561000,562000,563000,564000,565000,566000,567000,568000,569000,570000,571000,572000,573000,574000,575000,576000,577000,578000,579000,580000,581000,582000,583000,584000,585000,586000,587000,588000,589000,590000,591000,592000,593000,594000,595000,596000,597000,598000,599000,600000,601000,602000,603000,604000,605000,606000,607000,608000,609000,610000,611000,612000,613000,614000,615000,616000,617000,618000,619000,620000,621000,622000,623000,624000,625000,626000,627000,628000,629000,630000,631000,632000,633000,634000,635000,636000,637000,638000,639000,640000,641000,642000,643000,644000,645000,646000,647000,648000,649000,650000,651000,652000,653000,654000,655000,656000,657000,658000,659000,660000,661000,662000,663000,664000,665000,666000,667000,668000,669000,670000,671000,672000,673000,674000,675000,676000,677000,678000,679000,680000,681000,682000,683000,684000,685000,686000,687000,688000,689000,690000,691000,692000,693000,694000,695000,696000,697000,698000,699000,700000,701000,702000,703000,704000,705000,706000,707000,708000,709000,710000,711000,712000,713000,714000,715000,716000,717000,718000,719000,720000,721000,722000,723000,724000,725000,726000,727000,728000,729000,730000,731000,732000,733000,734000,735000,736000,737000,738000,739000,740000,741000,742000,743000,744000,745000,746000,747000,748000,749000,750000,751000,752000,753000,754000,755000,756000,757000,758000,759000,760000,761000,762000,763000,764000,765000,766000,767000,768000,769000,770000,771000,772000,773000,774000,775000,776000,777000,778000,779000,780000,781000,782000,783000,784000,785000,786000,787000,788000,789000,790000,791000,792000,793000,794000,795000,796000,797000,798000,799000,800000,801000,802000,803000,804000,805000,806000,807000,808000,809000,810000,811000,812000,813000,814000,815000,816000,817000,818000,819000,820000,821000,822000,823000,824000,825000,826000,827000,828000,829000,830000,831000,832000,833000,834000,835000,836000,837000,838000,839000,840000,841000,842000,843000,844000,845000,846000,847000,848000,849000,850000,851000,852000,853000,854000,855000,856000,857000,858000,859000,860000,861000,862000,863000,864000,865000,866000,867000,868000,869000,870000,871000,872000,873000,874000,875000,876000,877000,878000,879000,880000,881000,882000,883000,884000,885000,886000,887000,888000,889000,890000,891000,892000,893000,894000,895000,896000,897000,898000,899000,900000,901000,902000,903000,904000,905000,906000,907000,908000,909000,910000,911000,912000,913000,914000,915000,916000,917000,918000,919000,920000,921000,922000,923000,924000,925000,926000,927000,928000,929000,930000,931000,932000,933000,934000,935000,936000,937000,938000,939000,940000,941000,942000,943000,944000,945000,946000,947000,948000,949000,950000,951000,952000,953000,954000,955000,956000,957000,958000,959000,960000,961000,962000,963000,964000,965000,966000,967000,968000,969000,970000,971000,972000,973000,974000,975000,976000,977000,978000,979000,980000,981000,982000,983000,984000,985000,986000,987000,988000,989000,990000,991000,992000,993000,994000,995000,996000,997000,998000,999000,1000000,1001000,1002000,1003000,1004000,1005000,1006000,1007000,1008000,1009000,1010000,1011000,1012000,1013000,1014000,1015000,1016000,1017000,1018000,1019000,1020000,1021000,1022000,1023000,1024000,1025000,1026000,1027000,1028000,1029000,1030000,1031000,1032000,1033000,1034000,1035000,1036000,1037000,1038000,1039000,1040000,1041000,1042000,1043000,1044000,1045000,1046000,1047000,1048000,1049000,1050000,1051000,1052000,1053000,1054000,1055000,1056000,1057000,1058000,1059000,1060000,1061000,1062000,1063000,1064000,1065000,1066000,1067000,1068000,1069000,1070000,1071000,1072000,1073000,1074000,1075000,1076000,1077000,1078000,1079000,1080000,1081000,1082000,1083000,1084000,1085000,1086000,1087000,1088000,1089000,1090000,1091000,1092000,1093000,1094000,1095000,1096000,1097000,1098000],\"xaxis\":\"x\",\"y\":[1208.0475971816895,1208.08,1208.04,1210.52,1208.12,1219.46,1210.56,1210.07,1207.68,1208.46,1208.32,1208.33,1207.244999983631,1206.31,1208.0081944339254,1206.8863795390077,1208.78,1213.25,1210.75,1206.13,1217.88,1218.0,1213.29,1224.77,1233.17,1248.53,1252.0549999686261,1250.57,1247.8782128490977,1249.5141877464744,1254.13,1251.67,1253.66,1253.77,1252.38,1249.32,1249.06,1252.35,1251.76,1252.98,1250.082382832892,1251.22,1254.5864745186057,1253.8872683307115,1260.8779445762884,1257.7109875084584,1252.1134166985175,1250.6491749142497,1252.59,1253.47,1255.63,1256.58,1254.23,1255.81,1253.21,1252.71,1253.05,1252.74,1252.92,1250.4,1252.9,1253.55,1249.52,1249.81,1251.57,1257.15,1257.24,1255.68,1252.75,1255.32,1253.51,1251.69,1249.92,1253.17,1252.8,1252.97,1254.01,1253.14,1252.19,1249.93,1252.56,1253.8899999487435,1248.6099999434193,1251.121428635516,1251.89,1249.62,1250.12,1248.71,1250.84,1250.31,1253.05,1256.07,1256.25,1249.75,1245.75,1246.39,1247.92,1253.12,1255.14,1262.1422571156438,1264.5778912441463,1263.1565050208615,1269.2,1269.11,1274.47,1266.23,1266.45,1269.33,1270.74,1269.64,1270.9,1270.08,1268.06,1266.6,1265.62,1263.8,1263.84,1263.16,1265.81,1263.81,1263.48,1264.62,1265.36,1264.0,1263.48,1262.1982365088925,1264.6649149556283,1262.8038745762012,1268.32,1267.65,1265.84,1266.49,1267.75,1264.56,1264.11,1264.2,1268.25,1268.03,1268.33,1267.5,1263.9,1264.56,1263.86,1263.77,1262.4511062999495,1262.3109361948966,1263.3085022620564,1262.6294508730311,1263.87,1264.25,1264.11,1264.25,1264.42,1265.32,1265.18,1264.54,1265.49,1266.13,1267.23,1276.04,1264.64,1264.08,1263.49,1265.7934182540093,1267.917260995829,1270.2848448448638,1269.4627736038556,1270.38,1282.63,1285.0,1291.27330308683,1296.8795643529056,1303.5877975270914,1311.84,1314.65,1315.33,1311.53,1311.58,1316.68,1316.46,1316.58,1316.72,1317.0,1311.03,1311.06,1310.84,1310.87,1313.9,1313.55,1311.26,1311.95,1310.82,1308.04,1312.0629947316,1316.99,1322.52,1321.489330148641,1320.4371232622257,1324.09,1322.82,1325.01,1328.05,1340.8,1346.76,1348.5,1334.77,1333.8,1324.66,1324.41,1324.14,1321.55,1321.39,1324.8368522972905,1327.94,1321.36,1321.2315133939865,1327.67,1328.74,1324.28,1324.17,1326.59,1328.53,1332.11,1329.1650141182142,1329.27,1332.93,1333.1,1331.24,1326.43,1329.39,1340.31,1332.1112539738667,1337.21,1329.44,1332.16,1342.47,1345.04,1338.9313910293563,1340.2863522299867,1338.29,1340.77,1338.33,1342.55,1335.77,1332.87,1331.0468051138375,1334.86,1334.83,1332.71,1333.89,1337.73,1337.92,1332.8212796787932,1333.77,1334.07,1336.84,1336.84,1333.03,1334.03,1334.3226510858212,1334.1536191663615,1339.1,1333.29,1337.71,1338.52,1338.55,1334.083196658637,1334.69,1334.63,1337.81,1337.88,1337.96,1333.65,1334.68,1334.798695386315,1339.99,1339.94,1333.97,1339.36,1339.84,1340.02,1334.9762750435723,1335.95,1335.19,1338.02,1337.34,1333.7,1334.02,1334.12,1339.55,1339.71,1333.92,1339.39,1339.47,1339.27,1334.488888112385,1335.29,1334.95,1337.79,1337.73,1334.81,1335.34,1335.35,1334.85,1340.34,1335.29,1339.43,1340.94,1341.04,1335.4050707739898,1335.3951586985718,1336.31,1338.81,1338.79,1338.77,1334.96,1335.39,1334.85,1340.36,1340.24,1334.86,1339.34,1341.07,1340.91,1335.3199817446268,1335.96,1335.99,1338.85,1338.89,1335.45,1335.65,1334.96,1334.97,1340.5,1335.54,1339.91,1336.54,1339.24,1338.04,1333.66,1333.86,1330.8427517897585,1339.76,1324.76,1326.43,1333.51,1344.39,1342.62,1342.26,1345.06,1349.41,1354.82,1389.0,1410.7882758857995,1408.29,1412.1,1414.6,1401.85,1404.27,1406.31,1410.0,1410.46,1404.29,1397.9,1409.23,1406.52,1395.14,1399.45,1403.76,1406.74,1378.45,1388.252500006808,1393.62,1384.81,1429.37,1418.65,1427.67,1430.62,1428.7228571223216,1426.93,1419.45250000897,1419.49,1425.87,1412.19,1403.2,1407.72,1408.2900001020835,1413.01,1419.19,1409.79,1419.42,1415.16,1412.08,1412.5,1411.700979339742,1407.29,1414.8026004658736,1410.1775000056423,1415.37,1411.24,1408.17,1415.42,1421.82,1410.1837051445139,1417.67,1421.4017801591388,1417.1674999944858,1428.37,1431.21,1433.01,1465.29,1455.59,1452.3020263376459,1553.02,1561.0875000242436,1571.06,1570.71,1559.29,1552.5204167969323,1547.81,1548.307499975186,1565.37,1552.35,1566.64,1542.36,1543.76,1534.57,1523.95,1535.84,1523.851984719882,1559.26,1544.87,1521.03,1525.61,1524.43340998112,1546.31,1532.948356859424,1535.38,1535.17,1537.7349999526539,1548.13,1533.29,1545.41,1549.189993354398,1574.19,1557.81,1523.05,1528.49,1529.4795496551242,1537.38,1527.2377566408459,1531.45,1531.04,1527.6899999414682,1536.71,1530.06,1528.65,1527.1,1547.4,1544.84,1532.4878368058469,1535.88,1535.76,1552.78,1549.44,1543.872805935063,1556.68,1551.21,1580.08,1557.98,1554.2032991138044,1556.49,1553.33,1571.04,1560.58,1553.2471731468447,1552.56,1550.53,1570.3274999206474,1585.11,1573.8746632476784,1567.24,1569.73,1572.9674999635995,1594.82,1572.7850104832112,1567.83,1543.6647737702224,1541.2599999294973,1561.96,1559.19,1545.86,1544.791044994894,1542.62,1563.67,1554.26,1545.09,1553.61,1554.71,1547.9574999312003,1569.93,1558.3506400774318,1596.45,1591.0866190054664,1588.1899999742063,1596.01,1585.1601871398996,1584.82,1575.8119293020118,1567.25,1572.4,1571.53,1560.64,1571.45,1570.67,1588.51,1582.89,1566.231872858875,1567.02,1564.04,1566.405988433749,1588.05,1578.67,1569.04,1566.1261056461367,1568.9862922780776,1590.87,1585.39,1579.12,1578.82,1572.4999999565478,1594.69,1573.98,1582.0957198977098,1591.3802891322368,1612.65,1601.7,1588.81,1577.52,1577.4474999627275,1589.65,1564.5,1576.0559018513288,1573.3440924300621,1593.12,1589.45,1588.02,1585.56,1585.7524999617933,1597.8,1587.86,1581.91,1577.46,1578.2887804287072,1577.037499970978,1576.259999987963,1594.72,1594.74,1597.52,1608.88,1587.11,1588.07,1525.18,1560.0,1542.51,1542.89,1543.8752050640846,1542.362500012442,1546.18,1544.1,1540.11,1536.58,1516.15,1521.6,1523.0,1523.53,1525.82,1526.786236346646,1528.6632693134816,1527.409999973661,1547.51,1545.09,1541.6,1528.26,1533.06,1532.93,1528.18,1527.98,1528.04,1526.9824999738591,1527.8774999789518,1545.22,1545.07,1541.79,1528.36,1532.93,1532.96,1529.16,1529.09,1529.08,1529.0024999970237,1549.76,1544.72,1541.92,1542.25,1528.71,1533.19,1532.94,1528.5,1528.45,1528.94,1528.5749999944528,1549.7,1545.07,1542.22,1541.77,1528.23,1532.56,1532.22,1527.75,1527.0,1527.231428576885,1539.97,1527.46,1516.16,1516.0099999691963,1535.64,1522.77,1520.13,1527.2049999693288,1551.02,1536.51,1539.24,1532.609999957672,1548.58,1547.22,1555.31,1555.5599999887236,1570.22,1548.35,1548.34,1550.3024999793113,1567.84,1548.43,1555.19,1554.3949999798488,1575.14,1554.91,1553.48,1548.2249999474247,1563.55,1545.0,1553.72,1549.4850000013435,1549.252499981593,1564.33,1551.55,1549.24,1549.83,1574.02,1553.62,1563.12,1566.221226167633,1580.33,1605.1,1593.94,1591.0823158842684,1591.9230111165944,1607.17,1641.51,1643.8459558198954,1639.843222661064,1667.45,1661.06,1656.6372445497448,1681.38,1655.0,1656.453333302337,1648.102362056863,1661.42,1660.61,1649.7094012882344,1663.64,1652.37,1651.033333251951,1673.31,1651.021169676953,1657.16,1669.1661499501272,1654.39,1646.96,1656.5066665944446,1678.17,1650.8404536077976,1653.24,1654.48,1663.41,1665.32,1656.6676256456708,1671.39,1664.09,1668.26,1684.73,1657.8926220954731,1667.78,1653.893971173381,1652.57,1627.41,1635.4366665991788,1651.53,1623.5124133522606,1624.7,1621.55,1635.14,1635.45,1627.9809288271872,1647.28,1631.21,1626.8633333051698,1646.15,1629.266177869734,1631.83,1625.8576881587298,1643.64,1623.42,1637.22,1634.83,1648.53,1647.11,1637.6333332092925,1660.4,1644.371753460661,1667.44,1647.2010304855064,1660.47,1624.1341112425773,1622.31,1621.67,1641.08,1630.04,1630.53,1656.34,1653.2,1648.64,1643.1599999224536,1653.92,1632.2919876893131,1645.9,1633.3558427432124,1653.39,1636.64,1638.15,1635.77,1648.09,1643.92,1642.57,1638.49,1649.19,1644.75,1624.7833333037038,1641.66,1632.28,1633.59,1623.6633332121748,1643.47,1630.04,1634.36,1611.9213548624703,1645.27,1632.18,1631.9224417566952,1631.222141511575,1649.23,1625.78,1630.2703645184506,1631.4343019411906,1657.53,1637.34,1643.27,1641.03,1652.3,1649.21,1641.96,1639.49,1656.86,1635.92,1630.7492233372127,1622.27,1643.5,1637.87,1629.05,1631.49,1641.96,1626.14,1618.8899999159723,1645.76,1636.73,1628.57,1623.2533331939815,1644.81,1621.21,1617.861953179537,1609.381375413569,1639.16,1575.07,1560.82,1553.68,1565.48,1546.64,1543.09,1543.41,1562.93,1557.69,1548.0933332255072,1572.72,1550.63,1556.7623574684353,1556.2491326398483,1553.8,1578.67,1569.68,1562.92,1549.21,1563.11,1558.55,1571.52,1543.0293049202749,1539.8499730638764,1549.443333261056,1552.053333243965,1547.9292066908176,1556.11,1581.29,1598.06,1582.7733332786595,1607.91,1632.01,1598.1,1612.4189423964672,1628.5,1640.78,1634.69,1615.7233332371527,1614.47,1627.85,1616.14,1609.7502354820535,1609.54,1609.39,1608.08,1612.54,1606.7499999793981,1599.5033332198414,1628.89,1632.81,1617.2099998712301,1631.57,1628.14,1622.220769088637,1612.07,1608.78,1593.53,1606.43,1612.72,1600.9099998805555,1617.4146152974206,1631.54,1611.64,1601.14,1616.98,1606.5314284927745,1602.0499998559028,1620.15,1622.87,1560.3999998142858,1583.61,1580.31,1570.935714344494,1563.48,1588.11,1568.22,1581.446666523589,1600.62,1590.55,1591.7823075962074,1579.48,1583.3499998931877,1579.2509239517822,1581.8566665462852,1577.6,1594.73,1585.13,1593.59,1597.6,1573.7720649667854,1594.6153845211195,1575.82,1590.292942077298,1596.150112463036,1602.4,1608.17,1622.91,1622.28,1620.96,1630.65,1603.14,1608.3692306822536,1598.78,1599.0458578740354,1603.6051956982146,1601.55,1597.6599997514882,1597.0861459230184,1599.9,1604.6,1618.73,1610.61,1619.53,1627.52,1590.2443720560345,1603.124615264357,1590.63,1592.6949997955687,1590.56,1591.04,1594.25,1609.25,1600.06,1614.55,1621.27,1600.69,1603.317692192978,1590.77,1591.5306037201447,1591.07,1592.32,1593.8049997707176,1610.04,1601.26,1595.32,1610.06,1601.9,1615.84,1622.61,1592.1892428769781,1604.2538460613043,1591.82,1593.6899997948083,1591.28,1592.33,1595.67,1610.9,1602.22,1616.39,1623.05,1592.2343697911701,1604.1699999075727,1591.38,1591.866164076596,1591.37,1592.2,1595.68,1611.2,1602.72,1616.92,1623.31,1602.43,1605.2561537320348,1592.58,1593.1197316082996,1591.72,1593.03,1594.344999803059,1591.62,1592.47,1594.88,1610.48,1600.94,1616.53,1622.41,1592.9432979032852,1605.1753845100632,1592.59,1594.4199998414185,1603.3915383397054,1593.24,1594.1299998348213,1608.04,1586.25,1589.88,1614.26,1591.5,1597.77,1571.19330186594,1583.34,1590.7792306625915,1580.58,1577.36109444124,1593.02,1575.44,1580.2899998718585,1594.0,1579.05,1569.71,1593.1,1574.95,1591.9,1572.6649979095096,1585.177885288175,1627.1199999044313,1602.33,1592.1799998215608,1609.79,1597.3,1602.41,1624.94,1606.1,1616.27,1590.3123340581812,1601.74,1593.663475716264,1593.2,1608.67,1629.24,1608.26,1633.05,1633.3,1627.82,1627.2653845126986,1610.6032269142074,1625.24,1614.3261424871607,1614.53,1617.4899998028109,1617.836484732586,1630.52,1660.79,1673.47,1635.64,1671.8,1678.16,1664.49,1660.5699998743385,1638.9329106167402,1643.594999813641,1635.2108353076635,1637.17,1642.25,1657.98,1641.46,1659.13,1667.45,1639.32,1640.8961537313414,1656.75,1632.11,1611.74,1614.02,1585.8399998690477,1600.0015382596966,1582.68,1580.0099998822752,1578.0817101061384,1585.27,1591.6016839605843,1584.6445781531745,1584.01,1590.08,1602.79,1585.14,1576.16,1579.69,1556.45,1569.137692184085,1554.87,1562.7249999131946,1575.9238460207978,1565.98,1573.253105930831,1572.6934416638196,1573.25,1572.62,1584.96,1574.19,1593.78,1587.9,1572.15,1593.32,1596.8,1588.74,1569.0744601464742,1601.48,1577.47,1590.49,1570.01,1572.4949999541666,1582.419999890873,1576.03,1585.564064533735],\"yaxis\":\"y\",\"type\":\"scattergl\"}],                        {\"template\":{\"data\":{\"histogram2dcontour\":[{\"type\":\"histogram2dcontour\",\"colorbar\":{\"outlinewidth\":0,\"ticks\":\"\"},\"colorscale\":[[0.0,\"#0d0887\"],[0.1111111111111111,\"#46039f\"],[0.2222222222222222,\"#7201a8\"],[0.3333333333333333,\"#9c179e\"],[0.4444444444444444,\"#bd3786\"],[0.5555555555555556,\"#d8576b\"],[0.6666666666666666,\"#ed7953\"],[0.7777777777777778,\"#fb9f3a\"],[0.8888888888888888,\"#fdca26\"],[1.0,\"#f0f921\"]]}],\"choropleth\":[{\"type\":\"choropleth\",\"colorbar\":{\"outlinewidth\":0,\"ticks\":\"\"}}],\"histogram2d\":[{\"type\":\"histogram2d\",\"colorbar\":{\"outlinewidth\":0,\"ticks\":\"\"},\"colorscale\":[[0.0,\"#0d0887\"],[0.1111111111111111,\"#46039f\"],[0.2222222222222222,\"#7201a8\"],[0.3333333333333333,\"#9c179e\"],[0.4444444444444444,\"#bd3786\"],[0.5555555555555556,\"#d8576b\"],[0.6666666666666666,\"#ed7953\"],[0.7777777777777778,\"#fb9f3a\"],[0.8888888888888888,\"#fdca26\"],[1.0,\"#f0f921\"]]}],\"heatmap\":[{\"type\":\"heatmap\",\"colorbar\":{\"outlinewidth\":0,\"ticks\":\"\"},\"colorscale\":[[0.0,\"#0d0887\"],[0.1111111111111111,\"#46039f\"],[0.2222222222222222,\"#7201a8\"],[0.3333333333333333,\"#9c179e\"],[0.4444444444444444,\"#bd3786\"],[0.5555555555555556,\"#d8576b\"],[0.6666666666666666,\"#ed7953\"],[0.7777777777777778,\"#fb9f3a\"],[0.8888888888888888,\"#fdca26\"],[1.0,\"#f0f921\"]]}],\"heatmapgl\":[{\"type\":\"heatmapgl\",\"colorbar\":{\"outlinewidth\":0,\"ticks\":\"\"},\"colorscale\":[[0.0,\"#0d0887\"],[0.1111111111111111,\"#46039f\"],[0.2222222222222222,\"#7201a8\"],[0.3333333333333333,\"#9c179e\"],[0.4444444444444444,\"#bd3786\"],[0.5555555555555556,\"#d8576b\"],[0.6666666666666666,\"#ed7953\"],[0.7777777777777778,\"#fb9f3a\"],[0.8888888888888888,\"#fdca26\"],[1.0,\"#f0f921\"]]}],\"contourcarpet\":[{\"type\":\"contourcarpet\",\"colorbar\":{\"outlinewidth\":0,\"ticks\":\"\"}}],\"contour\":[{\"type\":\"contour\",\"colorbar\":{\"outlinewidth\":0,\"ticks\":\"\"},\"colorscale\":[[0.0,\"#0d0887\"],[0.1111111111111111,\"#46039f\"],[0.2222222222222222,\"#7201a8\"],[0.3333333333333333,\"#9c179e\"],[0.4444444444444444,\"#bd3786\"],[0.5555555555555556,\"#d8576b\"],[0.6666666666666666,\"#ed7953\"],[0.7777777777777778,\"#fb9f3a\"],[0.8888888888888888,\"#fdca26\"],[1.0,\"#f0f921\"]]}],\"surface\":[{\"type\":\"surface\",\"colorbar\":{\"outlinewidth\":0,\"ticks\":\"\"},\"colorscale\":[[0.0,\"#0d0887\"],[0.1111111111111111,\"#46039f\"],[0.2222222222222222,\"#7201a8\"],[0.3333333333333333,\"#9c179e\"],[0.4444444444444444,\"#bd3786\"],[0.5555555555555556,\"#d8576b\"],[0.6666666666666666,\"#ed7953\"],[0.7777777777777778,\"#fb9f3a\"],[0.8888888888888888,\"#fdca26\"],[1.0,\"#f0f921\"]]}],\"mesh3d\":[{\"type\":\"mesh3d\",\"colorbar\":{\"outlinewidth\":0,\"ticks\":\"\"}}],\"scatter\":[{\"fillpattern\":{\"fillmode\":\"overlay\",\"size\":10,\"solidity\":0.2},\"type\":\"scatter\"}],\"parcoords\":[{\"type\":\"parcoords\",\"line\":{\"colorbar\":{\"outlinewidth\":0,\"ticks\":\"\"}}}],\"scatterpolargl\":[{\"type\":\"scatterpolargl\",\"marker\":{\"colorbar\":{\"outlinewidth\":0,\"ticks\":\"\"}}}],\"bar\":[{\"error_x\":{\"color\":\"#2a3f5f\"},\"error_y\":{\"color\":\"#2a3f5f\"},\"marker\":{\"line\":{\"color\":\"#E5ECF6\",\"width\":0.5},\"pattern\":{\"fillmode\":\"overlay\",\"size\":10,\"solidity\":0.2}},\"type\":\"bar\"}],\"scattergeo\":[{\"type\":\"scattergeo\",\"marker\":{\"colorbar\":{\"outlinewidth\":0,\"ticks\":\"\"}}}],\"scatterpolar\":[{\"type\":\"scatterpolar\",\"marker\":{\"colorbar\":{\"outlinewidth\":0,\"ticks\":\"\"}}}],\"histogram\":[{\"marker\":{\"pattern\":{\"fillmode\":\"overlay\",\"size\":10,\"solidity\":0.2}},\"type\":\"histogram\"}],\"scattergl\":[{\"type\":\"scattergl\",\"marker\":{\"colorbar\":{\"outlinewidth\":0,\"ticks\":\"\"}}}],\"scatter3d\":[{\"type\":\"scatter3d\",\"line\":{\"colorbar\":{\"outlinewidth\":0,\"ticks\":\"\"}},\"marker\":{\"colorbar\":{\"outlinewidth\":0,\"ticks\":\"\"}}}],\"scattermapbox\":[{\"type\":\"scattermapbox\",\"marker\":{\"colorbar\":{\"outlinewidth\":0,\"ticks\":\"\"}}}],\"scatterternary\":[{\"type\":\"scatterternary\",\"marker\":{\"colorbar\":{\"outlinewidth\":0,\"ticks\":\"\"}}}],\"scattercarpet\":[{\"type\":\"scattercarpet\",\"marker\":{\"colorbar\":{\"outlinewidth\":0,\"ticks\":\"\"}}}],\"carpet\":[{\"aaxis\":{\"endlinecolor\":\"#2a3f5f\",\"gridcolor\":\"white\",\"linecolor\":\"white\",\"minorgridcolor\":\"white\",\"startlinecolor\":\"#2a3f5f\"},\"baxis\":{\"endlinecolor\":\"#2a3f5f\",\"gridcolor\":\"white\",\"linecolor\":\"white\",\"minorgridcolor\":\"white\",\"startlinecolor\":\"#2a3f5f\"},\"type\":\"carpet\"}],\"table\":[{\"cells\":{\"fill\":{\"color\":\"#EBF0F8\"},\"line\":{\"color\":\"white\"}},\"header\":{\"fill\":{\"color\":\"#C8D4E3\"},\"line\":{\"color\":\"white\"}},\"type\":\"table\"}],\"barpolar\":[{\"marker\":{\"line\":{\"color\":\"#E5ECF6\",\"width\":0.5},\"pattern\":{\"fillmode\":\"overlay\",\"size\":10,\"solidity\":0.2}},\"type\":\"barpolar\"}],\"pie\":[{\"automargin\":true,\"type\":\"pie\"}]},\"layout\":{\"autotypenumbers\":\"strict\",\"colorway\":[\"#636efa\",\"#EF553B\",\"#00cc96\",\"#ab63fa\",\"#FFA15A\",\"#19d3f3\",\"#FF6692\",\"#B6E880\",\"#FF97FF\",\"#FECB52\"],\"font\":{\"color\":\"#2a3f5f\"},\"hovermode\":\"closest\",\"hoverlabel\":{\"align\":\"left\"},\"paper_bgcolor\":\"white\",\"plot_bgcolor\":\"#E5ECF6\",\"polar\":{\"bgcolor\":\"#E5ECF6\",\"angularaxis\":{\"gridcolor\":\"white\",\"linecolor\":\"white\",\"ticks\":\"\"},\"radialaxis\":{\"gridcolor\":\"white\",\"linecolor\":\"white\",\"ticks\":\"\"}},\"ternary\":{\"bgcolor\":\"#E5ECF6\",\"aaxis\":{\"gridcolor\":\"white\",\"linecolor\":\"white\",\"ticks\":\"\"},\"baxis\":{\"gridcolor\":\"white\",\"linecolor\":\"white\",\"ticks\":\"\"},\"caxis\":{\"gridcolor\":\"white\",\"linecolor\":\"white\",\"ticks\":\"\"}},\"coloraxis\":{\"colorbar\":{\"outlinewidth\":0,\"ticks\":\"\"}},\"colorscale\":{\"sequential\":[[0.0,\"#0d0887\"],[0.1111111111111111,\"#46039f\"],[0.2222222222222222,\"#7201a8\"],[0.3333333333333333,\"#9c179e\"],[0.4444444444444444,\"#bd3786\"],[0.5555555555555556,\"#d8576b\"],[0.6666666666666666,\"#ed7953\"],[0.7777777777777778,\"#fb9f3a\"],[0.8888888888888888,\"#fdca26\"],[1.0,\"#f0f921\"]],\"sequentialminus\":[[0.0,\"#0d0887\"],[0.1111111111111111,\"#46039f\"],[0.2222222222222222,\"#7201a8\"],[0.3333333333333333,\"#9c179e\"],[0.4444444444444444,\"#bd3786\"],[0.5555555555555556,\"#d8576b\"],[0.6666666666666666,\"#ed7953\"],[0.7777777777777778,\"#fb9f3a\"],[0.8888888888888888,\"#fdca26\"],[1.0,\"#f0f921\"]],\"diverging\":[[0,\"#8e0152\"],[0.1,\"#c51b7d\"],[0.2,\"#de77ae\"],[0.3,\"#f1b6da\"],[0.4,\"#fde0ef\"],[0.5,\"#f7f7f7\"],[0.6,\"#e6f5d0\"],[0.7,\"#b8e186\"],[0.8,\"#7fbc41\"],[0.9,\"#4d9221\"],[1,\"#276419\"]]},\"xaxis\":{\"gridcolor\":\"white\",\"linecolor\":\"white\",\"ticks\":\"\",\"title\":{\"standoff\":15},\"zerolinecolor\":\"white\",\"automargin\":true,\"zerolinewidth\":2},\"yaxis\":{\"gridcolor\":\"white\",\"linecolor\":\"white\",\"ticks\":\"\",\"title\":{\"standoff\":15},\"zerolinecolor\":\"white\",\"automargin\":true,\"zerolinewidth\":2},\"scene\":{\"xaxis\":{\"backgroundcolor\":\"#E5ECF6\",\"gridcolor\":\"white\",\"linecolor\":\"white\",\"showbackground\":true,\"ticks\":\"\",\"zerolinecolor\":\"white\",\"gridwidth\":2},\"yaxis\":{\"backgroundcolor\":\"#E5ECF6\",\"gridcolor\":\"white\",\"linecolor\":\"white\",\"showbackground\":true,\"ticks\":\"\",\"zerolinecolor\":\"white\",\"gridwidth\":2},\"zaxis\":{\"backgroundcolor\":\"#E5ECF6\",\"gridcolor\":\"white\",\"linecolor\":\"white\",\"showbackground\":true,\"ticks\":\"\",\"zerolinecolor\":\"white\",\"gridwidth\":2}},\"shapedefaults\":{\"line\":{\"color\":\"#2a3f5f\"}},\"annotationdefaults\":{\"arrowcolor\":\"#2a3f5f\",\"arrowhead\":0,\"arrowwidth\":1},\"geo\":{\"bgcolor\":\"white\",\"landcolor\":\"#E5ECF6\",\"subunitcolor\":\"white\",\"showland\":true,\"showlakes\":true,\"lakecolor\":\"white\"},\"title\":{\"x\":0.05},\"mapbox\":{\"style\":\"light\"}}},\"xaxis\":{\"anchor\":\"y\",\"domain\":[0.0,1.0],\"title\":{\"text\":\"index\"}},\"yaxis\":{\"anchor\":\"x\",\"domain\":[0.0,1.0],\"title\":{\"text\":\"value\"}},\"legend\":{\"title\":{\"text\":\"variable\"},\"tracegroupgap\":0},\"margin\":{\"t\":60}},                        {\"responsive\": true}                    ).then(function(){\n",
       "                            \n",
       "var gd = document.getElementById('5307a93e-237c-4fd3-9220-ff7c10e92632');\n",
       "var x = new MutationObserver(function (mutations, observer) {{\n",
       "        var display = window.getComputedStyle(gd).display;\n",
       "        if (!display || display === 'none') {{\n",
       "            console.log([gd, 'removed!']);\n",
       "            Plotly.purge(gd);\n",
       "            observer.disconnect();\n",
       "        }}\n",
       "}});\n",
       "\n",
       "// Listen for the removal of the full notebook cells\n",
       "var notebookContainer = gd.closest('#notebook-container');\n",
       "if (notebookContainer) {{\n",
       "    x.observe(notebookContainer, {childList: true});\n",
       "}}\n",
       "\n",
       "// Listen for the clearing of the current output cell\n",
       "var outputEl = gd.closest('.output');\n",
       "if (outputEl) {{\n",
       "    x.observe(outputEl, {childList: true});\n",
       "}}\n",
       "\n",
       "                        })                };                });            </script>        </div>"
      ]
     },
     "metadata": {},
     "output_type": "display_data"
    }
   ],
   "source": [
    "plotly.plot(df[df.index % 1000 == 0]['underlying_price'], 'line')"
   ]
  },
  {
   "cell_type": "code",
   "execution_count": null,
   "id": "50fd8f9a-321d-4739-a76e-afec2f46d67b",
   "metadata": {},
   "outputs": [],
   "source": []
  }
 ],
 "metadata": {
  "kernelspec": {
   "display_name": "Python 3 (ipykernel)",
   "language": "python",
   "name": "python3"
  },
  "language_info": {
   "codemirror_mode": {
    "name": "ipython",
    "version": 3
   },
   "file_extension": ".py",
   "mimetype": "text/x-python",
   "name": "python",
   "nbconvert_exporter": "python",
   "pygments_lexer": "ipython3",
   "version": "3.8.15"
  }
 },
 "nbformat": 4,
 "nbformat_minor": 5
}
