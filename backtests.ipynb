{
 "cells": [
  {
   "cell_type": "code",
   "execution_count": 2,
   "id": "cd76a933-dcdf-4794-89ef-be4951cfd7ee",
   "metadata": {},
   "outputs": [],
   "source": [
    "import sqlite3\n",
    "import pandas as pd\n",
    "import numpy as np\n",
    "from scipy.stats import norm\n",
    "from scipy.optimize import minimize_scalar\n",
    "from datetime import datetime"
   ]
  },
  {
   "cell_type": "code",
   "execution_count": 3,
   "id": "7ddd918d-1083-495c-b123-899e8bae2583",
   "metadata": {},
   "outputs": [],
   "source": [
    "N = norm.cdf\n"
   ]
  },
  {
   "cell_type": "code",
   "execution_count": 4,
   "id": "bc5cee2a-c51e-42c3-bf9b-debe8fedbafc",
   "metadata": {},
   "outputs": [],
   "source": [
    "def read_from_db():\n",
    "    conn = sqlite3.connect('../../options_database.db')\n",
    "    df = pd.read_sql_query(\"SELECT * FROM options_table\", conn)\n",
    "    conn.close()\n",
    "    return df"
   ]
  },
  {
   "cell_type": "code",
   "execution_count": 5,
   "id": "ecb27032-567a-46f4-a632-038bf3f849b6",
   "metadata": {},
   "outputs": [],
   "source": [
    "df = read_from_db()"
   ]
  },
  {
   "cell_type": "code",
   "execution_count": 6,
   "id": "a78b0a5a-94ed-44e3-ba00-dd0f7216a132",
   "metadata": {},
   "outputs": [
    {
     "data": {
      "text/plain": [
       "610"
      ]
     },
     "execution_count": 6,
     "metadata": {},
     "output_type": "execute_result"
    }
   ],
   "source": [
    "len(df[(df.current_time == '2023-01-29 11:24:46.988931')])"
   ]
  },
  {
   "cell_type": "code",
   "execution_count": null,
   "id": "d5e511b6-301f-4562-859a-abc83a8b332e",
   "metadata": {},
   "outputs": [],
   "source": []
  },
  {
   "cell_type": "code",
   "execution_count": 7,
   "id": "b9419587-c2bb-470d-a07c-2e2a53ec4838",
   "metadata": {},
   "outputs": [],
   "source": [
    "def delta_BS_put(S, K, T, r, sigma):\n",
    "    d1 = (np.log(S/K) + (r + sigma**2/2)*T) / (sigma*np.sqrt(T))\n",
    "    return N(d1) - 1\n",
    "\n",
    "def delta_BS_call(S, K, T, r, sigma):\n",
    "    d1 = (np.log(S/K) + (r + sigma**2/2)*T) / (sigma*np.sqrt(T))\n",
    "    return N(d1)\n",
    "\n",
    "def BS_CALL(S, K, T, r, sigma):\n",
    "    d1 = (np.log(S/K) + (r + sigma**2/2)*T) / (sigma*np.sqrt(T))\n",
    "    d2 = d1 - sigma * np.sqrt(T)\n",
    "#     print(d1, d2)\n",
    "    return S * N(d1) - K * np.exp(-r*T)* N(d2)\n",
    "\n",
    "def BS_PUT(S, K, T, r, sigma):\n",
    "    d1 = (np.log(S/K) + (r + sigma**2/2)*T) / (sigma*np.sqrt(T))\n",
    "    d2 = d1 - sigma * np.sqrt(T)\n",
    "    return K * np.exp(-r*T)* N(-d2) - S * N(-d1)"
   ]
  },
  {
   "cell_type": "code",
   "execution_count": 8,
   "id": "926aa884-9933-4901-8121-5a2909c5cabb",
   "metadata": {},
   "outputs": [
    {
     "data": {
      "text/plain": [
       "3.989422810946053e-05"
      ]
     },
     "execution_count": 8,
     "metadata": {},
     "output_type": "execute_result"
    }
   ],
   "source": [
    "BS_PUT(1000, 1000, 1, 0, 0.0000001)"
   ]
  },
  {
   "cell_type": "code",
   "execution_count": 9,
   "id": "d767e0a9-1f21-4bab-8ca3-4b3a190a2e55",
   "metadata": {},
   "outputs": [],
   "source": [
    "def get_timedelta_in_years(timedelta):\n",
    "    d = timedelta.days / (365.25)\n",
    "    s = timedelta.seconds / (365.25*24*60*60)\n",
    "    return d + s"
   ]
  },
  {
   "cell_type": "code",
   "execution_count": 10,
   "id": "490fd9bc-7e1f-46c0-9358-a83f8e7f83a3",
   "metadata": {},
   "outputs": [],
   "source": [
    "def preprocessing(option_name, option_type):\n",
    "    selected_option = (df[(df.full_name == option_name)][df.current_time > '2023-01-04'][df.type == option_type])\n",
    "    selected_option['timedelta'] = selected_option.apply(lambda x: get_timedelta_in_years(datetime.fromisoformat(x['expiry']) - datetime.fromisoformat(x['current_time'])), axis=1)\n",
    "    \n",
    "    selected_option['mid_price'] = selected_option['mid_price'].fillna(0)\n",
    "    selected_option['ask_price'] = selected_option['ask_price'].fillna(0)\n",
    "    selected_option['bid_price'] = selected_option['bid_price'].fillna(0)\n",
    "    selected_option['strike'] = selected_option['strike'].astype(float)\n",
    "    # selected_option['mid_IV'] = selected_option['mid_IV'].fillna(0.001)\n",
    "        \n",
    "    filtered = selected_option.loc[(selected_option.bid_IV > 0) & (selected_option.bid_IV < 10) & \n",
    "                            (selected_option.ask_IV > 0) & (selected_option.ask_IV < 10) &\n",
    "                             (selected_option.timedelta > 0)]\n",
    "    \n",
    "    \n",
    "    # (selected_option.bid_IV < 10) & \n",
    "    #                                (selected_option.ask_IV < 10) &\n",
    "    #                                (selected_option.mid_IV < 10) &\n",
    "    \n",
    "    # filtered = selected_option.loc[\n",
    "    #                                (selected_option.timedelta > 0)]\n",
    "    \n",
    "    \n",
    "    if option_type == 'put':\n",
    "        filtered['BS_delta'] = delta_BS_put(filtered.underlying_price, filtered.strike, filtered.timedelta, 0, filtered.mid_IV)\n",
    "    elif option_type == 'call':\n",
    "        filtered['BS_delta'] = delta_BS_call(filtered.underlying_price, filtered.strike, filtered.timedelta, 0, filtered.mid_IV)\n",
    "    \n",
    "    filtered.index = np.arange(1, len(filtered)+1)\n",
    "    \n",
    "    return filtered\n",
    "\n"
   ]
  },
  {
   "cell_type": "code",
   "execution_count": null,
   "id": "61ffc87e-954c-4a7a-839c-9b526f830f3d",
   "metadata": {},
   "outputs": [],
   "source": []
  },
  {
   "cell_type": "code",
   "execution_count": 106,
   "id": "717cb84d-4f04-4aa4-9cbe-285e7ff36659",
   "metadata": {},
   "outputs": [],
   "source": [
    "def backtest(df):\n",
    "    \n",
    "    asset = 0  \n",
    "    initial_usdc = 0\n",
    "    usdc = initial_usdc\n",
    "    prev_asset = asset\n",
    "\n",
    "    for i in range(len(df)):\n",
    "        prev_asset = asset\n",
    "        asset = df['BS_delta'].iloc[i]\n",
    "        usdc = usdc - (asset - prev_asset) * df['underlying_price'].iloc[i]\n",
    "\n",
    "    return asset*df['underlying_price'].iloc[-1] + usdc - initial_usdc"
   ]
  },
  {
   "cell_type": "code",
   "execution_count": 107,
   "id": "f5a7acbd-fbf3-45db-b6a0-2ce56981fa2d",
   "metadata": {},
   "outputs": [],
   "source": [
    "# datetime.strptime(selected_put.iloc[5]['expiry'], \"%Y %m %d %I:%M%p\")\n",
    "# get_timedelta_in_years(datetime.fromisoformat(selected_put.iloc[5]['expiry']) - datetime.fromisoformat(selected_put.iloc[5]['current_time']))\n"
   ]
  },
  {
   "cell_type": "code",
   "execution_count": 108,
   "id": "a5e6fd28-f580-440b-8d71-a4b72229db92",
   "metadata": {},
   "outputs": [],
   "source": [
    "def calculate_option_PnL(underlying_price, strike, option_price_in_underlying):\n",
    "    \n",
    "    PnL = max(0, strike - underlying_price) - option_price_in_underlying * underlying_price\n",
    "    return PnL\n"
   ]
  },
  {
   "cell_type": "code",
   "execution_count": 109,
   "id": "c6941208-5944-4118-b572-c4aa6b4f7f78",
   "metadata": {},
   "outputs": [],
   "source": [
    "def test(option_name):\n",
    "    filtered = preprocessing(option_name = option_name, option_type = 'put')\n",
    "    # print(filtered['current_time'].iloc[0])\n",
    "    return filtered\n",
    "    \n",
    "    replicated_pnl = backtest(filtered[filtered.index % 10 == 0])\n",
    "    \n",
    "    option_price = filtered['mid_price'].iloc[0] * filtered['underlying_price'].iloc[0]\n",
    "\n",
    "    price_on_expiry = filtered['underlying_price'].iloc[-1]\n",
    "    \n",
    "    pnl = calculate_option_PnL(filtered['underlying_price'].iloc[-1], filtered['strike'].iloc[-1], filtered['mid_price'].iloc[0])\n",
    "\n",
    "    \n",
    "    return (replicated_pnl, pnl, price_on_expiry)"
   ]
  },
  {
   "cell_type": "code",
   "execution_count": 110,
   "id": "93cb5c37-9cba-4807-980a-f6534e471ed5",
   "metadata": {},
   "outputs": [
    {
     "name": "stderr",
     "output_type": "stream",
     "text": [
      "/var/folders/8t/1dvfc69d0l3137hz8kyzv__80000gn/T/ipykernel_2774/746598763.py:2: UserWarning:\n",
      "\n",
      "Boolean Series key will be reindexed to match DataFrame index.\n",
      "\n"
     ]
    },
    {
     "data": {
      "text/html": [
       "<div>\n",
       "<style scoped>\n",
       "    .dataframe tbody tr th:only-of-type {\n",
       "        vertical-align: middle;\n",
       "    }\n",
       "\n",
       "    .dataframe tbody tr th {\n",
       "        vertical-align: top;\n",
       "    }\n",
       "\n",
       "    .dataframe thead th {\n",
       "        text-align: right;\n",
       "    }\n",
       "</style>\n",
       "<table border=\"1\" class=\"dataframe\">\n",
       "  <thead>\n",
       "    <tr style=\"text-align: right;\">\n",
       "      <th></th>\n",
       "      <th>index</th>\n",
       "      <th>full_name</th>\n",
       "      <th>type</th>\n",
       "      <th>open_interest</th>\n",
       "      <th>expiry</th>\n",
       "      <th>strike</th>\n",
       "      <th>bid_price</th>\n",
       "      <th>bid_IV</th>\n",
       "      <th>ask_price</th>\n",
       "      <th>ask_IV</th>\n",
       "      <th>mid_price</th>\n",
       "      <th>mid_IV</th>\n",
       "      <th>underlying_price</th>\n",
       "      <th>current_time</th>\n",
       "      <th>timedelta</th>\n",
       "      <th>BS_delta</th>\n",
       "    </tr>\n",
       "  </thead>\n",
       "  <tbody>\n",
       "    <tr>\n",
       "      <th>1</th>\n",
       "      <td>54</td>\n",
       "      <td>ETH-24FEB23-1400</td>\n",
       "      <td>put</td>\n",
       "      <td>315.0</td>\n",
       "      <td>2023-02-24 00:00:00.000000</td>\n",
       "      <td>1400.0</td>\n",
       "      <td>0.1880</td>\n",
       "      <td>0.546757</td>\n",
       "      <td>0.1915</td>\n",
       "      <td>0.574554</td>\n",
       "      <td>0.18975</td>\n",
       "      <td>0.560736</td>\n",
       "      <td>1209.87</td>\n",
       "      <td>2023-01-04 00:08:26.027061</td>\n",
       "      <td>0.139614</td>\n",
       "      <td>-0.723035</td>\n",
       "    </tr>\n",
       "    <tr>\n",
       "      <th>2</th>\n",
       "      <td>54</td>\n",
       "      <td>ETH-24FEB23-1400</td>\n",
       "      <td>put</td>\n",
       "      <td>315.0</td>\n",
       "      <td>2023-02-24 00:00:00.000000</td>\n",
       "      <td>1400.0</td>\n",
       "      <td>0.1875</td>\n",
       "      <td>0.549448</td>\n",
       "      <td>0.1910</td>\n",
       "      <td>0.577122</td>\n",
       "      <td>0.18925</td>\n",
       "      <td>0.563363</td>\n",
       "      <td>1210.96</td>\n",
       "      <td>2023-01-04 00:33:40.899854</td>\n",
       "      <td>0.139566</td>\n",
       "      <td>-0.720390</td>\n",
       "    </tr>\n",
       "    <tr>\n",
       "      <th>3</th>\n",
       "      <td>54</td>\n",
       "      <td>ETH-24FEB23-1400</td>\n",
       "      <td>put</td>\n",
       "      <td>315.0</td>\n",
       "      <td>2023-02-24 00:00:00.000000</td>\n",
       "      <td>1400.0</td>\n",
       "      <td>0.1880</td>\n",
       "      <td>0.552874</td>\n",
       "      <td>0.1910</td>\n",
       "      <td>0.576578</td>\n",
       "      <td>0.18950</td>\n",
       "      <td>0.564783</td>\n",
       "      <td>1210.85</td>\n",
       "      <td>2023-01-04 00:58:54.283277</td>\n",
       "      <td>0.139518</td>\n",
       "      <td>-0.719908</td>\n",
       "    </tr>\n",
       "    <tr>\n",
       "      <th>4</th>\n",
       "      <td>54</td>\n",
       "      <td>ETH-24FEB23-1400</td>\n",
       "      <td>put</td>\n",
       "      <td>315.0</td>\n",
       "      <td>2023-02-24 00:00:00.000000</td>\n",
       "      <td>1400.0</td>\n",
       "      <td>0.1885</td>\n",
       "      <td>0.554372</td>\n",
       "      <td>0.1920</td>\n",
       "      <td>0.581983</td>\n",
       "      <td>0.19025</td>\n",
       "      <td>0.568254</td>\n",
       "      <td>1210.42</td>\n",
       "      <td>2023-01-04 01:24:09.057307</td>\n",
       "      <td>0.139470</td>\n",
       "      <td>-0.718883</td>\n",
       "    </tr>\n",
       "    <tr>\n",
       "      <th>5</th>\n",
       "      <td>54</td>\n",
       "      <td>ETH-24FEB23-1400</td>\n",
       "      <td>put</td>\n",
       "      <td>315.0</td>\n",
       "      <td>2023-02-24 00:00:00.000000</td>\n",
       "      <td>1400.0</td>\n",
       "      <td>0.1875</td>\n",
       "      <td>0.548823</td>\n",
       "      <td>0.1905</td>\n",
       "      <td>0.572618</td>\n",
       "      <td>0.18900</td>\n",
       "      <td>0.560779</td>\n",
       "      <td>1210.81</td>\n",
       "      <td>2023-01-04 01:49:24.307664</td>\n",
       "      <td>0.139422</td>\n",
       "      <td>-0.721956</td>\n",
       "    </tr>\n",
       "    <tr>\n",
       "      <th>...</th>\n",
       "      <td>...</td>\n",
       "      <td>...</td>\n",
       "      <td>...</td>\n",
       "      <td>...</td>\n",
       "      <td>...</td>\n",
       "      <td>...</td>\n",
       "      <td>...</td>\n",
       "      <td>...</td>\n",
       "      <td>...</td>\n",
       "      <td>...</td>\n",
       "      <td>...</td>\n",
       "      <td>...</td>\n",
       "      <td>...</td>\n",
       "      <td>...</td>\n",
       "      <td>...</td>\n",
       "      <td>...</td>\n",
       "    </tr>\n",
       "    <tr>\n",
       "      <th>1960</th>\n",
       "      <td>178</td>\n",
       "      <td>ETH-24FEB23-1400</td>\n",
       "      <td>put</td>\n",
       "      <td>14390.0</td>\n",
       "      <td>2023-02-24 00:00:00.000000</td>\n",
       "      <td>1400.0</td>\n",
       "      <td>0.0210</td>\n",
       "      <td>0.637178</td>\n",
       "      <td>0.0220</td>\n",
       "      <td>0.650683</td>\n",
       "      <td>0.02150</td>\n",
       "      <td>0.643948</td>\n",
       "      <td>1574.96</td>\n",
       "      <td>2023-01-31 15:39:39.177072</td>\n",
       "      <td>0.063922</td>\n",
       "      <td>-0.210498</td>\n",
       "    </tr>\n",
       "    <tr>\n",
       "      <th>1961</th>\n",
       "      <td>178</td>\n",
       "      <td>ETH-24FEB23-1400</td>\n",
       "      <td>put</td>\n",
       "      <td>14390.0</td>\n",
       "      <td>2023-02-24 00:00:00.000000</td>\n",
       "      <td>1400.0</td>\n",
       "      <td>0.0210</td>\n",
       "      <td>0.641616</td>\n",
       "      <td>0.0215</td>\n",
       "      <td>0.648411</td>\n",
       "      <td>0.02125</td>\n",
       "      <td>0.645018</td>\n",
       "      <td>1577.07</td>\n",
       "      <td>2023-01-31 16:04:57.426545</td>\n",
       "      <td>0.063874</td>\n",
       "      <td>-0.208371</td>\n",
       "    </tr>\n",
       "    <tr>\n",
       "      <th>1962</th>\n",
       "      <td>178</td>\n",
       "      <td>ETH-24FEB23-1400</td>\n",
       "      <td>put</td>\n",
       "      <td>14390.0</td>\n",
       "      <td>2023-02-24 00:00:00.000000</td>\n",
       "      <td>1400.0</td>\n",
       "      <td>0.0210</td>\n",
       "      <td>0.638486</td>\n",
       "      <td>0.0220</td>\n",
       "      <td>0.652010</td>\n",
       "      <td>0.02150</td>\n",
       "      <td>0.645266</td>\n",
       "      <td>1575.38</td>\n",
       "      <td>2023-01-31 16:30:14.617134</td>\n",
       "      <td>0.063826</td>\n",
       "      <td>-0.210265</td>\n",
       "    </tr>\n",
       "    <tr>\n",
       "      <th>1963</th>\n",
       "      <td>178</td>\n",
       "      <td>ETH-24FEB23-1400</td>\n",
       "      <td>put</td>\n",
       "      <td>14388.0</td>\n",
       "      <td>2023-02-24 00:00:00.000000</td>\n",
       "      <td>1400.0</td>\n",
       "      <td>0.0200</td>\n",
       "      <td>0.650355</td>\n",
       "      <td>0.0205</td>\n",
       "      <td>0.657350</td>\n",
       "      <td>0.02025</td>\n",
       "      <td>0.653858</td>\n",
       "      <td>1588.32</td>\n",
       "      <td>2023-01-31 16:55:31.427951</td>\n",
       "      <td>0.063778</td>\n",
       "      <td>-0.198539</td>\n",
       "    </tr>\n",
       "    <tr>\n",
       "      <th>1964</th>\n",
       "      <td>178</td>\n",
       "      <td>ETH-24FEB23-1400</td>\n",
       "      <td>put</td>\n",
       "      <td>14300.0</td>\n",
       "      <td>2023-02-24 00:00:00.000000</td>\n",
       "      <td>1400.0</td>\n",
       "      <td>0.0205</td>\n",
       "      <td>0.654353</td>\n",
       "      <td>0.0215</td>\n",
       "      <td>0.668193</td>\n",
       "      <td>0.02100</td>\n",
       "      <td>0.661293</td>\n",
       "      <td>1586.66</td>\n",
       "      <td>2023-01-31 17:20:48.264258</td>\n",
       "      <td>0.063730</td>\n",
       "      <td>-0.202369</td>\n",
       "    </tr>\n",
       "  </tbody>\n",
       "</table>\n",
       "<p>1964 rows × 16 columns</p>\n",
       "</div>"
      ],
      "text/plain": [
       "      index         full_name type  open_interest                      expiry  \\\n",
       "1        54  ETH-24FEB23-1400  put          315.0  2023-02-24 00:00:00.000000   \n",
       "2        54  ETH-24FEB23-1400  put          315.0  2023-02-24 00:00:00.000000   \n",
       "3        54  ETH-24FEB23-1400  put          315.0  2023-02-24 00:00:00.000000   \n",
       "4        54  ETH-24FEB23-1400  put          315.0  2023-02-24 00:00:00.000000   \n",
       "5        54  ETH-24FEB23-1400  put          315.0  2023-02-24 00:00:00.000000   \n",
       "...     ...               ...  ...            ...                         ...   \n",
       "1960    178  ETH-24FEB23-1400  put        14390.0  2023-02-24 00:00:00.000000   \n",
       "1961    178  ETH-24FEB23-1400  put        14390.0  2023-02-24 00:00:00.000000   \n",
       "1962    178  ETH-24FEB23-1400  put        14390.0  2023-02-24 00:00:00.000000   \n",
       "1963    178  ETH-24FEB23-1400  put        14388.0  2023-02-24 00:00:00.000000   \n",
       "1964    178  ETH-24FEB23-1400  put        14300.0  2023-02-24 00:00:00.000000   \n",
       "\n",
       "      strike  bid_price    bid_IV  ask_price    ask_IV  mid_price    mid_IV  \\\n",
       "1     1400.0     0.1880  0.546757     0.1915  0.574554    0.18975  0.560736   \n",
       "2     1400.0     0.1875  0.549448     0.1910  0.577122    0.18925  0.563363   \n",
       "3     1400.0     0.1880  0.552874     0.1910  0.576578    0.18950  0.564783   \n",
       "4     1400.0     0.1885  0.554372     0.1920  0.581983    0.19025  0.568254   \n",
       "5     1400.0     0.1875  0.548823     0.1905  0.572618    0.18900  0.560779   \n",
       "...      ...        ...       ...        ...       ...        ...       ...   \n",
       "1960  1400.0     0.0210  0.637178     0.0220  0.650683    0.02150  0.643948   \n",
       "1961  1400.0     0.0210  0.641616     0.0215  0.648411    0.02125  0.645018   \n",
       "1962  1400.0     0.0210  0.638486     0.0220  0.652010    0.02150  0.645266   \n",
       "1963  1400.0     0.0200  0.650355     0.0205  0.657350    0.02025  0.653858   \n",
       "1964  1400.0     0.0205  0.654353     0.0215  0.668193    0.02100  0.661293   \n",
       "\n",
       "      underlying_price                current_time  timedelta  BS_delta  \n",
       "1              1209.87  2023-01-04 00:08:26.027061   0.139614 -0.723035  \n",
       "2              1210.96  2023-01-04 00:33:40.899854   0.139566 -0.720390  \n",
       "3              1210.85  2023-01-04 00:58:54.283277   0.139518 -0.719908  \n",
       "4              1210.42  2023-01-04 01:24:09.057307   0.139470 -0.718883  \n",
       "5              1210.81  2023-01-04 01:49:24.307664   0.139422 -0.721956  \n",
       "...                ...                         ...        ...       ...  \n",
       "1960           1574.96  2023-01-31 15:39:39.177072   0.063922 -0.210498  \n",
       "1961           1577.07  2023-01-31 16:04:57.426545   0.063874 -0.208371  \n",
       "1962           1575.38  2023-01-31 16:30:14.617134   0.063826 -0.210265  \n",
       "1963           1588.32  2023-01-31 16:55:31.427951   0.063778 -0.198539  \n",
       "1964           1586.66  2023-01-31 17:20:48.264258   0.063730 -0.202369  \n",
       "\n",
       "[1964 rows x 16 columns]"
      ]
     },
     "execution_count": 110,
     "metadata": {},
     "output_type": "execute_result"
    }
   ],
   "source": [
    "(test('ETH-24FEB23-1400'))\n",
    "# t[t['BS_delta'] < -1]"
   ]
  },
  {
   "cell_type": "code",
   "execution_count": 208,
   "id": "fca48bb5-10cd-4197-8754-e11c637930e8",
   "metadata": {},
   "outputs": [],
   "source": [
    "def performance(option_name):\n",
    "    filtered = preprocessing(option_name = option_name, option_type = 'put')\n",
    "    replicated_pnl = backtest(filtered[filtered.index % 10 == 0])\n",
    "    \n",
    "    option_price = filtered['mid_price'].iloc[0] * filtered['underlying_price'].iloc[0]\n",
    "\n",
    "    price_on_expiry = filtered['underlying_price'].iloc[-1]\n",
    "\n",
    "    pnl = calculate_option_PnL(filtered['underlying_price'].iloc[-1], filtered['strike'].iloc[-1], filtered['mid_price'].iloc[0])\n",
    "    \n",
    "    print(replicated_pnl, option_price, price_on_expiry, pnl)\n",
    "    \n",
    "    shift = 500\n",
    "    \n",
    "    # if pnl > 0:\n",
    "    #     if replicated_pnl > 0:\n",
    "\n",
    "    #     else:\n",
    "    #         return \n",
    "    # else:\n",
    "    #     if replicated_pnl > 0:\n",
    "    #         return (replicated_pnl + pnl) / pnl\n",
    "    #     else:\n",
    "    #         return pnl / replicated_pnl\n",
    "    \n",
    "    return [option_name, (replicated_pnl + shift) / (pnl + shift)]\n"
   ]
  },
  {
   "cell_type": "code",
   "execution_count": 209,
   "id": "d0defad6-f715-4d23-b1d1-f096ed71b51a",
   "metadata": {},
   "outputs": [],
   "source": [
    "# df.full_name.drop_duplicates().to_numpy()"
   ]
  },
  {
   "cell_type": "code",
   "execution_count": 210,
   "id": "a8096139-6ffd-4c4e-82f9-ebbf453e59d1",
   "metadata": {},
   "outputs": [],
   "source": [
    "options_names = ['ETH-27JAN23-1200', 'ETH-27JAN23-1300', 'ETH-27JAN23-1400', 'ETH-27JAN23-1500', 'ETH-27JAN23-1600', 'ETH-27JAN23-1700']\n",
    "\n",
    "options_names =  ['ETH-24FEB23-900', 'ETH-24FEB23-1000', 'ETH-24FEB23-1100', 'ETH-24FEB23-1200', 'ETH-24FEB23-1300', 'ETH-24FEB23-1400',\n",
    "                'ETH-24FEB23-1500', 'ETH-24FEB23-1600', 'ETH-24FEB23-1700']"
   ]
  },
  {
   "cell_type": "code",
   "execution_count": 211,
   "id": "34511e3a-ab6c-473f-a1b8-075bcec5a9ef",
   "metadata": {},
   "outputs": [
    {
     "data": {
      "text/plain": [
       "['ETH-24FEB23-900',\n",
       " 'ETH-24FEB23-1000',\n",
       " 'ETH-24FEB23-1100',\n",
       " 'ETH-24FEB23-1200',\n",
       " 'ETH-24FEB23-1300',\n",
       " 'ETH-24FEB23-1400',\n",
       " 'ETH-24FEB23-1500',\n",
       " 'ETH-24FEB23-1600',\n",
       " 'ETH-24FEB23-1700']"
      ]
     },
     "execution_count": 211,
     "metadata": {},
     "output_type": "execute_result"
    }
   ],
   "source": [
    "options_names"
   ]
  },
  {
   "cell_type": "code",
   "execution_count": 212,
   "id": "280031f0-76b0-4a57-82df-abff9bbf0ccb",
   "metadata": {},
   "outputs": [
    {
     "name": "stderr",
     "output_type": "stream",
     "text": [
      "/var/folders/8t/1dvfc69d0l3137hz8kyzv__80000gn/T/ipykernel_2774/746598763.py:2: UserWarning:\n",
      "\n",
      "Boolean Series key will be reindexed to match DataFrame index.\n",
      "\n",
      "/var/folders/8t/1dvfc69d0l3137hz8kyzv__80000gn/T/ipykernel_2774/746598763.py:2: UserWarning:\n",
      "\n",
      "Boolean Series key will be reindexed to match DataFrame index.\n",
      "\n"
     ]
    },
    {
     "name": "stdout",
     "output_type": "stream",
     "text": [
      "-24.370388131479626 23.2899975 1586.66 -30.543205\n",
      "-40.26822782202632 38.413372499999994 1586.66 -50.376455\n"
     ]
    },
    {
     "name": "stderr",
     "output_type": "stream",
     "text": [
      "/var/folders/8t/1dvfc69d0l3137hz8kyzv__80000gn/T/ipykernel_2774/746598763.py:2: UserWarning:\n",
      "\n",
      "Boolean Series key will be reindexed to match DataFrame index.\n",
      "\n",
      "/var/folders/8t/1dvfc69d0l3137hz8kyzv__80000gn/T/ipykernel_2774/746598763.py:2: UserWarning:\n",
      "\n",
      "Boolean Series key will be reindexed to match DataFrame index.\n",
      "\n"
     ]
    },
    {
     "name": "stdout",
     "output_type": "stream",
     "text": [
      "-64.4397177319082 62.913239999999995 1586.66 -82.50632\n",
      "-100.85769124153165 102.234015 1586.66 -134.07277000000002\n"
     ]
    },
    {
     "name": "stderr",
     "output_type": "stream",
     "text": [
      "/var/folders/8t/1dvfc69d0l3137hz8kyzv__80000gn/T/ipykernel_2774/746598763.py:2: UserWarning:\n",
      "\n",
      "Boolean Series key will be reindexed to match DataFrame index.\n",
      "\n",
      "/var/folders/8t/1dvfc69d0l3137hz8kyzv__80000gn/T/ipykernel_2774/746598763.py:2: UserWarning:\n",
      "\n",
      "Boolean Series key will be reindexed to match DataFrame index.\n",
      "\n"
     ]
    },
    {
     "name": "stdout",
     "output_type": "stream",
     "text": [
      "-149.98505801944847 157.2831 1586.66 -206.2658\n",
      "-204.51362335283176 229.57283249999998 1586.66 -301.068735\n"
     ]
    },
    {
     "name": "stderr",
     "output_type": "stream",
     "text": [
      "/var/folders/8t/1dvfc69d0l3137hz8kyzv__80000gn/T/ipykernel_2774/746598763.py:2: UserWarning:\n",
      "\n",
      "Boolean Series key will be reindexed to match DataFrame index.\n",
      "\n",
      "/var/folders/8t/1dvfc69d0l3137hz8kyzv__80000gn/T/ipykernel_2774/746598763.py:25: SettingWithCopyWarning:\n",
      "\n",
      "\n",
      "A value is trying to be set on a copy of a slice from a DataFrame.\n",
      "Try using .loc[row_indexer,col_indexer] = value instead\n",
      "\n",
      "See the caveats in the documentation: https://pandas.pydata.org/pandas-docs/stable/user_guide/indexing.html#returning-a-view-versus-a-copy\n",
      "\n",
      "/var/folders/8t/1dvfc69d0l3137hz8kyzv__80000gn/T/ipykernel_2774/746598763.py:2: UserWarning:\n",
      "\n",
      "Boolean Series key will be reindexed to match DataFrame index.\n",
      "\n"
     ]
    },
    {
     "name": "stdout",
     "output_type": "stream",
     "text": [
      "-177.244372920344 277.9169575 1586.66 -352.63518500000004\n",
      "-139.14661365364634 245.60008 1586.66 -265.5154950000001\n",
      "-23.53108911861318 304.2838125 1586.66 -225.80857500000008\n"
     ]
    },
    {
     "name": "stderr",
     "output_type": "stream",
     "text": [
      "/var/folders/8t/1dvfc69d0l3137hz8kyzv__80000gn/T/ipykernel_2774/746598763.py:25: SettingWithCopyWarning:\n",
      "\n",
      "\n",
      "A value is trying to be set on a copy of a slice from a DataFrame.\n",
      "Try using .loc[row_indexer,col_indexer] = value instead\n",
      "\n",
      "See the caveats in the documentation: https://pandas.pydata.org/pandas-docs/stable/user_guide/indexing.html#returning-a-view-versus-a-copy\n",
      "\n",
      "/var/folders/8t/1dvfc69d0l3137hz8kyzv__80000gn/T/ipykernel_2774/746598763.py:2: UserWarning:\n",
      "\n",
      "Boolean Series key will be reindexed to match DataFrame index.\n",
      "\n",
      "/var/folders/8t/1dvfc69d0l3137hz8kyzv__80000gn/T/ipykernel_2774/746598763.py:25: SettingWithCopyWarning:\n",
      "\n",
      "\n",
      "A value is trying to be set on a copy of a slice from a DataFrame.\n",
      "Try using .loc[row_indexer,col_indexer] = value instead\n",
      "\n",
      "See the caveats in the documentation: https://pandas.pydata.org/pandas-docs/stable/user_guide/indexing.html#returning-a-view-versus-a-copy\n",
      "\n"
     ]
    }
   ],
   "source": [
    "res = []\n",
    "\n",
    "for option_name in options_names:\n",
    "    # print(option_name)\n",
    "    res.append(performance(option_name))"
   ]
  },
  {
   "cell_type": "code",
   "execution_count": 213,
   "id": "b0df16bb-2f28-43d8-a14a-69558e7277db",
   "metadata": {},
   "outputs": [
    {
     "data": {
      "text/plain": [
       "[['ETH-24FEB23-900', 1.0131488497648018],\n",
       " ['ETH-24FEB23-1000', 1.0224815343644285],\n",
       " ['ETH-24FEB23-1100', 1.0432739539149234],\n",
       " ['ETH-24FEB23-1200', 1.0907696285910953],\n",
       " ['ETH-24FEB23-1300', 1.191604321119405],\n",
       " ['ETH-24FEB23-1400', 1.485369213568155],\n",
       " ['ETH-24FEB23-1500', 2.1901810624174844],\n",
       " ['ETH-24FEB23-1600', 1.5389220978433258],\n",
       " ['ETH-24FEB23-1700', 1.7377236027034286]]"
      ]
     },
     "execution_count": 213,
     "metadata": {},
     "output_type": "execute_result"
    }
   ],
   "source": [
    "res"
   ]
  },
  {
   "cell_type": "code",
   "execution_count": null,
   "id": "5eb2df56-af48-4ad6-bcfc-ab1ba862fb50",
   "metadata": {},
   "outputs": [],
   "source": []
  },
  {
   "cell_type": "code",
   "execution_count": 214,
   "id": "01320101-6188-4a1c-a9fa-77b731c6c5e1",
   "metadata": {},
   "outputs": [],
   "source": [
    "# filtered"
   ]
  },
  {
   "cell_type": "markdown",
   "id": "aef8e45f-2940-4d2e-89a0-4dc163b97d74",
   "metadata": {},
   "source": [
    "#### Todo: run multiple replications (for diff strike, expiries) and draw a performance distribution"
   ]
  },
  {
   "cell_type": "code",
   "execution_count": 215,
   "id": "accb75f6-a52f-40fc-967a-b980aaca6096",
   "metadata": {},
   "outputs": [],
   "source": [
    "import plotly.graph_objs as go\n",
    "import plotly.express as px"
   ]
  },
  {
   "cell_type": "code",
   "execution_count": 216,
   "id": "ab9362f1-c20f-4058-b673-b7ca117d4269",
   "metadata": {},
   "outputs": [],
   "source": [
    "# fig = px.bar(res[0], x=np.array([res[0][0]]), y=np.array([res[1][1]]), title=\"Long-Form Input\")\n",
    "\n",
    "# fig.show()"
   ]
  },
  {
   "cell_type": "code",
   "execution_count": 217,
   "id": "2441de79-e4c3-4ee5-b854-104153ec98c7",
   "metadata": {},
   "outputs": [
    {
     "data": {
      "application/vnd.plotly.v1+json": {
       "config": {
        "plotlyServerURL": "https://plot.ly"
       },
       "data": [
        {
         "alignmentgroup": "True",
         "hovertemplate": "x=%{x}<br>y=%{y}<extra></extra>",
         "legendgroup": "",
         "marker": {
          "color": "#636efa",
          "pattern": {
           "shape": ""
          }
         },
         "name": "",
         "offsetgroup": "",
         "orientation": "v",
         "showlegend": false,
         "textposition": "auto",
         "type": "bar",
         "x": [
          "ETH-24FEB23-900"
         ],
         "xaxis": "x",
         "y": [
          1.0131488497648018
         ],
         "yaxis": "y"
        },
        {
         "alignmentgroup": "True",
         "hovertemplate": "x=%{x}<br>y=%{y}<extra></extra>",
         "legendgroup": "",
         "marker": {
          "color": "#636efa",
          "pattern": {
           "shape": ""
          }
         },
         "name": "",
         "offsetgroup": "",
         "orientation": "v",
         "showlegend": false,
         "textposition": "auto",
         "type": "bar",
         "x": [
          "ETH-24FEB23-1000"
         ],
         "xaxis": "x",
         "y": [
          1.0224815343644285
         ],
         "yaxis": "y"
        },
        {
         "alignmentgroup": "True",
         "hovertemplate": "x=%{x}<br>y=%{y}<extra></extra>",
         "legendgroup": "",
         "marker": {
          "color": "#636efa",
          "pattern": {
           "shape": ""
          }
         },
         "name": "",
         "offsetgroup": "",
         "orientation": "v",
         "showlegend": false,
         "textposition": "auto",
         "type": "bar",
         "x": [
          "ETH-24FEB23-1100"
         ],
         "xaxis": "x",
         "y": [
          1.0432739539149234
         ],
         "yaxis": "y"
        },
        {
         "alignmentgroup": "True",
         "hovertemplate": "x=%{x}<br>y=%{y}<extra></extra>",
         "legendgroup": "",
         "marker": {
          "color": "#636efa",
          "pattern": {
           "shape": ""
          }
         },
         "name": "",
         "offsetgroup": "",
         "orientation": "v",
         "showlegend": false,
         "textposition": "auto",
         "type": "bar",
         "x": [
          "ETH-24FEB23-1200"
         ],
         "xaxis": "x",
         "y": [
          1.0907696285910953
         ],
         "yaxis": "y"
        },
        {
         "alignmentgroup": "True",
         "hovertemplate": "x=%{x}<br>y=%{y}<extra></extra>",
         "legendgroup": "",
         "marker": {
          "color": "#636efa",
          "pattern": {
           "shape": ""
          }
         },
         "name": "",
         "offsetgroup": "",
         "orientation": "v",
         "showlegend": false,
         "textposition": "auto",
         "type": "bar",
         "x": [
          "ETH-24FEB23-1300"
         ],
         "xaxis": "x",
         "y": [
          1.191604321119405
         ],
         "yaxis": "y"
        },
        {
         "alignmentgroup": "True",
         "hovertemplate": "x=%{x}<br>y=%{y}<extra></extra>",
         "legendgroup": "",
         "marker": {
          "color": "#636efa",
          "pattern": {
           "shape": ""
          }
         },
         "name": "",
         "offsetgroup": "",
         "orientation": "v",
         "showlegend": false,
         "textposition": "auto",
         "type": "bar",
         "x": [
          "ETH-24FEB23-1400"
         ],
         "xaxis": "x",
         "y": [
          1.485369213568155
         ],
         "yaxis": "y"
        },
        {
         "alignmentgroup": "True",
         "hovertemplate": "x=%{x}<br>y=%{y}<extra></extra>",
         "legendgroup": "",
         "marker": {
          "color": "#636efa",
          "pattern": {
           "shape": ""
          }
         },
         "name": "",
         "offsetgroup": "",
         "orientation": "v",
         "showlegend": false,
         "textposition": "auto",
         "type": "bar",
         "x": [
          "ETH-24FEB23-1500"
         ],
         "xaxis": "x",
         "y": [
          2.1901810624174844
         ],
         "yaxis": "y"
        },
        {
         "alignmentgroup": "True",
         "hovertemplate": "x=%{x}<br>y=%{y}<extra></extra>",
         "legendgroup": "",
         "marker": {
          "color": "#636efa",
          "pattern": {
           "shape": ""
          }
         },
         "name": "",
         "offsetgroup": "",
         "orientation": "v",
         "showlegend": false,
         "textposition": "auto",
         "type": "bar",
         "x": [
          "ETH-24FEB23-1600"
         ],
         "xaxis": "x",
         "y": [
          1.5389220978433258
         ],
         "yaxis": "y"
        },
        {
         "alignmentgroup": "True",
         "hovertemplate": "x=%{x}<br>y=%{y}<extra></extra>",
         "legendgroup": "",
         "marker": {
          "color": "#636efa",
          "pattern": {
           "shape": ""
          }
         },
         "name": "",
         "offsetgroup": "",
         "orientation": "v",
         "showlegend": false,
         "textposition": "auto",
         "type": "bar",
         "x": [
          "ETH-24FEB23-1700"
         ],
         "xaxis": "x",
         "y": [
          1.7377236027034286
         ],
         "yaxis": "y"
        }
       ],
       "layout": {
        "autosize": true,
        "template": {
         "data": {
          "bar": [
           {
            "error_x": {
             "color": "#2a3f5f"
            },
            "error_y": {
             "color": "#2a3f5f"
            },
            "marker": {
             "line": {
              "color": "#E5ECF6",
              "width": 0.5
             },
             "pattern": {
              "fillmode": "overlay",
              "size": 10,
              "solidity": 0.2
             }
            },
            "type": "bar"
           }
          ],
          "barpolar": [
           {
            "marker": {
             "line": {
              "color": "#E5ECF6",
              "width": 0.5
             },
             "pattern": {
              "fillmode": "overlay",
              "size": 10,
              "solidity": 0.2
             }
            },
            "type": "barpolar"
           }
          ],
          "carpet": [
           {
            "aaxis": {
             "endlinecolor": "#2a3f5f",
             "gridcolor": "white",
             "linecolor": "white",
             "minorgridcolor": "white",
             "startlinecolor": "#2a3f5f"
            },
            "baxis": {
             "endlinecolor": "#2a3f5f",
             "gridcolor": "white",
             "linecolor": "white",
             "minorgridcolor": "white",
             "startlinecolor": "#2a3f5f"
            },
            "type": "carpet"
           }
          ],
          "choropleth": [
           {
            "colorbar": {
             "outlinewidth": 0,
             "ticks": ""
            },
            "type": "choropleth"
           }
          ],
          "contour": [
           {
            "colorbar": {
             "outlinewidth": 0,
             "ticks": ""
            },
            "colorscale": [
             [
              0,
              "#0d0887"
             ],
             [
              0.1111111111111111,
              "#46039f"
             ],
             [
              0.2222222222222222,
              "#7201a8"
             ],
             [
              0.3333333333333333,
              "#9c179e"
             ],
             [
              0.4444444444444444,
              "#bd3786"
             ],
             [
              0.5555555555555556,
              "#d8576b"
             ],
             [
              0.6666666666666666,
              "#ed7953"
             ],
             [
              0.7777777777777778,
              "#fb9f3a"
             ],
             [
              0.8888888888888888,
              "#fdca26"
             ],
             [
              1,
              "#f0f921"
             ]
            ],
            "type": "contour"
           }
          ],
          "contourcarpet": [
           {
            "colorbar": {
             "outlinewidth": 0,
             "ticks": ""
            },
            "type": "contourcarpet"
           }
          ],
          "heatmap": [
           {
            "colorbar": {
             "outlinewidth": 0,
             "ticks": ""
            },
            "colorscale": [
             [
              0,
              "#0d0887"
             ],
             [
              0.1111111111111111,
              "#46039f"
             ],
             [
              0.2222222222222222,
              "#7201a8"
             ],
             [
              0.3333333333333333,
              "#9c179e"
             ],
             [
              0.4444444444444444,
              "#bd3786"
             ],
             [
              0.5555555555555556,
              "#d8576b"
             ],
             [
              0.6666666666666666,
              "#ed7953"
             ],
             [
              0.7777777777777778,
              "#fb9f3a"
             ],
             [
              0.8888888888888888,
              "#fdca26"
             ],
             [
              1,
              "#f0f921"
             ]
            ],
            "type": "heatmap"
           }
          ],
          "heatmapgl": [
           {
            "colorbar": {
             "outlinewidth": 0,
             "ticks": ""
            },
            "colorscale": [
             [
              0,
              "#0d0887"
             ],
             [
              0.1111111111111111,
              "#46039f"
             ],
             [
              0.2222222222222222,
              "#7201a8"
             ],
             [
              0.3333333333333333,
              "#9c179e"
             ],
             [
              0.4444444444444444,
              "#bd3786"
             ],
             [
              0.5555555555555556,
              "#d8576b"
             ],
             [
              0.6666666666666666,
              "#ed7953"
             ],
             [
              0.7777777777777778,
              "#fb9f3a"
             ],
             [
              0.8888888888888888,
              "#fdca26"
             ],
             [
              1,
              "#f0f921"
             ]
            ],
            "type": "heatmapgl"
           }
          ],
          "histogram": [
           {
            "marker": {
             "pattern": {
              "fillmode": "overlay",
              "size": 10,
              "solidity": 0.2
             }
            },
            "type": "histogram"
           }
          ],
          "histogram2d": [
           {
            "colorbar": {
             "outlinewidth": 0,
             "ticks": ""
            },
            "colorscale": [
             [
              0,
              "#0d0887"
             ],
             [
              0.1111111111111111,
              "#46039f"
             ],
             [
              0.2222222222222222,
              "#7201a8"
             ],
             [
              0.3333333333333333,
              "#9c179e"
             ],
             [
              0.4444444444444444,
              "#bd3786"
             ],
             [
              0.5555555555555556,
              "#d8576b"
             ],
             [
              0.6666666666666666,
              "#ed7953"
             ],
             [
              0.7777777777777778,
              "#fb9f3a"
             ],
             [
              0.8888888888888888,
              "#fdca26"
             ],
             [
              1,
              "#f0f921"
             ]
            ],
            "type": "histogram2d"
           }
          ],
          "histogram2dcontour": [
           {
            "colorbar": {
             "outlinewidth": 0,
             "ticks": ""
            },
            "colorscale": [
             [
              0,
              "#0d0887"
             ],
             [
              0.1111111111111111,
              "#46039f"
             ],
             [
              0.2222222222222222,
              "#7201a8"
             ],
             [
              0.3333333333333333,
              "#9c179e"
             ],
             [
              0.4444444444444444,
              "#bd3786"
             ],
             [
              0.5555555555555556,
              "#d8576b"
             ],
             [
              0.6666666666666666,
              "#ed7953"
             ],
             [
              0.7777777777777778,
              "#fb9f3a"
             ],
             [
              0.8888888888888888,
              "#fdca26"
             ],
             [
              1,
              "#f0f921"
             ]
            ],
            "type": "histogram2dcontour"
           }
          ],
          "mesh3d": [
           {
            "colorbar": {
             "outlinewidth": 0,
             "ticks": ""
            },
            "type": "mesh3d"
           }
          ],
          "parcoords": [
           {
            "line": {
             "colorbar": {
              "outlinewidth": 0,
              "ticks": ""
             }
            },
            "type": "parcoords"
           }
          ],
          "pie": [
           {
            "automargin": true,
            "type": "pie"
           }
          ],
          "scatter": [
           {
            "fillpattern": {
             "fillmode": "overlay",
             "size": 10,
             "solidity": 0.2
            },
            "type": "scatter"
           }
          ],
          "scatter3d": [
           {
            "line": {
             "colorbar": {
              "outlinewidth": 0,
              "ticks": ""
             }
            },
            "marker": {
             "colorbar": {
              "outlinewidth": 0,
              "ticks": ""
             }
            },
            "type": "scatter3d"
           }
          ],
          "scattercarpet": [
           {
            "marker": {
             "colorbar": {
              "outlinewidth": 0,
              "ticks": ""
             }
            },
            "type": "scattercarpet"
           }
          ],
          "scattergeo": [
           {
            "marker": {
             "colorbar": {
              "outlinewidth": 0,
              "ticks": ""
             }
            },
            "type": "scattergeo"
           }
          ],
          "scattergl": [
           {
            "marker": {
             "colorbar": {
              "outlinewidth": 0,
              "ticks": ""
             }
            },
            "type": "scattergl"
           }
          ],
          "scattermapbox": [
           {
            "marker": {
             "colorbar": {
              "outlinewidth": 0,
              "ticks": ""
             }
            },
            "type": "scattermapbox"
           }
          ],
          "scatterpolar": [
           {
            "marker": {
             "colorbar": {
              "outlinewidth": 0,
              "ticks": ""
             }
            },
            "type": "scatterpolar"
           }
          ],
          "scatterpolargl": [
           {
            "marker": {
             "colorbar": {
              "outlinewidth": 0,
              "ticks": ""
             }
            },
            "type": "scatterpolargl"
           }
          ],
          "scatterternary": [
           {
            "marker": {
             "colorbar": {
              "outlinewidth": 0,
              "ticks": ""
             }
            },
            "type": "scatterternary"
           }
          ],
          "surface": [
           {
            "colorbar": {
             "outlinewidth": 0,
             "ticks": ""
            },
            "colorscale": [
             [
              0,
              "#0d0887"
             ],
             [
              0.1111111111111111,
              "#46039f"
             ],
             [
              0.2222222222222222,
              "#7201a8"
             ],
             [
              0.3333333333333333,
              "#9c179e"
             ],
             [
              0.4444444444444444,
              "#bd3786"
             ],
             [
              0.5555555555555556,
              "#d8576b"
             ],
             [
              0.6666666666666666,
              "#ed7953"
             ],
             [
              0.7777777777777778,
              "#fb9f3a"
             ],
             [
              0.8888888888888888,
              "#fdca26"
             ],
             [
              1,
              "#f0f921"
             ]
            ],
            "type": "surface"
           }
          ],
          "table": [
           {
            "cells": {
             "fill": {
              "color": "#EBF0F8"
             },
             "line": {
              "color": "white"
             }
            },
            "header": {
             "fill": {
              "color": "#C8D4E3"
             },
             "line": {
              "color": "white"
             }
            },
            "type": "table"
           }
          ]
         },
         "layout": {
          "annotationdefaults": {
           "arrowcolor": "#2a3f5f",
           "arrowhead": 0,
           "arrowwidth": 1
          },
          "autotypenumbers": "strict",
          "coloraxis": {
           "colorbar": {
            "outlinewidth": 0,
            "ticks": ""
           }
          },
          "colorscale": {
           "diverging": [
            [
             0,
             "#8e0152"
            ],
            [
             0.1,
             "#c51b7d"
            ],
            [
             0.2,
             "#de77ae"
            ],
            [
             0.3,
             "#f1b6da"
            ],
            [
             0.4,
             "#fde0ef"
            ],
            [
             0.5,
             "#f7f7f7"
            ],
            [
             0.6,
             "#e6f5d0"
            ],
            [
             0.7,
             "#b8e186"
            ],
            [
             0.8,
             "#7fbc41"
            ],
            [
             0.9,
             "#4d9221"
            ],
            [
             1,
             "#276419"
            ]
           ],
           "sequential": [
            [
             0,
             "#0d0887"
            ],
            [
             0.1111111111111111,
             "#46039f"
            ],
            [
             0.2222222222222222,
             "#7201a8"
            ],
            [
             0.3333333333333333,
             "#9c179e"
            ],
            [
             0.4444444444444444,
             "#bd3786"
            ],
            [
             0.5555555555555556,
             "#d8576b"
            ],
            [
             0.6666666666666666,
             "#ed7953"
            ],
            [
             0.7777777777777778,
             "#fb9f3a"
            ],
            [
             0.8888888888888888,
             "#fdca26"
            ],
            [
             1,
             "#f0f921"
            ]
           ],
           "sequentialminus": [
            [
             0,
             "#0d0887"
            ],
            [
             0.1111111111111111,
             "#46039f"
            ],
            [
             0.2222222222222222,
             "#7201a8"
            ],
            [
             0.3333333333333333,
             "#9c179e"
            ],
            [
             0.4444444444444444,
             "#bd3786"
            ],
            [
             0.5555555555555556,
             "#d8576b"
            ],
            [
             0.6666666666666666,
             "#ed7953"
            ],
            [
             0.7777777777777778,
             "#fb9f3a"
            ],
            [
             0.8888888888888888,
             "#fdca26"
            ],
            [
             1,
             "#f0f921"
            ]
           ]
          },
          "colorway": [
           "#636efa",
           "#EF553B",
           "#00cc96",
           "#ab63fa",
           "#FFA15A",
           "#19d3f3",
           "#FF6692",
           "#B6E880",
           "#FF97FF",
           "#FECB52"
          ],
          "font": {
           "color": "#2a3f5f"
          },
          "geo": {
           "bgcolor": "white",
           "lakecolor": "white",
           "landcolor": "#E5ECF6",
           "showlakes": true,
           "showland": true,
           "subunitcolor": "white"
          },
          "hoverlabel": {
           "align": "left"
          },
          "hovermode": "closest",
          "mapbox": {
           "style": "light"
          },
          "paper_bgcolor": "white",
          "plot_bgcolor": "#E5ECF6",
          "polar": {
           "angularaxis": {
            "gridcolor": "white",
            "linecolor": "white",
            "ticks": ""
           },
           "bgcolor": "#E5ECF6",
           "radialaxis": {
            "gridcolor": "white",
            "linecolor": "white",
            "ticks": ""
           }
          },
          "scene": {
           "xaxis": {
            "backgroundcolor": "#E5ECF6",
            "gridcolor": "white",
            "gridwidth": 2,
            "linecolor": "white",
            "showbackground": true,
            "ticks": "",
            "zerolinecolor": "white"
           },
           "yaxis": {
            "backgroundcolor": "#E5ECF6",
            "gridcolor": "white",
            "gridwidth": 2,
            "linecolor": "white",
            "showbackground": true,
            "ticks": "",
            "zerolinecolor": "white"
           },
           "zaxis": {
            "backgroundcolor": "#E5ECF6",
            "gridcolor": "white",
            "gridwidth": 2,
            "linecolor": "white",
            "showbackground": true,
            "ticks": "",
            "zerolinecolor": "white"
           }
          },
          "shapedefaults": {
           "line": {
            "color": "#2a3f5f"
           }
          },
          "ternary": {
           "aaxis": {
            "gridcolor": "white",
            "linecolor": "white",
            "ticks": ""
           },
           "baxis": {
            "gridcolor": "white",
            "linecolor": "white",
            "ticks": ""
           },
           "bgcolor": "#E5ECF6",
           "caxis": {
            "gridcolor": "white",
            "linecolor": "white",
            "ticks": ""
           }
          },
          "title": {
           "x": 0.05
          },
          "xaxis": {
           "automargin": true,
           "gridcolor": "white",
           "linecolor": "white",
           "ticks": "",
           "title": {
            "standoff": 15
           },
           "zerolinecolor": "white",
           "zerolinewidth": 2
          },
          "yaxis": {
           "automargin": true,
           "gridcolor": "white",
           "linecolor": "white",
           "ticks": "",
           "title": {
            "standoff": 15
           },
           "zerolinecolor": "white",
           "zerolinewidth": 2
          }
         }
        },
        "xaxis": {
         "autorange": true,
         "range": [
          -0.5,
          8.5
         ],
         "type": "category"
        },
        "yaxis": {
         "autorange": true,
         "range": [
          0,
          2.3054537499131413
         ],
         "type": "linear"
        }
       }
      },
      "image/png": "[encoded data removed]",
      "text/html": [
       "<div>                            <div id=\"e413698f-40db-4450-9bf6-c26c65adc6c9\" class=\"plotly-graph-div\" style=\"height:525px; width:100%;\"></div>            <script type=\"text/javascript\">                require([\"plotly\"], function(Plotly) {                    window.PLOTLYENV=window.PLOTLYENV || {};                                    if (document.getElementById(\"e413698f-40db-4450-9bf6-c26c65adc6c9\")) {                    Plotly.newPlot(                        \"e413698f-40db-4450-9bf6-c26c65adc6c9\",                        [{\"alignmentgroup\":\"True\",\"hovertemplate\":\"x=%{x}<br>y=%{y}<extra></extra>\",\"legendgroup\":\"\",\"marker\":{\"color\":\"#636efa\",\"pattern\":{\"shape\":\"\"}},\"name\":\"\",\"offsetgroup\":\"\",\"orientation\":\"v\",\"showlegend\":false,\"textposition\":\"auto\",\"x\":[\"ETH-24FEB23-900\"],\"xaxis\":\"x\",\"y\":[1.0131488497648018],\"yaxis\":\"y\",\"type\":\"bar\"},{\"alignmentgroup\":\"True\",\"hovertemplate\":\"x=%{x}<br>y=%{y}<extra></extra>\",\"legendgroup\":\"\",\"marker\":{\"color\":\"#636efa\",\"pattern\":{\"shape\":\"\"}},\"name\":\"\",\"offsetgroup\":\"\",\"orientation\":\"v\",\"showlegend\":false,\"textposition\":\"auto\",\"x\":[\"ETH-24FEB23-1000\"],\"xaxis\":\"x\",\"y\":[1.0224815343644285],\"yaxis\":\"y\",\"type\":\"bar\"},{\"alignmentgroup\":\"True\",\"hovertemplate\":\"x=%{x}<br>y=%{y}<extra></extra>\",\"legendgroup\":\"\",\"marker\":{\"color\":\"#636efa\",\"pattern\":{\"shape\":\"\"}},\"name\":\"\",\"offsetgroup\":\"\",\"orientation\":\"v\",\"showlegend\":false,\"textposition\":\"auto\",\"x\":[\"ETH-24FEB23-1100\"],\"xaxis\":\"x\",\"y\":[1.0432739539149234],\"yaxis\":\"y\",\"type\":\"bar\"},{\"alignmentgroup\":\"True\",\"hovertemplate\":\"x=%{x}<br>y=%{y}<extra></extra>\",\"legendgroup\":\"\",\"marker\":{\"color\":\"#636efa\",\"pattern\":{\"shape\":\"\"}},\"name\":\"\",\"offsetgroup\":\"\",\"orientation\":\"v\",\"showlegend\":false,\"textposition\":\"auto\",\"x\":[\"ETH-24FEB23-1200\"],\"xaxis\":\"x\",\"y\":[1.0907696285910953],\"yaxis\":\"y\",\"type\":\"bar\"},{\"alignmentgroup\":\"True\",\"hovertemplate\":\"x=%{x}<br>y=%{y}<extra></extra>\",\"legendgroup\":\"\",\"marker\":{\"color\":\"#636efa\",\"pattern\":{\"shape\":\"\"}},\"name\":\"\",\"offsetgroup\":\"\",\"orientation\":\"v\",\"showlegend\":false,\"textposition\":\"auto\",\"x\":[\"ETH-24FEB23-1300\"],\"xaxis\":\"x\",\"y\":[1.191604321119405],\"yaxis\":\"y\",\"type\":\"bar\"},{\"alignmentgroup\":\"True\",\"hovertemplate\":\"x=%{x}<br>y=%{y}<extra></extra>\",\"legendgroup\":\"\",\"marker\":{\"color\":\"#636efa\",\"pattern\":{\"shape\":\"\"}},\"name\":\"\",\"offsetgroup\":\"\",\"orientation\":\"v\",\"showlegend\":false,\"textposition\":\"auto\",\"x\":[\"ETH-24FEB23-1400\"],\"xaxis\":\"x\",\"y\":[1.485369213568155],\"yaxis\":\"y\",\"type\":\"bar\"},{\"alignmentgroup\":\"True\",\"hovertemplate\":\"x=%{x}<br>y=%{y}<extra></extra>\",\"legendgroup\":\"\",\"marker\":{\"color\":\"#636efa\",\"pattern\":{\"shape\":\"\"}},\"name\":\"\",\"offsetgroup\":\"\",\"orientation\":\"v\",\"showlegend\":false,\"textposition\":\"auto\",\"x\":[\"ETH-24FEB23-1500\"],\"xaxis\":\"x\",\"y\":[2.1901810624174844],\"yaxis\":\"y\",\"type\":\"bar\"},{\"alignmentgroup\":\"True\",\"hovertemplate\":\"x=%{x}<br>y=%{y}<extra></extra>\",\"legendgroup\":\"\",\"marker\":{\"color\":\"#636efa\",\"pattern\":{\"shape\":\"\"}},\"name\":\"\",\"offsetgroup\":\"\",\"orientation\":\"v\",\"showlegend\":false,\"textposition\":\"auto\",\"x\":[\"ETH-24FEB23-1600\"],\"xaxis\":\"x\",\"y\":[1.5389220978433258],\"yaxis\":\"y\",\"type\":\"bar\"},{\"alignmentgroup\":\"True\",\"hovertemplate\":\"x=%{x}<br>y=%{y}<extra></extra>\",\"legendgroup\":\"\",\"marker\":{\"color\":\"#636efa\",\"pattern\":{\"shape\":\"\"}},\"name\":\"\",\"offsetgroup\":\"\",\"orientation\":\"v\",\"showlegend\":false,\"textposition\":\"auto\",\"x\":[\"ETH-24FEB23-1700\"],\"xaxis\":\"x\",\"y\":[1.7377236027034286],\"yaxis\":\"y\",\"type\":\"bar\"}],                        {\"template\":{\"data\":{\"histogram2dcontour\":[{\"type\":\"histogram2dcontour\",\"colorbar\":{\"outlinewidth\":0,\"ticks\":\"\"},\"colorscale\":[[0.0,\"#0d0887\"],[0.1111111111111111,\"#46039f\"],[0.2222222222222222,\"#7201a8\"],[0.3333333333333333,\"#9c179e\"],[0.4444444444444444,\"#bd3786\"],[0.5555555555555556,\"#d8576b\"],[0.6666666666666666,\"#ed7953\"],[0.7777777777777778,\"#fb9f3a\"],[0.8888888888888888,\"#fdca26\"],[1.0,\"#f0f921\"]]}],\"choropleth\":[{\"type\":\"choropleth\",\"colorbar\":{\"outlinewidth\":0,\"ticks\":\"\"}}],\"histogram2d\":[{\"type\":\"histogram2d\",\"colorbar\":{\"outlinewidth\":0,\"ticks\":\"\"},\"colorscale\":[[0.0,\"#0d0887\"],[0.1111111111111111,\"#46039f\"],[0.2222222222222222,\"#7201a8\"],[0.3333333333333333,\"#9c179e\"],[0.4444444444444444,\"#bd3786\"],[0.5555555555555556,\"#d8576b\"],[0.6666666666666666,\"#ed7953\"],[0.7777777777777778,\"#fb9f3a\"],[0.8888888888888888,\"#fdca26\"],[1.0,\"#f0f921\"]]}],\"heatmap\":[{\"type\":\"heatmap\",\"colorbar\":{\"outlinewidth\":0,\"ticks\":\"\"},\"colorscale\":[[0.0,\"#0d0887\"],[0.1111111111111111,\"#46039f\"],[0.2222222222222222,\"#7201a8\"],[0.3333333333333333,\"#9c179e\"],[0.4444444444444444,\"#bd3786\"],[0.5555555555555556,\"#d8576b\"],[0.6666666666666666,\"#ed7953\"],[0.7777777777777778,\"#fb9f3a\"],[0.8888888888888888,\"#fdca26\"],[1.0,\"#f0f921\"]]}],\"heatmapgl\":[{\"type\":\"heatmapgl\",\"colorbar\":{\"outlinewidth\":0,\"ticks\":\"\"},\"colorscale\":[[0.0,\"#0d0887\"],[0.1111111111111111,\"#46039f\"],[0.2222222222222222,\"#7201a8\"],[0.3333333333333333,\"#9c179e\"],[0.4444444444444444,\"#bd3786\"],[0.5555555555555556,\"#d8576b\"],[0.6666666666666666,\"#ed7953\"],[0.7777777777777778,\"#fb9f3a\"],[0.8888888888888888,\"#fdca26\"],[1.0,\"#f0f921\"]]}],\"contourcarpet\":[{\"type\":\"contourcarpet\",\"colorbar\":{\"outlinewidth\":0,\"ticks\":\"\"}}],\"contour\":[{\"type\":\"contour\",\"colorbar\":{\"outlinewidth\":0,\"ticks\":\"\"},\"colorscale\":[[0.0,\"#0d0887\"],[0.1111111111111111,\"#46039f\"],[0.2222222222222222,\"#7201a8\"],[0.3333333333333333,\"#9c179e\"],[0.4444444444444444,\"#bd3786\"],[0.5555555555555556,\"#d8576b\"],[0.6666666666666666,\"#ed7953\"],[0.7777777777777778,\"#fb9f3a\"],[0.8888888888888888,\"#fdca26\"],[1.0,\"#f0f921\"]]}],\"surface\":[{\"type\":\"surface\",\"colorbar\":{\"outlinewidth\":0,\"ticks\":\"\"},\"colorscale\":[[0.0,\"#0d0887\"],[0.1111111111111111,\"#46039f\"],[0.2222222222222222,\"#7201a8\"],[0.3333333333333333,\"#9c179e\"],[0.4444444444444444,\"#bd3786\"],[0.5555555555555556,\"#d8576b\"],[0.6666666666666666,\"#ed7953\"],[0.7777777777777778,\"#fb9f3a\"],[0.8888888888888888,\"#fdca26\"],[1.0,\"#f0f921\"]]}],\"mesh3d\":[{\"type\":\"mesh3d\",\"colorbar\":{\"outlinewidth\":0,\"ticks\":\"\"}}],\"scatter\":[{\"fillpattern\":{\"fillmode\":\"overlay\",\"size\":10,\"solidity\":0.2},\"type\":\"scatter\"}],\"parcoords\":[{\"type\":\"parcoords\",\"line\":{\"colorbar\":{\"outlinewidth\":0,\"ticks\":\"\"}}}],\"scatterpolargl\":[{\"type\":\"scatterpolargl\",\"marker\":{\"colorbar\":{\"outlinewidth\":0,\"ticks\":\"\"}}}],\"bar\":[{\"error_x\":{\"color\":\"#2a3f5f\"},\"error_y\":{\"color\":\"#2a3f5f\"},\"marker\":{\"line\":{\"color\":\"#E5ECF6\",\"width\":0.5},\"pattern\":{\"fillmode\":\"overlay\",\"size\":10,\"solidity\":0.2}},\"type\":\"bar\"}],\"scattergeo\":[{\"type\":\"scattergeo\",\"marker\":{\"colorbar\":{\"outlinewidth\":0,\"ticks\":\"\"}}}],\"scatterpolar\":[{\"type\":\"scatterpolar\",\"marker\":{\"colorbar\":{\"outlinewidth\":0,\"ticks\":\"\"}}}],\"histogram\":[{\"marker\":{\"pattern\":{\"fillmode\":\"overlay\",\"size\":10,\"solidity\":0.2}},\"type\":\"histogram\"}],\"scattergl\":[{\"type\":\"scattergl\",\"marker\":{\"colorbar\":{\"outlinewidth\":0,\"ticks\":\"\"}}}],\"scatter3d\":[{\"type\":\"scatter3d\",\"line\":{\"colorbar\":{\"outlinewidth\":0,\"ticks\":\"\"}},\"marker\":{\"colorbar\":{\"outlinewidth\":0,\"ticks\":\"\"}}}],\"scattermapbox\":[{\"type\":\"scattermapbox\",\"marker\":{\"colorbar\":{\"outlinewidth\":0,\"ticks\":\"\"}}}],\"scatterternary\":[{\"type\":\"scatterternary\",\"marker\":{\"colorbar\":{\"outlinewidth\":0,\"ticks\":\"\"}}}],\"scattercarpet\":[{\"type\":\"scattercarpet\",\"marker\":{\"colorbar\":{\"outlinewidth\":0,\"ticks\":\"\"}}}],\"carpet\":[{\"aaxis\":{\"endlinecolor\":\"#2a3f5f\",\"gridcolor\":\"white\",\"linecolor\":\"white\",\"minorgridcolor\":\"white\",\"startlinecolor\":\"#2a3f5f\"},\"baxis\":{\"endlinecolor\":\"#2a3f5f\",\"gridcolor\":\"white\",\"linecolor\":\"white\",\"minorgridcolor\":\"white\",\"startlinecolor\":\"#2a3f5f\"},\"type\":\"carpet\"}],\"table\":[{\"cells\":{\"fill\":{\"color\":\"#EBF0F8\"},\"line\":{\"color\":\"white\"}},\"header\":{\"fill\":{\"color\":\"#C8D4E3\"},\"line\":{\"color\":\"white\"}},\"type\":\"table\"}],\"barpolar\":[{\"marker\":{\"line\":{\"color\":\"#E5ECF6\",\"width\":0.5},\"pattern\":{\"fillmode\":\"overlay\",\"size\":10,\"solidity\":0.2}},\"type\":\"barpolar\"}],\"pie\":[{\"automargin\":true,\"type\":\"pie\"}]},\"layout\":{\"autotypenumbers\":\"strict\",\"colorway\":[\"#636efa\",\"#EF553B\",\"#00cc96\",\"#ab63fa\",\"#FFA15A\",\"#19d3f3\",\"#FF6692\",\"#B6E880\",\"#FF97FF\",\"#FECB52\"],\"font\":{\"color\":\"#2a3f5f\"},\"hovermode\":\"closest\",\"hoverlabel\":{\"align\":\"left\"},\"paper_bgcolor\":\"white\",\"plot_bgcolor\":\"#E5ECF6\",\"polar\":{\"bgcolor\":\"#E5ECF6\",\"angularaxis\":{\"gridcolor\":\"white\",\"linecolor\":\"white\",\"ticks\":\"\"},\"radialaxis\":{\"gridcolor\":\"white\",\"linecolor\":\"white\",\"ticks\":\"\"}},\"ternary\":{\"bgcolor\":\"#E5ECF6\",\"aaxis\":{\"gridcolor\":\"white\",\"linecolor\":\"white\",\"ticks\":\"\"},\"baxis\":{\"gridcolor\":\"white\",\"linecolor\":\"white\",\"ticks\":\"\"},\"caxis\":{\"gridcolor\":\"white\",\"linecolor\":\"white\",\"ticks\":\"\"}},\"coloraxis\":{\"colorbar\":{\"outlinewidth\":0,\"ticks\":\"\"}},\"colorscale\":{\"sequential\":[[0.0,\"#0d0887\"],[0.1111111111111111,\"#46039f\"],[0.2222222222222222,\"#7201a8\"],[0.3333333333333333,\"#9c179e\"],[0.4444444444444444,\"#bd3786\"],[0.5555555555555556,\"#d8576b\"],[0.6666666666666666,\"#ed7953\"],[0.7777777777777778,\"#fb9f3a\"],[0.8888888888888888,\"#fdca26\"],[1.0,\"#f0f921\"]],\"sequentialminus\":[[0.0,\"#0d0887\"],[0.1111111111111111,\"#46039f\"],[0.2222222222222222,\"#7201a8\"],[0.3333333333333333,\"#9c179e\"],[0.4444444444444444,\"#bd3786\"],[0.5555555555555556,\"#d8576b\"],[0.6666666666666666,\"#ed7953\"],[0.7777777777777778,\"#fb9f3a\"],[0.8888888888888888,\"#fdca26\"],[1.0,\"#f0f921\"]],\"diverging\":[[0,\"#8e0152\"],[0.1,\"#c51b7d\"],[0.2,\"#de77ae\"],[0.3,\"#f1b6da\"],[0.4,\"#fde0ef\"],[0.5,\"#f7f7f7\"],[0.6,\"#e6f5d0\"],[0.7,\"#b8e186\"],[0.8,\"#7fbc41\"],[0.9,\"#4d9221\"],[1,\"#276419\"]]},\"xaxis\":{\"gridcolor\":\"white\",\"linecolor\":\"white\",\"ticks\":\"\",\"title\":{\"standoff\":15},\"zerolinecolor\":\"white\",\"automargin\":true,\"zerolinewidth\":2},\"yaxis\":{\"gridcolor\":\"white\",\"linecolor\":\"white\",\"ticks\":\"\",\"title\":{\"standoff\":15},\"zerolinecolor\":\"white\",\"automargin\":true,\"zerolinewidth\":2},\"scene\":{\"xaxis\":{\"backgroundcolor\":\"#E5ECF6\",\"gridcolor\":\"white\",\"linecolor\":\"white\",\"showbackground\":true,\"ticks\":\"\",\"zerolinecolor\":\"white\",\"gridwidth\":2},\"yaxis\":{\"backgroundcolor\":\"#E5ECF6\",\"gridcolor\":\"white\",\"linecolor\":\"white\",\"showbackground\":true,\"ticks\":\"\",\"zerolinecolor\":\"white\",\"gridwidth\":2},\"zaxis\":{\"backgroundcolor\":\"#E5ECF6\",\"gridcolor\":\"white\",\"linecolor\":\"white\",\"showbackground\":true,\"ticks\":\"\",\"zerolinecolor\":\"white\",\"gridwidth\":2}},\"shapedefaults\":{\"line\":{\"color\":\"#2a3f5f\"}},\"annotationdefaults\":{\"arrowcolor\":\"#2a3f5f\",\"arrowhead\":0,\"arrowwidth\":1},\"geo\":{\"bgcolor\":\"white\",\"landcolor\":\"#E5ECF6\",\"subunitcolor\":\"white\",\"showland\":true,\"showlakes\":true,\"lakecolor\":\"white\"},\"title\":{\"x\":0.05},\"mapbox\":{\"style\":\"light\"}}}},                        {\"responsive\": true}                    ).then(function(){\n",
       "                            \n",
       "var gd = document.getElementById('e413698f-40db-4450-9bf6-c26c65adc6c9');\n",
       "var x = new MutationObserver(function (mutations, observer) {{\n",
       "        var display = window.getComputedStyle(gd).display;\n",
       "        if (!display || display === 'none') {{\n",
       "            console.log([gd, 'removed!']);\n",
       "            Plotly.purge(gd);\n",
       "            observer.disconnect();\n",
       "        }}\n",
       "}});\n",
       "\n",
       "// Listen for the removal of the full notebook cells\n",
       "var notebookContainer = gd.closest('#notebook-container');\n",
       "if (notebookContainer) {{\n",
       "    x.observe(notebookContainer, {childList: true});\n",
       "}}\n",
       "\n",
       "// Listen for the clearing of the current output cell\n",
       "var outputEl = gd.closest('.output');\n",
       "if (outputEl) {{\n",
       "    x.observe(outputEl, {childList: true});\n",
       "}}\n",
       "\n",
       "                        })                };                });            </script>        </div>"
      ]
     },
     "metadata": {},
     "output_type": "display_data"
    }
   ],
   "source": [
    "dices2 = pd.DataFrame(np.random.randint(low=1, high=7, size=(100, 2)), columns=('Кость 1', 'Кость 2'))\n",
    "dices2['Сумма'] = dices2['Кость 1'] + dices2['Кость 2']\n",
    "dices3 = pd.DataFrame(np.random.randint(low=1, high=7, size=(1000, 2)), columns=('Кость 1', 'Кость 2'))\n",
    "dices3['Сумма'] = dices3['Кость 1'] + dices3['Кость 2']\n",
    "\n",
    "fig = go.Figure()\n",
    "# fig.add_trace(go.Histogram(x=dices['Сумма']))\n",
    "for i in range(len(res)):\n",
    "    # fig.add_trace(go.Histogram(x=r))\n",
    "    # fig.add_trace(go.Histogram(x=r))\n",
    "    fig2 = px.bar(res[0], x=np.array([res[i][0]]), y=np.array([res[i][1]]))\n",
    "    \n",
    "    # fig2 = px.bar(df, x=\"x\", y=\"y\")\n",
    "    fig.add_trace(fig2.data[0])\n",
    "\n",
    "# fig.add_trace(go.Histogram(x=dices3['Сумма']))\n",
    "fig.show()"
   ]
  },
  {
   "cell_type": "code",
   "execution_count": null,
   "id": "50fd8f9a-321d-4739-a76e-afec2f46d67b",
   "metadata": {},
   "outputs": [],
   "source": []
  },
  {
   "cell_type": "code",
   "execution_count": null,
   "id": "82cbf012-ee44-4a38-ae5b-cf23ccfca953",
   "metadata": {},
   "outputs": [],
   "source": []
  }
 ],
 "metadata": {
  "kernelspec": {
   "display_name": "Python 3 (ipykernel)",
   "language": "python",
   "name": "python3"
  },
  "language_info": {
   "codemirror_mode": {
    "name": "ipython",
    "version": 3
   },
   "file_extension": ".py",
   "mimetype": "text/x-python",
   "name": "python",
   "nbconvert_exporter": "python",
   "pygments_lexer": "ipython3",
   "version": "3.8.15"
  }
 },
 "nbformat": 4,
 "nbformat_minor": 5
}
