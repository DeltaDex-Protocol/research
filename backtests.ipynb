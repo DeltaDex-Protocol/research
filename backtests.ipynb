{
 "cells": [
  {
   "cell_type": "code",
   "execution_count": 81,
   "id": "cd76a933-dcdf-4794-89ef-be4951cfd7ee",
   "metadata": {},
   "outputs": [],
   "source": [
    "import sqlite3\n",
    "import pandas as pd\n",
    "import numpy as np\n",
    "from scipy.stats import norm\n",
    "from scipy.optimize import minimize_scalar"
   ]
  },
  {
   "cell_type": "code",
   "execution_count": 82,
   "id": "7ddd918d-1083-495c-b123-899e8bae2583",
   "metadata": {},
   "outputs": [],
   "source": [
    "N = norm.cdf\n"
   ]
  },
  {
   "cell_type": "code",
   "execution_count": 8,
   "id": "bc5cee2a-c51e-42c3-bf9b-debe8fedbafc",
   "metadata": {},
   "outputs": [],
   "source": [
    "def read_from_db():\n",
    "    conn = sqlite3.connect('../../options_database.db')\n",
    "    df = pd.read_sql_query(\"SELECT * FROM options_table\", conn)\n",
    "    conn.close()\n",
    "    return df"
   ]
  },
  {
   "cell_type": "code",
   "execution_count": 9,
   "id": "ecb27032-567a-46f4-a632-038bf3f849b6",
   "metadata": {},
   "outputs": [],
   "source": [
    "df = read_from_db()"
   ]
  },
  {
   "cell_type": "code",
   "execution_count": 41,
   "id": "a78b0a5a-94ed-44e3-ba00-dd0f7216a132",
   "metadata": {},
   "outputs": [
    {
     "data": {
      "text/plain": [
       "610"
      ]
     },
     "execution_count": 41,
     "metadata": {},
     "output_type": "execute_result"
    }
   ],
   "source": [
    "len(df[(df.current_time == '2023-01-29 11:24:46.988931')])"
   ]
  },
  {
   "cell_type": "code",
   "execution_count": 206,
   "id": "d5e511b6-301f-4562-859a-abc83a8b332e",
   "metadata": {},
   "outputs": [
    {
     "name": "stderr",
     "output_type": "stream",
     "text": [
      "/var/folders/8t/1dvfc69d0l3137hz8kyzv__80000gn/T/ipykernel_9167/828420701.py:1: UserWarning: Boolean Series key will be reindexed to match DataFrame index.\n",
      "  selected_put = (df[(df.full_name == 'ETH-27JAN23-1500')][df.current_time > '2023-01-04'][df.type == 'put'])\n"
     ]
    }
   ],
   "source": [
    "selected_put = (df[(df.full_name == 'ETH-27JAN23-1500')][df.current_time > '2023-01-04'][df.type == 'put'])\n",
    "selected_put['timedelta'] = selected_put.apply(lambda x: get_timedelta_in_years(datetime.fromisoformat(x['expiry']) - datetime.fromisoformat(x['current_time'])), axis=1)\n"
   ]
  },
  {
   "cell_type": "code",
   "execution_count": 207,
   "id": "534ea24b-52cd-4199-be14-0d0765535fab",
   "metadata": {},
   "outputs": [],
   "source": [
    "# selected_put"
   ]
  },
  {
   "cell_type": "code",
   "execution_count": 208,
   "id": "5884da4e-f400-4285-a51a-bed457dea143",
   "metadata": {},
   "outputs": [],
   "source": [
    "# print((df.full_name.drop_duplicates()).to_numpy())"
   ]
  },
  {
   "cell_type": "code",
   "execution_count": 209,
   "id": "b9419587-c2bb-470d-a07c-2e2a53ec4838",
   "metadata": {},
   "outputs": [],
   "source": [
    "def delta_BS_put(S, K, T, r, sigma):\n",
    "    d1 = (np.log(S/K) + (r + sigma**2/2)*T) / (sigma*np.sqrt(T))\n",
    "    return N(d1) - 1\n",
    "\n",
    "def delta_BS_call(S, K, T, r, sigma):\n",
    "    d1 = (np.log(S/K) + (r + sigma**2/2)*T) / (sigma*np.sqrt(T))\n",
    "    return N(d1)\n",
    "\n",
    "def BS_CALL(S, K, T, r, sigma):\n",
    "    d1 = (np.log(S/K) + (r + sigma**2/2)*T) / (sigma*np.sqrt(T))\n",
    "    d2 = d1 - sigma * np.sqrt(T)\n",
    "#     print(d1, d2)\n",
    "    return S * N(d1) - K * np.exp(-r*T)* N(d2)\n",
    "\n",
    "def BS_PUT(S, K, T, r, sigma):\n",
    "    d1 = (np.log(S/K) + (r + sigma**2/2)*T) / (sigma*np.sqrt(T))\n",
    "    d2 = d1 - sigma * np.sqrt(T)\n",
    "    return K * np.exp(-r*T)* N(-d2) - S * N(-d1)"
   ]
  },
  {
   "cell_type": "code",
   "execution_count": 210,
   "id": "bf77ef18-6169-4e21-a77a-2e9bc4267efa",
   "metadata": {},
   "outputs": [
    {
     "data": {
      "text/plain": [
       "array([382.92492255])"
      ]
     },
     "execution_count": 210,
     "metadata": {},
     "output_type": "execute_result"
    }
   ],
   "source": [
    "BS_PUT(np.array([1000]), np.array([1000]), np.array([1]), np.array([0]), np.array([1]))"
   ]
  },
  {
   "cell_type": "code",
   "execution_count": null,
   "id": "275399ae-adbc-4073-86a0-d3987322b5d8",
   "metadata": {},
   "outputs": [],
   "source": []
  },
  {
   "cell_type": "code",
   "execution_count": 211,
   "id": "614e7219-079e-49ba-ab95-530e756dd9d2",
   "metadata": {},
   "outputs": [],
   "source": [
    "selected_put['mid_price'] = selected_put['mid_price'].fillna(0)\n",
    "selected_put['ask_price'] = selected_put['ask_price'].fillna(0)\n",
    "selected_put['bid_price'] = selected_put['bid_price'].fillna(0)"
   ]
  },
  {
   "cell_type": "code",
   "execution_count": 212,
   "id": "ca584d8c-81c4-47e1-8437-a9cc02ee3b67",
   "metadata": {},
   "outputs": [],
   "source": [
    "# selected_put['delta']"
   ]
  },
  {
   "cell_type": "code",
   "execution_count": 213,
   "id": "26ffc85d-d5c6-40da-9902-856416226d90",
   "metadata": {},
   "outputs": [
    {
     "data": {
      "text/plain": [
       "index                                      222\n",
       "full_name                     ETH-27JAN23-1500\n",
       "type                                       put\n",
       "open_interest                            907.0\n",
       "expiry              2023-01-27 00:00:00.000000\n",
       "strike                                    1500\n",
       "bid_price                                  0.0\n",
       "bid_IV                                     NaN\n",
       "ask_price                                  0.0\n",
       "ask_IV                                     NaN\n",
       "mid_price                                  0.0\n",
       "mid_IV                                     NaN\n",
       "underlying_price                       1211.16\n",
       "current_time        2023-01-04 00:33:40.899854\n",
       "timedelta                             0.062907\n",
       "Name: 17834, dtype: object"
      ]
     },
     "execution_count": 213,
     "metadata": {},
     "output_type": "execute_result"
    }
   ],
   "source": [
    "selected_put.iloc[1]"
   ]
  },
  {
   "cell_type": "code",
   "execution_count": 214,
   "id": "680667ac-57a0-4614-b687-fbcf5b9c26ae",
   "metadata": {},
   "outputs": [],
   "source": [
    "from datetime import datetime"
   ]
  },
  {
   "cell_type": "code",
   "execution_count": 215,
   "id": "717cb84d-4f04-4aa4-9cbe-285e7ff36659",
   "metadata": {},
   "outputs": [],
   "source": [
    "def get_timedelta_in_years(timedelta):\n",
    "    d = timedelta.days / (365.25)\n",
    "    s = timedelta.seconds / (365.25*24*60*60)\n",
    "    return d + s"
   ]
  },
  {
   "cell_type": "code",
   "execution_count": 216,
   "id": "f5a7acbd-fbf3-45db-b6a0-2ce56981fa2d",
   "metadata": {},
   "outputs": [
    {
     "data": {
      "text/plain": [
       "0.06271452835450098"
      ]
     },
     "execution_count": 216,
     "metadata": {},
     "output_type": "execute_result"
    }
   ],
   "source": [
    "# datetime.strptime(selected_put.iloc[5]['expiry'], \"%Y %m %d %I:%M%p\")\n",
    "get_timedelta_in_years(datetime.fromisoformat(selected_put.iloc[5]['expiry']) - datetime.fromisoformat(selected_put.iloc[5]['current_time']))\n"
   ]
  },
  {
   "cell_type": "code",
   "execution_count": 217,
   "id": "fbe46c55-a13a-4640-96f8-ad6a063b83ae",
   "metadata": {},
   "outputs": [],
   "source": [
    "filtered = selected_put.loc[(selected_put.bid_IV > 0) & (selected_put.bid_IV < 10) & \n",
    "                            (selected_put.ask_IV > 0) & (selected_put.ask_IV < 10) &\n",
    "                             (selected_put.timedelta > 0)]"
   ]
  },
  {
   "cell_type": "code",
   "execution_count": 218,
   "id": "d50be065-4f0d-4757-a5a6-2df949664665",
   "metadata": {},
   "outputs": [
    {
     "name": "stderr",
     "output_type": "stream",
     "text": [
      "/var/folders/8t/1dvfc69d0l3137hz8kyzv__80000gn/T/ipykernel_9167/1541335339.py:1: SettingWithCopyWarning: \n",
      "A value is trying to be set on a copy of a slice from a DataFrame.\n",
      "Try using .loc[row_indexer,col_indexer] = value instead\n",
      "\n",
      "See the caveats in the documentation: https://pandas.pydata.org/pandas-docs/stable/user_guide/indexing.html#returning-a-view-versus-a-copy\n",
      "  filtered['strike'] = filtered['strike'].astype(float)\n"
     ]
    }
   ],
   "source": [
    "filtered['strike'] = filtered['strike'].astype(float)"
   ]
  },
  {
   "cell_type": "code",
   "execution_count": 219,
   "id": "2f7bbb18-3094-41e9-b9a7-6c984ea159ff",
   "metadata": {},
   "outputs": [
    {
     "name": "stderr",
     "output_type": "stream",
     "text": [
      "/var/folders/8t/1dvfc69d0l3137hz8kyzv__80000gn/T/ipykernel_9167/3576649484.py:1: SettingWithCopyWarning: \n",
      "A value is trying to be set on a copy of a slice from a DataFrame.\n",
      "Try using .loc[row_indexer,col_indexer] = value instead\n",
      "\n",
      "See the caveats in the documentation: https://pandas.pydata.org/pandas-docs/stable/user_guide/indexing.html#returning-a-view-versus-a-copy\n",
      "  filtered['BS_delta'] = delta_BS_put(filtered.underlying_price, filtered.strike, filtered.timedelta, 0, filtered.mid_IV)\n"
     ]
    }
   ],
   "source": [
    "filtered['BS_delta'] = delta_BS_put(filtered.underlying_price, filtered.strike, filtered.timedelta, 0, filtered.mid_IV)\n",
    "\n"
   ]
  },
  {
   "cell_type": "code",
   "execution_count": 220,
   "id": "bffed3fc-c033-42aa-9fb0-0fc936a9e043",
   "metadata": {},
   "outputs": [
    {
     "data": {
      "text/html": [
       "<div>\n",
       "<style scoped>\n",
       "    .dataframe tbody tr th:only-of-type {\n",
       "        vertical-align: middle;\n",
       "    }\n",
       "\n",
       "    .dataframe tbody tr th {\n",
       "        vertical-align: top;\n",
       "    }\n",
       "\n",
       "    .dataframe thead th {\n",
       "        text-align: right;\n",
       "    }\n",
       "</style>\n",
       "<table border=\"1\" class=\"dataframe\">\n",
       "  <thead>\n",
       "    <tr style=\"text-align: right;\">\n",
       "      <th></th>\n",
       "      <th>index</th>\n",
       "      <th>full_name</th>\n",
       "      <th>type</th>\n",
       "      <th>open_interest</th>\n",
       "      <th>expiry</th>\n",
       "      <th>strike</th>\n",
       "      <th>bid_price</th>\n",
       "      <th>bid_IV</th>\n",
       "      <th>ask_price</th>\n",
       "      <th>ask_IV</th>\n",
       "      <th>mid_price</th>\n",
       "      <th>mid_IV</th>\n",
       "      <th>underlying_price</th>\n",
       "      <th>current_time</th>\n",
       "      <th>timedelta</th>\n",
       "      <th>BS_delta</th>\n",
       "    </tr>\n",
       "  </thead>\n",
       "  <tbody>\n",
       "    <tr>\n",
       "      <th>352930</th>\n",
       "      <td>196</td>\n",
       "      <td>ETH-27JAN23-1500</td>\n",
       "      <td>put</td>\n",
       "      <td>939.0</td>\n",
       "      <td>2023-01-27 00:00:00.000000</td>\n",
       "      <td>1500.0</td>\n",
       "      <td>0.0800</td>\n",
       "      <td>0.500767</td>\n",
       "      <td>0.0840</td>\n",
       "      <td>0.556310</td>\n",
       "      <td>0.08200</td>\n",
       "      <td>0.528761</td>\n",
       "      <td>1412.75</td>\n",
       "      <td>2023-01-12 03:56:21.573827</td>\n",
       "      <td>0.040618</td>\n",
       "      <td>-0.694645</td>\n",
       "    </tr>\n",
       "    <tr>\n",
       "      <th>353410</th>\n",
       "      <td>196</td>\n",
       "      <td>ETH-27JAN23-1500</td>\n",
       "      <td>put</td>\n",
       "      <td>939.0</td>\n",
       "      <td>2023-01-27 00:00:00.000000</td>\n",
       "      <td>1500.0</td>\n",
       "      <td>0.0840</td>\n",
       "      <td>0.504221</td>\n",
       "      <td>0.0865</td>\n",
       "      <td>0.539923</td>\n",
       "      <td>0.08525</td>\n",
       "      <td>0.522183</td>\n",
       "      <td>1406.03</td>\n",
       "      <td>2023-01-12 04:21:32.882211</td>\n",
       "      <td>0.040570</td>\n",
       "      <td>-0.713114</td>\n",
       "    </tr>\n",
       "    <tr>\n",
       "      <th>353892</th>\n",
       "      <td>196</td>\n",
       "      <td>ETH-27JAN23-1500</td>\n",
       "      <td>put</td>\n",
       "      <td>939.0</td>\n",
       "      <td>2023-01-27 00:00:00.000000</td>\n",
       "      <td>1500.0</td>\n",
       "      <td>0.0870</td>\n",
       "      <td>0.506860</td>\n",
       "      <td>0.0890</td>\n",
       "      <td>0.535997</td>\n",
       "      <td>0.08800</td>\n",
       "      <td>0.521511</td>\n",
       "      <td>1401.10</td>\n",
       "      <td>2023-01-12 04:46:45.315404</td>\n",
       "      <td>0.040523</td>\n",
       "      <td>-0.724820</td>\n",
       "    </tr>\n",
       "    <tr>\n",
       "      <th>354374</th>\n",
       "      <td>196</td>\n",
       "      <td>ETH-27JAN23-1500</td>\n",
       "      <td>put</td>\n",
       "      <td>939.0</td>\n",
       "      <td>2023-01-27 00:00:00.000000</td>\n",
       "      <td>1500.0</td>\n",
       "      <td>0.0850</td>\n",
       "      <td>0.518555</td>\n",
       "      <td>0.0875</td>\n",
       "      <td>0.553982</td>\n",
       "      <td>0.08625</td>\n",
       "      <td>0.536370</td>\n",
       "      <td>1405.95</td>\n",
       "      <td>2023-01-12 05:11:56.964737</td>\n",
       "      <td>0.040475</td>\n",
       "      <td>-0.707504</td>\n",
       "    </tr>\n",
       "    <tr>\n",
       "      <th>354860</th>\n",
       "      <td>196</td>\n",
       "      <td>ETH-27JAN23-1500</td>\n",
       "      <td>put</td>\n",
       "      <td>939.0</td>\n",
       "      <td>2023-01-27 00:00:00.000000</td>\n",
       "      <td>1500.0</td>\n",
       "      <td>0.0855</td>\n",
       "      <td>0.520085</td>\n",
       "      <td>0.0875</td>\n",
       "      <td>0.548557</td>\n",
       "      <td>0.08650</td>\n",
       "      <td>0.534388</td>\n",
       "      <td>1405.22</td>\n",
       "      <td>2023-01-12 05:37:09.298762</td>\n",
       "      <td>0.040427</td>\n",
       "      <td>-0.710127</td>\n",
       "    </tr>\n",
       "    <tr>\n",
       "      <th>...</th>\n",
       "      <td>...</td>\n",
       "      <td>...</td>\n",
       "      <td>...</td>\n",
       "      <td>...</td>\n",
       "      <td>...</td>\n",
       "      <td>...</td>\n",
       "      <td>...</td>\n",
       "      <td>...</td>\n",
       "      <td>...</td>\n",
       "      <td>...</td>\n",
       "      <td>...</td>\n",
       "      <td>...</td>\n",
       "      <td>...</td>\n",
       "      <td>...</td>\n",
       "      <td>...</td>\n",
       "      <td>...</td>\n",
       "    </tr>\n",
       "    <tr>\n",
       "      <th>862270</th>\n",
       "      <td>468</td>\n",
       "      <td>ETH-27JAN23-1500</td>\n",
       "      <td>put</td>\n",
       "      <td>17871.0</td>\n",
       "      <td>2023-01-27 00:00:00.000000</td>\n",
       "      <td>1500.0</td>\n",
       "      <td>0.0005</td>\n",
       "      <td>0.857983</td>\n",
       "      <td>0.0010</td>\n",
       "      <td>0.985001</td>\n",
       "      <td>0.00075</td>\n",
       "      <td>0.927465</td>\n",
       "      <td>1595.90</td>\n",
       "      <td>2023-01-26 20:38:19.837640</td>\n",
       "      <td>0.000383</td>\n",
       "      <td>-0.000311</td>\n",
       "    </tr>\n",
       "    <tr>\n",
       "      <th>862904</th>\n",
       "      <td>468</td>\n",
       "      <td>ETH-27JAN23-1500</td>\n",
       "      <td>put</td>\n",
       "      <td>17872.0</td>\n",
       "      <td>2023-01-27 00:00:00.000000</td>\n",
       "      <td>1500.0</td>\n",
       "      <td>0.0005</td>\n",
       "      <td>0.854016</td>\n",
       "      <td>0.0010</td>\n",
       "      <td>0.981221</td>\n",
       "      <td>0.00075</td>\n",
       "      <td>0.923580</td>\n",
       "      <td>1593.58</td>\n",
       "      <td>2023-01-26 21:03:38.708310</td>\n",
       "      <td>0.000335</td>\n",
       "      <td>-0.000167</td>\n",
       "    </tr>\n",
       "    <tr>\n",
       "      <th>863538</th>\n",
       "      <td>468</td>\n",
       "      <td>ETH-27JAN23-1500</td>\n",
       "      <td>put</td>\n",
       "      <td>17872.0</td>\n",
       "      <td>2023-01-27 00:00:00.000000</td>\n",
       "      <td>1500.0</td>\n",
       "      <td>0.0005</td>\n",
       "      <td>0.923439</td>\n",
       "      <td>0.0010</td>\n",
       "      <td>1.058329</td>\n",
       "      <td>0.00075</td>\n",
       "      <td>0.997277</td>\n",
       "      <td>1601.24</td>\n",
       "      <td>2023-01-26 21:28:56.586539</td>\n",
       "      <td>0.000287</td>\n",
       "      <td>-0.000054</td>\n",
       "    </tr>\n",
       "    <tr>\n",
       "      <th>864172</th>\n",
       "      <td>468</td>\n",
       "      <td>ETH-27JAN23-1500</td>\n",
       "      <td>put</td>\n",
       "      <td>17873.0</td>\n",
       "      <td>2023-01-27 00:00:00.000000</td>\n",
       "      <td>1500.0</td>\n",
       "      <td>0.0005</td>\n",
       "      <td>0.927209</td>\n",
       "      <td>0.0010</td>\n",
       "      <td>1.063142</td>\n",
       "      <td>0.00075</td>\n",
       "      <td>1.001604</td>\n",
       "      <td>1599.76</td>\n",
       "      <td>2023-01-26 21:54:16.676830</td>\n",
       "      <td>0.000239</td>\n",
       "      <td>-0.000016</td>\n",
       "    </tr>\n",
       "    <tr>\n",
       "      <th>864806</th>\n",
       "      <td>468</td>\n",
       "      <td>ETH-27JAN23-1500</td>\n",
       "      <td>put</td>\n",
       "      <td>17873.0</td>\n",
       "      <td>2023-01-27 00:00:00.000000</td>\n",
       "      <td>1500.0</td>\n",
       "      <td>0.0005</td>\n",
       "      <td>0.934743</td>\n",
       "      <td>0.0010</td>\n",
       "      <td>1.072131</td>\n",
       "      <td>0.00075</td>\n",
       "      <td>1.009925</td>\n",
       "      <td>1598.73</td>\n",
       "      <td>2023-01-26 22:19:35.301924</td>\n",
       "      <td>0.000191</td>\n",
       "      <td>-0.000002</td>\n",
       "    </tr>\n",
       "  </tbody>\n",
       "</table>\n",
       "<p>901 rows × 16 columns</p>\n",
       "</div>"
      ],
      "text/plain": [
       "        index         full_name type  open_interest  \\\n",
       "352930    196  ETH-27JAN23-1500  put          939.0   \n",
       "353410    196  ETH-27JAN23-1500  put          939.0   \n",
       "353892    196  ETH-27JAN23-1500  put          939.0   \n",
       "354374    196  ETH-27JAN23-1500  put          939.0   \n",
       "354860    196  ETH-27JAN23-1500  put          939.0   \n",
       "...       ...               ...  ...            ...   \n",
       "862270    468  ETH-27JAN23-1500  put        17871.0   \n",
       "862904    468  ETH-27JAN23-1500  put        17872.0   \n",
       "863538    468  ETH-27JAN23-1500  put        17872.0   \n",
       "864172    468  ETH-27JAN23-1500  put        17873.0   \n",
       "864806    468  ETH-27JAN23-1500  put        17873.0   \n",
       "\n",
       "                            expiry  strike  bid_price    bid_IV  ask_price  \\\n",
       "352930  2023-01-27 00:00:00.000000  1500.0     0.0800  0.500767     0.0840   \n",
       "353410  2023-01-27 00:00:00.000000  1500.0     0.0840  0.504221     0.0865   \n",
       "353892  2023-01-27 00:00:00.000000  1500.0     0.0870  0.506860     0.0890   \n",
       "354374  2023-01-27 00:00:00.000000  1500.0     0.0850  0.518555     0.0875   \n",
       "354860  2023-01-27 00:00:00.000000  1500.0     0.0855  0.520085     0.0875   \n",
       "...                            ...     ...        ...       ...        ...   \n",
       "862270  2023-01-27 00:00:00.000000  1500.0     0.0005  0.857983     0.0010   \n",
       "862904  2023-01-27 00:00:00.000000  1500.0     0.0005  0.854016     0.0010   \n",
       "863538  2023-01-27 00:00:00.000000  1500.0     0.0005  0.923439     0.0010   \n",
       "864172  2023-01-27 00:00:00.000000  1500.0     0.0005  0.927209     0.0010   \n",
       "864806  2023-01-27 00:00:00.000000  1500.0     0.0005  0.934743     0.0010   \n",
       "\n",
       "          ask_IV  mid_price    mid_IV  underlying_price  \\\n",
       "352930  0.556310    0.08200  0.528761           1412.75   \n",
       "353410  0.539923    0.08525  0.522183           1406.03   \n",
       "353892  0.535997    0.08800  0.521511           1401.10   \n",
       "354374  0.553982    0.08625  0.536370           1405.95   \n",
       "354860  0.548557    0.08650  0.534388           1405.22   \n",
       "...          ...        ...       ...               ...   \n",
       "862270  0.985001    0.00075  0.927465           1595.90   \n",
       "862904  0.981221    0.00075  0.923580           1593.58   \n",
       "863538  1.058329    0.00075  0.997277           1601.24   \n",
       "864172  1.063142    0.00075  1.001604           1599.76   \n",
       "864806  1.072131    0.00075  1.009925           1598.73   \n",
       "\n",
       "                      current_time  timedelta  BS_delta  \n",
       "352930  2023-01-12 03:56:21.573827   0.040618 -0.694645  \n",
       "353410  2023-01-12 04:21:32.882211   0.040570 -0.713114  \n",
       "353892  2023-01-12 04:46:45.315404   0.040523 -0.724820  \n",
       "354374  2023-01-12 05:11:56.964737   0.040475 -0.707504  \n",
       "354860  2023-01-12 05:37:09.298762   0.040427 -0.710127  \n",
       "...                            ...        ...       ...  \n",
       "862270  2023-01-26 20:38:19.837640   0.000383 -0.000311  \n",
       "862904  2023-01-26 21:03:38.708310   0.000335 -0.000167  \n",
       "863538  2023-01-26 21:28:56.586539   0.000287 -0.000054  \n",
       "864172  2023-01-26 21:54:16.676830   0.000239 -0.000016  \n",
       "864806  2023-01-26 22:19:35.301924   0.000191 -0.000002  \n",
       "\n",
       "[901 rows x 16 columns]"
      ]
     },
     "execution_count": 220,
     "metadata": {},
     "output_type": "execute_result"
    }
   ],
   "source": [
    "filtered"
   ]
  },
  {
   "cell_type": "code",
   "execution_count": null,
   "id": "d04ccb23-3af1-4548-aa94-03a320558164",
   "metadata": {},
   "outputs": [],
   "source": []
  },
  {
   "cell_type": "code",
   "execution_count": 241,
   "id": "5eb2df56-af48-4ad6-bcfc-ab1ba862fb50",
   "metadata": {},
   "outputs": [
    {
     "data": {
      "text/plain": [
       "115.8455"
      ]
     },
     "execution_count": 241,
     "metadata": {},
     "output_type": "execute_result"
    }
   ],
   "source": [
    "initial_option_price = filtered['mid_price'].iloc[0] * filtered['underlying_price'].iloc[0]\n",
    "initial_option_price"
   ]
  },
  {
   "cell_type": "code",
   "execution_count": 222,
   "id": "ae8c0892-b243-4238-98a5-e0b37ee02e09",
   "metadata": {},
   "outputs": [
    {
     "data": {
      "text/plain": [
       "117.85719401756214"
      ]
     },
     "execution_count": 222,
     "metadata": {},
     "output_type": "execute_result"
    }
   ],
   "source": [
    "current_delta, loss = 0, 0\n",
    "\n",
    "for row in filtered.values:\n",
    "    loss += (row[-1] - current_delta) * row[-4]\n",
    "    # print(row[-1] - current_delta)\n",
    "    current_delta = row[-1]\n",
    "    # print(loss)\n",
    "loss"
   ]
  },
  {
   "cell_type": "code",
   "execution_count": 224,
   "id": "01320101-6188-4a1c-a9fa-77b731c6c5e1",
   "metadata": {},
   "outputs": [],
   "source": [
    "# filtered"
   ]
  },
  {
   "cell_type": "code",
   "execution_count": null,
   "id": "a9db515f-8fb4-4e5c-bccb-8a5a9f1fa19e",
   "metadata": {},
   "outputs": [],
   "source": []
  },
  {
   "cell_type": "code",
   "execution_count": null,
   "id": "2441de79-e4c3-4ee5-b854-104153ec98c7",
   "metadata": {},
   "outputs": [],
   "source": []
  }
 ],
 "metadata": {
  "kernelspec": {
   "display_name": "Python 3 (ipykernel)",
   "language": "python",
   "name": "python3"
  },
  "language_info": {
   "codemirror_mode": {
    "name": "ipython",
    "version": 3
   },
   "file_extension": ".py",
   "mimetype": "text/x-python",
   "name": "python",
   "nbconvert_exporter": "python",
   "pygments_lexer": "ipython3",
   "version": "3.8.15"
  }
 },
 "nbformat": 4,
 "nbformat_minor": 5
}
