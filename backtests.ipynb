{
 "cells": [
  {
   "cell_type": "code",
   "execution_count": 1,
   "id": "cd76a933-dcdf-4794-89ef-be4951cfd7ee",
   "metadata": {},
   "outputs": [],
   "source": [
    "import sqlite3\n",
    "import pandas as pd\n",
    "import numpy as np\n",
    "from scipy.stats import norm\n",
    "from scipy.optimize import minimize_scalar\n",
    "from datetime import datetime"
   ]
  },
  {
   "cell_type": "code",
   "execution_count": 2,
   "id": "7ddd918d-1083-495c-b123-899e8bae2583",
   "metadata": {},
   "outputs": [],
   "source": [
    "N = norm.cdf\n"
   ]
  },
  {
   "cell_type": "code",
   "execution_count": 3,
   "id": "bc5cee2a-c51e-42c3-bf9b-debe8fedbafc",
   "metadata": {},
   "outputs": [],
   "source": [
    "def read_from_db():\n",
    "    conn = sqlite3.connect('../../options_database.db')\n",
    "    df = pd.read_sql_query(\"SELECT * FROM options_table\", conn)\n",
    "    conn.close()\n",
    "    return df"
   ]
  },
  {
   "cell_type": "code",
   "execution_count": 4,
   "id": "ecb27032-567a-46f4-a632-038bf3f849b6",
   "metadata": {},
   "outputs": [],
   "source": [
    "df = read_from_db()"
   ]
  },
  {
   "cell_type": "code",
   "execution_count": 5,
   "id": "a78b0a5a-94ed-44e3-ba00-dd0f7216a132",
   "metadata": {},
   "outputs": [
    {
     "data": {
      "text/plain": [
       "610"
      ]
     },
     "execution_count": 5,
     "metadata": {},
     "output_type": "execute_result"
    }
   ],
   "source": [
    "len(df[(df.current_time == '2023-01-29 11:24:46.988931')])"
   ]
  },
  {
   "cell_type": "code",
   "execution_count": null,
   "id": "d5e511b6-301f-4562-859a-abc83a8b332e",
   "metadata": {},
   "outputs": [],
   "source": []
  },
  {
   "cell_type": "code",
   "execution_count": 6,
   "id": "b9419587-c2bb-470d-a07c-2e2a53ec4838",
   "metadata": {},
   "outputs": [],
   "source": [
    "def delta_BS_put(S, K, T, r, sigma):\n",
    "    d1 = (np.log(S/K) + (r + sigma**2/2)*T) / (sigma*np.sqrt(T))\n",
    "    return N(d1) - 1\n",
    "\n",
    "def delta_BS_call(S, K, T, r, sigma):\n",
    "    d1 = (np.log(S/K) + (r + sigma**2/2)*T) / (sigma*np.sqrt(T))\n",
    "    return N(d1)\n",
    "\n",
    "def BS_CALL(S, K, T, r, sigma):\n",
    "    d1 = (np.log(S/K) + (r + sigma**2/2)*T) / (sigma*np.sqrt(T))\n",
    "    d2 = d1 - sigma * np.sqrt(T)\n",
    "#     print(d1, d2)\n",
    "    return S * N(d1) - K * np.exp(-r*T)* N(d2)\n",
    "\n",
    "def BS_PUT(S, K, T, r, sigma):\n",
    "    d1 = (np.log(S/K) + (r + sigma**2/2)*T) / (sigma*np.sqrt(T))\n",
    "    d2 = d1 - sigma * np.sqrt(T)\n",
    "    return K * np.exp(-r*T)* N(-d2) - S * N(-d1)"
   ]
  },
  {
   "cell_type": "code",
   "execution_count": 7,
   "id": "926aa884-9933-4901-8121-5a2909c5cabb",
   "metadata": {},
   "outputs": [
    {
     "data": {
      "text/plain": [
       "3.989422810946053e-05"
      ]
     },
     "execution_count": 7,
     "metadata": {},
     "output_type": "execute_result"
    }
   ],
   "source": [
    "BS_PUT(1000, 1000, 1, 0, 0.0000001)"
   ]
  },
  {
   "cell_type": "code",
   "execution_count": 8,
   "id": "d767e0a9-1f21-4bab-8ca3-4b3a190a2e55",
   "metadata": {},
   "outputs": [],
   "source": [
    "def get_timedelta_in_years(timedelta):\n",
    "    d = timedelta.days / (365.25)\n",
    "    s = timedelta.seconds / (365.25*24*60*60)\n",
    "    return d + s"
   ]
  },
  {
   "cell_type": "code",
   "execution_count": 49,
   "id": "490fd9bc-7e1f-46c0-9358-a83f8e7f83a3",
   "metadata": {},
   "outputs": [],
   "source": [
    "def preprocessing(option_name, option_type):\n",
    "    selected_option = (df[(df.full_name == option_name)][df.current_time > '2023-01-04'][df.type == option_type])\n",
    "    selected_option['timedelta'] = selected_option.apply(lambda x: get_timedelta_in_years(datetime.fromisoformat(x['expiry']) - datetime.fromisoformat(x['current_time'])), axis=1).astype(float)\n",
    "    \n",
    "    \n",
    "    selected_option['mid_price'] = selected_option['mid_price'].fillna(0)\n",
    "    selected_option['ask_price'] = selected_option['ask_price'].fillna(0)\n",
    "    selected_option['bid_price'] = selected_option['bid_price'].fillna(0)\n",
    "    selected_option['strike'] = selected_option['strike'].astype(float)\n",
    "    # selected_option['mid_IV'] = selected_option['mid_IV'].fillna(0.001)\n",
    "    \n",
    "    \n",
    "    filtered = selected_option.loc[(selected_option.bid_IV > 0) & (selected_option.bid_IV < 10) & \n",
    "                            (selected_option.ask_IV > 0) & (selected_option.ask_IV < 10) &\n",
    "                             (selected_option.timedelta > 0)]\n",
    "    \n",
    "    \n",
    "    # (selected_option.bid_IV < 10) & \n",
    "    #                                (selected_option.ask_IV < 10) &\n",
    "    #                                (selected_option.mid_IV < 10) &\n",
    "    \n",
    "    # filtered = selected_option.loc[\n",
    "    #                                (selected_option.timedelta > 0)]\n",
    "    \n",
    "    \n",
    "    if option_type == 'put':\n",
    "        filtered['BS_delta'] = delta_BS_put(filtered.underlying_price, filtered.strike, filtered.timedelta, 0, filtered.mid_IV)\n",
    "    elif option_type == 'call':\n",
    "        filtered['BS_delta'] = delta_BS_call(filtered.underlying_price, filtered.strike, filtered.timedelta, 0, filtered.mid_IV)\n",
    "    \n",
    "    filtered.index = np.arange(1, len(filtered)+1)\n",
    "    \n",
    "    return filtered\n",
    "\n"
   ]
  },
  {
   "cell_type": "code",
   "execution_count": null,
   "id": "61ffc87e-954c-4a7a-839c-9b526f830f3d",
   "metadata": {},
   "outputs": [],
   "source": []
  },
  {
   "cell_type": "code",
   "execution_count": 260,
   "id": "717cb84d-4f04-4aa4-9cbe-285e7ff36659",
   "metadata": {},
   "outputs": [],
   "source": [
    "def backtest(df):\n",
    "    \n",
    "    swap_fee = 0.05 / 100\n",
    "    tx_cost = 0.5 # in usdc\n",
    "    \n",
    "    asset = 0  \n",
    "    initial_usdc = 0\n",
    "    usdc = initial_usdc\n",
    "    prev_asset = asset\n",
    "    \n",
    "    total_swap_fees = 0\n",
    "    total_tx_costs = 0\n",
    "\n",
    "    for i in range(len(df)):\n",
    "        prev_asset = asset\n",
    "        asset = df['BS_delta'].iloc[i]\n",
    "        usdc = usdc - (asset - prev_asset) * df['underlying_price'].iloc[i] * (1 + swap_fee) - tx_cost\n",
    "        \n",
    "        total_swap_fees += abs(swap_fee * (asset - prev_asset)) * df['underlying_price'].iloc[i] \n",
    "        total_tx_costs += tx_cost\n",
    "    \n",
    "    print(\"total_swap_fees: {}, total_tx_costs: {}\".format(total_swap_fees, total_tx_costs))\n",
    "    return asset*df['underlying_price'].iloc[-1] + usdc - initial_usdc"
   ]
  },
  {
   "cell_type": "code",
   "execution_count": 261,
   "id": "f5a7acbd-fbf3-45db-b6a0-2ce56981fa2d",
   "metadata": {},
   "outputs": [],
   "source": [
    "# datetime.strptime(selected_put.iloc[5]['expiry'], \"%Y %m %d %I:%M%p\")\n",
    "# get_timedelta_in_years(datetime.fromisoformat(selected_put.iloc[5]['expiry']) - datetime.fromisoformat(selected_put.iloc[5]['current_time']))\n"
   ]
  },
  {
   "cell_type": "code",
   "execution_count": 262,
   "id": "a5e6fd28-f580-440b-8d71-a4b72229db92",
   "metadata": {},
   "outputs": [],
   "source": [
    "def calculate_option_PnL(init_underlying_price, final_underlying_price, \n",
    "                         strike, init_option_price_in_underlying, final_option_price_in_underlying):\n",
    "    \n",
    "    PnL = final_option_price_in_underlying * final_underlying_price - init_option_price_in_underlying * init_underlying_price\n",
    "    return PnL\n"
   ]
  },
  {
   "cell_type": "code",
   "execution_count": 263,
   "id": "c6941208-5944-4118-b572-c4aa6b4f7f78",
   "metadata": {},
   "outputs": [],
   "source": [
    "def test(option_name):\n",
    "    filtered = preprocessing(option_name = option_name, option_type = 'put')\n",
    "    # print(filtered['current_time'].iloc[0])\n",
    "    return filtered\n",
    "    \n",
    "    replicated_pnl = backtest(filtered[filtered.index % 10 == 0])\n",
    "    \n",
    "    option_price = filtered['mid_price'].iloc[0] * filtered['underlying_price'].iloc[0]\n",
    "\n",
    "    price_on_expiry = filtered['underlying_price'].iloc[-1]\n",
    "    \n",
    "    pnl = calculate_option_PnL(filtered['underlying_price'].iloc[-1], filtered['strike'].iloc[-1], filtered['mid_price'].iloc[0])\n",
    "\n",
    "    \n",
    "    return (replicated_pnl, pnl, price_on_expiry)"
   ]
  },
  {
   "cell_type": "code",
   "execution_count": 264,
   "id": "93cb5c37-9cba-4807-980a-f6534e471ed5",
   "metadata": {},
   "outputs": [],
   "source": [
    "# (test('ETH-24FEB23-1400'))\n",
    "# t[t['BS_delta'] < -1]"
   ]
  },
  {
   "cell_type": "code",
   "execution_count": 265,
   "id": "a7de74eb-be89-4425-99e0-e9ff9bdb7365",
   "metadata": {},
   "outputs": [],
   "source": [
    "# def get_max_option_pnl(option_names):\n",
    "#     max_pnl = -np.inf\n",
    "#     for option_name in option_names:\n",
    "#         filtered = preprocessing(option_name = option_name, option_type = 'put')\n",
    "#         option_price = filtered['mid_price'].iloc[0] * filtered['underlying_price'].iloc[0]\n",
    "#         price_on_expiry = filtered['underlying_price'].iloc[-1]\n",
    "#         pnl = calculate_option_PnL(filtered['underlying_price'].iloc[-1], filtered['strike'].iloc[0], \n",
    "#                                filtered['mid_price'].iloc[0], filtered['mid_price'].iloc[-1])\n",
    "        \n",
    "#         if abs(pnl) > max_pnl:\n",
    "#             max_pnl = abs(pnl)\n",
    "    \n",
    "#     return max_pnl\n",
    "    "
   ]
  },
  {
   "cell_type": "code",
   "execution_count": 266,
   "id": "6c20e267-b87e-487f-83fb-4a37b8bddb4f",
   "metadata": {},
   "outputs": [],
   "source": [
    "# df[df.index % 10 == 0]"
   ]
  },
  {
   "cell_type": "code",
   "execution_count": 267,
   "id": "2c9f0b77-25e1-4e4f-86bd-39943efee5b6",
   "metadata": {},
   "outputs": [
    {
     "data": {
      "text/plain": [
       "1098993"
      ]
     },
     "execution_count": 267,
     "metadata": {},
     "output_type": "execute_result"
    }
   ],
   "source": [
    "len(df.index)-1"
   ]
  },
  {
   "cell_type": "code",
   "execution_count": 268,
   "id": "2d56a5d0-40bf-45ac-842c-f6500f585fc3",
   "metadata": {},
   "outputs": [
    {
     "data": {
      "text/plain": [
       "'ETH-24FEB23-1700'"
      ]
     },
     "execution_count": 268,
     "metadata": {},
     "output_type": "execute_result"
    }
   ],
   "source": [
    "option_name"
   ]
  },
  {
   "cell_type": "code",
   "execution_count": 269,
   "id": "281a8aa6-e376-4826-b676-7922564a2fff",
   "metadata": {},
   "outputs": [],
   "source": [
    "# __filtered"
   ]
  },
  {
   "cell_type": "code",
   "execution_count": 270,
   "id": "79fadd07-491a-4ff1-aefa-751feb1a2435",
   "metadata": {},
   "outputs": [],
   "source": [
    "# __filtered = preprocessing(option_name = option_name, option_type = 'put')\n",
    "# __filtered = __filtered[(__filtered.index == len(__filtered.index) - 1) | (__filtered.index % 5 == 0)]\n",
    "# print(__filtered['timedelta'].mean()*24)\n",
    "# print(__filtered['timedelta'].std()*24)"
   ]
  },
  {
   "cell_type": "code",
   "execution_count": null,
   "id": "cd70a038-6171-41d5-8d79-b15db674f459",
   "metadata": {},
   "outputs": [],
   "source": []
  },
  {
   "cell_type": "markdown",
   "id": "dd83ae8c-2167-4831-bf43-0c193c4efc10",
   "metadata": {},
   "source": [
    "## Performace\n",
    "\n",
    "We cannot just say that performance = replicated_pnl / option_pnl, because sometimes replicated pnl is positive but option_pnl is negative. So the performance calculates as follows:\n",
    "\n",
    "$$P = \\frac{replicated\\:pnl + \\Delta}{option\\:pnl + \\Delta}$$\n",
    "\n",
    "where\n",
    "\n",
    "$$\\Delta =  2 \\cdot \\max \\{abs(replicated\\:pnl),\\: abs(option\\: pnl)\\} $$"
   ]
  },
  {
   "cell_type": "code",
   "execution_count": 271,
   "id": "fca48bb5-10cd-4197-8754-e11c637930e8",
   "metadata": {},
   "outputs": [],
   "source": [
    "def performance(option_name):\n",
    "    \n",
    "    filtered = preprocessing(option_name = option_name, option_type = 'put')\n",
    "    filtered = filtered[(filtered.index == len(filtered.index) - 1) | (filtered.index % 18 == 0)]\n",
    "    replicated_pnl = backtest(filtered)\n",
    "    \n",
    "    init_option_price = filtered['mid_price'].iloc[0] * filtered['underlying_price'].iloc[0]\n",
    "\n",
    "    final_option_price = filtered['mid_price'].iloc[-1] * filtered['underlying_price'].iloc[-1]\n",
    "    \n",
    "    initial_price = filtered['underlying_price'].iloc[0]\n",
    "\n",
    "    pnl = calculate_option_PnL(filtered['underlying_price'].iloc[0], filtered['underlying_price'].iloc[-1], filtered['strike'].iloc[0], \n",
    "                               filtered['mid_price'].iloc[0], filtered['mid_price'].iloc[-1])\n",
    "    # print('------')\n",
    "    print('option_name:', option_name)\n",
    "    print('average time between replications (hrs): {}'.format(get_timedelta_in_years(datetime.fromisoformat(filtered['current_time'].iloc[-1]) - datetime.fromisoformat(filtered['current_time'].iloc[0])) / len(filtered['current_time']) * 365 * 24))\n",
    "    print('start time:', filtered['current_time'].iloc[0])\n",
    "    print('init_option_price: {}, final_option_price: {}'.format(init_option_price, final_option_price))\n",
    "    print(\"rep_pnl: {}, initial_price: {}, pnl: {}\".format(replicated_pnl, initial_price, pnl))\n",
    "    print('------')\n",
    "\n",
    "    shift = 2 * max(abs(replicated_pnl), abs(pnl))\n",
    "    \n",
    "    # if pnl > 0:\n",
    "    #     if replicated_pnl > 0:\n",
    "\n",
    "    #     else:\n",
    "    #         return \n",
    "    # else:\n",
    "    #     if replicated_pnl > 0:\n",
    "    #         return (replicated_pnl + pnl) / pnl\n",
    "    #     else:\n",
    "    #         return pnl / replicated_pnl\n",
    "    \n",
    "    return [option_name, (replicated_pnl + shift) / (pnl + shift)]\n"
   ]
  },
  {
   "cell_type": "code",
   "execution_count": 272,
   "id": "d0defad6-f715-4d23-b1d1-f096ed71b51a",
   "metadata": {},
   "outputs": [],
   "source": [
    "# df.full_name.drop_duplicates().to_numpy()"
   ]
  },
  {
   "cell_type": "code",
   "execution_count": 273,
   "id": "a8096139-6ffd-4c4e-82f9-ebbf453e59d1",
   "metadata": {},
   "outputs": [],
   "source": [
    "options_names = ['ETH-27JAN23-1200', 'ETH-27JAN23-1300', 'ETH-27JAN23-1400', 'ETH-27JAN23-1500', 'ETH-27JAN23-1600', 'ETH-27JAN23-1700']\n",
    "\n",
    "options_names = options_names + ['ETH-24FEB23-900', 'ETH-24FEB23-1000', 'ETH-24FEB23-1100', 'ETH-24FEB23-1200', 'ETH-24FEB23-1300', 'ETH-24FEB23-1400',\n",
    "                'ETH-24FEB23-1500', 'ETH-24FEB23-1600', 'ETH-24FEB23-1700']"
   ]
  },
  {
   "cell_type": "code",
   "execution_count": 274,
   "id": "34511e3a-ab6c-473f-a1b8-075bcec5a9ef",
   "metadata": {},
   "outputs": [
    {
     "data": {
      "text/plain": [
       "['ETH-27JAN23-1200',\n",
       " 'ETH-27JAN23-1300',\n",
       " 'ETH-27JAN23-1400',\n",
       " 'ETH-27JAN23-1500',\n",
       " 'ETH-27JAN23-1600',\n",
       " 'ETH-27JAN23-1700',\n",
       " 'ETH-24FEB23-900',\n",
       " 'ETH-24FEB23-1000',\n",
       " 'ETH-24FEB23-1100',\n",
       " 'ETH-24FEB23-1200',\n",
       " 'ETH-24FEB23-1300',\n",
       " 'ETH-24FEB23-1400',\n",
       " 'ETH-24FEB23-1500',\n",
       " 'ETH-24FEB23-1600',\n",
       " 'ETH-24FEB23-1700']"
      ]
     },
     "execution_count": 274,
     "metadata": {},
     "output_type": "execute_result"
    }
   ],
   "source": [
    "options_names"
   ]
  },
  {
   "cell_type": "code",
   "execution_count": 275,
   "id": "5e731bb2-14c3-4330-b401-fec1fd438848",
   "metadata": {},
   "outputs": [],
   "source": [
    "# shift = get_max_option_pnl(options_names)"
   ]
  },
  {
   "cell_type": "code",
   "execution_count": 276,
   "id": "4083c135-a726-4679-b878-24f8c2f49a53",
   "metadata": {},
   "outputs": [],
   "source": [
    "# shift"
   ]
  },
  {
   "cell_type": "code",
   "execution_count": 277,
   "id": "3d5e9cfa-0fec-4b7e-ad0e-21f9beebc936",
   "metadata": {},
   "outputs": [],
   "source": [
    "import warnings\n",
    "warnings.filterwarnings(\"ignore\")"
   ]
  },
  {
   "cell_type": "code",
   "execution_count": 278,
   "id": "280031f0-76b0-4a57-82df-abff9bbf0ccb",
   "metadata": {},
   "outputs": [
    {
     "name": "stdout",
     "output_type": "stream",
     "text": [
      "total_swap_fees: 0.7180531622575522, total_tx_costs: 34.5\n",
      "option_name: ETH-27JAN23-1200\n",
      "average time between replications (hrs): 7.257605526843392\n",
      "start time: 2023-01-04 07:17:27.002615\n",
      "init_option_price: 42.58160000000001, final_option_price: 1.152285\n",
      "rep_pnl: -84.95065780630891, initial_price: 1252.4, pnl: -41.42931500000001\n",
      "------\n",
      "total_swap_fees: 1.2417925311594096, total_tx_costs: 38.0\n",
      "option_name: ETH-27JAN23-1300\n",
      "average time between replications (hrs): 6.672217268873759\n",
      "start time: 2023-01-04 07:17:27.002615\n",
      "init_option_price: 91.1121, final_option_price: 1.1670749999999999\n",
      "rep_pnl: -143.01413850778906, initial_price: 1252.4, pnl: -89.945025\n",
      "------\n",
      "total_swap_fees: 1.612990378533278, total_tx_costs: 38.0\n",
      "option_name: ETH-27JAN23-1400\n",
      "average time between replications (hrs): 6.907217128779054\n",
      "start time: 2023-01-04 07:17:27.002615\n",
      "init_option_price: 165.943, final_option_price: 1.219035\n",
      "rep_pnl: -220.44887015374528, initial_price: 1252.4, pnl: -164.72396500000002\n",
      "------\n",
      "total_swap_fees: 1.8774018711046512, total_tx_costs: 25.0\n",
      "option_name: ETH-27JAN23-1500\n",
      "average time between replications (hrs): 6.906214160772681\n",
      "start time: 2023-01-12 12:21:26.397484\n",
      "init_option_price: 128.7954, final_option_price: 1.19982\n",
      "rep_pnl: -165.30059062243063, initial_price: 1399.95, pnl: -127.59558\n",
      "------\n",
      "total_swap_fees: 3.00254497555307, total_tx_costs: 21.5\n",
      "option_name: ETH-27JAN23-1600\n",
      "average time between replications (hrs): 6.974389687428703\n",
      "start time: 2023-01-14 11:03:53.288043\n",
      "init_option_price: 106.431875, final_option_price: 12.029175\n",
      "rep_pnl: -117.97011882968627, initial_price: 1553.75, pnl: -94.40270000000001\n",
      "------\n",
      "total_swap_fees: 0.8022212939185301, total_tx_costs: 5.0\n",
      "option_name: ETH-27JAN23-1700\n",
      "average time between replications (hrs): 8.630893984333412\n",
      "start time: 2023-01-21 01:48:51.896217\n",
      "init_option_price: 78.16095, final_option_price: 100.28928\n",
      "rep_pnl: 9.968530629159432, initial_price: 1654.2, pnl: 22.128330000000005\n",
      "------\n",
      "total_swap_fees: 0.2075438350523052, total_tx_costs: 55.0\n",
      "option_name: ETH-24FEB23-900\n",
      "average time between replications (hrs): 5.974402892719114\n",
      "start time: 2023-01-04 07:17:27.002615\n",
      "init_option_price: 20.03152, final_option_price: 1.9854\n",
      "rep_pnl: -75.18819698287038, initial_price: 1251.97, pnl: -18.046120000000002\n",
      "------\n",
      "total_swap_fees: 0.35495894595864164, total_tx_costs: 55.0\n",
      "option_name: ETH-24FEB23-1000\n",
      "average time between replications (hrs): 5.974402892719114\n",
      "start time: 2023-01-04 07:17:27.002615\n",
      "init_option_price: 32.55122, final_option_price: 3.57372\n",
      "rep_pnl: -87.73237947458152, initial_price: 1251.97, pnl: -28.9775\n",
      "------\n",
      "total_swap_fees: 0.5705325309117355, total_tx_costs: 55.0\n",
      "option_name: ETH-24FEB23-1100\n",
      "average time between replications (hrs): 5.974402892719114\n",
      "start time: 2023-01-04 07:17:27.002615\n",
      "init_option_price: 53.20702500000001, final_option_price: 5.9562\n",
      "rep_pnl: -108.21469074129001, initial_price: 1251.93, pnl: -47.250825000000006\n",
      "------\n",
      "total_swap_fees: 0.8635163994873551, total_tx_costs: 55.0\n",
      "option_name: ETH-24FEB23-1200\n",
      "average time between replications (hrs): 5.974402892719114\n",
      "start time: 2023-01-04 07:17:27.002615\n",
      "init_option_price: 87.00913500000001, final_option_price: 9.927\n",
      "rep_pnl: -139.8741135975619, initial_price: 1251.93, pnl: -77.08213500000002\n",
      "------\n",
      "total_swap_fees: 1.2427307363761997, total_tx_costs: 55.0\n",
      "option_name: ETH-24FEB23-1300\n",
      "average time between replications (hrs): 5.974402892719114\n",
      "start time: 2023-01-04 07:17:27.002615\n",
      "init_option_price: 135.21276, final_option_price: 17.471519999999998\n",
      "rep_pnl: -183.36056535948848, initial_price: 1251.97, pnl: -117.74124\n",
      "------\n",
      "total_swap_fees: 1.6166691283202523, total_tx_costs: 55.0\n",
      "option_name: ETH-24FEB23-1400\n",
      "average time between replications (hrs): 5.974402892719114\n",
      "start time: 2023-01-04 07:17:27.002615\n",
      "init_option_price: 200.3152, final_option_price: 32.16348\n",
      "rep_pnl: -233.76015866862704, initial_price: 1251.97, pnl: -168.15172\n",
      "------\n",
      "total_swap_fees: 1.7848305462395715, total_tx_costs: 46.0\n",
      "option_name: ETH-24FEB23-1500\n",
      "average time between replications (hrs): 5.826896656052535\n",
      "start time: 2023-01-09 08:29:00.667532\n",
      "init_option_price: 225.90415249999998, final_option_price: 59.164919999999995\n",
      "rep_pnl: -229.80339788371555, initial_price: 1311.49, pnl: -166.73923249999999\n",
      "------\n",
      "total_swap_fees: 1.700238012648358, total_tx_costs: 34.5\n",
      "option_name: ETH-24FEB23-1600\n",
      "average time between replications (hrs): 6.468962923283967\n",
      "start time: 2023-01-13 02:15:39.550009\n",
      "init_option_price: 230.37066249999998, final_option_price: 103.2408\n",
      "rep_pnl: -162.50503180700582, initial_price: 1419.85, pnl: -127.12986249999999\n",
      "------\n",
      "total_swap_fees: 1.4304259460788704, total_tx_costs: 27.5\n",
      "option_name: ETH-24FEB23-1700\n",
      "average time between replications (hrs): 6.618411286029355\n",
      "start time: 2023-01-16 12:39:47.489194\n",
      "init_option_price: 252.76446, final_option_price: 166.7736\n",
      "rep_pnl: -72.09275476122855, initial_price: 1545.96, pnl: -85.99086000000003\n",
      "------\n"
     ]
    }
   ],
   "source": [
    "res = []\n",
    "\n",
    "for option_name in options_names:\n",
    "    # print(option_name)\n",
    "    res.append(performance(option_name))"
   ]
  },
  {
   "cell_type": "code",
   "execution_count": 279,
   "id": "b0df16bb-2f28-43d8-a14a-69558e7277db",
   "metadata": {},
   "outputs": [
    {
     "data": {
      "text/plain": [
       "[['ETH-27JAN23-1200', 0.6612386932656322],\n",
       " ['ETH-27JAN23-1300', 0.7293541750135146],\n",
       " ['ETH-27JAN23-1400', 0.7982252113123289],\n",
       " ['ETH-27JAN23-1500', 0.8142661562478188],\n",
       " ['ETH-27JAN23-1600', 0.8334899757377146],\n",
       " ['ETH-27JAN23-1700', 0.8168290848452252],\n",
       " ['ETH-24FEB23-900', 0.5681859088596461],\n",
       " ['ETH-24FEB23-1000', 0.5989079193913251],\n",
       " ['ETH-24FEB23-1100', 0.6396477957443305],\n",
       " ['ETH-24FEB23-1200', 0.6901702800036884],\n",
       " ['ETH-24FEB23-1300', 0.7364472882930418],\n",
       " ['ETH-24FEB23-1400', 0.7808439520638306],\n",
       " ['ETH-24FEB23-1500', 0.784666609438995],\n",
       " ['ETH-24FEB23-1600', 0.8212293644950164],\n",
       " ['ETH-24FEB23-1700', 1.1616230520170572]]"
      ]
     },
     "execution_count": 279,
     "metadata": {},
     "output_type": "execute_result"
    }
   ],
   "source": [
    "res"
   ]
  },
  {
   "cell_type": "code",
   "execution_count": 280,
   "id": "5eb2df56-af48-4ad6-bcfc-ab1ba862fb50",
   "metadata": {},
   "outputs": [
    {
     "name": "stdout",
     "output_type": "stream",
     "text": [
      "0.7338216010508648\n",
      "0.08518289999857656\n"
     ]
    }
   ],
   "source": [
    "print(np.mean(list(map(lambda x: x[1], res[:-1]))))\n",
    "print(np.std(list(map(lambda x: x[1], res[:-1]))))"
   ]
  },
  {
   "cell_type": "code",
   "execution_count": 281,
   "id": "01320101-6188-4a1c-a9fa-77b731c6c5e1",
   "metadata": {},
   "outputs": [],
   "source": [
    "# filtered"
   ]
  },
  {
   "cell_type": "markdown",
   "id": "aef8e45f-2940-4d2e-89a0-4dc163b97d74",
   "metadata": {},
   "source": [
    "#### Todo: run multiple replications (for diff strike, expiries) and draw a performance distribution"
   ]
  },
  {
   "cell_type": "code",
   "execution_count": 282,
   "id": "accb75f6-a52f-40fc-967a-b980aaca6096",
   "metadata": {},
   "outputs": [],
   "source": [
    "import plotly.graph_objs as go\n",
    "import plotly.express as px"
   ]
  },
  {
   "cell_type": "code",
   "execution_count": 283,
   "id": "ab9362f1-c20f-4058-b673-b7ca117d4269",
   "metadata": {},
   "outputs": [],
   "source": [
    "# fig = px.bar(res[0], x=np.array([res[0][0]]), y=np.array([res[1][1]]), title=\"Long-Form Input\")\n",
    "\n",
    "# fig.show()"
   ]
  },
  {
   "cell_type": "code",
   "execution_count": 284,
   "id": "2441de79-e4c3-4ee5-b854-104153ec98c7",
   "metadata": {},
   "outputs": [
    {
     "data": {
      "application/vnd.plotly.v1+json": {
       "config": {
        "plotlyServerURL": "https://plot.ly"
       },
       "data": [
        {
         "alignmentgroup": "True",
         "hovertemplate": "x=%{x}<br>y=%{y}<extra></extra>",
         "legendgroup": "",
         "marker": {
          "color": "#636efa",
          "pattern": {
           "shape": ""
          }
         },
         "name": "",
         "offsetgroup": "",
         "orientation": "v",
         "showlegend": false,
         "textposition": "auto",
         "type": "bar",
         "x": [
          "ETH-27JAN23-1200"
         ],
         "xaxis": "x",
         "y": [
          0.6612386932656322
         ],
         "yaxis": "y"
        },
        {
         "alignmentgroup": "True",
         "hovertemplate": "x=%{x}<br>y=%{y}<extra></extra>",
         "legendgroup": "",
         "marker": {
          "color": "#636efa",
          "pattern": {
           "shape": ""
          }
         },
         "name": "",
         "offsetgroup": "",
         "orientation": "v",
         "showlegend": false,
         "textposition": "auto",
         "type": "bar",
         "x": [
          "ETH-27JAN23-1300"
         ],
         "xaxis": "x",
         "y": [
          0.7293541750135146
         ],
         "yaxis": "y"
        },
        {
         "alignmentgroup": "True",
         "hovertemplate": "x=%{x}<br>y=%{y}<extra></extra>",
         "legendgroup": "",
         "marker": {
          "color": "#636efa",
          "pattern": {
           "shape": ""
          }
         },
         "name": "",
         "offsetgroup": "",
         "orientation": "v",
         "showlegend": false,
         "textposition": "auto",
         "type": "bar",
         "x": [
          "ETH-27JAN23-1400"
         ],
         "xaxis": "x",
         "y": [
          0.7982252113123289
         ],
         "yaxis": "y"
        },
        {
         "alignmentgroup": "True",
         "hovertemplate": "x=%{x}<br>y=%{y}<extra></extra>",
         "legendgroup": "",
         "marker": {
          "color": "#636efa",
          "pattern": {
           "shape": ""
          }
         },
         "name": "",
         "offsetgroup": "",
         "orientation": "v",
         "showlegend": false,
         "textposition": "auto",
         "type": "bar",
         "x": [
          "ETH-27JAN23-1500"
         ],
         "xaxis": "x",
         "y": [
          0.8142661562478188
         ],
         "yaxis": "y"
        },
        {
         "alignmentgroup": "True",
         "hovertemplate": "x=%{x}<br>y=%{y}<extra></extra>",
         "legendgroup": "",
         "marker": {
          "color": "#636efa",
          "pattern": {
           "shape": ""
          }
         },
         "name": "",
         "offsetgroup": "",
         "orientation": "v",
         "showlegend": false,
         "textposition": "auto",
         "type": "bar",
         "x": [
          "ETH-27JAN23-1600"
         ],
         "xaxis": "x",
         "y": [
          0.8334899757377146
         ],
         "yaxis": "y"
        },
        {
         "alignmentgroup": "True",
         "hovertemplate": "x=%{x}<br>y=%{y}<extra></extra>",
         "legendgroup": "",
         "marker": {
          "color": "#636efa",
          "pattern": {
           "shape": ""
          }
         },
         "name": "",
         "offsetgroup": "",
         "orientation": "v",
         "showlegend": false,
         "textposition": "auto",
         "type": "bar",
         "x": [
          "ETH-27JAN23-1700"
         ],
         "xaxis": "x",
         "y": [
          0.8168290848452252
         ],
         "yaxis": "y"
        },
        {
         "alignmentgroup": "True",
         "hovertemplate": "x=%{x}<br>y=%{y}<extra></extra>",
         "legendgroup": "",
         "marker": {
          "color": "#636efa",
          "pattern": {
           "shape": ""
          }
         },
         "name": "",
         "offsetgroup": "",
         "orientation": "v",
         "showlegend": false,
         "textposition": "auto",
         "type": "bar",
         "x": [
          "ETH-24FEB23-900"
         ],
         "xaxis": "x",
         "y": [
          0.5681859088596461
         ],
         "yaxis": "y"
        },
        {
         "alignmentgroup": "True",
         "hovertemplate": "x=%{x}<br>y=%{y}<extra></extra>",
         "legendgroup": "",
         "marker": {
          "color": "#636efa",
          "pattern": {
           "shape": ""
          }
         },
         "name": "",
         "offsetgroup": "",
         "orientation": "v",
         "showlegend": false,
         "textposition": "auto",
         "type": "bar",
         "x": [
          "ETH-24FEB23-1000"
         ],
         "xaxis": "x",
         "y": [
          0.5989079193913251
         ],
         "yaxis": "y"
        },
        {
         "alignmentgroup": "True",
         "hovertemplate": "x=%{x}<br>y=%{y}<extra></extra>",
         "legendgroup": "",
         "marker": {
          "color": "#636efa",
          "pattern": {
           "shape": ""
          }
         },
         "name": "",
         "offsetgroup": "",
         "orientation": "v",
         "showlegend": false,
         "textposition": "auto",
         "type": "bar",
         "x": [
          "ETH-24FEB23-1100"
         ],
         "xaxis": "x",
         "y": [
          0.6396477957443305
         ],
         "yaxis": "y"
        },
        {
         "alignmentgroup": "True",
         "hovertemplate": "x=%{x}<br>y=%{y}<extra></extra>",
         "legendgroup": "",
         "marker": {
          "color": "#636efa",
          "pattern": {
           "shape": ""
          }
         },
         "name": "",
         "offsetgroup": "",
         "orientation": "v",
         "showlegend": false,
         "textposition": "auto",
         "type": "bar",
         "x": [
          "ETH-24FEB23-1200"
         ],
         "xaxis": "x",
         "y": [
          0.6901702800036884
         ],
         "yaxis": "y"
        },
        {
         "alignmentgroup": "True",
         "hovertemplate": "x=%{x}<br>y=%{y}<extra></extra>",
         "legendgroup": "",
         "marker": {
          "color": "#636efa",
          "pattern": {
           "shape": ""
          }
         },
         "name": "",
         "offsetgroup": "",
         "orientation": "v",
         "showlegend": false,
         "textposition": "auto",
         "type": "bar",
         "x": [
          "ETH-24FEB23-1300"
         ],
         "xaxis": "x",
         "y": [
          0.7364472882930418
         ],
         "yaxis": "y"
        },
        {
         "alignmentgroup": "True",
         "hovertemplate": "x=%{x}<br>y=%{y}<extra></extra>",
         "legendgroup": "",
         "marker": {
          "color": "#636efa",
          "pattern": {
           "shape": ""
          }
         },
         "name": "",
         "offsetgroup": "",
         "orientation": "v",
         "showlegend": false,
         "textposition": "auto",
         "type": "bar",
         "x": [
          "ETH-24FEB23-1400"
         ],
         "xaxis": "x",
         "y": [
          0.7808439520638306
         ],
         "yaxis": "y"
        },
        {
         "alignmentgroup": "True",
         "hovertemplate": "x=%{x}<br>y=%{y}<extra></extra>",
         "legendgroup": "",
         "marker": {
          "color": "#636efa",
          "pattern": {
           "shape": ""
          }
         },
         "name": "",
         "offsetgroup": "",
         "orientation": "v",
         "showlegend": false,
         "textposition": "auto",
         "type": "bar",
         "x": [
          "ETH-24FEB23-1500"
         ],
         "xaxis": "x",
         "y": [
          0.784666609438995
         ],
         "yaxis": "y"
        },
        {
         "alignmentgroup": "True",
         "hovertemplate": "x=%{x}<br>y=%{y}<extra></extra>",
         "legendgroup": "",
         "marker": {
          "color": "#636efa",
          "pattern": {
           "shape": ""
          }
         },
         "name": "",
         "offsetgroup": "",
         "orientation": "v",
         "showlegend": false,
         "textposition": "auto",
         "type": "bar",
         "x": [
          "ETH-24FEB23-1600"
         ],
         "xaxis": "x",
         "y": [
          0.8212293644950164
         ],
         "yaxis": "y"
        },
        {
         "alignmentgroup": "True",
         "hovertemplate": "x=%{x}<br>y=%{y}<extra></extra>",
         "legendgroup": "",
         "marker": {
          "color": "#636efa",
          "pattern": {
           "shape": ""
          }
         },
         "name": "",
         "offsetgroup": "",
         "orientation": "v",
         "showlegend": false,
         "textposition": "auto",
         "type": "bar",
         "x": [
          "ETH-24FEB23-1700"
         ],
         "xaxis": "x",
         "y": [
          1.1616230520170572
         ],
         "yaxis": "y"
        }
       ],
       "layout": {
        "autosize": true,
        "template": {
         "data": {
          "bar": [
           {
            "error_x": {
             "color": "#2a3f5f"
            },
            "error_y": {
             "color": "#2a3f5f"
            },
            "marker": {
             "line": {
              "color": "#E5ECF6",
              "width": 0.5
             },
             "pattern": {
              "fillmode": "overlay",
              "size": 10,
              "solidity": 0.2
             }
            },
            "type": "bar"
           }
          ],
          "barpolar": [
           {
            "marker": {
             "line": {
              "color": "#E5ECF6",
              "width": 0.5
             },
             "pattern": {
              "fillmode": "overlay",
              "size": 10,
              "solidity": 0.2
             }
            },
            "type": "barpolar"
           }
          ],
          "carpet": [
           {
            "aaxis": {
             "endlinecolor": "#2a3f5f",
             "gridcolor": "white",
             "linecolor": "white",
             "minorgridcolor": "white",
             "startlinecolor": "#2a3f5f"
            },
            "baxis": {
             "endlinecolor": "#2a3f5f",
             "gridcolor": "white",
             "linecolor": "white",
             "minorgridcolor": "white",
             "startlinecolor": "#2a3f5f"
            },
            "type": "carpet"
           }
          ],
          "choropleth": [
           {
            "colorbar": {
             "outlinewidth": 0,
             "ticks": ""
            },
            "type": "choropleth"
           }
          ],
          "contour": [
           {
            "colorbar": {
             "outlinewidth": 0,
             "ticks": ""
            },
            "colorscale": [
             [
              0,
              "#0d0887"
             ],
             [
              0.1111111111111111,
              "#46039f"
             ],
             [
              0.2222222222222222,
              "#7201a8"
             ],
             [
              0.3333333333333333,
              "#9c179e"
             ],
             [
              0.4444444444444444,
              "#bd3786"
             ],
             [
              0.5555555555555556,
              "#d8576b"
             ],
             [
              0.6666666666666666,
              "#ed7953"
             ],
             [
              0.7777777777777778,
              "#fb9f3a"
             ],
             [
              0.8888888888888888,
              "#fdca26"
             ],
             [
              1,
              "#f0f921"
             ]
            ],
            "type": "contour"
           }
          ],
          "contourcarpet": [
           {
            "colorbar": {
             "outlinewidth": 0,
             "ticks": ""
            },
            "type": "contourcarpet"
           }
          ],
          "heatmap": [
           {
            "colorbar": {
             "outlinewidth": 0,
             "ticks": ""
            },
            "colorscale": [
             [
              0,
              "#0d0887"
             ],
             [
              0.1111111111111111,
              "#46039f"
             ],
             [
              0.2222222222222222,
              "#7201a8"
             ],
             [
              0.3333333333333333,
              "#9c179e"
             ],
             [
              0.4444444444444444,
              "#bd3786"
             ],
             [
              0.5555555555555556,
              "#d8576b"
             ],
             [
              0.6666666666666666,
              "#ed7953"
             ],
             [
              0.7777777777777778,
              "#fb9f3a"
             ],
             [
              0.8888888888888888,
              "#fdca26"
             ],
             [
              1,
              "#f0f921"
             ]
            ],
            "type": "heatmap"
           }
          ],
          "heatmapgl": [
           {
            "colorbar": {
             "outlinewidth": 0,
             "ticks": ""
            },
            "colorscale": [
             [
              0,
              "#0d0887"
             ],
             [
              0.1111111111111111,
              "#46039f"
             ],
             [
              0.2222222222222222,
              "#7201a8"
             ],
             [
              0.3333333333333333,
              "#9c179e"
             ],
             [
              0.4444444444444444,
              "#bd3786"
             ],
             [
              0.5555555555555556,
              "#d8576b"
             ],
             [
              0.6666666666666666,
              "#ed7953"
             ],
             [
              0.7777777777777778,
              "#fb9f3a"
             ],
             [
              0.8888888888888888,
              "#fdca26"
             ],
             [
              1,
              "#f0f921"
             ]
            ],
            "type": "heatmapgl"
           }
          ],
          "histogram": [
           {
            "marker": {
             "pattern": {
              "fillmode": "overlay",
              "size": 10,
              "solidity": 0.2
             }
            },
            "type": "histogram"
           }
          ],
          "histogram2d": [
           {
            "colorbar": {
             "outlinewidth": 0,
             "ticks": ""
            },
            "colorscale": [
             [
              0,
              "#0d0887"
             ],
             [
              0.1111111111111111,
              "#46039f"
             ],
             [
              0.2222222222222222,
              "#7201a8"
             ],
             [
              0.3333333333333333,
              "#9c179e"
             ],
             [
              0.4444444444444444,
              "#bd3786"
             ],
             [
              0.5555555555555556,
              "#d8576b"
             ],
             [
              0.6666666666666666,
              "#ed7953"
             ],
             [
              0.7777777777777778,
              "#fb9f3a"
             ],
             [
              0.8888888888888888,
              "#fdca26"
             ],
             [
              1,
              "#f0f921"
             ]
            ],
            "type": "histogram2d"
           }
          ],
          "histogram2dcontour": [
           {
            "colorbar": {
             "outlinewidth": 0,
             "ticks": ""
            },
            "colorscale": [
             [
              0,
              "#0d0887"
             ],
             [
              0.1111111111111111,
              "#46039f"
             ],
             [
              0.2222222222222222,
              "#7201a8"
             ],
             [
              0.3333333333333333,
              "#9c179e"
             ],
             [
              0.4444444444444444,
              "#bd3786"
             ],
             [
              0.5555555555555556,
              "#d8576b"
             ],
             [
              0.6666666666666666,
              "#ed7953"
             ],
             [
              0.7777777777777778,
              "#fb9f3a"
             ],
             [
              0.8888888888888888,
              "#fdca26"
             ],
             [
              1,
              "#f0f921"
             ]
            ],
            "type": "histogram2dcontour"
           }
          ],
          "mesh3d": [
           {
            "colorbar": {
             "outlinewidth": 0,
             "ticks": ""
            },
            "type": "mesh3d"
           }
          ],
          "parcoords": [
           {
            "line": {
             "colorbar": {
              "outlinewidth": 0,
              "ticks": ""
             }
            },
            "type": "parcoords"
           }
          ],
          "pie": [
           {
            "automargin": true,
            "type": "pie"
           }
          ],
          "scatter": [
           {
            "fillpattern": {
             "fillmode": "overlay",
             "size": 10,
             "solidity": 0.2
            },
            "type": "scatter"
           }
          ],
          "scatter3d": [
           {
            "line": {
             "colorbar": {
              "outlinewidth": 0,
              "ticks": ""
             }
            },
            "marker": {
             "colorbar": {
              "outlinewidth": 0,
              "ticks": ""
             }
            },
            "type": "scatter3d"
           }
          ],
          "scattercarpet": [
           {
            "marker": {
             "colorbar": {
              "outlinewidth": 0,
              "ticks": ""
             }
            },
            "type": "scattercarpet"
           }
          ],
          "scattergeo": [
           {
            "marker": {
             "colorbar": {
              "outlinewidth": 0,
              "ticks": ""
             }
            },
            "type": "scattergeo"
           }
          ],
          "scattergl": [
           {
            "marker": {
             "colorbar": {
              "outlinewidth": 0,
              "ticks": ""
             }
            },
            "type": "scattergl"
           }
          ],
          "scattermapbox": [
           {
            "marker": {
             "colorbar": {
              "outlinewidth": 0,
              "ticks": ""
             }
            },
            "type": "scattermapbox"
           }
          ],
          "scatterpolar": [
           {
            "marker": {
             "colorbar": {
              "outlinewidth": 0,
              "ticks": ""
             }
            },
            "type": "scatterpolar"
           }
          ],
          "scatterpolargl": [
           {
            "marker": {
             "colorbar": {
              "outlinewidth": 0,
              "ticks": ""
             }
            },
            "type": "scatterpolargl"
           }
          ],
          "scatterternary": [
           {
            "marker": {
             "colorbar": {
              "outlinewidth": 0,
              "ticks": ""
             }
            },
            "type": "scatterternary"
           }
          ],
          "surface": [
           {
            "colorbar": {
             "outlinewidth": 0,
             "ticks": ""
            },
            "colorscale": [
             [
              0,
              "#0d0887"
             ],
             [
              0.1111111111111111,
              "#46039f"
             ],
             [
              0.2222222222222222,
              "#7201a8"
             ],
             [
              0.3333333333333333,
              "#9c179e"
             ],
             [
              0.4444444444444444,
              "#bd3786"
             ],
             [
              0.5555555555555556,
              "#d8576b"
             ],
             [
              0.6666666666666666,
              "#ed7953"
             ],
             [
              0.7777777777777778,
              "#fb9f3a"
             ],
             [
              0.8888888888888888,
              "#fdca26"
             ],
             [
              1,
              "#f0f921"
             ]
            ],
            "type": "surface"
           }
          ],
          "table": [
           {
            "cells": {
             "fill": {
              "color": "#EBF0F8"
             },
             "line": {
              "color": "white"
             }
            },
            "header": {
             "fill": {
              "color": "#C8D4E3"
             },
             "line": {
              "color": "white"
             }
            },
            "type": "table"
           }
          ]
         },
         "layout": {
          "annotationdefaults": {
           "arrowcolor": "#2a3f5f",
           "arrowhead": 0,
           "arrowwidth": 1
          },
          "autotypenumbers": "strict",
          "coloraxis": {
           "colorbar": {
            "outlinewidth": 0,
            "ticks": ""
           }
          },
          "colorscale": {
           "diverging": [
            [
             0,
             "#8e0152"
            ],
            [
             0.1,
             "#c51b7d"
            ],
            [
             0.2,
             "#de77ae"
            ],
            [
             0.3,
             "#f1b6da"
            ],
            [
             0.4,
             "#fde0ef"
            ],
            [
             0.5,
             "#f7f7f7"
            ],
            [
             0.6,
             "#e6f5d0"
            ],
            [
             0.7,
             "#b8e186"
            ],
            [
             0.8,
             "#7fbc41"
            ],
            [
             0.9,
             "#4d9221"
            ],
            [
             1,
             "#276419"
            ]
           ],
           "sequential": [
            [
             0,
             "#0d0887"
            ],
            [
             0.1111111111111111,
             "#46039f"
            ],
            [
             0.2222222222222222,
             "#7201a8"
            ],
            [
             0.3333333333333333,
             "#9c179e"
            ],
            [
             0.4444444444444444,
             "#bd3786"
            ],
            [
             0.5555555555555556,
             "#d8576b"
            ],
            [
             0.6666666666666666,
             "#ed7953"
            ],
            [
             0.7777777777777778,
             "#fb9f3a"
            ],
            [
             0.8888888888888888,
             "#fdca26"
            ],
            [
             1,
             "#f0f921"
            ]
           ],
           "sequentialminus": [
            [
             0,
             "#0d0887"
            ],
            [
             0.1111111111111111,
             "#46039f"
            ],
            [
             0.2222222222222222,
             "#7201a8"
            ],
            [
             0.3333333333333333,
             "#9c179e"
            ],
            [
             0.4444444444444444,
             "#bd3786"
            ],
            [
             0.5555555555555556,
             "#d8576b"
            ],
            [
             0.6666666666666666,
             "#ed7953"
            ],
            [
             0.7777777777777778,
             "#fb9f3a"
            ],
            [
             0.8888888888888888,
             "#fdca26"
            ],
            [
             1,
             "#f0f921"
            ]
           ]
          },
          "colorway": [
           "#636efa",
           "#EF553B",
           "#00cc96",
           "#ab63fa",
           "#FFA15A",
           "#19d3f3",
           "#FF6692",
           "#B6E880",
           "#FF97FF",
           "#FECB52"
          ],
          "font": {
           "color": "#2a3f5f"
          },
          "geo": {
           "bgcolor": "white",
           "lakecolor": "white",
           "landcolor": "#E5ECF6",
           "showlakes": true,
           "showland": true,
           "subunitcolor": "white"
          },
          "hoverlabel": {
           "align": "left"
          },
          "hovermode": "closest",
          "mapbox": {
           "style": "light"
          },
          "paper_bgcolor": "white",
          "plot_bgcolor": "#E5ECF6",
          "polar": {
           "angularaxis": {
            "gridcolor": "white",
            "linecolor": "white",
            "ticks": ""
           },
           "bgcolor": "#E5ECF6",
           "radialaxis": {
            "gridcolor": "white",
            "linecolor": "white",
            "ticks": ""
           }
          },
          "scene": {
           "xaxis": {
            "backgroundcolor": "#E5ECF6",
            "gridcolor": "white",
            "gridwidth": 2,
            "linecolor": "white",
            "showbackground": true,
            "ticks": "",
            "zerolinecolor": "white"
           },
           "yaxis": {
            "backgroundcolor": "#E5ECF6",
            "gridcolor": "white",
            "gridwidth": 2,
            "linecolor": "white",
            "showbackground": true,
            "ticks": "",
            "zerolinecolor": "white"
           },
           "zaxis": {
            "backgroundcolor": "#E5ECF6",
            "gridcolor": "white",
            "gridwidth": 2,
            "linecolor": "white",
            "showbackground": true,
            "ticks": "",
            "zerolinecolor": "white"
           }
          },
          "shapedefaults": {
           "line": {
            "color": "#2a3f5f"
           }
          },
          "ternary": {
           "aaxis": {
            "gridcolor": "white",
            "linecolor": "white",
            "ticks": ""
           },
           "baxis": {
            "gridcolor": "white",
            "linecolor": "white",
            "ticks": ""
           },
           "bgcolor": "#E5ECF6",
           "caxis": {
            "gridcolor": "white",
            "linecolor": "white",
            "ticks": ""
           }
          },
          "title": {
           "x": 0.05
          },
          "xaxis": {
           "automargin": true,
           "gridcolor": "white",
           "linecolor": "white",
           "ticks": "",
           "title": {
            "standoff": 15
           },
           "zerolinecolor": "white",
           "zerolinewidth": 2
          },
          "yaxis": {
           "automargin": true,
           "gridcolor": "white",
           "linecolor": "white",
           "ticks": "",
           "title": {
            "standoff": 15
           },
           "zerolinecolor": "white",
           "zerolinewidth": 2
          }
         }
        },
        "title": {
         "text": "Performance of the replication"
        },
        "xaxis": {
         "autorange": true,
         "range": [
          -0.5,
          14.5
         ],
         "type": "category"
        },
        "yaxis": {
         "autorange": true,
         "range": [
          0,
          1.222761107386376
         ],
         "type": "linear"
        }
       }
      },
      "image/png": "[encoded data removed]",
      "text/html": [
       "<div>                            <div id=\"311875ce-c540-41a7-9fdb-f6813f68888b\" class=\"plotly-graph-div\" style=\"height:525px; width:100%;\"></div>            <script type=\"text/javascript\">                require([\"plotly\"], function(Plotly) {                    window.PLOTLYENV=window.PLOTLYENV || {};                                    if (document.getElementById(\"311875ce-c540-41a7-9fdb-f6813f68888b\")) {                    Plotly.newPlot(                        \"311875ce-c540-41a7-9fdb-f6813f68888b\",                        [{\"alignmentgroup\":\"True\",\"hovertemplate\":\"x=%{x}<br>y=%{y}<extra></extra>\",\"legendgroup\":\"\",\"marker\":{\"color\":\"#636efa\",\"pattern\":{\"shape\":\"\"}},\"name\":\"\",\"offsetgroup\":\"\",\"orientation\":\"v\",\"showlegend\":false,\"textposition\":\"auto\",\"x\":[\"ETH-27JAN23-1200\"],\"xaxis\":\"x\",\"y\":[0.6612386932656322],\"yaxis\":\"y\",\"type\":\"bar\"},{\"alignmentgroup\":\"True\",\"hovertemplate\":\"x=%{x}<br>y=%{y}<extra></extra>\",\"legendgroup\":\"\",\"marker\":{\"color\":\"#636efa\",\"pattern\":{\"shape\":\"\"}},\"name\":\"\",\"offsetgroup\":\"\",\"orientation\":\"v\",\"showlegend\":false,\"textposition\":\"auto\",\"x\":[\"ETH-27JAN23-1300\"],\"xaxis\":\"x\",\"y\":[0.7293541750135146],\"yaxis\":\"y\",\"type\":\"bar\"},{\"alignmentgroup\":\"True\",\"hovertemplate\":\"x=%{x}<br>y=%{y}<extra></extra>\",\"legendgroup\":\"\",\"marker\":{\"color\":\"#636efa\",\"pattern\":{\"shape\":\"\"}},\"name\":\"\",\"offsetgroup\":\"\",\"orientation\":\"v\",\"showlegend\":false,\"textposition\":\"auto\",\"x\":[\"ETH-27JAN23-1400\"],\"xaxis\":\"x\",\"y\":[0.7982252113123289],\"yaxis\":\"y\",\"type\":\"bar\"},{\"alignmentgroup\":\"True\",\"hovertemplate\":\"x=%{x}<br>y=%{y}<extra></extra>\",\"legendgroup\":\"\",\"marker\":{\"color\":\"#636efa\",\"pattern\":{\"shape\":\"\"}},\"name\":\"\",\"offsetgroup\":\"\",\"orientation\":\"v\",\"showlegend\":false,\"textposition\":\"auto\",\"x\":[\"ETH-27JAN23-1500\"],\"xaxis\":\"x\",\"y\":[0.8142661562478188],\"yaxis\":\"y\",\"type\":\"bar\"},{\"alignmentgroup\":\"True\",\"hovertemplate\":\"x=%{x}<br>y=%{y}<extra></extra>\",\"legendgroup\":\"\",\"marker\":{\"color\":\"#636efa\",\"pattern\":{\"shape\":\"\"}},\"name\":\"\",\"offsetgroup\":\"\",\"orientation\":\"v\",\"showlegend\":false,\"textposition\":\"auto\",\"x\":[\"ETH-27JAN23-1600\"],\"xaxis\":\"x\",\"y\":[0.8334899757377146],\"yaxis\":\"y\",\"type\":\"bar\"},{\"alignmentgroup\":\"True\",\"hovertemplate\":\"x=%{x}<br>y=%{y}<extra></extra>\",\"legendgroup\":\"\",\"marker\":{\"color\":\"#636efa\",\"pattern\":{\"shape\":\"\"}},\"name\":\"\",\"offsetgroup\":\"\",\"orientation\":\"v\",\"showlegend\":false,\"textposition\":\"auto\",\"x\":[\"ETH-27JAN23-1700\"],\"xaxis\":\"x\",\"y\":[0.8168290848452252],\"yaxis\":\"y\",\"type\":\"bar\"},{\"alignmentgroup\":\"True\",\"hovertemplate\":\"x=%{x}<br>y=%{y}<extra></extra>\",\"legendgroup\":\"\",\"marker\":{\"color\":\"#636efa\",\"pattern\":{\"shape\":\"\"}},\"name\":\"\",\"offsetgroup\":\"\",\"orientation\":\"v\",\"showlegend\":false,\"textposition\":\"auto\",\"x\":[\"ETH-24FEB23-900\"],\"xaxis\":\"x\",\"y\":[0.5681859088596461],\"yaxis\":\"y\",\"type\":\"bar\"},{\"alignmentgroup\":\"True\",\"hovertemplate\":\"x=%{x}<br>y=%{y}<extra></extra>\",\"legendgroup\":\"\",\"marker\":{\"color\":\"#636efa\",\"pattern\":{\"shape\":\"\"}},\"name\":\"\",\"offsetgroup\":\"\",\"orientation\":\"v\",\"showlegend\":false,\"textposition\":\"auto\",\"x\":[\"ETH-24FEB23-1000\"],\"xaxis\":\"x\",\"y\":[0.5989079193913251],\"yaxis\":\"y\",\"type\":\"bar\"},{\"alignmentgroup\":\"True\",\"hovertemplate\":\"x=%{x}<br>y=%{y}<extra></extra>\",\"legendgroup\":\"\",\"marker\":{\"color\":\"#636efa\",\"pattern\":{\"shape\":\"\"}},\"name\":\"\",\"offsetgroup\":\"\",\"orientation\":\"v\",\"showlegend\":false,\"textposition\":\"auto\",\"x\":[\"ETH-24FEB23-1100\"],\"xaxis\":\"x\",\"y\":[0.6396477957443305],\"yaxis\":\"y\",\"type\":\"bar\"},{\"alignmentgroup\":\"True\",\"hovertemplate\":\"x=%{x}<br>y=%{y}<extra></extra>\",\"legendgroup\":\"\",\"marker\":{\"color\":\"#636efa\",\"pattern\":{\"shape\":\"\"}},\"name\":\"\",\"offsetgroup\":\"\",\"orientation\":\"v\",\"showlegend\":false,\"textposition\":\"auto\",\"x\":[\"ETH-24FEB23-1200\"],\"xaxis\":\"x\",\"y\":[0.6901702800036884],\"yaxis\":\"y\",\"type\":\"bar\"},{\"alignmentgroup\":\"True\",\"hovertemplate\":\"x=%{x}<br>y=%{y}<extra></extra>\",\"legendgroup\":\"\",\"marker\":{\"color\":\"#636efa\",\"pattern\":{\"shape\":\"\"}},\"name\":\"\",\"offsetgroup\":\"\",\"orientation\":\"v\",\"showlegend\":false,\"textposition\":\"auto\",\"x\":[\"ETH-24FEB23-1300\"],\"xaxis\":\"x\",\"y\":[0.7364472882930418],\"yaxis\":\"y\",\"type\":\"bar\"},{\"alignmentgroup\":\"True\",\"hovertemplate\":\"x=%{x}<br>y=%{y}<extra></extra>\",\"legendgroup\":\"\",\"marker\":{\"color\":\"#636efa\",\"pattern\":{\"shape\":\"\"}},\"name\":\"\",\"offsetgroup\":\"\",\"orientation\":\"v\",\"showlegend\":false,\"textposition\":\"auto\",\"x\":[\"ETH-24FEB23-1400\"],\"xaxis\":\"x\",\"y\":[0.7808439520638306],\"yaxis\":\"y\",\"type\":\"bar\"},{\"alignmentgroup\":\"True\",\"hovertemplate\":\"x=%{x}<br>y=%{y}<extra></extra>\",\"legendgroup\":\"\",\"marker\":{\"color\":\"#636efa\",\"pattern\":{\"shape\":\"\"}},\"name\":\"\",\"offsetgroup\":\"\",\"orientation\":\"v\",\"showlegend\":false,\"textposition\":\"auto\",\"x\":[\"ETH-24FEB23-1500\"],\"xaxis\":\"x\",\"y\":[0.784666609438995],\"yaxis\":\"y\",\"type\":\"bar\"},{\"alignmentgroup\":\"True\",\"hovertemplate\":\"x=%{x}<br>y=%{y}<extra></extra>\",\"legendgroup\":\"\",\"marker\":{\"color\":\"#636efa\",\"pattern\":{\"shape\":\"\"}},\"name\":\"\",\"offsetgroup\":\"\",\"orientation\":\"v\",\"showlegend\":false,\"textposition\":\"auto\",\"x\":[\"ETH-24FEB23-1600\"],\"xaxis\":\"x\",\"y\":[0.8212293644950164],\"yaxis\":\"y\",\"type\":\"bar\"},{\"alignmentgroup\":\"True\",\"hovertemplate\":\"x=%{x}<br>y=%{y}<extra></extra>\",\"legendgroup\":\"\",\"marker\":{\"color\":\"#636efa\",\"pattern\":{\"shape\":\"\"}},\"name\":\"\",\"offsetgroup\":\"\",\"orientation\":\"v\",\"showlegend\":false,\"textposition\":\"auto\",\"x\":[\"ETH-24FEB23-1700\"],\"xaxis\":\"x\",\"y\":[1.1616230520170572],\"yaxis\":\"y\",\"type\":\"bar\"}],                        {\"title\":{\"text\":\"Performance of the replication\"},\"template\":{\"data\":{\"histogram2dcontour\":[{\"type\":\"histogram2dcontour\",\"colorbar\":{\"outlinewidth\":0,\"ticks\":\"\"},\"colorscale\":[[0.0,\"#0d0887\"],[0.1111111111111111,\"#46039f\"],[0.2222222222222222,\"#7201a8\"],[0.3333333333333333,\"#9c179e\"],[0.4444444444444444,\"#bd3786\"],[0.5555555555555556,\"#d8576b\"],[0.6666666666666666,\"#ed7953\"],[0.7777777777777778,\"#fb9f3a\"],[0.8888888888888888,\"#fdca26\"],[1.0,\"#f0f921\"]]}],\"choropleth\":[{\"type\":\"choropleth\",\"colorbar\":{\"outlinewidth\":0,\"ticks\":\"\"}}],\"histogram2d\":[{\"type\":\"histogram2d\",\"colorbar\":{\"outlinewidth\":0,\"ticks\":\"\"},\"colorscale\":[[0.0,\"#0d0887\"],[0.1111111111111111,\"#46039f\"],[0.2222222222222222,\"#7201a8\"],[0.3333333333333333,\"#9c179e\"],[0.4444444444444444,\"#bd3786\"],[0.5555555555555556,\"#d8576b\"],[0.6666666666666666,\"#ed7953\"],[0.7777777777777778,\"#fb9f3a\"],[0.8888888888888888,\"#fdca26\"],[1.0,\"#f0f921\"]]}],\"heatmap\":[{\"type\":\"heatmap\",\"colorbar\":{\"outlinewidth\":0,\"ticks\":\"\"},\"colorscale\":[[0.0,\"#0d0887\"],[0.1111111111111111,\"#46039f\"],[0.2222222222222222,\"#7201a8\"],[0.3333333333333333,\"#9c179e\"],[0.4444444444444444,\"#bd3786\"],[0.5555555555555556,\"#d8576b\"],[0.6666666666666666,\"#ed7953\"],[0.7777777777777778,\"#fb9f3a\"],[0.8888888888888888,\"#fdca26\"],[1.0,\"#f0f921\"]]}],\"heatmapgl\":[{\"type\":\"heatmapgl\",\"colorbar\":{\"outlinewidth\":0,\"ticks\":\"\"},\"colorscale\":[[0.0,\"#0d0887\"],[0.1111111111111111,\"#46039f\"],[0.2222222222222222,\"#7201a8\"],[0.3333333333333333,\"#9c179e\"],[0.4444444444444444,\"#bd3786\"],[0.5555555555555556,\"#d8576b\"],[0.6666666666666666,\"#ed7953\"],[0.7777777777777778,\"#fb9f3a\"],[0.8888888888888888,\"#fdca26\"],[1.0,\"#f0f921\"]]}],\"contourcarpet\":[{\"type\":\"contourcarpet\",\"colorbar\":{\"outlinewidth\":0,\"ticks\":\"\"}}],\"contour\":[{\"type\":\"contour\",\"colorbar\":{\"outlinewidth\":0,\"ticks\":\"\"},\"colorscale\":[[0.0,\"#0d0887\"],[0.1111111111111111,\"#46039f\"],[0.2222222222222222,\"#7201a8\"],[0.3333333333333333,\"#9c179e\"],[0.4444444444444444,\"#bd3786\"],[0.5555555555555556,\"#d8576b\"],[0.6666666666666666,\"#ed7953\"],[0.7777777777777778,\"#fb9f3a\"],[0.8888888888888888,\"#fdca26\"],[1.0,\"#f0f921\"]]}],\"surface\":[{\"type\":\"surface\",\"colorbar\":{\"outlinewidth\":0,\"ticks\":\"\"},\"colorscale\":[[0.0,\"#0d0887\"],[0.1111111111111111,\"#46039f\"],[0.2222222222222222,\"#7201a8\"],[0.3333333333333333,\"#9c179e\"],[0.4444444444444444,\"#bd3786\"],[0.5555555555555556,\"#d8576b\"],[0.6666666666666666,\"#ed7953\"],[0.7777777777777778,\"#fb9f3a\"],[0.8888888888888888,\"#fdca26\"],[1.0,\"#f0f921\"]]}],\"mesh3d\":[{\"type\":\"mesh3d\",\"colorbar\":{\"outlinewidth\":0,\"ticks\":\"\"}}],\"scatter\":[{\"fillpattern\":{\"fillmode\":\"overlay\",\"size\":10,\"solidity\":0.2},\"type\":\"scatter\"}],\"parcoords\":[{\"type\":\"parcoords\",\"line\":{\"colorbar\":{\"outlinewidth\":0,\"ticks\":\"\"}}}],\"scatterpolargl\":[{\"type\":\"scatterpolargl\",\"marker\":{\"colorbar\":{\"outlinewidth\":0,\"ticks\":\"\"}}}],\"bar\":[{\"error_x\":{\"color\":\"#2a3f5f\"},\"error_y\":{\"color\":\"#2a3f5f\"},\"marker\":{\"line\":{\"color\":\"#E5ECF6\",\"width\":0.5},\"pattern\":{\"fillmode\":\"overlay\",\"size\":10,\"solidity\":0.2}},\"type\":\"bar\"}],\"scattergeo\":[{\"type\":\"scattergeo\",\"marker\":{\"colorbar\":{\"outlinewidth\":0,\"ticks\":\"\"}}}],\"scatterpolar\":[{\"type\":\"scatterpolar\",\"marker\":{\"colorbar\":{\"outlinewidth\":0,\"ticks\":\"\"}}}],\"histogram\":[{\"marker\":{\"pattern\":{\"fillmode\":\"overlay\",\"size\":10,\"solidity\":0.2}},\"type\":\"histogram\"}],\"scattergl\":[{\"type\":\"scattergl\",\"marker\":{\"colorbar\":{\"outlinewidth\":0,\"ticks\":\"\"}}}],\"scatter3d\":[{\"type\":\"scatter3d\",\"line\":{\"colorbar\":{\"outlinewidth\":0,\"ticks\":\"\"}},\"marker\":{\"colorbar\":{\"outlinewidth\":0,\"ticks\":\"\"}}}],\"scattermapbox\":[{\"type\":\"scattermapbox\",\"marker\":{\"colorbar\":{\"outlinewidth\":0,\"ticks\":\"\"}}}],\"scatterternary\":[{\"type\":\"scatterternary\",\"marker\":{\"colorbar\":{\"outlinewidth\":0,\"ticks\":\"\"}}}],\"scattercarpet\":[{\"type\":\"scattercarpet\",\"marker\":{\"colorbar\":{\"outlinewidth\":0,\"ticks\":\"\"}}}],\"carpet\":[{\"aaxis\":{\"endlinecolor\":\"#2a3f5f\",\"gridcolor\":\"white\",\"linecolor\":\"white\",\"minorgridcolor\":\"white\",\"startlinecolor\":\"#2a3f5f\"},\"baxis\":{\"endlinecolor\":\"#2a3f5f\",\"gridcolor\":\"white\",\"linecolor\":\"white\",\"minorgridcolor\":\"white\",\"startlinecolor\":\"#2a3f5f\"},\"type\":\"carpet\"}],\"table\":[{\"cells\":{\"fill\":{\"color\":\"#EBF0F8\"},\"line\":{\"color\":\"white\"}},\"header\":{\"fill\":{\"color\":\"#C8D4E3\"},\"line\":{\"color\":\"white\"}},\"type\":\"table\"}],\"barpolar\":[{\"marker\":{\"line\":{\"color\":\"#E5ECF6\",\"width\":0.5},\"pattern\":{\"fillmode\":\"overlay\",\"size\":10,\"solidity\":0.2}},\"type\":\"barpolar\"}],\"pie\":[{\"automargin\":true,\"type\":\"pie\"}]},\"layout\":{\"autotypenumbers\":\"strict\",\"colorway\":[\"#636efa\",\"#EF553B\",\"#00cc96\",\"#ab63fa\",\"#FFA15A\",\"#19d3f3\",\"#FF6692\",\"#B6E880\",\"#FF97FF\",\"#FECB52\"],\"font\":{\"color\":\"#2a3f5f\"},\"hovermode\":\"closest\",\"hoverlabel\":{\"align\":\"left\"},\"paper_bgcolor\":\"white\",\"plot_bgcolor\":\"#E5ECF6\",\"polar\":{\"bgcolor\":\"#E5ECF6\",\"angularaxis\":{\"gridcolor\":\"white\",\"linecolor\":\"white\",\"ticks\":\"\"},\"radialaxis\":{\"gridcolor\":\"white\",\"linecolor\":\"white\",\"ticks\":\"\"}},\"ternary\":{\"bgcolor\":\"#E5ECF6\",\"aaxis\":{\"gridcolor\":\"white\",\"linecolor\":\"white\",\"ticks\":\"\"},\"baxis\":{\"gridcolor\":\"white\",\"linecolor\":\"white\",\"ticks\":\"\"},\"caxis\":{\"gridcolor\":\"white\",\"linecolor\":\"white\",\"ticks\":\"\"}},\"coloraxis\":{\"colorbar\":{\"outlinewidth\":0,\"ticks\":\"\"}},\"colorscale\":{\"sequential\":[[0.0,\"#0d0887\"],[0.1111111111111111,\"#46039f\"],[0.2222222222222222,\"#7201a8\"],[0.3333333333333333,\"#9c179e\"],[0.4444444444444444,\"#bd3786\"],[0.5555555555555556,\"#d8576b\"],[0.6666666666666666,\"#ed7953\"],[0.7777777777777778,\"#fb9f3a\"],[0.8888888888888888,\"#fdca26\"],[1.0,\"#f0f921\"]],\"sequentialminus\":[[0.0,\"#0d0887\"],[0.1111111111111111,\"#46039f\"],[0.2222222222222222,\"#7201a8\"],[0.3333333333333333,\"#9c179e\"],[0.4444444444444444,\"#bd3786\"],[0.5555555555555556,\"#d8576b\"],[0.6666666666666666,\"#ed7953\"],[0.7777777777777778,\"#fb9f3a\"],[0.8888888888888888,\"#fdca26\"],[1.0,\"#f0f921\"]],\"diverging\":[[0,\"#8e0152\"],[0.1,\"#c51b7d\"],[0.2,\"#de77ae\"],[0.3,\"#f1b6da\"],[0.4,\"#fde0ef\"],[0.5,\"#f7f7f7\"],[0.6,\"#e6f5d0\"],[0.7,\"#b8e186\"],[0.8,\"#7fbc41\"],[0.9,\"#4d9221\"],[1,\"#276419\"]]},\"xaxis\":{\"gridcolor\":\"white\",\"linecolor\":\"white\",\"ticks\":\"\",\"title\":{\"standoff\":15},\"zerolinecolor\":\"white\",\"automargin\":true,\"zerolinewidth\":2},\"yaxis\":{\"gridcolor\":\"white\",\"linecolor\":\"white\",\"ticks\":\"\",\"title\":{\"standoff\":15},\"zerolinecolor\":\"white\",\"automargin\":true,\"zerolinewidth\":2},\"scene\":{\"xaxis\":{\"backgroundcolor\":\"#E5ECF6\",\"gridcolor\":\"white\",\"linecolor\":\"white\",\"showbackground\":true,\"ticks\":\"\",\"zerolinecolor\":\"white\",\"gridwidth\":2},\"yaxis\":{\"backgroundcolor\":\"#E5ECF6\",\"gridcolor\":\"white\",\"linecolor\":\"white\",\"showbackground\":true,\"ticks\":\"\",\"zerolinecolor\":\"white\",\"gridwidth\":2},\"zaxis\":{\"backgroundcolor\":\"#E5ECF6\",\"gridcolor\":\"white\",\"linecolor\":\"white\",\"showbackground\":true,\"ticks\":\"\",\"zerolinecolor\":\"white\",\"gridwidth\":2}},\"shapedefaults\":{\"line\":{\"color\":\"#2a3f5f\"}},\"annotationdefaults\":{\"arrowcolor\":\"#2a3f5f\",\"arrowhead\":0,\"arrowwidth\":1},\"geo\":{\"bgcolor\":\"white\",\"landcolor\":\"#E5ECF6\",\"subunitcolor\":\"white\",\"showland\":true,\"showlakes\":true,\"lakecolor\":\"white\"},\"title\":{\"x\":0.05},\"mapbox\":{\"style\":\"light\"}}}},                        {\"responsive\": true}                    ).then(function(){\n",
       "                            \n",
       "var gd = document.getElementById('311875ce-c540-41a7-9fdb-f6813f68888b');\n",
       "var x = new MutationObserver(function (mutations, observer) {{\n",
       "        var display = window.getComputedStyle(gd).display;\n",
       "        if (!display || display === 'none') {{\n",
       "            console.log([gd, 'removed!']);\n",
       "            Plotly.purge(gd);\n",
       "            observer.disconnect();\n",
       "        }}\n",
       "}});\n",
       "\n",
       "// Listen for the removal of the full notebook cells\n",
       "var notebookContainer = gd.closest('#notebook-container');\n",
       "if (notebookContainer) {{\n",
       "    x.observe(notebookContainer, {childList: true});\n",
       "}}\n",
       "\n",
       "// Listen for the clearing of the current output cell\n",
       "var outputEl = gd.closest('.output');\n",
       "if (outputEl) {{\n",
       "    x.observe(outputEl, {childList: true});\n",
       "}}\n",
       "\n",
       "                        })                };                });            </script>        </div>"
      ]
     },
     "metadata": {},
     "output_type": "display_data"
    }
   ],
   "source": [
    "# dices2 = pd.DataFrame(np.random.randint(low=1, high=7, size=(100, 2)), columns=('Кость 1', 'Кость 2'))\n",
    "# dices2['Сумма'] = dices2['Кость 1'] + dices2['Кость 2']\n",
    "# dices3 = pd.DataFrame(np.random.randint(low=1, high=7, size=(1000, 2)), columns=('Кость 1', 'Кость 2'))\n",
    "# dices3['Сумма'] = dices3['Кость 1'] + dices3['Кость 2']\n",
    "\n",
    "fig = go.Figure(layout = {\"title\": {\"text\": \"Performance of the replication\"}})\n",
    "# fig.add_trace(go.Histogram(x=dices['Сумма']))\n",
    "for i in range(len(res)):\n",
    "    # fig.add_trace(go.Histogram(x=r))\n",
    "    # fig.add_trace(go.Histogram(x=r))\n",
    "    fig2 = px.bar(res[i], x=np.array([res[i][0]]), y=np.array([res[i][1]]))\n",
    "    \n",
    "    # fig2 = px.bar(df, x=\"x\", y=\"y\")\n",
    "    fig.add_trace(fig2.data[0])\n",
    "\n",
    "# fig.add_trace(go.Histogram(x=dices3['Сумма']))\n",
    "fig.show()"
   ]
  },
  {
   "cell_type": "code",
   "execution_count": null,
   "id": "50fd8f9a-321d-4739-a76e-afec2f46d67b",
   "metadata": {},
   "outputs": [],
   "source": []
  },
  {
   "cell_type": "code",
   "execution_count": null,
   "id": "82cbf012-ee44-4a38-ae5b-cf23ccfca953",
   "metadata": {},
   "outputs": [],
   "source": []
  },
  {
   "cell_type": "code",
   "execution_count": null,
   "id": "45620200-0117-44c5-9e34-51d33d397218",
   "metadata": {},
   "outputs": [],
   "source": []
  }
 ],
 "metadata": {
  "kernelspec": {
   "display_name": "Python 3 (ipykernel)",
   "language": "python",
   "name": "python3"
  },
  "language_info": {
   "codemirror_mode": {
    "name": "ipython",
    "version": 3
   },
   "file_extension": ".py",
   "mimetype": "text/x-python",
   "name": "python",
   "nbconvert_exporter": "python",
   "pygments_lexer": "ipython3",
   "version": "3.8.15"
  }
 },
 "nbformat": 4,
 "nbformat_minor": 5
}
