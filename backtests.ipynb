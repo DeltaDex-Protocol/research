{
 "cells": [
  {
   "cell_type": "code",
   "execution_count": 1,
   "id": "cd76a933-dcdf-4794-89ef-be4951cfd7ee",
   "metadata": {},
   "outputs": [],
   "source": [
    "import sqlite3\n",
    "import pandas as pd\n",
    "import numpy as np\n",
    "from scipy.stats import norm\n",
    "from scipy.optimize import minimize_scalar\n",
    "from datetime import datetime"
   ]
  },
  {
   "cell_type": "code",
   "execution_count": 2,
   "id": "7ddd918d-1083-495c-b123-899e8bae2583",
   "metadata": {},
   "outputs": [],
   "source": [
    "N = norm.cdf\n"
   ]
  },
  {
   "cell_type": "code",
   "execution_count": 85,
   "id": "bc5cee2a-c51e-42c3-bf9b-debe8fedbafc",
   "metadata": {},
   "outputs": [],
   "source": [
    "def read_from_db():\n",
    "    conn = sqlite3.connect('../../options_database.db')\n",
    "    df = pd.read_sql_query(\"SELECT * FROM options_table\", conn)\n",
    "    conn.close()\n",
    "    return df"
   ]
  },
  {
   "cell_type": "code",
   "execution_count": 86,
   "id": "ecb27032-567a-46f4-a632-038bf3f849b6",
   "metadata": {},
   "outputs": [],
   "source": [
    "df = read_from_db()"
   ]
  },
  {
   "cell_type": "code",
   "execution_count": 87,
   "id": "a78b0a5a-94ed-44e3-ba00-dd0f7216a132",
   "metadata": {},
   "outputs": [
    {
     "data": {
      "text/plain": [
       "610"
      ]
     },
     "execution_count": 87,
     "metadata": {},
     "output_type": "execute_result"
    }
   ],
   "source": [
    "len(df[(df.current_time == '2023-01-29 11:24:46.988931')])"
   ]
  },
  {
   "cell_type": "code",
   "execution_count": null,
   "id": "d5e511b6-301f-4562-859a-abc83a8b332e",
   "metadata": {},
   "outputs": [],
   "source": []
  },
  {
   "cell_type": "code",
   "execution_count": 6,
   "id": "b9419587-c2bb-470d-a07c-2e2a53ec4838",
   "metadata": {},
   "outputs": [],
   "source": [
    "def delta_BS_put(S, K, T, r, sigma):\n",
    "    d1 = (np.log(S/K) + (r + sigma**2/2)*T) / (sigma*np.sqrt(T))\n",
    "    return N(d1) - 1\n",
    "\n",
    "def delta_BS_call(S, K, T, r, sigma):\n",
    "    d1 = (np.log(S/K) + (r + sigma**2/2)*T) / (sigma*np.sqrt(T))\n",
    "    return N(d1)\n",
    "\n",
    "def BS_CALL(S, K, T, r, sigma):\n",
    "    d1 = (np.log(S/K) + (r + sigma**2/2)*T) / (sigma*np.sqrt(T))\n",
    "    d2 = d1 - sigma * np.sqrt(T)\n",
    "#     print(d1, d2)\n",
    "    return S * N(d1) - K * np.exp(-r*T)* N(d2)\n",
    "\n",
    "def BS_PUT(S, K, T, r, sigma):\n",
    "    d1 = (np.log(S/K) + (r + sigma**2/2)*T) / (sigma*np.sqrt(T))\n",
    "    d2 = d1 - sigma * np.sqrt(T)\n",
    "    return K * np.exp(-r*T)* N(-d2) - S * N(-d1)"
   ]
  },
  {
   "cell_type": "code",
   "execution_count": 153,
   "id": "926aa884-9933-4901-8121-5a2909c5cabb",
   "metadata": {},
   "outputs": [
    {
     "data": {
      "text/plain": [
       "3.989422810946053e-05"
      ]
     },
     "execution_count": 153,
     "metadata": {},
     "output_type": "execute_result"
    }
   ],
   "source": [
    "BS_PUT(1000, 1000, 1, 0, 0.0000001)"
   ]
  },
  {
   "cell_type": "code",
   "execution_count": 7,
   "id": "d767e0a9-1f21-4bab-8ca3-4b3a190a2e55",
   "metadata": {},
   "outputs": [],
   "source": [
    "def get_timedelta_in_years(timedelta):\n",
    "    d = timedelta.days / (365.25)\n",
    "    s = timedelta.seconds / (365.25*24*60*60)\n",
    "    return d + s"
   ]
  },
  {
   "cell_type": "code",
   "execution_count": 195,
   "id": "490fd9bc-7e1f-46c0-9358-a83f8e7f83a3",
   "metadata": {},
   "outputs": [],
   "source": [
    "def preprocessing(option_name, option_type):\n",
    "    selected_option = (df[(df.full_name == option_name)][df.current_time > '2023-01-04'][df.type == option_type])\n",
    "    selected_option['timedelta'] = selected_option.apply(lambda x: get_timedelta_in_years(datetime.fromisoformat(x['expiry']) - datetime.fromisoformat(x['current_time'])), axis=1)\n",
    "    \n",
    "    selected_option['mid_price'] = selected_option['mid_price'].fillna(0)\n",
    "    selected_option['ask_price'] = selected_option['ask_price'].fillna(0)\n",
    "    selected_option['bid_price'] = selected_option['bid_price'].fillna(0)\n",
    "    selected_option['strike'] = selected_option['strike'].astype(float)\n",
    "    # selected_option['mid_IV'] = selected_option['mid_IV'].fillna(0.001)\n",
    "        \n",
    "    filtered = selected_option.loc[(selected_option.bid_IV > 0) & (selected_option.bid_IV < 10) & \n",
    "                            (selected_option.ask_IV > 0) & (selected_option.ask_IV < 10) &\n",
    "                             (selected_option.timedelta > 0)]\n",
    "    \n",
    "    \n",
    "    # (selected_option.bid_IV < 10) & \n",
    "    #                                (selected_option.ask_IV < 10) &\n",
    "    #                                (selected_option.mid_IV < 10) &\n",
    "    \n",
    "    # filtered = selected_option.loc[\n",
    "    #                                (selected_option.timedelta > 0)]\n",
    "    \n",
    "    \n",
    "    if option_type == 'put':\n",
    "        filtered['BS_delta'] = delta_BS_put(filtered.underlying_price, filtered.strike, filtered.timedelta, 0, filtered.mid_IV)\n",
    "    elif option_type == 'call':\n",
    "        filtered['BS_delta'] = delta_BS_call(filtered.underlying_price, filtered.strike, filtered.timedelta, 0, filtered.mid_IV)\n",
    "    \n",
    "    filtered.index = np.arange(1, len(filtered)+1)\n",
    "    \n",
    "    return filtered\n",
    "\n"
   ]
  },
  {
   "cell_type": "code",
   "execution_count": null,
   "id": "61ffc87e-954c-4a7a-839c-9b526f830f3d",
   "metadata": {},
   "outputs": [],
   "source": []
  },
  {
   "cell_type": "code",
   "execution_count": 239,
   "id": "717cb84d-4f04-4aa4-9cbe-285e7ff36659",
   "metadata": {},
   "outputs": [],
   "source": [
    "def backtest(df):\n",
    "    \n",
    "    asset = 0  \n",
    "    initial_usdc = 0\n",
    "    usdc = initial_usdc\n",
    "    prev_asset = asset\n",
    "\n",
    "    for i in range(len(df)):\n",
    "        prev_asset = asset\n",
    "        asset = filtered['BS_delta'].iloc[i]\n",
    "        usdc = usdc - (asset - prev_asset) * filtered['underlying_price'].iloc[i]\n",
    "\n",
    "    return asset*filtered['underlying_price'].iloc[-1] + usdc - initial_usdc"
   ]
  },
  {
   "cell_type": "code",
   "execution_count": 240,
   "id": "f5a7acbd-fbf3-45db-b6a0-2ce56981fa2d",
   "metadata": {},
   "outputs": [],
   "source": [
    "# datetime.strptime(selected_put.iloc[5]['expiry'], \"%Y %m %d %I:%M%p\")\n",
    "# get_timedelta_in_years(datetime.fromisoformat(selected_put.iloc[5]['expiry']) - datetime.fromisoformat(selected_put.iloc[5]['current_time']))\n"
   ]
  },
  {
   "cell_type": "code",
   "execution_count": 274,
   "id": "2f7bbb18-3094-41e9-b9a7-6c984ea159ff",
   "metadata": {},
   "outputs": [
    {
     "name": "stderr",
     "output_type": "stream",
     "text": [
      "/var/folders/8t/1dvfc69d0l3137hz8kyzv__80000gn/T/ipykernel_10556/746598763.py:2: UserWarning: Boolean Series key will be reindexed to match DataFrame index.\n",
      "  selected_option = (df[(df.full_name == option_name)][df.current_time > '2023-01-04'][df.type == option_type])\n",
      "/var/folders/8t/1dvfc69d0l3137hz8kyzv__80000gn/T/ipykernel_10556/746598763.py:25: SettingWithCopyWarning: \n",
      "A value is trying to be set on a copy of a slice from a DataFrame.\n",
      "Try using .loc[row_indexer,col_indexer] = value instead\n",
      "\n",
      "See the caveats in the documentation: https://pandas.pydata.org/pandas-docs/stable/user_guide/indexing.html#returning-a-view-versus-a-copy\n",
      "  filtered['BS_delta'] = delta_BS_put(filtered.underlying_price, filtered.strike, filtered.timedelta, 0, filtered.mid_IV)\n"
     ]
    }
   ],
   "source": [
    "filtered = preprocessing(option_name = 'ETH-27JAN23-1300', option_type = 'put')"
   ]
  },
  {
   "cell_type": "code",
   "execution_count": 275,
   "id": "b88de3f3-c3ca-4241-9ae8-4f2a5ca797bf",
   "metadata": {},
   "outputs": [
    {
     "data": {
      "text/plain": [
       "-127.95674369997391"
      ]
     },
     "execution_count": 275,
     "metadata": {},
     "output_type": "execute_result"
    }
   ],
   "source": [
    "backtest(filtered[filtered.index % 10 != 0])"
   ]
  },
  {
   "cell_type": "code",
   "execution_count": null,
   "id": "280031f0-76b0-4a57-82df-abff9bbf0ccb",
   "metadata": {},
   "outputs": [],
   "source": []
  },
  {
   "cell_type": "code",
   "execution_count": 276,
   "id": "5eb2df56-af48-4ad6-bcfc-ab1ba862fb50",
   "metadata": {},
   "outputs": [
    {
     "name": "stdout",
     "output_type": "stream",
     "text": [
      "118.34885750000001 1554.8 -118.34885750000001\n"
     ]
    }
   ],
   "source": [
    "option_price = filtered['mid_price'].iloc[0] * filtered['underlying_price'].iloc[0]\n",
    "\n",
    "price_on_expiry = filtered['underlying_price'].iloc[-1]\n",
    "\n",
    "PnL = max(0, filtered['strike'].iloc[-1] - filtered['underlying_price'].iloc[-1]) - filtered['mid_price'].iloc[0] * filtered['underlying_price'].iloc[0]\n",
    "\n",
    "print(option_price, price_on_expiry, PnL)\n"
   ]
  },
  {
   "cell_type": "code",
   "execution_count": 224,
   "id": "01320101-6188-4a1c-a9fa-77b731c6c5e1",
   "metadata": {},
   "outputs": [],
   "source": [
    "# filtered"
   ]
  },
  {
   "cell_type": "code",
   "execution_count": null,
   "id": "a9db515f-8fb4-4e5c-bccb-8a5a9f1fa19e",
   "metadata": {},
   "outputs": [],
   "source": []
  },
  {
   "cell_type": "code",
   "execution_count": null,
   "id": "2441de79-e4c3-4ee5-b854-104153ec98c7",
   "metadata": {},
   "outputs": [],
   "source": []
  }
 ],
 "metadata": {
  "kernelspec": {
   "display_name": "Python 3 (ipykernel)",
   "language": "python",
   "name": "python3"
  },
  "language_info": {
   "codemirror_mode": {
    "name": "ipython",
    "version": 3
   },
   "file_extension": ".py",
   "mimetype": "text/x-python",
   "name": "python",
   "nbconvert_exporter": "python",
   "pygments_lexer": "ipython3",
   "version": "3.8.15"
  }
 },
 "nbformat": 4,
 "nbformat_minor": 5
}
