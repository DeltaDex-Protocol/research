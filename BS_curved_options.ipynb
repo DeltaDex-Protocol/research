{
 "cells": [
  {
   "cell_type": "code",
   "execution_count": 1,
   "id": "31c4fc16",
   "metadata": {},
   "outputs": [],
   "source": [
    "import matplotlib.pyplot as plt\n",
    "plt.style.use('ggplot')\n",
    "import numpy as np\n",
    "from scipy.stats import norm\n",
    "from scipy.optimize import minimize_scalar  \n",
    "import math"
   ]
  },
  {
   "cell_type": "code",
   "execution_count": 2,
   "id": "1453eebc",
   "metadata": {},
   "outputs": [],
   "source": [
    "N = norm.cdf\n"
   ]
  },
  {
   "cell_type": "code",
   "execution_count": 3,
   "id": "c2fe65b6",
   "metadata": {},
   "outputs": [],
   "source": [
    "# import sympy as sp\n",
    "# import sympy.stats\n",
    "# n = sympy.stats.Normal('n', 0, 1)\n"
   ]
  },
  {
   "cell_type": "code",
   "execution_count": 4,
   "id": "91f9b810",
   "metadata": {},
   "outputs": [
    {
     "name": "stdout",
     "output_type": "stream",
     "text": [
      "0.8427007929497148\n"
     ]
    }
   ],
   "source": [
    "from scipy.special import erf\n",
    "print(erf(1))"
   ]
  },
  {
   "cell_type": "code",
   "execution_count": 5,
   "id": "7c952090",
   "metadata": {},
   "outputs": [
    {
     "name": "stdout",
     "output_type": "stream",
     "text": [
      "0.8413447460685429\n",
      "0.7509100505983334\n"
     ]
    }
   ],
   "source": [
    "print(N(1))\n",
    "print(norm.rvs())"
   ]
  },
  {
   "cell_type": "markdown",
   "id": "6d485e0a",
   "metadata": {},
   "source": [
    "## Setting up the params"
   ]
  },
  {
   "cell_type": "code",
   "execution_count": 6,
   "id": "6367a644",
   "metadata": {},
   "outputs": [],
   "source": [
    "option = {\"T\": 0.5, \"x0\": 250, \"K\": 1000, \"r\": 0, \"sigma\": 0.7}\n"
   ]
  },
  {
   "cell_type": "code",
   "execution_count": 7,
   "id": "9406f31e",
   "metadata": {
    "scrolled": true
   },
   "outputs": [
    {
     "data": {
      "text/plain": [
       "250"
      ]
     },
     "execution_count": 7,
     "metadata": {},
     "output_type": "execute_result"
    }
   ],
   "source": [
    "option['x0']"
   ]
  },
  {
   "cell_type": "code",
   "execution_count": 1,
   "id": "0980680c",
   "metadata": {
    "scrolled": false
   },
   "outputs": [
    {
     "ename": "NameError",
     "evalue": "name 'option' is not defined",
     "output_type": "error",
     "traceback": [
      "\u001b[0;31m---------------------------------------------------------------------------\u001b[0m",
      "\u001b[0;31mNameError\u001b[0m                                 Traceback (most recent call last)",
      "\u001b[0;32m<ipython-input-1-8cad47f6925a>\u001b[0m in \u001b[0;36m<module>\u001b[0;34m\u001b[0m\n\u001b[1;32m      9\u001b[0m \u001b[0;34m\u001b[0m\u001b[0m\n\u001b[1;32m     10\u001b[0m \u001b[0;34m\u001b[0m\u001b[0m\n\u001b[0;32m---> 11\u001b[0;31m \u001b[0msigma\u001b[0m \u001b[0;34m=\u001b[0m \u001b[0moption\u001b[0m\u001b[0;34m[\u001b[0m\u001b[0;34m'sigma'\u001b[0m\u001b[0;34m]\u001b[0m\u001b[0;34m\u001b[0m\u001b[0;34m\u001b[0m\u001b[0m\n\u001b[0m\u001b[1;32m     12\u001b[0m \u001b[0mT\u001b[0m \u001b[0;34m=\u001b[0m \u001b[0moption\u001b[0m\u001b[0;34m[\u001b[0m\u001b[0;34m'T'\u001b[0m\u001b[0;34m]\u001b[0m\u001b[0;34m\u001b[0m\u001b[0;34m\u001b[0m\u001b[0m\n\u001b[1;32m     13\u001b[0m \u001b[0mK\u001b[0m \u001b[0;34m=\u001b[0m \u001b[0moption\u001b[0m\u001b[0;34m[\u001b[0m\u001b[0;34m'K'\u001b[0m\u001b[0;34m]\u001b[0m\u001b[0;34m\u001b[0m\u001b[0;34m\u001b[0m\u001b[0m\n",
      "\u001b[0;31mNameError\u001b[0m: name 'option' is not defined"
     ]
    }
   ],
   "source": [
    "# geometric bwornian motions\n",
    "# TODO: add taking account of risk-free rate while sampling\n",
    "\n",
    "\n",
    "import pandas as pd\n",
    "import numpy as np\n",
    "import matplotlib.pyplot as plt\n",
    "# %matplotlib inline\n",
    "\n",
    "\n",
    "sigma = option['sigma']\n",
    "T = option['T']\n",
    "K = option['K']\n",
    "\n",
    "steps = 300\n",
    "num_plots = 150\n",
    "Range = []\n",
    "Values = [K]\n",
    "\n",
    "\n",
    "plt.style.use('ggplot')\n",
    "plt.rcParams['lines.linewidth'] = 0.6\n",
    "\n",
    "fig, ax = plt.subplots()\n",
    "fig.set_figwidth(12)\n",
    "fig.set_figheight(6)\n",
    "\n",
    "colormap = plt.cm.gist_ncar\n",
    "plt.gca().set_prop_cycle(plt.cycler('color', plt.cm.jet(np.linspace(0, 1, 1))))\n",
    "\n",
    "\n",
    "Range = np.arange(steps) \n",
    "\n",
    "all_paths = []\n",
    "\n",
    "for i in range(0, num_plots):\n",
    "\n",
    "    for i in range (1, steps):\n",
    "        dx = sigma * Values[-1] * norm.rvs() * np.sqrt(T / steps)\n",
    "\n",
    "        y = Values[-1] + dx\n",
    "\n",
    "        Values.append(y)\n",
    "    all_paths.append(Values)\n",
    "    ax.plot(Range, Values)\n",
    "    Values = [K]"
   ]
  },
  {
   "cell_type": "code",
   "execution_count": 14,
   "id": "7b2372d0",
   "metadata": {},
   "outputs": [],
   "source": [
    "def delta_BS_put(S, K, T, r, sigma):\n",
    "    d1 = (np.log(S/K) + (r + sigma**2/2)*T) / (sigma*np.sqrt(T))\n",
    "    return N(d1) - 1\n",
    "\n",
    "def delta_BS_call(S, K, T, r, sigma):\n",
    "    d1 = (np.log(S/K) + (r + sigma**2/2)*T) / (sigma*np.sqrt(T))\n",
    "    return N(d1)\n",
    "\n",
    "def BS_CALL(S, K, T, r, sigma):\n",
    "    d1 = (np.log(S/K) + (r + sigma**2/2)*T) / (sigma*np.sqrt(T))\n",
    "    d2 = d1 - sigma * np.sqrt(T)\n",
    "    print(d1, d2)\n",
    "    return S * N(d1) - K * np.exp(-r*T)* N(d2)\n",
    "\n",
    "def BS_PUT(S, K, T, r, sigma):\n",
    "    d1 = (np.log(S/K) + (r + sigma**2/2)*T) / (sigma*np.sqrt(T))\n",
    "    d2 = d1 - sigma * np.sqrt(T)\n",
    "    return K * np.exp(-r*T)* N(-d2) - S * N(-d1)"
   ]
  },
  {
   "cell_type": "code",
   "execution_count": 15,
   "id": "b6c38825",
   "metadata": {},
   "outputs": [
    {
     "name": "stdout",
     "output_type": "stream",
     "text": [
      "0.659113049625616 0.409113049625616\n"
     ]
    },
    {
     "data": {
      "text/plain": [
       "9.613700581442536"
      ]
     },
     "execution_count": 15,
     "metadata": {},
     "output_type": "execute_result"
    }
   ],
   "source": [
    "BS_CALL(57, 50, 0.25, 0.01, 0.5)"
   ]
  },
  {
   "cell_type": "code",
   "execution_count": 20,
   "id": "bc62de17",
   "metadata": {},
   "outputs": [
    {
     "data": {
      "text/plain": [
       "2.4888567013155427"
      ]
     },
     "execution_count": 20,
     "metadata": {},
     "output_type": "execute_result"
    }
   ],
   "source": [
    "BS_PUT(57, 50, 0.25, 0.01, 0.5)"
   ]
  },
  {
   "cell_type": "markdown",
   "id": "aa3e13dc",
   "metadata": {},
   "source": [
    "### This is the process of BS call replication (below):"
   ]
  },
  {
   "cell_type": "code",
   "execution_count": 133,
   "id": "bdef4fc2",
   "metadata": {},
   "outputs": [],
   "source": [
    "# delta_BS_put(100,100,0.5, 0, 1)\n",
    "last_prices = []\n",
    "call_replicated_payoff = []\n",
    "call_true_payoff = []\n",
    "\n",
    "S0 = option['K']\n",
    "K = option['K']\n",
    "T = option['T']\n",
    "r = option['r']\n",
    "sigma = option['sigma']\n",
    "\n",
    "asset = 0\n",
    "initial_usdc = 200\n",
    "usdc = initial_usdc\n",
    "prev_asset = 0\n",
    "\n",
    "for i in range(len(all_paths[:])):\n",
    "    asset = 0\n",
    "    initial_usdc = 200\n",
    "    usdc = initial_usdc\n",
    "    prev_asset = 0\n",
    "    \n",
    "    for j in range(len(all_paths[i])):\n",
    "        t = (T / steps) * j\n",
    "        prev_asset = asset\n",
    "        asset = delta_BS_call(all_paths[i][j], K, T - t, r, sigma)\n",
    "        usdc = usdc - (asset - prev_asset) * all_paths[i][j] \n",
    "#         print(asset, usdc)\n",
    "\n",
    "    last_prices.append(all_paths[i][-1])\n",
    "    call_replicated_payoff.append(asset*all_paths[i][-1] + usdc - initial_usdc)\n",
    "    \n",
    "    call_true_payoff.append(max(0, all_paths[i][-1] - K) - BS_CALL(S0, K, T, r, sigma))\n",
    "\n",
    "# print(all_paths[1][-1])\n",
    "# print(asset*all_paths[1][-1]+ usdc)\n",
    "        "
   ]
  },
  {
   "cell_type": "code",
   "execution_count": 134,
   "id": "37497c4a",
   "metadata": {
    "scrolled": false
   },
   "outputs": [
    {
     "data": {
      "text/plain": [
       "[<matplotlib.lines.Line2D at 0x7f89590d79a0>]"
      ]
     },
     "execution_count": 134,
     "metadata": {},
     "output_type": "execute_result"
    },
    {
     "data": {
      "image/png": "[encoded data removed]",
      "text/plain": [
       "<Figure size 432x288 with 1 Axes>"
      ]
     },
     "metadata": {},
     "output_type": "display_data"
    }
   ],
   "source": [
    "plt.plot(last_prices, call_true_payoff, 'bo', )\n"
   ]
  },
  {
   "cell_type": "code",
   "execution_count": 135,
   "id": "d2983670",
   "metadata": {
    "scrolled": false
   },
   "outputs": [
    {
     "data": {
      "text/plain": [
       "[<matplotlib.lines.Line2D at 0x7f896b38e760>]"
      ]
     },
     "execution_count": 135,
     "metadata": {},
     "output_type": "execute_result"
    },
    {
     "data": {
      "image/png": "[encoded data removed]",
      "text/plain": [
       "<Figure size 432x288 with 1 Axes>"
      ]
     },
     "metadata": {},
     "output_type": "display_data"
    }
   ],
   "source": [
    "plt.plot(last_prices, call_replicated_payoff, 'ro')"
   ]
  },
  {
   "cell_type": "markdown",
   "id": "dfced35e",
   "metadata": {},
   "source": [
    "## The replication of put option with curved payoff to hedge against impermanent losses"
   ]
  },
  {
   "cell_type": "code",
   "execution_count": 25,
   "id": "c4a5a6d3",
   "metadata": {},
   "outputs": [],
   "source": [
    "# This function is correct\n",
    "def BS_root_put(x0, S, K, T, r, sigma):\n",
    "    TV0 = 2 * x0\n",
    "    z1 = -(np.log(S/K) + (r - 0.5*sigma**2)*T)/np.sqrt(T)/sigma\n",
    "\n",
    "    \n",
    "    first_part = (np.exp(-r*T) * TV0) * N(z1)\n",
    "    _r = r/2\n",
    "    _sigma = sigma / 2\n",
    "    z2 = z1 - _sigma * np.sqrt(T)\n",
    "    second_part = (np.exp(-r*T) * TV0*np.sqrt(S/K)) * (np.exp(-0.5 * _sigma**2 * T)*np.exp(_r*T)) * N(z2)\n",
    "    \n",
    "    return first_part - second_part\n",
    "    \n"
   ]
  },
  {
   "cell_type": "code",
   "execution_count": 21,
   "id": "b316ce4a",
   "metadata": {},
   "outputs": [],
   "source": [
    "def new_way_BS_delta_root_put(x0, S, K, T, r, sigma):\n",
    "    z1 = -(np.log(S/K) + (r - 0.5*sigma**2)*T)/np.sqrt(T)/sigma\n",
    "    _r = r/2\n",
    "    _sigma = sigma / 2\n",
    "    z2 = z1 - _sigma * np.sqrt(T)\n",
    "    return -(np.exp(-r*T) * x0 / np.sqrt(K*S)) * (np.exp(-0.5 * _sigma**2 * T)*np.exp(_r*T)) * N(z2)"
   ]
  },
  {
   "cell_type": "code",
   "execution_count": 26,
   "id": "3ee76ccd",
   "metadata": {},
   "outputs": [
    {
     "data": {
      "text/plain": [
       "13.258835386384902"
      ]
     },
     "execution_count": 26,
     "metadata": {},
     "output_type": "execute_result"
    }
   ],
   "source": [
    "BS_root_put(250, 57, 50, 0.25, 0.01, 0.5)"
   ]
  },
  {
   "cell_type": "code",
   "execution_count": null,
   "id": "637f5221",
   "metadata": {},
   "outputs": [],
   "source": []
  },
  {
   "cell_type": "code",
   "execution_count": 138,
   "id": "5f83451a",
   "metadata": {
    "scrolled": true
   },
   "outputs": [],
   "source": [
    "# delta_BS_put(100,100,0.5, 0, 1)\n",
    "last_prices = []\n",
    "root_put_replicated_payoff = []\n",
    "root_put_true_payoff = []\n",
    "\n",
    "# x0 = 50\n",
    "# y0 = x0 / K\n",
    "\n",
    "\n",
    "# S0 = option['K']\n",
    "x0 = option['x0']\n",
    "K = option['K']\n",
    "T = option['T']\n",
    "r = option['r']\n",
    "sigma = option['sigma']\n",
    "\n",
    "for i in range(len(all_paths[:])):\n",
    "    asset = 0  \n",
    "    initial_usdc = 0\n",
    "    usdc = initial_usdc\n",
    "    prev_asset = asset\n",
    "    \n",
    "    for j in range(len(all_paths[i])):\n",
    "        t = (T / steps) * j\n",
    "        prev_asset = asset\n",
    "        asset = new_way_BS_delta_root_put(x0, all_paths[i][j], K, T-t, r, sigma)\n",
    "        usdc = usdc - (asset - prev_asset) * all_paths[i][j] \n",
    "#         print(asset, usdc)\n",
    "\n",
    "    last_prices.append(all_paths[i][-1])\n",
    "    root_put_replicated_payoff.append(asset*all_paths[i][-1] + usdc - initial_usdc)\n",
    "    \n",
    "    root_put_true_payoff.append(max(0, (2*x0) - (2*np.sqrt(x0**2 / K))* np.sqrt(all_paths[i][-1]) ) - BS_root_put(x0, K, K, T, r, sigma))\n",
    "\n",
    "# print(all_paths[1][-1])\n",
    "# print(asset*all_paths[1][-1]+ usdc)\n",
    "        "
   ]
  },
  {
   "cell_type": "code",
   "execution_count": 139,
   "id": "1b5d7161",
   "metadata": {
    "scrolled": false
   },
   "outputs": [
    {
     "name": "stdout",
     "output_type": "stream",
     "text": [
      "[<matplotlib.lines.Line2D object at 0x7f896afa4e50>]\n",
      "[<matplotlib.lines.Line2D object at 0x7f895915c2e0>]\n"
     ]
    },
    {
     "data": {
      "text/plain": [
       "<matplotlib.legend.Legend at 0x7f895915c4c0>"
      ]
     },
     "execution_count": 139,
     "metadata": {},
     "output_type": "execute_result"
    },
    {
     "data": {
      "image/png": "[encoded data removed]",
      "text/plain": [
       "<Figure size 432x288 with 1 Axes>"
      ]
     },
     "metadata": {},
     "output_type": "display_data"
    }
   ],
   "source": [
    "print(plt.plot(last_prices, root_put_true_payoff, 'bo'))\n",
    "print(plt.plot(last_prices, root_put_replicated_payoff, 'o'))\n",
    "plt.title('true payoff VS replicated [root-put]')\n",
    "plt.legend(['true', 'replicated'])\n",
    "# plt.xlim(xmax=150)"
   ]
  },
  {
   "cell_type": "markdown",
   "id": "f65c9ab2",
   "metadata": {},
   "source": [
    "### The final total value portfolio of a liquidity provider with curved option hedging:"
   ]
  },
  {
   "cell_type": "code",
   "execution_count": 140,
   "id": "f209a28a",
   "metadata": {},
   "outputs": [],
   "source": [
    "# np.array(replicated_payoff)"
   ]
  },
  {
   "cell_type": "code",
   "execution_count": 141,
   "id": "b919d85a",
   "metadata": {},
   "outputs": [],
   "source": [
    "# x0 - amount in usdc\n",
    "# y0 = x0 / K\n",
    "# K - eth price at the moment of providing liquidity to AMM\n",
    "# S - eth price at the maturity of option\n",
    "\n",
    "def uniswapV2_TV(x0,K,S):\n",
    "    return 2*x0*np.sqrt(S/K)"
   ]
  },
  {
   "cell_type": "code",
   "execution_count": 142,
   "id": "18e4a6be",
   "metadata": {
    "scrolled": true
   },
   "outputs": [],
   "source": [
    "last_prices = np.array(last_prices)"
   ]
  },
  {
   "cell_type": "code",
   "execution_count": 143,
   "id": "f20b936f",
   "metadata": {},
   "outputs": [],
   "source": [
    "x0 = option['x0']\n",
    "# S0 = option['K']\n",
    "K = option['K']\n",
    "T = option['T']\n",
    "r = option['r']\n",
    "sigma = option['sigma']\n",
    "\n",
    "\n",
    "uniV2_tvs = np.array([uniswapV2_TV(x0, K, price) for price in last_prices])"
   ]
  },
  {
   "cell_type": "code",
   "execution_count": 144,
   "id": "b4a33228",
   "metadata": {},
   "outputs": [],
   "source": [
    "\n",
    "HODLETH = [(2*x0 / K)*price for price in sorted(last_prices)]\n",
    "# HODL"
   ]
  },
  {
   "cell_type": "code",
   "execution_count": 145,
   "id": "a97d9c71",
   "metadata": {},
   "outputs": [],
   "source": [
    "PURE_USDC = [2*x0]*len(last_prices)"
   ]
  },
  {
   "cell_type": "code",
   "execution_count": 146,
   "id": "1e00edfc",
   "metadata": {},
   "outputs": [
    {
     "name": "stdout",
     "output_type": "stream",
     "text": [
      "[<matplotlib.lines.Line2D object at 0x7f896bcae730>]\n",
      "[<matplotlib.lines.Line2D object at 0x7f896bcaeb20>]\n",
      "[<matplotlib.lines.Line2D object at 0x7f896bcaeeb0>]\n",
      "[<matplotlib.lines.Line2D object at 0x7f896bdd8190>]\n"
     ]
    },
    {
     "data": {
      "text/plain": [
       "(28.79426613073008, 1000.0)"
      ]
     },
     "execution_count": 146,
     "metadata": {},
     "output_type": "execute_result"
    },
    {
     "data": {
      "image/png": "[encoded data removed]",
      "text/plain": [
       "<Figure size 432x288 with 1 Axes>"
      ]
     },
     "metadata": {},
     "output_type": "display_data"
    }
   ],
   "source": [
    "print(plt.plot(last_prices, uniV2_tvs, 'o'))\n",
    "print(plt.plot(last_prices, uniV2_tvs + root_put_replicated_payoff, \"bo\"))\n",
    "print(plt.plot(sorted(last_prices), HODLETH))\n",
    "print(plt.plot(last_prices, PURE_USDC))\n",
    "plt.xlabel('eth price')\n",
    "plt.ylabel('TV')\n",
    "plt.title(\"LP's total value in usdc (uni V2)\")\n",
    "plt.legend(['pure LP', 'hedging', 'HODL ETH', 'PURE USDC'])\n",
    "plt.ylim(ymax=1000)"
   ]
  },
  {
   "cell_type": "code",
   "execution_count": null,
   "id": "ff52849c",
   "metadata": {},
   "outputs": [],
   "source": []
  },
  {
   "cell_type": "code",
   "execution_count": null,
   "id": "7f73b608",
   "metadata": {},
   "outputs": [],
   "source": []
  },
  {
   "cell_type": "code",
   "execution_count": 147,
   "id": "2ac631fe",
   "metadata": {},
   "outputs": [
    {
     "name": "stdout",
     "output_type": "stream",
     "text": [
      "[<matplotlib.lines.Line2D object at 0x7f896c4e6a90>]\n"
     ]
    },
    {
     "data": {
      "text/plain": [
       "Text(0.5, 1.0, 'root-put delta')"
      ]
     },
     "execution_count": 147,
     "metadata": {},
     "output_type": "execute_result"
    },
    {
     "data": {
      "image/png": "[encoded data removed]",
      "text/plain": [
       "<Figure size 432x288 with 1 Axes>"
      ]
     },
     "metadata": {},
     "output_type": "display_data"
    }
   ],
   "source": [
    "stock_prices = [x for x in range(10, 5*K, 10)]\n",
    "\n",
    "\n",
    "x0 = option['x0']\n",
    "S0 = option['K']\n",
    "K = option['K']\n",
    "T = option['T']\n",
    "r = option['r']\n",
    "sigma = option['sigma']\n",
    "\n",
    "\n",
    "put_prices = [new_way_BS_delta_root_put(x0, price, K, T, r, sigma) for price in stock_prices]\n",
    "\n",
    "print(plt.plot(stock_prices, put_prices, 'ro'))\n",
    "plt.xlabel('eth price')\n",
    "plt.ylabel('delta')\n",
    "plt.title('root-put delta')"
   ]
  },
  {
   "cell_type": "markdown",
   "id": "83b6c2c0",
   "metadata": {},
   "source": [
    "## Short 'root' call replication:"
   ]
  },
  {
   "cell_type": "code",
   "execution_count": null,
   "id": "1d3114dd",
   "metadata": {},
   "outputs": [],
   "source": []
  },
  {
   "cell_type": "code",
   "execution_count": 27,
   "id": "e22c101a",
   "metadata": {},
   "outputs": [],
   "source": [
    "def BS_root_call(x0, S, K, T, r, sigma):\n",
    "    TV0 = 2 * x0\n",
    "    z1 = -(np.log(S/K) + (r - 0.5*sigma**2)*T)/np.sqrt(T)/sigma\n",
    "\n",
    "    \n",
    "    first_part = (np.exp(-r*T) * TV0) * N(-z1)\n",
    "    _r = r/2\n",
    "    _sigma = sigma / 2\n",
    "    z2 = z1 - _sigma * np.sqrt(T)\n",
    "    second_part = (np.exp(-r*T) * TV0*np.sqrt(S/K)) * (np.exp(-0.5 * _sigma**2 * T)*np.exp(_r*T)) * N(-z2)\n",
    "    \n",
    "    return -first_part + second_part\n",
    "    "
   ]
  },
  {
   "cell_type": "code",
   "execution_count": 28,
   "id": "5ac5b667",
   "metadata": {},
   "outputs": [],
   "source": [
    "def delta_BS_root_call(x0, S, K, T, r, sigma):\n",
    "    z1 = -(np.log(S/K) + (r - 0.5*sigma**2)*T)/np.sqrt(T)/sigma\n",
    "    _r = r/2\n",
    "    _sigma = sigma / 2\n",
    "    z2 = z1 - _sigma * np.sqrt(T)\n",
    "    \n",
    "    return (np.exp(-r*T) * x0 / np.sqrt(K*S)) * (np.exp(-0.5 * _sigma**2 * T)*np.exp(_r*T)) * N(-z2)"
   ]
  },
  {
   "cell_type": "code",
   "execution_count": 30,
   "id": "27fb4600",
   "metadata": {},
   "outputs": [
    {
     "data": {
      "text/plain": [
       "3.2641086048406365"
      ]
     },
     "execution_count": 30,
     "metadata": {},
     "output_type": "execute_result"
    }
   ],
   "source": [
    "delta_BS_root_call(250, 57, 50, 0.25, 0.01, 0.5)"
   ]
  },
  {
   "cell_type": "code",
   "execution_count": 150,
   "id": "86919a3b",
   "metadata": {},
   "outputs": [],
   "source": [
    "x0 = option['x0']\n",
    "S0 = option['K'] #1000\n",
    "K = option['K']\n",
    "T = option['T']\n",
    "r = option['r']\n",
    "sigma = option['sigma']"
   ]
  },
  {
   "cell_type": "code",
   "execution_count": 151,
   "id": "e78d16bc",
   "metadata": {},
   "outputs": [],
   "source": [
    "# strikes = [x for x in range(100, 2000)]\n",
    "# prices_bs_root_call = [BS_root_call(x0, S0, strike, T, r, sigma) for strike in strikes]\n",
    "# deltas_bs_root_call = [delta_BS_root_call(x0, S0, strike, T, r, sigma) for strike in strikes]"
   ]
  },
  {
   "cell_type": "code",
   "execution_count": 152,
   "id": "bb175edf",
   "metadata": {
    "scrolled": true
   },
   "outputs": [],
   "source": [
    "# plt.plot(strikes, prices_bs_root_call)"
   ]
  },
  {
   "cell_type": "code",
   "execution_count": 153,
   "id": "9c5e63aa",
   "metadata": {},
   "outputs": [],
   "source": [
    "# plt.plot(strikes, deltas_bs_root_call)"
   ]
  },
  {
   "cell_type": "code",
   "execution_count": null,
   "id": "61e65391",
   "metadata": {},
   "outputs": [],
   "source": []
  },
  {
   "cell_type": "code",
   "execution_count": 154,
   "id": "160a3e2a",
   "metadata": {},
   "outputs": [],
   "source": [
    "# delta_BS_put(100,100,0.5, 0, 1)\n",
    "last_prices = []\n",
    "root_call_replicated_payoff = []\n",
    "root_call_true_payoff = []\n",
    "\n",
    "# x0 = 50\n",
    "# y0 = x0 / K\n",
    "\n",
    "\n",
    "# S0 = option['K']\n",
    "x0 = option['x0']\n",
    "K = option['K']\n",
    "T = option['T']\n",
    "r = option['r']\n",
    "sigma = option['sigma']\n",
    "\n",
    "for i in range(len(all_paths[:])):\n",
    "    asset = 0  \n",
    "    initial_usdc = 0\n",
    "    usdc = initial_usdc\n",
    "    prev_asset = asset\n",
    "    \n",
    "    for j in range(len(all_paths[i])):\n",
    "        t = (T / steps) * j\n",
    "        prev_asset = asset\n",
    "        asset = delta_BS_root_call(x0, all_paths[i][j], K, T-t, r, sigma)\n",
    "        usdc = usdc - (asset - prev_asset) * all_paths[i][j] \n",
    "#         print(asset, usdc)\n",
    "\n",
    "    last_prices.append(all_paths[i][-1])\n",
    "    root_call_replicated_payoff.append(asset*all_paths[i][-1] + usdc - initial_usdc)\n",
    "    \n",
    "    root_call_true_payoff.append(max(0, (2*np.sqrt(x0**2 / K))* np.sqrt(all_paths[i][j]) - (2*x0)) - BS_root_call(x0, K, K, T, r, sigma))\n",
    "\n",
    "# print(all_paths[1][-1])\n",
    "# print(asset*all_paths[1][-1]+ usdc)\n",
    "        "
   ]
  },
  {
   "cell_type": "code",
   "execution_count": 155,
   "id": "28c34699",
   "metadata": {},
   "outputs": [
    {
     "name": "stdout",
     "output_type": "stream",
     "text": [
      "[<matplotlib.lines.Line2D object at 0x7f891810d700>]\n",
      "[<matplotlib.lines.Line2D object at 0x7f891810da90>]\n"
     ]
    },
    {
     "data": {
      "text/plain": [
       "Text(0.5, 0, 'eth price')"
      ]
     },
     "execution_count": 155,
     "metadata": {},
     "output_type": "execute_result"
    },
    {
     "data": {
      "image/png": "[encoded data removed]",
      "text/plain": [
       "<Figure size 432x288 with 1 Axes>"
      ]
     },
     "metadata": {},
     "output_type": "display_data"
    }
   ],
   "source": [
    "print(plt.plot(last_prices, root_call_true_payoff, 'bo'))\n",
    "print(plt.plot(last_prices, root_call_replicated_payoff, 'o'))\n",
    "plt.title('true payoff VS replicated [root-call]')\n",
    "plt.legend(['true', 'replicated'])\n",
    "plt.xlabel('eth price')\n",
    "# plt.xlim(xmax=150)"
   ]
  },
  {
   "cell_type": "markdown",
   "id": "f4d88323",
   "metadata": {},
   "source": [
    "## If user wants to replicate the short root-call option:"
   ]
  },
  {
   "cell_type": "code",
   "execution_count": 156,
   "id": "14c52705",
   "metadata": {},
   "outputs": [],
   "source": [
    "last_prices = []\n",
    "short_root_call_replicated_payoff = []\n",
    "short_root_call_true_payoff = []\n",
    "\n",
    "# x0 = 50\n",
    "# y0 = x0 / K\n",
    "\n",
    "\n",
    "# S0 = option['K']\n",
    "x0 = option['x0']\n",
    "K = option['K'] * 1.25\n",
    "T = option['T']\n",
    "r = option['r']\n",
    "sigma = option['sigma']\n",
    "\n",
    "for i in range(len(all_paths[:])):\n",
    "    asset = 0  \n",
    "    initial_usdc = 0\n",
    "    usdc = initial_usdc\n",
    "    prev_asset = asset\n",
    "    \n",
    "    for j in range(len(all_paths[i])):\n",
    "        t = (T / steps) * j\n",
    "        prev_asset = asset\n",
    "        asset = -delta_BS_root_call(x0, all_paths[i][j], K, T-t, r, sigma)\n",
    "        usdc = usdc - (asset - prev_asset) * all_paths[i][j] \n",
    "#         print(asset, usdc)\n",
    "\n",
    "    last_prices.append(all_paths[i][-1])\n",
    "    short_root_call_replicated_payoff.append(asset*all_paths[i][-1] + usdc - initial_usdc)\n",
    "    \n",
    "#     short_root_call_true_payoff.append(-(max(0, (2*np.sqrt(x0**2 / K))* np.sqrt(all_paths[i][j]) - (2*x0)) - BS_root_call(x0, K, K, T, r, sigma)))\n",
    "\n",
    "# print(all_paths[1][-1])\n",
    "# print(asset*all_paths[1][-1]+ usdc)\n",
    "        "
   ]
  },
  {
   "cell_type": "code",
   "execution_count": 157,
   "id": "069eca08",
   "metadata": {},
   "outputs": [
    {
     "name": "stdout",
     "output_type": "stream",
     "text": [
      "[<matplotlib.lines.Line2D object at 0x7f896c309760>]\n"
     ]
    },
    {
     "data": {
      "text/plain": [
       "Text(0.5, 0, 'eth price')"
      ]
     },
     "execution_count": 157,
     "metadata": {},
     "output_type": "execute_result"
    },
    {
     "data": {
      "image/png": "[encoded data removed]",
      "text/plain": [
       "<Figure size 432x288 with 1 Axes>"
      ]
     },
     "metadata": {},
     "output_type": "display_data"
    }
   ],
   "source": [
    "# print(plt.plot(last_prices, (short_root_call_true_payoff), 'bo'))\n",
    "print(plt.plot(last_prices, (short_root_call_replicated_payoff), 'o'))\n",
    "plt.title('replicated')\n",
    "# plt.legend(['true', 'replicated'])\n",
    "plt.xlabel('eth price')\n",
    "# plt.xlim(xmax=150)"
   ]
  },
  {
   "cell_type": "markdown",
   "id": "baab81d5",
   "metadata": {},
   "source": [
    "### Combining the uniswap V2 LP position, long put, short call together:\n",
    "#### Suppose strike of short call is: $1.5 K$"
   ]
  },
  {
   "cell_type": "code",
   "execution_count": 158,
   "id": "85e721c3",
   "metadata": {},
   "outputs": [],
   "source": [
    "short_root_call_replicated_payoff = np.array(short_root_call_replicated_payoff)"
   ]
  },
  {
   "cell_type": "code",
   "execution_count": 196,
   "id": "e662d6af",
   "metadata": {},
   "outputs": [
    {
     "name": "stdout",
     "output_type": "stream",
     "text": [
      "[<matplotlib.lines.Line2D object at 0x7f896c3b8040>]\n",
      "[<matplotlib.lines.Line2D object at 0x7f896c3b8430>]\n",
      "[<matplotlib.lines.Line2D object at 0x7f896c3b85e0>]\n",
      "[<matplotlib.lines.Line2D object at 0x7f896c3b8e80>]\n",
      "[<matplotlib.lines.Line2D object at 0x7f896be97d60>]\n"
     ]
    },
    {
     "data": {
      "image/png": "[encoded data removed]",
      "text/plain": [
       "<Figure size 648x504 with 1 Axes>"
      ]
     },
     "metadata": {},
     "output_type": "display_data"
    }
   ],
   "source": [
    "print(plt.plot(last_prices, uniV2_tvs, 'o'))\n",
    "print(plt.plot(last_prices, uniV2_tvs + root_put_replicated_payoff, \"bo\"))\n",
    "print(plt.plot(sorted(last_prices), HODLETH))\n",
    "print(plt.plot(last_prices, PURE_USDC))\n",
    "print(plt.plot(last_prices, uniV2_tvs + root_put_replicated_payoff + short_root_call_replicated_payoff, \"o\"))\n",
    "plt.xlabel('eth price')\n",
    "plt.ylabel('TV')\n",
    "plt.title(\"LP's total value in usdc (uni V2)\\n\\n (call*, put* means curved)\")\n",
    "plt.legend(['pure LP', 'LP + long put*', 'hodl ETH', 'pure USDC', 'LP + long put* + short call*'])\n",
    "plt.ylim(ymax=1000)\n",
    "plt.rcParams[\"figure.figsize\"] = (9,7)"
   ]
  },
  {
   "cell_type": "code",
   "execution_count": null,
   "id": "319683d5",
   "metadata": {},
   "outputs": [],
   "source": []
  },
  {
   "cell_type": "code",
   "execution_count": 18,
   "id": "d1e167d1",
   "metadata": {},
   "outputs": [],
   "source": [
    "from scipy.integrate import quad"
   ]
  },
  {
   "cell_type": "code",
   "execution_count": 107,
   "id": "575b1028",
   "metadata": {},
   "outputs": [],
   "source": [
    "x0 = option['x0']\n",
    "S0 = option['K']\n",
    "K = option['K']\n",
    "T = option['T']\n",
    "r = option['r']\n",
    "sigma = option['sigma']"
   ]
  },
  {
   "cell_type": "code",
   "execution_count": 109,
   "id": "82133cff",
   "metadata": {},
   "outputs": [
    {
     "data": {
      "text/plain": [
       "69.95634063620128"
      ]
     },
     "execution_count": 109,
     "metadata": {},
     "output_type": "execute_result"
    }
   ],
   "source": [
    "BS_root_put(x0, S0, K, T, r, sigma)"
   ]
  },
  {
   "cell_type": "code",
   "execution_count": null,
   "id": "9cfdeea6",
   "metadata": {},
   "outputs": [],
   "source": []
  },
  {
   "cell_type": "code",
   "execution_count": 20,
   "id": "8a407185",
   "metadata": {},
   "outputs": [],
   "source": [
    "# This function works correctly\n",
    "\n",
    "# S is the price at time t (not T)\n",
    "def num_new_way_BS_delta_root_put(z, x0, S, K, T, r, sigma):\n",
    "    return -(2*x0/np.sqrt(K)*(0.5/np.sqrt(S))*np.exp(0.5 * (r - 0.5*sigma**2)*T + 0.5*sigma*np.sqrt(T)*z))*norm.pdf(z)\n",
    "\n"
   ]
  },
  {
   "cell_type": "code",
   "execution_count": null,
   "id": "71f283c4",
   "metadata": {},
   "outputs": [],
   "source": [
    "# not works\n",
    "def num_root_put(z, x0, S, K, T, r, sigma):\n",
    "    \n",
    "    return -(2*x0/np.sqrt(K)*(0.5/np.sqrt(S))*np.exp(0.5 * (r - 0.5*sigma**2)*T + 0.5*sigma*np.sqrt(T)*z))*norm.pdf(z)\n",
    "    "
   ]
  },
  {
   "cell_type": "code",
   "execution_count": null,
   "id": "66e67afe",
   "metadata": {},
   "outputs": [],
   "source": []
  },
  {
   "cell_type": "code",
   "execution_count": 21,
   "id": "af20db2a",
   "metadata": {
    "scrolled": true
   },
   "outputs": [
    {
     "data": {
      "text/plain": [
       "-0.24382747800708315"
      ]
     },
     "execution_count": 21,
     "metadata": {},
     "output_type": "execute_result"
    }
   ],
   "source": [
    "x0 = option['x0']\n",
    "S0 = option['K']\n",
    "K = option['K']\n",
    "T = option['T']\n",
    "r = option['r']\n",
    "sigma = option['sigma']\n",
    "\n",
    "new_way_BS_delta_root_put(x0, K, K, T, r, sigma)\n"
   ]
  },
  {
   "cell_type": "code",
   "execution_count": 110,
   "id": "b0eb5df1",
   "metadata": {},
   "outputs": [
    {
     "data": {
      "text/plain": [
       "(-1.1949968522913748, 1.2286935845191086e-12)"
      ]
     },
     "execution_count": 110,
     "metadata": {},
     "output_type": "execute_result"
    }
   ],
   "source": [
    "z2 = -(np.log(S0/K) + (r - 0.5*sigma**2)*T)/np.sqrt(T)/sigma\n",
    "\n",
    "I = quad(num_new_way_BS_delta_root_put, -100, z2, args=(x0,K,K,T,r,sigma))\n",
    "I"
   ]
  },
  {
   "cell_type": "code",
   "execution_count": null,
   "id": "e921b2e5",
   "metadata": {},
   "outputs": [],
   "source": []
  }
 ],
 "metadata": {
  "kernelspec": {
   "display_name": "Python 3",
   "language": "python",
   "name": "python3"
  },
  "language_info": {
   "codemirror_mode": {
    "name": "ipython",
    "version": 3
   },
   "file_extension": ".py",
   "mimetype": "text/x-python",
   "name": "python",
   "nbconvert_exporter": "python",
   "pygments_lexer": "ipython3",
   "version": "3.8.8"
  }
 },
 "nbformat": 4,
 "nbformat_minor": 5
}
