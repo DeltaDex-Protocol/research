{
 "cells": [
  {
   "cell_type": "markdown",
   "id": "d631ce8b",
   "metadata": {},
   "source": [
    "Heston Model"
   ]
  },
  {
   "cell_type": "code",
   "execution_count": 28,
   "id": "0ee7623c",
   "metadata": {},
   "outputs": [],
   "source": [
    "import numpy as np\n",
    "i = complex(0, 1)\n",
    "\n",
    "# To be used in the Heston pricer\n",
    "def fHeston(s, St, K, r, T, sigma, kappa, theta, volvol, rho):\n",
    "    # To be used a lot\n",
    "    prod = rho * sigma * i * s\n",
    "\n",
    "    # Calculate d\n",
    "    d1 = (prod - kappa)**2\n",
    "    d2 = (sigma**2) * (i * s + s**2)\n",
    "    d = np.sqrt(d1 + d2)\n",
    "\n",
    "    # Calculate g\n",
    "    g1 = kappa - prod - d\n",
    "    g2 = kappa - prod + d\n",
    "    g = g1 / g2\n",
    "\n",
    "    # Calculate first exponential\n",
    "    exp1 = np.exp(np.log(St) * i * s) * np.exp(i * s * r * T)\n",
    "    exp2 = 1 - g * np.exp(-d * T)\n",
    "    exp3 = 1 - g\n",
    "    mainExp1 = exp1 * np.power(exp2 / exp3, -2 * theta * kappa/(sigma**2))\n",
    "\n",
    "    # Calculate second exponential\n",
    "    exp4 = theta * kappa * T / (sigma**2)\n",
    "    exp5 = volvol / (sigma**2)\n",
    "    exp6 = (1 - np.exp(-d * T)) / (1 - g * np.exp(-d * T))\n",
    "    mainExp2 = np.exp((exp4 * g1) + (exp5 * g1 * exp6))\n",
    "    return (mainExp1 * mainExp2)\n",
    "\n",
    "# Heston Pricer\n",
    "def priceHestonMid(St, K, r, T, sigma, kappa, theta, volvol, rho):\n",
    "    P, iterations, maxNumber = 0, 1000, 100\n",
    "    ds = maxNumber / iterations\n",
    "    element1 = 0.5 * (St - K * np.exp(-r * T))\n",
    "\n",
    "    # Calculate the complex integral\n",
    "    # Using j instead of i to avoid confusion\n",
    "    for j in range(1, iterations):\n",
    "        s1 = ds * (2 * j + 1) / 2\n",
    "        s2 = s1 - i\n",
    "        numerator1 = fHeston(s2, St, K, r, T, \n",
    "                             sigma, kappa, theta, volvol, rho)\n",
    "        numerator2 = K * fHeston(s1, St, K, r, T, \n",
    "                               sigma, kappa, theta, volvol, rho)\n",
    "        denominator = np.exp(np.log(K) * i * s1) * i * s1\n",
    "        P += ds * (numerator1 - numerator2) / denominator\n",
    "        \n",
    "    element2 = P / np.pi\n",
    "    return np.real((element1 + element2))"
   ]
  },
  {
   "cell_type": "code",
   "execution_count": null,
   "id": "d5073875",
   "metadata": {},
   "outputs": [],
   "source": []
  },
  {
   "cell_type": "markdown",
   "id": "5ec70887",
   "metadata": {},
   "source": [
    "Black Scholes Model and Jump Diffusion Model"
   ]
  },
  {
   "cell_type": "code",
   "execution_count": 126,
   "id": "ca80f405",
   "metadata": {},
   "outputs": [],
   "source": [
    "from scipy.stats import norm\n",
    "\n",
    "N = norm.cdf\n",
    "\n",
    "def BS_CALL(S, K, T, r, sigma):\n",
    "    d1 = (np.log(S/K) + (r + sigma**2/2)*T) / (sigma*np.sqrt(T))\n",
    "    d2 = d1 - sigma * np.sqrt(T)\n",
    "    return S * N(d1) - K * np.exp(-r*T)* N(d2)\n",
    "\n",
    "def BS_PUT(S, K, T, r, sigma):\n",
    "    d1 = (np.log(S/K) + (r + sigma**2/2)*T) / (sigma*np.sqrt(T))\n",
    "    d2 = d1 - sigma* np.sqrt(T)\n",
    "    return K*np.exp(-r*T)*N(-d2) - S*N(-d1)    \n",
    "    \n",
    "    \n",
    "def merton_jump_call(S, K, T, r, sigma, m , v, lam):\n",
    "    p = 0\n",
    "\n",
    "    for k in range(5):\n",
    "        r_k = r - lam*(m-1) + (k*np.log(m) ) / T\n",
    "        sigma_k = np.sqrt( sigma**2 + (k* v** 2) / T)\n",
    "        \n",
    "        k_fact = np.math.factorial(k)\n",
    "        p += (np.exp(-m*lam*T) * (m*lam*T)**k / (k_fact))  * BS_CALL(S, K, T, r_k, sigma_k)\n",
    "    \n",
    "    return p \n",
    "\n",
    "def merton_jump_put(S, K, T, r, sigma, m , v, lam):\n",
    "    p = 0 # price of option\n",
    "    for k in range(40):\n",
    "        r_k = r - lam*(m-1) + (k*np.log(m) ) / T\n",
    "        sigma_k = np.sqrt( sigma**2 + (k* v** 2) / T)\n",
    "        k_fact = np.math.factorial(k) # \n",
    "        p += (np.exp(-m*lam*T) * (m*lam*T)**k / (k_fact)) \\\n",
    "                    * BS_PUT(S, K, T, r_k, sigma_k)\n",
    "    return p "
   ]
  },
  {
   "cell_type": "code",
   "execution_count": null,
   "id": "364ab552",
   "metadata": {},
   "outputs": [],
   "source": []
  },
  {
   "cell_type": "code",
   "execution_count": null,
   "id": "097e7dff",
   "metadata": {},
   "outputs": [],
   "source": []
  },
  {
   "cell_type": "code",
   "execution_count": 127,
   "id": "327bee20",
   "metadata": {},
   "outputs": [
    {
     "data": {
      "text/plain": [
       "11.299459752587682"
      ]
     },
     "execution_count": 127,
     "metadata": {},
     "output_type": "execute_result"
    }
   ],
   "source": [
    "S = 100\n",
    "K = 100\n",
    "T = 1\n",
    "r = 0.1\n",
    "sigma = 0.1\n",
    "m = 1 # meean of jump size\n",
    "v = 0.1 # standard deviation of jump\n",
    "lam = 1 # intensity of jump i.e. number of jumps per annum\n",
    "sigma = 0.1 # annaul standard deviation , for weiner process\n",
    "\n",
    "\n",
    "#print(BS_CALL(S, K, T, r, sigma))\n",
    "#print(BS_PUT(S, K, T, r, sigma))\n",
    "\n",
    "merton_jump_call(S, K, T, r, sigma, m , v, lam)"
   ]
  },
  {
   "cell_type": "code",
   "execution_count": 110,
   "id": "4cbebc3e",
   "metadata": {},
   "outputs": [
    {
     "data": {
      "text/plain": [
       "0.36787944117144233"
      ]
     },
     "execution_count": 110,
     "metadata": {},
     "output_type": "execute_result"
    }
   ],
   "source": [
    "k = 3\n",
    "np.exp(-m*lam*T) * (m*lam*T)**k / (np.math.factorial(k))"
   ]
  },
  {
   "cell_type": "code",
   "execution_count": null,
   "id": "efbfa077",
   "metadata": {},
   "outputs": [],
   "source": []
  },
  {
   "cell_type": "code",
   "execution_count": 32,
   "id": "c0219a98",
   "metadata": {},
   "outputs": [
    {
     "name": "stdout",
     "output_type": "stream",
     "text": [
      "Heston Price = 24.250253497476706\n",
      "Merton Price = 27.671047232833228\n",
      "Black Scholes Price = 26.33169186043942\n"
     ]
    }
   ],
   "source": [
    "# Heston Parameters\n",
    "sigma = 0.8 # volatility \n",
    "kappa = 0.2 # kappa = ?\n",
    "theta = 0.1 # theta = ?\n",
    "volvol = 0.5 # volatility of volatility\n",
    "rho = 0.4 # rho = ?\n",
    "\n",
    "St = 100 # current stock price\n",
    "K = 99.9\n",
    "T = 0.5 # time to maturity\n",
    "r = 0.2 # risk free rate\n",
    "m = 0 # meean of jump size\n",
    "v = 0.3 # standard deviation of jump\n",
    "lam = 1 # intensity of jump i.e. number of jumps per annum\n",
    "sigma = 0.8 # annaul standard deviation , for weiner process\n",
    "\n",
    "cf_price =  merton_jump_call(St, K, T, r, sigma, np.exp(m+v**2*0.5) , v, lam)\n",
    "c = priceHestonMid(St, K, r, T, sigma, kappa, theta, volvol, rho)\n",
    "\n",
    "print('Heston Price =', c)\n",
    "print('Merton Price =', cf_price)\n",
    "print('Black Scholes Price =', BS_CALL(St,K,T,r, sigma))"
   ]
  },
  {
   "cell_type": "code",
   "execution_count": null,
   "id": "204bcece",
   "metadata": {},
   "outputs": [],
   "source": []
  },
  {
   "cell_type": "code",
   "execution_count": null,
   "id": "0939e0bb",
   "metadata": {},
   "outputs": [],
   "source": []
  },
  {
   "cell_type": "code",
   "execution_count": null,
   "id": "6e4dac78",
   "metadata": {},
   "outputs": [],
   "source": []
  },
  {
   "cell_type": "code",
   "execution_count": null,
   "id": "ab255bbc",
   "metadata": {},
   "outputs": [],
   "source": []
  },
  {
   "cell_type": "markdown",
   "id": "b6587b7e",
   "metadata": {},
   "source": [
    "## Rewritten to not use any libraries or dependencies (except numpy)"
   ]
  },
  {
   "cell_type": "markdown",
   "id": "18752ea0",
   "metadata": {},
   "source": [
    "sources:"
   ]
  },
  {
   "cell_type": "code",
   "execution_count": 33,
   "id": "1726c0ce",
   "metadata": {},
   "outputs": [],
   "source": [
    "# https://www.johndcook.com/blog/2009/01/19/stand-alone-error-function-erf/\n",
    "# https://stats.stackexchange.com/questions/187828/how-are-the-error-function-and-standard-normal-distribution-function-related\n",
    "# https://www.johndcook.com/erf_and_normal_cdf.pdf"
   ]
  },
  {
   "cell_type": "code",
   "execution_count": 34,
   "id": "b9fe33b3",
   "metadata": {},
   "outputs": [],
   "source": [
    "import numpy as np"
   ]
  },
  {
   "cell_type": "markdown",
   "id": "8885a89d",
   "metadata": {},
   "source": [
    "norm.pdf as vanilla python function:"
   ]
  },
  {
   "cell_type": "code",
   "execution_count": 35,
   "id": "5dd345c6",
   "metadata": {},
   "outputs": [],
   "source": [
    "def pdf(x):\n",
    "    y = np.exp((-1 * x**2)/2) / np.sqrt(2*np.pi)\n",
    "    return y"
   ]
  },
  {
   "cell_type": "code",
   "execution_count": 36,
   "id": "7f773a1f",
   "metadata": {},
   "outputs": [
    {
     "name": "stdout",
     "output_type": "stream",
     "text": [
      "0.24197072451914337\n",
      "0.24197072451914337\n"
     ]
    }
   ],
   "source": [
    "print(pdf(-1))\n",
    "print(norm.pdf(-1))"
   ]
  },
  {
   "cell_type": "code",
   "execution_count": null,
   "id": "0729dd9b",
   "metadata": {},
   "outputs": [],
   "source": []
  },
  {
   "cell_type": "markdown",
   "id": "bbb454ef",
   "metadata": {},
   "source": [
    "Error Function:"
   ]
  },
  {
   "cell_type": "code",
   "execution_count": 37,
   "id": "1560fd86",
   "metadata": {},
   "outputs": [],
   "source": [
    "import math\n",
    "\n",
    "def erf(x):\n",
    "    # constants\n",
    "    a1 =  0.254829592\n",
    "    a2 = -0.284496736\n",
    "    a3 =  1.421413741\n",
    "    a4 = -1.453152027\n",
    "    a5 =  1.061405429\n",
    "    p  =  0.3275911\n",
    "\n",
    "    # Save the sign of x\n",
    "    sign = 1\n",
    "    if x < 0:\n",
    "        sign = -1\n",
    "    x = abs(x)\n",
    "\n",
    "    # A & S 7.1.26\n",
    "    t = 1.0/(1.0 + p*x)\n",
    "    y = 1.0 - (((((a5*t + a4)*t) + a3)*t + a2)*t + a1)*t*math.exp(-x*x)\n",
    "\n",
    "    return sign*y"
   ]
  },
  {
   "cell_type": "code",
   "execution_count": 38,
   "id": "c34dae62",
   "metadata": {},
   "outputs": [
    {
     "data": {
      "text/plain": [
       "0.5205000163047472"
      ]
     },
     "execution_count": 38,
     "metadata": {},
     "output_type": "execute_result"
    }
   ],
   "source": [
    "erf(0.5)"
   ]
  },
  {
   "cell_type": "code",
   "execution_count": null,
   "id": "a5ea1e92",
   "metadata": {},
   "outputs": [],
   "source": []
  },
  {
   "cell_type": "code",
   "execution_count": 39,
   "id": "51023a34",
   "metadata": {},
   "outputs": [],
   "source": [
    "def erf(x):\n",
    "    # constants\n",
    "    a1 =  254829592000000000\n",
    "    a2 = -284496736000000000\n",
    "    a3 =  1421413741000000000\n",
    "    a4 = -1453152027000000000\n",
    "    a5 =  1061405429000000000\n",
    "    p  =  327591100000000000\n",
    "\n",
    "    # Save the sign of x\n",
    "    sign = 1\n",
    "    if x < 0:\n",
    "        sign = -1\n",
    "    x = abs(x)\n",
    "\n",
    "    # A & S 7.1.26\n",
    "    t = 1e36/ (1e18 + (p*x) / 1e18)\n",
    "    y = 1e18 - ((((((a5*t/1e18 + a4)*t/1e18) + a3)*t/1e18 + a2)*t/1e18 + a1)*t/1e18) * math.exp((-x*x)/1e36)\n",
    "\n",
    "    return sign*y"
   ]
  },
  {
   "cell_type": "code",
   "execution_count": 40,
   "id": "c87b6759",
   "metadata": {
    "scrolled": true
   },
   "outputs": [
    {
     "data": {
      "text/plain": [
       "5.20500016304747e+17"
      ]
     },
     "execution_count": 40,
     "metadata": {},
     "output_type": "execute_result"
    }
   ],
   "source": [
    "erf(5e17)"
   ]
  },
  {
   "cell_type": "code",
   "execution_count": null,
   "id": "0a221161",
   "metadata": {},
   "outputs": [],
   "source": []
  },
  {
   "cell_type": "markdown",
   "id": "26b76f6b",
   "metadata": {},
   "source": [
    "Converting Error Function to CDF function: \n",
    "\n",
    "source: https://www.johndcook.com/erf_and_normal_cdf.pdf"
   ]
  },
  {
   "cell_type": "code",
   "execution_count": 41,
   "id": "d08df8e0",
   "metadata": {},
   "outputs": [],
   "source": [
    "import math\n",
    "\n",
    "def erf(x):\n",
    "    # constants\n",
    "    a1 =  0.254829592\n",
    "    a2 = -0.284496736\n",
    "    a3 =  1.421413741\n",
    "    a4 = -1.453152027\n",
    "    a5 =  1.061405429\n",
    "    p  =  0.3275911\n",
    "\n",
    "    # Save the sign of x\n",
    "    sign = 1\n",
    "    if x < 0:\n",
    "        sign = -1\n",
    "    x = abs(x)\n",
    "\n",
    "    # A & S 7.1.26\n",
    "    t = 1.0/(1.0 + p*x)\n",
    "    y = 1.0 - (((((a5*t + a4)*t) + a3)*t + a2)*t + a1)*t*math.exp(-x*x)\n",
    "\n",
    "    return sign*y\n",
    "\n",
    "\n",
    "\n",
    "def cdf(x):\n",
    "    y = (erf(x / np.sqrt(2)) + 1) / 2\n",
    "    return y"
   ]
  },
  {
   "cell_type": "code",
   "execution_count": 42,
   "id": "b964435d",
   "metadata": {},
   "outputs": [
    {
     "data": {
      "text/plain": [
       "0.6914624627239938"
      ]
     },
     "execution_count": 42,
     "metadata": {},
     "output_type": "execute_result"
    }
   ],
   "source": [
    "cdf(0.5)"
   ]
  },
  {
   "cell_type": "code",
   "execution_count": 43,
   "id": "277b8a85",
   "metadata": {
    "scrolled": true
   },
   "outputs": [
    {
     "data": {
      "text/plain": [
       "0.8413447460685429"
      ]
     },
     "execution_count": 43,
     "metadata": {},
     "output_type": "execute_result"
    }
   ],
   "source": [
    "N = norm.cdf\n",
    "N(1)"
   ]
  },
  {
   "cell_type": "code",
   "execution_count": null,
   "id": "fae2d56c",
   "metadata": {},
   "outputs": [],
   "source": []
  },
  {
   "cell_type": "code",
   "execution_count": null,
   "id": "be6aaa0d",
   "metadata": {},
   "outputs": [],
   "source": []
  },
  {
   "cell_type": "code",
   "execution_count": null,
   "id": "e54eeeba",
   "metadata": {},
   "outputs": [],
   "source": []
  },
  {
   "cell_type": "code",
   "execution_count": null,
   "id": "ae73ddaf",
   "metadata": {},
   "outputs": [],
   "source": []
  },
  {
   "cell_type": "code",
   "execution_count": null,
   "id": "08922203",
   "metadata": {},
   "outputs": [],
   "source": []
  },
  {
   "cell_type": "code",
   "execution_count": null,
   "id": "bd4387c5",
   "metadata": {},
   "outputs": [],
   "source": []
  },
  {
   "cell_type": "code",
   "execution_count": 44,
   "id": "15f9d82c",
   "metadata": {},
   "outputs": [],
   "source": [
    "def erf(x):\n",
    "    # constants\n",
    "    a1 =  254829592000000000\n",
    "    a2 = -284496736000000000\n",
    "    a3 =  1421413741000000000\n",
    "    a4 = -1453152027000000000\n",
    "    a5 =  1061405429000000000\n",
    "    p  =  327591100000000000\n",
    "\n",
    "    # Save the sign of x\n",
    "    sign = 1\n",
    "    if x < 0:\n",
    "        sign = -1\n",
    "    x = abs(x)\n",
    "\n",
    "    # A & S 7.1.26\n",
    "    t = 1e36/ (1e18 + (p*x) / 1e18)\n",
    "    y = 1e18 - ((((((a5*t/1e18 + a4)*t/1e18) + a3)*t/1e18 + a2)*t/1e18 + a1)*t/1e18) * math.exp((-x*x)/1e36)\n",
    "\n",
    "    return sign*y\n",
    "\n",
    "def cdf(x):\n",
    "    y = (erf(x * 1e18 / 1414213562373095100) + 1e18) / 2\n",
    "    return y"
   ]
  },
  {
   "cell_type": "code",
   "execution_count": 45,
   "id": "9bf9700a",
   "metadata": {},
   "outputs": [
    {
     "data": {
      "text/plain": [
       "5.019947155784597e+17"
      ]
     },
     "execution_count": 45,
     "metadata": {},
     "output_type": "execute_result"
    }
   ],
   "source": [
    "cdf(0.005*1e18)"
   ]
  },
  {
   "cell_type": "code",
   "execution_count": null,
   "id": "a77ad690",
   "metadata": {},
   "outputs": [],
   "source": []
  },
  {
   "cell_type": "markdown",
   "id": "7765e29b",
   "metadata": {},
   "source": [
    "Rewritten BS functions:"
   ]
  },
  {
   "cell_type": "code",
   "execution_count": 46,
   "id": "d6ee73e8",
   "metadata": {},
   "outputs": [],
   "source": [
    "def BS_CALL(S, K, T, r, sigma):\n",
    "    d1 = (np.log(S/K) + (r + sigma**2/2)*T) / (sigma*np.sqrt(T))\n",
    "    d2 = d1 - sigma * np.sqrt(T)\n",
    "    return S * cdf(d1) - K * np.exp(-r*T)* cdf(d2)\n",
    "\n",
    "\n",
    "def BS_PUT(S, K, T, r, sigma):\n",
    "    d1 = (np.log(S/K) + (r + sigma**2/2)*T) / (sigma*np.sqrt(T))\n",
    "    d2 = d1 - sigma* np.sqrt(T)\n",
    "    return K*np.exp(-r*T)*cdf(-d2) - S*cdf(-d1)   \n",
    "\n",
    "\n",
    "def merton_jump_call(S, K, T, r, sigma, m , v, lam):\n",
    "    p = 0\n",
    "    for k in range(40):\n",
    "        r_k = r - lam*(m-1) + (k*np.log(m) ) / T\n",
    "        sigma_k = np.sqrt( sigma**2 + (k* v** 2) / T)\n",
    "        k_fact = np.math.factorial(k)\n",
    "        p += (np.exp(-m*lam*T) * (m*lam*T)**k / (k_fact))  * BS_CALL(S, K, T, r_k, sigma_k)\n",
    "    \n",
    "    return p \n",
    "\n",
    "def merton_jump_put(S, K, T, r, sigma, m , v, lam):\n",
    "    p = 0 # price of option\n",
    "    for k in range(40):\n",
    "        r_k = r - lam*(m-1) + (k*np.log(m) ) / T\n",
    "        sigma_k = np.sqrt( sigma**2 + (k* v** 2) / T)\n",
    "        k_fact = np.math.factorial(k) # \n",
    "        p += (np.exp(-m*lam*T) * (m*lam*T)**k / (k_fact)) \\\n",
    "                    * BS_PUT(S, K, T, r_k, sigma_k)\n",
    "    return p"
   ]
  },
  {
   "cell_type": "code",
   "execution_count": null,
   "id": "15e86a8c",
   "metadata": {},
   "outputs": [],
   "source": []
  },
  {
   "cell_type": "code",
   "execution_count": 47,
   "id": "0cf77908",
   "metadata": {},
   "outputs": [
    {
     "data": {
      "text/plain": [
       "4.758129102960157e+18"
      ]
     },
     "execution_count": 47,
     "metadata": {},
     "output_type": "execute_result"
    }
   ],
   "source": [
    "S = 100\n",
    "K = 100\n",
    "T = 1\n",
    "r = 0.1\n",
    "sigma = 0.1\n",
    "\n",
    "BS_CALL(S, K, T, r, sigma)"
   ]
  },
  {
   "cell_type": "code",
   "execution_count": null,
   "id": "bb05014e",
   "metadata": {},
   "outputs": [],
   "source": []
  },
  {
   "cell_type": "code",
   "execution_count": null,
   "id": "d73cd978",
   "metadata": {},
   "outputs": [],
   "source": []
  },
  {
   "cell_type": "code",
   "execution_count": null,
   "id": "f9157bfe",
   "metadata": {},
   "outputs": [],
   "source": [
    "def erf(x):\n",
    "    # constants\n",
    "    a1 =  254829592000000000\n",
    "    a2 = -284496736000000000\n",
    "    a3 =  1421413741000000000\n",
    "    a4 = -1453152027000000000\n",
    "    a5 =  1061405429000000000\n",
    "    p  =  327591100000000000\n",
    "\n",
    "    # Save the sign of x\n",
    "    sign = 1\n",
    "    if x < 0:\n",
    "        sign = -1\n",
    "    x = abs(x)\n",
    "\n",
    "    # A & S 7.1.26\n",
    "    t = 1e36/ (1e18 + (p*x) / 1e18)\n",
    "    y = 1e18 - ((((((a5*t/1e18 + a4)*t/1e18) + a3)*t/1e18 + a2)*t/1e18 + a1)*t/1e18) * math.exp((-x*x)/1e36)\n",
    "\n",
    "    return sign*y\n",
    "\n",
    "def cdf(x):\n",
    "    y = (erf(x * 1e18 / 1414213562373095100) + 1e18) / 2\n",
    "    return y\n",
    "\n",
    "\n",
    "def BS_CALL(S, K, T, r, sigma):\n",
    "    d1 = d_1(S,K,T,r,sigma)\n",
    "    d2 = d_2(d1,sigma,T)\n",
    "    C = c(d1,d2,S,K,T,r,sigma)\n",
    "    return C\n",
    "\n",
    "def d_1(S,K,T,r,sigma):\n",
    "    d1 = (np.log(S/K) + (r + sigma**2/2 / 1e18)*T / 1e18) / (sigma*np.sqrt(T) / 1e27)\n",
    "    return d1\n",
    "\n",
    "def d_2(d1,sigma,T):\n",
    "    d2 = d1 - sigma * np.sqrt(T/1e18) \n",
    "    return d2\n",
    "\n",
    "def c(d1,d2,S,K,T,r,sigma):\n",
    "    C = S * cdf(d1) / 1e18 - K * np.exp(-r*T/1e18 / 1e18) * cdf(d2) / 1e18\n",
    "    return C\n",
    "    \n",
    "    \n",
    "St = 100e18 # current stock price\n",
    "K = 100e18\n",
    "T = 1e18 # time to maturity\n",
    "r = 0.1e18 # risk free rate\n",
    "sigma = 0.1e18 # annaul standard deviation , for weiner process\n",
    "\n",
    "BS_CALL(St, K, T, r, sigma)\n"
   ]
  },
  {
   "cell_type": "code",
   "execution_count": null,
   "id": "c6f8c1cb",
   "metadata": {},
   "outputs": [],
   "source": [
    "N = norm.cdf\n",
    "\n",
    "def BS_CALL(S, K, T, r, sigma):\n",
    "    d1 = (np.log(S/K) + (r + sigma**2/2)*T) / (sigma*np.sqrt(T))\n",
    "    d2 = d1 - sigma * np.sqrt(T)    \n",
    "    return S * N(d1) - K * np.exp(-r*T)* N(d2)\n",
    "\n",
    "\n",
    "St = 100 # current stock price\n",
    "K = 80\n",
    "T = 1 # time to maturity\n",
    "r = 0.1 # risk free rate\n",
    "sigma = 0.1 # annaul standard deviation , for weiner process\n",
    "\n",
    "#cf_price =  merton_jump_call(St, K, T, r, sigma, np.exp(m+v**2*0.5) , v, lam)\n",
    "\n",
    "#print('Merton Price =', cf_price)\n",
    "print('Black Scholes Price =', BS_CALL(St,K,T,r, sigma))"
   ]
  },
  {
   "cell_type": "code",
   "execution_count": null,
   "id": "709485b3",
   "metadata": {},
   "outputs": [],
   "source": [
    "N(1.05)"
   ]
  },
  {
   "cell_type": "code",
   "execution_count": null,
   "id": "fe7d259e",
   "metadata": {},
   "outputs": [],
   "source": [
    "# Heston Parameters\n",
    "sigma = 0.8 # volatility \n",
    "kappa = 0.2 # kappa = ?\n",
    "theta = 0.1 # theta = ?\n",
    "volvol = 0.5 # volatility of volatility\n",
    "rho = 0.4 # rho = ?\n",
    "\n",
    "St = 100 # current stock price\n",
    "K = 100\n",
    "T = 1 # time to maturity\n",
    "r = 0.1 # risk free rate\n",
    "m = 0 # meean of jump size\n",
    "v = 0.3 # standard deviation of jump\n",
    "lam = 1 # intensity of jump i.e. number of jumps per annum\n",
    "sigma = 0.1 # annaul standard deviation , for weiner process\n",
    "\n",
    "#cf_price =  merton_jump_call(St, K, T, r, sigma, np.exp(m+v**2*0.5) , v, lam)\n",
    "\n",
    "#print('Merton Price =', cf_price)\n",
    "print('Black Scholes Price =', BS_CALL(St,K,T,r, sigma))\n",
    "\n",
    "print(d1(St,K,T,r, sigma))"
   ]
  },
  {
   "cell_type": "code",
   "execution_count": null,
   "id": "86ab2118",
   "metadata": {},
   "outputs": [],
   "source": [
    "0.105 - 0.1 * np.sqrt(1)"
   ]
  },
  {
   "cell_type": "code",
   "execution_count": null,
   "id": "4bf03774",
   "metadata": {},
   "outputs": [],
   "source": [
    "np.log(1)"
   ]
  },
  {
   "cell_type": "code",
   "execution_count": null,
   "id": "6cd3e3b9",
   "metadata": {},
   "outputs": [],
   "source": [
    "np.log2(1)"
   ]
  },
  {
   "cell_type": "code",
   "execution_count": null,
   "id": "a2066e88",
   "metadata": {},
   "outputs": [],
   "source": []
  },
  {
   "cell_type": "code",
   "execution_count": null,
   "id": "fe98287a",
   "metadata": {},
   "outputs": [],
   "source": []
  },
  {
   "cell_type": "code",
   "execution_count": null,
   "id": "2e3f29c5",
   "metadata": {},
   "outputs": [],
   "source": []
  },
  {
   "cell_type": "code",
   "execution_count": null,
   "id": "f573ee30",
   "metadata": {},
   "outputs": [],
   "source": []
  },
  {
   "cell_type": "code",
   "execution_count": null,
   "id": "4e48f4df",
   "metadata": {},
   "outputs": [],
   "source": []
  },
  {
   "cell_type": "code",
   "execution_count": 20,
   "id": "33d620fa",
   "metadata": {},
   "outputs": [
    {
     "name": "stdout",
     "output_type": "stream",
     "text": [
      "factorial[2] = 4;\n"
     ]
    }
   ],
   "source": [
    "txt = \"factorial[{0}] = {1};\".format(2,4)\n",
    "print(txt)"
   ]
  },
  {
   "cell_type": "code",
   "execution_count": null,
   "id": "d1ab3a7d",
   "metadata": {},
   "outputs": [],
   "source": []
  },
  {
   "cell_type": "code",
   "execution_count": 25,
   "id": "5f0a1ecf",
   "metadata": {},
   "outputs": [
    {
     "name": "stdout",
     "output_type": "stream",
     "text": [
      "factorial[0] = 1;\n",
      "factorial[1] = 1;\n",
      "factorial[2] = 2;\n",
      "factorial[3] = 6;\n",
      "factorial[4] = 24;\n",
      "factorial[5] = 120;\n",
      "factorial[6] = 720;\n",
      "factorial[7] = 5040;\n",
      "factorial[8] = 40320;\n",
      "factorial[9] = 362880;\n",
      "factorial[10] = 3628800;\n",
      "factorial[11] = 39916800;\n",
      "factorial[12] = 479001600;\n",
      "factorial[13] = 6227020800;\n",
      "factorial[14] = 87178291200;\n",
      "factorial[15] = 1307674368000;\n",
      "factorial[16] = 20922789888000;\n",
      "factorial[17] = 355687428096000;\n",
      "factorial[18] = 6402373705728000;\n",
      "factorial[19] = 121645100408832000;\n",
      "factorial[20] = 2432902008176640000;\n",
      "factorial[21] = 51090942171709440000;\n",
      "factorial[22] = 1124000727777607680000;\n",
      "factorial[23] = 25852016738884976640000;\n",
      "factorial[24] = 620448401733239439360000;\n",
      "factorial[25] = 15511210043330985984000000;\n",
      "factorial[26] = 403291461126605635584000000;\n",
      "factorial[27] = 10888869450418352160768000000;\n",
      "factorial[28] = 304888344611713860501504000000;\n",
      "factorial[29] = 8841761993739701954543616000000;\n",
      "factorial[30] = 265252859812191058636308480000000;\n",
      "factorial[31] = 8222838654177922817725562880000000;\n",
      "factorial[32] = 263130836933693530167218012160000000;\n",
      "factorial[33] = 8683317618811886495518194401280000000;\n",
      "factorial[34] = 295232799039604140847618609643520000000;\n",
      "factorial[35] = 10333147966386144929666651337523200000000;\n",
      "factorial[36] = 371993326789901217467999448150835200000000;\n",
      "factorial[37] = 13763753091226345046315979581580902400000000;\n",
      "factorial[38] = 523022617466601111760007224100074291200000000;\n",
      "factorial[39] = 20397882081197443358640281739902897356800000000;\n",
      "factorial[40] = 815915283247897734345611269596115894272000000000;\n"
     ]
    }
   ],
   "source": [
    "for i in range(41):\n",
    "    \n",
    "    factorial = np.math.factorial(i)\n",
    "    \n",
    "    txt = \"factorial[{0}] = {1};\".format(i,factorial)\n",
    "    \n",
    "    print(txt)\n",
    "    "
   ]
  },
  {
   "cell_type": "code",
   "execution_count": null,
   "id": "db8d13cd",
   "metadata": {},
   "outputs": [],
   "source": []
  }
 ],
 "metadata": {
  "kernelspec": {
   "display_name": "Python 3 (ipykernel)",
   "language": "python",
   "name": "python3"
  },
  "language_info": {
   "codemirror_mode": {
    "name": "ipython",
    "version": 3
   },
   "file_extension": ".py",
   "mimetype": "text/x-python",
   "name": "python",
   "nbconvert_exporter": "python",
   "pygments_lexer": "ipython3",
   "version": "3.10.4"
  }
 },
 "nbformat": 4,
 "nbformat_minor": 5
}
