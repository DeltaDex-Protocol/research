{
 "cells": [
  {
   "cell_type": "code",
   "execution_count": 1,
   "id": "7c118b83",
   "metadata": {},
   "outputs": [
    {
     "ename": "ModuleNotFoundError",
     "evalue": "No module named 'numpy'",
     "output_type": "error",
     "traceback": [
      "\u001b[0;31m---------------------------------------------------------------------------\u001b[0m",
      "\u001b[0;31mModuleNotFoundError\u001b[0m                       Traceback (most recent call last)",
      "\u001b[1;32m/home/szabo/Desktop/DeltaDex/research/Impermanent Loss .ipynb Cell 1'\u001b[0m in \u001b[0;36m<cell line: 1>\u001b[0;34m()\u001b[0m\n\u001b[0;32m----> <a href='vscode-notebook-cell:/home/szabo/Desktop/DeltaDex/research/Impermanent%20Loss%20.ipynb#ch0000000?line=0'>1</a>\u001b[0m \u001b[39mimport\u001b[39;00m \u001b[39mnumpy\u001b[39;00m \u001b[39mas\u001b[39;00m \u001b[39mnp\u001b[39;00m\n\u001b[1;32m      <a href='vscode-notebook-cell:/home/szabo/Desktop/DeltaDex/research/Impermanent%20Loss%20.ipynb#ch0000000?line=1'>2</a>\u001b[0m \u001b[39mfrom\u001b[39;00m \u001b[39mscipy\u001b[39;00m\u001b[39m.\u001b[39;00m\u001b[39mstats\u001b[39;00m \u001b[39mimport\u001b[39;00m norm\n\u001b[1;32m      <a href='vscode-notebook-cell:/home/szabo/Desktop/DeltaDex/research/Impermanent%20Loss%20.ipynb#ch0000000?line=3'>4</a>\u001b[0m N \u001b[39m=\u001b[39m norm\u001b[39m.\u001b[39mcdf\n",
      "\u001b[0;31mModuleNotFoundError\u001b[0m: No module named 'numpy'"
     ]
    }
   ],
   "source": [
    "import numpy as np\n",
    "from scipy.stats import norm\n",
    "\n",
    "\n",
    "\n",
    "\n",
    "N = norm.cdf\n",
    "\n",
    "def BS_CALL(S, K, T, r, sigma):\n",
    "    d1 = (np.log(S/K) + (r + sigma**2/2)*T) / (sigma*np.sqrt(T))\n",
    "    d2 = d1 - sigma * np.sqrt(T)\n",
    "    return S * N(d1) - K * np.exp(-r*T)* N(d2)\n",
    "\n",
    "def BS_PUT(S, K, T, r, sigma):\n",
    "    d1 = (np.log(S/K) + (r + sigma**2/2)*T) / (sigma*np.sqrt(T))\n",
    "    d2 = d1 - sigma* np.sqrt(T)\n",
    "    return K*np.exp(-r*T)*N(-d2) - S*N(-d1)    \n",
    "    \n",
    "    \n",
    "def merton_jump_call(S, K, T, r, sigma, m , v, lam):\n",
    "    p = 0\n",
    "\n",
    "\n",
    "    for k in range(5):\n",
    "        r_k = r - lam*(m-1) + (k*np.log(m) ) / T\n",
    "        sigma_k = np.sqrt( sigma**2 + (k* v** 2) / T)\n",
    "        \n",
    "        k_fact = np.math.factorial(k)\n",
    "        p += (np.exp(-m*lam*T) * (m*lam*T)**k / (k_fact))  * BS_CALL(S, K, T, r_k, sigma_k)\n",
    "    \n",
    "    return p \n",
    "\n",
    "def merton_jump_put(S, K, T, r, sigma, m , v, lam):\n",
    "    p = 0 # price of option\n",
    "    for k in range(40):\n",
    "        r_k = r - lam*(m-1) + (k*np.log(m) ) / T\n",
    "        sigma_k = np.sqrt( sigma**2 + (k* v** 2) / T)\n",
    "        k_fact = np.math.factorial(k) # \n",
    "        p += (np.exp(-m*lam*T) * (m*lam*T)**k / (k_fact)) \\\n",
    "                    * BS_PUT(S, K, T, r_k, sigma_k)\n",
    "    return p "
   ]
  },
  {
   "cell_type": "code",
   "execution_count": 2,
   "id": "b3145ce3",
   "metadata": {},
   "outputs": [],
   "source": [
    "import math"
   ]
  },
  {
   "cell_type": "code",
   "execution_count": 8,
   "id": "d8ba30f6",
   "metadata": {},
   "outputs": [],
   "source": [
    "from math import log\n"
   ]
  },
  {
   "cell_type": "code",
   "execution_count": 6,
   "id": "c634cc97",
   "metadata": {},
   "outputs": [
    {
     "data": {
      "text/plain": [
       "2.302585092994046"
      ]
     },
     "execution_count": 6,
     "metadata": {},
     "output_type": "execute_result"
    }
   ],
   "source": []
  },
  {
   "cell_type": "code",
   "execution_count": 2,
   "id": "c432b5bd",
   "metadata": {},
   "outputs": [],
   "source": [
    "S = 100\n",
    "K = 100\n",
    "T = 1\n",
    "r = 0.2\n",
    "sigma = 0.1\n",
    "m = 1 # meean of jump size\n",
    "v = 0.1 # standard deviation of jump\n",
    "lam = 1 # intensity of jump i.e. number of jumps per annum\n",
    "sigma = 0.8 # annaul standard deviation , for weiner process\n",
    "\n",
    "call = merton_jump_call(S, K, T, r, sigma, m , v, lam)\n",
    "put = merton_jump_put(S, K, T, r, sigma, m , v, lam)"
   ]
  },
  {
   "cell_type": "code",
   "execution_count": null,
   "id": "8f1e08d2",
   "metadata": {},
   "outputs": [],
   "source": []
  },
  {
   "cell_type": "code",
   "execution_count": 3,
   "id": "045a5116",
   "metadata": {
    "scrolled": true
   },
   "outputs": [
    {
     "data": {
      "text/plain": [
       "58.44984893164069"
      ]
     },
     "execution_count": 3,
     "metadata": {},
     "output_type": "execute_result"
    }
   ],
   "source": [
    "# buying a call and put at same execution price\n",
    "call*1 + put*1"
   ]
  },
  {
   "cell_type": "code",
   "execution_count": null,
   "id": "6e02684f",
   "metadata": {},
   "outputs": [],
   "source": []
  },
  {
   "cell_type": "code",
   "execution_count": 4,
   "id": "908e1bd3",
   "metadata": {},
   "outputs": [],
   "source": [
    "# starting capital = $1000\n",
    "# ETH/USD = 100\n",
    "# x * y = k \n",
    "# value of x == value of y\n",
    "# i.e. you must deposit 1 to 1 value of tokens in pool"
   ]
  },
  {
   "cell_type": "code",
   "execution_count": 5,
   "id": "d6d42427",
   "metadata": {},
   "outputs": [
    {
     "data": {
      "text/plain": [
       "2500"
      ]
     },
     "execution_count": 5,
     "metadata": {},
     "output_type": "execute_result"
    }
   ],
   "source": [
    "ETH = 5\n",
    "USD = 500\n",
    "\n",
    "k = ETH * USD\n",
    "k"
   ]
  },
  {
   "cell_type": "code",
   "execution_count": 6,
   "id": "4d95c52e",
   "metadata": {},
   "outputs": [],
   "source": [
    "# ETH_USD = 100\n",
    "price = 100"
   ]
  },
  {
   "cell_type": "code",
   "execution_count": 7,
   "id": "ae6c1098",
   "metadata": {},
   "outputs": [
    {
     "name": "stdout",
     "output_type": "stream",
     "text": [
      "Number of ETH deposited to pool: 5.0\n",
      "Number of USD deposited to pool: 500.0\n"
     ]
    }
   ],
   "source": [
    "ETH = (k/price)**0.5\n",
    "USD = (k*price)**0.5\n",
    "\n",
    "print(\"Number of ETH deposited to pool:\", ETH)\n",
    "print(\"Number of USD deposited to pool:\", USD)"
   ]
  },
  {
   "cell_type": "code",
   "execution_count": null,
   "id": "8ff9702b",
   "metadata": {},
   "outputs": [],
   "source": []
  },
  {
   "cell_type": "code",
   "execution_count": 8,
   "id": "83b6ff2a",
   "metadata": {},
   "outputs": [
    {
     "name": "stdout",
     "output_type": "stream",
     "text": [
      "Number of ETH recieved on withdrawl from pool: 3.5355339059327378\n",
      "Number of USD recieved on withdrawl from pool: 707.1067811865476\n"
     ]
    }
   ],
   "source": [
    "# ETH price goes up to 200USD from 100USD\n",
    "price = 200\n",
    "\n",
    "# new balance of tokens \n",
    "ETH = (k/price)**0.5\n",
    "USD = (k*price)**0.5\n",
    "\n",
    "print(\"Number of ETH recieved on withdrawl from pool:\", ETH)\n",
    "print(\"Number of USD recieved on withdrawl from pool:\", USD)"
   ]
  },
  {
   "cell_type": "code",
   "execution_count": 9,
   "id": "4dcebe0f",
   "metadata": {},
   "outputs": [
    {
     "name": "stdout",
     "output_type": "stream",
     "text": [
      "value of portfolio if user decided to deposit liquidity without hedge: 1414.213562373095\n"
     ]
    }
   ],
   "source": [
    "# User decides to withdraw\n",
    "# new value of portfolio in USD\n",
    "\n",
    "value_lp = ETH*price + USD\n",
    "print(\"value of portfolio if user decided to deposit liquidity without hedge:\", value_lp)"
   ]
  },
  {
   "cell_type": "code",
   "execution_count": 10,
   "id": "4071679a",
   "metadata": {},
   "outputs": [
    {
     "name": "stdout",
     "output_type": "stream",
     "text": [
      "value of portfolio if user decided to hodl: 1500\n"
     ]
    }
   ],
   "source": [
    "hodl = 500 + 5*price\n",
    "print(\"value of portfolio if user decided to hodl:\", hodl)"
   ]
  },
  {
   "cell_type": "code",
   "execution_count": 11,
   "id": "0ad1a9aa",
   "metadata": {},
   "outputs": [
    {
     "name": "stdout",
     "output_type": "stream",
     "text": [
      "loss: 0.057190958417936644\n"
     ]
    }
   ],
   "source": [
    "# loss of 5.7%\n",
    "print(\"loss:\", 1 - value_lp/hodl)"
   ]
  },
  {
   "cell_type": "code",
   "execution_count": null,
   "id": "4f295634",
   "metadata": {},
   "outputs": [],
   "source": []
  },
  {
   "cell_type": "code",
   "execution_count": 12,
   "id": "8fb6dfc1",
   "metadata": {},
   "outputs": [
    {
     "name": "stdout",
     "output_type": "stream",
     "text": [
      "price of call and put: 292.24924465820345\n"
     ]
    }
   ],
   "source": [
    "# now let's say the user decides to buy options in addition to depositing to AMM DEX\n",
    "\n",
    "# cost of call and put\n",
    "# 5 options \n",
    "options = call*5 + put*5\n",
    "print(\"price of call and put:\", options)"
   ]
  },
  {
   "cell_type": "code",
   "execution_count": 13,
   "id": "bb2410c4",
   "metadata": {},
   "outputs": [
    {
     "name": "stdout",
     "output_type": "stream",
     "text": [
      "353.8753776708983\n",
      "3.5387537767089827\n"
     ]
    }
   ],
   "source": [
    "# total portfolio value of 200\n",
    "# price is 100\n",
    "\n",
    "USD = (1000 - options) / 2\n",
    "ETH = (1000 - options) / 2 / 100\n",
    "\n",
    "k = ETH * USD\n",
    "\n",
    "print(USD)\n",
    "print(ETH)"
   ]
  },
  {
   "cell_type": "code",
   "execution_count": 14,
   "id": "2545d43e",
   "metadata": {},
   "outputs": [
    {
     "name": "stdout",
     "output_type": "stream",
     "text": [
      "2.5022767924604272\n",
      "500.45535849208545\n"
     ]
    }
   ],
   "source": [
    "ETH = (k/price)**0.5\n",
    "USD = (k*price)**0.5\n",
    "\n",
    "print(ETH)\n",
    "print(USD)"
   ]
  },
  {
   "cell_type": "code",
   "execution_count": 15,
   "id": "1f2e4e24",
   "metadata": {},
   "outputs": [
    {
     "data": {
      "text/plain": [
       "1000.9107169841709"
      ]
     },
     "execution_count": 15,
     "metadata": {},
     "output_type": "execute_result"
    }
   ],
   "source": [
    "# impermanent loss \n",
    "il = ETH*price + USD\n",
    "il"
   ]
  },
  {
   "cell_type": "code",
   "execution_count": 16,
   "id": "0afb9d8f",
   "metadata": {},
   "outputs": [
    {
     "name": "stdout",
     "output_type": "stream",
     "text": [
      "value of portfolio after withdrawing liquidity and executing options 1500.910716984171\n"
     ]
    }
   ],
   "source": [
    "# impermanent loss plus execution of call option\n",
    "il = il - K*5\n",
    "il = il + 5*price\n",
    "print(\"value of portfolio after withdrawing liquidity and executing options\", il)"
   ]
  },
  {
   "cell_type": "code",
   "execution_count": null,
   "id": "1bdaaf03",
   "metadata": {},
   "outputs": [],
   "source": []
  },
  {
   "cell_type": "code",
   "execution_count": null,
   "id": "f0f1aefa",
   "metadata": {},
   "outputs": [],
   "source": []
  },
  {
   "cell_type": "code",
   "execution_count": 17,
   "id": "ca9b01fd",
   "metadata": {},
   "outputs": [],
   "source": [
    "def hodl(value0,price0,price1):\n",
    "    tokenA = value0/2\n",
    "    tokenB = value0/2/price0\n",
    "    \n",
    "    value1 = tokenA + tokenB * price1\n",
    "    return value1"
   ]
  },
  {
   "cell_type": "code",
   "execution_count": 18,
   "id": "ac41aac4",
   "metadata": {},
   "outputs": [
    {
     "data": {
      "text/plain": [
       "1500.0"
      ]
     },
     "execution_count": 18,
     "metadata": {},
     "output_type": "execute_result"
    }
   ],
   "source": [
    "hodl(1000,100,200)"
   ]
  },
  {
   "cell_type": "code",
   "execution_count": 19,
   "id": "fe339bc5",
   "metadata": {},
   "outputs": [],
   "source": [
    "def AMM(value0,price0,price1):\n",
    "    tokenA = value0/2\n",
    "    tokenB = value0/2/price0\n",
    "\n",
    "    k = tokenA * tokenB\n",
    "    \n",
    "    tokenA = (k*price1)**0.5\n",
    "    tokenB = (k/price1)**0.5\n",
    "    \n",
    "    value1 = tokenA + tokenB * price1\n",
    "    return value1"
   ]
  },
  {
   "cell_type": "code",
   "execution_count": 20,
   "id": "cd660e4d",
   "metadata": {
    "scrolled": true
   },
   "outputs": [
    {
     "data": {
      "text/plain": [
       "1414.213562373095"
      ]
     },
     "execution_count": 20,
     "metadata": {},
     "output_type": "execute_result"
    }
   ],
   "source": [
    "AMM(1000,100,200)"
   ]
  },
  {
   "cell_type": "code",
   "execution_count": 21,
   "id": "7dba37dc",
   "metadata": {},
   "outputs": [
    {
     "data": {
      "text/plain": [
       "'\\n## @params\\n\\nvalue0 = value of porfolio at t0\\nprice0 = price of tokenB in tokenA at t0\\nprice1 = price of tokenB in tokenA at t1\\nfactor = amount of tokenB options, 0 means no options, 1 means tokenB_options = value0/2/price0 \\n\\n'"
      ]
     },
     "execution_count": 21,
     "metadata": {},
     "output_type": "execute_result"
    }
   ],
   "source": [
    "\"\"\"\n",
    "## @params\n",
    "\n",
    "value0 = value of porfolio at t0\n",
    "price0 = price of tokenB in tokenA at t0\n",
    "price1 = price of tokenB in tokenA at t1\n",
    "factor = amount of tokenB options, 0 means no options, 1 means tokenB_options = value0/2/price0 \n",
    "\n",
    "\"\"\""
   ]
  },
  {
   "cell_type": "code",
   "execution_count": 22,
   "id": "b34cf6d3",
   "metadata": {},
   "outputs": [],
   "source": [
    "def hedge(value0,price0,price1,factor):\n",
    "    call = merton_jump_call(price0, price0, T, r, sigma, m , v, lam)\n",
    "    put = merton_jump_put(price0, price0, T, r, sigma, m , v, lam)\n",
    "    \n",
    "    # amount tokenB = number of options\n",
    "    # this can be changed for different hedging strategies\n",
    "    tokenA = value0/2\n",
    "    tokenB_options = value0/2/price0 * factor\n",
    "    \n",
    "    # subtracting straddle cost\n",
    "    straddle = call*tokenB_options + put*tokenB_options\n",
    "    value0 -= straddle\n",
    "    \n",
    "    # amount of tokenA and tokenB after purchase of straddle\n",
    "    tokenA = value0/2\n",
    "    tokenB = value0/2/price0\n",
    "    \n",
    "    k = tokenA * tokenB\n",
    "\n",
    "    tokenA = (k*price1)**0.5\n",
    "    tokenB = (k/price1)**0.5\n",
    "    \n",
    "    value1 = tokenA + tokenB * price1\n",
    "    \n",
    "    value1 -= price0 * tokenB_options\n",
    "    value1 += price1 * tokenB_options\n",
    "    return value1\n",
    "    "
   ]
  },
  {
   "cell_type": "code",
   "execution_count": 23,
   "id": "c68acb7d",
   "metadata": {},
   "outputs": [
    {
     "data": {
      "text/plain": [
       "1500.910716984171"
      ]
     },
     "execution_count": 23,
     "metadata": {},
     "output_type": "execute_result"
    }
   ],
   "source": [
    "hedge(1000,100,200,1)"
   ]
  },
  {
   "cell_type": "code",
   "execution_count": null,
   "id": "7ad10d52",
   "metadata": {},
   "outputs": [],
   "source": []
  },
  {
   "cell_type": "code",
   "execution_count": null,
   "id": "089ffe61",
   "metadata": {},
   "outputs": [],
   "source": []
  },
  {
   "cell_type": "code",
   "execution_count": null,
   "id": "40bd7f83",
   "metadata": {},
   "outputs": [],
   "source": []
  },
  {
   "cell_type": "code",
   "execution_count": 24,
   "id": "e12044a0",
   "metadata": {},
   "outputs": [],
   "source": [
    "# df"
   ]
  },
  {
   "cell_type": "code",
   "execution_count": 25,
   "id": "414e0f30",
   "metadata": {},
   "outputs": [],
   "source": [
    "a = []\n",
    "b = []\n",
    "c = []\n",
    "\n",
    "d = []\n",
    "e = []\n",
    "g = []\n",
    "\n",
    "index = []\n",
    "\n",
    "\n",
    "price = 1\n",
    "for i in range(500):\n",
    "    \n",
    "    value1 = hodl(1000,100,price)\n",
    "    value2 = AMM(1000,100,price)\n",
    "    value3 = hedge(1000,100,price,1)\n",
    "    \n",
    "    value4 = hedge(1000,100,price,0.25)\n",
    "    value5 = hedge(1000,100,price,0.5)\n",
    "    value6 = hedge(1000,100,price,0.75)\n",
    "       \n",
    "    a.append(value1)\n",
    "    b.append(value2)\n",
    "    c.append(value3)\n",
    "    \n",
    "    d.append(value4)\n",
    "    e.append(value5)\n",
    "    g.append(value6)\n",
    "    \n",
    "    index.append(i)\n",
    "    \n",
    "    price += 1   "
   ]
  },
  {
   "cell_type": "code",
   "execution_count": null,
   "id": "0da62f21",
   "metadata": {},
   "outputs": [],
   "source": []
  },
  {
   "cell_type": "code",
   "execution_count": 26,
   "id": "df38132e",
   "metadata": {},
   "outputs": [
    {
     "name": "stderr",
     "output_type": "stream",
     "text": [
      "/tmp/ipykernel_40405/2325220366.py:21: FutureWarning: In a future version of pandas all arguments of DataFrame.drop except for the argument 'labels' will be keyword-only.\n",
      "  df = df.drop('hodl', 1)\n",
      "/tmp/ipykernel_40405/2325220366.py:22: FutureWarning: In a future version of pandas all arguments of DataFrame.drop except for the argument 'labels' will be keyword-only.\n",
      "  df = df.drop('1', 1)\n",
      "/tmp/ipykernel_40405/2325220366.py:23: FutureWarning: In a future version of pandas all arguments of DataFrame.drop except for the argument 'labels' will be keyword-only.\n",
      "  df = df.drop('2', 1)\n",
      "/tmp/ipykernel_40405/2325220366.py:24: FutureWarning: In a future version of pandas all arguments of DataFrame.drop except for the argument 'labels' will be keyword-only.\n",
      "  df = df.drop('3', 1)\n",
      "/tmp/ipykernel_40405/2325220366.py:25: FutureWarning: In a future version of pandas all arguments of DataFrame.drop except for the argument 'labels' will be keyword-only.\n",
      "  df = df.drop('4', 1)\n",
      "/tmp/ipykernel_40405/2325220366.py:26: FutureWarning: In a future version of pandas all arguments of DataFrame.drop except for the argument 'labels' will be keyword-only.\n",
      "  df = df.drop('5', 1)\n"
     ]
    },
    {
     "data": {
      "text/html": [
       "<div>\n",
       "<style scoped>\n",
       "    .dataframe tbody tr th:only-of-type {\n",
       "        vertical-align: middle;\n",
       "    }\n",
       "\n",
       "    .dataframe tbody tr th {\n",
       "        vertical-align: top;\n",
       "    }\n",
       "\n",
       "    .dataframe thead th {\n",
       "        text-align: right;\n",
       "    }\n",
       "</style>\n",
       "<table border=\"1\" class=\"dataframe\">\n",
       "  <thead>\n",
       "    <tr style=\"text-align: right;\">\n",
       "      <th></th>\n",
       "      <th>AMM</th>\n",
       "      <th>hedge</th>\n",
       "      <th>hedge 0.25</th>\n",
       "      <th>hedge 0.5</th>\n",
       "      <th>hedge 0.75</th>\n",
       "    </tr>\n",
       "  </thead>\n",
       "  <tbody>\n",
       "    <tr>\n",
       "      <th>0</th>\n",
       "      <td>0.198020</td>\n",
       "      <td>-0.840049</td>\n",
       "      <td>-0.061497</td>\n",
       "      <td>-0.580532</td>\n",
       "      <td>-0.580532</td>\n",
       "    </tr>\n",
       "    <tr>\n",
       "      <th>1</th>\n",
       "      <td>0.277297</td>\n",
       "      <td>-0.764527</td>\n",
       "      <td>0.016841</td>\n",
       "      <td>-0.504071</td>\n",
       "      <td>-0.504071</td>\n",
       "    </tr>\n",
       "    <tr>\n",
       "      <th>2</th>\n",
       "      <td>0.336321</td>\n",
       "      <td>-0.703716</td>\n",
       "      <td>0.076311</td>\n",
       "      <td>-0.443707</td>\n",
       "      <td>-0.443707</td>\n",
       "    </tr>\n",
       "    <tr>\n",
       "      <th>3</th>\n",
       "      <td>0.384615</td>\n",
       "      <td>-0.650865</td>\n",
       "      <td>0.125745</td>\n",
       "      <td>-0.391995</td>\n",
       "      <td>-0.391995</td>\n",
       "    </tr>\n",
       "    <tr>\n",
       "      <th>4</th>\n",
       "      <td>0.425918</td>\n",
       "      <td>-0.603318</td>\n",
       "      <td>0.168609</td>\n",
       "      <td>-0.346009</td>\n",
       "      <td>-0.346009</td>\n",
       "    </tr>\n",
       "    <tr>\n",
       "      <th>...</th>\n",
       "      <td>...</td>\n",
       "      <td>...</td>\n",
       "      <td>...</td>\n",
       "      <td>...</td>\n",
       "      <td>...</td>\n",
       "    </tr>\n",
       "    <tr>\n",
       "      <th>495</th>\n",
       "      <td>0.747351</td>\n",
       "      <td>1.193368</td>\n",
       "      <td>0.858855</td>\n",
       "      <td>1.081864</td>\n",
       "      <td>1.081864</td>\n",
       "    </tr>\n",
       "    <tr>\n",
       "      <th>496</th>\n",
       "      <td>0.746851</td>\n",
       "      <td>1.193576</td>\n",
       "      <td>0.858532</td>\n",
       "      <td>1.081895</td>\n",
       "      <td>1.081895</td>\n",
       "    </tr>\n",
       "    <tr>\n",
       "      <th>497</th>\n",
       "      <td>0.746352</td>\n",
       "      <td>1.193783</td>\n",
       "      <td>0.858209</td>\n",
       "      <td>1.081925</td>\n",
       "      <td>1.081925</td>\n",
       "    </tr>\n",
       "    <tr>\n",
       "      <th>498</th>\n",
       "      <td>0.745853</td>\n",
       "      <td>1.193988</td>\n",
       "      <td>0.857887</td>\n",
       "      <td>1.081955</td>\n",
       "      <td>1.081955</td>\n",
       "    </tr>\n",
       "    <tr>\n",
       "      <th>499</th>\n",
       "      <td>0.745356</td>\n",
       "      <td>1.194193</td>\n",
       "      <td>0.857565</td>\n",
       "      <td>1.081984</td>\n",
       "      <td>1.081984</td>\n",
       "    </tr>\n",
       "  </tbody>\n",
       "</table>\n",
       "<p>500 rows × 5 columns</p>\n",
       "</div>"
      ],
      "text/plain": [
       "          AMM     hedge  hedge 0.25  hedge 0.5  hedge 0.75\n",
       "0    0.198020 -0.840049   -0.061497  -0.580532   -0.580532\n",
       "1    0.277297 -0.764527    0.016841  -0.504071   -0.504071\n",
       "2    0.336321 -0.703716    0.076311  -0.443707   -0.443707\n",
       "3    0.384615 -0.650865    0.125745  -0.391995   -0.391995\n",
       "4    0.425918 -0.603318    0.168609  -0.346009   -0.346009\n",
       "..        ...       ...         ...        ...         ...\n",
       "495  0.747351  1.193368    0.858855   1.081864    1.081864\n",
       "496  0.746851  1.193576    0.858532   1.081895    1.081895\n",
       "497  0.746352  1.193783    0.858209   1.081925    1.081925\n",
       "498  0.745853  1.193988    0.857887   1.081955    1.081955\n",
       "499  0.745356  1.194193    0.857565   1.081984    1.081984\n",
       "\n",
       "[500 rows x 5 columns]"
      ]
     },
     "execution_count": 26,
     "metadata": {},
     "output_type": "execute_result"
    }
   ],
   "source": [
    "import pandas as pd\n",
    "\n",
    "df = pd.DataFrame()\n",
    "df[\"hodl\"] = pd.DataFrame(a)\n",
    "df[\"1\"] = pd.DataFrame(b)\n",
    "df[\"2\"] = pd.DataFrame(c)\n",
    "df[\"3\"] = pd.DataFrame(d)\n",
    "df[\"4\"] = pd.DataFrame(e)\n",
    "df[\"5\"] = pd.DataFrame(g)\n",
    "#df[\"3\"] = pd.DataFrame(index)\n",
    "\n",
    "\n",
    "df[\"AMM\"] = df[\"1\"] / df[\"hodl\"]\n",
    "df[\"hedge\"] = df[\"2\"] / df[\"hodl\"]\n",
    "\n",
    "df[\"hedge 0.25\"] = df[\"3\"] / df[\"hodl\"]\n",
    "df[\"hedge 0.5\"] = df[\"5\"] / df[\"hodl\"]\n",
    "df[\"hedge 0.75\"] = df[\"5\"] / df[\"hodl\"]\n",
    "\n",
    "\n",
    "df = df.drop('hodl', 1)\n",
    "df = df.drop('1', 1)\n",
    "df = df.drop('2', 1)\n",
    "df = df.drop('3', 1)\n",
    "df = df.drop('4', 1)\n",
    "df = df.drop('5', 1)\n",
    "\n",
    "df"
   ]
  },
  {
   "cell_type": "code",
   "execution_count": 27,
   "id": "48b2b393",
   "metadata": {
    "scrolled": true
   },
   "outputs": [
    {
     "data": {
      "text/plain": [
       "<AxesSubplot:>"
      ]
     },
     "execution_count": 27,
     "metadata": {},
     "output_type": "execute_result"
    },
    {
     "data": {
      "image/png": "[encoded data removed]",
      "text/plain": [
       "<Figure size 432x288 with 1 Axes>"
      ]
     },
     "metadata": {
      "needs_background": "light"
     },
     "output_type": "display_data"
    }
   ],
   "source": [
    "df.plot()"
   ]
  },
  {
   "cell_type": "code",
   "execution_count": null,
   "id": "ec3f2b3a",
   "metadata": {},
   "outputs": [],
   "source": []
  },
  {
   "cell_type": "code",
   "execution_count": null,
   "id": "8693f3fa",
   "metadata": {},
   "outputs": [],
   "source": []
  },
  {
   "cell_type": "code",
   "execution_count": 28,
   "id": "c70bd771",
   "metadata": {},
   "outputs": [],
   "source": [
    "# https://arxiv.org/pdf/2111.09192.pdf"
   ]
  },
  {
   "cell_type": "code",
   "execution_count": null,
   "id": "3dda9f24",
   "metadata": {},
   "outputs": [],
   "source": []
  }
 ],
 "metadata": {
  "kernelspec": {
   "display_name": "Python 3",
   "language": "python",
   "name": "python3"
  },
  "language_info": {
   "codemirror_mode": {
    "name": "ipython",
    "version": 3
   },
   "file_extension": ".py",
   "mimetype": "text/x-python",
   "name": "python",
   "nbconvert_exporter": "python",
   "pygments_lexer": "ipython3",
   "version": "3.8.8"
  },
  "vscode": {
   "interpreter": {
    "hash": "916dbcbb3f70747c44a77c7bcd40155683ae19c65e1c03b4aa3499c5328201f1"
   }
  }
 },
 "nbformat": 4,
 "nbformat_minor": 5
}
