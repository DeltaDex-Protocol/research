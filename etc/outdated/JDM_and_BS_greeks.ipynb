{
 "cells": [
  {
   "cell_type": "code",
   "execution_count": null,
   "id": "6f24be60",
   "metadata": {},
   "outputs": [],
   "source": []
  },
  {
   "cell_type": "code",
   "execution_count": 1,
   "id": "b679ed3f",
   "metadata": {},
   "outputs": [],
   "source": [
    "from scipy.stats import norm\n",
    "import numpy as np\n",
    "\n",
    "N = norm.cdf\n",
    "\n",
    "def BS_CALL(S, K, T, r, sigma):\n",
    "    d1 = (np.log(S/K) + (r + sigma**2/2)*T) / (sigma*np.sqrt(T))\n",
    "    d2 = d1 - sigma * np.sqrt(T)\n",
    "    return S * N(d1) - K * np.exp(-r*T)* N(d2)\n",
    "\n",
    "def BS_PUT(S, K, T, r, sigma):\n",
    "    d1 = (np.log(S/K) + (r + sigma**2/2)*T) / (sigma*np.sqrt(T))\n",
    "    d2 = d1 - sigma* np.sqrt(T)\n",
    "    return K*np.exp(-r*T)*N(-d2) - S*N(-d1)    \n",
    "\n",
    "def delta_BS_CALL(S, K, T, r, sigma):\n",
    "    d1 = (np.log(S/K) + (r + sigma**2/2)*T) / (sigma*np.sqrt(T))\n",
    "    d2 = d1 - sigma * np.sqrt(T)\n",
    "    return N(d1)\n",
    "    \n",
    "def merton_jump_call(S, K, T, r, sigma, m , v, lam):\n",
    "    p = 0\n",
    "\n",
    "    for k in range(5):\n",
    "        r_k = r - lam*(m-1) + (k*np.log(m) ) / T\n",
    "        sigma_k = np.sqrt( sigma**2 + (k* v** 2) / T)\n",
    "        \n",
    "        k_fact = np.math.factorial(k)\n",
    "        p += (np.exp(-m*lam*T) * (m*lam*T)**k / (k_fact))  * BS_CALL(S, K, T, r_k, sigma_k)\n",
    "    \n",
    "    return p \n",
    "\n",
    "\n",
    "##### Merton's jump call delta\n",
    "def delta_merton_jump_call(S, K, T, r, sigma, m , v, lam):\n",
    "    p = 0\n",
    "\n",
    "    for k in range(5):\n",
    "        r_k = r - lam*(m-1) + (k*np.log(m) ) / T\n",
    "        sigma_k = np.sqrt( sigma**2 + (k* v** 2) / T)\n",
    "        \n",
    "        k_fact = np.math.factorial(k)\n",
    "        p += (np.exp(-m*lam*T) * (m*lam*T)**k / (k_fact))  * delta_BS_CALL(S, K, T, r_k, sigma_k)\n",
    "    \n",
    "    return p \n",
    "\n",
    "\n",
    "def merton_jump_put(S, K, T, r, sigma, m , v, lam):\n",
    "    p = 0 # price of option\n",
    "    for k in range(40):\n",
    "        r_k = r - lam*(m-1) + (k*np.log(m) ) / T\n",
    "        sigma_k = np.sqrt( sigma**2 + (k* v** 2) / T)\n",
    "        k_fact = np.math.factorial(k) # \n",
    "        p += (np.exp(-m*lam*T) * (m*lam*T)**k / (k_fact)) \\\n",
    "                    * BS_PUT(S, K, T, r_k, sigma_k)\n",
    "    return p "
   ]
  },
  {
   "cell_type": "code",
   "execution_count": 32,
   "id": "6f8dc6bd",
   "metadata": {},
   "outputs": [
    {
     "name": "stdout",
     "output_type": "stream",
     "text": [
      "merton delta: 0.7719376837693475\n",
      "BSdelta: 0.7726142260247142\n"
     ]
    }
   ],
   "source": [
    "S = 1100\n",
    "K = 1000\n",
    "T = 0.02\n",
    "r = 0.02\n",
    "m = 1 # meean of jump size\n",
    "v = 0.1 # standard deviation of jump\n",
    "lam = 1 # intensity of jump i.e. number of jumps per annum\n",
    "sigma = 1 # annaul standard deviation , for weiner process\n",
    "\n",
    "\n",
    "#print(BS_CALL(S, K, T, r, sigma))\n",
    "#print(BS_PUT(S, K, T, r, sigma))\n",
    "\n",
    "# merton_jump_call(S, K, T, r, sigma, m , v, lam)\n",
    "print('merton delta:', delta_merton_jump_call(S, K, T, r, sigma, m , v, lam))\n",
    "print('BSdelta:', delta_BS_CALL(S, K, T, r, sigma))\n",
    "\n"
   ]
  },
  {
   "cell_type": "code",
   "execution_count": null,
   "id": "40794429",
   "metadata": {},
   "outputs": [],
   "source": []
  }
 ],
 "metadata": {
  "kernelspec": {
   "display_name": "Python 3",
   "language": "python",
   "name": "python3"
  },
  "language_info": {
   "codemirror_mode": {
    "name": "ipython",
    "version": 3
   },
   "file_extension": ".py",
   "mimetype": "text/x-python",
   "name": "python",
   "nbconvert_exporter": "python",
   "pygments_lexer": "ipython3",
   "version": "3.8.8"
  }
 },
 "nbformat": 4,
 "nbformat_minor": 5
}
