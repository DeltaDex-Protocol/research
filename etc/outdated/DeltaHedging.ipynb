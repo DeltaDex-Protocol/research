{
 "cells": [
  {
   "cell_type": "code",
   "execution_count": 325,
   "id": "0b69bc4e",
   "metadata": {},
   "outputs": [],
   "source": [
    "import numpy as np\n",
    "from scipy.stats import norm"
   ]
  },
  {
   "cell_type": "code",
   "execution_count": null,
   "id": "8c27a582",
   "metadata": {},
   "outputs": [],
   "source": []
  },
  {
   "cell_type": "code",
   "execution_count": 326,
   "id": "7d840eb7",
   "metadata": {},
   "outputs": [],
   "source": [
    "# option pricing logic"
   ]
  },
  {
   "cell_type": "code",
   "execution_count": 327,
   "id": "577f7c6a",
   "metadata": {},
   "outputs": [],
   "source": [
    "N = norm.cdf\n",
    "\n",
    "def BS_CALL(S, K, T, r, sigma):\n",
    "    d1 = (np.log(S/K) + (r + sigma**2/2)*T) / (sigma*np.sqrt(T))\n",
    "    d2 = d1 - sigma * np.sqrt(T)\n",
    "    return S * N(d1) - K * np.exp(-r*T)* N(d2)\n",
    "\n",
    "def BS_PUT(S, K, T, r, sigma):\n",
    "    d1 = (np.log(S/K) + (r + sigma**2/2)*T) / (sigma*np.sqrt(T))\n",
    "    d2 = d1 - sigma* np.sqrt(T)\n",
    "    return K*np.exp(-r*T)*N(-d2) - S*N(-d1)    \n",
    "    \n",
    "    \n",
    "def merton_jump_call(S, K, T, r, sigma, m , v, lam):\n",
    "    p = 0\n",
    "\n",
    "    for k in range(5):\n",
    "        r_k = r - lam*(m-1) + (k*np.log(m) ) / T\n",
    "        sigma_k = np.sqrt( sigma**2 + (k* v** 2) / T)\n",
    "        \n",
    "        \n",
    "        #delta += (np.exp(-m*lam*T) * (m*lam*T)**k / (k_fact)) * (np.log(S/K) + (r + sigma**2/2)*T) / (sigma*np.sqrt(T))\n",
    "        \n",
    "        k_fact = np.math.factorial(k)\n",
    "        p += (np.exp(-m*lam*T) * (m*lam*T)**k / (k_fact))  * BS_CALL(S, K, T, r_k, sigma_k)\n",
    "    \n",
    "    return p\n",
    "\n",
    "def merton_jump_put(S, K, T, r, sigma, m , v, lam):\n",
    "    p = 0 # price of option\n",
    "    for k in range(40):\n",
    "        r_k = r - lam*(m-1) + (k*np.log(m) ) / T\n",
    "        sigma_k = np.sqrt( sigma**2 + (k* v** 2) / T)\n",
    "        k_fact = np.math.factorial(k) # \n",
    "        p += (np.exp(-m*lam*T) * (m*lam*T)**k / (k_fact)) \\\n",
    "                    * BS_PUT(S, K, T, r_k, sigma_k)\n",
    "    return p"
   ]
  },
  {
   "cell_type": "code",
   "execution_count": null,
   "id": "40471852",
   "metadata": {},
   "outputs": [],
   "source": []
  },
  {
   "cell_type": "code",
   "execution_count": 328,
   "id": "9e8802ac",
   "metadata": {},
   "outputs": [],
   "source": [
    "# calculate delta using jump diffusion:"
   ]
  },
  {
   "cell_type": "code",
   "execution_count": 329,
   "id": "813ca3c8",
   "metadata": {},
   "outputs": [],
   "source": [
    "def merton_jump_call_d1(S, K, T, r, sigma, m , v, lam):\n",
    "    d1 = 0\n",
    "\n",
    "    for k in range(5):\n",
    "        r_k = r - lam*(m-1) + (k*np.log(m) ) / T\n",
    "        sigma_k = np.sqrt( sigma**2 + (k* v** 2) / T)\n",
    "\n",
    "        k_fact = np.math.factorial(k)\n",
    "\n",
    "        d1 += (np.exp(-m*lam*T) * (m*lam*T)**k / (k_fact)) * (np.log(S/K) + (r + sigma**2/2)*T) / (sigma*np.sqrt(T))\n",
    "\n",
    "\n",
    "        \n",
    "    return d1"
   ]
  },
  {
   "cell_type": "code",
   "execution_count": null,
   "id": "266f870f",
   "metadata": {},
   "outputs": [],
   "source": []
  },
  {
   "cell_type": "code",
   "execution_count": null,
   "id": "8473b93d",
   "metadata": {},
   "outputs": [],
   "source": []
  },
  {
   "cell_type": "code",
   "execution_count": 330,
   "id": "085dcadc",
   "metadata": {},
   "outputs": [],
   "source": [
    "# @ t0, user decides to replicate option contract with parameters:"
   ]
  },
  {
   "cell_type": "code",
   "execution_count": 331,
   "id": "bc19729b",
   "metadata": {
    "scrolled": true
   },
   "outputs": [
    {
     "name": "stdout",
     "output_type": "stream",
     "text": [
      "426.40898571154156\n"
     ]
    }
   ],
   "source": [
    "S = 1000 #current price\n",
    "K = 800 #strike\n",
    "T = 1 #time to maturity\n",
    "r = 0.1 #risk free rate\n",
    "m = 1 # mean of jump size\n",
    "v = 0.1 # standard deviation of jump\n",
    "lam = 1 # intensity of jump i.e. number of jumps per annum\n",
    "sigma = 0.8 # annual standard deviation , for weiner process\n",
    "\n",
    "# theoretical price of option\n",
    "c = merton_jump_call(S, K, T, r, sigma, m , v, lam)\n",
    "print(c)"
   ]
  },
  {
   "cell_type": "code",
   "execution_count": 332,
   "id": "4dcf9867",
   "metadata": {},
   "outputs": [
    {
     "name": "stdout",
     "output_type": "stream",
     "text": [
      "0.8009871805355074\n"
     ]
    }
   ],
   "source": [
    "# d1 given by jump diffusion\n",
    "d1 = merton_jump_call_d1(S, K, T, r, sigma, m , v, lam)\n",
    "print(d1)"
   ]
  },
  {
   "cell_type": "code",
   "execution_count": 333,
   "id": "9c6147be",
   "metadata": {},
   "outputs": [
    {
     "name": "stdout",
     "output_type": "stream",
     "text": [
      "0.7884304663373789\n"
     ]
    }
   ],
   "source": [
    "# delta is how much of underlying asset must be bought (0.69 ETH)\n",
    "delta = N(d1)\n",
    "print(delta)"
   ]
  },
  {
   "cell_type": "code",
   "execution_count": null,
   "id": "3cb8e7ca",
   "metadata": {},
   "outputs": [],
   "source": []
  },
  {
   "cell_type": "code",
   "execution_count": 334,
   "id": "2dd449d6",
   "metadata": {
    "scrolled": true
   },
   "outputs": [
    {
     "name": "stdout",
     "output_type": "stream",
     "text": [
      "1426.4089857115416\n"
     ]
    }
   ],
   "source": [
    "# user deposits amount to replicate 1 ETH call contract \n",
    "# price of 1 ETH + theoretical price of contract\n",
    "total_value = S + c\n",
    "print(total_value)"
   ]
  },
  {
   "cell_type": "code",
   "execution_count": null,
   "id": "5770d5fa",
   "metadata": {},
   "outputs": [],
   "source": []
  },
  {
   "cell_type": "code",
   "execution_count": 335,
   "id": "cd085b7c",
   "metadata": {},
   "outputs": [],
   "source": [
    "# tokenA is non volatile asset USDT\n",
    "# tokenB is volatile asset ETH"
   ]
  },
  {
   "cell_type": "code",
   "execution_count": 336,
   "id": "481d188d",
   "metadata": {},
   "outputs": [
    {
     "data": {
      "text/plain": [
       "637.9785193741627"
      ]
     },
     "execution_count": 336,
     "metadata": {},
     "output_type": "execute_result"
    }
   ],
   "source": [
    "tokenA = total_value - (delta*S)\n",
    "tokenA"
   ]
  },
  {
   "cell_type": "code",
   "execution_count": 337,
   "id": "993a7b90",
   "metadata": {},
   "outputs": [
    {
     "data": {
      "text/plain": [
       "0.7884304663373789"
      ]
     },
     "execution_count": 337,
     "metadata": {},
     "output_type": "execute_result"
    }
   ],
   "source": [
    "tokenB = delta\n",
    "tokenB "
   ]
  },
  {
   "cell_type": "code",
   "execution_count": 338,
   "id": "4d245304",
   "metadata": {},
   "outputs": [],
   "source": [
    "# @ t0\n",
    "# 0.69 ETH \n",
    "# 647 USDT\n",
    "\n",
    "# total_value = 1346.66"
   ]
  },
  {
   "cell_type": "code",
   "execution_count": 339,
   "id": "67fadec7",
   "metadata": {},
   "outputs": [
    {
     "data": {
      "text/plain": [
       "1426.4089857115416"
      ]
     },
     "execution_count": 339,
     "metadata": {},
     "output_type": "execute_result"
    }
   ],
   "source": [
    "tokenA + delta * S"
   ]
  },
  {
   "cell_type": "code",
   "execution_count": null,
   "id": "a8523759",
   "metadata": {},
   "outputs": [],
   "source": []
  },
  {
   "cell_type": "code",
   "execution_count": null,
   "id": "68d09caa",
   "metadata": {},
   "outputs": [],
   "source": []
  },
  {
   "cell_type": "code",
   "execution_count": null,
   "id": "5be263cf",
   "metadata": {},
   "outputs": [],
   "source": []
  },
  {
   "cell_type": "code",
   "execution_count": 340,
   "id": "745d4d95",
   "metadata": {},
   "outputs": [],
   "source": [
    "# t1 price changes from 1000 to 1100, let's see how delta changes:"
   ]
  },
  {
   "cell_type": "code",
   "execution_count": 341,
   "id": "7c723159",
   "metadata": {},
   "outputs": [],
   "source": [
    "S = 1000 #current price\n",
    "K = 800 #strike\n",
    "T = 1 #time to maturity\n",
    "r = 0.1 #risk free rate\n",
    "m = 1 # mean of jump size\n",
    "v = 0.1 # standard deviation of jump\n",
    "lam = 1 # intensity of jump i.e. number of jumps per annum\n",
    "sigma = 0.8 # annual standard deviation , for weiner process"
   ]
  },
  {
   "cell_type": "code",
   "execution_count": 342,
   "id": "8c0f0587",
   "metadata": {},
   "outputs": [
    {
     "name": "stdout",
     "output_type": "stream",
     "text": [
      "0.7884304663373789\n"
     ]
    }
   ],
   "source": [
    "# d1 given by jump diffusion\n",
    "d1 = merton_jump_call_d1(S, K, T, r, sigma, m , v, lam)\n",
    "\n",
    "delta = N(d1)\n",
    "print(delta)"
   ]
  },
  {
   "cell_type": "code",
   "execution_count": null,
   "id": "2942cc43",
   "metadata": {},
   "outputs": [],
   "source": []
  },
  {
   "cell_type": "code",
   "execution_count": 343,
   "id": "e8374d5e",
   "metadata": {},
   "outputs": [
    {
     "data": {
      "text/plain": [
       "637.9785193741627"
      ]
     },
     "execution_count": 343,
     "metadata": {},
     "output_type": "execute_result"
    }
   ],
   "source": [
    "# tokenA @ t0\n",
    "tokenA"
   ]
  },
  {
   "cell_type": "code",
   "execution_count": 344,
   "id": "550dd147",
   "metadata": {},
   "outputs": [
    {
     "data": {
      "text/plain": [
       "0.7884304663373789"
      ]
     },
     "execution_count": 344,
     "metadata": {},
     "output_type": "execute_result"
    }
   ],
   "source": [
    "# tokenB @ t0\n",
    "tokenB"
   ]
  },
  {
   "cell_type": "code",
   "execution_count": null,
   "id": "18922c0a",
   "metadata": {},
   "outputs": [],
   "source": []
  },
  {
   "cell_type": "code",
   "execution_count": 345,
   "id": "77c42d22",
   "metadata": {},
   "outputs": [
    {
     "data": {
      "text/plain": [
       "637.9785193741627"
      ]
     },
     "execution_count": 345,
     "metadata": {},
     "output_type": "execute_result"
    }
   ],
   "source": [
    "# tokenA @ t1\n",
    "tokenA -= (delta - tokenB) * S\n",
    "tokenA"
   ]
  },
  {
   "cell_type": "code",
   "execution_count": 346,
   "id": "562267f2",
   "metadata": {},
   "outputs": [
    {
     "data": {
      "text/plain": [
       "0.7884304663373789"
      ]
     },
     "execution_count": 346,
     "metadata": {},
     "output_type": "execute_result"
    }
   ],
   "source": [
    "# tokenB @ t1\n",
    "tokenB = delta\n",
    "tokenB"
   ]
  },
  {
   "cell_type": "code",
   "execution_count": 347,
   "id": "031950b9",
   "metadata": {},
   "outputs": [
    {
     "data": {
      "text/plain": [
       "1426.4089857115416"
      ]
     },
     "execution_count": 347,
     "metadata": {},
     "output_type": "execute_result"
    }
   ],
   "source": [
    "# total value\n",
    "tokenA + tokenB*S"
   ]
  },
  {
   "cell_type": "code",
   "execution_count": 348,
   "id": "932de1f8",
   "metadata": {},
   "outputs": [],
   "source": [
    "# t1\n",
    "# 0.77 ETH\n",
    "# 557 USDT\n",
    "# total value = 1486.57 USDT"
   ]
  },
  {
   "cell_type": "code",
   "execution_count": null,
   "id": "21c9b5f0",
   "metadata": {},
   "outputs": [],
   "source": []
  },
  {
   "cell_type": "code",
   "execution_count": null,
   "id": "4cfe5fc8",
   "metadata": {},
   "outputs": [],
   "source": []
  },
  {
   "cell_type": "code",
   "execution_count": null,
   "id": "1f95043c",
   "metadata": {},
   "outputs": [],
   "source": []
  },
  {
   "cell_type": "code",
   "execution_count": null,
   "id": "b34e2541",
   "metadata": {},
   "outputs": [],
   "source": []
  },
  {
   "cell_type": "code",
   "execution_count": null,
   "id": "3244f64a",
   "metadata": {},
   "outputs": [],
   "source": []
  },
  {
   "cell_type": "code",
   "execution_count": null,
   "id": "4f77aa5b",
   "metadata": {},
   "outputs": [],
   "source": []
  },
  {
   "cell_type": "code",
   "execution_count": 349,
   "id": "4ccb922d",
   "metadata": {},
   "outputs": [],
   "source": [
    "# init pool "
   ]
  },
  {
   "cell_type": "code",
   "execution_count": 405,
   "id": "ae2ac9ef",
   "metadata": {},
   "outputs": [],
   "source": [
    "pool = {\"K\":0,\"T\":0,\"r\":0,\"m\":0,\"v\":0,\"lam\":0,\"sigma\":0,\"tokenA\":0,\"tokenB\":0,\"totalV\":0,\"amount\":0}"
   ]
  },
  {
   "cell_type": "code",
   "execution_count": 406,
   "id": "1827460c",
   "metadata": {},
   "outputs": [
    {
     "data": {
      "text/plain": [
       "{'K': 0,\n",
       " 'T': 0,\n",
       " 'r': 0,\n",
       " 'm': 0,\n",
       " 'v': 0,\n",
       " 'lam': 0,\n",
       " 'sigma': 0,\n",
       " 'tokenA': 0,\n",
       " 'tokenB': 0,\n",
       " 'totalV': 0,\n",
       " 'amount': 0}"
      ]
     },
     "execution_count": 406,
     "metadata": {},
     "output_type": "execute_result"
    }
   ],
   "source": [
    "pool"
   ]
  },
  {
   "cell_type": "code",
   "execution_count": null,
   "id": "06de3e68",
   "metadata": {},
   "outputs": [],
   "source": []
  },
  {
   "cell_type": "code",
   "execution_count": null,
   "id": "fe2d981a",
   "metadata": {},
   "outputs": [],
   "source": []
  },
  {
   "cell_type": "code",
   "execution_count": 407,
   "id": "adf2ccb1",
   "metadata": {},
   "outputs": [],
   "source": [
    "def weightedAVG(v1,a1,v2,a2):\n",
    "    return ((v1*a1) + (v2*a2)) / (a1+ a2)"
   ]
  },
  {
   "cell_type": "code",
   "execution_count": 408,
   "id": "ff9fedc8",
   "metadata": {},
   "outputs": [],
   "source": [
    "def addPosition(S,K,T,r,m,v,lam,sigma,amount):\n",
    "    \n",
    "    c = merton_jump_call(S, K, T, r, sigma, m , v, lam)\n",
    "    \n",
    "    d1 = merton_jump_call_d1(S, K, T, r, sigma, m , v, lam)\n",
    "    \n",
    "    delta = N(d1)    # kirill: in merton's case delta isn't computed like this I think\n",
    "    \n",
    "    totalV = (S + c) * amount\n",
    "    \n",
    "    tokenA = totalV - (delta*S)\n",
    "    tokenB = delta * amount\n",
    "    \n",
    "    \n",
    "    # current amount\n",
    "    currentAmount = pool[\"totalV\"]\n",
    "    \n",
    "    # pool value before new position\n",
    "    currentK = pool[\"K\"]\n",
    "    currentT = pool[\"T\"]\n",
    "    currentr = pool[\"r\"]\n",
    "    currentm = pool[\"m\"]\n",
    "    currentv = pool[\"v\"]\n",
    "    currentlam = pool[\"lam\"]\n",
    "    currentsigma = pool[\"sigma\"]\n",
    "    \n",
    "    # get new updated value\n",
    "    pK = weightedAVG(currentK,currentAmount,K,totalV)\n",
    "    pT = weightedAVG(currentT,currentAmount,T,totalV)\n",
    "    pr = weightedAVG(currentr,currentAmount,r,totalV)\n",
    "    pm = weightedAVG(currentm,currentAmount,m,totalV)\n",
    "    pv = weightedAVG(currentv,currentAmount,v,totalV)\n",
    "    plam = weightedAVG(currentlam,currentAmount,lam,totalV)\n",
    "    psigma = weightedAVG(currentsigma,currentAmount,sigma,totalV)\n",
    "    \n",
    "    # update pool values\n",
    "    pool[\"K\"] = pK\n",
    "    pool[\"T\"] = pT\n",
    "    pool[\"r\"] = pr\n",
    "    pool[\"m\"] = pm\n",
    "    pool[\"v\"] = pv\n",
    "    pool[\"lam\"] = plam\n",
    "    pool[\"sigma\"] = psigma\n",
    "    \n",
    "    # add new amounts of token to pool\n",
    "    \n",
    "    pool[\"tokenA\"] += tokenA\n",
    "    pool[\"tokenB\"] += tokenB\n",
    "\n",
    "    # add new amount to pool (for easier visualization)\n",
    "    pool[\"totalV\"] += totalV   \n",
    "    pool[\"amount\"] += amount\n",
    "    "
   ]
  },
  {
   "cell_type": "code",
   "execution_count": null,
   "id": "124dd0d8",
   "metadata": {},
   "outputs": [],
   "source": []
  },
  {
   "cell_type": "code",
   "execution_count": 409,
   "id": "5736b3f9",
   "metadata": {},
   "outputs": [],
   "source": [
    "S = 1000 #current price\n",
    "\n",
    "K = 1000 #strike\n",
    "T = 1 #time to maturity\n",
    "r = 0.1 #risk free rate\n",
    "m = 1 # mean of jump size\n",
    "v = 0.1 # standard deviation of jump\n",
    "lam = 1 # intensity of jump i.e. number of jumps per annum\n",
    "sigma = 0.8 # annual standard deviation , for weiner process\n",
    "\n",
    "amount = 1"
   ]
  },
  {
   "cell_type": "code",
   "execution_count": 410,
   "id": "83aeed6d",
   "metadata": {},
   "outputs": [],
   "source": [
    "addPosition(S,K,T,r,m,v,lam,sigma,amount)"
   ]
  },
  {
   "cell_type": "code",
   "execution_count": 411,
   "id": "55519b05",
   "metadata": {
    "scrolled": true
   },
   "outputs": [
    {
     "data": {
      "text/plain": [
       "{'K': 1000.0,\n",
       " 'T': 1.0,\n",
       " 'r': 0.1,\n",
       " 'm': 1.0,\n",
       " 'v': 0.1,\n",
       " 'lam': 1.0,\n",
       " 'sigma': 0.8,\n",
       " 'tokenA': 647.1286156959065,\n",
       " 'tokenB': 0.6995402146911245,\n",
       " 'totalV': 1346.668830387031,\n",
       " 'amount': 1}"
      ]
     },
     "execution_count": 411,
     "metadata": {},
     "output_type": "execute_result"
    }
   ],
   "source": [
    "pool"
   ]
  },
  {
   "cell_type": "code",
   "execution_count": null,
   "id": "8ff887f7",
   "metadata": {},
   "outputs": [],
   "source": []
  },
  {
   "cell_type": "code",
   "execution_count": null,
   "id": "e5d67ad3",
   "metadata": {},
   "outputs": [],
   "source": []
  },
  {
   "cell_type": "code",
   "execution_count": 412,
   "id": "69faae73",
   "metadata": {},
   "outputs": [],
   "source": [
    "tokenA = pool[\"tokenA\"]\n",
    "tokenB = pool[\"tokenB\"]\n",
    "\n",
    "def poolValue(tokenA,tokenB,S):\n",
    "    return tokenA + tokenB * S"
   ]
  },
  {
   "cell_type": "code",
   "execution_count": 413,
   "id": "73df72ca",
   "metadata": {},
   "outputs": [
    {
     "data": {
      "text/plain": [
       "1416.6228518561434"
      ]
     },
     "execution_count": 413,
     "metadata": {},
     "output_type": "execute_result"
    }
   ],
   "source": [
    "poolValue(tokenA,tokenB,1100)"
   ]
  },
  {
   "cell_type": "code",
   "execution_count": null,
   "id": "201d6b4d",
   "metadata": {},
   "outputs": [],
   "source": []
  },
  {
   "cell_type": "code",
   "execution_count": 414,
   "id": "ec7c2942",
   "metadata": {},
   "outputs": [],
   "source": [
    "# Delta Hedge pool"
   ]
  },
  {
   "cell_type": "code",
   "execution_count": 415,
   "id": "a26147b0",
   "metadata": {},
   "outputs": [],
   "source": [
    "def deltaHedge(S):  \n",
    "    K = pool[\"K\"]\n",
    "    T = pool[\"T\"]\n",
    "    r = pool[\"r\"]\n",
    "    sigma = pool[\"sigma\"]\n",
    "    m = pool[\"m\"]\n",
    "    v = pool[\"v\"]\n",
    "    lam = pool[\"lam\"]\n",
    "\n",
    "    d1 = merton_jump_call_d1(S, K, T, r, sigma, m , v, lam)\n",
    "\n",
    "    delta = N(d1)\n",
    "    \n",
    "    tokenA = pool[\"tokenA\"]\n",
    "    tokenA -= abs(delta - pool[\"tokenB\"]/pool[\"amount\"]) * S\n",
    "    tokenB = delta * pool[\"amount\"] \n",
    "\n",
    "    pool[\"tokenA\"] = tokenA\n",
    "    pool[\"tokenB\"] = tokenB\n",
    "    \n",
    "    totalV = tokenA + tokenB * S\n",
    "    pool[\"totalV\"] = tokenA + tokenB * S\n",
    "\n",
    "    print(\"updated delta\", delta)\n",
    "    print(\"tokenA\", tokenA)\n",
    "    print(\"tokenB\", tokenB)\n",
    "    print(\"totalV\", totalV)"
   ]
  },
  {
   "cell_type": "code",
   "execution_count": 416,
   "id": "fe6c4116",
   "metadata": {
    "scrolled": true
   },
   "outputs": [
    {
     "name": "stdout",
     "output_type": "stream",
     "text": [
      "updated delta 0.7394920720819695\n",
      "tokenA 603.181572565977\n",
      "tokenB 0.7394920720819695\n",
      "totalV 1416.6228518561434\n"
     ]
    }
   ],
   "source": [
    "deltaHedge(1100)"
   ]
  },
  {
   "cell_type": "code",
   "execution_count": null,
   "id": "79e04853",
   "metadata": {},
   "outputs": [],
   "source": []
  },
  {
   "cell_type": "code",
   "execution_count": null,
   "id": "fa3db642",
   "metadata": {},
   "outputs": [],
   "source": []
  },
  {
   "cell_type": "code",
   "execution_count": null,
   "id": "e0231235",
   "metadata": {},
   "outputs": [],
   "source": []
  },
  {
   "cell_type": "code",
   "execution_count": null,
   "id": "24a6b5eb",
   "metadata": {},
   "outputs": [],
   "source": []
  },
  {
   "cell_type": "code",
   "execution_count": 362,
   "id": "41dc369c",
   "metadata": {},
   "outputs": [],
   "source": [
    "### Remove position"
   ]
  },
  {
   "cell_type": "code",
   "execution_count": 363,
   "id": "bc3fae4c",
   "metadata": {},
   "outputs": [],
   "source": [
    "def delete(v1,a1,v2,a2):\n",
    "    a1 *= -1\n",
    "    return ((v1*a1) + (v2*a2)) / (a1+ a2)"
   ]
  },
  {
   "cell_type": "code",
   "execution_count": 364,
   "id": "24e233f4",
   "metadata": {},
   "outputs": [],
   "source": [
    "def removePosition(S,K,T,r,m,v,lam,sigma,amount):\n",
    "    \n",
    "    c = merton_jump_call(S, K, T, r, sigma, m , v, lam)\n",
    "    \n",
    "    d1 = merton_jump_call_d1(S, K, T, r, sigma, m , v, lam)\n",
    "    \n",
    "    delta = N(d1)    \n",
    "    \n",
    "    totalV = (S + c) * amount\n",
    "    \n",
    "    tokenA = totalV - (delta*S)\n",
    "    tokenB = delta * amount\n",
    "    \n",
    "    \n",
    "    # current amount\n",
    "    currentAmount = pool[\"totalV\"]\n",
    "    \n",
    "    # pool value before new position\n",
    "    currentK = pool[\"K\"]\n",
    "    currentT = pool[\"T\"]\n",
    "    currentr = pool[\"r\"]\n",
    "    currentm = pool[\"m\"]\n",
    "    currentv = pool[\"v\"]\n",
    "    currentlam = pool[\"lam\"]\n",
    "    currentsigma = pool[\"sigma\"]\n",
    "    \n",
    "    # get new updated value\n",
    "    pK = delete(currentK,currentAmount,K,amount)\n",
    "    pT = delete(currentT,currentAmount,T,amount)\n",
    "    pr = delete(currentr,currentAmount,r,amount)\n",
    "    pm = delete(currentm,currentAmount,m,amount)\n",
    "    pv = delete(currentv,currentAmount,v,amount)\n",
    "    plam = delete(currentlam,currentAmount,lam,amount)\n",
    "    psigma = delete(currentsigma,currentAmount,sigma,amount)\n",
    "    \n",
    "    # update pool values\n",
    "    pool[\"K\"] = pK\n",
    "    pool[\"T\"] = pT\n",
    "    pool[\"r\"] = pr\n",
    "    pool[\"m\"] = pm\n",
    "    pool[\"v\"] = pv\n",
    "    pool[\"lam\"] = plam\n",
    "    pool[\"sigma\"] = psigma\n",
    "\n",
    "    pool[\"tokenA\"] -= tokenA\n",
    "    pool[\"tokenB\"] -= tokenB\n",
    "\n",
    "    # add new amount to pool (for easier visualization)\n",
    "    pool[\"totalV\"] -= totalV \n",
    "    \n",
    "    pool[\"amount\"] -= amount"
   ]
  },
  {
   "cell_type": "code",
   "execution_count": null,
   "id": "997071cd",
   "metadata": {},
   "outputs": [],
   "source": []
  },
  {
   "cell_type": "code",
   "execution_count": 365,
   "id": "91e10f19",
   "metadata": {},
   "outputs": [
    {
     "data": {
      "text/plain": [
       "506.7208926090395"
      ]
     },
     "execution_count": 365,
     "metadata": {},
     "output_type": "execute_result"
    }
   ],
   "source": [
    "S = 1100 #current price\n",
    "\n",
    "K = 800 #strike\n",
    "T = 1 #time to maturity\n",
    "r = 0.1 #risk free rate\n",
    "m = 1 # mean of jump size\n",
    "v = 0.1 # standard deviation of jump\n",
    "lam = 1 # intensity of jump i.e. number of jumps per annum\n",
    "sigma = 0.8 # annual standard deviation , for weiner process\n",
    "\n",
    "amount = 1\n",
    "\n",
    "c = merton_jump_call(S, K, T, r, sigma, m , v, lam)\n",
    "c"
   ]
  },
  {
   "cell_type": "code",
   "execution_count": null,
   "id": "ffbd47c6",
   "metadata": {},
   "outputs": [],
   "source": []
  },
  {
   "cell_type": "code",
   "execution_count": 366,
   "id": "4eda02dd",
   "metadata": {},
   "outputs": [],
   "source": [
    "removePosition(S,K,T,r,m,v,lam,sigma,amount)"
   ]
  },
  {
   "cell_type": "code",
   "execution_count": 367,
   "id": "f4dd90cd",
   "metadata": {
    "scrolled": true
   },
   "outputs": [
    {
     "data": {
      "text/plain": [
       "{'K': 1000.0009290808276,\n",
       " 'T': 1.0,\n",
       " 'r': 0.10000000000000002,\n",
       " 'm': 1.0,\n",
       " 'v': 0.10000000000000002,\n",
       " 'lam': 1.0,\n",
       " 'sigma': 0.8000000000000002,\n",
       " 'tokenA': 133219.92043721324,\n",
       " 'tokenB': 73.12807489097852,\n",
       " 'totalV': 213660.8028172896,\n",
       " 'amount': 99}"
      ]
     },
     "execution_count": 367,
     "metadata": {},
     "output_type": "execute_result"
    }
   ],
   "source": [
    "pool"
   ]
  },
  {
   "cell_type": "code",
   "execution_count": null,
   "id": "9211f5db",
   "metadata": {},
   "outputs": [],
   "source": []
  },
  {
   "cell_type": "code",
   "execution_count": 368,
   "id": "7c7e52e2",
   "metadata": {},
   "outputs": [],
   "source": [
    "# kirill\n",
    "\n",
    "from scipy.stats import norm\n",
    "import math\n",
    "import random\n",
    "\n",
    "N = norm.cdf\n",
    "\n",
    "def BS_DELTA_CALL(S, K, T, r, sigma):\n",
    "    d1 = (np.log(S/K) + (r + sigma**2/2)*T) / (sigma*np.sqrt(T))\n",
    "    return N(d1)\n",
    "\n",
    "def BS_DELTA_PUT(S, K, T, r, sigma):\n",
    "    return BS_DELTA_CALL(S, K, T, r, sigma) - 1\n",
    "\n",
    "def BS_DELTA(S, K, T, r, sigma, _type):\n",
    "    if _type == 'call':\n",
    "        return BS_DELTA_CALL(S, K, T, r, sigma)\n",
    "    elif _type == 'put':\n",
    "        return BS_DELTA_CALL(S, K, T, r, sigma) - 1\n",
    "    "
   ]
  },
  {
   "cell_type": "code",
   "execution_count": 369,
   "id": "086469b2",
   "metadata": {},
   "outputs": [
    {
     "data": {
      "text/plain": [
       "0.09026033483314733"
      ]
     },
     "execution_count": 369,
     "metadata": {},
     "output_type": "execute_result"
    }
   ],
   "source": [
    "random.seed()\n",
    "random.random()"
   ]
  },
  {
   "cell_type": "code",
   "execution_count": 370,
   "id": "a2811ed5",
   "metadata": {},
   "outputs": [
    {
     "data": {
      "text/plain": [
       "2250"
      ]
     },
     "execution_count": 370,
     "metadata": {},
     "output_type": "execute_result"
    }
   ],
   "source": [
    "random.randrange(200, 5000, 50)"
   ]
  },
  {
   "cell_type": "code",
   "execution_count": 371,
   "id": "e5d400e5",
   "metadata": {},
   "outputs": [],
   "source": [
    "# testing the deviation \n",
    "\n",
    "# from functools import reduce\n",
    "\n",
    "S = 2700\n",
    "maturity = 10 / 365\n",
    "pool_size = 10\n",
    "\n",
    "strikes = [random.randrange(200, 5000, 50) for i in range(pool_size)]\n",
    "\n",
    "sigmas = [random.randrange(20, 80) / 100 for i in range(pool_size)]\n",
    "# maturities = [random.randrange(1, 100) / 365 for i in range(pool_size)] \n",
    "\n",
    "\n",
    "maturities = [maturity] * pool_size"
   ]
  },
  {
   "cell_type": "code",
   "execution_count": 372,
   "id": "1f797f35",
   "metadata": {},
   "outputs": [],
   "source": [
    "amounts = [random.randrange(1, 100) for i in range(pool_size)]\n",
    "# types = [random.choice(['call', 'put']) for i in range(pool_size)]\n"
   ]
  },
  {
   "cell_type": "code",
   "execution_count": 373,
   "id": "36ac932e",
   "metadata": {},
   "outputs": [],
   "source": [
    "# inputs (S, K, T, r, sigma)\n",
    "\n",
    "deltas = [round(amounts[i]*BS_DELTA(S, strikes[i], maturities[i], 0.1, sigmas[i], 'call'), 4)\n",
    "          for i in range(pool_size)]"
   ]
  },
  {
   "cell_type": "code",
   "execution_count": 374,
   "id": "69bed222",
   "metadata": {},
   "outputs": [
    {
     "data": {
      "text/plain": [
       "282.16159999999996"
      ]
     },
     "execution_count": 374,
     "metadata": {},
     "output_type": "execute_result"
    }
   ],
   "source": [
    "total_delta_to_trade = sum(deltas)\n",
    "total_delta_to_trade"
   ]
  },
  {
   "cell_type": "code",
   "execution_count": 375,
   "id": "4e9695ac",
   "metadata": {},
   "outputs": [
    {
     "data": {
      "text/plain": [
       "2838.0664652567975"
      ]
     },
     "execution_count": 375,
     "metadata": {},
     "output_type": "execute_result"
    }
   ],
   "source": [
    "w_avg_strike = sum([strikes[i]*amounts[i] for i in range(pool_size)]) / sum(amounts)\n",
    "w_avg_strike"
   ]
  },
  {
   "cell_type": "code",
   "execution_count": 376,
   "id": "414da7e3",
   "metadata": {},
   "outputs": [
    {
     "data": {
      "text/plain": [
       "0.55297583081571"
      ]
     },
     "execution_count": 376,
     "metadata": {},
     "output_type": "execute_result"
    }
   ],
   "source": [
    "w_avg_sigma = sum([sigmas[i]*amounts[i] for i in range(pool_size)]) / sum(amounts)\n",
    "w_avg_sigma"
   ]
  },
  {
   "cell_type": "code",
   "execution_count": null,
   "id": "68854f48",
   "metadata": {
    "scrolled": true
   },
   "outputs": [],
   "source": []
  },
  {
   "cell_type": "code",
   "execution_count": 377,
   "id": "71b8d9b5",
   "metadata": {},
   "outputs": [
    {
     "data": {
      "text/plain": [
       "2845.0"
      ]
     },
     "execution_count": 377,
     "metadata": {},
     "output_type": "execute_result"
    }
   ],
   "source": [
    "avg_strike = sum([strikes[i] for i in range(pool_size)]) / pool_size\n",
    "avg_strike"
   ]
  },
  {
   "cell_type": "code",
   "execution_count": 378,
   "id": "921c1c3b",
   "metadata": {},
   "outputs": [
    {
     "data": {
      "text/plain": [
       "0.5760000000000001"
      ]
     },
     "execution_count": 378,
     "metadata": {},
     "output_type": "execute_result"
    }
   ],
   "source": [
    "avg_sigma = sum([sigmas[i] for i in range(pool_size)]) / pool_size\n",
    "avg_sigma"
   ]
  },
  {
   "cell_type": "code",
   "execution_count": null,
   "id": "71bde46f",
   "metadata": {},
   "outputs": [],
   "source": []
  },
  {
   "cell_type": "code",
   "execution_count": 379,
   "id": "b5470df9",
   "metadata": {},
   "outputs": [],
   "source": [
    "S = 3238"
   ]
  },
  {
   "cell_type": "code",
   "execution_count": 380,
   "id": "8731dd98",
   "metadata": {},
   "outputs": [
    {
     "name": "stdout",
     "output_type": "stream",
     "text": [
      "right total delta to trade: 282.16159999999996\n",
      "---\n",
      "avg_strike: 2838.0664652567975, avg_sigma: 0.55297583081571\n",
      "---\n",
      "weighted_avg_delta: 616.5694564472165\n"
     ]
    }
   ],
   "source": [
    "total_delta_to_trade = sum(deltas)\n",
    "print('right total delta to trade:', total_delta_to_trade)\n",
    "\n",
    "\n",
    "w_avg_strike = sum([strikes[i]*amounts[i] for i in range(pool_size)]) / sum(amounts)\n",
    "w_avg_sigma = sum([sigmas[i]*amounts[i] for i in range(pool_size)]) / sum(amounts)\n",
    "\n",
    "print('---\\navg_strike: {}, avg_sigma: {}\\n---'.format(w_avg_strike, w_avg_sigma))\n",
    "\n",
    "weighted_avg_delta = BS_DELTA_CALL(S, w_avg_strike, maturity, 0, w_avg_sigma)\n",
    "print('weighted_avg_delta:', weighted_avg_delta * sum(amounts))"
   ]
  },
  {
   "cell_type": "code",
   "execution_count": null,
   "id": "07137ffc",
   "metadata": {},
   "outputs": [],
   "source": []
  },
  {
   "cell_type": "code",
   "execution_count": 381,
   "id": "ca7349ea",
   "metadata": {},
   "outputs": [
    {
     "name": "stdout",
     "output_type": "stream",
     "text": [
      "0.052352476824476746\n"
     ]
    }
   ],
   "source": [
    "weighted_avg_delta = BS_DELTA_CALL(2000, w_avg_strike, maturity, 0, w_avg_sigma)\n",
    "print(weighted_avg_delta * sum(amounts))"
   ]
  },
  {
   "cell_type": "code",
   "execution_count": 382,
   "id": "e0191488",
   "metadata": {},
   "outputs": [],
   "source": [
    "delta_func = []\n",
    "\n",
    "\n",
    "S = 50\n",
    "for i in range(100):\n",
    "    weighted_avg_delta = BS_DELTA_CALL(S, w_avg_strike, maturity, 0.1, w_avg_sigma)\n",
    "    \n",
    "    delta_func.append(weighted_avg_delta * sum(amounts))\n",
    "    \n",
    "    S += 50\n",
    "\n",
    "\n",
    "    \n",
    "    \n",
    "    \n",
    "    \n",
    "\n",
    "    "
   ]
  },
  {
   "cell_type": "code",
   "execution_count": 383,
   "id": "799f31ce",
   "metadata": {},
   "outputs": [
    {
     "data": {
      "text/plain": [
       "661.9999998749659"
      ]
     },
     "execution_count": 383,
     "metadata": {},
     "output_type": "execute_result"
    }
   ],
   "source": [
    "delta_func[-1]"
   ]
  },
  {
   "cell_type": "code",
   "execution_count": null,
   "id": "339a0733",
   "metadata": {},
   "outputs": [],
   "source": []
  },
  {
   "cell_type": "code",
   "execution_count": 384,
   "id": "b64512a3",
   "metadata": {},
   "outputs": [],
   "source": [
    "# might take a bit to calculate\n",
    "\n",
    "correct_delta = []\n",
    "\n",
    "S = 50\n",
    "\n",
    "for i in range(100):\n",
    "    \n",
    "    \n",
    "    deltas = [round(amounts[i]*BS_DELTA(S, strikes[i], maturities[i], 0.1, sigmas[i], 'call'), 4)\n",
    "          for i in range(pool_size)]\n",
    "    \n",
    "    correct_delta.append(sum(deltas))\n",
    "    \n",
    "    S += 50\n",
    "    \n",
    "    "
   ]
  },
  {
   "cell_type": "code",
   "execution_count": 385,
   "id": "4ce30b83",
   "metadata": {},
   "outputs": [],
   "source": [
    "price = []\n",
    "\n",
    "S = 50\n",
    "\n",
    "for i in range(100):\n",
    "    \n",
    "    price.append(S)\n",
    "    \n",
    "    S+=50"
   ]
  },
  {
   "cell_type": "code",
   "execution_count": null,
   "id": "97af47ea",
   "metadata": {},
   "outputs": [],
   "source": []
  },
  {
   "cell_type": "code",
   "execution_count": 386,
   "id": "8d12bb97",
   "metadata": {},
   "outputs": [],
   "source": [
    "import pandas as pd\n",
    "\n",
    "df = pd.DataFrame(\n",
    "    {'price': price,\n",
    "     'correct_delta': correct_delta,\n",
    "     'delta_func': delta_func\n",
    "    })"
   ]
  },
  {
   "cell_type": "code",
   "execution_count": null,
   "id": "da5f5e3d",
   "metadata": {},
   "outputs": [],
   "source": []
  },
  {
   "cell_type": "code",
   "execution_count": 387,
   "id": "f564a178",
   "metadata": {},
   "outputs": [],
   "source": [
    "df.set_index('price', inplace=True)"
   ]
  },
  {
   "cell_type": "code",
   "execution_count": 388,
   "id": "6a8ddc19",
   "metadata": {
    "scrolled": true
   },
   "outputs": [
    {
     "data": {
      "text/html": [
       "<div>\n",
       "<style scoped>\n",
       "    .dataframe tbody tr th:only-of-type {\n",
       "        vertical-align: middle;\n",
       "    }\n",
       "\n",
       "    .dataframe tbody tr th {\n",
       "        vertical-align: top;\n",
       "    }\n",
       "\n",
       "    .dataframe thead th {\n",
       "        text-align: right;\n",
       "    }\n",
       "</style>\n",
       "<table border=\"1\" class=\"dataframe\">\n",
       "  <thead>\n",
       "    <tr style=\"text-align: right;\">\n",
       "      <th></th>\n",
       "      <th>correct_delta</th>\n",
       "      <th>delta_func</th>\n",
       "    </tr>\n",
       "    <tr>\n",
       "      <th>price</th>\n",
       "      <th></th>\n",
       "      <th></th>\n",
       "    </tr>\n",
       "  </thead>\n",
       "  <tbody>\n",
       "    <tr>\n",
       "      <th>50</th>\n",
       "      <td>0.0000</td>\n",
       "      <td>0.000000e+00</td>\n",
       "    </tr>\n",
       "    <tr>\n",
       "      <th>100</th>\n",
       "      <td>0.0000</td>\n",
       "      <td>8.272064e-289</td>\n",
       "    </tr>\n",
       "    <tr>\n",
       "      <th>150</th>\n",
       "      <td>0.0000</td>\n",
       "      <td>7.785336e-223</td>\n",
       "    </tr>\n",
       "    <tr>\n",
       "      <th>200</th>\n",
       "      <td>0.0000</td>\n",
       "      <td>3.440643e-181</td>\n",
       "    </tr>\n",
       "    <tr>\n",
       "      <th>250</th>\n",
       "      <td>0.0000</td>\n",
       "      <td>7.730529e-152</td>\n",
       "    </tr>\n",
       "    <tr>\n",
       "      <th>...</th>\n",
       "      <td>...</td>\n",
       "      <td>...</td>\n",
       "    </tr>\n",
       "    <tr>\n",
       "      <th>4800</th>\n",
       "      <td>645.1846</td>\n",
       "      <td>6.620000e+02</td>\n",
       "    </tr>\n",
       "    <tr>\n",
       "      <th>4850</th>\n",
       "      <td>647.6086</td>\n",
       "      <td>6.620000e+02</td>\n",
       "    </tr>\n",
       "    <tr>\n",
       "      <th>4900</th>\n",
       "      <td>649.7227</td>\n",
       "      <td>6.620000e+02</td>\n",
       "    </tr>\n",
       "    <tr>\n",
       "      <th>4950</th>\n",
       "      <td>651.5601</td>\n",
       "      <td>6.620000e+02</td>\n",
       "    </tr>\n",
       "    <tr>\n",
       "      <th>5000</th>\n",
       "      <td>653.1507</td>\n",
       "      <td>6.620000e+02</td>\n",
       "    </tr>\n",
       "  </tbody>\n",
       "</table>\n",
       "<p>100 rows × 2 columns</p>\n",
       "</div>"
      ],
      "text/plain": [
       "       correct_delta     delta_func\n",
       "price                              \n",
       "50            0.0000   0.000000e+00\n",
       "100           0.0000  8.272064e-289\n",
       "150           0.0000  7.785336e-223\n",
       "200           0.0000  3.440643e-181\n",
       "250           0.0000  7.730529e-152\n",
       "...              ...            ...\n",
       "4800        645.1846   6.620000e+02\n",
       "4850        647.6086   6.620000e+02\n",
       "4900        649.7227   6.620000e+02\n",
       "4950        651.5601   6.620000e+02\n",
       "5000        653.1507   6.620000e+02\n",
       "\n",
       "[100 rows x 2 columns]"
      ]
     },
     "execution_count": 388,
     "metadata": {},
     "output_type": "execute_result"
    }
   ],
   "source": [
    "df"
   ]
  },
  {
   "cell_type": "code",
   "execution_count": null,
   "id": "d290bf91",
   "metadata": {},
   "outputs": [],
   "source": []
  },
  {
   "cell_type": "code",
   "execution_count": 419,
   "id": "3f90326f",
   "metadata": {},
   "outputs": [
    {
     "data": {
      "text/html": [
       "<div>\n",
       "<style scoped>\n",
       "    .dataframe tbody tr th:only-of-type {\n",
       "        vertical-align: middle;\n",
       "    }\n",
       "\n",
       "    .dataframe tbody tr th {\n",
       "        vertical-align: top;\n",
       "    }\n",
       "\n",
       "    .dataframe thead th {\n",
       "        text-align: right;\n",
       "    }\n",
       "</style>\n",
       "<table border=\"1\" class=\"dataframe\">\n",
       "  <thead>\n",
       "    <tr style=\"text-align: right;\">\n",
       "      <th></th>\n",
       "      <th>correct_delta</th>\n",
       "      <th>delta_func</th>\n",
       "    </tr>\n",
       "    <tr>\n",
       "      <th>price</th>\n",
       "      <th></th>\n",
       "      <th></th>\n",
       "    </tr>\n",
       "  </thead>\n",
       "  <tbody>\n",
       "    <tr>\n",
       "      <th>50</th>\n",
       "      <td>NaN</td>\n",
       "      <td>NaN</td>\n",
       "    </tr>\n",
       "    <tr>\n",
       "      <th>100</th>\n",
       "      <td>NaN</td>\n",
       "      <td>inf</td>\n",
       "    </tr>\n",
       "    <tr>\n",
       "      <th>150</th>\n",
       "      <td>NaN</td>\n",
       "      <td>9.411600e+65</td>\n",
       "    </tr>\n",
       "    <tr>\n",
       "      <th>200</th>\n",
       "      <td>NaN</td>\n",
       "      <td>4.419389e+41</td>\n",
       "    </tr>\n",
       "    <tr>\n",
       "      <th>250</th>\n",
       "      <td>NaN</td>\n",
       "      <td>2.246827e+29</td>\n",
       "    </tr>\n",
       "    <tr>\n",
       "      <th>...</th>\n",
       "      <td>...</td>\n",
       "      <td>...</td>\n",
       "    </tr>\n",
       "    <tr>\n",
       "      <th>4800</th>\n",
       "      <td>0.004309</td>\n",
       "      <td>2.904886e-09</td>\n",
       "    </tr>\n",
       "    <tr>\n",
       "      <th>4850</th>\n",
       "      <td>0.003757</td>\n",
       "      <td>1.483375e-09</td>\n",
       "    </tr>\n",
       "    <tr>\n",
       "      <th>4900</th>\n",
       "      <td>0.003264</td>\n",
       "      <td>7.530774e-10</td>\n",
       "    </tr>\n",
       "    <tr>\n",
       "      <th>4950</th>\n",
       "      <td>0.002828</td>\n",
       "      <td>3.801923e-10</td>\n",
       "    </tr>\n",
       "    <tr>\n",
       "      <th>5000</th>\n",
       "      <td>0.002441</td>\n",
       "      <td>1.909175e-10</td>\n",
       "    </tr>\n",
       "  </tbody>\n",
       "</table>\n",
       "<p>100 rows × 2 columns</p>\n",
       "</div>"
      ],
      "text/plain": [
       "       correct_delta    delta_func\n",
       "price                             \n",
       "50               NaN           NaN\n",
       "100              NaN           inf\n",
       "150              NaN  9.411600e+65\n",
       "200              NaN  4.419389e+41\n",
       "250              NaN  2.246827e+29\n",
       "...              ...           ...\n",
       "4800        0.004309  2.904886e-09\n",
       "4850        0.003757  1.483375e-09\n",
       "4900        0.003264  7.530774e-10\n",
       "4950        0.002828  3.801923e-10\n",
       "5000        0.002441  1.909175e-10\n",
       "\n",
       "[100 rows x 2 columns]"
      ]
     },
     "execution_count": 419,
     "metadata": {},
     "output_type": "execute_result"
    }
   ],
   "source": [
    "df.pct_change()"
   ]
  },
  {
   "cell_type": "code",
   "execution_count": 389,
   "id": "45824374",
   "metadata": {},
   "outputs": [
    {
     "data": {
      "text/plain": [
       "<AxesSubplot:xlabel='price'>"
      ]
     },
     "execution_count": 389,
     "metadata": {},
     "output_type": "execute_result"
    },
    {
     "data": {
      "image/png": "[encoded data removed]",
      "text/plain": [
       "<Figure size 432x288 with 1 Axes>"
      ]
     },
     "metadata": {
      "needs_background": "light"
     },
     "output_type": "display_data"
    }
   ],
   "source": [
    "df.plot()"
   ]
  },
  {
   "cell_type": "code",
   "execution_count": null,
   "id": "74d1fa3c",
   "metadata": {},
   "outputs": [],
   "source": []
  },
  {
   "cell_type": "code",
   "execution_count": null,
   "id": "fa75f77b",
   "metadata": {},
   "outputs": [],
   "source": []
  },
  {
   "cell_type": "code",
   "execution_count": null,
   "id": "26bec5af",
   "metadata": {},
   "outputs": [],
   "source": []
  },
  {
   "cell_type": "code",
   "execution_count": null,
   "id": "e663a773",
   "metadata": {},
   "outputs": [],
   "source": []
  },
  {
   "cell_type": "code",
   "execution_count": null,
   "id": "c7260b18",
   "metadata": {},
   "outputs": [],
   "source": []
  },
  {
   "cell_type": "code",
   "execution_count": null,
   "id": "9144d5e4",
   "metadata": {},
   "outputs": [],
   "source": []
  },
  {
   "cell_type": "code",
   "execution_count": null,
   "id": "9b7ca227",
   "metadata": {},
   "outputs": [],
   "source": []
  },
  {
   "cell_type": "code",
   "execution_count": null,
   "id": "93c94d4b",
   "metadata": {},
   "outputs": [],
   "source": [
    "def weightedAVG(v1,a1,v2,a2):\n",
    "    return ((v1*a1) + (v2*a2)) / (a1+ a2)"
   ]
  },
  {
   "cell_type": "code",
   "execution_count": null,
   "id": "89f2b26e",
   "metadata": {},
   "outputs": [],
   "source": [
    "weightedAVG(10,1,5,10)"
   ]
  },
  {
   "cell_type": "code",
   "execution_count": null,
   "id": "5197318b",
   "metadata": {},
   "outputs": [],
   "source": [
    "# danilla\n",
    "def delete(v1,a1,v2,a2):\n",
    "    avg = weightedAVG(v1,a1,v2,a2)\n",
    "    return (avg - v2*a2/(a1+a2))*(a1+a2)/v1\n"
   ]
  },
  {
   "cell_type": "code",
   "execution_count": null,
   "id": "378f45d3",
   "metadata": {
    "scrolled": true
   },
   "outputs": [],
   "source": [
    "delete(10,1,5,10)"
   ]
  },
  {
   "cell_type": "code",
   "execution_count": null,
   "id": "5aae0412",
   "metadata": {},
   "outputs": [],
   "source": []
  },
  {
   "cell_type": "code",
   "execution_count": null,
   "id": "b29a9360",
   "metadata": {},
   "outputs": [],
   "source": [
    "def weightedAVG(v1,a1,v2,a2):\n",
    "    return ((v1*a1) + (v2*a2)) / (a1+ a2)"
   ]
  },
  {
   "cell_type": "code",
   "execution_count": null,
   "id": "6bd58ef8",
   "metadata": {},
   "outputs": [],
   "source": [
    "weightedAVG(12,2,15,10)"
   ]
  },
  {
   "cell_type": "code",
   "execution_count": null,
   "id": "30d13764",
   "metadata": {},
   "outputs": [],
   "source": []
  },
  {
   "cell_type": "code",
   "execution_count": null,
   "id": "adaf5313",
   "metadata": {},
   "outputs": [],
   "source": [
    "weightedAVG(12,-2,10.333333333333334,12)"
   ]
  },
  {
   "cell_type": "code",
   "execution_count": null,
   "id": "fe9dc0dd",
   "metadata": {},
   "outputs": [],
   "source": []
  },
  {
   "cell_type": "code",
   "execution_count": null,
   "id": "717caea3",
   "metadata": {},
   "outputs": [],
   "source": [
    "def delete(v1,a1,v2,a2):\n",
    "    a1 *= -1\n",
    "    return ((v1*a1) + (v2*a2)) / (a1+ a2)"
   ]
  },
  {
   "cell_type": "code",
   "execution_count": null,
   "id": "e703b112",
   "metadata": {},
   "outputs": [],
   "source": [
    "delete(12,2,14.5,12)"
   ]
  },
  {
   "cell_type": "code",
   "execution_count": null,
   "id": "e2b48ad6",
   "metadata": {},
   "outputs": [],
   "source": []
  },
  {
   "cell_type": "code",
   "execution_count": null,
   "id": "2429d484",
   "metadata": {},
   "outputs": [],
   "source": []
  },
  {
   "cell_type": "code",
   "execution_count": null,
   "id": "a0f30e24",
   "metadata": {},
   "outputs": [],
   "source": []
  },
  {
   "cell_type": "code",
   "execution_count": null,
   "id": "41623dfd",
   "metadata": {},
   "outputs": [],
   "source": []
  },
  {
   "cell_type": "code",
   "execution_count": null,
   "id": "3d692d42",
   "metadata": {},
   "outputs": [],
   "source": []
  },
  {
   "cell_type": "code",
   "execution_count": null,
   "id": "5e1fa3d5",
   "metadata": {},
   "outputs": [],
   "source": []
  },
  {
   "cell_type": "code",
   "execution_count": null,
   "id": "b53617af",
   "metadata": {},
   "outputs": [],
   "source": []
  },
  {
   "cell_type": "code",
   "execution_count": null,
   "id": "81e355f2",
   "metadata": {},
   "outputs": [],
   "source": [
    "def xyz(v1,a1,v2,a2):\n",
    "    v = v2 - v1\n",
    "    a = a2 - a1\n",
    "    \n",
    "    return a * v / a "
   ]
  },
  {
   "cell_type": "code",
   "execution_count": null,
   "id": "8c105930",
   "metadata": {},
   "outputs": [],
   "source": [
    "xyz(10,1,5,10)"
   ]
  },
  {
   "cell_type": "code",
   "execution_count": null,
   "id": "219fbbb8",
   "metadata": {},
   "outputs": [],
   "source": []
  },
  {
   "cell_type": "code",
   "execution_count": null,
   "id": "8266809b",
   "metadata": {},
   "outputs": [],
   "source": []
  },
  {
   "cell_type": "code",
   "execution_count": null,
   "id": "df41eafa",
   "metadata": {},
   "outputs": [],
   "source": []
  },
  {
   "cell_type": "code",
   "execution_count": null,
   "id": "8574a61a",
   "metadata": {},
   "outputs": [],
   "source": [
    "S = 1000 #current price\n",
    "K = 800 #strike\n",
    "T = 1 #time to maturity\n",
    "r = 0.1 #risk free rate\n",
    "m = 1 # meean of jump size\n",
    "v = 0.1 # standard deviation of jump\n",
    "lam = 1 # intensity of jump i.e. number of jumps per annum\n",
    "sigma = 0.8 # annual standard deviation , for weiner process\n",
    "\n",
    "# theoretical price of option\n",
    "c = merton_jump_call(S, K, T, r, sigma, m , v, lam)\n",
    "print(c)"
   ]
  },
  {
   "cell_type": "code",
   "execution_count": null,
   "id": "b28649d6",
   "metadata": {},
   "outputs": [],
   "source": []
  },
  {
   "cell_type": "code",
   "execution_count": null,
   "id": "54ed85ec",
   "metadata": {},
   "outputs": [],
   "source": []
  },
  {
   "cell_type": "code",
   "execution_count": null,
   "id": "96523646",
   "metadata": {},
   "outputs": [],
   "source": []
  },
  {
   "cell_type": "code",
   "execution_count": null,
   "id": "3a2d0303",
   "metadata": {},
   "outputs": [],
   "source": []
  },
  {
   "cell_type": "code",
   "execution_count": null,
   "id": "5e264efd",
   "metadata": {},
   "outputs": [],
   "source": [
    "weightedAVG(1000,100,800,10000)"
   ]
  },
  {
   "cell_type": "code",
   "execution_count": null,
   "id": "dc80a197",
   "metadata": {},
   "outputs": [],
   "source": [
    "def updatePool(K,T,r,m,v,lam,sigma):\n",
    "    pool = {\"K\":K,\"T\":T,\"r\":r,\"m\":m,\"v\":v,\"lam\":lam,\"sigma\":sigma}\n",
    "    \n",
    "    "
   ]
  },
  {
   "cell_type": "code",
   "execution_count": null,
   "id": "3325ecce",
   "metadata": {},
   "outputs": [],
   "source": [
    "pool[\"K\"]"
   ]
  },
  {
   "cell_type": "code",
   "execution_count": null,
   "id": "d94f88b7",
   "metadata": {},
   "outputs": [],
   "source": []
  }
 ],
 "metadata": {
  "kernelspec": {
   "display_name": "Python 3.10.6 64-bit",
   "language": "python",
   "name": "python3"
  },
  "language_info": {
   "codemirror_mode": {
    "name": "ipython",
    "version": 3
   },
   "file_extension": ".py",
   "mimetype": "text/x-python",
   "name": "python",
   "nbconvert_exporter": "python",
   "pygments_lexer": "ipython3",
   "version": "3.10.6"
  },
  "vscode": {
   "interpreter": {
    "hash": "b0fa6594d8f4cbf19f97940f81e996739fb7646882a419484c72d19e05852a7e"
   }
  }
 },
 "nbformat": 4,
 "nbformat_minor": 5
}
