{
 "cells": [
  {
   "cell_type": "code",
   "execution_count": 7,
   "metadata": {},
   "outputs": [],
   "source": [
    "def BS_root_put(x0, S, K, T, r, sigma):\n",
    "    TV0 = 2 * x0\n",
    "    z1 = -(np.log(S/K) + (r - 0.5*sigma**2)*T)/np.sqrt(T)/sigma\n",
    "    # print(z1)\n",
    "    \n",
    "    first_part = (np.exp(-r*T) * TV0) * N(z1)\n",
    "    print(first_part)\n",
    "    _r = r/2\n",
    "    _sigma = sigma / 2\n",
    "    z2 = z1 - _sigma * np.sqrt(T)\n",
    "    # print((np.exp(-r*T) * TV0*np.sqrt(S/K)), 'sdfsdf')\n",
    "    print((np.exp(-0.5 * _sigma**2 * T)))\n",
    "    second_part = (np.exp(-r*T) * TV0*np.sqrt(S/K)) * (np.exp(-0.5 * _sigma**2 * T)*np.exp(_r*T)) * N(z2)\n",
    "    print(second_part)\n",
    "    return first_part - second_part"
   ]
  },
  {
   "cell_type": "code",
   "execution_count": null,
   "metadata": {},
   "outputs": [],
   "source": []
  },
  {
   "cell_type": "code",
   "execution_count": 8,
   "metadata": {},
   "outputs": [],
   "source": [
    "def new_way_BS_delta_root_put(x0, S, K, T, r, sigma):\n",
    "    z1 = -(np.log(S/K) + (r - 0.5*sigma**2)*T)/np.sqrt(T)/sigma\n",
    "    _r = r/2\n",
    "    _sigma = sigma / 2\n",
    "    z2 = z1 - _sigma * np.sqrt(T)\n",
    "    return -(np.exp(-r*T) * x0 / np.sqrt(K*S)) * (np.exp(-0.5 * _sigma**2 * T)*np.exp(_r*T)) * N(z2)"
   ]
  },
  {
   "cell_type": "code",
   "execution_count": null,
   "metadata": {},
   "outputs": [],
   "source": []
  },
  {
   "cell_type": "code",
   "execution_count": 9,
   "metadata": {},
   "outputs": [],
   "source": [
    "# BS root call\n",
    "\n",
    "def BS_root_call(x0, S, K, T, r, sigma):\n",
    "    TV0 = 2 * x0\n",
    "    z1 = -(np.log(S/K) + (r - 0.5*sigma**2)*T)/np.sqrt(T)/sigma\n",
    "\n",
    "    \n",
    "    first_part = (np.exp(-r*T) * TV0) * N(-z1)\n",
    "    _r = r/2\n",
    "    _sigma = sigma / 2\n",
    "    z2 = z1 - _sigma * np.sqrt(T)\n",
    "    second_part = (np.exp(-r*T) * TV0*np.sqrt(S/K)) * (np.exp(-0.5 * _sigma**2 * T)*np.exp(_r*T)) * N(-z2)\n",
    "    \n",
    "    return -first_part + second_part"
   ]
  },
  {
   "cell_type": "code",
   "execution_count": null,
   "metadata": {},
   "outputs": [],
   "source": []
  },
  {
   "cell_type": "code",
   "execution_count": 10,
   "metadata": {},
   "outputs": [],
   "source": [
    "def delta_BS_root_call(x0, S, K, T, r, sigma):\n",
    "    z1 = -(np.log(S/K) + (r - 0.5*sigma**2)*T)/np.sqrt(T)/sigma\n",
    "    _r = r/2\n",
    "    _sigma = sigma / 2\n",
    "    z2 = z1 - _sigma * np.sqrt(T)\n",
    "    \n",
    "    return (np.exp(-r*T) * x0 / np.sqrt(K*S)) * (np.exp(-0.5 * _sigma**2 * T)*np.exp(_r*T)) * N(-z2)"
   ]
  },
  {
   "cell_type": "code",
   "execution_count": null,
   "metadata": {},
   "outputs": [],
   "source": []
  },
  {
   "cell_type": "code",
   "execution_count": 11,
   "metadata": {},
   "outputs": [],
   "source": [
    "def aux(arr):\n",
    "    print('input (solidity):', end=\" \")\n",
    "    print('[', end=\"\")\n",
    "    for i in range(len(arr)):\n",
    "        if i != len(arr)-1:\n",
    "            print(\" %.0f\" % arr[i], end=\",\")\n",
    "        else:\n",
    "            print(\" %.0f\" % arr[i], end='')\n",
    "    print(']')\n",
    "    "
   ]
  },
  {
   "cell_type": "code",
   "execution_count": null,
   "metadata": {},
   "outputs": [],
   "source": []
  },
  {
   "cell_type": "code",
   "execution_count": null,
   "metadata": {},
   "outputs": [],
   "source": []
  },
  {
   "cell_type": "code",
   "execution_count": 26,
   "metadata": {},
   "outputs": [
    {
     "name": "stdout",
     "output_type": "stream",
     "text": [
      "input (solidity): [ 1100000000000000000000, 1000000000000000000000, 500000000000000000, 0, 700000000000000000]\n",
      "260.95178713352817\n",
      "0.9698391945907022\n",
      "215.4650680280188\n",
      "45.486719105509366\n",
      "delta\n",
      "-0.09793866728546309\n",
      "\n"
     ]
    }
   ],
   "source": [
    "if __name__ == \"__main__\":\n",
    "    import numpy as np\n",
    "    from scipy.stats import norm\n",
    "    N = norm.cdf\n",
    "    option = {\"T\": 0.5, \"x0\": 250, \"S\": 1100, \"K\": 1000, \"r\": 0, \"sigma\": 0.7}\n",
    "    # print('solidity input:')\n",
    "\n",
    "    arr = list(map(lambda x: (x*10**18) , [1100, 1000, 0.5, 0, 0.7]))\n",
    "    aux(arr)\n",
    "\n",
    "\n",
    "    print(BS_root_put(option[\"x0\"], option[\"S\"], option[\"K\"], option[\"T\"], option[\"r\"], option[\"sigma\"]))\n",
    "    print(\"delta\")\n",
    "    print(new_way_BS_delta_root_put(option[\"x0\"], option[\"S\"], option[\"K\"], option[\"T\"], option[\"r\"], option[\"sigma\"]))\n",
    "    print(\"\")"
   ]
  },
  {
   "cell_type": "code",
   "execution_count": 22,
   "metadata": {},
   "outputs": [
    {
     "data": {
      "text/plain": [
       "45.486743746883654"
      ]
     },
     "execution_count": 22,
     "metadata": {},
     "output_type": "execute_result"
    }
   ],
   "source": [
    "45.486743746883657143\n"
   ]
  },
  {
   "cell_type": "code",
   "execution_count": null,
   "metadata": {},
   "outputs": [],
   "source": []
  },
  {
   "cell_type": "code",
   "execution_count": 23,
   "metadata": {},
   "outputs": [
    {
     "data": {
      "text/plain": [
       "250000000000000000000"
      ]
     },
     "execution_count": 23,
     "metadata": {},
     "output_type": "execute_result"
    }
   ],
   "source": [
    "# x0\n",
    "250000000000000000000"
   ]
  },
  {
   "cell_type": "code",
   "execution_count": null,
   "metadata": {},
   "outputs": [],
   "source": []
  },
  {
   "cell_type": "code",
   "execution_count": null,
   "metadata": {},
   "outputs": [],
   "source": []
  },
  {
   "cell_type": "code",
   "execution_count": 27,
   "metadata": {},
   "outputs": [
    {
     "name": "stdout",
     "output_type": "stream",
     "text": [
      "input (solidity): [ 1100000000000000000000, 1000000000000000000000, 500000000000000000, 0, 700000000000000000]\n",
      "None\n",
      "54.07468339998033\n",
      "0.13323768012111462\n"
     ]
    }
   ],
   "source": [
    "# call option \n",
    "if __name__ == \"__main__\":\n",
    "    import numpy as np\n",
    "    from scipy.stats import norm\n",
    "    N = norm.cdf\n",
    "    option = {\"T\": 0.5, \"x0\": 250, \"S\": 1100, \"K\": 1000, \"r\": 0, \"sigma\": 0.7}\n",
    "    # print('solidity input:')\n",
    "\n",
    "    arr = list(map(lambda x: (x*10**18) , [1100, 1000, 0.5, 0, 0.7]))\n",
    "    print(aux(arr))\n",
    "\n",
    "\n",
    "    print(BS_root_call(option[\"x0\"], option[\"S\"], option[\"K\"], option[\"T\"], option[\"r\"], option[\"sigma\"]))\n",
    "    print(delta_BS_root_call(option[\"x0\"], option[\"S\"], option[\"K\"], option[\"T\"], option[\"r\"], option[\"sigma\"]))"
   ]
  },
  {
   "cell_type": "code",
   "execution_count": null,
   "metadata": {},
   "outputs": [],
   "source": []
  },
  {
   "cell_type": "code",
   "execution_count": 25,
   "metadata": {},
   "outputs": [
    {
     "ename": "SyntaxError",
     "evalue": "invalid syntax (<ipython-input-25-6b5a9788952e>, line 14)",
     "output_type": "error",
     "traceback": [
      "\u001b[1;36m  File \u001b[1;32m\"<ipython-input-25-6b5a9788952e>\"\u001b[1;36m, line \u001b[1;32m14\u001b[0m\n\u001b[1;33m    well done\u001b[0m\n\u001b[1;37m         ^\u001b[0m\n\u001b[1;31mSyntaxError\u001b[0m\u001b[1;31m:\u001b[0m invalid syntax\n"
     ]
    }
   ],
   "source": [
    "# test in remix: data\n",
    "\n",
    "\n",
    "\n",
    "# BS_root_call = 54074708041354615978\n",
    "well done \n",
    "# BS_root_put = 45486743746883657143\n",
    "45486743746883657237\n",
    "well done \n",
    "# BSCallRootFirstPart = 239048178518740471000\n",
    "239048178518740470000\n",
    "well done \n",
    "# BSCallRootSecondPart = 293122886560095086978\n",
    "293122886560095086469\n",
    "well done \n",
    "# BSPutRootFirstPart = 260951821481259529000\n",
    "260951821481259529500\n",
    "well done\n",
    "# BSPutRootSecondPart = 215465077734375871857\n",
    "well done \n",
    "\n",
    "# delta_BS_root_call = 133237675709134129\n",
    "well done \n",
    "# delta_BS_root_put = -97938671697443577\n",
    "well done\n",
    "\n",
    "# z1 = 54931732113156685\n",
    "well done \n",
    "# z2 = -192555641302134948\n",
    "well done"
   ]
  },
  {
   "cell_type": "code",
   "execution_count": null,
   "metadata": {},
   "outputs": [],
   "source": [
    "// delta =  delta_BS_root_put(_params, x0, z2)"
   ]
  }
 ],
 "metadata": {
  "kernelspec": {
   "display_name": "Python 3.8.5 ('base')",
   "language": "python",
   "name": "python3"
  },
  "language_info": {
   "codemirror_mode": {
    "name": "ipython",
    "version": 3
   },
   "file_extension": ".py",
   "mimetype": "text/x-python",
   "name": "python",
   "nbconvert_exporter": "python",
   "pygments_lexer": "ipython3",
   "version": "3.8.5"
  },
  "vscode": {
   "interpreter": {
    "hash": "ad2bdc8ecc057115af97d19610ffacc2b4e99fae6737bb82f5d7fb13d2f2c186"
   }
  }
 },
 "nbformat": 4,
 "nbformat_minor": 4
}
