{
 "cells": [
  {
   "cell_type": "code",
   "execution_count": 111,
   "id": "6e17e30e",
   "metadata": {},
   "outputs": [],
   "source": [
    "import numpy as np\n",
    "import matplotlib.pyplot as plt\n",
    "plt.style.use('ggplot')\n",
    "plt.rcParams['lines.linewidth'] = 1\n",
    "from scipy.stats import norm\n"
   ]
  },
  {
   "cell_type": "code",
   "execution_count": 112,
   "id": "f1da93f1",
   "metadata": {},
   "outputs": [],
   "source": [
    "import uniswap_v3_liquidity_math as uniMath"
   ]
  },
  {
   "cell_type": "code",
   "execution_count": 113,
   "id": "4d65a6d7",
   "metadata": {},
   "outputs": [],
   "source": [
    "# p = 1327\n",
    "# a = 1101\n",
    "# b = 1504\n",
    "# y = 1000\n",
    "\n",
    "# sp = p ** 0.5\n",
    "# sa = a ** 0.5\n",
    "# sb = b ** 0.5\n",
    "# L = uniMath.get_liquidity_1(y, sa, sp)\n",
    "# x = uniMath.calculate_x(L, sp, sa, sb)\n",
    "# # print(uniMath.calculate_y(L, sp, sa, sb))\n",
    "# # print(uniMath.calculate_y(L, sp, sa, sb))\n",
    "# print('L:', L)\n",
    "# print('eth:', x)\n",
    "# print('usdc:', y)\n",
    "# print('TV:', p*x + y)"
   ]
  },
  {
   "cell_type": "code",
   "execution_count": 114,
   "id": "930cdd0c",
   "metadata": {},
   "outputs": [],
   "source": [
    "# def uniswapV3_TV(S, priceUpper, priceLower):\n",
    "#     K = np.sqrt(priceUpper*priceLower)\n",
    "#     r = np.sqrt(priceUpper/priceLower)\n",
    "    \n",
    "#     return (2*np.sqrt(K*r*S) - K - S) / (r - 1)\n",
    "    "
   ]
  },
  {
   "cell_type": "code",
   "execution_count": 115,
   "id": "e9da4697",
   "metadata": {},
   "outputs": [],
   "source": [
    "def get_tokens_amounts(initial_price, lowerPrice, upperPrice, initial_y, currentPrice):\n",
    "    sp = initial_price ** 0.5\n",
    "    sa = lowerPrice ** 0.5\n",
    "    sb = upperPrice ** 0.5\n",
    "    current_sp = currentPrice ** 0.5\n",
    "    L = uniMath.get_liquidity_1(initial_y, sa, sp)\n",
    "    x = uniMath.calculate_x(L, current_sp, sa, sb)\n",
    "    y = uniMath.calculate_y(L, current_sp, sa, sb)\n",
    "    return (x, y)\n",
    "    "
   ]
  },
  {
   "cell_type": "code",
   "execution_count": 116,
   "id": "8682d9e5",
   "metadata": {},
   "outputs": [],
   "source": [
    "def uniswapV3_TV(S, priceUpper, priceLower, initial_y = 1000, initial_price=1300):\n",
    "    x, y = get_tokens_amounts(initial_price=initial_price, lowerPrice=priceLower, upperPrice=priceUpper, initial_y=initial_y, currentPrice=S)\n",
    "    \n",
    "    return x * S + y\n",
    "    "
   ]
  },
  {
   "cell_type": "code",
   "execution_count": 117,
   "id": "d14310e3",
   "metadata": {},
   "outputs": [],
   "source": [
    "# get_tokens_amounts(initial_price=1330, lowerPrice=1100, upperPrice=1500, initial_y=1000, currentPrice=1300)\n",
    "\n"
   ]
  },
  {
   "cell_type": "code",
   "execution_count": 118,
   "id": "1a043bde",
   "metadata": {},
   "outputs": [],
   "source": [
    "params = {'priceUpper': 2500, 'priceLower': 1100, 'current_price': 1300, 'y0': 1000, 'T': 0.1, 'r': 0.1, 'sigma': 0.7}\n"
   ]
  },
  {
   "cell_type": "code",
   "execution_count": 119,
   "id": "abad258d",
   "metadata": {},
   "outputs": [],
   "source": [
    "priceUpper = params['priceUpper']\n",
    "priceLower = params['priceLower']\n",
    "current_price = params['current_price']\n",
    "\n",
    "# initial_TV = params['x0'] * 2 # => we assume lowerPrice = current_price*0.5, upperPrice = current_price*2\n",
    "y0 = params['y0']\n",
    "T = params['T']\n",
    "r = params['r']\n",
    "sigma = params['sigma']\n"
   ]
  },
  {
   "cell_type": "code",
   "execution_count": 156,
   "id": "c86fa4c0",
   "metadata": {},
   "outputs": [
    {
     "name": "stdout",
     "output_type": "stream",
     "text": [
      "tokens amounts: 2.677154989219614 1000.0\n",
      "initial TV: 4480.301485985498\n"
     ]
    }
   ],
   "source": [
    "tokens_amounts = get_tokens_amounts(initial_price=current_price, \n",
    "                                    lowerPrice=priceLower, upperPrice=priceUpper, \n",
    "                                    initial_y=y0, currentPrice=current_price)\n",
    "\n",
    "\n",
    "eth, usdc = tokens_amounts\n",
    "print('tokens amounts:', eth, usdc)\n",
    "print('initial TV:', eth*current_price + usdc)"
   ]
  },
  {
   "cell_type": "code",
   "execution_count": 121,
   "id": "4e46d56a",
   "metadata": {},
   "outputs": [],
   "source": [
    "lower_tick = get_tokens_amounts(initial_price=current_price, \n",
    "                                    lowerPrice=priceLower, upperPrice=priceUpper, \n",
    "                                    initial_y=y0, currentPrice=priceLower)\n",
    "lower_tick = lower_tick[0]"
   ]
  },
  {
   "cell_type": "code",
   "execution_count": 122,
   "id": "44a3361a",
   "metadata": {},
   "outputs": [],
   "source": [
    "upper_tick = get_tokens_amounts(initial_price=current_price, \n",
    "                                    lowerPrice=priceLower, upperPrice=priceUpper, \n",
    "                                    initial_y=y0, currentPrice=priceUpper)\n",
    "upper_tick = upper_tick[1]"
   ]
  },
  {
   "cell_type": "code",
   "execution_count": null,
   "id": "525c90bd",
   "metadata": {},
   "outputs": [],
   "source": []
  },
  {
   "cell_type": "code",
   "execution_count": null,
   "id": "7216cf2e",
   "metadata": {},
   "outputs": [],
   "source": []
  },
  {
   "cell_type": "code",
   "execution_count": 123,
   "id": "9e3f3d92",
   "metadata": {},
   "outputs": [],
   "source": [
    "# initial_TV"
   ]
  },
  {
   "cell_type": "code",
   "execution_count": 124,
   "id": "789cc17b",
   "metadata": {},
   "outputs": [],
   "source": [
    "# amount of option contracts to protect initial_TV\n",
    "\n",
    "# amount = uniswapV3_TV(priceLower, priceUpper, priceLower) / priceLower\n",
    "\n"
   ]
  },
  {
   "cell_type": "code",
   "execution_count": 125,
   "id": "2d64069a",
   "metadata": {},
   "outputs": [],
   "source": [
    "mid_prices = [price for price in range(priceLower, priceUpper, 1)]\n",
    "low_prices = list(range(0, priceLower+10, 10))\n",
    "high_prices = list(range(priceUpper, 2000, 10))\n",
    "hodl_eth = [x * lower_tick for x in low_prices]\n",
    "hodl_usdc = [upper_tick] * len(high_prices)\n",
    "TVs = [uniswapV3_TV(price, priceUpper, priceLower) for price in mid_prices]"
   ]
  },
  {
   "cell_type": "code",
   "execution_count": 126,
   "id": "b3a087cc",
   "metadata": {},
   "outputs": [],
   "source": [
    "N = norm.cdf\n",
    "\n",
    "def BS_PUT(S, K, T, r, sigma):\n",
    "    d1 = (np.log(S/K) + (r + sigma**2/2)*T) / (sigma*np.sqrt(T))\n",
    "    d2 = d1 - sigma * np.sqrt(T)\n",
    "    return K * np.exp(-r*T)* N(-d2) - S * N(-d1)"
   ]
  },
  {
   "cell_type": "code",
   "execution_count": 127,
   "id": "6363175d",
   "metadata": {
    "scrolled": true
   },
   "outputs": [
    {
     "name": "stdout",
     "output_type": "stream",
     "text": [
      "0 111\n"
     ]
    }
   ],
   "source": [
    "print(len(hodl_usdc), len(hodl_eth))"
   ]
  },
  {
   "cell_type": "code",
   "execution_count": 128,
   "id": "0ae2b5b6",
   "metadata": {},
   "outputs": [
    {
     "data": {
      "text/plain": [
       "3864.736699149375"
      ]
     },
     "execution_count": 128,
     "metadata": {},
     "output_type": "execute_result"
    }
   ],
   "source": [
    "TVs[0]"
   ]
  },
  {
   "cell_type": "code",
   "execution_count": 129,
   "id": "e11d00ec",
   "metadata": {
    "scrolled": true
   },
   "outputs": [
    {
     "data": {
      "text/plain": [
       "(0.0, 2000.0)"
      ]
     },
     "execution_count": 129,
     "metadata": {},
     "output_type": "execute_result"
    },
    {
     "data": {
      "image/png": "[encoded data removed]",
      "text/plain": [
       "<Figure size 432x288 with 1 Axes>"
      ]
     },
     "metadata": {},
     "output_type": "display_data"
    }
   ],
   "source": [
    "all_prices = low_prices + mid_prices + high_prices\n",
    "TV1 = [TVs[0] - BS_PUT(current_price, priceLower, T, r, sigma) for price in low_prices]\n",
    "TV2 = list(map(lambda x: x - BS_PUT(current_price, priceLower, T, r, sigma), hodl_usdc))\n",
    "_TV = TV1 + list(map(lambda x: x - BS_PUT(current_price, priceLower, T, r, sigma), TVs)) + TV2\n",
    "plt.plot(all_prices, _TV)\n",
    "plt.ylim(ymin=0, ymax=2000)"
   ]
  },
  {
   "cell_type": "code",
   "execution_count": 130,
   "id": "77c90665",
   "metadata": {},
   "outputs": [
    {
     "data": {
      "text/plain": [
       "43.85046336935836"
      ]
     },
     "execution_count": 130,
     "metadata": {},
     "output_type": "execute_result"
    }
   ],
   "source": [
    "BS_PUT(1300, 1300, 0.1, r, 0.68) * 0.42"
   ]
  },
  {
   "cell_type": "code",
   "execution_count": 131,
   "id": "329737c8",
   "metadata": {},
   "outputs": [],
   "source": [
    "# np.array(hodl_usdc) + np.array(hodl_usdc)"
   ]
  },
  {
   "cell_type": "code",
   "execution_count": 137,
   "id": "89502e96",
   "metadata": {
    "scrolled": false
   },
   "outputs": [
    {
     "data": {
      "text/plain": [
       "<matplotlib.legend.Legend at 0x7f96c4c410a0>"
      ]
     },
     "execution_count": 137,
     "metadata": {},
     "output_type": "execute_result"
    },
    {
     "data": {
      "image/png": "[encoded data removed]",
      "text/plain": [
       "<Figure size 864x432 with 1 Axes>"
      ]
     },
     "metadata": {},
     "output_type": "display_data"
    }
   ],
   "source": [
    "fig, ax = plt.subplots()\n",
    "fig.set_figwidth(12)\n",
    "fig.set_figheight(6)\n",
    "ax.plot(low_prices, hodl_eth)\n",
    "ax.plot(mid_prices, TVs)\n",
    "ax.plot(high_prices, hodl_usdc)\n",
    "ax.plot(all_prices, _TV, 'g')\n",
    "ax.set_ylim(ymax=8000)\n",
    "ax.set_xlim(xmax=2000)\n",
    "ax.set_title('Uniswap V3')\n",
    "ax.set_xlabel('eth price')\n",
    "ax.set_ylabel('Portfolio value in USD')\n",
    "ax.legend(['pure LP', 'pure LP', 'pure LP', 'LP + long put'])"
   ]
  },
  {
   "cell_type": "code",
   "execution_count": null,
   "id": "eb5b8f4e",
   "metadata": {},
   "outputs": [],
   "source": []
  },
  {
   "cell_type": "code",
   "execution_count": 138,
   "id": "4955e03e",
   "metadata": {
    "scrolled": false
   },
   "outputs": [
    {
     "name": "stdout",
     "output_type": "stream",
     "text": [
      "1300\n"
     ]
    }
   ],
   "source": [
    "print(current_price)"
   ]
  },
  {
   "cell_type": "code",
   "execution_count": 139,
   "id": "99a7a11e",
   "metadata": {
    "scrolled": true
   },
   "outputs": [],
   "source": [
    "# tokens_amounts = get_tokens_amounts(initial_price=1330, \n",
    "#                                     lowerPrice=1100, upperPrice=1500, \n",
    "#                                     initial_y=1000, currentPrice=current_price)\n",
    "\n",
    "\n",
    "# eth, usdc = tokens_amounts"
   ]
  },
  {
   "cell_type": "code",
   "execution_count": 140,
   "id": "f59f901a",
   "metadata": {},
   "outputs": [
    {
     "data": {
      "text/plain": [
       "2.677154989219614"
      ]
     },
     "execution_count": 140,
     "metadata": {},
     "output_type": "execute_result"
    }
   ],
   "source": [
    "eth"
   ]
  },
  {
   "cell_type": "code",
   "execution_count": 141,
   "id": "07ca71b0",
   "metadata": {},
   "outputs": [],
   "source": [
    "K = current_price\n",
    "S0 = current_price"
   ]
  },
  {
   "cell_type": "code",
   "execution_count": 142,
   "id": "9f530fb2",
   "metadata": {},
   "outputs": [],
   "source": [
    "put_payoffs = np.array([(max(0, K - price) - BS_PUT(S0, K, T, r, sigma)) * lower_tick for price in all_prices])"
   ]
  },
  {
   "cell_type": "code",
   "execution_count": 143,
   "id": "fa5e6ae9",
   "metadata": {},
   "outputs": [
    {
     "name": "stdout",
     "output_type": "stream",
     "text": [
      "378.20596182980495\n"
     ]
    }
   ],
   "source": [
    "print(BS_PUT(S0, K, T, r, sigma)*lower_tick)"
   ]
  },
  {
   "cell_type": "code",
   "execution_count": 144,
   "id": "0090ea38",
   "metadata": {},
   "outputs": [
    {
     "data": {
      "text/plain": [
       "[<matplotlib.lines.Line2D at 0x7f96c6535610>]"
      ]
     },
     "execution_count": 144,
     "metadata": {},
     "output_type": "execute_result"
    },
    {
     "data": {
      "image/png": "[encoded data removed]",
      "text/plain": [
       "<Figure size 432x288 with 1 Axes>"
      ]
     },
     "metadata": {},
     "output_type": "display_data"
    }
   ],
   "source": [
    "plt.plot(all_prices, put_payoffs)"
   ]
  },
  {
   "cell_type": "code",
   "execution_count": 145,
   "id": "801caa69",
   "metadata": {
    "scrolled": false
   },
   "outputs": [],
   "source": [
    "LP_with_vanilla_put = np.array(hodl_eth + TVs + hodl_usdc) + put_payoffs\n",
    "pure_LP = hodl_eth + TVs + hodl_usdc"
   ]
  },
  {
   "cell_type": "code",
   "execution_count": null,
   "id": "8b1e3a95",
   "metadata": {},
   "outputs": [],
   "source": []
  },
  {
   "cell_type": "code",
   "execution_count": 146,
   "id": "033e862f",
   "metadata": {},
   "outputs": [
    {
     "data": {
      "text/plain": [
       "4480.301485985498"
      ]
     },
     "execution_count": 146,
     "metadata": {},
     "output_type": "execute_result"
    }
   ],
   "source": [
    "usdc + eth * current_price # initial TV"
   ]
  },
  {
   "cell_type": "code",
   "execution_count": 147,
   "id": "dc85d3f0",
   "metadata": {
    "scrolled": true
   },
   "outputs": [
    {
     "data": {
      "text/plain": [
       "3837.8704372422403"
      ]
     },
     "execution_count": 147,
     "metadata": {},
     "output_type": "execute_result"
    }
   ],
   "source": [
    "put_payoffs[10]"
   ]
  },
  {
   "cell_type": "markdown",
   "id": "056b08b5",
   "metadata": {},
   "source": [
    "### Suppose LP earns 5% monthly"
   ]
  },
  {
   "cell_type": "code",
   "execution_count": 148,
   "id": "67d9799f",
   "metadata": {},
   "outputs": [],
   "source": [
    "def get_LP_fees(TV, T):\n",
    "    return TV * 0.05 * (T / (30))"
   ]
  },
  {
   "cell_type": "code",
   "execution_count": 157,
   "id": "559deb59",
   "metadata": {
    "scrolled": true
   },
   "outputs": [
    {
     "data": {
      "text/plain": [
       "268.8180891591299"
      ]
     },
     "execution_count": 157,
     "metadata": {},
     "output_type": "execute_result"
    }
   ],
   "source": [
    "get_LP_fees(usdc + eth*current_price, 36)"
   ]
  },
  {
   "cell_type": "code",
   "execution_count": 150,
   "id": "af10c9e4",
   "metadata": {},
   "outputs": [],
   "source": [
    "LP_with_vanilla_put_with_fees = LP_with_vanilla_put + np.array([get_LP_fees(usdc+eth*current_price, T*365)] * len(LP_with_vanilla_put))\n",
    "\n",
    "\n"
   ]
  },
  {
   "cell_type": "code",
   "execution_count": 151,
   "id": "f347cfab",
   "metadata": {},
   "outputs": [],
   "source": [
    "# LP_with_vanilla_put"
   ]
  },
  {
   "cell_type": "code",
   "execution_count": 158,
   "id": "ef0ee926",
   "metadata": {},
   "outputs": [
    {
     "data": {
      "text/plain": [
       "<matplotlib.legend.Legend at 0x7f96c610e400>"
      ]
     },
     "execution_count": 158,
     "metadata": {},
     "output_type": "execute_result"
    },
    {
     "data": {
      "image/png": "[encoded data removed]",
      "text/plain": [
       "<Figure size 864x432 with 1 Axes>"
      ]
     },
     "metadata": {},
     "output_type": "display_data"
    }
   ],
   "source": [
    "fig, ax = plt.subplots()\n",
    "fig.set_figwidth(12)\n",
    "fig.set_figheight(6)\n",
    "\n",
    "ax.plot(all_prices, LP_with_vanilla_put, 'r')\n",
    "ax.plot(all_prices, LP_with_vanilla_put_with_fees, 'y')\n",
    "ax.plot(all_prices, pure_LP, 'g')\n",
    "ax.plot([current_price], [usdc + eth * current_price], 'o')\n",
    "ax.plot([250], [((max(0, K - 250) - BS_PUT(S0, K, T, r, sigma)) * lower_tick) + lower_tick * 250], 'bo')\n",
    "# ax.set_ylim(ymin=400, ymax=1300)\n",
    "ax.legend(['LP_with_vanilla_put', 'LP_with_vanilla_put_with_fees (estimated)', 'pure_LP'])"
   ]
  },
  {
   "cell_type": "code",
   "execution_count": null,
   "id": "71478f8f",
   "metadata": {},
   "outputs": [],
   "source": []
  },
  {
   "cell_type": "code",
   "execution_count": null,
   "id": "9678d8a4",
   "metadata": {},
   "outputs": [],
   "source": []
  }
 ],
 "metadata": {
  "kernelspec": {
   "display_name": "my-conda-env-kernel",
   "language": "python",
   "name": "my-conda-env-kernel"
  },
  "language_info": {
   "codemirror_mode": {
    "name": "ipython",
    "version": 3
   },
   "file_extension": ".py",
   "mimetype": "text/x-python",
   "name": "python",
   "nbconvert_exporter": "python",
   "pygments_lexer": "ipython3",
   "version": "3.8.8"
  }
 },
 "nbformat": 4,
 "nbformat_minor": 5
}
