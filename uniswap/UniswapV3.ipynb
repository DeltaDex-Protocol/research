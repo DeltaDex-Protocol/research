{
 "cells": [
  {
   "cell_type": "code",
   "execution_count": 161,
   "id": "6e17e30e",
   "metadata": {},
   "outputs": [],
   "source": [
    "import numpy as np\n",
    "import matplotlib.pyplot as plt\n",
    "plt.style.use('ggplot')\n",
    "plt.rcParams['lines.linewidth'] = 1\n",
    "from scipy.stats import norm\n"
   ]
  },
  {
   "cell_type": "code",
   "execution_count": 162,
   "id": "cacc6636",
   "metadata": {},
   "outputs": [],
   "source": [
    "import uniswap_v3_liquidity_math as uniMath"
   ]
  },
  {
   "cell_type": "code",
   "execution_count": 163,
   "id": "07a77408",
   "metadata": {},
   "outputs": [],
   "source": [
    "# p = 1327\n",
    "# a = 1101\n",
    "# b = 1504\n",
    "# y = 1000\n",
    "\n",
    "# sp = p ** 0.5\n",
    "# sa = a ** 0.5\n",
    "# sb = b ** 0.5\n",
    "# L = uniMath.get_liquidity_1(y, sa, sp)\n",
    "# x = uniMath.calculate_x(L, sp, sa, sb)\n",
    "# # print(uniMath.calculate_y(L, sp, sa, sb))\n",
    "# # print(uniMath.calculate_y(L, sp, sa, sb))\n",
    "# print('L:', L)\n",
    "# print('eth:', x)\n",
    "# print('usdc:', y)\n",
    "# print('TV:', p*x + y)"
   ]
  },
  {
   "cell_type": "code",
   "execution_count": 164,
   "id": "930cdd0c",
   "metadata": {},
   "outputs": [],
   "source": [
    "# def uniswapV3_TV(S, priceUpper, priceLower):\n",
    "#     K = np.sqrt(priceUpper*priceLower)\n",
    "#     r = np.sqrt(priceUpper/priceLower)\n",
    "    \n",
    "#     return (2*np.sqrt(K*r*S) - K - S) / (r - 1)\n",
    "    "
   ]
  },
  {
   "cell_type": "code",
   "execution_count": 165,
   "id": "27b8ac6d",
   "metadata": {},
   "outputs": [],
   "source": [
    "def get_tokens_amounts(initial_price, lowerPrice, upperPrice, initial_y, currentPrice):\n",
    "    sp = initial_price ** 0.5\n",
    "    sa = lowerPrice ** 0.5\n",
    "    sb = upperPrice ** 0.5\n",
    "    current_sp = currentPrice ** 0.5\n",
    "    L = uniMath.get_liquidity_1(initial_y, sa, sp)\n",
    "    x = uniMath.calculate_x(L, current_sp, sa, sb)\n",
    "    y = uniMath.calculate_y(L, current_sp, sa, sb)\n",
    "    return (x, y)\n",
    "    "
   ]
  },
  {
   "cell_type": "code",
   "execution_count": 201,
   "id": "3139444a",
   "metadata": {},
   "outputs": [],
   "source": [
    "def uniswapV3_TV(S, priceUpper, priceLower, initial_y, initial_price):\n",
    "    x, y = get_tokens_amounts(initial_price=initial_price, lowerPrice=priceLower, upperPrice=priceUpper, initial_y=initial_y, currentPrice=S)\n",
    "    \n",
    "    return x * S + y\n",
    "    "
   ]
  },
  {
   "cell_type": "code",
   "execution_count": 202,
   "id": "6b1248b3",
   "metadata": {},
   "outputs": [],
   "source": [
    "# get_tokens_amounts(initial_price=1330, lowerPrice=1100, upperPrice=1500, initial_y=1000, currentPrice=1300)\n",
    "\n"
   ]
  },
  {
   "cell_type": "code",
   "execution_count": 203,
   "id": "56f8a8a8",
   "metadata": {},
   "outputs": [],
   "source": [
    "params = {'priceUpper': 2500, 'priceLower': 1100, 'current_price': 1300, 'y0': 300, 'T': 0.1, 'r': 0.1, 'sigma': 0.7}\n"
   ]
  },
  {
   "cell_type": "code",
   "execution_count": 204,
   "id": "e6816eae",
   "metadata": {},
   "outputs": [],
   "source": [
    "priceUpper = params['priceUpper']\n",
    "priceLower = params['priceLower']\n",
    "current_price = params['current_price']\n",
    "\n",
    "# initial_TV = params['x0'] * 2 # => we assume lowerPrice = current_price*0.5, upperPrice = current_price*2\n",
    "y0 = params['y0']\n",
    "T = params['T']\n",
    "r = params['r']\n",
    "sigma = params['sigma']\n"
   ]
  },
  {
   "cell_type": "code",
   "execution_count": 205,
   "id": "2bb2e058",
   "metadata": {},
   "outputs": [
    {
     "name": "stdout",
     "output_type": "stream",
     "text": [
      "tokens amounts: 0.8031464967658842 300.0\n",
      "initial TV: 1344.0904457956494\n"
     ]
    }
   ],
   "source": [
    "tokens_amounts = get_tokens_amounts(initial_price=current_price, \n",
    "                                    lowerPrice=priceLower, upperPrice=priceUpper, \n",
    "                                    initial_y=y0, currentPrice=current_price)\n",
    "\n",
    "\n",
    "eth, usdc = tokens_amounts\n",
    "print('tokens amounts:', eth, usdc)\n",
    "print('initial TV:', eth*current_price + usdc)"
   ]
  },
  {
   "cell_type": "code",
   "execution_count": 206,
   "id": "693c76d8",
   "metadata": {},
   "outputs": [],
   "source": [
    "lower_tick = get_tokens_amounts(initial_price=current_price, \n",
    "                                    lowerPrice=priceLower, upperPrice=priceUpper, \n",
    "                                    initial_y=y0, currentPrice=priceLower)\n",
    "lower_tick = lower_tick[0]"
   ]
  },
  {
   "cell_type": "code",
   "execution_count": 207,
   "id": "9eca1eb8",
   "metadata": {},
   "outputs": [],
   "source": [
    "upper_tick = get_tokens_amounts(initial_price=current_price, \n",
    "                                    lowerPrice=priceLower, upperPrice=priceUpper, \n",
    "                                    initial_y=y0, currentPrice=priceUpper)\n",
    "upper_tick = upper_tick[1]"
   ]
  },
  {
   "cell_type": "code",
   "execution_count": null,
   "id": "525c90bd",
   "metadata": {},
   "outputs": [],
   "source": []
  },
  {
   "cell_type": "code",
   "execution_count": null,
   "id": "7216cf2e",
   "metadata": {},
   "outputs": [],
   "source": []
  },
  {
   "cell_type": "code",
   "execution_count": 208,
   "id": "9e3f3d92",
   "metadata": {},
   "outputs": [],
   "source": [
    "# initial_TV"
   ]
  },
  {
   "cell_type": "code",
   "execution_count": 209,
   "id": "789cc17b",
   "metadata": {},
   "outputs": [],
   "source": [
    "# amount of option contracts to protect initial_TV\n",
    "\n",
    "# amount = uniswapV3_TV(priceLower, priceUpper, priceLower) / priceLower\n",
    "\n"
   ]
  },
  {
   "cell_type": "code",
   "execution_count": 211,
   "id": "2d64069a",
   "metadata": {},
   "outputs": [],
   "source": [
    "mid_prices = [price for price in range(priceLower, priceUpper, 1)]\n",
    "low_prices = list(range(0, priceLower+10, 10))\n",
    "high_prices = list(range(priceUpper, 2000, 10))\n",
    "hodl_eth = [x * lower_tick for x in low_prices]\n",
    "hodl_usdc = [upper_tick] * len(high_prices)\n",
    "TVs = [uniswapV3_TV(price, priceUpper, priceLower, y0, current_price) for price in mid_prices]"
   ]
  },
  {
   "cell_type": "code",
   "execution_count": 212,
   "id": "b3a087cc",
   "metadata": {},
   "outputs": [],
   "source": [
    "N = norm.cdf\n",
    "\n",
    "def BS_PUT(S, K, T, r, sigma):\n",
    "    d1 = (np.log(S/K) + (r + sigma**2/2)*T) / (sigma*np.sqrt(T))\n",
    "    d2 = d1 - sigma * np.sqrt(T)\n",
    "    return K * np.exp(-r*T)* N(-d2) - S * N(-d1)"
   ]
  },
  {
   "cell_type": "code",
   "execution_count": 213,
   "id": "6363175d",
   "metadata": {
    "scrolled": true
   },
   "outputs": [
    {
     "name": "stdout",
     "output_type": "stream",
     "text": [
      "0 111\n"
     ]
    }
   ],
   "source": [
    "print(len(hodl_usdc), len(hodl_eth))"
   ]
  },
  {
   "cell_type": "code",
   "execution_count": 214,
   "id": "ba649af6",
   "metadata": {},
   "outputs": [
    {
     "data": {
      "text/plain": [
       "1159.4210097448126"
      ]
     },
     "execution_count": 214,
     "metadata": {},
     "output_type": "execute_result"
    }
   ],
   "source": [
    "TVs[0]"
   ]
  },
  {
   "cell_type": "code",
   "execution_count": 215,
   "id": "e11d00ec",
   "metadata": {
    "scrolled": true
   },
   "outputs": [
    {
     "data": {
      "text/plain": [
       "[<matplotlib.lines.Line2D at 0x7f96c799bfd0>]"
      ]
     },
     "execution_count": 215,
     "metadata": {},
     "output_type": "execute_result"
    },
    {
     "data": {
      "image/png": "[encoded data removed]",
      "text/plain": [
       "<Figure size 432x288 with 1 Axes>"
      ]
     },
     "metadata": {},
     "output_type": "display_data"
    }
   ],
   "source": [
    "all_prices = low_prices + mid_prices + high_prices\n",
    "TV1 = [TVs[0] - BS_PUT(current_price, priceLower, T, r, sigma) for price in low_prices]\n",
    "TV2 = list(map(lambda x: x - BS_PUT(current_price, priceLower, T, r, sigma), hodl_usdc))\n",
    "_TV = TV1 + list(map(lambda x: x - BS_PUT(current_price, priceLower, T, r, sigma), TVs)) + TV2\n",
    "plt.plot(all_prices, _TV)\n",
    "# plt.ylim(ymin=0, ymax=2000)"
   ]
  },
  {
   "cell_type": "code",
   "execution_count": 216,
   "id": "77c90665",
   "metadata": {},
   "outputs": [
    {
     "data": {
      "text/plain": [
       "43.85046336935836"
      ]
     },
     "execution_count": 216,
     "metadata": {},
     "output_type": "execute_result"
    }
   ],
   "source": [
    "BS_PUT(1300, 1300, 0.1, r, 0.68) * 0.42"
   ]
  },
  {
   "cell_type": "code",
   "execution_count": 217,
   "id": "329737c8",
   "metadata": {},
   "outputs": [],
   "source": [
    "# np.array(hodl_usdc) + np.array(hodl_usdc)"
   ]
  },
  {
   "cell_type": "code",
   "execution_count": 219,
   "id": "89502e96",
   "metadata": {},
   "outputs": [
    {
     "data": {
      "text/plain": [
       "<matplotlib.legend.Legend at 0x7f96d0b43a00>"
      ]
     },
     "execution_count": 219,
     "metadata": {},
     "output_type": "execute_result"
    },
    {
     "data": {
      "image/png": "[encoded data removed]",
      "text/plain": [
       "<Figure size 864x432 with 1 Axes>"
      ]
     },
     "metadata": {},
     "output_type": "display_data"
    }
   ],
   "source": [
    "fig, ax = plt.subplots()\n",
    "fig.set_figwidth(12)\n",
    "fig.set_figheight(6)\n",
    "ax.plot(low_prices, hodl_eth)\n",
    "ax.plot(mid_prices, TVs)\n",
    "ax.plot(high_prices, hodl_usdc)\n",
    "ax.plot(all_prices, _TV, 'g')\n",
    "# ax.set_ylim(ymax=8000)\n",
    "# ax.set_xlim(xmax=2000)\n",
    "ax.set_title('Uniswap V3')\n",
    "ax.set_xlabel('eth price')\n",
    "ax.set_ylabel('Portfolio value in USD')\n",
    "ax.legend(['pure LP', 'pure LP', 'pure LP', 'LP + long put'])"
   ]
  },
  {
   "cell_type": "code",
   "execution_count": null,
   "id": "eb5b8f4e",
   "metadata": {},
   "outputs": [],
   "source": []
  },
  {
   "cell_type": "code",
   "execution_count": 220,
   "id": "9a9d241f",
   "metadata": {},
   "outputs": [
    {
     "name": "stdout",
     "output_type": "stream",
     "text": [
      "1300\n"
     ]
    }
   ],
   "source": [
    "print(current_price)"
   ]
  },
  {
   "cell_type": "code",
   "execution_count": 221,
   "id": "6c6012f3",
   "metadata": {
    "scrolled": true
   },
   "outputs": [],
   "source": [
    "# tokens_amounts = get_tokens_amounts(initial_price=1330, \n",
    "#                                     lowerPrice=1100, upperPrice=1500, \n",
    "#                                     initial_y=1000, currentPrice=current_price)\n",
    "\n",
    "\n",
    "# eth, usdc = tokens_amounts"
   ]
  },
  {
   "cell_type": "code",
   "execution_count": 222,
   "id": "f1cc5cbe",
   "metadata": {},
   "outputs": [
    {
     "data": {
      "text/plain": [
       "0.8031464967658842"
      ]
     },
     "execution_count": 222,
     "metadata": {},
     "output_type": "execute_result"
    }
   ],
   "source": [
    "eth"
   ]
  },
  {
   "cell_type": "code",
   "execution_count": 223,
   "id": "d155942c",
   "metadata": {},
   "outputs": [],
   "source": [
    "K = current_price\n",
    "S0 = current_price"
   ]
  },
  {
   "cell_type": "code",
   "execution_count": 224,
   "id": "a1b137d7",
   "metadata": {},
   "outputs": [],
   "source": [
    "put_payoffs = np.array([(max(0, K - price) - BS_PUT(S0, K, T, r, sigma)) * lower_tick for price in all_prices])"
   ]
  },
  {
   "cell_type": "code",
   "execution_count": 225,
   "id": "23447e2e",
   "metadata": {},
   "outputs": [
    {
     "name": "stdout",
     "output_type": "stream",
     "text": [
      "113.46178854894148\n"
     ]
    }
   ],
   "source": [
    "print(BS_PUT(S0, K, T, r, sigma)*lower_tick)"
   ]
  },
  {
   "cell_type": "code",
   "execution_count": 226,
   "id": "984686ba",
   "metadata": {},
   "outputs": [
    {
     "data": {
      "text/plain": [
       "[<matplotlib.lines.Line2D at 0x7f96c72b8190>]"
      ]
     },
     "execution_count": 226,
     "metadata": {},
     "output_type": "execute_result"
    },
    {
     "data": {
      "image/png": "[encoded data removed]",
      "text/plain": [
       "<Figure size 432x288 with 1 Axes>"
      ]
     },
     "metadata": {},
     "output_type": "display_data"
    }
   ],
   "source": [
    "plt.plot(all_prices, put_payoffs)"
   ]
  },
  {
   "cell_type": "code",
   "execution_count": 227,
   "id": "e8ec0009",
   "metadata": {},
   "outputs": [],
   "source": [
    "LP_with_vanilla_put = np.array(hodl_eth + TVs + hodl_usdc) + put_payoffs\n",
    "pure_LP = hodl_eth + TVs + hodl_usdc"
   ]
  },
  {
   "cell_type": "code",
   "execution_count": null,
   "id": "4c9a1f69",
   "metadata": {},
   "outputs": [],
   "source": []
  },
  {
   "cell_type": "code",
   "execution_count": 228,
   "id": "561c84a9",
   "metadata": {},
   "outputs": [
    {
     "data": {
      "text/plain": [
       "1344.0904457956494"
      ]
     },
     "execution_count": 228,
     "metadata": {},
     "output_type": "execute_result"
    }
   ],
   "source": [
    "usdc + eth * current_price # initial TV"
   ]
  },
  {
   "cell_type": "code",
   "execution_count": 229,
   "id": "89b4ec68",
   "metadata": {
    "scrolled": true
   },
   "outputs": [
    {
     "data": {
      "text/plain": [
       "1151.3611311726722"
      ]
     },
     "execution_count": 229,
     "metadata": {},
     "output_type": "execute_result"
    }
   ],
   "source": [
    "put_payoffs[10]"
   ]
  },
  {
   "cell_type": "markdown",
   "id": "5ec83790",
   "metadata": {},
   "source": [
    "### Suppose LP earns 5% monthly"
   ]
  },
  {
   "cell_type": "code",
   "execution_count": 230,
   "id": "4978948a",
   "metadata": {},
   "outputs": [],
   "source": [
    "def get_LP_fees(TV, T):\n",
    "    return TV * 0.05 * (T / (30))"
   ]
  },
  {
   "cell_type": "code",
   "execution_count": 231,
   "id": "c7beffd2",
   "metadata": {
    "scrolled": true
   },
   "outputs": [
    {
     "data": {
      "text/plain": [
       "80.64542674773897"
      ]
     },
     "execution_count": 231,
     "metadata": {},
     "output_type": "execute_result"
    }
   ],
   "source": [
    "get_LP_fees(usdc + eth*current_price, 36)"
   ]
  },
  {
   "cell_type": "code",
   "execution_count": 232,
   "id": "c8d25f99",
   "metadata": {},
   "outputs": [],
   "source": [
    "LP_with_vanilla_put_with_fees = LP_with_vanilla_put + np.array([get_LP_fees(usdc+eth*current_price, T*365)] * len(LP_with_vanilla_put))\n",
    "\n",
    "\n"
   ]
  },
  {
   "cell_type": "code",
   "execution_count": 247,
   "id": "7ff6006e",
   "metadata": {},
   "outputs": [
    {
     "name": "stdout",
     "output_type": "stream",
     "text": [
      "311\n",
      "1344.0904457956494 1312.3941593659433\n",
      "0.02358195947962649\n"
     ]
    }
   ],
   "source": [
    "index_of_current_price = all_prices.index(current_price)\n",
    "\n",
    "pure_LP_ATM = (pure_LP[index_of_current_price])\n",
    "LPwvpwf_ATM = (LP_with_vanilla_put_with_fees[index_of_current_price])\n",
    "\n",
    "print(index_of_current_price)\n",
    "print(pure_LP_ATM, LPwvpwf_ATM)\n",
    "print(1 - LPwvpwf_ATM/pure_LP_ATM)\n"
   ]
  },
  {
   "cell_type": "code",
   "execution_count": 269,
   "id": "a8ec6f65",
   "metadata": {},
   "outputs": [
    {
     "name": "stdout",
     "output_type": "stream",
     "text": [
      "current eth price(i.e. initial price): 1300\n",
      "break even:\n",
      "eth price: 1342\n",
      "TV: 1345.1648650343843\n"
     ]
    }
   ],
   "source": [
    "print('current eth price(i.e. initial price):', current_price)\n",
    "print('break even:')\n",
    "print('eth price:', all_prices[index_of_current_price+42])\n",
    "print('TV:', LP_with_vanilla_put_with_fees[index_of_current_price+42])"
   ]
  },
  {
   "cell_type": "code",
   "execution_count": 234,
   "id": "0bb6b6db",
   "metadata": {},
   "outputs": [
    {
     "data": {
      "text/plain": [
       "<matplotlib.legend.Legend at 0x7f96c7c79eb0>"
      ]
     },
     "execution_count": 234,
     "metadata": {},
     "output_type": "execute_result"
    },
    {
     "data": {
      "image/png": "[encoded data removed]",
      "text/plain": [
       "<Figure size 864x432 with 1 Axes>"
      ]
     },
     "metadata": {},
     "output_type": "display_data"
    }
   ],
   "source": [
    "fig, ax = plt.subplots()\n",
    "fig.set_figwidth(12)\n",
    "fig.set_figheight(6)\n",
    "\n",
    "ax.plot(all_prices, LP_with_vanilla_put, 'r')\n",
    "ax.plot(all_prices, LP_with_vanilla_put_with_fees, 'y')\n",
    "ax.plot(all_prices, pure_LP, 'g')\n",
    "ax.plot([current_price], [usdc + eth * current_price], 'o')\n",
    "ax.plot([250], [((max(0, K - 250) - BS_PUT(S0, K, T, r, sigma)) * lower_tick) + lower_tick * 250], 'bo')\n",
    "# ax.set_ylim(ymin=400, ymax=1300)\n",
    "ax.legend(['LP_with_vanilla_put', 'LP_with_vanilla_put_with_fees (estimated)', 'pure_LP'])"
   ]
  },
  {
   "cell_type": "code",
   "execution_count": null,
   "id": "e9e72c2c",
   "metadata": {},
   "outputs": [],
   "source": []
  }
 ],
 "metadata": {
  "kernelspec": {
   "display_name": "Python 3 (ipykernel)",
   "language": "python",
   "name": "python3"
  },
  "language_info": {
   "codemirror_mode": {
    "name": "ipython",
    "version": 3
   },
   "file_extension": ".py",
   "mimetype": "text/x-python",
   "name": "python",
   "nbconvert_exporter": "python",
   "pygments_lexer": "ipython3",
   "version": "3.8.15"
  }
 },
 "nbformat": 4,
 "nbformat_minor": 5
}
