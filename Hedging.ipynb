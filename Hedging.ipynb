{
 "cells": [
  {
   "cell_type": "code",
   "execution_count": 1,
   "id": "c49c5e50",
   "metadata": {},
   "outputs": [],
   "source": [
    "import pandas as pd\n",
    "import numpy as np\n",
    "from pandas_datareader import data as pdr\n",
    "import pandas as pd\n",
    "import yfinance as yf\n",
    "import yahoofinancials\n",
    "import seaborn as sns\n",
    "import datetime\n",
    "from datetime import date\n",
    "import matplotlib.pyplot as plt\n",
    "\n",
    "import random\n",
    "from random import randrange\n",
    "from scipy.stats import norm\n",
    "\n",
    "import scipy.stats as si\n",
    "import sympy as sy\n",
    "from sympy.stats import Normal, cdf\n",
    "from sympy import init_printing\n",
    "init_printing()"
   ]
  },
  {
   "cell_type": "code",
   "execution_count": null,
   "id": "e5c6d9b3",
   "metadata": {},
   "outputs": [],
   "source": []
  },
  {
   "cell_type": "code",
   "execution_count": 2,
   "id": "320596c0",
   "metadata": {},
   "outputs": [],
   "source": [
    "# European Option Price "
   ]
  },
  {
   "cell_type": "code",
   "execution_count": 3,
   "id": "1a9ca721",
   "metadata": {},
   "outputs": [],
   "source": [
    "def euro_vanilla(S, K, T, r, sigma, option = 'call'):\n",
    "    \n",
    "    d1 = (np.log(S / K) + (r + 0.5 * sigma ** 2) * T) / (sigma * np.sqrt(T))\n",
    "    d2 = (np.log(S / K) + (r - 0.5 * sigma ** 2) * T) / (sigma * np.sqrt(T))\n",
    "    \n",
    "    if option == 'call':\n",
    "        result = (S * si.norm.cdf(d1, 0.0, 1.0) - K * np.exp(-r * T) * si.norm.cdf(d2, 0.0, 1.0))\n",
    "    if option == 'put':\n",
    "        result = (K * np.exp(-r * T) * si.norm.cdf(-d2, 0.0, 1.0) - S * si.norm.cdf(-d1, 0.0, 1.0))\n",
    "        \n",
    "    return result"
   ]
  },
  {
   "cell_type": "code",
   "execution_count": 4,
   "id": "0602e81e",
   "metadata": {},
   "outputs": [],
   "source": [
    "# User buys option and it is added to the batch of all options\n",
    "# weighted average of Options \n",
    "def pushOption(amount,payment, S,K,T,R,SIGMA, DELTA):\n",
    "    A = options[\"amount\"]\n",
    "    options[\"amount\"] += amount\n",
    "    \n",
    "    options[\"payment\"] += payment\n",
    "    \n",
    "    S = (amount * S + A * options[\"S\"]) / (amount + A)\n",
    "    options[\"S\"] = S\n",
    "    \n",
    "    K = (amount * K + A * options[\"K\"]) / (amount + A)\n",
    "    options[\"K\"] = K\n",
    "    \n",
    "    T = (amount * T + A * options[\"T\"]) / (amount + A)\n",
    "    options[\"T\"] = T\n",
    "    \n",
    "    R = (amount * R + A * options[\"R\"]) / (amount + A)\n",
    "    options[\"R\"] = R\n",
    "    \n",
    "    SIGMA = (amount * SIGMA + A * options[\"SIGMA\"]) / (amount + A)\n",
    "    options[\"SIGMA\"] = SIGMA\n"
   ]
  },
  {
   "cell_type": "code",
   "execution_count": 5,
   "id": "e520784f",
   "metadata": {},
   "outputs": [],
   "source": [
    "def BuyOption(price):\n",
    "\n",
    "    amount = random.randint(1,5)\n",
    "    \n",
    "    S = price\n",
    "    K = price - random.randint(0,200)\n",
    "    T = 1\n",
    "    r = 0.1\n",
    "    sigma = 0.5\n",
    "    \n",
    "    option = \"call\"\n",
    "    \n",
    "    P = euro_vanilla(S,K,T,r,sigma, option)\n",
    "    \n",
    "    price = P * amount\n",
    "\n",
    "    pushOption(amount,price,S,K,T,r,sigma, option)\n",
    "    "
   ]
  },
  {
   "cell_type": "code",
   "execution_count": 6,
   "id": "ba9cac0d",
   "metadata": {},
   "outputs": [],
   "source": [
    "def delta_calc(S, K, T, r, sigma):\n",
    "    \n",
    "    d1 = (np.log(S / K) + (r + 0.5 * sigma ** 2) * T) / (sigma * np.sqrt(T))\n",
    "    delta_calc = norm.cdf(d1, 0, 1)\n",
    "\n",
    "    return delta_calc"
   ]
  },
  {
   "cell_type": "code",
   "execution_count": 7,
   "id": "e7f8a7f4",
   "metadata": {},
   "outputs": [],
   "source": [
    "def UpdateDelta():\n",
    "    \n",
    "    S = options[\"S\"]\n",
    "    K = options[\"K\"]\n",
    "    T = options[\"T\"]\n",
    "    r = options[\"R\"]\n",
    "    sigma = options[\"SIGMA\"]\n",
    "    \n",
    "    DELTA = delta_calc(S,K,T,r,sigma)\n",
    "    \n",
    "    options[\"DELTA\"] = DELTA\n",
    "    \n",
    "    return DELTA"
   ]
  },
  {
   "cell_type": "code",
   "execution_count": 8,
   "id": "ca78ebb4",
   "metadata": {},
   "outputs": [],
   "source": [
    "# initializing batch of all options \n",
    "options = {\"amount\": 0, \"payment\": 0, \"S\": 0, \"K\": 0, \"T\": 0, \"R\": 0, \"SIGMA\": 0, \"DELTA\": 0}"
   ]
  },
  {
   "cell_type": "code",
   "execution_count": 9,
   "id": "5c5caef2",
   "metadata": {},
   "outputs": [
    {
     "name": "stdout",
     "output_type": "stream",
     "text": [
      "[*********************100%***********************]  1 of 1 completed\n"
     ]
    },
    {
     "data": {
      "text/html": [
       "<div>\n",
       "<style scoped>\n",
       "    .dataframe tbody tr th:only-of-type {\n",
       "        vertical-align: middle;\n",
       "    }\n",
       "\n",
       "    .dataframe tbody tr th {\n",
       "        vertical-align: top;\n",
       "    }\n",
       "\n",
       "    .dataframe thead th {\n",
       "        text-align: right;\n",
       "    }\n",
       "</style>\n",
       "<table border=\"1\" class=\"dataframe\">\n",
       "  <thead>\n",
       "    <tr style=\"text-align: right;\">\n",
       "      <th></th>\n",
       "      <th>Open</th>\n",
       "      <th>High</th>\n",
       "      <th>Low</th>\n",
       "      <th>Close</th>\n",
       "      <th>Adj Close</th>\n",
       "      <th>Volume</th>\n",
       "    </tr>\n",
       "    <tr>\n",
       "      <th>Date</th>\n",
       "      <th></th>\n",
       "      <th></th>\n",
       "      <th></th>\n",
       "      <th></th>\n",
       "      <th></th>\n",
       "      <th></th>\n",
       "    </tr>\n",
       "  </thead>\n",
       "  <tbody>\n",
       "    <tr>\n",
       "      <th>2021-12-31</th>\n",
       "      <td>3713.430176</td>\n",
       "      <td>3807.288818</td>\n",
       "      <td>3636.869873</td>\n",
       "      <td>3682.632812</td>\n",
       "      <td>3682.632812</td>\n",
       "      <td>14157285268</td>\n",
       "    </tr>\n",
       "    <tr>\n",
       "      <th>2022-01-01</th>\n",
       "      <td>3683.047119</td>\n",
       "      <td>3769.917969</td>\n",
       "      <td>3682.286621</td>\n",
       "      <td>3769.697021</td>\n",
       "      <td>3769.697021</td>\n",
       "      <td>9776191466</td>\n",
       "    </tr>\n",
       "    <tr>\n",
       "      <th>2022-01-02</th>\n",
       "      <td>3769.298340</td>\n",
       "      <td>3836.161865</td>\n",
       "      <td>3727.357422</td>\n",
       "      <td>3829.564941</td>\n",
       "      <td>3829.564941</td>\n",
       "      <td>9881471548</td>\n",
       "    </tr>\n",
       "    <tr>\n",
       "      <th>2022-01-03</th>\n",
       "      <td>3829.535645</td>\n",
       "      <td>3836.198730</td>\n",
       "      <td>3698.047607</td>\n",
       "      <td>3761.380371</td>\n",
       "      <td>3761.380371</td>\n",
       "      <td>12080777893</td>\n",
       "    </tr>\n",
       "    <tr>\n",
       "      <th>2022-01-04</th>\n",
       "      <td>3761.361572</td>\n",
       "      <td>3876.785156</td>\n",
       "      <td>3723.349854</td>\n",
       "      <td>3794.056641</td>\n",
       "      <td>3794.056641</td>\n",
       "      <td>14030925983</td>\n",
       "    </tr>\n",
       "  </tbody>\n",
       "</table>\n",
       "</div>"
      ],
      "text/plain": [
       "                   Open         High          Low        Close    Adj Close  \\\n",
       "Date                                                                          \n",
       "2021-12-31  3713.430176  3807.288818  3636.869873  3682.632812  3682.632812   \n",
       "2022-01-01  3683.047119  3769.917969  3682.286621  3769.697021  3769.697021   \n",
       "2022-01-02  3769.298340  3836.161865  3727.357422  3829.564941  3829.564941   \n",
       "2022-01-03  3829.535645  3836.198730  3698.047607  3761.380371  3761.380371   \n",
       "2022-01-04  3761.361572  3876.785156  3723.349854  3794.056641  3794.056641   \n",
       "\n",
       "                 Volume  \n",
       "Date                     \n",
       "2021-12-31  14157285268  \n",
       "2022-01-01   9776191466  \n",
       "2022-01-02   9881471548  \n",
       "2022-01-03  12080777893  \n",
       "2022-01-04  14030925983  "
      ]
     },
     "execution_count": 9,
     "metadata": {},
     "output_type": "execute_result"
    }
   ],
   "source": [
    "# download historical data\n",
    "yf.pdr_override() \n",
    "df = pdr.get_data_yahoo(\"ETH-USD\", start=\"2022-01-01\", end=\"2022-03-12\")\n",
    "df.head()"
   ]
  },
  {
   "cell_type": "code",
   "execution_count": 10,
   "id": "0ec96edb",
   "metadata": {},
   "outputs": [],
   "source": [
    "df = df.reset_index()"
   ]
  },
  {
   "cell_type": "code",
   "execution_count": null,
   "id": "9fde0b12",
   "metadata": {},
   "outputs": [],
   "source": []
  },
  {
   "cell_type": "code",
   "execution_count": 11,
   "id": "e0cd5a6b",
   "metadata": {},
   "outputs": [],
   "source": [
    "for index, row in df.iterrows():\n",
    "    price = row[\"Close\"]\n",
    "    \n",
    "    BuyOption(price)\n",
    "    UpdateDelta()"
   ]
  },
  {
   "cell_type": "code",
   "execution_count": 12,
   "id": "58af7fc7",
   "metadata": {
    "scrolled": true
   },
   "outputs": [
    {
     "data": {
      "text/plain": [
       "{'amount': 222,\n",
       " 'payment': 166318.66634319324,\n",
       " 'S': 2951.0867436039557,\n",
       " 'K': 2855.915572432785,\n",
       " 'T': 1.0,\n",
       " 'R': 0.10000000000000006,\n",
       " 'SIGMA': 0.5,\n",
       " 'DELTA': 0.6969198271068432}"
      ]
     },
     "execution_count": 12,
     "metadata": {},
     "output_type": "execute_result"
    }
   ],
   "source": [
    "options"
   ]
  },
  {
   "cell_type": "code",
   "execution_count": null,
   "id": "4721c8cc",
   "metadata": {},
   "outputs": [],
   "source": []
  },
  {
   "cell_type": "code",
   "execution_count": null,
   "id": "d6afea15",
   "metadata": {},
   "outputs": [],
   "source": []
  },
  {
   "cell_type": "code",
   "execution_count": null,
   "id": "91f27741",
   "metadata": {},
   "outputs": [],
   "source": []
  },
  {
   "cell_type": "code",
   "execution_count": null,
   "id": "da2ce4f3",
   "metadata": {},
   "outputs": [],
   "source": [
    "## Logic of DeltaHedge.sol"
   ]
  },
  {
   "cell_type": "code",
   "execution_count": 13,
   "id": "b7ee4924",
   "metadata": {},
   "outputs": [],
   "source": [
    "def rebalancePool(USDC, ETH, rate, delta): \n",
    "    ethToUSDC = ETH * rate\n",
    "    poolVal = ethToUSDC + USDC\n",
    "    \n",
    "    deltaNow = ethToUSDC / poolVal\n",
    "    \n",
    "    print(\"Pool Value \" + str(poolVal))\n",
    "    print(\"Delta Now \" + str(deltaNow))\n",
    "    \n",
    "    if (deltaNow < delta):\n",
    "        \n",
    "        newAmount = delta * poolVal / rate\n",
    "        amount = newAmount - ETH\n",
    "        \n",
    "        swap = amount * rate\n",
    "        \n",
    "        print(\"Swap \" + str(swap) + \" USDC for \" + str(amount) + \" ETH\")\n",
    "    \n",
    "        print(\"Buy \" + str(amount) + \" ETH\")\n",
    "        \n",
    "        \n",
    "    if (deltaNow > delta):\n",
    "        \n",
    "        newAmount = delta * poolVal / rate\n",
    "        amount = ETH - newAmount\n",
    "    \n",
    "        swap = amount * rate\n",
    "        \n",
    "        print(\"Swap \" + str(amount) + \" ETH for \" + str(swap) + \" USDC\")\n",
    "\n",
    "        print(\"Sell \" + str(amount) + \" ETH\")"
   ]
  },
  {
   "cell_type": "code",
   "execution_count": 16,
   "id": "37d52a52",
   "metadata": {},
   "outputs": [
    {
     "name": "stdout",
     "output_type": "stream",
     "text": [
      "Pool Value 600000\n",
      "Delta Now 0.5\n",
      "Swap 240000.0 USDC for 80.0 ETH\n",
      "Buy 80.0 ETH\n"
     ]
    }
   ],
   "source": [
    "rebalancePool(300000,100,3000,0.9)"
   ]
  },
  {
   "cell_type": "code",
   "execution_count": 17,
   "id": "131d3314",
   "metadata": {},
   "outputs": [
    {
     "name": "stdout",
     "output_type": "stream",
     "text": [
      "Pool Value 600000\n",
      "Delta Now 0.2\n"
     ]
    }
   ],
   "source": [
    "rebalancePool(480000,40,3000,0.2)"
   ]
  },
  {
   "cell_type": "code",
   "execution_count": null,
   "id": "f7583cee",
   "metadata": {},
   "outputs": [],
   "source": []
  },
  {
   "cell_type": "code",
   "execution_count": null,
   "id": "3556e89d",
   "metadata": {},
   "outputs": [],
   "source": []
  },
  {
   "cell_type": "code",
   "execution_count": null,
   "id": "5114ba18",
   "metadata": {},
   "outputs": [],
   "source": []
  },
  {
   "cell_type": "code",
   "execution_count": null,
   "id": "4df01975",
   "metadata": {},
   "outputs": [],
   "source": []
  },
  {
   "cell_type": "code",
   "execution_count": null,
   "id": "bc9ddc6a",
   "metadata": {},
   "outputs": [],
   "source": []
  },
  {
   "cell_type": "code",
   "execution_count": null,
   "id": "e6df54d7",
   "metadata": {},
   "outputs": [],
   "source": []
  },
  {
   "cell_type": "code",
   "execution_count": null,
   "id": "4f4cb7f4",
   "metadata": {},
   "outputs": [],
   "source": [
    "# plot a random delta on df \n",
    "# not connected to code above... "
   ]
  },
  {
   "cell_type": "code",
   "execution_count": null,
   "id": "d215aaef",
   "metadata": {},
   "outputs": [],
   "source": [
    "df[\"Delta\"] = delta_calc(df[\"Close\"],(df[\"Close\"] - random.randint(-100,300)),1,0.1,0.5)"
   ]
  },
  {
   "cell_type": "code",
   "execution_count": null,
   "id": "e2b047c3",
   "metadata": {},
   "outputs": [],
   "source": [
    "df.head()"
   ]
  },
  {
   "cell_type": "code",
   "execution_count": null,
   "id": "15bcd754",
   "metadata": {},
   "outputs": [],
   "source": [
    "import matplotlib.pyplot as plt\n",
    "\n",
    "df.plot(kind='line',x='Date',y='Delta',color='red')\n",
    "plt.show()"
   ]
  },
  {
   "cell_type": "code",
   "execution_count": null,
   "id": "d39ad121",
   "metadata": {},
   "outputs": [],
   "source": [
    "df.plot(kind='line',x='Date',y='Close',color='red')\n",
    "plt.show()"
   ]
  },
  {
   "cell_type": "code",
   "execution_count": null,
   "id": "ce4c1d72",
   "metadata": {},
   "outputs": [],
   "source": []
  },
  {
   "cell_type": "code",
   "execution_count": null,
   "id": "560f6174",
   "metadata": {},
   "outputs": [],
   "source": []
  },
  {
   "cell_type": "code",
   "execution_count": null,
   "id": "93d903c0",
   "metadata": {},
   "outputs": [],
   "source": [
    "############ LIQUIDITY POOL #################"
   ]
  },
  {
   "cell_type": "code",
   "execution_count": null,
   "id": "2979e849",
   "metadata": {},
   "outputs": [],
   "source": []
  },
  {
   "cell_type": "code",
   "execution_count": null,
   "id": "3f60498a",
   "metadata": {},
   "outputs": [],
   "source": []
  },
  {
   "cell_type": "code",
   "execution_count": null,
   "id": "575d2e82",
   "metadata": {},
   "outputs": [],
   "source": []
  },
  {
   "cell_type": "code",
   "execution_count": null,
   "id": "7e96e442",
   "metadata": {},
   "outputs": [],
   "source": []
  },
  {
   "cell_type": "code",
   "execution_count": null,
   "id": "c7512495",
   "metadata": {},
   "outputs": [],
   "source": []
  },
  {
   "cell_type": "code",
   "execution_count": null,
   "id": "2cd25eb9",
   "metadata": {},
   "outputs": [],
   "source": []
  },
  {
   "cell_type": "code",
   "execution_count": null,
   "id": "5aeebe65",
   "metadata": {},
   "outputs": [],
   "source": []
  },
  {
   "cell_type": "code",
   "execution_count": null,
   "id": "044a3109",
   "metadata": {},
   "outputs": [],
   "source": []
  },
  {
   "cell_type": "code",
   "execution_count": null,
   "id": "fa36976e",
   "metadata": {},
   "outputs": [],
   "source": []
  },
  {
   "cell_type": "code",
   "execution_count": null,
   "id": "6057d796",
   "metadata": {},
   "outputs": [],
   "source": []
  },
  {
   "cell_type": "code",
   "execution_count": null,
   "id": "e15cc0af",
   "metadata": {},
   "outputs": [],
   "source": []
  },
  {
   "cell_type": "code",
   "execution_count": null,
   "id": "68189b2d",
   "metadata": {},
   "outputs": [],
   "source": []
  },
  {
   "cell_type": "code",
   "execution_count": null,
   "id": "4df796d2",
   "metadata": {},
   "outputs": [],
   "source": [
    "S = options[\"S\"]\n",
    "K = options[\"K\"]\n",
    "T = options[\"T\"]\n",
    "r = options[\"R\"]\n",
    "sigma = options[\"SIGMA\"]"
   ]
  },
  {
   "cell_type": "code",
   "execution_count": null,
   "id": "66dfceee",
   "metadata": {},
   "outputs": [],
   "source": [
    "BS = euro_vanilla(S,K,T,r,sigma)\n",
    "print(BS)"
   ]
  },
  {
   "cell_type": "code",
   "execution_count": null,
   "id": "4fc31a4e",
   "metadata": {},
   "outputs": [],
   "source": [
    "delta_calc(S,K,T,r,sigma)"
   ]
  },
  {
   "cell_type": "code",
   "execution_count": null,
   "id": "bf43f299",
   "metadata": {},
   "outputs": [],
   "source": []
  },
  {
   "cell_type": "code",
   "execution_count": null,
   "id": "1c8001cf",
   "metadata": {},
   "outputs": [],
   "source": []
  },
  {
   "cell_type": "code",
   "execution_count": null,
   "id": "925f1be9",
   "metadata": {},
   "outputs": [],
   "source": []
  },
  {
   "cell_type": "code",
   "execution_count": null,
   "id": "b4519419",
   "metadata": {},
   "outputs": [],
   "source": []
  },
  {
   "cell_type": "code",
   "execution_count": null,
   "id": "f088abac",
   "metadata": {},
   "outputs": [],
   "source": [
    "################ END OF POLISHED CODE #################\n",
    "############ From here on is just random test junk ###########"
   ]
  },
  {
   "cell_type": "code",
   "execution_count": null,
   "id": "e1708bd9",
   "metadata": {},
   "outputs": [],
   "source": []
  },
  {
   "cell_type": "code",
   "execution_count": null,
   "id": "dc4d95e5",
   "metadata": {},
   "outputs": [],
   "source": [
    "S = 100\n",
    "K = 100\n",
    "T = 1\n",
    "r = 0.07\n",
    "sigma = 0.5\n",
    "option = \"call\""
   ]
  },
  {
   "cell_type": "code",
   "execution_count": null,
   "id": "db3771fd",
   "metadata": {},
   "outputs": [],
   "source": [
    "euro_vanilla(S,K,T,r,sigma, option)"
   ]
  },
  {
   "cell_type": "code",
   "execution_count": null,
   "id": "57d7c837",
   "metadata": {},
   "outputs": [],
   "source": []
  },
  {
   "cell_type": "code",
   "execution_count": null,
   "id": "d5e93a3e",
   "metadata": {},
   "outputs": [],
   "source": [
    "S = 100\n",
    "K = 100\n",
    "T = 1\n",
    "r = 0.5\n",
    "sigma = 0.7\n",
    "option = \"call\""
   ]
  },
  {
   "cell_type": "code",
   "execution_count": null,
   "id": "e31f209b",
   "metadata": {},
   "outputs": [],
   "source": [
    "euro_vanilla(S,K,T,r,sigma, option)"
   ]
  },
  {
   "cell_type": "code",
   "execution_count": null,
   "id": "e70768ce",
   "metadata": {},
   "outputs": [],
   "source": []
  },
  {
   "cell_type": "code",
   "execution_count": null,
   "id": "f5aa3cc7",
   "metadata": {},
   "outputs": [],
   "source": [
    "def CallPrice(price):\n",
    "    S = price\n",
    "    K = S - 100\n",
    "    T = 1\n",
    "    r = 0.1\n",
    "    sigma = 0.3\n",
    "    option = \"call\"\n",
    "    return euro_vanilla(S,K,T,r,sigma, option)\n",
    "\n",
    "\n",
    "def PutPrice(price):\n",
    "    S = price\n",
    "    K = S + 100\n",
    "    T = 1\n",
    "    r = 0.1\n",
    "    sigma = 0.3\n",
    "    option = \"put\"\n",
    "    return euro_vanilla(S,K,T,r,sigma, option)\n",
    "    \n",
    "\n",
    "def weightedP(num_games, prob_heads=.5): \n",
    "    player_one_wins = 0 \n",
    "    for n in range(0,num_games): \n",
    "        num_flips = 0 \n",
    "        win = 0\n",
    "        while win == 0: \n",
    "            turn = np.random.uniform(0,1) \n",
    "            num_flips += 1 \n",
    "            if turn <= prob_heads: \n",
    "                if num_flips % 2 != 0: \n",
    "                    player_one_wins += 1 \n",
    "                win += 1 \n",
    "    return float(player_one_wins)/float(num_games)\n",
    "    \n",
    "    \n",
    "    \n",
    "def UserDecision(price):\n",
    "    \n",
    "    pool1 = df['Pool1'].iloc[-1]\n",
    "    pool2 = df['Pool2'].iloc[-1]\n",
    "    \n",
    "    total = pool1 + pool2\n",
    "    val = pool1/total\n",
    "    decision = weightedP(1, val)\n",
    "    \n",
    "    return decision\n",
    "    \n"
   ]
  },
  {
   "cell_type": "code",
   "execution_count": null,
   "id": "d11be295",
   "metadata": {},
   "outputs": [],
   "source": [
    "df['Pool1'] = 10\n",
    "df['Pool2'] = 10"
   ]
  },
  {
   "cell_type": "code",
   "execution_count": null,
   "id": "3e509c3d",
   "metadata": {},
   "outputs": [],
   "source": [
    "df.head()"
   ]
  },
  {
   "cell_type": "code",
   "execution_count": null,
   "id": "055dc617",
   "metadata": {},
   "outputs": [],
   "source": [
    "#for i in range(len(df['Close'])):\n",
    "\n",
    "for i in range(5):\n",
    "    \n",
    "    price = df[\"Close\"].iloc[i]\n",
    "    \n",
    "    pool1 = df[\"Pool1\"].iloc[i]\n",
    "    pool2 = df[\"Pool2\"].iloc[i]\n",
    "\n",
    "    total = pool1 + pool2\n",
    "    val = pool1/total\n",
    "    \n",
    "\n",
    "    \n",
    "    decision = weightedP(1, val)\n",
    "    \n",
    "    print(\"Pool1: \", pool1)\n",
    "    print(\"Pool1: \", pool2)\n",
    "    print(\"val: \", val)\n",
    "    print(\"decision: \", decision)\n",
    "    \n",
    "    if decision == 0:\n",
    "        # call\n",
    "        print(\"call\")\n",
    "        \n",
    "        pool1 += CallPrice(price)\n",
    "        \n",
    "        df[\"Pool1\"].iloc[i] = pool1\n",
    "        df[\"Pool1\"].iloc[i] = pool2\n",
    "    \n",
    "    else: \n",
    "        # put\n",
    "        \n",
    "        print(\"put\")\n",
    "        pool2 += PutPrice(price)\n",
    "        \n",
    "        df[\"Pool1\"].iloc[i] = pool1\n",
    "        df[\"Pool1\"].iloc[i] = pool2\n",
    "        \n",
    "    "
   ]
  },
  {
   "cell_type": "code",
   "execution_count": null,
   "id": "a6dada72",
   "metadata": {
    "scrolled": true
   },
   "outputs": [],
   "source": [
    "pool1 = df[\"Pool1\"].iloc[0]\n",
    "print(pool1)"
   ]
  },
  {
   "cell_type": "code",
   "execution_count": null,
   "id": "16b251ba",
   "metadata": {},
   "outputs": [],
   "source": []
  },
  {
   "cell_type": "code",
   "execution_count": null,
   "id": "30d64f4d",
   "metadata": {},
   "outputs": [],
   "source": [
    "pool1 = df[\"Pool1\"].iloc[0]\n",
    "pool2 = df[\"Pool2\"].iloc[0]\n",
    "\n",
    "total = pool1 + pool2\n",
    "val = pool1/total\n",
    "decision = weightedP(1, val)\n",
    "print(val)\n",
    "print(decision)"
   ]
  },
  {
   "cell_type": "code",
   "execution_count": null,
   "id": "7a60f5b2",
   "metadata": {},
   "outputs": [],
   "source": []
  },
  {
   "cell_type": "code",
   "execution_count": null,
   "id": "9612d600",
   "metadata": {},
   "outputs": [],
   "source": []
  },
  {
   "cell_type": "code",
   "execution_count": null,
   "id": "00cfed6c",
   "metadata": {},
   "outputs": [],
   "source": [
    "pool1 = df['Pool1'].iloc[-1]\n",
    "print(pool1)"
   ]
  },
  {
   "cell_type": "code",
   "execution_count": null,
   "id": "d71aa286",
   "metadata": {},
   "outputs": [],
   "source": []
  },
  {
   "cell_type": "code",
   "execution_count": null,
   "id": "3aa21843",
   "metadata": {},
   "outputs": [],
   "source": [
    "df['Pool1'] = 100\n",
    "df['Pool2'] = 100"
   ]
  },
  {
   "cell_type": "code",
   "execution_count": null,
   "id": "4aeef7f3",
   "metadata": {},
   "outputs": [],
   "source": [
    "for i in df.index:\n",
    "        df.at[i, 'ifor'] = x"
   ]
  },
  {
   "cell_type": "code",
   "execution_count": null,
   "id": "255d26d6",
   "metadata": {},
   "outputs": [],
   "source": [
    "df"
   ]
  },
  {
   "cell_type": "code",
   "execution_count": null,
   "id": "087f769b",
   "metadata": {},
   "outputs": [],
   "source": []
  },
  {
   "cell_type": "code",
   "execution_count": null,
   "id": "fd1014cf",
   "metadata": {},
   "outputs": [],
   "source": [
    "def UpdatePool(pool1, pool2, price):\n",
    "    \n",
    "    UserDecision(pool1, pool2, price)\n",
    "    \n",
    "    if decision == 0:\n",
    "        option = \"call\"\n",
    "        pool1 += CallPrice(price)\n",
    "        return pool1\n",
    "        \n",
    "    else: \n",
    "        option = \"put\"\n",
    "        pool2 += PutPrice(price)\n",
    "        return pool2\n",
    "\n",
    "    \n",
    "    \n",
    "CallPool = pd.Series(CallPool(df[\"Close\"]), name='CallPrice')\n"
   ]
  },
  {
   "cell_type": "code",
   "execution_count": null,
   "id": "6ee934ba",
   "metadata": {},
   "outputs": [],
   "source": []
  },
  {
   "cell_type": "code",
   "execution_count": null,
   "id": "0bf86bf7",
   "metadata": {},
   "outputs": [],
   "source": []
  },
  {
   "cell_type": "code",
   "execution_count": null,
   "id": "1d7f214c",
   "metadata": {},
   "outputs": [],
   "source": [
    "UserDecision(50,50,3000)"
   ]
  },
  {
   "cell_type": "code",
   "execution_count": null,
   "id": "73837ad6",
   "metadata": {},
   "outputs": [],
   "source": [
    "weightedP(1, 0.9149591015180875)"
   ]
  },
  {
   "cell_type": "code",
   "execution_count": null,
   "id": "7b634c0e",
   "metadata": {},
   "outputs": [],
   "source": []
  },
  {
   "cell_type": "code",
   "execution_count": null,
   "id": "d236fa82",
   "metadata": {},
   "outputs": [],
   "source": [
    "CallPrice = pd.Series(CallPrice(df[\"Close\"]), name='CallPrice')\n",
    "PutPrice = pd.Series(PutPrice(df[\"Close\"]), name='PutPrice')\n",
    "df = df.join(CallPrice)\n",
    "df = df.join(PutPrice)"
   ]
  },
  {
   "cell_type": "code",
   "execution_count": null,
   "id": "58261688",
   "metadata": {},
   "outputs": [],
   "source": [
    "df"
   ]
  },
  {
   "cell_type": "code",
   "execution_count": null,
   "id": "d11355f0",
   "metadata": {},
   "outputs": [],
   "source": [
    "CallPool = pd.Series()"
   ]
  },
  {
   "cell_type": "code",
   "execution_count": null,
   "id": "92e63e45",
   "metadata": {},
   "outputs": [],
   "source": []
  },
  {
   "cell_type": "code",
   "execution_count": null,
   "id": "8ed31fd3",
   "metadata": {},
   "outputs": [],
   "source": [
    "df"
   ]
  },
  {
   "cell_type": "code",
   "execution_count": null,
   "id": "3f6d4347",
   "metadata": {},
   "outputs": [],
   "source": []
  },
  {
   "cell_type": "code",
   "execution_count": null,
   "id": "04c73d8a",
   "metadata": {},
   "outputs": [],
   "source": []
  },
  {
   "cell_type": "code",
   "execution_count": null,
   "id": "1face25e",
   "metadata": {},
   "outputs": [],
   "source": [
    "d = ((df['close_rate'] - df['open_rate']) / df['open_rate']) * 100\n",
    "delta = pd.Series(d, name = 'delta') \n",
    "    \n",
    "    \n",
    "pool1 = OptionPrice(df[\"Close\"]) \n",
    "    "
   ]
  },
  {
   "cell_type": "code",
   "execution_count": null,
   "id": "8bfd7a7e",
   "metadata": {},
   "outputs": [],
   "source": [
    "df[\"Close\"]"
   ]
  },
  {
   "cell_type": "code",
   "execution_count": null,
   "id": "85e8780c",
   "metadata": {},
   "outputs": [],
   "source": []
  },
  {
   "cell_type": "code",
   "execution_count": null,
   "id": "28898ff5",
   "metadata": {},
   "outputs": [],
   "source": [
    "CallPoolVal = PutPool/CallPool\n",
    "PutPoolVal = CallPool/PutPool"
   ]
  },
  {
   "cell_type": "code",
   "execution_count": null,
   "id": "32ac7a4b",
   "metadata": {},
   "outputs": [],
   "source": []
  },
  {
   "cell_type": "code",
   "execution_count": null,
   "id": "c0a3b4f2",
   "metadata": {},
   "outputs": [],
   "source": [
    "\n",
    "def weightedP(num_games, prob_heads=.5): \n",
    "    player_one_wins = 0 \n",
    "    for n in range(0,num_games): \n",
    "        num_flips = 0 \n",
    "        win = 0\n",
    "        while win == 0: \n",
    "            turn = np.random.uniform(0,1) \n",
    "            num_flips += 1 \n",
    "            if turn <= prob_heads: \n",
    "                if num_flips % 2 != 0: \n",
    "                    player_one_wins += 1 \n",
    "                win += 1 \n",
    "    return float(player_one_wins)/float(num_games)"
   ]
  },
  {
   "cell_type": "code",
   "execution_count": null,
   "id": "dfbf29da",
   "metadata": {},
   "outputs": [],
   "source": []
  },
  {
   "cell_type": "code",
   "execution_count": null,
   "id": "de8ae927",
   "metadata": {},
   "outputs": [],
   "source": [
    "weightedP(10, 0.5)"
   ]
  },
  {
   "cell_type": "code",
   "execution_count": null,
   "id": "53c9b378",
   "metadata": {},
   "outputs": [],
   "source": [
    "pool1 = 551.2345061060226\n",
    "pool2 = 51.2345061060226\n",
    "\n",
    "total = pool1 + pool2\n",
    "\n",
    "val = pool1/total\n",
    "val"
   ]
  },
  {
   "cell_type": "code",
   "execution_count": null,
   "id": "6d68e86f",
   "metadata": {},
   "outputs": [],
   "source": []
  },
  {
   "cell_type": "code",
   "execution_count": null,
   "id": "17c289fb",
   "metadata": {},
   "outputs": [],
   "source": []
  },
  {
   "cell_type": "code",
   "execution_count": null,
   "id": "5f6299a9",
   "metadata": {},
   "outputs": [],
   "source": []
  }
 ],
 "metadata": {
  "kernelspec": {
   "display_name": "Python 3",
   "language": "python",
   "name": "python3"
  },
  "language_info": {
   "codemirror_mode": {
    "name": "ipython",
    "version": 3
   },
   "file_extension": ".py",
   "mimetype": "text/x-python",
   "name": "python",
   "nbconvert_exporter": "python",
   "pygments_lexer": "ipython3",
   "version": "3.8.10"
  }
 },
 "nbformat": 4,
 "nbformat_minor": 5
}
