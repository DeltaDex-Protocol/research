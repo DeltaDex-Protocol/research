{
 "cells": [
  {
   "cell_type": "code",
   "execution_count": 5,
   "id": "30b0ae02",
   "metadata": {},
   "outputs": [],
   "source": [
    "import pandas as pd\n",
    "import numpy as np\n",
    "from scipy.stats import norm\n",
    "from pandas_datareader import data as pdr\n",
    "import pandas as pd\n",
    "import yfinance as yf\n",
    "import yahoofinancials\n",
    "import seaborn as sns\n",
    "import datetime\n",
    "from datetime import date\n",
    "import matplotlib.pyplot as plt\n",
    "\n",
    "import math\n",
    "from datetime import date"
   ]
  },
  {
   "cell_type": "code",
   "execution_count": 6,
   "id": "d863d226",
   "metadata": {},
   "outputs": [],
   "source": [
    "N = norm.cdf"
   ]
  },
  {
   "cell_type": "code",
   "execution_count": 8,
   "id": "c3e58079",
   "metadata": {},
   "outputs": [
    {
     "name": "stdout",
     "output_type": "stream",
     "text": [
      "Collecting ccxt\n",
      "  Downloading ccxt-1.95.5-py2.py3-none-any.whl (3.5 MB)\n",
      "\u001b[2K     \u001b[90m━━━━━━━━━━━━━━━━━━━━━━━━━━━━━━━━━━━━━━━━\u001b[0m \u001b[32m3.5/3.5 MB\u001b[0m \u001b[31m85.0 kB/s\u001b[0m eta \u001b[36m0:00:00\u001b[0m00:01\u001b[0m00:02\u001b[0mm\n",
      "\u001b[?25hCollecting yarl==1.7.2\n",
      "  Downloading yarl-1.7.2-cp38-cp38-macosx_10_9_x86_64.whl (121 kB)\n",
      "\u001b[2K     \u001b[90m━━━━━━━━━━━━━━━━━━━━━━━━━━━━━━━━━━━━━━\u001b[0m \u001b[32m121.5/121.5 kB\u001b[0m \u001b[31m84.9 kB/s\u001b[0m eta \u001b[36m0:00:00\u001b[0ma \u001b[36m0:00:01\u001b[0m\n",
      "\u001b[?25hRequirement already satisfied: requests>=2.18.4 in /Users/kirillbogomolov/opt/anaconda3/lib/python3.8/site-packages (from ccxt) (2.27.1)\n",
      "Requirement already satisfied: certifi>=2018.1.18 in /Users/kirillbogomolov/opt/anaconda3/lib/python3.8/site-packages (from ccxt) (2021.5.30)\n",
      "Collecting setuptools>=60.9.0\n",
      "  Downloading setuptools-65.4.1-py3-none-any.whl (1.2 MB)\n",
      "\u001b[2K     \u001b[90m━━━━━━━━━━━━━━━━━━━━━━━━━━━━━━━━━━━━━━━━\u001b[0m \u001b[32m1.2/1.2 MB\u001b[0m \u001b[31m89.1 kB/s\u001b[0m eta \u001b[36m0:00:00\u001b[0m00:01\u001b[0m00:01\u001b[0mm\n",
      "\u001b[?25hRequirement already satisfied: cryptography>=2.6.1 in /Users/kirillbogomolov/opt/anaconda3/lib/python3.8/site-packages (from ccxt) (3.4.8)\n",
      "Collecting aiohttp>=3.8\n",
      "  Downloading aiohttp-3.8.3-cp38-cp38-macosx_10_9_x86_64.whl (359 kB)\n",
      "\u001b[2K     \u001b[90m━━━━━━━━━━━━━━━━━━━━━━━━━━━━━━━━━━━━━━\u001b[0m \u001b[32m359.6/359.6 kB\u001b[0m \u001b[31m71.1 kB/s\u001b[0m eta \u001b[36m0:00:00\u001b[0m00:01\u001b[0m00:01\u001b[0m\n",
      "\u001b[?25hCollecting aiodns>=1.1.1\n",
      "  Downloading aiodns-3.0.0-py3-none-any.whl (5.0 kB)\n",
      "Requirement already satisfied: idna>=2.0 in /Users/kirillbogomolov/opt/anaconda3/lib/python3.8/site-packages (from yarl==1.7.2->ccxt) (2.10)\n",
      "Requirement already satisfied: multidict>=4.0 in /Users/kirillbogomolov/opt/anaconda3/lib/python3.8/site-packages (from yarl==1.7.2->ccxt) (5.1.0)\n",
      "Collecting pycares>=4.0.0\n",
      "  Downloading pycares-4.2.2-cp38-cp38-macosx_10_9_x86_64.whl (75 kB)\n",
      "\u001b[2K     \u001b[90m━━━━━━━━━━━━━━━━━━━━━━━━━━━━━━━━━━━━━━━━\u001b[0m \u001b[32m75.2/75.2 kB\u001b[0m \u001b[31m75.0 kB/s\u001b[0m eta \u001b[36m0:00:00\u001b[0ma \u001b[36m0:00:01\u001b[0m\n",
      "\u001b[?25hRequirement already satisfied: charset-normalizer<3.0,>=2.0 in /Users/kirillbogomolov/opt/anaconda3/lib/python3.8/site-packages (from aiohttp>=3.8->ccxt) (2.0.4)\n",
      "Collecting async-timeout<5.0,>=4.0.0a3\n",
      "  Downloading async_timeout-4.0.2-py3-none-any.whl (5.8 kB)\n",
      "Collecting aiosignal>=1.1.2\n",
      "  Downloading aiosignal-1.2.0-py3-none-any.whl (8.2 kB)\n",
      "Collecting frozenlist>=1.1.1\n",
      "  Downloading frozenlist-1.3.1-cp38-cp38-macosx_10_9_x86_64.whl (36 kB)\n",
      "Requirement already satisfied: attrs>=17.3.0 in /Users/kirillbogomolov/opt/anaconda3/lib/python3.8/site-packages (from aiohttp>=3.8->ccxt) (21.2.0)\n",
      "Requirement already satisfied: cffi>=1.12 in /Users/kirillbogomolov/opt/anaconda3/lib/python3.8/site-packages (from cryptography>=2.6.1->ccxt) (1.14.6)\n",
      "Requirement already satisfied: urllib3<1.27,>=1.21.1 in /Users/kirillbogomolov/opt/anaconda3/lib/python3.8/site-packages (from requests>=2.18.4->ccxt) (1.26.6)\n",
      "Requirement already satisfied: pycparser in /Users/kirillbogomolov/opt/anaconda3/lib/python3.8/site-packages (from cffi>=1.12->cryptography>=2.6.1->ccxt) (2.20)\n",
      "Installing collected packages: yarl, setuptools, frozenlist, async-timeout, pycares, aiosignal, aiohttp, aiodns, ccxt\n",
      "  Attempting uninstall: yarl\n",
      "    Found existing installation: yarl 1.6.3\n",
      "    Uninstalling yarl-1.6.3:\n",
      "      Successfully uninstalled yarl-1.6.3\n",
      "  Attempting uninstall: setuptools\n",
      "    Found existing installation: setuptools 52.0.0.post20210125\n",
      "    Uninstalling setuptools-52.0.0.post20210125:\n",
      "      Successfully uninstalled setuptools-52.0.0.post20210125\n",
      "  Attempting uninstall: async-timeout\n",
      "    Found existing installation: async-timeout 3.0.1\n",
      "    Uninstalling async-timeout-3.0.1:\n",
      "      Successfully uninstalled async-timeout-3.0.1\n",
      "  Attempting uninstall: aiohttp\n",
      "    Found existing installation: aiohttp 3.7.4.post0\n",
      "    Uninstalling aiohttp-3.7.4.post0:\n",
      "      Successfully uninstalled aiohttp-3.7.4.post0\n",
      "\u001b[31mERROR: pip's dependency resolver does not currently take into account all the packages that are installed. This behaviour is the source of the following dependency conflicts.\n",
      "spyder 4.2.5 requires pyqt5<5.13, but you have pyqt5 5.15.7 which is incompatible.\n",
      "spyder 4.2.5 requires pyqtwebengine<5.13, but you have pyqtwebengine 5.15.6 which is incompatible.\n",
      "binance-connector 1.5.0 requires pyOpenSSL==19.0.0, but you have pyopenssl 21.0.0 which is incompatible.\n",
      "binance-connector 1.5.0 requires requests==2.25.1, but you have requests 2.27.1 which is incompatible.\u001b[0m\u001b[31m\n",
      "\u001b[0mSuccessfully installed aiodns-3.0.0 aiohttp-3.8.3 aiosignal-1.2.0 async-timeout-4.0.2 ccxt-1.95.5 frozenlist-1.3.1 pycares-4.2.2 setuptools-65.4.1 yarl-1.7.2\n",
      "\n",
      "\u001b[1m[\u001b[0m\u001b[34;49mnotice\u001b[0m\u001b[1;39;49m]\u001b[0m\u001b[39;49m A new release of pip available: \u001b[0m\u001b[31;49m22.1.2\u001b[0m\u001b[39;49m -> \u001b[0m\u001b[32;49m22.2.2\u001b[0m\n",
      "\u001b[1m[\u001b[0m\u001b[34;49mnotice\u001b[0m\u001b[1;39;49m]\u001b[0m\u001b[39;49m To update, run: \u001b[0m\u001b[32;49mpip install --upgrade pip\u001b[0m\n"
     ]
    }
   ],
   "source": [
    "!pip install ccxt"
   ]
  },
  {
   "cell_type": "code",
   "execution_count": 7,
   "id": "ed788228",
   "metadata": {},
   "outputs": [
    {
     "ename": "ModuleNotFoundError",
     "evalue": "No module named 'ccxt'",
     "output_type": "error",
     "traceback": [
      "\u001b[0;31m---------------------------------------------------------------------------\u001b[0m",
      "\u001b[0;31mModuleNotFoundError\u001b[0m                       Traceback (most recent call last)",
      "\u001b[0;32m<ipython-input-7-64a21a1ae8d3>\u001b[0m in \u001b[0;36m<module>\u001b[0;34m\u001b[0m\n\u001b[1;32m     10\u001b[0m \u001b[0msys\u001b[0m\u001b[0;34m.\u001b[0m\u001b[0mpath\u001b[0m\u001b[0;34m.\u001b[0m\u001b[0mappend\u001b[0m\u001b[0;34m(\u001b[0m\u001b[0mroot\u001b[0m \u001b[0;34m+\u001b[0m \u001b[0;34m'/python'\u001b[0m\u001b[0;34m)\u001b[0m\u001b[0;34m\u001b[0m\u001b[0;34m\u001b[0m\u001b[0m\n\u001b[1;32m     11\u001b[0m \u001b[0;34m\u001b[0m\u001b[0m\n\u001b[0;32m---> 12\u001b[0;31m \u001b[0;32mimport\u001b[0m \u001b[0mccxt\u001b[0m\u001b[0;34m\u001b[0m\u001b[0;34m\u001b[0m\u001b[0m\n\u001b[0m\u001b[1;32m     13\u001b[0m \u001b[0;34m\u001b[0m\u001b[0m\n\u001b[1;32m     14\u001b[0m \u001b[0;34m\u001b[0m\u001b[0m\n",
      "\u001b[0;31mModuleNotFoundError\u001b[0m: No module named 'ccxt'"
     ]
    }
   ],
   "source": [
    "import os\n",
    "from pathlib import Path\n",
    "\n",
    "import sys\n",
    "import csv\n",
    "\n",
    "# -----------------------------------------------------------------------------\n",
    "\n",
    "root = os.path.dirname(os.path.dirname(os.path.dirname(os.path.abspath(''))))\n",
    "sys.path.append(root + '/python')\n",
    "\n",
    "import ccxt\n",
    "\n",
    "\n",
    "# -----------------------------------------------------------------------------\n",
    "\n",
    "def retry_fetch_ohlcv(exchange, max_retries, symbol, timeframe, since, limit):\n",
    "    num_retries = 0\n",
    "    try:\n",
    "        num_retries += 1\n",
    "        ohlcv = exchange.fetch_ohlcv(symbol, timeframe, since, limit)\n",
    "        # print('Fetched', len(ohlcv), symbol, 'candles from', exchange.iso8601 (ohlcv[0][0]), 'to', exchange.iso8601 (ohlcv[-1][0]))\n",
    "        return ohlcv\n",
    "    except Exception:\n",
    "        if num_retries > max_retries:\n",
    "            raise  # Exception('Failed to fetch', timeframe, symbol, 'OHLCV in', max_retries, 'attempts')\n",
    "\n",
    "\n",
    "def scrape_ohlcv(exchange, max_retries, symbol, timeframe, since, limit):\n",
    "    earliest_timestamp = exchange.milliseconds()\n",
    "    timeframe_duration_in_seconds = exchange.parse_timeframe(timeframe)\n",
    "    timeframe_duration_in_ms = timeframe_duration_in_seconds * 1000\n",
    "    timedelta = limit * timeframe_duration_in_ms\n",
    "    all_ohlcv = []\n",
    "    while True:\n",
    "        fetch_since = earliest_timestamp - timedelta\n",
    "        ohlcv = retry_fetch_ohlcv(exchange, max_retries, symbol, timeframe, fetch_since, limit)\n",
    "        # if we have reached the beginning of history\n",
    "        if ohlcv[0][0] >= earliest_timestamp:\n",
    "            break\n",
    "        earliest_timestamp = ohlcv[0][0]\n",
    "        all_ohlcv = ohlcv + all_ohlcv\n",
    "        print(len(all_ohlcv), symbol, 'candles in total from', exchange.iso8601(all_ohlcv[0][0]), 'to', exchange.iso8601(all_ohlcv[-1][0]))\n",
    "        # if we have reached the checkpoint\n",
    "        if fetch_since < since:\n",
    "            break\n",
    "    return all_ohlcv\n",
    "\n",
    "\n",
    "def write_to_csv(filename, exchange, data):\n",
    "    p = Path(\"\", str(exchange))\n",
    "    p.mkdir(parents=True, exist_ok=True)\n",
    "    full_path = p / str(filename)\n",
    "    with Path(full_path).open('w+', newline='') as output_file:\n",
    "        csv_writer = csv.writer(output_file, delimiter=',', quotechar='\"', quoting=csv.QUOTE_MINIMAL)\n",
    "        csv_writer.writerows(data)\n",
    "\n",
    "\n",
    "def scrape_candles_to_csv(filename, exchange_id, max_retries, symbol, timeframe, since, limit):\n",
    "    # instantiate the exchange by id\n",
    "    exchange = getattr(ccxt, exchange_id)({\n",
    "        'enableRateLimit': True,  # required by the Manual\n",
    "    })\n",
    "    # convert since from string to milliseconds integer if needed\n",
    "    if isinstance(since, str):\n",
    "        since = exchange.parse8601(since)\n",
    "    # preload all markets from the exchange\n",
    "    exchange.load_markets()\n",
    "    # fetch all candles\n",
    "    ohlcv = scrape_ohlcv(exchange, max_retries, symbol, timeframe, since, limit)\n",
    "    # save them to csv file\n",
    "    write_to_csv(filename, exchange, ohlcv)\n",
    "    print('Saved', len(ohlcv), 'candles from', exchange.iso8601(ohlcv[0][0]), 'to', exchange.iso8601(ohlcv[-1][0]), 'to', filename)"
   ]
  },
  {
   "cell_type": "code",
   "execution_count": 5,
   "id": "c0c9af77",
   "metadata": {},
   "outputs": [
    {
     "name": "stdout",
     "output_type": "stream",
     "text": [
      "1000 ETH/USDT candles in total from 2022-08-22T01:00:00.000Z to 2022-10-02T16:00:00.000Z\n",
      "2000 ETH/USDT candles in total from 2022-07-11T09:00:00.000Z to 2022-10-02T16:00:00.000Z\n",
      "3000 ETH/USDT candles in total from 2022-05-30T17:00:00.000Z to 2022-10-02T16:00:00.000Z\n",
      "4000 ETH/USDT candles in total from 2022-04-19T01:00:00.000Z to 2022-10-02T16:00:00.000Z\n",
      "5000 ETH/USDT candles in total from 2022-03-08T09:00:00.000Z to 2022-10-02T16:00:00.000Z\n",
      "6000 ETH/USDT candles in total from 2022-01-25T17:00:00.000Z to 2022-10-02T16:00:00.000Z\n",
      "7000 ETH/USDT candles in total from 2021-12-15T01:00:00.000Z to 2022-10-02T16:00:00.000Z\n",
      "8000 ETH/USDT candles in total from 2021-11-03T09:00:00.000Z to 2022-10-02T16:00:00.000Z\n",
      "9000 ETH/USDT candles in total from 2021-09-22T17:00:00.000Z to 2022-10-02T16:00:00.000Z\n",
      "10000 ETH/USDT candles in total from 2021-08-12T01:00:00.000Z to 2022-10-02T16:00:00.000Z\n",
      "11000 ETH/USDT candles in total from 2021-07-01T09:00:00.000Z to 2022-10-02T16:00:00.000Z\n",
      "12000 ETH/USDT candles in total from 2021-05-20T17:00:00.000Z to 2022-10-02T16:00:00.000Z\n",
      "13000 ETH/USDT candles in total from 2021-04-09T01:00:00.000Z to 2022-10-02T16:00:00.000Z\n",
      "14000 ETH/USDT candles in total from 2021-02-26T09:00:00.000Z to 2022-10-02T16:00:00.000Z\n",
      "15000 ETH/USDT candles in total from 2021-01-15T17:00:00.000Z to 2022-10-02T16:00:00.000Z\n",
      "16000 ETH/USDT candles in total from 2020-12-05T01:00:00.000Z to 2022-10-02T16:00:00.000Z\n",
      "Saved 16000 candles from 2020-12-05T01:00:00.000Z to 2022-10-02T16:00:00.000Z to eth_usdt_1h.csv\n"
     ]
    }
   ],
   "source": [
    "scrape_candles_to_csv('eth_usdt_1h.csv', 'binance', 3, 'ETH/USDT', '1h', '2021-01-0100:00:00Z', 1000)"
   ]
  },
  {
   "cell_type": "code",
   "execution_count": 6,
   "id": "887cdf00",
   "metadata": {},
   "outputs": [],
   "source": [
    "df = pd.read_csv('Binance/eth_usdt_1h.csv')"
   ]
  },
  {
   "cell_type": "code",
   "execution_count": 7,
   "id": "ec6ea9e1",
   "metadata": {},
   "outputs": [],
   "source": [
    "df.columns = ['unix', 'Open', 'High', 'Low', 'Close', 'Volume']\n",
    "df = df.set_index('unix')"
   ]
  },
  {
   "cell_type": "code",
   "execution_count": 8,
   "id": "f38e1aca",
   "metadata": {},
   "outputs": [
    {
     "data": {
      "text/plain": [
       "<AxesSubplot:xlabel='unix'>"
      ]
     },
     "execution_count": 8,
     "metadata": {},
     "output_type": "execute_result"
    },
    {
     "data": {
      "image/png": "[encoded data removed]",
      "text/plain": [
       "<Figure size 432x288 with 1 Axes>"
      ]
     },
     "metadata": {
      "needs_background": "light"
     },
     "output_type": "display_data"
    }
   ],
   "source": [
    "df[\"Close\"].plot()"
   ]
  },
  {
   "cell_type": "code",
   "execution_count": null,
   "id": "ef599853",
   "metadata": {},
   "outputs": [],
   "source": []
  },
  {
   "cell_type": "code",
   "execution_count": 9,
   "id": "558a7d50",
   "metadata": {},
   "outputs": [],
   "source": [
    "df['Date'] = pd.to_datetime(df.index,unit='ms')\n",
    "df = df.set_index('Date')"
   ]
  },
  {
   "cell_type": "code",
   "execution_count": 10,
   "id": "7c555230",
   "metadata": {},
   "outputs": [],
   "source": [
    "length = len(df)\n",
    "length = int(length / 2)\n",
    "\n",
    "df = df.drop(df.index[0:length])"
   ]
  },
  {
   "cell_type": "code",
   "execution_count": 11,
   "id": "53715eaf",
   "metadata": {},
   "outputs": [
    {
     "data": {
      "text/plain": [
       "'today = str(date.today())\\nprint(today)'"
      ]
     },
     "execution_count": 11,
     "metadata": {},
     "output_type": "execute_result"
    }
   ],
   "source": [
    "\"\"\"today = str(date.today())\n",
    "print(today)\"\"\""
   ]
  },
  {
   "cell_type": "code",
   "execution_count": 12,
   "id": "b7adff69",
   "metadata": {
    "scrolled": true
   },
   "outputs": [
    {
     "name": "stdout",
     "output_type": "stream",
     "text": [
      "volatility over period: 0.8419458061380951\n"
     ]
    }
   ],
   "source": [
    "# yf.pdr_override() \n",
    "# df = pdr.get_data_yahoo(\"ETH-USD\", start=\"2022-01-01\", end=today)\n",
    "\n",
    "# df['Date'] = df.index\n",
    "df['Return'] = 100 * (df['Close'].pct_change())\n",
    "\n",
    "daily_volatility = df['Return'].std()\n",
    "monthly_volatility = math.sqrt(30) * daily_volatility\n",
    "\n",
    "period_volatility = (math.sqrt(len(df.index)) * daily_volatility) / 100\n",
    "\n",
    "print(\"volatility over period:\", period_volatility)"
   ]
  },
  {
   "cell_type": "code",
   "execution_count": 13,
   "id": "fd6d69a0",
   "metadata": {},
   "outputs": [],
   "source": [
    "df[\"Date\"] = df.index"
   ]
  },
  {
   "cell_type": "code",
   "execution_count": 14,
   "id": "e3e36376",
   "metadata": {},
   "outputs": [
    {
     "data": {
      "text/html": [
       "<div>\n",
       "<style scoped>\n",
       "    .dataframe tbody tr th:only-of-type {\n",
       "        vertical-align: middle;\n",
       "    }\n",
       "\n",
       "    .dataframe tbody tr th {\n",
       "        vertical-align: top;\n",
       "    }\n",
       "\n",
       "    .dataframe thead th {\n",
       "        text-align: right;\n",
       "    }\n",
       "</style>\n",
       "<table border=\"1\" class=\"dataframe\">\n",
       "  <thead>\n",
       "    <tr style=\"text-align: right;\">\n",
       "      <th></th>\n",
       "      <th>Open</th>\n",
       "      <th>High</th>\n",
       "      <th>Low</th>\n",
       "      <th>Close</th>\n",
       "      <th>Volume</th>\n",
       "      <th>Return</th>\n",
       "      <th>Date</th>\n",
       "    </tr>\n",
       "    <tr>\n",
       "      <th>Date</th>\n",
       "      <th></th>\n",
       "      <th></th>\n",
       "      <th></th>\n",
       "      <th></th>\n",
       "      <th></th>\n",
       "      <th></th>\n",
       "      <th></th>\n",
       "    </tr>\n",
       "  </thead>\n",
       "  <tbody>\n",
       "    <tr>\n",
       "      <th>2021-11-03 11:00:00</th>\n",
       "      <td>4575.91</td>\n",
       "      <td>4582.50</td>\n",
       "      <td>4550.49</td>\n",
       "      <td>4577.27</td>\n",
       "      <td>13312.5037</td>\n",
       "      <td>NaN</td>\n",
       "      <td>2021-11-03 11:00:00</td>\n",
       "    </tr>\n",
       "    <tr>\n",
       "      <th>2021-11-03 12:00:00</th>\n",
       "      <td>4577.22</td>\n",
       "      <td>4579.70</td>\n",
       "      <td>4496.13</td>\n",
       "      <td>4522.49</td>\n",
       "      <td>26385.3141</td>\n",
       "      <td>-1.196783</td>\n",
       "      <td>2021-11-03 12:00:00</td>\n",
       "    </tr>\n",
       "    <tr>\n",
       "      <th>2021-11-03 13:00:00</th>\n",
       "      <td>4522.48</td>\n",
       "      <td>4553.82</td>\n",
       "      <td>4476.41</td>\n",
       "      <td>4482.22</td>\n",
       "      <td>29384.2921</td>\n",
       "      <td>-0.890439</td>\n",
       "      <td>2021-11-03 13:00:00</td>\n",
       "    </tr>\n",
       "    <tr>\n",
       "      <th>2021-11-03 14:00:00</th>\n",
       "      <td>4482.76</td>\n",
       "      <td>4520.08</td>\n",
       "      <td>4455.00</td>\n",
       "      <td>4511.62</td>\n",
       "      <td>23925.1804</td>\n",
       "      <td>0.655925</td>\n",
       "      <td>2021-11-03 14:00:00</td>\n",
       "    </tr>\n",
       "    <tr>\n",
       "      <th>2021-11-03 15:00:00</th>\n",
       "      <td>4511.61</td>\n",
       "      <td>4547.45</td>\n",
       "      <td>4495.87</td>\n",
       "      <td>4545.68</td>\n",
       "      <td>15261.6559</td>\n",
       "      <td>0.754939</td>\n",
       "      <td>2021-11-03 15:00:00</td>\n",
       "    </tr>\n",
       "    <tr>\n",
       "      <th>...</th>\n",
       "      <td>...</td>\n",
       "      <td>...</td>\n",
       "      <td>...</td>\n",
       "      <td>...</td>\n",
       "      <td>...</td>\n",
       "      <td>...</td>\n",
       "      <td>...</td>\n",
       "    </tr>\n",
       "    <tr>\n",
       "      <th>2022-10-02 12:00:00</th>\n",
       "      <td>1297.87</td>\n",
       "      <td>1301.24</td>\n",
       "      <td>1292.28</td>\n",
       "      <td>1295.40</td>\n",
       "      <td>13770.3373</td>\n",
       "      <td>-0.190312</td>\n",
       "      <td>2022-10-02 12:00:00</td>\n",
       "    </tr>\n",
       "    <tr>\n",
       "      <th>2022-10-02 13:00:00</th>\n",
       "      <td>1295.40</td>\n",
       "      <td>1300.36</td>\n",
       "      <td>1292.26</td>\n",
       "      <td>1297.25</td>\n",
       "      <td>13290.2719</td>\n",
       "      <td>0.142813</td>\n",
       "      <td>2022-10-02 13:00:00</td>\n",
       "    </tr>\n",
       "    <tr>\n",
       "      <th>2022-10-02 14:00:00</th>\n",
       "      <td>1297.26</td>\n",
       "      <td>1298.83</td>\n",
       "      <td>1286.52</td>\n",
       "      <td>1290.00</td>\n",
       "      <td>16200.9130</td>\n",
       "      <td>-0.558875</td>\n",
       "      <td>2022-10-02 14:00:00</td>\n",
       "    </tr>\n",
       "    <tr>\n",
       "      <th>2022-10-02 15:00:00</th>\n",
       "      <td>1290.00</td>\n",
       "      <td>1294.27</td>\n",
       "      <td>1289.01</td>\n",
       "      <td>1293.32</td>\n",
       "      <td>8504.5615</td>\n",
       "      <td>0.257364</td>\n",
       "      <td>2022-10-02 15:00:00</td>\n",
       "    </tr>\n",
       "    <tr>\n",
       "      <th>2022-10-02 16:00:00</th>\n",
       "      <td>1293.33</td>\n",
       "      <td>1302.48</td>\n",
       "      <td>1292.85</td>\n",
       "      <td>1296.45</td>\n",
       "      <td>8773.4220</td>\n",
       "      <td>0.242013</td>\n",
       "      <td>2022-10-02 16:00:00</td>\n",
       "    </tr>\n",
       "  </tbody>\n",
       "</table>\n",
       "<p>7998 rows × 7 columns</p>\n",
       "</div>"
      ],
      "text/plain": [
       "                        Open     High      Low    Close      Volume    Return  \\\n",
       "Date                                                                            \n",
       "2021-11-03 11:00:00  4575.91  4582.50  4550.49  4577.27  13312.5037       NaN   \n",
       "2021-11-03 12:00:00  4577.22  4579.70  4496.13  4522.49  26385.3141 -1.196783   \n",
       "2021-11-03 13:00:00  4522.48  4553.82  4476.41  4482.22  29384.2921 -0.890439   \n",
       "2021-11-03 14:00:00  4482.76  4520.08  4455.00  4511.62  23925.1804  0.655925   \n",
       "2021-11-03 15:00:00  4511.61  4547.45  4495.87  4545.68  15261.6559  0.754939   \n",
       "...                      ...      ...      ...      ...         ...       ...   \n",
       "2022-10-02 12:00:00  1297.87  1301.24  1292.28  1295.40  13770.3373 -0.190312   \n",
       "2022-10-02 13:00:00  1295.40  1300.36  1292.26  1297.25  13290.2719  0.142813   \n",
       "2022-10-02 14:00:00  1297.26  1298.83  1286.52  1290.00  16200.9130 -0.558875   \n",
       "2022-10-02 15:00:00  1290.00  1294.27  1289.01  1293.32   8504.5615  0.257364   \n",
       "2022-10-02 16:00:00  1293.33  1302.48  1292.85  1296.45   8773.4220  0.242013   \n",
       "\n",
       "                                   Date  \n",
       "Date                                     \n",
       "2021-11-03 11:00:00 2021-11-03 11:00:00  \n",
       "2021-11-03 12:00:00 2021-11-03 12:00:00  \n",
       "2021-11-03 13:00:00 2021-11-03 13:00:00  \n",
       "2021-11-03 14:00:00 2021-11-03 14:00:00  \n",
       "2021-11-03 15:00:00 2021-11-03 15:00:00  \n",
       "...                                 ...  \n",
       "2022-10-02 12:00:00 2022-10-02 12:00:00  \n",
       "2022-10-02 13:00:00 2022-10-02 13:00:00  \n",
       "2022-10-02 14:00:00 2022-10-02 14:00:00  \n",
       "2022-10-02 15:00:00 2022-10-02 15:00:00  \n",
       "2022-10-02 16:00:00 2022-10-02 16:00:00  \n",
       "\n",
       "[7998 rows x 7 columns]"
      ]
     },
     "execution_count": 14,
     "metadata": {},
     "output_type": "execute_result"
    }
   ],
   "source": [
    "df"
   ]
  },
  {
   "cell_type": "code",
   "execution_count": null,
   "id": "c19a94db",
   "metadata": {},
   "outputs": [],
   "source": []
  },
  {
   "cell_type": "code",
   "execution_count": 15,
   "id": "ef00d832",
   "metadata": {},
   "outputs": [],
   "source": [
    "def D1(S,K,T,r,sigma):\n",
    "    d1 = (np.log(S/K) + (r + sigma**2/2)*T) / (sigma*np.sqrt(T))\n",
    "    return d1\n",
    "\n",
    "\n",
    "def delta_BS_CALL(S,K,T,r,sigma):\n",
    "    d1 = D1(S,K,T,r,sigma)\n",
    "    delta = N(d1)\n",
    "    return delta\n",
    "\n",
    "\n",
    "def BS_CALL(S, K, T, r, sigma):\n",
    "    d1 = (np.log(S/K) + (r + sigma**2/2)*T) / (sigma*np.sqrt(T))\n",
    "    d2 = d1 - sigma * np.sqrt(T)\n",
    "    return S * N(d1) - K * np.exp(-r*T)* N(d2)\n",
    "\n",
    "\n",
    "def expiration(now, T):\n",
    "    d0 = pd.Timestamp(df[\"Date\"].iloc[1], tz=None)\n",
    "    d1 = pd.Timestamp(now, tz=None)\n",
    "\n",
    "    d = d1 - d0\n",
    "    delta = d.days / (365 * T)\n",
    "    \n",
    "    return delta\n"
   ]
  },
  {
   "cell_type": "code",
   "execution_count": 16,
   "id": "4793020a",
   "metadata": {},
   "outputs": [
    {
     "data": {
      "text/plain": [
       "0.913013698630137"
      ]
     },
     "execution_count": 16,
     "metadata": {},
     "output_type": "execute_result"
    }
   ],
   "source": [
    "# expiration\n",
    "T = len(df) / 365 / 24\n",
    "T"
   ]
  },
  {
   "cell_type": "code",
   "execution_count": 17,
   "id": "aaadc1d6",
   "metadata": {},
   "outputs": [],
   "source": [
    "def min_amount(S,K,T,r,sigma,amount):\n",
    "    C = BS_CALL(S, K, T, r, sigma)\n",
    "\n",
    "    minimum = C * amount\n",
    "    \n",
    "    minimum = round(minimum,3)\n",
    "    \n",
    "    return minimum"
   ]
  },
  {
   "cell_type": "code",
   "execution_count": 18,
   "id": "35dfc35f",
   "metadata": {},
   "outputs": [],
   "source": [
    "S = df[\"Close\"].iloc[:1]\n",
    "K = 2500\n",
    "T = len(df) / 365 / 24\n",
    "r = 0.1\n",
    "sigma = 0.9\n",
    "\n",
    "amount = 1"
   ]
  },
  {
   "cell_type": "code",
   "execution_count": 19,
   "id": "e97c63ab",
   "metadata": {},
   "outputs": [
    {
     "data": {
      "text/plain": [
       "Date\n",
       "2021-11-03 11:00:00    2606.536\n",
       "Name: Close, dtype: float64"
      ]
     },
     "execution_count": 19,
     "metadata": {},
     "output_type": "execute_result"
    }
   ],
   "source": [
    "# minimum amount of cash to replicate option\n",
    "min_amount(S,K,T,r,sigma,amount)"
   ]
  },
  {
   "cell_type": "code",
   "execution_count": 20,
   "id": "1caebbf9",
   "metadata": {},
   "outputs": [
    {
     "data": {
      "text/html": [
       "<div>\n",
       "<style scoped>\n",
       "    .dataframe tbody tr th:only-of-type {\n",
       "        vertical-align: middle;\n",
       "    }\n",
       "\n",
       "    .dataframe tbody tr th {\n",
       "        vertical-align: top;\n",
       "    }\n",
       "\n",
       "    .dataframe thead th {\n",
       "        text-align: right;\n",
       "    }\n",
       "</style>\n",
       "<table border=\"1\" class=\"dataframe\">\n",
       "  <thead>\n",
       "    <tr style=\"text-align: right;\">\n",
       "      <th></th>\n",
       "      <th>Open</th>\n",
       "      <th>High</th>\n",
       "      <th>Low</th>\n",
       "      <th>Close</th>\n",
       "      <th>Volume</th>\n",
       "      <th>Return</th>\n",
       "    </tr>\n",
       "    <tr>\n",
       "      <th>Date</th>\n",
       "      <th></th>\n",
       "      <th></th>\n",
       "      <th></th>\n",
       "      <th></th>\n",
       "      <th></th>\n",
       "      <th></th>\n",
       "    </tr>\n",
       "  </thead>\n",
       "  <tbody>\n",
       "    <tr>\n",
       "      <th>2021-11-03 11:00:00</th>\n",
       "      <td>4575.91</td>\n",
       "      <td>4582.50</td>\n",
       "      <td>4550.49</td>\n",
       "      <td>4577.27</td>\n",
       "      <td>13312.5037</td>\n",
       "      <td>NaN</td>\n",
       "    </tr>\n",
       "    <tr>\n",
       "      <th>2021-11-03 12:00:00</th>\n",
       "      <td>4577.22</td>\n",
       "      <td>4579.70</td>\n",
       "      <td>4496.13</td>\n",
       "      <td>4522.49</td>\n",
       "      <td>26385.3141</td>\n",
       "      <td>-1.196783</td>\n",
       "    </tr>\n",
       "    <tr>\n",
       "      <th>2021-11-03 13:00:00</th>\n",
       "      <td>4522.48</td>\n",
       "      <td>4553.82</td>\n",
       "      <td>4476.41</td>\n",
       "      <td>4482.22</td>\n",
       "      <td>29384.2921</td>\n",
       "      <td>-0.890439</td>\n",
       "    </tr>\n",
       "    <tr>\n",
       "      <th>2021-11-03 14:00:00</th>\n",
       "      <td>4482.76</td>\n",
       "      <td>4520.08</td>\n",
       "      <td>4455.00</td>\n",
       "      <td>4511.62</td>\n",
       "      <td>23925.1804</td>\n",
       "      <td>0.655925</td>\n",
       "    </tr>\n",
       "    <tr>\n",
       "      <th>2021-11-03 15:00:00</th>\n",
       "      <td>4511.61</td>\n",
       "      <td>4547.45</td>\n",
       "      <td>4495.87</td>\n",
       "      <td>4545.68</td>\n",
       "      <td>15261.6559</td>\n",
       "      <td>0.754939</td>\n",
       "    </tr>\n",
       "    <tr>\n",
       "      <th>...</th>\n",
       "      <td>...</td>\n",
       "      <td>...</td>\n",
       "      <td>...</td>\n",
       "      <td>...</td>\n",
       "      <td>...</td>\n",
       "      <td>...</td>\n",
       "    </tr>\n",
       "    <tr>\n",
       "      <th>2022-10-02 12:00:00</th>\n",
       "      <td>1297.87</td>\n",
       "      <td>1301.24</td>\n",
       "      <td>1292.28</td>\n",
       "      <td>1295.40</td>\n",
       "      <td>13770.3373</td>\n",
       "      <td>-0.190312</td>\n",
       "    </tr>\n",
       "    <tr>\n",
       "      <th>2022-10-02 13:00:00</th>\n",
       "      <td>1295.40</td>\n",
       "      <td>1300.36</td>\n",
       "      <td>1292.26</td>\n",
       "      <td>1297.25</td>\n",
       "      <td>13290.2719</td>\n",
       "      <td>0.142813</td>\n",
       "    </tr>\n",
       "    <tr>\n",
       "      <th>2022-10-02 14:00:00</th>\n",
       "      <td>1297.26</td>\n",
       "      <td>1298.83</td>\n",
       "      <td>1286.52</td>\n",
       "      <td>1290.00</td>\n",
       "      <td>16200.9130</td>\n",
       "      <td>-0.558875</td>\n",
       "    </tr>\n",
       "    <tr>\n",
       "      <th>2022-10-02 15:00:00</th>\n",
       "      <td>1290.00</td>\n",
       "      <td>1294.27</td>\n",
       "      <td>1289.01</td>\n",
       "      <td>1293.32</td>\n",
       "      <td>8504.5615</td>\n",
       "      <td>0.257364</td>\n",
       "    </tr>\n",
       "    <tr>\n",
       "      <th>2022-10-02 16:00:00</th>\n",
       "      <td>1293.33</td>\n",
       "      <td>1302.48</td>\n",
       "      <td>1292.85</td>\n",
       "      <td>1296.45</td>\n",
       "      <td>8773.4220</td>\n",
       "      <td>0.242013</td>\n",
       "    </tr>\n",
       "  </tbody>\n",
       "</table>\n",
       "<p>7998 rows × 6 columns</p>\n",
       "</div>"
      ],
      "text/plain": [
       "                        Open     High      Low    Close      Volume    Return\n",
       "Date                                                                         \n",
       "2021-11-03 11:00:00  4575.91  4582.50  4550.49  4577.27  13312.5037       NaN\n",
       "2021-11-03 12:00:00  4577.22  4579.70  4496.13  4522.49  26385.3141 -1.196783\n",
       "2021-11-03 13:00:00  4522.48  4553.82  4476.41  4482.22  29384.2921 -0.890439\n",
       "2021-11-03 14:00:00  4482.76  4520.08  4455.00  4511.62  23925.1804  0.655925\n",
       "2021-11-03 15:00:00  4511.61  4547.45  4495.87  4545.68  15261.6559  0.754939\n",
       "...                      ...      ...      ...      ...         ...       ...\n",
       "2022-10-02 12:00:00  1297.87  1301.24  1292.28  1295.40  13770.3373 -0.190312\n",
       "2022-10-02 13:00:00  1295.40  1300.36  1292.26  1297.25  13290.2719  0.142813\n",
       "2022-10-02 14:00:00  1297.26  1298.83  1286.52  1290.00  16200.9130 -0.558875\n",
       "2022-10-02 15:00:00  1290.00  1294.27  1289.01  1293.32   8504.5615  0.257364\n",
       "2022-10-02 16:00:00  1293.33  1302.48  1292.85  1296.45   8773.4220  0.242013\n",
       "\n",
       "[7998 rows x 6 columns]"
      ]
     },
     "execution_count": 20,
     "metadata": {},
     "output_type": "execute_result"
    }
   ],
   "source": [
    "df[\"Date\"] = df.index\n",
    "df.drop(columns=['Date'])"
   ]
  },
  {
   "cell_type": "code",
   "execution_count": null,
   "id": "b435da46",
   "metadata": {},
   "outputs": [],
   "source": []
  },
  {
   "cell_type": "code",
   "execution_count": 21,
   "id": "20deeab2",
   "metadata": {},
   "outputs": [],
   "source": [
    "# Time to expiration in years\n",
    "df['T'] = df.apply(lambda x: expiration(x['Date'], T), axis=1)"
   ]
  },
  {
   "cell_type": "code",
   "execution_count": 22,
   "id": "48b5c2b6",
   "metadata": {},
   "outputs": [
    {
     "name": "stderr",
     "output_type": "stream",
     "text": [
      "/tmp/ipykernel_141357/3120857562.py:2: RuntimeWarning: invalid value encountered in sqrt\n",
      "  d1 = (np.log(S/K) + (r + sigma**2/2)*T) / (sigma*np.sqrt(T))\n",
      "/tmp/ipykernel_141357/3120857562.py:2: RuntimeWarning: divide by zero encountered in double_scalars\n",
      "  d1 = (np.log(S/K) + (r + sigma**2/2)*T) / (sigma*np.sqrt(T))\n"
     ]
    }
   ],
   "source": [
    "# Delta\n",
    "df['Delta'] = df.apply(lambda x: delta_BS_CALL(x['Close'], K, x['T'], r, sigma), axis=1)"
   ]
  },
  {
   "cell_type": "code",
   "execution_count": 23,
   "id": "6ee0a7ed",
   "metadata": {
    "scrolled": true
   },
   "outputs": [
    {
     "data": {
      "text/plain": [
       "<AxesSubplot:xlabel='Date'>"
      ]
     },
     "execution_count": 23,
     "metadata": {},
     "output_type": "execute_result"
    },
    {
     "data": {
      "image/png": "[encoded data removed]",
      "text/plain": [
       "<Figure size 432x288 with 1 Axes>"
      ]
     },
     "metadata": {
      "needs_background": "light"
     },
     "output_type": "display_data"
    }
   ],
   "source": [
    "df[\"Delta\"].plot()"
   ]
  },
  {
   "cell_type": "code",
   "execution_count": 24,
   "id": "00dfa0ab",
   "metadata": {},
   "outputs": [
    {
     "data": {
      "text/plain": [
       "<AxesSubplot:xlabel='Date'>"
      ]
     },
     "execution_count": 24,
     "metadata": {},
     "output_type": "execute_result"
    },
    {
     "data": {
      "image/png": "[encoded data removed]",
      "text/plain": [
       "<Figure size 432x288 with 1 Axes>"
      ]
     },
     "metadata": {
      "needs_background": "light"
     },
     "output_type": "display_data"
    }
   ],
   "source": [
    "df[\"Close\"].plot()"
   ]
  },
  {
   "cell_type": "code",
   "execution_count": 25,
   "id": "4e0cf449",
   "metadata": {
    "scrolled": false
   },
   "outputs": [
    {
     "data": {
      "text/html": [
       "<div>\n",
       "<style scoped>\n",
       "    .dataframe tbody tr th:only-of-type {\n",
       "        vertical-align: middle;\n",
       "    }\n",
       "\n",
       "    .dataframe tbody tr th {\n",
       "        vertical-align: top;\n",
       "    }\n",
       "\n",
       "    .dataframe thead th {\n",
       "        text-align: right;\n",
       "    }\n",
       "</style>\n",
       "<table border=\"1\" class=\"dataframe\">\n",
       "  <thead>\n",
       "    <tr style=\"text-align: right;\">\n",
       "      <th></th>\n",
       "      <th>Open</th>\n",
       "      <th>High</th>\n",
       "      <th>Low</th>\n",
       "      <th>Close</th>\n",
       "      <th>Volume</th>\n",
       "      <th>Return</th>\n",
       "      <th>Date</th>\n",
       "      <th>T</th>\n",
       "      <th>Delta</th>\n",
       "    </tr>\n",
       "    <tr>\n",
       "      <th>Date</th>\n",
       "      <th></th>\n",
       "      <th></th>\n",
       "      <th></th>\n",
       "      <th></th>\n",
       "      <th></th>\n",
       "      <th></th>\n",
       "      <th></th>\n",
       "      <th></th>\n",
       "      <th></th>\n",
       "    </tr>\n",
       "  </thead>\n",
       "  <tbody>\n",
       "    <tr>\n",
       "      <th>2021-11-03 11:00:00</th>\n",
       "      <td>4575.91</td>\n",
       "      <td>4582.50</td>\n",
       "      <td>4550.49</td>\n",
       "      <td>4577.27</td>\n",
       "      <td>13312.50370</td>\n",
       "      <td>NaN</td>\n",
       "      <td>2021-11-03 11:00:00</td>\n",
       "      <td>-0.003001</td>\n",
       "      <td>NaN</td>\n",
       "    </tr>\n",
       "    <tr>\n",
       "      <th>2021-11-03 12:00:00</th>\n",
       "      <td>4577.22</td>\n",
       "      <td>4579.70</td>\n",
       "      <td>4496.13</td>\n",
       "      <td>4522.49</td>\n",
       "      <td>26385.31410</td>\n",
       "      <td>-1.196783</td>\n",
       "      <td>2021-11-03 12:00:00</td>\n",
       "      <td>0.000000</td>\n",
       "      <td>1.0</td>\n",
       "    </tr>\n",
       "    <tr>\n",
       "      <th>2021-11-03 13:00:00</th>\n",
       "      <td>4522.48</td>\n",
       "      <td>4553.82</td>\n",
       "      <td>4476.41</td>\n",
       "      <td>4482.22</td>\n",
       "      <td>29384.29210</td>\n",
       "      <td>-0.890439</td>\n",
       "      <td>2021-11-03 13:00:00</td>\n",
       "      <td>0.000000</td>\n",
       "      <td>1.0</td>\n",
       "    </tr>\n",
       "    <tr>\n",
       "      <th>2021-11-03 14:00:00</th>\n",
       "      <td>4482.76</td>\n",
       "      <td>4520.08</td>\n",
       "      <td>4455.00</td>\n",
       "      <td>4511.62</td>\n",
       "      <td>23925.18040</td>\n",
       "      <td>0.655925</td>\n",
       "      <td>2021-11-03 14:00:00</td>\n",
       "      <td>0.000000</td>\n",
       "      <td>1.0</td>\n",
       "    </tr>\n",
       "    <tr>\n",
       "      <th>2021-11-03 15:00:00</th>\n",
       "      <td>4511.61</td>\n",
       "      <td>4547.45</td>\n",
       "      <td>4495.87</td>\n",
       "      <td>4545.68</td>\n",
       "      <td>15261.65590</td>\n",
       "      <td>0.754939</td>\n",
       "      <td>2021-11-03 15:00:00</td>\n",
       "      <td>0.000000</td>\n",
       "      <td>1.0</td>\n",
       "    </tr>\n",
       "    <tr>\n",
       "      <th>2021-11-03 16:00:00</th>\n",
       "      <td>4545.67</td>\n",
       "      <td>4562.00</td>\n",
       "      <td>4508.37</td>\n",
       "      <td>4523.03</td>\n",
       "      <td>16627.06690</td>\n",
       "      <td>-0.498275</td>\n",
       "      <td>2021-11-03 16:00:00</td>\n",
       "      <td>0.000000</td>\n",
       "      <td>1.0</td>\n",
       "    </tr>\n",
       "    <tr>\n",
       "      <th>2021-11-03 17:00:00</th>\n",
       "      <td>4523.03</td>\n",
       "      <td>4562.28</td>\n",
       "      <td>4517.67</td>\n",
       "      <td>4549.26</td>\n",
       "      <td>11609.88550</td>\n",
       "      <td>0.579921</td>\n",
       "      <td>2021-11-03 17:00:00</td>\n",
       "      <td>0.000000</td>\n",
       "      <td>1.0</td>\n",
       "    </tr>\n",
       "    <tr>\n",
       "      <th>2021-11-03 18:00:00</th>\n",
       "      <td>4549.25</td>\n",
       "      <td>4659.98</td>\n",
       "      <td>4500.00</td>\n",
       "      <td>4653.36</td>\n",
       "      <td>53670.04959</td>\n",
       "      <td>2.288284</td>\n",
       "      <td>2021-11-03 18:00:00</td>\n",
       "      <td>0.000000</td>\n",
       "      <td>1.0</td>\n",
       "    </tr>\n",
       "    <tr>\n",
       "      <th>2021-11-03 19:00:00</th>\n",
       "      <td>4653.36</td>\n",
       "      <td>4665.87</td>\n",
       "      <td>4615.00</td>\n",
       "      <td>4623.46</td>\n",
       "      <td>23642.63029</td>\n",
       "      <td>-0.642546</td>\n",
       "      <td>2021-11-03 19:00:00</td>\n",
       "      <td>0.000000</td>\n",
       "      <td>1.0</td>\n",
       "    </tr>\n",
       "    <tr>\n",
       "      <th>2021-11-03 20:00:00</th>\n",
       "      <td>4623.47</td>\n",
       "      <td>4635.00</td>\n",
       "      <td>4601.79</td>\n",
       "      <td>4613.00</td>\n",
       "      <td>13942.89950</td>\n",
       "      <td>-0.226237</td>\n",
       "      <td>2021-11-03 20:00:00</td>\n",
       "      <td>0.000000</td>\n",
       "      <td>1.0</td>\n",
       "    </tr>\n",
       "  </tbody>\n",
       "</table>\n",
       "</div>"
      ],
      "text/plain": [
       "                        Open     High      Low    Close       Volume  \\\n",
       "Date                                                                   \n",
       "2021-11-03 11:00:00  4575.91  4582.50  4550.49  4577.27  13312.50370   \n",
       "2021-11-03 12:00:00  4577.22  4579.70  4496.13  4522.49  26385.31410   \n",
       "2021-11-03 13:00:00  4522.48  4553.82  4476.41  4482.22  29384.29210   \n",
       "2021-11-03 14:00:00  4482.76  4520.08  4455.00  4511.62  23925.18040   \n",
       "2021-11-03 15:00:00  4511.61  4547.45  4495.87  4545.68  15261.65590   \n",
       "2021-11-03 16:00:00  4545.67  4562.00  4508.37  4523.03  16627.06690   \n",
       "2021-11-03 17:00:00  4523.03  4562.28  4517.67  4549.26  11609.88550   \n",
       "2021-11-03 18:00:00  4549.25  4659.98  4500.00  4653.36  53670.04959   \n",
       "2021-11-03 19:00:00  4653.36  4665.87  4615.00  4623.46  23642.63029   \n",
       "2021-11-03 20:00:00  4623.47  4635.00  4601.79  4613.00  13942.89950   \n",
       "\n",
       "                       Return                Date         T  Delta  \n",
       "Date                                                                \n",
       "2021-11-03 11:00:00       NaN 2021-11-03 11:00:00 -0.003001    NaN  \n",
       "2021-11-03 12:00:00 -1.196783 2021-11-03 12:00:00  0.000000    1.0  \n",
       "2021-11-03 13:00:00 -0.890439 2021-11-03 13:00:00  0.000000    1.0  \n",
       "2021-11-03 14:00:00  0.655925 2021-11-03 14:00:00  0.000000    1.0  \n",
       "2021-11-03 15:00:00  0.754939 2021-11-03 15:00:00  0.000000    1.0  \n",
       "2021-11-03 16:00:00 -0.498275 2021-11-03 16:00:00  0.000000    1.0  \n",
       "2021-11-03 17:00:00  0.579921 2021-11-03 17:00:00  0.000000    1.0  \n",
       "2021-11-03 18:00:00  2.288284 2021-11-03 18:00:00  0.000000    1.0  \n",
       "2021-11-03 19:00:00 -0.642546 2021-11-03 19:00:00  0.000000    1.0  \n",
       "2021-11-03 20:00:00 -0.226237 2021-11-03 20:00:00  0.000000    1.0  "
      ]
     },
     "execution_count": 25,
     "metadata": {},
     "output_type": "execute_result"
    }
   ],
   "source": [
    "df.head(10)"
   ]
  },
  {
   "cell_type": "code",
   "execution_count": 26,
   "id": "bc560edc",
   "metadata": {},
   "outputs": [],
   "source": [
    "# calculate the change in delta\n",
    "df[\"dDelta\"] = df[\"Delta\"].diff();"
   ]
  },
  {
   "cell_type": "code",
   "execution_count": 27,
   "id": "f5f10c43",
   "metadata": {},
   "outputs": [],
   "source": [
    "# calcuate the change in cash balance \n",
    "df[\"dCash\"] = df[\"dDelta\"] * df[\"Close\"] *-1"
   ]
  },
  {
   "cell_type": "code",
   "execution_count": 28,
   "id": "8d1f9151",
   "metadata": {},
   "outputs": [
    {
     "data": {
      "text/plain": [
       "<AxesSubplot:xlabel='Date'>"
      ]
     },
     "execution_count": 28,
     "metadata": {},
     "output_type": "execute_result"
    },
    {
     "data": {
      "image/png": "[encoded data removed]",
      "text/plain": [
       "<Figure size 432x288 with 1 Axes>"
      ]
     },
     "metadata": {
      "needs_background": "light"
     },
     "output_type": "display_data"
    }
   ],
   "source": [
    "df[\"dCash\"].plot()"
   ]
  },
  {
   "cell_type": "code",
   "execution_count": 29,
   "id": "ded00ddf",
   "metadata": {},
   "outputs": [
    {
     "data": {
      "text/plain": [
       "Date\n",
       "2021-11-03 11:00:00    NaN\n",
       "2021-11-03 12:00:00    0.0\n",
       "2021-11-03 13:00:00    0.0\n",
       "dtype: float64"
      ]
     },
     "execution_count": 29,
     "metadata": {},
     "output_type": "execute_result"
    }
   ],
   "source": [
    "# initial price\n",
    "S = df[\"Close\"].iloc[:3]\n",
    "cash = df[\"Close\"].iloc[:3] - (df[\"Delta\"].iloc[:3] * S)\n",
    "\n",
    "cash"
   ]
  },
  {
   "cell_type": "code",
   "execution_count": null,
   "id": "0e0528dc",
   "metadata": {},
   "outputs": [],
   "source": []
  },
  {
   "cell_type": "code",
   "execution_count": null,
   "id": "0b736c24",
   "metadata": {},
   "outputs": [],
   "source": []
  },
  {
   "cell_type": "code",
   "execution_count": 39,
   "id": "afadf9a6",
   "metadata": {},
   "outputs": [],
   "source": [
    "\n",
    "# Calculate the amount of cash held\n",
    "df[\"Cash\"] = 5000 + df[\"dCash\"]"
   ]
  },
  {
   "cell_type": "code",
   "execution_count": 40,
   "id": "10912e03",
   "metadata": {
    "scrolled": true
   },
   "outputs": [
    {
     "data": {
      "text/plain": [
       "<AxesSubplot:xlabel='Date'>"
      ]
     },
     "execution_count": 40,
     "metadata": {},
     "output_type": "execute_result"
    },
    {
     "data": {
      "image/png": "[encoded data removed]",
      "text/plain": [
       "<Figure size 432x288 with 1 Axes>"
      ]
     },
     "metadata": {
      "needs_background": "light"
     },
     "output_type": "display_data"
    }
   ],
   "source": [
    "df[\"Cash\"].plot()"
   ]
  },
  {
   "cell_type": "code",
   "execution_count": null,
   "id": "be42b279",
   "metadata": {},
   "outputs": [],
   "source": []
  },
  {
   "cell_type": "code",
   "execution_count": 41,
   "id": "7a69146a",
   "metadata": {},
   "outputs": [],
   "source": [
    "# calculate portfolio value \n",
    "df[\"Value\"] = df[\"Cash\"] + df[\"Delta\"] * df[\"Close\"]"
   ]
  },
  {
   "cell_type": "code",
   "execution_count": 42,
   "id": "f9a3377b",
   "metadata": {
    "scrolled": true
   },
   "outputs": [
    {
     "data": {
      "text/plain": [
       "<AxesSubplot:xlabel='Date'>"
      ]
     },
     "execution_count": 42,
     "metadata": {},
     "output_type": "execute_result"
    },
    {
     "data": {
      "image/png": "[encoded data removed]",
      "text/plain": [
       "<Figure size 432x288 with 1 Axes>"
      ]
     },
     "metadata": {
      "needs_background": "light"
     },
     "output_type": "display_data"
    }
   ],
   "source": [
    "df[\"Value\"].plot()"
   ]
  },
  {
   "cell_type": "code",
   "execution_count": 43,
   "id": "90d55c14",
   "metadata": {},
   "outputs": [
    {
     "data": {
      "text/html": [
       "<div>\n",
       "<style scoped>\n",
       "    .dataframe tbody tr th:only-of-type {\n",
       "        vertical-align: middle;\n",
       "    }\n",
       "\n",
       "    .dataframe tbody tr th {\n",
       "        vertical-align: top;\n",
       "    }\n",
       "\n",
       "    .dataframe thead th {\n",
       "        text-align: right;\n",
       "    }\n",
       "</style>\n",
       "<table border=\"1\" class=\"dataframe\">\n",
       "  <thead>\n",
       "    <tr style=\"text-align: right;\">\n",
       "      <th></th>\n",
       "      <th>Open</th>\n",
       "      <th>High</th>\n",
       "      <th>Low</th>\n",
       "      <th>Close</th>\n",
       "      <th>Volume</th>\n",
       "      <th>Return</th>\n",
       "      <th>Date</th>\n",
       "      <th>T</th>\n",
       "      <th>Delta</th>\n",
       "      <th>dDelta</th>\n",
       "      <th>dCash</th>\n",
       "      <th>Cash</th>\n",
       "      <th>Value</th>\n",
       "    </tr>\n",
       "    <tr>\n",
       "      <th>Date</th>\n",
       "      <th></th>\n",
       "      <th></th>\n",
       "      <th></th>\n",
       "      <th></th>\n",
       "      <th></th>\n",
       "      <th></th>\n",
       "      <th></th>\n",
       "      <th></th>\n",
       "      <th></th>\n",
       "      <th></th>\n",
       "      <th></th>\n",
       "      <th></th>\n",
       "      <th></th>\n",
       "    </tr>\n",
       "  </thead>\n",
       "  <tbody>\n",
       "    <tr>\n",
       "      <th>2021-11-03 11:00:00</th>\n",
       "      <td>4575.91</td>\n",
       "      <td>4582.50</td>\n",
       "      <td>4550.49</td>\n",
       "      <td>4577.27</td>\n",
       "      <td>13312.5037</td>\n",
       "      <td>NaN</td>\n",
       "      <td>2021-11-03 11:00:00</td>\n",
       "      <td>-0.003001</td>\n",
       "      <td>NaN</td>\n",
       "      <td>NaN</td>\n",
       "      <td>NaN</td>\n",
       "      <td>NaN</td>\n",
       "      <td>NaN</td>\n",
       "    </tr>\n",
       "    <tr>\n",
       "      <th>2021-11-03 12:00:00</th>\n",
       "      <td>4577.22</td>\n",
       "      <td>4579.70</td>\n",
       "      <td>4496.13</td>\n",
       "      <td>4522.49</td>\n",
       "      <td>26385.3141</td>\n",
       "      <td>-1.196783</td>\n",
       "      <td>2021-11-03 12:00:00</td>\n",
       "      <td>0.000000</td>\n",
       "      <td>1.000000</td>\n",
       "      <td>NaN</td>\n",
       "      <td>NaN</td>\n",
       "      <td>NaN</td>\n",
       "      <td>NaN</td>\n",
       "    </tr>\n",
       "    <tr>\n",
       "      <th>2021-11-03 13:00:00</th>\n",
       "      <td>4522.48</td>\n",
       "      <td>4553.82</td>\n",
       "      <td>4476.41</td>\n",
       "      <td>4482.22</td>\n",
       "      <td>29384.2921</td>\n",
       "      <td>-0.890439</td>\n",
       "      <td>2021-11-03 13:00:00</td>\n",
       "      <td>0.000000</td>\n",
       "      <td>1.000000</td>\n",
       "      <td>0.000000</td>\n",
       "      <td>-0.000000</td>\n",
       "      <td>5000.000000</td>\n",
       "      <td>9482.220000</td>\n",
       "    </tr>\n",
       "    <tr>\n",
       "      <th>2021-11-03 14:00:00</th>\n",
       "      <td>4482.76</td>\n",
       "      <td>4520.08</td>\n",
       "      <td>4455.00</td>\n",
       "      <td>4511.62</td>\n",
       "      <td>23925.1804</td>\n",
       "      <td>0.655925</td>\n",
       "      <td>2021-11-03 14:00:00</td>\n",
       "      <td>0.000000</td>\n",
       "      <td>1.000000</td>\n",
       "      <td>0.000000</td>\n",
       "      <td>-0.000000</td>\n",
       "      <td>5000.000000</td>\n",
       "      <td>9511.620000</td>\n",
       "    </tr>\n",
       "    <tr>\n",
       "      <th>2021-11-03 15:00:00</th>\n",
       "      <td>4511.61</td>\n",
       "      <td>4547.45</td>\n",
       "      <td>4495.87</td>\n",
       "      <td>4545.68</td>\n",
       "      <td>15261.6559</td>\n",
       "      <td>0.754939</td>\n",
       "      <td>2021-11-03 15:00:00</td>\n",
       "      <td>0.000000</td>\n",
       "      <td>1.000000</td>\n",
       "      <td>0.000000</td>\n",
       "      <td>-0.000000</td>\n",
       "      <td>5000.000000</td>\n",
       "      <td>9545.680000</td>\n",
       "    </tr>\n",
       "    <tr>\n",
       "      <th>...</th>\n",
       "      <td>...</td>\n",
       "      <td>...</td>\n",
       "      <td>...</td>\n",
       "      <td>...</td>\n",
       "      <td>...</td>\n",
       "      <td>...</td>\n",
       "      <td>...</td>\n",
       "      <td>...</td>\n",
       "      <td>...</td>\n",
       "      <td>...</td>\n",
       "      <td>...</td>\n",
       "      <td>...</td>\n",
       "      <td>...</td>\n",
       "    </tr>\n",
       "    <tr>\n",
       "      <th>2022-10-02 12:00:00</th>\n",
       "      <td>1297.87</td>\n",
       "      <td>1301.24</td>\n",
       "      <td>1292.28</td>\n",
       "      <td>1295.40</td>\n",
       "      <td>13770.3373</td>\n",
       "      <td>-0.190312</td>\n",
       "      <td>2022-10-02 12:00:00</td>\n",
       "      <td>0.999250</td>\n",
       "      <td>0.432546</td>\n",
       "      <td>-0.000070</td>\n",
       "      <td>0.090658</td>\n",
       "      <td>5000.090658</td>\n",
       "      <td>5560.410125</td>\n",
       "    </tr>\n",
       "    <tr>\n",
       "      <th>2022-10-02 13:00:00</th>\n",
       "      <td>1295.40</td>\n",
       "      <td>1300.36</td>\n",
       "      <td>1292.26</td>\n",
       "      <td>1297.25</td>\n",
       "      <td>13290.2719</td>\n",
       "      <td>0.142813</td>\n",
       "      <td>2022-10-02 13:00:00</td>\n",
       "      <td>0.999250</td>\n",
       "      <td>0.433169</td>\n",
       "      <td>0.000624</td>\n",
       "      <td>-0.809287</td>\n",
       "      <td>4999.190713</td>\n",
       "      <td>5561.119676</td>\n",
       "    </tr>\n",
       "    <tr>\n",
       "      <th>2022-10-02 14:00:00</th>\n",
       "      <td>1297.26</td>\n",
       "      <td>1298.83</td>\n",
       "      <td>1286.52</td>\n",
       "      <td>1290.00</td>\n",
       "      <td>16200.9130</td>\n",
       "      <td>-0.558875</td>\n",
       "      <td>2022-10-02 14:00:00</td>\n",
       "      <td>0.999250</td>\n",
       "      <td>0.430720</td>\n",
       "      <td>-0.002449</td>\n",
       "      <td>3.159141</td>\n",
       "      <td>5003.159141</td>\n",
       "      <td>5558.788485</td>\n",
       "    </tr>\n",
       "    <tr>\n",
       "      <th>2022-10-02 15:00:00</th>\n",
       "      <td>1290.00</td>\n",
       "      <td>1294.27</td>\n",
       "      <td>1289.01</td>\n",
       "      <td>1293.32</td>\n",
       "      <td>8504.5615</td>\n",
       "      <td>0.257364</td>\n",
       "      <td>2022-10-02 15:00:00</td>\n",
       "      <td>0.999250</td>\n",
       "      <td>0.431843</td>\n",
       "      <td>0.001123</td>\n",
       "      <td>-1.452175</td>\n",
       "      <td>4998.547825</td>\n",
       "      <td>5557.059336</td>\n",
       "    </tr>\n",
       "    <tr>\n",
       "      <th>2022-10-02 16:00:00</th>\n",
       "      <td>1293.33</td>\n",
       "      <td>1302.48</td>\n",
       "      <td>1292.85</td>\n",
       "      <td>1296.45</td>\n",
       "      <td>8773.4220</td>\n",
       "      <td>0.242013</td>\n",
       "      <td>2022-10-02 16:00:00</td>\n",
       "      <td>0.999250</td>\n",
       "      <td>0.432900</td>\n",
       "      <td>0.001056</td>\n",
       "      <td>-1.369616</td>\n",
       "      <td>4998.630384</td>\n",
       "      <td>5559.863181</td>\n",
       "    </tr>\n",
       "  </tbody>\n",
       "</table>\n",
       "<p>7998 rows × 13 columns</p>\n",
       "</div>"
      ],
      "text/plain": [
       "                        Open     High      Low    Close      Volume    Return  \\\n",
       "Date                                                                            \n",
       "2021-11-03 11:00:00  4575.91  4582.50  4550.49  4577.27  13312.5037       NaN   \n",
       "2021-11-03 12:00:00  4577.22  4579.70  4496.13  4522.49  26385.3141 -1.196783   \n",
       "2021-11-03 13:00:00  4522.48  4553.82  4476.41  4482.22  29384.2921 -0.890439   \n",
       "2021-11-03 14:00:00  4482.76  4520.08  4455.00  4511.62  23925.1804  0.655925   \n",
       "2021-11-03 15:00:00  4511.61  4547.45  4495.87  4545.68  15261.6559  0.754939   \n",
       "...                      ...      ...      ...      ...         ...       ...   \n",
       "2022-10-02 12:00:00  1297.87  1301.24  1292.28  1295.40  13770.3373 -0.190312   \n",
       "2022-10-02 13:00:00  1295.40  1300.36  1292.26  1297.25  13290.2719  0.142813   \n",
       "2022-10-02 14:00:00  1297.26  1298.83  1286.52  1290.00  16200.9130 -0.558875   \n",
       "2022-10-02 15:00:00  1290.00  1294.27  1289.01  1293.32   8504.5615  0.257364   \n",
       "2022-10-02 16:00:00  1293.33  1302.48  1292.85  1296.45   8773.4220  0.242013   \n",
       "\n",
       "                                   Date         T     Delta    dDelta  \\\n",
       "Date                                                                    \n",
       "2021-11-03 11:00:00 2021-11-03 11:00:00 -0.003001       NaN       NaN   \n",
       "2021-11-03 12:00:00 2021-11-03 12:00:00  0.000000  1.000000       NaN   \n",
       "2021-11-03 13:00:00 2021-11-03 13:00:00  0.000000  1.000000  0.000000   \n",
       "2021-11-03 14:00:00 2021-11-03 14:00:00  0.000000  1.000000  0.000000   \n",
       "2021-11-03 15:00:00 2021-11-03 15:00:00  0.000000  1.000000  0.000000   \n",
       "...                                 ...       ...       ...       ...   \n",
       "2022-10-02 12:00:00 2022-10-02 12:00:00  0.999250  0.432546 -0.000070   \n",
       "2022-10-02 13:00:00 2022-10-02 13:00:00  0.999250  0.433169  0.000624   \n",
       "2022-10-02 14:00:00 2022-10-02 14:00:00  0.999250  0.430720 -0.002449   \n",
       "2022-10-02 15:00:00 2022-10-02 15:00:00  0.999250  0.431843  0.001123   \n",
       "2022-10-02 16:00:00 2022-10-02 16:00:00  0.999250  0.432900  0.001056   \n",
       "\n",
       "                        dCash         Cash        Value  \n",
       "Date                                                     \n",
       "2021-11-03 11:00:00       NaN          NaN          NaN  \n",
       "2021-11-03 12:00:00       NaN          NaN          NaN  \n",
       "2021-11-03 13:00:00 -0.000000  5000.000000  9482.220000  \n",
       "2021-11-03 14:00:00 -0.000000  5000.000000  9511.620000  \n",
       "2021-11-03 15:00:00 -0.000000  5000.000000  9545.680000  \n",
       "...                       ...          ...          ...  \n",
       "2022-10-02 12:00:00  0.090658  5000.090658  5560.410125  \n",
       "2022-10-02 13:00:00 -0.809287  4999.190713  5561.119676  \n",
       "2022-10-02 14:00:00  3.159141  5003.159141  5558.788485  \n",
       "2022-10-02 15:00:00 -1.452175  4998.547825  5557.059336  \n",
       "2022-10-02 16:00:00 -1.369616  4998.630384  5559.863181  \n",
       "\n",
       "[7998 rows x 13 columns]"
      ]
     },
     "execution_count": 43,
     "metadata": {},
     "output_type": "execute_result"
    }
   ],
   "source": [
    "df"
   ]
  },
  {
   "cell_type": "code",
   "execution_count": null,
   "id": "5552b78e",
   "metadata": {},
   "outputs": [],
   "source": []
  },
  {
   "cell_type": "code",
   "execution_count": 44,
   "id": "583f860f",
   "metadata": {},
   "outputs": [
    {
     "data": {
      "text/plain": [
       "[<matplotlib.lines.Line2D at 0x7fe1559744c0>]"
      ]
     },
     "execution_count": 44,
     "metadata": {},
     "output_type": "execute_result"
    },
    {
     "data": {
      "image/png": "[encoded data removed]",
      "text/plain": [
       "<Figure size 432x288 with 1 Axes>"
      ]
     },
     "metadata": {
      "needs_background": "light"
     },
     "output_type": "display_data"
    }
   ],
   "source": [
    "plt.plot(df[\"Close\"], df[\"Value\"], 'ro', )\n"
   ]
  },
  {
   "cell_type": "code",
   "execution_count": 45,
   "id": "c8f935bc",
   "metadata": {},
   "outputs": [
    {
     "data": {
      "text/plain": [
       "[<matplotlib.lines.Line2D at 0x7fe155715d90>]"
      ]
     },
     "execution_count": 45,
     "metadata": {},
     "output_type": "execute_result"
    },
    {
     "data": {
      "image/png": "[encoded data removed]",
      "text/plain": [
       "<Figure size 432x288 with 1 Axes>"
      ]
     },
     "metadata": {
      "needs_background": "light"
     },
     "output_type": "display_data"
    }
   ],
   "source": [
    "plt.plot(df[\"Close\"], df[\"Value\"], 'ro', )"
   ]
  },
  {
   "cell_type": "code",
   "execution_count": null,
   "id": "db3d38d3",
   "metadata": {},
   "outputs": [],
   "source": []
  },
  {
   "cell_type": "code",
   "execution_count": null,
   "id": "18330911",
   "metadata": {},
   "outputs": [],
   "source": []
  },
  {
   "cell_type": "code",
   "execution_count": 37,
   "id": "672dea2c",
   "metadata": {},
   "outputs": [],
   "source": [
    "def cash(S, dDelta):\n",
    "    \n",
    "    cash = df[\"cash\"].shift(1) - (S * dDelta)\n",
    "\n",
    "    # cash = df[\"cash\"].shift(1) + (S * dDelta * -1)\n",
    "    \n",
    "    return cash"
   ]
  },
  {
   "cell_type": "code",
   "execution_count": null,
   "id": "d90b6572",
   "metadata": {},
   "outputs": [],
   "source": []
  },
  {
   "cell_type": "code",
   "execution_count": 38,
   "id": "38126396",
   "metadata": {},
   "outputs": [
    {
     "ename": "KeyError",
     "evalue": "'cash'",
     "output_type": "error",
     "traceback": [
      "\u001b[0;31m---------------------------------------------------------------------------\u001b[0m",
      "\u001b[0;31mKeyError\u001b[0m                                  Traceback (most recent call last)",
      "File \u001b[0;32m~/anaconda3/lib/python3.9/site-packages/pandas/core/indexes/base.py:3621\u001b[0m, in \u001b[0;36mIndex.get_loc\u001b[0;34m(self, key, method, tolerance)\u001b[0m\n\u001b[1;32m   3620\u001b[0m \u001b[38;5;28;01mtry\u001b[39;00m:\n\u001b[0;32m-> 3621\u001b[0m     \u001b[38;5;28;01mreturn\u001b[39;00m \u001b[38;5;28;43mself\u001b[39;49m\u001b[38;5;241;43m.\u001b[39;49m\u001b[43m_engine\u001b[49m\u001b[38;5;241;43m.\u001b[39;49m\u001b[43mget_loc\u001b[49m\u001b[43m(\u001b[49m\u001b[43mcasted_key\u001b[49m\u001b[43m)\u001b[49m\n\u001b[1;32m   3622\u001b[0m \u001b[38;5;28;01mexcept\u001b[39;00m \u001b[38;5;167;01mKeyError\u001b[39;00m \u001b[38;5;28;01mas\u001b[39;00m err:\n",
      "File \u001b[0;32m~/anaconda3/lib/python3.9/site-packages/pandas/_libs/index.pyx:136\u001b[0m, in \u001b[0;36mpandas._libs.index.IndexEngine.get_loc\u001b[0;34m()\u001b[0m\n",
      "File \u001b[0;32m~/anaconda3/lib/python3.9/site-packages/pandas/_libs/index.pyx:163\u001b[0m, in \u001b[0;36mpandas._libs.index.IndexEngine.get_loc\u001b[0;34m()\u001b[0m\n",
      "File \u001b[0;32mpandas/_libs/hashtable_class_helper.pxi:5198\u001b[0m, in \u001b[0;36mpandas._libs.hashtable.PyObjectHashTable.get_item\u001b[0;34m()\u001b[0m\n",
      "File \u001b[0;32mpandas/_libs/hashtable_class_helper.pxi:5206\u001b[0m, in \u001b[0;36mpandas._libs.hashtable.PyObjectHashTable.get_item\u001b[0;34m()\u001b[0m\n",
      "\u001b[0;31mKeyError\u001b[0m: 'cash'",
      "\nThe above exception was the direct cause of the following exception:\n",
      "\u001b[0;31mKeyError\u001b[0m                                  Traceback (most recent call last)",
      "Input \u001b[0;32mIn [38]\u001b[0m, in \u001b[0;36m<cell line: 1>\u001b[0;34m()\u001b[0m\n\u001b[0;32m----> 1\u001b[0m df[\u001b[38;5;124m'\u001b[39m\u001b[38;5;124mcash\u001b[39m\u001b[38;5;124m'\u001b[39m] \u001b[38;5;241m=\u001b[39m \u001b[43mdf\u001b[49m\u001b[38;5;241;43m.\u001b[39;49m\u001b[43mapply\u001b[49m\u001b[43m(\u001b[49m\u001b[38;5;28;43;01mlambda\u001b[39;49;00m\u001b[43m \u001b[49m\u001b[43mx\u001b[49m\u001b[43m:\u001b[49m\u001b[43m \u001b[49m\u001b[43mcash\u001b[49m\u001b[43m(\u001b[49m\u001b[43mdf\u001b[49m\u001b[43m[\u001b[49m\u001b[38;5;124;43m\"\u001b[39;49m\u001b[38;5;124;43mClose\u001b[39;49m\u001b[38;5;124;43m\"\u001b[39;49m\u001b[43m]\u001b[49m\u001b[43m,\u001b[49m\u001b[43m \u001b[49m\u001b[43mdf\u001b[49m\u001b[43m[\u001b[49m\u001b[38;5;124;43m\"\u001b[39;49m\u001b[38;5;124;43mdDelta\u001b[39;49m\u001b[38;5;124;43m\"\u001b[39;49m\u001b[43m]\u001b[49m\u001b[43m)\u001b[49m\u001b[43m,\u001b[49m\u001b[43m \u001b[49m\u001b[43maxis\u001b[49m\u001b[38;5;241;43m=\u001b[39;49m\u001b[38;5;241;43m1\u001b[39;49m\u001b[43m)\u001b[49m\n",
      "File \u001b[0;32m~/anaconda3/lib/python3.9/site-packages/pandas/core/frame.py:8839\u001b[0m, in \u001b[0;36mDataFrame.apply\u001b[0;34m(self, func, axis, raw, result_type, args, **kwargs)\u001b[0m\n\u001b[1;32m   8828\u001b[0m \u001b[38;5;28;01mfrom\u001b[39;00m \u001b[38;5;21;01mpandas\u001b[39;00m\u001b[38;5;21;01m.\u001b[39;00m\u001b[38;5;21;01mcore\u001b[39;00m\u001b[38;5;21;01m.\u001b[39;00m\u001b[38;5;21;01mapply\u001b[39;00m \u001b[38;5;28;01mimport\u001b[39;00m frame_apply\n\u001b[1;32m   8830\u001b[0m op \u001b[38;5;241m=\u001b[39m frame_apply(\n\u001b[1;32m   8831\u001b[0m     \u001b[38;5;28mself\u001b[39m,\n\u001b[1;32m   8832\u001b[0m     func\u001b[38;5;241m=\u001b[39mfunc,\n\u001b[0;32m   (...)\u001b[0m\n\u001b[1;32m   8837\u001b[0m     kwargs\u001b[38;5;241m=\u001b[39mkwargs,\n\u001b[1;32m   8838\u001b[0m )\n\u001b[0;32m-> 8839\u001b[0m \u001b[38;5;28;01mreturn\u001b[39;00m \u001b[43mop\u001b[49m\u001b[38;5;241;43m.\u001b[39;49m\u001b[43mapply\u001b[49m\u001b[43m(\u001b[49m\u001b[43m)\u001b[49m\u001b[38;5;241m.\u001b[39m__finalize__(\u001b[38;5;28mself\u001b[39m, method\u001b[38;5;241m=\u001b[39m\u001b[38;5;124m\"\u001b[39m\u001b[38;5;124mapply\u001b[39m\u001b[38;5;124m\"\u001b[39m)\n",
      "File \u001b[0;32m~/anaconda3/lib/python3.9/site-packages/pandas/core/apply.py:727\u001b[0m, in \u001b[0;36mFrameApply.apply\u001b[0;34m(self)\u001b[0m\n\u001b[1;32m    724\u001b[0m \u001b[38;5;28;01melif\u001b[39;00m \u001b[38;5;28mself\u001b[39m\u001b[38;5;241m.\u001b[39mraw:\n\u001b[1;32m    725\u001b[0m     \u001b[38;5;28;01mreturn\u001b[39;00m \u001b[38;5;28mself\u001b[39m\u001b[38;5;241m.\u001b[39mapply_raw()\n\u001b[0;32m--> 727\u001b[0m \u001b[38;5;28;01mreturn\u001b[39;00m \u001b[38;5;28;43mself\u001b[39;49m\u001b[38;5;241;43m.\u001b[39;49m\u001b[43mapply_standard\u001b[49m\u001b[43m(\u001b[49m\u001b[43m)\u001b[49m\n",
      "File \u001b[0;32m~/anaconda3/lib/python3.9/site-packages/pandas/core/apply.py:851\u001b[0m, in \u001b[0;36mFrameApply.apply_standard\u001b[0;34m(self)\u001b[0m\n\u001b[1;32m    850\u001b[0m \u001b[38;5;28;01mdef\u001b[39;00m \u001b[38;5;21mapply_standard\u001b[39m(\u001b[38;5;28mself\u001b[39m):\n\u001b[0;32m--> 851\u001b[0m     results, res_index \u001b[38;5;241m=\u001b[39m \u001b[38;5;28;43mself\u001b[39;49m\u001b[38;5;241;43m.\u001b[39;49m\u001b[43mapply_series_generator\u001b[49m\u001b[43m(\u001b[49m\u001b[43m)\u001b[49m\n\u001b[1;32m    853\u001b[0m     \u001b[38;5;66;03m# wrap results\u001b[39;00m\n\u001b[1;32m    854\u001b[0m     \u001b[38;5;28;01mreturn\u001b[39;00m \u001b[38;5;28mself\u001b[39m\u001b[38;5;241m.\u001b[39mwrap_results(results, res_index)\n",
      "File \u001b[0;32m~/anaconda3/lib/python3.9/site-packages/pandas/core/apply.py:867\u001b[0m, in \u001b[0;36mFrameApply.apply_series_generator\u001b[0;34m(self)\u001b[0m\n\u001b[1;32m    864\u001b[0m \u001b[38;5;28;01mwith\u001b[39;00m option_context(\u001b[38;5;124m\"\u001b[39m\u001b[38;5;124mmode.chained_assignment\u001b[39m\u001b[38;5;124m\"\u001b[39m, \u001b[38;5;28;01mNone\u001b[39;00m):\n\u001b[1;32m    865\u001b[0m     \u001b[38;5;28;01mfor\u001b[39;00m i, v \u001b[38;5;129;01min\u001b[39;00m \u001b[38;5;28menumerate\u001b[39m(series_gen):\n\u001b[1;32m    866\u001b[0m         \u001b[38;5;66;03m# ignore SettingWithCopy here in case the user mutates\u001b[39;00m\n\u001b[0;32m--> 867\u001b[0m         results[i] \u001b[38;5;241m=\u001b[39m \u001b[38;5;28;43mself\u001b[39;49m\u001b[38;5;241;43m.\u001b[39;49m\u001b[43mf\u001b[49m\u001b[43m(\u001b[49m\u001b[43mv\u001b[49m\u001b[43m)\u001b[49m\n\u001b[1;32m    868\u001b[0m         \u001b[38;5;28;01mif\u001b[39;00m \u001b[38;5;28misinstance\u001b[39m(results[i], ABCSeries):\n\u001b[1;32m    869\u001b[0m             \u001b[38;5;66;03m# If we have a view on v, we need to make a copy because\u001b[39;00m\n\u001b[1;32m    870\u001b[0m             \u001b[38;5;66;03m#  series_generator will swap out the underlying data\u001b[39;00m\n\u001b[1;32m    871\u001b[0m             results[i] \u001b[38;5;241m=\u001b[39m results[i]\u001b[38;5;241m.\u001b[39mcopy(deep\u001b[38;5;241m=\u001b[39m\u001b[38;5;28;01mFalse\u001b[39;00m)\n",
      "Input \u001b[0;32mIn [38]\u001b[0m, in \u001b[0;36m<lambda>\u001b[0;34m(x)\u001b[0m\n\u001b[0;32m----> 1\u001b[0m df[\u001b[38;5;124m'\u001b[39m\u001b[38;5;124mcash\u001b[39m\u001b[38;5;124m'\u001b[39m] \u001b[38;5;241m=\u001b[39m df\u001b[38;5;241m.\u001b[39mapply(\u001b[38;5;28;01mlambda\u001b[39;00m x: \u001b[43mcash\u001b[49m\u001b[43m(\u001b[49m\u001b[43mdf\u001b[49m\u001b[43m[\u001b[49m\u001b[38;5;124;43m\"\u001b[39;49m\u001b[38;5;124;43mClose\u001b[39;49m\u001b[38;5;124;43m\"\u001b[39;49m\u001b[43m]\u001b[49m\u001b[43m,\u001b[49m\u001b[43m \u001b[49m\u001b[43mdf\u001b[49m\u001b[43m[\u001b[49m\u001b[38;5;124;43m\"\u001b[39;49m\u001b[38;5;124;43mdDelta\u001b[39;49m\u001b[38;5;124;43m\"\u001b[39;49m\u001b[43m]\u001b[49m\u001b[43m)\u001b[49m, axis\u001b[38;5;241m=\u001b[39m\u001b[38;5;241m1\u001b[39m)\n",
      "Input \u001b[0;32mIn [37]\u001b[0m, in \u001b[0;36mcash\u001b[0;34m(S, dDelta)\u001b[0m\n\u001b[1;32m      1\u001b[0m \u001b[38;5;28;01mdef\u001b[39;00m \u001b[38;5;21mcash\u001b[39m(S, dDelta):\n\u001b[0;32m----> 3\u001b[0m     cash \u001b[38;5;241m=\u001b[39m \u001b[43mdf\u001b[49m\u001b[43m[\u001b[49m\u001b[38;5;124;43m\"\u001b[39;49m\u001b[38;5;124;43mcash\u001b[39;49m\u001b[38;5;124;43m\"\u001b[39;49m\u001b[43m]\u001b[49m\u001b[38;5;241m.\u001b[39mshift(\u001b[38;5;241m1\u001b[39m) \u001b[38;5;241m-\u001b[39m (S \u001b[38;5;241m*\u001b[39m dDelta)\n\u001b[1;32m      5\u001b[0m     \u001b[38;5;66;03m# cash = df[\"cash\"].shift(1) + (S * dDelta * -1)\u001b[39;00m\n\u001b[1;32m      7\u001b[0m     \u001b[38;5;28;01mreturn\u001b[39;00m cash\n",
      "File \u001b[0;32m~/anaconda3/lib/python3.9/site-packages/pandas/core/frame.py:3505\u001b[0m, in \u001b[0;36mDataFrame.__getitem__\u001b[0;34m(self, key)\u001b[0m\n\u001b[1;32m   3503\u001b[0m \u001b[38;5;28;01mif\u001b[39;00m \u001b[38;5;28mself\u001b[39m\u001b[38;5;241m.\u001b[39mcolumns\u001b[38;5;241m.\u001b[39mnlevels \u001b[38;5;241m>\u001b[39m \u001b[38;5;241m1\u001b[39m:\n\u001b[1;32m   3504\u001b[0m     \u001b[38;5;28;01mreturn\u001b[39;00m \u001b[38;5;28mself\u001b[39m\u001b[38;5;241m.\u001b[39m_getitem_multilevel(key)\n\u001b[0;32m-> 3505\u001b[0m indexer \u001b[38;5;241m=\u001b[39m \u001b[38;5;28;43mself\u001b[39;49m\u001b[38;5;241;43m.\u001b[39;49m\u001b[43mcolumns\u001b[49m\u001b[38;5;241;43m.\u001b[39;49m\u001b[43mget_loc\u001b[49m\u001b[43m(\u001b[49m\u001b[43mkey\u001b[49m\u001b[43m)\u001b[49m\n\u001b[1;32m   3506\u001b[0m \u001b[38;5;28;01mif\u001b[39;00m is_integer(indexer):\n\u001b[1;32m   3507\u001b[0m     indexer \u001b[38;5;241m=\u001b[39m [indexer]\n",
      "File \u001b[0;32m~/anaconda3/lib/python3.9/site-packages/pandas/core/indexes/base.py:3623\u001b[0m, in \u001b[0;36mIndex.get_loc\u001b[0;34m(self, key, method, tolerance)\u001b[0m\n\u001b[1;32m   3621\u001b[0m     \u001b[38;5;28;01mreturn\u001b[39;00m \u001b[38;5;28mself\u001b[39m\u001b[38;5;241m.\u001b[39m_engine\u001b[38;5;241m.\u001b[39mget_loc(casted_key)\n\u001b[1;32m   3622\u001b[0m \u001b[38;5;28;01mexcept\u001b[39;00m \u001b[38;5;167;01mKeyError\u001b[39;00m \u001b[38;5;28;01mas\u001b[39;00m err:\n\u001b[0;32m-> 3623\u001b[0m     \u001b[38;5;28;01mraise\u001b[39;00m \u001b[38;5;167;01mKeyError\u001b[39;00m(key) \u001b[38;5;28;01mfrom\u001b[39;00m \u001b[38;5;21;01merr\u001b[39;00m\n\u001b[1;32m   3624\u001b[0m \u001b[38;5;28;01mexcept\u001b[39;00m \u001b[38;5;167;01mTypeError\u001b[39;00m:\n\u001b[1;32m   3625\u001b[0m     \u001b[38;5;66;03m# If we have a listlike key, _check_indexing_error will raise\u001b[39;00m\n\u001b[1;32m   3626\u001b[0m     \u001b[38;5;66;03m#  InvalidIndexError. Otherwise we fall through and re-raise\u001b[39;00m\n\u001b[1;32m   3627\u001b[0m     \u001b[38;5;66;03m#  the TypeError.\u001b[39;00m\n\u001b[1;32m   3628\u001b[0m     \u001b[38;5;28mself\u001b[39m\u001b[38;5;241m.\u001b[39m_check_indexing_error(key)\n",
      "\u001b[0;31mKeyError\u001b[0m: 'cash'"
     ]
    }
   ],
   "source": [
    "df['cash'] = df.apply(lambda x: cash(df[\"Close\"], df[\"dDelta\"]), axis=1)"
   ]
  },
  {
   "cell_type": "code",
   "execution_count": null,
   "id": "bd084a5d",
   "metadata": {},
   "outputs": [],
   "source": []
  },
  {
   "cell_type": "code",
   "execution_count": null,
   "id": "f96ed9db",
   "metadata": {},
   "outputs": [],
   "source": []
  },
  {
   "cell_type": "code",
   "execution_count": null,
   "id": "96d0ba3c",
   "metadata": {},
   "outputs": [],
   "source": [
    "# not finished...\n",
    "\n",
    "def cashBalance(S, delta0, delta1, cash):\n",
    "    cash1 = cash - ((delta1 - delta0) * S)    \n",
    "    return cash1\n",
    "\n",
    "def underlyingBalance(delta, liquidity):\n",
    "    return 0\n",
    "    \n"
   ]
  },
  {
   "cell_type": "code",
   "execution_count": null,
   "id": "8d09958b",
   "metadata": {},
   "outputs": [],
   "source": [
    "def portfolioValue():\n",
    "    return 0"
   ]
  },
  {
   "cell_type": "code",
   "execution_count": null,
   "id": "fcbdbdd1",
   "metadata": {},
   "outputs": [],
   "source": []
  },
  {
   "cell_type": "code",
   "execution_count": null,
   "id": "a3150aeb",
   "metadata": {},
   "outputs": [],
   "source": []
  },
  {
   "cell_type": "code",
   "execution_count": null,
   "id": "4c2ba5af",
   "metadata": {},
   "outputs": [],
   "source": []
  }
 ],
 "metadata": {
  "kernelspec": {
   "display_name": "Python 3",
   "language": "python",
   "name": "python3"
  },
  "language_info": {
   "codemirror_mode": {
    "name": "ipython",
    "version": 3
   },
   "file_extension": ".py",
   "mimetype": "text/x-python",
   "name": "python",
   "nbconvert_exporter": "python",
   "pygments_lexer": "ipython3",
   "version": "3.8.8"
  }
 },
 "nbformat": 4,
 "nbformat_minor": 5
}
