{
 "cells": [
  {
   "cell_type": "code",
   "execution_count": 1,
   "id": "30b0ae02",
   "metadata": {},
   "outputs": [],
   "source": [
    "import pandas as pd\n",
    "import numpy as np\n",
    "from scipy.stats import norm\n",
    "from pandas_datareader import data as pdr\n",
    "import pandas as pd\n",
    "import yfinance as yf\n",
    "import yahoofinancials\n",
    "import seaborn as sns\n",
    "import datetime\n",
    "from datetime import date\n",
    "import matplotlib.pyplot as plt\n",
    "\n",
    "import math\n",
    "from datetime import date"
   ]
  },
  {
   "cell_type": "code",
   "execution_count": 2,
   "id": "d863d226",
   "metadata": {},
   "outputs": [],
   "source": [
    "N = norm.cdf"
   ]
  },
  {
   "cell_type": "code",
   "execution_count": null,
   "id": "c3e58079",
   "metadata": {},
   "outputs": [],
   "source": []
  },
  {
   "cell_type": "code",
   "execution_count": 3,
   "id": "ed788228",
   "metadata": {},
   "outputs": [],
   "source": [
    "import os\n",
    "from pathlib import Path\n",
    "\n",
    "import sys\n",
    "import csv\n",
    "\n",
    "# -----------------------------------------------------------------------------\n",
    "\n",
    "root = os.path.dirname(os.path.dirname(os.path.dirname(os.path.abspath(''))))\n",
    "sys.path.append(root + '/python')\n",
    "\n",
    "import ccxt\n",
    "\n",
    "\n",
    "# -----------------------------------------------------------------------------\n",
    "\n",
    "def retry_fetch_ohlcv(exchange, max_retries, symbol, timeframe, since, limit):\n",
    "    num_retries = 0\n",
    "    try:\n",
    "        num_retries += 1\n",
    "        ohlcv = exchange.fetch_ohlcv(symbol, timeframe, since, limit)\n",
    "        # print('Fetched', len(ohlcv), symbol, 'candles from', exchange.iso8601 (ohlcv[0][0]), 'to', exchange.iso8601 (ohlcv[-1][0]))\n",
    "        return ohlcv\n",
    "    except Exception:\n",
    "        if num_retries > max_retries:\n",
    "            raise  # Exception('Failed to fetch', timeframe, symbol, 'OHLCV in', max_retries, 'attempts')\n",
    "\n",
    "\n",
    "def scrape_ohlcv(exchange, max_retries, symbol, timeframe, since, limit):\n",
    "    earliest_timestamp = exchange.milliseconds()\n",
    "    timeframe_duration_in_seconds = exchange.parse_timeframe(timeframe)\n",
    "    timeframe_duration_in_ms = timeframe_duration_in_seconds * 1000\n",
    "    timedelta = limit * timeframe_duration_in_ms\n",
    "    all_ohlcv = []\n",
    "    while True:\n",
    "        fetch_since = earliest_timestamp - timedelta\n",
    "        ohlcv = retry_fetch_ohlcv(exchange, max_retries, symbol, timeframe, fetch_since, limit)\n",
    "        # if we have reached the beginning of history\n",
    "        if ohlcv[0][0] >= earliest_timestamp:\n",
    "            break\n",
    "        earliest_timestamp = ohlcv[0][0]\n",
    "        all_ohlcv = ohlcv + all_ohlcv\n",
    "        print(len(all_ohlcv), symbol, 'candles in total from', exchange.iso8601(all_ohlcv[0][0]), 'to', exchange.iso8601(all_ohlcv[-1][0]))\n",
    "        # if we have reached the checkpoint\n",
    "        if fetch_since < since:\n",
    "            break\n",
    "    return all_ohlcv\n",
    "\n",
    "\n",
    "def write_to_csv(filename, exchange, data):\n",
    "    p = Path(\"\", str(exchange))\n",
    "    p.mkdir(parents=True, exist_ok=True)\n",
    "    full_path = p / str(filename)\n",
    "    with Path(full_path).open('w+', newline='') as output_file:\n",
    "        csv_writer = csv.writer(output_file, delimiter=',', quotechar='\"', quoting=csv.QUOTE_MINIMAL)\n",
    "        csv_writer.writerows(data)\n",
    "\n",
    "\n",
    "def scrape_candles_to_csv(filename, exchange_id, max_retries, symbol, timeframe, since, limit):\n",
    "    # instantiate the exchange by id\n",
    "    exchange = getattr(ccxt, exchange_id)({\n",
    "        'enableRateLimit': True,  # required by the Manual\n",
    "    })\n",
    "    # convert since from string to milliseconds integer if needed\n",
    "    if isinstance(since, str):\n",
    "        since = exchange.parse8601(since)\n",
    "    # preload all markets from the exchange\n",
    "    exchange.load_markets()\n",
    "    # fetch all candles\n",
    "    ohlcv = scrape_ohlcv(exchange, max_retries, symbol, timeframe, since, limit)\n",
    "    # save them to csv file\n",
    "    write_to_csv(filename, exchange, ohlcv)\n",
    "    print('Saved', len(ohlcv), 'candles from', exchange.iso8601(ohlcv[0][0]), 'to', exchange.iso8601(ohlcv[-1][0]), 'to', filename)"
   ]
  },
  {
   "cell_type": "code",
   "execution_count": 4,
   "id": "c0c9af77",
   "metadata": {},
   "outputs": [
    {
     "name": "stdout",
     "output_type": "stream",
     "text": [
      "1000 ETH/USDT candles in total from 2022-08-22T01:00:00.000Z to 2022-10-02T16:00:00.000Z\n",
      "2000 ETH/USDT candles in total from 2022-07-11T09:00:00.000Z to 2022-10-02T16:00:00.000Z\n",
      "3000 ETH/USDT candles in total from 2022-05-30T17:00:00.000Z to 2022-10-02T16:00:00.000Z\n",
      "4000 ETH/USDT candles in total from 2022-04-19T01:00:00.000Z to 2022-10-02T16:00:00.000Z\n",
      "5000 ETH/USDT candles in total from 2022-03-08T09:00:00.000Z to 2022-10-02T16:00:00.000Z\n",
      "6000 ETH/USDT candles in total from 2022-01-25T17:00:00.000Z to 2022-10-02T16:00:00.000Z\n",
      "7000 ETH/USDT candles in total from 2021-12-15T01:00:00.000Z to 2022-10-02T16:00:00.000Z\n",
      "8000 ETH/USDT candles in total from 2021-11-03T09:00:00.000Z to 2022-10-02T16:00:00.000Z\n",
      "9000 ETH/USDT candles in total from 2021-09-22T17:00:00.000Z to 2022-10-02T16:00:00.000Z\n",
      "10000 ETH/USDT candles in total from 2021-08-12T01:00:00.000Z to 2022-10-02T16:00:00.000Z\n",
      "11000 ETH/USDT candles in total from 2021-07-01T09:00:00.000Z to 2022-10-02T16:00:00.000Z\n",
      "12000 ETH/USDT candles in total from 2021-05-20T17:00:00.000Z to 2022-10-02T16:00:00.000Z\n",
      "13000 ETH/USDT candles in total from 2021-04-09T01:00:00.000Z to 2022-10-02T16:00:00.000Z\n",
      "14000 ETH/USDT candles in total from 2021-02-26T09:00:00.000Z to 2022-10-02T16:00:00.000Z\n",
      "15000 ETH/USDT candles in total from 2021-01-15T17:00:00.000Z to 2022-10-02T16:00:00.000Z\n",
      "16000 ETH/USDT candles in total from 2020-12-05T01:00:00.000Z to 2022-10-02T16:00:00.000Z\n",
      "Saved 16000 candles from 2020-12-05T01:00:00.000Z to 2022-10-02T16:00:00.000Z to eth_usdt_1h.csv\n"
     ]
    }
   ],
   "source": [
    "scrape_candles_to_csv('eth_usdt_1h.csv', 'binance', 3, 'ETH/USDT', '1h', '2021-01-0100:00:00Z', 1000)"
   ]
  },
  {
   "cell_type": "code",
   "execution_count": 23,
   "id": "887cdf00",
   "metadata": {},
   "outputs": [],
   "source": [
    "df = pd.read_csv('Binance/eth_usdt_1h.csv')"
   ]
  },
  {
   "cell_type": "code",
   "execution_count": 24,
   "id": "ec6ea9e1",
   "metadata": {},
   "outputs": [],
   "source": [
    "df.columns = ['unix', 'Open', 'High', 'Low', 'Close', 'Volume']\n",
    "df = df.set_index('unix')"
   ]
  },
  {
   "cell_type": "code",
   "execution_count": 25,
   "id": "f38e1aca",
   "metadata": {},
   "outputs": [
    {
     "data": {
      "text/plain": [
       "<AxesSubplot:xlabel='unix'>"
      ]
     },
     "execution_count": 25,
     "metadata": {},
     "output_type": "execute_result"
    },
    {
     "data": {
      "image/png": "[encoded data removed]",
      "text/plain": [
       "<Figure size 432x288 with 1 Axes>"
      ]
     },
     "metadata": {
      "needs_background": "light"
     },
     "output_type": "display_data"
    }
   ],
   "source": [
    "df[\"Close\"].plot()"
   ]
  },
  {
   "cell_type": "code",
   "execution_count": null,
   "id": "ef599853",
   "metadata": {},
   "outputs": [],
   "source": []
  },
  {
   "cell_type": "code",
   "execution_count": 26,
   "id": "558a7d50",
   "metadata": {},
   "outputs": [],
   "source": [
    "df['Date'] = pd.to_datetime(df.index,unit='ms')\n",
    "df = df.set_index('Date')"
   ]
  },
  {
   "cell_type": "code",
   "execution_count": 27,
   "id": "7c555230",
   "metadata": {},
   "outputs": [],
   "source": [
    "length = len(df)\n",
    "length = int(length / 2)\n",
    "\n",
    "df = df.drop(df.index[0:length])"
   ]
  },
  {
   "cell_type": "code",
   "execution_count": 28,
   "id": "53715eaf",
   "metadata": {},
   "outputs": [
    {
     "data": {
      "text/plain": [
       "'today = str(date.today())\\nprint(today)'"
      ]
     },
     "execution_count": 28,
     "metadata": {},
     "output_type": "execute_result"
    }
   ],
   "source": [
    "\"\"\"today = str(date.today())\n",
    "print(today)\"\"\""
   ]
  },
  {
   "cell_type": "code",
   "execution_count": 29,
   "id": "b7adff69",
   "metadata": {
    "scrolled": true
   },
   "outputs": [
    {
     "name": "stdout",
     "output_type": "stream",
     "text": [
      "volatility over period: 0.8419456449719714\n"
     ]
    }
   ],
   "source": [
    "# yf.pdr_override() \n",
    "# df = pdr.get_data_yahoo(\"ETH-USD\", start=\"2022-01-01\", end=today)\n",
    "\n",
    "# df['Date'] = df.index\n",
    "df['Return'] = 100 * (df['Close'].pct_change())\n",
    "\n",
    "daily_volatility = df['Return'].std()\n",
    "monthly_volatility = math.sqrt(30) * daily_volatility\n",
    "\n",
    "period_volatility = (math.sqrt(len(df.index)) * daily_volatility) / 100\n",
    "\n",
    "print(\"volatility over period:\", period_volatility)"
   ]
  },
  {
   "cell_type": "code",
   "execution_count": 30,
   "id": "fd6d69a0",
   "metadata": {},
   "outputs": [],
   "source": [
    "df[\"Date\"] = df.index"
   ]
  },
  {
   "cell_type": "code",
   "execution_count": 31,
   "id": "e3e36376",
   "metadata": {},
   "outputs": [
    {
     "data": {
      "text/html": [
       "<div>\n",
       "<style scoped>\n",
       "    .dataframe tbody tr th:only-of-type {\n",
       "        vertical-align: middle;\n",
       "    }\n",
       "\n",
       "    .dataframe tbody tr th {\n",
       "        vertical-align: top;\n",
       "    }\n",
       "\n",
       "    .dataframe thead th {\n",
       "        text-align: right;\n",
       "    }\n",
       "</style>\n",
       "<table border=\"1\" class=\"dataframe\">\n",
       "  <thead>\n",
       "    <tr style=\"text-align: right;\">\n",
       "      <th></th>\n",
       "      <th>Open</th>\n",
       "      <th>High</th>\n",
       "      <th>Low</th>\n",
       "      <th>Close</th>\n",
       "      <th>Volume</th>\n",
       "      <th>Return</th>\n",
       "      <th>Date</th>\n",
       "    </tr>\n",
       "    <tr>\n",
       "      <th>Date</th>\n",
       "      <th></th>\n",
       "      <th></th>\n",
       "      <th></th>\n",
       "      <th></th>\n",
       "      <th></th>\n",
       "      <th></th>\n",
       "      <th></th>\n",
       "    </tr>\n",
       "  </thead>\n",
       "  <tbody>\n",
       "    <tr>\n",
       "      <th>2021-11-03 11:00:00</th>\n",
       "      <td>4575.91</td>\n",
       "      <td>4582.50</td>\n",
       "      <td>4550.49</td>\n",
       "      <td>4577.27</td>\n",
       "      <td>13312.5037</td>\n",
       "      <td>NaN</td>\n",
       "      <td>2021-11-03 11:00:00</td>\n",
       "    </tr>\n",
       "    <tr>\n",
       "      <th>2021-11-03 12:00:00</th>\n",
       "      <td>4577.22</td>\n",
       "      <td>4579.70</td>\n",
       "      <td>4496.13</td>\n",
       "      <td>4522.49</td>\n",
       "      <td>26385.3141</td>\n",
       "      <td>-1.196783</td>\n",
       "      <td>2021-11-03 12:00:00</td>\n",
       "    </tr>\n",
       "    <tr>\n",
       "      <th>2021-11-03 13:00:00</th>\n",
       "      <td>4522.48</td>\n",
       "      <td>4553.82</td>\n",
       "      <td>4476.41</td>\n",
       "      <td>4482.22</td>\n",
       "      <td>29384.2921</td>\n",
       "      <td>-0.890439</td>\n",
       "      <td>2021-11-03 13:00:00</td>\n",
       "    </tr>\n",
       "    <tr>\n",
       "      <th>2021-11-03 14:00:00</th>\n",
       "      <td>4482.76</td>\n",
       "      <td>4520.08</td>\n",
       "      <td>4455.00</td>\n",
       "      <td>4511.62</td>\n",
       "      <td>23925.1804</td>\n",
       "      <td>0.655925</td>\n",
       "      <td>2021-11-03 14:00:00</td>\n",
       "    </tr>\n",
       "    <tr>\n",
       "      <th>2021-11-03 15:00:00</th>\n",
       "      <td>4511.61</td>\n",
       "      <td>4547.45</td>\n",
       "      <td>4495.87</td>\n",
       "      <td>4545.68</td>\n",
       "      <td>15261.6559</td>\n",
       "      <td>0.754939</td>\n",
       "      <td>2021-11-03 15:00:00</td>\n",
       "    </tr>\n",
       "    <tr>\n",
       "      <th>...</th>\n",
       "      <td>...</td>\n",
       "      <td>...</td>\n",
       "      <td>...</td>\n",
       "      <td>...</td>\n",
       "      <td>...</td>\n",
       "      <td>...</td>\n",
       "      <td>...</td>\n",
       "    </tr>\n",
       "    <tr>\n",
       "      <th>2022-10-02 12:00:00</th>\n",
       "      <td>1297.87</td>\n",
       "      <td>1301.24</td>\n",
       "      <td>1292.28</td>\n",
       "      <td>1295.40</td>\n",
       "      <td>13770.3373</td>\n",
       "      <td>-0.190312</td>\n",
       "      <td>2022-10-02 12:00:00</td>\n",
       "    </tr>\n",
       "    <tr>\n",
       "      <th>2022-10-02 13:00:00</th>\n",
       "      <td>1295.40</td>\n",
       "      <td>1300.36</td>\n",
       "      <td>1292.26</td>\n",
       "      <td>1297.25</td>\n",
       "      <td>13290.2719</td>\n",
       "      <td>0.142813</td>\n",
       "      <td>2022-10-02 13:00:00</td>\n",
       "    </tr>\n",
       "    <tr>\n",
       "      <th>2022-10-02 14:00:00</th>\n",
       "      <td>1297.26</td>\n",
       "      <td>1298.83</td>\n",
       "      <td>1286.52</td>\n",
       "      <td>1290.00</td>\n",
       "      <td>16200.9130</td>\n",
       "      <td>-0.558875</td>\n",
       "      <td>2022-10-02 14:00:00</td>\n",
       "    </tr>\n",
       "    <tr>\n",
       "      <th>2022-10-02 15:00:00</th>\n",
       "      <td>1290.00</td>\n",
       "      <td>1294.27</td>\n",
       "      <td>1289.01</td>\n",
       "      <td>1293.32</td>\n",
       "      <td>8504.5615</td>\n",
       "      <td>0.257364</td>\n",
       "      <td>2022-10-02 15:00:00</td>\n",
       "    </tr>\n",
       "    <tr>\n",
       "      <th>2022-10-02 16:00:00</th>\n",
       "      <td>1293.33</td>\n",
       "      <td>1296.82</td>\n",
       "      <td>1292.85</td>\n",
       "      <td>1296.38</td>\n",
       "      <td>2529.6308</td>\n",
       "      <td>0.236600</td>\n",
       "      <td>2022-10-02 16:00:00</td>\n",
       "    </tr>\n",
       "  </tbody>\n",
       "</table>\n",
       "<p>7998 rows × 7 columns</p>\n",
       "</div>"
      ],
      "text/plain": [
       "                        Open     High      Low    Close      Volume    Return  \\\n",
       "Date                                                                            \n",
       "2021-11-03 11:00:00  4575.91  4582.50  4550.49  4577.27  13312.5037       NaN   \n",
       "2021-11-03 12:00:00  4577.22  4579.70  4496.13  4522.49  26385.3141 -1.196783   \n",
       "2021-11-03 13:00:00  4522.48  4553.82  4476.41  4482.22  29384.2921 -0.890439   \n",
       "2021-11-03 14:00:00  4482.76  4520.08  4455.00  4511.62  23925.1804  0.655925   \n",
       "2021-11-03 15:00:00  4511.61  4547.45  4495.87  4545.68  15261.6559  0.754939   \n",
       "...                      ...      ...      ...      ...         ...       ...   \n",
       "2022-10-02 12:00:00  1297.87  1301.24  1292.28  1295.40  13770.3373 -0.190312   \n",
       "2022-10-02 13:00:00  1295.40  1300.36  1292.26  1297.25  13290.2719  0.142813   \n",
       "2022-10-02 14:00:00  1297.26  1298.83  1286.52  1290.00  16200.9130 -0.558875   \n",
       "2022-10-02 15:00:00  1290.00  1294.27  1289.01  1293.32   8504.5615  0.257364   \n",
       "2022-10-02 16:00:00  1293.33  1296.82  1292.85  1296.38   2529.6308  0.236600   \n",
       "\n",
       "                                   Date  \n",
       "Date                                     \n",
       "2021-11-03 11:00:00 2021-11-03 11:00:00  \n",
       "2021-11-03 12:00:00 2021-11-03 12:00:00  \n",
       "2021-11-03 13:00:00 2021-11-03 13:00:00  \n",
       "2021-11-03 14:00:00 2021-11-03 14:00:00  \n",
       "2021-11-03 15:00:00 2021-11-03 15:00:00  \n",
       "...                                 ...  \n",
       "2022-10-02 12:00:00 2022-10-02 12:00:00  \n",
       "2022-10-02 13:00:00 2022-10-02 13:00:00  \n",
       "2022-10-02 14:00:00 2022-10-02 14:00:00  \n",
       "2022-10-02 15:00:00 2022-10-02 15:00:00  \n",
       "2022-10-02 16:00:00 2022-10-02 16:00:00  \n",
       "\n",
       "[7998 rows x 7 columns]"
      ]
     },
     "execution_count": 31,
     "metadata": {},
     "output_type": "execute_result"
    }
   ],
   "source": [
    "df"
   ]
  },
  {
   "cell_type": "code",
   "execution_count": null,
   "id": "c19a94db",
   "metadata": {},
   "outputs": [],
   "source": []
  },
  {
   "cell_type": "code",
   "execution_count": 32,
   "id": "ef00d832",
   "metadata": {},
   "outputs": [],
   "source": [
    "def D1(S,K,T,r,sigma):\n",
    "    d1 = (np.log(S/K) + (r + sigma**2/2)*T) / (sigma*np.sqrt(T))\n",
    "    return d1\n",
    "\n",
    "\n",
    "def delta_BS_CALL(S,K,T,r,sigma):\n",
    "    d1 = D1(S,K,T,r,sigma)\n",
    "    delta = N(d1)\n",
    "    return delta\n",
    "\n",
    "\n",
    "def BS_CALL(S, K, T, r, sigma):\n",
    "    d1 = (np.log(S/K) + (r + sigma**2/2)*T) / (sigma*np.sqrt(T))\n",
    "    d2 = d1 - sigma * np.sqrt(T)\n",
    "    return S * N(d1) - K * np.exp(-r*T)* N(d2)\n",
    "\n",
    "\n",
    "def expiration(now, T):\n",
    "    d0 = pd.Timestamp(df[\"Date\"].iloc[1], tz=None)\n",
    "    d1 = pd.Timestamp(now, tz=None)\n",
    "\n",
    "    d = d1 - d0\n",
    "    delta = d.days / (365 * T)\n",
    "    \n",
    "    return delta\n"
   ]
  },
  {
   "cell_type": "code",
   "execution_count": 33,
   "id": "4793020a",
   "metadata": {},
   "outputs": [
    {
     "data": {
      "text/plain": [
       "0.913013698630137"
      ]
     },
     "execution_count": 33,
     "metadata": {},
     "output_type": "execute_result"
    }
   ],
   "source": [
    "# expiration\n",
    "T = len(df) / 365 / 24\n",
    "T"
   ]
  },
  {
   "cell_type": "code",
   "execution_count": 34,
   "id": "aaadc1d6",
   "metadata": {},
   "outputs": [],
   "source": [
    "def min_amount(S,K,T,r,sigma,amount):\n",
    "    C = BS_CALL(S, K, T, r, sigma)\n",
    "\n",
    "    minimum = C * amount\n",
    "    \n",
    "    minimum = round(minimum,3)\n",
    "    \n",
    "    return minimum"
   ]
  },
  {
   "cell_type": "code",
   "execution_count": 35,
   "id": "35dfc35f",
   "metadata": {},
   "outputs": [],
   "source": [
    "S = df[\"Close\"].iloc[:1]\n",
    "K = 2500\n",
    "T = len(df) / 365 / 24\n",
    "r = 0.1\n",
    "sigma = 0.8\n",
    "\n",
    "amount = 1"
   ]
  },
  {
   "cell_type": "code",
   "execution_count": 36,
   "id": "e97c63ab",
   "metadata": {},
   "outputs": [
    {
     "data": {
      "text/plain": [
       "Date\n",
       "2021-11-03 11:00:00    2528.056\n",
       "Name: Close, dtype: float64"
      ]
     },
     "execution_count": 36,
     "metadata": {},
     "output_type": "execute_result"
    }
   ],
   "source": [
    "# minimum amount of cash to replicate option\n",
    "min_amount(S,K,T,r,sigma,amount)"
   ]
  },
  {
   "cell_type": "code",
   "execution_count": 37,
   "id": "1caebbf9",
   "metadata": {},
   "outputs": [],
   "source": [
    "df[\"Date\"] = df.index"
   ]
  },
  {
   "cell_type": "code",
   "execution_count": null,
   "id": "b435da46",
   "metadata": {},
   "outputs": [],
   "source": []
  },
  {
   "cell_type": "code",
   "execution_count": 38,
   "id": "20deeab2",
   "metadata": {},
   "outputs": [],
   "source": [
    "# Time to expiration in years\n",
    "df['T'] = df.apply(lambda x: expiration(x['Date'], T), axis=1)"
   ]
  },
  {
   "cell_type": "code",
   "execution_count": 39,
   "id": "48b5c2b6",
   "metadata": {},
   "outputs": [
    {
     "name": "stderr",
     "output_type": "stream",
     "text": [
      "/tmp/ipykernel_136195/3120857562.py:2: RuntimeWarning: invalid value encountered in sqrt\n",
      "  d1 = (np.log(S/K) + (r + sigma**2/2)*T) / (sigma*np.sqrt(T))\n",
      "/tmp/ipykernel_136195/3120857562.py:2: RuntimeWarning: divide by zero encountered in double_scalars\n",
      "  d1 = (np.log(S/K) + (r + sigma**2/2)*T) / (sigma*np.sqrt(T))\n"
     ]
    }
   ],
   "source": [
    "# Delta\n",
    "df['Delta'] = df.apply(lambda x: delta_BS_CALL(x['Close'], K, x['T'], r, sigma), axis=1)"
   ]
  },
  {
   "cell_type": "code",
   "execution_count": 40,
   "id": "6ee0a7ed",
   "metadata": {
    "scrolled": true
   },
   "outputs": [
    {
     "data": {
      "text/plain": [
       "<AxesSubplot:xlabel='Date'>"
      ]
     },
     "execution_count": 40,
     "metadata": {},
     "output_type": "execute_result"
    },
    {
     "data": {
      "image/png": "[encoded data removed]",
      "text/plain": [
       "<Figure size 432x288 with 1 Axes>"
      ]
     },
     "metadata": {
      "needs_background": "light"
     },
     "output_type": "display_data"
    }
   ],
   "source": [
    "df[\"Delta\"].plot()"
   ]
  },
  {
   "cell_type": "code",
   "execution_count": 41,
   "id": "00dfa0ab",
   "metadata": {},
   "outputs": [
    {
     "data": {
      "text/plain": [
       "<AxesSubplot:xlabel='Date'>"
      ]
     },
     "execution_count": 41,
     "metadata": {},
     "output_type": "execute_result"
    },
    {
     "data": {
      "image/png": "[encoded data removed]",
      "text/plain": [
       "<Figure size 432x288 with 1 Axes>"
      ]
     },
     "metadata": {
      "needs_background": "light"
     },
     "output_type": "display_data"
    }
   ],
   "source": [
    "df[\"Close\"].plot()"
   ]
  },
  {
   "cell_type": "code",
   "execution_count": 47,
   "id": "4e0cf449",
   "metadata": {
    "scrolled": false
   },
   "outputs": [
    {
     "data": {
      "text/html": [
       "<div>\n",
       "<style scoped>\n",
       "    .dataframe tbody tr th:only-of-type {\n",
       "        vertical-align: middle;\n",
       "    }\n",
       "\n",
       "    .dataframe tbody tr th {\n",
       "        vertical-align: top;\n",
       "    }\n",
       "\n",
       "    .dataframe thead th {\n",
       "        text-align: right;\n",
       "    }\n",
       "</style>\n",
       "<table border=\"1\" class=\"dataframe\">\n",
       "  <thead>\n",
       "    <tr style=\"text-align: right;\">\n",
       "      <th></th>\n",
       "      <th>Open</th>\n",
       "      <th>High</th>\n",
       "      <th>Low</th>\n",
       "      <th>Close</th>\n",
       "      <th>Volume</th>\n",
       "      <th>Return</th>\n",
       "      <th>Date</th>\n",
       "      <th>T</th>\n",
       "      <th>Delta</th>\n",
       "      <th>dDelta</th>\n",
       "      <th>dCash</th>\n",
       "      <th>Cash</th>\n",
       "    </tr>\n",
       "    <tr>\n",
       "      <th>Date</th>\n",
       "      <th></th>\n",
       "      <th></th>\n",
       "      <th></th>\n",
       "      <th></th>\n",
       "      <th></th>\n",
       "      <th></th>\n",
       "      <th></th>\n",
       "      <th></th>\n",
       "      <th></th>\n",
       "      <th></th>\n",
       "      <th></th>\n",
       "      <th></th>\n",
       "    </tr>\n",
       "  </thead>\n",
       "  <tbody>\n",
       "    <tr>\n",
       "      <th>2021-11-03 11:00:00</th>\n",
       "      <td>4575.91</td>\n",
       "      <td>4582.50</td>\n",
       "      <td>4550.49</td>\n",
       "      <td>4577.27</td>\n",
       "      <td>13312.5037</td>\n",
       "      <td>NaN</td>\n",
       "      <td>2021-11-03 11:00:00</td>\n",
       "      <td>-0.003001</td>\n",
       "      <td>NaN</td>\n",
       "      <td>NaN</td>\n",
       "      <td>NaN</td>\n",
       "      <td>NaN</td>\n",
       "    </tr>\n",
       "    <tr>\n",
       "      <th>2021-11-03 12:00:00</th>\n",
       "      <td>4577.22</td>\n",
       "      <td>4579.70</td>\n",
       "      <td>4496.13</td>\n",
       "      <td>4522.49</td>\n",
       "      <td>26385.3141</td>\n",
       "      <td>-1.196783</td>\n",
       "      <td>2021-11-03 12:00:00</td>\n",
       "      <td>0.000000</td>\n",
       "      <td>1.000000</td>\n",
       "      <td>NaN</td>\n",
       "      <td>NaN</td>\n",
       "      <td>NaN</td>\n",
       "    </tr>\n",
       "    <tr>\n",
       "      <th>2021-11-03 13:00:00</th>\n",
       "      <td>4522.48</td>\n",
       "      <td>4553.82</td>\n",
       "      <td>4476.41</td>\n",
       "      <td>4482.22</td>\n",
       "      <td>29384.2921</td>\n",
       "      <td>-0.890439</td>\n",
       "      <td>2021-11-03 13:00:00</td>\n",
       "      <td>0.000000</td>\n",
       "      <td>1.000000</td>\n",
       "      <td>0.000000</td>\n",
       "      <td>0.000000</td>\n",
       "      <td>NaN</td>\n",
       "    </tr>\n",
       "    <tr>\n",
       "      <th>2021-11-03 14:00:00</th>\n",
       "      <td>4482.76</td>\n",
       "      <td>4520.08</td>\n",
       "      <td>4455.00</td>\n",
       "      <td>4511.62</td>\n",
       "      <td>23925.1804</td>\n",
       "      <td>0.655925</td>\n",
       "      <td>2021-11-03 14:00:00</td>\n",
       "      <td>0.000000</td>\n",
       "      <td>1.000000</td>\n",
       "      <td>0.000000</td>\n",
       "      <td>0.000000</td>\n",
       "      <td>NaN</td>\n",
       "    </tr>\n",
       "    <tr>\n",
       "      <th>2021-11-03 15:00:00</th>\n",
       "      <td>4511.61</td>\n",
       "      <td>4547.45</td>\n",
       "      <td>4495.87</td>\n",
       "      <td>4545.68</td>\n",
       "      <td>15261.6559</td>\n",
       "      <td>0.754939</td>\n",
       "      <td>2021-11-03 15:00:00</td>\n",
       "      <td>0.000000</td>\n",
       "      <td>1.000000</td>\n",
       "      <td>0.000000</td>\n",
       "      <td>0.000000</td>\n",
       "      <td>NaN</td>\n",
       "    </tr>\n",
       "    <tr>\n",
       "      <th>...</th>\n",
       "      <td>...</td>\n",
       "      <td>...</td>\n",
       "      <td>...</td>\n",
       "      <td>...</td>\n",
       "      <td>...</td>\n",
       "      <td>...</td>\n",
       "      <td>...</td>\n",
       "      <td>...</td>\n",
       "      <td>...</td>\n",
       "      <td>...</td>\n",
       "      <td>...</td>\n",
       "      <td>...</td>\n",
       "    </tr>\n",
       "    <tr>\n",
       "      <th>2022-10-02 12:00:00</th>\n",
       "      <td>1297.87</td>\n",
       "      <td>1301.24</td>\n",
       "      <td>1292.28</td>\n",
       "      <td>1295.40</td>\n",
       "      <td>13770.3373</td>\n",
       "      <td>-0.190312</td>\n",
       "      <td>2022-10-02 12:00:00</td>\n",
       "      <td>0.999250</td>\n",
       "      <td>0.383102</td>\n",
       "      <td>-0.000137</td>\n",
       "      <td>-0.177917</td>\n",
       "      <td>NaN</td>\n",
       "    </tr>\n",
       "    <tr>\n",
       "      <th>2022-10-02 13:00:00</th>\n",
       "      <td>1295.40</td>\n",
       "      <td>1300.36</td>\n",
       "      <td>1292.26</td>\n",
       "      <td>1297.25</td>\n",
       "      <td>13290.2719</td>\n",
       "      <td>0.142813</td>\n",
       "      <td>2022-10-02 13:00:00</td>\n",
       "      <td>0.999250</td>\n",
       "      <td>0.383783</td>\n",
       "      <td>0.000681</td>\n",
       "      <td>0.883855</td>\n",
       "      <td>NaN</td>\n",
       "    </tr>\n",
       "    <tr>\n",
       "      <th>2022-10-02 14:00:00</th>\n",
       "      <td>1297.26</td>\n",
       "      <td>1298.83</td>\n",
       "      <td>1286.52</td>\n",
       "      <td>1290.00</td>\n",
       "      <td>16200.9130</td>\n",
       "      <td>-0.558875</td>\n",
       "      <td>2022-10-02 14:00:00</td>\n",
       "      <td>0.999250</td>\n",
       "      <td>0.381110</td>\n",
       "      <td>-0.002674</td>\n",
       "      <td>-3.448905</td>\n",
       "      <td>NaN</td>\n",
       "    </tr>\n",
       "    <tr>\n",
       "      <th>2022-10-02 15:00:00</th>\n",
       "      <td>1290.00</td>\n",
       "      <td>1294.27</td>\n",
       "      <td>1289.01</td>\n",
       "      <td>1293.32</td>\n",
       "      <td>8504.5615</td>\n",
       "      <td>0.257364</td>\n",
       "      <td>2022-10-02 15:00:00</td>\n",
       "      <td>0.999250</td>\n",
       "      <td>0.382335</td>\n",
       "      <td>0.001225</td>\n",
       "      <td>1.584931</td>\n",
       "      <td>NaN</td>\n",
       "    </tr>\n",
       "    <tr>\n",
       "      <th>2022-10-02 16:00:00</th>\n",
       "      <td>1293.33</td>\n",
       "      <td>1296.82</td>\n",
       "      <td>1292.85</td>\n",
       "      <td>1296.38</td>\n",
       "      <td>2529.6308</td>\n",
       "      <td>0.236600</td>\n",
       "      <td>2022-10-02 16:00:00</td>\n",
       "      <td>0.999250</td>\n",
       "      <td>0.383463</td>\n",
       "      <td>0.001128</td>\n",
       "      <td>1.462008</td>\n",
       "      <td>NaN</td>\n",
       "    </tr>\n",
       "  </tbody>\n",
       "</table>\n",
       "<p>7998 rows × 12 columns</p>\n",
       "</div>"
      ],
      "text/plain": [
       "                        Open     High      Low    Close      Volume    Return  \\\n",
       "Date                                                                            \n",
       "2021-11-03 11:00:00  4575.91  4582.50  4550.49  4577.27  13312.5037       NaN   \n",
       "2021-11-03 12:00:00  4577.22  4579.70  4496.13  4522.49  26385.3141 -1.196783   \n",
       "2021-11-03 13:00:00  4522.48  4553.82  4476.41  4482.22  29384.2921 -0.890439   \n",
       "2021-11-03 14:00:00  4482.76  4520.08  4455.00  4511.62  23925.1804  0.655925   \n",
       "2021-11-03 15:00:00  4511.61  4547.45  4495.87  4545.68  15261.6559  0.754939   \n",
       "...                      ...      ...      ...      ...         ...       ...   \n",
       "2022-10-02 12:00:00  1297.87  1301.24  1292.28  1295.40  13770.3373 -0.190312   \n",
       "2022-10-02 13:00:00  1295.40  1300.36  1292.26  1297.25  13290.2719  0.142813   \n",
       "2022-10-02 14:00:00  1297.26  1298.83  1286.52  1290.00  16200.9130 -0.558875   \n",
       "2022-10-02 15:00:00  1290.00  1294.27  1289.01  1293.32   8504.5615  0.257364   \n",
       "2022-10-02 16:00:00  1293.33  1296.82  1292.85  1296.38   2529.6308  0.236600   \n",
       "\n",
       "                                   Date         T     Delta    dDelta  \\\n",
       "Date                                                                    \n",
       "2021-11-03 11:00:00 2021-11-03 11:00:00 -0.003001       NaN       NaN   \n",
       "2021-11-03 12:00:00 2021-11-03 12:00:00  0.000000  1.000000       NaN   \n",
       "2021-11-03 13:00:00 2021-11-03 13:00:00  0.000000  1.000000  0.000000   \n",
       "2021-11-03 14:00:00 2021-11-03 14:00:00  0.000000  1.000000  0.000000   \n",
       "2021-11-03 15:00:00 2021-11-03 15:00:00  0.000000  1.000000  0.000000   \n",
       "...                                 ...       ...       ...       ...   \n",
       "2022-10-02 12:00:00 2022-10-02 12:00:00  0.999250  0.383102 -0.000137   \n",
       "2022-10-02 13:00:00 2022-10-02 13:00:00  0.999250  0.383783  0.000681   \n",
       "2022-10-02 14:00:00 2022-10-02 14:00:00  0.999250  0.381110 -0.002674   \n",
       "2022-10-02 15:00:00 2022-10-02 15:00:00  0.999250  0.382335  0.001225   \n",
       "2022-10-02 16:00:00 2022-10-02 16:00:00  0.999250  0.383463  0.001128   \n",
       "\n",
       "                        dCash  Cash  \n",
       "Date                                 \n",
       "2021-11-03 11:00:00       NaN   NaN  \n",
       "2021-11-03 12:00:00       NaN   NaN  \n",
       "2021-11-03 13:00:00  0.000000   NaN  \n",
       "2021-11-03 14:00:00  0.000000   NaN  \n",
       "2021-11-03 15:00:00  0.000000   NaN  \n",
       "...                       ...   ...  \n",
       "2022-10-02 12:00:00 -0.177917   NaN  \n",
       "2022-10-02 13:00:00  0.883855   NaN  \n",
       "2022-10-02 14:00:00 -3.448905   NaN  \n",
       "2022-10-02 15:00:00  1.584931   NaN  \n",
       "2022-10-02 16:00:00  1.462008   NaN  \n",
       "\n",
       "[7998 rows x 12 columns]"
      ]
     },
     "execution_count": 47,
     "metadata": {},
     "output_type": "execute_result"
    }
   ],
   "source": [
    "df"
   ]
  },
  {
   "cell_type": "code",
   "execution_count": 43,
   "id": "bc560edc",
   "metadata": {},
   "outputs": [],
   "source": [
    "# calculate the change in delta\n",
    "df[\"dDelta\"] = df[\"Delta\"].diff();"
   ]
  },
  {
   "cell_type": "code",
   "execution_count": 44,
   "id": "f5f10c43",
   "metadata": {},
   "outputs": [],
   "source": [
    "# calcuate the change in cash balance \n",
    "df[\"dCash\"] = df[\"dDelta\"] * df[\"Close\"]"
   ]
  },
  {
   "cell_type": "code",
   "execution_count": 48,
   "id": "afadf9a6",
   "metadata": {},
   "outputs": [],
   "source": [
    "S = df[\"Close\"].iloc[:1]\n",
    "\n",
    "cash = df[\"Close\"].iloc[:1] - (df[\"Delta\"] * S)\n",
    "\n",
    "# Calculate the amount of cash held\n",
    "df[\"Cash\"] = 100 + df[\"dCash\"]"
   ]
  },
  {
   "cell_type": "code",
   "execution_count": 49,
   "id": "10912e03",
   "metadata": {
    "scrolled": true
   },
   "outputs": [
    {
     "data": {
      "text/plain": [
       "<AxesSubplot:xlabel='Date'>"
      ]
     },
     "execution_count": 49,
     "metadata": {},
     "output_type": "execute_result"
    },
    {
     "data": {
      "image/png": "[encoded data removed]",
      "text/plain": [
       "<Figure size 432x288 with 1 Axes>"
      ]
     },
     "metadata": {
      "needs_background": "light"
     },
     "output_type": "display_data"
    }
   ],
   "source": [
    "df[\"Cash\"].plot()"
   ]
  },
  {
   "cell_type": "code",
   "execution_count": null,
   "id": "be42b279",
   "metadata": {},
   "outputs": [],
   "source": []
  },
  {
   "cell_type": "code",
   "execution_count": null,
   "id": "7a69146a",
   "metadata": {},
   "outputs": [],
   "source": [
    "# calculate portfolio value \n",
    "df[\"Value\"] = df[\"Cash\"] + df[\"Delta\"] * df[\"Close\"]"
   ]
  },
  {
   "cell_type": "code",
   "execution_count": null,
   "id": "f9a3377b",
   "metadata": {
    "scrolled": true
   },
   "outputs": [],
   "source": [
    "df[\"Value\"].plot()"
   ]
  },
  {
   "cell_type": "code",
   "execution_count": null,
   "id": "90d55c14",
   "metadata": {},
   "outputs": [],
   "source": [
    "df"
   ]
  },
  {
   "cell_type": "code",
   "execution_count": null,
   "id": "5552b78e",
   "metadata": {},
   "outputs": [],
   "source": []
  },
  {
   "cell_type": "code",
   "execution_count": null,
   "id": "583f860f",
   "metadata": {},
   "outputs": [],
   "source": [
    "plt.plot(df[\"Close\"], df[\"Value\"], 'ro', )\n"
   ]
  },
  {
   "cell_type": "code",
   "execution_count": null,
   "id": "c8f935bc",
   "metadata": {},
   "outputs": [],
   "source": [
    "plt.plot(df[\"Close\"], df[\"Value\"], 'ro', )"
   ]
  },
  {
   "cell_type": "code",
   "execution_count": null,
   "id": "db3d38d3",
   "metadata": {},
   "outputs": [],
   "source": []
  },
  {
   "cell_type": "code",
   "execution_count": null,
   "id": "18330911",
   "metadata": {},
   "outputs": [],
   "source": []
  },
  {
   "cell_type": "code",
   "execution_count": null,
   "id": "672dea2c",
   "metadata": {},
   "outputs": [],
   "source": [
    "def cash(S, dDelta):\n",
    "    \n",
    "    cash = df[\"cash\"].shift(1) - (S * dDelta)\n",
    "\n",
    "    # cash = df[\"cash\"].shift(1) + (S * dDelta * -1)\n",
    "    \n",
    "    return cash"
   ]
  },
  {
   "cell_type": "code",
   "execution_count": null,
   "id": "d90b6572",
   "metadata": {},
   "outputs": [],
   "source": []
  },
  {
   "cell_type": "code",
   "execution_count": null,
   "id": "38126396",
   "metadata": {},
   "outputs": [],
   "source": [
    "df['cash'] = df.apply(lambda x: cash(df[\"Close\"], df[\"dDelta\"]), axis=1)"
   ]
  },
  {
   "cell_type": "code",
   "execution_count": null,
   "id": "bd084a5d",
   "metadata": {},
   "outputs": [],
   "source": []
  },
  {
   "cell_type": "code",
   "execution_count": null,
   "id": "f96ed9db",
   "metadata": {},
   "outputs": [],
   "source": []
  },
  {
   "cell_type": "code",
   "execution_count": null,
   "id": "96d0ba3c",
   "metadata": {},
   "outputs": [],
   "source": [
    "# not finished...\n",
    "\n",
    "def cashBalance(S, delta0, delta1, cash):\n",
    "    cash1 = cash - ((delta1 - delta0) * S)    \n",
    "    return cash1\n",
    "\n",
    "def underlyingBalance(delta, liquidity):\n",
    "    return 0\n",
    "    \n"
   ]
  },
  {
   "cell_type": "code",
   "execution_count": null,
   "id": "8d09958b",
   "metadata": {},
   "outputs": [],
   "source": [
    "def portfolioValue():\n",
    "    return 0"
   ]
  },
  {
   "cell_type": "code",
   "execution_count": null,
   "id": "fcbdbdd1",
   "metadata": {},
   "outputs": [],
   "source": []
  }
 ],
 "metadata": {
  "kernelspec": {
   "display_name": "Python 3 (ipykernel)",
   "language": "python",
   "name": "python3"
  },
  "language_info": {
   "codemirror_mode": {
    "name": "ipython",
    "version": 3
   },
   "file_extension": ".py",
   "mimetype": "text/x-python",
   "name": "python",
   "nbconvert_exporter": "python",
   "pygments_lexer": "ipython3",
   "version": "3.9.12"
  }
 },
 "nbformat": 4,
 "nbformat_minor": 5
}
