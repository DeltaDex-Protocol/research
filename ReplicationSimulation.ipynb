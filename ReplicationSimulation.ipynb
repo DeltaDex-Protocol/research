{
 "cells": [
  {
   "cell_type": "code",
   "execution_count": 1,
   "id": "30b0ae02",
   "metadata": {},
   "outputs": [],
   "source": [
    "import pandas as pd\n",
    "import numpy as np\n",
    "from scipy.stats import norm\n",
    "from pandas_datareader import data as pdr\n",
    "import pandas as pd\n",
    "import yfinance as yf\n",
    "import yahoofinancials\n",
    "import seaborn as sns\n",
    "import datetime\n",
    "from datetime import date\n",
    "import matplotlib.pyplot as plt\n",
    "\n",
    "import math\n",
    "from datetime import date"
   ]
  },
  {
   "cell_type": "code",
   "execution_count": 2,
   "id": "d863d226",
   "metadata": {},
   "outputs": [],
   "source": [
    "N = norm.cdf"
   ]
  },
  {
   "cell_type": "code",
   "execution_count": null,
   "id": "c3e58079",
   "metadata": {},
   "outputs": [],
   "source": []
  },
  {
   "cell_type": "code",
   "execution_count": 3,
   "id": "53715eaf",
   "metadata": {},
   "outputs": [
    {
     "name": "stdout",
     "output_type": "stream",
     "text": [
      "2022-09-23\n"
     ]
    }
   ],
   "source": [
    "today = str(date.today())\n",
    "print(today)"
   ]
  },
  {
   "cell_type": "code",
   "execution_count": 4,
   "id": "b7adff69",
   "metadata": {},
   "outputs": [
    {
     "name": "stdout",
     "output_type": "stream",
     "text": [
      "[*********************100%***********************]  1 of 1 completed\n",
      "volatility over period: 0.7705407498785526\n"
     ]
    }
   ],
   "source": [
    "yf.pdr_override() \n",
    "df = pdr.get_data_yahoo(\"ETH-USD\", start=\"2022-01-01\", end=today)\n",
    "\n",
    "df['Date'] = df.index\n",
    "df['Return'] = 100 * (df['Close'].pct_change())\n",
    "\n",
    "daily_volatility = df['Return'].std()\n",
    "monthly_volatility = math.sqrt(30) * daily_volatility\n",
    "\n",
    "period_volatility = (math.sqrt(len(df.index)) * daily_volatility) / 100\n",
    "\n",
    "print(\"volatility over period:\", period_volatility)"
   ]
  },
  {
   "cell_type": "code",
   "execution_count": 5,
   "id": "e3e36376",
   "metadata": {},
   "outputs": [
    {
     "data": {
      "text/html": [
       "<div>\n",
       "<style scoped>\n",
       "    .dataframe tbody tr th:only-of-type {\n",
       "        vertical-align: middle;\n",
       "    }\n",
       "\n",
       "    .dataframe tbody tr th {\n",
       "        vertical-align: top;\n",
       "    }\n",
       "\n",
       "    .dataframe thead th {\n",
       "        text-align: right;\n",
       "    }\n",
       "</style>\n",
       "<table border=\"1\" class=\"dataframe\">\n",
       "  <thead>\n",
       "    <tr style=\"text-align: right;\">\n",
       "      <th></th>\n",
       "      <th>Open</th>\n",
       "      <th>High</th>\n",
       "      <th>Low</th>\n",
       "      <th>Close</th>\n",
       "      <th>Adj Close</th>\n",
       "      <th>Volume</th>\n",
       "      <th>Date</th>\n",
       "      <th>Return</th>\n",
       "    </tr>\n",
       "    <tr>\n",
       "      <th>Date</th>\n",
       "      <th></th>\n",
       "      <th></th>\n",
       "      <th></th>\n",
       "      <th></th>\n",
       "      <th></th>\n",
       "      <th></th>\n",
       "      <th></th>\n",
       "      <th></th>\n",
       "    </tr>\n",
       "  </thead>\n",
       "  <tbody>\n",
       "    <tr>\n",
       "      <th>2021-12-31</th>\n",
       "      <td>3713.430176</td>\n",
       "      <td>3807.288818</td>\n",
       "      <td>3636.869873</td>\n",
       "      <td>3682.632812</td>\n",
       "      <td>3682.632812</td>\n",
       "      <td>14157285268</td>\n",
       "      <td>2021-12-31</td>\n",
       "      <td>NaN</td>\n",
       "    </tr>\n",
       "    <tr>\n",
       "      <th>2022-01-01</th>\n",
       "      <td>3683.047119</td>\n",
       "      <td>3769.917969</td>\n",
       "      <td>3682.286621</td>\n",
       "      <td>3769.697021</td>\n",
       "      <td>3769.697021</td>\n",
       "      <td>9776191466</td>\n",
       "      <td>2022-01-01</td>\n",
       "      <td>2.364184</td>\n",
       "    </tr>\n",
       "    <tr>\n",
       "      <th>2022-01-02</th>\n",
       "      <td>3769.298340</td>\n",
       "      <td>3836.161865</td>\n",
       "      <td>3727.357422</td>\n",
       "      <td>3829.564941</td>\n",
       "      <td>3829.564941</td>\n",
       "      <td>9881471548</td>\n",
       "      <td>2022-01-02</td>\n",
       "      <td>1.588136</td>\n",
       "    </tr>\n",
       "    <tr>\n",
       "      <th>2022-01-03</th>\n",
       "      <td>3829.535645</td>\n",
       "      <td>3836.198730</td>\n",
       "      <td>3698.047607</td>\n",
       "      <td>3761.380371</td>\n",
       "      <td>3761.380371</td>\n",
       "      <td>12080777893</td>\n",
       "      <td>2022-01-03</td>\n",
       "      <td>-1.780478</td>\n",
       "    </tr>\n",
       "    <tr>\n",
       "      <th>2022-01-04</th>\n",
       "      <td>3761.361572</td>\n",
       "      <td>3876.785156</td>\n",
       "      <td>3723.349854</td>\n",
       "      <td>3794.056641</td>\n",
       "      <td>3794.056641</td>\n",
       "      <td>14030925983</td>\n",
       "      <td>2022-01-04</td>\n",
       "      <td>0.868731</td>\n",
       "    </tr>\n",
       "    <tr>\n",
       "      <th>...</th>\n",
       "      <td>...</td>\n",
       "      <td>...</td>\n",
       "      <td>...</td>\n",
       "      <td>...</td>\n",
       "      <td>...</td>\n",
       "      <td>...</td>\n",
       "      <td>...</td>\n",
       "      <td>...</td>\n",
       "    </tr>\n",
       "    <tr>\n",
       "      <th>2022-09-18</th>\n",
       "      <td>1469.705444</td>\n",
       "      <td>1469.705444</td>\n",
       "      <td>1331.494751</td>\n",
       "      <td>1335.329102</td>\n",
       "      <td>1335.329102</td>\n",
       "      <td>15762284723</td>\n",
       "      <td>2022-09-18</td>\n",
       "      <td>-9.145321</td>\n",
       "    </tr>\n",
       "    <tr>\n",
       "      <th>2022-09-19</th>\n",
       "      <td>1335.270752</td>\n",
       "      <td>1388.272217</td>\n",
       "      <td>1287.420898</td>\n",
       "      <td>1377.541382</td>\n",
       "      <td>1377.541382</td>\n",
       "      <td>18712714223</td>\n",
       "      <td>2022-09-19</td>\n",
       "      <td>3.161189</td>\n",
       "    </tr>\n",
       "    <tr>\n",
       "      <th>2022-09-20</th>\n",
       "      <td>1377.619019</td>\n",
       "      <td>1381.965698</td>\n",
       "      <td>1319.201416</td>\n",
       "      <td>1324.388184</td>\n",
       "      <td>1324.388184</td>\n",
       "      <td>14722317220</td>\n",
       "      <td>2022-09-20</td>\n",
       "      <td>-3.858555</td>\n",
       "    </tr>\n",
       "    <tr>\n",
       "      <th>2022-09-21</th>\n",
       "      <td>1324.215576</td>\n",
       "      <td>1384.476929</td>\n",
       "      <td>1229.426758</td>\n",
       "      <td>1252.607788</td>\n",
       "      <td>1252.607788</td>\n",
       "      <td>20643507800</td>\n",
       "      <td>2022-09-21</td>\n",
       "      <td>-5.419891</td>\n",
       "    </tr>\n",
       "    <tr>\n",
       "      <th>2022-09-22</th>\n",
       "      <td>1251.567383</td>\n",
       "      <td>1336.157837</td>\n",
       "      <td>1240.968262</td>\n",
       "      <td>1327.680176</td>\n",
       "      <td>1327.680176</td>\n",
       "      <td>18461527259</td>\n",
       "      <td>2022-09-22</td>\n",
       "      <td>5.993288</td>\n",
       "    </tr>\n",
       "  </tbody>\n",
       "</table>\n",
       "<p>266 rows × 8 columns</p>\n",
       "</div>"
      ],
      "text/plain": [
       "                   Open         High          Low        Close    Adj Close  \\\n",
       "Date                                                                          \n",
       "2021-12-31  3713.430176  3807.288818  3636.869873  3682.632812  3682.632812   \n",
       "2022-01-01  3683.047119  3769.917969  3682.286621  3769.697021  3769.697021   \n",
       "2022-01-02  3769.298340  3836.161865  3727.357422  3829.564941  3829.564941   \n",
       "2022-01-03  3829.535645  3836.198730  3698.047607  3761.380371  3761.380371   \n",
       "2022-01-04  3761.361572  3876.785156  3723.349854  3794.056641  3794.056641   \n",
       "...                 ...          ...          ...          ...          ...   \n",
       "2022-09-18  1469.705444  1469.705444  1331.494751  1335.329102  1335.329102   \n",
       "2022-09-19  1335.270752  1388.272217  1287.420898  1377.541382  1377.541382   \n",
       "2022-09-20  1377.619019  1381.965698  1319.201416  1324.388184  1324.388184   \n",
       "2022-09-21  1324.215576  1384.476929  1229.426758  1252.607788  1252.607788   \n",
       "2022-09-22  1251.567383  1336.157837  1240.968262  1327.680176  1327.680176   \n",
       "\n",
       "                 Volume       Date    Return  \n",
       "Date                                          \n",
       "2021-12-31  14157285268 2021-12-31       NaN  \n",
       "2022-01-01   9776191466 2022-01-01  2.364184  \n",
       "2022-01-02   9881471548 2022-01-02  1.588136  \n",
       "2022-01-03  12080777893 2022-01-03 -1.780478  \n",
       "2022-01-04  14030925983 2022-01-04  0.868731  \n",
       "...                 ...        ...       ...  \n",
       "2022-09-18  15762284723 2022-09-18 -9.145321  \n",
       "2022-09-19  18712714223 2022-09-19  3.161189  \n",
       "2022-09-20  14722317220 2022-09-20 -3.858555  \n",
       "2022-09-21  20643507800 2022-09-21 -5.419891  \n",
       "2022-09-22  18461527259 2022-09-22  5.993288  \n",
       "\n",
       "[266 rows x 8 columns]"
      ]
     },
     "execution_count": 5,
     "metadata": {},
     "output_type": "execute_result"
    }
   ],
   "source": [
    "df"
   ]
  },
  {
   "cell_type": "code",
   "execution_count": 6,
   "id": "ef00d832",
   "metadata": {},
   "outputs": [
    {
     "data": {
      "text/plain": [
       "0.7232876712328767"
      ]
     },
     "execution_count": 6,
     "metadata": {},
     "output_type": "execute_result"
    }
   ],
   "source": [
    "def D1(S,K,T,r,sigma):\n",
    "    d1 = (np.log(S/K) + (r + sigma**2/2)*T) / (sigma*np.sqrt(T))\n",
    "    return d1\n",
    "\n",
    "def delta_BS_CALL(S,K,T,r,sigma):\n",
    "    d1 = D1(S,K,T,r,sigma)\n",
    "    delta = N(d1)\n",
    "    return delta\n",
    "\n",
    "def expiration(now):\n",
    "    d0 = pd.Timestamp(df[\"Date\"].iloc[1], tz=None)\n",
    "    d1 = pd.Timestamp(now, tz=None)\n",
    "\n",
    "    d = d1 - d0\n",
    "    delta = d.days / 365\n",
    "    \n",
    "    return delta\n",
    "    \n",
    "expiration(df[\"Date\"].iloc[265])"
   ]
  },
  {
   "cell_type": "code",
   "execution_count": null,
   "id": "4793020a",
   "metadata": {},
   "outputs": [],
   "source": []
  },
  {
   "cell_type": "code",
   "execution_count": 7,
   "id": "1caebbf9",
   "metadata": {},
   "outputs": [],
   "source": [
    "K = 1000 # strike\n",
    "r = 0.1 # risk free rate\n",
    "sigma = period_volatility"
   ]
  },
  {
   "cell_type": "code",
   "execution_count": null,
   "id": "b435da46",
   "metadata": {},
   "outputs": [],
   "source": []
  },
  {
   "cell_type": "code",
   "execution_count": 8,
   "id": "20deeab2",
   "metadata": {},
   "outputs": [],
   "source": [
    "# Time to expiration in years\n",
    "df['T'] = df.apply(lambda x: expiration(x['Date']), axis=1)"
   ]
  },
  {
   "cell_type": "code",
   "execution_count": 9,
   "id": "48b5c2b6",
   "metadata": {},
   "outputs": [
    {
     "name": "stderr",
     "output_type": "stream",
     "text": [
      "/tmp/ipykernel_222081/1715699428.py:2: RuntimeWarning: invalid value encountered in sqrt\n",
      "  d1 = (np.log(S/K) + (r + sigma**2/2)*T) / (sigma*np.sqrt(T))\n",
      "/tmp/ipykernel_222081/1715699428.py:2: RuntimeWarning: divide by zero encountered in double_scalars\n",
      "  d1 = (np.log(S/K) + (r + sigma**2/2)*T) / (sigma*np.sqrt(T))\n"
     ]
    }
   ],
   "source": [
    "# Delta\n",
    "df['Delta'] = df.apply(lambda x: delta_BS_CALL(x['Close'], K, x['T'], r, 0.8), axis=1)"
   ]
  },
  {
   "cell_type": "code",
   "execution_count": 10,
   "id": "6ee0a7ed",
   "metadata": {
    "scrolled": true
   },
   "outputs": [
    {
     "data": {
      "text/plain": [
       "<AxesSubplot:xlabel='Date'>"
      ]
     },
     "execution_count": 10,
     "metadata": {},
     "output_type": "execute_result"
    },
    {
     "data": {
      "image/png": "[encoded data removed]",
      "text/plain": [
       "<Figure size 432x288 with 1 Axes>"
      ]
     },
     "metadata": {
      "needs_background": "light"
     },
     "output_type": "display_data"
    }
   ],
   "source": [
    "df[\"Delta\"].plot()"
   ]
  },
  {
   "cell_type": "code",
   "execution_count": 11,
   "id": "00dfa0ab",
   "metadata": {},
   "outputs": [
    {
     "data": {
      "text/plain": [
       "<AxesSubplot:xlabel='Date'>"
      ]
     },
     "execution_count": 11,
     "metadata": {},
     "output_type": "execute_result"
    },
    {
     "data": {
      "image/png": "[encoded data removed]",
      "text/plain": [
       "<Figure size 432x288 with 1 Axes>"
      ]
     },
     "metadata": {
      "needs_background": "light"
     },
     "output_type": "display_data"
    }
   ],
   "source": [
    "df[\"Close\"].plot()"
   ]
  },
  {
   "cell_type": "code",
   "execution_count": 12,
   "id": "4e0cf449",
   "metadata": {},
   "outputs": [
    {
     "data": {
      "text/html": [
       "<div>\n",
       "<style scoped>\n",
       "    .dataframe tbody tr th:only-of-type {\n",
       "        vertical-align: middle;\n",
       "    }\n",
       "\n",
       "    .dataframe tbody tr th {\n",
       "        vertical-align: top;\n",
       "    }\n",
       "\n",
       "    .dataframe thead th {\n",
       "        text-align: right;\n",
       "    }\n",
       "</style>\n",
       "<table border=\"1\" class=\"dataframe\">\n",
       "  <thead>\n",
       "    <tr style=\"text-align: right;\">\n",
       "      <th></th>\n",
       "      <th>Open</th>\n",
       "      <th>High</th>\n",
       "      <th>Low</th>\n",
       "      <th>Close</th>\n",
       "      <th>Adj Close</th>\n",
       "      <th>Volume</th>\n",
       "      <th>Date</th>\n",
       "      <th>Return</th>\n",
       "      <th>T</th>\n",
       "      <th>Delta</th>\n",
       "    </tr>\n",
       "    <tr>\n",
       "      <th>Date</th>\n",
       "      <th></th>\n",
       "      <th></th>\n",
       "      <th></th>\n",
       "      <th></th>\n",
       "      <th></th>\n",
       "      <th></th>\n",
       "      <th></th>\n",
       "      <th></th>\n",
       "      <th></th>\n",
       "      <th></th>\n",
       "    </tr>\n",
       "  </thead>\n",
       "  <tbody>\n",
       "    <tr>\n",
       "      <th>2021-12-31</th>\n",
       "      <td>3713.430176</td>\n",
       "      <td>3807.288818</td>\n",
       "      <td>3636.869873</td>\n",
       "      <td>3682.632812</td>\n",
       "      <td>3682.632812</td>\n",
       "      <td>14157285268</td>\n",
       "      <td>2021-12-31</td>\n",
       "      <td>NaN</td>\n",
       "      <td>-0.002740</td>\n",
       "      <td>NaN</td>\n",
       "    </tr>\n",
       "    <tr>\n",
       "      <th>2022-01-01</th>\n",
       "      <td>3683.047119</td>\n",
       "      <td>3769.917969</td>\n",
       "      <td>3682.286621</td>\n",
       "      <td>3769.697021</td>\n",
       "      <td>3769.697021</td>\n",
       "      <td>9776191466</td>\n",
       "      <td>2022-01-01</td>\n",
       "      <td>2.364184</td>\n",
       "      <td>0.000000</td>\n",
       "      <td>1.000000</td>\n",
       "    </tr>\n",
       "    <tr>\n",
       "      <th>2022-01-02</th>\n",
       "      <td>3769.298340</td>\n",
       "      <td>3836.161865</td>\n",
       "      <td>3727.357422</td>\n",
       "      <td>3829.564941</td>\n",
       "      <td>3829.564941</td>\n",
       "      <td>9881471548</td>\n",
       "      <td>2022-01-02</td>\n",
       "      <td>1.588136</td>\n",
       "      <td>0.002740</td>\n",
       "      <td>1.000000</td>\n",
       "    </tr>\n",
       "    <tr>\n",
       "      <th>2022-01-03</th>\n",
       "      <td>3829.535645</td>\n",
       "      <td>3836.198730</td>\n",
       "      <td>3698.047607</td>\n",
       "      <td>3761.380371</td>\n",
       "      <td>3761.380371</td>\n",
       "      <td>12080777893</td>\n",
       "      <td>2022-01-03</td>\n",
       "      <td>-1.780478</td>\n",
       "      <td>0.005479</td>\n",
       "      <td>1.000000</td>\n",
       "    </tr>\n",
       "    <tr>\n",
       "      <th>2022-01-04</th>\n",
       "      <td>3761.361572</td>\n",
       "      <td>3876.785156</td>\n",
       "      <td>3723.349854</td>\n",
       "      <td>3794.056641</td>\n",
       "      <td>3794.056641</td>\n",
       "      <td>14030925983</td>\n",
       "      <td>2022-01-04</td>\n",
       "      <td>0.868731</td>\n",
       "      <td>0.008219</td>\n",
       "      <td>1.000000</td>\n",
       "    </tr>\n",
       "    <tr>\n",
       "      <th>...</th>\n",
       "      <td>...</td>\n",
       "      <td>...</td>\n",
       "      <td>...</td>\n",
       "      <td>...</td>\n",
       "      <td>...</td>\n",
       "      <td>...</td>\n",
       "      <td>...</td>\n",
       "      <td>...</td>\n",
       "      <td>...</td>\n",
       "      <td>...</td>\n",
       "    </tr>\n",
       "    <tr>\n",
       "      <th>2022-09-18</th>\n",
       "      <td>1469.705444</td>\n",
       "      <td>1469.705444</td>\n",
       "      <td>1331.494751</td>\n",
       "      <td>1335.329102</td>\n",
       "      <td>1335.329102</td>\n",
       "      <td>15762284723</td>\n",
       "      <td>2022-09-18</td>\n",
       "      <td>-9.145321</td>\n",
       "      <td>0.712329</td>\n",
       "      <td>0.808228</td>\n",
       "    </tr>\n",
       "    <tr>\n",
       "      <th>2022-09-19</th>\n",
       "      <td>1335.270752</td>\n",
       "      <td>1388.272217</td>\n",
       "      <td>1287.420898</td>\n",
       "      <td>1377.541382</td>\n",
       "      <td>1377.541382</td>\n",
       "      <td>18712714223</td>\n",
       "      <td>2022-09-19</td>\n",
       "      <td>3.161189</td>\n",
       "      <td>0.715068</td>\n",
       "      <td>0.820539</td>\n",
       "    </tr>\n",
       "    <tr>\n",
       "      <th>2022-09-20</th>\n",
       "      <td>1377.619019</td>\n",
       "      <td>1381.965698</td>\n",
       "      <td>1319.201416</td>\n",
       "      <td>1324.388184</td>\n",
       "      <td>1324.388184</td>\n",
       "      <td>14722317220</td>\n",
       "      <td>2022-09-20</td>\n",
       "      <td>-3.858555</td>\n",
       "      <td>0.717808</td>\n",
       "      <td>0.804915</td>\n",
       "    </tr>\n",
       "    <tr>\n",
       "      <th>2022-09-21</th>\n",
       "      <td>1324.215576</td>\n",
       "      <td>1384.476929</td>\n",
       "      <td>1229.426758</td>\n",
       "      <td>1252.607788</td>\n",
       "      <td>1252.607788</td>\n",
       "      <td>20643507800</td>\n",
       "      <td>2022-09-21</td>\n",
       "      <td>-5.419891</td>\n",
       "      <td>0.720548</td>\n",
       "      <td>0.781513</td>\n",
       "    </tr>\n",
       "    <tr>\n",
       "      <th>2022-09-22</th>\n",
       "      <td>1251.567383</td>\n",
       "      <td>1336.157837</td>\n",
       "      <td>1240.968262</td>\n",
       "      <td>1327.680176</td>\n",
       "      <td>1327.680176</td>\n",
       "      <td>18461527259</td>\n",
       "      <td>2022-09-22</td>\n",
       "      <td>5.993288</td>\n",
       "      <td>0.723288</td>\n",
       "      <td>0.805953</td>\n",
       "    </tr>\n",
       "  </tbody>\n",
       "</table>\n",
       "<p>266 rows × 10 columns</p>\n",
       "</div>"
      ],
      "text/plain": [
       "                   Open         High          Low        Close    Adj Close  \\\n",
       "Date                                                                          \n",
       "2021-12-31  3713.430176  3807.288818  3636.869873  3682.632812  3682.632812   \n",
       "2022-01-01  3683.047119  3769.917969  3682.286621  3769.697021  3769.697021   \n",
       "2022-01-02  3769.298340  3836.161865  3727.357422  3829.564941  3829.564941   \n",
       "2022-01-03  3829.535645  3836.198730  3698.047607  3761.380371  3761.380371   \n",
       "2022-01-04  3761.361572  3876.785156  3723.349854  3794.056641  3794.056641   \n",
       "...                 ...          ...          ...          ...          ...   \n",
       "2022-09-18  1469.705444  1469.705444  1331.494751  1335.329102  1335.329102   \n",
       "2022-09-19  1335.270752  1388.272217  1287.420898  1377.541382  1377.541382   \n",
       "2022-09-20  1377.619019  1381.965698  1319.201416  1324.388184  1324.388184   \n",
       "2022-09-21  1324.215576  1384.476929  1229.426758  1252.607788  1252.607788   \n",
       "2022-09-22  1251.567383  1336.157837  1240.968262  1327.680176  1327.680176   \n",
       "\n",
       "                 Volume       Date    Return         T     Delta  \n",
       "Date                                                              \n",
       "2021-12-31  14157285268 2021-12-31       NaN -0.002740       NaN  \n",
       "2022-01-01   9776191466 2022-01-01  2.364184  0.000000  1.000000  \n",
       "2022-01-02   9881471548 2022-01-02  1.588136  0.002740  1.000000  \n",
       "2022-01-03  12080777893 2022-01-03 -1.780478  0.005479  1.000000  \n",
       "2022-01-04  14030925983 2022-01-04  0.868731  0.008219  1.000000  \n",
       "...                 ...        ...       ...       ...       ...  \n",
       "2022-09-18  15762284723 2022-09-18 -9.145321  0.712329  0.808228  \n",
       "2022-09-19  18712714223 2022-09-19  3.161189  0.715068  0.820539  \n",
       "2022-09-20  14722317220 2022-09-20 -3.858555  0.717808  0.804915  \n",
       "2022-09-21  20643507800 2022-09-21 -5.419891  0.720548  0.781513  \n",
       "2022-09-22  18461527259 2022-09-22  5.993288  0.723288  0.805953  \n",
       "\n",
       "[266 rows x 10 columns]"
      ]
     },
     "execution_count": 12,
     "metadata": {},
     "output_type": "execute_result"
    }
   ],
   "source": [
    "df"
   ]
  },
  {
   "cell_type": "code",
   "execution_count": null,
   "id": "bcb3a1a3",
   "metadata": {},
   "outputs": [],
   "source": []
  },
  {
   "cell_type": "code",
   "execution_count": 13,
   "id": "96d0ba3c",
   "metadata": {},
   "outputs": [],
   "source": [
    "# not finished...\n",
    "\n",
    "def cashBalance(S, delta0, delta1, cash):\n",
    "    cash1 = cash - ((delta1 - delta0) * S)    \n",
    "    return cash1\n",
    "\n",
    "def underlyingBalance(delta, liquidity):\n",
    "    return 0\n",
    "    \n"
   ]
  },
  {
   "cell_type": "code",
   "execution_count": 14,
   "id": "8d09958b",
   "metadata": {},
   "outputs": [],
   "source": [
    "def portfolioValue():\n",
    "    return 0"
   ]
  },
  {
   "cell_type": "code",
   "execution_count": null,
   "id": "fcbdbdd1",
   "metadata": {},
   "outputs": [],
   "source": []
  }
 ],
 "metadata": {
  "kernelspec": {
   "display_name": "Python 3 (ipykernel)",
   "language": "python",
   "name": "python3"
  },
  "language_info": {
   "codemirror_mode": {
    "name": "ipython",
    "version": 3
   },
   "file_extension": ".py",
   "mimetype": "text/x-python",
   "name": "python",
   "nbconvert_exporter": "python",
   "pygments_lexer": "ipython3",
   "version": "3.10.4"
  }
 },
 "nbformat": 4,
 "nbformat_minor": 5
}
